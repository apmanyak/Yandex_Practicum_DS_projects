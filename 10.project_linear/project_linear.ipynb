{
 "cells": [
  {
   "cell_type": "markdown",
   "metadata": {
    "toc": true
   },
   "source": [
    "<h1>Содержание<span class=\"tocSkip\"></span></h1>\n",
    "<div class=\"toc\"><ul class=\"toc-item\"><li><span><a href=\"#Импортируем-библиотеки\" data-toc-modified-id=\"Импортируем-библиотеки-1\"><span class=\"toc-item-num\">1&nbsp;&nbsp;</span>Импортируем библиотеки</a></span></li><li><span><a href=\"#Загрузка-данных\" data-toc-modified-id=\"Загрузка-данных-2\"><span class=\"toc-item-num\">2&nbsp;&nbsp;</span>Загрузка данных</a></span></li><li><span><a href=\"#Умножение-матриц\" data-toc-modified-id=\"Умножение-матриц-3\"><span class=\"toc-item-num\">3&nbsp;&nbsp;</span>Умножение матриц</a></span></li><li><span><a href=\"#Алгоритм-преобразования\" data-toc-modified-id=\"Алгоритм-преобразования-4\"><span class=\"toc-item-num\">4&nbsp;&nbsp;</span>Алгоритм преобразования</a></span></li><li><span><a href=\"#Проверка-алгоритма\" data-toc-modified-id=\"Проверка-алгоритма-5\"><span class=\"toc-item-num\">5&nbsp;&nbsp;</span>Проверка алгоритма</a></span></li></ul></div>"
   ]
  },
  {
   "cell_type": "markdown",
   "metadata": {},
   "source": [
    "# Защита персональных данных клиентов"
   ]
  },
  {
   "cell_type": "markdown",
   "metadata": {},
   "source": [
    "Нужно защитить данные клиентов страховой компании. Необходимо разработать такой метод преобразования данных, чтобы по ним было сложно восстановить персональную информацию. Требуется обосновать корректность его работы.\n",
    "\n",
    "Нужно защитить данные, чтобы при преобразовании качество моделей машинного обучения не ухудшилось. Подбирать наилучшую модель не требуется."
   ]
  },
  {
   "cell_type": "markdown",
   "metadata": {},
   "source": [
    "## Импортируем библиотеки"
   ]
  },
  {
   "cell_type": "code",
   "execution_count": 1,
   "metadata": {},
   "outputs": [
    {
     "name": "stdout",
     "output_type": "stream",
     "text": [
      "Requirement already satisfied: scikit-learn==1.1.3 in /Users/manyak_pro/opt/anaconda3/lib/python3.9/site-packages (1.1.3)\n",
      "Requirement already satisfied: scipy>=1.3.2 in /Users/manyak_pro/opt/anaconda3/lib/python3.9/site-packages (from scikit-learn==1.1.3) (1.8.0)\n",
      "Requirement already satisfied: threadpoolctl>=2.0.0 in /Users/manyak_pro/opt/anaconda3/lib/python3.9/site-packages (from scikit-learn==1.1.3) (2.2.0)\n",
      "Requirement already satisfied: numpy>=1.17.3 in /Users/manyak_pro/opt/anaconda3/lib/python3.9/site-packages (from scikit-learn==1.1.3) (1.21.5)\n",
      "Requirement already satisfied: joblib>=1.0.0 in /Users/manyak_pro/opt/anaconda3/lib/python3.9/site-packages (from scikit-learn==1.1.3) (1.1.0)\n"
     ]
    }
   ],
   "source": [
    "# установим последнюю версию scikit-learn\n",
    "!pip install scikit-learn==1.1.3"
   ]
  },
  {
   "cell_type": "code",
   "execution_count": 2,
   "metadata": {},
   "outputs": [],
   "source": [
    "import pandas as pd\n",
    "import numpy as np\n",
    "import matplotlib.pyplot as plt\n",
    "\n",
    "from numpy.linalg import inv\n",
    "\n",
    "\n",
    "pd.set_option('display.max_columns', None)\n",
    "pd.set_option('display.max_rows', None)\n",
    "\n",
    "\n",
    "from sklearn.linear_model import LinearRegression \n",
    "\n",
    "\n",
    "from sklearn.preprocessing import StandardScaler\n",
    "\n",
    "from sklearn.metrics import r2_score"
   ]
  },
  {
   "cell_type": "code",
   "execution_count": 3,
   "metadata": {},
   "outputs": [],
   "source": [
    "# игнорирование предупреждений\n",
    "import warnings\n",
    "warnings.simplefilter(\"ignore\")\n",
    "warnings.filterwarnings(\"ignore\")"
   ]
  },
  {
   "cell_type": "markdown",
   "metadata": {},
   "source": [
    "## Загрузка данных"
   ]
  },
  {
   "cell_type": "markdown",
   "metadata": {},
   "source": [
    "**Считаем данные из csv-файлов в датафрейм и сохраним в переменные data.**\n",
    "\n",
    "Данные находятся в файле:\n",
    "\n",
    "- insurance.csv \n",
    "\n",
    "Путь к файлу:\n",
    "\n",
    "- /datasets/insurance.csv \n"
   ]
  },
  {
   "cell_type": "code",
   "execution_count": 4,
   "metadata": {},
   "outputs": [],
   "source": [
    "data = pd.read_csv('/datasets/insurance.csv')"
   ]
  },
  {
   "cell_type": "markdown",
   "metadata": {},
   "source": [
    "**Функция по выводу основной информации по датафреймам**"
   ]
  },
  {
   "cell_type": "code",
   "execution_count": 5,
   "metadata": {},
   "outputs": [],
   "source": [
    "def all_info(data):\n",
    "\n",
    "    \n",
    "    print('\\033[1m'+'1.Вывод первых 5 строк датафрейма'+'\\033[0m')\n",
    "    print('')\n",
    "    display(data.head())\n",
    "    print('')\n",
    "    \n",
    "    print('\\033[1m'+'2.Выведим основную информацию о датафрейме.'+'\\033[0m')\n",
    "    print('')\n",
    "    display(data.info())\n",
    "    print('')\n",
    "    \n",
    "    a = []\n",
    "    b = []\n",
    "    c = []\n",
    "    count = 0\n",
    "    for value in data.columns:\n",
    "        a.append(data[value].isna().sum())\n",
    "        b.append((data[value].isna().sum()/len(data))*100)\n",
    "        c.append(value)\n",
    "        count += 1\n",
    "\n",
    "\n",
    "    f = pd.DataFrame( {'name_columns': pd.Series(c),\n",
    "                       'count': pd.Series(a),\n",
    "                      'count,%': pd.Series(b)}\n",
    "                    )\n",
    "    print('')\n",
    "    print('\\033[1m'+'3.Таблица пропусков по столбцам.'+'\\033[0m')\n",
    "    print('')\n",
    "    display(f.sort_values(by=['count'], ascending=False))\n",
    "    print('')\n",
    "    print('Колв-во столбцов с пропусками:', len(f[f['count']>0]))\n",
    "    print('')\n",
    "    \n",
    "    print('\\033[1m'+'4.Кол-во уникальных дупликатов.'+'\\033[0m')\n",
    "    print('')\n",
    "    print('Уникальных дупликатов:', data.duplicated().sum())\n",
    "    print('')\n",
    "    \n",
    "    \n",
    "    print('\\033[1m'+'5.Выведим общую информацию о данных в столбцах.'+'\\033[0m')\n",
    "    print('')\n",
    "    display(data.describe())\n",
    "    print('')\n",
    "    \n",
    "    \n",
    "    print('\\033[1m'+'6.Построение общей гистограммы для всех числовых столбцов таблицы'+'\\033[0m')\n",
    "    print('')\n",
    "    data.hist(bins = 100, figsize=(15, 10))\n",
    "    plt.show()\n",
    "    print('')\n",
    "    \n",
    "    print('\\033[1m'+'7.Корреляция между столбцами'+'\\033[0m')\n",
    "    print('')\n",
    "    print('Посчет корреляции')\n",
    "    print(data.corr())\n",
    "    print('')\n",
    "    print('Построение графиков')\n",
    "    pd.plotting.scatter_matrix(data, figsize=(9, 9))\n",
    "    plt.show()\n",
    "    print('')"
   ]
  },
  {
   "cell_type": "code",
   "execution_count": 6,
   "metadata": {
    "scrolled": false
   },
   "outputs": [
    {
     "name": "stdout",
     "output_type": "stream",
     "text": [
      "\u001b[1m1.Вывод первых 5 строк датафрейма\u001b[0m\n",
      "\n"
     ]
    },
    {
     "data": {
      "text/html": [
       "<div>\n",
       "<style scoped>\n",
       "    .dataframe tbody tr th:only-of-type {\n",
       "        vertical-align: middle;\n",
       "    }\n",
       "\n",
       "    .dataframe tbody tr th {\n",
       "        vertical-align: top;\n",
       "    }\n",
       "\n",
       "    .dataframe thead th {\n",
       "        text-align: right;\n",
       "    }\n",
       "</style>\n",
       "<table border=\"1\" class=\"dataframe\">\n",
       "  <thead>\n",
       "    <tr style=\"text-align: right;\">\n",
       "      <th></th>\n",
       "      <th>Пол</th>\n",
       "      <th>Возраст</th>\n",
       "      <th>Зарплата</th>\n",
       "      <th>Члены семьи</th>\n",
       "      <th>Страховые выплаты</th>\n",
       "    </tr>\n",
       "  </thead>\n",
       "  <tbody>\n",
       "    <tr>\n",
       "      <th>0</th>\n",
       "      <td>1</td>\n",
       "      <td>41.0</td>\n",
       "      <td>49600.0</td>\n",
       "      <td>1</td>\n",
       "      <td>0</td>\n",
       "    </tr>\n",
       "    <tr>\n",
       "      <th>1</th>\n",
       "      <td>0</td>\n",
       "      <td>46.0</td>\n",
       "      <td>38000.0</td>\n",
       "      <td>1</td>\n",
       "      <td>1</td>\n",
       "    </tr>\n",
       "    <tr>\n",
       "      <th>2</th>\n",
       "      <td>0</td>\n",
       "      <td>29.0</td>\n",
       "      <td>21000.0</td>\n",
       "      <td>0</td>\n",
       "      <td>0</td>\n",
       "    </tr>\n",
       "    <tr>\n",
       "      <th>3</th>\n",
       "      <td>0</td>\n",
       "      <td>21.0</td>\n",
       "      <td>41700.0</td>\n",
       "      <td>2</td>\n",
       "      <td>0</td>\n",
       "    </tr>\n",
       "    <tr>\n",
       "      <th>4</th>\n",
       "      <td>1</td>\n",
       "      <td>28.0</td>\n",
       "      <td>26100.0</td>\n",
       "      <td>0</td>\n",
       "      <td>0</td>\n",
       "    </tr>\n",
       "  </tbody>\n",
       "</table>\n",
       "</div>"
      ],
      "text/plain": [
       "   Пол  Возраст  Зарплата  Члены семьи  Страховые выплаты\n",
       "0    1     41.0   49600.0            1                  0\n",
       "1    0     46.0   38000.0            1                  1\n",
       "2    0     29.0   21000.0            0                  0\n",
       "3    0     21.0   41700.0            2                  0\n",
       "4    1     28.0   26100.0            0                  0"
      ]
     },
     "metadata": {},
     "output_type": "display_data"
    },
    {
     "name": "stdout",
     "output_type": "stream",
     "text": [
      "\n",
      "\u001b[1m2.Выведим основную информацию о датафрейме.\u001b[0m\n",
      "\n",
      "<class 'pandas.core.frame.DataFrame'>\n",
      "RangeIndex: 5000 entries, 0 to 4999\n",
      "Data columns (total 5 columns):\n",
      " #   Column             Non-Null Count  Dtype  \n",
      "---  ------             --------------  -----  \n",
      " 0   Пол                5000 non-null   int64  \n",
      " 1   Возраст            5000 non-null   float64\n",
      " 2   Зарплата           5000 non-null   float64\n",
      " 3   Члены семьи        5000 non-null   int64  \n",
      " 4   Страховые выплаты  5000 non-null   int64  \n",
      "dtypes: float64(2), int64(3)\n",
      "memory usage: 195.4 KB\n"
     ]
    },
    {
     "data": {
      "text/plain": [
       "None"
      ]
     },
     "metadata": {},
     "output_type": "display_data"
    },
    {
     "name": "stdout",
     "output_type": "stream",
     "text": [
      "\n",
      "\n",
      "\u001b[1m3.Таблица пропусков по столбцам.\u001b[0m\n",
      "\n"
     ]
    },
    {
     "data": {
      "text/html": [
       "<div>\n",
       "<style scoped>\n",
       "    .dataframe tbody tr th:only-of-type {\n",
       "        vertical-align: middle;\n",
       "    }\n",
       "\n",
       "    .dataframe tbody tr th {\n",
       "        vertical-align: top;\n",
       "    }\n",
       "\n",
       "    .dataframe thead th {\n",
       "        text-align: right;\n",
       "    }\n",
       "</style>\n",
       "<table border=\"1\" class=\"dataframe\">\n",
       "  <thead>\n",
       "    <tr style=\"text-align: right;\">\n",
       "      <th></th>\n",
       "      <th>name_columns</th>\n",
       "      <th>count</th>\n",
       "      <th>count,%</th>\n",
       "    </tr>\n",
       "  </thead>\n",
       "  <tbody>\n",
       "    <tr>\n",
       "      <th>0</th>\n",
       "      <td>Пол</td>\n",
       "      <td>0</td>\n",
       "      <td>0.0</td>\n",
       "    </tr>\n",
       "    <tr>\n",
       "      <th>1</th>\n",
       "      <td>Возраст</td>\n",
       "      <td>0</td>\n",
       "      <td>0.0</td>\n",
       "    </tr>\n",
       "    <tr>\n",
       "      <th>2</th>\n",
       "      <td>Зарплата</td>\n",
       "      <td>0</td>\n",
       "      <td>0.0</td>\n",
       "    </tr>\n",
       "    <tr>\n",
       "      <th>3</th>\n",
       "      <td>Члены семьи</td>\n",
       "      <td>0</td>\n",
       "      <td>0.0</td>\n",
       "    </tr>\n",
       "    <tr>\n",
       "      <th>4</th>\n",
       "      <td>Страховые выплаты</td>\n",
       "      <td>0</td>\n",
       "      <td>0.0</td>\n",
       "    </tr>\n",
       "  </tbody>\n",
       "</table>\n",
       "</div>"
      ],
      "text/plain": [
       "        name_columns  count  count,%\n",
       "0                Пол      0      0.0\n",
       "1            Возраст      0      0.0\n",
       "2           Зарплата      0      0.0\n",
       "3        Члены семьи      0      0.0\n",
       "4  Страховые выплаты      0      0.0"
      ]
     },
     "metadata": {},
     "output_type": "display_data"
    },
    {
     "name": "stdout",
     "output_type": "stream",
     "text": [
      "\n",
      "Колв-во столбцов с пропусками: 0\n",
      "\n",
      "\u001b[1m4.Кол-во уникальных дупликатов.\u001b[0m\n",
      "\n",
      "Уникальных дупликатов: 153\n",
      "\n",
      "\u001b[1m5.Выведим общую информацию о данных в столбцах.\u001b[0m\n",
      "\n"
     ]
    },
    {
     "data": {
      "text/html": [
       "<div>\n",
       "<style scoped>\n",
       "    .dataframe tbody tr th:only-of-type {\n",
       "        vertical-align: middle;\n",
       "    }\n",
       "\n",
       "    .dataframe tbody tr th {\n",
       "        vertical-align: top;\n",
       "    }\n",
       "\n",
       "    .dataframe thead th {\n",
       "        text-align: right;\n",
       "    }\n",
       "</style>\n",
       "<table border=\"1\" class=\"dataframe\">\n",
       "  <thead>\n",
       "    <tr style=\"text-align: right;\">\n",
       "      <th></th>\n",
       "      <th>Пол</th>\n",
       "      <th>Возраст</th>\n",
       "      <th>Зарплата</th>\n",
       "      <th>Члены семьи</th>\n",
       "      <th>Страховые выплаты</th>\n",
       "    </tr>\n",
       "  </thead>\n",
       "  <tbody>\n",
       "    <tr>\n",
       "      <th>count</th>\n",
       "      <td>5000.000000</td>\n",
       "      <td>5000.000000</td>\n",
       "      <td>5000.000000</td>\n",
       "      <td>5000.000000</td>\n",
       "      <td>5000.000000</td>\n",
       "    </tr>\n",
       "    <tr>\n",
       "      <th>mean</th>\n",
       "      <td>0.499000</td>\n",
       "      <td>30.952800</td>\n",
       "      <td>39916.360000</td>\n",
       "      <td>1.194200</td>\n",
       "      <td>0.148000</td>\n",
       "    </tr>\n",
       "    <tr>\n",
       "      <th>std</th>\n",
       "      <td>0.500049</td>\n",
       "      <td>8.440807</td>\n",
       "      <td>9900.083569</td>\n",
       "      <td>1.091387</td>\n",
       "      <td>0.463183</td>\n",
       "    </tr>\n",
       "    <tr>\n",
       "      <th>min</th>\n",
       "      <td>0.000000</td>\n",
       "      <td>18.000000</td>\n",
       "      <td>5300.000000</td>\n",
       "      <td>0.000000</td>\n",
       "      <td>0.000000</td>\n",
       "    </tr>\n",
       "    <tr>\n",
       "      <th>25%</th>\n",
       "      <td>0.000000</td>\n",
       "      <td>24.000000</td>\n",
       "      <td>33300.000000</td>\n",
       "      <td>0.000000</td>\n",
       "      <td>0.000000</td>\n",
       "    </tr>\n",
       "    <tr>\n",
       "      <th>50%</th>\n",
       "      <td>0.000000</td>\n",
       "      <td>30.000000</td>\n",
       "      <td>40200.000000</td>\n",
       "      <td>1.000000</td>\n",
       "      <td>0.000000</td>\n",
       "    </tr>\n",
       "    <tr>\n",
       "      <th>75%</th>\n",
       "      <td>1.000000</td>\n",
       "      <td>37.000000</td>\n",
       "      <td>46600.000000</td>\n",
       "      <td>2.000000</td>\n",
       "      <td>0.000000</td>\n",
       "    </tr>\n",
       "    <tr>\n",
       "      <th>max</th>\n",
       "      <td>1.000000</td>\n",
       "      <td>65.000000</td>\n",
       "      <td>79000.000000</td>\n",
       "      <td>6.000000</td>\n",
       "      <td>5.000000</td>\n",
       "    </tr>\n",
       "  </tbody>\n",
       "</table>\n",
       "</div>"
      ],
      "text/plain": [
       "               Пол      Возраст      Зарплата  Члены семьи  Страховые выплаты\n",
       "count  5000.000000  5000.000000   5000.000000  5000.000000        5000.000000\n",
       "mean      0.499000    30.952800  39916.360000     1.194200           0.148000\n",
       "std       0.500049     8.440807   9900.083569     1.091387           0.463183\n",
       "min       0.000000    18.000000   5300.000000     0.000000           0.000000\n",
       "25%       0.000000    24.000000  33300.000000     0.000000           0.000000\n",
       "50%       0.000000    30.000000  40200.000000     1.000000           0.000000\n",
       "75%       1.000000    37.000000  46600.000000     2.000000           0.000000\n",
       "max       1.000000    65.000000  79000.000000     6.000000           5.000000"
      ]
     },
     "metadata": {},
     "output_type": "display_data"
    },
    {
     "name": "stdout",
     "output_type": "stream",
     "text": [
      "\n",
      "\u001b[1m6.Построение общей гистограммы для всех числовых столбцов таблицы\u001b[0m\n",
      "\n"
     ]
    },
    {
     "data": {
      "image/png": "[encoded data removed]",
      "text/plain": [
       "<Figure size 1080x720 with 6 Axes>"
      ]
     },
     "metadata": {
      "needs_background": "light"
     },
     "output_type": "display_data"
    },
    {
     "name": "stdout",
     "output_type": "stream",
     "text": [
      "\n",
      "\u001b[1m7.Корреляция между столбцами\u001b[0m\n",
      "\n",
      "Посчет корреляции\n",
      "                        Пол   Возраст  Зарплата  Члены семьи  \\\n",
      "Пол                1.000000  0.002074  0.014910    -0.008991   \n",
      "Возраст            0.002074  1.000000 -0.019093    -0.006692   \n",
      "Зарплата           0.014910 -0.019093  1.000000    -0.030296   \n",
      "Члены семьи       -0.008991 -0.006692 -0.030296     1.000000   \n",
      "Страховые выплаты  0.010140  0.651030 -0.014963    -0.036290   \n",
      "\n",
      "                   Страховые выплаты  \n",
      "Пол                         0.010140  \n",
      "Возраст                     0.651030  \n",
      "Зарплата                   -0.014963  \n",
      "Члены семьи                -0.036290  \n",
      "Страховые выплаты           1.000000  \n",
      "\n",
      "Построение графиков\n"
     ]
    },
    {
     "data": {
      "image/png": "[encoded data removed]",
      "text/plain": [
       "<Figure size 648x648 with 25 Axes>"
      ]
     },
     "metadata": {
      "needs_background": "light"
     },
     "output_type": "display_data"
    },
    {
     "name": "stdout",
     "output_type": "stream",
     "text": [
      "\n"
     ]
    }
   ],
   "source": [
    "all_info(data)"
   ]
  },
  {
   "cell_type": "markdown",
   "metadata": {},
   "source": [
    "**Приведем возраст и зарплату к целочисленному типу данных**"
   ]
  },
  {
   "cell_type": "code",
   "execution_count": 7,
   "metadata": {},
   "outputs": [],
   "source": [
    "data['Возраст'] = data['Возраст'].astype(int)\n",
    "data['Зарплата'] = data['Зарплата'].astype(int)"
   ]
  },
  {
   "cell_type": "markdown",
   "metadata": {},
   "source": [
    "**Избавимся от дупликатов**"
   ]
  },
  {
   "cell_type": "code",
   "execution_count": 8,
   "metadata": {},
   "outputs": [],
   "source": [
    "data= data.drop_duplicates()"
   ]
  },
  {
   "cell_type": "code",
   "execution_count": 9,
   "metadata": {},
   "outputs": [
    {
     "data": {
      "text/plain": [
       "(4847, 5)"
      ]
     },
     "execution_count": 9,
     "metadata": {},
     "output_type": "execute_result"
    }
   ],
   "source": [
    "data.shape"
   ]
  },
  {
   "cell_type": "markdown",
   "metadata": {},
   "source": [
    "По представленным данным можно сделать слеждущие выводы:\n",
    "- в датафрейме 4847 строк и 5 столбцов\n",
    "- пустые данные отсутсвуют \n",
    "- было 153 дупликата. После удаление их стало 0.\n",
    "- столбец 'Возраст' и 'Зарплата' был переведен в целочисленный тип данных.\n",
    "- данные вероятно всего искусственные, так как явной закономерности между ними не выявленны. Наблюдается корреляция только между возрастом и колество страховых выплат. "
   ]
  },
  {
   "cell_type": "markdown",
   "metadata": {},
   "source": [
    "## Умножение матриц"
   ]
  },
  {
   "cell_type": "markdown",
   "metadata": {},
   "source": [
    "В этом задании вы можете записывать формулы в *Jupyter Notebook.*\n",
    "\n",
    "Чтобы записать формулу внутри текста, окружите её символами доллара \\\\$; если снаружи —  двойными символами \\\\$\\\\$. Эти формулы записываются на языке вёрстки *LaTeX.* \n",
    "\n",
    "Для примера мы записали формулы линейной регрессии. Можете их скопировать и отредактировать, чтобы решить задачу.\n",
    "\n",
    "Работать в *LaTeX* необязательно."
   ]
  },
  {
   "cell_type": "markdown",
   "metadata": {},
   "source": [
    "Обозначения:\n",
    "\n",
    "- $X$ — матрица признаков (нулевой столбец состоит из единиц)\n",
    "\n",
    "- $y$ — вектор целевого признака\n",
    "\n",
    "- $P$ — матрица, на которую умножаются признаки\n",
    "\n",
    "- $w$ — вектор весов линейной регрессии (нулевой элемент равен сдвигу)"
   ]
  },
  {
   "cell_type": "markdown",
   "metadata": {},
   "source": [
    "Предсказания:\n",
    "\n",
    "$$\n",
    "a = Xw\n",
    "$$\n",
    "\n",
    "Задача обучения:\n",
    "\n",
    "$$\n",
    "w = \\arg\\min_w MSE(Xw, y)\n",
    "$$\n",
    "\n",
    "Формула обучения:\n",
    "\n",
    "$$\n",
    "w = (X^T X)^{-1} X^T y\n",
    "$$"
   ]
  },
  {
   "cell_type": "markdown",
   "metadata": {},
   "source": [
    "Признаки умножают на обратимую матрицу. Изменится ли качество линейной регрессии? (Её можно обучить заново.)\n",
    "- a. Изменится. Приведите примеры матриц.\n",
    "- b. Не изменится. Укажите, как связаны параметры линейной регрессии в исходной задаче и в преобразованной.\n",
    "\n",
    "**Ответ:** Не изменится.\n",
    "\n",
    "\n",
    "**Обоснование:** \n",
    "\n",
    "Пусть матрица предсказания при умножении на матрицу P примет следующий вид:\n",
    "\n",
    "$$\n",
    "X1 = XP\n",
    "$$\n",
    "\n",
    "Тогда предсказания примут следующий вид:\n",
    "\n",
    "$$\n",
    "a_1 = X1w_1 = XPw_1\n",
    "$$\n",
    "\n",
    "Посмотрим как изменистя формула обучения при умножении на обратимую матрицу:\n",
    "\n",
    "$$\n",
    "w_1 = (X1^T X1)^{-1} X1^T y = ((XP)^T XP)^{-1} (XP)^T y\n",
    "$$\n",
    "\n",
    "Т.к. \n",
    "$$\n",
    "(XP)^T = P^T X^T\n",
    "$$\n",
    "\n",
    "А \n",
    "$$\n",
    "(XP)^{-1} = P^{-1}  X^{-1} \n",
    "$$\n",
    "\n",
    "\n",
    "То уравнение w1 преобразуется \n",
    "\n",
    "$$\n",
    "w_1 = ((XP)^T XP)^{-1} (XP)^T y = (P^T X^T XP)^{-1} P^T X^T y = (P^T (X^T X)P)^{-1} P^T X^T y = \n",
    "$$\n",
    "$$\n",
    " = P^{-1} (X^T X)^{-1} (P^T)^{-1} P^T X^T y \n",
    "$$\n",
    "\n",
    "Где\n",
    "\n",
    "$$\n",
    " (P^T)^{-1} P^T = E\n",
    "$$\n",
    "\n",
    "- E - единичная матрица\n",
    "\n",
    "Отсюда следует, что\n",
    "\n",
    "$$\n",
    "w_1  = P^{-1} (X^T X)^{-1}  X^T y = P^{-1}w\n",
    "$$\n",
    "\n",
    "И подставив полученный результат в уравнение:\n",
    "$$\n",
    "a_1 = X1w_1 = XPw_1 = XPP^{-1}w = Xw = a\n",
    "$$\n",
    "\n",
    "Получаем, что умножив признаки на обратиму матрицу предсказания не изменяютсятся. Матрица a1 равняется а. Однако вектор весов линейной регрессии будут различаться."
   ]
  },
  {
   "cell_type": "markdown",
   "metadata": {},
   "source": [
    "**Вывод:**\n",
    "В данном пункте было доказано, что при умножении признаков на обратимую матрицу качетсво модели не поменяется, так как предсказания не изменяются. Однако поменяются веса для новых признаков. И следовательно необходиом будет переобучить модель на новых признаках, чтобы проверка в дальнейшем сошлась. "
   ]
  },
  {
   "cell_type": "markdown",
   "metadata": {},
   "source": [
    "## Алгоритм преобразования"
   ]
  },
  {
   "cell_type": "markdown",
   "metadata": {},
   "source": [
    "**Алгоритм**"
   ]
  },
  {
   "cell_type": "markdown",
   "metadata": {},
   "source": [
    "**1. Создадим функцию формирующую рандомную матрицу размером (n, n) для шифрования данных клиентов**"
   ]
  },
  {
   "cell_type": "code",
   "execution_count": 10,
   "metadata": {},
   "outputs": [],
   "source": [
    "def rnd_matrix(n):\n",
    "        random_matrix = np.random.normal(size=(n, n))\n",
    "        try:\n",
    "            np.linalg.inv(random_matrix) \n",
    "        except LinAlgError: \n",
    "        # если возникает ошибка, т.е. обратной матрицы не существует, выполняется еще одна попытка\n",
    "            rnd_matrix(n)\n",
    "        return random_matrix"
   ]
  },
  {
   "cell_type": "markdown",
   "metadata": {},
   "source": [
    "Размер матрицы будет равняться ширине матрицы признаков, чтобы могло выполняться матричное умножение."
   ]
  },
  {
   "cell_type": "markdown",
   "metadata": {},
   "source": [
    "**2. Выделим целевой признак и признаки:**\n",
    "\n",
    "-\tПризнаки: пол, возраст и зарплата застрахованного, количество членов его семьи.\n",
    "-\tЦелевой признак: количество страховых выплат клиенту за последние 5 лет.\n"
   ]
  },
  {
   "cell_type": "code",
   "execution_count": 11,
   "metadata": {},
   "outputs": [],
   "source": [
    "features = data.drop('Страховые выплаты', axis = 1) #наша матрица признаков\n",
    "target = data['Страховые выплаты']"
   ]
  },
  {
   "cell_type": "markdown",
   "metadata": {},
   "source": [
    "**3. Выполним масштабирование данных**"
   ]
  },
  {
   "cell_type": "code",
   "execution_count": 12,
   "metadata": {},
   "outputs": [],
   "source": [
    "#Проведем масштабирование с помощью StandardScaler()\n",
    "scaler = StandardScaler()\n",
    "scaler.fit(features)\n",
    "\n",
    "#Сохраним масштабированные признаки в features_scaled\n",
    "features_scaler = scaler.transform(features)"
   ]
  },
  {
   "cell_type": "markdown",
   "metadata": {},
   "source": [
    "4. Создадим рандомную матрицу"
   ]
  },
  {
   "cell_type": "code",
   "execution_count": 13,
   "metadata": {},
   "outputs": [],
   "source": [
    "P = rnd_matrix(features_scaler.shape[1])"
   ]
  },
  {
   "cell_type": "code",
   "execution_count": 14,
   "metadata": {},
   "outputs": [
    {
     "data": {
      "text/plain": [
       "array([[ 1.35403424, -0.24850885,  0.95743874, -0.42379495],\n",
       "       [-0.40569967, -1.52652991, -0.15556235, -1.04197909],\n",
       "       [-0.62240397, -0.38117813,  0.46853218, -0.24656436],\n",
       "       [-1.42480177,  1.4450518 , -0.60230756, -0.62596419]])"
      ]
     },
     "execution_count": 14,
     "metadata": {},
     "output_type": "execute_result"
    }
   ],
   "source": [
    "P"
   ]
  },
  {
   "cell_type": "markdown",
   "metadata": {},
   "source": [
    "**Обоснование**"
   ]
  },
  {
   "cell_type": "markdown",
   "metadata": {},
   "source": [
    "Проверим, что \n",
    "$$\n",
    "a_1 = a\n",
    "$$"
   ]
  },
  {
   "cell_type": "markdown",
   "metadata": {},
   "source": [
    "Расcчитаем **a**\n",
    "\n",
    "$$\n",
    "a = Xw\n",
    "$$\n"
   ]
  },
  {
   "cell_type": "code",
   "execution_count": 15,
   "metadata": {},
   "outputs": [],
   "source": [
    "X = features_scaler\n",
    "y = target"
   ]
  },
  {
   "cell_type": "markdown",
   "metadata": {},
   "source": [
    "Рассчитаем формулу обучения:\n",
    "\n",
    "$$\n",
    "w = (X^T X)^{-1} X^T y\n",
    "$$"
   ]
  },
  {
   "cell_type": "code",
   "execution_count": 16,
   "metadata": {},
   "outputs": [],
   "source": [
    "# вычислим вектор весов\n",
    "w = inv(X.T @ X) @ X.T @ y"
   ]
  },
  {
   "cell_type": "code",
   "execution_count": 17,
   "metadata": {},
   "outputs": [
    {
     "data": {
      "text/plain": [
       "array([ 0.00473007,  0.30692826, -0.00138603, -0.01565625])"
      ]
     },
     "execution_count": 17,
     "metadata": {},
     "output_type": "execute_result"
    }
   ],
   "source": [
    "w"
   ]
  },
  {
   "cell_type": "code",
   "execution_count": 18,
   "metadata": {},
   "outputs": [],
   "source": [
    "a = features_scaler @ w"
   ]
  },
  {
   "cell_type": "code",
   "execution_count": 19,
   "metadata": {},
   "outputs": [
    {
     "data": {
      "text/plain": [
       "array([ 0.36706966,  0.54004184, -0.05813168, ..., -0.41390424,\n",
       "       -0.34620098, -0.1018115 ])"
      ]
     },
     "execution_count": 19,
     "metadata": {},
     "output_type": "execute_result"
    }
   ],
   "source": [
    "a"
   ]
  },
  {
   "cell_type": "code",
   "execution_count": 20,
   "metadata": {},
   "outputs": [
    {
     "data": {
      "text/plain": [
       "(4847,)"
      ]
     },
     "execution_count": 20,
     "metadata": {},
     "output_type": "execute_result"
    }
   ],
   "source": [
    "#размер матрицы а\n",
    "a.shape"
   ]
  },
  {
   "cell_type": "markdown",
   "metadata": {},
   "source": [
    "Расчитаем **a1**\n",
    "\n",
    "$$\n",
    "a_1 = X1w_1\n",
    "$$\n"
   ]
  },
  {
   "cell_type": "markdown",
   "metadata": {},
   "source": [
    "Где матрица признаков умноженная на рандомную матрицу\n",
    "\n",
    "$$\n",
    "X1 = XP\n",
    "$$"
   ]
  },
  {
   "cell_type": "code",
   "execution_count": 21,
   "metadata": {},
   "outputs": [],
   "source": [
    "# шифрование данных\n",
    "X1 = X @ P"
   ]
  },
  {
   "cell_type": "markdown",
   "metadata": {},
   "source": [
    "А вектор весов **w1**\n",
    "$$\n",
    "w_1 = (X1^T X1)^{-1} X1^T y\n",
    "$$"
   ]
  },
  {
   "cell_type": "code",
   "execution_count": 22,
   "metadata": {},
   "outputs": [],
   "source": [
    "# вычислим вектор весов\n",
    "w1 = inv(X1.T @ X1) @ X1.T @ y"
   ]
  },
  {
   "cell_type": "code",
   "execution_count": 23,
   "metadata": {},
   "outputs": [
    {
     "data": {
      "text/plain": [
       "array([ 0.02696906, -0.09753274, -0.12222252, -0.14392777])"
      ]
     },
     "execution_count": 23,
     "metadata": {},
     "output_type": "execute_result"
    }
   ],
   "source": [
    "w1"
   ]
  },
  {
   "cell_type": "code",
   "execution_count": 24,
   "metadata": {},
   "outputs": [],
   "source": [
    "a1 = X1 @ w1"
   ]
  },
  {
   "cell_type": "code",
   "execution_count": 25,
   "metadata": {},
   "outputs": [
    {
     "data": {
      "text/plain": [
       "array([ 0.36706966,  0.54004184, -0.05813168, ..., -0.41390424,\n",
       "       -0.34620098, -0.1018115 ])"
      ]
     },
     "execution_count": 25,
     "metadata": {},
     "output_type": "execute_result"
    }
   ],
   "source": [
    "a1"
   ]
  },
  {
   "cell_type": "code",
   "execution_count": 26,
   "metadata": {},
   "outputs": [
    {
     "data": {
      "text/plain": [
       "(4847,)"
      ]
     },
     "execution_count": 26,
     "metadata": {},
     "output_type": "execute_result"
    }
   ],
   "source": [
    "#размер матрицы а1\n",
    "a1.shape"
   ]
  },
  {
   "cell_type": "markdown",
   "metadata": {},
   "source": [
    "Вычтем из матрицы а матрицу а1 и просуммируем все полученные значения, чтоы убедится, что матрицы равны. Результатом должен являться 0 или число стремящееся к нулю."
   ]
  },
  {
   "cell_type": "code",
   "execution_count": 27,
   "metadata": {
    "scrolled": true
   },
   "outputs": [
    {
     "data": {
      "text/plain": [
       "-2.5133974762558964e-14"
      ]
     },
     "execution_count": 27,
     "metadata": {},
     "output_type": "execute_result"
    }
   ],
   "source": [
    "(a - a1).sum()"
   ]
  },
  {
   "cell_type": "markdown",
   "metadata": {},
   "source": [
    "Число получилось очень маленьким и стремящееся к нулю. следовательно матрицы a и а1 практически равные. Почему разность не дала число 0 может скрываться в округлении числе при перемножении матриц"
   ]
  },
  {
   "cell_type": "markdown",
   "metadata": {},
   "source": [
    "Проверим, что выполненные выше преобразования в доказательсве тоже верны. \n",
    "$$\n",
    "w11  = P^{-1}w\n",
    "$$\n",
    "\n",
    "$$\n",
    "a11 = X1w11\n",
    "$$\n",
    "\n",
    "и следовательно \n",
    "\n",
    "$$\n",
    "a = a11\n",
    "$$"
   ]
  },
  {
   "cell_type": "code",
   "execution_count": 28,
   "metadata": {},
   "outputs": [],
   "source": [
    "# вычислим вектор весов\n",
    "w11 = inv(P) @ w"
   ]
  },
  {
   "cell_type": "code",
   "execution_count": 29,
   "metadata": {},
   "outputs": [],
   "source": [
    "a11 = X1 @ w11"
   ]
  },
  {
   "cell_type": "code",
   "execution_count": 30,
   "metadata": {},
   "outputs": [
    {
     "data": {
      "text/plain": [
       "array([ 0.36706966,  0.54004184, -0.05813168, ..., -0.41390424,\n",
       "       -0.34620098, -0.1018115 ])"
      ]
     },
     "execution_count": 30,
     "metadata": {},
     "output_type": "execute_result"
    }
   ],
   "source": [
    "a11"
   ]
  },
  {
   "cell_type": "code",
   "execution_count": 31,
   "metadata": {},
   "outputs": [
    {
     "data": {
      "text/plain": [
       "(4847,)"
      ]
     },
     "execution_count": 31,
     "metadata": {},
     "output_type": "execute_result"
    }
   ],
   "source": [
    "a11.shape"
   ]
  },
  {
   "cell_type": "code",
   "execution_count": 32,
   "metadata": {},
   "outputs": [
    {
     "data": {
      "text/plain": [
       "-2.4405390902648705e-14"
      ]
     },
     "execution_count": 32,
     "metadata": {},
     "output_type": "execute_result"
    }
   ],
   "source": [
    "(a - a11).sum()"
   ]
  },
  {
   "cell_type": "markdown",
   "metadata": {},
   "source": [
    "Число получилось тоже очень маленьким и стремящееся к нулю. следовательно матрицы a и а11 тоже равны. "
   ]
  },
  {
   "cell_type": "markdown",
   "metadata": {},
   "source": [
    "**Вывод:**\n",
    "\n",
    "В данной пункте прописали алгоритм преобразования и проверили на практики, что выведенные формулы в предыдущем пункте дают верный результат. А именно, что умножив признаки на обратиму матрицу предсказания не изменяютсятся. Проверим теперь, что результаты не влияют на метрики."
   ]
  },
  {
   "cell_type": "markdown",
   "metadata": {},
   "source": [
    "## Проверка алгоритма"
   ]
  },
  {
   "cell_type": "markdown",
   "metadata": {},
   "source": [
    "Выполним обучение на модели Линейная регрессия на данных признаках X и посчитаем метрику R2_Score"
   ]
  },
  {
   "cell_type": "code",
   "execution_count": 33,
   "metadata": {},
   "outputs": [
    {
     "name": "stdout",
     "output_type": "stream",
     "text": [
      "0.4302010046633359\n"
     ]
    }
   ],
   "source": [
    "model = LinearRegression()\n",
    "model.fit(X, y)\n",
    "predictions = model.predict(X)\n",
    "print(r2_score(y,predictions))"
   ]
  },
  {
   "cell_type": "markdown",
   "metadata": {},
   "source": [
    "Выполним обучение на модели Линейная регрессия на данных признаках X1 и посчитаем метрику R2_Score"
   ]
  },
  {
   "cell_type": "code",
   "execution_count": 34,
   "metadata": {},
   "outputs": [
    {
     "name": "stdout",
     "output_type": "stream",
     "text": [
      "0.4302010046633359\n"
     ]
    }
   ],
   "source": [
    "model = LinearRegression()\n",
    "model.fit(X1, y)\n",
    "predictions_1 = model.predict(X1)\n",
    "print(r2_score(y,predictions_1))"
   ]
  },
  {
   "cell_type": "markdown",
   "metadata": {},
   "source": [
    "**Вывод:**\n",
    "\n",
    "Модели Линейной регресси с данными до шифрования и после обучены. Метрики сошлись. Шифрование не повлияло на обучение моделей."
   ]
  },
  {
   "cell_type": "markdown",
   "metadata": {},
   "source": [
    "# **Итоговый вывод**\n",
    "\n",
    "В проекте необходимо было защитить данные клиентов страховой компании. Был разработан метод преобразования данных, чтобы по ним было сложно восстановить персональную информацию. Была обоснванна корректность его работы.\n",
    "\n",
    "Для достижения этих целей было сделано:\n",
    "1. загрузка необходимых библиотек и исходный датафрейм. В ходе изучения датафлейма некоторые столбцы были преобразованы в необходимый тип данных, а именно: \"Возраст\" и \"Зарплата\" в целочисленынй тип данных. Также были удалены дупликаты.\n",
    "2. Алгебраитечким путем было обосновано, что  умножив признаки на обратиму матрицу предсказания не изменяютсятся. Матрица a1 равняется а. Однако вектор весов линейной регрессии будут различаться.\n",
    "\n",
    "$$\n",
    "a_1 = X1w_1 = XPw_1 = XPP^{-1}w = Xw = a\n",
    "$$\n",
    "\n",
    "3. Была проведена проверка на числах и доказано, что формула выше верна\n",
    "4. Обучена модель Линейная регрессия до шифрования и после. Метркиа R2_Score сошлась в обоих случаях. Было показано, что шифрование не влияет на обучение модели."
   ]
  }
 ],
 "metadata": {
  "kernelspec": {
   "display_name": "Python 3 (ipykernel)",
   "language": "python",
   "name": "python3"
  },
  "language_info": {
   "codemirror_mode": {
    "name": "ipython",
    "version": 3
   },
   "file_extension": ".py",
   "mimetype": "text/x-python",
   "name": "python",
   "nbconvert_exporter": "python",
   "pygments_lexer": "ipython3",
   "version": "3.9.12"
  },
  "toc": {
   "base_numbering": 1,
   "nav_menu": {},
   "number_sections": true,
   "sideBar": true,
   "skip_h1_title": true,
   "title_cell": "Содержание",
   "title_sidebar": "Contents",
   "toc_cell": true,
   "toc_position": {},
   "toc_section_display": true,
   "toc_window_display": true
  }
 },
 "nbformat": 4,
 "nbformat_minor": 2
}
