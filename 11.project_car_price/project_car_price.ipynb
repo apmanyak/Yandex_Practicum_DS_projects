{
 "cells": [
  {
   "cell_type": "markdown",
   "metadata": {},
   "source": [
    "# Определение стоимости автомобилей"
   ]
  },
  {
   "cell_type": "markdown",
   "metadata": {},
   "source": [
    "Сервис по продаже автомобилей с пробегом разрабатывает приложение для привлечения новых клиентов. В нём можно быстро узнать рыночную стоимость своего автомобиля. В вашем распоряжении исторические данные: технические характеристики, комплектации и цены автомобилей. Нужно построить модель для определения стоимости. \n",
    "\n",
    "Заказчику важны:\n",
    "\n",
    "- качество предсказания;\n",
    "- скорость предсказания;\n",
    "- время обучения."
   ]
  },
  {
   "cell_type": "markdown",
   "metadata": {},
   "source": [
    "## Подготовка данных"
   ]
  },
  {
   "cell_type": "markdown",
   "metadata": {},
   "source": [
    "### Импортируем библиотеки"
   ]
  },
  {
   "cell_type": "code",
   "execution_count": 1,
   "metadata": {},
   "outputs": [
    {
     "name": "stdout",
     "output_type": "stream",
     "text": [
      "Requirement already satisfied: scikit-learn==1.1.3 in /opt/conda/lib/python3.9/site-packages (1.1.3)\r\n",
      "Requirement already satisfied: numpy>=1.17.3 in /opt/conda/lib/python3.9/site-packages (from scikit-learn==1.1.3) (1.21.1)\r\n",
      "Requirement already satisfied: scipy>=1.3.2 in /opt/conda/lib/python3.9/site-packages (from scikit-learn==1.1.3) (1.9.1)\r\n",
      "Requirement already satisfied: threadpoolctl>=2.0.0 in /opt/conda/lib/python3.9/site-packages (from scikit-learn==1.1.3) (3.1.0)\r\n",
      "Requirement already satisfied: joblib>=1.0.0 in /opt/conda/lib/python3.9/site-packages (from scikit-learn==1.1.3) (1.1.0)\r\n"
     ]
    }
   ],
   "source": [
    "# установим последнюю версию scikit-learn#\n",
    "!pip install scikit-learn==1.1.3"
   ]
  },
  {
   "cell_type": "code",
   "execution_count": 2,
   "metadata": {},
   "outputs": [],
   "source": [
    "#!pip install lightgbm"
   ]
  },
  {
   "cell_type": "code",
   "execution_count": 3,
   "metadata": {},
   "outputs": [],
   "source": [
    "import pandas as pd\n",
    "import numpy as np\n",
    "import seaborn as sns\n",
    "import matplotlib.pyplot as plt\n",
    "import sklearn\n",
    "\n",
    "import re\n",
    "\n",
    "pd.set_option('display.max_columns', None)\n",
    "pd.set_option('display.max_rows', None)\n",
    "\n",
    "from sklearn.model_selection import (\n",
    "    GridSearchCV, \n",
    "    RandomizedSearchCV,\n",
    "    train_test_split,\n",
    "    cross_val_score\n",
    ")\n",
    "\n",
    "\n",
    "from sklearn.compose import make_column_transformer\n",
    "from sklearn.pipeline import make_pipeline\n",
    "\n",
    "from sklearn.preprocessing import (\n",
    "    OneHotEncoder,\n",
    "    StandardScaler\n",
    ")\n",
    "\n",
    "import lightgbm as lgb\n",
    "\n",
    "from catboost import CatBoostRegressor\n",
    "\n",
    "from sklearn.linear_model import LinearRegression\n",
    "from sklearn.linear_model import Ridge\n",
    "\n",
    "from sklearn.metrics import (\n",
    "    mean_squared_error,\n",
    "    make_scorer\n",
    ")"
   ]
  },
  {
   "cell_type": "code",
   "execution_count": 4,
   "metadata": {},
   "outputs": [
    {
     "name": "stdout",
     "output_type": "stream",
     "text": [
      "Версия LightGBM:  3.3.1\n"
     ]
    }
   ],
   "source": [
    "print(\"Версия LightGBM: \", lgb.__version__)"
   ]
  },
  {
   "cell_type": "code",
   "execution_count": 5,
   "metadata": {},
   "outputs": [
    {
     "name": "stdout",
     "output_type": "stream",
     "text": [
      "The scikit-learn version is 1.1.3.\n"
     ]
    }
   ],
   "source": [
    "print('The scikit-learn version is {}.'.format(sklearn.__version__))"
   ]
  },
  {
   "cell_type": "code",
   "execution_count": 6,
   "metadata": {},
   "outputs": [],
   "source": [
    "# игнорирование предупреждений\n",
    "import warnings\n",
    "warnings.simplefilter(\"ignore\")\n",
    "warnings.filterwarnings(\"ignore\")"
   ]
  },
  {
   "cell_type": "code",
   "execution_count": 7,
   "metadata": {},
   "outputs": [],
   "source": [
    "# константа\n",
    "RANDOM_STATE = 12345"
   ]
  },
  {
   "cell_type": "markdown",
   "metadata": {},
   "source": [
    "### Загружаем и получаем информацию о датасете"
   ]
  },
  {
   "cell_type": "markdown",
   "metadata": {},
   "source": [
    "**Считаем данные из csv-файлов в датафрейм и сохраним в переменные data.**\n",
    "\n",
    "Данные находятся в файле:\n",
    "\n",
    "- autos.csv \n",
    "\n",
    "Путь к файлу:\n",
    "\n",
    "- /datasets/autos.csv"
   ]
  },
  {
   "cell_type": "code",
   "execution_count": 8,
   "metadata": {},
   "outputs": [],
   "source": [
    "data = pd.read_csv('/datasets/autos.csv',parse_dates=True)"
   ]
  },
  {
   "cell_type": "markdown",
   "metadata": {},
   "source": [
    "**Функция по выводу основной информации по датафреймам**"
   ]
  },
  {
   "cell_type": "code",
   "execution_count": 9,
   "metadata": {},
   "outputs": [],
   "source": [
    "def all_info(data):\n",
    "\n",
    "    \n",
    "    print('\\033[1m'+'1.Вывод первых 5 строк датафрейма'+'\\033[0m')\n",
    "    print('')\n",
    "    display(data.head())\n",
    "    print('')\n",
    "    \n",
    "    print('\\033[1m'+'2.Выведим основную информацию о датафрейме.'+'\\033[0m')\n",
    "    print('')\n",
    "    display(data.info())\n",
    "    print('')\n",
    "    \n",
    "    print('Посмотрим на уникальные значения в столбцах базы данных.')\n",
    "    print('')\n",
    "    for i in data.columns:\n",
    "        print('Кол-во уникальных значений в столбце', i, ':', data[i].nunique())\n",
    "        print(pd.Series(data[i]).unique())\n",
    "        print('')\n",
    "    \n",
    "    \n",
    "    a = []\n",
    "    b = []\n",
    "    c = []\n",
    "    count = 0\n",
    "    for value in data.columns:\n",
    "        a.append(data[value].isna().sum())\n",
    "        b.append((data[value].isna().sum()/len(data))*100)\n",
    "        c.append(value)\n",
    "        count += 1\n",
    "\n",
    "    f = pd.DataFrame( {'name_columns': pd.Series(c),\n",
    "                       'count': pd.Series(a),\n",
    "                      'count,%': pd.Series(b)}\n",
    "                    )\n",
    "    print('')\n",
    "    print('\\033[1m'+'3.Таблица пропусков по столбцам.'+'\\033[0m')\n",
    "    print('')\n",
    "    display(f.sort_values(by=['count'], ascending=False))\n",
    "    print('')\n",
    "    print('Колв-во столбцов с пропусками:', len(f[f['count']>0]))\n",
    "    print('')\n",
    "    \n",
    "    print('\\033[1m'+'4.Кол-во уникальных дупликатов.'+'\\033[0m')\n",
    "    print('')\n",
    "    print('Уникальных дупликатов:', data.duplicated().sum())\n",
    "    print('')\n",
    "    \n",
    "    \n",
    "    print('\\033[1m'+'5.Выведим общую информацию о данных в столбцах.'+'\\033[0m')\n",
    "    print('')\n",
    "    display(data.describe())\n",
    "    print('')\n",
    "    \n",
    "    \n",
    "    print('\\033[1m'+'6.Построение общей гистограммы для всех числовых столбцов таблицы'+'\\033[0m')\n",
    "    print('')\n",
    "    data.hist(bins = 100, figsize=(15, 10))\n",
    "    plt.show()\n",
    "    print('')"
   ]
  },
  {
   "cell_type": "code",
   "execution_count": 10,
   "metadata": {
    "scrolled": false
   },
   "outputs": [
    {
     "name": "stdout",
     "output_type": "stream",
     "text": [
      "\u001b[1m1.Вывод первых 5 строк датафрейма\u001b[0m\n",
      "\n"
     ]
    },
    {
     "data": {
      "text/html": [
       "<div>\n",
       "<style scoped>\n",
       "    .dataframe tbody tr th:only-of-type {\n",
       "        vertical-align: middle;\n",
       "    }\n",
       "\n",
       "    .dataframe tbody tr th {\n",
       "        vertical-align: top;\n",
       "    }\n",
       "\n",
       "    .dataframe thead th {\n",
       "        text-align: right;\n",
       "    }\n",
       "</style>\n",
       "<table border=\"1\" class=\"dataframe\">\n",
       "  <thead>\n",
       "    <tr style=\"text-align: right;\">\n",
       "      <th></th>\n",
       "      <th>DateCrawled</th>\n",
       "      <th>Price</th>\n",
       "      <th>VehicleType</th>\n",
       "      <th>RegistrationYear</th>\n",
       "      <th>Gearbox</th>\n",
       "      <th>Power</th>\n",
       "      <th>Model</th>\n",
       "      <th>Kilometer</th>\n",
       "      <th>RegistrationMonth</th>\n",
       "      <th>FuelType</th>\n",
       "      <th>Brand</th>\n",
       "      <th>Repaired</th>\n",
       "      <th>DateCreated</th>\n",
       "      <th>NumberOfPictures</th>\n",
       "      <th>PostalCode</th>\n",
       "      <th>LastSeen</th>\n",
       "    </tr>\n",
       "  </thead>\n",
       "  <tbody>\n",
       "    <tr>\n",
       "      <th>0</th>\n",
       "      <td>2016-03-24 11:52:17</td>\n",
       "      <td>480</td>\n",
       "      <td>NaN</td>\n",
       "      <td>1993</td>\n",
       "      <td>manual</td>\n",
       "      <td>0</td>\n",
       "      <td>golf</td>\n",
       "      <td>150000</td>\n",
       "      <td>0</td>\n",
       "      <td>petrol</td>\n",
       "      <td>volkswagen</td>\n",
       "      <td>NaN</td>\n",
       "      <td>2016-03-24 00:00:00</td>\n",
       "      <td>0</td>\n",
       "      <td>70435</td>\n",
       "      <td>2016-04-07 03:16:57</td>\n",
       "    </tr>\n",
       "    <tr>\n",
       "      <th>1</th>\n",
       "      <td>2016-03-24 10:58:45</td>\n",
       "      <td>18300</td>\n",
       "      <td>coupe</td>\n",
       "      <td>2011</td>\n",
       "      <td>manual</td>\n",
       "      <td>190</td>\n",
       "      <td>NaN</td>\n",
       "      <td>125000</td>\n",
       "      <td>5</td>\n",
       "      <td>gasoline</td>\n",
       "      <td>audi</td>\n",
       "      <td>yes</td>\n",
       "      <td>2016-03-24 00:00:00</td>\n",
       "      <td>0</td>\n",
       "      <td>66954</td>\n",
       "      <td>2016-04-07 01:46:50</td>\n",
       "    </tr>\n",
       "    <tr>\n",
       "      <th>2</th>\n",
       "      <td>2016-03-14 12:52:21</td>\n",
       "      <td>9800</td>\n",
       "      <td>suv</td>\n",
       "      <td>2004</td>\n",
       "      <td>auto</td>\n",
       "      <td>163</td>\n",
       "      <td>grand</td>\n",
       "      <td>125000</td>\n",
       "      <td>8</td>\n",
       "      <td>gasoline</td>\n",
       "      <td>jeep</td>\n",
       "      <td>NaN</td>\n",
       "      <td>2016-03-14 00:00:00</td>\n",
       "      <td>0</td>\n",
       "      <td>90480</td>\n",
       "      <td>2016-04-05 12:47:46</td>\n",
       "    </tr>\n",
       "    <tr>\n",
       "      <th>3</th>\n",
       "      <td>2016-03-17 16:54:04</td>\n",
       "      <td>1500</td>\n",
       "      <td>small</td>\n",
       "      <td>2001</td>\n",
       "      <td>manual</td>\n",
       "      <td>75</td>\n",
       "      <td>golf</td>\n",
       "      <td>150000</td>\n",
       "      <td>6</td>\n",
       "      <td>petrol</td>\n",
       "      <td>volkswagen</td>\n",
       "      <td>no</td>\n",
       "      <td>2016-03-17 00:00:00</td>\n",
       "      <td>0</td>\n",
       "      <td>91074</td>\n",
       "      <td>2016-03-17 17:40:17</td>\n",
       "    </tr>\n",
       "    <tr>\n",
       "      <th>4</th>\n",
       "      <td>2016-03-31 17:25:20</td>\n",
       "      <td>3600</td>\n",
       "      <td>small</td>\n",
       "      <td>2008</td>\n",
       "      <td>manual</td>\n",
       "      <td>69</td>\n",
       "      <td>fabia</td>\n",
       "      <td>90000</td>\n",
       "      <td>7</td>\n",
       "      <td>gasoline</td>\n",
       "      <td>skoda</td>\n",
       "      <td>no</td>\n",
       "      <td>2016-03-31 00:00:00</td>\n",
       "      <td>0</td>\n",
       "      <td>60437</td>\n",
       "      <td>2016-04-06 10:17:21</td>\n",
       "    </tr>\n",
       "  </tbody>\n",
       "</table>\n",
       "</div>"
      ],
      "text/plain": [
       "           DateCrawled  Price VehicleType  RegistrationYear Gearbox  Power  \\\n",
       "0  2016-03-24 11:52:17    480         NaN              1993  manual      0   \n",
       "1  2016-03-24 10:58:45  18300       coupe              2011  manual    190   \n",
       "2  2016-03-14 12:52:21   9800         suv              2004    auto    163   \n",
       "3  2016-03-17 16:54:04   1500       small              2001  manual     75   \n",
       "4  2016-03-31 17:25:20   3600       small              2008  manual     69   \n",
       "\n",
       "   Model  Kilometer  RegistrationMonth  FuelType       Brand Repaired  \\\n",
       "0   golf     150000                  0    petrol  volkswagen      NaN   \n",
       "1    NaN     125000                  5  gasoline        audi      yes   \n",
       "2  grand     125000                  8  gasoline        jeep      NaN   \n",
       "3   golf     150000                  6    petrol  volkswagen       no   \n",
       "4  fabia      90000                  7  gasoline       skoda       no   \n",
       "\n",
       "           DateCreated  NumberOfPictures  PostalCode             LastSeen  \n",
       "0  2016-03-24 00:00:00                 0       70435  2016-04-07 03:16:57  \n",
       "1  2016-03-24 00:00:00                 0       66954  2016-04-07 01:46:50  \n",
       "2  2016-03-14 00:00:00                 0       90480  2016-04-05 12:47:46  \n",
       "3  2016-03-17 00:00:00                 0       91074  2016-03-17 17:40:17  \n",
       "4  2016-03-31 00:00:00                 0       60437  2016-04-06 10:17:21  "
      ]
     },
     "metadata": {},
     "output_type": "display_data"
    },
    {
     "name": "stdout",
     "output_type": "stream",
     "text": [
      "\n",
      "\u001b[1m2.Выведим основную информацию о датафрейме.\u001b[0m\n",
      "\n",
      "<class 'pandas.core.frame.DataFrame'>\n",
      "RangeIndex: 354369 entries, 0 to 354368\n",
      "Data columns (total 16 columns):\n",
      " #   Column             Non-Null Count   Dtype \n",
      "---  ------             --------------   ----- \n",
      " 0   DateCrawled        354369 non-null  object\n",
      " 1   Price              354369 non-null  int64 \n",
      " 2   VehicleType        316879 non-null  object\n",
      " 3   RegistrationYear   354369 non-null  int64 \n",
      " 4   Gearbox            334536 non-null  object\n",
      " 5   Power              354369 non-null  int64 \n",
      " 6   Model              334664 non-null  object\n",
      " 7   Kilometer          354369 non-null  int64 \n",
      " 8   RegistrationMonth  354369 non-null  int64 \n",
      " 9   FuelType           321474 non-null  object\n",
      " 10  Brand              354369 non-null  object\n",
      " 11  Repaired           283215 non-null  object\n",
      " 12  DateCreated        354369 non-null  object\n",
      " 13  NumberOfPictures   354369 non-null  int64 \n",
      " 14  PostalCode         354369 non-null  int64 \n",
      " 15  LastSeen           354369 non-null  object\n",
      "dtypes: int64(7), object(9)\n",
      "memory usage: 43.3+ MB\n"
     ]
    },
    {
     "data": {
      "text/plain": [
       "None"
      ]
     },
     "metadata": {},
     "output_type": "display_data"
    },
    {
     "name": "stdout",
     "output_type": "stream",
     "text": [
      "\n",
      "Посмотрим на уникальные значения в столбцах базы данных.\n",
      "\n",
      "Кол-во уникальных значений в столбце DateCrawled : 271174\n",
      "['2016-03-24 11:52:17' '2016-03-24 10:58:45' '2016-03-14 12:52:21' ...\n",
      " '2016-03-21 09:50:58' '2016-03-14 17:48:27' '2016-03-19 18:57:12']\n",
      "\n",
      "Кол-во уникальных значений в столбце Price : 3731\n",
      "[  480 18300  9800 ... 12395 18429 10985]\n",
      "\n",
      "Кол-во уникальных значений в столбце VehicleType : 8\n",
      "[nan 'coupe' 'suv' 'small' 'sedan' 'convertible' 'bus' 'wagon' 'other']\n",
      "\n",
      "Кол-во уникальных значений в столбце RegistrationYear : 151\n",
      "[1993 2011 2004 2001 2008 1995 1980 2014 1998 2005 1910 2016 2007 2009\n",
      " 2002 2018 1997 1990 2017 1981 2003 1994 1991 1984 2006 1999 2012 2010\n",
      " 2000 1992 2013 1996 1985 1989 2015 1982 1976 1983 1973 1111 1969 1971\n",
      " 1987 1986 1988 1970 1965 1945 1925 1974 1979 1955 1978 1972 1968 1977\n",
      " 1961 1960 1966 1975 1963 1964 5000 1954 1958 1967 1959 9999 1956 3200\n",
      " 1000 1941 8888 1500 2200 4100 1962 1929 1957 1940 3000 2066 1949 2019\n",
      " 1937 1951 1800 1953 1234 8000 5300 9000 2900 6000 5900 5911 1933 1400\n",
      " 1950 4000 1948 1952 1200 8500 1932 1255 3700 3800 4800 1942 7000 1935\n",
      " 1936 6500 1923 2290 2500 1930 1001 9450 1944 1943 1934 1938 1688 2800\n",
      " 1253 1928 1919 5555 5600 1600 2222 1039 9996 1300 8455 1931 1915 4500\n",
      " 1920 1602 7800 9229 1947 1927 7100 8200 1946 7500 3500]\n",
      "\n",
      "Кол-во уникальных значений в столбце Gearbox : 2\n",
      "['manual' 'auto' nan]\n",
      "\n",
      "Кол-во уникальных значений в столбце Power : 712\n",
      "[    0   190   163    75    69   102   109    50   125   101   105   140\n",
      "   115   131    60   136   160   231    90   118   193    99   113   218\n",
      "   122   129    70   306    95    61   177    80   170    55   143    64\n",
      "   286   232   150   156    82   155    54   185    87   180    86    84\n",
      "   224   235   200   178   265    77   110   144   120   116   184   126\n",
      "   204    88   194   305   197   179   250    45   313    41   165    98\n",
      "   130   114   211    56   201   213    58   107    83   174   100   220\n",
      "    85    73   192    68    66   299    74    52   147    65   310    71\n",
      "    97   239   203     5   300   103   258   320    63    81   148    44\n",
      "   145   230   280   260   104   188   333   186   117   141    59   132\n",
      "   234   158    39    92    51   135    53   209    43   146    67   106\n",
      "   166   276   344    72   249   237   245   111   326   279    23   138\n",
      "   175    96   226    26    37   301   334   128   133   124    33   219\n",
      "   241   167    94   182   196   238  1398   228   112    48   272   139\n",
      "  1799    40   240    79   256   360   243   375   252   396   340   108\n",
      "   121   345   187   289   222   198   284   450   233   387   152   347\n",
      "   172    57   137   212   476   314    30     7    47   173   290   207\n",
      "   205   171   750    78    91    89   349   325    76   151   350   953\n",
      "    93   142   500   343   199   119   164    16   264   367   208   210\n",
      "    46   435  1001   225   127   176   161   603   307   354    35   206\n",
      "   771   355   273   223   255   123   154   149  7515  1400   268   620\n",
      "   169   400   275    34     2   242  1779   285   162   328  1753   329\n",
      "   134   420   247   168 10317   215    18   330   283    62    10   214\n",
      "   183   254    15   321   322   315   952   600   181   426   599   379\n",
      "   999    22   157    42   195   553     4   309   507   381   271   440\n",
      "   189   401  1111  2729    21   236  1240  1704   521     1  1900   270\n",
      "    24   159   292   808   515  1200   303    29    38  1993    14   216\n",
      "   610   504    49   267   331   363   261   385  1011   253   696 10520\n",
      "   376   227   311    27   217    20  1999    11  1056    25   394    12\n",
      "   298   296  1659   294   551  6920   246    17  1800  1625   368   390\n",
      "   221  1367   259   606   327  2017  1597   266   374   392     9   405\n",
      "    13   262   601   430   295     8   411   900   541  7512   382 10218\n",
      "  7544  1102   287    19   751   297  1090   457   282   602   388     6\n",
      "  1000  5411   335  1360   202  3750   805  1062  1024 11530   364  1796\n",
      "  5000   269   460  1002   288  1780 12012 17932   316  2005  1399   191\n",
      "   278  1300   380   257   449  1256   153  1653   520   560   281 12510\n",
      "     3  1500   386    32  1202  2016  1436  1405   671   274  1288  1055\n",
      " 10912 15016  6226  1115   277  1105   341  1223  2340  8404  1968   338\n",
      "   445  1920   370   517  4400 10710 10522  9010   431  1164 11509   371\n",
      "  1501   428 11635    36   304   348  1703  1910  1995   579 10000   580\n",
      "   408    31  1005   358  1403   489  5575 19211   585   960   365   353\n",
      "   490   352  1801   346   550  3199   800  7508  1312   357  1937   950\n",
      "  4700  1600  3454 19208   251   850   337   700  8011  2331  2789   487\n",
      "   519  2461  6006  3500  5815  6018  1781  1503   612  1596   229  1506\n",
      "  5809 15020  5867  2172  1598 17410  1363   584  1054   851  1339   318\n",
      "   510   525  1700    28  1151   685  6011   317   703  1771 15001   514\n",
      "   362   332   324  6045   530   425   308  6010   475   903   640  2000\n",
      "   248   651  2799 17011   505  1103  1521   351 16051   398  9000  1998\n",
      " 10311   409  1230 17019 12684  8259  1895   901  1317   871   909  2201\n",
      "  1595   776 17700 11011  1199   459  1162  1120 15033  1896   339   361\n",
      "   574  6512   454   650 13616   604   607 16312  1082   336 20000   416\n",
      "   678  6012  1401  1021  1870 13636  1250  9710   323  1158  2009   902\n",
      "  6062  1275   572   244   399  1016   743  1221  2402 16011  1362   544\n",
      "   645   907   702 12512  1986  1003  1432  9013  9011   442  1017  1394\n",
      " 15017 10910  1992   540  2018 11025  1433  1701  2792  1502  1239  1390\n",
      " 14009  1160  1351 11111  1783  9007   923  1149   754  1988   402  2004\n",
      "  5420  1793  1324   356  7511  1299   293 19312  1079  1689   998  1100\n",
      "  9012  1933   508 16311   682  1252  1922  7529   732  2389  2200  1707\n",
      "  1416  8500  1012   485  3000 10110   421  4507  1631  7518   377  1004\n",
      "  2007  2598  1548  1241]\n",
      "\n",
      "Кол-во уникальных значений в столбце Model : 250\n",
      "['golf' nan 'grand' 'fabia' '3er' '2_reihe' 'other' 'c_max' '3_reihe'\n",
      " 'passat' 'navara' 'ka' 'polo' 'twingo' 'a_klasse' 'scirocco' '5er'\n",
      " 'meriva' 'arosa' 'c4' 'civic' 'transporter' 'punto' 'e_klasse' 'clio'\n",
      " 'kadett' 'kangoo' 'corsa' 'one' 'fortwo' '1er' 'b_klasse' 'signum'\n",
      " 'astra' 'a8' 'jetta' 'fiesta' 'c_klasse' 'micra' 'vito' 'sprinter' '156'\n",
      " 'escort' 'forester' 'xc_reihe' 'scenic' 'a4' 'a1' 'insignia' 'combo'\n",
      " 'focus' 'tt' 'a6' 'jazz' 'omega' 'slk' '7er' '80' '147' '100' 'z_reihe'\n",
      " 'sportage' 'sorento' 'v40' 'ibiza' 'mustang' 'eos' 'touran' 'getz' 'a3'\n",
      " 'almera' 'megane' 'lupo' 'r19' 'zafira' 'caddy' 'mondeo' 'cordoba' 'colt'\n",
      " 'impreza' 'vectra' 'berlingo' 'tiguan' 'i_reihe' 'espace' 'sharan'\n",
      " '6_reihe' 'panda' 'up' 'seicento' 'ceed' '5_reihe' 'yeti' 'octavia' 'mii'\n",
      " 'rx_reihe' '6er' 'modus' 'fox' 'matiz' 'beetle' 'c1' 'rio' 'touareg'\n",
      " 'logan' 'spider' 'cuore' 's_max' 'a2' 'galaxy' 'c3' 'viano' 's_klasse'\n",
      " '1_reihe' 'avensis' 'roomster' 'sl' 'kaefer' 'santa' 'cooper' 'leon'\n",
      " '4_reihe' 'a5' '500' 'laguna' 'ptcruiser' 'clk' 'primera' 'x_reihe'\n",
      " 'exeo' '159' 'transit' 'juke' 'qashqai' 'carisma' 'accord' 'corolla'\n",
      " 'lanos' 'phaeton' 'verso' 'swift' 'rav' 'picanto' 'boxster' 'kalos'\n",
      " 'superb' 'stilo' 'alhambra' 'mx_reihe' 'roadster' 'ypsilon' 'cayenne'\n",
      " 'galant' 'justy' '90' 'sirion' 'crossfire' 'agila' 'duster' 'cr_reihe'\n",
      " 'v50' 'c_reihe' 'v_klasse' 'm_klasse' 'yaris' 'c5' 'aygo' 'cc' 'carnival'\n",
      " 'fusion' '911' 'bora' 'forfour' 'm_reihe' 'cl' 'tigra' '300c' 'spark'\n",
      " 'v70' 'kuga' 'x_type' 'ducato' 's_type' 'x_trail' 'toledo' 'altea'\n",
      " 'voyager' 'calibra' 'bravo' 'antara' 'tucson' 'citigo' 'jimny' 'wrangler'\n",
      " 'lybra' 'q7' 'lancer' 'captiva' 'c2' 'discovery' 'freelander' 'sandero'\n",
      " 'note' '900' 'cherokee' 'clubman' 'samara' 'defender' '601' 'cx_reihe'\n",
      " 'legacy' 'pajero' 'auris' 'niva' 's60' 'nubira' 'vivaro' 'g_klasse'\n",
      " 'lodgy' '850' 'range_rover' 'q3' 'serie_2' 'glk' 'charade' 'croma'\n",
      " 'outlander' 'doblo' 'musa' 'move' '9000' 'v60' '145' 'aveo' '200' 'b_max'\n",
      " 'range_rover_sport' 'terios' 'rangerover' 'q5' 'range_rover_evoque'\n",
      " 'materia' 'delta' 'gl' 'kalina' 'amarok' 'elefantino' 'i3' 'kappa'\n",
      " 'serie_3' 'serie_1']\n",
      "\n",
      "Кол-во уникальных значений в столбце Kilometer : 13\n",
      "[150000 125000  90000  40000  30000  70000   5000 100000  60000  20000\n",
      "  80000  50000  10000]\n",
      "\n",
      "Кол-во уникальных значений в столбце RegistrationMonth : 13\n",
      "[ 0  5  8  6  7 10 12 11  2  3  1  4  9]\n",
      "\n",
      "Кол-во уникальных значений в столбце FuelType : 7\n",
      "['petrol' 'gasoline' nan 'lpg' 'other' 'hybrid' 'cng' 'electric']\n",
      "\n",
      "Кол-во уникальных значений в столбце Brand : 40\n",
      "['volkswagen' 'audi' 'jeep' 'skoda' 'bmw' 'peugeot' 'ford' 'mazda'\n",
      " 'nissan' 'renault' 'mercedes_benz' 'opel' 'seat' 'citroen' 'honda' 'fiat'\n",
      " 'mini' 'smart' 'hyundai' 'sonstige_autos' 'alfa_romeo' 'subaru' 'volvo'\n",
      " 'mitsubishi' 'kia' 'suzuki' 'lancia' 'toyota' 'chevrolet' 'dacia'\n",
      " 'daihatsu' 'trabant' 'saab' 'chrysler' 'jaguar' 'daewoo' 'porsche'\n",
      " 'rover' 'land_rover' 'lada']\n",
      "\n",
      "Кол-во уникальных значений в столбце Repaired : 2\n",
      "[nan 'yes' 'no']\n",
      "\n",
      "Кол-во уникальных значений в столбце DateCreated : 109\n",
      "['2016-03-24 00:00:00' '2016-03-14 00:00:00' '2016-03-17 00:00:00'\n",
      " '2016-03-31 00:00:00' '2016-04-04 00:00:00' '2016-04-01 00:00:00'\n",
      " '2016-03-21 00:00:00' '2016-03-26 00:00:00' '2016-04-07 00:00:00'\n",
      " '2016-03-15 00:00:00' '2016-03-11 00:00:00' '2016-03-20 00:00:00'\n",
      " '2016-03-23 00:00:00' '2016-03-27 00:00:00' '2016-03-12 00:00:00'\n",
      " '2016-03-13 00:00:00' '2016-03-18 00:00:00' '2016-03-10 00:00:00'\n",
      " '2016-03-07 00:00:00' '2016-03-09 00:00:00' '2016-03-08 00:00:00'\n",
      " '2016-04-03 00:00:00' '2016-03-29 00:00:00' '2016-03-25 00:00:00'\n",
      " '2016-03-28 00:00:00' '2016-03-30 00:00:00' '2016-03-22 00:00:00'\n",
      " '2016-02-09 00:00:00' '2016-03-05 00:00:00' '2016-04-02 00:00:00'\n",
      " '2016-03-16 00:00:00' '2016-03-19 00:00:00' '2016-04-05 00:00:00'\n",
      " '2016-03-06 00:00:00' '2016-02-12 00:00:00' '2016-03-03 00:00:00'\n",
      " '2016-03-01 00:00:00' '2016-03-04 00:00:00' '2016-04-06 00:00:00'\n",
      " '2016-02-15 00:00:00' '2016-02-24 00:00:00' '2016-02-27 00:00:00'\n",
      " '2015-03-20 00:00:00' '2016-02-28 00:00:00' '2016-02-17 00:00:00'\n",
      " '2016-01-27 00:00:00' '2016-02-20 00:00:00' '2016-02-29 00:00:00'\n",
      " '2016-02-10 00:00:00' '2016-02-23 00:00:00' '2016-02-21 00:00:00'\n",
      " '2015-11-02 00:00:00' '2016-02-19 00:00:00' '2016-02-26 00:00:00'\n",
      " '2016-02-11 00:00:00' '2016-01-10 00:00:00' '2016-02-06 00:00:00'\n",
      " '2016-02-18 00:00:00' '2016-01-29 00:00:00' '2016-03-02 00:00:00'\n",
      " '2015-12-06 00:00:00' '2016-01-24 00:00:00' '2016-01-30 00:00:00'\n",
      " '2016-02-02 00:00:00' '2016-02-16 00:00:00' '2016-02-13 00:00:00'\n",
      " '2016-02-05 00:00:00' '2016-02-22 00:00:00' '2015-11-17 00:00:00'\n",
      " '2014-03-10 00:00:00' '2016-02-07 00:00:00' '2016-01-23 00:00:00'\n",
      " '2016-02-25 00:00:00' '2016-02-14 00:00:00' '2016-01-02 00:00:00'\n",
      " '2015-09-04 00:00:00' '2015-11-12 00:00:00' '2015-12-27 00:00:00'\n",
      " '2015-11-24 00:00:00' '2016-01-20 00:00:00' '2016-02-03 00:00:00'\n",
      " '2015-12-05 00:00:00' '2015-08-07 00:00:00' '2016-01-28 00:00:00'\n",
      " '2016-01-31 00:00:00' '2016-02-08 00:00:00' '2016-01-07 00:00:00'\n",
      " '2016-01-22 00:00:00' '2016-01-18 00:00:00' '2016-01-08 00:00:00'\n",
      " '2015-11-23 00:00:00' '2016-01-13 00:00:00' '2016-01-17 00:00:00'\n",
      " '2016-01-15 00:00:00' '2015-11-08 00:00:00' '2016-01-26 00:00:00'\n",
      " '2016-02-04 00:00:00' '2016-01-25 00:00:00' '2016-01-16 00:00:00'\n",
      " '2015-08-10 00:00:00' '2016-01-03 00:00:00' '2016-01-19 00:00:00'\n",
      " '2015-12-30 00:00:00' '2016-02-01 00:00:00' '2015-12-17 00:00:00'\n",
      " '2015-11-10 00:00:00' '2016-01-06 00:00:00' '2015-09-09 00:00:00'\n",
      " '2015-06-18 00:00:00']\n",
      "\n",
      "Кол-во уникальных значений в столбце NumberOfPictures : 1\n",
      "[0]\n",
      "\n",
      "Кол-во уникальных значений в столбце PostalCode : 8143\n",
      "[70435 66954 90480 ... 38528 38325 31096]\n",
      "\n",
      "Кол-во уникальных значений в столбце LastSeen : 179150\n",
      "['2016-04-07 03:16:57' '2016-04-07 01:46:50' '2016-04-05 12:47:46' ...\n",
      " '2016-03-19 20:44:43' '2016-03-29 10:17:23' '2016-03-21 10:42:49']\n",
      "\n",
      "\n",
      "\u001b[1m3.Таблица пропусков по столбцам.\u001b[0m\n",
      "\n"
     ]
    },
    {
     "data": {
      "text/html": [
       "<div>\n",
       "<style scoped>\n",
       "    .dataframe tbody tr th:only-of-type {\n",
       "        vertical-align: middle;\n",
       "    }\n",
       "\n",
       "    .dataframe tbody tr th {\n",
       "        vertical-align: top;\n",
       "    }\n",
       "\n",
       "    .dataframe thead th {\n",
       "        text-align: right;\n",
       "    }\n",
       "</style>\n",
       "<table border=\"1\" class=\"dataframe\">\n",
       "  <thead>\n",
       "    <tr style=\"text-align: right;\">\n",
       "      <th></th>\n",
       "      <th>name_columns</th>\n",
       "      <th>count</th>\n",
       "      <th>count,%</th>\n",
       "    </tr>\n",
       "  </thead>\n",
       "  <tbody>\n",
       "    <tr>\n",
       "      <th>11</th>\n",
       "      <td>Repaired</td>\n",
       "      <td>71154</td>\n",
       "      <td>20.079070</td>\n",
       "    </tr>\n",
       "    <tr>\n",
       "      <th>2</th>\n",
       "      <td>VehicleType</td>\n",
       "      <td>37490</td>\n",
       "      <td>10.579368</td>\n",
       "    </tr>\n",
       "    <tr>\n",
       "      <th>9</th>\n",
       "      <td>FuelType</td>\n",
       "      <td>32895</td>\n",
       "      <td>9.282697</td>\n",
       "    </tr>\n",
       "    <tr>\n",
       "      <th>4</th>\n",
       "      <td>Gearbox</td>\n",
       "      <td>19833</td>\n",
       "      <td>5.596709</td>\n",
       "    </tr>\n",
       "    <tr>\n",
       "      <th>6</th>\n",
       "      <td>Model</td>\n",
       "      <td>19705</td>\n",
       "      <td>5.560588</td>\n",
       "    </tr>\n",
       "    <tr>\n",
       "      <th>0</th>\n",
       "      <td>DateCrawled</td>\n",
       "      <td>0</td>\n",
       "      <td>0.000000</td>\n",
       "    </tr>\n",
       "    <tr>\n",
       "      <th>1</th>\n",
       "      <td>Price</td>\n",
       "      <td>0</td>\n",
       "      <td>0.000000</td>\n",
       "    </tr>\n",
       "    <tr>\n",
       "      <th>3</th>\n",
       "      <td>RegistrationYear</td>\n",
       "      <td>0</td>\n",
       "      <td>0.000000</td>\n",
       "    </tr>\n",
       "    <tr>\n",
       "      <th>5</th>\n",
       "      <td>Power</td>\n",
       "      <td>0</td>\n",
       "      <td>0.000000</td>\n",
       "    </tr>\n",
       "    <tr>\n",
       "      <th>7</th>\n",
       "      <td>Kilometer</td>\n",
       "      <td>0</td>\n",
       "      <td>0.000000</td>\n",
       "    </tr>\n",
       "    <tr>\n",
       "      <th>8</th>\n",
       "      <td>RegistrationMonth</td>\n",
       "      <td>0</td>\n",
       "      <td>0.000000</td>\n",
       "    </tr>\n",
       "    <tr>\n",
       "      <th>10</th>\n",
       "      <td>Brand</td>\n",
       "      <td>0</td>\n",
       "      <td>0.000000</td>\n",
       "    </tr>\n",
       "    <tr>\n",
       "      <th>12</th>\n",
       "      <td>DateCreated</td>\n",
       "      <td>0</td>\n",
       "      <td>0.000000</td>\n",
       "    </tr>\n",
       "    <tr>\n",
       "      <th>13</th>\n",
       "      <td>NumberOfPictures</td>\n",
       "      <td>0</td>\n",
       "      <td>0.000000</td>\n",
       "    </tr>\n",
       "    <tr>\n",
       "      <th>14</th>\n",
       "      <td>PostalCode</td>\n",
       "      <td>0</td>\n",
       "      <td>0.000000</td>\n",
       "    </tr>\n",
       "    <tr>\n",
       "      <th>15</th>\n",
       "      <td>LastSeen</td>\n",
       "      <td>0</td>\n",
       "      <td>0.000000</td>\n",
       "    </tr>\n",
       "  </tbody>\n",
       "</table>\n",
       "</div>"
      ],
      "text/plain": [
       "         name_columns  count    count,%\n",
       "11           Repaired  71154  20.079070\n",
       "2         VehicleType  37490  10.579368\n",
       "9            FuelType  32895   9.282697\n",
       "4             Gearbox  19833   5.596709\n",
       "6               Model  19705   5.560588\n",
       "0         DateCrawled      0   0.000000\n",
       "1               Price      0   0.000000\n",
       "3    RegistrationYear      0   0.000000\n",
       "5               Power      0   0.000000\n",
       "7           Kilometer      0   0.000000\n",
       "8   RegistrationMonth      0   0.000000\n",
       "10              Brand      0   0.000000\n",
       "12        DateCreated      0   0.000000\n",
       "13   NumberOfPictures      0   0.000000\n",
       "14         PostalCode      0   0.000000\n",
       "15           LastSeen      0   0.000000"
      ]
     },
     "metadata": {},
     "output_type": "display_data"
    },
    {
     "name": "stdout",
     "output_type": "stream",
     "text": [
      "\n",
      "Колв-во столбцов с пропусками: 5\n",
      "\n",
      "\u001b[1m4.Кол-во уникальных дупликатов.\u001b[0m\n",
      "\n",
      "Уникальных дупликатов: 4\n",
      "\n",
      "\u001b[1m5.Выведим общую информацию о данных в столбцах.\u001b[0m\n",
      "\n"
     ]
    },
    {
     "data": {
      "text/html": [
       "<div>\n",
       "<style scoped>\n",
       "    .dataframe tbody tr th:only-of-type {\n",
       "        vertical-align: middle;\n",
       "    }\n",
       "\n",
       "    .dataframe tbody tr th {\n",
       "        vertical-align: top;\n",
       "    }\n",
       "\n",
       "    .dataframe thead th {\n",
       "        text-align: right;\n",
       "    }\n",
       "</style>\n",
       "<table border=\"1\" class=\"dataframe\">\n",
       "  <thead>\n",
       "    <tr style=\"text-align: right;\">\n",
       "      <th></th>\n",
       "      <th>Price</th>\n",
       "      <th>RegistrationYear</th>\n",
       "      <th>Power</th>\n",
       "      <th>Kilometer</th>\n",
       "      <th>RegistrationMonth</th>\n",
       "      <th>NumberOfPictures</th>\n",
       "      <th>PostalCode</th>\n",
       "    </tr>\n",
       "  </thead>\n",
       "  <tbody>\n",
       "    <tr>\n",
       "      <th>count</th>\n",
       "      <td>354369.000000</td>\n",
       "      <td>354369.000000</td>\n",
       "      <td>354369.000000</td>\n",
       "      <td>354369.000000</td>\n",
       "      <td>354369.000000</td>\n",
       "      <td>354369.0</td>\n",
       "      <td>354369.000000</td>\n",
       "    </tr>\n",
       "    <tr>\n",
       "      <th>mean</th>\n",
       "      <td>4416.656776</td>\n",
       "      <td>2004.234448</td>\n",
       "      <td>110.094337</td>\n",
       "      <td>128211.172535</td>\n",
       "      <td>5.714645</td>\n",
       "      <td>0.0</td>\n",
       "      <td>50508.689087</td>\n",
       "    </tr>\n",
       "    <tr>\n",
       "      <th>std</th>\n",
       "      <td>4514.158514</td>\n",
       "      <td>90.227958</td>\n",
       "      <td>189.850405</td>\n",
       "      <td>37905.341530</td>\n",
       "      <td>3.726421</td>\n",
       "      <td>0.0</td>\n",
       "      <td>25783.096248</td>\n",
       "    </tr>\n",
       "    <tr>\n",
       "      <th>min</th>\n",
       "      <td>0.000000</td>\n",
       "      <td>1000.000000</td>\n",
       "      <td>0.000000</td>\n",
       "      <td>5000.000000</td>\n",
       "      <td>0.000000</td>\n",
       "      <td>0.0</td>\n",
       "      <td>1067.000000</td>\n",
       "    </tr>\n",
       "    <tr>\n",
       "      <th>25%</th>\n",
       "      <td>1050.000000</td>\n",
       "      <td>1999.000000</td>\n",
       "      <td>69.000000</td>\n",
       "      <td>125000.000000</td>\n",
       "      <td>3.000000</td>\n",
       "      <td>0.0</td>\n",
       "      <td>30165.000000</td>\n",
       "    </tr>\n",
       "    <tr>\n",
       "      <th>50%</th>\n",
       "      <td>2700.000000</td>\n",
       "      <td>2003.000000</td>\n",
       "      <td>105.000000</td>\n",
       "      <td>150000.000000</td>\n",
       "      <td>6.000000</td>\n",
       "      <td>0.0</td>\n",
       "      <td>49413.000000</td>\n",
       "    </tr>\n",
       "    <tr>\n",
       "      <th>75%</th>\n",
       "      <td>6400.000000</td>\n",
       "      <td>2008.000000</td>\n",
       "      <td>143.000000</td>\n",
       "      <td>150000.000000</td>\n",
       "      <td>9.000000</td>\n",
       "      <td>0.0</td>\n",
       "      <td>71083.000000</td>\n",
       "    </tr>\n",
       "    <tr>\n",
       "      <th>max</th>\n",
       "      <td>20000.000000</td>\n",
       "      <td>9999.000000</td>\n",
       "      <td>20000.000000</td>\n",
       "      <td>150000.000000</td>\n",
       "      <td>12.000000</td>\n",
       "      <td>0.0</td>\n",
       "      <td>99998.000000</td>\n",
       "    </tr>\n",
       "  </tbody>\n",
       "</table>\n",
       "</div>"
      ],
      "text/plain": [
       "               Price  RegistrationYear          Power      Kilometer  \\\n",
       "count  354369.000000     354369.000000  354369.000000  354369.000000   \n",
       "mean     4416.656776       2004.234448     110.094337  128211.172535   \n",
       "std      4514.158514         90.227958     189.850405   37905.341530   \n",
       "min         0.000000       1000.000000       0.000000    5000.000000   \n",
       "25%      1050.000000       1999.000000      69.000000  125000.000000   \n",
       "50%      2700.000000       2003.000000     105.000000  150000.000000   \n",
       "75%      6400.000000       2008.000000     143.000000  150000.000000   \n",
       "max     20000.000000       9999.000000   20000.000000  150000.000000   \n",
       "\n",
       "       RegistrationMonth  NumberOfPictures     PostalCode  \n",
       "count      354369.000000          354369.0  354369.000000  \n",
       "mean            5.714645               0.0   50508.689087  \n",
       "std             3.726421               0.0   25783.096248  \n",
       "min             0.000000               0.0    1067.000000  \n",
       "25%             3.000000               0.0   30165.000000  \n",
       "50%             6.000000               0.0   49413.000000  \n",
       "75%             9.000000               0.0   71083.000000  \n",
       "max            12.000000               0.0   99998.000000  "
      ]
     },
     "metadata": {},
     "output_type": "display_data"
    },
    {
     "name": "stdout",
     "output_type": "stream",
     "text": [
      "\n",
      "\u001b[1m6.Построение общей гистограммы для всех числовых столбцов таблицы\u001b[0m\n",
      "\n"
     ]
    },
    {
     "data": {
      "image/png": "[encoded data removed]",
      "text/plain": [
       "<Figure size 1080x720 with 9 Axes>"
      ]
     },
     "metadata": {
      "needs_background": "light"
     },
     "output_type": "display_data"
    },
    {
     "name": "stdout",
     "output_type": "stream",
     "text": [
      "\n"
     ]
    }
   ],
   "source": [
    "all_info(data)"
   ]
  },
  {
   "cell_type": "markdown",
   "metadata": {},
   "source": [
    "**Описание данных**\n",
    "\n",
    "**Признаки**\n",
    "-\t**DateCrawled** — дата скачивания анкеты из базы\n",
    "-\t**VehicleType** — тип автомобильного кузова\n",
    "-\t**RegistrationYear** — год регистрации автомобиля\n",
    "-\t**Gearbox** — тип коробки передач\n",
    "-\t**Power** — мощность (л. с.)\n",
    "-\t**Model** — модель автомобиля\n",
    "-\t**Kilometer** — пробег (км)\n",
    "-\t**RegistrationMonth** — месяц регистрации автомобиля\n",
    "-\t**FuelType** — тип топлива\n",
    "-\t**Brand** — марка автомобиля\n",
    "-\t**Repaired** — была машина в ремонте или нет\n",
    "-\t**DateCreated** — дата создания анкеты\n",
    "-\t**NumberOfPictures** — количество фотографий автомобиля\n",
    "-\t**PostalCode** — почтовый индекс владельца анкеты (пользователя)\n",
    "-\t**LastSeen** — дата последней активности пользователя\n",
    "\n",
    "**Целевой признак**\n",
    "- **Price** — цена (евро)\n"
   ]
  },
  {
   "cell_type": "markdown",
   "metadata": {},
   "source": [
    "По выведеным данным можно сказать следующее:\n",
    "\n",
    "- Строк: 354369. Столбцов: 16\n",
    "- Кол-во столбцов с пропусками: 5. \n",
    "- Уникальные дупликатов 4\n",
    "- столбцы записаны не в корректном виде.\n",
    "- более 20% от всего датаферйма пропущенных значений в одном из столбце. Пропуски наблюдаются в столбцах Repaired, VehicleType, FuelType, Gearbox, Model. Небходимо будет их устранить.\n",
    "\n",
    "- столбцы 'date_crawled', 'date_created','number_of_pictures','postal_code', 'last_seen' не несут полезной для информации для дальнейшего обучения модели. От них нужно будет избавиться. Также под сомнением бы поставил столбец 'registration_month', так как не особо уверен в том насколько сильно месяц регистрации автомобиля влияет на его цену. Куда важнее мне кажется год. Месяц был бы интересно, если бы на момент продажи автомобиля мы бы хотели знать сколько автомобилю уже полных лет и месяцев. И тогда мы бы еще исследовали с точки зрения длительности жизни автомобиля. Но если конечно модель уже при обучении не будет находить данную зависимость. Также в 'registration_month' наблюдается аномалия в виде числа 0 месяцев, что маловероятно. Это или опечатка или целенаправленное заоплнение пользователями. Но такого месяца не может быть и возможно таким образом пользователи зафиксировали, что не знают месяца регистрации. Или опечатались и имели ввиду 10 месяц, но покольку выбросов слишком много вероятно, что первый вариант. Другой вариант заменить нули на 'unknown' и сделать данный столбец категоральным. По итогу предлагается удалить столбец registration_month.\n",
    "- Также наблюдаются аномалии по значениям в некоторых столбцах: \n",
    "- 1) RegistrationYear - странные значения по годам. Необходимо дополнительно исследовать.\n",
    "- 2) Power - наблюдаются странные выбросы. а именно большое кол-во значений нуля и больших чисел за пределы 2000 (л. с.). Необходимо будет данный момент изучить. Есть вероятность, что пользователь при заполнение анкеты не знал данный параметр и не указал, тогда он выступает своего рода \"индикатором\" \"unknown\"\n",
    "- 3) Price - большое кол-во машин по цене 0. Тоже надо будет изучить вопрос. Возможно пользователь также забыл указать или в редких случаях действительно отадвали за бесплатно, по разного рода причинам. Но учитывая, что это целевой признак и строки с знаечнием 0 составляет менее 10% от данных, то можно в некоторых случая посчитать, что в исходных данных присутсвует како-то незначительное значение неких ложно-положительных ответов. На фоне всех верных мони не должны сильно повлиять на обучение. Другой способ избавиться от нулей заменив их медианным значением цены в зависимости от бренда машины и года регистрации. \n"
   ]
  },
  {
   "cell_type": "code",
   "execution_count": 11,
   "metadata": {},
   "outputs": [],
   "source": [
    "all_rows_data = len(data)"
   ]
  },
  {
   "cell_type": "markdown",
   "metadata": {},
   "source": [
    "### Устранение замечаний в датасете"
   ]
  },
  {
   "cell_type": "markdown",
   "metadata": {},
   "source": [
    "**Приведем название встолбцов к корректному виду**"
   ]
  },
  {
   "cell_type": "code",
   "execution_count": 12,
   "metadata": {},
   "outputs": [
    {
     "data": {
      "text/plain": [
       "Index(['DateCrawled', 'Price', 'VehicleType', 'RegistrationYear', 'Gearbox',\n",
       "       'Power', 'Model', 'Kilometer', 'RegistrationMonth', 'FuelType', 'Brand',\n",
       "       'Repaired', 'DateCreated', 'NumberOfPictures', 'PostalCode',\n",
       "       'LastSeen'],\n",
       "      dtype='object')"
      ]
     },
     "execution_count": 12,
     "metadata": {},
     "output_type": "execute_result"
    }
   ],
   "source": [
    "# перечнь столбоцв до перевода к корреткному виду\n",
    "data.columns"
   ]
  },
  {
   "cell_type": "code",
   "execution_count": 13,
   "metadata": {},
   "outputs": [],
   "source": [
    "# перевод столбоцов к корреткному виду\n",
    "data.columns = [re.sub(r'(?<!^)(?=[A-Z])', '_', i).lower() for i in data.columns]"
   ]
  },
  {
   "cell_type": "code",
   "execution_count": 14,
   "metadata": {},
   "outputs": [
    {
     "data": {
      "text/plain": [
       "Index(['date_crawled', 'price', 'vehicle_type', 'registration_year', 'gearbox',\n",
       "       'power', 'model', 'kilometer', 'registration_month', 'fuel_type',\n",
       "       'brand', 'repaired', 'date_created', 'number_of_pictures',\n",
       "       'postal_code', 'last_seen'],\n",
       "      dtype='object')"
      ]
     },
     "execution_count": 14,
     "metadata": {},
     "output_type": "execute_result"
    }
   ],
   "source": [
    "# перечнь столбоцв после перевода к корреткному виду\n",
    "data.columns"
   ]
  },
  {
   "cell_type": "markdown",
   "metadata": {},
   "source": [
    "**Избавимся от дупликатов**"
   ]
  },
  {
   "cell_type": "code",
   "execution_count": 15,
   "metadata": {},
   "outputs": [],
   "source": [
    "data = data.drop_duplicates()"
   ]
  },
  {
   "cell_type": "markdown",
   "metadata": {},
   "source": [
    "**Избавимся от неинформативных столбцов в признаках**"
   ]
  },
  {
   "cell_type": "markdown",
   "metadata": {},
   "source": [
    "Избавимся от неинформативных столбцов в признаках, а именно: **'date_crawled', 'date_created','number_of_pictures','postal_code', 'last_seen','registration_month'**"
   ]
  },
  {
   "cell_type": "code",
   "execution_count": 16,
   "metadata": {},
   "outputs": [],
   "source": [
    "data = data.drop(['date_crawled',\n",
    "                  'date_created',\n",
    "                  'number_of_pictures',\n",
    "                  'postal_code', \n",
    "                  'last_seen',\n",
    "                 'registration_month']\n",
    "                 , axis=1)"
   ]
  },
  {
   "cell_type": "code",
   "execution_count": 17,
   "metadata": {},
   "outputs": [
    {
     "data": {
      "text/plain": [
       "Index(['price', 'vehicle_type', 'registration_year', 'gearbox', 'power',\n",
       "       'model', 'kilometer', 'fuel_type', 'brand', 'repaired'],\n",
       "      dtype='object')"
      ]
     },
     "execution_count": 17,
     "metadata": {},
     "output_type": "execute_result"
    }
   ],
   "source": [
    "data.columns"
   ]
  },
  {
   "cell_type": "markdown",
   "metadata": {},
   "source": [
    "**С помощью библиотеки seaborn построим тепловую карту для визуализации данных с пустыми ячейками.**"
   ]
  },
  {
   "cell_type": "code",
   "execution_count": 18,
   "metadata": {},
   "outputs": [
    {
     "data": {
      "image/png": "[encoded data removed]",
      "text/plain": [
       "<Figure size 432x288 with 2 Axes>"
      ]
     },
     "metadata": {
      "needs_background": "light"
     },
     "output_type": "display_data"
    }
   ],
   "source": [
    "colours = ['#993366', '#FFFF00']\n",
    "sns.heatmap(data.isnull(), cmap=sns.color_palette(colours))\n",
    "# Decorations\n",
    "plt.title('Матрица пропущенных значений набора данных', fontsize=14)\n",
    "plt.xticks(fontsize=12)\n",
    "plt.yticks(fontsize=12)\n",
    "plt.show()"
   ]
  },
  {
   "cell_type": "markdown",
   "metadata": {},
   "source": [
    "Наблюдаются пропуски в нескольких столбцах одноврменно. Необходимо будет исследовать закономерность."
   ]
  },
  {
   "cell_type": "markdown",
   "metadata": {},
   "source": [
    "**Заполним значения в столбце \"repaired\"**"
   ]
  },
  {
   "cell_type": "markdown",
   "metadata": {},
   "source": [
    "Устраним пустые значения в столбце **\"repaired\"**. Пустые значения земеним на значение 'no'. Вероятно, пользователь пропустил данный пункт при заполнение, так как машина не чинилась. Однако будем сразу заполнять не 'no', а на 0, а значения с 'yes' заменим на 1. Сделаем сразу прямое кодирование данных."
   ]
  },
  {
   "cell_type": "code",
   "execution_count": 19,
   "metadata": {},
   "outputs": [],
   "source": [
    "data['repaired'] = data['repaired'].fillna(0)"
   ]
  },
  {
   "cell_type": "code",
   "execution_count": 20,
   "metadata": {},
   "outputs": [],
   "source": [
    "data.loc[data['repaired'] == 'no','repaired'] = 0"
   ]
  },
  {
   "cell_type": "code",
   "execution_count": 21,
   "metadata": {},
   "outputs": [],
   "source": [
    "data.loc[data['repaired'] == 'yes','repaired'] = 1"
   ]
  },
  {
   "cell_type": "code",
   "execution_count": 22,
   "metadata": {},
   "outputs": [],
   "source": [
    "data['repaired'] = data['repaired'].astype('int64')"
   ]
  },
  {
   "cell_type": "markdown",
   "metadata": {},
   "source": [
    "**Заполним значения в столбце \"model\",\"vehicle_type\", \"gearbox\", \"fuel_type\"**"
   ]
  },
  {
   "cell_type": "markdown",
   "metadata": {},
   "source": [
    "Данные в рассматриваемых столбцах не возможно восстановить без дополнительных уточнений у заказачика. Можно данные пропуски заполнить как 'unknown' или 'other', так как последнее встречается в некоторых из рассматриваемых в столбцов и пользователь мог при заполнении пользователь пропустил данный пункт при заполнение. И в принципе можно считать, что  'unknown' и other' это одно и тоже, так как мы не знаем точно что имел ввиду пльзователь. Поэтому на данном моменте пока что заполним в рассматриваемых столбцах 'unknown', чтобы зафиксировать, где были пустые строки и это возможно понадобиться для исследовательского анализ. А уже в конце значения 'unknown' в столбцах  \"model\",\"vehicle_type\", \"fuel_type\" заменим на 'other'. В \"gearbox\" тоже заменим пока что на 'unknown', но так как таких пропусков очень мало, то вероятно пользователь ошибся и имел ввиду 'manual' и затем вконце заменим на данной значение."
   ]
  },
  {
   "cell_type": "code",
   "execution_count": 23,
   "metadata": {},
   "outputs": [],
   "source": [
    "data['model'] = data['model'].fillna('unknown')"
   ]
  },
  {
   "cell_type": "code",
   "execution_count": 24,
   "metadata": {},
   "outputs": [],
   "source": [
    "data['vehicle_type'] = data['vehicle_type'].fillna('unknown')"
   ]
  },
  {
   "cell_type": "code",
   "execution_count": 25,
   "metadata": {},
   "outputs": [],
   "source": [
    "data['gearbox'] = data['gearbox'].fillna('unknown')"
   ]
  },
  {
   "cell_type": "code",
   "execution_count": 26,
   "metadata": {},
   "outputs": [],
   "source": [
    "data['fuel_type'] = data['fuel_type'].fillna('unknown')"
   ]
  },
  {
   "cell_type": "markdown",
   "metadata": {},
   "source": [
    "**Аномалии в данных**"
   ]
  },
  {
   "cell_type": "markdown",
   "metadata": {},
   "source": [
    "**Столбец \"registration_year\"**"
   ]
  },
  {
   "cell_type": "markdown",
   "metadata": {},
   "source": [
    "В столбце \"registration_year\" наблюдаются аномальные года. Посмотрим сколько таких строк. Рассмотрим, к примеру, вне периода с 1900 до 2023"
   ]
  },
  {
   "cell_type": "code",
   "execution_count": 27,
   "metadata": {},
   "outputs": [
    {
     "data": {
      "text/plain": [
       "171"
      ]
     },
     "execution_count": 27,
     "metadata": {},
     "output_type": "execute_result"
    }
   ],
   "source": [
    "len(data[(data['registration_year'] > 2023) | (data['registration_year'] < 1900)])"
   ]
  },
  {
   "cell_type": "markdown",
   "metadata": {},
   "source": [
    "Строк мало. Удалим данные строки из датасета"
   ]
  },
  {
   "cell_type": "code",
   "execution_count": 28,
   "metadata": {},
   "outputs": [],
   "source": [
    "data = data[(data['registration_year'] <= 2023) | (data['registration_year'] >= 1900)]"
   ]
  },
  {
   "cell_type": "markdown",
   "metadata": {},
   "source": [
    "**Столбец \"price\"**"
   ]
  },
  {
   "cell_type": "code",
   "execution_count": 29,
   "metadata": {},
   "outputs": [
    {
     "data": {
      "text/plain": [
       "(-0.05, 15000.0)"
      ]
     },
     "execution_count": 29,
     "metadata": {},
     "output_type": "execute_result"
    },
    {
     "data": {
      "image/png": "[encoded data removed]",
      "text/plain": [
       "<Figure size 504x504 with 1 Axes>"
      ]
     },
     "metadata": {
      "needs_background": "light"
     },
     "output_type": "display_data"
    }
   ],
   "source": [
    "# построим диаграмму размаха\n",
    "plt.figure(figsize=(7,7))\n",
    "sns.boxplot(y = 'price', data = data);\n",
    "#наблюдались выбросы до 20 000. Ограничили по оси Оу до 15_000 \n",
    "plt.ylim(bottom=-0.05, top=15_000)"
   ]
  },
  {
   "cell_type": "markdown",
   "metadata": {},
   "source": [
    "Наблюдается большое количесвто выбросов. Медианное значение смещено. Необходимо устранить лишние данны."
   ]
  },
  {
   "cell_type": "code",
   "execution_count": 30,
   "metadata": {},
   "outputs": [
    {
     "data": {
      "text/plain": [
       "<AxesSubplot:>"
      ]
     },
     "execution_count": 30,
     "metadata": {},
     "output_type": "execute_result"
    },
    {
     "data": {
      "image/png": "[encoded data removed]",
      "text/plain": [
       "<Figure size 1080x432 with 1 Axes>"
      ]
     },
     "metadata": {
      "needs_background": "light"
     },
     "output_type": "display_data"
    }
   ],
   "source": [
    "data['price'].hist(bins=100, figsize=(15,6))"
   ]
  },
  {
   "cell_type": "code",
   "execution_count": 31,
   "metadata": {},
   "outputs": [
    {
     "data": {
      "text/plain": [
       "<AxesSubplot:>"
      ]
     },
     "execution_count": 31,
     "metadata": {},
     "output_type": "execute_result"
    },
    {
     "data": {
      "image/png": "[encoded data removed]",
      "text/plain": [
       "<Figure size 1080x432 with 1 Axes>"
      ]
     },
     "metadata": {
      "needs_background": "light"
     },
     "output_type": "display_data"
    }
   ],
   "source": [
    "(\n",
    "    data.loc[\n",
    "        (data['price'] > 0) & \n",
    "        (data['price'] <= 15_000),'price'].hist(\n",
    "        bins=100, \n",
    "        figsize=(15,6)\n",
    "    )\n",
    ")"
   ]
  },
  {
   "cell_type": "markdown",
   "metadata": {},
   "source": [
    "Посмотриv на строки с ценой 0"
   ]
  },
  {
   "cell_type": "code",
   "execution_count": 32,
   "metadata": {
    "scrolled": true
   },
   "outputs": [
    {
     "data": {
      "text/html": [
       "<div>\n",
       "<style scoped>\n",
       "    .dataframe tbody tr th:only-of-type {\n",
       "        vertical-align: middle;\n",
       "    }\n",
       "\n",
       "    .dataframe tbody tr th {\n",
       "        vertical-align: top;\n",
       "    }\n",
       "\n",
       "    .dataframe thead th {\n",
       "        text-align: right;\n",
       "    }\n",
       "</style>\n",
       "<table border=\"1\" class=\"dataframe\">\n",
       "  <thead>\n",
       "    <tr style=\"text-align: right;\">\n",
       "      <th></th>\n",
       "      <th>price</th>\n",
       "      <th>vehicle_type</th>\n",
       "      <th>registration_year</th>\n",
       "      <th>gearbox</th>\n",
       "      <th>power</th>\n",
       "      <th>model</th>\n",
       "      <th>kilometer</th>\n",
       "      <th>fuel_type</th>\n",
       "      <th>brand</th>\n",
       "      <th>repaired</th>\n",
       "    </tr>\n",
       "  </thead>\n",
       "  <tbody>\n",
       "    <tr>\n",
       "      <th>7</th>\n",
       "      <td>0</td>\n",
       "      <td>sedan</td>\n",
       "      <td>1980</td>\n",
       "      <td>manual</td>\n",
       "      <td>50</td>\n",
       "      <td>other</td>\n",
       "      <td>40000</td>\n",
       "      <td>petrol</td>\n",
       "      <td>volkswagen</td>\n",
       "      <td>0</td>\n",
       "    </tr>\n",
       "    <tr>\n",
       "      <th>40</th>\n",
       "      <td>0</td>\n",
       "      <td>unknown</td>\n",
       "      <td>1990</td>\n",
       "      <td>unknown</td>\n",
       "      <td>0</td>\n",
       "      <td>corsa</td>\n",
       "      <td>150000</td>\n",
       "      <td>petrol</td>\n",
       "      <td>opel</td>\n",
       "      <td>0</td>\n",
       "    </tr>\n",
       "    <tr>\n",
       "      <th>111</th>\n",
       "      <td>0</td>\n",
       "      <td>unknown</td>\n",
       "      <td>2017</td>\n",
       "      <td>manual</td>\n",
       "      <td>0</td>\n",
       "      <td>golf</td>\n",
       "      <td>5000</td>\n",
       "      <td>petrol</td>\n",
       "      <td>volkswagen</td>\n",
       "      <td>0</td>\n",
       "    </tr>\n",
       "    <tr>\n",
       "      <th>115</th>\n",
       "      <td>0</td>\n",
       "      <td>small</td>\n",
       "      <td>1999</td>\n",
       "      <td>unknown</td>\n",
       "      <td>0</td>\n",
       "      <td>unknown</td>\n",
       "      <td>5000</td>\n",
       "      <td>petrol</td>\n",
       "      <td>volkswagen</td>\n",
       "      <td>0</td>\n",
       "    </tr>\n",
       "    <tr>\n",
       "      <th>152</th>\n",
       "      <td>0</td>\n",
       "      <td>bus</td>\n",
       "      <td>2004</td>\n",
       "      <td>manual</td>\n",
       "      <td>101</td>\n",
       "      <td>meriva</td>\n",
       "      <td>150000</td>\n",
       "      <td>lpg</td>\n",
       "      <td>opel</td>\n",
       "      <td>1</td>\n",
       "    </tr>\n",
       "    <tr>\n",
       "      <th>154</th>\n",
       "      <td>0</td>\n",
       "      <td>unknown</td>\n",
       "      <td>2006</td>\n",
       "      <td>unknown</td>\n",
       "      <td>0</td>\n",
       "      <td>other</td>\n",
       "      <td>5000</td>\n",
       "      <td>unknown</td>\n",
       "      <td>fiat</td>\n",
       "      <td>0</td>\n",
       "    </tr>\n",
       "    <tr>\n",
       "      <th>231</th>\n",
       "      <td>0</td>\n",
       "      <td>wagon</td>\n",
       "      <td>2001</td>\n",
       "      <td>manual</td>\n",
       "      <td>115</td>\n",
       "      <td>mondeo</td>\n",
       "      <td>150000</td>\n",
       "      <td>unknown</td>\n",
       "      <td>ford</td>\n",
       "      <td>0</td>\n",
       "    </tr>\n",
       "    <tr>\n",
       "      <th>334</th>\n",
       "      <td>0</td>\n",
       "      <td>unknown</td>\n",
       "      <td>2005</td>\n",
       "      <td>unknown</td>\n",
       "      <td>0</td>\n",
       "      <td>polo</td>\n",
       "      <td>150000</td>\n",
       "      <td>petrol</td>\n",
       "      <td>volkswagen</td>\n",
       "      <td>0</td>\n",
       "    </tr>\n",
       "    <tr>\n",
       "      <th>415</th>\n",
       "      <td>0</td>\n",
       "      <td>unknown</td>\n",
       "      <td>1985</td>\n",
       "      <td>unknown</td>\n",
       "      <td>0</td>\n",
       "      <td>3er</td>\n",
       "      <td>150000</td>\n",
       "      <td>unknown</td>\n",
       "      <td>bmw</td>\n",
       "      <td>0</td>\n",
       "    </tr>\n",
       "    <tr>\n",
       "      <th>466</th>\n",
       "      <td>0</td>\n",
       "      <td>unknown</td>\n",
       "      <td>2016</td>\n",
       "      <td>auto</td>\n",
       "      <td>197</td>\n",
       "      <td>3er</td>\n",
       "      <td>150000</td>\n",
       "      <td>gasoline</td>\n",
       "      <td>bmw</td>\n",
       "      <td>0</td>\n",
       "    </tr>\n",
       "  </tbody>\n",
       "</table>\n",
       "</div>"
      ],
      "text/plain": [
       "     price vehicle_type  registration_year  gearbox  power    model  \\\n",
       "7        0        sedan               1980   manual     50    other   \n",
       "40       0      unknown               1990  unknown      0    corsa   \n",
       "111      0      unknown               2017   manual      0     golf   \n",
       "115      0        small               1999  unknown      0  unknown   \n",
       "152      0          bus               2004   manual    101   meriva   \n",
       "154      0      unknown               2006  unknown      0    other   \n",
       "231      0        wagon               2001   manual    115   mondeo   \n",
       "334      0      unknown               2005  unknown      0     polo   \n",
       "415      0      unknown               1985  unknown      0      3er   \n",
       "466      0      unknown               2016     auto    197      3er   \n",
       "\n",
       "     kilometer fuel_type       brand  repaired  \n",
       "7        40000    petrol  volkswagen         0  \n",
       "40      150000    petrol        opel         0  \n",
       "111       5000    petrol  volkswagen         0  \n",
       "115       5000    petrol  volkswagen         0  \n",
       "152     150000       lpg        opel         1  \n",
       "154       5000   unknown        fiat         0  \n",
       "231     150000   unknown        ford         0  \n",
       "334     150000    petrol  volkswagen         0  \n",
       "415     150000   unknown         bmw         0  \n",
       "466     150000  gasoline         bmw         0  "
      ]
     },
     "execution_count": 32,
     "metadata": {},
     "output_type": "execute_result"
    }
   ],
   "source": [
    "data[data['price'] == 0].head(10)"
   ]
  },
  {
   "cell_type": "markdown",
   "metadata": {},
   "source": [
    "Посчитаем строки с ценой 0"
   ]
  },
  {
   "cell_type": "code",
   "execution_count": 33,
   "metadata": {},
   "outputs": [
    {
     "name": "stdout",
     "output_type": "stream",
     "text": [
      "Кол-во строк: 10772\n",
      "Процент строк: 3.0398035923412303 %\n"
     ]
    }
   ],
   "source": [
    "print('Кол-во строк:',len(data[data['price'] == 0]))\n",
    "print('Процент строк:',(len(data[data['price'] == 0])/len(data))*100, '%')"
   ]
  },
  {
   "cell_type": "markdown",
   "metadata": {},
   "source": [
    "Данные с ценой в 0 занимают всего около 3%. Поэтому данные можно  удалить, оставить или сделать медианную замену. Предлагаю удалить."
   ]
  },
  {
   "cell_type": "code",
   "execution_count": 34,
   "metadata": {},
   "outputs": [
    {
     "name": "stdout",
     "output_type": "stream",
     "text": [
      "Кол-во строк: 14881\n",
      "Процент строк: 4.19934248585498 %\n"
     ]
    }
   ],
   "source": [
    "print('Кол-во строк:',len(data[data['price'] > 15_000]))\n",
    "print('Процент строк:',(len(data[data['price'] > 15_000])/len(data))*100, '%')"
   ]
  },
  {
   "cell_type": "markdown",
   "metadata": {},
   "source": [
    "Данных выше 15000 тоже около 4%. Предлагаю машины выше данной цены удалить из датасета"
   ]
  },
  {
   "cell_type": "code",
   "execution_count": 35,
   "metadata": {},
   "outputs": [],
   "source": [
    "data = data[(data['price'] > 0) & (data['price'] <= 15_000)]"
   ]
  },
  {
   "cell_type": "markdown",
   "metadata": {},
   "source": [
    "**Столбец \"power\"**"
   ]
  },
  {
   "cell_type": "markdown",
   "metadata": {},
   "source": [
    "В столбце наблдаются аномалии по мощности автомобилей. Присутсвуют и машины с 0 и  12012 л.с. и далее."
   ]
  },
  {
   "cell_type": "code",
   "execution_count": 36,
   "metadata": {
    "scrolled": false
   },
   "outputs": [
    {
     "data": {
      "text/plain": [
       "(-0.05, 350.0)"
      ]
     },
     "execution_count": 36,
     "metadata": {},
     "output_type": "execute_result"
    },
    {
     "data": {
      "image/png": "[encoded data removed]",
      "text/plain": [
       "<Figure size 504x504 with 1 Axes>"
      ]
     },
     "metadata": {
      "needs_background": "light"
     },
     "output_type": "display_data"
    }
   ],
   "source": [
    "# построим диаграмму размаха\n",
    "plt.figure(figsize=(7,7))\n",
    "sns.boxplot(y = 'power', data = data);\n",
    "#наблюдались выбросы до 20 000 л.с. Ограничили по оси Оу до 350 \n",
    "plt.ylim(bottom=-0.05, top=350)"
   ]
  },
  {
   "cell_type": "code",
   "execution_count": 37,
   "metadata": {},
   "outputs": [
    {
     "data": {
      "text/plain": [
       "<AxesSubplot:>"
      ]
     },
     "execution_count": 37,
     "metadata": {},
     "output_type": "execute_result"
    },
    {
     "data": {
      "image/png": "[encoded data removed]",
      "text/plain": [
       "<Figure size 1080x432 with 1 Axes>"
      ]
     },
     "metadata": {
      "needs_background": "light"
     },
     "output_type": "display_data"
    }
   ],
   "source": [
    "data['power'].hist(bins=100, figsize=(15,6))"
   ]
  },
  {
   "cell_type": "code",
   "execution_count": 38,
   "metadata": {},
   "outputs": [
    {
     "data": {
      "text/plain": [
       "<AxesSubplot:>"
      ]
     },
     "execution_count": 38,
     "metadata": {},
     "output_type": "execute_result"
    },
    {
     "data": {
      "image/png": "[encoded data removed]",
      "text/plain": [
       "<Figure size 1080x432 with 1 Axes>"
      ]
     },
     "metadata": {
      "needs_background": "light"
     },
     "output_type": "display_data"
    }
   ],
   "source": [
    "(\n",
    "    data.loc[\n",
    "        (data['power'] >= 0) & \n",
    "        (data['power'] <= 350),'power'].hist(\n",
    "        bins=100, \n",
    "        figsize=(15,6)\n",
    "    )\n",
    ")"
   ]
  },
  {
   "cell_type": "markdown",
   "metadata": {},
   "source": [
    "На самом деле машины могут быть и около 3000 л.с., но это уже специалные грузовые и я не до конца знаю продает ли данная компания такие машины. Выше данных показаний маловеротно, что машины есть и они здесь представлены. Да и выброс по ним большой и может повлиять на оценку.\n",
    "У легковых же на данный момент максимальная мощность ориентировочно 1600 л.с.\n",
    "Поэтому посчитаем сколько машин у нас имеют в датасете силу 0 и сколько которых выше пусть будет 350 л.с. и сделаем выводы."
   ]
  },
  {
   "cell_type": "markdown",
   "metadata": {},
   "source": [
    "Посчитаем строки с лошадиной силой 0"
   ]
  },
  {
   "cell_type": "code",
   "execution_count": 39,
   "metadata": {},
   "outputs": [
    {
     "name": "stdout",
     "output_type": "stream",
     "text": [
      "Кол-во строк: 35924\n",
      "Процент строк: 10.92871571466816 %\n"
     ]
    }
   ],
   "source": [
    "print('Кол-во строк:',len(data[data['power'] == 0]))\n",
    "print('Процент строк:',(len(data[data['power'] == 0])/len(data))*100, '%')"
   ]
  },
  {
   "cell_type": "markdown",
   "metadata": {},
   "source": [
    "Посчитаем строки с лошадиной силой выше 600"
   ]
  },
  {
   "cell_type": "code",
   "execution_count": 40,
   "metadata": {},
   "outputs": [
    {
     "name": "stdout",
     "output_type": "stream",
     "text": [
      "Кол-во строк: 808\n",
      "Процент строк: 0.2458078804546229 %\n"
     ]
    }
   ],
   "source": [
    "print('Кол-во строк:',len(data[data['power'] > 350 ]))\n",
    "print('Процент строк:',(len(data[data['power'] > 350 ])/len(data))*100, '%')"
   ]
  },
  {
   "cell_type": "markdown",
   "metadata": {},
   "source": [
    "строк с значением лощадиной силы 0 практически 11%, что достаточно много. Однако все ранво предлагается удалить, чтобы избавиться от аномальных выбросов. Диапазон оставим в пределах 15 л.с. и 350 л.с."
   ]
  },
  {
   "cell_type": "code",
   "execution_count": 41,
   "metadata": {},
   "outputs": [],
   "source": [
    "data = data[(data['power'] >= 15) & (data['power'] <= 350)]"
   ]
  },
  {
   "cell_type": "code",
   "execution_count": 42,
   "metadata": {},
   "outputs": [
    {
     "name": "stdout",
     "output_type": "stream",
     "text": [
      "Процент потерянных строк вего датасета строк: 17.688624004921422 %\n"
     ]
    }
   ],
   "source": [
    "print('Процент потерянных строк вего датасета строк:',100 - (len(data)/all_rows_data)*100, '%')"
   ]
  },
  {
   "cell_type": "markdown",
   "metadata": {},
   "source": [
    "**Устраним строки в которых значения пользователем вероятно пропущены сразу в нескольких столбцах**"
   ]
  },
  {
   "cell_type": "markdown",
   "metadata": {},
   "source": [
    "Данные значения нам не особо полезны, так неизвестных данных в них наблюдается много"
   ]
  },
  {
   "cell_type": "code",
   "execution_count": 43,
   "metadata": {},
   "outputs": [
    {
     "name": "stdout",
     "output_type": "stream",
     "text": [
      "Кол-во строк: 198\n",
      "Процент строк: 0.06788121473090926 %\n"
     ]
    }
   ],
   "source": [
    "a = (\n",
    "    len(data[(data['fuel_type'] == 'unknown') &\n",
    "             (data['model'] == 'unknown') & \n",
    "             (data['gearbox'] == 'unknown') & \n",
    "             (data['vehicle_type'] == 'unknown')\n",
    "            ]\n",
    "       )\n",
    ")\n",
    "\n",
    "print('Кол-во строк:',a)\n",
    "print('Процент строк:',(a/len(data))*100, '%')"
   ]
  },
  {
   "cell_type": "code",
   "execution_count": 44,
   "metadata": {},
   "outputs": [
    {
     "data": {
      "text/plain": [
       "291686"
      ]
     },
     "execution_count": 44,
     "metadata": {},
     "output_type": "execute_result"
    }
   ],
   "source": [
    "len(data)"
   ]
  },
  {
   "cell_type": "markdown",
   "metadata": {},
   "source": [
    "Удалим строки"
   ]
  },
  {
   "cell_type": "code",
   "execution_count": 45,
   "metadata": {},
   "outputs": [],
   "source": [
    "data = (\n",
    "    data[(data['fuel_type'] != 'unknown') |\n",
    "         (data['model'] != 'unknown') | \n",
    "         (data['gearbox'] != 'unknown') | \n",
    "         (data['vehicle_type'] != 'unknown')\n",
    "        ]\n",
    ")"
   ]
  },
  {
   "cell_type": "code",
   "execution_count": 46,
   "metadata": {},
   "outputs": [
    {
     "data": {
      "text/plain": [
       "291488"
      ]
     },
     "execution_count": 46,
     "metadata": {},
     "output_type": "execute_result"
    }
   ],
   "source": [
    "len(data)"
   ]
  },
  {
   "cell_type": "code",
   "execution_count": 47,
   "metadata": {},
   "outputs": [
    {
     "name": "stdout",
     "output_type": "stream",
     "text": [
      "Процент потерянных строк всего датасета  по итогу обработки данных: 17.74449796680861 %\n"
     ]
    }
   ],
   "source": [
    "print('Процент потерянных строк всего датасета  по итогу обработки данных:',\n",
    "      100 - (len(data)/all_rows_data)*100, '%')"
   ]
  },
  {
   "cell_type": "markdown",
   "metadata": {},
   "source": [
    "Выполним замену в столбцах \"model\",\"vehicle_type\", \"fuel_type\" c 'unknown' на 'other'"
   ]
  },
  {
   "cell_type": "code",
   "execution_count": 48,
   "metadata": {},
   "outputs": [],
   "source": [
    "data.loc[data['model'] == 'unknown','model'] = 'other'\n",
    "data.loc[data['vehicle_type'] == 'unknown','vehicle_type'] = 'other'\n",
    "data.loc[data['fuel_type'] == 'unknown','fuel_type'] = 'other'"
   ]
  },
  {
   "cell_type": "markdown",
   "metadata": {},
   "source": [
    "Выполним замену в столбц \"gearbox\" c 'unknown' на 'manual'"
   ]
  },
  {
   "cell_type": "code",
   "execution_count": 49,
   "metadata": {},
   "outputs": [],
   "source": [
    "data.loc[data['gearbox'] == 'unknown','gearbox'] = 'manual'"
   ]
  },
  {
   "cell_type": "code",
   "execution_count": 50,
   "metadata": {},
   "outputs": [
    {
     "name": "stdout",
     "output_type": "stream",
     "text": [
      "<class 'pandas.core.frame.DataFrame'>\n",
      "Int64Index: 291488 entries, 2 to 354368\n",
      "Data columns (total 10 columns):\n",
      " #   Column             Non-Null Count   Dtype \n",
      "---  ------             --------------   ----- \n",
      " 0   price              291488 non-null  int64 \n",
      " 1   vehicle_type       291488 non-null  object\n",
      " 2   registration_year  291488 non-null  int64 \n",
      " 3   gearbox            291488 non-null  object\n",
      " 4   power              291488 non-null  int64 \n",
      " 5   model              291488 non-null  object\n",
      " 6   kilometer          291488 non-null  int64 \n",
      " 7   fuel_type          291488 non-null  object\n",
      " 8   brand              291488 non-null  object\n",
      " 9   repaired           291488 non-null  int64 \n",
      "dtypes: int64(5), object(5)\n",
      "memory usage: 24.5+ MB\n"
     ]
    }
   ],
   "source": [
    "data.info()"
   ]
  },
  {
   "cell_type": "markdown",
   "metadata": {},
   "source": [
    "### Вывод по пункту\n",
    "\n",
    "\n"
   ]
  },
  {
   "cell_type": "markdown",
   "metadata": {},
   "source": [
    "В данном шаге была выполнена подготовка данных к исследованиям.\n",
    "В ходы подготовки было сделано:\n",
    "1. перевод названий столбцов к нижнему регистру\n",
    "2. посчитано кол-во пропущенных строк и их процент от всех строк \n",
    "\n",
    "| Наименование столбца  | Кол-во пустых строк | Процент пустых строк |\n",
    "| :---               | :----             | :---    |\n",
    "| Repaired         | 71154              | 20.079070 |\n",
    "| VehicleType       | 37490              | 10.579368 |\n",
    "| FuelType             | 32895              | 9.282697 |\n",
    "| Gearbox    | 19833               | 5.596709 |\n",
    "| Model               | 19705                 | 5.560588 |\n",
    "\n",
    "3. пустые значения в столбцах выше было принято решение заменить в Repaired на 0, 'yes' заменили на 1. В 'Gearbox' на 'manual'. в остальных на 'other'. Пропуски наблюдались только в категорийных признаках.\n",
    "4. Избавились от 4 уникальных дупликатов.\n",
    "5. Избавились от неинформативных столбцов в признаках, а именно: 'date_crawled', 'date_created','number_of_pictures','postal_code', 'last_seen', 'registration_month'\n",
    "6. Данные очистили от выбросов в 'power', 'price'.\n",
    "7. Также удалил строки в которых пропущенные значения наблюдались сразу в нескольких столбцах\n",
    "\n",
    " \n",
    "Процент потерянных строк всего датасета  по итогу обработки данных: 17.74449796680861 %\n",
    "Стало \n",
    "- Строк: 291488\n",
    "- Столбцов: 10"
   ]
  },
  {
   "cell_type": "markdown",
   "metadata": {},
   "source": [
    "## Обучение моделей"
   ]
  },
  {
   "cell_type": "markdown",
   "metadata": {},
   "source": [
    " В рамках данного задания обучим модели градиентного бустинга LightGBM и Catboost, а также  модель Линейная регрессия и Ridge "
   ]
  },
  {
   "cell_type": "markdown",
   "metadata": {},
   "source": [
    "### Разбиение данных"
   ]
  },
  {
   "cell_type": "markdown",
   "metadata": {},
   "source": [
    "Разделим датасет на тренировочную и тестовую выборки"
   ]
  },
  {
   "cell_type": "code",
   "execution_count": 51,
   "metadata": {},
   "outputs": [],
   "source": [
    "features = data.drop(['price'], axis=1)\n",
    "target = data['price']\n",
    "\n",
    "X_train, X_test, y_train, y_test = train_test_split(\n",
    "    features, target, test_size=0.25, random_state=RANDOM_STATE\n",
    ")"
   ]
  },
  {
   "cell_type": "markdown",
   "metadata": {},
   "source": [
    "### Масштабирование данных"
   ]
  },
  {
   "cell_type": "code",
   "execution_count": 52,
   "metadata": {},
   "outputs": [
    {
     "name": "stdout",
     "output_type": "stream",
     "text": [
      "['registration_year', 'power', 'kilometer', 'repaired']\n"
     ]
    }
   ],
   "source": [
    "numeric = X_train.select_dtypes(exclude='object').columns.to_list()\n",
    "print(numeric)"
   ]
  },
  {
   "cell_type": "code",
   "execution_count": 53,
   "metadata": {},
   "outputs": [],
   "source": [
    "scaler = StandardScaler()\n",
    "scaler.fit(X_train[numeric])\n",
    "X_train[numeric] = scaler.transform(X_train[numeric])\n",
    "X_test[numeric] = scaler.transform(X_test[numeric])"
   ]
  },
  {
   "cell_type": "code",
   "execution_count": 54,
   "metadata": {},
   "outputs": [
    {
     "data": {
      "text/html": [
       "<div>\n",
       "<style scoped>\n",
       "    .dataframe tbody tr th:only-of-type {\n",
       "        vertical-align: middle;\n",
       "    }\n",
       "\n",
       "    .dataframe tbody tr th {\n",
       "        vertical-align: top;\n",
       "    }\n",
       "\n",
       "    .dataframe thead th {\n",
       "        text-align: right;\n",
       "    }\n",
       "</style>\n",
       "<table border=\"1\" class=\"dataframe\">\n",
       "  <thead>\n",
       "    <tr style=\"text-align: right;\">\n",
       "      <th></th>\n",
       "      <th>vehicle_type</th>\n",
       "      <th>registration_year</th>\n",
       "      <th>gearbox</th>\n",
       "      <th>power</th>\n",
       "      <th>model</th>\n",
       "      <th>kilometer</th>\n",
       "      <th>fuel_type</th>\n",
       "      <th>brand</th>\n",
       "      <th>repaired</th>\n",
       "    </tr>\n",
       "  </thead>\n",
       "  <tbody>\n",
       "    <tr>\n",
       "      <th>126578</th>\n",
       "      <td>other</td>\n",
       "      <td>0.456565</td>\n",
       "      <td>manual</td>\n",
       "      <td>-0.095822</td>\n",
       "      <td>rio</td>\n",
       "      <td>0.560571</td>\n",
       "      <td>petrol</td>\n",
       "      <td>kia</td>\n",
       "      <td>-0.335045</td>\n",
       "    </tr>\n",
       "    <tr>\n",
       "      <th>164585</th>\n",
       "      <td>small</td>\n",
       "      <td>0.028541</td>\n",
       "      <td>manual</td>\n",
       "      <td>-1.104482</td>\n",
       "      <td>getz</td>\n",
       "      <td>-0.151677</td>\n",
       "      <td>petrol</td>\n",
       "      <td>hyundai</td>\n",
       "      <td>2.984672</td>\n",
       "    </tr>\n",
       "    <tr>\n",
       "      <th>352112</th>\n",
       "      <td>small</td>\n",
       "      <td>-0.256808</td>\n",
       "      <td>manual</td>\n",
       "      <td>-0.842230</td>\n",
       "      <td>golf</td>\n",
       "      <td>0.560571</td>\n",
       "      <td>petrol</td>\n",
       "      <td>volkswagen</td>\n",
       "      <td>-0.335045</td>\n",
       "    </tr>\n",
       "    <tr>\n",
       "      <th>165970</th>\n",
       "      <td>small</td>\n",
       "      <td>-0.328145</td>\n",
       "      <td>manual</td>\n",
       "      <td>-1.427254</td>\n",
       "      <td>polo</td>\n",
       "      <td>0.560571</td>\n",
       "      <td>petrol</td>\n",
       "      <td>volkswagen</td>\n",
       "      <td>-0.335045</td>\n",
       "    </tr>\n",
       "    <tr>\n",
       "      <th>31176</th>\n",
       "      <td>wagon</td>\n",
       "      <td>-0.078464</td>\n",
       "      <td>manual</td>\n",
       "      <td>0.771626</td>\n",
       "      <td>a6</td>\n",
       "      <td>0.560571</td>\n",
       "      <td>gasoline</td>\n",
       "      <td>audi</td>\n",
       "      <td>-0.335045</td>\n",
       "    </tr>\n",
       "  </tbody>\n",
       "</table>\n",
       "</div>"
      ],
      "text/plain": [
       "       vehicle_type  registration_year gearbox     power model  kilometer  \\\n",
       "126578        other           0.456565  manual -0.095822   rio   0.560571   \n",
       "164585        small           0.028541  manual -1.104482  getz  -0.151677   \n",
       "352112        small          -0.256808  manual -0.842230  golf   0.560571   \n",
       "165970        small          -0.328145  manual -1.427254  polo   0.560571   \n",
       "31176         wagon          -0.078464  manual  0.771626    a6   0.560571   \n",
       "\n",
       "       fuel_type       brand  repaired  \n",
       "126578    petrol         kia -0.335045  \n",
       "164585    petrol     hyundai  2.984672  \n",
       "352112    petrol  volkswagen -0.335045  \n",
       "165970    petrol  volkswagen -0.335045  \n",
       "31176   gasoline        audi -0.335045  "
      ]
     },
     "execution_count": 54,
     "metadata": {},
     "output_type": "execute_result"
    }
   ],
   "source": [
    "X_train.head()"
   ]
  },
  {
   "cell_type": "code",
   "execution_count": 55,
   "metadata": {},
   "outputs": [
    {
     "data": {
      "text/html": [
       "<div>\n",
       "<style scoped>\n",
       "    .dataframe tbody tr th:only-of-type {\n",
       "        vertical-align: middle;\n",
       "    }\n",
       "\n",
       "    .dataframe tbody tr th {\n",
       "        vertical-align: top;\n",
       "    }\n",
       "\n",
       "    .dataframe thead th {\n",
       "        text-align: right;\n",
       "    }\n",
       "</style>\n",
       "<table border=\"1\" class=\"dataframe\">\n",
       "  <thead>\n",
       "    <tr style=\"text-align: right;\">\n",
       "      <th></th>\n",
       "      <th>vehicle_type</th>\n",
       "      <th>registration_year</th>\n",
       "      <th>gearbox</th>\n",
       "      <th>power</th>\n",
       "      <th>model</th>\n",
       "      <th>kilometer</th>\n",
       "      <th>fuel_type</th>\n",
       "      <th>brand</th>\n",
       "      <th>repaired</th>\n",
       "    </tr>\n",
       "  </thead>\n",
       "  <tbody>\n",
       "    <tr>\n",
       "      <th>154649</th>\n",
       "      <td>wagon</td>\n",
       "      <td>-0.221139</td>\n",
       "      <td>manual</td>\n",
       "      <td>-0.015129</td>\n",
       "      <td>vectra</td>\n",
       "      <td>0.560571</td>\n",
       "      <td>petrol</td>\n",
       "      <td>opel</td>\n",
       "      <td>-0.335045</td>\n",
       "    </tr>\n",
       "    <tr>\n",
       "      <th>185738</th>\n",
       "      <td>sedan</td>\n",
       "      <td>-0.256808</td>\n",
       "      <td>manual</td>\n",
       "      <td>-0.539632</td>\n",
       "      <td>golf</td>\n",
       "      <td>-0.151677</td>\n",
       "      <td>petrol</td>\n",
       "      <td>volkswagen</td>\n",
       "      <td>-0.335045</td>\n",
       "    </tr>\n",
       "    <tr>\n",
       "      <th>325359</th>\n",
       "      <td>small</td>\n",
       "      <td>0.206885</td>\n",
       "      <td>manual</td>\n",
       "      <td>-0.539632</td>\n",
       "      <td>corsa</td>\n",
       "      <td>0.560571</td>\n",
       "      <td>petrol</td>\n",
       "      <td>opel</td>\n",
       "      <td>-0.335045</td>\n",
       "    </tr>\n",
       "    <tr>\n",
       "      <th>159749</th>\n",
       "      <td>sedan</td>\n",
       "      <td>-0.078464</td>\n",
       "      <td>manual</td>\n",
       "      <td>-0.539632</td>\n",
       "      <td>almera</td>\n",
       "      <td>-0.151677</td>\n",
       "      <td>petrol</td>\n",
       "      <td>nissan</td>\n",
       "      <td>-0.335045</td>\n",
       "    </tr>\n",
       "    <tr>\n",
       "      <th>271432</th>\n",
       "      <td>sedan</td>\n",
       "      <td>0.135547</td>\n",
       "      <td>auto</td>\n",
       "      <td>2.889814</td>\n",
       "      <td>a8</td>\n",
       "      <td>-0.151677</td>\n",
       "      <td>petrol</td>\n",
       "      <td>audi</td>\n",
       "      <td>-0.335045</td>\n",
       "    </tr>\n",
       "  </tbody>\n",
       "</table>\n",
       "</div>"
      ],
      "text/plain": [
       "       vehicle_type  registration_year gearbox     power   model  kilometer  \\\n",
       "154649        wagon          -0.221139  manual -0.015129  vectra   0.560571   \n",
       "185738        sedan          -0.256808  manual -0.539632    golf  -0.151677   \n",
       "325359        small           0.206885  manual -0.539632   corsa   0.560571   \n",
       "159749        sedan          -0.078464  manual -0.539632  almera  -0.151677   \n",
       "271432        sedan           0.135547    auto  2.889814      a8  -0.151677   \n",
       "\n",
       "       fuel_type       brand  repaired  \n",
       "154649    petrol        opel -0.335045  \n",
       "185738    petrol  volkswagen -0.335045  \n",
       "325359    petrol        opel -0.335045  \n",
       "159749    petrol      nissan -0.335045  \n",
       "271432    petrol        audi -0.335045  "
      ]
     },
     "execution_count": 55,
     "metadata": {},
     "output_type": "execute_result"
    }
   ],
   "source": [
    "X_test.head()"
   ]
  },
  {
   "cell_type": "markdown",
   "metadata": {},
   "source": [
    "### Кодирование данных (OHE)"
   ]
  },
  {
   "cell_type": "markdown",
   "metadata": {},
   "source": [
    "Преобразовывание категориальных признаков в численные с техникой прямого кодирования, или отображения (англ. One-Hot Encoding, OHE). Данные необходимо кодировать для линейной регрессии и Ridge .  Для CatBoost, LightGBM нет необходимости делать кодирование, так как данный этап встроен в библиотеку."
   ]
  },
  {
   "cell_type": "code",
   "execution_count": 56,
   "metadata": {},
   "outputs": [],
   "source": [
    "X_train_ohe = X_train.copy()\n",
    "X_test_ohe = X_test.copy()"
   ]
  },
  {
   "cell_type": "code",
   "execution_count": 57,
   "metadata": {},
   "outputs": [
    {
     "name": "stdout",
     "output_type": "stream",
     "text": [
      "['vehicle_type', 'gearbox', 'model', 'fuel_type', 'brand']\n"
     ]
    }
   ],
   "source": [
    "#категориальные признаки для OHE \n",
    "ohe_features_columns = X_train_ohe.select_dtypes(include='object').columns.to_list()\n",
    "print(ohe_features_columns)"
   ]
  },
  {
   "cell_type": "code",
   "execution_count": 58,
   "metadata": {},
   "outputs": [
    {
     "data": {
      "text/html": [
       "<div>\n",
       "<style scoped>\n",
       "    .dataframe tbody tr th:only-of-type {\n",
       "        vertical-align: middle;\n",
       "    }\n",
       "\n",
       "    .dataframe tbody tr th {\n",
       "        vertical-align: top;\n",
       "    }\n",
       "\n",
       "    .dataframe thead th {\n",
       "        text-align: right;\n",
       "    }\n",
       "</style>\n",
       "<table border=\"1\" class=\"dataframe\">\n",
       "  <thead>\n",
       "    <tr style=\"text-align: right;\">\n",
       "      <th></th>\n",
       "      <th>vehicle_type_convertible</th>\n",
       "      <th>vehicle_type_coupe</th>\n",
       "      <th>vehicle_type_other</th>\n",
       "      <th>vehicle_type_sedan</th>\n",
       "      <th>vehicle_type_small</th>\n",
       "      <th>vehicle_type_suv</th>\n",
       "      <th>vehicle_type_wagon</th>\n",
       "      <th>gearbox_manual</th>\n",
       "      <th>model_145</th>\n",
       "      <th>model_147</th>\n",
       "      <th>model_156</th>\n",
       "      <th>model_159</th>\n",
       "      <th>model_1_reihe</th>\n",
       "      <th>model_1er</th>\n",
       "      <th>model_200</th>\n",
       "      <th>model_2_reihe</th>\n",
       "      <th>model_300c</th>\n",
       "      <th>model_3_reihe</th>\n",
       "      <th>model_3er</th>\n",
       "      <th>model_4_reihe</th>\n",
       "      <th>model_500</th>\n",
       "      <th>model_5_reihe</th>\n",
       "      <th>model_5er</th>\n",
       "      <th>model_601</th>\n",
       "      <th>model_6_reihe</th>\n",
       "      <th>model_6er</th>\n",
       "      <th>model_7er</th>\n",
       "      <th>model_80</th>\n",
       "      <th>model_850</th>\n",
       "      <th>model_90</th>\n",
       "      <th>model_900</th>\n",
       "      <th>model_9000</th>\n",
       "      <th>model_911</th>\n",
       "      <th>model_a1</th>\n",
       "      <th>model_a2</th>\n",
       "      <th>model_a3</th>\n",
       "      <th>model_a4</th>\n",
       "      <th>model_a5</th>\n",
       "      <th>model_a6</th>\n",
       "      <th>model_a8</th>\n",
       "      <th>model_a_klasse</th>\n",
       "      <th>model_accord</th>\n",
       "      <th>model_agila</th>\n",
       "      <th>model_alhambra</th>\n",
       "      <th>model_almera</th>\n",
       "      <th>model_altea</th>\n",
       "      <th>model_amarok</th>\n",
       "      <th>model_antara</th>\n",
       "      <th>model_arosa</th>\n",
       "      <th>model_astra</th>\n",
       "      <th>model_auris</th>\n",
       "      <th>model_avensis</th>\n",
       "      <th>model_aveo</th>\n",
       "      <th>model_aygo</th>\n",
       "      <th>model_b_klasse</th>\n",
       "      <th>model_b_max</th>\n",
       "      <th>model_beetle</th>\n",
       "      <th>model_berlingo</th>\n",
       "      <th>model_bora</th>\n",
       "      <th>model_boxster</th>\n",
       "      <th>model_bravo</th>\n",
       "      <th>model_c1</th>\n",
       "      <th>model_c2</th>\n",
       "      <th>model_c3</th>\n",
       "      <th>model_c4</th>\n",
       "      <th>model_c5</th>\n",
       "      <th>model_c_klasse</th>\n",
       "      <th>model_c_max</th>\n",
       "      <th>model_c_reihe</th>\n",
       "      <th>model_caddy</th>\n",
       "      <th>model_calibra</th>\n",
       "      <th>model_captiva</th>\n",
       "      <th>model_carisma</th>\n",
       "      <th>model_carnival</th>\n",
       "      <th>model_cayenne</th>\n",
       "      <th>model_cc</th>\n",
       "      <th>model_ceed</th>\n",
       "      <th>model_charade</th>\n",
       "      <th>model_cherokee</th>\n",
       "      <th>model_citigo</th>\n",
       "      <th>model_civic</th>\n",
       "      <th>model_cl</th>\n",
       "      <th>model_clio</th>\n",
       "      <th>model_clk</th>\n",
       "      <th>model_clubman</th>\n",
       "      <th>model_colt</th>\n",
       "      <th>model_combo</th>\n",
       "      <th>model_cooper</th>\n",
       "      <th>model_cordoba</th>\n",
       "      <th>model_corolla</th>\n",
       "      <th>model_corsa</th>\n",
       "      <th>model_cr_reihe</th>\n",
       "      <th>model_croma</th>\n",
       "      <th>model_crossfire</th>\n",
       "      <th>model_cuore</th>\n",
       "      <th>model_cx_reihe</th>\n",
       "      <th>model_defender</th>\n",
       "      <th>model_delta</th>\n",
       "      <th>model_discovery</th>\n",
       "      <th>model_doblo</th>\n",
       "      <th>model_ducato</th>\n",
       "      <th>model_duster</th>\n",
       "      <th>model_e_klasse</th>\n",
       "      <th>model_elefantino</th>\n",
       "      <th>model_eos</th>\n",
       "      <th>model_escort</th>\n",
       "      <th>model_espace</th>\n",
       "      <th>model_exeo</th>\n",
       "      <th>model_fabia</th>\n",
       "      <th>model_fiesta</th>\n",
       "      <th>model_focus</th>\n",
       "      <th>model_forester</th>\n",
       "      <th>model_forfour</th>\n",
       "      <th>model_fortwo</th>\n",
       "      <th>model_fox</th>\n",
       "      <th>model_freelander</th>\n",
       "      <th>model_fusion</th>\n",
       "      <th>model_g_klasse</th>\n",
       "      <th>model_galant</th>\n",
       "      <th>model_galaxy</th>\n",
       "      <th>model_getz</th>\n",
       "      <th>model_gl</th>\n",
       "      <th>model_glk</th>\n",
       "      <th>model_golf</th>\n",
       "      <th>model_grand</th>\n",
       "      <th>model_i3</th>\n",
       "      <th>model_i_reihe</th>\n",
       "      <th>model_ibiza</th>\n",
       "      <th>model_impreza</th>\n",
       "      <th>model_insignia</th>\n",
       "      <th>model_jazz</th>\n",
       "      <th>model_jetta</th>\n",
       "      <th>model_jimny</th>\n",
       "      <th>model_juke</th>\n",
       "      <th>model_justy</th>\n",
       "      <th>model_ka</th>\n",
       "      <th>model_kadett</th>\n",
       "      <th>model_kaefer</th>\n",
       "      <th>model_kalina</th>\n",
       "      <th>model_kalos</th>\n",
       "      <th>model_kangoo</th>\n",
       "      <th>model_kappa</th>\n",
       "      <th>model_kuga</th>\n",
       "      <th>model_laguna</th>\n",
       "      <th>model_lancer</th>\n",
       "      <th>model_lanos</th>\n",
       "      <th>model_legacy</th>\n",
       "      <th>model_leon</th>\n",
       "      <th>model_lodgy</th>\n",
       "      <th>model_logan</th>\n",
       "      <th>model_lupo</th>\n",
       "      <th>model_lybra</th>\n",
       "      <th>model_m_klasse</th>\n",
       "      <th>model_m_reihe</th>\n",
       "      <th>model_materia</th>\n",
       "      <th>model_matiz</th>\n",
       "      <th>model_megane</th>\n",
       "      <th>model_meriva</th>\n",
       "      <th>model_micra</th>\n",
       "      <th>model_mii</th>\n",
       "      <th>model_modus</th>\n",
       "      <th>model_mondeo</th>\n",
       "      <th>model_move</th>\n",
       "      <th>model_musa</th>\n",
       "      <th>model_mustang</th>\n",
       "      <th>model_mx_reihe</th>\n",
       "      <th>model_navara</th>\n",
       "      <th>model_niva</th>\n",
       "      <th>model_note</th>\n",
       "      <th>model_nubira</th>\n",
       "      <th>model_octavia</th>\n",
       "      <th>model_omega</th>\n",
       "      <th>model_one</th>\n",
       "      <th>model_other</th>\n",
       "      <th>model_outlander</th>\n",
       "      <th>model_pajero</th>\n",
       "      <th>model_panda</th>\n",
       "      <th>model_passat</th>\n",
       "      <th>model_phaeton</th>\n",
       "      <th>model_picanto</th>\n",
       "      <th>model_polo</th>\n",
       "      <th>model_primera</th>\n",
       "      <th>model_ptcruiser</th>\n",
       "      <th>model_punto</th>\n",
       "      <th>model_q3</th>\n",
       "      <th>model_q5</th>\n",
       "      <th>model_q7</th>\n",
       "      <th>model_qashqai</th>\n",
       "      <th>model_r19</th>\n",
       "      <th>model_range_rover</th>\n",
       "      <th>model_range_rover_evoque</th>\n",
       "      <th>model_range_rover_sport</th>\n",
       "      <th>model_rangerover</th>\n",
       "      <th>model_rav</th>\n",
       "      <th>model_rio</th>\n",
       "      <th>model_roadster</th>\n",
       "      <th>model_roomster</th>\n",
       "      <th>model_rx_reihe</th>\n",
       "      <th>model_s60</th>\n",
       "      <th>model_s_klasse</th>\n",
       "      <th>model_s_max</th>\n",
       "      <th>model_s_type</th>\n",
       "      <th>model_samara</th>\n",
       "      <th>model_sandero</th>\n",
       "      <th>model_santa</th>\n",
       "      <th>model_scenic</th>\n",
       "      <th>model_scirocco</th>\n",
       "      <th>model_seicento</th>\n",
       "      <th>model_serie_2</th>\n",
       "      <th>model_serie_3</th>\n",
       "      <th>model_sharan</th>\n",
       "      <th>model_signum</th>\n",
       "      <th>model_sirion</th>\n",
       "      <th>model_sl</th>\n",
       "      <th>model_slk</th>\n",
       "      <th>model_sorento</th>\n",
       "      <th>model_spark</th>\n",
       "      <th>model_spider</th>\n",
       "      <th>model_sportage</th>\n",
       "      <th>model_sprinter</th>\n",
       "      <th>model_stilo</th>\n",
       "      <th>model_superb</th>\n",
       "      <th>model_swift</th>\n",
       "      <th>model_terios</th>\n",
       "      <th>model_tigra</th>\n",
       "      <th>model_tiguan</th>\n",
       "      <th>model_toledo</th>\n",
       "      <th>model_touareg</th>\n",
       "      <th>model_touran</th>\n",
       "      <th>model_transit</th>\n",
       "      <th>model_transporter</th>\n",
       "      <th>model_tt</th>\n",
       "      <th>model_tucson</th>\n",
       "      <th>model_twingo</th>\n",
       "      <th>model_up</th>\n",
       "      <th>model_v40</th>\n",
       "      <th>model_v50</th>\n",
       "      <th>model_v60</th>\n",
       "      <th>model_v70</th>\n",
       "      <th>model_v_klasse</th>\n",
       "      <th>model_vectra</th>\n",
       "      <th>model_verso</th>\n",
       "      <th>model_viano</th>\n",
       "      <th>model_vito</th>\n",
       "      <th>model_vivaro</th>\n",
       "      <th>model_voyager</th>\n",
       "      <th>model_wrangler</th>\n",
       "      <th>model_x_reihe</th>\n",
       "      <th>model_x_trail</th>\n",
       "      <th>model_x_type</th>\n",
       "      <th>model_xc_reihe</th>\n",
       "      <th>model_yaris</th>\n",
       "      <th>model_yeti</th>\n",
       "      <th>model_ypsilon</th>\n",
       "      <th>model_z_reihe</th>\n",
       "      <th>model_zafira</th>\n",
       "      <th>fuel_type_electric</th>\n",
       "      <th>fuel_type_gasoline</th>\n",
       "      <th>fuel_type_hybrid</th>\n",
       "      <th>fuel_type_lpg</th>\n",
       "      <th>fuel_type_other</th>\n",
       "      <th>fuel_type_petrol</th>\n",
       "      <th>brand_audi</th>\n",
       "      <th>brand_bmw</th>\n",
       "      <th>brand_chevrolet</th>\n",
       "      <th>brand_chrysler</th>\n",
       "      <th>brand_citroen</th>\n",
       "      <th>brand_dacia</th>\n",
       "      <th>brand_daewoo</th>\n",
       "      <th>brand_daihatsu</th>\n",
       "      <th>brand_fiat</th>\n",
       "      <th>brand_ford</th>\n",
       "      <th>brand_honda</th>\n",
       "      <th>brand_hyundai</th>\n",
       "      <th>brand_jaguar</th>\n",
       "      <th>brand_jeep</th>\n",
       "      <th>brand_kia</th>\n",
       "      <th>brand_lada</th>\n",
       "      <th>brand_lancia</th>\n",
       "      <th>brand_land_rover</th>\n",
       "      <th>brand_mazda</th>\n",
       "      <th>brand_mercedes_benz</th>\n",
       "      <th>brand_mini</th>\n",
       "      <th>brand_mitsubishi</th>\n",
       "      <th>brand_nissan</th>\n",
       "      <th>brand_opel</th>\n",
       "      <th>brand_peugeot</th>\n",
       "      <th>brand_porsche</th>\n",
       "      <th>brand_renault</th>\n",
       "      <th>brand_rover</th>\n",
       "      <th>brand_saab</th>\n",
       "      <th>brand_seat</th>\n",
       "      <th>brand_skoda</th>\n",
       "      <th>brand_smart</th>\n",
       "      <th>brand_sonstige_autos</th>\n",
       "      <th>brand_subaru</th>\n",
       "      <th>brand_suzuki</th>\n",
       "      <th>brand_toyota</th>\n",
       "      <th>brand_trabant</th>\n",
       "      <th>brand_volkswagen</th>\n",
       "      <th>brand_volvo</th>\n",
       "      <th>registration_year</th>\n",
       "      <th>power</th>\n",
       "      <th>kilometer</th>\n",
       "      <th>repaired</th>\n",
       "    </tr>\n",
       "  </thead>\n",
       "  <tbody>\n",
       "    <tr>\n",
       "      <th>0</th>\n",
       "      <td>0.0</td>\n",
       "      <td>0.0</td>\n",
       "      <td>1.0</td>\n",
       "      <td>0.0</td>\n",
       "      <td>0.0</td>\n",
       "      <td>0.0</td>\n",
       "      <td>0.0</td>\n",
       "      <td>1.0</td>\n",
       "      <td>0.0</td>\n",
       "      <td>0.0</td>\n",
       "      <td>0.0</td>\n",
       "      <td>0.0</td>\n",
       "      <td>0.0</td>\n",
       "      <td>0.0</td>\n",
       "      <td>0.0</td>\n",
       "      <td>0.0</td>\n",
       "      <td>0.0</td>\n",
       "      <td>0.0</td>\n",
       "      <td>0.0</td>\n",
       "      <td>0.0</td>\n",
       "      <td>0.0</td>\n",
       "      <td>0.0</td>\n",
       "      <td>0.0</td>\n",
       "      <td>0.0</td>\n",
       "      <td>0.0</td>\n",
       "      <td>0.0</td>\n",
       "      <td>0.0</td>\n",
       "      <td>0.0</td>\n",
       "      <td>0.0</td>\n",
       "      <td>0.0</td>\n",
       "      <td>0.0</td>\n",
       "      <td>0.0</td>\n",
       "      <td>0.0</td>\n",
       "      <td>0.0</td>\n",
       "      <td>0.0</td>\n",
       "      <td>0.0</td>\n",
       "      <td>0.0</td>\n",
       "      <td>0.0</td>\n",
       "      <td>0.0</td>\n",
       "      <td>0.0</td>\n",
       "      <td>0.0</td>\n",
       "      <td>0.0</td>\n",
       "      <td>0.0</td>\n",
       "      <td>0.0</td>\n",
       "      <td>0.0</td>\n",
       "      <td>0.0</td>\n",
       "      <td>0.0</td>\n",
       "      <td>0.0</td>\n",
       "      <td>0.0</td>\n",
       "      <td>0.0</td>\n",
       "      <td>0.0</td>\n",
       "      <td>0.0</td>\n",
       "      <td>0.0</td>\n",
       "      <td>0.0</td>\n",
       "      <td>0.0</td>\n",
       "      <td>0.0</td>\n",
       "      <td>0.0</td>\n",
       "      <td>0.0</td>\n",
       "      <td>0.0</td>\n",
       "      <td>0.0</td>\n",
       "      <td>0.0</td>\n",
       "      <td>0.0</td>\n",
       "      <td>0.0</td>\n",
       "      <td>0.0</td>\n",
       "      <td>0.0</td>\n",
       "      <td>0.0</td>\n",
       "      <td>0.0</td>\n",
       "      <td>0.0</td>\n",
       "      <td>0.0</td>\n",
       "      <td>0.0</td>\n",
       "      <td>0.0</td>\n",
       "      <td>0.0</td>\n",
       "      <td>0.0</td>\n",
       "      <td>0.0</td>\n",
       "      <td>0.0</td>\n",
       "      <td>0.0</td>\n",
       "      <td>0.0</td>\n",
       "      <td>0.0</td>\n",
       "      <td>0.0</td>\n",
       "      <td>0.0</td>\n",
       "      <td>0.0</td>\n",
       "      <td>0.0</td>\n",
       "      <td>0.0</td>\n",
       "      <td>0.0</td>\n",
       "      <td>0.0</td>\n",
       "      <td>0.0</td>\n",
       "      <td>0.0</td>\n",
       "      <td>0.0</td>\n",
       "      <td>0.0</td>\n",
       "      <td>0.0</td>\n",
       "      <td>0.0</td>\n",
       "      <td>0.0</td>\n",
       "      <td>0.0</td>\n",
       "      <td>0.0</td>\n",
       "      <td>0.0</td>\n",
       "      <td>0.0</td>\n",
       "      <td>0.0</td>\n",
       "      <td>0.0</td>\n",
       "      <td>0.0</td>\n",
       "      <td>0.0</td>\n",
       "      <td>0.0</td>\n",
       "      <td>0.0</td>\n",
       "      <td>0.0</td>\n",
       "      <td>0.0</td>\n",
       "      <td>0.0</td>\n",
       "      <td>0.0</td>\n",
       "      <td>0.0</td>\n",
       "      <td>0.0</td>\n",
       "      <td>0.0</td>\n",
       "      <td>0.0</td>\n",
       "      <td>0.0</td>\n",
       "      <td>0.0</td>\n",
       "      <td>0.0</td>\n",
       "      <td>0.0</td>\n",
       "      <td>0.0</td>\n",
       "      <td>0.0</td>\n",
       "      <td>0.0</td>\n",
       "      <td>0.0</td>\n",
       "      <td>0.0</td>\n",
       "      <td>0.0</td>\n",
       "      <td>0.0</td>\n",
       "      <td>0.0</td>\n",
       "      <td>0.0</td>\n",
       "      <td>0.0</td>\n",
       "      <td>0.0</td>\n",
       "      <td>0.0</td>\n",
       "      <td>0.0</td>\n",
       "      <td>0.0</td>\n",
       "      <td>0.0</td>\n",
       "      <td>0.0</td>\n",
       "      <td>0.0</td>\n",
       "      <td>0.0</td>\n",
       "      <td>0.0</td>\n",
       "      <td>0.0</td>\n",
       "      <td>0.0</td>\n",
       "      <td>0.0</td>\n",
       "      <td>0.0</td>\n",
       "      <td>0.0</td>\n",
       "      <td>0.0</td>\n",
       "      <td>0.0</td>\n",
       "      <td>0.0</td>\n",
       "      <td>0.0</td>\n",
       "      <td>0.0</td>\n",
       "      <td>0.0</td>\n",
       "      <td>0.0</td>\n",
       "      <td>0.0</td>\n",
       "      <td>0.0</td>\n",
       "      <td>0.0</td>\n",
       "      <td>0.0</td>\n",
       "      <td>0.0</td>\n",
       "      <td>0.0</td>\n",
       "      <td>0.0</td>\n",
       "      <td>0.0</td>\n",
       "      <td>0.0</td>\n",
       "      <td>0.0</td>\n",
       "      <td>0.0</td>\n",
       "      <td>0.0</td>\n",
       "      <td>0.0</td>\n",
       "      <td>0.0</td>\n",
       "      <td>0.0</td>\n",
       "      <td>0.0</td>\n",
       "      <td>0.0</td>\n",
       "      <td>0.0</td>\n",
       "      <td>0.0</td>\n",
       "      <td>0.0</td>\n",
       "      <td>0.0</td>\n",
       "      <td>0.0</td>\n",
       "      <td>0.0</td>\n",
       "      <td>0.0</td>\n",
       "      <td>0.0</td>\n",
       "      <td>0.0</td>\n",
       "      <td>0.0</td>\n",
       "      <td>0.0</td>\n",
       "      <td>0.0</td>\n",
       "      <td>0.0</td>\n",
       "      <td>0.0</td>\n",
       "      <td>0.0</td>\n",
       "      <td>0.0</td>\n",
       "      <td>0.0</td>\n",
       "      <td>0.0</td>\n",
       "      <td>0.0</td>\n",
       "      <td>0.0</td>\n",
       "      <td>0.0</td>\n",
       "      <td>0.0</td>\n",
       "      <td>0.0</td>\n",
       "      <td>0.0</td>\n",
       "      <td>0.0</td>\n",
       "      <td>0.0</td>\n",
       "      <td>0.0</td>\n",
       "      <td>0.0</td>\n",
       "      <td>0.0</td>\n",
       "      <td>0.0</td>\n",
       "      <td>0.0</td>\n",
       "      <td>0.0</td>\n",
       "      <td>1.0</td>\n",
       "      <td>0.0</td>\n",
       "      <td>0.0</td>\n",
       "      <td>0.0</td>\n",
       "      <td>0.0</td>\n",
       "      <td>0.0</td>\n",
       "      <td>0.0</td>\n",
       "      <td>0.0</td>\n",
       "      <td>0.0</td>\n",
       "      <td>0.0</td>\n",
       "      <td>0.0</td>\n",
       "      <td>0.0</td>\n",
       "      <td>0.0</td>\n",
       "      <td>0.0</td>\n",
       "      <td>0.0</td>\n",
       "      <td>0.0</td>\n",
       "      <td>0.0</td>\n",
       "      <td>0.0</td>\n",
       "      <td>0.0</td>\n",
       "      <td>0.0</td>\n",
       "      <td>0.0</td>\n",
       "      <td>0.0</td>\n",
       "      <td>0.0</td>\n",
       "      <td>0.0</td>\n",
       "      <td>0.0</td>\n",
       "      <td>0.0</td>\n",
       "      <td>0.0</td>\n",
       "      <td>0.0</td>\n",
       "      <td>0.0</td>\n",
       "      <td>0.0</td>\n",
       "      <td>0.0</td>\n",
       "      <td>0.0</td>\n",
       "      <td>0.0</td>\n",
       "      <td>0.0</td>\n",
       "      <td>0.0</td>\n",
       "      <td>0.0</td>\n",
       "      <td>0.0</td>\n",
       "      <td>0.0</td>\n",
       "      <td>0.0</td>\n",
       "      <td>0.0</td>\n",
       "      <td>0.0</td>\n",
       "      <td>0.0</td>\n",
       "      <td>0.0</td>\n",
       "      <td>0.0</td>\n",
       "      <td>0.0</td>\n",
       "      <td>0.0</td>\n",
       "      <td>0.0</td>\n",
       "      <td>0.0</td>\n",
       "      <td>0.0</td>\n",
       "      <td>0.0</td>\n",
       "      <td>0.0</td>\n",
       "      <td>0.0</td>\n",
       "      <td>0.0</td>\n",
       "      <td>0.0</td>\n",
       "      <td>0.0</td>\n",
       "      <td>0.0</td>\n",
       "      <td>0.0</td>\n",
       "      <td>0.0</td>\n",
       "      <td>0.0</td>\n",
       "      <td>0.0</td>\n",
       "      <td>0.0</td>\n",
       "      <td>0.0</td>\n",
       "      <td>0.0</td>\n",
       "      <td>0.0</td>\n",
       "      <td>0.0</td>\n",
       "      <td>0.0</td>\n",
       "      <td>0.0</td>\n",
       "      <td>1.0</td>\n",
       "      <td>0.0</td>\n",
       "      <td>0.0</td>\n",
       "      <td>0.0</td>\n",
       "      <td>0.0</td>\n",
       "      <td>0.0</td>\n",
       "      <td>0.0</td>\n",
       "      <td>0.0</td>\n",
       "      <td>0.0</td>\n",
       "      <td>0.0</td>\n",
       "      <td>0.0</td>\n",
       "      <td>0.0</td>\n",
       "      <td>0.0</td>\n",
       "      <td>0.0</td>\n",
       "      <td>0.0</td>\n",
       "      <td>1.0</td>\n",
       "      <td>0.0</td>\n",
       "      <td>0.0</td>\n",
       "      <td>0.0</td>\n",
       "      <td>0.0</td>\n",
       "      <td>0.0</td>\n",
       "      <td>0.0</td>\n",
       "      <td>0.0</td>\n",
       "      <td>0.0</td>\n",
       "      <td>0.0</td>\n",
       "      <td>0.0</td>\n",
       "      <td>0.0</td>\n",
       "      <td>0.0</td>\n",
       "      <td>0.0</td>\n",
       "      <td>0.0</td>\n",
       "      <td>0.0</td>\n",
       "      <td>0.0</td>\n",
       "      <td>0.0</td>\n",
       "      <td>0.0</td>\n",
       "      <td>0.0</td>\n",
       "      <td>0.0</td>\n",
       "      <td>0.0</td>\n",
       "      <td>0.0</td>\n",
       "      <td>0.0</td>\n",
       "      <td>0.0</td>\n",
       "      <td>0.456565</td>\n",
       "      <td>-0.095822</td>\n",
       "      <td>0.560571</td>\n",
       "      <td>-0.335045</td>\n",
       "    </tr>\n",
       "    <tr>\n",
       "      <th>1</th>\n",
       "      <td>0.0</td>\n",
       "      <td>0.0</td>\n",
       "      <td>0.0</td>\n",
       "      <td>0.0</td>\n",
       "      <td>1.0</td>\n",
       "      <td>0.0</td>\n",
       "      <td>0.0</td>\n",
       "      <td>1.0</td>\n",
       "      <td>0.0</td>\n",
       "      <td>0.0</td>\n",
       "      <td>0.0</td>\n",
       "      <td>0.0</td>\n",
       "      <td>0.0</td>\n",
       "      <td>0.0</td>\n",
       "      <td>0.0</td>\n",
       "      <td>0.0</td>\n",
       "      <td>0.0</td>\n",
       "      <td>0.0</td>\n",
       "      <td>0.0</td>\n",
       "      <td>0.0</td>\n",
       "      <td>0.0</td>\n",
       "      <td>0.0</td>\n",
       "      <td>0.0</td>\n",
       "      <td>0.0</td>\n",
       "      <td>0.0</td>\n",
       "      <td>0.0</td>\n",
       "      <td>0.0</td>\n",
       "      <td>0.0</td>\n",
       "      <td>0.0</td>\n",
       "      <td>0.0</td>\n",
       "      <td>0.0</td>\n",
       "      <td>0.0</td>\n",
       "      <td>0.0</td>\n",
       "      <td>0.0</td>\n",
       "      <td>0.0</td>\n",
       "      <td>0.0</td>\n",
       "      <td>0.0</td>\n",
       "      <td>0.0</td>\n",
       "      <td>0.0</td>\n",
       "      <td>0.0</td>\n",
       "      <td>0.0</td>\n",
       "      <td>0.0</td>\n",
       "      <td>0.0</td>\n",
       "      <td>0.0</td>\n",
       "      <td>0.0</td>\n",
       "      <td>0.0</td>\n",
       "      <td>0.0</td>\n",
       "      <td>0.0</td>\n",
       "      <td>0.0</td>\n",
       "      <td>0.0</td>\n",
       "      <td>0.0</td>\n",
       "      <td>0.0</td>\n",
       "      <td>0.0</td>\n",
       "      <td>0.0</td>\n",
       "      <td>0.0</td>\n",
       "      <td>0.0</td>\n",
       "      <td>0.0</td>\n",
       "      <td>0.0</td>\n",
       "      <td>0.0</td>\n",
       "      <td>0.0</td>\n",
       "      <td>0.0</td>\n",
       "      <td>0.0</td>\n",
       "      <td>0.0</td>\n",
       "      <td>0.0</td>\n",
       "      <td>0.0</td>\n",
       "      <td>0.0</td>\n",
       "      <td>0.0</td>\n",
       "      <td>0.0</td>\n",
       "      <td>0.0</td>\n",
       "      <td>0.0</td>\n",
       "      <td>0.0</td>\n",
       "      <td>0.0</td>\n",
       "      <td>0.0</td>\n",
       "      <td>0.0</td>\n",
       "      <td>0.0</td>\n",
       "      <td>0.0</td>\n",
       "      <td>0.0</td>\n",
       "      <td>0.0</td>\n",
       "      <td>0.0</td>\n",
       "      <td>0.0</td>\n",
       "      <td>0.0</td>\n",
       "      <td>0.0</td>\n",
       "      <td>0.0</td>\n",
       "      <td>0.0</td>\n",
       "      <td>0.0</td>\n",
       "      <td>0.0</td>\n",
       "      <td>0.0</td>\n",
       "      <td>0.0</td>\n",
       "      <td>0.0</td>\n",
       "      <td>0.0</td>\n",
       "      <td>0.0</td>\n",
       "      <td>0.0</td>\n",
       "      <td>0.0</td>\n",
       "      <td>0.0</td>\n",
       "      <td>0.0</td>\n",
       "      <td>0.0</td>\n",
       "      <td>0.0</td>\n",
       "      <td>0.0</td>\n",
       "      <td>0.0</td>\n",
       "      <td>0.0</td>\n",
       "      <td>0.0</td>\n",
       "      <td>0.0</td>\n",
       "      <td>0.0</td>\n",
       "      <td>0.0</td>\n",
       "      <td>0.0</td>\n",
       "      <td>0.0</td>\n",
       "      <td>0.0</td>\n",
       "      <td>0.0</td>\n",
       "      <td>0.0</td>\n",
       "      <td>0.0</td>\n",
       "      <td>0.0</td>\n",
       "      <td>0.0</td>\n",
       "      <td>0.0</td>\n",
       "      <td>0.0</td>\n",
       "      <td>0.0</td>\n",
       "      <td>0.0</td>\n",
       "      <td>0.0</td>\n",
       "      <td>0.0</td>\n",
       "      <td>0.0</td>\n",
       "      <td>0.0</td>\n",
       "      <td>1.0</td>\n",
       "      <td>0.0</td>\n",
       "      <td>0.0</td>\n",
       "      <td>0.0</td>\n",
       "      <td>0.0</td>\n",
       "      <td>0.0</td>\n",
       "      <td>0.0</td>\n",
       "      <td>0.0</td>\n",
       "      <td>0.0</td>\n",
       "      <td>0.0</td>\n",
       "      <td>0.0</td>\n",
       "      <td>0.0</td>\n",
       "      <td>0.0</td>\n",
       "      <td>0.0</td>\n",
       "      <td>0.0</td>\n",
       "      <td>0.0</td>\n",
       "      <td>0.0</td>\n",
       "      <td>0.0</td>\n",
       "      <td>0.0</td>\n",
       "      <td>0.0</td>\n",
       "      <td>0.0</td>\n",
       "      <td>0.0</td>\n",
       "      <td>0.0</td>\n",
       "      <td>0.0</td>\n",
       "      <td>0.0</td>\n",
       "      <td>0.0</td>\n",
       "      <td>0.0</td>\n",
       "      <td>0.0</td>\n",
       "      <td>0.0</td>\n",
       "      <td>0.0</td>\n",
       "      <td>0.0</td>\n",
       "      <td>0.0</td>\n",
       "      <td>0.0</td>\n",
       "      <td>0.0</td>\n",
       "      <td>0.0</td>\n",
       "      <td>0.0</td>\n",
       "      <td>0.0</td>\n",
       "      <td>0.0</td>\n",
       "      <td>0.0</td>\n",
       "      <td>0.0</td>\n",
       "      <td>0.0</td>\n",
       "      <td>0.0</td>\n",
       "      <td>0.0</td>\n",
       "      <td>0.0</td>\n",
       "      <td>0.0</td>\n",
       "      <td>0.0</td>\n",
       "      <td>0.0</td>\n",
       "      <td>0.0</td>\n",
       "      <td>0.0</td>\n",
       "      <td>0.0</td>\n",
       "      <td>0.0</td>\n",
       "      <td>0.0</td>\n",
       "      <td>0.0</td>\n",
       "      <td>0.0</td>\n",
       "      <td>0.0</td>\n",
       "      <td>0.0</td>\n",
       "      <td>0.0</td>\n",
       "      <td>0.0</td>\n",
       "      <td>0.0</td>\n",
       "      <td>0.0</td>\n",
       "      <td>0.0</td>\n",
       "      <td>0.0</td>\n",
       "      <td>0.0</td>\n",
       "      <td>0.0</td>\n",
       "      <td>0.0</td>\n",
       "      <td>0.0</td>\n",
       "      <td>0.0</td>\n",
       "      <td>0.0</td>\n",
       "      <td>0.0</td>\n",
       "      <td>0.0</td>\n",
       "      <td>0.0</td>\n",
       "      <td>0.0</td>\n",
       "      <td>0.0</td>\n",
       "      <td>0.0</td>\n",
       "      <td>0.0</td>\n",
       "      <td>0.0</td>\n",
       "      <td>0.0</td>\n",
       "      <td>0.0</td>\n",
       "      <td>0.0</td>\n",
       "      <td>0.0</td>\n",
       "      <td>0.0</td>\n",
       "      <td>0.0</td>\n",
       "      <td>0.0</td>\n",
       "      <td>0.0</td>\n",
       "      <td>0.0</td>\n",
       "      <td>0.0</td>\n",
       "      <td>0.0</td>\n",
       "      <td>0.0</td>\n",
       "      <td>0.0</td>\n",
       "      <td>0.0</td>\n",
       "      <td>0.0</td>\n",
       "      <td>0.0</td>\n",
       "      <td>0.0</td>\n",
       "      <td>0.0</td>\n",
       "      <td>0.0</td>\n",
       "      <td>0.0</td>\n",
       "      <td>0.0</td>\n",
       "      <td>0.0</td>\n",
       "      <td>0.0</td>\n",
       "      <td>0.0</td>\n",
       "      <td>0.0</td>\n",
       "      <td>0.0</td>\n",
       "      <td>0.0</td>\n",
       "      <td>0.0</td>\n",
       "      <td>0.0</td>\n",
       "      <td>0.0</td>\n",
       "      <td>0.0</td>\n",
       "      <td>0.0</td>\n",
       "      <td>0.0</td>\n",
       "      <td>0.0</td>\n",
       "      <td>0.0</td>\n",
       "      <td>0.0</td>\n",
       "      <td>0.0</td>\n",
       "      <td>0.0</td>\n",
       "      <td>0.0</td>\n",
       "      <td>0.0</td>\n",
       "      <td>0.0</td>\n",
       "      <td>0.0</td>\n",
       "      <td>0.0</td>\n",
       "      <td>0.0</td>\n",
       "      <td>0.0</td>\n",
       "      <td>0.0</td>\n",
       "      <td>0.0</td>\n",
       "      <td>0.0</td>\n",
       "      <td>0.0</td>\n",
       "      <td>0.0</td>\n",
       "      <td>0.0</td>\n",
       "      <td>0.0</td>\n",
       "      <td>0.0</td>\n",
       "      <td>0.0</td>\n",
       "      <td>0.0</td>\n",
       "      <td>0.0</td>\n",
       "      <td>0.0</td>\n",
       "      <td>0.0</td>\n",
       "      <td>0.0</td>\n",
       "      <td>0.0</td>\n",
       "      <td>0.0</td>\n",
       "      <td>0.0</td>\n",
       "      <td>0.0</td>\n",
       "      <td>0.0</td>\n",
       "      <td>0.0</td>\n",
       "      <td>1.0</td>\n",
       "      <td>0.0</td>\n",
       "      <td>0.0</td>\n",
       "      <td>0.0</td>\n",
       "      <td>0.0</td>\n",
       "      <td>0.0</td>\n",
       "      <td>0.0</td>\n",
       "      <td>0.0</td>\n",
       "      <td>0.0</td>\n",
       "      <td>0.0</td>\n",
       "      <td>0.0</td>\n",
       "      <td>0.0</td>\n",
       "      <td>1.0</td>\n",
       "      <td>0.0</td>\n",
       "      <td>0.0</td>\n",
       "      <td>0.0</td>\n",
       "      <td>0.0</td>\n",
       "      <td>0.0</td>\n",
       "      <td>0.0</td>\n",
       "      <td>0.0</td>\n",
       "      <td>0.0</td>\n",
       "      <td>0.0</td>\n",
       "      <td>0.0</td>\n",
       "      <td>0.0</td>\n",
       "      <td>0.0</td>\n",
       "      <td>0.0</td>\n",
       "      <td>0.0</td>\n",
       "      <td>0.0</td>\n",
       "      <td>0.0</td>\n",
       "      <td>0.0</td>\n",
       "      <td>0.0</td>\n",
       "      <td>0.0</td>\n",
       "      <td>0.0</td>\n",
       "      <td>0.0</td>\n",
       "      <td>0.0</td>\n",
       "      <td>0.0</td>\n",
       "      <td>0.0</td>\n",
       "      <td>0.0</td>\n",
       "      <td>0.0</td>\n",
       "      <td>0.0</td>\n",
       "      <td>0.028541</td>\n",
       "      <td>-1.104482</td>\n",
       "      <td>-0.151677</td>\n",
       "      <td>2.984672</td>\n",
       "    </tr>\n",
       "    <tr>\n",
       "      <th>2</th>\n",
       "      <td>0.0</td>\n",
       "      <td>0.0</td>\n",
       "      <td>0.0</td>\n",
       "      <td>0.0</td>\n",
       "      <td>1.0</td>\n",
       "      <td>0.0</td>\n",
       "      <td>0.0</td>\n",
       "      <td>1.0</td>\n",
       "      <td>0.0</td>\n",
       "      <td>0.0</td>\n",
       "      <td>0.0</td>\n",
       "      <td>0.0</td>\n",
       "      <td>0.0</td>\n",
       "      <td>0.0</td>\n",
       "      <td>0.0</td>\n",
       "      <td>0.0</td>\n",
       "      <td>0.0</td>\n",
       "      <td>0.0</td>\n",
       "      <td>0.0</td>\n",
       "      <td>0.0</td>\n",
       "      <td>0.0</td>\n",
       "      <td>0.0</td>\n",
       "      <td>0.0</td>\n",
       "      <td>0.0</td>\n",
       "      <td>0.0</td>\n",
       "      <td>0.0</td>\n",
       "      <td>0.0</td>\n",
       "      <td>0.0</td>\n",
       "      <td>0.0</td>\n",
       "      <td>0.0</td>\n",
       "      <td>0.0</td>\n",
       "      <td>0.0</td>\n",
       "      <td>0.0</td>\n",
       "      <td>0.0</td>\n",
       "      <td>0.0</td>\n",
       "      <td>0.0</td>\n",
       "      <td>0.0</td>\n",
       "      <td>0.0</td>\n",
       "      <td>0.0</td>\n",
       "      <td>0.0</td>\n",
       "      <td>0.0</td>\n",
       "      <td>0.0</td>\n",
       "      <td>0.0</td>\n",
       "      <td>0.0</td>\n",
       "      <td>0.0</td>\n",
       "      <td>0.0</td>\n",
       "      <td>0.0</td>\n",
       "      <td>0.0</td>\n",
       "      <td>0.0</td>\n",
       "      <td>0.0</td>\n",
       "      <td>0.0</td>\n",
       "      <td>0.0</td>\n",
       "      <td>0.0</td>\n",
       "      <td>0.0</td>\n",
       "      <td>0.0</td>\n",
       "      <td>0.0</td>\n",
       "      <td>0.0</td>\n",
       "      <td>0.0</td>\n",
       "      <td>0.0</td>\n",
       "      <td>0.0</td>\n",
       "      <td>0.0</td>\n",
       "      <td>0.0</td>\n",
       "      <td>0.0</td>\n",
       "      <td>0.0</td>\n",
       "      <td>0.0</td>\n",
       "      <td>0.0</td>\n",
       "      <td>0.0</td>\n",
       "      <td>0.0</td>\n",
       "      <td>0.0</td>\n",
       "      <td>0.0</td>\n",
       "      <td>0.0</td>\n",
       "      <td>0.0</td>\n",
       "      <td>0.0</td>\n",
       "      <td>0.0</td>\n",
       "      <td>0.0</td>\n",
       "      <td>0.0</td>\n",
       "      <td>0.0</td>\n",
       "      <td>0.0</td>\n",
       "      <td>0.0</td>\n",
       "      <td>0.0</td>\n",
       "      <td>0.0</td>\n",
       "      <td>0.0</td>\n",
       "      <td>0.0</td>\n",
       "      <td>0.0</td>\n",
       "      <td>0.0</td>\n",
       "      <td>0.0</td>\n",
       "      <td>0.0</td>\n",
       "      <td>0.0</td>\n",
       "      <td>0.0</td>\n",
       "      <td>0.0</td>\n",
       "      <td>0.0</td>\n",
       "      <td>0.0</td>\n",
       "      <td>0.0</td>\n",
       "      <td>0.0</td>\n",
       "      <td>0.0</td>\n",
       "      <td>0.0</td>\n",
       "      <td>0.0</td>\n",
       "      <td>0.0</td>\n",
       "      <td>0.0</td>\n",
       "      <td>0.0</td>\n",
       "      <td>0.0</td>\n",
       "      <td>0.0</td>\n",
       "      <td>0.0</td>\n",
       "      <td>0.0</td>\n",
       "      <td>0.0</td>\n",
       "      <td>0.0</td>\n",
       "      <td>0.0</td>\n",
       "      <td>0.0</td>\n",
       "      <td>0.0</td>\n",
       "      <td>0.0</td>\n",
       "      <td>0.0</td>\n",
       "      <td>0.0</td>\n",
       "      <td>0.0</td>\n",
       "      <td>0.0</td>\n",
       "      <td>0.0</td>\n",
       "      <td>0.0</td>\n",
       "      <td>0.0</td>\n",
       "      <td>0.0</td>\n",
       "      <td>0.0</td>\n",
       "      <td>0.0</td>\n",
       "      <td>0.0</td>\n",
       "      <td>0.0</td>\n",
       "      <td>0.0</td>\n",
       "      <td>1.0</td>\n",
       "      <td>0.0</td>\n",
       "      <td>0.0</td>\n",
       "      <td>0.0</td>\n",
       "      <td>0.0</td>\n",
       "      <td>0.0</td>\n",
       "      <td>0.0</td>\n",
       "      <td>0.0</td>\n",
       "      <td>0.0</td>\n",
       "      <td>0.0</td>\n",
       "      <td>0.0</td>\n",
       "      <td>0.0</td>\n",
       "      <td>0.0</td>\n",
       "      <td>0.0</td>\n",
       "      <td>0.0</td>\n",
       "      <td>0.0</td>\n",
       "      <td>0.0</td>\n",
       "      <td>0.0</td>\n",
       "      <td>0.0</td>\n",
       "      <td>0.0</td>\n",
       "      <td>0.0</td>\n",
       "      <td>0.0</td>\n",
       "      <td>0.0</td>\n",
       "      <td>0.0</td>\n",
       "      <td>0.0</td>\n",
       "      <td>0.0</td>\n",
       "      <td>0.0</td>\n",
       "      <td>0.0</td>\n",
       "      <td>0.0</td>\n",
       "      <td>0.0</td>\n",
       "      <td>0.0</td>\n",
       "      <td>0.0</td>\n",
       "      <td>0.0</td>\n",
       "      <td>0.0</td>\n",
       "      <td>0.0</td>\n",
       "      <td>0.0</td>\n",
       "      <td>0.0</td>\n",
       "      <td>0.0</td>\n",
       "      <td>0.0</td>\n",
       "      <td>0.0</td>\n",
       "      <td>0.0</td>\n",
       "      <td>0.0</td>\n",
       "      <td>0.0</td>\n",
       "      <td>0.0</td>\n",
       "      <td>0.0</td>\n",
       "      <td>0.0</td>\n",
       "      <td>0.0</td>\n",
       "      <td>0.0</td>\n",
       "      <td>0.0</td>\n",
       "      <td>0.0</td>\n",
       "      <td>0.0</td>\n",
       "      <td>0.0</td>\n",
       "      <td>0.0</td>\n",
       "      <td>0.0</td>\n",
       "      <td>0.0</td>\n",
       "      <td>0.0</td>\n",
       "      <td>0.0</td>\n",
       "      <td>0.0</td>\n",
       "      <td>0.0</td>\n",
       "      <td>0.0</td>\n",
       "      <td>0.0</td>\n",
       "      <td>0.0</td>\n",
       "      <td>0.0</td>\n",
       "      <td>0.0</td>\n",
       "      <td>0.0</td>\n",
       "      <td>0.0</td>\n",
       "      <td>0.0</td>\n",
       "      <td>0.0</td>\n",
       "      <td>0.0</td>\n",
       "      <td>0.0</td>\n",
       "      <td>0.0</td>\n",
       "      <td>0.0</td>\n",
       "      <td>0.0</td>\n",
       "      <td>0.0</td>\n",
       "      <td>0.0</td>\n",
       "      <td>0.0</td>\n",
       "      <td>0.0</td>\n",
       "      <td>0.0</td>\n",
       "      <td>0.0</td>\n",
       "      <td>0.0</td>\n",
       "      <td>0.0</td>\n",
       "      <td>0.0</td>\n",
       "      <td>0.0</td>\n",
       "      <td>0.0</td>\n",
       "      <td>0.0</td>\n",
       "      <td>0.0</td>\n",
       "      <td>0.0</td>\n",
       "      <td>0.0</td>\n",
       "      <td>0.0</td>\n",
       "      <td>0.0</td>\n",
       "      <td>0.0</td>\n",
       "      <td>0.0</td>\n",
       "      <td>0.0</td>\n",
       "      <td>0.0</td>\n",
       "      <td>0.0</td>\n",
       "      <td>0.0</td>\n",
       "      <td>0.0</td>\n",
       "      <td>0.0</td>\n",
       "      <td>0.0</td>\n",
       "      <td>0.0</td>\n",
       "      <td>0.0</td>\n",
       "      <td>0.0</td>\n",
       "      <td>0.0</td>\n",
       "      <td>0.0</td>\n",
       "      <td>0.0</td>\n",
       "      <td>0.0</td>\n",
       "      <td>0.0</td>\n",
       "      <td>0.0</td>\n",
       "      <td>0.0</td>\n",
       "      <td>0.0</td>\n",
       "      <td>0.0</td>\n",
       "      <td>0.0</td>\n",
       "      <td>0.0</td>\n",
       "      <td>0.0</td>\n",
       "      <td>0.0</td>\n",
       "      <td>0.0</td>\n",
       "      <td>0.0</td>\n",
       "      <td>0.0</td>\n",
       "      <td>0.0</td>\n",
       "      <td>0.0</td>\n",
       "      <td>0.0</td>\n",
       "      <td>0.0</td>\n",
       "      <td>0.0</td>\n",
       "      <td>0.0</td>\n",
       "      <td>0.0</td>\n",
       "      <td>0.0</td>\n",
       "      <td>0.0</td>\n",
       "      <td>0.0</td>\n",
       "      <td>0.0</td>\n",
       "      <td>0.0</td>\n",
       "      <td>0.0</td>\n",
       "      <td>0.0</td>\n",
       "      <td>0.0</td>\n",
       "      <td>0.0</td>\n",
       "      <td>0.0</td>\n",
       "      <td>0.0</td>\n",
       "      <td>0.0</td>\n",
       "      <td>0.0</td>\n",
       "      <td>1.0</td>\n",
       "      <td>0.0</td>\n",
       "      <td>0.0</td>\n",
       "      <td>0.0</td>\n",
       "      <td>0.0</td>\n",
       "      <td>0.0</td>\n",
       "      <td>0.0</td>\n",
       "      <td>0.0</td>\n",
       "      <td>0.0</td>\n",
       "      <td>0.0</td>\n",
       "      <td>0.0</td>\n",
       "      <td>0.0</td>\n",
       "      <td>0.0</td>\n",
       "      <td>0.0</td>\n",
       "      <td>0.0</td>\n",
       "      <td>0.0</td>\n",
       "      <td>0.0</td>\n",
       "      <td>0.0</td>\n",
       "      <td>0.0</td>\n",
       "      <td>0.0</td>\n",
       "      <td>0.0</td>\n",
       "      <td>0.0</td>\n",
       "      <td>0.0</td>\n",
       "      <td>0.0</td>\n",
       "      <td>0.0</td>\n",
       "      <td>0.0</td>\n",
       "      <td>0.0</td>\n",
       "      <td>0.0</td>\n",
       "      <td>0.0</td>\n",
       "      <td>0.0</td>\n",
       "      <td>0.0</td>\n",
       "      <td>0.0</td>\n",
       "      <td>0.0</td>\n",
       "      <td>0.0</td>\n",
       "      <td>0.0</td>\n",
       "      <td>0.0</td>\n",
       "      <td>0.0</td>\n",
       "      <td>0.0</td>\n",
       "      <td>1.0</td>\n",
       "      <td>0.0</td>\n",
       "      <td>-0.256808</td>\n",
       "      <td>-0.842230</td>\n",
       "      <td>0.560571</td>\n",
       "      <td>-0.335045</td>\n",
       "    </tr>\n",
       "    <tr>\n",
       "      <th>3</th>\n",
       "      <td>0.0</td>\n",
       "      <td>0.0</td>\n",
       "      <td>0.0</td>\n",
       "      <td>0.0</td>\n",
       "      <td>1.0</td>\n",
       "      <td>0.0</td>\n",
       "      <td>0.0</td>\n",
       "      <td>1.0</td>\n",
       "      <td>0.0</td>\n",
       "      <td>0.0</td>\n",
       "      <td>0.0</td>\n",
       "      <td>0.0</td>\n",
       "      <td>0.0</td>\n",
       "      <td>0.0</td>\n",
       "      <td>0.0</td>\n",
       "      <td>0.0</td>\n",
       "      <td>0.0</td>\n",
       "      <td>0.0</td>\n",
       "      <td>0.0</td>\n",
       "      <td>0.0</td>\n",
       "      <td>0.0</td>\n",
       "      <td>0.0</td>\n",
       "      <td>0.0</td>\n",
       "      <td>0.0</td>\n",
       "      <td>0.0</td>\n",
       "      <td>0.0</td>\n",
       "      <td>0.0</td>\n",
       "      <td>0.0</td>\n",
       "      <td>0.0</td>\n",
       "      <td>0.0</td>\n",
       "      <td>0.0</td>\n",
       "      <td>0.0</td>\n",
       "      <td>0.0</td>\n",
       "      <td>0.0</td>\n",
       "      <td>0.0</td>\n",
       "      <td>0.0</td>\n",
       "      <td>0.0</td>\n",
       "      <td>0.0</td>\n",
       "      <td>0.0</td>\n",
       "      <td>0.0</td>\n",
       "      <td>0.0</td>\n",
       "      <td>0.0</td>\n",
       "      <td>0.0</td>\n",
       "      <td>0.0</td>\n",
       "      <td>0.0</td>\n",
       "      <td>0.0</td>\n",
       "      <td>0.0</td>\n",
       "      <td>0.0</td>\n",
       "      <td>0.0</td>\n",
       "      <td>0.0</td>\n",
       "      <td>0.0</td>\n",
       "      <td>0.0</td>\n",
       "      <td>0.0</td>\n",
       "      <td>0.0</td>\n",
       "      <td>0.0</td>\n",
       "      <td>0.0</td>\n",
       "      <td>0.0</td>\n",
       "      <td>0.0</td>\n",
       "      <td>0.0</td>\n",
       "      <td>0.0</td>\n",
       "      <td>0.0</td>\n",
       "      <td>0.0</td>\n",
       "      <td>0.0</td>\n",
       "      <td>0.0</td>\n",
       "      <td>0.0</td>\n",
       "      <td>0.0</td>\n",
       "      <td>0.0</td>\n",
       "      <td>0.0</td>\n",
       "      <td>0.0</td>\n",
       "      <td>0.0</td>\n",
       "      <td>0.0</td>\n",
       "      <td>0.0</td>\n",
       "      <td>0.0</td>\n",
       "      <td>0.0</td>\n",
       "      <td>0.0</td>\n",
       "      <td>0.0</td>\n",
       "      <td>0.0</td>\n",
       "      <td>0.0</td>\n",
       "      <td>0.0</td>\n",
       "      <td>0.0</td>\n",
       "      <td>0.0</td>\n",
       "      <td>0.0</td>\n",
       "      <td>0.0</td>\n",
       "      <td>0.0</td>\n",
       "      <td>0.0</td>\n",
       "      <td>0.0</td>\n",
       "      <td>0.0</td>\n",
       "      <td>0.0</td>\n",
       "      <td>0.0</td>\n",
       "      <td>0.0</td>\n",
       "      <td>0.0</td>\n",
       "      <td>0.0</td>\n",
       "      <td>0.0</td>\n",
       "      <td>0.0</td>\n",
       "      <td>0.0</td>\n",
       "      <td>0.0</td>\n",
       "      <td>0.0</td>\n",
       "      <td>0.0</td>\n",
       "      <td>0.0</td>\n",
       "      <td>0.0</td>\n",
       "      <td>0.0</td>\n",
       "      <td>0.0</td>\n",
       "      <td>0.0</td>\n",
       "      <td>0.0</td>\n",
       "      <td>0.0</td>\n",
       "      <td>0.0</td>\n",
       "      <td>0.0</td>\n",
       "      <td>0.0</td>\n",
       "      <td>0.0</td>\n",
       "      <td>0.0</td>\n",
       "      <td>0.0</td>\n",
       "      <td>0.0</td>\n",
       "      <td>0.0</td>\n",
       "      <td>0.0</td>\n",
       "      <td>0.0</td>\n",
       "      <td>0.0</td>\n",
       "      <td>0.0</td>\n",
       "      <td>0.0</td>\n",
       "      <td>0.0</td>\n",
       "      <td>0.0</td>\n",
       "      <td>0.0</td>\n",
       "      <td>0.0</td>\n",
       "      <td>0.0</td>\n",
       "      <td>0.0</td>\n",
       "      <td>0.0</td>\n",
       "      <td>0.0</td>\n",
       "      <td>0.0</td>\n",
       "      <td>0.0</td>\n",
       "      <td>0.0</td>\n",
       "      <td>0.0</td>\n",
       "      <td>0.0</td>\n",
       "      <td>0.0</td>\n",
       "      <td>0.0</td>\n",
       "      <td>0.0</td>\n",
       "      <td>0.0</td>\n",
       "      <td>0.0</td>\n",
       "      <td>0.0</td>\n",
       "      <td>0.0</td>\n",
       "      <td>0.0</td>\n",
       "      <td>0.0</td>\n",
       "      <td>0.0</td>\n",
       "      <td>0.0</td>\n",
       "      <td>0.0</td>\n",
       "      <td>0.0</td>\n",
       "      <td>0.0</td>\n",
       "      <td>0.0</td>\n",
       "      <td>0.0</td>\n",
       "      <td>0.0</td>\n",
       "      <td>0.0</td>\n",
       "      <td>0.0</td>\n",
       "      <td>0.0</td>\n",
       "      <td>0.0</td>\n",
       "      <td>0.0</td>\n",
       "      <td>0.0</td>\n",
       "      <td>0.0</td>\n",
       "      <td>0.0</td>\n",
       "      <td>0.0</td>\n",
       "      <td>0.0</td>\n",
       "      <td>0.0</td>\n",
       "      <td>0.0</td>\n",
       "      <td>0.0</td>\n",
       "      <td>0.0</td>\n",
       "      <td>0.0</td>\n",
       "      <td>0.0</td>\n",
       "      <td>0.0</td>\n",
       "      <td>0.0</td>\n",
       "      <td>0.0</td>\n",
       "      <td>0.0</td>\n",
       "      <td>0.0</td>\n",
       "      <td>0.0</td>\n",
       "      <td>0.0</td>\n",
       "      <td>0.0</td>\n",
       "      <td>0.0</td>\n",
       "      <td>0.0</td>\n",
       "      <td>0.0</td>\n",
       "      <td>0.0</td>\n",
       "      <td>0.0</td>\n",
       "      <td>0.0</td>\n",
       "      <td>0.0</td>\n",
       "      <td>0.0</td>\n",
       "      <td>1.0</td>\n",
       "      <td>0.0</td>\n",
       "      <td>0.0</td>\n",
       "      <td>0.0</td>\n",
       "      <td>0.0</td>\n",
       "      <td>0.0</td>\n",
       "      <td>0.0</td>\n",
       "      <td>0.0</td>\n",
       "      <td>0.0</td>\n",
       "      <td>0.0</td>\n",
       "      <td>0.0</td>\n",
       "      <td>0.0</td>\n",
       "      <td>0.0</td>\n",
       "      <td>0.0</td>\n",
       "      <td>0.0</td>\n",
       "      <td>0.0</td>\n",
       "      <td>0.0</td>\n",
       "      <td>0.0</td>\n",
       "      <td>0.0</td>\n",
       "      <td>0.0</td>\n",
       "      <td>0.0</td>\n",
       "      <td>0.0</td>\n",
       "      <td>0.0</td>\n",
       "      <td>0.0</td>\n",
       "      <td>0.0</td>\n",
       "      <td>0.0</td>\n",
       "      <td>0.0</td>\n",
       "      <td>0.0</td>\n",
       "      <td>0.0</td>\n",
       "      <td>0.0</td>\n",
       "      <td>0.0</td>\n",
       "      <td>0.0</td>\n",
       "      <td>0.0</td>\n",
       "      <td>0.0</td>\n",
       "      <td>0.0</td>\n",
       "      <td>0.0</td>\n",
       "      <td>0.0</td>\n",
       "      <td>0.0</td>\n",
       "      <td>0.0</td>\n",
       "      <td>0.0</td>\n",
       "      <td>0.0</td>\n",
       "      <td>0.0</td>\n",
       "      <td>0.0</td>\n",
       "      <td>0.0</td>\n",
       "      <td>0.0</td>\n",
       "      <td>0.0</td>\n",
       "      <td>0.0</td>\n",
       "      <td>0.0</td>\n",
       "      <td>0.0</td>\n",
       "      <td>0.0</td>\n",
       "      <td>0.0</td>\n",
       "      <td>0.0</td>\n",
       "      <td>0.0</td>\n",
       "      <td>0.0</td>\n",
       "      <td>0.0</td>\n",
       "      <td>0.0</td>\n",
       "      <td>0.0</td>\n",
       "      <td>0.0</td>\n",
       "      <td>0.0</td>\n",
       "      <td>0.0</td>\n",
       "      <td>0.0</td>\n",
       "      <td>0.0</td>\n",
       "      <td>0.0</td>\n",
       "      <td>0.0</td>\n",
       "      <td>0.0</td>\n",
       "      <td>0.0</td>\n",
       "      <td>0.0</td>\n",
       "      <td>0.0</td>\n",
       "      <td>0.0</td>\n",
       "      <td>0.0</td>\n",
       "      <td>0.0</td>\n",
       "      <td>0.0</td>\n",
       "      <td>0.0</td>\n",
       "      <td>0.0</td>\n",
       "      <td>0.0</td>\n",
       "      <td>0.0</td>\n",
       "      <td>0.0</td>\n",
       "      <td>0.0</td>\n",
       "      <td>0.0</td>\n",
       "      <td>0.0</td>\n",
       "      <td>0.0</td>\n",
       "      <td>1.0</td>\n",
       "      <td>0.0</td>\n",
       "      <td>0.0</td>\n",
       "      <td>0.0</td>\n",
       "      <td>0.0</td>\n",
       "      <td>0.0</td>\n",
       "      <td>0.0</td>\n",
       "      <td>0.0</td>\n",
       "      <td>0.0</td>\n",
       "      <td>0.0</td>\n",
       "      <td>0.0</td>\n",
       "      <td>0.0</td>\n",
       "      <td>0.0</td>\n",
       "      <td>0.0</td>\n",
       "      <td>0.0</td>\n",
       "      <td>0.0</td>\n",
       "      <td>0.0</td>\n",
       "      <td>0.0</td>\n",
       "      <td>0.0</td>\n",
       "      <td>0.0</td>\n",
       "      <td>0.0</td>\n",
       "      <td>0.0</td>\n",
       "      <td>0.0</td>\n",
       "      <td>0.0</td>\n",
       "      <td>0.0</td>\n",
       "      <td>0.0</td>\n",
       "      <td>0.0</td>\n",
       "      <td>0.0</td>\n",
       "      <td>0.0</td>\n",
       "      <td>0.0</td>\n",
       "      <td>0.0</td>\n",
       "      <td>0.0</td>\n",
       "      <td>0.0</td>\n",
       "      <td>0.0</td>\n",
       "      <td>0.0</td>\n",
       "      <td>0.0</td>\n",
       "      <td>0.0</td>\n",
       "      <td>0.0</td>\n",
       "      <td>1.0</td>\n",
       "      <td>0.0</td>\n",
       "      <td>-0.328145</td>\n",
       "      <td>-1.427254</td>\n",
       "      <td>0.560571</td>\n",
       "      <td>-0.335045</td>\n",
       "    </tr>\n",
       "    <tr>\n",
       "      <th>4</th>\n",
       "      <td>0.0</td>\n",
       "      <td>0.0</td>\n",
       "      <td>0.0</td>\n",
       "      <td>0.0</td>\n",
       "      <td>0.0</td>\n",
       "      <td>0.0</td>\n",
       "      <td>1.0</td>\n",
       "      <td>1.0</td>\n",
       "      <td>0.0</td>\n",
       "      <td>0.0</td>\n",
       "      <td>0.0</td>\n",
       "      <td>0.0</td>\n",
       "      <td>0.0</td>\n",
       "      <td>0.0</td>\n",
       "      <td>0.0</td>\n",
       "      <td>0.0</td>\n",
       "      <td>0.0</td>\n",
       "      <td>0.0</td>\n",
       "      <td>0.0</td>\n",
       "      <td>0.0</td>\n",
       "      <td>0.0</td>\n",
       "      <td>0.0</td>\n",
       "      <td>0.0</td>\n",
       "      <td>0.0</td>\n",
       "      <td>0.0</td>\n",
       "      <td>0.0</td>\n",
       "      <td>0.0</td>\n",
       "      <td>0.0</td>\n",
       "      <td>0.0</td>\n",
       "      <td>0.0</td>\n",
       "      <td>0.0</td>\n",
       "      <td>0.0</td>\n",
       "      <td>0.0</td>\n",
       "      <td>0.0</td>\n",
       "      <td>0.0</td>\n",
       "      <td>0.0</td>\n",
       "      <td>0.0</td>\n",
       "      <td>0.0</td>\n",
       "      <td>1.0</td>\n",
       "      <td>0.0</td>\n",
       "      <td>0.0</td>\n",
       "      <td>0.0</td>\n",
       "      <td>0.0</td>\n",
       "      <td>0.0</td>\n",
       "      <td>0.0</td>\n",
       "      <td>0.0</td>\n",
       "      <td>0.0</td>\n",
       "      <td>0.0</td>\n",
       "      <td>0.0</td>\n",
       "      <td>0.0</td>\n",
       "      <td>0.0</td>\n",
       "      <td>0.0</td>\n",
       "      <td>0.0</td>\n",
       "      <td>0.0</td>\n",
       "      <td>0.0</td>\n",
       "      <td>0.0</td>\n",
       "      <td>0.0</td>\n",
       "      <td>0.0</td>\n",
       "      <td>0.0</td>\n",
       "      <td>0.0</td>\n",
       "      <td>0.0</td>\n",
       "      <td>0.0</td>\n",
       "      <td>0.0</td>\n",
       "      <td>0.0</td>\n",
       "      <td>0.0</td>\n",
       "      <td>0.0</td>\n",
       "      <td>0.0</td>\n",
       "      <td>0.0</td>\n",
       "      <td>0.0</td>\n",
       "      <td>0.0</td>\n",
       "      <td>0.0</td>\n",
       "      <td>0.0</td>\n",
       "      <td>0.0</td>\n",
       "      <td>0.0</td>\n",
       "      <td>0.0</td>\n",
       "      <td>0.0</td>\n",
       "      <td>0.0</td>\n",
       "      <td>0.0</td>\n",
       "      <td>0.0</td>\n",
       "      <td>0.0</td>\n",
       "      <td>0.0</td>\n",
       "      <td>0.0</td>\n",
       "      <td>0.0</td>\n",
       "      <td>0.0</td>\n",
       "      <td>0.0</td>\n",
       "      <td>0.0</td>\n",
       "      <td>0.0</td>\n",
       "      <td>0.0</td>\n",
       "      <td>0.0</td>\n",
       "      <td>0.0</td>\n",
       "      <td>0.0</td>\n",
       "      <td>0.0</td>\n",
       "      <td>0.0</td>\n",
       "      <td>0.0</td>\n",
       "      <td>0.0</td>\n",
       "      <td>0.0</td>\n",
       "      <td>0.0</td>\n",
       "      <td>0.0</td>\n",
       "      <td>0.0</td>\n",
       "      <td>0.0</td>\n",
       "      <td>0.0</td>\n",
       "      <td>0.0</td>\n",
       "      <td>0.0</td>\n",
       "      <td>0.0</td>\n",
       "      <td>0.0</td>\n",
       "      <td>0.0</td>\n",
       "      <td>0.0</td>\n",
       "      <td>0.0</td>\n",
       "      <td>0.0</td>\n",
       "      <td>0.0</td>\n",
       "      <td>0.0</td>\n",
       "      <td>0.0</td>\n",
       "      <td>0.0</td>\n",
       "      <td>0.0</td>\n",
       "      <td>0.0</td>\n",
       "      <td>0.0</td>\n",
       "      <td>0.0</td>\n",
       "      <td>0.0</td>\n",
       "      <td>0.0</td>\n",
       "      <td>0.0</td>\n",
       "      <td>0.0</td>\n",
       "      <td>0.0</td>\n",
       "      <td>0.0</td>\n",
       "      <td>0.0</td>\n",
       "      <td>0.0</td>\n",
       "      <td>0.0</td>\n",
       "      <td>0.0</td>\n",
       "      <td>0.0</td>\n",
       "      <td>0.0</td>\n",
       "      <td>0.0</td>\n",
       "      <td>0.0</td>\n",
       "      <td>0.0</td>\n",
       "      <td>0.0</td>\n",
       "      <td>0.0</td>\n",
       "      <td>0.0</td>\n",
       "      <td>0.0</td>\n",
       "      <td>0.0</td>\n",
       "      <td>0.0</td>\n",
       "      <td>0.0</td>\n",
       "      <td>0.0</td>\n",
       "      <td>0.0</td>\n",
       "      <td>0.0</td>\n",
       "      <td>0.0</td>\n",
       "      <td>0.0</td>\n",
       "      <td>0.0</td>\n",
       "      <td>0.0</td>\n",
       "      <td>0.0</td>\n",
       "      <td>0.0</td>\n",
       "      <td>0.0</td>\n",
       "      <td>0.0</td>\n",
       "      <td>0.0</td>\n",
       "      <td>0.0</td>\n",
       "      <td>0.0</td>\n",
       "      <td>0.0</td>\n",
       "      <td>0.0</td>\n",
       "      <td>0.0</td>\n",
       "      <td>0.0</td>\n",
       "      <td>0.0</td>\n",
       "      <td>0.0</td>\n",
       "      <td>0.0</td>\n",
       "      <td>0.0</td>\n",
       "      <td>0.0</td>\n",
       "      <td>0.0</td>\n",
       "      <td>0.0</td>\n",
       "      <td>0.0</td>\n",
       "      <td>0.0</td>\n",
       "      <td>0.0</td>\n",
       "      <td>0.0</td>\n",
       "      <td>0.0</td>\n",
       "      <td>0.0</td>\n",
       "      <td>0.0</td>\n",
       "      <td>0.0</td>\n",
       "      <td>0.0</td>\n",
       "      <td>0.0</td>\n",
       "      <td>0.0</td>\n",
       "      <td>0.0</td>\n",
       "      <td>0.0</td>\n",
       "      <td>0.0</td>\n",
       "      <td>0.0</td>\n",
       "      <td>0.0</td>\n",
       "      <td>0.0</td>\n",
       "      <td>0.0</td>\n",
       "      <td>0.0</td>\n",
       "      <td>0.0</td>\n",
       "      <td>0.0</td>\n",
       "      <td>0.0</td>\n",
       "      <td>0.0</td>\n",
       "      <td>0.0</td>\n",
       "      <td>0.0</td>\n",
       "      <td>0.0</td>\n",
       "      <td>0.0</td>\n",
       "      <td>0.0</td>\n",
       "      <td>0.0</td>\n",
       "      <td>0.0</td>\n",
       "      <td>0.0</td>\n",
       "      <td>0.0</td>\n",
       "      <td>0.0</td>\n",
       "      <td>0.0</td>\n",
       "      <td>0.0</td>\n",
       "      <td>0.0</td>\n",
       "      <td>0.0</td>\n",
       "      <td>0.0</td>\n",
       "      <td>0.0</td>\n",
       "      <td>0.0</td>\n",
       "      <td>0.0</td>\n",
       "      <td>0.0</td>\n",
       "      <td>0.0</td>\n",
       "      <td>0.0</td>\n",
       "      <td>0.0</td>\n",
       "      <td>0.0</td>\n",
       "      <td>0.0</td>\n",
       "      <td>0.0</td>\n",
       "      <td>0.0</td>\n",
       "      <td>0.0</td>\n",
       "      <td>0.0</td>\n",
       "      <td>0.0</td>\n",
       "      <td>0.0</td>\n",
       "      <td>0.0</td>\n",
       "      <td>0.0</td>\n",
       "      <td>0.0</td>\n",
       "      <td>0.0</td>\n",
       "      <td>0.0</td>\n",
       "      <td>0.0</td>\n",
       "      <td>0.0</td>\n",
       "      <td>0.0</td>\n",
       "      <td>0.0</td>\n",
       "      <td>0.0</td>\n",
       "      <td>0.0</td>\n",
       "      <td>0.0</td>\n",
       "      <td>0.0</td>\n",
       "      <td>0.0</td>\n",
       "      <td>0.0</td>\n",
       "      <td>0.0</td>\n",
       "      <td>0.0</td>\n",
       "      <td>0.0</td>\n",
       "      <td>0.0</td>\n",
       "      <td>0.0</td>\n",
       "      <td>0.0</td>\n",
       "      <td>0.0</td>\n",
       "      <td>0.0</td>\n",
       "      <td>0.0</td>\n",
       "      <td>0.0</td>\n",
       "      <td>0.0</td>\n",
       "      <td>0.0</td>\n",
       "      <td>0.0</td>\n",
       "      <td>0.0</td>\n",
       "      <td>0.0</td>\n",
       "      <td>0.0</td>\n",
       "      <td>0.0</td>\n",
       "      <td>0.0</td>\n",
       "      <td>0.0</td>\n",
       "      <td>0.0</td>\n",
       "      <td>0.0</td>\n",
       "      <td>0.0</td>\n",
       "      <td>0.0</td>\n",
       "      <td>0.0</td>\n",
       "      <td>0.0</td>\n",
       "      <td>1.0</td>\n",
       "      <td>0.0</td>\n",
       "      <td>0.0</td>\n",
       "      <td>0.0</td>\n",
       "      <td>0.0</td>\n",
       "      <td>1.0</td>\n",
       "      <td>0.0</td>\n",
       "      <td>0.0</td>\n",
       "      <td>0.0</td>\n",
       "      <td>0.0</td>\n",
       "      <td>0.0</td>\n",
       "      <td>0.0</td>\n",
       "      <td>0.0</td>\n",
       "      <td>0.0</td>\n",
       "      <td>0.0</td>\n",
       "      <td>0.0</td>\n",
       "      <td>0.0</td>\n",
       "      <td>0.0</td>\n",
       "      <td>0.0</td>\n",
       "      <td>0.0</td>\n",
       "      <td>0.0</td>\n",
       "      <td>0.0</td>\n",
       "      <td>0.0</td>\n",
       "      <td>0.0</td>\n",
       "      <td>0.0</td>\n",
       "      <td>0.0</td>\n",
       "      <td>0.0</td>\n",
       "      <td>0.0</td>\n",
       "      <td>0.0</td>\n",
       "      <td>0.0</td>\n",
       "      <td>0.0</td>\n",
       "      <td>0.0</td>\n",
       "      <td>0.0</td>\n",
       "      <td>0.0</td>\n",
       "      <td>0.0</td>\n",
       "      <td>0.0</td>\n",
       "      <td>0.0</td>\n",
       "      <td>0.0</td>\n",
       "      <td>0.0</td>\n",
       "      <td>0.0</td>\n",
       "      <td>0.0</td>\n",
       "      <td>0.0</td>\n",
       "      <td>0.0</td>\n",
       "      <td>0.0</td>\n",
       "      <td>-0.078464</td>\n",
       "      <td>0.771626</td>\n",
       "      <td>0.560571</td>\n",
       "      <td>-0.335045</td>\n",
       "    </tr>\n",
       "  </tbody>\n",
       "</table>\n",
       "</div>"
      ],
      "text/plain": [
       "   vehicle_type_convertible  vehicle_type_coupe  vehicle_type_other  \\\n",
       "0                       0.0                 0.0                 1.0   \n",
       "1                       0.0                 0.0                 0.0   \n",
       "2                       0.0                 0.0                 0.0   \n",
       "3                       0.0                 0.0                 0.0   \n",
       "4                       0.0                 0.0                 0.0   \n",
       "\n",
       "   vehicle_type_sedan  vehicle_type_small  vehicle_type_suv  \\\n",
       "0                 0.0                 0.0               0.0   \n",
       "1                 0.0                 1.0               0.0   \n",
       "2                 0.0                 1.0               0.0   \n",
       "3                 0.0                 1.0               0.0   \n",
       "4                 0.0                 0.0               0.0   \n",
       "\n",
       "   vehicle_type_wagon  gearbox_manual  model_145  model_147  model_156  \\\n",
       "0                 0.0             1.0        0.0        0.0        0.0   \n",
       "1                 0.0             1.0        0.0        0.0        0.0   \n",
       "2                 0.0             1.0        0.0        0.0        0.0   \n",
       "3                 0.0             1.0        0.0        0.0        0.0   \n",
       "4                 1.0             1.0        0.0        0.0        0.0   \n",
       "\n",
       "   model_159  model_1_reihe  model_1er  model_200  model_2_reihe  model_300c  \\\n",
       "0        0.0            0.0        0.0        0.0            0.0         0.0   \n",
       "1        0.0            0.0        0.0        0.0            0.0         0.0   \n",
       "2        0.0            0.0        0.0        0.0            0.0         0.0   \n",
       "3        0.0            0.0        0.0        0.0            0.0         0.0   \n",
       "4        0.0            0.0        0.0        0.0            0.0         0.0   \n",
       "\n",
       "   model_3_reihe  model_3er  model_4_reihe  model_500  model_5_reihe  \\\n",
       "0            0.0        0.0            0.0        0.0            0.0   \n",
       "1            0.0        0.0            0.0        0.0            0.0   \n",
       "2            0.0        0.0            0.0        0.0            0.0   \n",
       "3            0.0        0.0            0.0        0.0            0.0   \n",
       "4            0.0        0.0            0.0        0.0            0.0   \n",
       "\n",
       "   model_5er  model_601  model_6_reihe  model_6er  model_7er  model_80  \\\n",
       "0        0.0        0.0            0.0        0.0        0.0       0.0   \n",
       "1        0.0        0.0            0.0        0.0        0.0       0.0   \n",
       "2        0.0        0.0            0.0        0.0        0.0       0.0   \n",
       "3        0.0        0.0            0.0        0.0        0.0       0.0   \n",
       "4        0.0        0.0            0.0        0.0        0.0       0.0   \n",
       "\n",
       "   model_850  model_90  model_900  model_9000  model_911  model_a1  model_a2  \\\n",
       "0        0.0       0.0        0.0         0.0        0.0       0.0       0.0   \n",
       "1        0.0       0.0        0.0         0.0        0.0       0.0       0.0   \n",
       "2        0.0       0.0        0.0         0.0        0.0       0.0       0.0   \n",
       "3        0.0       0.0        0.0         0.0        0.0       0.0       0.0   \n",
       "4        0.0       0.0        0.0         0.0        0.0       0.0       0.0   \n",
       "\n",
       "   model_a3  model_a4  model_a5  model_a6  model_a8  model_a_klasse  \\\n",
       "0       0.0       0.0       0.0       0.0       0.0             0.0   \n",
       "1       0.0       0.0       0.0       0.0       0.0             0.0   \n",
       "2       0.0       0.0       0.0       0.0       0.0             0.0   \n",
       "3       0.0       0.0       0.0       0.0       0.0             0.0   \n",
       "4       0.0       0.0       0.0       1.0       0.0             0.0   \n",
       "\n",
       "   model_accord  model_agila  model_alhambra  model_almera  model_altea  \\\n",
       "0           0.0          0.0             0.0           0.0          0.0   \n",
       "1           0.0          0.0             0.0           0.0          0.0   \n",
       "2           0.0          0.0             0.0           0.0          0.0   \n",
       "3           0.0          0.0             0.0           0.0          0.0   \n",
       "4           0.0          0.0             0.0           0.0          0.0   \n",
       "\n",
       "   model_amarok  model_antara  model_arosa  model_astra  model_auris  \\\n",
       "0           0.0           0.0          0.0          0.0          0.0   \n",
       "1           0.0           0.0          0.0          0.0          0.0   \n",
       "2           0.0           0.0          0.0          0.0          0.0   \n",
       "3           0.0           0.0          0.0          0.0          0.0   \n",
       "4           0.0           0.0          0.0          0.0          0.0   \n",
       "\n",
       "   model_avensis  model_aveo  model_aygo  model_b_klasse  model_b_max  \\\n",
       "0            0.0         0.0         0.0             0.0          0.0   \n",
       "1            0.0         0.0         0.0             0.0          0.0   \n",
       "2            0.0         0.0         0.0             0.0          0.0   \n",
       "3            0.0         0.0         0.0             0.0          0.0   \n",
       "4            0.0         0.0         0.0             0.0          0.0   \n",
       "\n",
       "   model_beetle  model_berlingo  model_bora  model_boxster  model_bravo  \\\n",
       "0           0.0             0.0         0.0            0.0          0.0   \n",
       "1           0.0             0.0         0.0            0.0          0.0   \n",
       "2           0.0             0.0         0.0            0.0          0.0   \n",
       "3           0.0             0.0         0.0            0.0          0.0   \n",
       "4           0.0             0.0         0.0            0.0          0.0   \n",
       "\n",
       "   model_c1  model_c2  model_c3  model_c4  model_c5  model_c_klasse  \\\n",
       "0       0.0       0.0       0.0       0.0       0.0             0.0   \n",
       "1       0.0       0.0       0.0       0.0       0.0             0.0   \n",
       "2       0.0       0.0       0.0       0.0       0.0             0.0   \n",
       "3       0.0       0.0       0.0       0.0       0.0             0.0   \n",
       "4       0.0       0.0       0.0       0.0       0.0             0.0   \n",
       "\n",
       "   model_c_max  model_c_reihe  model_caddy  model_calibra  model_captiva  \\\n",
       "0          0.0            0.0          0.0            0.0            0.0   \n",
       "1          0.0            0.0          0.0            0.0            0.0   \n",
       "2          0.0            0.0          0.0            0.0            0.0   \n",
       "3          0.0            0.0          0.0            0.0            0.0   \n",
       "4          0.0            0.0          0.0            0.0            0.0   \n",
       "\n",
       "   model_carisma  model_carnival  model_cayenne  model_cc  model_ceed  \\\n",
       "0            0.0             0.0            0.0       0.0         0.0   \n",
       "1            0.0             0.0            0.0       0.0         0.0   \n",
       "2            0.0             0.0            0.0       0.0         0.0   \n",
       "3            0.0             0.0            0.0       0.0         0.0   \n",
       "4            0.0             0.0            0.0       0.0         0.0   \n",
       "\n",
       "   model_charade  model_cherokee  model_citigo  model_civic  model_cl  \\\n",
       "0            0.0             0.0           0.0          0.0       0.0   \n",
       "1            0.0             0.0           0.0          0.0       0.0   \n",
       "2            0.0             0.0           0.0          0.0       0.0   \n",
       "3            0.0             0.0           0.0          0.0       0.0   \n",
       "4            0.0             0.0           0.0          0.0       0.0   \n",
       "\n",
       "   model_clio  model_clk  model_clubman  model_colt  model_combo  \\\n",
       "0         0.0        0.0            0.0         0.0          0.0   \n",
       "1         0.0        0.0            0.0         0.0          0.0   \n",
       "2         0.0        0.0            0.0         0.0          0.0   \n",
       "3         0.0        0.0            0.0         0.0          0.0   \n",
       "4         0.0        0.0            0.0         0.0          0.0   \n",
       "\n",
       "   model_cooper  model_cordoba  model_corolla  model_corsa  model_cr_reihe  \\\n",
       "0           0.0            0.0            0.0          0.0             0.0   \n",
       "1           0.0            0.0            0.0          0.0             0.0   \n",
       "2           0.0            0.0            0.0          0.0             0.0   \n",
       "3           0.0            0.0            0.0          0.0             0.0   \n",
       "4           0.0            0.0            0.0          0.0             0.0   \n",
       "\n",
       "   model_croma  model_crossfire  model_cuore  model_cx_reihe  model_defender  \\\n",
       "0          0.0              0.0          0.0             0.0             0.0   \n",
       "1          0.0              0.0          0.0             0.0             0.0   \n",
       "2          0.0              0.0          0.0             0.0             0.0   \n",
       "3          0.0              0.0          0.0             0.0             0.0   \n",
       "4          0.0              0.0          0.0             0.0             0.0   \n",
       "\n",
       "   model_delta  model_discovery  model_doblo  model_ducato  model_duster  \\\n",
       "0          0.0              0.0          0.0           0.0           0.0   \n",
       "1          0.0              0.0          0.0           0.0           0.0   \n",
       "2          0.0              0.0          0.0           0.0           0.0   \n",
       "3          0.0              0.0          0.0           0.0           0.0   \n",
       "4          0.0              0.0          0.0           0.0           0.0   \n",
       "\n",
       "   model_e_klasse  model_elefantino  model_eos  model_escort  model_espace  \\\n",
       "0             0.0               0.0        0.0           0.0           0.0   \n",
       "1             0.0               0.0        0.0           0.0           0.0   \n",
       "2             0.0               0.0        0.0           0.0           0.0   \n",
       "3             0.0               0.0        0.0           0.0           0.0   \n",
       "4             0.0               0.0        0.0           0.0           0.0   \n",
       "\n",
       "   model_exeo  model_fabia  model_fiesta  model_focus  model_forester  \\\n",
       "0         0.0          0.0           0.0          0.0             0.0   \n",
       "1         0.0          0.0           0.0          0.0             0.0   \n",
       "2         0.0          0.0           0.0          0.0             0.0   \n",
       "3         0.0          0.0           0.0          0.0             0.0   \n",
       "4         0.0          0.0           0.0          0.0             0.0   \n",
       "\n",
       "   model_forfour  model_fortwo  model_fox  model_freelander  model_fusion  \\\n",
       "0            0.0           0.0        0.0               0.0           0.0   \n",
       "1            0.0           0.0        0.0               0.0           0.0   \n",
       "2            0.0           0.0        0.0               0.0           0.0   \n",
       "3            0.0           0.0        0.0               0.0           0.0   \n",
       "4            0.0           0.0        0.0               0.0           0.0   \n",
       "\n",
       "   model_g_klasse  model_galant  model_galaxy  model_getz  model_gl  \\\n",
       "0             0.0           0.0           0.0         0.0       0.0   \n",
       "1             0.0           0.0           0.0         1.0       0.0   \n",
       "2             0.0           0.0           0.0         0.0       0.0   \n",
       "3             0.0           0.0           0.0         0.0       0.0   \n",
       "4             0.0           0.0           0.0         0.0       0.0   \n",
       "\n",
       "   model_glk  model_golf  model_grand  model_i3  model_i_reihe  model_ibiza  \\\n",
       "0        0.0         0.0          0.0       0.0            0.0          0.0   \n",
       "1        0.0         0.0          0.0       0.0            0.0          0.0   \n",
       "2        0.0         1.0          0.0       0.0            0.0          0.0   \n",
       "3        0.0         0.0          0.0       0.0            0.0          0.0   \n",
       "4        0.0         0.0          0.0       0.0            0.0          0.0   \n",
       "\n",
       "   model_impreza  model_insignia  model_jazz  model_jetta  model_jimny  \\\n",
       "0            0.0             0.0         0.0          0.0          0.0   \n",
       "1            0.0             0.0         0.0          0.0          0.0   \n",
       "2            0.0             0.0         0.0          0.0          0.0   \n",
       "3            0.0             0.0         0.0          0.0          0.0   \n",
       "4            0.0             0.0         0.0          0.0          0.0   \n",
       "\n",
       "   model_juke  model_justy  model_ka  model_kadett  model_kaefer  \\\n",
       "0         0.0          0.0       0.0           0.0           0.0   \n",
       "1         0.0          0.0       0.0           0.0           0.0   \n",
       "2         0.0          0.0       0.0           0.0           0.0   \n",
       "3         0.0          0.0       0.0           0.0           0.0   \n",
       "4         0.0          0.0       0.0           0.0           0.0   \n",
       "\n",
       "   model_kalina  model_kalos  model_kangoo  model_kappa  model_kuga  \\\n",
       "0           0.0          0.0           0.0          0.0         0.0   \n",
       "1           0.0          0.0           0.0          0.0         0.0   \n",
       "2           0.0          0.0           0.0          0.0         0.0   \n",
       "3           0.0          0.0           0.0          0.0         0.0   \n",
       "4           0.0          0.0           0.0          0.0         0.0   \n",
       "\n",
       "   model_laguna  model_lancer  model_lanos  model_legacy  model_leon  \\\n",
       "0           0.0           0.0          0.0           0.0         0.0   \n",
       "1           0.0           0.0          0.0           0.0         0.0   \n",
       "2           0.0           0.0          0.0           0.0         0.0   \n",
       "3           0.0           0.0          0.0           0.0         0.0   \n",
       "4           0.0           0.0          0.0           0.0         0.0   \n",
       "\n",
       "   model_lodgy  model_logan  model_lupo  model_lybra  model_m_klasse  \\\n",
       "0          0.0          0.0         0.0          0.0             0.0   \n",
       "1          0.0          0.0         0.0          0.0             0.0   \n",
       "2          0.0          0.0         0.0          0.0             0.0   \n",
       "3          0.0          0.0         0.0          0.0             0.0   \n",
       "4          0.0          0.0         0.0          0.0             0.0   \n",
       "\n",
       "   model_m_reihe  model_materia  model_matiz  model_megane  model_meriva  \\\n",
       "0            0.0            0.0          0.0           0.0           0.0   \n",
       "1            0.0            0.0          0.0           0.0           0.0   \n",
       "2            0.0            0.0          0.0           0.0           0.0   \n",
       "3            0.0            0.0          0.0           0.0           0.0   \n",
       "4            0.0            0.0          0.0           0.0           0.0   \n",
       "\n",
       "   model_micra  model_mii  model_modus  model_mondeo  model_move  model_musa  \\\n",
       "0          0.0        0.0          0.0           0.0         0.0         0.0   \n",
       "1          0.0        0.0          0.0           0.0         0.0         0.0   \n",
       "2          0.0        0.0          0.0           0.0         0.0         0.0   \n",
       "3          0.0        0.0          0.0           0.0         0.0         0.0   \n",
       "4          0.0        0.0          0.0           0.0         0.0         0.0   \n",
       "\n",
       "   model_mustang  model_mx_reihe  model_navara  model_niva  model_note  \\\n",
       "0            0.0             0.0           0.0         0.0         0.0   \n",
       "1            0.0             0.0           0.0         0.0         0.0   \n",
       "2            0.0             0.0           0.0         0.0         0.0   \n",
       "3            0.0             0.0           0.0         0.0         0.0   \n",
       "4            0.0             0.0           0.0         0.0         0.0   \n",
       "\n",
       "   model_nubira  model_octavia  model_omega  model_one  model_other  \\\n",
       "0           0.0            0.0          0.0        0.0          0.0   \n",
       "1           0.0            0.0          0.0        0.0          0.0   \n",
       "2           0.0            0.0          0.0        0.0          0.0   \n",
       "3           0.0            0.0          0.0        0.0          0.0   \n",
       "4           0.0            0.0          0.0        0.0          0.0   \n",
       "\n",
       "   model_outlander  model_pajero  model_panda  model_passat  model_phaeton  \\\n",
       "0              0.0           0.0          0.0           0.0            0.0   \n",
       "1              0.0           0.0          0.0           0.0            0.0   \n",
       "2              0.0           0.0          0.0           0.0            0.0   \n",
       "3              0.0           0.0          0.0           0.0            0.0   \n",
       "4              0.0           0.0          0.0           0.0            0.0   \n",
       "\n",
       "   model_picanto  model_polo  model_primera  model_ptcruiser  model_punto  \\\n",
       "0            0.0         0.0            0.0              0.0          0.0   \n",
       "1            0.0         0.0            0.0              0.0          0.0   \n",
       "2            0.0         0.0            0.0              0.0          0.0   \n",
       "3            0.0         1.0            0.0              0.0          0.0   \n",
       "4            0.0         0.0            0.0              0.0          0.0   \n",
       "\n",
       "   model_q3  model_q5  model_q7  model_qashqai  model_r19  model_range_rover  \\\n",
       "0       0.0       0.0       0.0            0.0        0.0                0.0   \n",
       "1       0.0       0.0       0.0            0.0        0.0                0.0   \n",
       "2       0.0       0.0       0.0            0.0        0.0                0.0   \n",
       "3       0.0       0.0       0.0            0.0        0.0                0.0   \n",
       "4       0.0       0.0       0.0            0.0        0.0                0.0   \n",
       "\n",
       "   model_range_rover_evoque  model_range_rover_sport  model_rangerover  \\\n",
       "0                       0.0                      0.0               0.0   \n",
       "1                       0.0                      0.0               0.0   \n",
       "2                       0.0                      0.0               0.0   \n",
       "3                       0.0                      0.0               0.0   \n",
       "4                       0.0                      0.0               0.0   \n",
       "\n",
       "   model_rav  model_rio  model_roadster  model_roomster  model_rx_reihe  \\\n",
       "0        0.0        1.0             0.0             0.0             0.0   \n",
       "1        0.0        0.0             0.0             0.0             0.0   \n",
       "2        0.0        0.0             0.0             0.0             0.0   \n",
       "3        0.0        0.0             0.0             0.0             0.0   \n",
       "4        0.0        0.0             0.0             0.0             0.0   \n",
       "\n",
       "   model_s60  model_s_klasse  model_s_max  model_s_type  model_samara  \\\n",
       "0        0.0             0.0          0.0           0.0           0.0   \n",
       "1        0.0             0.0          0.0           0.0           0.0   \n",
       "2        0.0             0.0          0.0           0.0           0.0   \n",
       "3        0.0             0.0          0.0           0.0           0.0   \n",
       "4        0.0             0.0          0.0           0.0           0.0   \n",
       "\n",
       "   model_sandero  model_santa  model_scenic  model_scirocco  model_seicento  \\\n",
       "0            0.0          0.0           0.0             0.0             0.0   \n",
       "1            0.0          0.0           0.0             0.0             0.0   \n",
       "2            0.0          0.0           0.0             0.0             0.0   \n",
       "3            0.0          0.0           0.0             0.0             0.0   \n",
       "4            0.0          0.0           0.0             0.0             0.0   \n",
       "\n",
       "   model_serie_2  model_serie_3  model_sharan  model_signum  model_sirion  \\\n",
       "0            0.0            0.0           0.0           0.0           0.0   \n",
       "1            0.0            0.0           0.0           0.0           0.0   \n",
       "2            0.0            0.0           0.0           0.0           0.0   \n",
       "3            0.0            0.0           0.0           0.0           0.0   \n",
       "4            0.0            0.0           0.0           0.0           0.0   \n",
       "\n",
       "   model_sl  model_slk  model_sorento  model_spark  model_spider  \\\n",
       "0       0.0        0.0            0.0          0.0           0.0   \n",
       "1       0.0        0.0            0.0          0.0           0.0   \n",
       "2       0.0        0.0            0.0          0.0           0.0   \n",
       "3       0.0        0.0            0.0          0.0           0.0   \n",
       "4       0.0        0.0            0.0          0.0           0.0   \n",
       "\n",
       "   model_sportage  model_sprinter  model_stilo  model_superb  model_swift  \\\n",
       "0             0.0             0.0          0.0           0.0          0.0   \n",
       "1             0.0             0.0          0.0           0.0          0.0   \n",
       "2             0.0             0.0          0.0           0.0          0.0   \n",
       "3             0.0             0.0          0.0           0.0          0.0   \n",
       "4             0.0             0.0          0.0           0.0          0.0   \n",
       "\n",
       "   model_terios  model_tigra  model_tiguan  model_toledo  model_touareg  \\\n",
       "0           0.0          0.0           0.0           0.0            0.0   \n",
       "1           0.0          0.0           0.0           0.0            0.0   \n",
       "2           0.0          0.0           0.0           0.0            0.0   \n",
       "3           0.0          0.0           0.0           0.0            0.0   \n",
       "4           0.0          0.0           0.0           0.0            0.0   \n",
       "\n",
       "   model_touran  model_transit  model_transporter  model_tt  model_tucson  \\\n",
       "0           0.0            0.0                0.0       0.0           0.0   \n",
       "1           0.0            0.0                0.0       0.0           0.0   \n",
       "2           0.0            0.0                0.0       0.0           0.0   \n",
       "3           0.0            0.0                0.0       0.0           0.0   \n",
       "4           0.0            0.0                0.0       0.0           0.0   \n",
       "\n",
       "   model_twingo  model_up  model_v40  model_v50  model_v60  model_v70  \\\n",
       "0           0.0       0.0        0.0        0.0        0.0        0.0   \n",
       "1           0.0       0.0        0.0        0.0        0.0        0.0   \n",
       "2           0.0       0.0        0.0        0.0        0.0        0.0   \n",
       "3           0.0       0.0        0.0        0.0        0.0        0.0   \n",
       "4           0.0       0.0        0.0        0.0        0.0        0.0   \n",
       "\n",
       "   model_v_klasse  model_vectra  model_verso  model_viano  model_vito  \\\n",
       "0             0.0           0.0          0.0          0.0         0.0   \n",
       "1             0.0           0.0          0.0          0.0         0.0   \n",
       "2             0.0           0.0          0.0          0.0         0.0   \n",
       "3             0.0           0.0          0.0          0.0         0.0   \n",
       "4             0.0           0.0          0.0          0.0         0.0   \n",
       "\n",
       "   model_vivaro  model_voyager  model_wrangler  model_x_reihe  model_x_trail  \\\n",
       "0           0.0            0.0             0.0            0.0            0.0   \n",
       "1           0.0            0.0             0.0            0.0            0.0   \n",
       "2           0.0            0.0             0.0            0.0            0.0   \n",
       "3           0.0            0.0             0.0            0.0            0.0   \n",
       "4           0.0            0.0             0.0            0.0            0.0   \n",
       "\n",
       "   model_x_type  model_xc_reihe  model_yaris  model_yeti  model_ypsilon  \\\n",
       "0           0.0             0.0          0.0         0.0            0.0   \n",
       "1           0.0             0.0          0.0         0.0            0.0   \n",
       "2           0.0             0.0          0.0         0.0            0.0   \n",
       "3           0.0             0.0          0.0         0.0            0.0   \n",
       "4           0.0             0.0          0.0         0.0            0.0   \n",
       "\n",
       "   model_z_reihe  model_zafira  fuel_type_electric  fuel_type_gasoline  \\\n",
       "0            0.0           0.0                 0.0                 0.0   \n",
       "1            0.0           0.0                 0.0                 0.0   \n",
       "2            0.0           0.0                 0.0                 0.0   \n",
       "3            0.0           0.0                 0.0                 0.0   \n",
       "4            0.0           0.0                 0.0                 1.0   \n",
       "\n",
       "   fuel_type_hybrid  fuel_type_lpg  fuel_type_other  fuel_type_petrol  \\\n",
       "0               0.0            0.0              0.0               1.0   \n",
       "1               0.0            0.0              0.0               1.0   \n",
       "2               0.0            0.0              0.0               1.0   \n",
       "3               0.0            0.0              0.0               1.0   \n",
       "4               0.0            0.0              0.0               0.0   \n",
       "\n",
       "   brand_audi  brand_bmw  brand_chevrolet  brand_chrysler  brand_citroen  \\\n",
       "0         0.0        0.0              0.0             0.0            0.0   \n",
       "1         0.0        0.0              0.0             0.0            0.0   \n",
       "2         0.0        0.0              0.0             0.0            0.0   \n",
       "3         0.0        0.0              0.0             0.0            0.0   \n",
       "4         1.0        0.0              0.0             0.0            0.0   \n",
       "\n",
       "   brand_dacia  brand_daewoo  brand_daihatsu  brand_fiat  brand_ford  \\\n",
       "0          0.0           0.0             0.0         0.0         0.0   \n",
       "1          0.0           0.0             0.0         0.0         0.0   \n",
       "2          0.0           0.0             0.0         0.0         0.0   \n",
       "3          0.0           0.0             0.0         0.0         0.0   \n",
       "4          0.0           0.0             0.0         0.0         0.0   \n",
       "\n",
       "   brand_honda  brand_hyundai  brand_jaguar  brand_jeep  brand_kia  \\\n",
       "0          0.0            0.0           0.0         0.0        1.0   \n",
       "1          0.0            1.0           0.0         0.0        0.0   \n",
       "2          0.0            0.0           0.0         0.0        0.0   \n",
       "3          0.0            0.0           0.0         0.0        0.0   \n",
       "4          0.0            0.0           0.0         0.0        0.0   \n",
       "\n",
       "   brand_lada  brand_lancia  brand_land_rover  brand_mazda  \\\n",
       "0         0.0           0.0               0.0          0.0   \n",
       "1         0.0           0.0               0.0          0.0   \n",
       "2         0.0           0.0               0.0          0.0   \n",
       "3         0.0           0.0               0.0          0.0   \n",
       "4         0.0           0.0               0.0          0.0   \n",
       "\n",
       "   brand_mercedes_benz  brand_mini  brand_mitsubishi  brand_nissan  \\\n",
       "0                  0.0         0.0               0.0           0.0   \n",
       "1                  0.0         0.0               0.0           0.0   \n",
       "2                  0.0         0.0               0.0           0.0   \n",
       "3                  0.0         0.0               0.0           0.0   \n",
       "4                  0.0         0.0               0.0           0.0   \n",
       "\n",
       "   brand_opel  brand_peugeot  brand_porsche  brand_renault  brand_rover  \\\n",
       "0         0.0            0.0            0.0            0.0          0.0   \n",
       "1         0.0            0.0            0.0            0.0          0.0   \n",
       "2         0.0            0.0            0.0            0.0          0.0   \n",
       "3         0.0            0.0            0.0            0.0          0.0   \n",
       "4         0.0            0.0            0.0            0.0          0.0   \n",
       "\n",
       "   brand_saab  brand_seat  brand_skoda  brand_smart  brand_sonstige_autos  \\\n",
       "0         0.0         0.0          0.0          0.0                   0.0   \n",
       "1         0.0         0.0          0.0          0.0                   0.0   \n",
       "2         0.0         0.0          0.0          0.0                   0.0   \n",
       "3         0.0         0.0          0.0          0.0                   0.0   \n",
       "4         0.0         0.0          0.0          0.0                   0.0   \n",
       "\n",
       "   brand_subaru  brand_suzuki  brand_toyota  brand_trabant  brand_volkswagen  \\\n",
       "0           0.0           0.0           0.0            0.0               0.0   \n",
       "1           0.0           0.0           0.0            0.0               0.0   \n",
       "2           0.0           0.0           0.0            0.0               1.0   \n",
       "3           0.0           0.0           0.0            0.0               1.0   \n",
       "4           0.0           0.0           0.0            0.0               0.0   \n",
       "\n",
       "   brand_volvo  registration_year     power  kilometer  repaired  \n",
       "0          0.0           0.456565 -0.095822   0.560571 -0.335045  \n",
       "1          0.0           0.028541 -1.104482  -0.151677  2.984672  \n",
       "2          0.0          -0.256808 -0.842230   0.560571 -0.335045  \n",
       "3          0.0          -0.328145 -1.427254   0.560571 -0.335045  \n",
       "4          0.0          -0.078464  0.771626   0.560571 -0.335045  "
      ]
     },
     "execution_count": 58,
     "metadata": {},
     "output_type": "execute_result"
    }
   ],
   "source": [
    "# признак repaired уже бинарный, его не будем кодировать/масштабировать\n",
    "# добавляем remainder='passthrough, чтобы он не пропал \n",
    "col_transformer_ohe = make_column_transformer(\n",
    "    (\n",
    "        OneHotEncoder(drop='first', handle_unknown='ignore'),\n",
    "        ohe_features_columns\n",
    "    ),\n",
    "    remainder='passthrough',\n",
    "    verbose_feature_names_out=False\n",
    ")\n",
    "\n",
    "# всё готово в пару строк кода\n",
    "X_train_ohe = pd.DataFrame.sparse.from_spmatrix(\n",
    "    col_transformer_ohe.fit_transform(X_train_ohe),\n",
    "    columns=col_transformer_ohe.get_feature_names_out()\n",
    ")\n",
    "\n",
    "# смотрим на результат\n",
    "X_train_ohe.head()"
   ]
  },
  {
   "cell_type": "code",
   "execution_count": 59,
   "metadata": {},
   "outputs": [
    {
     "data": {
      "text/html": [
       "<div>\n",
       "<style scoped>\n",
       "    .dataframe tbody tr th:only-of-type {\n",
       "        vertical-align: middle;\n",
       "    }\n",
       "\n",
       "    .dataframe tbody tr th {\n",
       "        vertical-align: top;\n",
       "    }\n",
       "\n",
       "    .dataframe thead th {\n",
       "        text-align: right;\n",
       "    }\n",
       "</style>\n",
       "<table border=\"1\" class=\"dataframe\">\n",
       "  <thead>\n",
       "    <tr style=\"text-align: right;\">\n",
       "      <th></th>\n",
       "      <th>vehicle_type_convertible</th>\n",
       "      <th>vehicle_type_coupe</th>\n",
       "      <th>vehicle_type_other</th>\n",
       "      <th>vehicle_type_sedan</th>\n",
       "      <th>vehicle_type_small</th>\n",
       "      <th>vehicle_type_suv</th>\n",
       "      <th>vehicle_type_wagon</th>\n",
       "      <th>gearbox_manual</th>\n",
       "      <th>model_145</th>\n",
       "      <th>model_147</th>\n",
       "      <th>model_156</th>\n",
       "      <th>model_159</th>\n",
       "      <th>model_1_reihe</th>\n",
       "      <th>model_1er</th>\n",
       "      <th>model_200</th>\n",
       "      <th>model_2_reihe</th>\n",
       "      <th>model_300c</th>\n",
       "      <th>model_3_reihe</th>\n",
       "      <th>model_3er</th>\n",
       "      <th>model_4_reihe</th>\n",
       "      <th>model_500</th>\n",
       "      <th>model_5_reihe</th>\n",
       "      <th>model_5er</th>\n",
       "      <th>model_601</th>\n",
       "      <th>model_6_reihe</th>\n",
       "      <th>model_6er</th>\n",
       "      <th>model_7er</th>\n",
       "      <th>model_80</th>\n",
       "      <th>model_850</th>\n",
       "      <th>model_90</th>\n",
       "      <th>model_900</th>\n",
       "      <th>model_9000</th>\n",
       "      <th>model_911</th>\n",
       "      <th>model_a1</th>\n",
       "      <th>model_a2</th>\n",
       "      <th>model_a3</th>\n",
       "      <th>model_a4</th>\n",
       "      <th>model_a5</th>\n",
       "      <th>model_a6</th>\n",
       "      <th>model_a8</th>\n",
       "      <th>model_a_klasse</th>\n",
       "      <th>model_accord</th>\n",
       "      <th>model_agila</th>\n",
       "      <th>model_alhambra</th>\n",
       "      <th>model_almera</th>\n",
       "      <th>model_altea</th>\n",
       "      <th>model_amarok</th>\n",
       "      <th>model_antara</th>\n",
       "      <th>model_arosa</th>\n",
       "      <th>model_astra</th>\n",
       "      <th>model_auris</th>\n",
       "      <th>model_avensis</th>\n",
       "      <th>model_aveo</th>\n",
       "      <th>model_aygo</th>\n",
       "      <th>model_b_klasse</th>\n",
       "      <th>model_b_max</th>\n",
       "      <th>model_beetle</th>\n",
       "      <th>model_berlingo</th>\n",
       "      <th>model_bora</th>\n",
       "      <th>model_boxster</th>\n",
       "      <th>model_bravo</th>\n",
       "      <th>model_c1</th>\n",
       "      <th>model_c2</th>\n",
       "      <th>model_c3</th>\n",
       "      <th>model_c4</th>\n",
       "      <th>model_c5</th>\n",
       "      <th>model_c_klasse</th>\n",
       "      <th>model_c_max</th>\n",
       "      <th>model_c_reihe</th>\n",
       "      <th>model_caddy</th>\n",
       "      <th>model_calibra</th>\n",
       "      <th>model_captiva</th>\n",
       "      <th>model_carisma</th>\n",
       "      <th>model_carnival</th>\n",
       "      <th>model_cayenne</th>\n",
       "      <th>model_cc</th>\n",
       "      <th>model_ceed</th>\n",
       "      <th>model_charade</th>\n",
       "      <th>model_cherokee</th>\n",
       "      <th>model_citigo</th>\n",
       "      <th>model_civic</th>\n",
       "      <th>model_cl</th>\n",
       "      <th>model_clio</th>\n",
       "      <th>model_clk</th>\n",
       "      <th>model_clubman</th>\n",
       "      <th>model_colt</th>\n",
       "      <th>model_combo</th>\n",
       "      <th>model_cooper</th>\n",
       "      <th>model_cordoba</th>\n",
       "      <th>model_corolla</th>\n",
       "      <th>model_corsa</th>\n",
       "      <th>model_cr_reihe</th>\n",
       "      <th>model_croma</th>\n",
       "      <th>model_crossfire</th>\n",
       "      <th>model_cuore</th>\n",
       "      <th>model_cx_reihe</th>\n",
       "      <th>model_defender</th>\n",
       "      <th>model_delta</th>\n",
       "      <th>model_discovery</th>\n",
       "      <th>model_doblo</th>\n",
       "      <th>model_ducato</th>\n",
       "      <th>model_duster</th>\n",
       "      <th>model_e_klasse</th>\n",
       "      <th>model_elefantino</th>\n",
       "      <th>model_eos</th>\n",
       "      <th>model_escort</th>\n",
       "      <th>model_espace</th>\n",
       "      <th>model_exeo</th>\n",
       "      <th>model_fabia</th>\n",
       "      <th>model_fiesta</th>\n",
       "      <th>model_focus</th>\n",
       "      <th>model_forester</th>\n",
       "      <th>model_forfour</th>\n",
       "      <th>model_fortwo</th>\n",
       "      <th>model_fox</th>\n",
       "      <th>model_freelander</th>\n",
       "      <th>model_fusion</th>\n",
       "      <th>model_g_klasse</th>\n",
       "      <th>model_galant</th>\n",
       "      <th>model_galaxy</th>\n",
       "      <th>model_getz</th>\n",
       "      <th>model_gl</th>\n",
       "      <th>model_glk</th>\n",
       "      <th>model_golf</th>\n",
       "      <th>model_grand</th>\n",
       "      <th>model_i3</th>\n",
       "      <th>model_i_reihe</th>\n",
       "      <th>model_ibiza</th>\n",
       "      <th>model_impreza</th>\n",
       "      <th>model_insignia</th>\n",
       "      <th>model_jazz</th>\n",
       "      <th>model_jetta</th>\n",
       "      <th>model_jimny</th>\n",
       "      <th>model_juke</th>\n",
       "      <th>model_justy</th>\n",
       "      <th>model_ka</th>\n",
       "      <th>model_kadett</th>\n",
       "      <th>model_kaefer</th>\n",
       "      <th>model_kalina</th>\n",
       "      <th>model_kalos</th>\n",
       "      <th>model_kangoo</th>\n",
       "      <th>model_kappa</th>\n",
       "      <th>model_kuga</th>\n",
       "      <th>model_laguna</th>\n",
       "      <th>model_lancer</th>\n",
       "      <th>model_lanos</th>\n",
       "      <th>model_legacy</th>\n",
       "      <th>model_leon</th>\n",
       "      <th>model_lodgy</th>\n",
       "      <th>model_logan</th>\n",
       "      <th>model_lupo</th>\n",
       "      <th>model_lybra</th>\n",
       "      <th>model_m_klasse</th>\n",
       "      <th>model_m_reihe</th>\n",
       "      <th>model_materia</th>\n",
       "      <th>model_matiz</th>\n",
       "      <th>model_megane</th>\n",
       "      <th>model_meriva</th>\n",
       "      <th>model_micra</th>\n",
       "      <th>model_mii</th>\n",
       "      <th>model_modus</th>\n",
       "      <th>model_mondeo</th>\n",
       "      <th>model_move</th>\n",
       "      <th>model_musa</th>\n",
       "      <th>model_mustang</th>\n",
       "      <th>model_mx_reihe</th>\n",
       "      <th>model_navara</th>\n",
       "      <th>model_niva</th>\n",
       "      <th>model_note</th>\n",
       "      <th>model_nubira</th>\n",
       "      <th>model_octavia</th>\n",
       "      <th>model_omega</th>\n",
       "      <th>model_one</th>\n",
       "      <th>model_other</th>\n",
       "      <th>model_outlander</th>\n",
       "      <th>model_pajero</th>\n",
       "      <th>model_panda</th>\n",
       "      <th>model_passat</th>\n",
       "      <th>model_phaeton</th>\n",
       "      <th>model_picanto</th>\n",
       "      <th>model_polo</th>\n",
       "      <th>model_primera</th>\n",
       "      <th>model_ptcruiser</th>\n",
       "      <th>model_punto</th>\n",
       "      <th>model_q3</th>\n",
       "      <th>model_q5</th>\n",
       "      <th>model_q7</th>\n",
       "      <th>model_qashqai</th>\n",
       "      <th>model_r19</th>\n",
       "      <th>model_range_rover</th>\n",
       "      <th>model_range_rover_evoque</th>\n",
       "      <th>model_range_rover_sport</th>\n",
       "      <th>model_rangerover</th>\n",
       "      <th>model_rav</th>\n",
       "      <th>model_rio</th>\n",
       "      <th>model_roadster</th>\n",
       "      <th>model_roomster</th>\n",
       "      <th>model_rx_reihe</th>\n",
       "      <th>model_s60</th>\n",
       "      <th>model_s_klasse</th>\n",
       "      <th>model_s_max</th>\n",
       "      <th>model_s_type</th>\n",
       "      <th>model_samara</th>\n",
       "      <th>model_sandero</th>\n",
       "      <th>model_santa</th>\n",
       "      <th>model_scenic</th>\n",
       "      <th>model_scirocco</th>\n",
       "      <th>model_seicento</th>\n",
       "      <th>model_serie_2</th>\n",
       "      <th>model_serie_3</th>\n",
       "      <th>model_sharan</th>\n",
       "      <th>model_signum</th>\n",
       "      <th>model_sirion</th>\n",
       "      <th>model_sl</th>\n",
       "      <th>model_slk</th>\n",
       "      <th>model_sorento</th>\n",
       "      <th>model_spark</th>\n",
       "      <th>model_spider</th>\n",
       "      <th>model_sportage</th>\n",
       "      <th>model_sprinter</th>\n",
       "      <th>model_stilo</th>\n",
       "      <th>model_superb</th>\n",
       "      <th>model_swift</th>\n",
       "      <th>model_terios</th>\n",
       "      <th>model_tigra</th>\n",
       "      <th>model_tiguan</th>\n",
       "      <th>model_toledo</th>\n",
       "      <th>model_touareg</th>\n",
       "      <th>model_touran</th>\n",
       "      <th>model_transit</th>\n",
       "      <th>model_transporter</th>\n",
       "      <th>model_tt</th>\n",
       "      <th>model_tucson</th>\n",
       "      <th>model_twingo</th>\n",
       "      <th>model_up</th>\n",
       "      <th>model_v40</th>\n",
       "      <th>model_v50</th>\n",
       "      <th>model_v60</th>\n",
       "      <th>model_v70</th>\n",
       "      <th>model_v_klasse</th>\n",
       "      <th>model_vectra</th>\n",
       "      <th>model_verso</th>\n",
       "      <th>model_viano</th>\n",
       "      <th>model_vito</th>\n",
       "      <th>model_vivaro</th>\n",
       "      <th>model_voyager</th>\n",
       "      <th>model_wrangler</th>\n",
       "      <th>model_x_reihe</th>\n",
       "      <th>model_x_trail</th>\n",
       "      <th>model_x_type</th>\n",
       "      <th>model_xc_reihe</th>\n",
       "      <th>model_yaris</th>\n",
       "      <th>model_yeti</th>\n",
       "      <th>model_ypsilon</th>\n",
       "      <th>model_z_reihe</th>\n",
       "      <th>model_zafira</th>\n",
       "      <th>fuel_type_electric</th>\n",
       "      <th>fuel_type_gasoline</th>\n",
       "      <th>fuel_type_hybrid</th>\n",
       "      <th>fuel_type_lpg</th>\n",
       "      <th>fuel_type_other</th>\n",
       "      <th>fuel_type_petrol</th>\n",
       "      <th>brand_audi</th>\n",
       "      <th>brand_bmw</th>\n",
       "      <th>brand_chevrolet</th>\n",
       "      <th>brand_chrysler</th>\n",
       "      <th>brand_citroen</th>\n",
       "      <th>brand_dacia</th>\n",
       "      <th>brand_daewoo</th>\n",
       "      <th>brand_daihatsu</th>\n",
       "      <th>brand_fiat</th>\n",
       "      <th>brand_ford</th>\n",
       "      <th>brand_honda</th>\n",
       "      <th>brand_hyundai</th>\n",
       "      <th>brand_jaguar</th>\n",
       "      <th>brand_jeep</th>\n",
       "      <th>brand_kia</th>\n",
       "      <th>brand_lada</th>\n",
       "      <th>brand_lancia</th>\n",
       "      <th>brand_land_rover</th>\n",
       "      <th>brand_mazda</th>\n",
       "      <th>brand_mercedes_benz</th>\n",
       "      <th>brand_mini</th>\n",
       "      <th>brand_mitsubishi</th>\n",
       "      <th>brand_nissan</th>\n",
       "      <th>brand_opel</th>\n",
       "      <th>brand_peugeot</th>\n",
       "      <th>brand_porsche</th>\n",
       "      <th>brand_renault</th>\n",
       "      <th>brand_rover</th>\n",
       "      <th>brand_saab</th>\n",
       "      <th>brand_seat</th>\n",
       "      <th>brand_skoda</th>\n",
       "      <th>brand_smart</th>\n",
       "      <th>brand_sonstige_autos</th>\n",
       "      <th>brand_subaru</th>\n",
       "      <th>brand_suzuki</th>\n",
       "      <th>brand_toyota</th>\n",
       "      <th>brand_trabant</th>\n",
       "      <th>brand_volkswagen</th>\n",
       "      <th>brand_volvo</th>\n",
       "      <th>registration_year</th>\n",
       "      <th>power</th>\n",
       "      <th>kilometer</th>\n",
       "      <th>repaired</th>\n",
       "    </tr>\n",
       "  </thead>\n",
       "  <tbody>\n",
       "    <tr>\n",
       "      <th>0</th>\n",
       "      <td>0.0</td>\n",
       "      <td>0.0</td>\n",
       "      <td>0.0</td>\n",
       "      <td>0.0</td>\n",
       "      <td>0.0</td>\n",
       "      <td>0.0</td>\n",
       "      <td>1.0</td>\n",
       "      <td>1.0</td>\n",
       "      <td>0.0</td>\n",
       "      <td>0.0</td>\n",
       "      <td>0.0</td>\n",
       "      <td>0.0</td>\n",
       "      <td>0.0</td>\n",
       "      <td>0.0</td>\n",
       "      <td>0.0</td>\n",
       "      <td>0.0</td>\n",
       "      <td>0.0</td>\n",
       "      <td>0.0</td>\n",
       "      <td>0.0</td>\n",
       "      <td>0.0</td>\n",
       "      <td>0.0</td>\n",
       "      <td>0.0</td>\n",
       "      <td>0.0</td>\n",
       "      <td>0.0</td>\n",
       "      <td>0.0</td>\n",
       "      <td>0.0</td>\n",
       "      <td>0.0</td>\n",
       "      <td>0.0</td>\n",
       "      <td>0.0</td>\n",
       "      <td>0.0</td>\n",
       "      <td>0.0</td>\n",
       "      <td>0.0</td>\n",
       "      <td>0.0</td>\n",
       "      <td>0.0</td>\n",
       "      <td>0.0</td>\n",
       "      <td>0.0</td>\n",
       "      <td>0.0</td>\n",
       "      <td>0.0</td>\n",
       "      <td>0.0</td>\n",
       "      <td>0.0</td>\n",
       "      <td>0.0</td>\n",
       "      <td>0.0</td>\n",
       "      <td>0.0</td>\n",
       "      <td>0.0</td>\n",
       "      <td>0.0</td>\n",
       "      <td>0.0</td>\n",
       "      <td>0.0</td>\n",
       "      <td>0.0</td>\n",
       "      <td>0.0</td>\n",
       "      <td>0.0</td>\n",
       "      <td>0.0</td>\n",
       "      <td>0.0</td>\n",
       "      <td>0.0</td>\n",
       "      <td>0.0</td>\n",
       "      <td>0.0</td>\n",
       "      <td>0.0</td>\n",
       "      <td>0.0</td>\n",
       "      <td>0.0</td>\n",
       "      <td>0.0</td>\n",
       "      <td>0.0</td>\n",
       "      <td>0.0</td>\n",
       "      <td>0.0</td>\n",
       "      <td>0.0</td>\n",
       "      <td>0.0</td>\n",
       "      <td>0.0</td>\n",
       "      <td>0.0</td>\n",
       "      <td>0.0</td>\n",
       "      <td>0.0</td>\n",
       "      <td>0.0</td>\n",
       "      <td>0.0</td>\n",
       "      <td>0.0</td>\n",
       "      <td>0.0</td>\n",
       "      <td>0.0</td>\n",
       "      <td>0.0</td>\n",
       "      <td>0.0</td>\n",
       "      <td>0.0</td>\n",
       "      <td>0.0</td>\n",
       "      <td>0.0</td>\n",
       "      <td>0.0</td>\n",
       "      <td>0.0</td>\n",
       "      <td>0.0</td>\n",
       "      <td>0.0</td>\n",
       "      <td>0.0</td>\n",
       "      <td>0.0</td>\n",
       "      <td>0.0</td>\n",
       "      <td>0.0</td>\n",
       "      <td>0.0</td>\n",
       "      <td>0.0</td>\n",
       "      <td>0.0</td>\n",
       "      <td>0.0</td>\n",
       "      <td>0.0</td>\n",
       "      <td>0.0</td>\n",
       "      <td>0.0</td>\n",
       "      <td>0.0</td>\n",
       "      <td>0.0</td>\n",
       "      <td>0.0</td>\n",
       "      <td>0.0</td>\n",
       "      <td>0.0</td>\n",
       "      <td>0.0</td>\n",
       "      <td>0.0</td>\n",
       "      <td>0.0</td>\n",
       "      <td>0.0</td>\n",
       "      <td>0.0</td>\n",
       "      <td>0.0</td>\n",
       "      <td>0.0</td>\n",
       "      <td>0.0</td>\n",
       "      <td>0.0</td>\n",
       "      <td>0.0</td>\n",
       "      <td>0.0</td>\n",
       "      <td>0.0</td>\n",
       "      <td>0.0</td>\n",
       "      <td>0.0</td>\n",
       "      <td>0.0</td>\n",
       "      <td>0.0</td>\n",
       "      <td>0.0</td>\n",
       "      <td>0.0</td>\n",
       "      <td>0.0</td>\n",
       "      <td>0.0</td>\n",
       "      <td>0.0</td>\n",
       "      <td>0.0</td>\n",
       "      <td>0.0</td>\n",
       "      <td>0.0</td>\n",
       "      <td>0.0</td>\n",
       "      <td>0.0</td>\n",
       "      <td>0.0</td>\n",
       "      <td>0.0</td>\n",
       "      <td>0.0</td>\n",
       "      <td>0.0</td>\n",
       "      <td>0.0</td>\n",
       "      <td>0.0</td>\n",
       "      <td>0.0</td>\n",
       "      <td>0.0</td>\n",
       "      <td>0.0</td>\n",
       "      <td>0.0</td>\n",
       "      <td>0.0</td>\n",
       "      <td>0.0</td>\n",
       "      <td>0.0</td>\n",
       "      <td>0.0</td>\n",
       "      <td>0.0</td>\n",
       "      <td>0.0</td>\n",
       "      <td>0.0</td>\n",
       "      <td>0.0</td>\n",
       "      <td>0.0</td>\n",
       "      <td>0.0</td>\n",
       "      <td>0.0</td>\n",
       "      <td>0.0</td>\n",
       "      <td>0.0</td>\n",
       "      <td>0.0</td>\n",
       "      <td>0.0</td>\n",
       "      <td>0.0</td>\n",
       "      <td>0.0</td>\n",
       "      <td>0.0</td>\n",
       "      <td>0.0</td>\n",
       "      <td>0.0</td>\n",
       "      <td>0.0</td>\n",
       "      <td>0.0</td>\n",
       "      <td>0.0</td>\n",
       "      <td>0.0</td>\n",
       "      <td>0.0</td>\n",
       "      <td>0.0</td>\n",
       "      <td>0.0</td>\n",
       "      <td>0.0</td>\n",
       "      <td>0.0</td>\n",
       "      <td>0.0</td>\n",
       "      <td>0.0</td>\n",
       "      <td>0.0</td>\n",
       "      <td>0.0</td>\n",
       "      <td>0.0</td>\n",
       "      <td>0.0</td>\n",
       "      <td>0.0</td>\n",
       "      <td>0.0</td>\n",
       "      <td>0.0</td>\n",
       "      <td>0.0</td>\n",
       "      <td>0.0</td>\n",
       "      <td>0.0</td>\n",
       "      <td>0.0</td>\n",
       "      <td>0.0</td>\n",
       "      <td>0.0</td>\n",
       "      <td>0.0</td>\n",
       "      <td>0.0</td>\n",
       "      <td>0.0</td>\n",
       "      <td>0.0</td>\n",
       "      <td>0.0</td>\n",
       "      <td>0.0</td>\n",
       "      <td>0.0</td>\n",
       "      <td>0.0</td>\n",
       "      <td>0.0</td>\n",
       "      <td>0.0</td>\n",
       "      <td>0.0</td>\n",
       "      <td>0.0</td>\n",
       "      <td>0.0</td>\n",
       "      <td>0.0</td>\n",
       "      <td>0.0</td>\n",
       "      <td>0.0</td>\n",
       "      <td>0.0</td>\n",
       "      <td>0.0</td>\n",
       "      <td>0.0</td>\n",
       "      <td>0.0</td>\n",
       "      <td>0.0</td>\n",
       "      <td>0.0</td>\n",
       "      <td>0.0</td>\n",
       "      <td>0.0</td>\n",
       "      <td>0.0</td>\n",
       "      <td>0.0</td>\n",
       "      <td>0.0</td>\n",
       "      <td>0.0</td>\n",
       "      <td>0.0</td>\n",
       "      <td>0.0</td>\n",
       "      <td>0.0</td>\n",
       "      <td>0.0</td>\n",
       "      <td>0.0</td>\n",
       "      <td>0.0</td>\n",
       "      <td>0.0</td>\n",
       "      <td>0.0</td>\n",
       "      <td>0.0</td>\n",
       "      <td>0.0</td>\n",
       "      <td>0.0</td>\n",
       "      <td>0.0</td>\n",
       "      <td>0.0</td>\n",
       "      <td>0.0</td>\n",
       "      <td>0.0</td>\n",
       "      <td>0.0</td>\n",
       "      <td>0.0</td>\n",
       "      <td>0.0</td>\n",
       "      <td>0.0</td>\n",
       "      <td>0.0</td>\n",
       "      <td>0.0</td>\n",
       "      <td>0.0</td>\n",
       "      <td>0.0</td>\n",
       "      <td>0.0</td>\n",
       "      <td>0.0</td>\n",
       "      <td>0.0</td>\n",
       "      <td>0.0</td>\n",
       "      <td>0.0</td>\n",
       "      <td>0.0</td>\n",
       "      <td>0.0</td>\n",
       "      <td>0.0</td>\n",
       "      <td>0.0</td>\n",
       "      <td>0.0</td>\n",
       "      <td>0.0</td>\n",
       "      <td>1.0</td>\n",
       "      <td>0.0</td>\n",
       "      <td>0.0</td>\n",
       "      <td>0.0</td>\n",
       "      <td>0.0</td>\n",
       "      <td>0.0</td>\n",
       "      <td>0.0</td>\n",
       "      <td>0.0</td>\n",
       "      <td>0.0</td>\n",
       "      <td>0.0</td>\n",
       "      <td>0.0</td>\n",
       "      <td>0.0</td>\n",
       "      <td>0.0</td>\n",
       "      <td>0.0</td>\n",
       "      <td>0.0</td>\n",
       "      <td>0.0</td>\n",
       "      <td>0.0</td>\n",
       "      <td>0.0</td>\n",
       "      <td>0.0</td>\n",
       "      <td>0.0</td>\n",
       "      <td>0.0</td>\n",
       "      <td>1.0</td>\n",
       "      <td>0.0</td>\n",
       "      <td>0.0</td>\n",
       "      <td>0.0</td>\n",
       "      <td>0.0</td>\n",
       "      <td>0.0</td>\n",
       "      <td>0.0</td>\n",
       "      <td>0.0</td>\n",
       "      <td>0.0</td>\n",
       "      <td>0.0</td>\n",
       "      <td>0.0</td>\n",
       "      <td>0.0</td>\n",
       "      <td>0.0</td>\n",
       "      <td>0.0</td>\n",
       "      <td>0.0</td>\n",
       "      <td>0.0</td>\n",
       "      <td>0.0</td>\n",
       "      <td>0.0</td>\n",
       "      <td>0.0</td>\n",
       "      <td>0.0</td>\n",
       "      <td>0.0</td>\n",
       "      <td>0.0</td>\n",
       "      <td>0.0</td>\n",
       "      <td>0.0</td>\n",
       "      <td>1.0</td>\n",
       "      <td>0.0</td>\n",
       "      <td>0.0</td>\n",
       "      <td>0.0</td>\n",
       "      <td>0.0</td>\n",
       "      <td>0.0</td>\n",
       "      <td>0.0</td>\n",
       "      <td>0.0</td>\n",
       "      <td>0.0</td>\n",
       "      <td>0.0</td>\n",
       "      <td>0.0</td>\n",
       "      <td>0.0</td>\n",
       "      <td>0.0</td>\n",
       "      <td>0.0</td>\n",
       "      <td>0.0</td>\n",
       "      <td>0.0</td>\n",
       "      <td>-0.221139</td>\n",
       "      <td>-0.015129</td>\n",
       "      <td>0.560571</td>\n",
       "      <td>-0.335045</td>\n",
       "    </tr>\n",
       "    <tr>\n",
       "      <th>1</th>\n",
       "      <td>0.0</td>\n",
       "      <td>0.0</td>\n",
       "      <td>0.0</td>\n",
       "      <td>1.0</td>\n",
       "      <td>0.0</td>\n",
       "      <td>0.0</td>\n",
       "      <td>0.0</td>\n",
       "      <td>1.0</td>\n",
       "      <td>0.0</td>\n",
       "      <td>0.0</td>\n",
       "      <td>0.0</td>\n",
       "      <td>0.0</td>\n",
       "      <td>0.0</td>\n",
       "      <td>0.0</td>\n",
       "      <td>0.0</td>\n",
       "      <td>0.0</td>\n",
       "      <td>0.0</td>\n",
       "      <td>0.0</td>\n",
       "      <td>0.0</td>\n",
       "      <td>0.0</td>\n",
       "      <td>0.0</td>\n",
       "      <td>0.0</td>\n",
       "      <td>0.0</td>\n",
       "      <td>0.0</td>\n",
       "      <td>0.0</td>\n",
       "      <td>0.0</td>\n",
       "      <td>0.0</td>\n",
       "      <td>0.0</td>\n",
       "      <td>0.0</td>\n",
       "      <td>0.0</td>\n",
       "      <td>0.0</td>\n",
       "      <td>0.0</td>\n",
       "      <td>0.0</td>\n",
       "      <td>0.0</td>\n",
       "      <td>0.0</td>\n",
       "      <td>0.0</td>\n",
       "      <td>0.0</td>\n",
       "      <td>0.0</td>\n",
       "      <td>0.0</td>\n",
       "      <td>0.0</td>\n",
       "      <td>0.0</td>\n",
       "      <td>0.0</td>\n",
       "      <td>0.0</td>\n",
       "      <td>0.0</td>\n",
       "      <td>0.0</td>\n",
       "      <td>0.0</td>\n",
       "      <td>0.0</td>\n",
       "      <td>0.0</td>\n",
       "      <td>0.0</td>\n",
       "      <td>0.0</td>\n",
       "      <td>0.0</td>\n",
       "      <td>0.0</td>\n",
       "      <td>0.0</td>\n",
       "      <td>0.0</td>\n",
       "      <td>0.0</td>\n",
       "      <td>0.0</td>\n",
       "      <td>0.0</td>\n",
       "      <td>0.0</td>\n",
       "      <td>0.0</td>\n",
       "      <td>0.0</td>\n",
       "      <td>0.0</td>\n",
       "      <td>0.0</td>\n",
       "      <td>0.0</td>\n",
       "      <td>0.0</td>\n",
       "      <td>0.0</td>\n",
       "      <td>0.0</td>\n",
       "      <td>0.0</td>\n",
       "      <td>0.0</td>\n",
       "      <td>0.0</td>\n",
       "      <td>0.0</td>\n",
       "      <td>0.0</td>\n",
       "      <td>0.0</td>\n",
       "      <td>0.0</td>\n",
       "      <td>0.0</td>\n",
       "      <td>0.0</td>\n",
       "      <td>0.0</td>\n",
       "      <td>0.0</td>\n",
       "      <td>0.0</td>\n",
       "      <td>0.0</td>\n",
       "      <td>0.0</td>\n",
       "      <td>0.0</td>\n",
       "      <td>0.0</td>\n",
       "      <td>0.0</td>\n",
       "      <td>0.0</td>\n",
       "      <td>0.0</td>\n",
       "      <td>0.0</td>\n",
       "      <td>0.0</td>\n",
       "      <td>0.0</td>\n",
       "      <td>0.0</td>\n",
       "      <td>0.0</td>\n",
       "      <td>0.0</td>\n",
       "      <td>0.0</td>\n",
       "      <td>0.0</td>\n",
       "      <td>0.0</td>\n",
       "      <td>0.0</td>\n",
       "      <td>0.0</td>\n",
       "      <td>0.0</td>\n",
       "      <td>0.0</td>\n",
       "      <td>0.0</td>\n",
       "      <td>0.0</td>\n",
       "      <td>0.0</td>\n",
       "      <td>0.0</td>\n",
       "      <td>0.0</td>\n",
       "      <td>0.0</td>\n",
       "      <td>0.0</td>\n",
       "      <td>0.0</td>\n",
       "      <td>0.0</td>\n",
       "      <td>0.0</td>\n",
       "      <td>0.0</td>\n",
       "      <td>0.0</td>\n",
       "      <td>0.0</td>\n",
       "      <td>0.0</td>\n",
       "      <td>0.0</td>\n",
       "      <td>0.0</td>\n",
       "      <td>0.0</td>\n",
       "      <td>0.0</td>\n",
       "      <td>0.0</td>\n",
       "      <td>0.0</td>\n",
       "      <td>0.0</td>\n",
       "      <td>0.0</td>\n",
       "      <td>0.0</td>\n",
       "      <td>0.0</td>\n",
       "      <td>0.0</td>\n",
       "      <td>1.0</td>\n",
       "      <td>0.0</td>\n",
       "      <td>0.0</td>\n",
       "      <td>0.0</td>\n",
       "      <td>0.0</td>\n",
       "      <td>0.0</td>\n",
       "      <td>0.0</td>\n",
       "      <td>0.0</td>\n",
       "      <td>0.0</td>\n",
       "      <td>0.0</td>\n",
       "      <td>0.0</td>\n",
       "      <td>0.0</td>\n",
       "      <td>0.0</td>\n",
       "      <td>0.0</td>\n",
       "      <td>0.0</td>\n",
       "      <td>0.0</td>\n",
       "      <td>0.0</td>\n",
       "      <td>0.0</td>\n",
       "      <td>0.0</td>\n",
       "      <td>0.0</td>\n",
       "      <td>0.0</td>\n",
       "      <td>0.0</td>\n",
       "      <td>0.0</td>\n",
       "      <td>0.0</td>\n",
       "      <td>0.0</td>\n",
       "      <td>0.0</td>\n",
       "      <td>0.0</td>\n",
       "      <td>0.0</td>\n",
       "      <td>0.0</td>\n",
       "      <td>0.0</td>\n",
       "      <td>0.0</td>\n",
       "      <td>0.0</td>\n",
       "      <td>0.0</td>\n",
       "      <td>0.0</td>\n",
       "      <td>0.0</td>\n",
       "      <td>0.0</td>\n",
       "      <td>0.0</td>\n",
       "      <td>0.0</td>\n",
       "      <td>0.0</td>\n",
       "      <td>0.0</td>\n",
       "      <td>0.0</td>\n",
       "      <td>0.0</td>\n",
       "      <td>0.0</td>\n",
       "      <td>0.0</td>\n",
       "      <td>0.0</td>\n",
       "      <td>0.0</td>\n",
       "      <td>0.0</td>\n",
       "      <td>0.0</td>\n",
       "      <td>0.0</td>\n",
       "      <td>0.0</td>\n",
       "      <td>0.0</td>\n",
       "      <td>0.0</td>\n",
       "      <td>0.0</td>\n",
       "      <td>0.0</td>\n",
       "      <td>0.0</td>\n",
       "      <td>0.0</td>\n",
       "      <td>0.0</td>\n",
       "      <td>0.0</td>\n",
       "      <td>0.0</td>\n",
       "      <td>0.0</td>\n",
       "      <td>0.0</td>\n",
       "      <td>0.0</td>\n",
       "      <td>0.0</td>\n",
       "      <td>0.0</td>\n",
       "      <td>0.0</td>\n",
       "      <td>0.0</td>\n",
       "      <td>0.0</td>\n",
       "      <td>0.0</td>\n",
       "      <td>0.0</td>\n",
       "      <td>0.0</td>\n",
       "      <td>0.0</td>\n",
       "      <td>0.0</td>\n",
       "      <td>0.0</td>\n",
       "      <td>0.0</td>\n",
       "      <td>0.0</td>\n",
       "      <td>0.0</td>\n",
       "      <td>0.0</td>\n",
       "      <td>0.0</td>\n",
       "      <td>0.0</td>\n",
       "      <td>0.0</td>\n",
       "      <td>0.0</td>\n",
       "      <td>0.0</td>\n",
       "      <td>0.0</td>\n",
       "      <td>0.0</td>\n",
       "      <td>0.0</td>\n",
       "      <td>0.0</td>\n",
       "      <td>0.0</td>\n",
       "      <td>0.0</td>\n",
       "      <td>0.0</td>\n",
       "      <td>0.0</td>\n",
       "      <td>0.0</td>\n",
       "      <td>0.0</td>\n",
       "      <td>0.0</td>\n",
       "      <td>0.0</td>\n",
       "      <td>0.0</td>\n",
       "      <td>0.0</td>\n",
       "      <td>0.0</td>\n",
       "      <td>0.0</td>\n",
       "      <td>0.0</td>\n",
       "      <td>0.0</td>\n",
       "      <td>0.0</td>\n",
       "      <td>0.0</td>\n",
       "      <td>0.0</td>\n",
       "      <td>0.0</td>\n",
       "      <td>0.0</td>\n",
       "      <td>0.0</td>\n",
       "      <td>0.0</td>\n",
       "      <td>0.0</td>\n",
       "      <td>0.0</td>\n",
       "      <td>0.0</td>\n",
       "      <td>0.0</td>\n",
       "      <td>0.0</td>\n",
       "      <td>0.0</td>\n",
       "      <td>0.0</td>\n",
       "      <td>0.0</td>\n",
       "      <td>0.0</td>\n",
       "      <td>0.0</td>\n",
       "      <td>0.0</td>\n",
       "      <td>0.0</td>\n",
       "      <td>0.0</td>\n",
       "      <td>0.0</td>\n",
       "      <td>0.0</td>\n",
       "      <td>0.0</td>\n",
       "      <td>0.0</td>\n",
       "      <td>0.0</td>\n",
       "      <td>0.0</td>\n",
       "      <td>0.0</td>\n",
       "      <td>0.0</td>\n",
       "      <td>0.0</td>\n",
       "      <td>0.0</td>\n",
       "      <td>0.0</td>\n",
       "      <td>0.0</td>\n",
       "      <td>0.0</td>\n",
       "      <td>0.0</td>\n",
       "      <td>0.0</td>\n",
       "      <td>0.0</td>\n",
       "      <td>0.0</td>\n",
       "      <td>0.0</td>\n",
       "      <td>1.0</td>\n",
       "      <td>0.0</td>\n",
       "      <td>0.0</td>\n",
       "      <td>0.0</td>\n",
       "      <td>0.0</td>\n",
       "      <td>0.0</td>\n",
       "      <td>0.0</td>\n",
       "      <td>0.0</td>\n",
       "      <td>0.0</td>\n",
       "      <td>0.0</td>\n",
       "      <td>0.0</td>\n",
       "      <td>0.0</td>\n",
       "      <td>0.0</td>\n",
       "      <td>0.0</td>\n",
       "      <td>0.0</td>\n",
       "      <td>0.0</td>\n",
       "      <td>0.0</td>\n",
       "      <td>0.0</td>\n",
       "      <td>0.0</td>\n",
       "      <td>0.0</td>\n",
       "      <td>0.0</td>\n",
       "      <td>0.0</td>\n",
       "      <td>0.0</td>\n",
       "      <td>0.0</td>\n",
       "      <td>0.0</td>\n",
       "      <td>0.0</td>\n",
       "      <td>0.0</td>\n",
       "      <td>0.0</td>\n",
       "      <td>0.0</td>\n",
       "      <td>0.0</td>\n",
       "      <td>0.0</td>\n",
       "      <td>0.0</td>\n",
       "      <td>0.0</td>\n",
       "      <td>0.0</td>\n",
       "      <td>0.0</td>\n",
       "      <td>0.0</td>\n",
       "      <td>0.0</td>\n",
       "      <td>0.0</td>\n",
       "      <td>1.0</td>\n",
       "      <td>0.0</td>\n",
       "      <td>-0.256808</td>\n",
       "      <td>-0.539632</td>\n",
       "      <td>-0.151677</td>\n",
       "      <td>-0.335045</td>\n",
       "    </tr>\n",
       "    <tr>\n",
       "      <th>2</th>\n",
       "      <td>0.0</td>\n",
       "      <td>0.0</td>\n",
       "      <td>0.0</td>\n",
       "      <td>0.0</td>\n",
       "      <td>1.0</td>\n",
       "      <td>0.0</td>\n",
       "      <td>0.0</td>\n",
       "      <td>1.0</td>\n",
       "      <td>0.0</td>\n",
       "      <td>0.0</td>\n",
       "      <td>0.0</td>\n",
       "      <td>0.0</td>\n",
       "      <td>0.0</td>\n",
       "      <td>0.0</td>\n",
       "      <td>0.0</td>\n",
       "      <td>0.0</td>\n",
       "      <td>0.0</td>\n",
       "      <td>0.0</td>\n",
       "      <td>0.0</td>\n",
       "      <td>0.0</td>\n",
       "      <td>0.0</td>\n",
       "      <td>0.0</td>\n",
       "      <td>0.0</td>\n",
       "      <td>0.0</td>\n",
       "      <td>0.0</td>\n",
       "      <td>0.0</td>\n",
       "      <td>0.0</td>\n",
       "      <td>0.0</td>\n",
       "      <td>0.0</td>\n",
       "      <td>0.0</td>\n",
       "      <td>0.0</td>\n",
       "      <td>0.0</td>\n",
       "      <td>0.0</td>\n",
       "      <td>0.0</td>\n",
       "      <td>0.0</td>\n",
       "      <td>0.0</td>\n",
       "      <td>0.0</td>\n",
       "      <td>0.0</td>\n",
       "      <td>0.0</td>\n",
       "      <td>0.0</td>\n",
       "      <td>0.0</td>\n",
       "      <td>0.0</td>\n",
       "      <td>0.0</td>\n",
       "      <td>0.0</td>\n",
       "      <td>0.0</td>\n",
       "      <td>0.0</td>\n",
       "      <td>0.0</td>\n",
       "      <td>0.0</td>\n",
       "      <td>0.0</td>\n",
       "      <td>0.0</td>\n",
       "      <td>0.0</td>\n",
       "      <td>0.0</td>\n",
       "      <td>0.0</td>\n",
       "      <td>0.0</td>\n",
       "      <td>0.0</td>\n",
       "      <td>0.0</td>\n",
       "      <td>0.0</td>\n",
       "      <td>0.0</td>\n",
       "      <td>0.0</td>\n",
       "      <td>0.0</td>\n",
       "      <td>0.0</td>\n",
       "      <td>0.0</td>\n",
       "      <td>0.0</td>\n",
       "      <td>0.0</td>\n",
       "      <td>0.0</td>\n",
       "      <td>0.0</td>\n",
       "      <td>0.0</td>\n",
       "      <td>0.0</td>\n",
       "      <td>0.0</td>\n",
       "      <td>0.0</td>\n",
       "      <td>0.0</td>\n",
       "      <td>0.0</td>\n",
       "      <td>0.0</td>\n",
       "      <td>0.0</td>\n",
       "      <td>0.0</td>\n",
       "      <td>0.0</td>\n",
       "      <td>0.0</td>\n",
       "      <td>0.0</td>\n",
       "      <td>0.0</td>\n",
       "      <td>0.0</td>\n",
       "      <td>0.0</td>\n",
       "      <td>0.0</td>\n",
       "      <td>0.0</td>\n",
       "      <td>0.0</td>\n",
       "      <td>0.0</td>\n",
       "      <td>0.0</td>\n",
       "      <td>0.0</td>\n",
       "      <td>0.0</td>\n",
       "      <td>0.0</td>\n",
       "      <td>0.0</td>\n",
       "      <td>1.0</td>\n",
       "      <td>0.0</td>\n",
       "      <td>0.0</td>\n",
       "      <td>0.0</td>\n",
       "      <td>0.0</td>\n",
       "      <td>0.0</td>\n",
       "      <td>0.0</td>\n",
       "      <td>0.0</td>\n",
       "      <td>0.0</td>\n",
       "      <td>0.0</td>\n",
       "      <td>0.0</td>\n",
       "      <td>0.0</td>\n",
       "      <td>0.0</td>\n",
       "      <td>0.0</td>\n",
       "      <td>0.0</td>\n",
       "      <td>0.0</td>\n",
       "      <td>0.0</td>\n",
       "      <td>0.0</td>\n",
       "      <td>0.0</td>\n",
       "      <td>0.0</td>\n",
       "      <td>0.0</td>\n",
       "      <td>0.0</td>\n",
       "      <td>0.0</td>\n",
       "      <td>0.0</td>\n",
       "      <td>0.0</td>\n",
       "      <td>0.0</td>\n",
       "      <td>0.0</td>\n",
       "      <td>0.0</td>\n",
       "      <td>0.0</td>\n",
       "      <td>0.0</td>\n",
       "      <td>0.0</td>\n",
       "      <td>0.0</td>\n",
       "      <td>0.0</td>\n",
       "      <td>0.0</td>\n",
       "      <td>0.0</td>\n",
       "      <td>0.0</td>\n",
       "      <td>0.0</td>\n",
       "      <td>0.0</td>\n",
       "      <td>0.0</td>\n",
       "      <td>0.0</td>\n",
       "      <td>0.0</td>\n",
       "      <td>0.0</td>\n",
       "      <td>0.0</td>\n",
       "      <td>0.0</td>\n",
       "      <td>0.0</td>\n",
       "      <td>0.0</td>\n",
       "      <td>0.0</td>\n",
       "      <td>0.0</td>\n",
       "      <td>0.0</td>\n",
       "      <td>0.0</td>\n",
       "      <td>0.0</td>\n",
       "      <td>0.0</td>\n",
       "      <td>0.0</td>\n",
       "      <td>0.0</td>\n",
       "      <td>0.0</td>\n",
       "      <td>0.0</td>\n",
       "      <td>0.0</td>\n",
       "      <td>0.0</td>\n",
       "      <td>0.0</td>\n",
       "      <td>0.0</td>\n",
       "      <td>0.0</td>\n",
       "      <td>0.0</td>\n",
       "      <td>0.0</td>\n",
       "      <td>0.0</td>\n",
       "      <td>0.0</td>\n",
       "      <td>0.0</td>\n",
       "      <td>0.0</td>\n",
       "      <td>0.0</td>\n",
       "      <td>0.0</td>\n",
       "      <td>0.0</td>\n",
       "      <td>0.0</td>\n",
       "      <td>0.0</td>\n",
       "      <td>0.0</td>\n",
       "      <td>0.0</td>\n",
       "      <td>0.0</td>\n",
       "      <td>0.0</td>\n",
       "      <td>0.0</td>\n",
       "      <td>0.0</td>\n",
       "      <td>0.0</td>\n",
       "      <td>0.0</td>\n",
       "      <td>0.0</td>\n",
       "      <td>0.0</td>\n",
       "      <td>0.0</td>\n",
       "      <td>0.0</td>\n",
       "      <td>0.0</td>\n",
       "      <td>0.0</td>\n",
       "      <td>0.0</td>\n",
       "      <td>0.0</td>\n",
       "      <td>0.0</td>\n",
       "      <td>0.0</td>\n",
       "      <td>0.0</td>\n",
       "      <td>0.0</td>\n",
       "      <td>0.0</td>\n",
       "      <td>0.0</td>\n",
       "      <td>0.0</td>\n",
       "      <td>0.0</td>\n",
       "      <td>0.0</td>\n",
       "      <td>0.0</td>\n",
       "      <td>0.0</td>\n",
       "      <td>0.0</td>\n",
       "      <td>0.0</td>\n",
       "      <td>0.0</td>\n",
       "      <td>0.0</td>\n",
       "      <td>0.0</td>\n",
       "      <td>0.0</td>\n",
       "      <td>0.0</td>\n",
       "      <td>0.0</td>\n",
       "      <td>0.0</td>\n",
       "      <td>0.0</td>\n",
       "      <td>0.0</td>\n",
       "      <td>0.0</td>\n",
       "      <td>0.0</td>\n",
       "      <td>0.0</td>\n",
       "      <td>0.0</td>\n",
       "      <td>0.0</td>\n",
       "      <td>0.0</td>\n",
       "      <td>0.0</td>\n",
       "      <td>0.0</td>\n",
       "      <td>0.0</td>\n",
       "      <td>0.0</td>\n",
       "      <td>0.0</td>\n",
       "      <td>0.0</td>\n",
       "      <td>0.0</td>\n",
       "      <td>0.0</td>\n",
       "      <td>0.0</td>\n",
       "      <td>0.0</td>\n",
       "      <td>0.0</td>\n",
       "      <td>0.0</td>\n",
       "      <td>0.0</td>\n",
       "      <td>0.0</td>\n",
       "      <td>0.0</td>\n",
       "      <td>0.0</td>\n",
       "      <td>0.0</td>\n",
       "      <td>0.0</td>\n",
       "      <td>0.0</td>\n",
       "      <td>0.0</td>\n",
       "      <td>0.0</td>\n",
       "      <td>0.0</td>\n",
       "      <td>0.0</td>\n",
       "      <td>0.0</td>\n",
       "      <td>0.0</td>\n",
       "      <td>0.0</td>\n",
       "      <td>0.0</td>\n",
       "      <td>0.0</td>\n",
       "      <td>0.0</td>\n",
       "      <td>0.0</td>\n",
       "      <td>0.0</td>\n",
       "      <td>0.0</td>\n",
       "      <td>0.0</td>\n",
       "      <td>0.0</td>\n",
       "      <td>0.0</td>\n",
       "      <td>0.0</td>\n",
       "      <td>0.0</td>\n",
       "      <td>0.0</td>\n",
       "      <td>0.0</td>\n",
       "      <td>0.0</td>\n",
       "      <td>0.0</td>\n",
       "      <td>0.0</td>\n",
       "      <td>0.0</td>\n",
       "      <td>0.0</td>\n",
       "      <td>0.0</td>\n",
       "      <td>0.0</td>\n",
       "      <td>0.0</td>\n",
       "      <td>0.0</td>\n",
       "      <td>0.0</td>\n",
       "      <td>0.0</td>\n",
       "      <td>0.0</td>\n",
       "      <td>0.0</td>\n",
       "      <td>0.0</td>\n",
       "      <td>0.0</td>\n",
       "      <td>0.0</td>\n",
       "      <td>1.0</td>\n",
       "      <td>0.0</td>\n",
       "      <td>0.0</td>\n",
       "      <td>0.0</td>\n",
       "      <td>0.0</td>\n",
       "      <td>0.0</td>\n",
       "      <td>0.0</td>\n",
       "      <td>0.0</td>\n",
       "      <td>0.0</td>\n",
       "      <td>0.0</td>\n",
       "      <td>0.0</td>\n",
       "      <td>0.0</td>\n",
       "      <td>0.0</td>\n",
       "      <td>0.0</td>\n",
       "      <td>0.0</td>\n",
       "      <td>0.0</td>\n",
       "      <td>0.0</td>\n",
       "      <td>0.0</td>\n",
       "      <td>0.0</td>\n",
       "      <td>0.0</td>\n",
       "      <td>0.0</td>\n",
       "      <td>0.0</td>\n",
       "      <td>0.0</td>\n",
       "      <td>0.0</td>\n",
       "      <td>1.0</td>\n",
       "      <td>0.0</td>\n",
       "      <td>0.0</td>\n",
       "      <td>0.0</td>\n",
       "      <td>0.0</td>\n",
       "      <td>0.0</td>\n",
       "      <td>0.0</td>\n",
       "      <td>0.0</td>\n",
       "      <td>0.0</td>\n",
       "      <td>0.0</td>\n",
       "      <td>0.0</td>\n",
       "      <td>0.0</td>\n",
       "      <td>0.0</td>\n",
       "      <td>0.0</td>\n",
       "      <td>0.0</td>\n",
       "      <td>0.0</td>\n",
       "      <td>0.206885</td>\n",
       "      <td>-0.539632</td>\n",
       "      <td>0.560571</td>\n",
       "      <td>-0.335045</td>\n",
       "    </tr>\n",
       "    <tr>\n",
       "      <th>3</th>\n",
       "      <td>0.0</td>\n",
       "      <td>0.0</td>\n",
       "      <td>0.0</td>\n",
       "      <td>1.0</td>\n",
       "      <td>0.0</td>\n",
       "      <td>0.0</td>\n",
       "      <td>0.0</td>\n",
       "      <td>1.0</td>\n",
       "      <td>0.0</td>\n",
       "      <td>0.0</td>\n",
       "      <td>0.0</td>\n",
       "      <td>0.0</td>\n",
       "      <td>0.0</td>\n",
       "      <td>0.0</td>\n",
       "      <td>0.0</td>\n",
       "      <td>0.0</td>\n",
       "      <td>0.0</td>\n",
       "      <td>0.0</td>\n",
       "      <td>0.0</td>\n",
       "      <td>0.0</td>\n",
       "      <td>0.0</td>\n",
       "      <td>0.0</td>\n",
       "      <td>0.0</td>\n",
       "      <td>0.0</td>\n",
       "      <td>0.0</td>\n",
       "      <td>0.0</td>\n",
       "      <td>0.0</td>\n",
       "      <td>0.0</td>\n",
       "      <td>0.0</td>\n",
       "      <td>0.0</td>\n",
       "      <td>0.0</td>\n",
       "      <td>0.0</td>\n",
       "      <td>0.0</td>\n",
       "      <td>0.0</td>\n",
       "      <td>0.0</td>\n",
       "      <td>0.0</td>\n",
       "      <td>0.0</td>\n",
       "      <td>0.0</td>\n",
       "      <td>0.0</td>\n",
       "      <td>0.0</td>\n",
       "      <td>0.0</td>\n",
       "      <td>0.0</td>\n",
       "      <td>0.0</td>\n",
       "      <td>0.0</td>\n",
       "      <td>1.0</td>\n",
       "      <td>0.0</td>\n",
       "      <td>0.0</td>\n",
       "      <td>0.0</td>\n",
       "      <td>0.0</td>\n",
       "      <td>0.0</td>\n",
       "      <td>0.0</td>\n",
       "      <td>0.0</td>\n",
       "      <td>0.0</td>\n",
       "      <td>0.0</td>\n",
       "      <td>0.0</td>\n",
       "      <td>0.0</td>\n",
       "      <td>0.0</td>\n",
       "      <td>0.0</td>\n",
       "      <td>0.0</td>\n",
       "      <td>0.0</td>\n",
       "      <td>0.0</td>\n",
       "      <td>0.0</td>\n",
       "      <td>0.0</td>\n",
       "      <td>0.0</td>\n",
       "      <td>0.0</td>\n",
       "      <td>0.0</td>\n",
       "      <td>0.0</td>\n",
       "      <td>0.0</td>\n",
       "      <td>0.0</td>\n",
       "      <td>0.0</td>\n",
       "      <td>0.0</td>\n",
       "      <td>0.0</td>\n",
       "      <td>0.0</td>\n",
       "      <td>0.0</td>\n",
       "      <td>0.0</td>\n",
       "      <td>0.0</td>\n",
       "      <td>0.0</td>\n",
       "      <td>0.0</td>\n",
       "      <td>0.0</td>\n",
       "      <td>0.0</td>\n",
       "      <td>0.0</td>\n",
       "      <td>0.0</td>\n",
       "      <td>0.0</td>\n",
       "      <td>0.0</td>\n",
       "      <td>0.0</td>\n",
       "      <td>0.0</td>\n",
       "      <td>0.0</td>\n",
       "      <td>0.0</td>\n",
       "      <td>0.0</td>\n",
       "      <td>0.0</td>\n",
       "      <td>0.0</td>\n",
       "      <td>0.0</td>\n",
       "      <td>0.0</td>\n",
       "      <td>0.0</td>\n",
       "      <td>0.0</td>\n",
       "      <td>0.0</td>\n",
       "      <td>0.0</td>\n",
       "      <td>0.0</td>\n",
       "      <td>0.0</td>\n",
       "      <td>0.0</td>\n",
       "      <td>0.0</td>\n",
       "      <td>0.0</td>\n",
       "      <td>0.0</td>\n",
       "      <td>0.0</td>\n",
       "      <td>0.0</td>\n",
       "      <td>0.0</td>\n",
       "      <td>0.0</td>\n",
       "      <td>0.0</td>\n",
       "      <td>0.0</td>\n",
       "      <td>0.0</td>\n",
       "      <td>0.0</td>\n",
       "      <td>0.0</td>\n",
       "      <td>0.0</td>\n",
       "      <td>0.0</td>\n",
       "      <td>0.0</td>\n",
       "      <td>0.0</td>\n",
       "      <td>0.0</td>\n",
       "      <td>0.0</td>\n",
       "      <td>0.0</td>\n",
       "      <td>0.0</td>\n",
       "      <td>0.0</td>\n",
       "      <td>0.0</td>\n",
       "      <td>0.0</td>\n",
       "      <td>0.0</td>\n",
       "      <td>0.0</td>\n",
       "      <td>0.0</td>\n",
       "      <td>0.0</td>\n",
       "      <td>0.0</td>\n",
       "      <td>0.0</td>\n",
       "      <td>0.0</td>\n",
       "      <td>0.0</td>\n",
       "      <td>0.0</td>\n",
       "      <td>0.0</td>\n",
       "      <td>0.0</td>\n",
       "      <td>0.0</td>\n",
       "      <td>0.0</td>\n",
       "      <td>0.0</td>\n",
       "      <td>0.0</td>\n",
       "      <td>0.0</td>\n",
       "      <td>0.0</td>\n",
       "      <td>0.0</td>\n",
       "      <td>0.0</td>\n",
       "      <td>0.0</td>\n",
       "      <td>0.0</td>\n",
       "      <td>0.0</td>\n",
       "      <td>0.0</td>\n",
       "      <td>0.0</td>\n",
       "      <td>0.0</td>\n",
       "      <td>0.0</td>\n",
       "      <td>0.0</td>\n",
       "      <td>0.0</td>\n",
       "      <td>0.0</td>\n",
       "      <td>0.0</td>\n",
       "      <td>0.0</td>\n",
       "      <td>0.0</td>\n",
       "      <td>0.0</td>\n",
       "      <td>0.0</td>\n",
       "      <td>0.0</td>\n",
       "      <td>0.0</td>\n",
       "      <td>0.0</td>\n",
       "      <td>0.0</td>\n",
       "      <td>0.0</td>\n",
       "      <td>0.0</td>\n",
       "      <td>0.0</td>\n",
       "      <td>0.0</td>\n",
       "      <td>0.0</td>\n",
       "      <td>0.0</td>\n",
       "      <td>0.0</td>\n",
       "      <td>0.0</td>\n",
       "      <td>0.0</td>\n",
       "      <td>0.0</td>\n",
       "      <td>0.0</td>\n",
       "      <td>0.0</td>\n",
       "      <td>0.0</td>\n",
       "      <td>0.0</td>\n",
       "      <td>0.0</td>\n",
       "      <td>0.0</td>\n",
       "      <td>0.0</td>\n",
       "      <td>0.0</td>\n",
       "      <td>0.0</td>\n",
       "      <td>0.0</td>\n",
       "      <td>0.0</td>\n",
       "      <td>0.0</td>\n",
       "      <td>0.0</td>\n",
       "      <td>0.0</td>\n",
       "      <td>0.0</td>\n",
       "      <td>0.0</td>\n",
       "      <td>0.0</td>\n",
       "      <td>0.0</td>\n",
       "      <td>0.0</td>\n",
       "      <td>0.0</td>\n",
       "      <td>0.0</td>\n",
       "      <td>0.0</td>\n",
       "      <td>0.0</td>\n",
       "      <td>0.0</td>\n",
       "      <td>0.0</td>\n",
       "      <td>0.0</td>\n",
       "      <td>0.0</td>\n",
       "      <td>0.0</td>\n",
       "      <td>0.0</td>\n",
       "      <td>0.0</td>\n",
       "      <td>0.0</td>\n",
       "      <td>0.0</td>\n",
       "      <td>0.0</td>\n",
       "      <td>0.0</td>\n",
       "      <td>0.0</td>\n",
       "      <td>0.0</td>\n",
       "      <td>0.0</td>\n",
       "      <td>0.0</td>\n",
       "      <td>0.0</td>\n",
       "      <td>0.0</td>\n",
       "      <td>0.0</td>\n",
       "      <td>0.0</td>\n",
       "      <td>0.0</td>\n",
       "      <td>0.0</td>\n",
       "      <td>0.0</td>\n",
       "      <td>0.0</td>\n",
       "      <td>0.0</td>\n",
       "      <td>0.0</td>\n",
       "      <td>0.0</td>\n",
       "      <td>0.0</td>\n",
       "      <td>0.0</td>\n",
       "      <td>0.0</td>\n",
       "      <td>0.0</td>\n",
       "      <td>0.0</td>\n",
       "      <td>0.0</td>\n",
       "      <td>0.0</td>\n",
       "      <td>0.0</td>\n",
       "      <td>0.0</td>\n",
       "      <td>0.0</td>\n",
       "      <td>0.0</td>\n",
       "      <td>0.0</td>\n",
       "      <td>0.0</td>\n",
       "      <td>0.0</td>\n",
       "      <td>0.0</td>\n",
       "      <td>0.0</td>\n",
       "      <td>0.0</td>\n",
       "      <td>0.0</td>\n",
       "      <td>0.0</td>\n",
       "      <td>0.0</td>\n",
       "      <td>0.0</td>\n",
       "      <td>0.0</td>\n",
       "      <td>0.0</td>\n",
       "      <td>0.0</td>\n",
       "      <td>0.0</td>\n",
       "      <td>0.0</td>\n",
       "      <td>0.0</td>\n",
       "      <td>0.0</td>\n",
       "      <td>0.0</td>\n",
       "      <td>0.0</td>\n",
       "      <td>0.0</td>\n",
       "      <td>0.0</td>\n",
       "      <td>0.0</td>\n",
       "      <td>0.0</td>\n",
       "      <td>0.0</td>\n",
       "      <td>0.0</td>\n",
       "      <td>0.0</td>\n",
       "      <td>0.0</td>\n",
       "      <td>0.0</td>\n",
       "      <td>0.0</td>\n",
       "      <td>0.0</td>\n",
       "      <td>1.0</td>\n",
       "      <td>0.0</td>\n",
       "      <td>0.0</td>\n",
       "      <td>0.0</td>\n",
       "      <td>0.0</td>\n",
       "      <td>0.0</td>\n",
       "      <td>0.0</td>\n",
       "      <td>0.0</td>\n",
       "      <td>0.0</td>\n",
       "      <td>0.0</td>\n",
       "      <td>0.0</td>\n",
       "      <td>0.0</td>\n",
       "      <td>0.0</td>\n",
       "      <td>0.0</td>\n",
       "      <td>0.0</td>\n",
       "      <td>0.0</td>\n",
       "      <td>0.0</td>\n",
       "      <td>0.0</td>\n",
       "      <td>0.0</td>\n",
       "      <td>0.0</td>\n",
       "      <td>0.0</td>\n",
       "      <td>0.0</td>\n",
       "      <td>0.0</td>\n",
       "      <td>1.0</td>\n",
       "      <td>0.0</td>\n",
       "      <td>0.0</td>\n",
       "      <td>0.0</td>\n",
       "      <td>0.0</td>\n",
       "      <td>0.0</td>\n",
       "      <td>0.0</td>\n",
       "      <td>0.0</td>\n",
       "      <td>0.0</td>\n",
       "      <td>0.0</td>\n",
       "      <td>0.0</td>\n",
       "      <td>0.0</td>\n",
       "      <td>0.0</td>\n",
       "      <td>0.0</td>\n",
       "      <td>0.0</td>\n",
       "      <td>0.0</td>\n",
       "      <td>0.0</td>\n",
       "      <td>-0.078464</td>\n",
       "      <td>-0.539632</td>\n",
       "      <td>-0.151677</td>\n",
       "      <td>-0.335045</td>\n",
       "    </tr>\n",
       "    <tr>\n",
       "      <th>4</th>\n",
       "      <td>0.0</td>\n",
       "      <td>0.0</td>\n",
       "      <td>0.0</td>\n",
       "      <td>1.0</td>\n",
       "      <td>0.0</td>\n",
       "      <td>0.0</td>\n",
       "      <td>0.0</td>\n",
       "      <td>0.0</td>\n",
       "      <td>0.0</td>\n",
       "      <td>0.0</td>\n",
       "      <td>0.0</td>\n",
       "      <td>0.0</td>\n",
       "      <td>0.0</td>\n",
       "      <td>0.0</td>\n",
       "      <td>0.0</td>\n",
       "      <td>0.0</td>\n",
       "      <td>0.0</td>\n",
       "      <td>0.0</td>\n",
       "      <td>0.0</td>\n",
       "      <td>0.0</td>\n",
       "      <td>0.0</td>\n",
       "      <td>0.0</td>\n",
       "      <td>0.0</td>\n",
       "      <td>0.0</td>\n",
       "      <td>0.0</td>\n",
       "      <td>0.0</td>\n",
       "      <td>0.0</td>\n",
       "      <td>0.0</td>\n",
       "      <td>0.0</td>\n",
       "      <td>0.0</td>\n",
       "      <td>0.0</td>\n",
       "      <td>0.0</td>\n",
       "      <td>0.0</td>\n",
       "      <td>0.0</td>\n",
       "      <td>0.0</td>\n",
       "      <td>0.0</td>\n",
       "      <td>0.0</td>\n",
       "      <td>0.0</td>\n",
       "      <td>0.0</td>\n",
       "      <td>1.0</td>\n",
       "      <td>0.0</td>\n",
       "      <td>0.0</td>\n",
       "      <td>0.0</td>\n",
       "      <td>0.0</td>\n",
       "      <td>0.0</td>\n",
       "      <td>0.0</td>\n",
       "      <td>0.0</td>\n",
       "      <td>0.0</td>\n",
       "      <td>0.0</td>\n",
       "      <td>0.0</td>\n",
       "      <td>0.0</td>\n",
       "      <td>0.0</td>\n",
       "      <td>0.0</td>\n",
       "      <td>0.0</td>\n",
       "      <td>0.0</td>\n",
       "      <td>0.0</td>\n",
       "      <td>0.0</td>\n",
       "      <td>0.0</td>\n",
       "      <td>0.0</td>\n",
       "      <td>0.0</td>\n",
       "      <td>0.0</td>\n",
       "      <td>0.0</td>\n",
       "      <td>0.0</td>\n",
       "      <td>0.0</td>\n",
       "      <td>0.0</td>\n",
       "      <td>0.0</td>\n",
       "      <td>0.0</td>\n",
       "      <td>0.0</td>\n",
       "      <td>0.0</td>\n",
       "      <td>0.0</td>\n",
       "      <td>0.0</td>\n",
       "      <td>0.0</td>\n",
       "      <td>0.0</td>\n",
       "      <td>0.0</td>\n",
       "      <td>0.0</td>\n",
       "      <td>0.0</td>\n",
       "      <td>0.0</td>\n",
       "      <td>0.0</td>\n",
       "      <td>0.0</td>\n",
       "      <td>0.0</td>\n",
       "      <td>0.0</td>\n",
       "      <td>0.0</td>\n",
       "      <td>0.0</td>\n",
       "      <td>0.0</td>\n",
       "      <td>0.0</td>\n",
       "      <td>0.0</td>\n",
       "      <td>0.0</td>\n",
       "      <td>0.0</td>\n",
       "      <td>0.0</td>\n",
       "      <td>0.0</td>\n",
       "      <td>0.0</td>\n",
       "      <td>0.0</td>\n",
       "      <td>0.0</td>\n",
       "      <td>0.0</td>\n",
       "      <td>0.0</td>\n",
       "      <td>0.0</td>\n",
       "      <td>0.0</td>\n",
       "      <td>0.0</td>\n",
       "      <td>0.0</td>\n",
       "      <td>0.0</td>\n",
       "      <td>0.0</td>\n",
       "      <td>0.0</td>\n",
       "      <td>0.0</td>\n",
       "      <td>0.0</td>\n",
       "      <td>0.0</td>\n",
       "      <td>0.0</td>\n",
       "      <td>0.0</td>\n",
       "      <td>0.0</td>\n",
       "      <td>0.0</td>\n",
       "      <td>0.0</td>\n",
       "      <td>0.0</td>\n",
       "      <td>0.0</td>\n",
       "      <td>0.0</td>\n",
       "      <td>0.0</td>\n",
       "      <td>0.0</td>\n",
       "      <td>0.0</td>\n",
       "      <td>0.0</td>\n",
       "      <td>0.0</td>\n",
       "      <td>0.0</td>\n",
       "      <td>0.0</td>\n",
       "      <td>0.0</td>\n",
       "      <td>0.0</td>\n",
       "      <td>0.0</td>\n",
       "      <td>0.0</td>\n",
       "      <td>0.0</td>\n",
       "      <td>0.0</td>\n",
       "      <td>0.0</td>\n",
       "      <td>0.0</td>\n",
       "      <td>0.0</td>\n",
       "      <td>0.0</td>\n",
       "      <td>0.0</td>\n",
       "      <td>0.0</td>\n",
       "      <td>0.0</td>\n",
       "      <td>0.0</td>\n",
       "      <td>0.0</td>\n",
       "      <td>0.0</td>\n",
       "      <td>0.0</td>\n",
       "      <td>0.0</td>\n",
       "      <td>0.0</td>\n",
       "      <td>0.0</td>\n",
       "      <td>0.0</td>\n",
       "      <td>0.0</td>\n",
       "      <td>0.0</td>\n",
       "      <td>0.0</td>\n",
       "      <td>0.0</td>\n",
       "      <td>0.0</td>\n",
       "      <td>0.0</td>\n",
       "      <td>0.0</td>\n",
       "      <td>0.0</td>\n",
       "      <td>0.0</td>\n",
       "      <td>0.0</td>\n",
       "      <td>0.0</td>\n",
       "      <td>0.0</td>\n",
       "      <td>0.0</td>\n",
       "      <td>0.0</td>\n",
       "      <td>0.0</td>\n",
       "      <td>0.0</td>\n",
       "      <td>0.0</td>\n",
       "      <td>0.0</td>\n",
       "      <td>0.0</td>\n",
       "      <td>0.0</td>\n",
       "      <td>0.0</td>\n",
       "      <td>0.0</td>\n",
       "      <td>0.0</td>\n",
       "      <td>0.0</td>\n",
       "      <td>0.0</td>\n",
       "      <td>0.0</td>\n",
       "      <td>0.0</td>\n",
       "      <td>0.0</td>\n",
       "      <td>0.0</td>\n",
       "      <td>0.0</td>\n",
       "      <td>0.0</td>\n",
       "      <td>0.0</td>\n",
       "      <td>0.0</td>\n",
       "      <td>0.0</td>\n",
       "      <td>0.0</td>\n",
       "      <td>0.0</td>\n",
       "      <td>0.0</td>\n",
       "      <td>0.0</td>\n",
       "      <td>0.0</td>\n",
       "      <td>0.0</td>\n",
       "      <td>0.0</td>\n",
       "      <td>0.0</td>\n",
       "      <td>0.0</td>\n",
       "      <td>0.0</td>\n",
       "      <td>0.0</td>\n",
       "      <td>0.0</td>\n",
       "      <td>0.0</td>\n",
       "      <td>0.0</td>\n",
       "      <td>0.0</td>\n",
       "      <td>0.0</td>\n",
       "      <td>0.0</td>\n",
       "      <td>0.0</td>\n",
       "      <td>0.0</td>\n",
       "      <td>0.0</td>\n",
       "      <td>0.0</td>\n",
       "      <td>0.0</td>\n",
       "      <td>0.0</td>\n",
       "      <td>0.0</td>\n",
       "      <td>0.0</td>\n",
       "      <td>0.0</td>\n",
       "      <td>0.0</td>\n",
       "      <td>0.0</td>\n",
       "      <td>0.0</td>\n",
       "      <td>0.0</td>\n",
       "      <td>0.0</td>\n",
       "      <td>0.0</td>\n",
       "      <td>0.0</td>\n",
       "      <td>0.0</td>\n",
       "      <td>0.0</td>\n",
       "      <td>0.0</td>\n",
       "      <td>0.0</td>\n",
       "      <td>0.0</td>\n",
       "      <td>0.0</td>\n",
       "      <td>0.0</td>\n",
       "      <td>0.0</td>\n",
       "      <td>0.0</td>\n",
       "      <td>0.0</td>\n",
       "      <td>0.0</td>\n",
       "      <td>0.0</td>\n",
       "      <td>0.0</td>\n",
       "      <td>0.0</td>\n",
       "      <td>0.0</td>\n",
       "      <td>0.0</td>\n",
       "      <td>0.0</td>\n",
       "      <td>0.0</td>\n",
       "      <td>0.0</td>\n",
       "      <td>0.0</td>\n",
       "      <td>0.0</td>\n",
       "      <td>0.0</td>\n",
       "      <td>0.0</td>\n",
       "      <td>0.0</td>\n",
       "      <td>0.0</td>\n",
       "      <td>0.0</td>\n",
       "      <td>0.0</td>\n",
       "      <td>0.0</td>\n",
       "      <td>0.0</td>\n",
       "      <td>0.0</td>\n",
       "      <td>0.0</td>\n",
       "      <td>0.0</td>\n",
       "      <td>0.0</td>\n",
       "      <td>0.0</td>\n",
       "      <td>0.0</td>\n",
       "      <td>0.0</td>\n",
       "      <td>0.0</td>\n",
       "      <td>0.0</td>\n",
       "      <td>0.0</td>\n",
       "      <td>0.0</td>\n",
       "      <td>0.0</td>\n",
       "      <td>0.0</td>\n",
       "      <td>0.0</td>\n",
       "      <td>0.0</td>\n",
       "      <td>0.0</td>\n",
       "      <td>0.0</td>\n",
       "      <td>0.0</td>\n",
       "      <td>0.0</td>\n",
       "      <td>0.0</td>\n",
       "      <td>0.0</td>\n",
       "      <td>0.0</td>\n",
       "      <td>0.0</td>\n",
       "      <td>0.0</td>\n",
       "      <td>1.0</td>\n",
       "      <td>1.0</td>\n",
       "      <td>0.0</td>\n",
       "      <td>0.0</td>\n",
       "      <td>0.0</td>\n",
       "      <td>0.0</td>\n",
       "      <td>0.0</td>\n",
       "      <td>0.0</td>\n",
       "      <td>0.0</td>\n",
       "      <td>0.0</td>\n",
       "      <td>0.0</td>\n",
       "      <td>0.0</td>\n",
       "      <td>0.0</td>\n",
       "      <td>0.0</td>\n",
       "      <td>0.0</td>\n",
       "      <td>0.0</td>\n",
       "      <td>0.0</td>\n",
       "      <td>0.0</td>\n",
       "      <td>0.0</td>\n",
       "      <td>0.0</td>\n",
       "      <td>0.0</td>\n",
       "      <td>0.0</td>\n",
       "      <td>0.0</td>\n",
       "      <td>0.0</td>\n",
       "      <td>0.0</td>\n",
       "      <td>0.0</td>\n",
       "      <td>0.0</td>\n",
       "      <td>0.0</td>\n",
       "      <td>0.0</td>\n",
       "      <td>0.0</td>\n",
       "      <td>0.0</td>\n",
       "      <td>0.0</td>\n",
       "      <td>0.0</td>\n",
       "      <td>0.0</td>\n",
       "      <td>0.0</td>\n",
       "      <td>0.0</td>\n",
       "      <td>0.0</td>\n",
       "      <td>0.0</td>\n",
       "      <td>0.0</td>\n",
       "      <td>0.0</td>\n",
       "      <td>0.135547</td>\n",
       "      <td>2.889814</td>\n",
       "      <td>-0.151677</td>\n",
       "      <td>-0.335045</td>\n",
       "    </tr>\n",
       "  </tbody>\n",
       "</table>\n",
       "</div>"
      ],
      "text/plain": [
       "   vehicle_type_convertible  vehicle_type_coupe  vehicle_type_other  \\\n",
       "0                       0.0                 0.0                 0.0   \n",
       "1                       0.0                 0.0                 0.0   \n",
       "2                       0.0                 0.0                 0.0   \n",
       "3                       0.0                 0.0                 0.0   \n",
       "4                       0.0                 0.0                 0.0   \n",
       "\n",
       "   vehicle_type_sedan  vehicle_type_small  vehicle_type_suv  \\\n",
       "0                 0.0                 0.0               0.0   \n",
       "1                 1.0                 0.0               0.0   \n",
       "2                 0.0                 1.0               0.0   \n",
       "3                 1.0                 0.0               0.0   \n",
       "4                 1.0                 0.0               0.0   \n",
       "\n",
       "   vehicle_type_wagon  gearbox_manual  model_145  model_147  model_156  \\\n",
       "0                 1.0             1.0        0.0        0.0        0.0   \n",
       "1                 0.0             1.0        0.0        0.0        0.0   \n",
       "2                 0.0             1.0        0.0        0.0        0.0   \n",
       "3                 0.0             1.0        0.0        0.0        0.0   \n",
       "4                 0.0             0.0        0.0        0.0        0.0   \n",
       "\n",
       "   model_159  model_1_reihe  model_1er  model_200  model_2_reihe  model_300c  \\\n",
       "0        0.0            0.0        0.0        0.0            0.0         0.0   \n",
       "1        0.0            0.0        0.0        0.0            0.0         0.0   \n",
       "2        0.0            0.0        0.0        0.0            0.0         0.0   \n",
       "3        0.0            0.0        0.0        0.0            0.0         0.0   \n",
       "4        0.0            0.0        0.0        0.0            0.0         0.0   \n",
       "\n",
       "   model_3_reihe  model_3er  model_4_reihe  model_500  model_5_reihe  \\\n",
       "0            0.0        0.0            0.0        0.0            0.0   \n",
       "1            0.0        0.0            0.0        0.0            0.0   \n",
       "2            0.0        0.0            0.0        0.0            0.0   \n",
       "3            0.0        0.0            0.0        0.0            0.0   \n",
       "4            0.0        0.0            0.0        0.0            0.0   \n",
       "\n",
       "   model_5er  model_601  model_6_reihe  model_6er  model_7er  model_80  \\\n",
       "0        0.0        0.0            0.0        0.0        0.0       0.0   \n",
       "1        0.0        0.0            0.0        0.0        0.0       0.0   \n",
       "2        0.0        0.0            0.0        0.0        0.0       0.0   \n",
       "3        0.0        0.0            0.0        0.0        0.0       0.0   \n",
       "4        0.0        0.0            0.0        0.0        0.0       0.0   \n",
       "\n",
       "   model_850  model_90  model_900  model_9000  model_911  model_a1  model_a2  \\\n",
       "0        0.0       0.0        0.0         0.0        0.0       0.0       0.0   \n",
       "1        0.0       0.0        0.0         0.0        0.0       0.0       0.0   \n",
       "2        0.0       0.0        0.0         0.0        0.0       0.0       0.0   \n",
       "3        0.0       0.0        0.0         0.0        0.0       0.0       0.0   \n",
       "4        0.0       0.0        0.0         0.0        0.0       0.0       0.0   \n",
       "\n",
       "   model_a3  model_a4  model_a5  model_a6  model_a8  model_a_klasse  \\\n",
       "0       0.0       0.0       0.0       0.0       0.0             0.0   \n",
       "1       0.0       0.0       0.0       0.0       0.0             0.0   \n",
       "2       0.0       0.0       0.0       0.0       0.0             0.0   \n",
       "3       0.0       0.0       0.0       0.0       0.0             0.0   \n",
       "4       0.0       0.0       0.0       0.0       1.0             0.0   \n",
       "\n",
       "   model_accord  model_agila  model_alhambra  model_almera  model_altea  \\\n",
       "0           0.0          0.0             0.0           0.0          0.0   \n",
       "1           0.0          0.0             0.0           0.0          0.0   \n",
       "2           0.0          0.0             0.0           0.0          0.0   \n",
       "3           0.0          0.0             0.0           1.0          0.0   \n",
       "4           0.0          0.0             0.0           0.0          0.0   \n",
       "\n",
       "   model_amarok  model_antara  model_arosa  model_astra  model_auris  \\\n",
       "0           0.0           0.0          0.0          0.0          0.0   \n",
       "1           0.0           0.0          0.0          0.0          0.0   \n",
       "2           0.0           0.0          0.0          0.0          0.0   \n",
       "3           0.0           0.0          0.0          0.0          0.0   \n",
       "4           0.0           0.0          0.0          0.0          0.0   \n",
       "\n",
       "   model_avensis  model_aveo  model_aygo  model_b_klasse  model_b_max  \\\n",
       "0            0.0         0.0         0.0             0.0          0.0   \n",
       "1            0.0         0.0         0.0             0.0          0.0   \n",
       "2            0.0         0.0         0.0             0.0          0.0   \n",
       "3            0.0         0.0         0.0             0.0          0.0   \n",
       "4            0.0         0.0         0.0             0.0          0.0   \n",
       "\n",
       "   model_beetle  model_berlingo  model_bora  model_boxster  model_bravo  \\\n",
       "0           0.0             0.0         0.0            0.0          0.0   \n",
       "1           0.0             0.0         0.0            0.0          0.0   \n",
       "2           0.0             0.0         0.0            0.0          0.0   \n",
       "3           0.0             0.0         0.0            0.0          0.0   \n",
       "4           0.0             0.0         0.0            0.0          0.0   \n",
       "\n",
       "   model_c1  model_c2  model_c3  model_c4  model_c5  model_c_klasse  \\\n",
       "0       0.0       0.0       0.0       0.0       0.0             0.0   \n",
       "1       0.0       0.0       0.0       0.0       0.0             0.0   \n",
       "2       0.0       0.0       0.0       0.0       0.0             0.0   \n",
       "3       0.0       0.0       0.0       0.0       0.0             0.0   \n",
       "4       0.0       0.0       0.0       0.0       0.0             0.0   \n",
       "\n",
       "   model_c_max  model_c_reihe  model_caddy  model_calibra  model_captiva  \\\n",
       "0          0.0            0.0          0.0            0.0            0.0   \n",
       "1          0.0            0.0          0.0            0.0            0.0   \n",
       "2          0.0            0.0          0.0            0.0            0.0   \n",
       "3          0.0            0.0          0.0            0.0            0.0   \n",
       "4          0.0            0.0          0.0            0.0            0.0   \n",
       "\n",
       "   model_carisma  model_carnival  model_cayenne  model_cc  model_ceed  \\\n",
       "0            0.0             0.0            0.0       0.0         0.0   \n",
       "1            0.0             0.0            0.0       0.0         0.0   \n",
       "2            0.0             0.0            0.0       0.0         0.0   \n",
       "3            0.0             0.0            0.0       0.0         0.0   \n",
       "4            0.0             0.0            0.0       0.0         0.0   \n",
       "\n",
       "   model_charade  model_cherokee  model_citigo  model_civic  model_cl  \\\n",
       "0            0.0             0.0           0.0          0.0       0.0   \n",
       "1            0.0             0.0           0.0          0.0       0.0   \n",
       "2            0.0             0.0           0.0          0.0       0.0   \n",
       "3            0.0             0.0           0.0          0.0       0.0   \n",
       "4            0.0             0.0           0.0          0.0       0.0   \n",
       "\n",
       "   model_clio  model_clk  model_clubman  model_colt  model_combo  \\\n",
       "0         0.0        0.0            0.0         0.0          0.0   \n",
       "1         0.0        0.0            0.0         0.0          0.0   \n",
       "2         0.0        0.0            0.0         0.0          0.0   \n",
       "3         0.0        0.0            0.0         0.0          0.0   \n",
       "4         0.0        0.0            0.0         0.0          0.0   \n",
       "\n",
       "   model_cooper  model_cordoba  model_corolla  model_corsa  model_cr_reihe  \\\n",
       "0           0.0            0.0            0.0          0.0             0.0   \n",
       "1           0.0            0.0            0.0          0.0             0.0   \n",
       "2           0.0            0.0            0.0          1.0             0.0   \n",
       "3           0.0            0.0            0.0          0.0             0.0   \n",
       "4           0.0            0.0            0.0          0.0             0.0   \n",
       "\n",
       "   model_croma  model_crossfire  model_cuore  model_cx_reihe  model_defender  \\\n",
       "0          0.0              0.0          0.0             0.0             0.0   \n",
       "1          0.0              0.0          0.0             0.0             0.0   \n",
       "2          0.0              0.0          0.0             0.0             0.0   \n",
       "3          0.0              0.0          0.0             0.0             0.0   \n",
       "4          0.0              0.0          0.0             0.0             0.0   \n",
       "\n",
       "   model_delta  model_discovery  model_doblo  model_ducato  model_duster  \\\n",
       "0          0.0              0.0          0.0           0.0           0.0   \n",
       "1          0.0              0.0          0.0           0.0           0.0   \n",
       "2          0.0              0.0          0.0           0.0           0.0   \n",
       "3          0.0              0.0          0.0           0.0           0.0   \n",
       "4          0.0              0.0          0.0           0.0           0.0   \n",
       "\n",
       "   model_e_klasse  model_elefantino  model_eos  model_escort  model_espace  \\\n",
       "0             0.0               0.0        0.0           0.0           0.0   \n",
       "1             0.0               0.0        0.0           0.0           0.0   \n",
       "2             0.0               0.0        0.0           0.0           0.0   \n",
       "3             0.0               0.0        0.0           0.0           0.0   \n",
       "4             0.0               0.0        0.0           0.0           0.0   \n",
       "\n",
       "   model_exeo  model_fabia  model_fiesta  model_focus  model_forester  \\\n",
       "0         0.0          0.0           0.0          0.0             0.0   \n",
       "1         0.0          0.0           0.0          0.0             0.0   \n",
       "2         0.0          0.0           0.0          0.0             0.0   \n",
       "3         0.0          0.0           0.0          0.0             0.0   \n",
       "4         0.0          0.0           0.0          0.0             0.0   \n",
       "\n",
       "   model_forfour  model_fortwo  model_fox  model_freelander  model_fusion  \\\n",
       "0            0.0           0.0        0.0               0.0           0.0   \n",
       "1            0.0           0.0        0.0               0.0           0.0   \n",
       "2            0.0           0.0        0.0               0.0           0.0   \n",
       "3            0.0           0.0        0.0               0.0           0.0   \n",
       "4            0.0           0.0        0.0               0.0           0.0   \n",
       "\n",
       "   model_g_klasse  model_galant  model_galaxy  model_getz  model_gl  \\\n",
       "0             0.0           0.0           0.0         0.0       0.0   \n",
       "1             0.0           0.0           0.0         0.0       0.0   \n",
       "2             0.0           0.0           0.0         0.0       0.0   \n",
       "3             0.0           0.0           0.0         0.0       0.0   \n",
       "4             0.0           0.0           0.0         0.0       0.0   \n",
       "\n",
       "   model_glk  model_golf  model_grand  model_i3  model_i_reihe  model_ibiza  \\\n",
       "0        0.0         0.0          0.0       0.0            0.0          0.0   \n",
       "1        0.0         1.0          0.0       0.0            0.0          0.0   \n",
       "2        0.0         0.0          0.0       0.0            0.0          0.0   \n",
       "3        0.0         0.0          0.0       0.0            0.0          0.0   \n",
       "4        0.0         0.0          0.0       0.0            0.0          0.0   \n",
       "\n",
       "   model_impreza  model_insignia  model_jazz  model_jetta  model_jimny  \\\n",
       "0            0.0             0.0         0.0          0.0          0.0   \n",
       "1            0.0             0.0         0.0          0.0          0.0   \n",
       "2            0.0             0.0         0.0          0.0          0.0   \n",
       "3            0.0             0.0         0.0          0.0          0.0   \n",
       "4            0.0             0.0         0.0          0.0          0.0   \n",
       "\n",
       "   model_juke  model_justy  model_ka  model_kadett  model_kaefer  \\\n",
       "0         0.0          0.0       0.0           0.0           0.0   \n",
       "1         0.0          0.0       0.0           0.0           0.0   \n",
       "2         0.0          0.0       0.0           0.0           0.0   \n",
       "3         0.0          0.0       0.0           0.0           0.0   \n",
       "4         0.0          0.0       0.0           0.0           0.0   \n",
       "\n",
       "   model_kalina  model_kalos  model_kangoo  model_kappa  model_kuga  \\\n",
       "0           0.0          0.0           0.0          0.0         0.0   \n",
       "1           0.0          0.0           0.0          0.0         0.0   \n",
       "2           0.0          0.0           0.0          0.0         0.0   \n",
       "3           0.0          0.0           0.0          0.0         0.0   \n",
       "4           0.0          0.0           0.0          0.0         0.0   \n",
       "\n",
       "   model_laguna  model_lancer  model_lanos  model_legacy  model_leon  \\\n",
       "0           0.0           0.0          0.0           0.0         0.0   \n",
       "1           0.0           0.0          0.0           0.0         0.0   \n",
       "2           0.0           0.0          0.0           0.0         0.0   \n",
       "3           0.0           0.0          0.0           0.0         0.0   \n",
       "4           0.0           0.0          0.0           0.0         0.0   \n",
       "\n",
       "   model_lodgy  model_logan  model_lupo  model_lybra  model_m_klasse  \\\n",
       "0          0.0          0.0         0.0          0.0             0.0   \n",
       "1          0.0          0.0         0.0          0.0             0.0   \n",
       "2          0.0          0.0         0.0          0.0             0.0   \n",
       "3          0.0          0.0         0.0          0.0             0.0   \n",
       "4          0.0          0.0         0.0          0.0             0.0   \n",
       "\n",
       "   model_m_reihe  model_materia  model_matiz  model_megane  model_meriva  \\\n",
       "0            0.0            0.0          0.0           0.0           0.0   \n",
       "1            0.0            0.0          0.0           0.0           0.0   \n",
       "2            0.0            0.0          0.0           0.0           0.0   \n",
       "3            0.0            0.0          0.0           0.0           0.0   \n",
       "4            0.0            0.0          0.0           0.0           0.0   \n",
       "\n",
       "   model_micra  model_mii  model_modus  model_mondeo  model_move  model_musa  \\\n",
       "0          0.0        0.0          0.0           0.0         0.0         0.0   \n",
       "1          0.0        0.0          0.0           0.0         0.0         0.0   \n",
       "2          0.0        0.0          0.0           0.0         0.0         0.0   \n",
       "3          0.0        0.0          0.0           0.0         0.0         0.0   \n",
       "4          0.0        0.0          0.0           0.0         0.0         0.0   \n",
       "\n",
       "   model_mustang  model_mx_reihe  model_navara  model_niva  model_note  \\\n",
       "0            0.0             0.0           0.0         0.0         0.0   \n",
       "1            0.0             0.0           0.0         0.0         0.0   \n",
       "2            0.0             0.0           0.0         0.0         0.0   \n",
       "3            0.0             0.0           0.0         0.0         0.0   \n",
       "4            0.0             0.0           0.0         0.0         0.0   \n",
       "\n",
       "   model_nubira  model_octavia  model_omega  model_one  model_other  \\\n",
       "0           0.0            0.0          0.0        0.0          0.0   \n",
       "1           0.0            0.0          0.0        0.0          0.0   \n",
       "2           0.0            0.0          0.0        0.0          0.0   \n",
       "3           0.0            0.0          0.0        0.0          0.0   \n",
       "4           0.0            0.0          0.0        0.0          0.0   \n",
       "\n",
       "   model_outlander  model_pajero  model_panda  model_passat  model_phaeton  \\\n",
       "0              0.0           0.0          0.0           0.0            0.0   \n",
       "1              0.0           0.0          0.0           0.0            0.0   \n",
       "2              0.0           0.0          0.0           0.0            0.0   \n",
       "3              0.0           0.0          0.0           0.0            0.0   \n",
       "4              0.0           0.0          0.0           0.0            0.0   \n",
       "\n",
       "   model_picanto  model_polo  model_primera  model_ptcruiser  model_punto  \\\n",
       "0            0.0         0.0            0.0              0.0          0.0   \n",
       "1            0.0         0.0            0.0              0.0          0.0   \n",
       "2            0.0         0.0            0.0              0.0          0.0   \n",
       "3            0.0         0.0            0.0              0.0          0.0   \n",
       "4            0.0         0.0            0.0              0.0          0.0   \n",
       "\n",
       "   model_q3  model_q5  model_q7  model_qashqai  model_r19  model_range_rover  \\\n",
       "0       0.0       0.0       0.0            0.0        0.0                0.0   \n",
       "1       0.0       0.0       0.0            0.0        0.0                0.0   \n",
       "2       0.0       0.0       0.0            0.0        0.0                0.0   \n",
       "3       0.0       0.0       0.0            0.0        0.0                0.0   \n",
       "4       0.0       0.0       0.0            0.0        0.0                0.0   \n",
       "\n",
       "   model_range_rover_evoque  model_range_rover_sport  model_rangerover  \\\n",
       "0                       0.0                      0.0               0.0   \n",
       "1                       0.0                      0.0               0.0   \n",
       "2                       0.0                      0.0               0.0   \n",
       "3                       0.0                      0.0               0.0   \n",
       "4                       0.0                      0.0               0.0   \n",
       "\n",
       "   model_rav  model_rio  model_roadster  model_roomster  model_rx_reihe  \\\n",
       "0        0.0        0.0             0.0             0.0             0.0   \n",
       "1        0.0        0.0             0.0             0.0             0.0   \n",
       "2        0.0        0.0             0.0             0.0             0.0   \n",
       "3        0.0        0.0             0.0             0.0             0.0   \n",
       "4        0.0        0.0             0.0             0.0             0.0   \n",
       "\n",
       "   model_s60  model_s_klasse  model_s_max  model_s_type  model_samara  \\\n",
       "0        0.0             0.0          0.0           0.0           0.0   \n",
       "1        0.0             0.0          0.0           0.0           0.0   \n",
       "2        0.0             0.0          0.0           0.0           0.0   \n",
       "3        0.0             0.0          0.0           0.0           0.0   \n",
       "4        0.0             0.0          0.0           0.0           0.0   \n",
       "\n",
       "   model_sandero  model_santa  model_scenic  model_scirocco  model_seicento  \\\n",
       "0            0.0          0.0           0.0             0.0             0.0   \n",
       "1            0.0          0.0           0.0             0.0             0.0   \n",
       "2            0.0          0.0           0.0             0.0             0.0   \n",
       "3            0.0          0.0           0.0             0.0             0.0   \n",
       "4            0.0          0.0           0.0             0.0             0.0   \n",
       "\n",
       "   model_serie_2  model_serie_3  model_sharan  model_signum  model_sirion  \\\n",
       "0            0.0            0.0           0.0           0.0           0.0   \n",
       "1            0.0            0.0           0.0           0.0           0.0   \n",
       "2            0.0            0.0           0.0           0.0           0.0   \n",
       "3            0.0            0.0           0.0           0.0           0.0   \n",
       "4            0.0            0.0           0.0           0.0           0.0   \n",
       "\n",
       "   model_sl  model_slk  model_sorento  model_spark  model_spider  \\\n",
       "0       0.0        0.0            0.0          0.0           0.0   \n",
       "1       0.0        0.0            0.0          0.0           0.0   \n",
       "2       0.0        0.0            0.0          0.0           0.0   \n",
       "3       0.0        0.0            0.0          0.0           0.0   \n",
       "4       0.0        0.0            0.0          0.0           0.0   \n",
       "\n",
       "   model_sportage  model_sprinter  model_stilo  model_superb  model_swift  \\\n",
       "0             0.0             0.0          0.0           0.0          0.0   \n",
       "1             0.0             0.0          0.0           0.0          0.0   \n",
       "2             0.0             0.0          0.0           0.0          0.0   \n",
       "3             0.0             0.0          0.0           0.0          0.0   \n",
       "4             0.0             0.0          0.0           0.0          0.0   \n",
       "\n",
       "   model_terios  model_tigra  model_tiguan  model_toledo  model_touareg  \\\n",
       "0           0.0          0.0           0.0           0.0            0.0   \n",
       "1           0.0          0.0           0.0           0.0            0.0   \n",
       "2           0.0          0.0           0.0           0.0            0.0   \n",
       "3           0.0          0.0           0.0           0.0            0.0   \n",
       "4           0.0          0.0           0.0           0.0            0.0   \n",
       "\n",
       "   model_touran  model_transit  model_transporter  model_tt  model_tucson  \\\n",
       "0           0.0            0.0                0.0       0.0           0.0   \n",
       "1           0.0            0.0                0.0       0.0           0.0   \n",
       "2           0.0            0.0                0.0       0.0           0.0   \n",
       "3           0.0            0.0                0.0       0.0           0.0   \n",
       "4           0.0            0.0                0.0       0.0           0.0   \n",
       "\n",
       "   model_twingo  model_up  model_v40  model_v50  model_v60  model_v70  \\\n",
       "0           0.0       0.0        0.0        0.0        0.0        0.0   \n",
       "1           0.0       0.0        0.0        0.0        0.0        0.0   \n",
       "2           0.0       0.0        0.0        0.0        0.0        0.0   \n",
       "3           0.0       0.0        0.0        0.0        0.0        0.0   \n",
       "4           0.0       0.0        0.0        0.0        0.0        0.0   \n",
       "\n",
       "   model_v_klasse  model_vectra  model_verso  model_viano  model_vito  \\\n",
       "0             0.0           1.0          0.0          0.0         0.0   \n",
       "1             0.0           0.0          0.0          0.0         0.0   \n",
       "2             0.0           0.0          0.0          0.0         0.0   \n",
       "3             0.0           0.0          0.0          0.0         0.0   \n",
       "4             0.0           0.0          0.0          0.0         0.0   \n",
       "\n",
       "   model_vivaro  model_voyager  model_wrangler  model_x_reihe  model_x_trail  \\\n",
       "0           0.0            0.0             0.0            0.0            0.0   \n",
       "1           0.0            0.0             0.0            0.0            0.0   \n",
       "2           0.0            0.0             0.0            0.0            0.0   \n",
       "3           0.0            0.0             0.0            0.0            0.0   \n",
       "4           0.0            0.0             0.0            0.0            0.0   \n",
       "\n",
       "   model_x_type  model_xc_reihe  model_yaris  model_yeti  model_ypsilon  \\\n",
       "0           0.0             0.0          0.0         0.0            0.0   \n",
       "1           0.0             0.0          0.0         0.0            0.0   \n",
       "2           0.0             0.0          0.0         0.0            0.0   \n",
       "3           0.0             0.0          0.0         0.0            0.0   \n",
       "4           0.0             0.0          0.0         0.0            0.0   \n",
       "\n",
       "   model_z_reihe  model_zafira  fuel_type_electric  fuel_type_gasoline  \\\n",
       "0            0.0           0.0                 0.0                 0.0   \n",
       "1            0.0           0.0                 0.0                 0.0   \n",
       "2            0.0           0.0                 0.0                 0.0   \n",
       "3            0.0           0.0                 0.0                 0.0   \n",
       "4            0.0           0.0                 0.0                 0.0   \n",
       "\n",
       "   fuel_type_hybrid  fuel_type_lpg  fuel_type_other  fuel_type_petrol  \\\n",
       "0               0.0            0.0              0.0               1.0   \n",
       "1               0.0            0.0              0.0               1.0   \n",
       "2               0.0            0.0              0.0               1.0   \n",
       "3               0.0            0.0              0.0               1.0   \n",
       "4               0.0            0.0              0.0               1.0   \n",
       "\n",
       "   brand_audi  brand_bmw  brand_chevrolet  brand_chrysler  brand_citroen  \\\n",
       "0         0.0        0.0              0.0             0.0            0.0   \n",
       "1         0.0        0.0              0.0             0.0            0.0   \n",
       "2         0.0        0.0              0.0             0.0            0.0   \n",
       "3         0.0        0.0              0.0             0.0            0.0   \n",
       "4         1.0        0.0              0.0             0.0            0.0   \n",
       "\n",
       "   brand_dacia  brand_daewoo  brand_daihatsu  brand_fiat  brand_ford  \\\n",
       "0          0.0           0.0             0.0         0.0         0.0   \n",
       "1          0.0           0.0             0.0         0.0         0.0   \n",
       "2          0.0           0.0             0.0         0.0         0.0   \n",
       "3          0.0           0.0             0.0         0.0         0.0   \n",
       "4          0.0           0.0             0.0         0.0         0.0   \n",
       "\n",
       "   brand_honda  brand_hyundai  brand_jaguar  brand_jeep  brand_kia  \\\n",
       "0          0.0            0.0           0.0         0.0        0.0   \n",
       "1          0.0            0.0           0.0         0.0        0.0   \n",
       "2          0.0            0.0           0.0         0.0        0.0   \n",
       "3          0.0            0.0           0.0         0.0        0.0   \n",
       "4          0.0            0.0           0.0         0.0        0.0   \n",
       "\n",
       "   brand_lada  brand_lancia  brand_land_rover  brand_mazda  \\\n",
       "0         0.0           0.0               0.0          0.0   \n",
       "1         0.0           0.0               0.0          0.0   \n",
       "2         0.0           0.0               0.0          0.0   \n",
       "3         0.0           0.0               0.0          0.0   \n",
       "4         0.0           0.0               0.0          0.0   \n",
       "\n",
       "   brand_mercedes_benz  brand_mini  brand_mitsubishi  brand_nissan  \\\n",
       "0                  0.0         0.0               0.0           0.0   \n",
       "1                  0.0         0.0               0.0           0.0   \n",
       "2                  0.0         0.0               0.0           0.0   \n",
       "3                  0.0         0.0               0.0           1.0   \n",
       "4                  0.0         0.0               0.0           0.0   \n",
       "\n",
       "   brand_opel  brand_peugeot  brand_porsche  brand_renault  brand_rover  \\\n",
       "0         1.0            0.0            0.0            0.0          0.0   \n",
       "1         0.0            0.0            0.0            0.0          0.0   \n",
       "2         1.0            0.0            0.0            0.0          0.0   \n",
       "3         0.0            0.0            0.0            0.0          0.0   \n",
       "4         0.0            0.0            0.0            0.0          0.0   \n",
       "\n",
       "   brand_saab  brand_seat  brand_skoda  brand_smart  brand_sonstige_autos  \\\n",
       "0         0.0         0.0          0.0          0.0                   0.0   \n",
       "1         0.0         0.0          0.0          0.0                   0.0   \n",
       "2         0.0         0.0          0.0          0.0                   0.0   \n",
       "3         0.0         0.0          0.0          0.0                   0.0   \n",
       "4         0.0         0.0          0.0          0.0                   0.0   \n",
       "\n",
       "   brand_subaru  brand_suzuki  brand_toyota  brand_trabant  brand_volkswagen  \\\n",
       "0           0.0           0.0           0.0            0.0               0.0   \n",
       "1           0.0           0.0           0.0            0.0               1.0   \n",
       "2           0.0           0.0           0.0            0.0               0.0   \n",
       "3           0.0           0.0           0.0            0.0               0.0   \n",
       "4           0.0           0.0           0.0            0.0               0.0   \n",
       "\n",
       "   brand_volvo  registration_year     power  kilometer  repaired  \n",
       "0          0.0          -0.221139 -0.015129   0.560571 -0.335045  \n",
       "1          0.0          -0.256808 -0.539632  -0.151677 -0.335045  \n",
       "2          0.0           0.206885 -0.539632   0.560571 -0.335045  \n",
       "3          0.0          -0.078464 -0.539632  -0.151677 -0.335045  \n",
       "4          0.0           0.135547  2.889814  -0.151677 -0.335045  "
      ]
     },
     "execution_count": 59,
     "metadata": {},
     "output_type": "execute_result"
    }
   ],
   "source": [
    "# трансформируем тестовую выборку\n",
    "X_test_ohe = pd.DataFrame.sparse.from_spmatrix(\n",
    "    col_transformer_ohe.transform(X_test_ohe),\n",
    "    columns=col_transformer_ohe.get_feature_names_out()\n",
    ")\n",
    "\n",
    "# смотрим на результат\n",
    "X_test_ohe.head()"
   ]
  },
  {
   "cell_type": "code",
   "execution_count": 60,
   "metadata": {},
   "outputs": [],
   "source": [
    "# X_test_ohe.shape"
   ]
  },
  {
   "cell_type": "markdown",
   "metadata": {},
   "source": [
    "### Ridge"
   ]
  },
  {
   "cell_type": "code",
   "execution_count": 61,
   "metadata": {},
   "outputs": [
    {
     "name": "stdout",
     "output_type": "stream",
     "text": [
      "CPU times: user 21 µs, sys: 3 µs, total: 24 µs\n",
      "Wall time: 27.2 µs\n"
     ]
    }
   ],
   "source": [
    "%%time\n",
    "model_ridge = Ridge(random_state=RANDOM_STATE)"
   ]
  },
  {
   "cell_type": "code",
   "execution_count": 62,
   "metadata": {},
   "outputs": [
    {
     "name": "stdout",
     "output_type": "stream",
     "text": [
      "CPU times: user 121 µs, sys: 0 ns, total: 121 µs\n",
      "Wall time: 108 µs\n"
     ]
    }
   ],
   "source": [
    "%%time\n",
    "# словарь с гиперпараметрами и значениями, которые хотим перебрать\n",
    "param_grid_ridge = {\n",
    "    'alpha': np.arange(0, 0.2, 0.01),\n",
    "}\n",
    "\n",
    "gs_ridge = GridSearchCV(\n",
    "    model_ridge, \n",
    "    param_grid=param_grid_ridge, \n",
    "    scoring='neg_root_mean_squared_error', \n",
    "    n_jobs=-1\n",
    ")"
   ]
  },
  {
   "cell_type": "code",
   "execution_count": 63,
   "metadata": {},
   "outputs": [
    {
     "name": "stdout",
     "output_type": "stream",
     "text": [
      "CPU times: user 6min 40s, sys: 4min 14s, total: 10min 55s\n",
      "Wall time: 10min 57s\n"
     ]
    },
    {
     "data": {
      "text/html": [
       "<style>#sk-container-id-1 {color: black;background-color: white;}#sk-container-id-1 pre{padding: 0;}#sk-container-id-1 div.sk-toggleable {background-color: white;}#sk-container-id-1 label.sk-toggleable__label {cursor: pointer;display: block;width: 100%;margin-bottom: 0;padding: 0.3em;box-sizing: border-box;text-align: center;}#sk-container-id-1 label.sk-toggleable__label-arrow:before {content: \"▸\";float: left;margin-right: 0.25em;color: #696969;}#sk-container-id-1 label.sk-toggleable__label-arrow:hover:before {color: black;}#sk-container-id-1 div.sk-estimator:hover label.sk-toggleable__label-arrow:before {color: black;}#sk-container-id-1 div.sk-toggleable__content {max-height: 0;max-width: 0;overflow: hidden;text-align: left;background-color: #f0f8ff;}#sk-container-id-1 div.sk-toggleable__content pre {margin: 0.2em;color: black;border-radius: 0.25em;background-color: #f0f8ff;}#sk-container-id-1 input.sk-toggleable__control:checked~div.sk-toggleable__content {max-height: 200px;max-width: 100%;overflow: auto;}#sk-container-id-1 input.sk-toggleable__control:checked~label.sk-toggleable__label-arrow:before {content: \"▾\";}#sk-container-id-1 div.sk-estimator input.sk-toggleable__control:checked~label.sk-toggleable__label {background-color: #d4ebff;}#sk-container-id-1 div.sk-label input.sk-toggleable__control:checked~label.sk-toggleable__label {background-color: #d4ebff;}#sk-container-id-1 input.sk-hidden--visually {border: 0;clip: rect(1px 1px 1px 1px);clip: rect(1px, 1px, 1px, 1px);height: 1px;margin: -1px;overflow: hidden;padding: 0;position: absolute;width: 1px;}#sk-container-id-1 div.sk-estimator {font-family: monospace;background-color: #f0f8ff;border: 1px dotted black;border-radius: 0.25em;box-sizing: border-box;margin-bottom: 0.5em;}#sk-container-id-1 div.sk-estimator:hover {background-color: #d4ebff;}#sk-container-id-1 div.sk-parallel-item::after {content: \"\";width: 100%;border-bottom: 1px solid gray;flex-grow: 1;}#sk-container-id-1 div.sk-label:hover label.sk-toggleable__label {background-color: #d4ebff;}#sk-container-id-1 div.sk-serial::before {content: \"\";position: absolute;border-left: 1px solid gray;box-sizing: border-box;top: 0;bottom: 0;left: 50%;z-index: 0;}#sk-container-id-1 div.sk-serial {display: flex;flex-direction: column;align-items: center;background-color: white;padding-right: 0.2em;padding-left: 0.2em;position: relative;}#sk-container-id-1 div.sk-item {position: relative;z-index: 1;}#sk-container-id-1 div.sk-parallel {display: flex;align-items: stretch;justify-content: center;background-color: white;position: relative;}#sk-container-id-1 div.sk-item::before, #sk-container-id-1 div.sk-parallel-item::before {content: \"\";position: absolute;border-left: 1px solid gray;box-sizing: border-box;top: 0;bottom: 0;left: 50%;z-index: -1;}#sk-container-id-1 div.sk-parallel-item {display: flex;flex-direction: column;z-index: 1;position: relative;background-color: white;}#sk-container-id-1 div.sk-parallel-item:first-child::after {align-self: flex-end;width: 50%;}#sk-container-id-1 div.sk-parallel-item:last-child::after {align-self: flex-start;width: 50%;}#sk-container-id-1 div.sk-parallel-item:only-child::after {width: 0;}#sk-container-id-1 div.sk-dashed-wrapped {border: 1px dashed gray;margin: 0 0.4em 0.5em 0.4em;box-sizing: border-box;padding-bottom: 0.4em;background-color: white;}#sk-container-id-1 div.sk-label label {font-family: monospace;font-weight: bold;display: inline-block;line-height: 1.2em;}#sk-container-id-1 div.sk-label-container {text-align: center;}#sk-container-id-1 div.sk-container {/* jupyter's `normalize.less` sets `[hidden] { display: none; }` but bootstrap.min.css set `[hidden] { display: none !important; }` so we also need the `!important` here to be able to override the default hidden behavior on the sphinx rendered scikit-learn.org. See: https://github.com/scikit-learn/scikit-learn/issues/21755 */display: inline-block !important;position: relative;}#sk-container-id-1 div.sk-text-repr-fallback {display: none;}</style><div id=\"sk-container-id-1\" class=\"sk-top-container\"><div class=\"sk-text-repr-fallback\"><pre>GridSearchCV(estimator=Ridge(random_state=12345), n_jobs=-1,\n",
       "             param_grid={&#x27;alpha&#x27;: array([0.  , 0.01, 0.02, 0.03, 0.04, 0.05, 0.06, 0.07, 0.08, 0.09, 0.1 ,\n",
       "       0.11, 0.12, 0.13, 0.14, 0.15, 0.16, 0.17, 0.18, 0.19])},\n",
       "             scoring=&#x27;neg_root_mean_squared_error&#x27;)</pre><b>In a Jupyter environment, please rerun this cell to show the HTML representation or trust the notebook. <br />On GitHub, the HTML representation is unable to render, please try loading this page with nbviewer.org.</b></div><div class=\"sk-container\" hidden><div class=\"sk-item sk-dashed-wrapped\"><div class=\"sk-label-container\"><div class=\"sk-label sk-toggleable\"><input class=\"sk-toggleable__control sk-hidden--visually\" id=\"sk-estimator-id-1\" type=\"checkbox\" ><label for=\"sk-estimator-id-1\" class=\"sk-toggleable__label sk-toggleable__label-arrow\">GridSearchCV</label><div class=\"sk-toggleable__content\"><pre>GridSearchCV(estimator=Ridge(random_state=12345), n_jobs=-1,\n",
       "             param_grid={&#x27;alpha&#x27;: array([0.  , 0.01, 0.02, 0.03, 0.04, 0.05, 0.06, 0.07, 0.08, 0.09, 0.1 ,\n",
       "       0.11, 0.12, 0.13, 0.14, 0.15, 0.16, 0.17, 0.18, 0.19])},\n",
       "             scoring=&#x27;neg_root_mean_squared_error&#x27;)</pre></div></div></div><div class=\"sk-parallel\"><div class=\"sk-parallel-item\"><div class=\"sk-item\"><div class=\"sk-label-container\"><div class=\"sk-label sk-toggleable\"><input class=\"sk-toggleable__control sk-hidden--visually\" id=\"sk-estimator-id-2\" type=\"checkbox\" ><label for=\"sk-estimator-id-2\" class=\"sk-toggleable__label sk-toggleable__label-arrow\">estimator: Ridge</label><div class=\"sk-toggleable__content\"><pre>Ridge(random_state=12345)</pre></div></div></div><div class=\"sk-serial\"><div class=\"sk-item\"><div class=\"sk-estimator sk-toggleable\"><input class=\"sk-toggleable__control sk-hidden--visually\" id=\"sk-estimator-id-3\" type=\"checkbox\" ><label for=\"sk-estimator-id-3\" class=\"sk-toggleable__label sk-toggleable__label-arrow\">Ridge</label><div class=\"sk-toggleable__content\"><pre>Ridge(random_state=12345)</pre></div></div></div></div></div></div></div></div></div></div>"
      ],
      "text/plain": [
       "GridSearchCV(estimator=Ridge(random_state=12345), n_jobs=-1,\n",
       "             param_grid={'alpha': array([0.  , 0.01, 0.02, 0.03, 0.04, 0.05, 0.06, 0.07, 0.08, 0.09, 0.1 ,\n",
       "       0.11, 0.12, 0.13, 0.14, 0.15, 0.16, 0.17, 0.18, 0.19])},\n",
       "             scoring='neg_root_mean_squared_error')"
      ]
     },
     "execution_count": 63,
     "metadata": {},
     "output_type": "execute_result"
    }
   ],
   "source": [
    "%%time\n",
    "gs_ridge.fit(X_train_ohe, y_train)"
   ]
  },
  {
   "cell_type": "code",
   "execution_count": 64,
   "metadata": {},
   "outputs": [
    {
     "name": "stdout",
     "output_type": "stream",
     "text": [
      "best_score: 2403.6229955533368\n",
      "best_params: {'alpha': 0.15}\n"
     ]
    }
   ],
   "source": [
    "# лучшее значение RMSE \n",
    "print(f'best_score: {gs_ridge.best_score_ * -1}')\n",
    "\n",
    "# лучшие гиперпараметры\n",
    "print(f'best_params: {gs_ridge.best_params_}')"
   ]
  },
  {
   "cell_type": "markdown",
   "metadata": {},
   "source": [
    "### LinearRegression()"
   ]
  },
  {
   "cell_type": "code",
   "execution_count": 65,
   "metadata": {},
   "outputs": [
    {
     "name": "stdout",
     "output_type": "stream",
     "text": [
      "CPU times: user 9 µs, sys: 6 µs, total: 15 µs\n",
      "Wall time: 18.1 µs\n"
     ]
    }
   ],
   "source": [
    "%%time\n",
    "model_linear = LinearRegression()"
   ]
  },
  {
   "cell_type": "code",
   "execution_count": 66,
   "metadata": {},
   "outputs": [
    {
     "name": "stdout",
     "output_type": "stream",
     "text": [
      "CPU times: user 19 s, sys: 24 s, total: 43 s\n",
      "Wall time: 43.5 s\n"
     ]
    },
    {
     "data": {
      "text/html": [
       "<style>#sk-container-id-2 {color: black;background-color: white;}#sk-container-id-2 pre{padding: 0;}#sk-container-id-2 div.sk-toggleable {background-color: white;}#sk-container-id-2 label.sk-toggleable__label {cursor: pointer;display: block;width: 100%;margin-bottom: 0;padding: 0.3em;box-sizing: border-box;text-align: center;}#sk-container-id-2 label.sk-toggleable__label-arrow:before {content: \"▸\";float: left;margin-right: 0.25em;color: #696969;}#sk-container-id-2 label.sk-toggleable__label-arrow:hover:before {color: black;}#sk-container-id-2 div.sk-estimator:hover label.sk-toggleable__label-arrow:before {color: black;}#sk-container-id-2 div.sk-toggleable__content {max-height: 0;max-width: 0;overflow: hidden;text-align: left;background-color: #f0f8ff;}#sk-container-id-2 div.sk-toggleable__content pre {margin: 0.2em;color: black;border-radius: 0.25em;background-color: #f0f8ff;}#sk-container-id-2 input.sk-toggleable__control:checked~div.sk-toggleable__content {max-height: 200px;max-width: 100%;overflow: auto;}#sk-container-id-2 input.sk-toggleable__control:checked~label.sk-toggleable__label-arrow:before {content: \"▾\";}#sk-container-id-2 div.sk-estimator input.sk-toggleable__control:checked~label.sk-toggleable__label {background-color: #d4ebff;}#sk-container-id-2 div.sk-label input.sk-toggleable__control:checked~label.sk-toggleable__label {background-color: #d4ebff;}#sk-container-id-2 input.sk-hidden--visually {border: 0;clip: rect(1px 1px 1px 1px);clip: rect(1px, 1px, 1px, 1px);height: 1px;margin: -1px;overflow: hidden;padding: 0;position: absolute;width: 1px;}#sk-container-id-2 div.sk-estimator {font-family: monospace;background-color: #f0f8ff;border: 1px dotted black;border-radius: 0.25em;box-sizing: border-box;margin-bottom: 0.5em;}#sk-container-id-2 div.sk-estimator:hover {background-color: #d4ebff;}#sk-container-id-2 div.sk-parallel-item::after {content: \"\";width: 100%;border-bottom: 1px solid gray;flex-grow: 1;}#sk-container-id-2 div.sk-label:hover label.sk-toggleable__label {background-color: #d4ebff;}#sk-container-id-2 div.sk-serial::before {content: \"\";position: absolute;border-left: 1px solid gray;box-sizing: border-box;top: 0;bottom: 0;left: 50%;z-index: 0;}#sk-container-id-2 div.sk-serial {display: flex;flex-direction: column;align-items: center;background-color: white;padding-right: 0.2em;padding-left: 0.2em;position: relative;}#sk-container-id-2 div.sk-item {position: relative;z-index: 1;}#sk-container-id-2 div.sk-parallel {display: flex;align-items: stretch;justify-content: center;background-color: white;position: relative;}#sk-container-id-2 div.sk-item::before, #sk-container-id-2 div.sk-parallel-item::before {content: \"\";position: absolute;border-left: 1px solid gray;box-sizing: border-box;top: 0;bottom: 0;left: 50%;z-index: -1;}#sk-container-id-2 div.sk-parallel-item {display: flex;flex-direction: column;z-index: 1;position: relative;background-color: white;}#sk-container-id-2 div.sk-parallel-item:first-child::after {align-self: flex-end;width: 50%;}#sk-container-id-2 div.sk-parallel-item:last-child::after {align-self: flex-start;width: 50%;}#sk-container-id-2 div.sk-parallel-item:only-child::after {width: 0;}#sk-container-id-2 div.sk-dashed-wrapped {border: 1px dashed gray;margin: 0 0.4em 0.5em 0.4em;box-sizing: border-box;padding-bottom: 0.4em;background-color: white;}#sk-container-id-2 div.sk-label label {font-family: monospace;font-weight: bold;display: inline-block;line-height: 1.2em;}#sk-container-id-2 div.sk-label-container {text-align: center;}#sk-container-id-2 div.sk-container {/* jupyter's `normalize.less` sets `[hidden] { display: none; }` but bootstrap.min.css set `[hidden] { display: none !important; }` so we also need the `!important` here to be able to override the default hidden behavior on the sphinx rendered scikit-learn.org. See: https://github.com/scikit-learn/scikit-learn/issues/21755 */display: inline-block !important;position: relative;}#sk-container-id-2 div.sk-text-repr-fallback {display: none;}</style><div id=\"sk-container-id-2\" class=\"sk-top-container\"><div class=\"sk-text-repr-fallback\"><pre>LinearRegression()</pre><b>In a Jupyter environment, please rerun this cell to show the HTML representation or trust the notebook. <br />On GitHub, the HTML representation is unable to render, please try loading this page with nbviewer.org.</b></div><div class=\"sk-container\" hidden><div class=\"sk-item\"><div class=\"sk-estimator sk-toggleable\"><input class=\"sk-toggleable__control sk-hidden--visually\" id=\"sk-estimator-id-4\" type=\"checkbox\" checked><label for=\"sk-estimator-id-4\" class=\"sk-toggleable__label sk-toggleable__label-arrow\">LinearRegression</label><div class=\"sk-toggleable__content\"><pre>LinearRegression()</pre></div></div></div></div></div>"
      ],
      "text/plain": [
       "LinearRegression()"
      ]
     },
     "execution_count": 66,
     "metadata": {},
     "output_type": "execute_result"
    }
   ],
   "source": [
    "%%time\n",
    "model_linear.fit(X_train_ohe, y_train)"
   ]
  },
  {
   "cell_type": "code",
   "execution_count": 67,
   "metadata": {},
   "outputs": [
    {
     "name": "stdout",
     "output_type": "stream",
     "text": [
      "CPU times: user 1min 39s, sys: 1min 55s, total: 3min 35s\n",
      "Wall time: 3min 36s\n"
     ]
    }
   ],
   "source": [
    "%%time\n",
    "scores = cross_val_score(\n",
    "    model_linear, \n",
    "    X_train_ohe, \n",
    "    y_train, \n",
    "    cv=5, \n",
    "    n_jobs=-1,\n",
    "    scoring='neg_mean_squared_error'\n",
    ")\n",
    "                        \n",
    "linear_score = abs(scores.mean())**.5"
   ]
  },
  {
   "cell_type": "code",
   "execution_count": 68,
   "metadata": {},
   "outputs": [
    {
     "name": "stdout",
     "output_type": "stream",
     "text": [
      "2402.4826401414266\n"
     ]
    }
   ],
   "source": [
    "print(linear_score)"
   ]
  },
  {
   "cell_type": "markdown",
   "metadata": {},
   "source": [
    "### LightGBM"
   ]
  },
  {
   "cell_type": "markdown",
   "metadata": {},
   "source": [
    "Прежде, чем применить данные необходиом изменить у признаков на тренировочной и тествой выборке тип данных у стобцов категориальных с 'object' на тип 'category'"
   ]
  },
  {
   "cell_type": "code",
   "execution_count": 69,
   "metadata": {},
   "outputs": [],
   "source": [
    "for i in ohe_features_columns:\n",
    "    X_train[i] = X_train[i].astype('category')\n",
    "    X_test[i] = X_test[i].astype('category')"
   ]
  },
  {
   "cell_type": "code",
   "execution_count": 70,
   "metadata": {},
   "outputs": [
    {
     "name": "stdout",
     "output_type": "stream",
     "text": [
      "CPU times: user 19 µs, sys: 14 µs, total: 33 µs\n",
      "Wall time: 36 µs\n"
     ]
    }
   ],
   "source": [
    "%%time\n",
    "model_gbm = lgb.LGBMRegressor()"
   ]
  },
  {
   "cell_type": "code",
   "execution_count": 71,
   "metadata": {},
   "outputs": [],
   "source": [
    "param_grid_gbm = {\n",
    "    'num_leaves':[30,50], \n",
    "    'learning_rate':[0.2,0.5],\n",
    "    'random_state':[RANDOM_STATE]\n",
    "                 }"
   ]
  },
  {
   "cell_type": "code",
   "execution_count": 72,
   "metadata": {},
   "outputs": [
    {
     "name": "stdout",
     "output_type": "stream",
     "text": [
      "CPU times: user 14 µs, sys: 11 µs, total: 25 µs\n",
      "Wall time: 28.8 µs\n"
     ]
    }
   ],
   "source": [
    "%%time\n",
    "gs_gbm = GridSearchCV(\n",
    "    model_gbm,\n",
    "    param_grid=param_grid_gbm,\n",
    "    scoring='neg_root_mean_squared_error')"
   ]
  },
  {
   "cell_type": "code",
   "execution_count": 73,
   "metadata": {},
   "outputs": [
    {
     "name": "stdout",
     "output_type": "stream",
     "text": [
      "CPU times: user 18min 26s, sys: 1.76 s, total: 18min 27s\n",
      "Wall time: 18min 36s\n"
     ]
    },
    {
     "data": {
      "text/html": [
       "<style>#sk-container-id-3 {color: black;background-color: white;}#sk-container-id-3 pre{padding: 0;}#sk-container-id-3 div.sk-toggleable {background-color: white;}#sk-container-id-3 label.sk-toggleable__label {cursor: pointer;display: block;width: 100%;margin-bottom: 0;padding: 0.3em;box-sizing: border-box;text-align: center;}#sk-container-id-3 label.sk-toggleable__label-arrow:before {content: \"▸\";float: left;margin-right: 0.25em;color: #696969;}#sk-container-id-3 label.sk-toggleable__label-arrow:hover:before {color: black;}#sk-container-id-3 div.sk-estimator:hover label.sk-toggleable__label-arrow:before {color: black;}#sk-container-id-3 div.sk-toggleable__content {max-height: 0;max-width: 0;overflow: hidden;text-align: left;background-color: #f0f8ff;}#sk-container-id-3 div.sk-toggleable__content pre {margin: 0.2em;color: black;border-radius: 0.25em;background-color: #f0f8ff;}#sk-container-id-3 input.sk-toggleable__control:checked~div.sk-toggleable__content {max-height: 200px;max-width: 100%;overflow: auto;}#sk-container-id-3 input.sk-toggleable__control:checked~label.sk-toggleable__label-arrow:before {content: \"▾\";}#sk-container-id-3 div.sk-estimator input.sk-toggleable__control:checked~label.sk-toggleable__label {background-color: #d4ebff;}#sk-container-id-3 div.sk-label input.sk-toggleable__control:checked~label.sk-toggleable__label {background-color: #d4ebff;}#sk-container-id-3 input.sk-hidden--visually {border: 0;clip: rect(1px 1px 1px 1px);clip: rect(1px, 1px, 1px, 1px);height: 1px;margin: -1px;overflow: hidden;padding: 0;position: absolute;width: 1px;}#sk-container-id-3 div.sk-estimator {font-family: monospace;background-color: #f0f8ff;border: 1px dotted black;border-radius: 0.25em;box-sizing: border-box;margin-bottom: 0.5em;}#sk-container-id-3 div.sk-estimator:hover {background-color: #d4ebff;}#sk-container-id-3 div.sk-parallel-item::after {content: \"\";width: 100%;border-bottom: 1px solid gray;flex-grow: 1;}#sk-container-id-3 div.sk-label:hover label.sk-toggleable__label {background-color: #d4ebff;}#sk-container-id-3 div.sk-serial::before {content: \"\";position: absolute;border-left: 1px solid gray;box-sizing: border-box;top: 0;bottom: 0;left: 50%;z-index: 0;}#sk-container-id-3 div.sk-serial {display: flex;flex-direction: column;align-items: center;background-color: white;padding-right: 0.2em;padding-left: 0.2em;position: relative;}#sk-container-id-3 div.sk-item {position: relative;z-index: 1;}#sk-container-id-3 div.sk-parallel {display: flex;align-items: stretch;justify-content: center;background-color: white;position: relative;}#sk-container-id-3 div.sk-item::before, #sk-container-id-3 div.sk-parallel-item::before {content: \"\";position: absolute;border-left: 1px solid gray;box-sizing: border-box;top: 0;bottom: 0;left: 50%;z-index: -1;}#sk-container-id-3 div.sk-parallel-item {display: flex;flex-direction: column;z-index: 1;position: relative;background-color: white;}#sk-container-id-3 div.sk-parallel-item:first-child::after {align-self: flex-end;width: 50%;}#sk-container-id-3 div.sk-parallel-item:last-child::after {align-self: flex-start;width: 50%;}#sk-container-id-3 div.sk-parallel-item:only-child::after {width: 0;}#sk-container-id-3 div.sk-dashed-wrapped {border: 1px dashed gray;margin: 0 0.4em 0.5em 0.4em;box-sizing: border-box;padding-bottom: 0.4em;background-color: white;}#sk-container-id-3 div.sk-label label {font-family: monospace;font-weight: bold;display: inline-block;line-height: 1.2em;}#sk-container-id-3 div.sk-label-container {text-align: center;}#sk-container-id-3 div.sk-container {/* jupyter's `normalize.less` sets `[hidden] { display: none; }` but bootstrap.min.css set `[hidden] { display: none !important; }` so we also need the `!important` here to be able to override the default hidden behavior on the sphinx rendered scikit-learn.org. See: https://github.com/scikit-learn/scikit-learn/issues/21755 */display: inline-block !important;position: relative;}#sk-container-id-3 div.sk-text-repr-fallback {display: none;}</style><div id=\"sk-container-id-3\" class=\"sk-top-container\"><div class=\"sk-text-repr-fallback\"><pre>GridSearchCV(estimator=LGBMRegressor(),\n",
       "             param_grid={&#x27;learning_rate&#x27;: [0.2, 0.5], &#x27;num_leaves&#x27;: [30, 50],\n",
       "                         &#x27;random_state&#x27;: [12345]},\n",
       "             scoring=&#x27;neg_root_mean_squared_error&#x27;)</pre><b>In a Jupyter environment, please rerun this cell to show the HTML representation or trust the notebook. <br />On GitHub, the HTML representation is unable to render, please try loading this page with nbviewer.org.</b></div><div class=\"sk-container\" hidden><div class=\"sk-item sk-dashed-wrapped\"><div class=\"sk-label-container\"><div class=\"sk-label sk-toggleable\"><input class=\"sk-toggleable__control sk-hidden--visually\" id=\"sk-estimator-id-5\" type=\"checkbox\" ><label for=\"sk-estimator-id-5\" class=\"sk-toggleable__label sk-toggleable__label-arrow\">GridSearchCV</label><div class=\"sk-toggleable__content\"><pre>GridSearchCV(estimator=LGBMRegressor(),\n",
       "             param_grid={&#x27;learning_rate&#x27;: [0.2, 0.5], &#x27;num_leaves&#x27;: [30, 50],\n",
       "                         &#x27;random_state&#x27;: [12345]},\n",
       "             scoring=&#x27;neg_root_mean_squared_error&#x27;)</pre></div></div></div><div class=\"sk-parallel\"><div class=\"sk-parallel-item\"><div class=\"sk-item\"><div class=\"sk-label-container\"><div class=\"sk-label sk-toggleable\"><input class=\"sk-toggleable__control sk-hidden--visually\" id=\"sk-estimator-id-6\" type=\"checkbox\" ><label for=\"sk-estimator-id-6\" class=\"sk-toggleable__label sk-toggleable__label-arrow\">estimator: LGBMRegressor</label><div class=\"sk-toggleable__content\"><pre>LGBMRegressor()</pre></div></div></div><div class=\"sk-serial\"><div class=\"sk-item\"><div class=\"sk-estimator sk-toggleable\"><input class=\"sk-toggleable__control sk-hidden--visually\" id=\"sk-estimator-id-7\" type=\"checkbox\" ><label for=\"sk-estimator-id-7\" class=\"sk-toggleable__label sk-toggleable__label-arrow\">LGBMRegressor</label><div class=\"sk-toggleable__content\"><pre>LGBMRegressor()</pre></div></div></div></div></div></div></div></div></div></div>"
      ],
      "text/plain": [
       "GridSearchCV(estimator=LGBMRegressor(),\n",
       "             param_grid={'learning_rate': [0.2, 0.5], 'num_leaves': [30, 50],\n",
       "                         'random_state': [12345]},\n",
       "             scoring='neg_root_mean_squared_error')"
      ]
     },
     "execution_count": 73,
     "metadata": {},
     "output_type": "execute_result"
    }
   ],
   "source": [
    "%%time\n",
    "gs_gbm.fit(X_train, y_train,categorical_feature=ohe_features_columns)"
   ]
  },
  {
   "cell_type": "code",
   "execution_count": 74,
   "metadata": {},
   "outputs": [
    {
     "name": "stdout",
     "output_type": "stream",
     "text": [
      "best_score: 1388.800349870237\n",
      "best_params: {'learning_rate': 0.2, 'num_leaves': 50, 'random_state': 12345}\n"
     ]
    }
   ],
   "source": [
    "# лучшее значение RMSE \n",
    "print(f'best_score: {gs_gbm.best_score_ * -1}')\n",
    "\n",
    "# лучшие гиперпараметры\n",
    "print(f'best_params: {gs_gbm.best_params_}')"
   ]
  },
  {
   "cell_type": "markdown",
   "metadata": {},
   "source": [
    "### CatBoost"
   ]
  },
  {
   "cell_type": "code",
   "execution_count": 75,
   "metadata": {},
   "outputs": [
    {
     "name": "stdout",
     "output_type": "stream",
     "text": [
      "CPU times: user 79 µs, sys: 19 µs, total: 98 µs\n",
      "Wall time: 102 µs\n"
     ]
    }
   ],
   "source": [
    "%%time\n",
    "model_catboost = CatBoostRegressor(\n",
    "    verbose=False,\n",
    "    loss_function='RMSE',\n",
    "    cat_features=ohe_features_columns)"
   ]
  },
  {
   "cell_type": "code",
   "execution_count": 76,
   "metadata": {},
   "outputs": [],
   "source": [
    "param_grid_catboost = {\n",
    "    'depth'         : [6,8],\n",
    "    'learning_rate' : [0.01,0.02],\n",
    "    'iterations'    : [20,50],\n",
    "    'random_state'  : [RANDOM_STATE]\n",
    "}"
   ]
  },
  {
   "cell_type": "code",
   "execution_count": 77,
   "metadata": {},
   "outputs": [
    {
     "name": "stdout",
     "output_type": "stream",
     "text": [
      "CPU times: user 23 µs, sys: 0 ns, total: 23 µs\n",
      "Wall time: 27.4 µs\n"
     ]
    }
   ],
   "source": [
    "%%time\n",
    "gs_catboost = GridSearchCV(\n",
    "    model_catboost,\n",
    "    param_grid=param_grid_catboost,\n",
    "    scoring='neg_root_mean_squared_error')"
   ]
  },
  {
   "cell_type": "code",
   "execution_count": 78,
   "metadata": {
    "scrolled": true
   },
   "outputs": [
    {
     "name": "stdout",
     "output_type": "stream",
     "text": [
      "CPU times: user 1min 49s, sys: 1.98 s, total: 1min 51s\n",
      "Wall time: 2min 42s\n"
     ]
    },
    {
     "data": {
      "text/html": [
       "<style>#sk-container-id-4 {color: black;background-color: white;}#sk-container-id-4 pre{padding: 0;}#sk-container-id-4 div.sk-toggleable {background-color: white;}#sk-container-id-4 label.sk-toggleable__label {cursor: pointer;display: block;width: 100%;margin-bottom: 0;padding: 0.3em;box-sizing: border-box;text-align: center;}#sk-container-id-4 label.sk-toggleable__label-arrow:before {content: \"▸\";float: left;margin-right: 0.25em;color: #696969;}#sk-container-id-4 label.sk-toggleable__label-arrow:hover:before {color: black;}#sk-container-id-4 div.sk-estimator:hover label.sk-toggleable__label-arrow:before {color: black;}#sk-container-id-4 div.sk-toggleable__content {max-height: 0;max-width: 0;overflow: hidden;text-align: left;background-color: #f0f8ff;}#sk-container-id-4 div.sk-toggleable__content pre {margin: 0.2em;color: black;border-radius: 0.25em;background-color: #f0f8ff;}#sk-container-id-4 input.sk-toggleable__control:checked~div.sk-toggleable__content {max-height: 200px;max-width: 100%;overflow: auto;}#sk-container-id-4 input.sk-toggleable__control:checked~label.sk-toggleable__label-arrow:before {content: \"▾\";}#sk-container-id-4 div.sk-estimator input.sk-toggleable__control:checked~label.sk-toggleable__label {background-color: #d4ebff;}#sk-container-id-4 div.sk-label input.sk-toggleable__control:checked~label.sk-toggleable__label {background-color: #d4ebff;}#sk-container-id-4 input.sk-hidden--visually {border: 0;clip: rect(1px 1px 1px 1px);clip: rect(1px, 1px, 1px, 1px);height: 1px;margin: -1px;overflow: hidden;padding: 0;position: absolute;width: 1px;}#sk-container-id-4 div.sk-estimator {font-family: monospace;background-color: #f0f8ff;border: 1px dotted black;border-radius: 0.25em;box-sizing: border-box;margin-bottom: 0.5em;}#sk-container-id-4 div.sk-estimator:hover {background-color: #d4ebff;}#sk-container-id-4 div.sk-parallel-item::after {content: \"\";width: 100%;border-bottom: 1px solid gray;flex-grow: 1;}#sk-container-id-4 div.sk-label:hover label.sk-toggleable__label {background-color: #d4ebff;}#sk-container-id-4 div.sk-serial::before {content: \"\";position: absolute;border-left: 1px solid gray;box-sizing: border-box;top: 0;bottom: 0;left: 50%;z-index: 0;}#sk-container-id-4 div.sk-serial {display: flex;flex-direction: column;align-items: center;background-color: white;padding-right: 0.2em;padding-left: 0.2em;position: relative;}#sk-container-id-4 div.sk-item {position: relative;z-index: 1;}#sk-container-id-4 div.sk-parallel {display: flex;align-items: stretch;justify-content: center;background-color: white;position: relative;}#sk-container-id-4 div.sk-item::before, #sk-container-id-4 div.sk-parallel-item::before {content: \"\";position: absolute;border-left: 1px solid gray;box-sizing: border-box;top: 0;bottom: 0;left: 50%;z-index: -1;}#sk-container-id-4 div.sk-parallel-item {display: flex;flex-direction: column;z-index: 1;position: relative;background-color: white;}#sk-container-id-4 div.sk-parallel-item:first-child::after {align-self: flex-end;width: 50%;}#sk-container-id-4 div.sk-parallel-item:last-child::after {align-self: flex-start;width: 50%;}#sk-container-id-4 div.sk-parallel-item:only-child::after {width: 0;}#sk-container-id-4 div.sk-dashed-wrapped {border: 1px dashed gray;margin: 0 0.4em 0.5em 0.4em;box-sizing: border-box;padding-bottom: 0.4em;background-color: white;}#sk-container-id-4 div.sk-label label {font-family: monospace;font-weight: bold;display: inline-block;line-height: 1.2em;}#sk-container-id-4 div.sk-label-container {text-align: center;}#sk-container-id-4 div.sk-container {/* jupyter's `normalize.less` sets `[hidden] { display: none; }` but bootstrap.min.css set `[hidden] { display: none !important; }` so we also need the `!important` here to be able to override the default hidden behavior on the sphinx rendered scikit-learn.org. See: https://github.com/scikit-learn/scikit-learn/issues/21755 */display: inline-block !important;position: relative;}#sk-container-id-4 div.sk-text-repr-fallback {display: none;}</style><div id=\"sk-container-id-4\" class=\"sk-top-container\"><div class=\"sk-text-repr-fallback\"><pre>GridSearchCV(estimator=&lt;catboost.core.CatBoostRegressor object at 0x7fa2f008cac0&gt;,\n",
       "             param_grid={&#x27;depth&#x27;: [6, 8], &#x27;iterations&#x27;: [20, 50],\n",
       "                         &#x27;learning_rate&#x27;: [0.01, 0.02],\n",
       "                         &#x27;random_state&#x27;: [12345]},\n",
       "             scoring=&#x27;neg_root_mean_squared_error&#x27;)</pre><b>In a Jupyter environment, please rerun this cell to show the HTML representation or trust the notebook. <br />On GitHub, the HTML representation is unable to render, please try loading this page with nbviewer.org.</b></div><div class=\"sk-container\" hidden><div class=\"sk-item sk-dashed-wrapped\"><div class=\"sk-label-container\"><div class=\"sk-label sk-toggleable\"><input class=\"sk-toggleable__control sk-hidden--visually\" id=\"sk-estimator-id-8\" type=\"checkbox\" ><label for=\"sk-estimator-id-8\" class=\"sk-toggleable__label sk-toggleable__label-arrow\">GridSearchCV</label><div class=\"sk-toggleable__content\"><pre>GridSearchCV(estimator=&lt;catboost.core.CatBoostRegressor object at 0x7fa2f008cac0&gt;,\n",
       "             param_grid={&#x27;depth&#x27;: [6, 8], &#x27;iterations&#x27;: [20, 50],\n",
       "                         &#x27;learning_rate&#x27;: [0.01, 0.02],\n",
       "                         &#x27;random_state&#x27;: [12345]},\n",
       "             scoring=&#x27;neg_root_mean_squared_error&#x27;)</pre></div></div></div><div class=\"sk-parallel\"><div class=\"sk-parallel-item\"><div class=\"sk-item\"><div class=\"sk-label-container\"><div class=\"sk-label sk-toggleable\"><input class=\"sk-toggleable__control sk-hidden--visually\" id=\"sk-estimator-id-9\" type=\"checkbox\" ><label for=\"sk-estimator-id-9\" class=\"sk-toggleable__label sk-toggleable__label-arrow\">estimator: CatBoostRegressor</label><div class=\"sk-toggleable__content\"><pre>&lt;catboost.core.CatBoostRegressor object at 0x7fa2f008cac0&gt;</pre></div></div></div><div class=\"sk-serial\"><div class=\"sk-item\"><div class=\"sk-estimator sk-toggleable\"><input class=\"sk-toggleable__control sk-hidden--visually\" id=\"sk-estimator-id-10\" type=\"checkbox\" ><label for=\"sk-estimator-id-10\" class=\"sk-toggleable__label sk-toggleable__label-arrow\">CatBoostRegressor</label><div class=\"sk-toggleable__content\"><pre>&lt;catboost.core.CatBoostRegressor object at 0x7fa2f008cac0&gt;</pre></div></div></div></div></div></div></div></div></div></div>"
      ],
      "text/plain": [
       "GridSearchCV(estimator=<catboost.core.CatBoostRegressor object at 0x7fa2f008cac0>,\n",
       "             param_grid={'depth': [6, 8], 'iterations': [20, 50],\n",
       "                         'learning_rate': [0.01, 0.02],\n",
       "                         'random_state': [12345]},\n",
       "             scoring='neg_root_mean_squared_error')"
      ]
     },
     "execution_count": 78,
     "metadata": {},
     "output_type": "execute_result"
    }
   ],
   "source": [
    "%%time\n",
    "gs_catboost.fit(X_train, y_train)"
   ]
  },
  {
   "cell_type": "code",
   "execution_count": 79,
   "metadata": {},
   "outputs": [
    {
     "name": "stdout",
     "output_type": "stream",
     "text": [
      "best_score: 2269.438583528923\n",
      "best_params: {'depth': 8, 'iterations': 50, 'learning_rate': 0.02, 'random_state': 12345}\n"
     ]
    }
   ],
   "source": [
    "# лучшее значение RMSE \n",
    "print(f'best_score: {gs_catboost.best_score_ * -1}')\n",
    "\n",
    "# лучшие гиперпараметры\n",
    "print(f'best_params: {gs_catboost.best_params_}')"
   ]
  },
  {
   "cell_type": "markdown",
   "metadata": {},
   "source": [
    "### Вывод по пункту"
   ]
  },
  {
   "cell_type": "markdown",
   "metadata": {},
   "source": [
    "В данном пункте были рассмотрены 4 модели машинного обучения:\n",
    "1. Ridge\n",
    "2. LinearRegression\n",
    "3. LightGBM\n",
    "4. CatBoost\n",
    "\n",
    "Данные были предварительно разделены на тренировочную и тестовую выборку в соотношение 75:25.\n",
    "Проведено масштабирование данных.\n",
    "Также проведено кодирование данных тренировочной и тестовой выборки методом OHE для обучения моделей Ridge и LinearRegression.\n",
    "Для обучения моделей LightGBM и CatBoost данные брали без кодирования.\n",
    "\n",
    "В итоге для каждой модели были подобраны гиперпараметры, которые выдают RMSE меньше 2500.\n",
    "\n",
    "Итого:\n",
    "\n",
    "| Модель    |   Лучшие гиперпараметры | Лучшее RMSE | Время обучения и поиска гиперпараметров| \n",
    "| :---      | :----                   | :----      | :----                  | \n",
    "|  Ridge        |     alpha=0.15           |2403.62           |10min 57s              |\n",
    "|LinearRegression | cv=5              |2402.4826           |4min               |\n",
    "|  LightGBM        |  learning_rate=0.2, num_leaves=50,         |1388.8  |18min 36s              |\n",
    "|   CatBoost    |     depth=8, iterations=50, learning_rate=0.02          |2269.4386       |2min 42s               |\n",
    "\n",
    "\n",
    "Лучшие рещультаты по RMSE у LightGBM, а лучшее время по вычислению CatBoost. \n",
    "Посмотрим Как модели вычисляются с лучшими гиперпараметрами."
   ]
  },
  {
   "cell_type": "markdown",
   "metadata": {},
   "source": [
    "## Анализ моделей"
   ]
  },
  {
   "cell_type": "markdown",
   "metadata": {},
   "source": [
    "В предыдущем пункте нашли гиперпараметры моделй, которые дают RMSE меньше 2500. Обучим модели на данных параметрах и посомтрим сколько времени занимает их обучение и предсказание"
   ]
  },
  {
   "cell_type": "markdown",
   "metadata": {},
   "source": [
    "### Ridge"
   ]
  },
  {
   "cell_type": "code",
   "execution_count": 80,
   "metadata": {},
   "outputs": [
    {
     "name": "stdout",
     "output_type": "stream",
     "text": [
      "CPU times: user 17 µs, sys: 4 µs, total: 21 µs\n",
      "Wall time: 25 µs\n"
     ]
    }
   ],
   "source": [
    "%%time\n",
    "model_ridge_1 = Ridge(\n",
    "    alpha=0.15,\n",
    "    random_state=RANDOM_STATE\n",
    ")"
   ]
  },
  {
   "cell_type": "code",
   "execution_count": 81,
   "metadata": {},
   "outputs": [
    {
     "name": "stdout",
     "output_type": "stream",
     "text": [
      "CPU times: user 2.84 s, sys: 3.01 s, total: 5.86 s\n",
      "Wall time: 5.83 s\n"
     ]
    },
    {
     "data": {
      "text/html": [
       "<style>#sk-container-id-5 {color: black;background-color: white;}#sk-container-id-5 pre{padding: 0;}#sk-container-id-5 div.sk-toggleable {background-color: white;}#sk-container-id-5 label.sk-toggleable__label {cursor: pointer;display: block;width: 100%;margin-bottom: 0;padding: 0.3em;box-sizing: border-box;text-align: center;}#sk-container-id-5 label.sk-toggleable__label-arrow:before {content: \"▸\";float: left;margin-right: 0.25em;color: #696969;}#sk-container-id-5 label.sk-toggleable__label-arrow:hover:before {color: black;}#sk-container-id-5 div.sk-estimator:hover label.sk-toggleable__label-arrow:before {color: black;}#sk-container-id-5 div.sk-toggleable__content {max-height: 0;max-width: 0;overflow: hidden;text-align: left;background-color: #f0f8ff;}#sk-container-id-5 div.sk-toggleable__content pre {margin: 0.2em;color: black;border-radius: 0.25em;background-color: #f0f8ff;}#sk-container-id-5 input.sk-toggleable__control:checked~div.sk-toggleable__content {max-height: 200px;max-width: 100%;overflow: auto;}#sk-container-id-5 input.sk-toggleable__control:checked~label.sk-toggleable__label-arrow:before {content: \"▾\";}#sk-container-id-5 div.sk-estimator input.sk-toggleable__control:checked~label.sk-toggleable__label {background-color: #d4ebff;}#sk-container-id-5 div.sk-label input.sk-toggleable__control:checked~label.sk-toggleable__label {background-color: #d4ebff;}#sk-container-id-5 input.sk-hidden--visually {border: 0;clip: rect(1px 1px 1px 1px);clip: rect(1px, 1px, 1px, 1px);height: 1px;margin: -1px;overflow: hidden;padding: 0;position: absolute;width: 1px;}#sk-container-id-5 div.sk-estimator {font-family: monospace;background-color: #f0f8ff;border: 1px dotted black;border-radius: 0.25em;box-sizing: border-box;margin-bottom: 0.5em;}#sk-container-id-5 div.sk-estimator:hover {background-color: #d4ebff;}#sk-container-id-5 div.sk-parallel-item::after {content: \"\";width: 100%;border-bottom: 1px solid gray;flex-grow: 1;}#sk-container-id-5 div.sk-label:hover label.sk-toggleable__label {background-color: #d4ebff;}#sk-container-id-5 div.sk-serial::before {content: \"\";position: absolute;border-left: 1px solid gray;box-sizing: border-box;top: 0;bottom: 0;left: 50%;z-index: 0;}#sk-container-id-5 div.sk-serial {display: flex;flex-direction: column;align-items: center;background-color: white;padding-right: 0.2em;padding-left: 0.2em;position: relative;}#sk-container-id-5 div.sk-item {position: relative;z-index: 1;}#sk-container-id-5 div.sk-parallel {display: flex;align-items: stretch;justify-content: center;background-color: white;position: relative;}#sk-container-id-5 div.sk-item::before, #sk-container-id-5 div.sk-parallel-item::before {content: \"\";position: absolute;border-left: 1px solid gray;box-sizing: border-box;top: 0;bottom: 0;left: 50%;z-index: -1;}#sk-container-id-5 div.sk-parallel-item {display: flex;flex-direction: column;z-index: 1;position: relative;background-color: white;}#sk-container-id-5 div.sk-parallel-item:first-child::after {align-self: flex-end;width: 50%;}#sk-container-id-5 div.sk-parallel-item:last-child::after {align-self: flex-start;width: 50%;}#sk-container-id-5 div.sk-parallel-item:only-child::after {width: 0;}#sk-container-id-5 div.sk-dashed-wrapped {border: 1px dashed gray;margin: 0 0.4em 0.5em 0.4em;box-sizing: border-box;padding-bottom: 0.4em;background-color: white;}#sk-container-id-5 div.sk-label label {font-family: monospace;font-weight: bold;display: inline-block;line-height: 1.2em;}#sk-container-id-5 div.sk-label-container {text-align: center;}#sk-container-id-5 div.sk-container {/* jupyter's `normalize.less` sets `[hidden] { display: none; }` but bootstrap.min.css set `[hidden] { display: none !important; }` so we also need the `!important` here to be able to override the default hidden behavior on the sphinx rendered scikit-learn.org. See: https://github.com/scikit-learn/scikit-learn/issues/21755 */display: inline-block !important;position: relative;}#sk-container-id-5 div.sk-text-repr-fallback {display: none;}</style><div id=\"sk-container-id-5\" class=\"sk-top-container\"><div class=\"sk-text-repr-fallback\"><pre>Ridge(alpha=0.15, random_state=12345)</pre><b>In a Jupyter environment, please rerun this cell to show the HTML representation or trust the notebook. <br />On GitHub, the HTML representation is unable to render, please try loading this page with nbviewer.org.</b></div><div class=\"sk-container\" hidden><div class=\"sk-item\"><div class=\"sk-estimator sk-toggleable\"><input class=\"sk-toggleable__control sk-hidden--visually\" id=\"sk-estimator-id-11\" type=\"checkbox\" checked><label for=\"sk-estimator-id-11\" class=\"sk-toggleable__label sk-toggleable__label-arrow\">Ridge</label><div class=\"sk-toggleable__content\"><pre>Ridge(alpha=0.15, random_state=12345)</pre></div></div></div></div></div>"
      ],
      "text/plain": [
       "Ridge(alpha=0.15, random_state=12345)"
      ]
     },
     "execution_count": 81,
     "metadata": {},
     "output_type": "execute_result"
    }
   ],
   "source": [
    "%%time\n",
    "model_ridge_1.fit(X_train_ohe, y_train)"
   ]
  },
  {
   "cell_type": "code",
   "execution_count": 82,
   "metadata": {},
   "outputs": [
    {
     "name": "stdout",
     "output_type": "stream",
     "text": [
      "CPU times: user 38.9 ms, sys: 4.89 ms, total: 43.8 ms\n",
      "Wall time: 41.3 ms\n"
     ]
    }
   ],
   "source": [
    "%%time\n",
    "predictions_1 = model_ridge_1.predict(X_train_ohe)"
   ]
  },
  {
   "cell_type": "code",
   "execution_count": 83,
   "metadata": {},
   "outputs": [
    {
     "name": "stdout",
     "output_type": "stream",
     "text": [
      "score: 2397.0814443920817\n",
      "CPU times: user 3.92 ms, sys: 84 µs, total: 4 ms\n",
      "Wall time: 2.43 ms\n"
     ]
    }
   ],
   "source": [
    "%%time\n",
    "score_ridge = mean_squared_error(y_train,predictions_1)**.5\n",
    "print(f'score: {score_ridge}')"
   ]
  },
  {
   "cell_type": "markdown",
   "metadata": {},
   "source": [
    "### LinearRegression()"
   ]
  },
  {
   "cell_type": "markdown",
   "metadata": {},
   "source": [
    "Модель была обучена ранее. "
   ]
  },
  {
   "cell_type": "markdown",
   "metadata": {},
   "source": [
    "### LightGBM"
   ]
  },
  {
   "cell_type": "code",
   "execution_count": 84,
   "metadata": {},
   "outputs": [
    {
     "name": "stdout",
     "output_type": "stream",
     "text": [
      "CPU times: user 24 µs, sys: 6 µs, total: 30 µs\n",
      "Wall time: 33.4 µs\n"
     ]
    }
   ],
   "source": [
    "%%time\n",
    "model_gbm_1 = lgb.LGBMRegressor(\n",
    "    num_leaves=50,\n",
    "    learning_rate=0.2,\n",
    "    random_state=RANDOM_STATE\n",
    ")"
   ]
  },
  {
   "cell_type": "code",
   "execution_count": 85,
   "metadata": {},
   "outputs": [
    {
     "name": "stdout",
     "output_type": "stream",
     "text": [
      "CPU times: user 11min 39s, sys: 4.58 s, total: 11min 43s\n",
      "Wall time: 11min 49s\n"
     ]
    },
    {
     "data": {
      "text/html": [
       "<style>#sk-container-id-6 {color: black;background-color: white;}#sk-container-id-6 pre{padding: 0;}#sk-container-id-6 div.sk-toggleable {background-color: white;}#sk-container-id-6 label.sk-toggleable__label {cursor: pointer;display: block;width: 100%;margin-bottom: 0;padding: 0.3em;box-sizing: border-box;text-align: center;}#sk-container-id-6 label.sk-toggleable__label-arrow:before {content: \"▸\";float: left;margin-right: 0.25em;color: #696969;}#sk-container-id-6 label.sk-toggleable__label-arrow:hover:before {color: black;}#sk-container-id-6 div.sk-estimator:hover label.sk-toggleable__label-arrow:before {color: black;}#sk-container-id-6 div.sk-toggleable__content {max-height: 0;max-width: 0;overflow: hidden;text-align: left;background-color: #f0f8ff;}#sk-container-id-6 div.sk-toggleable__content pre {margin: 0.2em;color: black;border-radius: 0.25em;background-color: #f0f8ff;}#sk-container-id-6 input.sk-toggleable__control:checked~div.sk-toggleable__content {max-height: 200px;max-width: 100%;overflow: auto;}#sk-container-id-6 input.sk-toggleable__control:checked~label.sk-toggleable__label-arrow:before {content: \"▾\";}#sk-container-id-6 div.sk-estimator input.sk-toggleable__control:checked~label.sk-toggleable__label {background-color: #d4ebff;}#sk-container-id-6 div.sk-label input.sk-toggleable__control:checked~label.sk-toggleable__label {background-color: #d4ebff;}#sk-container-id-6 input.sk-hidden--visually {border: 0;clip: rect(1px 1px 1px 1px);clip: rect(1px, 1px, 1px, 1px);height: 1px;margin: -1px;overflow: hidden;padding: 0;position: absolute;width: 1px;}#sk-container-id-6 div.sk-estimator {font-family: monospace;background-color: #f0f8ff;border: 1px dotted black;border-radius: 0.25em;box-sizing: border-box;margin-bottom: 0.5em;}#sk-container-id-6 div.sk-estimator:hover {background-color: #d4ebff;}#sk-container-id-6 div.sk-parallel-item::after {content: \"\";width: 100%;border-bottom: 1px solid gray;flex-grow: 1;}#sk-container-id-6 div.sk-label:hover label.sk-toggleable__label {background-color: #d4ebff;}#sk-container-id-6 div.sk-serial::before {content: \"\";position: absolute;border-left: 1px solid gray;box-sizing: border-box;top: 0;bottom: 0;left: 50%;z-index: 0;}#sk-container-id-6 div.sk-serial {display: flex;flex-direction: column;align-items: center;background-color: white;padding-right: 0.2em;padding-left: 0.2em;position: relative;}#sk-container-id-6 div.sk-item {position: relative;z-index: 1;}#sk-container-id-6 div.sk-parallel {display: flex;align-items: stretch;justify-content: center;background-color: white;position: relative;}#sk-container-id-6 div.sk-item::before, #sk-container-id-6 div.sk-parallel-item::before {content: \"\";position: absolute;border-left: 1px solid gray;box-sizing: border-box;top: 0;bottom: 0;left: 50%;z-index: -1;}#sk-container-id-6 div.sk-parallel-item {display: flex;flex-direction: column;z-index: 1;position: relative;background-color: white;}#sk-container-id-6 div.sk-parallel-item:first-child::after {align-self: flex-end;width: 50%;}#sk-container-id-6 div.sk-parallel-item:last-child::after {align-self: flex-start;width: 50%;}#sk-container-id-6 div.sk-parallel-item:only-child::after {width: 0;}#sk-container-id-6 div.sk-dashed-wrapped {border: 1px dashed gray;margin: 0 0.4em 0.5em 0.4em;box-sizing: border-box;padding-bottom: 0.4em;background-color: white;}#sk-container-id-6 div.sk-label label {font-family: monospace;font-weight: bold;display: inline-block;line-height: 1.2em;}#sk-container-id-6 div.sk-label-container {text-align: center;}#sk-container-id-6 div.sk-container {/* jupyter's `normalize.less` sets `[hidden] { display: none; }` but bootstrap.min.css set `[hidden] { display: none !important; }` so we also need the `!important` here to be able to override the default hidden behavior on the sphinx rendered scikit-learn.org. See: https://github.com/scikit-learn/scikit-learn/issues/21755 */display: inline-block !important;position: relative;}#sk-container-id-6 div.sk-text-repr-fallback {display: none;}</style><div id=\"sk-container-id-6\" class=\"sk-top-container\"><div class=\"sk-text-repr-fallback\"><pre>LGBMRegressor(learning_rate=0.2, num_leaves=50, random_state=12345)</pre><b>In a Jupyter environment, please rerun this cell to show the HTML representation or trust the notebook. <br />On GitHub, the HTML representation is unable to render, please try loading this page with nbviewer.org.</b></div><div class=\"sk-container\" hidden><div class=\"sk-item\"><div class=\"sk-estimator sk-toggleable\"><input class=\"sk-toggleable__control sk-hidden--visually\" id=\"sk-estimator-id-12\" type=\"checkbox\" checked><label for=\"sk-estimator-id-12\" class=\"sk-toggleable__label sk-toggleable__label-arrow\">LGBMRegressor</label><div class=\"sk-toggleable__content\"><pre>LGBMRegressor(learning_rate=0.2, num_leaves=50, random_state=12345)</pre></div></div></div></div></div>"
      ],
      "text/plain": [
       "LGBMRegressor(learning_rate=0.2, num_leaves=50, random_state=12345)"
      ]
     },
     "execution_count": 85,
     "metadata": {},
     "output_type": "execute_result"
    }
   ],
   "source": [
    "%%time\n",
    "model_gbm_1.fit(X_train, y_train,categorical_feature=ohe_features_columns)"
   ]
  },
  {
   "cell_type": "code",
   "execution_count": 86,
   "metadata": {},
   "outputs": [
    {
     "name": "stdout",
     "output_type": "stream",
     "text": [
      "CPU times: user 2.1 s, sys: 0 ns, total: 2.1 s\n",
      "Wall time: 2.12 s\n"
     ]
    }
   ],
   "source": [
    "%%time\n",
    "predictions_3 = model_gbm_1.predict(X_train)"
   ]
  },
  {
   "cell_type": "code",
   "execution_count": 87,
   "metadata": {},
   "outputs": [
    {
     "name": "stdout",
     "output_type": "stream",
     "text": [
      "score: 1303.3399055912273\n",
      "CPU times: user 4.5 ms, sys: 0 ns, total: 4.5 ms\n",
      "Wall time: 2.67 ms\n"
     ]
    }
   ],
   "source": [
    "%%time\n",
    "score_gbm = mean_squared_error(y_train,predictions_3)**.5\n",
    "print(f'score: {score_gbm}')"
   ]
  },
  {
   "cell_type": "markdown",
   "metadata": {},
   "source": [
    "### CatBoost"
   ]
  },
  {
   "cell_type": "code",
   "execution_count": 88,
   "metadata": {},
   "outputs": [],
   "source": [
    "model_catboost_1 = CatBoostRegressor(\n",
    "    verbose=False,\n",
    "    loss_function='RMSE',\n",
    "    cat_features=ohe_features_columns,\n",
    "    depth=8,\n",
    "    learning_rate=0.02,\n",
    "    iterations=50,\n",
    "    random_state=RANDOM_STATE)"
   ]
  },
  {
   "cell_type": "code",
   "execution_count": 89,
   "metadata": {},
   "outputs": [
    {
     "name": "stdout",
     "output_type": "stream",
     "text": [
      "CPU times: user 4.73 s, sys: 84.2 ms, total: 4.81 s\n",
      "Wall time: 5.75 s\n"
     ]
    },
    {
     "data": {
      "text/plain": [
       "<catboost.core.CatBoostRegressor at 0x7fa2ef8dd310>"
      ]
     },
     "execution_count": 89,
     "metadata": {},
     "output_type": "execute_result"
    }
   ],
   "source": [
    "%%time\n",
    "model_catboost_1.fit(X_train, y_train)"
   ]
  },
  {
   "cell_type": "code",
   "execution_count": 90,
   "metadata": {},
   "outputs": [
    {
     "name": "stdout",
     "output_type": "stream",
     "text": [
      "CPU times: user 184 ms, sys: 5.45 ms, total: 190 ms\n",
      "Wall time: 187 ms\n"
     ]
    }
   ],
   "source": [
    "%%time\n",
    "predictions_4 = model_catboost_1.predict(X_train)"
   ]
  },
  {
   "cell_type": "code",
   "execution_count": 91,
   "metadata": {},
   "outputs": [
    {
     "name": "stdout",
     "output_type": "stream",
     "text": [
      "score: 2261.0130857853565\n",
      "CPU times: user 4.23 ms, sys: 84 µs, total: 4.32 ms\n",
      "Wall time: 2.81 ms\n"
     ]
    }
   ],
   "source": [
    "%%time\n",
    "score_catboost = mean_squared_error(y_train,predictions_4)**.5\n",
    "print(f'score: {score_catboost}')"
   ]
  },
  {
   "cell_type": "markdown",
   "metadata": {},
   "source": [
    "### Лучшая модель\n",
    "\n",
    "Итого результаты с заданными гиперпараметрами:\n",
    "\n",
    "| Модель           |   RMSE                      |  Лучшие гиперпараметры | Время обучения | Время предсказания | \n",
    "| :---             | :----                      | :----                    | :----          | :----              | \n",
    "| Ridge            |  2403.62                   | alpha=0.15                |5.83 s          |41.3 ms|\n",
    "| LinearRegression |  2402.4826                 | cv=5               |\t43.5 s          |3min 36s |\n",
    "| LightGBM         |  1388.8                     |learning_rate=0.2, num_leaves=50        |11min 49s  |2.12 s|\n",
    "| CatBoost         |  2269.4386                 |depth=8, iterations=50, learning_rate=0.02 |5.75 s         |187 ms|\n",
    "\n",
    "\n",
    "Лучшие результаты по RMSE у модели LightGBM, однако моедль обучается 11 мин, что очень долго по сравнению с другими.\n",
    "Следующая модель у которой минимальная RMSE и малое время исполнения и обучения и предсказания у CatBoost. Да время обучение предсказания и обучения чуть короче у Ridge, но RMSE больше. Думаю клиенту в данному случае разнича в 100ms критичной не будет, а вот показатель в RMSE будет выйгрышней. Поэтому выберем ммодель CatBoost\n"
   ]
  },
  {
   "cell_type": "markdown",
   "metadata": {},
   "source": [
    "Проверим модель CatBoost на тестовой выборке"
   ]
  },
  {
   "cell_type": "code",
   "execution_count": 92,
   "metadata": {},
   "outputs": [
    {
     "name": "stdout",
     "output_type": "stream",
     "text": [
      "CPU times: user 43.3 ms, sys: 4.05 ms, total: 47.3 ms\n",
      "Wall time: 44.9 ms\n"
     ]
    }
   ],
   "source": [
    "%%time\n",
    "predictions_5 = model_catboost_1.predict(X_test)"
   ]
  },
  {
   "cell_type": "code",
   "execution_count": 93,
   "metadata": {},
   "outputs": [
    {
     "name": "stdout",
     "output_type": "stream",
     "text": [
      "score: 2256.9265954403595\n",
      "CPU times: user 3.03 ms, sys: 503 µs, total: 3.53 ms\n",
      "Wall time: 1.9 ms\n"
     ]
    }
   ],
   "source": [
    "%%time\n",
    "score_catboost_test = mean_squared_error(y_test,predictions_5)**.5\n",
    "print(f'score: {score_catboost_test}')"
   ]
  },
  {
   "cell_type": "markdown",
   "metadata": {},
   "source": [
    "### Вывод по пункту"
   ]
  },
  {
   "cell_type": "markdown",
   "metadata": {},
   "source": [
    "В итоге для каждой модели были подобраны гиперпараметры, которые выдают RMSE меньше 2500.\n",
    "\n",
    "Итого результаты с заданными гиперпараметрами:\n",
    "\n",
    "\n",
    "| Модель           |   RMSE                      |  Лучшие гиперпараметры | Время обучения | Время предсказания | \n",
    "| :---             | :----                      | :----                    | :----          | :----              | \n",
    "| Ridge            |  2403.62                   | alpha=0.15                |5.83 s          |41.3 ms|\n",
    "| LinearRegression |  2402.4826                 | cv=5               |\t43.5 s          |3min 36s |\n",
    "| LightGBM         |  1388.8                     |learning_rate=0.2, num_leaves=50        |11min 49s  |2.12 s|\n",
    "| CatBoost         |  2269.4386                 |depth=8, iterations=50, learning_rate=0.02 |5.75 s         |187 ms|\n",
    "\n",
    "\n",
    "Лучшие результаты по RMSE у модели LightGBM, однако моедль обучается 11 мин, что очень долго по сравнению с другими.\n",
    "Следующая модель у которой минимальная RMSE и малое время исполнения и обучения и предсказания у CatBoost. Да время обучение предсказания и обучения чуть короче у Ridge, но RMSE больше. Думаю клиенту в данному случае разнича в 100ms критичной не будет, а вот показатель в RMSE будет выйгрышней. Поэтому выберем ммодель CatBoost\n",
    "На тестовой выборке результаты :\n",
    "- RMSE 2256.9265\n",
    "- время обучения:5.75 s \n",
    "- время предсказания: 44.9 ms"
   ]
  },
  {
   "cell_type": "markdown",
   "metadata": {},
   "source": [
    "## Итог"
   ]
  },
  {
   "cell_type": "markdown",
   "metadata": {},
   "source": [
    "По заданию необходимо построить модель для определения стоимости автомобиля для сервиса по продаже автомобилей с пробегом. Компания разрабатывает приложение для привлечения новых клиентов в котором можно быстро узнать рыночную стоимость своего автомобиля. \n",
    "\n",
    "В вашем распоряжении исторические данные: технические характеристики, комплектации и цены автомобилей. \n",
    "\n",
    "Заказчику важны построение модели:\n",
    "\n",
    "- качество предсказания;\n",
    "- скорость предсказания;\n",
    "- время обучения.\n",
    "\n",
    "Для выполнения данного проекта были выполнены следущие шаги:\n",
    "\n",
    "- ШАГ 1\n",
    "\n",
    "В данном шаге была выполнена подготовка данных к исследованиям.\n",
    "В ходы подготовки было сделано:\n",
    "1. перевод названий столбцов к нижнему регистру\n",
    "2. посчитано кол-во пропущенных строк и их процент от всех строк \n",
    "\n",
    "| Наименование столбца  | Кол-во пустых строк | Процент пустых строк |\n",
    "| :---               | :----             | :---    |\n",
    "| Repaired         | 71154              | 20.079070 |\n",
    "| VehicleType       | 37490              | 10.579368 |\n",
    "| FuelType             | 32895              | 9.282697 |\n",
    "| Gearbox    | 19833               | 5.596709 |\n",
    "| Model               | 19705                 | 5.560588 |\n",
    "\n",
    "3. пустые значения в столбцах выше было принято решение заменить в Repaired на 0, 'yes' заменили на 1. В 'Gearbox' на 'manual'. в остальных на 'other'. Пропуски наблюдались только в категорийных признаках.\n",
    "4. Избавились от 4 уникальных дупликатов.\n",
    "5. Избавились от неинформативных столбцов в признаках, а именно: 'date_crawled', 'date_created','number_of_pictures','postal_code', 'last_seen', 'registration_month'\n",
    "6. Данные очистили от выбросов в 'power', 'price'.\n",
    "7. Также удалил строки в которых пропущенные значения наблюдались сразу в нескольких столбцах\n",
    "\n",
    " \n",
    "Процент потерянных строк всего датасета  по итогу обработки данных: 17.74449796680861 %\n",
    "\n",
    "Было:\n",
    "\n",
    "- Строк: 354369\n",
    "- Столбцов: 16\n",
    "\n",
    "Стало \n",
    "- Строк: 291488\n",
    "- Столбцов: 10\n",
    "\n",
    "\n",
    "\n",
    "\n",
    "- ШАГ 2\n",
    "\n",
    "В данном пункте были рассмотрены 4 модели машинного обучения:\n",
    "1. Ridge\n",
    "2. LinearRegression\n",
    "3. LightGBM\n",
    "4. CatBoost\n",
    "\n",
    "Данные были предварительно разделены на тренировочную и тестовую выборку в соотношение 75:25.\n",
    "Проведено масштабирование данных.\n",
    "Также проведено кодирование данных тренировочной и тестовой выборки методом OHE для обучения моделей Ridge и LinearRegression.\n",
    "Для обучения моделей LightGBM и CatBoost данные брали без кодирования.\n",
    "\n",
    "В итоге для каждой модели были подобраны гиперпараметры, которые выдают RMSE меньше 2500.\n",
    "\n",
    "Итого:\n",
    "\n",
    "| Модель    |   Лучшие гиперпараметры | Лучшее RMSE | Время обучения и поиска гиперпараметров| \n",
    "| :---      | :----                   | :----      | :----                  | \n",
    "|  Ridge        |     alpha=0.15           |2403.62           |10min 57s              |\n",
    "|LinearRegression | cv=5              |2402.4826           |4min               |\n",
    "|  LightGBM        |  learning_rate=0.2, num_leaves=50,         |1388.8  |18min 36s              |\n",
    "|   CatBoost    |     depth=8, iterations=50, learning_rate=0.02          |2269.4386       |2min 42s               |\n",
    "\n",
    "\n",
    "Лучшие рещультаты по RMSE у LightGBM, а лучшее время по вычислению CatBoost. \n",
    "\n",
    "\n",
    "- ШАГ 3\n",
    "\n",
    "В итоге для каждой модели были подобраны гиперпараметры, которые выдают RMSE меньше 2500.\n",
    "\n",
    "Итого результаты с заданными гиперпараметрами:\n",
    "\n",
    "| Модель           |   RMSE                      |  Лучшие гиперпараметры | Время обучения | Время предсказания | \n",
    "| :---             | :----                      | :----                    | :----          | :----              | \n",
    "| Ridge            |  2403.62                   | alpha=0.15                |5.83 s          |41.3 ms|\n",
    "| LinearRegression |  2402.4826                 | cv=5               |\t43.5 s          |3min 36s |\n",
    "| LightGBM         |  1388.8                     |learning_rate=0.2, num_leaves=50        |11min 49s  |2.12 s|\n",
    "| CatBoost         |  2269.4386                 |depth=8, iterations=50, learning_rate=0.02 |5.75 s         |187 ms|\n",
    "\n",
    "\n",
    "Лучшие результаты по RMSE у модели LightGBM, однако моедль обучается 11 мин, что очень долго по сравнению с другими.\n",
    "Следующая модель у которой минимальная RMSE и малое время исполнения и обучения и предсказания у CatBoost. Да время обучение предсказания и обучения чуть короче у Ridge, но RMSE больше. Думаю клиенту в данному случае разнича в 100ms критичной не будет, а вот показатель в RMSE будет выйгрышней. Поэтому выберем ммодель CatBoost\n",
    "\n",
    "На тестовой выборке результаты :\n",
    "- RMSE 2256.9265\n",
    "- время обучения:5.75 s \n",
    "- время предсказания: 44.9 ms"
   ]
  }
 ],
 "metadata": {
  "ExecuteTimeLog": [
   {
    "duration": 8419,
    "start_time": "2023-04-10T08:25:38.707Z"
   },
   {
    "duration": 2,
    "start_time": "2023-04-10T08:25:47.129Z"
   },
   {
    "duration": 1581,
    "start_time": "2023-04-10T08:25:47.133Z"
   },
   {
    "duration": 136,
    "start_time": "2023-04-10T08:25:48.716Z"
   },
   {
    "duration": 0,
    "start_time": "2023-04-10T08:25:48.855Z"
   },
   {
    "duration": 0,
    "start_time": "2023-04-10T08:25:48.856Z"
   },
   {
    "duration": 0,
    "start_time": "2023-04-10T08:25:48.858Z"
   },
   {
    "duration": 0,
    "start_time": "2023-04-10T08:25:48.859Z"
   },
   {
    "duration": 0,
    "start_time": "2023-04-10T08:25:48.860Z"
   },
   {
    "duration": 0,
    "start_time": "2023-04-10T08:25:48.862Z"
   },
   {
    "duration": 0,
    "start_time": "2023-04-10T08:25:48.863Z"
   },
   {
    "duration": 0,
    "start_time": "2023-04-10T08:25:48.864Z"
   },
   {
    "duration": 0,
    "start_time": "2023-04-10T08:25:48.865Z"
   },
   {
    "duration": 0,
    "start_time": "2023-04-10T08:25:48.891Z"
   },
   {
    "duration": 0,
    "start_time": "2023-04-10T08:25:48.892Z"
   },
   {
    "duration": 0,
    "start_time": "2023-04-10T08:25:48.893Z"
   },
   {
    "duration": 0,
    "start_time": "2023-04-10T08:25:48.894Z"
   },
   {
    "duration": 0,
    "start_time": "2023-04-10T08:25:48.895Z"
   },
   {
    "duration": 0,
    "start_time": "2023-04-10T08:25:48.896Z"
   },
   {
    "duration": 0,
    "start_time": "2023-04-10T08:25:48.897Z"
   },
   {
    "duration": 0,
    "start_time": "2023-04-10T08:25:48.899Z"
   },
   {
    "duration": 0,
    "start_time": "2023-04-10T08:25:48.900Z"
   },
   {
    "duration": 0,
    "start_time": "2023-04-10T08:25:48.901Z"
   },
   {
    "duration": 0,
    "start_time": "2023-04-10T08:25:48.902Z"
   },
   {
    "duration": 0,
    "start_time": "2023-04-10T08:25:48.903Z"
   },
   {
    "duration": 0,
    "start_time": "2023-04-10T08:25:48.904Z"
   },
   {
    "duration": 9,
    "start_time": "2023-04-10T08:26:01.267Z"
   },
   {
    "duration": 3251,
    "start_time": "2023-04-10T08:26:48.511Z"
   },
   {
    "duration": 3,
    "start_time": "2023-04-10T08:26:51.766Z"
   },
   {
    "duration": 20,
    "start_time": "2023-04-10T08:26:51.771Z"
   },
   {
    "duration": 2582,
    "start_time": "2023-04-10T08:27:02.342Z"
   },
   {
    "duration": 3,
    "start_time": "2023-04-10T08:27:04.926Z"
   },
   {
    "duration": 1369,
    "start_time": "2023-04-10T08:27:04.931Z"
   },
   {
    "duration": 4,
    "start_time": "2023-04-10T08:27:06.305Z"
   },
   {
    "duration": 10,
    "start_time": "2023-04-10T08:27:06.311Z"
   },
   {
    "duration": 20,
    "start_time": "2023-04-10T08:27:06.323Z"
   },
   {
    "duration": 3209,
    "start_time": "2023-04-10T08:27:06.345Z"
   },
   {
    "duration": 10,
    "start_time": "2023-04-10T08:27:09.556Z"
   },
   {
    "duration": 60376,
    "start_time": "2023-04-10T08:27:09.568Z"
   },
   {
    "duration": 4,
    "start_time": "2023-04-10T08:28:09.946Z"
   },
   {
    "duration": 18,
    "start_time": "2023-04-10T08:28:09.952Z"
   },
   {
    "duration": 18,
    "start_time": "2023-04-10T08:28:09.973Z"
   },
   {
    "duration": 31,
    "start_time": "2023-04-10T08:28:09.992Z"
   },
   {
    "duration": 1300,
    "start_time": "2023-04-10T08:28:10.026Z"
   },
   {
    "duration": 0,
    "start_time": "2023-04-10T08:28:11.328Z"
   },
   {
    "duration": 0,
    "start_time": "2023-04-10T08:28:11.330Z"
   },
   {
    "duration": 0,
    "start_time": "2023-04-10T08:28:11.333Z"
   },
   {
    "duration": 0,
    "start_time": "2023-04-10T08:28:11.335Z"
   },
   {
    "duration": 0,
    "start_time": "2023-04-10T08:28:11.336Z"
   },
   {
    "duration": 0,
    "start_time": "2023-04-10T08:28:11.338Z"
   },
   {
    "duration": 0,
    "start_time": "2023-04-10T08:28:11.339Z"
   },
   {
    "duration": 0,
    "start_time": "2023-04-10T08:28:11.341Z"
   },
   {
    "duration": 0,
    "start_time": "2023-04-10T08:28:11.343Z"
   },
   {
    "duration": 0,
    "start_time": "2023-04-10T08:28:11.345Z"
   },
   {
    "duration": 0,
    "start_time": "2023-04-10T08:28:11.346Z"
   },
   {
    "duration": 0,
    "start_time": "2023-04-10T08:28:11.348Z"
   },
   {
    "duration": 1414,
    "start_time": "2023-04-10T08:28:50.679Z"
   },
   {
    "duration": 22,
    "start_time": "2023-04-10T08:29:53.329Z"
   },
   {
    "duration": 2514,
    "start_time": "2023-04-10T08:31:03.042Z"
   },
   {
    "duration": 4,
    "start_time": "2023-04-10T08:31:05.558Z"
   },
   {
    "duration": 1585,
    "start_time": "2023-04-10T08:31:05.564Z"
   },
   {
    "duration": 4,
    "start_time": "2023-04-10T08:31:07.152Z"
   },
   {
    "duration": 22,
    "start_time": "2023-04-10T08:31:07.158Z"
   },
   {
    "duration": 26,
    "start_time": "2023-04-10T08:31:07.183Z"
   },
   {
    "duration": 991,
    "start_time": "2023-04-10T08:31:07.211Z"
   },
   {
    "duration": 14,
    "start_time": "2023-04-10T08:31:08.205Z"
   },
   {
    "duration": 4115,
    "start_time": "2023-04-10T08:31:08.220Z"
   },
   {
    "duration": 3,
    "start_time": "2023-04-10T08:31:12.337Z"
   },
   {
    "duration": 44,
    "start_time": "2023-04-10T08:31:12.342Z"
   },
   {
    "duration": 23,
    "start_time": "2023-04-10T08:31:12.390Z"
   },
   {
    "duration": 27,
    "start_time": "2023-04-10T08:31:12.415Z"
   },
   {
    "duration": 40,
    "start_time": "2023-04-10T08:31:12.445Z"
   },
   {
    "duration": 131,
    "start_time": "2023-04-10T08:31:12.487Z"
   },
   {
    "duration": 0,
    "start_time": "2023-04-10T08:31:12.620Z"
   },
   {
    "duration": 0,
    "start_time": "2023-04-10T08:31:12.621Z"
   },
   {
    "duration": 0,
    "start_time": "2023-04-10T08:31:12.623Z"
   },
   {
    "duration": 0,
    "start_time": "2023-04-10T08:31:12.623Z"
   },
   {
    "duration": 0,
    "start_time": "2023-04-10T08:31:12.625Z"
   },
   {
    "duration": 0,
    "start_time": "2023-04-10T08:31:12.626Z"
   },
   {
    "duration": 0,
    "start_time": "2023-04-10T08:31:12.627Z"
   },
   {
    "duration": 0,
    "start_time": "2023-04-10T08:31:12.628Z"
   },
   {
    "duration": 0,
    "start_time": "2023-04-10T08:31:12.629Z"
   },
   {
    "duration": 0,
    "start_time": "2023-04-10T08:31:12.630Z"
   },
   {
    "duration": 0,
    "start_time": "2023-04-10T08:31:12.631Z"
   },
   {
    "duration": 224,
    "start_time": "2023-04-10T08:32:18.813Z"
   },
   {
    "duration": 76,
    "start_time": "2023-04-10T08:32:21.070Z"
   },
   {
    "duration": 53,
    "start_time": "2023-04-10T08:32:21.956Z"
   },
   {
    "duration": 2683,
    "start_time": "2023-04-10T08:32:55.060Z"
   },
   {
    "duration": 3,
    "start_time": "2023-04-10T08:32:57.745Z"
   },
   {
    "duration": 2161,
    "start_time": "2023-04-10T08:32:57.750Z"
   },
   {
    "duration": 4,
    "start_time": "2023-04-10T08:32:59.913Z"
   },
   {
    "duration": 16,
    "start_time": "2023-04-10T08:32:59.919Z"
   },
   {
    "duration": 21,
    "start_time": "2023-04-10T08:32:59.938Z"
   },
   {
    "duration": 3277,
    "start_time": "2023-04-10T08:32:59.961Z"
   },
   {
    "duration": 9,
    "start_time": "2023-04-10T08:33:03.240Z"
   },
   {
    "duration": 4296,
    "start_time": "2023-04-10T08:33:03.250Z"
   },
   {
    "duration": 3,
    "start_time": "2023-04-10T08:33:07.547Z"
   },
   {
    "duration": 14,
    "start_time": "2023-04-10T08:33:07.551Z"
   },
   {
    "duration": 11,
    "start_time": "2023-04-10T08:33:07.567Z"
   },
   {
    "duration": 33,
    "start_time": "2023-04-10T08:33:07.580Z"
   },
   {
    "duration": 33,
    "start_time": "2023-04-10T08:33:07.617Z"
   },
   {
    "duration": 253,
    "start_time": "2023-04-10T08:33:07.652Z"
   },
   {
    "duration": 70,
    "start_time": "2023-04-10T08:33:07.906Z"
   },
   {
    "duration": 65,
    "start_time": "2023-04-10T08:33:07.978Z"
   },
   {
    "duration": 94,
    "start_time": "2023-04-10T08:47:31.939Z"
   },
   {
    "duration": 2640,
    "start_time": "2023-04-10T08:48:11.170Z"
   },
   {
    "duration": 5,
    "start_time": "2023-04-10T08:48:13.812Z"
   },
   {
    "duration": 1947,
    "start_time": "2023-04-10T08:48:13.819Z"
   },
   {
    "duration": 5,
    "start_time": "2023-04-10T08:48:15.769Z"
   },
   {
    "duration": 26,
    "start_time": "2023-04-10T08:48:15.776Z"
   },
   {
    "duration": 10,
    "start_time": "2023-04-10T08:48:15.804Z"
   },
   {
    "duration": 3369,
    "start_time": "2023-04-10T08:48:15.816Z"
   },
   {
    "duration": 23,
    "start_time": "2023-04-10T08:48:19.187Z"
   },
   {
    "duration": 4570,
    "start_time": "2023-04-10T08:48:19.213Z"
   },
   {
    "duration": 11,
    "start_time": "2023-04-10T08:48:23.787Z"
   },
   {
    "duration": 19,
    "start_time": "2023-04-10T08:48:23.810Z"
   },
   {
    "duration": 5,
    "start_time": "2023-04-10T08:48:23.831Z"
   },
   {
    "duration": 7,
    "start_time": "2023-04-10T08:48:23.837Z"
   },
   {
    "duration": 50,
    "start_time": "2023-04-10T08:48:27.012Z"
   },
   {
    "duration": 4,
    "start_time": "2023-04-10T08:48:35.379Z"
   },
   {
    "duration": 311,
    "start_time": "2023-04-10T08:50:29.311Z"
   },
   {
    "duration": 40,
    "start_time": "2023-04-10T08:50:33.569Z"
   },
   {
    "duration": 265,
    "start_time": "2023-04-10T08:50:34.518Z"
   },
   {
    "duration": 152,
    "start_time": "2023-04-10T09:12:41.209Z"
   },
   {
    "duration": 42,
    "start_time": "2023-04-10T09:12:45.263Z"
   },
   {
    "duration": 3057,
    "start_time": "2023-04-10T09:34:08.803Z"
   },
   {
    "duration": 3,
    "start_time": "2023-04-10T09:34:11.863Z"
   },
   {
    "duration": 1375,
    "start_time": "2023-04-10T09:34:11.868Z"
   },
   {
    "duration": 3,
    "start_time": "2023-04-10T09:34:13.245Z"
   },
   {
    "duration": 9,
    "start_time": "2023-04-10T09:34:13.251Z"
   },
   {
    "duration": 4,
    "start_time": "2023-04-10T09:34:13.262Z"
   },
   {
    "duration": 947,
    "start_time": "2023-04-10T09:34:13.268Z"
   },
   {
    "duration": 9,
    "start_time": "2023-04-10T09:34:14.217Z"
   },
   {
    "duration": 4410,
    "start_time": "2023-04-10T09:34:14.228Z"
   },
   {
    "duration": 3,
    "start_time": "2023-04-10T09:34:18.640Z"
   },
   {
    "duration": 25,
    "start_time": "2023-04-10T09:34:18.646Z"
   },
   {
    "duration": 17,
    "start_time": "2023-04-10T09:34:18.673Z"
   },
   {
    "duration": 35,
    "start_time": "2023-04-10T09:34:18.691Z"
   },
   {
    "duration": 71,
    "start_time": "2023-04-10T09:34:18.730Z"
   },
   {
    "duration": 28,
    "start_time": "2023-04-10T09:34:18.807Z"
   },
   {
    "duration": 46,
    "start_time": "2023-04-10T09:34:18.838Z"
   },
   {
    "duration": 252,
    "start_time": "2023-04-10T09:34:18.886Z"
   },
   {
    "duration": 18,
    "start_time": "2023-04-10T09:34:19.140Z"
   },
   {
    "duration": 39,
    "start_time": "2023-04-10T09:34:19.159Z"
   },
   {
    "duration": 24,
    "start_time": "2023-04-10T09:34:19.205Z"
   },
   {
    "duration": 20,
    "start_time": "2023-04-10T09:34:19.231Z"
   },
   {
    "duration": 12,
    "start_time": "2023-04-10T09:34:19.252Z"
   },
   {
    "duration": 261,
    "start_time": "2023-04-10T09:34:19.266Z"
   },
   {
    "duration": 0,
    "start_time": "2023-04-10T09:34:19.529Z"
   },
   {
    "duration": 0,
    "start_time": "2023-04-10T09:34:19.530Z"
   },
   {
    "duration": 0,
    "start_time": "2023-04-10T09:34:19.531Z"
   },
   {
    "duration": 0,
    "start_time": "2023-04-10T09:34:19.533Z"
   },
   {
    "duration": 0,
    "start_time": "2023-04-10T09:34:19.534Z"
   },
   {
    "duration": 0,
    "start_time": "2023-04-10T09:34:19.536Z"
   },
   {
    "duration": 0,
    "start_time": "2023-04-10T09:34:19.537Z"
   },
   {
    "duration": 0,
    "start_time": "2023-04-10T09:34:19.539Z"
   },
   {
    "duration": 0,
    "start_time": "2023-04-10T09:34:19.541Z"
   },
   {
    "duration": 0,
    "start_time": "2023-04-10T09:34:19.543Z"
   },
   {
    "duration": 0,
    "start_time": "2023-04-10T09:34:19.544Z"
   },
   {
    "duration": 0,
    "start_time": "2023-04-10T09:34:19.546Z"
   },
   {
    "duration": 65,
    "start_time": "2023-04-10T09:34:50.610Z"
   },
   {
    "duration": 8,
    "start_time": "2023-04-10T09:35:25.112Z"
   },
   {
    "duration": 23,
    "start_time": "2023-04-10T09:36:17.344Z"
   },
   {
    "duration": 11,
    "start_time": "2023-04-10T09:38:18.869Z"
   },
   {
    "duration": 9,
    "start_time": "2023-04-10T09:39:48.869Z"
   },
   {
    "duration": 1976,
    "start_time": "2023-04-10T09:40:23.820Z"
   },
   {
    "duration": 8,
    "start_time": "2023-04-10T09:45:38.792Z"
   },
   {
    "duration": 15,
    "start_time": "2023-04-10T09:48:54.160Z"
   },
   {
    "duration": 30,
    "start_time": "2023-04-10T09:49:20.867Z"
   },
   {
    "duration": 7,
    "start_time": "2023-04-10T09:50:04.131Z"
   },
   {
    "duration": 8,
    "start_time": "2023-04-10T09:52:01.970Z"
   },
   {
    "duration": 8,
    "start_time": "2023-04-10T09:52:45.617Z"
   },
   {
    "duration": 22,
    "start_time": "2023-04-10T09:54:37.638Z"
   },
   {
    "duration": 5,
    "start_time": "2023-04-10T09:54:47.689Z"
   },
   {
    "duration": 24,
    "start_time": "2023-04-10T09:56:20.475Z"
   },
   {
    "duration": 27,
    "start_time": "2023-04-10T09:56:41.041Z"
   },
   {
    "duration": 87,
    "start_time": "2023-04-10T10:05:09.988Z"
   },
   {
    "duration": 72,
    "start_time": "2023-04-10T10:06:21.321Z"
   },
   {
    "duration": 14,
    "start_time": "2023-04-10T10:15:23.283Z"
   },
   {
    "duration": 7,
    "start_time": "2023-04-10T10:21:35.506Z"
   },
   {
    "duration": 82,
    "start_time": "2023-04-10T11:11:32.055Z"
   },
   {
    "duration": 100,
    "start_time": "2023-04-10T11:11:43.728Z"
   },
   {
    "duration": 11,
    "start_time": "2023-04-10T11:12:11.943Z"
   },
   {
    "duration": 15,
    "start_time": "2023-04-10T11:17:28.795Z"
   },
   {
    "duration": 4,
    "start_time": "2023-04-10T11:22:09.070Z"
   },
   {
    "duration": 5,
    "start_time": "2023-04-10T11:22:14.513Z"
   },
   {
    "duration": 27,
    "start_time": "2023-04-10T11:22:24.620Z"
   },
   {
    "duration": 19,
    "start_time": "2023-04-10T11:22:53.709Z"
   },
   {
    "duration": 21,
    "start_time": "2023-04-10T11:25:13.689Z"
   },
   {
    "duration": 6,
    "start_time": "2023-04-10T11:35:08.466Z"
   },
   {
    "duration": 7,
    "start_time": "2023-04-10T11:35:12.408Z"
   },
   {
    "duration": 27,
    "start_time": "2023-04-10T11:38:45.260Z"
   },
   {
    "duration": 21,
    "start_time": "2023-04-10T11:40:47.674Z"
   },
   {
    "duration": 26,
    "start_time": "2023-04-10T11:40:50.592Z"
   },
   {
    "duration": 36,
    "start_time": "2023-04-10T11:40:52.260Z"
   },
   {
    "duration": 26,
    "start_time": "2023-04-10T11:41:41.615Z"
   },
   {
    "duration": 20,
    "start_time": "2023-04-10T11:52:16.589Z"
   },
   {
    "duration": 9,
    "start_time": "2023-04-10T11:55:46.305Z"
   },
   {
    "duration": 5,
    "start_time": "2023-04-10T12:50:19.580Z"
   },
   {
    "duration": 18,
    "start_time": "2023-04-10T12:53:06.021Z"
   },
   {
    "duration": 8,
    "start_time": "2023-04-10T12:53:07.633Z"
   },
   {
    "duration": 12,
    "start_time": "2023-04-10T12:59:15.300Z"
   },
   {
    "duration": 40,
    "start_time": "2023-04-10T12:59:35.876Z"
   },
   {
    "duration": 4062,
    "start_time": "2023-04-10T13:00:03.549Z"
   },
   {
    "duration": 2794,
    "start_time": "2023-04-10T13:02:01.964Z"
   },
   {
    "duration": 4,
    "start_time": "2023-04-10T13:02:04.761Z"
   },
   {
    "duration": 1458,
    "start_time": "2023-04-10T13:02:04.766Z"
   },
   {
    "duration": 4,
    "start_time": "2023-04-10T13:02:06.227Z"
   },
   {
    "duration": 8,
    "start_time": "2023-04-10T13:02:06.235Z"
   },
   {
    "duration": 13,
    "start_time": "2023-04-10T13:02:06.245Z"
   },
   {
    "duration": 994,
    "start_time": "2023-04-10T13:02:06.261Z"
   },
   {
    "duration": 11,
    "start_time": "2023-04-10T13:02:07.257Z"
   },
   {
    "duration": 4823,
    "start_time": "2023-04-10T13:02:07.270Z"
   },
   {
    "duration": 10,
    "start_time": "2023-04-10T13:02:12.094Z"
   },
   {
    "duration": 13,
    "start_time": "2023-04-10T13:02:12.106Z"
   },
   {
    "duration": 9,
    "start_time": "2023-04-10T13:02:12.120Z"
   },
   {
    "duration": 10,
    "start_time": "2023-04-10T13:02:12.130Z"
   },
   {
    "duration": 64,
    "start_time": "2023-04-10T13:02:12.145Z"
   },
   {
    "duration": 18,
    "start_time": "2023-04-10T13:02:12.211Z"
   },
   {
    "duration": 4092,
    "start_time": "2023-04-10T13:02:12.231Z"
   },
   {
    "duration": 35,
    "start_time": "2023-04-10T13:02:16.326Z"
   },
   {
    "duration": 300,
    "start_time": "2023-04-10T13:02:16.363Z"
   },
   {
    "duration": 39,
    "start_time": "2023-04-10T13:02:16.665Z"
   },
   {
    "duration": 41,
    "start_time": "2023-04-10T13:02:16.709Z"
   },
   {
    "duration": 43,
    "start_time": "2023-04-10T13:02:16.752Z"
   },
   {
    "duration": 64,
    "start_time": "2023-04-10T13:02:16.798Z"
   },
   {
    "duration": 21,
    "start_time": "2023-04-10T13:02:16.865Z"
   },
   {
    "duration": 55,
    "start_time": "2023-04-10T13:02:16.895Z"
   },
   {
    "duration": 23,
    "start_time": "2023-04-10T13:02:16.952Z"
   },
   {
    "duration": 29,
    "start_time": "2023-04-10T13:02:16.977Z"
   },
   {
    "duration": 29,
    "start_time": "2023-04-10T13:02:17.019Z"
   },
   {
    "duration": 20,
    "start_time": "2023-04-10T13:02:17.051Z"
   },
   {
    "duration": 10,
    "start_time": "2023-04-10T13:02:17.073Z"
   },
   {
    "duration": 141,
    "start_time": "2023-04-10T13:02:17.089Z"
   },
   {
    "duration": 113,
    "start_time": "2023-04-10T13:02:17.232Z"
   },
   {
    "duration": 32,
    "start_time": "2023-04-10T13:02:17.347Z"
   },
   {
    "duration": 41,
    "start_time": "2023-04-10T13:02:17.381Z"
   },
   {
    "duration": 53,
    "start_time": "2023-04-10T13:12:27.508Z"
   },
   {
    "duration": 2666,
    "start_time": "2023-04-10T13:13:11.751Z"
   },
   {
    "duration": 4,
    "start_time": "2023-04-10T13:13:14.419Z"
   },
   {
    "duration": 2201,
    "start_time": "2023-04-10T13:13:14.425Z"
   },
   {
    "duration": 4,
    "start_time": "2023-04-10T13:13:16.628Z"
   },
   {
    "duration": 9,
    "start_time": "2023-04-10T13:13:16.635Z"
   },
   {
    "duration": 13,
    "start_time": "2023-04-10T13:13:16.646Z"
   },
   {
    "duration": 3365,
    "start_time": "2023-04-10T13:13:16.660Z"
   },
   {
    "duration": 12,
    "start_time": "2023-04-10T13:13:20.027Z"
   },
   {
    "duration": 4323,
    "start_time": "2023-04-10T13:13:20.041Z"
   },
   {
    "duration": 3,
    "start_time": "2023-04-10T13:13:24.365Z"
   },
   {
    "duration": 20,
    "start_time": "2023-04-10T13:13:24.369Z"
   },
   {
    "duration": 25,
    "start_time": "2023-04-10T13:13:24.391Z"
   },
   {
    "duration": 21,
    "start_time": "2023-04-10T13:13:24.417Z"
   },
   {
    "duration": 80,
    "start_time": "2023-04-10T13:13:24.443Z"
   },
   {
    "duration": 6,
    "start_time": "2023-04-10T13:13:24.526Z"
   },
   {
    "duration": 4035,
    "start_time": "2023-04-10T13:13:24.535Z"
   },
   {
    "duration": 45,
    "start_time": "2023-04-10T13:13:28.572Z"
   },
   {
    "duration": 330,
    "start_time": "2023-04-10T13:13:28.619Z"
   },
   {
    "duration": 20,
    "start_time": "2023-04-10T13:13:28.951Z"
   },
   {
    "duration": 32,
    "start_time": "2023-04-10T13:13:28.989Z"
   },
   {
    "duration": 22,
    "start_time": "2023-04-10T13:13:29.023Z"
   },
   {
    "duration": 50,
    "start_time": "2023-04-10T13:13:29.047Z"
   },
   {
    "duration": 9,
    "start_time": "2023-04-10T13:13:29.106Z"
   },
   {
    "duration": 35,
    "start_time": "2023-04-10T13:13:29.117Z"
   },
   {
    "duration": 26,
    "start_time": "2023-04-10T13:13:29.154Z"
   },
   {
    "duration": 26,
    "start_time": "2023-04-10T13:13:29.186Z"
   },
   {
    "duration": 16,
    "start_time": "2023-04-10T13:13:29.215Z"
   },
   {
    "duration": 17,
    "start_time": "2023-04-10T13:13:29.232Z"
   },
   {
    "duration": 48,
    "start_time": "2023-04-10T13:13:29.250Z"
   },
   {
    "duration": 114,
    "start_time": "2023-04-10T13:13:29.300Z"
   },
   {
    "duration": 1,
    "start_time": "2023-04-10T13:13:29.416Z"
   },
   {
    "duration": 0,
    "start_time": "2023-04-10T13:13:29.418Z"
   },
   {
    "duration": 0,
    "start_time": "2023-04-10T13:13:29.420Z"
   },
   {
    "duration": 137,
    "start_time": "2023-04-10T13:15:23.648Z"
   },
   {
    "duration": 191,
    "start_time": "2023-04-10T13:15:40.554Z"
   },
   {
    "duration": 214,
    "start_time": "2023-04-10T13:15:50.594Z"
   },
   {
    "duration": 311,
    "start_time": "2023-04-10T13:15:55.202Z"
   },
   {
    "duration": 149,
    "start_time": "2023-04-10T13:16:16.549Z"
   },
   {
    "duration": 156,
    "start_time": "2023-04-10T13:16:41.764Z"
   },
   {
    "duration": 206,
    "start_time": "2023-04-10T13:17:07.845Z"
   },
   {
    "duration": 9,
    "start_time": "2023-04-10T13:17:21.404Z"
   },
   {
    "duration": 143,
    "start_time": "2023-04-10T13:18:21.279Z"
   },
   {
    "duration": 195,
    "start_time": "2023-04-10T13:18:45.333Z"
   },
   {
    "duration": 143,
    "start_time": "2023-04-10T13:19:57.505Z"
   },
   {
    "duration": 10,
    "start_time": "2023-04-10T13:21:10.732Z"
   },
   {
    "duration": 17,
    "start_time": "2023-04-10T13:28:26.746Z"
   },
   {
    "duration": 8,
    "start_time": "2023-04-10T13:29:37.534Z"
   },
   {
    "duration": 5,
    "start_time": "2023-04-10T13:31:50.941Z"
   },
   {
    "duration": 22,
    "start_time": "2023-04-10T13:31:54.432Z"
   },
   {
    "duration": 123,
    "start_time": "2023-04-10T13:32:14.269Z"
   },
   {
    "duration": 143,
    "start_time": "2023-04-10T13:32:22.441Z"
   },
   {
    "duration": 93,
    "start_time": "2023-04-10T13:33:16.583Z"
   },
   {
    "duration": 76,
    "start_time": "2023-04-10T13:34:17.973Z"
   },
   {
    "duration": 136,
    "start_time": "2023-04-10T13:36:00.750Z"
   },
   {
    "duration": 103,
    "start_time": "2023-04-10T13:38:08.338Z"
   },
   {
    "duration": 15,
    "start_time": "2023-04-10T13:38:21.115Z"
   },
   {
    "duration": 12,
    "start_time": "2023-04-10T13:38:36.447Z"
   },
   {
    "duration": 5,
    "start_time": "2023-04-10T13:38:40.601Z"
   },
   {
    "duration": 5,
    "start_time": "2023-04-10T13:39:24.304Z"
   },
   {
    "duration": 3011,
    "start_time": "2023-04-10T13:40:28.696Z"
   },
   {
    "duration": 3,
    "start_time": "2023-04-10T13:40:31.711Z"
   },
   {
    "duration": 34,
    "start_time": "2023-04-10T13:40:31.716Z"
   },
   {
    "duration": 29,
    "start_time": "2023-04-10T13:40:31.752Z"
   },
   {
    "duration": 36,
    "start_time": "2023-04-10T13:40:31.783Z"
   },
   {
    "duration": 50,
    "start_time": "2023-04-10T13:40:31.821Z"
   },
   {
    "duration": 893,
    "start_time": "2023-04-10T13:40:31.873Z"
   },
   {
    "duration": 10,
    "start_time": "2023-04-10T13:40:32.768Z"
   },
   {
    "duration": 4507,
    "start_time": "2023-04-10T13:40:32.780Z"
   },
   {
    "duration": 3,
    "start_time": "2023-04-10T13:40:37.291Z"
   },
   {
    "duration": 15,
    "start_time": "2023-04-10T13:40:37.297Z"
   },
   {
    "duration": 5,
    "start_time": "2023-04-10T13:40:37.314Z"
   },
   {
    "duration": 15,
    "start_time": "2023-04-10T13:40:37.322Z"
   },
   {
    "duration": 78,
    "start_time": "2023-04-10T13:40:37.339Z"
   },
   {
    "duration": 7,
    "start_time": "2023-04-10T13:40:37.420Z"
   },
   {
    "duration": 3816,
    "start_time": "2023-04-10T13:40:37.429Z"
   },
   {
    "duration": 23,
    "start_time": "2023-04-10T13:40:41.248Z"
   },
   {
    "duration": 230,
    "start_time": "2023-04-10T13:40:41.273Z"
   },
   {
    "duration": 24,
    "start_time": "2023-04-10T13:40:41.505Z"
   },
   {
    "duration": 33,
    "start_time": "2023-04-10T13:40:41.531Z"
   },
   {
    "duration": 30,
    "start_time": "2023-04-10T13:40:41.566Z"
   },
   {
    "duration": 25,
    "start_time": "2023-04-10T13:40:41.598Z"
   },
   {
    "duration": 7,
    "start_time": "2023-04-10T13:40:41.625Z"
   },
   {
    "duration": 28,
    "start_time": "2023-04-10T13:40:41.634Z"
   },
   {
    "duration": 37,
    "start_time": "2023-04-10T13:40:41.663Z"
   },
   {
    "duration": 18,
    "start_time": "2023-04-10T13:40:41.702Z"
   },
   {
    "duration": 15,
    "start_time": "2023-04-10T13:40:41.722Z"
   },
   {
    "duration": 189,
    "start_time": "2023-04-10T13:40:41.741Z"
   },
   {
    "duration": 18,
    "start_time": "2023-04-10T13:40:41.932Z"
   },
   {
    "duration": 13,
    "start_time": "2023-04-10T13:40:41.952Z"
   },
   {
    "duration": 55,
    "start_time": "2023-04-10T13:40:41.966Z"
   },
   {
    "duration": 115,
    "start_time": "2023-04-10T13:40:42.023Z"
   },
   {
    "duration": 120,
    "start_time": "2023-04-10T13:40:42.140Z"
   },
   {
    "duration": 5,
    "start_time": "2023-04-10T13:40:42.261Z"
   },
   {
    "duration": 6,
    "start_time": "2023-04-10T13:41:09.906Z"
   },
   {
    "duration": 2671,
    "start_time": "2023-04-10T13:41:18.752Z"
   },
   {
    "duration": 3,
    "start_time": "2023-04-10T13:41:21.430Z"
   },
   {
    "duration": 23,
    "start_time": "2023-04-10T13:41:21.436Z"
   },
   {
    "duration": 54,
    "start_time": "2023-04-10T13:41:21.461Z"
   },
   {
    "duration": 24,
    "start_time": "2023-04-10T13:41:21.518Z"
   },
   {
    "duration": 21,
    "start_time": "2023-04-10T13:41:21.544Z"
   },
   {
    "duration": 913,
    "start_time": "2023-04-10T13:41:21.567Z"
   },
   {
    "duration": 166,
    "start_time": "2023-04-10T13:41:22.482Z"
   },
   {
    "duration": 3805,
    "start_time": "2023-04-10T13:41:22.650Z"
   },
   {
    "duration": 3,
    "start_time": "2023-04-10T13:41:26.457Z"
   },
   {
    "duration": 20,
    "start_time": "2023-04-10T13:41:26.462Z"
   },
   {
    "duration": 4,
    "start_time": "2023-04-10T13:41:26.488Z"
   },
   {
    "duration": 42,
    "start_time": "2023-04-10T13:41:26.495Z"
   },
   {
    "duration": 50,
    "start_time": "2023-04-10T13:41:26.541Z"
   },
   {
    "duration": 5,
    "start_time": "2023-04-10T13:41:26.593Z"
   },
   {
    "duration": 3692,
    "start_time": "2023-04-10T13:41:26.601Z"
   },
   {
    "duration": 33,
    "start_time": "2023-04-10T13:41:30.295Z"
   },
   {
    "duration": 221,
    "start_time": "2023-04-10T13:41:30.330Z"
   },
   {
    "duration": 22,
    "start_time": "2023-04-10T13:41:30.553Z"
   },
   {
    "duration": 77,
    "start_time": "2023-04-10T13:41:30.577Z"
   },
   {
    "duration": 84,
    "start_time": "2023-04-10T13:41:30.656Z"
   },
   {
    "duration": 92,
    "start_time": "2023-04-10T13:41:30.742Z"
   },
   {
    "duration": 116,
    "start_time": "2023-04-10T13:41:30.837Z"
   },
   {
    "duration": 95,
    "start_time": "2023-04-10T13:41:30.955Z"
   },
   {
    "duration": 42,
    "start_time": "2023-04-10T13:41:31.052Z"
   },
   {
    "duration": 30,
    "start_time": "2023-04-10T13:41:31.096Z"
   },
   {
    "duration": 103,
    "start_time": "2023-04-10T13:41:31.130Z"
   },
   {
    "duration": 216,
    "start_time": "2023-04-10T13:41:31.236Z"
   },
   {
    "duration": 20,
    "start_time": "2023-04-10T13:41:31.455Z"
   },
   {
    "duration": 31,
    "start_time": "2023-04-10T13:41:31.476Z"
   },
   {
    "duration": 55,
    "start_time": "2023-04-10T13:41:31.509Z"
   },
   {
    "duration": 96,
    "start_time": "2023-04-10T13:41:31.566Z"
   },
   {
    "duration": 4,
    "start_time": "2023-04-10T13:41:31.664Z"
   },
   {
    "duration": 112,
    "start_time": "2023-04-10T13:41:31.669Z"
   },
   {
    "duration": 60,
    "start_time": "2023-04-10T13:42:32.793Z"
   },
   {
    "duration": 5,
    "start_time": "2023-04-10T13:42:34.098Z"
   },
   {
    "duration": 2751,
    "start_time": "2023-04-10T13:42:59.551Z"
   },
   {
    "duration": 4,
    "start_time": "2023-04-10T13:43:02.305Z"
   },
   {
    "duration": 21,
    "start_time": "2023-04-10T13:43:02.311Z"
   },
   {
    "duration": 40,
    "start_time": "2023-04-10T13:43:02.334Z"
   },
   {
    "duration": 47,
    "start_time": "2023-04-10T13:43:02.377Z"
   },
   {
    "duration": 42,
    "start_time": "2023-04-10T13:43:02.426Z"
   },
   {
    "duration": 967,
    "start_time": "2023-04-10T13:43:02.470Z"
   },
   {
    "duration": 9,
    "start_time": "2023-04-10T13:43:03.439Z"
   },
   {
    "duration": 4455,
    "start_time": "2023-04-10T13:43:03.450Z"
   },
   {
    "duration": 6,
    "start_time": "2023-04-10T13:43:07.908Z"
   },
   {
    "duration": 39,
    "start_time": "2023-04-10T13:43:07.916Z"
   },
   {
    "duration": 23,
    "start_time": "2023-04-10T13:43:07.958Z"
   },
   {
    "duration": 34,
    "start_time": "2023-04-10T13:43:07.986Z"
   },
   {
    "duration": 50,
    "start_time": "2023-04-10T13:43:08.025Z"
   },
   {
    "duration": 37,
    "start_time": "2023-04-10T13:43:08.077Z"
   },
   {
    "duration": 3950,
    "start_time": "2023-04-10T13:43:08.116Z"
   },
   {
    "duration": 31,
    "start_time": "2023-04-10T13:43:12.068Z"
   },
   {
    "duration": 219,
    "start_time": "2023-04-10T13:43:12.101Z"
   },
   {
    "duration": 20,
    "start_time": "2023-04-10T13:43:12.322Z"
   },
   {
    "duration": 21,
    "start_time": "2023-04-10T13:43:12.344Z"
   },
   {
    "duration": 36,
    "start_time": "2023-04-10T13:43:12.367Z"
   },
   {
    "duration": 34,
    "start_time": "2023-04-10T13:43:12.404Z"
   },
   {
    "duration": 21,
    "start_time": "2023-04-10T13:43:12.440Z"
   },
   {
    "duration": 35,
    "start_time": "2023-04-10T13:43:12.464Z"
   },
   {
    "duration": 19,
    "start_time": "2023-04-10T13:43:12.502Z"
   },
   {
    "duration": 33,
    "start_time": "2023-04-10T13:43:12.523Z"
   },
   {
    "duration": 34,
    "start_time": "2023-04-10T13:43:12.558Z"
   },
   {
    "duration": 163,
    "start_time": "2023-04-10T13:43:12.595Z"
   },
   {
    "duration": 29,
    "start_time": "2023-04-10T13:43:12.760Z"
   },
   {
    "duration": 10,
    "start_time": "2023-04-10T13:43:12.791Z"
   },
   {
    "duration": 39,
    "start_time": "2023-04-10T13:43:12.803Z"
   },
   {
    "duration": 106,
    "start_time": "2023-04-10T13:43:12.843Z"
   },
   {
    "duration": 3,
    "start_time": "2023-04-10T13:43:12.951Z"
   },
   {
    "duration": 105,
    "start_time": "2023-04-10T13:43:12.956Z"
   },
   {
    "duration": 11,
    "start_time": "2023-04-10T13:47:09.369Z"
   },
   {
    "duration": 13,
    "start_time": "2023-04-10T13:47:14.768Z"
   },
   {
    "duration": 186,
    "start_time": "2023-04-10T13:47:41.645Z"
   },
   {
    "duration": 3033,
    "start_time": "2023-04-10T13:47:49.735Z"
   },
   {
    "duration": 4,
    "start_time": "2023-04-10T13:47:52.771Z"
   },
   {
    "duration": 24,
    "start_time": "2023-04-10T13:47:52.777Z"
   },
   {
    "duration": 20,
    "start_time": "2023-04-10T13:47:52.804Z"
   },
   {
    "duration": 32,
    "start_time": "2023-04-10T13:47:52.827Z"
   },
   {
    "duration": 10,
    "start_time": "2023-04-10T13:47:52.862Z"
   },
   {
    "duration": 934,
    "start_time": "2023-04-10T13:47:52.875Z"
   },
   {
    "duration": 15,
    "start_time": "2023-04-10T13:47:53.812Z"
   },
   {
    "duration": 4505,
    "start_time": "2023-04-10T13:47:53.833Z"
   },
   {
    "duration": 4,
    "start_time": "2023-04-10T13:47:58.340Z"
   },
   {
    "duration": 6,
    "start_time": "2023-04-10T13:47:58.346Z"
   },
   {
    "duration": 8,
    "start_time": "2023-04-10T13:47:58.354Z"
   },
   {
    "duration": 26,
    "start_time": "2023-04-10T13:47:58.364Z"
   },
   {
    "duration": 16,
    "start_time": "2023-04-10T13:47:58.393Z"
   },
   {
    "duration": 46,
    "start_time": "2023-04-10T13:47:58.418Z"
   },
   {
    "duration": 4,
    "start_time": "2023-04-10T13:47:58.466Z"
   },
   {
    "duration": 4363,
    "start_time": "2023-04-10T13:47:58.472Z"
   },
   {
    "duration": 26,
    "start_time": "2023-04-10T13:48:02.837Z"
   },
   {
    "duration": 245,
    "start_time": "2023-04-10T13:48:02.865Z"
   },
   {
    "duration": 27,
    "start_time": "2023-04-10T13:48:03.112Z"
   },
   {
    "duration": 48,
    "start_time": "2023-04-10T13:48:03.141Z"
   },
   {
    "duration": 24,
    "start_time": "2023-04-10T13:48:03.192Z"
   },
   {
    "duration": 55,
    "start_time": "2023-04-10T13:48:03.218Z"
   },
   {
    "duration": 13,
    "start_time": "2023-04-10T13:48:03.276Z"
   },
   {
    "duration": 38,
    "start_time": "2023-04-10T13:48:03.291Z"
   },
   {
    "duration": 21,
    "start_time": "2023-04-10T13:48:03.331Z"
   },
   {
    "duration": 47,
    "start_time": "2023-04-10T13:48:03.354Z"
   },
   {
    "duration": 17,
    "start_time": "2023-04-10T13:48:03.403Z"
   },
   {
    "duration": 156,
    "start_time": "2023-04-10T13:48:03.422Z"
   },
   {
    "duration": 29,
    "start_time": "2023-04-10T13:48:03.580Z"
   },
   {
    "duration": 18,
    "start_time": "2023-04-10T13:48:03.611Z"
   },
   {
    "duration": 36,
    "start_time": "2023-04-10T13:48:03.631Z"
   },
   {
    "duration": 198,
    "start_time": "2023-04-10T13:48:03.670Z"
   },
   {
    "duration": 4,
    "start_time": "2023-04-10T13:48:03.870Z"
   },
   {
    "duration": 121,
    "start_time": "2023-04-10T13:48:03.876Z"
   },
   {
    "duration": 4,
    "start_time": "2023-04-10T13:48:03.999Z"
   },
   {
    "duration": 14,
    "start_time": "2023-04-10T13:48:44.530Z"
   },
   {
    "duration": 5,
    "start_time": "2023-04-10T13:48:46.828Z"
   },
   {
    "duration": 6,
    "start_time": "2023-04-10T13:49:06.408Z"
   },
   {
    "duration": 13,
    "start_time": "2023-04-10T13:50:10.326Z"
   },
   {
    "duration": 5,
    "start_time": "2023-04-10T13:50:19.805Z"
   },
   {
    "duration": 4,
    "start_time": "2023-04-10T13:50:37.254Z"
   },
   {
    "duration": 6,
    "start_time": "2023-04-10T13:50:50.713Z"
   },
   {
    "duration": 5,
    "start_time": "2023-04-10T13:51:08.769Z"
   },
   {
    "duration": 2565,
    "start_time": "2023-04-10T13:51:54.552Z"
   },
   {
    "duration": 3,
    "start_time": "2023-04-10T13:51:57.121Z"
   },
   {
    "duration": 1447,
    "start_time": "2023-04-10T13:51:57.126Z"
   },
   {
    "duration": 5,
    "start_time": "2023-04-10T13:51:58.575Z"
   },
   {
    "duration": 14,
    "start_time": "2023-04-10T13:51:58.588Z"
   },
   {
    "duration": 15,
    "start_time": "2023-04-10T13:51:58.604Z"
   },
   {
    "duration": 964,
    "start_time": "2023-04-10T13:51:58.621Z"
   },
   {
    "duration": 10,
    "start_time": "2023-04-10T13:51:59.587Z"
   },
   {
    "duration": 4426,
    "start_time": "2023-04-10T13:51:59.599Z"
   },
   {
    "duration": 4,
    "start_time": "2023-04-10T13:52:04.027Z"
   },
   {
    "duration": 13,
    "start_time": "2023-04-10T13:52:04.032Z"
   },
   {
    "duration": 12,
    "start_time": "2023-04-10T13:52:04.047Z"
   },
   {
    "duration": 19,
    "start_time": "2023-04-10T13:52:04.060Z"
   },
   {
    "duration": 9,
    "start_time": "2023-04-10T13:52:04.088Z"
   },
   {
    "duration": 47,
    "start_time": "2023-04-10T13:52:04.100Z"
   },
   {
    "duration": 12,
    "start_time": "2023-04-10T13:52:04.149Z"
   },
   {
    "duration": 4062,
    "start_time": "2023-04-10T13:52:04.163Z"
   },
   {
    "duration": 36,
    "start_time": "2023-04-10T13:52:08.227Z"
   },
   {
    "duration": 311,
    "start_time": "2023-04-10T13:52:08.266Z"
   },
   {
    "duration": 31,
    "start_time": "2023-04-10T13:52:08.579Z"
   },
   {
    "duration": 32,
    "start_time": "2023-04-10T13:52:08.613Z"
   },
   {
    "duration": 46,
    "start_time": "2023-04-10T13:52:08.647Z"
   },
   {
    "duration": 33,
    "start_time": "2023-04-10T13:52:08.695Z"
   },
   {
    "duration": 14,
    "start_time": "2023-04-10T13:52:08.731Z"
   },
   {
    "duration": 52,
    "start_time": "2023-04-10T13:52:08.746Z"
   },
   {
    "duration": 26,
    "start_time": "2023-04-10T13:52:08.801Z"
   },
   {
    "duration": 23,
    "start_time": "2023-04-10T13:52:08.829Z"
   },
   {
    "duration": 44,
    "start_time": "2023-04-10T13:52:08.854Z"
   },
   {
    "duration": 190,
    "start_time": "2023-04-10T13:52:08.900Z"
   },
   {
    "duration": 24,
    "start_time": "2023-04-10T13:52:09.092Z"
   },
   {
    "duration": 23,
    "start_time": "2023-04-10T13:52:09.120Z"
   },
   {
    "duration": 46,
    "start_time": "2023-04-10T13:52:09.146Z"
   },
   {
    "duration": 90,
    "start_time": "2023-04-10T13:52:09.196Z"
   },
   {
    "duration": 4,
    "start_time": "2023-04-10T13:52:09.289Z"
   },
   {
    "duration": 135,
    "start_time": "2023-04-10T13:52:09.296Z"
   },
   {
    "duration": 6,
    "start_time": "2023-04-10T13:52:09.433Z"
   },
   {
    "duration": 12,
    "start_time": "2023-04-10T13:52:09.441Z"
   },
   {
    "duration": 130,
    "start_time": "2023-04-10T13:52:09.455Z"
   },
   {
    "duration": 33,
    "start_time": "2023-04-10T13:52:09.587Z"
   },
   {
    "duration": 22,
    "start_time": "2023-04-10T13:52:09.623Z"
   },
   {
    "duration": 3,
    "start_time": "2023-04-10T13:52:09.649Z"
   },
   {
    "duration": 38,
    "start_time": "2023-04-10T13:52:09.655Z"
   },
   {
    "duration": 11,
    "start_time": "2023-04-10T13:52:09.695Z"
   },
   {
    "duration": 26,
    "start_time": "2023-04-10T13:52:09.709Z"
   },
   {
    "duration": 19,
    "start_time": "2023-04-10T13:52:09.739Z"
   },
   {
    "duration": 8,
    "start_time": "2023-04-10T13:52:09.760Z"
   },
   {
    "duration": 8,
    "start_time": "2023-04-10T13:52:09.770Z"
   },
   {
    "duration": 0,
    "start_time": "2023-04-10T13:52:09.781Z"
   },
   {
    "duration": 0,
    "start_time": "2023-04-10T13:52:09.783Z"
   },
   {
    "duration": 7,
    "start_time": "2023-04-10T13:53:49.545Z"
   },
   {
    "duration": 2454,
    "start_time": "2023-04-10T13:56:28.058Z"
   },
   {
    "duration": 3,
    "start_time": "2023-04-10T13:56:30.516Z"
   },
   {
    "duration": 1656,
    "start_time": "2023-04-10T13:56:30.521Z"
   },
   {
    "duration": 12,
    "start_time": "2023-04-10T13:56:32.178Z"
   },
   {
    "duration": 14,
    "start_time": "2023-04-10T13:56:32.193Z"
   },
   {
    "duration": 9,
    "start_time": "2023-04-10T13:56:32.209Z"
   },
   {
    "duration": 928,
    "start_time": "2023-04-10T13:56:32.220Z"
   },
   {
    "duration": 10,
    "start_time": "2023-04-10T13:56:33.150Z"
   },
   {
    "duration": 4359,
    "start_time": "2023-04-10T13:56:33.162Z"
   },
   {
    "duration": 3,
    "start_time": "2023-04-10T13:56:37.523Z"
   },
   {
    "duration": 46,
    "start_time": "2023-04-10T13:56:37.528Z"
   },
   {
    "duration": 10,
    "start_time": "2023-04-10T13:56:37.576Z"
   },
   {
    "duration": 11,
    "start_time": "2023-04-10T13:56:37.588Z"
   },
   {
    "duration": 8,
    "start_time": "2023-04-10T13:56:37.604Z"
   },
   {
    "duration": 46,
    "start_time": "2023-04-10T13:56:37.614Z"
   },
   {
    "duration": 19,
    "start_time": "2023-04-10T13:56:37.662Z"
   },
   {
    "duration": 3854,
    "start_time": "2023-04-10T13:56:37.683Z"
   },
   {
    "duration": 23,
    "start_time": "2023-04-10T13:56:41.540Z"
   },
   {
    "duration": 296,
    "start_time": "2023-04-10T13:56:41.565Z"
   },
   {
    "duration": 4,
    "start_time": "2023-04-10T13:56:41.863Z"
   },
   {
    "duration": 45,
    "start_time": "2023-04-10T13:56:41.869Z"
   },
   {
    "duration": 22,
    "start_time": "2023-04-10T13:56:41.916Z"
   },
   {
    "duration": 33,
    "start_time": "2023-04-10T13:56:41.940Z"
   },
   {
    "duration": 27,
    "start_time": "2023-04-10T13:56:41.974Z"
   },
   {
    "duration": 12,
    "start_time": "2023-04-10T13:56:42.003Z"
   },
   {
    "duration": 46,
    "start_time": "2023-04-10T13:56:42.017Z"
   },
   {
    "duration": 4,
    "start_time": "2023-04-10T13:56:42.064Z"
   },
   {
    "duration": 18,
    "start_time": "2023-04-10T13:56:42.070Z"
   },
   {
    "duration": 19,
    "start_time": "2023-04-10T13:56:42.090Z"
   },
   {
    "duration": 26,
    "start_time": "2023-04-10T13:56:42.111Z"
   },
   {
    "duration": 14,
    "start_time": "2023-04-10T13:56:42.139Z"
   },
   {
    "duration": 185,
    "start_time": "2023-04-10T13:56:42.155Z"
   },
   {
    "duration": 19,
    "start_time": "2023-04-10T13:56:42.342Z"
   },
   {
    "duration": 7,
    "start_time": "2023-04-10T13:56:42.363Z"
   },
   {
    "duration": 24,
    "start_time": "2023-04-10T13:56:42.388Z"
   },
   {
    "duration": 4,
    "start_time": "2023-04-10T13:56:42.414Z"
   },
   {
    "duration": 115,
    "start_time": "2023-04-10T13:56:42.420Z"
   },
   {
    "duration": 4,
    "start_time": "2023-04-10T13:56:42.538Z"
   },
   {
    "duration": 109,
    "start_time": "2023-04-10T13:56:42.544Z"
   },
   {
    "duration": 6,
    "start_time": "2023-04-10T13:56:42.655Z"
   },
   {
    "duration": 10,
    "start_time": "2023-04-10T13:56:42.665Z"
   },
   {
    "duration": 6,
    "start_time": "2023-04-10T13:56:42.686Z"
   },
   {
    "duration": 105,
    "start_time": "2023-04-10T13:56:42.694Z"
   },
   {
    "duration": 34,
    "start_time": "2023-04-10T13:56:42.801Z"
   },
   {
    "duration": 19,
    "start_time": "2023-04-10T13:56:42.837Z"
   },
   {
    "duration": 30,
    "start_time": "2023-04-10T13:56:42.858Z"
   },
   {
    "duration": 15,
    "start_time": "2023-04-10T13:56:42.890Z"
   },
   {
    "duration": 5,
    "start_time": "2023-04-10T13:56:42.907Z"
   },
   {
    "duration": 6,
    "start_time": "2023-04-10T13:56:42.914Z"
   },
   {
    "duration": 7,
    "start_time": "2023-04-10T13:56:42.922Z"
   },
   {
    "duration": 7,
    "start_time": "2023-04-10T13:56:42.931Z"
   },
   {
    "duration": 8,
    "start_time": "2023-04-10T13:56:42.939Z"
   },
   {
    "duration": 0,
    "start_time": "2023-04-10T13:56:42.949Z"
   },
   {
    "duration": 0,
    "start_time": "2023-04-10T13:56:42.951Z"
   },
   {
    "duration": 169,
    "start_time": "2023-04-10T13:59:42.068Z"
   },
   {
    "duration": 2504,
    "start_time": "2023-04-10T13:59:52.304Z"
   },
   {
    "duration": 4,
    "start_time": "2023-04-10T13:59:54.811Z"
   },
   {
    "duration": 1410,
    "start_time": "2023-04-10T13:59:54.817Z"
   },
   {
    "duration": 3,
    "start_time": "2023-04-10T13:59:56.230Z"
   },
   {
    "duration": 12,
    "start_time": "2023-04-10T13:59:56.236Z"
   },
   {
    "duration": 8,
    "start_time": "2023-04-10T13:59:56.250Z"
   },
   {
    "duration": 929,
    "start_time": "2023-04-10T13:59:56.260Z"
   },
   {
    "duration": 11,
    "start_time": "2023-04-10T13:59:57.191Z"
   },
   {
    "duration": 4265,
    "start_time": "2023-04-10T13:59:57.204Z"
   },
   {
    "duration": 21,
    "start_time": "2023-04-10T14:00:01.472Z"
   },
   {
    "duration": 58,
    "start_time": "2023-04-10T14:00:01.503Z"
   },
   {
    "duration": 42,
    "start_time": "2023-04-10T14:00:01.563Z"
   },
   {
    "duration": 63,
    "start_time": "2023-04-10T14:00:01.607Z"
   },
   {
    "duration": 53,
    "start_time": "2023-04-10T14:00:01.672Z"
   },
   {
    "duration": 101,
    "start_time": "2023-04-10T14:00:01.727Z"
   },
   {
    "duration": 79,
    "start_time": "2023-04-10T14:00:01.831Z"
   },
   {
    "duration": 4131,
    "start_time": "2023-04-10T14:00:01.913Z"
   },
   {
    "duration": 23,
    "start_time": "2023-04-10T14:00:06.046Z"
   },
   {
    "duration": 227,
    "start_time": "2023-04-10T14:00:06.071Z"
   },
   {
    "duration": 207,
    "start_time": "2023-04-10T14:00:06.300Z"
   },
   {
    "duration": 11,
    "start_time": "2023-04-10T14:00:06.509Z"
   },
   {
    "duration": 31,
    "start_time": "2023-04-10T14:00:06.523Z"
   },
   {
    "duration": 30,
    "start_time": "2023-04-10T14:00:06.556Z"
   },
   {
    "duration": 33,
    "start_time": "2023-04-10T14:00:06.589Z"
   },
   {
    "duration": 30,
    "start_time": "2023-04-10T14:00:06.624Z"
   },
   {
    "duration": 11,
    "start_time": "2023-04-10T14:00:06.656Z"
   },
   {
    "duration": 32,
    "start_time": "2023-04-10T14:00:06.669Z"
   },
   {
    "duration": 6,
    "start_time": "2023-04-10T14:00:06.718Z"
   },
   {
    "duration": 15,
    "start_time": "2023-04-10T14:00:06.726Z"
   },
   {
    "duration": 38,
    "start_time": "2023-04-10T14:00:06.743Z"
   },
   {
    "duration": 50,
    "start_time": "2023-04-10T14:00:06.785Z"
   },
   {
    "duration": 26,
    "start_time": "2023-04-10T14:00:06.837Z"
   },
   {
    "duration": 225,
    "start_time": "2023-04-10T14:00:06.865Z"
   },
   {
    "duration": 24,
    "start_time": "2023-04-10T14:00:07.092Z"
   },
   {
    "duration": 8,
    "start_time": "2023-04-10T14:00:07.119Z"
   },
   {
    "duration": 65,
    "start_time": "2023-04-10T14:00:07.129Z"
   },
   {
    "duration": 4,
    "start_time": "2023-04-10T14:00:07.197Z"
   },
   {
    "duration": 98,
    "start_time": "2023-04-10T14:00:07.204Z"
   },
   {
    "duration": 5,
    "start_time": "2023-04-10T14:00:07.305Z"
   },
   {
    "duration": 132,
    "start_time": "2023-04-10T14:00:07.312Z"
   },
   {
    "duration": 4,
    "start_time": "2023-04-10T14:00:07.446Z"
   },
   {
    "duration": 31,
    "start_time": "2023-04-10T14:00:07.452Z"
   },
   {
    "duration": 17,
    "start_time": "2023-04-10T14:00:07.485Z"
   },
   {
    "duration": 122,
    "start_time": "2023-04-10T14:00:07.505Z"
   },
   {
    "duration": 31,
    "start_time": "2023-04-10T14:00:07.630Z"
   },
   {
    "duration": 39,
    "start_time": "2023-04-10T14:00:07.663Z"
   },
   {
    "duration": 83,
    "start_time": "2023-04-10T14:00:07.704Z"
   },
   {
    "duration": 24,
    "start_time": "2023-04-10T14:00:07.790Z"
   },
   {
    "duration": 23,
    "start_time": "2023-04-10T14:00:07.816Z"
   },
   {
    "duration": 45,
    "start_time": "2023-04-10T14:00:07.840Z"
   },
   {
    "duration": 9,
    "start_time": "2023-04-10T14:00:07.888Z"
   },
   {
    "duration": 13,
    "start_time": "2023-04-10T14:00:07.899Z"
   },
   {
    "duration": 20,
    "start_time": "2023-04-10T14:00:07.914Z"
   },
   {
    "duration": 0,
    "start_time": "2023-04-10T14:00:07.936Z"
   },
   {
    "duration": 0,
    "start_time": "2023-04-10T14:00:07.939Z"
   },
   {
    "duration": 2572,
    "start_time": "2023-04-10T14:01:20.594Z"
   },
   {
    "duration": 3,
    "start_time": "2023-04-10T14:01:23.168Z"
   },
   {
    "duration": 12,
    "start_time": "2023-04-10T14:01:23.174Z"
   },
   {
    "duration": 14,
    "start_time": "2023-04-10T14:01:23.188Z"
   },
   {
    "duration": 11,
    "start_time": "2023-04-10T14:01:23.205Z"
   },
   {
    "duration": 12,
    "start_time": "2023-04-10T14:01:23.218Z"
   },
   {
    "duration": 874,
    "start_time": "2023-04-10T14:01:23.233Z"
   },
   {
    "duration": 14,
    "start_time": "2023-04-10T14:01:24.109Z"
   },
   {
    "duration": 4127,
    "start_time": "2023-04-10T14:01:24.125Z"
   },
   {
    "duration": 2,
    "start_time": "2023-04-10T14:01:28.254Z"
   },
   {
    "duration": 6,
    "start_time": "2023-04-10T14:01:28.258Z"
   },
   {
    "duration": 31,
    "start_time": "2023-04-10T14:01:28.265Z"
   },
   {
    "duration": 5,
    "start_time": "2023-04-10T14:01:28.298Z"
   },
   {
    "duration": 16,
    "start_time": "2023-04-10T14:01:28.306Z"
   },
   {
    "duration": 465,
    "start_time": "2023-04-10T14:01:28.324Z"
   },
   {
    "duration": 2655,
    "start_time": "2023-04-10T14:04:15.058Z"
   },
   {
    "duration": 4,
    "start_time": "2023-04-10T14:04:17.716Z"
   },
   {
    "duration": 1653,
    "start_time": "2023-04-10T14:04:17.722Z"
   },
   {
    "duration": 4,
    "start_time": "2023-04-10T14:04:19.377Z"
   },
   {
    "duration": 34,
    "start_time": "2023-04-10T14:04:19.394Z"
   },
   {
    "duration": 9,
    "start_time": "2023-04-10T14:04:19.430Z"
   },
   {
    "duration": 1044,
    "start_time": "2023-04-10T14:04:19.440Z"
   },
   {
    "duration": 23,
    "start_time": "2023-04-10T14:04:20.488Z"
   },
   {
    "duration": 4548,
    "start_time": "2023-04-10T14:04:20.514Z"
   },
   {
    "duration": 3,
    "start_time": "2023-04-10T14:04:25.065Z"
   },
   {
    "duration": 18,
    "start_time": "2023-04-10T14:04:25.071Z"
   },
   {
    "duration": 30,
    "start_time": "2023-04-10T14:04:25.091Z"
   },
   {
    "duration": 10,
    "start_time": "2023-04-10T14:04:25.123Z"
   },
   {
    "duration": 11,
    "start_time": "2023-04-10T14:04:25.135Z"
   },
   {
    "duration": 648,
    "start_time": "2023-04-10T14:04:25.148Z"
   },
   {
    "duration": 51,
    "start_time": "2023-04-10T14:04:25.798Z"
   },
   {
    "duration": 20,
    "start_time": "2023-04-10T14:04:25.851Z"
   },
   {
    "duration": 4075,
    "start_time": "2023-04-10T14:04:25.873Z"
   },
   {
    "duration": 23,
    "start_time": "2023-04-10T14:04:29.950Z"
   },
   {
    "duration": 50,
    "start_time": "2023-04-10T14:04:29.975Z"
   },
   {
    "duration": 32,
    "start_time": "2023-04-10T14:04:30.027Z"
   },
   {
    "duration": 43,
    "start_time": "2023-04-10T14:04:30.061Z"
   },
   {
    "duration": 28,
    "start_time": "2023-04-10T14:04:30.111Z"
   },
   {
    "duration": 24,
    "start_time": "2023-04-10T14:04:30.141Z"
   },
   {
    "duration": 73,
    "start_time": "2023-04-10T14:04:30.167Z"
   },
   {
    "duration": 20,
    "start_time": "2023-04-10T14:04:30.241Z"
   },
   {
    "duration": 59,
    "start_time": "2023-04-10T14:04:30.262Z"
   },
   {
    "duration": 71,
    "start_time": "2023-04-10T14:04:30.326Z"
   },
   {
    "duration": 25,
    "start_time": "2023-04-10T14:04:30.400Z"
   },
   {
    "duration": 27,
    "start_time": "2023-04-10T14:04:30.427Z"
   },
   {
    "duration": 214,
    "start_time": "2023-04-10T14:04:30.455Z"
   },
   {
    "duration": 28,
    "start_time": "2023-04-10T14:04:30.671Z"
   },
   {
    "duration": 55,
    "start_time": "2023-04-10T14:04:30.701Z"
   },
   {
    "duration": 88,
    "start_time": "2023-04-10T14:04:30.758Z"
   },
   {
    "duration": 57,
    "start_time": "2023-04-10T14:04:30.849Z"
   },
   {
    "duration": 152,
    "start_time": "2023-04-10T14:04:30.907Z"
   },
   {
    "duration": 5,
    "start_time": "2023-04-10T14:04:31.060Z"
   },
   {
    "duration": 178,
    "start_time": "2023-04-10T14:04:31.067Z"
   },
   {
    "duration": 5,
    "start_time": "2023-04-10T14:04:31.248Z"
   },
   {
    "duration": 42,
    "start_time": "2023-04-10T14:04:31.256Z"
   },
   {
    "duration": 53,
    "start_time": "2023-04-10T14:04:31.302Z"
   },
   {
    "duration": 138,
    "start_time": "2023-04-10T14:04:31.357Z"
   },
   {
    "duration": 20,
    "start_time": "2023-04-10T14:04:31.501Z"
   },
   {
    "duration": 53,
    "start_time": "2023-04-10T14:04:31.524Z"
   },
   {
    "duration": 43,
    "start_time": "2023-04-10T14:04:31.580Z"
   },
   {
    "duration": 81,
    "start_time": "2023-04-10T14:04:31.625Z"
   },
   {
    "duration": 19,
    "start_time": "2023-04-10T14:04:31.708Z"
   },
   {
    "duration": 23,
    "start_time": "2023-04-10T14:04:31.728Z"
   },
   {
    "duration": 37,
    "start_time": "2023-04-10T14:04:31.753Z"
   },
   {
    "duration": 43,
    "start_time": "2023-04-10T14:04:31.795Z"
   },
   {
    "duration": 31,
    "start_time": "2023-04-10T14:04:31.840Z"
   },
   {
    "duration": 0,
    "start_time": "2023-04-10T14:04:31.873Z"
   },
   {
    "duration": 0,
    "start_time": "2023-04-10T14:04:31.874Z"
   },
   {
    "duration": 142,
    "start_time": "2023-04-10T14:06:42.751Z"
   },
   {
    "duration": 144,
    "start_time": "2023-04-10T14:06:50.302Z"
   },
   {
    "duration": 166,
    "start_time": "2023-04-10T14:06:55.439Z"
   },
   {
    "duration": 379,
    "start_time": "2023-04-10T14:07:01.139Z"
   },
   {
    "duration": 188,
    "start_time": "2023-04-10T14:07:32.056Z"
   },
   {
    "duration": 145,
    "start_time": "2023-04-10T14:07:46.579Z"
   },
   {
    "duration": 22,
    "start_time": "2023-04-10T14:08:42.685Z"
   },
   {
    "duration": 32,
    "start_time": "2023-04-10T14:16:23.899Z"
   },
   {
    "duration": 2540,
    "start_time": "2023-04-10T14:17:05.338Z"
   },
   {
    "duration": 3,
    "start_time": "2023-04-10T14:17:07.880Z"
   },
   {
    "duration": 1823,
    "start_time": "2023-04-10T14:17:07.884Z"
   },
   {
    "duration": 4,
    "start_time": "2023-04-10T14:17:09.709Z"
   },
   {
    "duration": 30,
    "start_time": "2023-04-10T14:17:09.716Z"
   },
   {
    "duration": 9,
    "start_time": "2023-04-10T14:17:09.748Z"
   },
   {
    "duration": 1001,
    "start_time": "2023-04-10T14:17:09.758Z"
   },
   {
    "duration": 9,
    "start_time": "2023-04-10T14:17:10.760Z"
   },
   {
    "duration": 4602,
    "start_time": "2023-04-10T14:17:10.771Z"
   },
   {
    "duration": 31,
    "start_time": "2023-04-10T14:17:15.376Z"
   },
   {
    "duration": 21,
    "start_time": "2023-04-10T14:17:15.410Z"
   },
   {
    "duration": 7,
    "start_time": "2023-04-10T14:17:15.435Z"
   },
   {
    "duration": 20,
    "start_time": "2023-04-10T14:17:15.444Z"
   },
   {
    "duration": 20,
    "start_time": "2023-04-10T14:17:15.468Z"
   },
   {
    "duration": 619,
    "start_time": "2023-04-10T14:17:15.494Z"
   },
   {
    "duration": 51,
    "start_time": "2023-04-10T14:17:16.119Z"
   },
   {
    "duration": 10,
    "start_time": "2023-04-10T14:17:16.172Z"
   },
   {
    "duration": 3935,
    "start_time": "2023-04-10T14:17:16.184Z"
   },
   {
    "duration": 27,
    "start_time": "2023-04-10T14:17:20.121Z"
   },
   {
    "duration": 38,
    "start_time": "2023-04-10T14:17:20.150Z"
   },
   {
    "duration": 25,
    "start_time": "2023-04-10T14:17:20.190Z"
   },
   {
    "duration": 36,
    "start_time": "2023-04-10T14:17:20.218Z"
   },
   {
    "duration": 45,
    "start_time": "2023-04-10T14:17:20.256Z"
   },
   {
    "duration": 8,
    "start_time": "2023-04-10T14:17:20.304Z"
   },
   {
    "duration": 53,
    "start_time": "2023-04-10T14:17:20.315Z"
   },
   {
    "duration": 34,
    "start_time": "2023-04-10T14:17:20.370Z"
   },
   {
    "duration": 217,
    "start_time": "2023-04-10T14:17:20.407Z"
   },
   {
    "duration": 29,
    "start_time": "2023-04-10T14:17:20.627Z"
   },
   {
    "duration": 39,
    "start_time": "2023-04-10T14:17:20.659Z"
   },
   {
    "duration": 29,
    "start_time": "2023-04-10T14:17:20.700Z"
   },
   {
    "duration": 288,
    "start_time": "2023-04-10T14:17:20.735Z"
   },
   {
    "duration": 0,
    "start_time": "2023-04-10T14:17:21.026Z"
   },
   {
    "duration": 0,
    "start_time": "2023-04-10T14:17:21.028Z"
   },
   {
    "duration": 0,
    "start_time": "2023-04-10T14:17:21.029Z"
   },
   {
    "duration": 0,
    "start_time": "2023-04-10T14:17:21.030Z"
   },
   {
    "duration": 0,
    "start_time": "2023-04-10T14:17:21.032Z"
   },
   {
    "duration": 0,
    "start_time": "2023-04-10T14:17:21.034Z"
   },
   {
    "duration": 0,
    "start_time": "2023-04-10T14:17:21.035Z"
   },
   {
    "duration": 0,
    "start_time": "2023-04-10T14:17:21.036Z"
   },
   {
    "duration": 0,
    "start_time": "2023-04-10T14:17:21.038Z"
   },
   {
    "duration": 0,
    "start_time": "2023-04-10T14:17:21.039Z"
   },
   {
    "duration": 0,
    "start_time": "2023-04-10T14:17:21.040Z"
   },
   {
    "duration": 0,
    "start_time": "2023-04-10T14:17:21.041Z"
   },
   {
    "duration": 0,
    "start_time": "2023-04-10T14:17:21.043Z"
   },
   {
    "duration": 0,
    "start_time": "2023-04-10T14:17:21.044Z"
   },
   {
    "duration": 0,
    "start_time": "2023-04-10T14:17:21.045Z"
   },
   {
    "duration": 0,
    "start_time": "2023-04-10T14:17:21.046Z"
   },
   {
    "duration": 0,
    "start_time": "2023-04-10T14:17:21.048Z"
   },
   {
    "duration": 0,
    "start_time": "2023-04-10T14:17:21.049Z"
   },
   {
    "duration": 0,
    "start_time": "2023-04-10T14:17:21.050Z"
   },
   {
    "duration": 0,
    "start_time": "2023-04-10T14:17:21.051Z"
   },
   {
    "duration": 0,
    "start_time": "2023-04-10T14:17:21.052Z"
   },
   {
    "duration": 1,
    "start_time": "2023-04-10T14:17:21.053Z"
   },
   {
    "duration": 29,
    "start_time": "2023-04-10T14:17:59.948Z"
   },
   {
    "duration": 165,
    "start_time": "2023-04-10T14:18:03.661Z"
   },
   {
    "duration": 33,
    "start_time": "2023-04-10T14:18:06.511Z"
   },
   {
    "duration": 9,
    "start_time": "2023-04-10T14:18:08.507Z"
   },
   {
    "duration": 37,
    "start_time": "2023-04-10T14:18:11.126Z"
   },
   {
    "duration": 5,
    "start_time": "2023-04-10T14:18:11.972Z"
   },
   {
    "duration": 99,
    "start_time": "2023-04-10T14:18:13.245Z"
   },
   {
    "duration": 4,
    "start_time": "2023-04-10T14:18:13.862Z"
   },
   {
    "duration": 95,
    "start_time": "2023-04-10T14:18:14.882Z"
   },
   {
    "duration": 4,
    "start_time": "2023-04-10T14:18:15.382Z"
   },
   {
    "duration": 5,
    "start_time": "2023-04-10T14:18:15.896Z"
   },
   {
    "duration": 5,
    "start_time": "2023-04-10T14:22:48.619Z"
   },
   {
    "duration": 3,
    "start_time": "2023-04-10T14:22:53.176Z"
   },
   {
    "duration": 303,
    "start_time": "2023-04-10T14:34:02.228Z"
   },
   {
    "duration": 132,
    "start_time": "2023-04-10T14:34:12.976Z"
   },
   {
    "duration": 2510,
    "start_time": "2023-04-10T14:34:39.962Z"
   },
   {
    "duration": 3,
    "start_time": "2023-04-10T14:34:42.475Z"
   },
   {
    "duration": 1419,
    "start_time": "2023-04-10T14:34:42.480Z"
   },
   {
    "duration": 4,
    "start_time": "2023-04-10T14:34:43.902Z"
   },
   {
    "duration": 30,
    "start_time": "2023-04-10T14:34:43.909Z"
   },
   {
    "duration": 16,
    "start_time": "2023-04-10T14:34:43.941Z"
   },
   {
    "duration": 1384,
    "start_time": "2023-04-10T14:34:43.959Z"
   },
   {
    "duration": 9,
    "start_time": "2023-04-10T14:34:45.345Z"
   },
   {
    "duration": 4191,
    "start_time": "2023-04-10T14:34:45.356Z"
   },
   {
    "duration": 3,
    "start_time": "2023-04-10T14:34:49.549Z"
   },
   {
    "duration": 6,
    "start_time": "2023-04-10T14:34:49.554Z"
   },
   {
    "duration": 27,
    "start_time": "2023-04-10T14:34:49.562Z"
   },
   {
    "duration": 18,
    "start_time": "2023-04-10T14:34:49.591Z"
   },
   {
    "duration": 14,
    "start_time": "2023-04-10T14:34:49.613Z"
   },
   {
    "duration": 676,
    "start_time": "2023-04-10T14:34:49.630Z"
   },
   {
    "duration": 60,
    "start_time": "2023-04-10T14:34:50.308Z"
   },
   {
    "duration": 73,
    "start_time": "2023-04-10T14:34:50.371Z"
   },
   {
    "duration": 3705,
    "start_time": "2023-04-10T14:34:50.446Z"
   },
   {
    "duration": 34,
    "start_time": "2023-04-10T14:34:54.153Z"
   },
   {
    "duration": 48,
    "start_time": "2023-04-10T14:34:54.189Z"
   },
   {
    "duration": 31,
    "start_time": "2023-04-10T14:34:54.239Z"
   },
   {
    "duration": 35,
    "start_time": "2023-04-10T14:34:54.272Z"
   },
   {
    "duration": 34,
    "start_time": "2023-04-10T14:34:54.310Z"
   },
   {
    "duration": 7,
    "start_time": "2023-04-10T14:34:54.346Z"
   },
   {
    "duration": 68,
    "start_time": "2023-04-10T14:34:54.355Z"
   },
   {
    "duration": 24,
    "start_time": "2023-04-10T14:34:54.425Z"
   },
   {
    "duration": 195,
    "start_time": "2023-04-10T14:34:54.451Z"
   },
   {
    "duration": 18,
    "start_time": "2023-04-10T14:34:54.648Z"
   },
   {
    "duration": 32,
    "start_time": "2023-04-10T14:34:54.668Z"
   },
   {
    "duration": 24,
    "start_time": "2023-04-10T14:34:54.702Z"
   },
   {
    "duration": 27,
    "start_time": "2023-04-10T14:34:54.728Z"
   },
   {
    "duration": 173,
    "start_time": "2023-04-10T14:34:54.757Z"
   },
   {
    "duration": 19,
    "start_time": "2023-04-10T14:34:54.932Z"
   },
   {
    "duration": 8,
    "start_time": "2023-04-10T14:34:54.953Z"
   },
   {
    "duration": 60,
    "start_time": "2023-04-10T14:34:54.962Z"
   },
   {
    "duration": 4,
    "start_time": "2023-04-10T14:34:55.024Z"
   },
   {
    "duration": 100,
    "start_time": "2023-04-10T14:34:55.030Z"
   },
   {
    "duration": 5,
    "start_time": "2023-04-10T14:34:55.133Z"
   },
   {
    "duration": 140,
    "start_time": "2023-04-10T14:34:55.140Z"
   },
   {
    "duration": 5,
    "start_time": "2023-04-10T14:34:55.282Z"
   },
   {
    "duration": 13,
    "start_time": "2023-04-10T14:34:55.291Z"
   },
   {
    "duration": 286,
    "start_time": "2023-04-10T14:34:55.306Z"
   },
   {
    "duration": 158,
    "start_time": "2023-04-10T14:34:55.595Z"
   },
   {
    "duration": 187,
    "start_time": "2023-04-10T14:34:55.755Z"
   },
   {
    "duration": 61,
    "start_time": "2023-04-10T14:34:55.944Z"
   },
   {
    "duration": 50,
    "start_time": "2023-04-10T14:34:56.008Z"
   },
   {
    "duration": 6,
    "start_time": "2023-04-10T14:34:56.060Z"
   },
   {
    "duration": 22,
    "start_time": "2023-04-10T14:34:56.068Z"
   },
   {
    "duration": 9,
    "start_time": "2023-04-10T14:34:56.093Z"
   },
   {
    "duration": 7,
    "start_time": "2023-04-10T14:34:56.105Z"
   },
   {
    "duration": 9,
    "start_time": "2023-04-10T14:34:56.116Z"
   },
   {
    "duration": 12,
    "start_time": "2023-04-10T14:34:56.127Z"
   },
   {
    "duration": 15,
    "start_time": "2023-04-10T14:34:56.141Z"
   },
   {
    "duration": 0,
    "start_time": "2023-04-10T14:34:56.158Z"
   },
   {
    "duration": 0,
    "start_time": "2023-04-10T14:34:56.159Z"
   },
   {
    "duration": 67,
    "start_time": "2023-04-10T14:36:10.187Z"
   },
   {
    "duration": 2492,
    "start_time": "2023-04-10T14:36:17.792Z"
   },
   {
    "duration": 3,
    "start_time": "2023-04-10T14:36:20.287Z"
   },
   {
    "duration": 1496,
    "start_time": "2023-04-10T14:36:20.292Z"
   },
   {
    "duration": 5,
    "start_time": "2023-04-10T14:36:21.790Z"
   },
   {
    "duration": 20,
    "start_time": "2023-04-10T14:36:21.797Z"
   },
   {
    "duration": 14,
    "start_time": "2023-04-10T14:36:21.819Z"
   },
   {
    "duration": 1023,
    "start_time": "2023-04-10T14:36:21.835Z"
   },
   {
    "duration": 9,
    "start_time": "2023-04-10T14:36:22.860Z"
   },
   {
    "duration": 4250,
    "start_time": "2023-04-10T14:36:22.871Z"
   },
   {
    "duration": 3,
    "start_time": "2023-04-10T14:36:27.124Z"
   },
   {
    "duration": 19,
    "start_time": "2023-04-10T14:36:27.130Z"
   },
   {
    "duration": 13,
    "start_time": "2023-04-10T14:36:27.151Z"
   },
   {
    "duration": 9,
    "start_time": "2023-04-10T14:36:27.166Z"
   },
   {
    "duration": 16,
    "start_time": "2023-04-10T14:36:27.176Z"
   },
   {
    "duration": 562,
    "start_time": "2023-04-10T14:36:27.194Z"
   },
   {
    "duration": 56,
    "start_time": "2023-04-10T14:36:27.758Z"
   },
   {
    "duration": 4,
    "start_time": "2023-04-10T14:36:27.816Z"
   },
   {
    "duration": 3908,
    "start_time": "2023-04-10T14:36:27.822Z"
   },
   {
    "duration": 29,
    "start_time": "2023-04-10T14:36:31.732Z"
   },
   {
    "duration": 77,
    "start_time": "2023-04-10T14:36:31.763Z"
   },
   {
    "duration": 58,
    "start_time": "2023-04-10T14:36:31.843Z"
   },
   {
    "duration": 38,
    "start_time": "2023-04-10T14:36:31.903Z"
   },
   {
    "duration": 42,
    "start_time": "2023-04-10T14:36:31.943Z"
   },
   {
    "duration": 41,
    "start_time": "2023-04-10T14:36:31.987Z"
   },
   {
    "duration": 44,
    "start_time": "2023-04-10T14:36:32.030Z"
   },
   {
    "duration": 28,
    "start_time": "2023-04-10T14:36:32.076Z"
   },
   {
    "duration": 167,
    "start_time": "2023-04-10T14:36:32.107Z"
   },
   {
    "duration": 27,
    "start_time": "2023-04-10T14:36:32.277Z"
   },
   {
    "duration": 100,
    "start_time": "2023-04-10T14:36:32.306Z"
   },
   {
    "duration": 30,
    "start_time": "2023-04-10T14:36:32.408Z"
   },
   {
    "duration": 29,
    "start_time": "2023-04-10T14:36:32.440Z"
   },
   {
    "duration": 149,
    "start_time": "2023-04-10T14:36:32.471Z"
   },
   {
    "duration": 22,
    "start_time": "2023-04-10T14:36:32.622Z"
   },
   {
    "duration": 8,
    "start_time": "2023-04-10T14:36:32.647Z"
   },
   {
    "duration": 57,
    "start_time": "2023-04-10T14:36:32.657Z"
   },
   {
    "duration": 5,
    "start_time": "2023-04-10T14:36:32.720Z"
   },
   {
    "duration": 108,
    "start_time": "2023-04-10T14:36:32.727Z"
   },
   {
    "duration": 5,
    "start_time": "2023-04-10T14:36:32.838Z"
   },
   {
    "duration": 120,
    "start_time": "2023-04-10T14:36:32.845Z"
   },
   {
    "duration": 4,
    "start_time": "2023-04-10T14:36:32.968Z"
   },
   {
    "duration": 18,
    "start_time": "2023-04-10T14:36:32.973Z"
   },
   {
    "duration": 81,
    "start_time": "2023-04-10T14:36:32.994Z"
   },
   {
    "duration": 42,
    "start_time": "2023-04-10T14:36:33.077Z"
   },
   {
    "duration": 102,
    "start_time": "2023-04-10T14:36:33.121Z"
   },
   {
    "duration": 23,
    "start_time": "2023-04-10T14:36:33.225Z"
   },
   {
    "duration": 21,
    "start_time": "2023-04-10T14:36:33.249Z"
   },
   {
    "duration": 18,
    "start_time": "2023-04-10T14:36:33.272Z"
   },
   {
    "duration": 8,
    "start_time": "2023-04-10T14:36:33.291Z"
   },
   {
    "duration": 16,
    "start_time": "2023-04-10T14:36:33.301Z"
   },
   {
    "duration": 13,
    "start_time": "2023-04-10T14:36:33.323Z"
   },
   {
    "duration": 10,
    "start_time": "2023-04-10T14:36:33.338Z"
   },
   {
    "duration": 9,
    "start_time": "2023-04-10T14:36:33.350Z"
   },
   {
    "duration": 16,
    "start_time": "2023-04-10T14:36:33.361Z"
   },
   {
    "duration": 0,
    "start_time": "2023-04-10T14:36:33.379Z"
   },
   {
    "duration": 0,
    "start_time": "2023-04-10T14:36:33.380Z"
   },
   {
    "duration": 45,
    "start_time": "2023-04-10T14:37:02.615Z"
   },
   {
    "duration": 91,
    "start_time": "2023-04-10T14:40:01.263Z"
   },
   {
    "duration": 155,
    "start_time": "2023-04-10T14:40:07.056Z"
   },
   {
    "duration": 3254,
    "start_time": "2023-04-10T15:45:31.105Z"
   },
   {
    "duration": 3,
    "start_time": "2023-04-10T15:45:34.361Z"
   },
   {
    "duration": 1646,
    "start_time": "2023-04-10T15:45:34.366Z"
   },
   {
    "duration": 6,
    "start_time": "2023-04-10T15:45:36.015Z"
   },
   {
    "duration": 57,
    "start_time": "2023-04-10T15:45:36.025Z"
   },
   {
    "duration": 64,
    "start_time": "2023-04-10T15:45:36.083Z"
   },
   {
    "duration": 1211,
    "start_time": "2023-04-10T15:45:36.149Z"
   },
   {
    "duration": 10,
    "start_time": "2023-04-10T15:45:37.362Z"
   },
   {
    "duration": 5508,
    "start_time": "2023-04-10T15:45:37.373Z"
   },
   {
    "duration": 21,
    "start_time": "2023-04-10T15:45:42.882Z"
   },
   {
    "duration": 32,
    "start_time": "2023-04-10T15:45:42.921Z"
   },
   {
    "duration": 11,
    "start_time": "2023-04-10T15:45:42.955Z"
   },
   {
    "duration": 12,
    "start_time": "2023-04-10T15:45:42.968Z"
   },
   {
    "duration": 72,
    "start_time": "2023-04-10T15:45:42.984Z"
   },
   {
    "duration": 791,
    "start_time": "2023-04-10T15:45:43.058Z"
   },
   {
    "duration": 61,
    "start_time": "2023-04-10T15:45:43.851Z"
   },
   {
    "duration": 39,
    "start_time": "2023-04-10T15:45:43.913Z"
   },
   {
    "duration": 5198,
    "start_time": "2023-04-10T15:45:43.954Z"
   },
   {
    "duration": 26,
    "start_time": "2023-04-10T15:45:49.154Z"
   },
   {
    "duration": 58,
    "start_time": "2023-04-10T15:45:49.182Z"
   },
   {
    "duration": 40,
    "start_time": "2023-04-10T15:45:49.243Z"
   },
   {
    "duration": 94,
    "start_time": "2023-04-10T15:45:49.285Z"
   },
   {
    "duration": 67,
    "start_time": "2023-04-10T15:45:49.381Z"
   },
   {
    "duration": 10,
    "start_time": "2023-04-10T15:45:49.451Z"
   },
   {
    "duration": 56,
    "start_time": "2023-04-10T15:45:49.462Z"
   },
   {
    "duration": 28,
    "start_time": "2023-04-10T15:45:49.523Z"
   },
   {
    "duration": 210,
    "start_time": "2023-04-10T15:45:49.553Z"
   },
   {
    "duration": 19,
    "start_time": "2023-04-10T15:45:49.764Z"
   },
   {
    "duration": 24,
    "start_time": "2023-04-10T15:45:49.784Z"
   },
   {
    "duration": 57,
    "start_time": "2023-04-10T15:45:49.811Z"
   },
   {
    "duration": 32,
    "start_time": "2023-04-10T15:45:49.870Z"
   },
   {
    "duration": 181,
    "start_time": "2023-04-10T15:45:49.904Z"
   },
   {
    "duration": 36,
    "start_time": "2023-04-10T15:45:50.087Z"
   },
   {
    "duration": 36,
    "start_time": "2023-04-10T15:45:50.125Z"
   },
   {
    "duration": 38,
    "start_time": "2023-04-10T15:45:50.162Z"
   },
   {
    "duration": 7,
    "start_time": "2023-04-10T15:45:50.204Z"
   },
   {
    "duration": 161,
    "start_time": "2023-04-10T15:45:50.212Z"
   },
   {
    "duration": 5,
    "start_time": "2023-04-10T15:45:50.375Z"
   },
   {
    "duration": 261,
    "start_time": "2023-04-10T15:45:50.382Z"
   },
   {
    "duration": 15,
    "start_time": "2023-04-10T15:45:50.645Z"
   },
   {
    "duration": 19,
    "start_time": "2023-04-10T15:45:50.666Z"
   },
   {
    "duration": 182,
    "start_time": "2023-04-10T15:45:50.692Z"
   },
   {
    "duration": 239,
    "start_time": "2023-04-10T15:45:50.879Z"
   },
   {
    "duration": 167,
    "start_time": "2023-04-10T15:45:51.120Z"
   },
   {
    "duration": 30,
    "start_time": "2023-04-10T15:45:51.293Z"
   },
   {
    "duration": 208,
    "start_time": "2023-04-10T15:45:51.329Z"
   },
   {
    "duration": 0,
    "start_time": "2023-04-10T15:45:51.544Z"
   },
   {
    "duration": 1,
    "start_time": "2023-04-10T15:45:51.547Z"
   },
   {
    "duration": 0,
    "start_time": "2023-04-10T15:45:51.549Z"
   },
   {
    "duration": 0,
    "start_time": "2023-04-10T15:45:51.551Z"
   },
   {
    "duration": 0,
    "start_time": "2023-04-10T15:45:51.552Z"
   },
   {
    "duration": 0,
    "start_time": "2023-04-10T15:45:51.554Z"
   },
   {
    "duration": 0,
    "start_time": "2023-04-10T15:45:51.554Z"
   },
   {
    "duration": 0,
    "start_time": "2023-04-10T15:45:51.555Z"
   },
   {
    "duration": 0,
    "start_time": "2023-04-10T15:45:51.557Z"
   },
   {
    "duration": 0,
    "start_time": "2023-04-10T15:45:51.559Z"
   },
   {
    "duration": 0,
    "start_time": "2023-04-10T15:45:51.559Z"
   },
   {
    "duration": 319,
    "start_time": "2023-04-10T15:47:11.384Z"
   },
   {
    "duration": 26,
    "start_time": "2023-04-10T15:47:19.616Z"
   },
   {
    "duration": 15,
    "start_time": "2023-04-10T15:48:11.344Z"
   },
   {
    "duration": 14,
    "start_time": "2023-04-10T15:48:21.044Z"
   },
   {
    "duration": 31,
    "start_time": "2023-04-10T15:48:34.235Z"
   },
   {
    "duration": 142,
    "start_time": "2023-04-10T15:48:50.202Z"
   },
   {
    "duration": 249,
    "start_time": "2023-04-10T15:49:10.512Z"
   },
   {
    "duration": 4,
    "start_time": "2023-04-10T15:51:03.174Z"
   },
   {
    "duration": 74,
    "start_time": "2023-04-10T15:51:03.180Z"
   },
   {
    "duration": 2760,
    "start_time": "2023-04-10T15:51:03.256Z"
   },
   {
    "duration": 6,
    "start_time": "2023-04-10T15:51:06.019Z"
   },
   {
    "duration": 35,
    "start_time": "2023-04-10T15:51:06.030Z"
   },
   {
    "duration": 12,
    "start_time": "2023-04-10T15:51:06.067Z"
   },
   {
    "duration": 4558,
    "start_time": "2023-04-10T15:51:06.082Z"
   },
   {
    "duration": 10,
    "start_time": "2023-04-10T15:51:10.642Z"
   },
   {
    "duration": 5354,
    "start_time": "2023-04-10T15:51:10.659Z"
   },
   {
    "duration": 4,
    "start_time": "2023-04-10T15:51:16.016Z"
   },
   {
    "duration": 40,
    "start_time": "2023-04-10T15:51:16.023Z"
   },
   {
    "duration": 9,
    "start_time": "2023-04-10T15:51:16.065Z"
   },
   {
    "duration": 9,
    "start_time": "2023-04-10T15:51:16.076Z"
   },
   {
    "duration": 69,
    "start_time": "2023-04-10T15:51:16.087Z"
   },
   {
    "duration": 844,
    "start_time": "2023-04-10T15:51:16.158Z"
   },
   {
    "duration": 65,
    "start_time": "2023-04-10T15:51:17.004Z"
   },
   {
    "duration": 9,
    "start_time": "2023-04-10T15:51:17.070Z"
   },
   {
    "duration": 5486,
    "start_time": "2023-04-10T15:51:17.081Z"
   },
   {
    "duration": 44,
    "start_time": "2023-04-10T15:51:22.570Z"
   },
   {
    "duration": 69,
    "start_time": "2023-04-10T15:51:22.616Z"
   },
   {
    "duration": 80,
    "start_time": "2023-04-10T15:51:22.688Z"
   },
   {
    "duration": 63,
    "start_time": "2023-04-10T15:51:22.770Z"
   },
   {
    "duration": 56,
    "start_time": "2023-04-10T15:51:22.843Z"
   },
   {
    "duration": 14,
    "start_time": "2023-04-10T15:51:22.901Z"
   },
   {
    "duration": 90,
    "start_time": "2023-04-10T15:51:22.917Z"
   },
   {
    "duration": 31,
    "start_time": "2023-04-10T15:51:23.013Z"
   },
   {
    "duration": 209,
    "start_time": "2023-04-10T15:51:23.053Z"
   },
   {
    "duration": 16,
    "start_time": "2023-04-10T15:51:23.264Z"
   },
   {
    "duration": 26,
    "start_time": "2023-04-10T15:51:23.282Z"
   },
   {
    "duration": 54,
    "start_time": "2023-04-10T15:51:23.310Z"
   },
   {
    "duration": 32,
    "start_time": "2023-04-10T15:51:23.367Z"
   },
   {
    "duration": 195,
    "start_time": "2023-04-10T15:51:23.400Z"
   },
   {
    "duration": 32,
    "start_time": "2023-04-10T15:51:23.598Z"
   },
   {
    "duration": 28,
    "start_time": "2023-04-10T15:51:23.640Z"
   },
   {
    "duration": 42,
    "start_time": "2023-04-10T15:51:23.670Z"
   },
   {
    "duration": 8,
    "start_time": "2023-04-10T15:51:23.715Z"
   },
   {
    "duration": 150,
    "start_time": "2023-04-10T15:51:23.731Z"
   },
   {
    "duration": 12,
    "start_time": "2023-04-10T15:51:23.884Z"
   },
   {
    "duration": 196,
    "start_time": "2023-04-10T15:51:23.901Z"
   },
   {
    "duration": 14,
    "start_time": "2023-04-10T15:51:24.099Z"
   },
   {
    "duration": 40,
    "start_time": "2023-04-10T15:51:24.116Z"
   },
   {
    "duration": 128,
    "start_time": "2023-04-10T15:51:24.158Z"
   },
   {
    "duration": 161,
    "start_time": "2023-04-10T15:51:24.299Z"
   },
   {
    "duration": 122,
    "start_time": "2023-04-10T15:51:24.462Z"
   },
   {
    "duration": 14,
    "start_time": "2023-04-10T15:51:24.591Z"
   },
   {
    "duration": 441,
    "start_time": "2023-04-10T15:51:24.607Z"
   },
   {
    "duration": 15,
    "start_time": "2023-04-10T15:51:25.055Z"
   },
   {
    "duration": 71,
    "start_time": "2023-04-10T15:51:25.073Z"
   },
   {
    "duration": 30,
    "start_time": "2023-04-10T15:51:25.146Z"
   },
   {
    "duration": 89,
    "start_time": "2023-04-10T15:51:25.177Z"
   },
   {
    "duration": 93,
    "start_time": "2023-04-10T15:51:51.911Z"
   },
   {
    "duration": 4,
    "start_time": "2023-04-10T15:51:59.485Z"
   },
   {
    "duration": 68,
    "start_time": "2023-04-10T15:51:59.491Z"
   },
   {
    "duration": 4096,
    "start_time": "2023-04-10T15:51:59.561Z"
   },
   {
    "duration": 3,
    "start_time": "2023-04-10T15:52:03.660Z"
   },
   {
    "duration": 72,
    "start_time": "2023-04-10T15:52:03.665Z"
   },
   {
    "duration": 25,
    "start_time": "2023-04-10T15:52:03.739Z"
   },
   {
    "duration": 4688,
    "start_time": "2023-04-10T15:52:03.766Z"
   },
   {
    "duration": 11,
    "start_time": "2023-04-10T15:52:08.456Z"
   },
   {
    "duration": 5698,
    "start_time": "2023-04-10T15:52:08.470Z"
   },
   {
    "duration": 3,
    "start_time": "2023-04-10T15:52:14.170Z"
   },
   {
    "duration": 70,
    "start_time": "2023-04-10T15:52:14.174Z"
   },
   {
    "duration": 32,
    "start_time": "2023-04-10T15:52:14.246Z"
   },
   {
    "duration": 71,
    "start_time": "2023-04-10T15:52:14.280Z"
   },
   {
    "duration": 63,
    "start_time": "2023-04-10T15:52:14.353Z"
   },
   {
    "duration": 863,
    "start_time": "2023-04-10T15:52:14.418Z"
   },
   {
    "duration": 69,
    "start_time": "2023-04-10T15:52:15.283Z"
   },
   {
    "duration": 14,
    "start_time": "2023-04-10T15:52:15.354Z"
   },
   {
    "duration": 5545,
    "start_time": "2023-04-10T15:52:15.370Z"
   },
   {
    "duration": 38,
    "start_time": "2023-04-10T15:52:20.917Z"
   },
   {
    "duration": 91,
    "start_time": "2023-04-10T15:52:20.959Z"
   },
   {
    "duration": 53,
    "start_time": "2023-04-10T15:52:21.054Z"
   },
   {
    "duration": 106,
    "start_time": "2023-04-10T15:52:21.110Z"
   },
   {
    "duration": 111,
    "start_time": "2023-04-10T15:52:21.221Z"
   },
   {
    "duration": 31,
    "start_time": "2023-04-10T15:52:21.342Z"
   },
   {
    "duration": 126,
    "start_time": "2023-04-10T15:52:21.375Z"
   },
   {
    "duration": 39,
    "start_time": "2023-04-10T15:52:21.507Z"
   },
   {
    "duration": 224,
    "start_time": "2023-04-10T15:52:21.548Z"
   },
   {
    "duration": 28,
    "start_time": "2023-04-10T15:52:21.776Z"
   },
   {
    "duration": 62,
    "start_time": "2023-04-10T15:52:21.808Z"
   },
   {
    "duration": 85,
    "start_time": "2023-04-10T15:52:21.872Z"
   },
   {
    "duration": 35,
    "start_time": "2023-04-10T15:52:21.959Z"
   },
   {
    "duration": 182,
    "start_time": "2023-04-10T15:52:21.997Z"
   },
   {
    "duration": 60,
    "start_time": "2023-04-10T15:52:22.181Z"
   },
   {
    "duration": 20,
    "start_time": "2023-04-10T15:52:22.246Z"
   },
   {
    "duration": 46,
    "start_time": "2023-04-10T15:52:22.268Z"
   },
   {
    "duration": 42,
    "start_time": "2023-04-10T15:52:22.315Z"
   },
   {
    "duration": 161,
    "start_time": "2023-04-10T15:52:22.362Z"
   },
   {
    "duration": 5,
    "start_time": "2023-04-10T15:52:22.525Z"
   },
   {
    "duration": 199,
    "start_time": "2023-04-10T15:52:22.532Z"
   },
   {
    "duration": 10,
    "start_time": "2023-04-10T15:52:22.736Z"
   },
   {
    "duration": 22,
    "start_time": "2023-04-10T15:52:22.749Z"
   },
   {
    "duration": 109,
    "start_time": "2023-04-10T15:52:22.775Z"
   },
   {
    "duration": 167,
    "start_time": "2023-04-10T15:52:22.887Z"
   },
   {
    "duration": 128,
    "start_time": "2023-04-10T15:52:23.056Z"
   },
   {
    "duration": 13,
    "start_time": "2023-04-10T15:52:23.191Z"
   },
   {
    "duration": 380,
    "start_time": "2023-04-10T15:52:23.206Z"
   },
   {
    "duration": 18,
    "start_time": "2023-04-10T15:52:23.600Z"
   },
   {
    "duration": 43,
    "start_time": "2023-04-10T15:52:23.620Z"
   },
   {
    "duration": 18,
    "start_time": "2023-04-10T15:52:23.665Z"
   },
   {
    "duration": 61,
    "start_time": "2023-04-10T15:52:23.685Z"
   },
   {
    "duration": 11,
    "start_time": "2023-04-10T15:55:23.520Z"
   },
   {
    "duration": 19,
    "start_time": "2023-04-10T15:55:23.534Z"
   },
   {
    "duration": 3099,
    "start_time": "2023-04-10T15:55:23.556Z"
   },
   {
    "duration": 5,
    "start_time": "2023-04-10T15:55:26.658Z"
   },
   {
    "duration": 10,
    "start_time": "2023-04-10T15:55:26.666Z"
   },
   {
    "duration": 5,
    "start_time": "2023-04-10T15:55:26.679Z"
   },
   {
    "duration": 4972,
    "start_time": "2023-04-10T15:55:26.691Z"
   },
   {
    "duration": 14,
    "start_time": "2023-04-10T15:55:31.666Z"
   },
   {
    "duration": 5501,
    "start_time": "2023-04-10T15:55:31.682Z"
   },
   {
    "duration": 8,
    "start_time": "2023-04-10T15:55:37.184Z"
   },
   {
    "duration": 49,
    "start_time": "2023-04-10T15:55:37.194Z"
   },
   {
    "duration": 9,
    "start_time": "2023-04-10T15:55:37.245Z"
   },
   {
    "duration": 18,
    "start_time": "2023-04-10T15:55:37.255Z"
   },
   {
    "duration": 7,
    "start_time": "2023-04-10T15:55:37.277Z"
   },
   {
    "duration": 773,
    "start_time": "2023-04-10T15:55:37.286Z"
   },
   {
    "duration": 74,
    "start_time": "2023-04-10T15:55:38.061Z"
   },
   {
    "duration": 21,
    "start_time": "2023-04-10T15:55:38.139Z"
   },
   {
    "duration": 5200,
    "start_time": "2023-04-10T15:55:38.162Z"
   },
   {
    "duration": 45,
    "start_time": "2023-04-10T15:55:43.365Z"
   },
   {
    "duration": 56,
    "start_time": "2023-04-10T15:55:43.414Z"
   },
   {
    "duration": 27,
    "start_time": "2023-04-10T15:55:43.472Z"
   },
   {
    "duration": 69,
    "start_time": "2023-04-10T15:55:43.502Z"
   },
   {
    "duration": 44,
    "start_time": "2023-04-10T15:55:43.573Z"
   },
   {
    "duration": 40,
    "start_time": "2023-04-10T15:55:43.619Z"
   },
   {
    "duration": 41,
    "start_time": "2023-04-10T15:55:43.661Z"
   },
   {
    "duration": 28,
    "start_time": "2023-04-10T15:55:43.704Z"
   },
   {
    "duration": 201,
    "start_time": "2023-04-10T15:55:43.734Z"
   },
   {
    "duration": 23,
    "start_time": "2023-04-10T15:55:43.938Z"
   },
   {
    "duration": 53,
    "start_time": "2023-04-10T15:55:43.962Z"
   },
   {
    "duration": 27,
    "start_time": "2023-04-10T15:55:44.021Z"
   },
   {
    "duration": 54,
    "start_time": "2023-04-10T15:55:44.053Z"
   },
   {
    "duration": 200,
    "start_time": "2023-04-10T15:55:44.110Z"
   },
   {
    "duration": 26,
    "start_time": "2023-04-10T15:55:44.313Z"
   },
   {
    "duration": 21,
    "start_time": "2023-04-10T15:55:44.341Z"
   },
   {
    "duration": 45,
    "start_time": "2023-04-10T15:55:44.364Z"
   },
   {
    "duration": 33,
    "start_time": "2023-04-10T15:55:44.414Z"
   },
   {
    "duration": 113,
    "start_time": "2023-04-10T15:55:44.449Z"
   },
   {
    "duration": 3,
    "start_time": "2023-04-10T15:55:44.565Z"
   },
   {
    "duration": 147,
    "start_time": "2023-04-10T15:55:44.570Z"
   },
   {
    "duration": 7,
    "start_time": "2023-04-10T15:55:44.719Z"
   },
   {
    "duration": 40,
    "start_time": "2023-04-10T15:55:44.731Z"
   },
   {
    "duration": 136,
    "start_time": "2023-04-10T15:55:44.773Z"
   },
   {
    "duration": 148,
    "start_time": "2023-04-10T15:55:44.910Z"
   },
   {
    "duration": 125,
    "start_time": "2023-04-10T15:55:45.061Z"
   },
   {
    "duration": 21,
    "start_time": "2023-04-10T15:55:45.190Z"
   },
   {
    "duration": 338,
    "start_time": "2023-04-10T15:55:45.220Z"
   },
   {
    "duration": 15,
    "start_time": "2023-04-10T15:55:45.560Z"
   },
   {
    "duration": 54,
    "start_time": "2023-04-10T15:55:45.577Z"
   },
   {
    "duration": 21,
    "start_time": "2023-04-10T15:55:45.635Z"
   },
   {
    "duration": 76,
    "start_time": "2023-04-10T15:55:45.659Z"
   },
   {
    "duration": 119,
    "start_time": "2023-04-10T15:55:45.737Z"
   },
   {
    "duration": 3,
    "start_time": "2023-04-10T15:55:45.858Z"
   },
   {
    "duration": 13,
    "start_time": "2023-04-10T15:55:45.862Z"
   },
   {
    "duration": 8,
    "start_time": "2023-04-10T15:55:45.877Z"
   },
   {
    "duration": 55,
    "start_time": "2023-04-10T15:55:45.888Z"
   },
   {
    "duration": 15,
    "start_time": "2023-04-10T15:55:45.945Z"
   },
   {
    "duration": 11,
    "start_time": "2023-04-10T15:55:45.962Z"
   },
   {
    "duration": 0,
    "start_time": "2023-04-10T15:55:45.975Z"
   },
   {
    "duration": 0,
    "start_time": "2023-04-10T15:55:45.977Z"
   },
   {
    "duration": 7,
    "start_time": "2023-04-10T15:56:11.855Z"
   },
   {
    "duration": 15,
    "start_time": "2023-04-10T15:57:11.042Z"
   },
   {
    "duration": 115,
    "start_time": "2023-04-10T15:57:11.059Z"
   },
   {
    "duration": 3507,
    "start_time": "2023-04-10T15:57:11.178Z"
   },
   {
    "duration": 10,
    "start_time": "2023-04-10T15:57:14.687Z"
   },
   {
    "duration": 60,
    "start_time": "2023-04-10T15:57:14.699Z"
   },
   {
    "duration": 4,
    "start_time": "2023-04-10T15:57:14.762Z"
   },
   {
    "duration": 5564,
    "start_time": "2023-04-10T15:57:14.769Z"
   },
   {
    "duration": 28,
    "start_time": "2023-04-10T15:57:20.345Z"
   },
   {
    "duration": 6763,
    "start_time": "2023-04-10T15:57:20.376Z"
   },
   {
    "duration": 3,
    "start_time": "2023-04-10T15:57:27.142Z"
   },
   {
    "duration": 18,
    "start_time": "2023-04-10T15:57:27.154Z"
   },
   {
    "duration": 7,
    "start_time": "2023-04-10T15:57:27.174Z"
   },
   {
    "duration": 59,
    "start_time": "2023-04-10T15:57:27.183Z"
   },
   {
    "duration": 17,
    "start_time": "2023-04-10T15:57:27.247Z"
   },
   {
    "duration": 823,
    "start_time": "2023-04-10T15:57:27.266Z"
   },
   {
    "duration": 64,
    "start_time": "2023-04-10T15:57:28.092Z"
   },
   {
    "duration": 18,
    "start_time": "2023-04-10T15:57:28.158Z"
   },
   {
    "duration": 6053,
    "start_time": "2023-04-10T15:57:28.179Z"
   },
   {
    "duration": 28,
    "start_time": "2023-04-10T15:57:34.239Z"
   },
   {
    "duration": 34,
    "start_time": "2023-04-10T15:57:34.269Z"
   },
   {
    "duration": 64,
    "start_time": "2023-04-10T15:57:34.305Z"
   },
   {
    "duration": 59,
    "start_time": "2023-04-10T15:57:34.371Z"
   },
   {
    "duration": 33,
    "start_time": "2023-04-10T15:57:34.438Z"
   },
   {
    "duration": 7,
    "start_time": "2023-04-10T15:57:34.473Z"
   },
   {
    "duration": 108,
    "start_time": "2023-04-10T15:57:34.483Z"
   },
   {
    "duration": 31,
    "start_time": "2023-04-10T15:57:34.595Z"
   },
   {
    "duration": 183,
    "start_time": "2023-04-10T15:57:34.637Z"
   },
   {
    "duration": 28,
    "start_time": "2023-04-10T15:57:34.822Z"
   },
   {
    "duration": 32,
    "start_time": "2023-04-10T15:57:34.852Z"
   },
   {
    "duration": 29,
    "start_time": "2023-04-10T15:57:34.886Z"
   },
   {
    "duration": 66,
    "start_time": "2023-04-10T15:57:34.917Z"
   },
   {
    "duration": 206,
    "start_time": "2023-04-10T15:57:34.985Z"
   },
   {
    "duration": 26,
    "start_time": "2023-04-10T15:57:35.193Z"
   },
   {
    "duration": 38,
    "start_time": "2023-04-10T15:57:35.221Z"
   },
   {
    "duration": 26,
    "start_time": "2023-04-10T15:57:35.262Z"
   },
   {
    "duration": 4,
    "start_time": "2023-04-10T15:57:35.290Z"
   },
   {
    "duration": 123,
    "start_time": "2023-04-10T15:57:35.296Z"
   },
   {
    "duration": 5,
    "start_time": "2023-04-10T15:57:35.421Z"
   },
   {
    "duration": 165,
    "start_time": "2023-04-10T15:57:35.428Z"
   },
   {
    "duration": 13,
    "start_time": "2023-04-10T15:57:35.602Z"
   },
   {
    "duration": 27,
    "start_time": "2023-04-10T15:57:35.622Z"
   },
   {
    "duration": 113,
    "start_time": "2023-04-10T15:57:35.651Z"
   },
   {
    "duration": 159,
    "start_time": "2023-04-10T15:57:35.766Z"
   },
   {
    "duration": 130,
    "start_time": "2023-04-10T15:57:35.927Z"
   },
   {
    "duration": 8,
    "start_time": "2023-04-10T15:57:36.059Z"
   },
   {
    "duration": 388,
    "start_time": "2023-04-10T15:57:36.069Z"
   },
   {
    "duration": 23,
    "start_time": "2023-04-10T15:57:36.459Z"
   },
   {
    "duration": 118,
    "start_time": "2023-04-10T15:57:36.484Z"
   },
   {
    "duration": 143,
    "start_time": "2023-04-10T15:57:36.608Z"
   },
   {
    "duration": 67,
    "start_time": "2023-04-10T15:57:36.755Z"
   },
   {
    "duration": 171,
    "start_time": "2023-04-10T15:57:36.825Z"
   },
   {
    "duration": 15,
    "start_time": "2023-04-10T15:57:36.998Z"
   },
   {
    "duration": 310,
    "start_time": "2023-04-10T15:57:37.015Z"
   },
   {
    "duration": 0,
    "start_time": "2023-04-10T15:57:37.328Z"
   },
   {
    "duration": 0,
    "start_time": "2023-04-10T15:57:37.330Z"
   },
   {
    "duration": 0,
    "start_time": "2023-04-10T15:57:37.331Z"
   },
   {
    "duration": 0,
    "start_time": "2023-04-10T15:57:37.335Z"
   },
   {
    "duration": 0,
    "start_time": "2023-04-10T15:57:37.337Z"
   },
   {
    "duration": 0,
    "start_time": "2023-04-10T15:57:37.339Z"
   },
   {
    "duration": 0,
    "start_time": "2023-04-10T15:57:37.340Z"
   },
   {
    "duration": 0,
    "start_time": "2023-04-10T15:57:37.346Z"
   },
   {
    "duration": 105,
    "start_time": "2023-04-10T16:04:55.329Z"
   },
   {
    "duration": 3,
    "start_time": "2023-04-10T16:05:39.777Z"
   },
   {
    "duration": 54,
    "start_time": "2023-04-10T16:05:39.784Z"
   },
   {
    "duration": 3819,
    "start_time": "2023-04-10T16:05:39.842Z"
   },
   {
    "duration": 4,
    "start_time": "2023-04-10T16:05:43.663Z"
   },
   {
    "duration": 6,
    "start_time": "2023-04-10T16:05:43.670Z"
   },
   {
    "duration": 16,
    "start_time": "2023-04-10T16:05:43.678Z"
   },
   {
    "duration": 5351,
    "start_time": "2023-04-10T16:05:43.696Z"
   },
   {
    "duration": 20,
    "start_time": "2023-04-10T16:05:49.050Z"
   },
   {
    "duration": 6306,
    "start_time": "2023-04-10T16:05:49.072Z"
   },
   {
    "duration": 4,
    "start_time": "2023-04-10T16:05:55.380Z"
   },
   {
    "duration": 178,
    "start_time": "2023-04-10T16:05:55.385Z"
   },
   {
    "duration": 16,
    "start_time": "2023-04-10T16:05:55.565Z"
   },
   {
    "duration": 71,
    "start_time": "2023-04-10T16:05:55.583Z"
   },
   {
    "duration": 8,
    "start_time": "2023-04-10T16:05:55.659Z"
   },
   {
    "duration": 781,
    "start_time": "2023-04-10T16:05:55.669Z"
   },
   {
    "duration": 62,
    "start_time": "2023-04-10T16:05:56.452Z"
   },
   {
    "duration": 5,
    "start_time": "2023-04-10T16:05:56.517Z"
   },
   {
    "duration": 6260,
    "start_time": "2023-04-10T16:05:56.525Z"
   },
   {
    "duration": 66,
    "start_time": "2023-04-10T16:06:02.787Z"
   },
   {
    "duration": 206,
    "start_time": "2023-04-10T16:06:02.856Z"
   },
   {
    "duration": 86,
    "start_time": "2023-04-10T16:06:03.069Z"
   },
   {
    "duration": 94,
    "start_time": "2023-04-10T16:06:03.167Z"
   },
   {
    "duration": 123,
    "start_time": "2023-04-10T16:06:03.264Z"
   },
   {
    "duration": 81,
    "start_time": "2023-04-10T16:06:03.389Z"
   },
   {
    "duration": 117,
    "start_time": "2023-04-10T16:06:03.472Z"
   },
   {
    "duration": 35,
    "start_time": "2023-04-10T16:06:03.604Z"
   },
   {
    "duration": 299,
    "start_time": "2023-04-10T16:06:03.645Z"
   },
   {
    "duration": 26,
    "start_time": "2023-04-10T16:06:03.952Z"
   },
   {
    "duration": 30,
    "start_time": "2023-04-10T16:06:03.980Z"
   },
   {
    "duration": 101,
    "start_time": "2023-04-10T16:06:04.012Z"
   },
   {
    "duration": 83,
    "start_time": "2023-04-10T16:06:04.115Z"
   },
   {
    "duration": 319,
    "start_time": "2023-04-10T16:06:04.205Z"
   },
   {
    "duration": 35,
    "start_time": "2023-04-10T16:06:04.530Z"
   },
   {
    "duration": 12,
    "start_time": "2023-04-10T16:06:04.573Z"
   },
   {
    "duration": 95,
    "start_time": "2023-04-10T16:06:04.598Z"
   },
   {
    "duration": 5,
    "start_time": "2023-04-10T16:06:04.695Z"
   },
   {
    "duration": 228,
    "start_time": "2023-04-10T16:06:04.702Z"
   },
   {
    "duration": 17,
    "start_time": "2023-04-10T16:06:04.932Z"
   },
   {
    "duration": 257,
    "start_time": "2023-04-10T16:06:04.951Z"
   },
   {
    "duration": 6,
    "start_time": "2023-04-10T16:06:05.210Z"
   },
   {
    "duration": 52,
    "start_time": "2023-04-10T16:06:05.224Z"
   },
   {
    "duration": 155,
    "start_time": "2023-04-10T16:06:05.278Z"
   },
   {
    "duration": 239,
    "start_time": "2023-04-10T16:06:05.444Z"
   },
   {
    "duration": 96,
    "start_time": "2023-04-10T16:06:05.685Z"
   },
   {
    "duration": 281,
    "start_time": "2023-04-10T16:06:05.784Z"
   },
   {
    "duration": 10,
    "start_time": "2023-04-10T16:06:06.070Z"
   },
   {
    "duration": 443,
    "start_time": "2023-04-10T16:06:06.082Z"
   },
   {
    "duration": 32,
    "start_time": "2023-04-10T16:06:06.534Z"
   },
   {
    "duration": 111,
    "start_time": "2023-04-10T16:06:06.572Z"
   },
   {
    "duration": 86,
    "start_time": "2023-04-10T16:06:06.684Z"
   },
   {
    "duration": 66,
    "start_time": "2023-04-10T16:06:06.771Z"
   },
   {
    "duration": 73,
    "start_time": "2023-04-10T16:06:06.839Z"
   },
   {
    "duration": 149,
    "start_time": "2023-04-10T16:06:06.918Z"
   },
   {
    "duration": 6,
    "start_time": "2023-04-10T16:06:07.069Z"
   },
   {
    "duration": 6,
    "start_time": "2023-04-10T16:14:21.494Z"
   },
   {
    "duration": 10,
    "start_time": "2023-04-10T16:14:21.503Z"
   },
   {
    "duration": 2168,
    "start_time": "2023-04-10T16:14:21.515Z"
   },
   {
    "duration": 4,
    "start_time": "2023-04-10T16:14:23.686Z"
   },
   {
    "duration": 8,
    "start_time": "2023-04-10T16:14:23.692Z"
   },
   {
    "duration": 11,
    "start_time": "2023-04-10T16:14:23.702Z"
   },
   {
    "duration": 3441,
    "start_time": "2023-04-10T16:14:23.715Z"
   },
   {
    "duration": 9,
    "start_time": "2023-04-10T16:14:27.158Z"
   },
   {
    "duration": 4629,
    "start_time": "2023-04-10T16:14:27.168Z"
   },
   {
    "duration": 4,
    "start_time": "2023-04-10T16:14:31.800Z"
   },
   {
    "duration": 25,
    "start_time": "2023-04-10T16:14:31.806Z"
   },
   {
    "duration": 18,
    "start_time": "2023-04-10T16:14:31.833Z"
   },
   {
    "duration": 20,
    "start_time": "2023-04-10T16:14:31.853Z"
   },
   {
    "duration": 31,
    "start_time": "2023-04-10T16:14:31.875Z"
   },
   {
    "duration": 663,
    "start_time": "2023-04-10T16:14:31.909Z"
   },
   {
    "duration": 56,
    "start_time": "2023-04-10T16:14:32.574Z"
   },
   {
    "duration": 10,
    "start_time": "2023-04-10T16:14:32.633Z"
   },
   {
    "duration": 3666,
    "start_time": "2023-04-10T16:14:32.645Z"
   },
   {
    "duration": 30,
    "start_time": "2023-04-10T16:14:36.312Z"
   },
   {
    "duration": 35,
    "start_time": "2023-04-10T16:14:36.344Z"
   },
   {
    "duration": 34,
    "start_time": "2023-04-10T16:14:36.381Z"
   },
   {
    "duration": 33,
    "start_time": "2023-04-10T16:14:36.417Z"
   },
   {
    "duration": 62,
    "start_time": "2023-04-10T16:14:36.452Z"
   },
   {
    "duration": 29,
    "start_time": "2023-04-10T16:14:36.516Z"
   },
   {
    "duration": 50,
    "start_time": "2023-04-10T16:14:36.547Z"
   },
   {
    "duration": 25,
    "start_time": "2023-04-10T16:14:36.600Z"
   },
   {
    "duration": 151,
    "start_time": "2023-04-10T16:14:36.628Z"
   },
   {
    "duration": 40,
    "start_time": "2023-04-10T16:14:36.797Z"
   },
   {
    "duration": 34,
    "start_time": "2023-04-10T16:14:36.840Z"
   },
   {
    "duration": 26,
    "start_time": "2023-04-10T16:14:36.876Z"
   },
   {
    "duration": 38,
    "start_time": "2023-04-10T16:14:36.905Z"
   },
   {
    "duration": 155,
    "start_time": "2023-04-10T16:14:36.944Z"
   },
   {
    "duration": 27,
    "start_time": "2023-04-10T16:14:37.101Z"
   },
   {
    "duration": 8,
    "start_time": "2023-04-10T16:14:37.130Z"
   },
   {
    "duration": 62,
    "start_time": "2023-04-10T16:14:37.140Z"
   },
   {
    "duration": 6,
    "start_time": "2023-04-10T16:14:37.205Z"
   },
   {
    "duration": 146,
    "start_time": "2023-04-10T16:14:37.215Z"
   },
   {
    "duration": 5,
    "start_time": "2023-04-10T16:14:37.363Z"
   },
   {
    "duration": 132,
    "start_time": "2023-04-10T16:14:37.370Z"
   },
   {
    "duration": 5,
    "start_time": "2023-04-10T16:14:37.504Z"
   },
   {
    "duration": 36,
    "start_time": "2023-04-10T16:14:37.511Z"
   },
   {
    "duration": 82,
    "start_time": "2023-04-10T16:14:37.549Z"
   },
   {
    "duration": 97,
    "start_time": "2023-04-10T16:14:37.634Z"
   },
   {
    "duration": 4,
    "start_time": "2023-04-10T16:14:37.733Z"
   },
   {
    "duration": 147,
    "start_time": "2023-04-10T16:14:37.739Z"
   },
   {
    "duration": 10,
    "start_time": "2023-04-10T16:14:37.888Z"
   },
   {
    "duration": 264,
    "start_time": "2023-04-10T16:14:37.900Z"
   },
   {
    "duration": 22,
    "start_time": "2023-04-10T16:14:38.168Z"
   },
   {
    "duration": 24,
    "start_time": "2023-04-10T16:14:38.193Z"
   },
   {
    "duration": 32,
    "start_time": "2023-04-10T16:14:38.219Z"
   },
   {
    "duration": 20,
    "start_time": "2023-04-10T16:14:38.253Z"
   },
   {
    "duration": 29,
    "start_time": "2023-04-10T16:14:38.275Z"
   },
   {
    "duration": 69,
    "start_time": "2023-04-10T16:14:38.305Z"
   },
   {
    "duration": 17,
    "start_time": "2023-04-10T16:14:38.376Z"
   },
   {
    "duration": 4,
    "start_time": "2023-04-10T16:19:49.963Z"
   },
   {
    "duration": 10,
    "start_time": "2023-04-10T16:19:49.969Z"
   },
   {
    "duration": 2108,
    "start_time": "2023-04-10T16:19:49.981Z"
   },
   {
    "duration": 5,
    "start_time": "2023-04-10T16:19:52.091Z"
   },
   {
    "duration": 12,
    "start_time": "2023-04-10T16:19:52.099Z"
   },
   {
    "duration": 33,
    "start_time": "2023-04-10T16:19:52.113Z"
   },
   {
    "duration": 3129,
    "start_time": "2023-04-10T16:19:52.148Z"
   },
   {
    "duration": 10,
    "start_time": "2023-04-10T16:19:55.279Z"
   },
   {
    "duration": 4128,
    "start_time": "2023-04-10T16:19:55.291Z"
   },
   {
    "duration": 3,
    "start_time": "2023-04-10T16:19:59.420Z"
   },
   {
    "duration": 15,
    "start_time": "2023-04-10T16:19:59.428Z"
   },
   {
    "duration": 16,
    "start_time": "2023-04-10T16:19:59.445Z"
   },
   {
    "duration": 13,
    "start_time": "2023-04-10T16:19:59.462Z"
   },
   {
    "duration": 19,
    "start_time": "2023-04-10T16:19:59.477Z"
   },
   {
    "duration": 580,
    "start_time": "2023-04-10T16:19:59.498Z"
   },
   {
    "duration": 49,
    "start_time": "2023-04-10T16:20:00.080Z"
   },
   {
    "duration": 32,
    "start_time": "2023-04-10T16:20:00.131Z"
   },
   {
    "duration": 3974,
    "start_time": "2023-04-10T16:20:00.165Z"
   },
   {
    "duration": 23,
    "start_time": "2023-04-10T16:20:04.141Z"
   },
   {
    "duration": 37,
    "start_time": "2023-04-10T16:20:04.166Z"
   },
   {
    "duration": 36,
    "start_time": "2023-04-10T16:20:04.205Z"
   },
   {
    "duration": 31,
    "start_time": "2023-04-10T16:20:04.242Z"
   },
   {
    "duration": 28,
    "start_time": "2023-04-10T16:20:04.287Z"
   },
   {
    "duration": 25,
    "start_time": "2023-04-10T16:20:04.317Z"
   },
   {
    "duration": 36,
    "start_time": "2023-04-10T16:20:04.344Z"
   },
   {
    "duration": 23,
    "start_time": "2023-04-10T16:20:04.382Z"
   },
   {
    "duration": 183,
    "start_time": "2023-04-10T16:20:04.407Z"
   },
   {
    "duration": 26,
    "start_time": "2023-04-10T16:20:04.592Z"
   },
   {
    "duration": 19,
    "start_time": "2023-04-10T16:20:04.624Z"
   },
   {
    "duration": 47,
    "start_time": "2023-04-10T16:20:04.645Z"
   },
   {
    "duration": 25,
    "start_time": "2023-04-10T16:20:04.695Z"
   },
   {
    "duration": 159,
    "start_time": "2023-04-10T16:20:04.722Z"
   },
   {
    "duration": 20,
    "start_time": "2023-04-10T16:20:04.887Z"
   },
   {
    "duration": 23,
    "start_time": "2023-04-10T16:20:04.910Z"
   },
   {
    "duration": 43,
    "start_time": "2023-04-10T16:20:04.935Z"
   },
   {
    "duration": 4,
    "start_time": "2023-04-10T16:20:04.980Z"
   },
   {
    "duration": 110,
    "start_time": "2023-04-10T16:20:04.986Z"
   },
   {
    "duration": 5,
    "start_time": "2023-04-10T16:20:05.098Z"
   },
   {
    "duration": 135,
    "start_time": "2023-04-10T16:20:05.105Z"
   },
   {
    "duration": 5,
    "start_time": "2023-04-10T16:20:05.242Z"
   },
   {
    "duration": 21,
    "start_time": "2023-04-10T16:20:05.249Z"
   },
   {
    "duration": 102,
    "start_time": "2023-04-10T16:20:05.271Z"
   },
   {
    "duration": 114,
    "start_time": "2023-04-10T16:20:05.374Z"
   },
   {
    "duration": 3,
    "start_time": "2023-04-10T16:20:05.491Z"
   },
   {
    "duration": 106,
    "start_time": "2023-04-10T16:20:05.497Z"
   },
   {
    "duration": 9,
    "start_time": "2023-04-10T16:20:05.605Z"
   },
   {
    "duration": 243,
    "start_time": "2023-04-10T16:20:05.616Z"
   },
   {
    "duration": 15,
    "start_time": "2023-04-10T16:20:05.861Z"
   },
   {
    "duration": 30,
    "start_time": "2023-04-10T16:20:05.887Z"
   },
   {
    "duration": 39,
    "start_time": "2023-04-10T16:20:05.920Z"
   },
   {
    "duration": 44,
    "start_time": "2023-04-10T16:20:05.962Z"
   },
   {
    "duration": 52,
    "start_time": "2023-04-10T16:20:06.009Z"
   },
   {
    "duration": 68,
    "start_time": "2023-04-10T16:20:06.063Z"
   },
   {
    "duration": 7,
    "start_time": "2023-04-10T16:20:06.133Z"
   },
   {
    "duration": 27,
    "start_time": "2023-04-10T16:20:06.141Z"
   },
   {
    "duration": 12,
    "start_time": "2023-04-10T16:20:06.170Z"
   },
   {
    "duration": 31,
    "start_time": "2023-04-10T16:20:06.184Z"
   },
   {
    "duration": 32,
    "start_time": "2023-04-10T16:20:06.217Z"
   },
   {
    "duration": 27,
    "start_time": "2023-04-10T16:20:06.251Z"
   },
   {
    "duration": 25,
    "start_time": "2023-04-10T16:20:06.279Z"
   },
   {
    "duration": 6,
    "start_time": "2023-04-10T16:20:06.307Z"
   },
   {
    "duration": 16,
    "start_time": "2023-04-10T16:20:06.315Z"
   },
   {
    "duration": 0,
    "start_time": "2023-04-10T16:20:06.333Z"
   },
   {
    "duration": 0,
    "start_time": "2023-04-10T16:20:06.334Z"
   },
   {
    "duration": 5,
    "start_time": "2023-04-10T16:24:47.674Z"
   },
   {
    "duration": 15,
    "start_time": "2023-04-10T16:24:47.681Z"
   },
   {
    "duration": 1413,
    "start_time": "2023-04-10T16:24:47.698Z"
   },
   {
    "duration": 8,
    "start_time": "2023-04-10T16:24:49.114Z"
   },
   {
    "duration": 13,
    "start_time": "2023-04-10T16:24:49.129Z"
   },
   {
    "duration": 20,
    "start_time": "2023-04-10T16:24:49.145Z"
   },
   {
    "duration": 1145,
    "start_time": "2023-04-10T16:24:49.167Z"
   },
   {
    "duration": 18,
    "start_time": "2023-04-10T16:24:50.315Z"
   },
   {
    "duration": 5109,
    "start_time": "2023-04-10T16:24:50.337Z"
   },
   {
    "duration": 3,
    "start_time": "2023-04-10T16:24:55.448Z"
   },
   {
    "duration": 42,
    "start_time": "2023-04-10T16:24:55.453Z"
   },
   {
    "duration": 33,
    "start_time": "2023-04-10T16:24:55.498Z"
   },
   {
    "duration": 36,
    "start_time": "2023-04-10T16:24:55.533Z"
   },
   {
    "duration": 60,
    "start_time": "2023-04-10T16:24:55.571Z"
   },
   {
    "duration": 705,
    "start_time": "2023-04-10T16:24:55.633Z"
   },
   {
    "duration": 54,
    "start_time": "2023-04-10T16:24:56.339Z"
   },
   {
    "duration": 9,
    "start_time": "2023-04-10T16:24:56.396Z"
   },
   {
    "duration": 4497,
    "start_time": "2023-04-10T16:24:56.407Z"
   },
   {
    "duration": 38,
    "start_time": "2023-04-10T16:25:00.907Z"
   },
   {
    "duration": 65,
    "start_time": "2023-04-10T16:25:00.947Z"
   },
   {
    "duration": 78,
    "start_time": "2023-04-10T16:25:01.014Z"
   },
   {
    "duration": 70,
    "start_time": "2023-04-10T16:25:01.094Z"
   },
   {
    "duration": 103,
    "start_time": "2023-04-10T16:25:01.167Z"
   },
   {
    "duration": 52,
    "start_time": "2023-04-10T16:25:01.272Z"
   },
   {
    "duration": 92,
    "start_time": "2023-04-10T16:25:01.327Z"
   },
   {
    "duration": 104,
    "start_time": "2023-04-10T16:25:01.421Z"
   },
   {
    "duration": 226,
    "start_time": "2023-04-10T16:25:01.531Z"
   },
   {
    "duration": 31,
    "start_time": "2023-04-10T16:25:01.758Z"
   },
   {
    "duration": 55,
    "start_time": "2023-04-10T16:25:01.791Z"
   },
   {
    "duration": 80,
    "start_time": "2023-04-10T16:25:01.848Z"
   },
   {
    "duration": 79,
    "start_time": "2023-04-10T16:25:01.930Z"
   },
   {
    "duration": 201,
    "start_time": "2023-04-10T16:25:02.011Z"
   },
   {
    "duration": 28,
    "start_time": "2023-04-10T16:25:02.216Z"
   },
   {
    "duration": 73,
    "start_time": "2023-04-10T16:25:02.246Z"
   },
   {
    "duration": 50,
    "start_time": "2023-04-10T16:25:02.321Z"
   },
   {
    "duration": 48,
    "start_time": "2023-04-10T16:25:02.375Z"
   },
   {
    "duration": 158,
    "start_time": "2023-04-10T16:25:02.425Z"
   },
   {
    "duration": 5,
    "start_time": "2023-04-10T16:25:02.590Z"
   },
   {
    "duration": 122,
    "start_time": "2023-04-10T16:25:02.597Z"
   },
   {
    "duration": 4,
    "start_time": "2023-04-10T16:25:02.721Z"
   },
   {
    "duration": 57,
    "start_time": "2023-04-10T16:25:02.727Z"
   },
   {
    "duration": 106,
    "start_time": "2023-04-10T16:25:02.792Z"
   },
   {
    "duration": 97,
    "start_time": "2023-04-10T16:25:02.901Z"
   },
   {
    "duration": 2,
    "start_time": "2023-04-10T16:25:03.000Z"
   },
   {
    "duration": 107,
    "start_time": "2023-04-10T16:25:03.004Z"
   },
   {
    "duration": 8,
    "start_time": "2023-04-10T16:25:03.113Z"
   },
   {
    "duration": 228,
    "start_time": "2023-04-10T16:25:03.123Z"
   },
   {
    "duration": 15,
    "start_time": "2023-04-10T16:25:03.353Z"
   },
   {
    "duration": 58,
    "start_time": "2023-04-10T16:25:03.370Z"
   },
   {
    "duration": 14,
    "start_time": "2023-04-10T16:25:03.430Z"
   },
   {
    "duration": 37,
    "start_time": "2023-04-10T16:25:03.446Z"
   },
   {
    "duration": 28,
    "start_time": "2023-04-10T16:25:03.485Z"
   },
   {
    "duration": 133,
    "start_time": "2023-04-10T16:25:03.515Z"
   },
   {
    "duration": 2,
    "start_time": "2023-04-10T16:25:03.650Z"
   },
   {
    "duration": 24,
    "start_time": "2023-04-10T16:25:03.654Z"
   },
   {
    "duration": 33,
    "start_time": "2023-04-10T16:25:03.680Z"
   },
   {
    "duration": 9,
    "start_time": "2023-04-10T16:25:03.716Z"
   },
   {
    "duration": 18,
    "start_time": "2023-04-10T16:25:03.730Z"
   },
   {
    "duration": 16,
    "start_time": "2023-04-10T16:25:03.751Z"
   },
   {
    "duration": 35,
    "start_time": "2023-04-10T16:25:03.769Z"
   },
   {
    "duration": 9,
    "start_time": "2023-04-10T16:25:03.806Z"
   },
   {
    "duration": 17,
    "start_time": "2023-04-10T16:25:03.818Z"
   },
   {
    "duration": 0,
    "start_time": "2023-04-10T16:25:03.837Z"
   },
   {
    "duration": 0,
    "start_time": "2023-04-10T16:25:03.839Z"
   },
   {
    "duration": 1341,
    "start_time": "2023-04-10T18:25:22.346Z"
   },
   {
    "duration": 1387,
    "start_time": "2023-04-10T18:25:28.051Z"
   },
   {
    "duration": 138248,
    "start_time": "2023-04-10T18:25:56.388Z"
   },
   {
    "duration": 1610,
    "start_time": "2023-04-10T18:28:14.638Z"
   },
   {
    "duration": 14428,
    "start_time": "2023-04-10T18:28:23.984Z"
   },
   {
    "duration": 2362,
    "start_time": "2023-04-10T18:28:38.415Z"
   },
   {
    "duration": 12555,
    "start_time": "2023-04-10T18:28:40.779Z"
   },
   {
    "duration": 1213,
    "start_time": "2023-04-10T18:28:53.337Z"
   },
   {
    "duration": 4,
    "start_time": "2023-04-10T18:28:54.552Z"
   },
   {
    "duration": 23,
    "start_time": "2023-04-10T18:28:54.557Z"
   },
   {
    "duration": 8,
    "start_time": "2023-04-10T18:28:54.582Z"
   },
   {
    "duration": 2837,
    "start_time": "2023-04-10T18:28:54.592Z"
   },
   {
    "duration": 8,
    "start_time": "2023-04-10T18:28:57.431Z"
   },
   {
    "duration": 3565,
    "start_time": "2023-04-10T18:28:57.442Z"
   },
   {
    "duration": 3,
    "start_time": "2023-04-10T18:29:01.009Z"
   },
   {
    "duration": 60,
    "start_time": "2023-04-10T18:29:01.013Z"
   },
   {
    "duration": 53,
    "start_time": "2023-04-10T18:29:01.075Z"
   },
   {
    "duration": 36,
    "start_time": "2023-04-10T18:29:01.130Z"
   },
   {
    "duration": 25,
    "start_time": "2023-04-10T18:29:01.168Z"
   },
   {
    "duration": 514,
    "start_time": "2023-04-10T18:29:01.195Z"
   },
   {
    "duration": 39,
    "start_time": "2023-04-10T18:29:01.712Z"
   },
   {
    "duration": 30,
    "start_time": "2023-04-10T18:29:01.753Z"
   },
   {
    "duration": 3060,
    "start_time": "2023-04-10T18:29:01.784Z"
   },
   {
    "duration": 20,
    "start_time": "2023-04-10T18:29:04.846Z"
   },
   {
    "duration": 30,
    "start_time": "2023-04-10T18:29:04.868Z"
   },
   {
    "duration": 21,
    "start_time": "2023-04-10T18:29:04.900Z"
   },
   {
    "duration": 18,
    "start_time": "2023-04-10T18:29:04.923Z"
   },
   {
    "duration": 21,
    "start_time": "2023-04-10T18:29:04.942Z"
   },
   {
    "duration": 22,
    "start_time": "2023-04-10T18:29:04.965Z"
   },
   {
    "duration": 23,
    "start_time": "2023-04-10T18:29:04.989Z"
   },
   {
    "duration": 1495,
    "start_time": "2023-04-10T18:29:05.014Z"
   },
   {
    "duration": 0,
    "start_time": "2023-04-10T18:29:06.512Z"
   },
   {
    "duration": 0,
    "start_time": "2023-04-10T18:29:06.514Z"
   },
   {
    "duration": 0,
    "start_time": "2023-04-10T18:29:06.516Z"
   },
   {
    "duration": 0,
    "start_time": "2023-04-10T18:29:06.517Z"
   },
   {
    "duration": 0,
    "start_time": "2023-04-10T18:29:06.519Z"
   },
   {
    "duration": 0,
    "start_time": "2023-04-10T18:29:06.520Z"
   },
   {
    "duration": 0,
    "start_time": "2023-04-10T18:29:06.522Z"
   },
   {
    "duration": 0,
    "start_time": "2023-04-10T18:29:06.523Z"
   },
   {
    "duration": 0,
    "start_time": "2023-04-10T18:29:06.524Z"
   },
   {
    "duration": 0,
    "start_time": "2023-04-10T18:29:06.525Z"
   },
   {
    "duration": 0,
    "start_time": "2023-04-10T18:29:06.526Z"
   },
   {
    "duration": 0,
    "start_time": "2023-04-10T18:29:06.527Z"
   },
   {
    "duration": 0,
    "start_time": "2023-04-10T18:29:06.528Z"
   },
   {
    "duration": 0,
    "start_time": "2023-04-10T18:29:06.529Z"
   },
   {
    "duration": 0,
    "start_time": "2023-04-10T18:29:06.530Z"
   },
   {
    "duration": 0,
    "start_time": "2023-04-10T18:29:06.531Z"
   },
   {
    "duration": 0,
    "start_time": "2023-04-10T18:29:06.532Z"
   },
   {
    "duration": 0,
    "start_time": "2023-04-10T18:29:06.533Z"
   },
   {
    "duration": 0,
    "start_time": "2023-04-10T18:29:06.534Z"
   },
   {
    "duration": 0,
    "start_time": "2023-04-10T18:29:06.536Z"
   },
   {
    "duration": 0,
    "start_time": "2023-04-10T18:29:06.537Z"
   },
   {
    "duration": 0,
    "start_time": "2023-04-10T18:29:06.538Z"
   },
   {
    "duration": 1,
    "start_time": "2023-04-10T18:29:06.539Z"
   },
   {
    "duration": 0,
    "start_time": "2023-04-10T18:29:06.540Z"
   },
   {
    "duration": 0,
    "start_time": "2023-04-10T18:29:06.541Z"
   },
   {
    "duration": 0,
    "start_time": "2023-04-10T18:29:06.543Z"
   },
   {
    "duration": 0,
    "start_time": "2023-04-10T18:29:06.544Z"
   },
   {
    "duration": 0,
    "start_time": "2023-04-10T18:29:06.545Z"
   },
   {
    "duration": 0,
    "start_time": "2023-04-10T18:29:06.546Z"
   },
   {
    "duration": 0,
    "start_time": "2023-04-10T18:29:06.547Z"
   },
   {
    "duration": 0,
    "start_time": "2023-04-10T18:29:06.547Z"
   },
   {
    "duration": 0,
    "start_time": "2023-04-10T18:29:06.549Z"
   },
   {
    "duration": 0,
    "start_time": "2023-04-10T18:29:06.583Z"
   },
   {
    "duration": 0,
    "start_time": "2023-04-10T18:29:06.584Z"
   },
   {
    "duration": 0,
    "start_time": "2023-04-10T18:29:06.585Z"
   },
   {
    "duration": 0,
    "start_time": "2023-04-10T18:29:06.586Z"
   },
   {
    "duration": 1677,
    "start_time": "2023-04-10T18:30:10.363Z"
   },
   {
    "duration": 8049,
    "start_time": "2023-04-10T20:06:39.539Z"
   },
   {
    "duration": 2111,
    "start_time": "2023-04-10T20:06:47.591Z"
   },
   {
    "duration": 134060,
    "start_time": "2023-04-10T20:06:49.703Z"
   },
   {
    "duration": 1502,
    "start_time": "2023-04-10T20:09:03.765Z"
   },
   {
    "duration": 4,
    "start_time": "2023-04-10T20:09:05.269Z"
   },
   {
    "duration": 35,
    "start_time": "2023-04-10T20:09:05.275Z"
   },
   {
    "duration": 4,
    "start_time": "2023-04-10T20:09:05.312Z"
   },
   {
    "duration": 1123,
    "start_time": "2023-04-10T20:09:05.318Z"
   },
   {
    "duration": 9,
    "start_time": "2023-04-10T20:09:06.443Z"
   },
   {
    "duration": 3722,
    "start_time": "2023-04-10T20:09:06.455Z"
   },
   {
    "duration": 2,
    "start_time": "2023-04-10T20:09:10.179Z"
   },
   {
    "duration": 6,
    "start_time": "2023-04-10T20:09:10.183Z"
   },
   {
    "duration": 6,
    "start_time": "2023-04-10T20:09:10.191Z"
   },
   {
    "duration": 4,
    "start_time": "2023-04-10T20:09:10.199Z"
   },
   {
    "duration": 6,
    "start_time": "2023-04-10T20:09:10.205Z"
   },
   {
    "duration": 563,
    "start_time": "2023-04-10T20:09:10.214Z"
   },
   {
    "duration": 47,
    "start_time": "2023-04-10T20:09:10.780Z"
   },
   {
    "duration": 6,
    "start_time": "2023-04-10T20:09:10.829Z"
   },
   {
    "duration": 3533,
    "start_time": "2023-04-10T20:09:10.836Z"
   },
   {
    "duration": 25,
    "start_time": "2023-04-10T20:09:14.371Z"
   },
   {
    "duration": 26,
    "start_time": "2023-04-10T20:09:14.398Z"
   },
   {
    "duration": 46,
    "start_time": "2023-04-10T20:09:14.427Z"
   },
   {
    "duration": 31,
    "start_time": "2023-04-10T20:09:14.475Z"
   },
   {
    "duration": 38,
    "start_time": "2023-04-10T20:09:14.508Z"
   },
   {
    "duration": 36,
    "start_time": "2023-04-10T20:09:14.548Z"
   },
   {
    "duration": 77,
    "start_time": "2023-04-10T20:09:14.586Z"
   },
   {
    "duration": 34,
    "start_time": "2023-04-10T20:09:14.665Z"
   },
   {
    "duration": 165,
    "start_time": "2023-04-10T20:09:14.704Z"
   },
   {
    "duration": 19,
    "start_time": "2023-04-10T20:09:14.871Z"
   },
   {
    "duration": 15,
    "start_time": "2023-04-10T20:09:14.892Z"
   },
   {
    "duration": 17,
    "start_time": "2023-04-10T20:09:14.908Z"
   },
   {
    "duration": 24,
    "start_time": "2023-04-10T20:09:14.926Z"
   },
   {
    "duration": 168,
    "start_time": "2023-04-10T20:09:14.952Z"
   },
   {
    "duration": 20,
    "start_time": "2023-04-10T20:09:15.121Z"
   },
   {
    "duration": 8,
    "start_time": "2023-04-10T20:09:15.143Z"
   },
   {
    "duration": 48,
    "start_time": "2023-04-10T20:09:15.153Z"
   },
   {
    "duration": 4,
    "start_time": "2023-04-10T20:09:15.204Z"
   },
   {
    "duration": 86,
    "start_time": "2023-04-10T20:09:15.209Z"
   },
   {
    "duration": 4,
    "start_time": "2023-04-10T20:09:15.296Z"
   },
   {
    "duration": 107,
    "start_time": "2023-04-10T20:09:15.302Z"
   },
   {
    "duration": 6,
    "start_time": "2023-04-10T20:09:15.411Z"
   },
   {
    "duration": 12,
    "start_time": "2023-04-10T20:09:15.419Z"
   },
   {
    "duration": 110,
    "start_time": "2023-04-10T20:09:15.434Z"
   },
   {
    "duration": 77,
    "start_time": "2023-04-10T20:09:15.545Z"
   },
   {
    "duration": 15,
    "start_time": "2023-04-10T20:09:15.625Z"
   },
   {
    "duration": 105,
    "start_time": "2023-04-10T20:09:15.642Z"
   },
   {
    "duration": 10,
    "start_time": "2023-04-10T20:09:15.749Z"
   },
   {
    "duration": 232,
    "start_time": "2023-04-10T20:09:15.761Z"
   },
   {
    "duration": 15,
    "start_time": "2023-04-10T20:09:15.994Z"
   },
   {
    "duration": 17,
    "start_time": "2023-04-10T20:09:16.012Z"
   },
   {
    "duration": 10,
    "start_time": "2023-04-10T20:09:16.031Z"
   },
   {
    "duration": 15,
    "start_time": "2023-04-10T20:09:16.043Z"
   },
   {
    "duration": 50,
    "start_time": "2023-04-10T20:09:16.061Z"
   },
   {
    "duration": 103,
    "start_time": "2023-04-10T20:09:16.113Z"
   },
   {
    "duration": 51,
    "start_time": "2023-04-10T20:24:05.750Z"
   },
   {
    "duration": 7,
    "start_time": "2023-04-10T20:24:28.082Z"
   },
   {
    "duration": 4,
    "start_time": "2023-04-10T20:33:08.659Z"
   },
   {
    "duration": 13,
    "start_time": "2023-04-10T20:33:08.665Z"
   },
   {
    "duration": 1817,
    "start_time": "2023-04-10T20:33:08.680Z"
   },
   {
    "duration": 4,
    "start_time": "2023-04-10T20:33:10.498Z"
   },
   {
    "duration": 120,
    "start_time": "2023-04-10T20:33:10.504Z"
   },
   {
    "duration": 0,
    "start_time": "2023-04-10T20:33:10.627Z"
   },
   {
    "duration": 0,
    "start_time": "2023-04-10T20:33:10.630Z"
   },
   {
    "duration": 0,
    "start_time": "2023-04-10T20:33:10.631Z"
   },
   {
    "duration": 0,
    "start_time": "2023-04-10T20:33:10.633Z"
   },
   {
    "duration": 0,
    "start_time": "2023-04-10T20:33:10.634Z"
   },
   {
    "duration": 0,
    "start_time": "2023-04-10T20:33:10.636Z"
   },
   {
    "duration": 0,
    "start_time": "2023-04-10T20:33:10.637Z"
   },
   {
    "duration": 0,
    "start_time": "2023-04-10T20:33:10.639Z"
   },
   {
    "duration": 0,
    "start_time": "2023-04-10T20:33:10.640Z"
   },
   {
    "duration": 0,
    "start_time": "2023-04-10T20:33:10.642Z"
   },
   {
    "duration": 0,
    "start_time": "2023-04-10T20:33:10.643Z"
   },
   {
    "duration": 0,
    "start_time": "2023-04-10T20:33:10.645Z"
   },
   {
    "duration": 0,
    "start_time": "2023-04-10T20:33:10.646Z"
   },
   {
    "duration": 0,
    "start_time": "2023-04-10T20:33:10.648Z"
   },
   {
    "duration": 0,
    "start_time": "2023-04-10T20:33:10.649Z"
   },
   {
    "duration": 0,
    "start_time": "2023-04-10T20:33:10.650Z"
   },
   {
    "duration": 0,
    "start_time": "2023-04-10T20:33:10.651Z"
   },
   {
    "duration": 0,
    "start_time": "2023-04-10T20:33:10.652Z"
   },
   {
    "duration": 0,
    "start_time": "2023-04-10T20:33:10.689Z"
   },
   {
    "duration": 0,
    "start_time": "2023-04-10T20:33:10.691Z"
   },
   {
    "duration": 0,
    "start_time": "2023-04-10T20:33:10.691Z"
   },
   {
    "duration": 0,
    "start_time": "2023-04-10T20:33:10.693Z"
   },
   {
    "duration": 0,
    "start_time": "2023-04-10T20:33:10.694Z"
   },
   {
    "duration": 0,
    "start_time": "2023-04-10T20:33:10.695Z"
   },
   {
    "duration": 0,
    "start_time": "2023-04-10T20:33:10.696Z"
   },
   {
    "duration": 0,
    "start_time": "2023-04-10T20:33:10.697Z"
   },
   {
    "duration": 0,
    "start_time": "2023-04-10T20:33:10.698Z"
   },
   {
    "duration": 0,
    "start_time": "2023-04-10T20:33:10.700Z"
   },
   {
    "duration": 0,
    "start_time": "2023-04-10T20:33:10.701Z"
   },
   {
    "duration": 0,
    "start_time": "2023-04-10T20:33:10.702Z"
   },
   {
    "duration": 0,
    "start_time": "2023-04-10T20:33:10.703Z"
   },
   {
    "duration": 0,
    "start_time": "2023-04-10T20:33:10.704Z"
   },
   {
    "duration": 0,
    "start_time": "2023-04-10T20:33:10.705Z"
   },
   {
    "duration": 0,
    "start_time": "2023-04-10T20:33:10.706Z"
   },
   {
    "duration": 0,
    "start_time": "2023-04-10T20:33:10.707Z"
   },
   {
    "duration": 0,
    "start_time": "2023-04-10T20:33:10.709Z"
   },
   {
    "duration": 0,
    "start_time": "2023-04-10T20:33:10.709Z"
   },
   {
    "duration": 1,
    "start_time": "2023-04-10T20:33:10.710Z"
   },
   {
    "duration": 0,
    "start_time": "2023-04-10T20:33:10.711Z"
   },
   {
    "duration": 0,
    "start_time": "2023-04-10T20:33:10.713Z"
   },
   {
    "duration": 0,
    "start_time": "2023-04-10T20:33:10.714Z"
   },
   {
    "duration": 0,
    "start_time": "2023-04-10T20:33:10.715Z"
   },
   {
    "duration": 0,
    "start_time": "2023-04-10T20:33:10.716Z"
   },
   {
    "duration": 0,
    "start_time": "2023-04-10T20:33:10.717Z"
   },
   {
    "duration": 0,
    "start_time": "2023-04-10T20:33:10.718Z"
   },
   {
    "duration": 0,
    "start_time": "2023-04-10T20:33:10.719Z"
   },
   {
    "duration": 0,
    "start_time": "2023-04-10T20:33:10.720Z"
   },
   {
    "duration": 0,
    "start_time": "2023-04-10T20:33:10.721Z"
   },
   {
    "duration": 0,
    "start_time": "2023-04-10T20:33:10.722Z"
   },
   {
    "duration": 0,
    "start_time": "2023-04-10T20:33:10.724Z"
   },
   {
    "duration": 0,
    "start_time": "2023-04-10T20:33:10.725Z"
   },
   {
    "duration": 0,
    "start_time": "2023-04-10T20:33:10.790Z"
   },
   {
    "duration": 0,
    "start_time": "2023-04-10T20:33:10.791Z"
   },
   {
    "duration": 0,
    "start_time": "2023-04-10T20:33:10.792Z"
   },
   {
    "duration": 0,
    "start_time": "2023-04-10T20:33:10.793Z"
   },
   {
    "duration": 0,
    "start_time": "2023-04-10T20:33:10.794Z"
   },
   {
    "duration": 0,
    "start_time": "2023-04-10T20:33:10.795Z"
   },
   {
    "duration": 0,
    "start_time": "2023-04-10T20:33:10.796Z"
   },
   {
    "duration": 0,
    "start_time": "2023-04-10T20:33:10.797Z"
   },
   {
    "duration": 2283,
    "start_time": "2023-04-10T20:33:29.294Z"
   },
   {
    "duration": 6,
    "start_time": "2023-04-10T20:33:33.786Z"
   },
   {
    "duration": 4,
    "start_time": "2023-04-10T20:33:37.531Z"
   },
   {
    "duration": 16,
    "start_time": "2023-04-10T20:33:38.860Z"
   },
   {
    "duration": 9,
    "start_time": "2023-04-10T20:33:54.977Z"
   },
   {
    "duration": 4,
    "start_time": "2023-04-10T20:34:16.774Z"
   },
   {
    "duration": 4,
    "start_time": "2023-04-10T20:34:18.529Z"
   },
   {
    "duration": 4,
    "start_time": "2023-04-10T20:34:19.100Z"
   },
   {
    "duration": 3,
    "start_time": "2023-04-10T20:34:34.959Z"
   },
   {
    "duration": 9,
    "start_time": "2023-04-10T20:34:34.964Z"
   },
   {
    "duration": 1312,
    "start_time": "2023-04-10T20:34:34.974Z"
   },
   {
    "duration": 5,
    "start_time": "2023-04-10T20:34:36.288Z"
   },
   {
    "duration": 6,
    "start_time": "2023-04-10T20:34:36.295Z"
   },
   {
    "duration": 5,
    "start_time": "2023-04-10T20:34:36.302Z"
   },
   {
    "duration": 14,
    "start_time": "2023-04-10T20:34:36.309Z"
   },
   {
    "duration": 1122,
    "start_time": "2023-04-10T20:34:36.325Z"
   },
   {
    "duration": 9,
    "start_time": "2023-04-10T20:34:37.450Z"
   },
   {
    "duration": 3791,
    "start_time": "2023-04-10T20:34:37.462Z"
   },
   {
    "duration": 3,
    "start_time": "2023-04-10T20:34:41.255Z"
   },
   {
    "duration": 5,
    "start_time": "2023-04-10T20:34:41.260Z"
   },
   {
    "duration": 6,
    "start_time": "2023-04-10T20:34:41.266Z"
   },
   {
    "duration": 18,
    "start_time": "2023-04-10T20:34:41.273Z"
   },
   {
    "duration": 6,
    "start_time": "2023-04-10T20:34:41.293Z"
   },
   {
    "duration": 556,
    "start_time": "2023-04-10T20:34:41.301Z"
   },
   {
    "duration": 51,
    "start_time": "2023-04-10T20:34:41.859Z"
   },
   {
    "duration": 5,
    "start_time": "2023-04-10T20:34:41.912Z"
   },
   {
    "duration": 3472,
    "start_time": "2023-04-10T20:34:41.918Z"
   },
   {
    "duration": 21,
    "start_time": "2023-04-10T20:34:45.392Z"
   },
   {
    "duration": 18,
    "start_time": "2023-04-10T20:34:45.415Z"
   },
   {
    "duration": 20,
    "start_time": "2023-04-10T20:34:45.435Z"
   },
   {
    "duration": 45,
    "start_time": "2023-04-10T20:34:45.457Z"
   },
   {
    "duration": 19,
    "start_time": "2023-04-10T20:34:45.504Z"
   },
   {
    "duration": 7,
    "start_time": "2023-04-10T20:34:45.525Z"
   },
   {
    "duration": 56,
    "start_time": "2023-04-10T20:34:45.533Z"
   },
   {
    "duration": 18,
    "start_time": "2023-04-10T20:34:45.591Z"
   },
   {
    "duration": 147,
    "start_time": "2023-04-10T20:34:45.613Z"
   },
   {
    "duration": 30,
    "start_time": "2023-04-10T20:34:45.761Z"
   },
   {
    "duration": 26,
    "start_time": "2023-04-10T20:34:45.793Z"
   },
   {
    "duration": 15,
    "start_time": "2023-04-10T20:34:45.821Z"
   },
   {
    "duration": 24,
    "start_time": "2023-04-10T20:34:45.837Z"
   },
   {
    "duration": 168,
    "start_time": "2023-04-10T20:34:45.863Z"
   },
   {
    "duration": 19,
    "start_time": "2023-04-10T20:34:46.033Z"
   },
   {
    "duration": 8,
    "start_time": "2023-04-10T20:34:46.054Z"
   },
   {
    "duration": 46,
    "start_time": "2023-04-10T20:34:46.064Z"
   },
   {
    "duration": 4,
    "start_time": "2023-04-10T20:34:46.112Z"
   },
   {
    "duration": 85,
    "start_time": "2023-04-10T20:34:46.118Z"
   },
   {
    "duration": 4,
    "start_time": "2023-04-10T20:34:46.205Z"
   },
   {
    "duration": 100,
    "start_time": "2023-04-10T20:34:46.210Z"
   },
   {
    "duration": 5,
    "start_time": "2023-04-10T20:34:46.312Z"
   },
   {
    "duration": 5,
    "start_time": "2023-04-10T20:34:46.318Z"
   },
   {
    "duration": 76,
    "start_time": "2023-04-10T20:34:46.325Z"
   },
   {
    "duration": 85,
    "start_time": "2023-04-10T20:34:46.404Z"
   },
   {
    "duration": 3,
    "start_time": "2023-04-10T20:34:46.491Z"
   },
   {
    "duration": 94,
    "start_time": "2023-04-10T20:34:46.495Z"
   },
   {
    "duration": 7,
    "start_time": "2023-04-10T20:34:46.591Z"
   },
   {
    "duration": 214,
    "start_time": "2023-04-10T20:34:46.600Z"
   },
   {
    "duration": 13,
    "start_time": "2023-04-10T20:34:46.816Z"
   },
   {
    "duration": 14,
    "start_time": "2023-04-10T20:34:46.830Z"
   },
   {
    "duration": 7,
    "start_time": "2023-04-10T20:34:46.846Z"
   },
   {
    "duration": 35,
    "start_time": "2023-04-10T20:34:46.854Z"
   },
   {
    "duration": 21,
    "start_time": "2023-04-10T20:34:46.891Z"
   },
   {
    "duration": 971,
    "start_time": "2023-04-10T20:34:46.914Z"
   },
   {
    "duration": 3,
    "start_time": "2023-04-10T20:34:47.887Z"
   },
   {
    "duration": 6,
    "start_time": "2023-04-10T20:34:47.893Z"
   },
   {
    "duration": 4,
    "start_time": "2023-04-10T20:34:47.901Z"
   },
   {
    "duration": 4,
    "start_time": "2023-04-10T20:34:47.907Z"
   },
   {
    "duration": 4,
    "start_time": "2023-04-10T20:34:47.913Z"
   },
   {
    "duration": 6,
    "start_time": "2023-04-10T20:34:47.919Z"
   },
   {
    "duration": 8,
    "start_time": "2023-04-10T20:34:47.927Z"
   },
   {
    "duration": 6,
    "start_time": "2023-04-10T20:34:47.938Z"
   },
   {
    "duration": 0,
    "start_time": "2023-04-10T20:34:47.945Z"
   },
   {
    "duration": 0,
    "start_time": "2023-04-10T20:34:47.946Z"
   },
   {
    "duration": 538,
    "start_time": "2023-04-10T20:38:18.367Z"
   },
   {
    "duration": 198,
    "start_time": "2023-04-10T20:52:30.619Z"
   },
   {
    "duration": 696419,
    "start_time": "2023-04-10T20:52:48.677Z"
   },
   {
    "duration": 81,
    "start_time": "2023-04-10T21:05:52.528Z"
   },
   {
    "duration": 56,
    "start_time": "2023-04-10T21:05:59.844Z"
   },
   {
    "duration": 69,
    "start_time": "2023-04-10T21:06:05.471Z"
   },
   {
    "duration": 4,
    "start_time": "2023-04-10T21:06:09.121Z"
   },
   {
    "duration": 37174,
    "start_time": "2023-04-10T21:06:10.452Z"
   },
   {
    "duration": 4,
    "start_time": "2023-04-10T21:11:41.006Z"
   },
   {
    "duration": 127,
    "start_time": "2023-04-10T21:17:04.192Z"
   },
   {
    "duration": 23,
    "start_time": "2023-04-10T21:17:15.627Z"
   },
   {
    "duration": 19,
    "start_time": "2023-04-10T21:17:28.287Z"
   },
   {
    "duration": 52,
    "start_time": "2023-04-11T07:03:20.148Z"
   },
   {
    "duration": 4,
    "start_time": "2023-04-11T07:03:39.017Z"
   },
   {
    "duration": 4,
    "start_time": "2023-04-11T07:03:39.023Z"
   },
   {
    "duration": 1783,
    "start_time": "2023-04-11T07:03:39.029Z"
   },
   {
    "duration": 4,
    "start_time": "2023-04-11T07:03:40.815Z"
   },
   {
    "duration": 10,
    "start_time": "2023-04-11T07:03:40.821Z"
   },
   {
    "duration": 11,
    "start_time": "2023-04-11T07:03:40.833Z"
   },
   {
    "duration": 13,
    "start_time": "2023-04-11T07:03:40.845Z"
   },
   {
    "duration": 1211,
    "start_time": "2023-04-11T07:03:40.859Z"
   },
   {
    "duration": 9,
    "start_time": "2023-04-11T07:03:42.072Z"
   },
   {
    "duration": 3681,
    "start_time": "2023-04-11T07:03:42.084Z"
   },
   {
    "duration": 3,
    "start_time": "2023-04-11T07:03:45.767Z"
   },
   {
    "duration": 21,
    "start_time": "2023-04-11T07:03:45.772Z"
   },
   {
    "duration": 5,
    "start_time": "2023-04-11T07:03:45.795Z"
   },
   {
    "duration": 6,
    "start_time": "2023-04-11T07:03:45.803Z"
   },
   {
    "duration": 540,
    "start_time": "2023-04-11T07:03:45.812Z"
   },
   {
    "duration": 46,
    "start_time": "2023-04-11T07:03:46.354Z"
   },
   {
    "duration": 9,
    "start_time": "2023-04-11T07:03:46.402Z"
   },
   {
    "duration": 3641,
    "start_time": "2023-04-11T07:03:46.413Z"
   },
   {
    "duration": 39,
    "start_time": "2023-04-11T07:03:50.056Z"
   },
   {
    "duration": 36,
    "start_time": "2023-04-11T07:03:50.098Z"
   },
   {
    "duration": 38,
    "start_time": "2023-04-11T07:03:50.136Z"
   },
   {
    "duration": 22,
    "start_time": "2023-04-11T07:03:50.176Z"
   },
   {
    "duration": 28,
    "start_time": "2023-04-11T07:03:50.200Z"
   },
   {
    "duration": 8,
    "start_time": "2023-04-11T07:03:50.231Z"
   },
   {
    "duration": 54,
    "start_time": "2023-04-11T07:03:50.241Z"
   },
   {
    "duration": 24,
    "start_time": "2023-04-11T07:03:50.300Z"
   },
   {
    "duration": 189,
    "start_time": "2023-04-11T07:03:50.327Z"
   },
   {
    "duration": 25,
    "start_time": "2023-04-11T07:03:50.522Z"
   },
   {
    "duration": 19,
    "start_time": "2023-04-11T07:03:50.549Z"
   },
   {
    "duration": 19,
    "start_time": "2023-04-11T07:03:50.590Z"
   },
   {
    "duration": 29,
    "start_time": "2023-04-11T07:03:50.611Z"
   },
   {
    "duration": 172,
    "start_time": "2023-04-11T07:03:50.643Z"
   },
   {
    "duration": 18,
    "start_time": "2023-04-11T07:03:50.817Z"
   },
   {
    "duration": 10,
    "start_time": "2023-04-11T07:03:50.837Z"
   },
   {
    "duration": 52,
    "start_time": "2023-04-11T07:03:50.850Z"
   },
   {
    "duration": 4,
    "start_time": "2023-04-11T07:03:50.904Z"
   },
   {
    "duration": 122,
    "start_time": "2023-04-11T07:03:50.910Z"
   },
   {
    "duration": 3,
    "start_time": "2023-04-11T07:03:51.034Z"
   },
   {
    "duration": 102,
    "start_time": "2023-04-11T07:03:51.039Z"
   },
   {
    "duration": 4,
    "start_time": "2023-04-11T07:03:51.143Z"
   },
   {
    "duration": 18,
    "start_time": "2023-04-11T07:03:51.149Z"
   },
   {
    "duration": 120,
    "start_time": "2023-04-11T07:03:51.169Z"
   },
   {
    "duration": 78,
    "start_time": "2023-04-11T07:03:51.291Z"
   },
   {
    "duration": 3,
    "start_time": "2023-04-11T07:03:51.371Z"
   },
   {
    "duration": 289,
    "start_time": "2023-04-11T07:03:51.376Z"
   },
   {
    "duration": 7,
    "start_time": "2023-04-11T07:03:51.668Z"
   },
   {
    "duration": 251,
    "start_time": "2023-04-11T07:03:51.678Z"
   },
   {
    "duration": 15,
    "start_time": "2023-04-11T07:03:51.930Z"
   },
   {
    "duration": 15,
    "start_time": "2023-04-11T07:03:51.948Z"
   },
   {
    "duration": 24,
    "start_time": "2023-04-11T07:03:51.965Z"
   },
   {
    "duration": 12,
    "start_time": "2023-04-11T07:03:51.992Z"
   },
   {
    "duration": 22,
    "start_time": "2023-04-11T07:03:52.006Z"
   },
   {
    "duration": 170,
    "start_time": "2023-04-11T07:03:52.029Z"
   },
   {
    "duration": 0,
    "start_time": "2023-04-11T07:03:52.201Z"
   },
   {
    "duration": 0,
    "start_time": "2023-04-11T07:03:52.203Z"
   },
   {
    "duration": 0,
    "start_time": "2023-04-11T07:03:52.204Z"
   },
   {
    "duration": 0,
    "start_time": "2023-04-11T07:03:52.206Z"
   },
   {
    "duration": 0,
    "start_time": "2023-04-11T07:03:52.207Z"
   },
   {
    "duration": 0,
    "start_time": "2023-04-11T07:03:52.209Z"
   },
   {
    "duration": 1,
    "start_time": "2023-04-11T07:03:52.209Z"
   },
   {
    "duration": 0,
    "start_time": "2023-04-11T07:03:52.211Z"
   },
   {
    "duration": 0,
    "start_time": "2023-04-11T07:03:52.212Z"
   },
   {
    "duration": 0,
    "start_time": "2023-04-11T07:03:52.213Z"
   },
   {
    "duration": 0,
    "start_time": "2023-04-11T07:03:52.214Z"
   },
   {
    "duration": 0,
    "start_time": "2023-04-11T07:03:52.215Z"
   },
   {
    "duration": 0,
    "start_time": "2023-04-11T07:03:52.216Z"
   },
   {
    "duration": 7161,
    "start_time": "2023-04-11T07:04:31.719Z"
   },
   {
    "duration": 3,
    "start_time": "2023-04-11T07:04:38.882Z"
   },
   {
    "duration": 1383,
    "start_time": "2023-04-11T07:04:38.887Z"
   },
   {
    "duration": 5,
    "start_time": "2023-04-11T07:04:40.272Z"
   },
   {
    "duration": 5,
    "start_time": "2023-04-11T07:04:40.289Z"
   },
   {
    "duration": 4,
    "start_time": "2023-04-11T07:04:40.297Z"
   },
   {
    "duration": 4,
    "start_time": "2023-04-11T07:04:40.303Z"
   },
   {
    "duration": 923,
    "start_time": "2023-04-11T07:04:40.310Z"
   },
   {
    "duration": 10,
    "start_time": "2023-04-11T07:04:41.235Z"
   },
   {
    "duration": 3777,
    "start_time": "2023-04-11T07:04:41.247Z"
   },
   {
    "duration": 3,
    "start_time": "2023-04-11T07:04:45.026Z"
   },
   {
    "duration": 38,
    "start_time": "2023-04-11T07:04:45.031Z"
   },
   {
    "duration": 22,
    "start_time": "2023-04-11T07:04:45.071Z"
   },
   {
    "duration": 5,
    "start_time": "2023-04-11T07:04:45.096Z"
   },
   {
    "duration": 510,
    "start_time": "2023-04-11T07:04:45.103Z"
   },
   {
    "duration": 44,
    "start_time": "2023-04-11T07:04:45.615Z"
   },
   {
    "duration": 8,
    "start_time": "2023-04-11T07:04:45.661Z"
   },
   {
    "duration": 3705,
    "start_time": "2023-04-11T07:04:45.670Z"
   },
   {
    "duration": 29,
    "start_time": "2023-04-11T07:04:49.377Z"
   },
   {
    "duration": 22,
    "start_time": "2023-04-11T07:04:49.408Z"
   },
   {
    "duration": 29,
    "start_time": "2023-04-11T07:04:49.432Z"
   },
   {
    "duration": 57,
    "start_time": "2023-04-11T07:04:49.463Z"
   },
   {
    "duration": 24,
    "start_time": "2023-04-11T07:04:49.522Z"
   },
   {
    "duration": 8,
    "start_time": "2023-04-11T07:04:49.549Z"
   },
   {
    "duration": 59,
    "start_time": "2023-04-11T07:04:49.559Z"
   },
   {
    "duration": 20,
    "start_time": "2023-04-11T07:04:49.620Z"
   },
   {
    "duration": 157,
    "start_time": "2023-04-11T07:04:49.642Z"
   },
   {
    "duration": 18,
    "start_time": "2023-04-11T07:04:49.800Z"
   },
   {
    "duration": 15,
    "start_time": "2023-04-11T07:04:49.820Z"
   },
   {
    "duration": 15,
    "start_time": "2023-04-11T07:04:49.837Z"
   },
   {
    "duration": 56,
    "start_time": "2023-04-11T07:04:49.853Z"
   },
   {
    "duration": 169,
    "start_time": "2023-04-11T07:04:49.911Z"
   },
   {
    "duration": 22,
    "start_time": "2023-04-11T07:04:50.082Z"
   },
   {
    "duration": 8,
    "start_time": "2023-04-11T07:04:50.106Z"
   },
   {
    "duration": 24,
    "start_time": "2023-04-11T07:04:50.116Z"
   },
   {
    "duration": 5,
    "start_time": "2023-04-11T07:04:50.141Z"
   },
   {
    "duration": 118,
    "start_time": "2023-04-11T07:04:50.147Z"
   },
   {
    "duration": 8,
    "start_time": "2023-04-11T07:04:50.267Z"
   },
   {
    "duration": 125,
    "start_time": "2023-04-11T07:04:50.289Z"
   },
   {
    "duration": 6,
    "start_time": "2023-04-11T07:04:50.417Z"
   },
   {
    "duration": 5,
    "start_time": "2023-04-11T07:04:50.429Z"
   },
   {
    "duration": 116,
    "start_time": "2023-04-11T07:04:50.437Z"
   },
   {
    "duration": 114,
    "start_time": "2023-04-11T07:04:50.555Z"
   },
   {
    "duration": 19,
    "start_time": "2023-04-11T07:04:50.671Z"
   },
   {
    "duration": 102,
    "start_time": "2023-04-11T07:04:50.692Z"
   },
   {
    "duration": 11,
    "start_time": "2023-04-11T07:04:50.796Z"
   },
   {
    "duration": 249,
    "start_time": "2023-04-11T07:04:50.809Z"
   },
   {
    "duration": 15,
    "start_time": "2023-04-11T07:04:51.060Z"
   },
   {
    "duration": 23,
    "start_time": "2023-04-11T07:04:51.076Z"
   },
   {
    "duration": 11,
    "start_time": "2023-04-11T07:04:51.100Z"
   },
   {
    "duration": 14,
    "start_time": "2023-04-11T07:04:51.113Z"
   },
   {
    "duration": 26,
    "start_time": "2023-04-11T07:04:51.129Z"
   },
   {
    "duration": 1059,
    "start_time": "2023-04-11T07:04:51.158Z"
   },
   {
    "duration": 559,
    "start_time": "2023-04-11T07:04:52.219Z"
   },
   {
    "duration": 9,
    "start_time": "2023-04-11T07:04:52.780Z"
   },
   {
    "duration": 14,
    "start_time": "2023-04-11T07:04:52.792Z"
   },
   {
    "duration": 743587,
    "start_time": "2023-04-11T07:04:52.809Z"
   },
   {
    "duration": 5,
    "start_time": "2023-04-11T07:17:16.398Z"
   },
   {
    "duration": 56413,
    "start_time": "2023-04-11T07:17:16.491Z"
   },
   {
    "duration": 192,
    "start_time": "2023-04-11T07:18:12.910Z"
   },
   {
    "duration": 6,
    "start_time": "2023-04-11T07:18:13.104Z"
   },
   {
    "duration": 199,
    "start_time": "2023-04-11T07:18:13.112Z"
   },
   {
    "duration": 4,
    "start_time": "2023-04-11T07:18:13.313Z"
   },
   {
    "duration": 191,
    "start_time": "2023-04-11T07:18:13.320Z"
   },
   {
    "duration": 61,
    "start_time": "2023-04-11T07:18:13.513Z"
   },
   {
    "duration": 12,
    "start_time": "2023-04-11T07:18:13.576Z"
   },
   {
    "duration": 1217,
    "start_time": "2023-04-11T07:20:39.018Z"
   },
   {
    "duration": 18,
    "start_time": "2023-04-11T07:26:40.823Z"
   },
   {
    "duration": 7,
    "start_time": "2023-04-11T07:26:40.843Z"
   },
   {
    "duration": 16,
    "start_time": "2023-04-11T07:26:40.891Z"
   },
   {
    "duration": 80,
    "start_time": "2023-04-11T07:26:40.908Z"
   },
   {
    "duration": 16,
    "start_time": "2023-04-11T07:26:51.475Z"
   },
   {
    "duration": 27,
    "start_time": "2023-04-11T07:27:50.175Z"
   },
   {
    "duration": 5,
    "start_time": "2023-04-11T07:37:42.545Z"
   },
   {
    "duration": 79100,
    "start_time": "2023-04-11T07:37:44.411Z"
   },
   {
    "duration": 3,
    "start_time": "2023-04-11T07:39:11.601Z"
   },
   {
    "duration": 5,
    "start_time": "2023-04-11T07:39:13.077Z"
   },
   {
    "duration": 132977,
    "start_time": "2023-04-11T07:39:18.785Z"
   },
   {
    "duration": 7,
    "start_time": "2023-04-11T07:41:46.630Z"
   },
   {
    "duration": 4,
    "start_time": "2023-04-11T07:41:47.527Z"
   },
   {
    "duration": 3,
    "start_time": "2023-04-11T07:41:48.369Z"
   },
   {
    "duration": 4,
    "start_time": "2023-04-11T07:41:50.631Z"
   },
   {
    "duration": 1692642,
    "start_time": "2023-04-11T07:41:53.178Z"
   },
   {
    "duration": 6,
    "start_time": "2023-04-11T08:10:09.732Z"
   },
   {
    "duration": 4,
    "start_time": "2023-04-11T08:10:10.963Z"
   },
   {
    "duration": 4,
    "start_time": "2023-04-11T08:10:12.746Z"
   },
   {
    "duration": 177875,
    "start_time": "2023-04-11T08:10:14.667Z"
   },
   {
    "duration": 4,
    "start_time": "2023-04-11T08:13:15.428Z"
   },
   {
    "duration": 4,
    "start_time": "2023-04-11T08:13:17.675Z"
   },
   {
    "duration": 5,
    "start_time": "2023-04-11T08:13:19.686Z"
   },
   {
    "duration": 649805,
    "start_time": "2023-04-11T08:13:27.230Z"
   },
   {
    "duration": 9,
    "start_time": "2023-04-11T08:24:20.527Z"
   },
   {
    "duration": 47,
    "start_time": "2023-04-11T08:24:21.488Z"
   },
   {
    "duration": 5,
    "start_time": "2023-04-11T08:24:27.007Z"
   },
   {
    "duration": 5,
    "start_time": "2023-04-11T08:24:28.413Z"
   },
   {
    "duration": 196645,
    "start_time": "2023-04-11T08:24:29.738Z"
   },
   {
    "duration": 7,
    "start_time": "2023-04-11T08:29:10.642Z"
   },
   {
    "duration": 5,
    "start_time": "2023-04-11T08:29:11.306Z"
   },
   {
    "duration": 11,
    "start_time": "2023-04-11T08:29:12.000Z"
   },
   {
    "duration": 5,
    "start_time": "2023-04-11T08:29:12.769Z"
   },
   {
    "duration": 2445,
    "start_time": "2023-04-11T08:29:32.710Z"
   },
   {
    "duration": 9,
    "start_time": "2023-04-11T08:29:35.158Z"
   },
   {
    "duration": 1437,
    "start_time": "2023-04-11T08:29:35.168Z"
   },
   {
    "duration": 4,
    "start_time": "2023-04-11T08:29:36.609Z"
   },
   {
    "duration": 19,
    "start_time": "2023-04-11T08:29:36.615Z"
   },
   {
    "duration": 5,
    "start_time": "2023-04-11T08:29:36.636Z"
   },
   {
    "duration": 4,
    "start_time": "2023-04-11T08:29:36.643Z"
   },
   {
    "duration": 994,
    "start_time": "2023-04-11T08:29:36.649Z"
   },
   {
    "duration": 10,
    "start_time": "2023-04-11T08:29:37.646Z"
   },
   {
    "duration": 4424,
    "start_time": "2023-04-11T08:29:37.661Z"
   },
   {
    "duration": 9,
    "start_time": "2023-04-11T08:29:42.091Z"
   },
   {
    "duration": 9,
    "start_time": "2023-04-11T08:29:42.102Z"
   },
   {
    "duration": 5,
    "start_time": "2023-04-11T08:29:42.113Z"
   },
   {
    "duration": 7,
    "start_time": "2023-04-11T08:29:42.120Z"
   },
   {
    "duration": 595,
    "start_time": "2023-04-11T08:29:42.129Z"
   },
   {
    "duration": 45,
    "start_time": "2023-04-11T08:29:42.726Z"
   },
   {
    "duration": 16,
    "start_time": "2023-04-11T08:29:42.773Z"
   },
   {
    "duration": 3773,
    "start_time": "2023-04-11T08:29:42.791Z"
   },
   {
    "duration": 31,
    "start_time": "2023-04-11T08:29:46.566Z"
   },
   {
    "duration": 21,
    "start_time": "2023-04-11T08:29:46.599Z"
   },
   {
    "duration": 29,
    "start_time": "2023-04-11T08:29:46.623Z"
   },
   {
    "duration": 54,
    "start_time": "2023-04-11T08:29:46.655Z"
   },
   {
    "duration": 26,
    "start_time": "2023-04-11T08:29:46.711Z"
   },
   {
    "duration": 7,
    "start_time": "2023-04-11T08:29:46.739Z"
   },
   {
    "duration": 56,
    "start_time": "2023-04-11T08:29:46.748Z"
   },
   {
    "duration": 18,
    "start_time": "2023-04-11T08:29:46.806Z"
   },
   {
    "duration": 152,
    "start_time": "2023-04-11T08:29:46.826Z"
   },
   {
    "duration": 20,
    "start_time": "2023-04-11T08:29:46.993Z"
   },
   {
    "duration": 15,
    "start_time": "2023-04-11T08:29:47.015Z"
   },
   {
    "duration": 35,
    "start_time": "2023-04-11T08:29:47.033Z"
   },
   {
    "duration": 44,
    "start_time": "2023-04-11T08:29:47.070Z"
   },
   {
    "duration": 164,
    "start_time": "2023-04-11T08:29:47.116Z"
   },
   {
    "duration": 19,
    "start_time": "2023-04-11T08:29:47.289Z"
   },
   {
    "duration": 8,
    "start_time": "2023-04-11T08:29:47.309Z"
   },
   {
    "duration": 25,
    "start_time": "2023-04-11T08:29:47.320Z"
   },
   {
    "duration": 4,
    "start_time": "2023-04-11T08:29:47.347Z"
   },
   {
    "duration": 113,
    "start_time": "2023-04-11T08:29:47.353Z"
   },
   {
    "duration": 21,
    "start_time": "2023-04-11T08:29:47.468Z"
   },
   {
    "duration": 102,
    "start_time": "2023-04-11T08:29:47.491Z"
   },
   {
    "duration": 4,
    "start_time": "2023-04-11T08:29:47.595Z"
   },
   {
    "duration": 18,
    "start_time": "2023-04-11T08:29:47.601Z"
   },
   {
    "duration": 74,
    "start_time": "2023-04-11T08:29:47.621Z"
   },
   {
    "duration": 74,
    "start_time": "2023-04-11T08:29:47.697Z"
   },
   {
    "duration": 20,
    "start_time": "2023-04-11T08:29:47.772Z"
   },
   {
    "duration": 103,
    "start_time": "2023-04-11T08:29:47.794Z"
   },
   {
    "duration": 8,
    "start_time": "2023-04-11T08:29:47.898Z"
   },
   {
    "duration": 240,
    "start_time": "2023-04-11T08:29:47.907Z"
   },
   {
    "duration": 19,
    "start_time": "2023-04-11T08:29:48.150Z"
   },
   {
    "duration": 29,
    "start_time": "2023-04-11T08:29:48.172Z"
   },
   {
    "duration": 7,
    "start_time": "2023-04-11T08:29:48.204Z"
   },
   {
    "duration": 16,
    "start_time": "2023-04-11T08:29:48.213Z"
   },
   {
    "duration": 31,
    "start_time": "2023-04-11T08:29:48.231Z"
   },
   {
    "duration": 1058,
    "start_time": "2023-04-11T08:29:48.264Z"
   },
   {
    "duration": 574,
    "start_time": "2023-04-11T08:29:49.324Z"
   },
   {
    "duration": 4,
    "start_time": "2023-04-11T08:29:49.900Z"
   },
   {
    "duration": 12,
    "start_time": "2023-04-11T08:29:49.908Z"
   },
   {
    "duration": 7,
    "start_time": "2023-04-11T08:29:49.922Z"
   },
   {
    "duration": 730460,
    "start_time": "2023-04-11T08:29:49.931Z"
   },
   {
    "duration": 4,
    "start_time": "2023-04-11T08:42:00.394Z"
   },
   {
    "duration": 137,
    "start_time": "2023-04-11T08:42:00.400Z"
   },
   {
    "duration": 45760,
    "start_time": "2023-04-11T08:42:00.541Z"
   },
   {
    "duration": 99,
    "start_time": "2023-04-11T08:42:46.390Z"
   },
   {
    "duration": 6,
    "start_time": "2023-04-11T08:42:46.491Z"
   },
   {
    "duration": 135,
    "start_time": "2023-04-11T08:42:46.499Z"
   },
   {
    "duration": 4,
    "start_time": "2023-04-11T08:42:46.636Z"
   },
   {
    "duration": 4,
    "start_time": "2023-04-11T08:42:46.642Z"
   },
   {
    "duration": 6,
    "start_time": "2023-04-11T08:42:46.648Z"
   },
   {
    "duration": 4852555,
    "start_time": "2023-04-11T08:42:46.655Z"
   },
   {
    "duration": 14,
    "start_time": "2023-04-11T10:03:39.212Z"
   },
   {
    "duration": 0,
    "start_time": "2023-04-11T10:03:39.228Z"
   },
   {
    "duration": 0,
    "start_time": "2023-04-11T10:03:39.229Z"
   },
   {
    "duration": 0,
    "start_time": "2023-04-11T10:03:39.230Z"
   },
   {
    "duration": 0,
    "start_time": "2023-04-11T10:03:39.231Z"
   },
   {
    "duration": 0,
    "start_time": "2023-04-11T10:03:39.233Z"
   },
   {
    "duration": 0,
    "start_time": "2023-04-11T10:03:39.237Z"
   },
   {
    "duration": 3,
    "start_time": "2023-04-11T10:03:40.762Z"
   },
   {
    "duration": 7,
    "start_time": "2023-04-11T10:03:52.511Z"
   },
   {
    "duration": 7,
    "start_time": "2023-04-11T10:03:53.806Z"
   },
   {
    "duration": 4,
    "start_time": "2023-04-11T10:03:55.820Z"
   },
   {
    "duration": 920658,
    "start_time": "2023-04-11T10:03:56.857Z"
   },
   {
    "duration": 4,
    "start_time": "2023-04-11T10:48:39.534Z"
   },
   {
    "duration": 5,
    "start_time": "2023-04-11T10:49:52.199Z"
   },
   {
    "duration": 3,
    "start_time": "2023-04-11T10:49:54.579Z"
   },
   {
    "duration": 5,
    "start_time": "2023-04-11T10:50:02.464Z"
   },
   {
    "duration": 8773,
    "start_time": "2023-04-11T10:50:05.249Z"
   },
   {
    "duration": 4,
    "start_time": "2023-04-11T10:50:24.032Z"
   },
   {
    "duration": 5,
    "start_time": "2023-04-11T10:50:36.988Z"
   },
   {
    "duration": 4,
    "start_time": "2023-04-11T10:50:38.305Z"
   },
   {
    "duration": 3,
    "start_time": "2023-04-11T10:50:45.559Z"
   },
   {
    "duration": 6,
    "start_time": "2023-04-11T10:50:47.428Z"
   },
   {
    "duration": 17122,
    "start_time": "2023-04-11T10:50:49.179Z"
   },
   {
    "duration": 7,
    "start_time": "2023-04-11T10:51:18.203Z"
   },
   {
    "duration": 5,
    "start_time": "2023-04-11T10:51:21.717Z"
   },
   {
    "duration": 39873,
    "start_time": "2023-04-11T10:51:22.672Z"
   },
   {
    "duration": 5,
    "start_time": "2023-04-11T10:52:14.003Z"
   },
   {
    "duration": 4,
    "start_time": "2023-04-11T10:52:35.411Z"
   },
   {
    "duration": 4,
    "start_time": "2023-04-11T10:52:36.478Z"
   },
   {
    "duration": 139018,
    "start_time": "2023-04-11T10:52:38.286Z"
   },
   {
    "duration": 4,
    "start_time": "2023-04-11T10:55:35.226Z"
   },
   {
    "duration": 4,
    "start_time": "2023-04-11T11:01:00.546Z"
   },
   {
    "duration": 41948,
    "start_time": "2023-04-11T11:01:01.756Z"
   },
   {
    "duration": 55,
    "start_time": "2023-04-11T11:01:46.916Z"
   },
   {
    "duration": 6,
    "start_time": "2023-04-11T11:01:48.551Z"
   },
   {
    "duration": 4,
    "start_time": "2023-04-11T11:09:34.137Z"
   },
   {
    "duration": 4,
    "start_time": "2023-04-11T11:09:35.519Z"
   },
   {
    "duration": 5,
    "start_time": "2023-04-11T11:09:38.119Z"
   },
   {
    "duration": 4,
    "start_time": "2023-04-11T11:09:58.855Z"
   },
   {
    "duration": 4,
    "start_time": "2023-04-11T11:10:01.121Z"
   },
   {
    "duration": 122,
    "start_time": "2023-04-11T11:10:02.518Z"
   },
   {
    "duration": 5,
    "start_time": "2023-04-11T11:11:37.717Z"
   },
   {
    "duration": 6,
    "start_time": "2023-04-11T11:11:39.113Z"
   },
   {
    "duration": 6,
    "start_time": "2023-04-11T11:11:40.379Z"
   },
   {
    "duration": 92,
    "start_time": "2023-04-11T11:11:41.944Z"
   },
   {
    "duration": 85,
    "start_time": "2023-04-11T11:11:49.727Z"
   },
   {
    "duration": 4,
    "start_time": "2023-04-11T11:12:07.271Z"
   },
   {
    "duration": 4,
    "start_time": "2023-04-11T11:12:08.131Z"
   },
   {
    "duration": 4,
    "start_time": "2023-04-11T11:12:09.950Z"
   },
   {
    "duration": 76,
    "start_time": "2023-04-11T11:12:11.393Z"
   },
   {
    "duration": 5,
    "start_time": "2023-04-11T11:13:17.677Z"
   },
   {
    "duration": 3,
    "start_time": "2023-04-11T11:13:18.627Z"
   },
   {
    "duration": 5,
    "start_time": "2023-04-11T11:13:20.282Z"
   },
   {
    "duration": 127,
    "start_time": "2023-04-11T11:13:22.121Z"
   },
   {
    "duration": 4,
    "start_time": "2023-04-11T11:14:02.942Z"
   },
   {
    "duration": 3,
    "start_time": "2023-04-11T11:14:03.844Z"
   },
   {
    "duration": 6,
    "start_time": "2023-04-11T11:14:04.918Z"
   },
   {
    "duration": 634,
    "start_time": "2023-04-11T11:14:06.027Z"
   },
   {
    "duration": 5,
    "start_time": "2023-04-11T11:14:39.817Z"
   },
   {
    "duration": 3,
    "start_time": "2023-04-11T11:14:40.821Z"
   },
   {
    "duration": 5,
    "start_time": "2023-04-11T11:14:44.217Z"
   },
   {
    "duration": 182691,
    "start_time": "2023-04-11T11:14:45.324Z"
   },
   {
    "duration": 5,
    "start_time": "2023-04-11T11:17:51.546Z"
   },
   {
    "duration": 4,
    "start_time": "2023-04-11T11:17:52.826Z"
   },
   {
    "duration": 5,
    "start_time": "2023-04-11T11:17:55.555Z"
   },
   {
    "duration": 46029,
    "start_time": "2023-04-11T11:17:57.258Z"
   },
   {
    "duration": 5,
    "start_time": "2023-04-11T11:18:58.038Z"
   },
   {
    "duration": 5,
    "start_time": "2023-04-11T11:18:58.722Z"
   },
   {
    "duration": 3,
    "start_time": "2023-04-11T11:18:59.849Z"
   },
   {
    "duration": 5,
    "start_time": "2023-04-11T11:19:01.837Z"
   },
   {
    "duration": 197622,
    "start_time": "2023-04-11T11:19:02.901Z"
   },
   {
    "duration": 4,
    "start_time": "2023-04-11T11:25:21.130Z"
   },
   {
    "duration": 5,
    "start_time": "2023-04-11T11:25:22.517Z"
   },
   {
    "duration": 11,
    "start_time": "2023-04-11T11:25:25.613Z"
   },
   {
    "duration": 1152556,
    "start_time": "2023-04-11T11:25:27.324Z"
   },
   {
    "duration": 546,
    "start_time": "2023-04-11T11:44:39.883Z"
   },
   {
    "duration": 336,
    "start_time": "2023-04-11T11:44:53.606Z"
   },
   {
    "duration": 351,
    "start_time": "2023-04-11T11:45:02.718Z"
   },
   {
    "duration": 389,
    "start_time": "2023-04-11T11:45:06.550Z"
   },
   {
    "duration": 7,
    "start_time": "2023-04-11T11:55:47.227Z"
   },
   {
    "duration": 142,
    "start_time": "2023-04-11T12:01:05.320Z"
   },
   {
    "duration": 189,
    "start_time": "2023-04-11T12:01:10.271Z"
   },
   {
    "duration": 1449,
    "start_time": "2023-04-11T12:01:48.837Z"
   },
   {
    "duration": 3408,
    "start_time": "2023-04-11T12:02:15.353Z"
   },
   {
    "duration": 398,
    "start_time": "2023-04-11T12:02:27.762Z"
   },
   {
    "duration": 329,
    "start_time": "2023-04-11T12:02:42.733Z"
   },
   {
    "duration": 452,
    "start_time": "2023-04-11T12:02:57.050Z"
   },
   {
    "duration": 331,
    "start_time": "2023-04-11T12:03:02.213Z"
   },
   {
    "duration": 18,
    "start_time": "2023-04-11T12:04:24.617Z"
   },
   {
    "duration": 9,
    "start_time": "2023-04-11T12:04:25.513Z"
   },
   {
    "duration": 6,
    "start_time": "2023-04-11T12:04:29.334Z"
   },
   {
    "duration": 13,
    "start_time": "2023-04-11T12:04:30.490Z"
   },
   {
    "duration": 2480,
    "start_time": "2023-04-11T12:04:57.321Z"
   },
   {
    "duration": 3,
    "start_time": "2023-04-11T12:04:59.805Z"
   },
   {
    "duration": 13,
    "start_time": "2023-04-11T12:04:59.811Z"
   },
   {
    "duration": 4,
    "start_time": "2023-04-11T12:04:59.826Z"
   },
   {
    "duration": 5,
    "start_time": "2023-04-11T12:04:59.833Z"
   },
   {
    "duration": 6,
    "start_time": "2023-04-11T12:04:59.839Z"
   },
   {
    "duration": 5,
    "start_time": "2023-04-11T12:04:59.846Z"
   },
   {
    "duration": 1067,
    "start_time": "2023-04-11T12:04:59.853Z"
   },
   {
    "duration": 11,
    "start_time": "2023-04-11T12:05:00.923Z"
   },
   {
    "duration": 4194,
    "start_time": "2023-04-11T12:05:00.936Z"
   },
   {
    "duration": 3,
    "start_time": "2023-04-11T12:05:05.132Z"
   },
   {
    "duration": 6,
    "start_time": "2023-04-11T12:05:05.137Z"
   },
   {
    "duration": 6,
    "start_time": "2023-04-11T12:05:05.145Z"
   },
   {
    "duration": 7,
    "start_time": "2023-04-11T12:05:05.155Z"
   },
   {
    "duration": 547,
    "start_time": "2023-04-11T12:05:05.164Z"
   },
   {
    "duration": 40,
    "start_time": "2023-04-11T12:05:05.715Z"
   },
   {
    "duration": 4,
    "start_time": "2023-04-11T12:05:05.757Z"
   },
   {
    "duration": 3725,
    "start_time": "2023-04-11T12:05:05.763Z"
   },
   {
    "duration": 30,
    "start_time": "2023-04-11T12:05:09.490Z"
   },
   {
    "duration": 23,
    "start_time": "2023-04-11T12:05:09.524Z"
   },
   {
    "duration": 20,
    "start_time": "2023-04-11T12:05:09.550Z"
   },
   {
    "duration": 50,
    "start_time": "2023-04-11T12:05:09.571Z"
   },
   {
    "duration": 27,
    "start_time": "2023-04-11T12:05:09.624Z"
   },
   {
    "duration": 12,
    "start_time": "2023-04-11T12:05:09.653Z"
   },
   {
    "duration": 44,
    "start_time": "2023-04-11T12:05:09.666Z"
   },
   {
    "duration": 869,
    "start_time": "2023-04-11T12:05:09.713Z"
   },
   {
    "duration": 0,
    "start_time": "2023-04-11T12:05:10.583Z"
   },
   {
    "duration": 0,
    "start_time": "2023-04-11T12:05:10.585Z"
   },
   {
    "duration": 0,
    "start_time": "2023-04-11T12:05:10.586Z"
   },
   {
    "duration": 0,
    "start_time": "2023-04-11T12:05:10.587Z"
   },
   {
    "duration": 0,
    "start_time": "2023-04-11T12:05:10.588Z"
   },
   {
    "duration": 0,
    "start_time": "2023-04-11T12:05:10.594Z"
   },
   {
    "duration": 0,
    "start_time": "2023-04-11T12:05:10.596Z"
   },
   {
    "duration": 0,
    "start_time": "2023-04-11T12:05:10.598Z"
   },
   {
    "duration": 0,
    "start_time": "2023-04-11T12:05:10.599Z"
   },
   {
    "duration": 0,
    "start_time": "2023-04-11T12:05:10.600Z"
   },
   {
    "duration": 0,
    "start_time": "2023-04-11T12:05:10.602Z"
   },
   {
    "duration": 0,
    "start_time": "2023-04-11T12:05:10.604Z"
   },
   {
    "duration": 0,
    "start_time": "2023-04-11T12:05:10.606Z"
   },
   {
    "duration": 0,
    "start_time": "2023-04-11T12:05:10.608Z"
   },
   {
    "duration": 0,
    "start_time": "2023-04-11T12:05:10.609Z"
   },
   {
    "duration": 0,
    "start_time": "2023-04-11T12:05:10.611Z"
   },
   {
    "duration": 0,
    "start_time": "2023-04-11T12:05:10.612Z"
   },
   {
    "duration": 0,
    "start_time": "2023-04-11T12:05:10.613Z"
   },
   {
    "duration": 0,
    "start_time": "2023-04-11T12:05:10.615Z"
   },
   {
    "duration": 163,
    "start_time": "2023-04-11T12:05:49.650Z"
   },
   {
    "duration": 419,
    "start_time": "2023-04-11T12:06:21.377Z"
   },
   {
    "duration": 320,
    "start_time": "2023-04-11T12:08:09.561Z"
   },
   {
    "duration": 362,
    "start_time": "2023-04-11T12:08:22.669Z"
   },
   {
    "duration": 366,
    "start_time": "2023-04-11T12:08:30.606Z"
   },
   {
    "duration": 16,
    "start_time": "2023-04-11T12:08:41.730Z"
   },
   {
    "duration": 514,
    "start_time": "2023-04-11T12:10:04.735Z"
   },
   {
    "duration": 332,
    "start_time": "2023-04-11T12:10:13.634Z"
   },
   {
    "duration": 2442,
    "start_time": "2023-04-11T12:11:03.872Z"
   },
   {
    "duration": 4,
    "start_time": "2023-04-11T12:11:06.317Z"
   },
   {
    "duration": 19,
    "start_time": "2023-04-11T12:11:06.323Z"
   },
   {
    "duration": 12,
    "start_time": "2023-04-11T12:11:06.345Z"
   },
   {
    "duration": 13,
    "start_time": "2023-04-11T12:11:06.358Z"
   },
   {
    "duration": 9,
    "start_time": "2023-04-11T12:11:06.373Z"
   },
   {
    "duration": 8,
    "start_time": "2023-04-11T12:11:06.384Z"
   },
   {
    "duration": 845,
    "start_time": "2023-04-11T12:11:06.395Z"
   },
   {
    "duration": 9,
    "start_time": "2023-04-11T12:11:07.241Z"
   },
   {
    "duration": 4232,
    "start_time": "2023-04-11T12:11:07.253Z"
   },
   {
    "duration": 4,
    "start_time": "2023-04-11T12:11:11.487Z"
   },
   {
    "duration": 47,
    "start_time": "2023-04-11T12:11:11.493Z"
   },
   {
    "duration": 16,
    "start_time": "2023-04-11T12:11:11.542Z"
   },
   {
    "duration": 29,
    "start_time": "2023-04-11T12:11:11.560Z"
   },
   {
    "duration": 542,
    "start_time": "2023-04-11T12:11:11.591Z"
   },
   {
    "duration": 40,
    "start_time": "2023-04-11T12:11:12.135Z"
   },
   {
    "duration": 16,
    "start_time": "2023-04-11T12:11:12.177Z"
   },
   {
    "duration": 3630,
    "start_time": "2023-04-11T12:11:12.197Z"
   },
   {
    "duration": 21,
    "start_time": "2023-04-11T12:11:15.829Z"
   },
   {
    "duration": 25,
    "start_time": "2023-04-11T12:11:15.852Z"
   },
   {
    "duration": 37,
    "start_time": "2023-04-11T12:11:15.879Z"
   },
   {
    "duration": 31,
    "start_time": "2023-04-11T12:11:15.919Z"
   },
   {
    "duration": 19,
    "start_time": "2023-04-11T12:11:15.952Z"
   },
   {
    "duration": 22,
    "start_time": "2023-04-11T12:11:15.974Z"
   },
   {
    "duration": 32,
    "start_time": "2023-04-11T12:11:15.998Z"
   },
   {
    "duration": 173,
    "start_time": "2023-04-11T12:11:16.032Z"
   },
   {
    "duration": 354,
    "start_time": "2023-04-11T12:11:16.207Z"
   },
   {
    "duration": 330,
    "start_time": "2023-04-11T12:11:16.565Z"
   },
   {
    "duration": 22,
    "start_time": "2023-04-11T12:11:16.897Z"
   },
   {
    "duration": 13,
    "start_time": "2023-04-11T12:11:16.920Z"
   },
   {
    "duration": 34,
    "start_time": "2023-04-11T12:11:16.935Z"
   },
   {
    "duration": 41,
    "start_time": "2023-04-11T12:11:16.971Z"
   },
   {
    "duration": 155,
    "start_time": "2023-04-11T12:11:17.014Z"
   },
   {
    "duration": 334,
    "start_time": "2023-04-11T12:11:17.174Z"
   },
   {
    "duration": 319,
    "start_time": "2023-04-11T12:11:17.518Z"
   },
   {
    "duration": 17,
    "start_time": "2023-04-11T12:11:17.839Z"
   },
   {
    "duration": 8,
    "start_time": "2023-04-11T12:11:17.858Z"
   },
   {
    "duration": 45,
    "start_time": "2023-04-11T12:11:17.867Z"
   },
   {
    "duration": 7,
    "start_time": "2023-04-11T12:11:17.915Z"
   },
   {
    "duration": 92,
    "start_time": "2023-04-11T12:11:17.924Z"
   },
   {
    "duration": 5,
    "start_time": "2023-04-11T12:11:18.018Z"
   },
   {
    "duration": 92,
    "start_time": "2023-04-11T12:11:18.024Z"
   },
   {
    "duration": 4,
    "start_time": "2023-04-11T12:11:18.118Z"
   },
   {
    "duration": 9,
    "start_time": "2023-04-11T12:11:18.124Z"
   },
   {
    "duration": 78,
    "start_time": "2023-04-11T12:11:18.135Z"
   },
   {
    "duration": 62,
    "start_time": "2023-04-11T12:11:18.216Z"
   },
   {
    "duration": 23,
    "start_time": "2023-04-11T12:12:00.162Z"
   },
   {
    "duration": 13,
    "start_time": "2023-04-11T12:12:10.856Z"
   },
   {
    "duration": 16,
    "start_time": "2023-04-11T12:12:37.834Z"
   },
   {
    "duration": 23,
    "start_time": "2023-04-11T12:12:38.542Z"
   },
   {
    "duration": 21,
    "start_time": "2023-04-11T12:12:39.858Z"
   },
   {
    "duration": 19,
    "start_time": "2023-04-11T12:12:40.602Z"
   },
   {
    "duration": 2364,
    "start_time": "2023-04-11T12:20:05.026Z"
   },
   {
    "duration": 3,
    "start_time": "2023-04-11T12:20:07.395Z"
   },
   {
    "duration": 17,
    "start_time": "2023-04-11T12:20:07.401Z"
   },
   {
    "duration": 6,
    "start_time": "2023-04-11T12:20:07.420Z"
   },
   {
    "duration": 8,
    "start_time": "2023-04-11T12:20:07.428Z"
   },
   {
    "duration": 4,
    "start_time": "2023-04-11T12:20:07.437Z"
   },
   {
    "duration": 4,
    "start_time": "2023-04-11T12:20:07.443Z"
   },
   {
    "duration": 847,
    "start_time": "2023-04-11T12:20:07.449Z"
   },
   {
    "duration": 13,
    "start_time": "2023-04-11T12:20:08.304Z"
   },
   {
    "duration": 4228,
    "start_time": "2023-04-11T12:20:08.319Z"
   },
   {
    "duration": 2,
    "start_time": "2023-04-11T12:20:12.549Z"
   },
   {
    "duration": 25,
    "start_time": "2023-04-11T12:20:12.553Z"
   },
   {
    "duration": 6,
    "start_time": "2023-04-11T12:20:12.580Z"
   },
   {
    "duration": 20,
    "start_time": "2023-04-11T12:20:12.590Z"
   },
   {
    "duration": 511,
    "start_time": "2023-04-11T12:20:12.612Z"
   },
   {
    "duration": 39,
    "start_time": "2023-04-11T12:20:13.124Z"
   },
   {
    "duration": 4,
    "start_time": "2023-04-11T12:20:13.165Z"
   },
   {
    "duration": 3642,
    "start_time": "2023-04-11T12:20:13.171Z"
   },
   {
    "duration": 23,
    "start_time": "2023-04-11T12:20:16.816Z"
   },
   {
    "duration": 29,
    "start_time": "2023-04-11T12:20:16.841Z"
   },
   {
    "duration": 52,
    "start_time": "2023-04-11T12:20:16.872Z"
   },
   {
    "duration": 19,
    "start_time": "2023-04-11T12:20:16.926Z"
   },
   {
    "duration": 24,
    "start_time": "2023-04-11T12:20:16.947Z"
   },
   {
    "duration": 38,
    "start_time": "2023-04-11T12:20:16.973Z"
   },
   {
    "duration": 21,
    "start_time": "2023-04-11T12:20:17.013Z"
   },
   {
    "duration": 15,
    "start_time": "2023-04-11T12:20:17.035Z"
   },
   {
    "duration": 25,
    "start_time": "2023-04-11T12:20:17.053Z"
   },
   {
    "duration": 155,
    "start_time": "2023-04-11T12:20:17.092Z"
   },
   {
    "duration": 367,
    "start_time": "2023-04-11T12:20:17.249Z"
   },
   {
    "duration": 323,
    "start_time": "2023-04-11T12:20:17.621Z"
   },
   {
    "duration": 17,
    "start_time": "2023-04-11T12:20:17.946Z"
   },
   {
    "duration": 31,
    "start_time": "2023-04-11T12:20:17.965Z"
   },
   {
    "duration": 19,
    "start_time": "2023-04-11T12:20:17.999Z"
   },
   {
    "duration": 25,
    "start_time": "2023-04-11T12:20:18.020Z"
   },
   {
    "duration": 177,
    "start_time": "2023-04-11T12:20:18.047Z"
   },
   {
    "duration": 599,
    "start_time": "2023-04-11T12:20:18.226Z"
   },
   {
    "duration": 319,
    "start_time": "2023-04-11T12:20:18.827Z"
   },
   {
    "duration": 16,
    "start_time": "2023-04-11T12:20:19.148Z"
   },
   {
    "duration": 24,
    "start_time": "2023-04-11T12:20:19.166Z"
   },
   {
    "duration": 24,
    "start_time": "2023-04-11T12:20:19.192Z"
   },
   {
    "duration": 4,
    "start_time": "2023-04-11T12:20:19.221Z"
   },
   {
    "duration": 93,
    "start_time": "2023-04-11T12:20:19.227Z"
   },
   {
    "duration": 5,
    "start_time": "2023-04-11T12:20:19.323Z"
   },
   {
    "duration": 99,
    "start_time": "2023-04-11T12:20:19.330Z"
   },
   {
    "duration": 5,
    "start_time": "2023-04-11T12:20:19.431Z"
   },
   {
    "duration": 15,
    "start_time": "2023-04-11T12:20:19.438Z"
   },
   {
    "duration": 81,
    "start_time": "2023-04-11T12:20:19.455Z"
   },
   {
    "duration": 21,
    "start_time": "2023-04-11T12:20:19.538Z"
   },
   {
    "duration": 80,
    "start_time": "2023-04-11T12:20:19.561Z"
   },
   {
    "duration": 2949,
    "start_time": "2023-04-11T12:21:17.330Z"
   },
   {
    "duration": 15,
    "start_time": "2023-04-11T12:21:32.619Z"
   },
   {
    "duration": 11,
    "start_time": "2023-04-11T12:21:42.277Z"
   },
   {
    "duration": 10,
    "start_time": "2023-04-11T12:21:45.540Z"
   },
   {
    "duration": 76,
    "start_time": "2023-04-11T12:21:59.769Z"
   },
   {
    "duration": 6,
    "start_time": "2023-04-11T12:22:00.401Z"
   },
   {
    "duration": 6,
    "start_time": "2023-04-11T12:22:01.366Z"
   },
   {
    "duration": 85,
    "start_time": "2023-04-11T12:22:02.281Z"
   },
   {
    "duration": 2369,
    "start_time": "2023-04-11T12:22:51.587Z"
   },
   {
    "duration": 3,
    "start_time": "2023-04-11T12:22:53.958Z"
   },
   {
    "duration": 1396,
    "start_time": "2023-04-11T12:22:53.963Z"
   },
   {
    "duration": 5,
    "start_time": "2023-04-11T12:22:55.363Z"
   },
   {
    "duration": 5,
    "start_time": "2023-04-11T12:22:55.370Z"
   },
   {
    "duration": 5,
    "start_time": "2023-04-11T12:22:55.376Z"
   },
   {
    "duration": 3,
    "start_time": "2023-04-11T12:22:55.393Z"
   },
   {
    "duration": 1037,
    "start_time": "2023-04-11T12:22:55.399Z"
   },
   {
    "duration": 9,
    "start_time": "2023-04-11T12:22:56.438Z"
   },
   {
    "duration": 4321,
    "start_time": "2023-04-11T12:22:56.449Z"
   },
   {
    "duration": 3,
    "start_time": "2023-04-11T12:23:00.771Z"
   },
   {
    "duration": 64,
    "start_time": "2023-04-11T12:23:00.776Z"
   },
   {
    "duration": 23,
    "start_time": "2023-04-11T12:23:00.842Z"
   },
   {
    "duration": 41,
    "start_time": "2023-04-11T12:23:00.869Z"
   },
   {
    "duration": 699,
    "start_time": "2023-04-11T12:23:00.911Z"
   },
   {
    "duration": 52,
    "start_time": "2023-04-11T12:23:01.612Z"
   },
   {
    "duration": 28,
    "start_time": "2023-04-11T12:23:01.666Z"
   },
   {
    "duration": 3772,
    "start_time": "2023-04-11T12:23:01.697Z"
   },
   {
    "duration": 23,
    "start_time": "2023-04-11T12:23:05.471Z"
   },
   {
    "duration": 40,
    "start_time": "2023-04-11T12:23:05.497Z"
   },
   {
    "duration": 28,
    "start_time": "2023-04-11T12:23:05.539Z"
   },
   {
    "duration": 107,
    "start_time": "2023-04-11T12:23:05.569Z"
   },
   {
    "duration": 29,
    "start_time": "2023-04-11T12:23:05.689Z"
   },
   {
    "duration": 20,
    "start_time": "2023-04-11T12:23:05.720Z"
   },
   {
    "duration": 19,
    "start_time": "2023-04-11T12:23:05.741Z"
   },
   {
    "duration": 56,
    "start_time": "2023-04-11T12:23:05.762Z"
   },
   {
    "duration": 6,
    "start_time": "2023-04-11T12:23:05.820Z"
   },
   {
    "duration": 40,
    "start_time": "2023-04-11T12:23:05.828Z"
   },
   {
    "duration": 187,
    "start_time": "2023-04-11T12:23:05.869Z"
   },
   {
    "duration": 358,
    "start_time": "2023-04-11T12:23:06.057Z"
   },
   {
    "duration": 510,
    "start_time": "2023-04-11T12:23:06.417Z"
   },
   {
    "duration": 18,
    "start_time": "2023-04-11T12:23:06.929Z"
   },
   {
    "duration": 15,
    "start_time": "2023-04-11T12:23:06.949Z"
   },
   {
    "duration": 40,
    "start_time": "2023-04-11T12:23:06.966Z"
   },
   {
    "duration": 25,
    "start_time": "2023-04-11T12:23:07.008Z"
   },
   {
    "duration": 175,
    "start_time": "2023-04-11T12:23:07.035Z"
   },
   {
    "duration": 358,
    "start_time": "2023-04-11T12:23:07.212Z"
   },
   {
    "duration": 335,
    "start_time": "2023-04-11T12:23:07.572Z"
   },
   {
    "duration": 28,
    "start_time": "2023-04-11T12:23:07.909Z"
   },
   {
    "duration": 8,
    "start_time": "2023-04-11T12:23:07.940Z"
   },
   {
    "duration": 55,
    "start_time": "2023-04-11T12:23:07.954Z"
   },
   {
    "duration": 5,
    "start_time": "2023-04-11T12:23:08.012Z"
   },
   {
    "duration": 85,
    "start_time": "2023-04-11T12:23:08.019Z"
   },
   {
    "duration": 5,
    "start_time": "2023-04-11T12:23:08.107Z"
   },
   {
    "duration": 100,
    "start_time": "2023-04-11T12:23:08.114Z"
   },
   {
    "duration": 8,
    "start_time": "2023-04-11T12:23:08.216Z"
   },
   {
    "duration": 48,
    "start_time": "2023-04-11T12:23:08.225Z"
   },
   {
    "duration": 67,
    "start_time": "2023-04-11T12:23:08.275Z"
   },
   {
    "duration": 21,
    "start_time": "2023-04-11T12:23:08.344Z"
   },
   {
    "duration": 92,
    "start_time": "2023-04-11T12:23:08.367Z"
   },
   {
    "duration": 88,
    "start_time": "2023-04-11T12:23:08.461Z"
   },
   {
    "duration": 6,
    "start_time": "2023-04-11T12:23:08.551Z"
   },
   {
    "duration": 159,
    "start_time": "2023-04-11T12:23:08.559Z"
   },
   {
    "duration": 13,
    "start_time": "2023-04-11T12:23:08.720Z"
   },
   {
    "duration": 23,
    "start_time": "2023-04-11T12:23:08.735Z"
   },
   {
    "duration": 10,
    "start_time": "2023-04-11T12:23:08.760Z"
   },
   {
    "duration": 41,
    "start_time": "2023-04-11T12:23:08.772Z"
   },
   {
    "duration": 1038,
    "start_time": "2023-04-11T12:23:08.815Z"
   },
   {
    "duration": 625,
    "start_time": "2023-04-11T12:23:09.856Z"
   },
   {
    "duration": 15,
    "start_time": "2023-04-11T12:23:10.483Z"
   },
   {
    "duration": 16,
    "start_time": "2023-04-11T12:23:10.500Z"
   },
   {
    "duration": 7,
    "start_time": "2023-04-11T12:23:10.518Z"
   },
   {
    "duration": 2288,
    "start_time": "2023-04-11T12:25:49.601Z"
   },
   {
    "duration": 3,
    "start_time": "2023-04-11T12:25:51.892Z"
   },
   {
    "duration": 1310,
    "start_time": "2023-04-11T12:25:51.898Z"
   },
   {
    "duration": 3,
    "start_time": "2023-04-11T12:25:53.211Z"
   },
   {
    "duration": 10,
    "start_time": "2023-04-11T12:25:53.216Z"
   },
   {
    "duration": 6,
    "start_time": "2023-04-11T12:25:53.228Z"
   },
   {
    "duration": 5,
    "start_time": "2023-04-11T12:25:53.236Z"
   },
   {
    "duration": 906,
    "start_time": "2023-04-11T12:25:53.243Z"
   },
   {
    "duration": 8,
    "start_time": "2023-04-11T12:25:54.151Z"
   },
   {
    "duration": 4276,
    "start_time": "2023-04-11T12:25:54.162Z"
   },
   {
    "duration": 3,
    "start_time": "2023-04-11T12:25:58.440Z"
   },
   {
    "duration": 16,
    "start_time": "2023-04-11T12:25:58.445Z"
   },
   {
    "duration": 6,
    "start_time": "2023-04-11T12:25:58.463Z"
   },
   {
    "duration": 10,
    "start_time": "2023-04-11T12:25:58.471Z"
   },
   {
    "duration": 596,
    "start_time": "2023-04-11T12:25:58.490Z"
   },
   {
    "duration": 51,
    "start_time": "2023-04-11T12:25:59.088Z"
   },
   {
    "duration": 5,
    "start_time": "2023-04-11T12:25:59.141Z"
   },
   {
    "duration": 3564,
    "start_time": "2023-04-11T12:25:59.148Z"
   },
   {
    "duration": 20,
    "start_time": "2023-04-11T12:26:02.714Z"
   },
   {
    "duration": 29,
    "start_time": "2023-04-11T12:26:02.736Z"
   },
   {
    "duration": 44,
    "start_time": "2023-04-11T12:26:02.767Z"
   },
   {
    "duration": 145,
    "start_time": "2023-04-11T12:26:02.813Z"
   },
   {
    "duration": 0,
    "start_time": "2023-04-11T12:26:02.961Z"
   },
   {
    "duration": 0,
    "start_time": "2023-04-11T12:26:02.963Z"
   },
   {
    "duration": 0,
    "start_time": "2023-04-11T12:26:02.965Z"
   },
   {
    "duration": 0,
    "start_time": "2023-04-11T12:26:02.966Z"
   },
   {
    "duration": 0,
    "start_time": "2023-04-11T12:26:02.967Z"
   },
   {
    "duration": 1,
    "start_time": "2023-04-11T12:26:02.968Z"
   },
   {
    "duration": 0,
    "start_time": "2023-04-11T12:26:02.970Z"
   },
   {
    "duration": 0,
    "start_time": "2023-04-11T12:26:02.971Z"
   },
   {
    "duration": 0,
    "start_time": "2023-04-11T12:26:02.972Z"
   },
   {
    "duration": 0,
    "start_time": "2023-04-11T12:26:02.973Z"
   },
   {
    "duration": 0,
    "start_time": "2023-04-11T12:26:02.973Z"
   },
   {
    "duration": 0,
    "start_time": "2023-04-11T12:26:02.974Z"
   },
   {
    "duration": 0,
    "start_time": "2023-04-11T12:26:02.975Z"
   },
   {
    "duration": 0,
    "start_time": "2023-04-11T12:26:02.990Z"
   },
   {
    "duration": 0,
    "start_time": "2023-04-11T12:26:02.992Z"
   },
   {
    "duration": 0,
    "start_time": "2023-04-11T12:26:02.997Z"
   },
   {
    "duration": 0,
    "start_time": "2023-04-11T12:26:02.999Z"
   },
   {
    "duration": 0,
    "start_time": "2023-04-11T12:26:03.000Z"
   },
   {
    "duration": 0,
    "start_time": "2023-04-11T12:26:03.001Z"
   },
   {
    "duration": 0,
    "start_time": "2023-04-11T12:26:03.003Z"
   },
   {
    "duration": 0,
    "start_time": "2023-04-11T12:26:03.004Z"
   },
   {
    "duration": 0,
    "start_time": "2023-04-11T12:26:03.005Z"
   },
   {
    "duration": 0,
    "start_time": "2023-04-11T12:26:03.007Z"
   },
   {
    "duration": 0,
    "start_time": "2023-04-11T12:26:03.008Z"
   },
   {
    "duration": 0,
    "start_time": "2023-04-11T12:26:03.010Z"
   },
   {
    "duration": 0,
    "start_time": "2023-04-11T12:26:03.011Z"
   },
   {
    "duration": 0,
    "start_time": "2023-04-11T12:26:03.013Z"
   },
   {
    "duration": 0,
    "start_time": "2023-04-11T12:26:03.015Z"
   },
   {
    "duration": 0,
    "start_time": "2023-04-11T12:26:03.016Z"
   },
   {
    "duration": 0,
    "start_time": "2023-04-11T12:26:03.018Z"
   },
   {
    "duration": 0,
    "start_time": "2023-04-11T12:26:03.020Z"
   },
   {
    "duration": 0,
    "start_time": "2023-04-11T12:26:03.021Z"
   },
   {
    "duration": 0,
    "start_time": "2023-04-11T12:26:03.022Z"
   },
   {
    "duration": 0,
    "start_time": "2023-04-11T12:26:03.024Z"
   },
   {
    "duration": 0,
    "start_time": "2023-04-11T12:26:03.025Z"
   },
   {
    "duration": 0,
    "start_time": "2023-04-11T12:26:03.026Z"
   },
   {
    "duration": 0,
    "start_time": "2023-04-11T12:26:03.027Z"
   },
   {
    "duration": 0,
    "start_time": "2023-04-11T12:26:03.090Z"
   },
   {
    "duration": 0,
    "start_time": "2023-04-11T12:26:03.091Z"
   },
   {
    "duration": 0,
    "start_time": "2023-04-11T12:26:03.093Z"
   },
   {
    "duration": 0,
    "start_time": "2023-04-11T12:26:03.094Z"
   },
   {
    "duration": 0,
    "start_time": "2023-04-11T12:26:03.095Z"
   },
   {
    "duration": 0,
    "start_time": "2023-04-11T12:26:03.097Z"
   },
   {
    "duration": 0,
    "start_time": "2023-04-11T12:26:03.100Z"
   },
   {
    "duration": 0,
    "start_time": "2023-04-11T12:26:03.101Z"
   },
   {
    "duration": 0,
    "start_time": "2023-04-11T12:26:03.102Z"
   },
   {
    "duration": 0,
    "start_time": "2023-04-11T12:26:03.103Z"
   },
   {
    "duration": 0,
    "start_time": "2023-04-11T12:26:03.105Z"
   },
   {
    "duration": 0,
    "start_time": "2023-04-11T12:26:03.107Z"
   },
   {
    "duration": 0,
    "start_time": "2023-04-11T12:26:03.108Z"
   },
   {
    "duration": 0,
    "start_time": "2023-04-11T12:26:03.109Z"
   },
   {
    "duration": 0,
    "start_time": "2023-04-11T12:26:03.111Z"
   },
   {
    "duration": 0,
    "start_time": "2023-04-11T12:26:03.112Z"
   },
   {
    "duration": 0,
    "start_time": "2023-04-11T12:26:03.113Z"
   },
   {
    "duration": 0,
    "start_time": "2023-04-11T12:26:03.114Z"
   },
   {
    "duration": 0,
    "start_time": "2023-04-11T12:26:03.115Z"
   },
   {
    "duration": 0,
    "start_time": "2023-04-11T12:26:03.117Z"
   },
   {
    "duration": 0,
    "start_time": "2023-04-11T12:26:03.118Z"
   },
   {
    "duration": 0,
    "start_time": "2023-04-11T12:26:03.118Z"
   },
   {
    "duration": 0,
    "start_time": "2023-04-11T12:26:03.119Z"
   },
   {
    "duration": 0,
    "start_time": "2023-04-11T12:26:03.120Z"
   },
   {
    "duration": 0,
    "start_time": "2023-04-11T12:26:03.121Z"
   },
   {
    "duration": 0,
    "start_time": "2023-04-11T12:26:03.123Z"
   },
   {
    "duration": 28,
    "start_time": "2023-04-11T12:26:39.956Z"
   },
   {
    "duration": 32,
    "start_time": "2023-04-11T12:26:39.987Z"
   },
   {
    "duration": 25,
    "start_time": "2023-04-11T12:26:40.021Z"
   },
   {
    "duration": 58,
    "start_time": "2023-04-11T12:26:40.048Z"
   },
   {
    "duration": 27,
    "start_time": "2023-04-11T12:26:40.109Z"
   },
   {
    "duration": 24,
    "start_time": "2023-04-11T12:26:40.138Z"
   },
   {
    "duration": 25,
    "start_time": "2023-04-11T12:26:40.164Z"
   },
   {
    "duration": 31,
    "start_time": "2023-04-11T12:26:40.191Z"
   },
   {
    "duration": 201,
    "start_time": "2023-04-11T12:26:40.224Z"
   },
   {
    "duration": 332,
    "start_time": "2023-04-11T12:26:40.427Z"
   },
   {
    "duration": 314,
    "start_time": "2023-04-11T12:26:40.761Z"
   },
   {
    "duration": 24,
    "start_time": "2023-04-11T12:26:41.077Z"
   },
   {
    "duration": 24,
    "start_time": "2023-04-11T12:26:41.103Z"
   },
   {
    "duration": 17,
    "start_time": "2023-04-11T12:26:41.131Z"
   },
   {
    "duration": 56,
    "start_time": "2023-04-11T12:26:41.150Z"
   },
   {
    "duration": 293,
    "start_time": "2023-04-11T12:26:41.207Z"
   },
   {
    "duration": 334,
    "start_time": "2023-04-11T12:26:41.502Z"
   },
   {
    "duration": 320,
    "start_time": "2023-04-11T12:26:41.838Z"
   },
   {
    "duration": 17,
    "start_time": "2023-04-11T12:26:42.160Z"
   },
   {
    "duration": 16,
    "start_time": "2023-04-11T12:26:42.179Z"
   },
   {
    "duration": 33,
    "start_time": "2023-04-11T12:26:42.197Z"
   },
   {
    "duration": 3,
    "start_time": "2023-04-11T12:26:42.232Z"
   },
   {
    "duration": 82,
    "start_time": "2023-04-11T12:26:42.237Z"
   },
   {
    "duration": 4,
    "start_time": "2023-04-11T12:26:42.321Z"
   },
   {
    "duration": 95,
    "start_time": "2023-04-11T12:26:42.327Z"
   },
   {
    "duration": 4,
    "start_time": "2023-04-11T12:26:42.424Z"
   },
   {
    "duration": 9,
    "start_time": "2023-04-11T12:26:42.429Z"
   },
   {
    "duration": 70,
    "start_time": "2023-04-11T12:26:42.440Z"
   },
   {
    "duration": 21,
    "start_time": "2023-04-11T12:26:42.512Z"
   },
   {
    "duration": 68,
    "start_time": "2023-04-11T12:26:42.534Z"
   },
   {
    "duration": 85,
    "start_time": "2023-04-11T12:26:42.604Z"
   },
   {
    "duration": 12,
    "start_time": "2023-04-11T12:26:42.691Z"
   },
   {
    "duration": 199,
    "start_time": "2023-04-11T12:26:42.705Z"
   },
   {
    "duration": 13,
    "start_time": "2023-04-11T12:26:42.905Z"
   },
   {
    "duration": 29,
    "start_time": "2023-04-11T12:26:42.920Z"
   },
   {
    "duration": 14,
    "start_time": "2023-04-11T12:26:42.950Z"
   },
   {
    "duration": 33,
    "start_time": "2023-04-11T12:26:42.966Z"
   },
   {
    "duration": 836,
    "start_time": "2023-04-11T12:26:43.002Z"
   },
   {
    "duration": 476,
    "start_time": "2023-04-11T12:26:43.840Z"
   },
   {
    "duration": 4,
    "start_time": "2023-04-11T12:26:44.318Z"
   },
   {
    "duration": 7,
    "start_time": "2023-04-11T12:26:44.326Z"
   },
   {
    "duration": 6,
    "start_time": "2023-04-11T12:26:44.334Z"
   },
   {
    "duration": 2929,
    "start_time": "2023-04-11T12:28:14.505Z"
   },
   {
    "duration": 3,
    "start_time": "2023-04-11T12:28:17.437Z"
   },
   {
    "duration": 1472,
    "start_time": "2023-04-11T12:28:17.442Z"
   },
   {
    "duration": 5,
    "start_time": "2023-04-11T12:28:18.916Z"
   },
   {
    "duration": 18,
    "start_time": "2023-04-11T12:28:18.923Z"
   },
   {
    "duration": 4,
    "start_time": "2023-04-11T12:28:18.944Z"
   },
   {
    "duration": 4,
    "start_time": "2023-04-11T12:28:18.951Z"
   },
   {
    "duration": 1105,
    "start_time": "2023-04-11T12:28:18.958Z"
   },
   {
    "duration": 8,
    "start_time": "2023-04-11T12:28:20.067Z"
   },
   {
    "duration": 4191,
    "start_time": "2023-04-11T12:28:20.078Z"
   },
   {
    "duration": 3,
    "start_time": "2023-04-11T12:28:24.271Z"
   },
   {
    "duration": 27,
    "start_time": "2023-04-11T12:28:24.276Z"
   },
   {
    "duration": 24,
    "start_time": "2023-04-11T12:28:24.305Z"
   },
   {
    "duration": 38,
    "start_time": "2023-04-11T12:28:24.331Z"
   },
   {
    "duration": 628,
    "start_time": "2023-04-11T12:28:24.371Z"
   },
   {
    "duration": 52,
    "start_time": "2023-04-11T12:28:25.001Z"
   },
   {
    "duration": 22,
    "start_time": "2023-04-11T12:28:25.055Z"
   },
   {
    "duration": 3518,
    "start_time": "2023-04-11T12:28:25.079Z"
   },
   {
    "duration": 23,
    "start_time": "2023-04-11T12:28:28.600Z"
   },
   {
    "duration": 45,
    "start_time": "2023-04-11T12:28:28.625Z"
   },
   {
    "duration": 29,
    "start_time": "2023-04-11T12:28:28.672Z"
   },
   {
    "duration": 31,
    "start_time": "2023-04-11T12:28:28.703Z"
   },
   {
    "duration": 30,
    "start_time": "2023-04-11T12:28:28.736Z"
   },
   {
    "duration": 40,
    "start_time": "2023-04-11T12:28:28.769Z"
   },
   {
    "duration": 24,
    "start_time": "2023-04-11T12:28:28.811Z"
   },
   {
    "duration": 35,
    "start_time": "2023-04-11T12:28:28.837Z"
   },
   {
    "duration": 29,
    "start_time": "2023-04-11T12:28:28.873Z"
   },
   {
    "duration": 25,
    "start_time": "2023-04-11T12:28:28.907Z"
   },
   {
    "duration": 165,
    "start_time": "2023-04-11T12:28:28.934Z"
   },
   {
    "duration": 343,
    "start_time": "2023-04-11T12:28:29.100Z"
   },
   {
    "duration": 344,
    "start_time": "2023-04-11T12:28:29.445Z"
   },
   {
    "duration": 23,
    "start_time": "2023-04-11T12:28:29.791Z"
   },
   {
    "duration": 15,
    "start_time": "2023-04-11T12:28:29.815Z"
   },
   {
    "duration": 16,
    "start_time": "2023-04-11T12:28:29.832Z"
   },
   {
    "duration": 62,
    "start_time": "2023-04-11T12:28:29.850Z"
   },
   {
    "duration": 353,
    "start_time": "2023-04-11T12:28:29.914Z"
   },
   {
    "duration": 470,
    "start_time": "2023-04-11T12:28:30.269Z"
   },
   {
    "duration": 348,
    "start_time": "2023-04-11T12:28:30.741Z"
   },
   {
    "duration": 17,
    "start_time": "2023-04-11T12:28:31.091Z"
   },
   {
    "duration": 39,
    "start_time": "2023-04-11T12:28:31.110Z"
   },
   {
    "duration": 52,
    "start_time": "2023-04-11T12:28:31.151Z"
   },
   {
    "duration": 9,
    "start_time": "2023-04-11T12:28:31.205Z"
   },
   {
    "duration": 88,
    "start_time": "2023-04-11T12:28:31.216Z"
   },
   {
    "duration": 4,
    "start_time": "2023-04-11T12:28:31.306Z"
   },
   {
    "duration": 104,
    "start_time": "2023-04-11T12:28:31.312Z"
   },
   {
    "duration": 4,
    "start_time": "2023-04-11T12:28:31.418Z"
   },
   {
    "duration": 43,
    "start_time": "2023-04-11T12:28:31.424Z"
   },
   {
    "duration": 74,
    "start_time": "2023-04-11T12:28:31.469Z"
   },
   {
    "duration": 21,
    "start_time": "2023-04-11T12:28:31.545Z"
   },
   {
    "duration": 93,
    "start_time": "2023-04-11T12:28:31.569Z"
   },
   {
    "duration": 100,
    "start_time": "2023-04-11T12:28:31.664Z"
   },
   {
    "duration": 10,
    "start_time": "2023-04-11T12:28:31.766Z"
   },
   {
    "duration": 302,
    "start_time": "2023-04-11T12:28:31.778Z"
   },
   {
    "duration": 15,
    "start_time": "2023-04-11T12:28:32.081Z"
   },
   {
    "duration": 24,
    "start_time": "2023-04-11T12:28:32.098Z"
   },
   {
    "duration": 25,
    "start_time": "2023-04-11T12:28:32.124Z"
   },
   {
    "duration": 46,
    "start_time": "2023-04-11T12:28:32.151Z"
   },
   {
    "duration": 890,
    "start_time": "2023-04-11T12:28:32.199Z"
   },
   {
    "duration": 494,
    "start_time": "2023-04-11T12:28:33.092Z"
   },
   {
    "duration": 3,
    "start_time": "2023-04-11T12:28:33.590Z"
   },
   {
    "duration": 10,
    "start_time": "2023-04-11T12:28:33.595Z"
   },
   {
    "duration": 6,
    "start_time": "2023-04-11T12:28:33.607Z"
   },
   {
    "duration": 547180,
    "start_time": "2023-04-11T12:28:33.615Z"
   },
   {
    "duration": 5,
    "start_time": "2023-04-11T12:37:40.796Z"
   },
   {
    "duration": 90,
    "start_time": "2023-04-11T12:37:40.803Z"
   },
   {
    "duration": 3,
    "start_time": "2023-04-11T12:37:40.895Z"
   },
   {
    "duration": 5,
    "start_time": "2023-04-11T12:37:40.900Z"
   },
   {
    "duration": 5,
    "start_time": "2023-04-11T12:37:40.906Z"
   },
   {
    "duration": 902850,
    "start_time": "2023-04-11T12:37:40.912Z"
   },
   {
    "duration": 11,
    "start_time": "2023-04-11T12:52:43.764Z"
   },
   {
    "duration": 0,
    "start_time": "2023-04-11T12:52:43.777Z"
   },
   {
    "duration": 0,
    "start_time": "2023-04-11T12:52:43.778Z"
   },
   {
    "duration": 0,
    "start_time": "2023-04-11T12:52:43.779Z"
   },
   {
    "duration": 0,
    "start_time": "2023-04-11T12:52:43.781Z"
   },
   {
    "duration": 0,
    "start_time": "2023-04-11T12:52:43.782Z"
   },
   {
    "duration": 0,
    "start_time": "2023-04-11T12:52:43.783Z"
   },
   {
    "duration": 0,
    "start_time": "2023-04-11T12:52:43.788Z"
   },
   {
    "duration": 0,
    "start_time": "2023-04-11T12:52:43.790Z"
   },
   {
    "duration": 0,
    "start_time": "2023-04-11T12:52:43.793Z"
   },
   {
    "duration": 0,
    "start_time": "2023-04-11T12:52:43.794Z"
   },
   {
    "duration": 0,
    "start_time": "2023-04-11T12:52:43.796Z"
   },
   {
    "duration": 0,
    "start_time": "2023-04-11T12:52:43.797Z"
   },
   {
    "duration": 0,
    "start_time": "2023-04-11T12:52:43.798Z"
   },
   {
    "duration": 0,
    "start_time": "2023-04-11T12:52:43.800Z"
   },
   {
    "duration": 0,
    "start_time": "2023-04-11T12:52:43.801Z"
   },
   {
    "duration": 4,
    "start_time": "2023-04-11T12:52:55.767Z"
   },
   {
    "duration": 4,
    "start_time": "2023-04-11T12:52:56.579Z"
   },
   {
    "duration": 4,
    "start_time": "2023-04-11T12:52:59.981Z"
   },
   {
    "duration": 144637,
    "start_time": "2023-04-11T12:53:01.296Z"
   },
   {
    "duration": 6,
    "start_time": "2023-04-11T12:55:31.031Z"
   },
   {
    "duration": 27730,
    "start_time": "2023-04-11T12:55:34.867Z"
   },
   {
    "duration": 44,
    "start_time": "2023-04-11T12:59:32.381Z"
   },
   {
    "duration": 91,
    "start_time": "2023-04-11T12:59:54.517Z"
   },
   {
    "duration": 4,
    "start_time": "2023-04-11T12:59:55.280Z"
   },
   {
    "duration": 3,
    "start_time": "2023-04-11T12:59:56.118Z"
   },
   {
    "duration": 4,
    "start_time": "2023-04-11T12:59:57.399Z"
   },
   {
    "duration": 1323722,
    "start_time": "2023-04-11T13:00:00.479Z"
   },
   {
    "duration": 4,
    "start_time": "2023-04-11T13:22:42.616Z"
   },
   {
    "duration": 4,
    "start_time": "2023-04-11T13:23:10.782Z"
   },
   {
    "duration": 3,
    "start_time": "2023-04-11T13:23:12.609Z"
   },
   {
    "duration": 4,
    "start_time": "2023-04-11T13:23:13.268Z"
   },
   {
    "duration": 124192,
    "start_time": "2023-04-11T13:23:16.908Z"
   },
   {
    "duration": 4,
    "start_time": "2023-04-11T13:25:30.020Z"
   },
   {
    "duration": 6,
    "start_time": "2023-04-11T13:26:10.337Z"
   },
   {
    "duration": 5238,
    "start_time": "2023-04-11T13:26:12.558Z"
   },
   {
    "duration": 34,
    "start_time": "2023-04-11T13:26:26.318Z"
   },
   {
    "duration": 6,
    "start_time": "2023-04-11T13:26:28.107Z"
   },
   {
    "duration": 8,
    "start_time": "2023-04-11T13:26:39.317Z"
   },
   {
    "duration": 30,
    "start_time": "2023-04-11T13:26:49.507Z"
   },
   {
    "duration": 5,
    "start_time": "2023-04-11T13:28:17.669Z"
   },
   {
    "duration": 5,
    "start_time": "2023-04-11T13:31:02.573Z"
   },
   {
    "duration": 640154,
    "start_time": "2023-04-11T13:31:06.107Z"
   },
   {
    "duration": 4,
    "start_time": "2023-04-11T13:41:49.441Z"
   },
   {
    "duration": 5680,
    "start_time": "2023-04-11T13:41:50.399Z"
   },
   {
    "duration": 86,
    "start_time": "2023-04-11T13:41:56.080Z"
   },
   {
    "duration": 5,
    "start_time": "2023-04-11T13:42:01.411Z"
   },
   {
    "duration": 6650,
    "start_time": "2023-04-11T15:06:52.904Z"
   },
   {
    "duration": 2,
    "start_time": "2023-04-11T15:06:59.556Z"
   },
   {
    "duration": 1564,
    "start_time": "2023-04-11T15:06:59.559Z"
   },
   {
    "duration": 4,
    "start_time": "2023-04-11T15:07:01.125Z"
   },
   {
    "duration": 75,
    "start_time": "2023-04-11T15:07:01.131Z"
   },
   {
    "duration": 56,
    "start_time": "2023-04-11T15:07:01.207Z"
   },
   {
    "duration": 47,
    "start_time": "2023-04-11T15:07:01.265Z"
   },
   {
    "duration": 2717,
    "start_time": "2023-04-11T15:07:01.313Z"
   },
   {
    "duration": 10,
    "start_time": "2023-04-11T15:07:04.031Z"
   },
   {
    "duration": 3721,
    "start_time": "2023-04-11T15:07:04.043Z"
   },
   {
    "duration": 2,
    "start_time": "2023-04-11T15:07:07.766Z"
   },
   {
    "duration": 14,
    "start_time": "2023-04-11T15:07:07.770Z"
   },
   {
    "duration": 21,
    "start_time": "2023-04-11T15:07:07.785Z"
   },
   {
    "duration": 7,
    "start_time": "2023-04-11T15:07:07.810Z"
   },
   {
    "duration": 507,
    "start_time": "2023-04-11T15:07:07.819Z"
   },
   {
    "duration": 40,
    "start_time": "2023-04-11T15:07:08.328Z"
   },
   {
    "duration": 24,
    "start_time": "2023-04-11T15:07:08.370Z"
   },
   {
    "duration": 3135,
    "start_time": "2023-04-11T15:07:08.395Z"
   },
   {
    "duration": 20,
    "start_time": "2023-04-11T15:07:11.531Z"
   },
   {
    "duration": 47,
    "start_time": "2023-04-11T15:07:11.553Z"
   },
   {
    "duration": 42,
    "start_time": "2023-04-11T15:07:11.601Z"
   },
   {
    "duration": 33,
    "start_time": "2023-04-11T15:07:11.645Z"
   },
   {
    "duration": 22,
    "start_time": "2023-04-11T15:07:11.680Z"
   },
   {
    "duration": 32,
    "start_time": "2023-04-11T15:07:11.703Z"
   },
   {
    "duration": 39,
    "start_time": "2023-04-11T15:07:11.736Z"
   },
   {
    "duration": 28,
    "start_time": "2023-04-11T15:07:11.777Z"
   },
   {
    "duration": 24,
    "start_time": "2023-04-11T15:07:11.807Z"
   },
   {
    "duration": 27,
    "start_time": "2023-04-11T15:07:11.832Z"
   },
   {
    "duration": 124,
    "start_time": "2023-04-11T15:07:11.860Z"
   },
   {
    "duration": 265,
    "start_time": "2023-04-11T15:07:11.986Z"
   },
   {
    "duration": 396,
    "start_time": "2023-04-11T15:07:12.252Z"
   },
   {
    "duration": 14,
    "start_time": "2023-04-11T15:07:12.650Z"
   },
   {
    "duration": 28,
    "start_time": "2023-04-11T15:07:12.665Z"
   },
   {
    "duration": 19,
    "start_time": "2023-04-11T15:07:12.695Z"
   },
   {
    "duration": 22,
    "start_time": "2023-04-11T15:07:12.716Z"
   },
   {
    "duration": 147,
    "start_time": "2023-04-11T15:07:12.740Z"
   },
   {
    "duration": 296,
    "start_time": "2023-04-11T15:07:12.889Z"
   },
   {
    "duration": 294,
    "start_time": "2023-04-11T15:07:13.187Z"
   },
   {
    "duration": 16,
    "start_time": "2023-04-11T15:07:13.483Z"
   },
   {
    "duration": 8,
    "start_time": "2023-04-11T15:07:13.500Z"
   },
   {
    "duration": 22,
    "start_time": "2023-04-11T15:07:13.513Z"
   },
   {
    "duration": 7,
    "start_time": "2023-04-11T15:07:13.537Z"
   },
   {
    "duration": 90,
    "start_time": "2023-04-11T15:07:13.546Z"
   },
   {
    "duration": 3,
    "start_time": "2023-04-11T15:07:13.639Z"
   },
   {
    "duration": 96,
    "start_time": "2023-04-11T15:07:13.644Z"
   },
   {
    "duration": 3,
    "start_time": "2023-04-11T15:07:13.742Z"
   },
   {
    "duration": 32,
    "start_time": "2023-04-11T15:07:13.747Z"
   },
   {
    "duration": 82,
    "start_time": "2023-04-11T15:07:13.781Z"
   },
   {
    "duration": 22,
    "start_time": "2023-04-11T15:07:13.865Z"
   },
   {
    "duration": 71,
    "start_time": "2023-04-11T15:07:13.888Z"
   },
   {
    "duration": 71,
    "start_time": "2023-04-11T15:07:13.961Z"
   },
   {
    "duration": 9,
    "start_time": "2023-04-11T15:07:14.034Z"
   },
   {
    "duration": 198,
    "start_time": "2023-04-11T15:07:14.044Z"
   },
   {
    "duration": 12,
    "start_time": "2023-04-11T15:07:14.244Z"
   },
   {
    "duration": 28,
    "start_time": "2023-04-11T15:07:14.258Z"
   },
   {
    "duration": 17,
    "start_time": "2023-04-11T15:07:14.288Z"
   },
   {
    "duration": 61,
    "start_time": "2023-04-11T15:07:14.307Z"
   },
   {
    "duration": 882,
    "start_time": "2023-04-11T15:07:14.370Z"
   },
   {
    "duration": 458,
    "start_time": "2023-04-11T15:07:15.254Z"
   },
   {
    "duration": 3,
    "start_time": "2023-04-11T15:07:15.714Z"
   },
   {
    "duration": 14,
    "start_time": "2023-04-11T15:07:15.719Z"
   },
   {
    "duration": 15,
    "start_time": "2023-04-11T15:07:15.734Z"
   },
   {
    "duration": 643343,
    "start_time": "2023-04-11T15:07:15.750Z"
   },
   {
    "duration": 91,
    "start_time": "2023-04-11T15:17:59.094Z"
   },
   {
    "duration": 23,
    "start_time": "2023-04-11T15:17:59.186Z"
   },
   {
    "duration": 41878,
    "start_time": "2023-04-11T15:17:59.211Z"
   },
   {
    "duration": 221,
    "start_time": "2023-04-11T15:18:41.091Z"
   },
   {
    "duration": 127,
    "start_time": "2023-04-11T15:18:41.314Z"
   },
   {
    "duration": 4,
    "start_time": "2023-04-11T15:18:41.443Z"
   },
   {
    "duration": 14,
    "start_time": "2023-04-11T15:18:41.449Z"
   },
   {
    "duration": 19,
    "start_time": "2023-04-11T15:18:41.465Z"
   },
   {
    "duration": 546106,
    "start_time": "2023-04-11T15:18:41.485Z"
   },
   {
    "duration": 3,
    "start_time": "2023-04-11T15:27:47.594Z"
   },
   {
    "duration": 37,
    "start_time": "2023-04-11T15:27:47.599Z"
   },
   {
    "duration": 13,
    "start_time": "2023-04-11T15:27:47.637Z"
   },
   {
    "duration": 27,
    "start_time": "2023-04-11T15:27:47.652Z"
   },
   {
    "duration": 130261,
    "start_time": "2023-04-11T15:27:47.681Z"
   },
   {
    "duration": 3,
    "start_time": "2023-04-11T15:29:57.944Z"
   },
   {
    "duration": 17,
    "start_time": "2023-04-11T15:29:57.949Z"
   },
   {
    "duration": 5120,
    "start_time": "2023-04-11T15:29:57.968Z"
   },
   {
    "duration": 119,
    "start_time": "2023-04-11T15:30:03.090Z"
   },
   {
    "duration": 29,
    "start_time": "2023-04-11T15:30:03.213Z"
   },
   {
    "duration": 54,
    "start_time": "2023-04-11T15:30:03.244Z"
   },
   {
    "duration": 6,
    "start_time": "2023-04-11T15:30:03.300Z"
   },
   {
    "duration": 9,
    "start_time": "2023-04-11T15:30:03.308Z"
   },
   {
    "duration": 594775,
    "start_time": "2023-04-11T15:30:03.319Z"
   },
   {
    "duration": 787,
    "start_time": "2023-04-11T15:39:58.096Z"
   },
   {
    "duration": 6,
    "start_time": "2023-04-11T15:39:58.885Z"
   },
   {
    "duration": 16,
    "start_time": "2023-04-11T15:39:58.892Z"
   },
   {
    "duration": 6843,
    "start_time": "2023-04-11T15:39:58.910Z"
   },
   {
    "duration": 63,
    "start_time": "2023-04-11T15:40:05.756Z"
   },
   {
    "duration": 17,
    "start_time": "2023-04-11T15:40:05.820Z"
   },
   {
    "duration": 6602,
    "start_time": "2023-04-12T08:23:57.506Z"
   },
   {
    "duration": 4,
    "start_time": "2023-04-12T08:24:04.110Z"
   },
   {
    "duration": 1446,
    "start_time": "2023-04-12T08:24:04.116Z"
   },
   {
    "duration": 4,
    "start_time": "2023-04-12T08:24:05.564Z"
   },
   {
    "duration": 25,
    "start_time": "2023-04-12T08:24:05.570Z"
   },
   {
    "duration": 5,
    "start_time": "2023-04-12T08:24:05.597Z"
   },
   {
    "duration": 7,
    "start_time": "2023-04-12T08:24:05.604Z"
   },
   {
    "duration": 958,
    "start_time": "2023-04-12T08:24:06.136Z"
   },
   {
    "duration": 9,
    "start_time": "2023-04-12T08:25:02.742Z"
   },
   {
    "duration": 3850,
    "start_time": "2023-04-12T08:25:07.186Z"
   },
   {
    "duration": 2,
    "start_time": "2023-04-12T08:27:39.292Z"
   },
   {
    "duration": 6,
    "start_time": "2023-04-12T08:27:40.685Z"
   },
   {
    "duration": 4,
    "start_time": "2023-04-12T08:27:56.174Z"
   },
   {
    "duration": 6,
    "start_time": "2023-04-12T08:28:03.169Z"
   },
   {
    "duration": 545,
    "start_time": "2023-04-12T08:28:06.045Z"
   },
   {
    "duration": 50,
    "start_time": "2023-04-12T08:28:23.790Z"
   },
   {
    "duration": 4,
    "start_time": "2023-04-12T08:28:24.306Z"
   },
   {
    "duration": 3532,
    "start_time": "2023-04-12T08:28:27.705Z"
   },
   {
    "duration": 27,
    "start_time": "2023-04-12T08:28:55.898Z"
   },
   {
    "duration": 44,
    "start_time": "2023-04-12T08:28:57.396Z"
   },
   {
    "duration": 30,
    "start_time": "2023-04-12T08:28:57.786Z"
   },
   {
    "duration": 30,
    "start_time": "2023-04-12T08:28:59.147Z"
   },
   {
    "duration": 30,
    "start_time": "2023-04-12T08:29:45.277Z"
   },
   {
    "duration": 22,
    "start_time": "2023-04-12T08:29:46.123Z"
   },
   {
    "duration": 28,
    "start_time": "2023-04-12T08:29:46.926Z"
   },
   {
    "duration": 23,
    "start_time": "2023-04-12T08:29:47.281Z"
   },
   {
    "duration": 14,
    "start_time": "2023-04-12T08:29:51.846Z"
   },
   {
    "duration": 27,
    "start_time": "2023-04-12T08:29:54.184Z"
   },
   {
    "duration": 159,
    "start_time": "2023-04-12T08:30:07.936Z"
   },
   {
    "duration": 330,
    "start_time": "2023-04-12T08:30:11.026Z"
   },
   {
    "duration": 293,
    "start_time": "2023-04-12T08:30:27.006Z"
   },
   {
    "duration": 20,
    "start_time": "2023-04-12T08:30:29.710Z"
   },
   {
    "duration": 15,
    "start_time": "2023-04-12T08:30:36.345Z"
   },
   {
    "duration": 22,
    "start_time": "2023-04-12T08:31:43.106Z"
   },
   {
    "duration": 40,
    "start_time": "2023-04-12T08:31:48.290Z"
   },
   {
    "duration": 255,
    "start_time": "2023-04-12T08:32:21.506Z"
   },
   {
    "duration": 288,
    "start_time": "2023-04-12T08:32:25.625Z"
   },
   {
    "duration": 280,
    "start_time": "2023-04-12T08:32:42.207Z"
   },
   {
    "duration": 16,
    "start_time": "2023-04-12T08:33:25.647Z"
   },
   {
    "duration": 9,
    "start_time": "2023-04-12T08:33:30.273Z"
   },
   {
    "duration": 21,
    "start_time": "2023-04-12T08:33:39.406Z"
   },
   {
    "duration": 3,
    "start_time": "2023-04-12T08:34:10.797Z"
   },
   {
    "duration": 63,
    "start_time": "2023-04-12T08:34:26.206Z"
   },
   {
    "duration": 4,
    "start_time": "2023-04-12T08:34:28.583Z"
   },
   {
    "duration": 74,
    "start_time": "2023-04-12T08:34:31.385Z"
   },
   {
    "duration": 4,
    "start_time": "2023-04-12T08:34:32.287Z"
   },
   {
    "duration": 4,
    "start_time": "2023-04-12T08:34:36.478Z"
   },
   {
    "duration": 55,
    "start_time": "2023-04-12T08:34:40.387Z"
   },
   {
    "duration": 22,
    "start_time": "2023-04-12T08:34:48.449Z"
   },
   {
    "duration": 69,
    "start_time": "2023-04-12T08:34:49.046Z"
   },
   {
    "duration": 61,
    "start_time": "2023-04-12T08:35:14.275Z"
   },
   {
    "duration": 37,
    "start_time": "2023-04-12T08:35:22.686Z"
   },
   {
    "duration": 69,
    "start_time": "2023-04-12T08:35:40.972Z"
   },
   {
    "duration": 8,
    "start_time": "2023-04-12T08:36:11.373Z"
   },
   {
    "duration": 176,
    "start_time": "2023-04-12T08:36:16.024Z"
   },
   {
    "duration": 12,
    "start_time": "2023-04-12T08:36:27.293Z"
   },
   {
    "duration": 12,
    "start_time": "2023-04-12T08:36:27.445Z"
   },
   {
    "duration": 8,
    "start_time": "2023-04-12T08:36:36.167Z"
   },
   {
    "duration": 23,
    "start_time": "2023-04-12T08:36:39.275Z"
   },
   {
    "duration": 793,
    "start_time": "2023-04-12T08:36:54.768Z"
   },
   {
    "duration": 492,
    "start_time": "2023-04-12T08:37:08.385Z"
   },
   {
    "duration": 8283,
    "start_time": "2023-04-12T10:35:06.256Z"
   },
   {
    "duration": 3,
    "start_time": "2023-04-12T10:35:14.543Z"
   },
   {
    "duration": 1726,
    "start_time": "2023-04-12T10:35:14.548Z"
   },
   {
    "duration": 4,
    "start_time": "2023-04-12T10:35:16.276Z"
   },
   {
    "duration": 65,
    "start_time": "2023-04-12T10:35:16.283Z"
   },
   {
    "duration": 24,
    "start_time": "2023-04-12T10:35:16.350Z"
   },
   {
    "duration": 18,
    "start_time": "2023-04-12T10:35:16.375Z"
   },
   {
    "duration": 3126,
    "start_time": "2023-04-12T10:35:16.395Z"
   },
   {
    "duration": 9,
    "start_time": "2023-04-12T10:35:19.523Z"
   },
   {
    "duration": 4080,
    "start_time": "2023-04-12T10:35:19.534Z"
   },
   {
    "duration": 3,
    "start_time": "2023-04-12T10:35:23.618Z"
   },
   {
    "duration": 31,
    "start_time": "2023-04-12T10:35:23.623Z"
   },
   {
    "duration": 52,
    "start_time": "2023-04-12T10:35:23.656Z"
   },
   {
    "duration": 25,
    "start_time": "2023-04-12T10:35:23.711Z"
   },
   {
    "duration": 528,
    "start_time": "2023-04-12T10:35:23.738Z"
   },
   {
    "duration": 38,
    "start_time": "2023-04-12T10:35:24.267Z"
   },
   {
    "duration": 5,
    "start_time": "2023-04-12T10:35:24.317Z"
   },
   {
    "duration": 3410,
    "start_time": "2023-04-12T10:35:24.324Z"
   },
   {
    "duration": 25,
    "start_time": "2023-04-12T10:35:27.736Z"
   },
   {
    "duration": 59,
    "start_time": "2023-04-12T10:35:27.763Z"
   },
   {
    "duration": 37,
    "start_time": "2023-04-12T10:35:27.824Z"
   },
   {
    "duration": 45,
    "start_time": "2023-04-12T10:35:27.863Z"
   },
   {
    "duration": 47,
    "start_time": "2023-04-12T10:35:27.910Z"
   },
   {
    "duration": 39,
    "start_time": "2023-04-12T10:35:27.959Z"
   },
   {
    "duration": 38,
    "start_time": "2023-04-12T10:35:28.000Z"
   },
   {
    "duration": 32,
    "start_time": "2023-04-12T10:35:28.041Z"
   },
   {
    "duration": 63,
    "start_time": "2023-04-12T10:35:28.075Z"
   },
   {
    "duration": 29,
    "start_time": "2023-04-12T10:35:28.140Z"
   },
   {
    "duration": 152,
    "start_time": "2023-04-12T10:35:28.171Z"
   },
   {
    "duration": 327,
    "start_time": "2023-04-12T10:35:28.325Z"
   },
   {
    "duration": 429,
    "start_time": "2023-04-12T10:35:28.655Z"
   },
   {
    "duration": 17,
    "start_time": "2023-04-12T10:35:29.086Z"
   },
   {
    "duration": 24,
    "start_time": "2023-04-12T10:35:29.104Z"
   },
   {
    "duration": 14,
    "start_time": "2023-04-12T10:35:29.130Z"
   },
   {
    "duration": 23,
    "start_time": "2023-04-12T10:35:29.146Z"
   },
   {
    "duration": 186,
    "start_time": "2023-04-12T10:35:29.171Z"
   },
   {
    "duration": 329,
    "start_time": "2023-04-12T10:35:29.359Z"
   },
   {
    "duration": 284,
    "start_time": "2023-04-12T10:35:29.690Z"
   },
   {
    "duration": 17,
    "start_time": "2023-04-12T10:35:29.976Z"
   },
   {
    "duration": 25,
    "start_time": "2023-04-12T10:35:29.996Z"
   },
   {
    "duration": 77,
    "start_time": "2023-04-12T10:35:30.028Z"
   },
   {
    "duration": 13,
    "start_time": "2023-04-12T10:35:30.107Z"
   },
   {
    "duration": 141,
    "start_time": "2023-04-12T10:35:30.122Z"
   },
   {
    "duration": 23,
    "start_time": "2023-04-12T10:35:30.265Z"
   },
   {
    "duration": 110,
    "start_time": "2023-04-12T10:35:30.290Z"
   },
   {
    "duration": 50,
    "start_time": "2023-04-12T10:35:30.402Z"
   },
   {
    "duration": 54,
    "start_time": "2023-04-12T10:35:30.454Z"
   },
   {
    "duration": 128,
    "start_time": "2023-04-12T10:35:30.510Z"
   },
   {
    "duration": 39,
    "start_time": "2023-04-12T10:35:30.640Z"
   },
   {
    "duration": 141,
    "start_time": "2023-04-12T10:35:30.681Z"
   },
   {
    "duration": 119,
    "start_time": "2023-04-12T10:35:30.825Z"
   },
   {
    "duration": 9,
    "start_time": "2023-04-12T10:35:30.946Z"
   },
   {
    "duration": 246,
    "start_time": "2023-04-12T10:35:30.957Z"
   },
   {
    "duration": 15,
    "start_time": "2023-04-12T10:35:31.205Z"
   },
   {
    "duration": 89,
    "start_time": "2023-04-12T10:35:31.222Z"
   },
   {
    "duration": 80,
    "start_time": "2023-04-12T10:35:31.314Z"
   },
   {
    "duration": 86,
    "start_time": "2023-04-12T10:35:31.396Z"
   },
   {
    "duration": 911,
    "start_time": "2023-04-12T10:35:31.484Z"
   },
   {
    "duration": 598,
    "start_time": "2023-04-12T10:35:32.397Z"
   },
   {
    "duration": 3,
    "start_time": "2023-04-12T10:35:32.997Z"
   },
   {
    "duration": 32,
    "start_time": "2023-04-12T10:35:33.002Z"
   },
   {
    "duration": 22,
    "start_time": "2023-04-12T10:35:33.036Z"
   },
   {
    "duration": 86707,
    "start_time": "2023-04-12T10:35:33.060Z"
   },
   {
    "duration": 11,
    "start_time": "2023-04-12T10:36:59.769Z"
   },
   {
    "duration": 0,
    "start_time": "2023-04-12T10:36:59.782Z"
   },
   {
    "duration": 0,
    "start_time": "2023-04-12T10:36:59.783Z"
   },
   {
    "duration": 0,
    "start_time": "2023-04-12T10:36:59.784Z"
   },
   {
    "duration": 0,
    "start_time": "2023-04-12T10:36:59.786Z"
   },
   {
    "duration": 0,
    "start_time": "2023-04-12T10:36:59.787Z"
   },
   {
    "duration": 0,
    "start_time": "2023-04-12T10:36:59.788Z"
   },
   {
    "duration": 0,
    "start_time": "2023-04-12T10:36:59.789Z"
   },
   {
    "duration": 0,
    "start_time": "2023-04-12T10:36:59.791Z"
   },
   {
    "duration": 0,
    "start_time": "2023-04-12T10:36:59.792Z"
   },
   {
    "duration": 0,
    "start_time": "2023-04-12T10:36:59.793Z"
   },
   {
    "duration": 0,
    "start_time": "2023-04-12T10:36:59.794Z"
   },
   {
    "duration": 0,
    "start_time": "2023-04-12T10:36:59.795Z"
   },
   {
    "duration": 0,
    "start_time": "2023-04-12T10:36:59.796Z"
   },
   {
    "duration": 0,
    "start_time": "2023-04-12T10:36:59.797Z"
   },
   {
    "duration": 0,
    "start_time": "2023-04-12T10:36:59.797Z"
   },
   {
    "duration": 0,
    "start_time": "2023-04-12T10:36:59.798Z"
   },
   {
    "duration": 0,
    "start_time": "2023-04-12T10:36:59.799Z"
   },
   {
    "duration": 0,
    "start_time": "2023-04-12T10:36:59.801Z"
   },
   {
    "duration": 0,
    "start_time": "2023-04-12T10:36:59.802Z"
   },
   {
    "duration": 0,
    "start_time": "2023-04-12T10:36:59.804Z"
   },
   {
    "duration": 0,
    "start_time": "2023-04-12T10:36:59.805Z"
   },
   {
    "duration": 0,
    "start_time": "2023-04-12T10:36:59.806Z"
   },
   {
    "duration": 0,
    "start_time": "2023-04-12T10:36:59.807Z"
   },
   {
    "duration": 0,
    "start_time": "2023-04-12T10:36:59.808Z"
   },
   {
    "duration": 0,
    "start_time": "2023-04-12T10:36:59.810Z"
   },
   {
    "duration": 0,
    "start_time": "2023-04-12T10:36:59.818Z"
   },
   {
    "duration": 0,
    "start_time": "2023-04-12T10:36:59.820Z"
   },
   {
    "duration": 0,
    "start_time": "2023-04-12T10:36:59.822Z"
   },
   {
    "duration": 0,
    "start_time": "2023-04-12T10:36:59.823Z"
   },
   {
    "duration": 0,
    "start_time": "2023-04-12T10:36:59.825Z"
   },
   {
    "duration": 5,
    "start_time": "2023-04-12T10:37:05.809Z"
   },
   {
    "duration": 42895,
    "start_time": "2023-04-12T10:37:06.825Z"
   },
   {
    "duration": 10,
    "start_time": "2023-04-12T10:37:54.704Z"
   },
   {
    "duration": 5,
    "start_time": "2023-04-12T10:39:46.519Z"
   },
   {
    "duration": 3,
    "start_time": "2023-04-12T10:39:51.913Z"
   },
   {
    "duration": 44195,
    "start_time": "2023-04-12T10:39:53.128Z"
   },
   {
    "duration": 3,
    "start_time": "2023-04-12T10:41:09.314Z"
   },
   {
    "duration": 10,
    "start_time": "2023-04-12T10:41:11.246Z"
   },
   {
    "duration": 107644,
    "start_time": "2023-04-12T10:41:47.282Z"
   },
   {
    "duration": 7,
    "start_time": "2023-04-12T10:44:10.719Z"
   },
   {
    "duration": 13,
    "start_time": "2023-04-12T10:44:48.153Z"
   },
   {
    "duration": 222155,
    "start_time": "2023-04-12T10:45:35.692Z"
   },
   {
    "duration": 4,
    "start_time": "2023-04-12T10:49:27.020Z"
   },
   {
    "duration": 2514,
    "start_time": "2023-04-12T11:04:50.233Z"
   },
   {
    "duration": 3,
    "start_time": "2023-04-12T11:04:52.749Z"
   },
   {
    "duration": 1351,
    "start_time": "2023-04-12T11:04:52.754Z"
   },
   {
    "duration": 3,
    "start_time": "2023-04-12T11:04:54.107Z"
   },
   {
    "duration": 32,
    "start_time": "2023-04-12T11:04:54.113Z"
   },
   {
    "duration": 33,
    "start_time": "2023-04-12T11:04:54.147Z"
   },
   {
    "duration": 41,
    "start_time": "2023-04-12T11:04:54.182Z"
   },
   {
    "duration": 893,
    "start_time": "2023-04-12T11:04:54.224Z"
   },
   {
    "duration": 9,
    "start_time": "2023-04-12T11:04:55.119Z"
   },
   {
    "duration": 4022,
    "start_time": "2023-04-12T11:04:55.130Z"
   },
   {
    "duration": 3,
    "start_time": "2023-04-12T11:04:59.154Z"
   },
   {
    "duration": 44,
    "start_time": "2023-04-12T11:04:59.159Z"
   },
   {
    "duration": 23,
    "start_time": "2023-04-12T11:04:59.204Z"
   },
   {
    "duration": 27,
    "start_time": "2023-04-12T11:04:59.230Z"
   },
   {
    "duration": 594,
    "start_time": "2023-04-12T11:04:59.259Z"
   },
   {
    "duration": 39,
    "start_time": "2023-04-12T11:04:59.855Z"
   },
   {
    "duration": 14,
    "start_time": "2023-04-12T11:04:59.895Z"
   },
   {
    "duration": 3538,
    "start_time": "2023-04-12T11:04:59.911Z"
   },
   {
    "duration": 23,
    "start_time": "2023-04-12T11:05:03.451Z"
   },
   {
    "duration": 92,
    "start_time": "2023-04-12T11:05:03.475Z"
   },
   {
    "duration": 67,
    "start_time": "2023-04-12T11:05:03.569Z"
   },
   {
    "duration": 51,
    "start_time": "2023-04-12T11:05:03.639Z"
   },
   {
    "duration": 32,
    "start_time": "2023-04-12T11:05:03.693Z"
   },
   {
    "duration": 44,
    "start_time": "2023-04-12T11:05:03.727Z"
   },
   {
    "duration": 39,
    "start_time": "2023-04-12T11:05:03.773Z"
   },
   {
    "duration": 28,
    "start_time": "2023-04-12T11:05:03.814Z"
   },
   {
    "duration": 30,
    "start_time": "2023-04-12T11:05:03.844Z"
   },
   {
    "duration": 23,
    "start_time": "2023-04-12T11:05:03.876Z"
   },
   {
    "duration": 155,
    "start_time": "2023-04-12T11:05:03.901Z"
   },
   {
    "duration": 302,
    "start_time": "2023-04-12T11:05:04.057Z"
   },
   {
    "duration": 454,
    "start_time": "2023-04-12T11:05:04.361Z"
   },
   {
    "duration": 16,
    "start_time": "2023-04-12T11:05:04.818Z"
   },
   {
    "duration": 18,
    "start_time": "2023-04-12T11:05:04.835Z"
   },
   {
    "duration": 40,
    "start_time": "2023-04-12T11:05:04.855Z"
   },
   {
    "duration": 39,
    "start_time": "2023-04-12T11:05:04.897Z"
   },
   {
    "duration": 141,
    "start_time": "2023-04-12T11:05:04.938Z"
   },
   {
    "duration": 311,
    "start_time": "2023-04-12T11:05:05.081Z"
   },
   {
    "duration": 302,
    "start_time": "2023-04-12T11:05:05.394Z"
   },
   {
    "duration": 26,
    "start_time": "2023-04-12T11:05:05.699Z"
   },
   {
    "duration": 22,
    "start_time": "2023-04-12T11:05:05.727Z"
   },
   {
    "duration": 30,
    "start_time": "2023-04-12T11:05:05.755Z"
   },
   {
    "duration": 4,
    "start_time": "2023-04-12T11:05:05.787Z"
   },
   {
    "duration": 82,
    "start_time": "2023-04-12T11:05:05.793Z"
   },
   {
    "duration": 23,
    "start_time": "2023-04-12T11:05:05.877Z"
   },
   {
    "duration": 124,
    "start_time": "2023-04-12T11:05:05.902Z"
   },
   {
    "duration": 33,
    "start_time": "2023-04-12T11:05:06.028Z"
   },
   {
    "duration": 58,
    "start_time": "2023-04-12T11:05:06.063Z"
   },
   {
    "duration": 98,
    "start_time": "2023-04-12T11:05:06.124Z"
   },
   {
    "duration": 26,
    "start_time": "2023-04-12T11:05:06.224Z"
   },
   {
    "duration": 89,
    "start_time": "2023-04-12T11:05:06.252Z"
   },
   {
    "duration": 75,
    "start_time": "2023-04-12T11:05:06.344Z"
   },
   {
    "duration": 9,
    "start_time": "2023-04-12T11:05:06.421Z"
   },
   {
    "duration": 238,
    "start_time": "2023-04-12T11:05:06.431Z"
   },
   {
    "duration": 14,
    "start_time": "2023-04-12T11:05:06.671Z"
   },
   {
    "duration": 30,
    "start_time": "2023-04-12T11:05:06.688Z"
   },
   {
    "duration": 51,
    "start_time": "2023-04-12T11:05:06.720Z"
   },
   {
    "duration": 48,
    "start_time": "2023-04-12T11:05:06.773Z"
   },
   {
    "duration": 877,
    "start_time": "2023-04-12T11:05:06.823Z"
   },
   {
    "duration": 492,
    "start_time": "2023-04-12T11:05:07.702Z"
   },
   {
    "duration": 3,
    "start_time": "2023-04-12T11:05:08.197Z"
   },
   {
    "duration": 33,
    "start_time": "2023-04-12T11:05:08.203Z"
   },
   {
    "duration": 32,
    "start_time": "2023-04-12T11:05:08.239Z"
   },
   {
    "duration": 692846,
    "start_time": "2023-04-12T11:05:08.273Z"
   },
   {
    "duration": 3,
    "start_time": "2023-04-12T11:16:41.121Z"
   },
   {
    "duration": 16,
    "start_time": "2023-04-12T11:16:41.126Z"
   },
   {
    "duration": 42175,
    "start_time": "2023-04-12T11:16:41.144Z"
   },
   {
    "duration": 430101,
    "start_time": "2023-04-12T11:17:23.322Z"
   },
   {
    "duration": 3,
    "start_time": "2023-04-12T11:24:33.425Z"
   },
   {
    "duration": 165,
    "start_time": "2023-04-12T11:24:33.430Z"
   },
   {
    "duration": 5,
    "start_time": "2023-04-12T11:24:33.597Z"
   },
   {
    "duration": 28,
    "start_time": "2023-04-12T11:24:33.604Z"
   },
   {
    "duration": 36,
    "start_time": "2023-04-12T11:24:33.633Z"
   },
   {
    "duration": 116357,
    "start_time": "2023-04-12T11:24:33.671Z"
   },
   {
    "duration": 4,
    "start_time": "2023-04-12T11:26:30.029Z"
   },
   {
    "duration": 27,
    "start_time": "2023-04-12T11:26:30.034Z"
   },
   {
    "duration": 55,
    "start_time": "2023-04-12T11:26:30.063Z"
   },
   {
    "duration": 41,
    "start_time": "2023-04-12T11:26:30.120Z"
   },
   {
    "duration": 155398,
    "start_time": "2023-04-12T11:26:30.162Z"
   },
   {
    "duration": 4,
    "start_time": "2023-04-12T11:29:05.562Z"
   },
   {
    "duration": 50,
    "start_time": "2023-04-12T11:29:05.568Z"
   },
   {
    "duration": 6108,
    "start_time": "2023-04-12T11:29:05.619Z"
   },
   {
    "duration": 206,
    "start_time": "2023-04-12T11:29:11.729Z"
   },
   {
    "duration": 19,
    "start_time": "2023-04-12T11:29:11.937Z"
   },
   {
    "duration": 40,
    "start_time": "2023-04-12T11:29:11.957Z"
   },
   {
    "duration": 32,
    "start_time": "2023-04-12T11:29:11.999Z"
   },
   {
    "duration": 12,
    "start_time": "2023-04-12T11:29:12.033Z"
   },
   {
    "duration": 6072,
    "start_time": "2023-04-12T11:29:12.047Z"
   },
   {
    "duration": 698,
    "start_time": "2023-04-12T11:29:18.121Z"
   },
   {
    "duration": 6,
    "start_time": "2023-04-12T11:29:18.821Z"
   },
   {
    "duration": 50,
    "start_time": "2023-04-12T11:29:18.828Z"
   },
   {
    "duration": 6614,
    "start_time": "2023-04-12T11:29:18.880Z"
   },
   {
    "duration": 46,
    "start_time": "2023-04-12T11:29:25.496Z"
   },
   {
    "duration": 8,
    "start_time": "2023-04-12T11:29:25.544Z"
   },
   {
    "duration": 3,
    "start_time": "2023-04-12T11:33:01.047Z"
   },
   {
    "duration": 3,
    "start_time": "2023-04-12T11:33:06.942Z"
   },
   {
    "duration": 2608,
    "start_time": "2023-04-12T11:33:42.679Z"
   },
   {
    "duration": 3,
    "start_time": "2023-04-12T11:33:45.291Z"
   },
   {
    "duration": 1424,
    "start_time": "2023-04-12T11:33:45.296Z"
   },
   {
    "duration": 4,
    "start_time": "2023-04-12T11:33:46.722Z"
   },
   {
    "duration": 11,
    "start_time": "2023-04-12T11:33:46.728Z"
   },
   {
    "duration": 20,
    "start_time": "2023-04-12T11:33:46.741Z"
   },
   {
    "duration": 7,
    "start_time": "2023-04-12T11:33:46.763Z"
   },
   {
    "duration": 909,
    "start_time": "2023-04-12T11:33:46.772Z"
   },
   {
    "duration": 8,
    "start_time": "2023-04-12T11:33:47.683Z"
   },
   {
    "duration": 3827,
    "start_time": "2023-04-12T11:33:47.693Z"
   },
   {
    "duration": 3,
    "start_time": "2023-04-12T11:33:51.522Z"
   },
   {
    "duration": 32,
    "start_time": "2023-04-12T11:33:51.526Z"
   },
   {
    "duration": 9,
    "start_time": "2023-04-12T11:33:51.560Z"
   },
   {
    "duration": 32,
    "start_time": "2023-04-12T11:33:51.572Z"
   },
   {
    "duration": 576,
    "start_time": "2023-04-12T11:33:51.606Z"
   },
   {
    "duration": 45,
    "start_time": "2023-04-12T11:33:52.184Z"
   },
   {
    "duration": 27,
    "start_time": "2023-04-12T11:33:52.231Z"
   },
   {
    "duration": 3442,
    "start_time": "2023-04-12T11:33:52.260Z"
   },
   {
    "duration": 26,
    "start_time": "2023-04-12T11:33:55.704Z"
   },
   {
    "duration": 43,
    "start_time": "2023-04-12T11:33:55.732Z"
   },
   {
    "duration": 50,
    "start_time": "2023-04-12T11:33:55.777Z"
   },
   {
    "duration": 43,
    "start_time": "2023-04-12T11:33:55.829Z"
   },
   {
    "duration": 30,
    "start_time": "2023-04-12T11:33:55.874Z"
   },
   {
    "duration": 41,
    "start_time": "2023-04-12T11:33:55.907Z"
   },
   {
    "duration": 47,
    "start_time": "2023-04-12T11:33:55.950Z"
   },
   {
    "duration": 56,
    "start_time": "2023-04-12T11:33:55.999Z"
   },
   {
    "duration": 53,
    "start_time": "2023-04-12T11:33:56.058Z"
   },
   {
    "duration": 47,
    "start_time": "2023-04-12T11:33:56.113Z"
   },
   {
    "duration": 142,
    "start_time": "2023-04-12T11:33:56.162Z"
   },
   {
    "duration": 338,
    "start_time": "2023-04-12T11:33:56.306Z"
   },
   {
    "duration": 447,
    "start_time": "2023-04-12T11:33:56.646Z"
   },
   {
    "duration": 29,
    "start_time": "2023-04-12T11:33:57.095Z"
   },
   {
    "duration": 14,
    "start_time": "2023-04-12T11:33:57.125Z"
   },
   {
    "duration": 14,
    "start_time": "2023-04-12T11:33:57.141Z"
   },
   {
    "duration": 24,
    "start_time": "2023-04-12T11:33:57.157Z"
   },
   {
    "duration": 169,
    "start_time": "2023-04-12T11:33:57.183Z"
   },
   {
    "duration": 317,
    "start_time": "2023-04-12T11:33:57.353Z"
   },
   {
    "duration": 312,
    "start_time": "2023-04-12T11:33:57.672Z"
   },
   {
    "duration": 17,
    "start_time": "2023-04-12T11:33:57.986Z"
   },
   {
    "duration": 8,
    "start_time": "2023-04-12T11:33:58.018Z"
   },
   {
    "duration": 49,
    "start_time": "2023-04-12T11:33:58.031Z"
   },
   {
    "duration": 22,
    "start_time": "2023-04-12T11:33:58.082Z"
   },
   {
    "duration": 88,
    "start_time": "2023-04-12T11:33:58.106Z"
   },
   {
    "duration": 27,
    "start_time": "2023-04-12T11:33:58.197Z"
   },
   {
    "duration": 102,
    "start_time": "2023-04-12T11:33:58.226Z"
   },
   {
    "duration": 18,
    "start_time": "2023-04-12T11:33:58.330Z"
   },
   {
    "duration": 32,
    "start_time": "2023-04-12T11:33:58.350Z"
   },
   {
    "duration": 84,
    "start_time": "2023-04-12T11:33:58.384Z"
   },
   {
    "duration": 23,
    "start_time": "2023-04-12T11:33:58.470Z"
   },
   {
    "duration": 106,
    "start_time": "2023-04-12T11:33:58.495Z"
   },
   {
    "duration": 65,
    "start_time": "2023-04-12T11:33:58.603Z"
   },
   {
    "duration": 8,
    "start_time": "2023-04-12T11:33:58.670Z"
   },
   {
    "duration": 206,
    "start_time": "2023-04-12T11:33:58.679Z"
   },
   {
    "duration": 13,
    "start_time": "2023-04-12T11:33:58.887Z"
   },
   {
    "duration": 25,
    "start_time": "2023-04-12T11:33:58.902Z"
   },
   {
    "duration": 10,
    "start_time": "2023-04-12T11:33:58.929Z"
   },
   {
    "duration": 32,
    "start_time": "2023-04-12T11:33:58.941Z"
   },
   {
    "duration": 925,
    "start_time": "2023-04-12T11:33:58.975Z"
   },
   {
    "duration": 490,
    "start_time": "2023-04-12T11:33:59.901Z"
   },
   {
    "duration": 3,
    "start_time": "2023-04-12T11:34:00.392Z"
   },
   {
    "duration": 94,
    "start_time": "2023-04-12T11:34:00.397Z"
   },
   {
    "duration": 40,
    "start_time": "2023-04-12T11:34:00.493Z"
   },
   {
    "duration": 690985,
    "start_time": "2023-04-12T11:34:00.535Z"
   },
   {
    "duration": 5,
    "start_time": "2023-04-12T11:45:31.523Z"
   },
   {
    "duration": 41,
    "start_time": "2023-04-12T11:45:31.530Z"
   },
   {
    "duration": 43449,
    "start_time": "2023-04-12T11:45:31.574Z"
   },
   {
    "duration": 199110,
    "start_time": "2023-04-12T11:46:15.025Z"
   },
   {
    "duration": 3,
    "start_time": "2023-04-12T11:49:34.137Z"
   },
   {
    "duration": 134,
    "start_time": "2023-04-12T11:49:34.142Z"
   },
   {
    "duration": 4,
    "start_time": "2023-04-12T11:49:34.278Z"
   },
   {
    "duration": 22,
    "start_time": "2023-04-12T11:49:34.284Z"
   },
   {
    "duration": 24,
    "start_time": "2023-04-12T11:49:34.307Z"
   },
   {
    "duration": 417198,
    "start_time": "2023-04-12T11:49:34.333Z"
   },
   {
    "duration": 87,
    "start_time": "2023-04-12T11:56:31.533Z"
   },
   {
    "duration": 39,
    "start_time": "2023-04-12T11:56:31.621Z"
   },
   {
    "duration": 21,
    "start_time": "2023-04-12T11:56:31.662Z"
   },
   {
    "duration": 62,
    "start_time": "2023-04-12T11:56:31.685Z"
   },
   {
    "duration": 173283,
    "start_time": "2023-04-12T11:56:31.749Z"
   },
   {
    "duration": 4,
    "start_time": "2023-04-12T11:59:25.034Z"
   },
   {
    "duration": 13,
    "start_time": "2023-04-12T11:59:25.040Z"
   },
   {
    "duration": 6470,
    "start_time": "2023-04-12T11:59:25.055Z"
   },
   {
    "duration": 209,
    "start_time": "2023-04-12T11:59:31.527Z"
   },
   {
    "duration": 5,
    "start_time": "2023-04-12T11:59:31.738Z"
   },
   {
    "duration": 43,
    "start_time": "2023-04-12T11:59:31.745Z"
   },
   {
    "duration": 57,
    "start_time": "2023-04-12T11:59:31.790Z"
   },
   {
    "duration": 37,
    "start_time": "2023-04-12T11:59:31.850Z"
   },
   {
    "duration": 6438,
    "start_time": "2023-04-12T11:59:31.889Z"
   },
   {
    "duration": 790,
    "start_time": "2023-04-12T11:59:38.328Z"
   },
   {
    "duration": 5,
    "start_time": "2023-04-12T11:59:39.120Z"
   },
   {
    "duration": 8,
    "start_time": "2023-04-12T11:59:39.127Z"
   },
   {
    "duration": 5736,
    "start_time": "2023-04-12T11:59:39.136Z"
   },
   {
    "duration": 59,
    "start_time": "2023-04-12T11:59:44.874Z"
   },
   {
    "duration": 19,
    "start_time": "2023-04-12T11:59:44.934Z"
   },
   {
    "duration": 4,
    "start_time": "2023-04-12T13:18:45.711Z"
   },
   {
    "duration": 5852,
    "start_time": "2023-04-12T13:18:47.368Z"
   },
   {
    "duration": 44,
    "start_time": "2023-04-12T13:18:54.398Z"
   },
   {
    "duration": 6,
    "start_time": "2023-04-12T13:18:57.184Z"
   },
   {
    "duration": 6,
    "start_time": "2023-04-12T13:19:03.985Z"
   },
   {
    "duration": 6046,
    "start_time": "2023-04-12T13:19:12.676Z"
   },
   {
    "duration": 2104,
    "start_time": "2023-04-12T13:19:36.231Z"
   },
   {
    "duration": 6,
    "start_time": "2023-04-12T13:19:42.336Z"
   },
   {
    "duration": 3,
    "start_time": "2023-04-12T13:19:50.850Z"
   },
   {
    "duration": 6044,
    "start_time": "2023-04-12T13:19:55.090Z"
   },
   {
    "duration": 135,
    "start_time": "2023-04-12T13:20:07.065Z"
   },
   {
    "duration": 6,
    "start_time": "2023-04-12T13:20:14.947Z"
   },
   {
    "duration": 2469,
    "start_time": "2023-04-12T13:21:33.731Z"
   },
   {
    "duration": 3,
    "start_time": "2023-04-12T13:21:36.202Z"
   },
   {
    "duration": 1436,
    "start_time": "2023-04-12T13:21:36.208Z"
   },
   {
    "duration": 4,
    "start_time": "2023-04-12T13:21:37.646Z"
   },
   {
    "duration": 45,
    "start_time": "2023-04-12T13:21:37.652Z"
   },
   {
    "duration": 101,
    "start_time": "2023-04-12T13:21:37.699Z"
   },
   {
    "duration": 52,
    "start_time": "2023-04-12T13:21:37.803Z"
   },
   {
    "duration": 961,
    "start_time": "2023-04-12T13:21:37.857Z"
   },
   {
    "duration": 9,
    "start_time": "2023-04-12T13:21:38.820Z"
   },
   {
    "duration": 4260,
    "start_time": "2023-04-12T13:21:38.831Z"
   },
   {
    "duration": 3,
    "start_time": "2023-04-12T13:21:43.093Z"
   },
   {
    "duration": 24,
    "start_time": "2023-04-12T13:21:43.098Z"
   },
   {
    "duration": 18,
    "start_time": "2023-04-12T13:21:43.124Z"
   },
   {
    "duration": 21,
    "start_time": "2023-04-12T13:21:43.144Z"
   },
   {
    "duration": 593,
    "start_time": "2023-04-12T13:21:43.167Z"
   },
   {
    "duration": 57,
    "start_time": "2023-04-12T13:21:43.762Z"
   },
   {
    "duration": 6,
    "start_time": "2023-04-12T13:21:43.821Z"
   },
   {
    "duration": 3258,
    "start_time": "2023-04-12T13:21:43.828Z"
   },
   {
    "duration": 33,
    "start_time": "2023-04-12T13:21:47.088Z"
   },
   {
    "duration": 44,
    "start_time": "2023-04-12T13:21:47.122Z"
   },
   {
    "duration": 75,
    "start_time": "2023-04-12T13:21:47.168Z"
   },
   {
    "duration": 40,
    "start_time": "2023-04-12T13:21:47.244Z"
   },
   {
    "duration": 43,
    "start_time": "2023-04-12T13:21:47.286Z"
   },
   {
    "duration": 29,
    "start_time": "2023-04-12T13:21:47.331Z"
   },
   {
    "duration": 37,
    "start_time": "2023-04-12T13:21:47.362Z"
   },
   {
    "duration": 28,
    "start_time": "2023-04-12T13:21:47.401Z"
   },
   {
    "duration": 31,
    "start_time": "2023-04-12T13:21:47.431Z"
   },
   {
    "duration": 26,
    "start_time": "2023-04-12T13:21:47.466Z"
   },
   {
    "duration": 141,
    "start_time": "2023-04-12T13:21:47.494Z"
   },
   {
    "duration": 356,
    "start_time": "2023-04-12T13:21:47.637Z"
   },
   {
    "duration": 379,
    "start_time": "2023-04-12T13:21:47.996Z"
   },
   {
    "duration": 19,
    "start_time": "2023-04-12T13:21:48.377Z"
   },
   {
    "duration": 26,
    "start_time": "2023-04-12T13:21:48.398Z"
   },
   {
    "duration": 17,
    "start_time": "2023-04-12T13:21:48.426Z"
   },
   {
    "duration": 40,
    "start_time": "2023-04-12T13:21:48.445Z"
   },
   {
    "duration": 335,
    "start_time": "2023-04-12T13:21:48.488Z"
   },
   {
    "duration": 317,
    "start_time": "2023-04-12T13:21:48.825Z"
   },
   {
    "duration": 323,
    "start_time": "2023-04-12T13:21:49.144Z"
   },
   {
    "duration": 20,
    "start_time": "2023-04-12T13:21:49.468Z"
   },
   {
    "duration": 78,
    "start_time": "2023-04-12T13:21:49.491Z"
   },
   {
    "duration": 82,
    "start_time": "2023-04-12T13:21:49.571Z"
   },
   {
    "duration": 18,
    "start_time": "2023-04-12T13:21:49.655Z"
   },
   {
    "duration": 92,
    "start_time": "2023-04-12T13:21:49.675Z"
   },
   {
    "duration": 5,
    "start_time": "2023-04-12T13:21:49.769Z"
   },
   {
    "duration": 121,
    "start_time": "2023-04-12T13:21:49.776Z"
   },
   {
    "duration": 41,
    "start_time": "2023-04-12T13:21:49.899Z"
   },
   {
    "duration": 50,
    "start_time": "2023-04-12T13:21:49.942Z"
   },
   {
    "duration": 99,
    "start_time": "2023-04-12T13:21:49.994Z"
   },
   {
    "duration": 24,
    "start_time": "2023-04-12T13:21:50.095Z"
   },
   {
    "duration": 87,
    "start_time": "2023-04-12T13:21:50.121Z"
   },
   {
    "duration": 89,
    "start_time": "2023-04-12T13:21:50.210Z"
   },
   {
    "duration": 10,
    "start_time": "2023-04-12T13:21:50.301Z"
   },
   {
    "duration": 229,
    "start_time": "2023-04-12T13:21:50.313Z"
   },
   {
    "duration": 12,
    "start_time": "2023-04-12T13:21:50.544Z"
   },
   {
    "duration": 37,
    "start_time": "2023-04-12T13:21:50.559Z"
   },
   {
    "duration": 34,
    "start_time": "2023-04-12T13:21:50.598Z"
   },
   {
    "duration": 23,
    "start_time": "2023-04-12T13:21:50.634Z"
   },
   {
    "duration": 906,
    "start_time": "2023-04-12T13:21:50.658Z"
   },
   {
    "duration": 527,
    "start_time": "2023-04-12T13:21:51.566Z"
   },
   {
    "duration": 3,
    "start_time": "2023-04-12T13:21:52.095Z"
   },
   {
    "duration": 39,
    "start_time": "2023-04-12T13:21:52.099Z"
   },
   {
    "duration": 24,
    "start_time": "2023-04-12T13:21:52.140Z"
   },
   {
    "duration": 658054,
    "start_time": "2023-04-12T13:21:52.166Z"
   },
   {
    "duration": 5,
    "start_time": "2023-04-12T13:32:50.222Z"
   },
   {
    "duration": 23,
    "start_time": "2023-04-12T13:32:50.317Z"
   },
   {
    "duration": 43482,
    "start_time": "2023-04-12T13:32:50.341Z"
   },
   {
    "duration": 216298,
    "start_time": "2023-04-12T13:33:33.825Z"
   },
   {
    "duration": 5,
    "start_time": "2023-04-12T13:37:10.125Z"
   },
   {
    "duration": 146,
    "start_time": "2023-04-12T13:37:10.132Z"
   },
   {
    "duration": 4,
    "start_time": "2023-04-12T13:37:10.280Z"
   },
   {
    "duration": 18,
    "start_time": "2023-04-12T13:37:10.285Z"
   },
   {
    "duration": 26,
    "start_time": "2023-04-12T13:37:10.304Z"
   },
   {
    "duration": 1116797,
    "start_time": "2023-04-12T13:37:10.332Z"
   },
   {
    "duration": 6,
    "start_time": "2023-04-12T13:55:47.131Z"
   },
   {
    "duration": 42,
    "start_time": "2023-04-12T13:55:47.139Z"
   },
   {
    "duration": 30,
    "start_time": "2023-04-12T13:55:47.184Z"
   },
   {
    "duration": 36,
    "start_time": "2023-04-12T13:55:47.217Z"
   },
   {
    "duration": 162836,
    "start_time": "2023-04-12T13:55:47.254Z"
   },
   {
    "duration": 4,
    "start_time": "2023-04-12T13:58:30.093Z"
   },
   {
    "duration": 70,
    "start_time": "2023-04-12T13:58:30.099Z"
   },
   {
    "duration": 5857,
    "start_time": "2023-04-12T13:58:30.171Z"
   },
   {
    "duration": 47,
    "start_time": "2023-04-12T13:58:36.218Z"
   },
   {
    "duration": 7,
    "start_time": "2023-04-12T13:58:36.268Z"
   },
   {
    "duration": 19,
    "start_time": "2023-04-12T13:58:36.276Z"
   },
   {
    "duration": 709835,
    "start_time": "2023-04-12T13:58:36.297Z"
   },
   {
    "duration": 2130,
    "start_time": "2023-04-12T14:10:26.134Z"
   },
   {
    "duration": 52,
    "start_time": "2023-04-12T14:10:28.266Z"
   },
   {
    "duration": 4,
    "start_time": "2023-04-12T14:10:28.321Z"
   },
   {
    "duration": 5770,
    "start_time": "2023-04-12T14:10:28.327Z"
   },
   {
    "duration": 192,
    "start_time": "2023-04-12T14:10:34.099Z"
   },
   {
    "duration": 7,
    "start_time": "2023-04-12T14:10:34.294Z"
   },
   {
    "duration": 48,
    "start_time": "2023-04-12T14:23:49.923Z"
   },
   {
    "duration": 5,
    "start_time": "2023-04-12T14:24:22.233Z"
   }
  ],
  "kernelspec": {
   "display_name": "Python 3 (ipykernel)",
   "language": "python",
   "name": "python3"
  },
  "language_info": {
   "codemirror_mode": {
    "name": "ipython",
    "version": 3
   },
   "file_extension": ".py",
   "mimetype": "text/x-python",
   "name": "python",
   "nbconvert_exporter": "python",
   "pygments_lexer": "ipython3",
   "version": "3.9.12"
  },
  "toc": {
   "base_numbering": 1,
   "nav_menu": {},
   "number_sections": true,
   "sideBar": true,
   "skip_h1_title": true,
   "title_cell": "Table of Contents",
   "title_sidebar": "Contents",
   "toc_cell": false,
   "toc_position": {
    "height": "calc(100% - 180px)",
    "left": "10px",
    "top": "150px",
    "width": "391.865px"
   },
   "toc_section_display": true,
   "toc_window_display": true
  }
 },
 "nbformat": 4,
 "nbformat_minor": 2
}
