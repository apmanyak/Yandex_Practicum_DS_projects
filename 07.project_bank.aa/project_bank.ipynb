{
 "cells": [
  {
   "cell_type": "markdown",
   "metadata": {
    "toc": true
   },
   "source": [
    "<h1>Содержание<span class=\"tocSkip\"></span></h1>\n",
    "<div class=\"toc\"><ul class=\"toc-item\"><li><span><a href=\"#Подготовка-данных\" data-toc-modified-id=\"Подготовка-данных-1\"><span class=\"toc-item-num\">1&nbsp;&nbsp;</span>Подготовка данных</a></span></li><li><span><a href=\"#Исследование-задачи\" data-toc-modified-id=\"Исследование-задачи-2\"><span class=\"toc-item-num\">2&nbsp;&nbsp;</span>Исследование задачи</a></span></li><li><span><a href=\"#Борьба-с-дисбалансом\" data-toc-modified-id=\"Борьба-с-дисбалансом-3\"><span class=\"toc-item-num\">3&nbsp;&nbsp;</span>Борьба с дисбалансом</a></span></li><li><span><a href=\"#Тестирование-модели\" data-toc-modified-id=\"Тестирование-модели-4\"><span class=\"toc-item-num\">4&nbsp;&nbsp;</span>Тестирование модели</a></span></li><li><span><a href=\"#Итоговый-вывод\" data-toc-modified-id=\"Итоговый-вывод-5\"><span class=\"toc-item-num\">5&nbsp;&nbsp;</span>Итоговый вывод</a></span></li></ul></div>"
   ]
  },
  {
   "cell_type": "markdown",
   "metadata": {},
   "source": [
    "# Отток клиентов"
   ]
  },
  {
   "cell_type": "markdown",
   "metadata": {},
   "source": [
    "Из банка стали уходить клиенты. \n",
    "\n",
    "Нужно спрогнозировать, уйдёт клиент из банка в ближайшее время или нет. Предоставлены исторические данные о поведении клиентов и расторжении договоров с банком. \n",
    "\n",
    "Необходимо построить модель с предельно большим значением *F1*-меры (более 0.59).\n",
    "\n",
    "Дополнительно измеряем *AUC-ROC*, сравниваем её значение с *F1*-мерой.\n",
    "\n",
    "Источник данных: [https://www.kaggle.com/barelydedicated/bank-customer-churn-modeling](https://www.kaggle.com/barelydedicated/bank-customer-churn-modeling)"
   ]
  },
  {
   "cell_type": "markdown",
   "metadata": {},
   "source": [
    "## Подготовка данных"
   ]
  },
  {
   "cell_type": "markdown",
   "metadata": {},
   "source": [
    "**Импортируем библиотеки**"
   ]
  },
  {
   "cell_type": "code",
   "execution_count": 1,
   "metadata": {},
   "outputs": [],
   "source": [
    "import pandas as pd\n",
    "\n",
    "import matplotlib.pyplot as plt\n",
    "import numpy as np\n",
    "\n",
    "from sklearn.tree import DecisionTreeClassifier\n",
    "from sklearn.ensemble import RandomForestClassifier\n",
    "from sklearn.linear_model import LogisticRegression \n",
    "\n",
    "from sklearn.model_selection import train_test_split \n",
    "from sklearn.preprocessing import (\n",
    "    OneHotEncoder,\n",
    "    StandardScaler\n",
    ")\n",
    "\n",
    "\n",
    "from sklearn.metrics import (\n",
    "    accuracy_score,\n",
    "    confusion_matrix,\n",
    "    recall_score,\n",
    "    precision_score,\n",
    "    f1_score,\n",
    "    precision_recall_curve,\n",
    "    roc_auc_score,\n",
    "    roc_curve\n",
    ")\n",
    "\n",
    "                             \n",
    "from sklearn.utils import shuffle\n",
    "\n",
    "\n",
    "import warnings\n",
    "warnings.simplefilter(\"ignore\")\n",
    "warnings.filterwarnings(\"ignore\")\n",
    "\n",
    "# константа\n",
    "RANDOM_STATE = 12345"
   ]
  },
  {
   "cell_type": "code",
   "execution_count": 2,
   "metadata": {},
   "outputs": [
    {
     "name": "stdout",
     "output_type": "stream",
     "text": [
      "Requirement already satisfied: scikit-learn==1.1.3 in /Users/manyak_pro/opt/anaconda3/lib/python3.9/site-packages (1.1.3)\n",
      "Requirement already satisfied: threadpoolctl>=2.0.0 in /Users/manyak_pro/opt/anaconda3/lib/python3.9/site-packages (from scikit-learn==1.1.3) (2.2.0)\n",
      "Requirement already satisfied: scipy>=1.3.2 in /Users/manyak_pro/opt/anaconda3/lib/python3.9/site-packages (from scikit-learn==1.1.3) (1.8.0)\n",
      "Requirement already satisfied: numpy>=1.17.3 in /Users/manyak_pro/opt/anaconda3/lib/python3.9/site-packages (from scikit-learn==1.1.3) (1.21.5)\n",
      "Requirement already satisfied: joblib>=1.0.0 in /Users/manyak_pro/opt/anaconda3/lib/python3.9/site-packages (from scikit-learn==1.1.3) (1.1.0)\n"
     ]
    }
   ],
   "source": [
    "# установим последнюю версию scikit-learn\n",
    "!pip install scikit-learn==1.1.3"
   ]
  },
  {
   "cell_type": "markdown",
   "metadata": {},
   "source": [
    "**Считаем данные из csv-файла в датафрейм и сохраним в переменную data. Путь к файлу:**\n",
    "`/datasets/Churn.csv`"
   ]
  },
  {
   "cell_type": "code",
   "execution_count": 3,
   "metadata": {},
   "outputs": [],
   "source": [
    "data = pd.read_csv('/datasets/Churn.csv')"
   ]
  },
  {
   "cell_type": "markdown",
   "metadata": {},
   "source": [
    "**Выводим первые 10 строчек датафрейма на экран**"
   ]
  },
  {
   "cell_type": "code",
   "execution_count": 4,
   "metadata": {},
   "outputs": [
    {
     "data": {
      "text/html": [
       "<div>\n",
       "<style scoped>\n",
       "    .dataframe tbody tr th:only-of-type {\n",
       "        vertical-align: middle;\n",
       "    }\n",
       "\n",
       "    .dataframe tbody tr th {\n",
       "        vertical-align: top;\n",
       "    }\n",
       "\n",
       "    .dataframe thead th {\n",
       "        text-align: right;\n",
       "    }\n",
       "</style>\n",
       "<table border=\"1\" class=\"dataframe\">\n",
       "  <thead>\n",
       "    <tr style=\"text-align: right;\">\n",
       "      <th></th>\n",
       "      <th>RowNumber</th>\n",
       "      <th>CustomerId</th>\n",
       "      <th>Surname</th>\n",
       "      <th>CreditScore</th>\n",
       "      <th>Geography</th>\n",
       "      <th>Gender</th>\n",
       "      <th>Age</th>\n",
       "      <th>Tenure</th>\n",
       "      <th>Balance</th>\n",
       "      <th>NumOfProducts</th>\n",
       "      <th>HasCrCard</th>\n",
       "      <th>IsActiveMember</th>\n",
       "      <th>EstimatedSalary</th>\n",
       "      <th>Exited</th>\n",
       "    </tr>\n",
       "  </thead>\n",
       "  <tbody>\n",
       "    <tr>\n",
       "      <th>0</th>\n",
       "      <td>1</td>\n",
       "      <td>15634602</td>\n",
       "      <td>Hargrave</td>\n",
       "      <td>619</td>\n",
       "      <td>France</td>\n",
       "      <td>Female</td>\n",
       "      <td>42</td>\n",
       "      <td>2.0</td>\n",
       "      <td>0.00</td>\n",
       "      <td>1</td>\n",
       "      <td>1</td>\n",
       "      <td>1</td>\n",
       "      <td>101348.88</td>\n",
       "      <td>1</td>\n",
       "    </tr>\n",
       "    <tr>\n",
       "      <th>1</th>\n",
       "      <td>2</td>\n",
       "      <td>15647311</td>\n",
       "      <td>Hill</td>\n",
       "      <td>608</td>\n",
       "      <td>Spain</td>\n",
       "      <td>Female</td>\n",
       "      <td>41</td>\n",
       "      <td>1.0</td>\n",
       "      <td>83807.86</td>\n",
       "      <td>1</td>\n",
       "      <td>0</td>\n",
       "      <td>1</td>\n",
       "      <td>112542.58</td>\n",
       "      <td>0</td>\n",
       "    </tr>\n",
       "    <tr>\n",
       "      <th>2</th>\n",
       "      <td>3</td>\n",
       "      <td>15619304</td>\n",
       "      <td>Onio</td>\n",
       "      <td>502</td>\n",
       "      <td>France</td>\n",
       "      <td>Female</td>\n",
       "      <td>42</td>\n",
       "      <td>8.0</td>\n",
       "      <td>159660.80</td>\n",
       "      <td>3</td>\n",
       "      <td>1</td>\n",
       "      <td>0</td>\n",
       "      <td>113931.57</td>\n",
       "      <td>1</td>\n",
       "    </tr>\n",
       "    <tr>\n",
       "      <th>3</th>\n",
       "      <td>4</td>\n",
       "      <td>15701354</td>\n",
       "      <td>Boni</td>\n",
       "      <td>699</td>\n",
       "      <td>France</td>\n",
       "      <td>Female</td>\n",
       "      <td>39</td>\n",
       "      <td>1.0</td>\n",
       "      <td>0.00</td>\n",
       "      <td>2</td>\n",
       "      <td>0</td>\n",
       "      <td>0</td>\n",
       "      <td>93826.63</td>\n",
       "      <td>0</td>\n",
       "    </tr>\n",
       "    <tr>\n",
       "      <th>4</th>\n",
       "      <td>5</td>\n",
       "      <td>15737888</td>\n",
       "      <td>Mitchell</td>\n",
       "      <td>850</td>\n",
       "      <td>Spain</td>\n",
       "      <td>Female</td>\n",
       "      <td>43</td>\n",
       "      <td>2.0</td>\n",
       "      <td>125510.82</td>\n",
       "      <td>1</td>\n",
       "      <td>1</td>\n",
       "      <td>1</td>\n",
       "      <td>79084.10</td>\n",
       "      <td>0</td>\n",
       "    </tr>\n",
       "    <tr>\n",
       "      <th>5</th>\n",
       "      <td>6</td>\n",
       "      <td>15574012</td>\n",
       "      <td>Chu</td>\n",
       "      <td>645</td>\n",
       "      <td>Spain</td>\n",
       "      <td>Male</td>\n",
       "      <td>44</td>\n",
       "      <td>8.0</td>\n",
       "      <td>113755.78</td>\n",
       "      <td>2</td>\n",
       "      <td>1</td>\n",
       "      <td>0</td>\n",
       "      <td>149756.71</td>\n",
       "      <td>1</td>\n",
       "    </tr>\n",
       "    <tr>\n",
       "      <th>6</th>\n",
       "      <td>7</td>\n",
       "      <td>15592531</td>\n",
       "      <td>Bartlett</td>\n",
       "      <td>822</td>\n",
       "      <td>France</td>\n",
       "      <td>Male</td>\n",
       "      <td>50</td>\n",
       "      <td>7.0</td>\n",
       "      <td>0.00</td>\n",
       "      <td>2</td>\n",
       "      <td>1</td>\n",
       "      <td>1</td>\n",
       "      <td>10062.80</td>\n",
       "      <td>0</td>\n",
       "    </tr>\n",
       "    <tr>\n",
       "      <th>7</th>\n",
       "      <td>8</td>\n",
       "      <td>15656148</td>\n",
       "      <td>Obinna</td>\n",
       "      <td>376</td>\n",
       "      <td>Germany</td>\n",
       "      <td>Female</td>\n",
       "      <td>29</td>\n",
       "      <td>4.0</td>\n",
       "      <td>115046.74</td>\n",
       "      <td>4</td>\n",
       "      <td>1</td>\n",
       "      <td>0</td>\n",
       "      <td>119346.88</td>\n",
       "      <td>1</td>\n",
       "    </tr>\n",
       "    <tr>\n",
       "      <th>8</th>\n",
       "      <td>9</td>\n",
       "      <td>15792365</td>\n",
       "      <td>He</td>\n",
       "      <td>501</td>\n",
       "      <td>France</td>\n",
       "      <td>Male</td>\n",
       "      <td>44</td>\n",
       "      <td>4.0</td>\n",
       "      <td>142051.07</td>\n",
       "      <td>2</td>\n",
       "      <td>0</td>\n",
       "      <td>1</td>\n",
       "      <td>74940.50</td>\n",
       "      <td>0</td>\n",
       "    </tr>\n",
       "    <tr>\n",
       "      <th>9</th>\n",
       "      <td>10</td>\n",
       "      <td>15592389</td>\n",
       "      <td>H?</td>\n",
       "      <td>684</td>\n",
       "      <td>France</td>\n",
       "      <td>Male</td>\n",
       "      <td>27</td>\n",
       "      <td>2.0</td>\n",
       "      <td>134603.88</td>\n",
       "      <td>1</td>\n",
       "      <td>1</td>\n",
       "      <td>1</td>\n",
       "      <td>71725.73</td>\n",
       "      <td>0</td>\n",
       "    </tr>\n",
       "  </tbody>\n",
       "</table>\n",
       "</div>"
      ],
      "text/plain": [
       "   RowNumber  CustomerId   Surname  CreditScore Geography  Gender  Age  \\\n",
       "0          1    15634602  Hargrave          619    France  Female   42   \n",
       "1          2    15647311      Hill          608     Spain  Female   41   \n",
       "2          3    15619304      Onio          502    France  Female   42   \n",
       "3          4    15701354      Boni          699    France  Female   39   \n",
       "4          5    15737888  Mitchell          850     Spain  Female   43   \n",
       "5          6    15574012       Chu          645     Spain    Male   44   \n",
       "6          7    15592531  Bartlett          822    France    Male   50   \n",
       "7          8    15656148    Obinna          376   Germany  Female   29   \n",
       "8          9    15792365        He          501    France    Male   44   \n",
       "9         10    15592389        H?          684    France    Male   27   \n",
       "\n",
       "   Tenure    Balance  NumOfProducts  HasCrCard  IsActiveMember  \\\n",
       "0     2.0       0.00              1          1               1   \n",
       "1     1.0   83807.86              1          0               1   \n",
       "2     8.0  159660.80              3          1               0   \n",
       "3     1.0       0.00              2          0               0   \n",
       "4     2.0  125510.82              1          1               1   \n",
       "5     8.0  113755.78              2          1               0   \n",
       "6     7.0       0.00              2          1               1   \n",
       "7     4.0  115046.74              4          1               0   \n",
       "8     4.0  142051.07              2          0               1   \n",
       "9     2.0  134603.88              1          1               1   \n",
       "\n",
       "   EstimatedSalary  Exited  \n",
       "0        101348.88       1  \n",
       "1        112542.58       0  \n",
       "2        113931.57       1  \n",
       "3         93826.63       0  \n",
       "4         79084.10       0  \n",
       "5        149756.71       1  \n",
       "6         10062.80       0  \n",
       "7        119346.88       1  \n",
       "8         74940.50       0  \n",
       "9         71725.73       0  "
      ]
     },
     "execution_count": 4,
     "metadata": {},
     "output_type": "execute_result"
    }
   ],
   "source": [
    "pd.set_option('display.max_columns', None)\n",
    "data.head(10)"
   ]
  },
  {
   "cell_type": "markdown",
   "metadata": {},
   "source": [
    "**Описание данных**\n",
    "\n",
    "**Признаки**\n",
    "- **RowNumber** — индекс строки в данных\n",
    "- **CustomerId** — уникальный идентификатор клиента\n",
    "- **Surname** — фамилия\n",
    "- **CreditScore** — кредитный рейтинг\n",
    "- **Geography** — страна проживания\n",
    "- **Gender** — пол\n",
    "- **Age** — возраст\n",
    "- **Tenure** — сколько лет человек является клиентом банка\n",
    "- **Balance** — баланс на счёте\n",
    "- **NumOfProducts** — количество продуктов банка, используемых клиентом\n",
    "- **HasCrCard** — наличие кредитной карты (1 - есть кредитная карта, 0 - нет кредитной карты)\n",
    "- **IsActiveMember** — активность клиента (1- активен, 0 - не активен)\n",
    "- **EstimatedSalary** — предполагаемая зарплата\n",
    "\n",
    "**Целевой признак**\n",
    "- **Exited** — факт ухода клиента ( 1 - ушел клиент, 0 - не ушел)"
   ]
  },
  {
   "cell_type": "markdown",
   "metadata": {},
   "source": [
    "**Выведим основную информацию о датафрейме.**"
   ]
  },
  {
   "cell_type": "code",
   "execution_count": 5,
   "metadata": {
    "scrolled": false
   },
   "outputs": [
    {
     "name": "stdout",
     "output_type": "stream",
     "text": [
      "<class 'pandas.core.frame.DataFrame'>\n",
      "RangeIndex: 10000 entries, 0 to 9999\n",
      "Data columns (total 14 columns):\n",
      " #   Column           Non-Null Count  Dtype  \n",
      "---  ------           --------------  -----  \n",
      " 0   RowNumber        10000 non-null  int64  \n",
      " 1   CustomerId       10000 non-null  int64  \n",
      " 2   Surname          10000 non-null  object \n",
      " 3   CreditScore      10000 non-null  int64  \n",
      " 4   Geography        10000 non-null  object \n",
      " 5   Gender           10000 non-null  object \n",
      " 6   Age              10000 non-null  int64  \n",
      " 7   Tenure           9091 non-null   float64\n",
      " 8   Balance          10000 non-null  float64\n",
      " 9   NumOfProducts    10000 non-null  int64  \n",
      " 10  HasCrCard        10000 non-null  int64  \n",
      " 11  IsActiveMember   10000 non-null  int64  \n",
      " 12  EstimatedSalary  10000 non-null  float64\n",
      " 13  Exited           10000 non-null  int64  \n",
      "dtypes: float64(3), int64(8), object(3)\n",
      "memory usage: 1.1+ MB\n"
     ]
    }
   ],
   "source": [
    "data.info()"
   ]
  },
  {
   "cell_type": "markdown",
   "metadata": {},
   "source": [
    "В таблице 14 столбцов и 10000 строк.\n",
    "\n",
    "Кол-во значений одинаково во всех столбцах кроме **Tenure**. Необходимо будет исследовать пропущенные значения в данном столбце. Также значения в столбцах **Tenure**  вероятно не соовтесвуют своему типу данных (так под кол-вом лет подразумевается целое число). Предлагается перевести в целочисленный тип `int64`. Но прежде чем переводить необходимо разобраться в причине пропусков и их устарнить"
   ]
  },
  {
   "cell_type": "markdown",
   "metadata": {},
   "source": [
    "**Посчитаем какой процент от всего датафрейма составляют пропуски.**"
   ]
  },
  {
   "cell_type": "code",
   "execution_count": 6,
   "metadata": {
    "scrolled": false
   },
   "outputs": [
    {
     "name": "stdout",
     "output_type": "stream",
     "text": [
      "Процент пропусков в столбце Tenure: 9.09 %\n",
      "Кол-во пропусков в столбце Tenure: 909\n"
     ]
    }
   ],
   "source": [
    "print('Процент пропусков в столбце Tenure:',(data['Tenure'].isna().sum()/len(data))*100, '%')\n",
    "print('Кол-во пропусков в столбце Tenure:',(data['Tenure'].isna().sum()))"
   ]
  },
  {
   "cell_type": "markdown",
   "metadata": {},
   "source": [
    "Пропуски составляют 9%. Достаточно много, чтобы их сразу удалить. Необходимо провести анализ. Вдруг есть какая-то зависимсоть."
   ]
  },
  {
   "cell_type": "markdown",
   "metadata": {},
   "source": [
    "**Построим гистограмму распределения значений в столбце Tenure**"
   ]
  },
  {
   "cell_type": "code",
   "execution_count": 7,
   "metadata": {},
   "outputs": [
    {
     "data": {
      "image/png": "[encoded data removed]",
      "text/plain": [
       "<Figure size 720x360 with 1 Axes>"
      ]
     },
     "metadata": {
      "needs_background": "light"
     },
     "output_type": "display_data"
    }
   ],
   "source": [
    "(data.groupby('Tenure')['Tenure']\n",
    " .count()\n",
    " .plot(kind='bar',\n",
    "       figsize=(10,5),\n",
    "      grid = True)\n",
    ")\n",
    "plt.title('Tenure')\n",
    "plt.xlabel('Сколько лет человек является клиентом банка')\n",
    "plt.ylabel('Количество лет')\n",
    "plt.show()"
   ]
  },
  {
   "cell_type": "code",
   "execution_count": 8,
   "metadata": {
    "scrolled": true
   },
   "outputs": [
    {
     "data": {
      "text/plain": [
       "count    9091.000000\n",
       "mean        4.997690\n",
       "std         2.894723\n",
       "min         0.000000\n",
       "25%         2.000000\n",
       "50%         5.000000\n",
       "75%         7.000000\n",
       "max        10.000000\n",
       "Name: Tenure, dtype: float64"
      ]
     },
     "execution_count": 8,
     "metadata": {},
     "output_type": "execute_result"
    }
   ],
   "source": [
    "data['Tenure'].describe()"
   ]
  },
  {
   "cell_type": "markdown",
   "metadata": {},
   "source": [
    "По гистограмме можно наблюдать, что в базе кол-во клиентов равномерно распределено по длительности пользования услуг банка. Наблюдаются резкий спад на значение 0 и 10, но кол-во лет между собой не сильно отличаается."
   ]
  },
  {
   "cell_type": "markdown",
   "metadata": {},
   "source": [
    "**Построим гистограмму распределения значений в столбце Tenure, но заполним временно пустые строеки значением unknown** "
   ]
  },
  {
   "cell_type": "code",
   "execution_count": 9,
   "metadata": {},
   "outputs": [],
   "source": [
    "data_copy = data.copy()"
   ]
  },
  {
   "cell_type": "code",
   "execution_count": 10,
   "metadata": {},
   "outputs": [],
   "source": [
    "data_copy['Tenure'] = data_copy['Tenure'].fillna('unknown')"
   ]
  },
  {
   "cell_type": "code",
   "execution_count": 11,
   "metadata": {
    "scrolled": false
   },
   "outputs": [
    {
     "data": {
      "image/png": "[encoded data removed]",
      "text/plain": [
       "<Figure size 720x360 with 1 Axes>"
      ]
     },
     "metadata": {
      "needs_background": "light"
     },
     "output_type": "display_data"
    }
   ],
   "source": [
    "(data_copy.groupby('Tenure')['Tenure']\n",
    " .count()\n",
    " .plot(kind='bar',\n",
    "       figsize=(10,5),\n",
    "      grid = True)\n",
    ")\n",
    "plt.title('Tenure')\n",
    "plt.xlabel('Сколько лет человек является клиентом банка')\n",
    "plt.ylabel('Количество лет')\n",
    "plt.show()"
   ]
  },
  {
   "cell_type": "markdown",
   "metadata": {},
   "source": [
    "Можно наблюдать, что столбец unknown приблизительно соответсвует остальным столбцам графика. "
   ]
  },
  {
   "cell_type": "markdown",
   "metadata": {},
   "source": [
    "**Посмотрим как распределны по категориям 'Gender', 'Geography','NumOfProducts', 'HasCrCard', 'IsActiveMember', 'Exited' пустые и заполненные значения в 'Tenure'**"
   ]
  },
  {
   "cell_type": "code",
   "execution_count": 12,
   "metadata": {
    "scrolled": false
   },
   "outputs": [],
   "source": [
    "def sravnenie(a):\n",
    "    fig, axes = plt.subplots(nrows=1, ncols=2, figsize = (10,4))\n",
    "    plt.subplots_adjust(wspace=0.5, hspace=0.5)\n",
    "\n",
    "\n",
    "    (data[data['Tenure'].isna() == False]\n",
    "     .groupby(a)[a]\n",
    "     .count()\n",
    "     .plot(kind='bar',\n",
    "           grid = True,\n",
    "           ax=axes[0]\n",
    "          )\n",
    "    )\n",
    "    axes[0].set_title(\"Заполненные значение в Tenure\");\n",
    "    axes[0].set_ylabel('Количество')\n",
    "\n",
    "\n",
    "    (data[data['Tenure'].isna() == True]\n",
    "     .groupby(a)[a]\n",
    "     .count()\n",
    "     .plot(kind='bar',\n",
    "           ax=axes[1],\n",
    "           grid = True)\n",
    "    )\n",
    "    axes[1].set_title(\"Пустые значение в Tenure\");\n",
    "    axes[1].set_ylabel('Количество')\n",
    "    plt.show()\n",
    "    return"
   ]
  },
  {
   "cell_type": "code",
   "execution_count": 13,
   "metadata": {
    "scrolled": false
   },
   "outputs": [
    {
     "data": {
      "image/png": "[encoded data removed]",
      "text/plain": [
       "<Figure size 720x288 with 2 Axes>"
      ]
     },
     "metadata": {
      "needs_background": "light"
     },
     "output_type": "display_data"
    },
    {
     "data": {
      "image/png": "[encoded data removed]",
      "text/plain": [
       "<Figure size 720x288 with 2 Axes>"
      ]
     },
     "metadata": {
      "needs_background": "light"
     },
     "output_type": "display_data"
    },
    {
     "data": {
      "image/png": "[encoded data removed]",
      "text/plain": [
       "<Figure size 720x288 with 2 Axes>"
      ]
     },
     "metadata": {
      "needs_background": "light"
     },
     "output_type": "display_data"
    },
    {
     "data": {
      "image/png": "[encoded data removed]",
      "text/plain": [
       "<Figure size 720x288 with 2 Axes>"
      ]
     },
     "metadata": {
      "needs_background": "light"
     },
     "output_type": "display_data"
    },
    {
     "data": {
      "image/png": "[encoded data removed]",
      "text/plain": [
       "<Figure size 720x288 with 2 Axes>"
      ]
     },
     "metadata": {
      "needs_background": "light"
     },
     "output_type": "display_data"
    },
    {
     "data": {
      "image/png": "[encoded data removed]",
      "text/plain": [
       "<Figure size 720x288 with 2 Axes>"
      ]
     },
     "metadata": {
      "needs_background": "light"
     },
     "output_type": "display_data"
    }
   ],
   "source": [
    "for i in ['Gender', 'Geography','NumOfProducts', 'HasCrCard', 'IsActiveMember', 'Exited']:\n",
    "    sravnenie(i)"
   ]
  },
  {
   "cell_type": "markdown",
   "metadata": {},
   "source": [
    "Наблюдается неравномерное распредление данных в 'Geography','NumOfProducts', 'HasCrCard', 'Exited'\n",
    "\n",
    "Во всех случаях между значениями пропущенными и заполненными наблюдается прямая пропорциональность по каждой категории. Таким образом пропущенные данные в 'Tenure' одинаково пропущенных в каждой категории и в равной доле. Зависимость между другими столбцами не найдена. Восставновить пустые значения не получится. \n",
    "Чтобы избавится от пустых строк можно:\n",
    "- заполнить пустые строки 'unknown' и принять, что у нас появилась новая категория\n",
    "- заполнить случайными числами в пределах от 0 до 10 и тем самы равномерно перераспределить значения сохраняя общее соотношение классов.\n",
    "- удалить данные строки, так как их потеря  к общему смещению данных не приведет. особенно это не повлият на целевые признаки. их доля останется такой же. уменьшится только общая выборка данных в датафрейме. \n",
    "\n",
    "В данном исследование предлагется удалить строки с пропусками"
   ]
  },
  {
   "cell_type": "code",
   "execution_count": 14,
   "metadata": {
    "scrolled": true
   },
   "outputs": [
    {
     "data": {
      "text/html": [
       "<div>\n",
       "<style scoped>\n",
       "    .dataframe tbody tr th:only-of-type {\n",
       "        vertical-align: middle;\n",
       "    }\n",
       "\n",
       "    .dataframe tbody tr th {\n",
       "        vertical-align: top;\n",
       "    }\n",
       "\n",
       "    .dataframe thead th {\n",
       "        text-align: right;\n",
       "    }\n",
       "</style>\n",
       "<table border=\"1\" class=\"dataframe\">\n",
       "  <thead>\n",
       "    <tr style=\"text-align: right;\">\n",
       "      <th></th>\n",
       "      <th>index</th>\n",
       "      <th>RowNumber</th>\n",
       "      <th>CustomerId</th>\n",
       "      <th>Surname</th>\n",
       "      <th>CreditScore</th>\n",
       "      <th>Geography</th>\n",
       "      <th>Gender</th>\n",
       "      <th>Age</th>\n",
       "      <th>Tenure</th>\n",
       "      <th>Balance</th>\n",
       "      <th>NumOfProducts</th>\n",
       "      <th>HasCrCard</th>\n",
       "      <th>IsActiveMember</th>\n",
       "      <th>EstimatedSalary</th>\n",
       "      <th>Exited</th>\n",
       "    </tr>\n",
       "  </thead>\n",
       "  <tbody>\n",
       "    <tr>\n",
       "      <th>0</th>\n",
       "      <td>0</td>\n",
       "      <td>1</td>\n",
       "      <td>15634602</td>\n",
       "      <td>Hargrave</td>\n",
       "      <td>619</td>\n",
       "      <td>France</td>\n",
       "      <td>Female</td>\n",
       "      <td>42</td>\n",
       "      <td>2.0</td>\n",
       "      <td>0.00</td>\n",
       "      <td>1</td>\n",
       "      <td>1</td>\n",
       "      <td>1</td>\n",
       "      <td>101348.88</td>\n",
       "      <td>1</td>\n",
       "    </tr>\n",
       "    <tr>\n",
       "      <th>1</th>\n",
       "      <td>1</td>\n",
       "      <td>2</td>\n",
       "      <td>15647311</td>\n",
       "      <td>Hill</td>\n",
       "      <td>608</td>\n",
       "      <td>Spain</td>\n",
       "      <td>Female</td>\n",
       "      <td>41</td>\n",
       "      <td>1.0</td>\n",
       "      <td>83807.86</td>\n",
       "      <td>1</td>\n",
       "      <td>0</td>\n",
       "      <td>1</td>\n",
       "      <td>112542.58</td>\n",
       "      <td>0</td>\n",
       "    </tr>\n",
       "    <tr>\n",
       "      <th>2</th>\n",
       "      <td>2</td>\n",
       "      <td>3</td>\n",
       "      <td>15619304</td>\n",
       "      <td>Onio</td>\n",
       "      <td>502</td>\n",
       "      <td>France</td>\n",
       "      <td>Female</td>\n",
       "      <td>42</td>\n",
       "      <td>8.0</td>\n",
       "      <td>159660.80</td>\n",
       "      <td>3</td>\n",
       "      <td>1</td>\n",
       "      <td>0</td>\n",
       "      <td>113931.57</td>\n",
       "      <td>1</td>\n",
       "    </tr>\n",
       "    <tr>\n",
       "      <th>3</th>\n",
       "      <td>3</td>\n",
       "      <td>4</td>\n",
       "      <td>15701354</td>\n",
       "      <td>Boni</td>\n",
       "      <td>699</td>\n",
       "      <td>France</td>\n",
       "      <td>Female</td>\n",
       "      <td>39</td>\n",
       "      <td>1.0</td>\n",
       "      <td>0.00</td>\n",
       "      <td>2</td>\n",
       "      <td>0</td>\n",
       "      <td>0</td>\n",
       "      <td>93826.63</td>\n",
       "      <td>0</td>\n",
       "    </tr>\n",
       "    <tr>\n",
       "      <th>4</th>\n",
       "      <td>4</td>\n",
       "      <td>5</td>\n",
       "      <td>15737888</td>\n",
       "      <td>Mitchell</td>\n",
       "      <td>850</td>\n",
       "      <td>Spain</td>\n",
       "      <td>Female</td>\n",
       "      <td>43</td>\n",
       "      <td>2.0</td>\n",
       "      <td>125510.82</td>\n",
       "      <td>1</td>\n",
       "      <td>1</td>\n",
       "      <td>1</td>\n",
       "      <td>79084.10</td>\n",
       "      <td>0</td>\n",
       "    </tr>\n",
       "  </tbody>\n",
       "</table>\n",
       "</div>"
      ],
      "text/plain": [
       "   index  RowNumber  CustomerId   Surname  CreditScore Geography  Gender  Age  \\\n",
       "0      0          1    15634602  Hargrave          619    France  Female   42   \n",
       "1      1          2    15647311      Hill          608     Spain  Female   41   \n",
       "2      2          3    15619304      Onio          502    France  Female   42   \n",
       "3      3          4    15701354      Boni          699    France  Female   39   \n",
       "4      4          5    15737888  Mitchell          850     Spain  Female   43   \n",
       "\n",
       "   Tenure    Balance  NumOfProducts  HasCrCard  IsActiveMember  \\\n",
       "0     2.0       0.00              1          1               1   \n",
       "1     1.0   83807.86              1          0               1   \n",
       "2     8.0  159660.80              3          1               0   \n",
       "3     1.0       0.00              2          0               0   \n",
       "4     2.0  125510.82              1          1               1   \n",
       "\n",
       "   EstimatedSalary  Exited  \n",
       "0        101348.88       1  \n",
       "1        112542.58       0  \n",
       "2        113931.57       1  \n",
       "3         93826.63       0  \n",
       "4         79084.10       0  "
      ]
     },
     "execution_count": 14,
     "metadata": {},
     "output_type": "execute_result"
    }
   ],
   "source": [
    "data = data.dropna(subset=['Tenure']).reset_index()\n",
    "data.head()"
   ]
  },
  {
   "cell_type": "code",
   "execution_count": 15,
   "metadata": {},
   "outputs": [
    {
     "name": "stdout",
     "output_type": "stream",
     "text": [
      "<class 'pandas.core.frame.DataFrame'>\n",
      "RangeIndex: 9091 entries, 0 to 9090\n",
      "Data columns (total 15 columns):\n",
      " #   Column           Non-Null Count  Dtype  \n",
      "---  ------           --------------  -----  \n",
      " 0   index            9091 non-null   int64  \n",
      " 1   RowNumber        9091 non-null   int64  \n",
      " 2   CustomerId       9091 non-null   int64  \n",
      " 3   Surname          9091 non-null   object \n",
      " 4   CreditScore      9091 non-null   int64  \n",
      " 5   Geography        9091 non-null   object \n",
      " 6   Gender           9091 non-null   object \n",
      " 7   Age              9091 non-null   int64  \n",
      " 8   Tenure           9091 non-null   float64\n",
      " 9   Balance          9091 non-null   float64\n",
      " 10  NumOfProducts    9091 non-null   int64  \n",
      " 11  HasCrCard        9091 non-null   int64  \n",
      " 12  IsActiveMember   9091 non-null   int64  \n",
      " 13  EstimatedSalary  9091 non-null   float64\n",
      " 14  Exited           9091 non-null   int64  \n",
      "dtypes: float64(3), int64(9), object(3)\n",
      "memory usage: 1.0+ MB\n"
     ]
    }
   ],
   "source": [
    "data.info()"
   ]
  },
  {
   "cell_type": "markdown",
   "metadata": {},
   "source": [
    "Удалили строки с пустым значением в Tenure и презаписали индексы. Появился столбец index"
   ]
  },
  {
   "cell_type": "markdown",
   "metadata": {},
   "source": [
    "**Удаление неинформативных столбцов**"
   ]
  },
  {
   "cell_type": "markdown",
   "metadata": {},
   "source": [
    "Предлагется удалить столбцы  index, RowNumber, CustomerId, Surname. Так как значения в них могут повляить на вычисления (к примеру, переобучению) и не представляют важную информацию"
   ]
  },
  {
   "cell_type": "markdown",
   "metadata": {},
   "source": [
    "Проверим кол-во уникальных значений в данных столбцах"
   ]
  },
  {
   "cell_type": "code",
   "execution_count": 16,
   "metadata": {},
   "outputs": [
    {
     "name": "stdout",
     "output_type": "stream",
     "text": [
      "Кол-во уникальных значений в столбце index : 9091\n",
      "Кол-во уникальных значений в столбце RowNumber : 9091\n",
      "Кол-во уникальных значений в столбце CustomerId : 9091\n",
      "Кол-во уникальных значений в столбце Surname : 2787\n"
     ]
    }
   ],
   "source": [
    "for value in ['index', 'RowNumber', 'CustomerId', 'Surname']:\n",
    "    print('Кол-во уникальных значений в столбце', value, ':', data[value].nunique())"
   ]
  },
  {
   "cell_type": "markdown",
   "metadata": {},
   "source": [
    "Кол-во уникальных знаечний в столбцах 'index', 'RowNumber', 'CustomerId' соответсвует кол-ву строк в датафрейме. А в 'Surname' их 2787. Значит присудствет много однофамильцев, но так как за разделение клиентов отвечает индентификатор пользователя, а он не повторяется, то значит клиенты разные. И в данных отсутвуют дублирующие себя строки."
   ]
  },
  {
   "cell_type": "code",
   "execution_count": 17,
   "metadata": {},
   "outputs": [],
   "source": [
    "data = data.drop(['index','RowNumber', 'CustomerId', 'Surname'], axis=1)"
   ]
  },
  {
   "cell_type": "code",
   "execution_count": 18,
   "metadata": {
    "scrolled": true
   },
   "outputs": [],
   "source": [
    "#data.info()"
   ]
  },
  {
   "cell_type": "markdown",
   "metadata": {},
   "source": [
    "**Перевод значений столбца Tenure в тип данных int64**"
   ]
  },
  {
   "cell_type": "code",
   "execution_count": 19,
   "metadata": {},
   "outputs": [],
   "source": [
    " data['Tenure'] = data['Tenure'].astype('int64')"
   ]
  },
  {
   "cell_type": "code",
   "execution_count": 20,
   "metadata": {},
   "outputs": [],
   "source": [
    "#data.info()"
   ]
  },
  {
   "cell_type": "markdown",
   "metadata": {
    "scrolled": true
   },
   "source": [
    "**Приведем название встолбцов к корректному виду**"
   ]
  },
  {
   "cell_type": "code",
   "execution_count": 21,
   "metadata": {},
   "outputs": [],
   "source": [
    "# переименование столбцов\n",
    "data = data.rename(\n",
    "    columns={\n",
    "        'CreditScore': 'Credit_Score',\n",
    "        'NumOfProducts': 'Num_Of_Products',\n",
    "        'HasCrCard': 'Has_Cr_Card',\n",
    "        'IsActiveMember': 'Is_Active_Member',\n",
    "        'EstimatedSalary': 'Estimated_Salary'\n",
    "    }\n",
    ")"
   ]
  },
  {
   "cell_type": "code",
   "execution_count": 22,
   "metadata": {},
   "outputs": [],
   "source": [
    "#приведение к нижнему регистру\n",
    "data.columns= data.columns.str.lower()"
   ]
  },
  {
   "cell_type": "code",
   "execution_count": 23,
   "metadata": {
    "scrolled": true
   },
   "outputs": [
    {
     "data": {
      "text/plain": [
       "Index(['credit_score', 'geography', 'gender', 'age', 'tenure', 'balance',\n",
       "       'num_of_products', 'has_cr_card', 'is_active_member',\n",
       "       'estimated_salary', 'exited'],\n",
       "      dtype='object')"
      ]
     },
     "execution_count": 23,
     "metadata": {},
     "output_type": "execute_result"
    }
   ],
   "source": [
    "data.columns"
   ]
  },
  {
   "cell_type": "code",
   "execution_count": 24,
   "metadata": {
    "scrolled": true
   },
   "outputs": [
    {
     "name": "stdout",
     "output_type": "stream",
     "text": [
      "<class 'pandas.core.frame.DataFrame'>\n",
      "RangeIndex: 9091 entries, 0 to 9090\n",
      "Data columns (total 11 columns):\n",
      " #   Column            Non-Null Count  Dtype  \n",
      "---  ------            --------------  -----  \n",
      " 0   credit_score      9091 non-null   int64  \n",
      " 1   geography         9091 non-null   object \n",
      " 2   gender            9091 non-null   object \n",
      " 3   age               9091 non-null   int64  \n",
      " 4   tenure            9091 non-null   int64  \n",
      " 5   balance           9091 non-null   float64\n",
      " 6   num_of_products   9091 non-null   int64  \n",
      " 7   has_cr_card       9091 non-null   int64  \n",
      " 8   is_active_member  9091 non-null   int64  \n",
      " 9   estimated_salary  9091 non-null   float64\n",
      " 10  exited            9091 non-null   int64  \n",
      "dtypes: float64(2), int64(7), object(2)\n",
      "memory usage: 781.4+ KB\n"
     ]
    }
   ],
   "source": [
    "data.info()"
   ]
  },
  {
   "cell_type": "markdown",
   "metadata": {},
   "source": [
    "**Построение общей гистограммы после предварительной обработки для всех числовых столбцов таблицы**"
   ]
  },
  {
   "cell_type": "code",
   "execution_count": 25,
   "metadata": {},
   "outputs": [
    {
     "data": {
      "image/png": "[encoded data removed]",
      "text/plain": [
       "<Figure size 1080x720 with 9 Axes>"
      ]
     },
     "metadata": {
      "needs_background": "light"
     },
     "output_type": "display_data"
    }
   ],
   "source": [
    "data.hist(bins = 70, figsize=(15, 10));"
   ]
  },
  {
   "cell_type": "markdown",
   "metadata": {},
   "source": [
    "Предварительная оценка распределения значений в целевом признаке exited"
   ]
  },
  {
   "cell_type": "code",
   "execution_count": 26,
   "metadata": {},
   "outputs": [
    {
     "data": {
      "text/plain": [
       "0    7237\n",
       "1    1854\n",
       "Name: exited, dtype: int64"
      ]
     },
     "execution_count": 26,
     "metadata": {},
     "output_type": "execute_result"
    }
   ],
   "source": [
    "data['exited'].value_counts()"
   ]
  },
  {
   "cell_type": "code",
   "execution_count": 27,
   "metadata": {},
   "outputs": [
    {
     "name": "stdout",
     "output_type": "stream",
     "text": [
      "79.60620393796061 % составляет значения 0 в exited относительно всего датафрейфа\n"
     ]
    }
   ],
   "source": [
    "print(len(data[data['exited'] == 0])/(len(data))*100,\n",
    "      '% составляет значения 0 в exited относительно всего датафрейфа')"
   ]
  },
  {
   "cell_type": "markdown",
   "metadata": {},
   "source": [
    "**Кодирование данных (OHE)**\n",
    "\n",
    "Преобразовывание категориальных признаков в столбцах ('geography', 'gender') в численные с техникой прямого кодирования, или отображения (англ. One-Hot Encoding, OHE)."
   ]
  },
  {
   "cell_type": "markdown",
   "metadata": {},
   "source": [
    "Прямое кодирование"
   ]
  },
  {
   "cell_type": "code",
   "execution_count": 28,
   "metadata": {},
   "outputs": [],
   "source": [
    "data_ohe= pd.get_dummies(data, drop_first=True)  "
   ]
  },
  {
   "cell_type": "code",
   "execution_count": 29,
   "metadata": {
    "scrolled": false
   },
   "outputs": [
    {
     "data": {
      "text/html": [
       "<div>\n",
       "<style scoped>\n",
       "    .dataframe tbody tr th:only-of-type {\n",
       "        vertical-align: middle;\n",
       "    }\n",
       "\n",
       "    .dataframe tbody tr th {\n",
       "        vertical-align: top;\n",
       "    }\n",
       "\n",
       "    .dataframe thead th {\n",
       "        text-align: right;\n",
       "    }\n",
       "</style>\n",
       "<table border=\"1\" class=\"dataframe\">\n",
       "  <thead>\n",
       "    <tr style=\"text-align: right;\">\n",
       "      <th></th>\n",
       "      <th>credit_score</th>\n",
       "      <th>age</th>\n",
       "      <th>tenure</th>\n",
       "      <th>balance</th>\n",
       "      <th>num_of_products</th>\n",
       "      <th>has_cr_card</th>\n",
       "      <th>is_active_member</th>\n",
       "      <th>estimated_salary</th>\n",
       "      <th>exited</th>\n",
       "      <th>geography_Germany</th>\n",
       "      <th>geography_Spain</th>\n",
       "      <th>gender_Male</th>\n",
       "    </tr>\n",
       "  </thead>\n",
       "  <tbody>\n",
       "    <tr>\n",
       "      <th>0</th>\n",
       "      <td>619</td>\n",
       "      <td>42</td>\n",
       "      <td>2</td>\n",
       "      <td>0.00</td>\n",
       "      <td>1</td>\n",
       "      <td>1</td>\n",
       "      <td>1</td>\n",
       "      <td>101348.88</td>\n",
       "      <td>1</td>\n",
       "      <td>0</td>\n",
       "      <td>0</td>\n",
       "      <td>0</td>\n",
       "    </tr>\n",
       "    <tr>\n",
       "      <th>1</th>\n",
       "      <td>608</td>\n",
       "      <td>41</td>\n",
       "      <td>1</td>\n",
       "      <td>83807.86</td>\n",
       "      <td>1</td>\n",
       "      <td>0</td>\n",
       "      <td>1</td>\n",
       "      <td>112542.58</td>\n",
       "      <td>0</td>\n",
       "      <td>0</td>\n",
       "      <td>1</td>\n",
       "      <td>0</td>\n",
       "    </tr>\n",
       "    <tr>\n",
       "      <th>2</th>\n",
       "      <td>502</td>\n",
       "      <td>42</td>\n",
       "      <td>8</td>\n",
       "      <td>159660.80</td>\n",
       "      <td>3</td>\n",
       "      <td>1</td>\n",
       "      <td>0</td>\n",
       "      <td>113931.57</td>\n",
       "      <td>1</td>\n",
       "      <td>0</td>\n",
       "      <td>0</td>\n",
       "      <td>0</td>\n",
       "    </tr>\n",
       "    <tr>\n",
       "      <th>3</th>\n",
       "      <td>699</td>\n",
       "      <td>39</td>\n",
       "      <td>1</td>\n",
       "      <td>0.00</td>\n",
       "      <td>2</td>\n",
       "      <td>0</td>\n",
       "      <td>0</td>\n",
       "      <td>93826.63</td>\n",
       "      <td>0</td>\n",
       "      <td>0</td>\n",
       "      <td>0</td>\n",
       "      <td>0</td>\n",
       "    </tr>\n",
       "    <tr>\n",
       "      <th>4</th>\n",
       "      <td>850</td>\n",
       "      <td>43</td>\n",
       "      <td>2</td>\n",
       "      <td>125510.82</td>\n",
       "      <td>1</td>\n",
       "      <td>1</td>\n",
       "      <td>1</td>\n",
       "      <td>79084.10</td>\n",
       "      <td>0</td>\n",
       "      <td>0</td>\n",
       "      <td>1</td>\n",
       "      <td>0</td>\n",
       "    </tr>\n",
       "  </tbody>\n",
       "</table>\n",
       "</div>"
      ],
      "text/plain": [
       "   credit_score  age  tenure    balance  num_of_products  has_cr_card  \\\n",
       "0           619   42       2       0.00                1            1   \n",
       "1           608   41       1   83807.86                1            0   \n",
       "2           502   42       8  159660.80                3            1   \n",
       "3           699   39       1       0.00                2            0   \n",
       "4           850   43       2  125510.82                1            1   \n",
       "\n",
       "   is_active_member  estimated_salary  exited  geography_Germany  \\\n",
       "0                 1         101348.88       1                  0   \n",
       "1                 1         112542.58       0                  0   \n",
       "2                 0         113931.57       1                  0   \n",
       "3                 0          93826.63       0                  0   \n",
       "4                 1          79084.10       0                  0   \n",
       "\n",
       "   geography_Spain  gender_Male  \n",
       "0                0            0  \n",
       "1                1            0  \n",
       "2                0            0  \n",
       "3                0            0  \n",
       "4                1            0  "
      ]
     },
     "execution_count": 29,
     "metadata": {},
     "output_type": "execute_result"
    }
   ],
   "source": [
    "data_ohe.head()"
   ]
  },
  {
   "cell_type": "markdown",
   "metadata": {},
   "source": [
    "Необходимо все названия столбцов привести к нижнему регистру"
   ]
  },
  {
   "cell_type": "code",
   "execution_count": 30,
   "metadata": {},
   "outputs": [],
   "source": [
    "data_ohe.columns= data_ohe.columns.str.lower()"
   ]
  },
  {
   "cell_type": "markdown",
   "metadata": {},
   "source": [
    "Разделим выборку на целевые признаки и признаки"
   ]
  },
  {
   "cell_type": "code",
   "execution_count": 31,
   "metadata": {},
   "outputs": [],
   "source": [
    "target = data_ohe['exited']\n",
    "features = data_ohe.drop('exited', axis=1)"
   ]
  },
  {
   "cell_type": "markdown",
   "metadata": {},
   "source": [
    "Разделение исходных данных на обучающую, валидационную и тестовую выборки. \n",
    "\n",
    "Размеры тестового и валидационного наборов обычно равны. Исходные данные разбивают в соотношении 3:1:1.\n",
    "\n",
    "Значит под обучающие данные мы выделим 60%. Под валидационную часть 20% и под тестовую часть тоже 20%\n",
    "\n",
    "Выделим для начала обучающую часть и \"остальную\" часть в соотношении 60% и 40%"
   ]
  },
  {
   "cell_type": "code",
   "execution_count": 32,
   "metadata": {},
   "outputs": [],
   "source": [
    "features_train, features_other, target_train, target_other =\\\n",
    "train_test_split(features, \n",
    "                 target, \n",
    "                 test_size=0.4, \n",
    "                 random_state=12345)"
   ]
  },
  {
   "cell_type": "markdown",
   "metadata": {},
   "source": [
    "Разобьем оставшуюся часть на валидационную и тестовую в соотношении 50% на 50%"
   ]
  },
  {
   "cell_type": "code",
   "execution_count": 33,
   "metadata": {},
   "outputs": [],
   "source": [
    "features_valid, features_test, target_valid, target_test =\\\n",
    "train_test_split(features_other, \n",
    "                 target_other, \n",
    "                 test_size=0.5, \n",
    "                 random_state=12345)"
   ]
  },
  {
   "cell_type": "markdown",
   "metadata": {},
   "source": [
    "Выведим первые 5 стррок features_train"
   ]
  },
  {
   "cell_type": "code",
   "execution_count": 34,
   "metadata": {},
   "outputs": [
    {
     "data": {
      "text/html": [
       "<div>\n",
       "<style scoped>\n",
       "    .dataframe tbody tr th:only-of-type {\n",
       "        vertical-align: middle;\n",
       "    }\n",
       "\n",
       "    .dataframe tbody tr th {\n",
       "        vertical-align: top;\n",
       "    }\n",
       "\n",
       "    .dataframe thead th {\n",
       "        text-align: right;\n",
       "    }\n",
       "</style>\n",
       "<table border=\"1\" class=\"dataframe\">\n",
       "  <thead>\n",
       "    <tr style=\"text-align: right;\">\n",
       "      <th></th>\n",
       "      <th>credit_score</th>\n",
       "      <th>age</th>\n",
       "      <th>tenure</th>\n",
       "      <th>balance</th>\n",
       "      <th>num_of_products</th>\n",
       "      <th>has_cr_card</th>\n",
       "      <th>is_active_member</th>\n",
       "      <th>estimated_salary</th>\n",
       "      <th>geography_germany</th>\n",
       "      <th>geography_spain</th>\n",
       "      <th>gender_male</th>\n",
       "    </tr>\n",
       "  </thead>\n",
       "  <tbody>\n",
       "    <tr>\n",
       "      <th>8483</th>\n",
       "      <td>727</td>\n",
       "      <td>28</td>\n",
       "      <td>2</td>\n",
       "      <td>110997.76</td>\n",
       "      <td>1</td>\n",
       "      <td>1</td>\n",
       "      <td>0</td>\n",
       "      <td>101433.76</td>\n",
       "      <td>0</td>\n",
       "      <td>0</td>\n",
       "      <td>0</td>\n",
       "    </tr>\n",
       "    <tr>\n",
       "      <th>3431</th>\n",
       "      <td>537</td>\n",
       "      <td>26</td>\n",
       "      <td>7</td>\n",
       "      <td>106397.75</td>\n",
       "      <td>1</td>\n",
       "      <td>0</td>\n",
       "      <td>0</td>\n",
       "      <td>103563.23</td>\n",
       "      <td>0</td>\n",
       "      <td>0</td>\n",
       "      <td>1</td>\n",
       "    </tr>\n",
       "    <tr>\n",
       "      <th>6770</th>\n",
       "      <td>610</td>\n",
       "      <td>40</td>\n",
       "      <td>9</td>\n",
       "      <td>0.00</td>\n",
       "      <td>1</td>\n",
       "      <td>1</td>\n",
       "      <td>1</td>\n",
       "      <td>149602.54</td>\n",
       "      <td>0</td>\n",
       "      <td>0</td>\n",
       "      <td>1</td>\n",
       "    </tr>\n",
       "    <tr>\n",
       "      <th>1350</th>\n",
       "      <td>576</td>\n",
       "      <td>36</td>\n",
       "      <td>6</td>\n",
       "      <td>0.00</td>\n",
       "      <td>2</td>\n",
       "      <td>1</td>\n",
       "      <td>1</td>\n",
       "      <td>48314.00</td>\n",
       "      <td>0</td>\n",
       "      <td>0</td>\n",
       "      <td>1</td>\n",
       "    </tr>\n",
       "    <tr>\n",
       "      <th>4047</th>\n",
       "      <td>549</td>\n",
       "      <td>31</td>\n",
       "      <td>4</td>\n",
       "      <td>0.00</td>\n",
       "      <td>2</td>\n",
       "      <td>0</td>\n",
       "      <td>1</td>\n",
       "      <td>25684.85</td>\n",
       "      <td>0</td>\n",
       "      <td>0</td>\n",
       "      <td>1</td>\n",
       "    </tr>\n",
       "  </tbody>\n",
       "</table>\n",
       "</div>"
      ],
      "text/plain": [
       "      credit_score  age  tenure    balance  num_of_products  has_cr_card  \\\n",
       "8483           727   28       2  110997.76                1            1   \n",
       "3431           537   26       7  106397.75                1            0   \n",
       "6770           610   40       9       0.00                1            1   \n",
       "1350           576   36       6       0.00                2            1   \n",
       "4047           549   31       4       0.00                2            0   \n",
       "\n",
       "      is_active_member  estimated_salary  geography_germany  geography_spain  \\\n",
       "8483                 0         101433.76                  0                0   \n",
       "3431                 0         103563.23                  0                0   \n",
       "6770                 1         149602.54                  0                0   \n",
       "1350                 1          48314.00                  0                0   \n",
       "4047                 1          25684.85                  0                0   \n",
       "\n",
       "      gender_male  \n",
       "8483            0  \n",
       "3431            1  \n",
       "6770            1  \n",
       "1350            1  \n",
       "4047            1  "
      ]
     },
     "execution_count": 34,
     "metadata": {},
     "output_type": "execute_result"
    }
   ],
   "source": [
    "features_train.head()"
   ]
  },
  {
   "cell_type": "markdown",
   "metadata": {},
   "source": [
    "**Масштабирование данных**\n",
    "\n",
    "Стандартизируем числовые признаки"
   ]
  },
  {
   "cell_type": "code",
   "execution_count": 35,
   "metadata": {},
   "outputs": [],
   "source": [
    "numeric = ['credit_score', 'age', 'tenure', 'balance', 'num_of_products','estimated_salary']"
   ]
  },
  {
   "cell_type": "code",
   "execution_count": 36,
   "metadata": {},
   "outputs": [],
   "source": [
    "scaler = StandardScaler()\n",
    "scaler.fit(features_train[numeric])\n",
    "features_train[numeric] = scaler.transform(features_train[numeric])\n",
    "features_valid[numeric] = scaler.transform(features_valid[numeric])\n",
    "features_test[numeric] = scaler.transform(features_test[numeric])"
   ]
  },
  {
   "cell_type": "markdown",
   "metadata": {},
   "source": [
    "Выводы:\n",
    "\n",
    "На выходе получили таблицу с значением 9091 строк и 11 колонок. В процессе подготовки данных скорректировали оформление у названий столбцов, удалили строки с пропусками в столбце tenure. 9.09% строк от визначального датасфрейма было удалено. Была выявлена зависимости, что строки присудствовали в равных пропорциях различных категориях и было принято решение из удлаить, так как это не приведет к резкому смещению значений во всем датафрейма.\n",
    "\n",
    "Так же были удалены столбцы:'index','RowNumber', 'CustomerId', 'Surname'. Причина: отсутсвие полезной информации для построения модели и возможности влияние на обучение в негативную сторону.\n",
    "\n",
    "Наблюдается неравномерное распредление данных в 'geography','num_of_products', 'has_cr_card', 'exited','balance'.\n",
    "Очень сильно в 'balance'. Болшое кол-во знначений около нуля.\n",
    "\n",
    "Столбцы с категоральными данными: 'geography','gender'. Было выполнено прямое кодирование с данным столбцами.\n",
    "Также выполнено масштабирование в оставшихся числовыых столбцах.\n",
    "\n",
    "Разделение исходных данных на обучающую, валидационную и тестовую выборки.\n",
    "Исходные данные разбивают в соотношении 3:1:1.\n",
    "Под обучающие данные мы выделили 60%. Под валидационную часть 20% и под тестовую часть тоже 20%\n",
    "\n",
    "\n",
    "В целевом признаке exited ярко выражен дисбаланс классов. Наиболее часто всречается значение с 0 (79% составляет от всех данных в признаке)\n"
   ]
  },
  {
   "cell_type": "markdown",
   "metadata": {},
   "source": [
    "## Исследование задачи"
   ]
  },
  {
   "cell_type": "markdown",
   "metadata": {},
   "source": [
    "Рассмотрим 3 модели:\n",
    "\n",
    "- Решающее дерево\n",
    "- Случайный лес\n",
    "- Логистическая регрессия\n",
    "\n",
    "Меняя гиперпараметры каждой модели выберим наилучшую. Определять лучшую модель будем по F1 метрике"
   ]
  },
  {
   "cell_type": "markdown",
   "metadata": {},
   "source": [
    "**Решающее дерево**"
   ]
  },
  {
   "cell_type": "markdown",
   "metadata": {},
   "source": [
    "Обучим модель при разной глубине дерева. "
   ]
  },
  {
   "cell_type": "code",
   "execution_count": 37,
   "metadata": {},
   "outputs": [
    {
     "name": "stdout",
     "output_type": "stream",
     "text": [
      "Процесс завершен\n",
      "Метрики:\n",
      "Accuracy лучшей модели: 0.8619361936193619\n",
      "F1 мера лучшей модели:: 0.5809682804674458\n",
      "AUC-ROC лучше модели: 0.8449380311712504\n",
      "\n",
      "Гиперпараметры:\n",
      "Лучшая max_depth: 6\n",
      "CPU times: user 407 ms, sys: 2.81 ms, total: 410 ms\n",
      "Wall time: 409 ms\n"
     ]
    }
   ],
   "source": [
    "%%time\n",
    "best_model_1 = None \n",
    "\n",
    "best_depth_1 = 0\n",
    "\n",
    "best_result_accuracy_1 = 0\n",
    "best_result_f1_1 = 0\n",
    "best_result_roc_1 = 0\n",
    "\n",
    "for depth in range(1, 20):\n",
    "    model_1 = DecisionTreeClassifier(criterion='entropy', \n",
    "                                     max_depth=depth, \n",
    "                                     random_state=RANDOM_STATE\n",
    "                                    ) \n",
    "    # обучение модели\n",
    "    model_1.fit(features_train,target_train)\n",
    "            \n",
    "    # получение предсказания модели \n",
    "    predictions = model_1.predict(features_valid) \n",
    "            \n",
    "    # подсчет Accuracy\n",
    "    result_accuracy_1 = accuracy_score(target_valid, predictions)\n",
    "    \n",
    "    # подсчет F1\n",
    "    result_f1_1 = f1_score(target_valid,predictions)\n",
    "    \n",
    "    # подсчет ROC\n",
    "    probabilities = model_1.predict_proba(features_valid)\n",
    "    probabilities_one = probabilities[:, 1]\n",
    "    result_roc_1 = roc_auc_score(target_valid, probabilities_one)\n",
    "    \n",
    "             \n",
    "    if result_f1_1 > best_result_f1_1:\n",
    "        best_model_1 = model_1 \n",
    "        best_depth_1 = depth\n",
    "        best_result_accuracy_1 = result_accuracy_1\n",
    "        best_result_f1_1 = result_f1_1\n",
    "        best_result_roc_1 = result_roc_1\n",
    "                \n",
    "print('Процесс завершен')  \n",
    "print('Метрики:')\n",
    "print(\"Accuracy лучшей модели:\", best_result_accuracy_1)\n",
    "print('F1 мера лучшей модели::',best_result_f1_1)\n",
    "print('AUC-ROC лучше модели:', best_result_roc_1)\n",
    "\n",
    "print('')\n",
    "print('Гиперпараметры:')\n",
    "print(\"Лучшая max_depth:\", best_depth_1)"
   ]
  },
  {
   "cell_type": "markdown",
   "metadata": {},
   "source": [
    "**Случайный лес**"
   ]
  },
  {
   "cell_type": "code",
   "execution_count": 38,
   "metadata": {},
   "outputs": [
    {
     "name": "stdout",
     "output_type": "stream",
     "text": [
      "Процесс завершен\n",
      "Метрики:\n",
      "Accuracy лучшей модели: 0.8657865786578658\n",
      "F1 мера лучшей модели: 0.5793103448275863\n",
      "AUC-ROC лучше модели: 0.8655755931354773\n",
      "\n",
      "Гиперпараметры:\n",
      "Лучшая max_depth: 8\n",
      "Лучшая n_estimators: 15\n",
      "CPU times: user 37.2 s, sys: 350 ms, total: 37.6 s\n",
      "Wall time: 37.6 s\n"
     ]
    }
   ],
   "source": [
    "%%time\n",
    "best_model_2 = None \n",
    "\n",
    "best_depth_2 = 0\n",
    "\n",
    "best_result_accuracy_2 = 0\n",
    "best_result_f1_2 = 0\n",
    "best_result_roc_2 = 0\n",
    "\n",
    "best_n_estimators_2 = 0\n",
    "\n",
    "for est in range(10, 51, 1):\n",
    "    for depth in range(1, 10):\n",
    "        model_2 = RandomForestClassifier(random_state=RANDOM_STATE, \n",
    "                                         n_estimators=est, \n",
    "                                         max_depth = depth) \n",
    "        # обучение модели\n",
    "        \n",
    "        model_2.fit(features_train,target_train)\n",
    "        \n",
    "        # получение предсказания модели \n",
    "        predictions = model_2.predict(features_valid) \n",
    "        \n",
    "        # подсчет Accuracy\n",
    "        result_accuracy_2 = accuracy_score(target_valid, predictions)\n",
    "        \n",
    "        # подсчет F1\n",
    "        result_f1_2 = f1_score(target_valid,predictions)\n",
    "        \n",
    "        # подсчет ROC\n",
    "        probabilities = model_2.predict_proba(features_valid)\n",
    "        probabilities_one = probabilities[:, 1]\n",
    "        result_roc_2 = roc_auc_score(target_valid, probabilities_one)\n",
    "        \n",
    "        if result_f1_2 > best_result_f1_2:\n",
    "            best_model_2 = model_2 \n",
    "            best_depth_2 = depth\n",
    "            best_result_accuracy_2 = result_accuracy_2\n",
    "            best_result_f1_2 = result_f1_2\n",
    "            best_result_roc_2 = result_roc_2\n",
    "            best_n_estimators_2 = est\n",
    "                \n",
    "print('Процесс завершен')  \n",
    "print('Метрики:')\n",
    "print(\"Accuracy лучшей модели:\", best_result_accuracy_2)\n",
    "print('F1 мера лучшей модели:',best_result_f1_2)\n",
    "print('AUC-ROC лучше модели:', best_result_roc_2)\n",
    "\n",
    "print('')\n",
    "print('Гиперпараметры:')\n",
    "print(\"Лучшая max_depth:\", best_depth_2)\n",
    "print(\"Лучшая n_estimators:\", best_n_estimators_2)"
   ]
  },
  {
   "cell_type": "markdown",
   "metadata": {},
   "source": [
    "**Логистическая регрессия**"
   ]
  },
  {
   "cell_type": "code",
   "execution_count": 39,
   "metadata": {},
   "outputs": [
    {
     "name": "stdout",
     "output_type": "stream",
     "text": [
      "Процесс завершен\n",
      "Метрики:\n",
      "Accuracy лучшей модели: 0.8085808580858086\n",
      "AUC-ROC лучше модели: 0.30400000000000005\n",
      "AUC-ROC: 0.7736191158144302\n",
      "\n",
      "CPU times: user 32.7 ms, sys: 5.92 ms, total: 38.6 ms\n",
      "Wall time: 34.8 ms\n"
     ]
    }
   ],
   "source": [
    "%%time\n",
    "best_model_3 = None \n",
    "\n",
    "model_3 = LogisticRegression(random_state=RANDOM_STATE, \n",
    "                             solver='liblinear') \n",
    "\n",
    "# обучение модели\n",
    "model_3.fit(features_train,target_train)\n",
    "            \n",
    "# получение предсказания модели \n",
    "predictions_3 = model_3.predict(features_valid) \n",
    "            \n",
    "# подсчет Accuracy\n",
    "result_accuracy_3 = accuracy_score(target_valid, predictions_3)\n",
    "    \n",
    "# подсчет F1\n",
    "result_f1_3 = f1_score(target_valid,predictions_3)\n",
    "    \n",
    "# подсчет ROC\n",
    "probabilities_3 = model_3.predict_proba(features_valid)\n",
    "probabilities_one_3 = probabilities_3[:, 1]\n",
    "result_roc_3 = roc_auc_score(target_valid, probabilities_one_3)\n",
    "                \n",
    "print('Процесс завершен')  \n",
    "print('Метрики:')\n",
    "print(\"Accuracy лучшей модели:\", result_accuracy_3)\n",
    "print('AUC-ROC лучше модели:',result_f1_3)\n",
    "print('AUC-ROC:', result_roc_3)\n",
    "print('')\n"
   ]
  },
  {
   "cell_type": "markdown",
   "metadata": {},
   "source": [
    "Выведим сводку метрик по обученным моделям"
   ]
  },
  {
   "cell_type": "code",
   "execution_count": 40,
   "metadata": {},
   "outputs": [
    {
     "data": {
      "text/html": [
       "<div>\n",
       "<style scoped>\n",
       "    .dataframe tbody tr th:only-of-type {\n",
       "        vertical-align: middle;\n",
       "    }\n",
       "\n",
       "    .dataframe tbody tr th {\n",
       "        vertical-align: top;\n",
       "    }\n",
       "\n",
       "    .dataframe thead th {\n",
       "        text-align: right;\n",
       "    }\n",
       "</style>\n",
       "<table border=\"1\" class=\"dataframe\">\n",
       "  <thead>\n",
       "    <tr style=\"text-align: right;\">\n",
       "      <th></th>\n",
       "      <th>Accuracy лучшей модели</th>\n",
       "      <th>F1 мера лучшей модели</th>\n",
       "      <th>Площадь ROC-кривой</th>\n",
       "    </tr>\n",
       "  </thead>\n",
       "  <tbody>\n",
       "    <tr>\n",
       "      <th>Решающее дерево:</th>\n",
       "      <td>0.861936</td>\n",
       "      <td>0.580968</td>\n",
       "      <td>0.844938</td>\n",
       "    </tr>\n",
       "    <tr>\n",
       "      <th>Случайный лес</th>\n",
       "      <td>0.865787</td>\n",
       "      <td>0.579310</td>\n",
       "      <td>0.865576</td>\n",
       "    </tr>\n",
       "    <tr>\n",
       "      <th>Логистическая регрессия</th>\n",
       "      <td>0.808581</td>\n",
       "      <td>0.304000</td>\n",
       "      <td>0.773619</td>\n",
       "    </tr>\n",
       "  </tbody>\n",
       "</table>\n",
       "</div>"
      ],
      "text/plain": [
       "                         Accuracy лучшей модели  F1 мера лучшей модели  \\\n",
       "Решающее дерево:                       0.861936               0.580968   \n",
       "Случайный лес                          0.865787               0.579310   \n",
       "Логистическая регрессия                0.808581               0.304000   \n",
       "\n",
       "                         Площадь ROC-кривой  \n",
       "Решающее дерево:                   0.844938  \n",
       "Случайный лес                      0.865576  \n",
       "Логистическая регрессия            0.773619  "
      ]
     },
     "execution_count": 40,
     "metadata": {},
     "output_type": "execute_result"
    }
   ],
   "source": [
    "metriks = { 'Accuracy лучшей модели': [best_result_accuracy_1,\n",
    "                                        best_result_accuracy_2,\n",
    "                                        result_accuracy_3],\n",
    "           'F1 мера лучшей модели': [best_result_f1_1,\n",
    "                                      best_result_f1_2,\n",
    "                                      result_f1_3],\n",
    "           'Площадь ROC-кривой': [best_result_roc_1,\n",
    "                                   best_result_roc_2,\n",
    "                                   result_roc_3],\n",
    "\n",
    "}\n",
    "index_best = ['Решающее дерево:','Случайный лес','Логистическая регрессия']\n",
    "pd.DataFrame(data=metriks, index=index_best)"
   ]
  },
  {
   "cell_type": "markdown",
   "metadata": {},
   "source": [
    "Лучшее значение F1 мера у Решающее дерево. F1 мера = 0.580968."
   ]
  },
  {
   "cell_type": "markdown",
   "metadata": {},
   "source": [
    "Необходиом оценить на сколько хорошими получились результаты."
   ]
  },
  {
   "cell_type": "markdown",
   "metadata": {},
   "source": [
    "**Проверим модель на адекватность**"
   ]
  },
  {
   "cell_type": "markdown",
   "metadata": {},
   "source": [
    "Постром гистограмму распределние целевых признаков в обучающей выборке и посмотрим на баланс классов"
   ]
  },
  {
   "cell_type": "code",
   "execution_count": 41,
   "metadata": {},
   "outputs": [
    {
     "name": "stdout",
     "output_type": "stream",
     "text": [
      "0    0.793546\n",
      "1    0.206454\n",
      "Name: exited, dtype: float64\n"
     ]
    },
    {
     "data": {
      "image/png": "[encoded data removed]",
      "text/plain": [
       "<Figure size 432x288 with 1 Axes>"
      ]
     },
     "metadata": {
      "needs_background": "light"
     },
     "output_type": "display_data"
    }
   ],
   "source": [
    "class_frequency = target_train.value_counts(normalize=True) \n",
    "print(class_frequency)\n",
    "class_frequency.plot(kind='bar',\n",
    "                    grid=True)\n",
    "plt.title(\"Баланс классов у обучающей целевой выборке\")\n",
    "plt.xlabel(\"класс\")\n",
    "plt.ylabel(\"Нормировання частота\")\n",
    "plt.show()"
   ]
  },
  {
   "cell_type": "markdown",
   "metadata": {},
   "source": [
    "Получаемые значения на модели больше 0.79. Это хорошо, но наблюдается дисбаланс. Нулей большей чем единиц. Необходимо оценить насколько это влият на обучение."
   ]
  },
  {
   "cell_type": "markdown",
   "metadata": {},
   "source": [
    "Рассмотрим баланс классов у целевого признака полученного при обучении модели Решающее дерево на валидационной выборке"
   ]
  },
  {
   "cell_type": "code",
   "execution_count": 42,
   "metadata": {},
   "outputs": [
    {
     "name": "stdout",
     "output_type": "stream",
     "text": [
      "0    0.877888\n",
      "1    0.122112\n",
      "dtype: float64\n"
     ]
    },
    {
     "data": {
      "image/png": "[encoded data removed]",
      "text/plain": [
       "<Figure size 432x288 with 1 Axes>"
      ]
     },
     "metadata": {
      "needs_background": "light"
     },
     "output_type": "display_data"
    }
   ],
   "source": [
    "predicted_valid = pd.Series(best_model_1.predict(features_valid))\n",
    "class_frequency = predicted_valid.value_counts(normalize=True) \n",
    "print(class_frequency)\n",
    "class_frequency.plot(kind='bar',\n",
    "                    grid=True\n",
    "                    )\n",
    "plt.title(\"Баланс классов валидационной выборки у предсказанной модели\")\n",
    "plt.xlabel(\"класс\")\n",
    "plt.ylabel(\"Нормировання частота\")\n",
    "plt.show()"
   ]
  },
  {
   "cell_type": "markdown",
   "metadata": {},
   "source": [
    "Получаемые значения на модели на классе 0 стало поменьше. На Классе 1 повыше.. Это хорошо, но наблюдается дисбаланс. Нулей все равно большей чем единиц."
   ]
  },
  {
   "cell_type": "markdown",
   "metadata": {},
   "source": [
    "Создадим константную модель: любому объекту она прогнозирует класс «0»."
   ]
  },
  {
   "cell_type": "code",
   "execution_count": 43,
   "metadata": {},
   "outputs": [
    {
     "name": "stdout",
     "output_type": "stream",
     "text": [
      "0.7935460212687936\n",
      "Accuracy: 0.7935460212687936\n",
      "F1 мера : 0.0\n"
     ]
    }
   ],
   "source": [
    "target_pred_constant = pd.Series(0, index=target_train.index) \n",
    "print(accuracy_score(target_train, target_pred_constant))\n",
    "print(\"Accuracy:\", accuracy_score(target_train, \n",
    "                                                target_pred_constant\n",
    "                                               )\n",
    "     )\n",
    "\n",
    "print('F1 мера :',f1_score(target_train,\n",
    "                                         target_pred_constant\n",
    "                                        )\n",
    "     )"
   ]
  },
  {
   "cell_type": "markdown",
   "metadata": {},
   "source": [
    "При константной модели равной нулю значение F1 меры равно 0. Не смотря на то что  Accuracy = 0.7935460212687936 и показывает хорошие значения.\n",
    "Да, дисбаланс данных влияет на результат."
   ]
  },
  {
   "cell_type": "markdown",
   "metadata": {},
   "source": [
    "**Матрица ошибок**\n",
    "\n",
    "Посчитаем матрицу ошибок на обученной модели "
   ]
  },
  {
   "cell_type": "code",
   "execution_count": 44,
   "metadata": {},
   "outputs": [
    {
     "name": "stdout",
     "output_type": "stream",
     "text": [
      "      0    1\n",
      "0  1393   48\n",
      "1   203  174\n"
     ]
    }
   ],
   "source": [
    "matrix_errors = pd.DataFrame(\n",
    "    confusion_matrix(target_valid,\n",
    "                     best_model_1.predict(features_valid))\n",
    ")\n",
    "     \n",
    "print(matrix_errors)"
   ]
  },
  {
   "cell_type": "code",
   "execution_count": 45,
   "metadata": {},
   "outputs": [
    {
     "name": "stdout",
     "output_type": "stream",
     "text": [
      "По главной диагонали (от верхнего левого угла) выстроены правильные прогнозы:\n",
      "TN - 1393\n",
      "TP - 174\n",
      "Вне главной диагонали — ошибочные варианты:\n",
      "FP - 203\n",
      "FN - 48\n"
     ]
    }
   ],
   "source": [
    "print\n",
    "print('По главной диагонали (от верхнего левого угла) выстроены правильные прогнозы:')\n",
    "print('TN', '-', matrix_errors[0][0])\n",
    "print('TP', '-', matrix_errors[1][1])\n",
    "print('Вне главной диагонали — ошибочные варианты:')\n",
    "print('FP', '-', matrix_errors[0][1])\n",
    "print('FN', '-', matrix_errors[1][0])"
   ]
  },
  {
   "cell_type": "markdown",
   "metadata": {},
   "source": [
    "**Точность и полнота**"
   ]
  },
  {
   "cell_type": "markdown",
   "metadata": {},
   "source": [
    "Матрица ошибок позволяет вычислить метрики: полноту и точность. Одако для вычисления этих метрик воспользуемся уже встроенными функциями в библиотеку sklearn.metrics"
   ]
  },
  {
   "cell_type": "code",
   "execution_count": 46,
   "metadata": {},
   "outputs": [
    {
     "name": "stdout",
     "output_type": "stream",
     "text": [
      "Полнота: 0.46153846153846156\n"
     ]
    }
   ],
   "source": [
    "print('Полнота:',\n",
    "      recall_score(target_valid,\n",
    "                   best_model_1.predict(features_valid))\n",
    "     )"
   ]
  },
  {
   "cell_type": "markdown",
   "metadata": {},
   "source": [
    "Полнота выявляет, какую долю положительных среди всех ответов выделила модель. Можно наблюдать, что их меньше половины"
   ]
  },
  {
   "cell_type": "code",
   "execution_count": 47,
   "metadata": {},
   "outputs": [
    {
     "name": "stdout",
     "output_type": "stream",
     "text": [
      "Точность: 0.7837837837837838\n"
     ]
    }
   ],
   "source": [
    "print('Точность:',\n",
    "      precision_score(target_valid,\n",
    "                      best_model_1.predict(features_valid))\n",
    "     )"
   ]
  },
  {
   "cell_type": "markdown",
   "metadata": {},
   "source": [
    "Точность определяет, как много отрицательных ответов нашла модель, пока искала положительные. И внашем случае точность получилась достаточно высокой"
   ]
  },
  {
   "cell_type": "markdown",
   "metadata": {},
   "source": [
    "**F1-мера**\n",
    "\n",
    "Для более точной оценки зависиомсти полноты и точности используется F1-мера"
   ]
  },
  {
   "cell_type": "code",
   "execution_count": 48,
   "metadata": {},
   "outputs": [
    {
     "name": "stdout",
     "output_type": "stream",
     "text": [
      "F1 мера: 0.5809682804674458\n"
     ]
    }
   ],
   "source": [
    "print('F1 мера:',\n",
    "      f1_score(target_valid,\n",
    "               best_model_1.predict(features_valid))\n",
    "     )"
   ]
  },
  {
   "cell_type": "markdown",
   "metadata": {},
   "source": [
    "**ROC-кривая и PR-кривая для Решающего дерева (не сбалансированный класс)**"
   ]
  },
  {
   "cell_type": "code",
   "execution_count": 49,
   "metadata": {},
   "outputs": [
    {
     "data": {
      "image/png": "[encoded data removed]",
      "text/plain": [
       "<Figure size 1080x288 with 2 Axes>"
      ]
     },
     "metadata": {
      "needs_background": "light"
     },
     "output_type": "display_data"
    }
   ],
   "source": [
    "probabilities_valid = best_model_1.predict_proba(features_valid) \n",
    "probabilities_one_valid = probabilities_valid[:, 1]\n",
    "\n",
    "\n",
    "fig, axes = plt.subplots(nrows=1, ncols=2, figsize = (15,4))\n",
    "plt.subplots_adjust(wspace=0.5, hspace=0.5)\n",
    "    \n",
    "fpr, tpr, thresholds = roc_curve(target_valid, probabilities_one_valid) \n",
    "\n",
    "axes[0].plot(fpr, tpr)\n",
    "axes[0].plot([0, 1], [0, 1], linestyle='--')\n",
    "plt.ylim([0.0, 1.0]) \n",
    "plt.xlim([0.0, 1.0])\n",
    "axes[0].set_xlabel('False Positive Rate')\n",
    "axes[0].set_ylabel('True Positive Rate')\n",
    "axes[0].set_title('ROC-кривая') \n",
    "\n",
    "\n",
    "precision, recall, thresholds = precision_recall_curve(target_valid,\n",
    "                                                       probabilities_one_valid)\n",
    "\n",
    "\n",
    "plt.step(recall, precision, where='post') \n",
    "plt.ylim([0.0, 1.0]) \n",
    "plt.xlim([0.0, 1.0])\n",
    "axes[1].set_xlabel('Recall')\n",
    "axes[1].set_ylabel('Precision')\n",
    "axes[1].set_title('Кривая Precision-Recall') \n",
    "plt.show()"
   ]
  },
  {
   "cell_type": "markdown",
   "metadata": {},
   "source": [
    "**Выводы:**\n",
    "\n",
    "Был выполнен поиск наилучшй модели. Ею оказался Решающее дерево при значениях гиперпараметров:\n",
    "\n",
    "- Лучшая max_depth: 6\n",
    "\n",
    "Также был проведен анализ модели на адекватность и выявлено, что модель имеет дисбаланс данных в целевом признаке:\n",
    "\n",
    "А метрики дают следующие значения: \n",
    "- Полнота: 0.46153846153846156\n",
    "- Точность: 0.7837837837837838\n",
    "- F1 мера: 0.5809682804674458\n",
    "- AUC-ROC : 0.844938\n",
    "\n",
    "Показатели f1 необходимо повысить."
   ]
  },
  {
   "cell_type": "markdown",
   "metadata": {},
   "source": [
    "## Борьба с дисбалансом"
   ]
  },
  {
   "cell_type": "markdown",
   "metadata": {},
   "source": [
    "Посомтрим как изменится f1 метрика при class_weight='balanced' в рассматриваемых моделях обучения выше"
   ]
  },
  {
   "cell_type": "markdown",
   "metadata": {},
   "source": [
    "**Решающее дерево (class_weight='balanced')**"
   ]
  },
  {
   "cell_type": "code",
   "execution_count": 50,
   "metadata": {},
   "outputs": [
    {
     "name": "stdout",
     "output_type": "stream",
     "text": [
      "Процесс завершен\n",
      "Метрики:\n",
      "Accuracy лучшей модели: 0.7568756875687569\n",
      "F1 мера лучшей модели:: 0.5666666666666667\n",
      "AUC-ROC лучше модели: 0.847368740761739\n",
      "\n",
      "Гиперпараметры:\n",
      "Лучшая max_depth: 5\n",
      "CPU times: user 441 ms, sys: 3.53 ms, total: 445 ms\n",
      "Wall time: 443 ms\n"
     ]
    }
   ],
   "source": [
    "%%time\n",
    "best_model_1 = None \n",
    "\n",
    "best_depth_1 = 0\n",
    "\n",
    "best_result_accuracy_1 = 0\n",
    "best_result_f1_1 = 0\n",
    "best_result_roc_1 = 0\n",
    "\n",
    "for depth in range(1, 20):\n",
    "    model_1 = DecisionTreeClassifier(criterion='entropy', \n",
    "                                     max_depth=depth, \n",
    "                                     random_state=RANDOM_STATE,\n",
    "                                     class_weight='balanced'\n",
    "                                    ) \n",
    "    # обучение модели\n",
    "    model_1.fit(features_train,target_train)\n",
    "            \n",
    "    # получение предсказания модели \n",
    "    predictions = model_1.predict(features_valid) \n",
    "            \n",
    "    # подсчет Accuracy\n",
    "    result_accuracy_1 = accuracy_score(target_valid, predictions)\n",
    "    \n",
    "    # подсчет F1\n",
    "    result_f1_1 = f1_score(target_valid,predictions)\n",
    "    \n",
    "    # подсчет ROC\n",
    "    probabilities = model_1.predict_proba(features_valid)\n",
    "    probabilities_one = probabilities[:, 1]\n",
    "    result_roc_1 = roc_auc_score(target_valid, probabilities_one)\n",
    "    \n",
    "             \n",
    "    if result_f1_1 > best_result_f1_1:\n",
    "        best_model_1 = model_1 \n",
    "        best_depth_1 = depth\n",
    "        best_result_accuracy_1 = result_accuracy_1\n",
    "        best_result_f1_1 = result_f1_1\n",
    "        best_result_roc_1 = result_roc_1\n",
    "                \n",
    "print('Процесс завершен')  \n",
    "print('Метрики:')\n",
    "print(\"Accuracy лучшей модели:\", best_result_accuracy_1)\n",
    "print('F1 мера лучшей модели::',best_result_f1_1)\n",
    "print('AUC-ROC лучше модели:', best_result_roc_1)\n",
    "\n",
    "print('')\n",
    "print('Гиперпараметры:')\n",
    "print(\"Лучшая max_depth:\", best_depth_1)"
   ]
  },
  {
   "cell_type": "markdown",
   "metadata": {},
   "source": [
    "**Случайный лес  (class_weight='balanced')**"
   ]
  },
  {
   "cell_type": "code",
   "execution_count": 51,
   "metadata": {},
   "outputs": [
    {
     "name": "stdout",
     "output_type": "stream",
     "text": [
      "Процесс завершен\n",
      "Метрики:\n",
      "Accuracy лучшей модели: 0.8443344334433444\n",
      "F1 мера лучшей модели: 0.6466916354556803\n",
      "AUC-ROC лучше модели: 0.8665861645593155\n",
      "\n",
      "Гиперпараметры:\n",
      "Лучшая max_depth: 9\n",
      "Лучшая n_estimators: 45\n",
      "CPU times: user 7.78 s, sys: 67.1 ms, total: 7.85 s\n",
      "Wall time: 7.85 s\n"
     ]
    }
   ],
   "source": [
    "%%time\n",
    "best_model_2 = None \n",
    "\n",
    "best_depth_2 = 0\n",
    "\n",
    "best_result_accuracy_2 = 0\n",
    "best_result_f1_2 = 0\n",
    "best_result_roc_2 = 0\n",
    "\n",
    "best_n_estimators_2 = 0\n",
    "\n",
    "for est in range(10, 51, 5):\n",
    "    for depth in range(1, 10):\n",
    "        model_2 = RandomForestClassifier(random_state=RANDOM_STATE, \n",
    "                                         n_estimators=est, \n",
    "                                         max_depth = depth,\n",
    "                                        class_weight='balanced') \n",
    "        # обучение модели\n",
    "        \n",
    "        model_2.fit(features_train,target_train)\n",
    "        \n",
    "        # получение предсказания модели \n",
    "        predictions = model_2.predict(features_valid) \n",
    "        \n",
    "        # подсчет Accuracy\n",
    "        result_accuracy_2 = accuracy_score(target_valid, predictions)\n",
    "        \n",
    "        # подсчет F1\n",
    "        result_f1_2 = f1_score(target_valid,predictions)\n",
    "        \n",
    "        # подсчет ROC\n",
    "        probabilities = model_2.predict_proba(features_valid)\n",
    "        probabilities_one = probabilities[:, 1]\n",
    "        result_roc_2 = roc_auc_score(target_valid, probabilities_one)\n",
    "        \n",
    "        if result_f1_2 > best_result_f1_2:\n",
    "            best_model_2 = model_2 \n",
    "            best_depth_2 = depth\n",
    "            best_result_accuracy_2 = result_accuracy_2\n",
    "            best_result_f1_2 = result_f1_2\n",
    "            best_result_roc_2 = result_roc_2\n",
    "            best_n_estimators_2 = est\n",
    "                \n",
    "print('Процесс завершен')  \n",
    "print('Метрики:')\n",
    "print(\"Accuracy лучшей модели:\", best_result_accuracy_2)\n",
    "print('F1 мера лучшей модели:',best_result_f1_2)\n",
    "print('AUC-ROC лучше модели:', best_result_roc_2)\n",
    "\n",
    "print('')\n",
    "print('Гиперпараметры:')\n",
    "print(\"Лучшая max_depth:\", best_depth_2)\n",
    "print(\"Лучшая n_estimators:\", best_n_estimators_2)"
   ]
  },
  {
   "cell_type": "markdown",
   "metadata": {},
   "source": [
    "**Линейная регрессия (class_weight='balanced')**"
   ]
  },
  {
   "cell_type": "code",
   "execution_count": 52,
   "metadata": {},
   "outputs": [
    {
     "name": "stdout",
     "output_type": "stream",
     "text": [
      "Процесс завершен\n",
      "Метрики:\n",
      "Accuracy лучшей модели: 0.7090209020902091\n",
      "AUC-ROC лучше модели: 0.509731232622799\n",
      "AUC-ROC: 0.7777884132187896\n",
      "\n",
      "CPU times: user 17.5 ms, sys: 2.84 ms, total: 20.4 ms\n",
      "Wall time: 17.8 ms\n"
     ]
    }
   ],
   "source": [
    "%%time\n",
    "best_model_3 = None \n",
    "\n",
    "model_3 = LogisticRegression(random_state=RANDOM_STATE, \n",
    "                             solver='liblinear',\n",
    "                            class_weight='balanced') \n",
    "\n",
    "# обучение модели\n",
    "model_3.fit(features_train,target_train)\n",
    "            \n",
    "# получение предсказания модели \n",
    "predictions_3 = model_3.predict(features_valid) \n",
    "            \n",
    "# подсчет Accuracy\n",
    "result_accuracy_3 = accuracy_score(target_valid, predictions_3)\n",
    "    \n",
    "# подсчет F1\n",
    "result_f1_3 = f1_score(target_valid,predictions_3)\n",
    "    \n",
    "# подсчет ROC\n",
    "probabilities_3 = model_3.predict_proba(features_valid)\n",
    "probabilities_one_3 = probabilities_3[:, 1]\n",
    "result_roc_3 = roc_auc_score(target_valid, probabilities_one_3)\n",
    "                \n",
    "print('Процесс завершен')  \n",
    "print('Метрики:')\n",
    "print(\"Accuracy лучшей модели:\", result_accuracy_3)\n",
    "print('AUC-ROC лучше модели:',result_f1_3)\n",
    "print('AUC-ROC:', result_roc_3)\n",
    "print('')"
   ]
  },
  {
   "cell_type": "markdown",
   "metadata": {},
   "source": [
    "Выведим сводку метрик по обученным моделям"
   ]
  },
  {
   "cell_type": "code",
   "execution_count": 53,
   "metadata": {},
   "outputs": [
    {
     "data": {
      "text/html": [
       "<div>\n",
       "<style scoped>\n",
       "    .dataframe tbody tr th:only-of-type {\n",
       "        vertical-align: middle;\n",
       "    }\n",
       "\n",
       "    .dataframe tbody tr th {\n",
       "        vertical-align: top;\n",
       "    }\n",
       "\n",
       "    .dataframe thead th {\n",
       "        text-align: right;\n",
       "    }\n",
       "</style>\n",
       "<table border=\"1\" class=\"dataframe\">\n",
       "  <thead>\n",
       "    <tr style=\"text-align: right;\">\n",
       "      <th></th>\n",
       "      <th>Accuracy лучшей модели</th>\n",
       "      <th>F1 мера лучшей модели</th>\n",
       "      <th>Площадь ROC-кривой</th>\n",
       "    </tr>\n",
       "  </thead>\n",
       "  <tbody>\n",
       "    <tr>\n",
       "      <th>Решающее дерево:</th>\n",
       "      <td>0.756876</td>\n",
       "      <td>0.566667</td>\n",
       "      <td>0.847369</td>\n",
       "    </tr>\n",
       "    <tr>\n",
       "      <th>Случайный лес</th>\n",
       "      <td>0.844334</td>\n",
       "      <td>0.646692</td>\n",
       "      <td>0.866586</td>\n",
       "    </tr>\n",
       "    <tr>\n",
       "      <th>Логистическая регрессия</th>\n",
       "      <td>0.709021</td>\n",
       "      <td>0.509731</td>\n",
       "      <td>0.777788</td>\n",
       "    </tr>\n",
       "  </tbody>\n",
       "</table>\n",
       "</div>"
      ],
      "text/plain": [
       "                         Accuracy лучшей модели  F1 мера лучшей модели  \\\n",
       "Решающее дерево:                       0.756876               0.566667   \n",
       "Случайный лес                          0.844334               0.646692   \n",
       "Логистическая регрессия                0.709021               0.509731   \n",
       "\n",
       "                         Площадь ROC-кривой  \n",
       "Решающее дерево:                   0.847369  \n",
       "Случайный лес                      0.866586  \n",
       "Логистическая регрессия            0.777788  "
      ]
     },
     "execution_count": 53,
     "metadata": {},
     "output_type": "execute_result"
    }
   ],
   "source": [
    "metriks_1 = { 'Accuracy лучшей модели': [best_result_accuracy_1,\n",
    "                                        best_result_accuracy_2,\n",
    "                                        result_accuracy_3],\n",
    "           'F1 мера лучшей модели': [best_result_f1_1,\n",
    "                                      best_result_f1_2,\n",
    "                                      result_f1_3],\n",
    "           'Площадь ROC-кривой': [best_result_roc_1,\n",
    "                                   best_result_roc_2,\n",
    "                                   result_roc_3],\n",
    "\n",
    "}\n",
    "index_best_1 = ['Решающее дерево:','Случайный лес','Логистическая регрессия']\n",
    "pd.DataFrame(data=metriks_1, index=index_best_1)"
   ]
  },
  {
   "cell_type": "markdown",
   "metadata": {},
   "source": [
    "Модель случайный лес показала себя лучше. выберем ее для дальнейших исследований"
   ]
  },
  {
   "cell_type": "markdown",
   "metadata": {},
   "source": [
    "**ROC-кривая и PR-кривая для Случайного леса (class_weight='balanced')**"
   ]
  },
  {
   "cell_type": "code",
   "execution_count": 54,
   "metadata": {},
   "outputs": [
    {
     "data": {
      "image/png": "[encoded data removed]",
      "text/plain": [
       "<Figure size 1080x288 with 2 Axes>"
      ]
     },
     "metadata": {
      "needs_background": "light"
     },
     "output_type": "display_data"
    }
   ],
   "source": [
    "probabilities_valid = best_model_2.predict_proba(features_valid) \n",
    "probabilities_one_valid = probabilities_valid[:, 1]\n",
    "\n",
    "\n",
    "fig, axes = plt.subplots(nrows=1, ncols=2, figsize = (15,4))\n",
    "plt.subplots_adjust(wspace=0.5, hspace=0.5)\n",
    "    \n",
    "fpr, tpr, thresholds = roc_curve(target_valid, probabilities_one_valid) \n",
    "\n",
    "axes[0].plot(fpr, tpr)\n",
    "axes[0].plot([0, 1], [0, 1], linestyle='--')\n",
    "plt.ylim([0.0, 1.0]) \n",
    "plt.xlim([0.0, 1.0])\n",
    "axes[0].set_xlabel('False Positive Rate')\n",
    "axes[0].set_ylabel('True Positive Rate')\n",
    "axes[0].set_title('ROC-кривая') \n",
    "\n",
    "\n",
    "precision, recall, thresholds = precision_recall_curve(target_valid,\n",
    "                                                       probabilities_one_valid)\n",
    "\n",
    "\n",
    "plt.step(recall, precision, where='post') \n",
    "plt.ylim([0.0, 1.0]) \n",
    "plt.xlim([0.0, 1.0])\n",
    "axes[1].set_xlabel('Recall')\n",
    "axes[1].set_ylabel('Precision')\n",
    "axes[1].set_title('Кривая Precision-Recall') \n",
    "plt.show()"
   ]
  },
  {
   "cell_type": "code",
   "execution_count": 55,
   "metadata": {},
   "outputs": [
    {
     "name": "stdout",
     "output_type": "stream",
     "text": [
      "Полнота: 0.6870026525198939\n",
      "Точность: 0.6108490566037735\n"
     ]
    }
   ],
   "source": [
    "print('Полнота:',\n",
    "      recall_score(target_valid,\n",
    "                   best_model_2.predict(features_valid))\n",
    "     )\n",
    "print('Точность:',\n",
    "      precision_score(target_valid,\n",
    "                      best_model_2.predict(features_valid))\n",
    "     )\n"
   ]
  },
  {
   "cell_type": "markdown",
   "metadata": {},
   "source": [
    "Метрика AUC-ROC показыввает хороший результат. "
   ]
  },
  {
   "cell_type": "markdown",
   "metadata": {},
   "source": [
    "**Увеличение выборки**\n",
    "\n",
    "Рассмтрим еще один способ, который нам поможет поднять показатели. Борьбу с дисбалансом будем выолнять за счет увеличение выборки"
   ]
  },
  {
   "cell_type": "code",
   "execution_count": 56,
   "metadata": {},
   "outputs": [],
   "source": [
    "def upsample(features, target, repeat): \n",
    "    features_zeros = features[target == 0] \n",
    "    features_ones = features[target == 1] \n",
    "    target_zeros = target[target == 0] \n",
    "    target_ones = target[target == 1]\n",
    "\n",
    "    features_upsampled = pd.concat([features_zeros] + [features_ones] * repeat) \n",
    "    target_upsampled = pd.concat([target_zeros] + [target_ones] * repeat)\n",
    "    \n",
    "    # < добавляем перемешивание >\n",
    "    features_upsampled = shuffle(features_upsampled, random_state=12345) \n",
    "    target_upsampled = shuffle(target_upsampled, random_state=12345) \n",
    "    return features_upsampled, target_upsampled"
   ]
  },
  {
   "cell_type": "code",
   "execution_count": 57,
   "metadata": {},
   "outputs": [],
   "source": [
    "repeat = round(len(target_train[target_train == 0])/len(target_train[target_train == 1]))\n",
    "\n",
    "features_upsampled, target_upsampled = upsample(features_train, target_train, repeat)"
   ]
  },
  {
   "cell_type": "markdown",
   "metadata": {},
   "source": [
    "Проверим, что баланс классов выполнен"
   ]
  },
  {
   "cell_type": "code",
   "execution_count": 58,
   "metadata": {},
   "outputs": [
    {
     "data": {
      "text/plain": [
       "Text(0.5, 0, 'Классы')"
      ]
     },
     "execution_count": 58,
     "metadata": {},
     "output_type": "execute_result"
    },
    {
     "data": {
      "image/png": "[encoded data removed]",
      "text/plain": [
       "<Figure size 432x288 with 1 Axes>"
      ]
     },
     "metadata": {
      "needs_background": "light"
     },
     "output_type": "display_data"
    }
   ],
   "source": [
    "target_upsampled.hist()\n",
    "plt.title('Баланс классов')\n",
    "plt.ylabel('Кол-во')\n",
    "plt.xlabel('Классы')"
   ]
  },
  {
   "cell_type": "code",
   "execution_count": 59,
   "metadata": {},
   "outputs": [
    {
     "name": "stdout",
     "output_type": "stream",
     "text": [
      "\n",
      "Процесс завершен\n",
      "Метрики:\n",
      "Accuracy лучшей модели: 0.8135313531353136\n",
      "F1 мера лучшей модели: 0.6262403528114664\n",
      "AUC-ROC лучше модели: 0.8681784127954173\n",
      "\n",
      "Гиперпараметры:\n",
      "Лучшая max_depth: 8\n",
      "Лучшая n_estimators: 25\n",
      "\n",
      "CPU times: user 10.1 s, sys: 98.7 ms, total: 10.2 s\n",
      "Wall time: 10.2 s\n"
     ]
    }
   ],
   "source": [
    "%%time\n",
    "best_model_upsampled = None \n",
    "best_result_upsampled = 0\n",
    "best_depth_upsampled = 0\n",
    "\n",
    "best_depth_upsampled = 0\n",
    "\n",
    "best_result_accuracy_upsampled = 0\n",
    "best_result_f1_upsampled = 0\n",
    "best_result_roc_upsampled = 0\n",
    "\n",
    "best_n_estimators_upsampled = 0\n",
    "\n",
    "for est in range(10, 51, 5):\n",
    "    for depth in range(1, 10):\n",
    "        model_upsampled = RandomForestClassifier(random_state=RANDOM_STATE, \n",
    "                                         n_estimators=est, \n",
    "                                         max_depth = depth) \n",
    "        # обучение модели\n",
    "        \n",
    "        model_upsampled.fit(features_upsampled,target_upsampled)\n",
    "        \n",
    "        # получение предсказания модели \n",
    "        predictions = model_upsampled.predict(features_valid) \n",
    "        \n",
    "        # подсчет Accuracy\n",
    "        result_accuracy_upsampled = accuracy_score(target_valid, predictions)\n",
    "        \n",
    "        # подсчет F1\n",
    "        result_f1_upsampled = f1_score(target_valid,predictions)\n",
    "        \n",
    "        # подсчет ROC\n",
    "        probabilities = model_upsampled.predict_proba(features_valid)\n",
    "        probabilities_one = probabilities[:, 1]\n",
    "        result_roc_upsampled = roc_auc_score(target_valid, probabilities_one)\n",
    "        \n",
    "        if result_f1_upsampled > best_result_f1_upsampled:\n",
    "            best_model_upsampled = model_upsampled \n",
    "            best_depth_upsampled = depth\n",
    "            best_result_accuracy_upsampled = result_accuracy_upsampled\n",
    "            best_result_f1_upsampled = result_f1_upsampled\n",
    "            best_result_roc_upsampled = result_roc_upsampled\n",
    "            best_n_estimators_upsampled = est\n",
    "                \n",
    "print('')\n",
    "print('Процесс завершен')  \n",
    "print('Метрики:')\n",
    "print(\"Accuracy лучшей модели:\", best_result_accuracy_upsampled)\n",
    "print('F1 мера лучшей модели:',best_result_f1_upsampled)\n",
    "print('AUC-ROC лучше модели:', best_result_roc_upsampled)\n",
    "print('')\n",
    "print('Гиперпараметры:')\n",
    "print(\"Лучшая max_depth:\", best_depth_upsampled)\n",
    "print(\"Лучшая n_estimators:\", best_n_estimators_upsampled)\n",
    "print('')"
   ]
  },
  {
   "cell_type": "code",
   "execution_count": 60,
   "metadata": {},
   "outputs": [
    {
     "data": {
      "image/png": "[encoded data removed]",
      "text/plain": [
       "<Figure size 1080x288 with 2 Axes>"
      ]
     },
     "metadata": {
      "needs_background": "light"
     },
     "output_type": "display_data"
    }
   ],
   "source": [
    "probabilities_valid = best_model_upsampled.predict_proba(features_valid) \n",
    "probabilities_one_valid = probabilities_valid[:, 1]\n",
    "\n",
    "\n",
    "fig, axes = plt.subplots(nrows=1, ncols=2, figsize = (15,4))\n",
    "plt.subplots_adjust(wspace=0.5, hspace=0.5)\n",
    "    \n",
    "fpr, tpr, thresholds = roc_curve(target_valid, probabilities_one_valid) \n",
    "\n",
    "axes[0].plot(fpr, tpr)\n",
    "axes[0].plot([0, 1], [0, 1], linestyle='--')\n",
    "plt.ylim([0.0, 1.0]) \n",
    "plt.xlim([0.0, 1.0])\n",
    "axes[0].set_xlabel('False Positive Rate')\n",
    "axes[0].set_ylabel('True Positive Rate')\n",
    "axes[0].set_title('ROC-кривая') \n",
    "\n",
    "\n",
    "precision, recall, thresholds = precision_recall_curve(target_valid,\n",
    "                                                       probabilities_one_valid)\n",
    "\n",
    "\n",
    "plt.step(recall, precision, where='post') \n",
    "plt.ylim([0.0, 1.0]) \n",
    "plt.xlim([0.0, 1.0])\n",
    "axes[1].set_xlabel('Recall')\n",
    "axes[1].set_ylabel('Precision')\n",
    "axes[1].set_title('Кривая Precision-Recall') \n",
    "plt.show()"
   ]
  },
  {
   "cell_type": "code",
   "execution_count": 61,
   "metadata": {
    "scrolled": true
   },
   "outputs": [
    {
     "name": "stdout",
     "output_type": "stream",
     "text": [
      "Полнота: 0.753315649867374\n",
      "Точность: 0.5358490566037736\n",
      "AUC-ROC: 0.8681784127954173\n"
     ]
    }
   ],
   "source": [
    "print('Полнота:',\n",
    "      recall_score(target_valid,\n",
    "                   best_model_upsampled.predict(features_valid))\n",
    "     )\n",
    "print('Точность:',\n",
    "      precision_score(target_valid,\n",
    "                      best_model_upsampled.predict(features_valid))\n",
    "     )\n",
    "\n",
    "print('AUC-ROC:',roc_auc_score(target_valid, probabilities_one_valid))"
   ]
  },
  {
   "cell_type": "markdown",
   "metadata": {},
   "source": [
    "Выведим сравнение метрик по"
   ]
  },
  {
   "cell_type": "code",
   "execution_count": 62,
   "metadata": {},
   "outputs": [
    {
     "data": {
      "text/html": [
       "<div>\n",
       "<style scoped>\n",
       "    .dataframe tbody tr th:only-of-type {\n",
       "        vertical-align: middle;\n",
       "    }\n",
       "\n",
       "    .dataframe tbody tr th {\n",
       "        vertical-align: top;\n",
       "    }\n",
       "\n",
       "    .dataframe thead th {\n",
       "        text-align: right;\n",
       "    }\n",
       "</style>\n",
       "<table border=\"1\" class=\"dataframe\">\n",
       "  <thead>\n",
       "    <tr style=\"text-align: right;\">\n",
       "      <th></th>\n",
       "      <th>Случайный лес (class_weight=balanced)</th>\n",
       "      <th>Случайный лес (увеличение выборки)</th>\n",
       "    </tr>\n",
       "  </thead>\n",
       "  <tbody>\n",
       "    <tr>\n",
       "      <th>Accuracy лучшей модели</th>\n",
       "      <td>0.844334</td>\n",
       "      <td>0.813531</td>\n",
       "    </tr>\n",
       "    <tr>\n",
       "      <th>F1 мера лучшей модели</th>\n",
       "      <td>0.646692</td>\n",
       "      <td>0.626240</td>\n",
       "    </tr>\n",
       "    <tr>\n",
       "      <th>Площадь ROC-кривой</th>\n",
       "      <td>0.866586</td>\n",
       "      <td>0.868178</td>\n",
       "    </tr>\n",
       "  </tbody>\n",
       "</table>\n",
       "</div>"
      ],
      "text/plain": [
       "                        Случайный лес (class_weight=balanced)  \\\n",
       "Accuracy лучшей модели                               0.844334   \n",
       "F1 мера лучшей модели                                0.646692   \n",
       "Площадь ROC-кривой                                   0.866586   \n",
       "\n",
       "                        Случайный лес (увеличение выборки)  \n",
       "Accuracy лучшей модели                            0.813531  \n",
       "F1 мера лучшей модели                             0.626240  \n",
       "Площадь ROC-кривой                                0.868178  "
      ]
     },
     "execution_count": 62,
     "metadata": {},
     "output_type": "execute_result"
    }
   ],
   "source": [
    "metriks_2 = { 'Accuracy лучшей модели': [best_result_accuracy_2,\n",
    "                                        best_result_accuracy_upsampled],\n",
    "           'F1 мера лучшей модели': [best_result_f1_2,\n",
    "                                      best_result_f1_upsampled],\n",
    "           'Площадь ROC-кривой': [best_result_roc_2,\n",
    "                                   best_result_roc_upsampled],\n",
    "\n",
    "}\n",
    "index_best_2 = ['Случайный лес (class_weight=balanced)','Случайный лес (увеличение выборки)']\n",
    "pd.DataFrame(data=metriks_2, index=index_best_2).T"
   ]
  },
  {
   "cell_type": "markdown",
   "metadata": {},
   "source": [
    "**Выводы**"
   ]
  },
  {
   "cell_type": "markdown",
   "metadata": {},
   "source": [
    "Было 2 способа борьбы способы с дисбалансом:\n",
    "- 1) применив class_weight='balanced' в моеделях: Дерево решений, Случайный лес, Линейная регрессия.\n",
    "\n",
    "| Метрики             | Дерево решений           |  Случайны лес       |  Линейная регрессия  |  \n",
    "| :---               | :----                   | :----            | :----                  |  \n",
    "|  Accuary           |     0.7871287128712872           |0.8443344334433444                |0.7090209020902091               |\n",
    "| F1                 |       0.5420118343195266         |0.6466916354556803                 |0.5004721435316335               |\n",
    "| Полнота (recall)    |       -         |0.6870026525198939                |-              |\n",
    "| Точность (precision)|      -          |0.6108490566037735          |-               |\n",
    "| AUC-ROC            |      -         |0.8665861645593155               | -              |\n",
    " \n",
    "\n",
    "\n",
    "Лучшей оказалась модель случайного леса по параметрам F1\n",
    "\n",
    "Гиперпараметры:\n",
    "- Лучшая max_depth: 9\n",
    "- Лучшая n_estimators: 45\n",
    "\n",
    "\n",
    "- 2) увеличение выборки. Рассмотрено на модели случайны лес. \n",
    "\n",
    "\n",
    "| Метрики             | Случайный лес (class_weight=balanced)          |Случайный лес (увеличение выборки) |\n",
    "| :---                | :----                           |:----                            |\n",
    "|  Accuary            |     0.844334         |     0.813531          |\n",
    "| F1                  |       0.646692        |     0.626240         |\n",
    "| Полнота (recall)    |       0.866586         |     0.868178          |\n",
    "| Точность (precision)|      0.6870026525198939         |     0.753315649867374         |\n",
    "| AUC-ROC             |      0.6108490566037735         |     0.5358490566037736          |\n",
    "\n",
    "\n",
    "\n",
    "Таким образом,исправление дисбаланса классов в target_train повысило качетво модели.\n",
    "\n",
    "Гиперпараметры:\n",
    "- Лучшая max_depth: 8\n",
    "- Лучшая n_estimators: 25\n",
    "\n",
    "Проведем тестирование модели. Тестирование Будем проводить на модели Случайны лес применив class_weight='balanced' и с гиперпараметрами:\n",
    "- Лучшая max_depth: 9\n",
    "- Лучшая n_estimators: 45\n",
    "Так как значение f1 метрики у нее  оказалось выше."
   ]
  },
  {
   "cell_type": "markdown",
   "metadata": {},
   "source": [
    "## Тестирование модели"
   ]
  },
  {
   "cell_type": "markdown",
   "metadata": {},
   "source": [
    "Проведем тестирование на модели Случайный лес (class_weight='balanced')"
   ]
  },
  {
   "cell_type": "code",
   "execution_count": 63,
   "metadata": {},
   "outputs": [],
   "source": [
    "predictions_test_1 = best_model_2.predict(features_test) "
   ]
  },
  {
   "cell_type": "code",
   "execution_count": 64,
   "metadata": {},
   "outputs": [
    {
     "data": {
      "image/png": "[encoded data removed]",
      "text/plain": [
       "<Figure size 1080x288 with 2 Axes>"
      ]
     },
     "metadata": {
      "needs_background": "light"
     },
     "output_type": "display_data"
    }
   ],
   "source": [
    "probabilities_test = best_model_2.predict_proba(features_test) \n",
    "probabilities_one_test = probabilities_test[:, 1]\n",
    "\n",
    "fig, axes = plt.subplots(nrows=1, ncols=2, figsize = (15,4))\n",
    "plt.subplots_adjust(wspace=0.5, hspace=0.5)\n",
    "    \n",
    "fpr, tpr, thresholds = roc_curve(target_test, probabilities_one_test) \n",
    "\n",
    "axes[0].plot(fpr, tpr)\n",
    "axes[0].plot([0, 1], [0, 1], linestyle='--')\n",
    "plt.ylim([0.0, 1.0]) \n",
    "plt.xlim([0.0, 1.0])\n",
    "axes[0].set_xlabel('False Positive Rate')\n",
    "axes[0].set_ylabel('True Positive Rate')\n",
    "axes[0].set_title('ROC-кривая') \n",
    "\n",
    "\n",
    "precision, recall, thresholds = precision_recall_curve(target_test,\n",
    "                                                       probabilities_one_test)\n",
    "\n",
    "\n",
    "plt.step(recall, precision, where='post') \n",
    "plt.ylim([0.0, 1.0]) \n",
    "plt.xlim([0.0, 1.0])\n",
    "axes[1].set_xlabel('Recall')\n",
    "axes[1].set_ylabel('Precision')\n",
    "axes[1].set_title('Кривая Precision-Recall') \n",
    "plt.show()"
   ]
  },
  {
   "cell_type": "code",
   "execution_count": 69,
   "metadata": {},
   "outputs": [
    {
     "name": "stdout",
     "output_type": "stream",
     "text": [
      "Accuracy наилучшей модели на тестовой выборке: 0.8416712479384277\n",
      "F1 мера наилучшей модели на тестовой выборке: 0.6118598382749326\n",
      "Полнота наилучшей модели на тестовой выборке: 0.6467236467236467\n",
      "Точность наилучшей модели на тестовой выборке: 0.5805626598465473\n",
      "AUC-ROC наилучшей модели на тестовой выборке: 0.8563388372652678\n"
     ]
    }
   ],
   "source": [
    "print(\"Accuracy наилучшей модели на тестовой выборке:\", accuracy_score(target_test, predictions_test_1))\n",
    "print('F1 мера наилучшей модели на тестовой выборке:', f1_score(target_test,predictions_test_1))\n",
    "print('Полнота наилучшей модели на тестовой выборке:', recall_score(target_test,predictions_test_1))\n",
    "print('Точность наилучшей модели на тестовой выборке:', precision_score(target_test, predictions_test_1))\n",
    "print('AUC-ROC наилучшей модели на тестовой выборке:',roc_auc_score(target_test, probabilities_one_test))\n"
   ]
  },
  {
   "cell_type": "markdown",
   "metadata": {},
   "source": [
    "Вывод:\n",
    "\n",
    "На тестовой выборке получились следующе значения:\n",
    "\n",
    "\n",
    "| Метрики             | class_weight='balanced'          |  \n",
    "| :---               | :----                   | \n",
    "|  Accuary           |     0.8416712479384277           |      \n",
    "| F1                 |       0.6118598382749326        |\n",
    "| Полнота (recall)    |       0.6467236467236467         |\n",
    "| Точность (precision)|      0.5805626598465473          |\n",
    "| AUC-ROC            |      0.8563388372652678         | \n",
    "\n",
    "\n",
    "Необходимое качество f1 выше 0.59 достигли.\n"
   ]
  },
  {
   "cell_type": "markdown",
   "metadata": {},
   "source": [
    "## Итоговый вывод "
   ]
  },
  {
   "cell_type": "markdown",
   "metadata": {},
   "source": [
    "**Общий вывод**\n",
    "\n",
    "Представлены данные из банка. \n",
    "Нужно спрогнозировать, уйдёт клиент из банка в ближайшее время или нет. Предоставлены исторические данные о поведении клиентов и расторжении договоров с банком. \n",
    "Необходимо построить модель с предельно большим значением F1-меры (до 0.59).\n",
    "Дополнительно измеряйте AUC-ROC, сравнивайте её значение с F1-мерой.\n",
    "\n",
    "\n",
    "* **Шаг 1**\n",
    "\n",
    "На выходе получили таблицу с значением 9091 строк и 11 колонок. В процессе подготовки данных скорректировали оформление у названий столбцов, удалили строки с пропусками в столбце tenure. 9.09% строк от визначального датасфрейма было удалено. Была выявлена зависимости, что строки присудствовали в равных пропорциях различных категориях и было принято решение из удлаить, так как это не приведет к резкому смещению значений во всем датафрейма.\n",
    "\n",
    "Так же были удалены столбцы:'index','RowNumber', 'CustomerId', 'Surname'. Причина: отсутсвие полезной информации для построения модели и возможности влияние на обучение в негативную сторону.\n",
    "\n",
    "Наблюдается неравномерное распредление данных в 'geography','num_of_products', 'has_cr_card', 'exited','balance'.\n",
    "Очень сильно в 'balance'. Болшое кол-во знначений около нуля.\n",
    "\n",
    "Столбцы с категоральными данными: 'geography','gender'. Было выполнено прямое кодирование с данным столбцами.\n",
    "Также выполнено масштабирование в оставшихся числовыых столбцах.\n",
    "\n",
    "Разделение исходных данных на обучающую, валидационную и тестовую выборки.\n",
    "Исходные данные разбивают в соотношении 3:1:1.\n",
    "Под обучающие данные мы выделили 60%. Под валидационную часть 20% и под тестовую часть тоже 20%\n",
    "\n",
    "\n",
    "В целевом признаке exited ярко выражен дисбаланс классов. Наиболее часто всречается значение с 0 (79% составляет от всех данных в признаке)\n",
    "\n",
    "* **Шаг 2**\n",
    "\n",
    "Был выполнен поиск наилучшй модели. Ею оказался Решающее дерево при значениях гиперпараметров:\n",
    "\n",
    "- Лучшая max_depth: 6\n",
    "\n",
    "Также был проведен анализ модели на адекватность и выявлено, что модель имеет дисбаланс данных в целевом признаке\n",
    "\n",
    "А метрики дают следующие значения: \n",
    "- Полнота: 0.46153846153846156\n",
    "- Точность: 0.7837837837837838\n",
    "- F1 мера: 0.5809682804674458\n",
    "- AUC-ROC : 0.844938\n",
    "\n",
    "Т.к. точность определяет, как много отрицательных ответов нашла модель, пока искала положительные. И внашем случае точность получилоь достаточно высокой\n",
    "Полнота выявляет, какую долю положительных среди всех ответов выделила модель. Можно наблюдать, что их меньше половины. \n",
    "\n",
    "Показатели f1 необходимо повысить.\n",
    "\n",
    "\n",
    "* **Шаг 3**\n",
    "\n",
    "Было 2 способа борьбы способы с дисбалансом:\n",
    "- 1) применив class_weight='balanced' в моеделях: Дерево решений, Случайный лес, Линейная регрессия.\n",
    "\n",
    "| Метрики             | Дерево решений           |  Случайны лес       |  Линейная регрессия  |  \n",
    "| :---               | :----                   | :----            | :----                  |  \n",
    "|  Accuary           |     0.7871287128712872           |0.8443344334433444                |0.7090209020902091               |\n",
    "| F1                 |       0.5420118343195266         |0.6466916354556803                 |0.5004721435316335               |\n",
    "| Полнота (recall)    |       -         |0.6870026525198939                |-              |\n",
    "| Точность (precision)|      -          |0.6108490566037735          |-               |\n",
    "| AUC-ROC            |      -         |0.8665861645593155               | -              |\n",
    " \n",
    "\n",
    "\n",
    "Лучшей оказалась модель случайного леса по параметрам F1\n",
    "\n",
    "Гиперпараметры:\n",
    "- Лучшая max_depth: 9\n",
    "- Лучшая n_estimators: 45\n",
    "\n",
    "\n",
    "- 2) увеличение выборки. Рассмотрено на модели случайны лес. \n",
    "\n",
    "\n",
    "| Метрики             | Случайный лес (class_weight=balanced)          |Случайный лес (увеличение выборки) |\n",
    "| :---                | :----                           |:----                            |\n",
    "|  Accuary            |     0.844334         |     0.813531          |\n",
    "| F1                  |       0.646692        |     0.626240         |\n",
    "| Полнота (recall)    |       0.866586         |     0.868178          |\n",
    "| Точность (precision)|      0.6870026525198939         |     0.753315649867374         |\n",
    "| AUC-ROC             |      0.6108490566037735         |     0.5358490566037736          |\n",
    "\n",
    "\n",
    "\n",
    "Таким образом,исправление дисбаланса классов в target_train повысило качетво модели.\n",
    "\n",
    "Гиперпараметры:\n",
    "- Лучшая max_depth: 8\n",
    "- Лучшая n_estimators: 25\n",
    "\n",
    "Проведем тестирование модели. Тестирование Будем проводить на модели Случайны лес применив class_weight='balanced' и с гиперпараметрами:\n",
    "- Лучшая max_depth: 9\n",
    "- Лучшая n_estimators: 45\n",
    "Так как значение f1 метрики у нее  оказалось выше.\n",
    "\n",
    "* **Шаг 4**\n",
    "\n",
    "На тестовой выборке получились следующе значения:\n",
    "\n",
    "\n",
    "| Метрики             | class_weight='balanced'          |  \n",
    "| :---               | :----                   | \n",
    "|  Accuary           |     0.8416712479384277           |      \n",
    "| F1                 |       0.6118598382749326        |\n",
    "| Полнота (recall)    |       0.6467236467236467         |\n",
    "| Точность (precision)|      0.5805626598465473          |\n",
    "| AUC-ROC            |      0.8563388372652678         | \n",
    "\n",
    "\n",
    "Таким образом модель случанйый лес дает необходиоме значение F1 выше 0,59 с борьбой диссбаланса с помощью  class_weight='balanced' и с гиперпараметрами:\n",
    "- Лучшая max_depth: 9\n",
    "- Лучшая n_estimators: 45\n",
    "\n"
   ]
  }
 ],
 "metadata": {
  "ExecuteTimeLog": [
   {
    "duration": 1103,
    "start_time": "2023-02-16T13:56:55.885Z"
   },
   {
    "duration": 167,
    "start_time": "2023-02-16T13:56:58.374Z"
   },
   {
    "duration": 19,
    "start_time": "2023-02-16T13:57:06.981Z"
   },
   {
    "duration": 116,
    "start_time": "2023-02-16T13:59:40.357Z"
   },
   {
    "duration": 21,
    "start_time": "2023-02-16T13:59:45.238Z"
   },
   {
    "duration": 39,
    "start_time": "2023-02-16T14:06:22.390Z"
   },
   {
    "duration": 12,
    "start_time": "2023-02-16T14:07:04.871Z"
   },
   {
    "duration": 4,
    "start_time": "2023-02-16T14:07:23.886Z"
   },
   {
    "duration": 27,
    "start_time": "2023-02-16T14:08:23.207Z"
   },
   {
    "duration": 1405,
    "start_time": "2023-02-16T14:10:14.830Z"
   },
   {
    "duration": 16,
    "start_time": "2023-02-16T14:17:51.520Z"
   },
   {
    "duration": 13,
    "start_time": "2023-02-16T14:18:09.521Z"
   },
   {
    "duration": 5,
    "start_time": "2023-02-16T14:21:53.167Z"
   },
   {
    "duration": 5,
    "start_time": "2023-02-16T14:31:10.672Z"
   },
   {
    "duration": 4,
    "start_time": "2023-02-16T14:31:40.743Z"
   },
   {
    "duration": 4,
    "start_time": "2023-02-16T14:32:07.359Z"
   },
   {
    "duration": 4,
    "start_time": "2023-02-16T14:32:13.126Z"
   },
   {
    "duration": 21,
    "start_time": "2023-02-16T14:32:36.359Z"
   },
   {
    "duration": 19,
    "start_time": "2023-02-16T14:32:42.648Z"
   },
   {
    "duration": 14,
    "start_time": "2023-02-16T14:34:21.295Z"
   },
   {
    "duration": 4,
    "start_time": "2023-02-16T14:35:51.198Z"
   },
   {
    "duration": 8,
    "start_time": "2023-02-16T14:55:52.918Z"
   },
   {
    "duration": 9,
    "start_time": "2023-02-16T15:05:45.999Z"
   },
   {
    "duration": 5,
    "start_time": "2023-02-16T15:10:28.118Z"
   },
   {
    "duration": 6,
    "start_time": "2023-02-16T15:11:25.757Z"
   },
   {
    "duration": 18,
    "start_time": "2023-02-16T15:12:22.584Z"
   },
   {
    "duration": 5,
    "start_time": "2023-02-16T15:12:30.592Z"
   },
   {
    "duration": 51,
    "start_time": "2023-02-16T19:21:49.268Z"
   },
   {
    "duration": 1080,
    "start_time": "2023-02-16T19:22:07.696Z"
   },
   {
    "duration": 165,
    "start_time": "2023-02-16T19:22:08.778Z"
   },
   {
    "duration": 19,
    "start_time": "2023-02-16T19:22:08.945Z"
   },
   {
    "duration": 15,
    "start_time": "2023-02-16T19:22:08.966Z"
   },
   {
    "duration": 28,
    "start_time": "2023-02-16T19:22:08.982Z"
   },
   {
    "duration": 126,
    "start_time": "2023-02-16T19:22:09.012Z"
   },
   {
    "duration": 0,
    "start_time": "2023-02-16T19:22:09.140Z"
   },
   {
    "duration": 0,
    "start_time": "2023-02-16T19:22:09.141Z"
   },
   {
    "duration": 0,
    "start_time": "2023-02-16T19:22:09.143Z"
   },
   {
    "duration": 0,
    "start_time": "2023-02-16T19:22:09.144Z"
   },
   {
    "duration": 0,
    "start_time": "2023-02-16T19:22:09.144Z"
   },
   {
    "duration": 0,
    "start_time": "2023-02-16T19:22:09.146Z"
   },
   {
    "duration": 0,
    "start_time": "2023-02-16T19:22:09.147Z"
   },
   {
    "duration": 2,
    "start_time": "2023-02-16T19:22:36.163Z"
   },
   {
    "duration": 2,
    "start_time": "2023-02-16T19:22:45.944Z"
   },
   {
    "duration": 5,
    "start_time": "2023-02-16T19:22:50.881Z"
   },
   {
    "duration": 31,
    "start_time": "2023-02-16T19:22:50.888Z"
   },
   {
    "duration": 14,
    "start_time": "2023-02-16T19:22:50.921Z"
   },
   {
    "duration": 45,
    "start_time": "2023-02-16T19:22:50.937Z"
   },
   {
    "duration": 11,
    "start_time": "2023-02-16T19:22:50.984Z"
   },
   {
    "duration": 12,
    "start_time": "2023-02-16T19:22:50.997Z"
   },
   {
    "duration": 2984,
    "start_time": "2023-02-16T19:22:51.011Z"
   },
   {
    "duration": 7,
    "start_time": "2023-02-16T19:40:30.375Z"
   },
   {
    "duration": 21,
    "start_time": "2023-02-16T19:41:22.787Z"
   },
   {
    "duration": 10,
    "start_time": "2023-02-16T19:41:52.767Z"
   },
   {
    "duration": 15,
    "start_time": "2023-02-16T19:43:17.048Z"
   },
   {
    "duration": 15,
    "start_time": "2023-02-16T19:44:03.442Z"
   },
   {
    "duration": 17,
    "start_time": "2023-02-16T19:44:21.289Z"
   },
   {
    "duration": 7,
    "start_time": "2023-02-16T19:44:42.976Z"
   },
   {
    "duration": 139,
    "start_time": "2023-02-16T19:44:54.615Z"
   },
   {
    "duration": 178,
    "start_time": "2023-02-16T19:47:17.327Z"
   },
   {
    "duration": 4,
    "start_time": "2023-02-16T19:48:33.997Z"
   },
   {
    "duration": 327,
    "start_time": "2023-02-16T19:48:38.696Z"
   },
   {
    "duration": 186,
    "start_time": "2023-02-16T19:48:56.987Z"
   },
   {
    "duration": 197,
    "start_time": "2023-02-16T19:49:04.302Z"
   },
   {
    "duration": 215,
    "start_time": "2023-02-16T19:49:12.359Z"
   },
   {
    "duration": 195,
    "start_time": "2023-02-16T19:49:52.634Z"
   },
   {
    "duration": 70,
    "start_time": "2023-02-16T19:52:51.538Z"
   },
   {
    "duration": 7,
    "start_time": "2023-02-16T19:53:01.575Z"
   },
   {
    "duration": 175,
    "start_time": "2023-02-16T19:53:43.432Z"
   },
   {
    "duration": 14,
    "start_time": "2023-02-16T22:09:37.107Z"
   },
   {
    "duration": 5,
    "start_time": "2023-02-16T22:22:53.535Z"
   },
   {
    "duration": 4,
    "start_time": "2023-02-16T22:22:54.766Z"
   },
   {
    "duration": 3,
    "start_time": "2023-02-16T22:22:56.898Z"
   },
   {
    "duration": 5,
    "start_time": "2023-02-16T22:23:01.010Z"
   },
   {
    "duration": 1528,
    "start_time": "2023-02-17T06:57:49.002Z"
   },
   {
    "duration": 164,
    "start_time": "2023-02-17T06:57:50.532Z"
   },
   {
    "duration": 21,
    "start_time": "2023-02-17T06:57:50.698Z"
   },
   {
    "duration": 21,
    "start_time": "2023-02-17T06:57:50.721Z"
   },
   {
    "duration": 30,
    "start_time": "2023-02-17T06:57:50.744Z"
   },
   {
    "duration": 202,
    "start_time": "2023-02-17T06:57:50.776Z"
   },
   {
    "duration": 8,
    "start_time": "2023-02-17T06:57:50.980Z"
   },
   {
    "duration": 18,
    "start_time": "2023-02-17T06:57:50.989Z"
   },
   {
    "duration": 22,
    "start_time": "2023-02-17T06:57:51.008Z"
   },
   {
    "duration": 9,
    "start_time": "2023-02-17T06:57:51.032Z"
   },
   {
    "duration": 40,
    "start_time": "2023-02-17T06:57:51.042Z"
   },
   {
    "duration": 20,
    "start_time": "2023-02-17T06:57:51.084Z"
   },
   {
    "duration": 55,
    "start_time": "2023-02-17T06:57:51.106Z"
   },
   {
    "duration": 12,
    "start_time": "2023-02-17T06:57:51.163Z"
   },
   {
    "duration": 1316,
    "start_time": "2023-02-17T06:57:51.177Z"
   },
   {
    "duration": 0,
    "start_time": "2023-02-17T06:57:52.495Z"
   },
   {
    "duration": 0,
    "start_time": "2023-02-17T06:57:52.496Z"
   },
   {
    "duration": 9,
    "start_time": "2023-02-17T06:58:12.319Z"
   },
   {
    "duration": 1372,
    "start_time": "2023-02-17T07:00:59.877Z"
   },
   {
    "duration": 1320,
    "start_time": "2023-02-17T07:01:08.520Z"
   },
   {
    "duration": 44,
    "start_time": "2023-02-17T07:01:09.842Z"
   },
   {
    "duration": 19,
    "start_time": "2023-02-17T07:01:09.887Z"
   },
   {
    "duration": 11,
    "start_time": "2023-02-17T07:01:09.907Z"
   },
   {
    "duration": 5,
    "start_time": "2023-02-17T07:01:09.920Z"
   },
   {
    "duration": 176,
    "start_time": "2023-02-17T07:01:09.926Z"
   },
   {
    "duration": 8,
    "start_time": "2023-02-17T07:01:10.103Z"
   },
   {
    "duration": 3,
    "start_time": "2023-02-17T07:01:10.113Z"
   },
   {
    "duration": 183,
    "start_time": "2023-02-17T07:01:10.118Z"
   },
   {
    "duration": 9,
    "start_time": "2023-02-17T07:01:10.303Z"
   },
   {
    "duration": 7,
    "start_time": "2023-02-17T07:01:10.314Z"
   },
   {
    "duration": 9,
    "start_time": "2023-02-17T07:01:10.323Z"
   },
   {
    "duration": 16,
    "start_time": "2023-02-17T07:01:10.334Z"
   },
   {
    "duration": 4,
    "start_time": "2023-02-17T07:01:10.352Z"
   },
   {
    "duration": 14,
    "start_time": "2023-02-17T07:01:10.357Z"
   },
   {
    "duration": 40,
    "start_time": "2023-02-17T07:01:10.373Z"
   },
   {
    "duration": 11,
    "start_time": "2023-02-17T07:01:10.414Z"
   },
   {
    "duration": 27,
    "start_time": "2023-02-17T07:01:10.427Z"
   },
   {
    "duration": 1270,
    "start_time": "2023-02-17T07:01:10.456Z"
   },
   {
    "duration": 0,
    "start_time": "2023-02-17T07:01:11.728Z"
   },
   {
    "duration": 5,
    "start_time": "2023-02-17T07:01:36.652Z"
   },
   {
    "duration": 1381,
    "start_time": "2023-02-17T07:03:33.789Z"
   },
   {
    "duration": 47,
    "start_time": "2023-02-17T07:03:35.172Z"
   },
   {
    "duration": 28,
    "start_time": "2023-02-17T07:03:35.221Z"
   },
   {
    "duration": 20,
    "start_time": "2023-02-17T07:03:35.251Z"
   },
   {
    "duration": 33,
    "start_time": "2023-02-17T07:03:35.274Z"
   },
   {
    "duration": 210,
    "start_time": "2023-02-17T07:03:35.310Z"
   },
   {
    "duration": 12,
    "start_time": "2023-02-17T07:03:35.522Z"
   },
   {
    "duration": 36,
    "start_time": "2023-02-17T07:03:35.536Z"
   },
   {
    "duration": 238,
    "start_time": "2023-02-17T07:03:35.574Z"
   },
   {
    "duration": 9,
    "start_time": "2023-02-17T07:03:35.813Z"
   },
   {
    "duration": 5,
    "start_time": "2023-02-17T07:03:35.823Z"
   },
   {
    "duration": 41,
    "start_time": "2023-02-17T07:03:35.830Z"
   },
   {
    "duration": 17,
    "start_time": "2023-02-17T07:03:35.872Z"
   },
   {
    "duration": 9,
    "start_time": "2023-02-17T07:03:35.892Z"
   },
   {
    "duration": 7,
    "start_time": "2023-02-17T07:03:35.903Z"
   },
   {
    "duration": 5,
    "start_time": "2023-02-17T07:03:35.912Z"
   },
   {
    "duration": 5,
    "start_time": "2023-02-17T07:03:35.919Z"
   },
   {
    "duration": 12,
    "start_time": "2023-02-17T07:03:35.925Z"
   },
   {
    "duration": 4,
    "start_time": "2023-02-17T07:03:35.939Z"
   },
   {
    "duration": 22,
    "start_time": "2023-02-17T07:03:35.945Z"
   },
   {
    "duration": 115,
    "start_time": "2023-02-17T07:04:23.161Z"
   },
   {
    "duration": 114,
    "start_time": "2023-02-17T07:05:00.553Z"
   },
   {
    "duration": 172,
    "start_time": "2023-02-17T07:05:16.866Z"
   },
   {
    "duration": 177,
    "start_time": "2023-02-17T07:05:59.100Z"
   },
   {
    "duration": 239,
    "start_time": "2023-02-17T07:37:34.224Z"
   },
   {
    "duration": 76,
    "start_time": "2023-02-17T07:39:53.963Z"
   },
   {
    "duration": 6,
    "start_time": "2023-02-17T07:39:58.839Z"
   },
   {
    "duration": 15,
    "start_time": "2023-02-17T07:40:31.406Z"
   },
   {
    "duration": 14,
    "start_time": "2023-02-17T07:40:59.894Z"
   },
   {
    "duration": 6,
    "start_time": "2023-02-17T07:41:13.561Z"
   },
   {
    "duration": 129,
    "start_time": "2023-02-17T07:42:18.159Z"
   },
   {
    "duration": 11,
    "start_time": "2023-02-17T07:44:33.433Z"
   },
   {
    "duration": 1484,
    "start_time": "2023-02-17T08:23:47.160Z"
   },
   {
    "duration": 41,
    "start_time": "2023-02-17T08:23:48.647Z"
   },
   {
    "duration": 18,
    "start_time": "2023-02-17T08:23:48.690Z"
   },
   {
    "duration": 21,
    "start_time": "2023-02-17T08:23:48.710Z"
   },
   {
    "duration": 6,
    "start_time": "2023-02-17T08:23:48.734Z"
   },
   {
    "duration": 203,
    "start_time": "2023-02-17T08:23:48.742Z"
   },
   {
    "duration": 11,
    "start_time": "2023-02-17T08:23:48.947Z"
   },
   {
    "duration": 137,
    "start_time": "2023-02-17T08:23:48.960Z"
   },
   {
    "duration": 0,
    "start_time": "2023-02-17T08:23:49.100Z"
   },
   {
    "duration": 0,
    "start_time": "2023-02-17T08:23:49.101Z"
   },
   {
    "duration": 0,
    "start_time": "2023-02-17T08:23:49.102Z"
   },
   {
    "duration": 0,
    "start_time": "2023-02-17T08:23:49.103Z"
   },
   {
    "duration": 0,
    "start_time": "2023-02-17T08:23:49.104Z"
   },
   {
    "duration": 0,
    "start_time": "2023-02-17T08:23:49.105Z"
   },
   {
    "duration": 0,
    "start_time": "2023-02-17T08:23:49.106Z"
   },
   {
    "duration": 0,
    "start_time": "2023-02-17T08:23:49.107Z"
   },
   {
    "duration": 0,
    "start_time": "2023-02-17T08:23:49.109Z"
   },
   {
    "duration": 0,
    "start_time": "2023-02-17T08:23:49.110Z"
   },
   {
    "duration": 0,
    "start_time": "2023-02-17T08:23:49.111Z"
   },
   {
    "duration": 0,
    "start_time": "2023-02-17T08:23:49.113Z"
   },
   {
    "duration": 0,
    "start_time": "2023-02-17T08:23:49.114Z"
   },
   {
    "duration": 0,
    "start_time": "2023-02-17T08:23:49.115Z"
   },
   {
    "duration": 0,
    "start_time": "2023-02-17T08:23:49.116Z"
   },
   {
    "duration": 3,
    "start_time": "2023-02-17T08:24:03.192Z"
   },
   {
    "duration": 48,
    "start_time": "2023-02-17T08:24:03.198Z"
   },
   {
    "duration": 15,
    "start_time": "2023-02-17T08:24:03.247Z"
   },
   {
    "duration": 14,
    "start_time": "2023-02-17T08:24:03.263Z"
   },
   {
    "duration": 5,
    "start_time": "2023-02-17T08:24:03.279Z"
   },
   {
    "duration": 185,
    "start_time": "2023-02-17T08:24:03.287Z"
   },
   {
    "duration": 8,
    "start_time": "2023-02-17T08:24:03.474Z"
   },
   {
    "duration": 2,
    "start_time": "2023-02-17T08:24:15.954Z"
   },
   {
    "duration": 173,
    "start_time": "2023-02-17T08:24:17.617Z"
   },
   {
    "duration": 9,
    "start_time": "2023-02-17T08:24:20.500Z"
   },
   {
    "duration": 226,
    "start_time": "2023-02-17T08:24:22.742Z"
   },
   {
    "duration": 8,
    "start_time": "2023-02-17T08:24:25.414Z"
   },
   {
    "duration": 15,
    "start_time": "2023-02-17T08:26:15.976Z"
   },
   {
    "duration": 128,
    "start_time": "2023-02-17T08:26:36.452Z"
   },
   {
    "duration": 8,
    "start_time": "2023-02-17T08:30:04.824Z"
   },
   {
    "duration": 6,
    "start_time": "2023-02-17T08:30:17.914Z"
   },
   {
    "duration": 4,
    "start_time": "2023-02-17T08:30:52.270Z"
   },
   {
    "duration": 5,
    "start_time": "2023-02-17T08:30:56.715Z"
   },
   {
    "duration": 8,
    "start_time": "2023-02-17T08:31:49.177Z"
   },
   {
    "duration": 6,
    "start_time": "2023-02-17T08:31:52.295Z"
   },
   {
    "duration": 145,
    "start_time": "2023-02-17T08:32:25.437Z"
   },
   {
    "duration": 12,
    "start_time": "2023-02-17T08:33:47.238Z"
   },
   {
    "duration": 10,
    "start_time": "2023-02-17T08:34:02.172Z"
   },
   {
    "duration": 136,
    "start_time": "2023-02-17T08:34:11.792Z"
   },
   {
    "duration": 54,
    "start_time": "2023-02-17T08:35:17.146Z"
   },
   {
    "duration": 138,
    "start_time": "2023-02-17T08:35:40.117Z"
   },
   {
    "duration": 135,
    "start_time": "2023-02-17T08:35:50.017Z"
   },
   {
    "duration": 131,
    "start_time": "2023-02-17T08:36:16.296Z"
   },
   {
    "duration": 342,
    "start_time": "2023-02-17T08:36:35.035Z"
   },
   {
    "duration": 148,
    "start_time": "2023-02-17T08:36:49.425Z"
   },
   {
    "duration": 147,
    "start_time": "2023-02-17T08:38:08.816Z"
   },
   {
    "duration": 155,
    "start_time": "2023-02-17T08:38:32.198Z"
   },
   {
    "duration": 1365,
    "start_time": "2023-02-17T09:27:38.287Z"
   },
   {
    "duration": 0,
    "start_time": "2023-02-17T09:27:39.655Z"
   },
   {
    "duration": 0,
    "start_time": "2023-02-17T09:27:39.656Z"
   },
   {
    "duration": 0,
    "start_time": "2023-02-17T09:27:39.657Z"
   },
   {
    "duration": 0,
    "start_time": "2023-02-17T09:27:39.658Z"
   },
   {
    "duration": 1,
    "start_time": "2023-02-17T09:27:39.658Z"
   },
   {
    "duration": 1,
    "start_time": "2023-02-17T09:27:39.659Z"
   },
   {
    "duration": 0,
    "start_time": "2023-02-17T09:27:39.660Z"
   },
   {
    "duration": 0,
    "start_time": "2023-02-17T09:27:39.661Z"
   },
   {
    "duration": 0,
    "start_time": "2023-02-17T09:27:39.662Z"
   },
   {
    "duration": 0,
    "start_time": "2023-02-17T09:27:39.663Z"
   },
   {
    "duration": 0,
    "start_time": "2023-02-17T09:27:39.664Z"
   },
   {
    "duration": 0,
    "start_time": "2023-02-17T09:27:39.665Z"
   },
   {
    "duration": 0,
    "start_time": "2023-02-17T09:27:39.666Z"
   },
   {
    "duration": 0,
    "start_time": "2023-02-17T09:27:39.667Z"
   },
   {
    "duration": 0,
    "start_time": "2023-02-17T09:27:39.668Z"
   },
   {
    "duration": 0,
    "start_time": "2023-02-17T09:27:39.669Z"
   },
   {
    "duration": 0,
    "start_time": "2023-02-17T09:27:39.670Z"
   },
   {
    "duration": 0,
    "start_time": "2023-02-17T09:27:39.670Z"
   },
   {
    "duration": 0,
    "start_time": "2023-02-17T09:27:39.672Z"
   },
   {
    "duration": 0,
    "start_time": "2023-02-17T09:27:39.672Z"
   },
   {
    "duration": 0,
    "start_time": "2023-02-17T09:27:39.673Z"
   },
   {
    "duration": 0,
    "start_time": "2023-02-17T09:27:39.674Z"
   },
   {
    "duration": 0,
    "start_time": "2023-02-17T09:27:39.675Z"
   },
   {
    "duration": 0,
    "start_time": "2023-02-17T09:27:39.676Z"
   },
   {
    "duration": 0,
    "start_time": "2023-02-17T09:27:39.677Z"
   },
   {
    "duration": 0,
    "start_time": "2023-02-17T09:27:39.678Z"
   },
   {
    "duration": 0,
    "start_time": "2023-02-17T09:27:39.679Z"
   },
   {
    "duration": 0,
    "start_time": "2023-02-17T09:27:39.679Z"
   },
   {
    "duration": 0,
    "start_time": "2023-02-17T09:27:39.680Z"
   },
   {
    "duration": 3,
    "start_time": "2023-02-17T09:38:24.426Z"
   },
   {
    "duration": 1341,
    "start_time": "2023-02-17T09:48:02.612Z"
   },
   {
    "duration": 39,
    "start_time": "2023-02-17T09:48:03.955Z"
   },
   {
    "duration": 18,
    "start_time": "2023-02-17T09:48:03.995Z"
   },
   {
    "duration": 13,
    "start_time": "2023-02-17T09:48:04.014Z"
   },
   {
    "duration": 4,
    "start_time": "2023-02-17T09:48:04.029Z"
   },
   {
    "duration": 196,
    "start_time": "2023-02-17T09:48:04.035Z"
   },
   {
    "duration": 8,
    "start_time": "2023-02-17T09:48:04.232Z"
   },
   {
    "duration": 2,
    "start_time": "2023-02-17T09:48:04.248Z"
   },
   {
    "duration": 168,
    "start_time": "2023-02-17T09:48:04.251Z"
   },
   {
    "duration": 8,
    "start_time": "2023-02-17T09:48:04.420Z"
   },
   {
    "duration": 134,
    "start_time": "2023-02-17T09:48:04.429Z"
   },
   {
    "duration": 7,
    "start_time": "2023-02-17T09:48:04.565Z"
   },
   {
    "duration": 227,
    "start_time": "2023-02-17T09:48:04.573Z"
   },
   {
    "duration": 82,
    "start_time": "2023-02-17T09:48:04.803Z"
   },
   {
    "duration": 0,
    "start_time": "2023-02-17T09:48:04.887Z"
   },
   {
    "duration": 0,
    "start_time": "2023-02-17T09:48:04.888Z"
   },
   {
    "duration": 0,
    "start_time": "2023-02-17T09:48:04.889Z"
   },
   {
    "duration": 0,
    "start_time": "2023-02-17T09:48:04.890Z"
   },
   {
    "duration": 0,
    "start_time": "2023-02-17T09:48:04.892Z"
   },
   {
    "duration": 0,
    "start_time": "2023-02-17T09:48:04.893Z"
   },
   {
    "duration": 0,
    "start_time": "2023-02-17T09:48:04.894Z"
   },
   {
    "duration": 1,
    "start_time": "2023-02-17T09:48:04.894Z"
   },
   {
    "duration": 0,
    "start_time": "2023-02-17T09:48:04.895Z"
   },
   {
    "duration": 0,
    "start_time": "2023-02-17T09:48:04.896Z"
   },
   {
    "duration": 0,
    "start_time": "2023-02-17T09:48:04.897Z"
   },
   {
    "duration": 0,
    "start_time": "2023-02-17T09:48:04.898Z"
   },
   {
    "duration": 0,
    "start_time": "2023-02-17T09:48:04.899Z"
   },
   {
    "duration": 0,
    "start_time": "2023-02-17T09:48:04.900Z"
   },
   {
    "duration": 0,
    "start_time": "2023-02-17T09:48:04.901Z"
   },
   {
    "duration": 0,
    "start_time": "2023-02-17T09:48:04.902Z"
   },
   {
    "duration": 21,
    "start_time": "2023-02-17T09:48:20.553Z"
   },
   {
    "duration": 134,
    "start_time": "2023-02-17T09:48:32.720Z"
   },
   {
    "duration": 117,
    "start_time": "2023-02-17T09:49:19.918Z"
   },
   {
    "duration": 1601,
    "start_time": "2023-02-17T11:40:04.609Z"
   },
   {
    "duration": 47,
    "start_time": "2023-02-17T11:40:06.212Z"
   },
   {
    "duration": 22,
    "start_time": "2023-02-17T11:40:06.261Z"
   },
   {
    "duration": 33,
    "start_time": "2023-02-17T11:40:06.286Z"
   },
   {
    "duration": 22,
    "start_time": "2023-02-17T11:40:06.321Z"
   },
   {
    "duration": 224,
    "start_time": "2023-02-17T11:40:06.344Z"
   },
   {
    "duration": 11,
    "start_time": "2023-02-17T11:40:06.570Z"
   },
   {
    "duration": 13,
    "start_time": "2023-02-17T11:40:06.583Z"
   },
   {
    "duration": 180,
    "start_time": "2023-02-17T11:40:06.598Z"
   },
   {
    "duration": 7,
    "start_time": "2023-02-17T11:40:06.781Z"
   },
   {
    "duration": 130,
    "start_time": "2023-02-17T11:40:06.790Z"
   },
   {
    "duration": 6,
    "start_time": "2023-02-17T11:40:06.921Z"
   },
   {
    "duration": 203,
    "start_time": "2023-02-17T11:40:06.929Z"
   },
   {
    "duration": 152,
    "start_time": "2023-02-17T11:40:07.134Z"
   },
   {
    "duration": 120,
    "start_time": "2023-02-17T11:40:07.288Z"
   },
   {
    "duration": 0,
    "start_time": "2023-02-17T11:40:07.410Z"
   },
   {
    "duration": 0,
    "start_time": "2023-02-17T11:40:07.411Z"
   },
   {
    "duration": 0,
    "start_time": "2023-02-17T11:40:07.412Z"
   },
   {
    "duration": 0,
    "start_time": "2023-02-17T11:40:07.413Z"
   },
   {
    "duration": 0,
    "start_time": "2023-02-17T11:40:07.414Z"
   },
   {
    "duration": 0,
    "start_time": "2023-02-17T11:40:07.415Z"
   },
   {
    "duration": 0,
    "start_time": "2023-02-17T11:40:07.416Z"
   },
   {
    "duration": 0,
    "start_time": "2023-02-17T11:40:07.417Z"
   },
   {
    "duration": 0,
    "start_time": "2023-02-17T11:40:07.418Z"
   },
   {
    "duration": 0,
    "start_time": "2023-02-17T11:40:07.419Z"
   },
   {
    "duration": 0,
    "start_time": "2023-02-17T11:40:07.419Z"
   },
   {
    "duration": 0,
    "start_time": "2023-02-17T11:40:07.421Z"
   },
   {
    "duration": 0,
    "start_time": "2023-02-17T11:40:07.448Z"
   },
   {
    "duration": 0,
    "start_time": "2023-02-17T11:40:07.449Z"
   },
   {
    "duration": 0,
    "start_time": "2023-02-17T11:40:07.450Z"
   },
   {
    "duration": 132,
    "start_time": "2023-02-17T11:40:16.970Z"
   },
   {
    "duration": 93,
    "start_time": "2023-02-17T11:40:30.543Z"
   },
   {
    "duration": 117,
    "start_time": "2023-02-17T11:40:37.450Z"
   },
   {
    "duration": 107,
    "start_time": "2023-02-17T11:40:42.120Z"
   },
   {
    "duration": 1016,
    "start_time": "2023-02-17T11:46:04.488Z"
   },
   {
    "duration": 99,
    "start_time": "2023-02-17T11:46:22.890Z"
   },
   {
    "duration": 813,
    "start_time": "2023-02-17T11:48:05.023Z"
   },
   {
    "duration": 170,
    "start_time": "2023-02-17T11:48:17.029Z"
   },
   {
    "duration": 166,
    "start_time": "2023-02-17T11:48:21.723Z"
   },
   {
    "duration": 168,
    "start_time": "2023-02-17T11:48:26.153Z"
   },
   {
    "duration": 265,
    "start_time": "2023-02-17T11:48:41.518Z"
   },
   {
    "duration": 203,
    "start_time": "2023-02-17T11:48:49.865Z"
   },
   {
    "duration": 171,
    "start_time": "2023-02-17T11:48:58.150Z"
   },
   {
    "duration": 170,
    "start_time": "2023-02-17T11:49:19.309Z"
   },
   {
    "duration": 289,
    "start_time": "2023-02-17T11:50:42.596Z"
   },
   {
    "duration": 208,
    "start_time": "2023-02-17T11:50:53.017Z"
   },
   {
    "duration": 203,
    "start_time": "2023-02-17T11:50:57.935Z"
   },
   {
    "duration": 253,
    "start_time": "2023-02-17T11:51:17.385Z"
   },
   {
    "duration": 196,
    "start_time": "2023-02-17T11:51:25.273Z"
   },
   {
    "duration": 153,
    "start_time": "2023-02-17T11:51:33.814Z"
   },
   {
    "duration": 246,
    "start_time": "2023-02-17T11:51:39.075Z"
   },
   {
    "duration": 143,
    "start_time": "2023-02-17T11:51:55.108Z"
   },
   {
    "duration": 152,
    "start_time": "2023-02-17T11:52:09.769Z"
   },
   {
    "duration": 158,
    "start_time": "2023-02-17T11:52:19.872Z"
   },
   {
    "duration": 148,
    "start_time": "2023-02-17T11:52:25.024Z"
   },
   {
    "duration": 155,
    "start_time": "2023-02-17T11:52:27.495Z"
   },
   {
    "duration": 92,
    "start_time": "2023-02-17T11:53:18.995Z"
   },
   {
    "duration": 152,
    "start_time": "2023-02-17T11:53:23.323Z"
   },
   {
    "duration": 147,
    "start_time": "2023-02-17T11:53:41.678Z"
   },
   {
    "duration": 158,
    "start_time": "2023-02-17T11:53:47.906Z"
   },
   {
    "duration": 175,
    "start_time": "2023-02-17T11:54:02.200Z"
   },
   {
    "duration": 1284,
    "start_time": "2023-02-17T11:54:16.890Z"
   },
   {
    "duration": 38,
    "start_time": "2023-02-17T11:54:18.176Z"
   },
   {
    "duration": 20,
    "start_time": "2023-02-17T11:54:18.215Z"
   },
   {
    "duration": 13,
    "start_time": "2023-02-17T11:54:18.237Z"
   },
   {
    "duration": 5,
    "start_time": "2023-02-17T11:54:18.252Z"
   },
   {
    "duration": 178,
    "start_time": "2023-02-17T11:54:18.259Z"
   },
   {
    "duration": 11,
    "start_time": "2023-02-17T11:54:18.438Z"
   },
   {
    "duration": 2,
    "start_time": "2023-02-17T11:54:18.451Z"
   },
   {
    "duration": 172,
    "start_time": "2023-02-17T11:54:18.454Z"
   },
   {
    "duration": 10,
    "start_time": "2023-02-17T11:54:18.629Z"
   },
   {
    "duration": 303,
    "start_time": "2023-02-17T11:54:18.641Z"
   },
   {
    "duration": 0,
    "start_time": "2023-02-17T11:54:18.945Z"
   },
   {
    "duration": 0,
    "start_time": "2023-02-17T11:54:18.947Z"
   },
   {
    "duration": 0,
    "start_time": "2023-02-17T11:54:18.949Z"
   },
   {
    "duration": 0,
    "start_time": "2023-02-17T11:54:18.950Z"
   },
   {
    "duration": 0,
    "start_time": "2023-02-17T11:54:18.951Z"
   },
   {
    "duration": 0,
    "start_time": "2023-02-17T11:54:18.952Z"
   },
   {
    "duration": 0,
    "start_time": "2023-02-17T11:54:18.954Z"
   },
   {
    "duration": 0,
    "start_time": "2023-02-17T11:54:18.955Z"
   },
   {
    "duration": 0,
    "start_time": "2023-02-17T11:54:18.956Z"
   },
   {
    "duration": 0,
    "start_time": "2023-02-17T11:54:18.957Z"
   },
   {
    "duration": 0,
    "start_time": "2023-02-17T11:54:18.958Z"
   },
   {
    "duration": 0,
    "start_time": "2023-02-17T11:54:18.959Z"
   },
   {
    "duration": 0,
    "start_time": "2023-02-17T11:54:18.961Z"
   },
   {
    "duration": 0,
    "start_time": "2023-02-17T11:54:18.961Z"
   },
   {
    "duration": 0,
    "start_time": "2023-02-17T11:54:18.963Z"
   },
   {
    "duration": 0,
    "start_time": "2023-02-17T11:54:18.964Z"
   },
   {
    "duration": 0,
    "start_time": "2023-02-17T11:54:18.965Z"
   },
   {
    "duration": 0,
    "start_time": "2023-02-17T11:54:18.966Z"
   },
   {
    "duration": 0,
    "start_time": "2023-02-17T11:54:18.967Z"
   },
   {
    "duration": 213,
    "start_time": "2023-02-17T11:54:48.722Z"
   },
   {
    "duration": 371,
    "start_time": "2023-02-17T11:54:55.642Z"
   },
   {
    "duration": 457,
    "start_time": "2023-02-17T11:55:11.868Z"
   },
   {
    "duration": 443,
    "start_time": "2023-02-17T11:55:17.720Z"
   },
   {
    "duration": 229,
    "start_time": "2023-02-17T11:55:25.100Z"
   },
   {
    "duration": 276,
    "start_time": "2023-02-17T11:55:34.433Z"
   },
   {
    "duration": 232,
    "start_time": "2023-02-17T11:55:42.947Z"
   },
   {
    "duration": 227,
    "start_time": "2023-02-17T11:55:57.431Z"
   },
   {
    "duration": 327,
    "start_time": "2023-02-17T11:56:04.470Z"
   },
   {
    "duration": 184,
    "start_time": "2023-02-17T11:56:09.930Z"
   },
   {
    "duration": 192,
    "start_time": "2023-02-17T11:56:19.835Z"
   },
   {
    "duration": 204,
    "start_time": "2023-02-17T11:56:37.813Z"
   },
   {
    "duration": 166,
    "start_time": "2023-02-17T11:57:04.721Z"
   },
   {
    "duration": 265,
    "start_time": "2023-02-17T11:57:21.948Z"
   },
   {
    "duration": 149,
    "start_time": "2023-02-17T11:57:26.872Z"
   },
   {
    "duration": 160,
    "start_time": "2023-02-17T11:57:52.947Z"
   },
   {
    "duration": 173,
    "start_time": "2023-02-17T11:58:06.658Z"
   },
   {
    "duration": 217,
    "start_time": "2023-02-17T11:58:15.594Z"
   },
   {
    "duration": 1394,
    "start_time": "2023-02-17T12:31:53.184Z"
   },
   {
    "duration": 40,
    "start_time": "2023-02-17T12:31:54.580Z"
   },
   {
    "duration": 18,
    "start_time": "2023-02-17T12:31:54.624Z"
   },
   {
    "duration": 14,
    "start_time": "2023-02-17T12:31:54.643Z"
   },
   {
    "duration": 5,
    "start_time": "2023-02-17T12:31:54.658Z"
   },
   {
    "duration": 203,
    "start_time": "2023-02-17T12:31:54.664Z"
   },
   {
    "duration": 11,
    "start_time": "2023-02-17T12:31:54.869Z"
   },
   {
    "duration": 3,
    "start_time": "2023-02-17T12:31:54.882Z"
   },
   {
    "duration": 198,
    "start_time": "2023-02-17T12:31:54.887Z"
   },
   {
    "duration": 9,
    "start_time": "2023-02-17T12:31:55.086Z"
   },
   {
    "duration": 293,
    "start_time": "2023-02-17T12:31:55.096Z"
   },
   {
    "duration": 0,
    "start_time": "2023-02-17T12:31:55.391Z"
   },
   {
    "duration": 0,
    "start_time": "2023-02-17T12:31:55.393Z"
   },
   {
    "duration": 0,
    "start_time": "2023-02-17T12:31:55.394Z"
   },
   {
    "duration": 0,
    "start_time": "2023-02-17T12:31:55.395Z"
   },
   {
    "duration": 0,
    "start_time": "2023-02-17T12:31:55.397Z"
   },
   {
    "duration": 0,
    "start_time": "2023-02-17T12:31:55.398Z"
   },
   {
    "duration": 0,
    "start_time": "2023-02-17T12:31:55.400Z"
   },
   {
    "duration": 0,
    "start_time": "2023-02-17T12:31:55.401Z"
   },
   {
    "duration": 0,
    "start_time": "2023-02-17T12:31:55.403Z"
   },
   {
    "duration": 0,
    "start_time": "2023-02-17T12:31:55.404Z"
   },
   {
    "duration": 0,
    "start_time": "2023-02-17T12:31:55.405Z"
   },
   {
    "duration": 0,
    "start_time": "2023-02-17T12:31:55.407Z"
   },
   {
    "duration": 1,
    "start_time": "2023-02-17T12:31:55.408Z"
   },
   {
    "duration": 0,
    "start_time": "2023-02-17T12:31:55.410Z"
   },
   {
    "duration": 0,
    "start_time": "2023-02-17T12:31:55.411Z"
   },
   {
    "duration": 0,
    "start_time": "2023-02-17T12:31:55.412Z"
   },
   {
    "duration": 0,
    "start_time": "2023-02-17T12:31:55.448Z"
   },
   {
    "duration": 0,
    "start_time": "2023-02-17T12:31:55.450Z"
   },
   {
    "duration": 0,
    "start_time": "2023-02-17T12:31:55.451Z"
   },
   {
    "duration": 267,
    "start_time": "2023-02-17T12:35:35.712Z"
   },
   {
    "duration": 185,
    "start_time": "2023-02-17T12:36:00.021Z"
   },
   {
    "duration": 184,
    "start_time": "2023-02-17T12:36:07.893Z"
   },
   {
    "duration": 190,
    "start_time": "2023-02-17T12:36:15.259Z"
   },
   {
    "duration": 195,
    "start_time": "2023-02-17T12:36:24.596Z"
   },
   {
    "duration": 198,
    "start_time": "2023-02-17T12:36:27.855Z"
   },
   {
    "duration": 192,
    "start_time": "2023-02-17T12:36:30.221Z"
   },
   {
    "duration": 190,
    "start_time": "2023-02-17T12:36:37.710Z"
   },
   {
    "duration": 189,
    "start_time": "2023-02-17T12:36:42.226Z"
   },
   {
    "duration": 83,
    "start_time": "2023-02-17T12:37:23.193Z"
   },
   {
    "duration": 194,
    "start_time": "2023-02-17T12:37:27.538Z"
   },
   {
    "duration": 186,
    "start_time": "2023-02-17T12:38:12.591Z"
   },
   {
    "duration": 309,
    "start_time": "2023-02-17T12:38:17.588Z"
   },
   {
    "duration": 245,
    "start_time": "2023-02-17T12:38:25.230Z"
   },
   {
    "duration": 242,
    "start_time": "2023-02-17T12:38:35.102Z"
   },
   {
    "duration": 220,
    "start_time": "2023-02-17T12:38:53.023Z"
   },
   {
    "duration": 221,
    "start_time": "2023-02-17T12:39:01.034Z"
   },
   {
    "duration": 211,
    "start_time": "2023-02-17T12:40:08.521Z"
   },
   {
    "duration": 357,
    "start_time": "2023-02-17T12:40:16.113Z"
   },
   {
    "duration": 196,
    "start_time": "2023-02-17T12:40:26.697Z"
   },
   {
    "duration": 359,
    "start_time": "2023-02-17T12:40:45.072Z"
   },
   {
    "duration": 299,
    "start_time": "2023-02-17T12:41:08.122Z"
   },
   {
    "duration": 203,
    "start_time": "2023-02-17T12:41:29.754Z"
   },
   {
    "duration": 236,
    "start_time": "2023-02-17T12:42:22.169Z"
   },
   {
    "duration": 203,
    "start_time": "2023-02-17T12:44:46.105Z"
   },
   {
    "duration": 238,
    "start_time": "2023-02-17T12:45:04.629Z"
   },
   {
    "duration": 213,
    "start_time": "2023-02-17T12:45:29.128Z"
   },
   {
    "duration": 227,
    "start_time": "2023-02-17T12:45:57.798Z"
   },
   {
    "duration": 218,
    "start_time": "2023-02-17T12:46:28.860Z"
   },
   {
    "duration": 225,
    "start_time": "2023-02-17T12:46:32.058Z"
   },
   {
    "duration": 232,
    "start_time": "2023-02-17T12:46:58.823Z"
   },
   {
    "duration": 214,
    "start_time": "2023-02-17T12:47:21.766Z"
   },
   {
    "duration": 345,
    "start_time": "2023-02-17T12:48:04.874Z"
   },
   {
    "duration": 202,
    "start_time": "2023-02-17T12:48:11.538Z"
   },
   {
    "duration": 217,
    "start_time": "2023-02-17T12:48:54.890Z"
   },
   {
    "duration": 5,
    "start_time": "2023-02-17T12:50:46.219Z"
   },
   {
    "duration": 179,
    "start_time": "2023-02-17T12:50:47.063Z"
   },
   {
    "duration": 9,
    "start_time": "2023-02-17T12:51:41.800Z"
   },
   {
    "duration": 136,
    "start_time": "2023-02-17T12:52:53.050Z"
   },
   {
    "duration": 4,
    "start_time": "2023-02-17T12:53:34.116Z"
   },
   {
    "duration": 186,
    "start_time": "2023-02-17T12:53:37.806Z"
   },
   {
    "duration": 11,
    "start_time": "2023-02-17T12:55:12.376Z"
   },
   {
    "duration": 4,
    "start_time": "2023-02-17T12:55:15.517Z"
   },
   {
    "duration": 4,
    "start_time": "2023-02-17T12:55:16.152Z"
   },
   {
    "duration": 16,
    "start_time": "2023-02-17T12:55:17.021Z"
   },
   {
    "duration": 3,
    "start_time": "2023-02-17T12:55:32.190Z"
   },
   {
    "duration": 4,
    "start_time": "2023-02-17T12:55:32.837Z"
   },
   {
    "duration": 202,
    "start_time": "2023-02-17T12:55:34.040Z"
   },
   {
    "duration": 1379,
    "start_time": "2023-02-17T12:55:45.510Z"
   },
   {
    "duration": 39,
    "start_time": "2023-02-17T12:55:46.891Z"
   },
   {
    "duration": 17,
    "start_time": "2023-02-17T12:55:46.932Z"
   },
   {
    "duration": 18,
    "start_time": "2023-02-17T12:55:46.951Z"
   },
   {
    "duration": 6,
    "start_time": "2023-02-17T12:55:46.970Z"
   },
   {
    "duration": 196,
    "start_time": "2023-02-17T12:55:46.977Z"
   },
   {
    "duration": 9,
    "start_time": "2023-02-17T12:55:47.174Z"
   },
   {
    "duration": 7,
    "start_time": "2023-02-17T12:55:47.184Z"
   },
   {
    "duration": 29,
    "start_time": "2023-02-17T12:55:47.192Z"
   },
   {
    "duration": 177,
    "start_time": "2023-02-17T12:55:47.224Z"
   },
   {
    "duration": 8,
    "start_time": "2023-02-17T12:55:47.403Z"
   },
   {
    "duration": 220,
    "start_time": "2023-02-17T12:55:47.413Z"
   },
   {
    "duration": 14,
    "start_time": "2023-02-17T12:55:47.635Z"
   },
   {
    "duration": 200,
    "start_time": "2023-02-17T12:55:47.650Z"
   },
   {
    "duration": 123,
    "start_time": "2023-02-17T12:55:47.852Z"
   },
   {
    "duration": 0,
    "start_time": "2023-02-17T12:55:47.977Z"
   },
   {
    "duration": 0,
    "start_time": "2023-02-17T12:55:47.978Z"
   },
   {
    "duration": 0,
    "start_time": "2023-02-17T12:55:47.979Z"
   },
   {
    "duration": 0,
    "start_time": "2023-02-17T12:55:47.980Z"
   },
   {
    "duration": 0,
    "start_time": "2023-02-17T12:55:47.981Z"
   },
   {
    "duration": 0,
    "start_time": "2023-02-17T12:55:47.982Z"
   },
   {
    "duration": 0,
    "start_time": "2023-02-17T12:55:47.984Z"
   },
   {
    "duration": 0,
    "start_time": "2023-02-17T12:55:47.985Z"
   },
   {
    "duration": 0,
    "start_time": "2023-02-17T12:55:47.986Z"
   },
   {
    "duration": 0,
    "start_time": "2023-02-17T12:55:47.987Z"
   },
   {
    "duration": 0,
    "start_time": "2023-02-17T12:55:47.988Z"
   },
   {
    "duration": 0,
    "start_time": "2023-02-17T12:55:47.989Z"
   },
   {
    "duration": 0,
    "start_time": "2023-02-17T12:55:47.990Z"
   },
   {
    "duration": 0,
    "start_time": "2023-02-17T12:55:47.991Z"
   },
   {
    "duration": 0,
    "start_time": "2023-02-17T12:55:47.993Z"
   },
   {
    "duration": 199,
    "start_time": "2023-02-17T12:57:08.366Z"
   },
   {
    "duration": 21,
    "start_time": "2023-02-17T13:03:03.901Z"
   },
   {
    "duration": 16,
    "start_time": "2023-02-17T13:03:12.675Z"
   },
   {
    "duration": 15,
    "start_time": "2023-02-17T13:03:51.398Z"
   },
   {
    "duration": 26,
    "start_time": "2023-02-17T13:03:58.735Z"
   },
   {
    "duration": 18,
    "start_time": "2023-02-17T13:04:50.567Z"
   },
   {
    "duration": 18,
    "start_time": "2023-02-17T13:04:55.180Z"
   },
   {
    "duration": 16,
    "start_time": "2023-02-17T13:04:59.734Z"
   },
   {
    "duration": 18,
    "start_time": "2023-02-17T13:05:05.795Z"
   },
   {
    "duration": 13,
    "start_time": "2023-02-17T13:05:15.271Z"
   },
   {
    "duration": 12,
    "start_time": "2023-02-17T13:05:36.862Z"
   },
   {
    "duration": 135,
    "start_time": "2023-02-17T13:06:24.192Z"
   },
   {
    "duration": 142,
    "start_time": "2023-02-17T13:06:29.374Z"
   },
   {
    "duration": 150,
    "start_time": "2023-02-17T13:06:34.400Z"
   },
   {
    "duration": 14,
    "start_time": "2023-02-17T13:06:44.160Z"
   },
   {
    "duration": 13,
    "start_time": "2023-02-17T13:06:56.902Z"
   },
   {
    "duration": 17,
    "start_time": "2023-02-17T13:07:32.918Z"
   },
   {
    "duration": 137,
    "start_time": "2023-02-17T13:07:55.600Z"
   },
   {
    "duration": 128,
    "start_time": "2023-02-17T13:08:02.961Z"
   },
   {
    "duration": 15,
    "start_time": "2023-02-17T13:08:10.692Z"
   },
   {
    "duration": 16,
    "start_time": "2023-02-17T13:09:03.231Z"
   },
   {
    "duration": 150,
    "start_time": "2023-02-17T13:09:35.389Z"
   },
   {
    "duration": 125,
    "start_time": "2023-02-17T13:21:14.238Z"
   },
   {
    "duration": 11,
    "start_time": "2023-02-17T13:22:12.478Z"
   },
   {
    "duration": 22,
    "start_time": "2023-02-17T13:22:19.273Z"
   },
   {
    "duration": 202,
    "start_time": "2023-02-17T13:22:25.211Z"
   },
   {
    "duration": 148,
    "start_time": "2023-02-17T13:30:49.964Z"
   },
   {
    "duration": 259,
    "start_time": "2023-02-17T13:30:57.738Z"
   },
   {
    "duration": 150,
    "start_time": "2023-02-17T13:32:09.569Z"
   },
   {
    "duration": 118,
    "start_time": "2023-02-17T13:32:26.376Z"
   },
   {
    "duration": 19,
    "start_time": "2023-02-17T13:36:50.309Z"
   },
   {
    "duration": 21,
    "start_time": "2023-02-17T13:37:37.862Z"
   },
   {
    "duration": 14,
    "start_time": "2023-02-17T13:37:47.530Z"
   },
   {
    "duration": 1222,
    "start_time": "2023-02-17T13:37:59.559Z"
   },
   {
    "duration": 14,
    "start_time": "2023-02-17T13:38:10.331Z"
   },
   {
    "duration": 17,
    "start_time": "2023-02-17T13:39:04.520Z"
   },
   {
    "duration": 18,
    "start_time": "2023-02-17T13:40:08.208Z"
   },
   {
    "duration": 17,
    "start_time": "2023-02-17T13:40:16.998Z"
   },
   {
    "duration": 24,
    "start_time": "2023-02-17T13:40:28.783Z"
   },
   {
    "duration": 15,
    "start_time": "2023-02-17T13:40:48.655Z"
   },
   {
    "duration": 101,
    "start_time": "2023-02-17T13:41:34.933Z"
   },
   {
    "duration": 87,
    "start_time": "2023-02-17T13:41:53.505Z"
   },
   {
    "duration": 71,
    "start_time": "2023-02-17T13:42:51.391Z"
   },
   {
    "duration": 20,
    "start_time": "2023-02-17T13:42:55.271Z"
   },
   {
    "duration": 19,
    "start_time": "2023-02-17T13:43:00.608Z"
   },
   {
    "duration": 21,
    "start_time": "2023-02-17T13:43:55.237Z"
   },
   {
    "duration": 321,
    "start_time": "2023-02-17T13:44:14.760Z"
   },
   {
    "duration": 298,
    "start_time": "2023-02-17T13:44:22.362Z"
   },
   {
    "duration": 344,
    "start_time": "2023-02-17T13:44:35.352Z"
   },
   {
    "duration": 27,
    "start_time": "2023-02-17T13:44:43.418Z"
   },
   {
    "duration": 294,
    "start_time": "2023-02-17T13:44:47.070Z"
   },
   {
    "duration": 304,
    "start_time": "2023-02-17T13:45:02.993Z"
   },
   {
    "duration": 297,
    "start_time": "2023-02-17T13:45:08.470Z"
   },
   {
    "duration": 22,
    "start_time": "2023-02-17T13:59:28.979Z"
   },
   {
    "duration": 27,
    "start_time": "2023-02-17T14:05:14.781Z"
   },
   {
    "duration": 31,
    "start_time": "2023-02-17T14:05:21.894Z"
   },
   {
    "duration": 213,
    "start_time": "2023-02-17T14:05:43.446Z"
   },
   {
    "duration": 21,
    "start_time": "2023-02-17T14:08:44.309Z"
   },
   {
    "duration": 30,
    "start_time": "2023-02-17T15:30:28.984Z"
   },
   {
    "duration": 858,
    "start_time": "2023-02-17T15:30:46.128Z"
   },
   {
    "duration": 795,
    "start_time": "2023-02-17T15:31:11.881Z"
   },
   {
    "duration": 810,
    "start_time": "2023-02-17T15:31:16.156Z"
   },
   {
    "duration": 199,
    "start_time": "2023-02-17T15:34:13.467Z"
   },
   {
    "duration": 5,
    "start_time": "2023-02-17T15:36:20.260Z"
   },
   {
    "duration": 211,
    "start_time": "2023-02-17T15:38:39.523Z"
   },
   {
    "duration": 5,
    "start_time": "2023-02-17T15:38:59.397Z"
   },
   {
    "duration": 208,
    "start_time": "2023-02-17T15:39:00.921Z"
   },
   {
    "duration": 355,
    "start_time": "2023-02-17T15:39:20.493Z"
   },
   {
    "duration": 213,
    "start_time": "2023-02-17T15:40:24.827Z"
   },
   {
    "duration": 217,
    "start_time": "2023-02-17T15:40:30.949Z"
   },
   {
    "duration": 5,
    "start_time": "2023-02-17T15:44:14.767Z"
   },
   {
    "duration": 1187,
    "start_time": "2023-02-17T15:44:16.974Z"
   },
   {
    "duration": 6,
    "start_time": "2023-02-17T15:50:46.554Z"
   },
   {
    "duration": 1362,
    "start_time": "2023-02-17T15:50:48.809Z"
   },
   {
    "duration": 189,
    "start_time": "2023-02-17T15:55:02.412Z"
   },
   {
    "duration": 5,
    "start_time": "2023-02-17T15:55:17.108Z"
   },
   {
    "duration": 203,
    "start_time": "2023-02-17T15:55:19.126Z"
   },
   {
    "duration": 5,
    "start_time": "2023-02-17T15:55:38.905Z"
   },
   {
    "duration": 1057,
    "start_time": "2023-02-17T15:55:40.774Z"
   },
   {
    "duration": 28,
    "start_time": "2023-02-17T16:12:42.166Z"
   },
   {
    "duration": 21,
    "start_time": "2023-02-17T16:13:40.228Z"
   },
   {
    "duration": 31,
    "start_time": "2023-02-17T16:14:00.447Z"
   },
   {
    "duration": 18,
    "start_time": "2023-02-17T16:15:04.533Z"
   },
   {
    "duration": 17,
    "start_time": "2023-02-17T16:17:54.957Z"
   },
   {
    "duration": 19,
    "start_time": "2023-02-17T16:17:59.897Z"
   },
   {
    "duration": 17,
    "start_time": "2023-02-17T16:18:06.299Z"
   },
   {
    "duration": 1545,
    "start_time": "2023-02-17T16:18:24.920Z"
   },
   {
    "duration": 40,
    "start_time": "2023-02-17T16:18:26.467Z"
   },
   {
    "duration": 19,
    "start_time": "2023-02-17T16:18:26.509Z"
   },
   {
    "duration": 14,
    "start_time": "2023-02-17T16:18:26.530Z"
   },
   {
    "duration": 6,
    "start_time": "2023-02-17T16:18:26.545Z"
   },
   {
    "duration": 188,
    "start_time": "2023-02-17T16:18:26.553Z"
   },
   {
    "duration": 13,
    "start_time": "2023-02-17T16:18:26.743Z"
   },
   {
    "duration": 3,
    "start_time": "2023-02-17T16:18:26.757Z"
   },
   {
    "duration": 7,
    "start_time": "2023-02-17T16:18:26.762Z"
   },
   {
    "duration": 198,
    "start_time": "2023-02-17T16:18:26.771Z"
   },
   {
    "duration": 5,
    "start_time": "2023-02-17T16:18:26.970Z"
   },
   {
    "duration": 1344,
    "start_time": "2023-02-17T16:18:26.977Z"
   },
   {
    "duration": 18,
    "start_time": "2023-02-17T16:18:28.322Z"
   },
   {
    "duration": 3,
    "start_time": "2023-02-17T16:18:28.349Z"
   },
   {
    "duration": 9,
    "start_time": "2023-02-17T16:18:28.353Z"
   },
   {
    "duration": 17,
    "start_time": "2023-02-17T16:18:28.363Z"
   },
   {
    "duration": 19,
    "start_time": "2023-02-17T16:18:28.382Z"
   },
   {
    "duration": 16,
    "start_time": "2023-02-17T16:18:28.403Z"
   },
   {
    "duration": 5,
    "start_time": "2023-02-17T16:18:28.421Z"
   },
   {
    "duration": 8,
    "start_time": "2023-02-17T16:18:28.428Z"
   },
   {
    "duration": 6,
    "start_time": "2023-02-17T16:18:28.437Z"
   },
   {
    "duration": 5,
    "start_time": "2023-02-17T16:18:28.445Z"
   },
   {
    "duration": 9,
    "start_time": "2023-02-17T16:18:28.452Z"
   },
   {
    "duration": 4,
    "start_time": "2023-02-17T16:18:28.463Z"
   },
   {
    "duration": 6,
    "start_time": "2023-02-17T16:18:28.469Z"
   },
   {
    "duration": 6,
    "start_time": "2023-02-17T16:18:28.478Z"
   },
   {
    "duration": 7,
    "start_time": "2023-02-17T16:18:28.486Z"
   },
   {
    "duration": 12,
    "start_time": "2023-02-17T16:18:41.202Z"
   },
   {
    "duration": 5,
    "start_time": "2023-02-17T16:20:29.972Z"
   },
   {
    "duration": 6,
    "start_time": "2023-02-17T16:20:44.078Z"
   },
   {
    "duration": 6,
    "start_time": "2023-02-17T16:21:45.790Z"
   },
   {
    "duration": 87,
    "start_time": "2023-02-17T16:23:51.935Z"
   },
   {
    "duration": 93,
    "start_time": "2023-02-17T16:24:08.845Z"
   },
   {
    "duration": 8,
    "start_time": "2023-02-17T16:24:16.942Z"
   },
   {
    "duration": 7,
    "start_time": "2023-02-17T16:55:14.274Z"
   },
   {
    "duration": 16,
    "start_time": "2023-02-17T16:55:25.970Z"
   },
   {
    "duration": 4,
    "start_time": "2023-02-17T16:58:20.403Z"
   },
   {
    "duration": 11,
    "start_time": "2023-02-17T16:58:28.607Z"
   },
   {
    "duration": 5,
    "start_time": "2023-02-17T17:00:43.825Z"
   },
   {
    "duration": 3,
    "start_time": "2023-02-17T17:00:46.173Z"
   },
   {
    "duration": 4,
    "start_time": "2023-02-17T17:00:47.486Z"
   },
   {
    "duration": 13,
    "start_time": "2023-02-17T17:01:46.729Z"
   },
   {
    "duration": 45,
    "start_time": "2023-02-17T20:57:01.488Z"
   },
   {
    "duration": 1685,
    "start_time": "2023-02-17T20:57:15.072Z"
   },
   {
    "duration": 235,
    "start_time": "2023-02-17T20:57:16.760Z"
   },
   {
    "duration": 19,
    "start_time": "2023-02-17T20:57:16.997Z"
   },
   {
    "duration": 14,
    "start_time": "2023-02-17T20:57:17.018Z"
   },
   {
    "duration": 4,
    "start_time": "2023-02-17T20:57:17.034Z"
   },
   {
    "duration": 186,
    "start_time": "2023-02-17T20:57:17.040Z"
   },
   {
    "duration": 9,
    "start_time": "2023-02-17T20:57:17.227Z"
   },
   {
    "duration": 18,
    "start_time": "2023-02-17T20:57:17.237Z"
   },
   {
    "duration": 13,
    "start_time": "2023-02-17T20:57:17.257Z"
   },
   {
    "duration": 172,
    "start_time": "2023-02-17T20:57:17.272Z"
   },
   {
    "duration": 7,
    "start_time": "2023-02-17T20:57:17.446Z"
   },
   {
    "duration": 1321,
    "start_time": "2023-02-17T20:57:17.454Z"
   },
   {
    "duration": 16,
    "start_time": "2023-02-17T20:57:18.777Z"
   },
   {
    "duration": 12,
    "start_time": "2023-02-17T20:57:18.795Z"
   },
   {
    "duration": 7,
    "start_time": "2023-02-17T20:57:18.808Z"
   },
   {
    "duration": 5,
    "start_time": "2023-02-17T20:57:18.817Z"
   },
   {
    "duration": 25,
    "start_time": "2023-02-17T20:57:18.824Z"
   },
   {
    "duration": 18,
    "start_time": "2023-02-17T20:57:18.851Z"
   },
   {
    "duration": 12,
    "start_time": "2023-02-17T20:57:18.871Z"
   },
   {
    "duration": 9,
    "start_time": "2023-02-17T20:57:18.884Z"
   },
   {
    "duration": 4,
    "start_time": "2023-02-17T20:57:18.894Z"
   },
   {
    "duration": 6,
    "start_time": "2023-02-17T20:57:18.900Z"
   },
   {
    "duration": 13,
    "start_time": "2023-02-17T20:57:18.908Z"
   },
   {
    "duration": 1881,
    "start_time": "2023-02-17T20:57:18.922Z"
   },
   {
    "duration": 3,
    "start_time": "2023-02-17T20:57:20.804Z"
   },
   {
    "duration": 6,
    "start_time": "2023-02-17T21:10:52.140Z"
   },
   {
    "duration": 126,
    "start_time": "2023-02-17T21:14:01.273Z"
   },
   {
    "duration": 9,
    "start_time": "2023-02-17T21:14:13.431Z"
   },
   {
    "duration": 4,
    "start_time": "2023-02-17T21:14:25.132Z"
   },
   {
    "duration": 4,
    "start_time": "2023-02-17T21:14:34.191Z"
   },
   {
    "duration": 9,
    "start_time": "2023-02-17T21:15:32.175Z"
   },
   {
    "duration": 5,
    "start_time": "2023-02-17T21:15:57.011Z"
   },
   {
    "duration": 5,
    "start_time": "2023-02-17T21:16:09.225Z"
   },
   {
    "duration": 6,
    "start_time": "2023-02-17T21:16:22.330Z"
   },
   {
    "duration": 7,
    "start_time": "2023-02-18T17:05:55.588Z"
   },
   {
    "duration": 9,
    "start_time": "2023-02-18T17:06:01.708Z"
   },
   {
    "duration": 44,
    "start_time": "2023-02-18T17:06:36.577Z"
   },
   {
    "duration": 6,
    "start_time": "2023-02-18T17:06:50.935Z"
   },
   {
    "duration": 7,
    "start_time": "2023-02-18T18:06:25.703Z"
   },
   {
    "duration": 3,
    "start_time": "2023-02-18T18:06:44.610Z"
   },
   {
    "duration": 3,
    "start_time": "2023-02-18T18:06:45.774Z"
   },
   {
    "duration": 6,
    "start_time": "2023-02-18T18:06:46.551Z"
   },
   {
    "duration": 1637,
    "start_time": "2023-02-18T18:06:54.160Z"
   },
   {
    "duration": 76,
    "start_time": "2023-02-18T18:06:55.799Z"
   },
   {
    "duration": 19,
    "start_time": "2023-02-18T18:06:55.877Z"
   },
   {
    "duration": 16,
    "start_time": "2023-02-18T18:06:55.899Z"
   },
   {
    "duration": 6,
    "start_time": "2023-02-18T18:06:55.916Z"
   },
   {
    "duration": 195,
    "start_time": "2023-02-18T18:06:55.924Z"
   },
   {
    "duration": 9,
    "start_time": "2023-02-18T18:06:56.121Z"
   },
   {
    "duration": 4,
    "start_time": "2023-02-18T18:06:56.139Z"
   },
   {
    "duration": 8,
    "start_time": "2023-02-18T18:06:56.144Z"
   },
   {
    "duration": 191,
    "start_time": "2023-02-18T18:06:56.155Z"
   },
   {
    "duration": 6,
    "start_time": "2023-02-18T18:06:56.348Z"
   },
   {
    "duration": 1382,
    "start_time": "2023-02-18T18:06:56.356Z"
   },
   {
    "duration": 19,
    "start_time": "2023-02-18T18:06:57.740Z"
   },
   {
    "duration": 22,
    "start_time": "2023-02-18T18:06:57.761Z"
   },
   {
    "duration": 8,
    "start_time": "2023-02-18T18:06:57.785Z"
   },
   {
    "duration": 5,
    "start_time": "2023-02-18T18:06:57.795Z"
   },
   {
    "duration": 7,
    "start_time": "2023-02-18T18:06:57.801Z"
   },
   {
    "duration": 10,
    "start_time": "2023-02-18T18:06:57.810Z"
   },
   {
    "duration": 3,
    "start_time": "2023-02-18T18:06:57.840Z"
   },
   {
    "duration": 8,
    "start_time": "2023-02-18T18:06:57.845Z"
   },
   {
    "duration": 4,
    "start_time": "2023-02-18T18:06:57.855Z"
   },
   {
    "duration": 6,
    "start_time": "2023-02-18T18:06:57.860Z"
   },
   {
    "duration": 14,
    "start_time": "2023-02-18T18:06:57.868Z"
   },
   {
    "duration": 2091,
    "start_time": "2023-02-18T18:06:57.884Z"
   },
   {
    "duration": 5,
    "start_time": "2023-02-18T18:06:59.977Z"
   },
   {
    "duration": 13,
    "start_time": "2023-02-18T18:06:59.984Z"
   },
   {
    "duration": 12,
    "start_time": "2023-02-18T18:06:59.999Z"
   },
   {
    "duration": 17,
    "start_time": "2023-02-18T18:07:00.014Z"
   },
   {
    "duration": 24,
    "start_time": "2023-02-18T18:07:00.032Z"
   },
   {
    "duration": 123,
    "start_time": "2023-02-18T18:07:00.058Z"
   },
   {
    "duration": 0,
    "start_time": "2023-02-18T18:07:00.183Z"
   },
   {
    "duration": 5,
    "start_time": "2023-02-18T18:07:14.337Z"
   },
   {
    "duration": 10,
    "start_time": "2023-02-18T18:07:21.815Z"
   },
   {
    "duration": 4,
    "start_time": "2023-02-18T18:08:11.279Z"
   },
   {
    "duration": 7,
    "start_time": "2023-02-18T18:12:48.656Z"
   },
   {
    "duration": 13,
    "start_time": "2023-02-18T18:13:30.459Z"
   },
   {
    "duration": 8,
    "start_time": "2023-02-18T18:13:36.891Z"
   },
   {
    "duration": 7,
    "start_time": "2023-02-18T18:14:21.039Z"
   },
   {
    "duration": 703,
    "start_time": "2023-02-18T18:35:56.064Z"
   },
   {
    "duration": 1518,
    "start_time": "2023-02-18T18:36:04.635Z"
   },
   {
    "duration": 38,
    "start_time": "2023-02-18T18:36:06.155Z"
   },
   {
    "duration": 21,
    "start_time": "2023-02-18T18:36:06.195Z"
   },
   {
    "duration": 17,
    "start_time": "2023-02-18T18:36:06.218Z"
   },
   {
    "duration": 21,
    "start_time": "2023-02-18T18:36:06.241Z"
   },
   {
    "duration": 198,
    "start_time": "2023-02-18T18:36:06.264Z"
   },
   {
    "duration": 10,
    "start_time": "2023-02-18T18:36:06.464Z"
   },
   {
    "duration": 3,
    "start_time": "2023-02-18T18:36:06.476Z"
   },
   {
    "duration": 12,
    "start_time": "2023-02-18T18:36:06.481Z"
   },
   {
    "duration": 201,
    "start_time": "2023-02-18T18:36:06.495Z"
   },
   {
    "duration": 6,
    "start_time": "2023-02-18T18:36:06.698Z"
   },
   {
    "duration": 1399,
    "start_time": "2023-02-18T18:36:06.706Z"
   },
   {
    "duration": 18,
    "start_time": "2023-02-18T18:36:08.107Z"
   },
   {
    "duration": 14,
    "start_time": "2023-02-18T18:36:08.142Z"
   },
   {
    "duration": 9,
    "start_time": "2023-02-18T18:36:08.159Z"
   },
   {
    "duration": 6,
    "start_time": "2023-02-18T18:36:08.170Z"
   },
   {
    "duration": 5,
    "start_time": "2023-02-18T18:36:08.178Z"
   },
   {
    "duration": 2,
    "start_time": "2023-02-18T18:36:08.185Z"
   },
   {
    "duration": 10,
    "start_time": "2023-02-18T18:36:08.189Z"
   },
   {
    "duration": 39,
    "start_time": "2023-02-18T18:36:08.201Z"
   },
   {
    "duration": 4,
    "start_time": "2023-02-18T18:36:08.242Z"
   },
   {
    "duration": 9,
    "start_time": "2023-02-18T18:36:08.248Z"
   },
   {
    "duration": 7,
    "start_time": "2023-02-18T18:36:08.258Z"
   },
   {
    "duration": 17,
    "start_time": "2023-02-18T18:36:08.266Z"
   },
   {
    "duration": 1943,
    "start_time": "2023-02-18T18:36:08.285Z"
   },
   {
    "duration": 15,
    "start_time": "2023-02-18T18:36:10.230Z"
   },
   {
    "duration": 31,
    "start_time": "2023-02-18T18:36:10.248Z"
   },
   {
    "duration": 18,
    "start_time": "2023-02-18T18:36:10.281Z"
   },
   {
    "duration": 40,
    "start_time": "2023-02-18T18:36:10.301Z"
   },
   {
    "duration": 31,
    "start_time": "2023-02-18T18:36:10.342Z"
   },
   {
    "duration": 18,
    "start_time": "2023-02-18T18:36:10.376Z"
   },
   {
    "duration": 819,
    "start_time": "2023-02-18T18:36:46.900Z"
   },
   {
    "duration": 1425,
    "start_time": "2023-02-18T18:36:53.597Z"
   },
   {
    "duration": 38,
    "start_time": "2023-02-18T18:36:55.024Z"
   },
   {
    "duration": 22,
    "start_time": "2023-02-18T18:36:55.064Z"
   },
   {
    "duration": 18,
    "start_time": "2023-02-18T18:36:55.089Z"
   },
   {
    "duration": 6,
    "start_time": "2023-02-18T18:36:55.109Z"
   },
   {
    "duration": 209,
    "start_time": "2023-02-18T18:36:55.117Z"
   },
   {
    "duration": 15,
    "start_time": "2023-02-18T18:36:55.327Z"
   },
   {
    "duration": 3,
    "start_time": "2023-02-18T18:36:55.344Z"
   },
   {
    "duration": 7,
    "start_time": "2023-02-18T18:36:55.349Z"
   },
   {
    "duration": 207,
    "start_time": "2023-02-18T18:36:55.359Z"
   },
   {
    "duration": 7,
    "start_time": "2023-02-18T18:36:55.568Z"
   },
   {
    "duration": 1366,
    "start_time": "2023-02-18T18:36:55.576Z"
   },
   {
    "duration": 19,
    "start_time": "2023-02-18T18:36:56.944Z"
   },
   {
    "duration": 13,
    "start_time": "2023-02-18T18:36:56.965Z"
   },
   {
    "duration": 14,
    "start_time": "2023-02-18T18:36:56.979Z"
   },
   {
    "duration": 5,
    "start_time": "2023-02-18T18:36:56.994Z"
   },
   {
    "duration": 39,
    "start_time": "2023-02-18T18:36:57.001Z"
   },
   {
    "duration": 4,
    "start_time": "2023-02-18T18:36:57.042Z"
   },
   {
    "duration": 5,
    "start_time": "2023-02-18T18:36:57.048Z"
   },
   {
    "duration": 6,
    "start_time": "2023-02-18T18:36:57.055Z"
   },
   {
    "duration": 26,
    "start_time": "2023-02-18T18:36:57.063Z"
   },
   {
    "duration": 7,
    "start_time": "2023-02-18T18:36:57.092Z"
   },
   {
    "duration": 10,
    "start_time": "2023-02-18T18:36:57.101Z"
   },
   {
    "duration": 16,
    "start_time": "2023-02-18T18:36:57.113Z"
   },
   {
    "duration": 2002,
    "start_time": "2023-02-18T18:36:57.132Z"
   },
   {
    "duration": 7,
    "start_time": "2023-02-18T18:36:59.141Z"
   },
   {
    "duration": 8,
    "start_time": "2023-02-18T18:36:59.150Z"
   },
   {
    "duration": 8,
    "start_time": "2023-02-18T18:36:59.162Z"
   },
   {
    "duration": 9,
    "start_time": "2023-02-18T18:36:59.172Z"
   },
   {
    "duration": 25,
    "start_time": "2023-02-18T18:36:59.183Z"
   },
   {
    "duration": 7,
    "start_time": "2023-02-18T18:36:59.210Z"
   },
   {
    "duration": 1652,
    "start_time": "2023-02-19T11:51:48.910Z"
   },
   {
    "duration": 90,
    "start_time": "2023-02-19T11:51:50.564Z"
   },
   {
    "duration": 19,
    "start_time": "2023-02-19T11:51:50.656Z"
   },
   {
    "duration": 15,
    "start_time": "2023-02-19T11:51:50.678Z"
   },
   {
    "duration": 6,
    "start_time": "2023-02-19T11:51:50.694Z"
   },
   {
    "duration": 195,
    "start_time": "2023-02-19T11:51:50.701Z"
   },
   {
    "duration": 10,
    "start_time": "2023-02-19T11:51:50.898Z"
   },
   {
    "duration": 3,
    "start_time": "2023-02-19T11:51:50.910Z"
   },
   {
    "duration": 31,
    "start_time": "2023-02-19T11:51:50.915Z"
   },
   {
    "duration": 192,
    "start_time": "2023-02-19T11:51:50.952Z"
   },
   {
    "duration": 6,
    "start_time": "2023-02-19T11:51:51.150Z"
   },
   {
    "duration": 1309,
    "start_time": "2023-02-19T11:51:51.158Z"
   },
   {
    "duration": 20,
    "start_time": "2023-02-19T11:51:52.471Z"
   },
   {
    "duration": 13,
    "start_time": "2023-02-19T11:51:52.493Z"
   },
   {
    "duration": 12,
    "start_time": "2023-02-19T11:51:52.509Z"
   },
   {
    "duration": 17,
    "start_time": "2023-02-19T11:51:52.540Z"
   },
   {
    "duration": 26,
    "start_time": "2023-02-19T11:51:52.559Z"
   },
   {
    "duration": 35,
    "start_time": "2023-02-19T11:51:52.587Z"
   },
   {
    "duration": 9,
    "start_time": "2023-02-19T11:51:52.624Z"
   },
   {
    "duration": 29,
    "start_time": "2023-02-19T11:51:52.635Z"
   },
   {
    "duration": 11,
    "start_time": "2023-02-19T11:51:52.668Z"
   },
   {
    "duration": 11,
    "start_time": "2023-02-19T11:51:52.681Z"
   },
   {
    "duration": 19,
    "start_time": "2023-02-19T11:51:52.693Z"
   },
   {
    "duration": 1801,
    "start_time": "2023-02-19T11:51:52.714Z"
   },
   {
    "duration": 6,
    "start_time": "2023-02-19T11:51:54.517Z"
   },
   {
    "duration": 34,
    "start_time": "2023-02-19T11:51:54.525Z"
   },
   {
    "duration": 8,
    "start_time": "2023-02-19T11:51:54.561Z"
   },
   {
    "duration": 825,
    "start_time": "2023-02-19T11:58:33.260Z"
   },
   {
    "duration": 762,
    "start_time": "2023-02-19T11:58:45.004Z"
   },
   {
    "duration": 3,
    "start_time": "2023-02-19T11:58:58.175Z"
   },
   {
    "duration": 6,
    "start_time": "2023-02-19T11:58:59.996Z"
   },
   {
    "duration": 6,
    "start_time": "2023-02-19T11:59:09.009Z"
   },
   {
    "duration": 10,
    "start_time": "2023-02-19T11:59:10.545Z"
   },
   {
    "duration": 1328,
    "start_time": "2023-02-19T11:59:28.153Z"
   },
   {
    "duration": 35,
    "start_time": "2023-02-19T11:59:29.482Z"
   },
   {
    "duration": 25,
    "start_time": "2023-02-19T11:59:29.519Z"
   },
   {
    "duration": 17,
    "start_time": "2023-02-19T11:59:29.546Z"
   },
   {
    "duration": 4,
    "start_time": "2023-02-19T11:59:29.565Z"
   },
   {
    "duration": 179,
    "start_time": "2023-02-19T11:59:29.571Z"
   },
   {
    "duration": 10,
    "start_time": "2023-02-19T11:59:29.755Z"
   },
   {
    "duration": 3,
    "start_time": "2023-02-19T11:59:29.767Z"
   },
   {
    "duration": 12,
    "start_time": "2023-02-19T11:59:29.771Z"
   },
   {
    "duration": 166,
    "start_time": "2023-02-19T11:59:29.785Z"
   },
   {
    "duration": 6,
    "start_time": "2023-02-19T11:59:29.953Z"
   },
   {
    "duration": 1321,
    "start_time": "2023-02-19T11:59:29.961Z"
   },
   {
    "duration": 17,
    "start_time": "2023-02-19T11:59:31.284Z"
   },
   {
    "duration": 14,
    "start_time": "2023-02-19T11:59:31.304Z"
   },
   {
    "duration": 27,
    "start_time": "2023-02-19T11:59:31.321Z"
   },
   {
    "duration": 30,
    "start_time": "2023-02-19T11:59:31.350Z"
   },
   {
    "duration": 13,
    "start_time": "2023-02-19T11:59:31.382Z"
   },
   {
    "duration": 54,
    "start_time": "2023-02-19T11:59:31.397Z"
   },
   {
    "duration": 34,
    "start_time": "2023-02-19T11:59:31.452Z"
   },
   {
    "duration": 11,
    "start_time": "2023-02-19T11:59:31.487Z"
   },
   {
    "duration": 8,
    "start_time": "2023-02-19T11:59:31.500Z"
   },
   {
    "duration": 17,
    "start_time": "2023-02-19T11:59:31.510Z"
   },
   {
    "duration": 34,
    "start_time": "2023-02-19T11:59:31.528Z"
   },
   {
    "duration": 1819,
    "start_time": "2023-02-19T11:59:31.564Z"
   },
   {
    "duration": 6,
    "start_time": "2023-02-19T11:59:33.385Z"
   },
   {
    "duration": 11,
    "start_time": "2023-02-19T11:59:33.392Z"
   },
   {
    "duration": 8,
    "start_time": "2023-02-19T11:59:33.404Z"
   },
   {
    "duration": 115,
    "start_time": "2023-02-19T11:59:33.413Z"
   },
   {
    "duration": 0,
    "start_time": "2023-02-19T11:59:33.530Z"
   },
   {
    "duration": 10,
    "start_time": "2023-02-19T11:59:50.164Z"
   },
   {
    "duration": 3,
    "start_time": "2023-02-19T12:00:10.802Z"
   },
   {
    "duration": 6,
    "start_time": "2023-02-19T12:00:12.716Z"
   },
   {
    "duration": 5,
    "start_time": "2023-02-19T12:01:10.719Z"
   },
   {
    "duration": 10,
    "start_time": "2023-02-19T12:01:13.261Z"
   },
   {
    "duration": 5,
    "start_time": "2023-02-19T12:01:58.306Z"
   },
   {
    "duration": 4,
    "start_time": "2023-02-19T12:02:03.202Z"
   },
   {
    "duration": 6,
    "start_time": "2023-02-19T12:02:04.006Z"
   },
   {
    "duration": 4,
    "start_time": "2023-02-19T12:02:05.475Z"
   },
   {
    "duration": 11,
    "start_time": "2023-02-19T12:02:06.870Z"
   },
   {
    "duration": 3,
    "start_time": "2023-02-19T12:02:12.998Z"
   },
   {
    "duration": 4,
    "start_time": "2023-02-19T12:02:19.616Z"
   },
   {
    "duration": 7,
    "start_time": "2023-02-19T12:02:24.220Z"
   },
   {
    "duration": 4,
    "start_time": "2023-02-19T12:23:02.937Z"
   },
   {
    "duration": 48,
    "start_time": "2023-02-19T12:23:04.160Z"
   },
   {
    "duration": 71,
    "start_time": "2023-02-19T12:23:09.604Z"
   },
   {
    "duration": 46,
    "start_time": "2023-02-19T12:23:41.892Z"
   },
   {
    "duration": 6,
    "start_time": "2023-02-19T12:24:04.560Z"
   },
   {
    "duration": 9,
    "start_time": "2023-02-19T12:24:19.408Z"
   },
   {
    "duration": 11,
    "start_time": "2023-02-19T12:24:34.020Z"
   },
   {
    "duration": 13,
    "start_time": "2023-02-19T12:24:53.043Z"
   },
   {
    "duration": 5,
    "start_time": "2023-02-19T12:25:52.881Z"
   },
   {
    "duration": 11,
    "start_time": "2023-02-19T12:26:00.368Z"
   },
   {
    "duration": 11,
    "start_time": "2023-02-19T12:26:03.558Z"
   },
   {
    "duration": 11,
    "start_time": "2023-02-19T12:26:23.948Z"
   },
   {
    "duration": 8,
    "start_time": "2023-02-19T12:35:33.068Z"
   },
   {
    "duration": 5,
    "start_time": "2023-02-19T12:36:15.050Z"
   },
   {
    "duration": 6,
    "start_time": "2023-02-19T12:36:16.577Z"
   },
   {
    "duration": 5,
    "start_time": "2023-02-19T12:36:46.760Z"
   },
   {
    "duration": 6,
    "start_time": "2023-02-19T12:36:49.159Z"
   },
   {
    "duration": 10,
    "start_time": "2023-02-19T12:37:41.010Z"
   },
   {
    "duration": 10,
    "start_time": "2023-02-19T12:39:26.015Z"
   },
   {
    "duration": 44,
    "start_time": "2023-02-19T12:39:36.573Z"
   },
   {
    "duration": 11,
    "start_time": "2023-02-19T12:39:50.661Z"
   },
   {
    "duration": 12,
    "start_time": "2023-02-19T12:40:02.164Z"
   },
   {
    "duration": 5,
    "start_time": "2023-02-19T12:40:10.190Z"
   },
   {
    "duration": 7,
    "start_time": "2023-02-19T12:40:12.081Z"
   },
   {
    "duration": 21,
    "start_time": "2023-02-19T12:40:17.663Z"
   },
   {
    "duration": 6,
    "start_time": "2023-02-19T12:42:12.422Z"
   },
   {
    "duration": 11,
    "start_time": "2023-02-19T12:42:20.662Z"
   },
   {
    "duration": 9,
    "start_time": "2023-02-19T12:43:39.376Z"
   },
   {
    "duration": 24,
    "start_time": "2023-02-19T12:43:43.156Z"
   },
   {
    "duration": 1373,
    "start_time": "2023-02-19T12:44:44.165Z"
   },
   {
    "duration": 55,
    "start_time": "2023-02-19T12:44:45.542Z"
   },
   {
    "duration": 26,
    "start_time": "2023-02-19T12:44:45.599Z"
   },
   {
    "duration": 33,
    "start_time": "2023-02-19T12:44:45.628Z"
   },
   {
    "duration": 23,
    "start_time": "2023-02-19T12:44:45.666Z"
   },
   {
    "duration": 176,
    "start_time": "2023-02-19T12:44:45.691Z"
   },
   {
    "duration": 10,
    "start_time": "2023-02-19T12:44:45.869Z"
   },
   {
    "duration": 4,
    "start_time": "2023-02-19T12:44:45.881Z"
   },
   {
    "duration": 5,
    "start_time": "2023-02-19T12:44:45.887Z"
   },
   {
    "duration": 220,
    "start_time": "2023-02-19T12:44:45.895Z"
   },
   {
    "duration": 6,
    "start_time": "2023-02-19T12:44:46.117Z"
   },
   {
    "duration": 1433,
    "start_time": "2023-02-19T12:44:46.125Z"
   },
   {
    "duration": 20,
    "start_time": "2023-02-19T12:44:47.560Z"
   },
   {
    "duration": 15,
    "start_time": "2023-02-19T12:44:47.582Z"
   },
   {
    "duration": 9,
    "start_time": "2023-02-19T12:44:47.599Z"
   },
   {
    "duration": 31,
    "start_time": "2023-02-19T12:44:47.610Z"
   },
   {
    "duration": 16,
    "start_time": "2023-02-19T12:44:47.644Z"
   },
   {
    "duration": 9,
    "start_time": "2023-02-19T12:44:47.662Z"
   },
   {
    "duration": 8,
    "start_time": "2023-02-19T12:44:47.673Z"
   },
   {
    "duration": 9,
    "start_time": "2023-02-19T12:44:47.682Z"
   },
   {
    "duration": 9,
    "start_time": "2023-02-19T12:44:47.693Z"
   },
   {
    "duration": 6,
    "start_time": "2023-02-19T12:44:47.703Z"
   },
   {
    "duration": 14,
    "start_time": "2023-02-19T12:44:47.711Z"
   },
   {
    "duration": 1902,
    "start_time": "2023-02-19T12:44:47.727Z"
   },
   {
    "duration": 12,
    "start_time": "2023-02-19T12:44:49.643Z"
   },
   {
    "duration": 17,
    "start_time": "2023-02-19T12:44:49.658Z"
   },
   {
    "duration": 7,
    "start_time": "2023-02-19T12:44:49.677Z"
   },
   {
    "duration": 9,
    "start_time": "2023-02-19T12:44:49.687Z"
   },
   {
    "duration": 6,
    "start_time": "2023-02-19T12:44:49.698Z"
   },
   {
    "duration": 6,
    "start_time": "2023-02-19T12:44:49.706Z"
   },
   {
    "duration": 6,
    "start_time": "2023-02-19T12:44:49.715Z"
   },
   {
    "duration": 6,
    "start_time": "2023-02-19T12:44:49.723Z"
   },
   {
    "duration": 18,
    "start_time": "2023-02-19T12:44:49.731Z"
   },
   {
    "duration": 47,
    "start_time": "2023-02-19T12:44:49.751Z"
   },
   {
    "duration": 9,
    "start_time": "2023-02-19T12:44:49.800Z"
   },
   {
    "duration": 10,
    "start_time": "2023-02-19T12:44:49.811Z"
   },
   {
    "duration": 10,
    "start_time": "2023-02-19T12:44:49.823Z"
   },
   {
    "duration": 39,
    "start_time": "2023-02-19T12:44:49.835Z"
   },
   {
    "duration": 27,
    "start_time": "2023-02-19T12:44:49.876Z"
   },
   {
    "duration": 7,
    "start_time": "2023-02-19T12:44:49.905Z"
   },
   {
    "duration": 10,
    "start_time": "2023-02-19T12:44:49.914Z"
   },
   {
    "duration": 48,
    "start_time": "2023-02-19T12:44:49.927Z"
   },
   {
    "duration": 3,
    "start_time": "2023-02-19T12:46:41.327Z"
   },
   {
    "duration": 5,
    "start_time": "2023-02-19T12:46:42.928Z"
   },
   {
    "duration": 8,
    "start_time": "2023-02-19T12:46:44.404Z"
   },
   {
    "duration": 23,
    "start_time": "2023-02-19T12:46:54.764Z"
   },
   {
    "duration": 27,
    "start_time": "2023-02-19T12:48:25.684Z"
   },
   {
    "duration": 30,
    "start_time": "2023-02-19T12:50:39.659Z"
   },
   {
    "duration": 1300,
    "start_time": "2023-02-19T12:56:33.882Z"
   },
   {
    "duration": 36,
    "start_time": "2023-02-19T12:56:35.184Z"
   },
   {
    "duration": 27,
    "start_time": "2023-02-19T12:56:35.222Z"
   },
   {
    "duration": 23,
    "start_time": "2023-02-19T12:56:35.254Z"
   },
   {
    "duration": 5,
    "start_time": "2023-02-19T12:56:35.279Z"
   },
   {
    "duration": 191,
    "start_time": "2023-02-19T12:56:35.285Z"
   },
   {
    "duration": 9,
    "start_time": "2023-02-19T12:56:35.478Z"
   },
   {
    "duration": 4,
    "start_time": "2023-02-19T12:56:35.489Z"
   },
   {
    "duration": 6,
    "start_time": "2023-02-19T12:56:35.495Z"
   },
   {
    "duration": 194,
    "start_time": "2023-02-19T12:56:35.503Z"
   },
   {
    "duration": 6,
    "start_time": "2023-02-19T12:56:35.699Z"
   },
   {
    "duration": 1320,
    "start_time": "2023-02-19T12:56:35.706Z"
   },
   {
    "duration": 28,
    "start_time": "2023-02-19T12:56:37.028Z"
   },
   {
    "duration": 18,
    "start_time": "2023-02-19T12:56:37.058Z"
   },
   {
    "duration": 10,
    "start_time": "2023-02-19T12:56:37.079Z"
   },
   {
    "duration": 5,
    "start_time": "2023-02-19T12:56:37.090Z"
   },
   {
    "duration": 4,
    "start_time": "2023-02-19T12:56:37.097Z"
   },
   {
    "duration": 13,
    "start_time": "2023-02-19T12:56:37.103Z"
   },
   {
    "duration": 4,
    "start_time": "2023-02-19T12:56:37.118Z"
   },
   {
    "duration": 29,
    "start_time": "2023-02-19T12:56:37.123Z"
   },
   {
    "duration": 7,
    "start_time": "2023-02-19T12:56:37.153Z"
   },
   {
    "duration": 10,
    "start_time": "2023-02-19T12:56:37.161Z"
   },
   {
    "duration": 16,
    "start_time": "2023-02-19T12:56:37.172Z"
   },
   {
    "duration": 1765,
    "start_time": "2023-02-19T12:56:37.189Z"
   },
   {
    "duration": 6,
    "start_time": "2023-02-19T12:56:38.955Z"
   },
   {
    "duration": 8,
    "start_time": "2023-02-19T12:56:38.962Z"
   },
   {
    "duration": 6,
    "start_time": "2023-02-19T12:56:38.971Z"
   },
   {
    "duration": 9,
    "start_time": "2023-02-19T12:56:38.980Z"
   },
   {
    "duration": 7,
    "start_time": "2023-02-19T12:56:38.991Z"
   },
   {
    "duration": 144,
    "start_time": "2023-02-19T12:56:39.000Z"
   },
   {
    "duration": 0,
    "start_time": "2023-02-19T12:56:39.150Z"
   },
   {
    "duration": 0,
    "start_time": "2023-02-19T12:56:39.151Z"
   },
   {
    "duration": 0,
    "start_time": "2023-02-19T12:56:39.151Z"
   },
   {
    "duration": 0,
    "start_time": "2023-02-19T12:56:39.152Z"
   },
   {
    "duration": 0,
    "start_time": "2023-02-19T12:56:39.153Z"
   },
   {
    "duration": 0,
    "start_time": "2023-02-19T12:56:39.154Z"
   },
   {
    "duration": 0,
    "start_time": "2023-02-19T12:56:39.155Z"
   },
   {
    "duration": 0,
    "start_time": "2023-02-19T12:56:39.157Z"
   },
   {
    "duration": 0,
    "start_time": "2023-02-19T12:56:39.158Z"
   },
   {
    "duration": 0,
    "start_time": "2023-02-19T12:56:39.159Z"
   },
   {
    "duration": 0,
    "start_time": "2023-02-19T12:56:39.160Z"
   },
   {
    "duration": 0,
    "start_time": "2023-02-19T12:56:39.160Z"
   },
   {
    "duration": 0,
    "start_time": "2023-02-19T12:56:39.161Z"
   },
   {
    "duration": 0,
    "start_time": "2023-02-19T12:56:39.162Z"
   },
   {
    "duration": 0,
    "start_time": "2023-02-19T12:56:39.163Z"
   },
   {
    "duration": 2,
    "start_time": "2023-02-19T12:56:53.708Z"
   },
   {
    "duration": 11,
    "start_time": "2023-02-19T12:56:56.495Z"
   },
   {
    "duration": 17,
    "start_time": "2023-02-19T12:56:58.863Z"
   },
   {
    "duration": 10,
    "start_time": "2023-02-19T12:57:52.910Z"
   },
   {
    "duration": 17,
    "start_time": "2023-02-19T12:57:54.859Z"
   },
   {
    "duration": 18,
    "start_time": "2023-02-19T13:09:40.803Z"
   },
   {
    "duration": 20,
    "start_time": "2023-02-19T13:09:51.250Z"
   },
   {
    "duration": 1416,
    "start_time": "2023-02-19T13:10:29.284Z"
   },
   {
    "duration": 54,
    "start_time": "2023-02-19T13:10:30.701Z"
   },
   {
    "duration": 23,
    "start_time": "2023-02-19T13:10:30.757Z"
   },
   {
    "duration": 17,
    "start_time": "2023-02-19T13:10:30.783Z"
   },
   {
    "duration": 9,
    "start_time": "2023-02-19T13:10:30.802Z"
   },
   {
    "duration": 186,
    "start_time": "2023-02-19T13:10:30.813Z"
   },
   {
    "duration": 8,
    "start_time": "2023-02-19T13:10:31.001Z"
   },
   {
    "duration": 16,
    "start_time": "2023-02-19T13:10:31.010Z"
   },
   {
    "duration": 17,
    "start_time": "2023-02-19T13:10:31.027Z"
   },
   {
    "duration": 186,
    "start_time": "2023-02-19T13:10:31.048Z"
   },
   {
    "duration": 11,
    "start_time": "2023-02-19T13:10:31.236Z"
   },
   {
    "duration": 1327,
    "start_time": "2023-02-19T13:10:31.253Z"
   },
   {
    "duration": 24,
    "start_time": "2023-02-19T13:10:32.582Z"
   },
   {
    "duration": 14,
    "start_time": "2023-02-19T13:10:32.608Z"
   },
   {
    "duration": 9,
    "start_time": "2023-02-19T13:10:32.639Z"
   },
   {
    "duration": 19,
    "start_time": "2023-02-19T13:10:32.651Z"
   },
   {
    "duration": 8,
    "start_time": "2023-02-19T13:10:32.672Z"
   },
   {
    "duration": 13,
    "start_time": "2023-02-19T13:10:32.682Z"
   },
   {
    "duration": 10,
    "start_time": "2023-02-19T13:10:32.697Z"
   },
   {
    "duration": 15,
    "start_time": "2023-02-19T13:10:32.709Z"
   },
   {
    "duration": 20,
    "start_time": "2023-02-19T13:10:32.726Z"
   },
   {
    "duration": 11,
    "start_time": "2023-02-19T13:10:32.754Z"
   },
   {
    "duration": 17,
    "start_time": "2023-02-19T13:10:32.767Z"
   },
   {
    "duration": 1738,
    "start_time": "2023-02-19T13:10:32.785Z"
   },
   {
    "duration": 5,
    "start_time": "2023-02-19T13:10:34.525Z"
   },
   {
    "duration": 32,
    "start_time": "2023-02-19T13:10:34.531Z"
   },
   {
    "duration": 8,
    "start_time": "2023-02-19T13:10:34.564Z"
   },
   {
    "duration": 21,
    "start_time": "2023-02-19T13:10:34.576Z"
   },
   {
    "duration": 13,
    "start_time": "2023-02-19T13:10:34.600Z"
   },
   {
    "duration": 39,
    "start_time": "2023-02-19T13:10:34.615Z"
   },
   {
    "duration": 32,
    "start_time": "2023-02-19T13:10:34.656Z"
   },
   {
    "duration": 30,
    "start_time": "2023-02-19T13:10:34.689Z"
   },
   {
    "duration": 29,
    "start_time": "2023-02-19T13:10:34.721Z"
   },
   {
    "duration": 13,
    "start_time": "2023-02-19T13:10:34.752Z"
   },
   {
    "duration": 13,
    "start_time": "2023-02-19T13:10:34.767Z"
   },
   {
    "duration": 12,
    "start_time": "2023-02-19T13:10:34.782Z"
   },
   {
    "duration": 8,
    "start_time": "2023-02-19T13:10:34.796Z"
   },
   {
    "duration": 12,
    "start_time": "2023-02-19T13:10:34.805Z"
   },
   {
    "duration": 10,
    "start_time": "2023-02-19T13:10:34.819Z"
   },
   {
    "duration": 19,
    "start_time": "2023-02-19T13:10:34.830Z"
   },
   {
    "duration": 14,
    "start_time": "2023-02-19T13:10:34.851Z"
   },
   {
    "duration": 24,
    "start_time": "2023-02-19T13:10:34.867Z"
   },
   {
    "duration": 28,
    "start_time": "2023-02-19T13:10:34.893Z"
   },
   {
    "duration": 23,
    "start_time": "2023-02-19T13:10:34.922Z"
   },
   {
    "duration": 4,
    "start_time": "2023-02-19T13:11:01.880Z"
   },
   {
    "duration": 17,
    "start_time": "2023-02-19T13:11:11.757Z"
   },
   {
    "duration": 24,
    "start_time": "2023-02-19T13:11:56.894Z"
   },
   {
    "duration": 2,
    "start_time": "2023-02-19T13:12:41.712Z"
   },
   {
    "duration": 16,
    "start_time": "2023-02-19T13:12:47.279Z"
   },
   {
    "duration": 10,
    "start_time": "2023-02-19T13:13:04.776Z"
   },
   {
    "duration": 23,
    "start_time": "2023-02-19T13:13:09.503Z"
   },
   {
    "duration": 48,
    "start_time": "2023-02-19T13:13:54.152Z"
   },
   {
    "duration": 18,
    "start_time": "2023-02-19T13:14:01.796Z"
   },
   {
    "duration": 19,
    "start_time": "2023-02-19T13:15:16.163Z"
   },
   {
    "duration": 16,
    "start_time": "2023-02-19T13:15:17.957Z"
   },
   {
    "duration": 18,
    "start_time": "2023-02-19T13:16:09.600Z"
   },
   {
    "duration": 16,
    "start_time": "2023-02-19T13:16:11.318Z"
   },
   {
    "duration": 10,
    "start_time": "2023-02-19T13:16:57.037Z"
   },
   {
    "duration": 4,
    "start_time": "2023-02-19T13:18:59.798Z"
   },
   {
    "duration": 3,
    "start_time": "2023-02-19T13:23:20.679Z"
   },
   {
    "duration": 26,
    "start_time": "2023-02-19T13:23:21.633Z"
   },
   {
    "duration": 17,
    "start_time": "2023-02-19T13:23:29.062Z"
   },
   {
    "duration": 2,
    "start_time": "2023-02-19T13:24:03.303Z"
   },
   {
    "duration": 24,
    "start_time": "2023-02-19T13:24:04.004Z"
   },
   {
    "duration": 18,
    "start_time": "2023-02-19T13:24:05.387Z"
   },
   {
    "duration": 1386,
    "start_time": "2023-02-19T13:24:45.395Z"
   },
   {
    "duration": 38,
    "start_time": "2023-02-19T13:24:46.783Z"
   },
   {
    "duration": 23,
    "start_time": "2023-02-19T13:24:46.822Z"
   },
   {
    "duration": 16,
    "start_time": "2023-02-19T13:24:46.847Z"
   },
   {
    "duration": 5,
    "start_time": "2023-02-19T13:24:46.864Z"
   },
   {
    "duration": 182,
    "start_time": "2023-02-19T13:24:46.871Z"
   },
   {
    "duration": 8,
    "start_time": "2023-02-19T13:24:47.055Z"
   },
   {
    "duration": 9,
    "start_time": "2023-02-19T13:24:47.065Z"
   },
   {
    "duration": 17,
    "start_time": "2023-02-19T13:24:47.075Z"
   },
   {
    "duration": 179,
    "start_time": "2023-02-19T13:24:47.094Z"
   },
   {
    "duration": 5,
    "start_time": "2023-02-19T13:24:47.275Z"
   },
   {
    "duration": 1309,
    "start_time": "2023-02-19T13:24:47.281Z"
   },
   {
    "duration": 17,
    "start_time": "2023-02-19T13:24:48.592Z"
   },
   {
    "duration": 28,
    "start_time": "2023-02-19T13:24:48.610Z"
   },
   {
    "duration": 8,
    "start_time": "2023-02-19T13:24:48.640Z"
   },
   {
    "duration": 5,
    "start_time": "2023-02-19T13:24:48.650Z"
   },
   {
    "duration": 4,
    "start_time": "2023-02-19T13:24:48.656Z"
   },
   {
    "duration": 29,
    "start_time": "2023-02-19T13:24:48.662Z"
   },
   {
    "duration": 5,
    "start_time": "2023-02-19T13:24:48.693Z"
   },
   {
    "duration": 9,
    "start_time": "2023-02-19T13:24:48.700Z"
   },
   {
    "duration": 6,
    "start_time": "2023-02-19T13:24:48.711Z"
   },
   {
    "duration": 10,
    "start_time": "2023-02-19T13:24:48.719Z"
   },
   {
    "duration": 18,
    "start_time": "2023-02-19T13:24:48.730Z"
   },
   {
    "duration": 1935,
    "start_time": "2023-02-19T13:24:48.750Z"
   },
   {
    "duration": 7,
    "start_time": "2023-02-19T13:24:50.687Z"
   },
   {
    "duration": 28,
    "start_time": "2023-02-19T13:24:50.696Z"
   },
   {
    "duration": 5,
    "start_time": "2023-02-19T13:24:50.726Z"
   },
   {
    "duration": 7,
    "start_time": "2023-02-19T13:24:50.738Z"
   },
   {
    "duration": 13,
    "start_time": "2023-02-19T13:24:50.747Z"
   },
   {
    "duration": 26,
    "start_time": "2023-02-19T13:24:50.762Z"
   },
   {
    "duration": 12,
    "start_time": "2023-02-19T13:24:50.790Z"
   },
   {
    "duration": 6,
    "start_time": "2023-02-19T13:24:50.804Z"
   },
   {
    "duration": 8,
    "start_time": "2023-02-19T13:24:50.812Z"
   },
   {
    "duration": 34,
    "start_time": "2023-02-19T13:24:50.838Z"
   },
   {
    "duration": 2,
    "start_time": "2023-02-19T13:24:50.875Z"
   },
   {
    "duration": 11,
    "start_time": "2023-02-19T13:24:50.879Z"
   },
   {
    "duration": 5,
    "start_time": "2023-02-19T13:24:50.892Z"
   },
   {
    "duration": 13,
    "start_time": "2023-02-19T13:24:50.898Z"
   },
   {
    "duration": 27,
    "start_time": "2023-02-19T13:24:50.912Z"
   },
   {
    "duration": 14,
    "start_time": "2023-02-19T13:24:50.941Z"
   },
   {
    "duration": 52,
    "start_time": "2023-02-19T13:24:50.957Z"
   },
   {
    "duration": 25,
    "start_time": "2023-02-19T13:24:51.011Z"
   },
   {
    "duration": 19,
    "start_time": "2023-02-19T13:24:51.039Z"
   },
   {
    "duration": 25,
    "start_time": "2023-02-19T13:24:51.060Z"
   },
   {
    "duration": 26,
    "start_time": "2023-02-19T13:24:51.087Z"
   },
   {
    "duration": 38,
    "start_time": "2023-02-19T13:24:51.115Z"
   },
   {
    "duration": 111,
    "start_time": "2023-02-19T13:33:49.623Z"
   },
   {
    "duration": 1272,
    "start_time": "2023-02-19T13:34:45.563Z"
   },
   {
    "duration": 36,
    "start_time": "2023-02-19T13:34:46.837Z"
   },
   {
    "duration": 16,
    "start_time": "2023-02-19T13:34:46.875Z"
   },
   {
    "duration": 12,
    "start_time": "2023-02-19T13:34:46.894Z"
   },
   {
    "duration": 16,
    "start_time": "2023-02-19T13:34:46.908Z"
   },
   {
    "duration": 163,
    "start_time": "2023-02-19T13:34:46.925Z"
   },
   {
    "duration": 8,
    "start_time": "2023-02-19T13:34:47.089Z"
   },
   {
    "duration": 3,
    "start_time": "2023-02-19T13:34:47.098Z"
   },
   {
    "duration": 6,
    "start_time": "2023-02-19T13:34:47.103Z"
   },
   {
    "duration": 163,
    "start_time": "2023-02-19T13:34:47.111Z"
   },
   {
    "duration": 5,
    "start_time": "2023-02-19T13:34:47.276Z"
   },
   {
    "duration": 1194,
    "start_time": "2023-02-19T13:34:47.283Z"
   },
   {
    "duration": 16,
    "start_time": "2023-02-19T13:34:48.478Z"
   },
   {
    "duration": 11,
    "start_time": "2023-02-19T13:34:48.495Z"
   },
   {
    "duration": 31,
    "start_time": "2023-02-19T13:34:48.507Z"
   },
   {
    "duration": 5,
    "start_time": "2023-02-19T13:34:48.540Z"
   },
   {
    "duration": 3,
    "start_time": "2023-02-19T13:34:48.547Z"
   },
   {
    "duration": 5,
    "start_time": "2023-02-19T13:34:48.551Z"
   },
   {
    "duration": 5,
    "start_time": "2023-02-19T13:34:48.558Z"
   },
   {
    "duration": 5,
    "start_time": "2023-02-19T13:34:48.564Z"
   },
   {
    "duration": 4,
    "start_time": "2023-02-19T13:34:48.570Z"
   },
   {
    "duration": 8,
    "start_time": "2023-02-19T13:34:48.576Z"
   },
   {
    "duration": 11,
    "start_time": "2023-02-19T13:34:48.585Z"
   },
   {
    "duration": 1669,
    "start_time": "2023-02-19T13:34:48.598Z"
   },
   {
    "duration": 6,
    "start_time": "2023-02-19T13:34:50.268Z"
   },
   {
    "duration": 7,
    "start_time": "2023-02-19T13:34:50.276Z"
   },
   {
    "duration": 7,
    "start_time": "2023-02-19T13:34:50.284Z"
   },
   {
    "duration": 10,
    "start_time": "2023-02-19T13:34:50.294Z"
   },
   {
    "duration": 6,
    "start_time": "2023-02-19T13:34:50.305Z"
   },
   {
    "duration": 34,
    "start_time": "2023-02-19T13:34:50.312Z"
   },
   {
    "duration": 12,
    "start_time": "2023-02-19T13:34:50.348Z"
   },
   {
    "duration": 19,
    "start_time": "2023-02-19T13:34:50.362Z"
   },
   {
    "duration": 5,
    "start_time": "2023-02-19T13:34:50.383Z"
   },
   {
    "duration": 28,
    "start_time": "2023-02-19T13:34:50.389Z"
   },
   {
    "duration": 34,
    "start_time": "2023-02-19T13:34:50.418Z"
   },
   {
    "duration": 28,
    "start_time": "2023-02-19T13:37:37.274Z"
   },
   {
    "duration": 31,
    "start_time": "2023-02-19T13:37:55.975Z"
   },
   {
    "duration": 33,
    "start_time": "2023-02-19T14:11:41.014Z"
   },
   {
    "duration": 641,
    "start_time": "2023-02-19T14:11:43.605Z"
   },
   {
    "duration": 219,
    "start_time": "2023-02-19T14:11:49.005Z"
   },
   {
    "duration": 25,
    "start_time": "2023-02-19T14:12:16.048Z"
   },
   {
    "duration": 1412,
    "start_time": "2023-02-19T14:25:08.667Z"
   },
   {
    "duration": 36,
    "start_time": "2023-02-19T14:25:10.081Z"
   },
   {
    "duration": 17,
    "start_time": "2023-02-19T14:25:10.118Z"
   },
   {
    "duration": 42,
    "start_time": "2023-02-19T14:25:10.137Z"
   },
   {
    "duration": 5,
    "start_time": "2023-02-19T14:25:10.181Z"
   },
   {
    "duration": 176,
    "start_time": "2023-02-19T14:25:10.188Z"
   },
   {
    "duration": 10,
    "start_time": "2023-02-19T14:25:10.367Z"
   },
   {
    "duration": 2,
    "start_time": "2023-02-19T14:25:10.379Z"
   },
   {
    "duration": 6,
    "start_time": "2023-02-19T14:25:10.383Z"
   },
   {
    "duration": 190,
    "start_time": "2023-02-19T14:25:10.390Z"
   },
   {
    "duration": 5,
    "start_time": "2023-02-19T14:25:10.581Z"
   },
   {
    "duration": 1369,
    "start_time": "2023-02-19T14:25:10.588Z"
   },
   {
    "duration": 17,
    "start_time": "2023-02-19T14:25:11.960Z"
   },
   {
    "duration": 12,
    "start_time": "2023-02-19T14:25:11.980Z"
   },
   {
    "duration": 10,
    "start_time": "2023-02-19T14:25:11.994Z"
   },
   {
    "duration": 44,
    "start_time": "2023-02-19T14:25:12.006Z"
   },
   {
    "duration": 12,
    "start_time": "2023-02-19T14:25:12.051Z"
   },
   {
    "duration": 6,
    "start_time": "2023-02-19T14:25:12.065Z"
   },
   {
    "duration": 5,
    "start_time": "2023-02-19T14:25:12.072Z"
   },
   {
    "duration": 7,
    "start_time": "2023-02-19T14:25:12.078Z"
   },
   {
    "duration": 6,
    "start_time": "2023-02-19T14:25:12.087Z"
   },
   {
    "duration": 14,
    "start_time": "2023-02-19T14:25:12.095Z"
   },
   {
    "duration": 20,
    "start_time": "2023-02-19T14:25:12.111Z"
   },
   {
    "duration": 1976,
    "start_time": "2023-02-19T14:25:12.144Z"
   },
   {
    "duration": 29,
    "start_time": "2023-02-19T14:25:14.121Z"
   },
   {
    "duration": 12,
    "start_time": "2023-02-19T14:25:14.153Z"
   },
   {
    "duration": 6,
    "start_time": "2023-02-19T14:25:14.167Z"
   },
   {
    "duration": 14,
    "start_time": "2023-02-19T14:25:14.174Z"
   },
   {
    "duration": 8,
    "start_time": "2023-02-19T14:25:14.190Z"
   },
   {
    "duration": 19,
    "start_time": "2023-02-19T14:25:14.200Z"
   },
   {
    "duration": 26,
    "start_time": "2023-02-19T14:25:14.221Z"
   },
   {
    "duration": 7,
    "start_time": "2023-02-19T14:25:14.249Z"
   },
   {
    "duration": 14,
    "start_time": "2023-02-19T14:25:14.258Z"
   },
   {
    "duration": 27,
    "start_time": "2023-02-19T14:25:14.273Z"
   },
   {
    "duration": 37,
    "start_time": "2023-02-19T14:25:14.302Z"
   },
   {
    "duration": 640,
    "start_time": "2023-02-19T14:25:14.340Z"
   },
   {
    "duration": 193,
    "start_time": "2023-02-19T14:25:14.982Z"
   },
   {
    "duration": 85,
    "start_time": "2023-02-19T14:25:32.368Z"
   },
   {
    "duration": 22,
    "start_time": "2023-02-19T14:53:28.821Z"
   },
   {
    "duration": 1274,
    "start_time": "2023-02-19T14:53:48.259Z"
   },
   {
    "duration": 37,
    "start_time": "2023-02-19T14:53:49.535Z"
   },
   {
    "duration": 16,
    "start_time": "2023-02-19T14:53:49.574Z"
   },
   {
    "duration": 13,
    "start_time": "2023-02-19T14:53:49.591Z"
   },
   {
    "duration": 4,
    "start_time": "2023-02-19T14:53:49.606Z"
   },
   {
    "duration": 163,
    "start_time": "2023-02-19T14:53:49.611Z"
   },
   {
    "duration": 8,
    "start_time": "2023-02-19T14:53:49.776Z"
   },
   {
    "duration": 3,
    "start_time": "2023-02-19T14:53:49.785Z"
   },
   {
    "duration": 6,
    "start_time": "2023-02-19T14:53:49.789Z"
   },
   {
    "duration": 173,
    "start_time": "2023-02-19T14:53:49.797Z"
   },
   {
    "duration": 5,
    "start_time": "2023-02-19T14:53:49.971Z"
   },
   {
    "duration": 1196,
    "start_time": "2023-02-19T14:53:49.978Z"
   },
   {
    "duration": 16,
    "start_time": "2023-02-19T14:53:51.175Z"
   },
   {
    "duration": 10,
    "start_time": "2023-02-19T14:53:51.193Z"
   },
   {
    "duration": 7,
    "start_time": "2023-02-19T14:53:51.204Z"
   },
   {
    "duration": 24,
    "start_time": "2023-02-19T14:53:51.213Z"
   },
   {
    "duration": 3,
    "start_time": "2023-02-19T14:53:51.238Z"
   },
   {
    "duration": 6,
    "start_time": "2023-02-19T14:53:51.242Z"
   },
   {
    "duration": 4,
    "start_time": "2023-02-19T14:53:51.250Z"
   },
   {
    "duration": 5,
    "start_time": "2023-02-19T14:53:51.256Z"
   },
   {
    "duration": 6,
    "start_time": "2023-02-19T14:53:51.262Z"
   },
   {
    "duration": 10,
    "start_time": "2023-02-19T14:53:51.270Z"
   },
   {
    "duration": 13,
    "start_time": "2023-02-19T14:53:51.282Z"
   },
   {
    "duration": 1820,
    "start_time": "2023-02-19T14:53:51.297Z"
   },
   {
    "duration": 6,
    "start_time": "2023-02-19T14:53:53.119Z"
   },
   {
    "duration": 5,
    "start_time": "2023-02-19T14:53:53.136Z"
   },
   {
    "duration": 9,
    "start_time": "2023-02-19T14:53:53.143Z"
   },
   {
    "duration": 9,
    "start_time": "2023-02-19T14:53:53.153Z"
   },
   {
    "duration": 9,
    "start_time": "2023-02-19T14:53:53.163Z"
   },
   {
    "duration": 18,
    "start_time": "2023-02-19T14:53:53.174Z"
   },
   {
    "duration": 9,
    "start_time": "2023-02-19T14:53:53.194Z"
   },
   {
    "duration": 5,
    "start_time": "2023-02-19T14:53:53.205Z"
   },
   {
    "duration": 7,
    "start_time": "2023-02-19T14:53:53.211Z"
   },
   {
    "duration": 40,
    "start_time": "2023-02-19T14:53:53.219Z"
   },
   {
    "duration": 29,
    "start_time": "2023-02-19T14:53:53.260Z"
   },
   {
    "duration": 123,
    "start_time": "2023-02-19T14:53:53.290Z"
   },
   {
    "duration": 0,
    "start_time": "2023-02-19T14:53:53.415Z"
   },
   {
    "duration": 0,
    "start_time": "2023-02-19T14:53:53.416Z"
   },
   {
    "duration": 41,
    "start_time": "2023-02-19T14:54:39.432Z"
   },
   {
    "duration": 18,
    "start_time": "2023-02-19T14:54:49.968Z"
   },
   {
    "duration": 20,
    "start_time": "2023-02-19T14:55:12.844Z"
   },
   {
    "duration": 18,
    "start_time": "2023-02-19T14:55:29.767Z"
   },
   {
    "duration": 241,
    "start_time": "2023-02-19T14:55:43.042Z"
   },
   {
    "duration": 722,
    "start_time": "2023-02-19T14:55:59.288Z"
   },
   {
    "duration": 63,
    "start_time": "2023-02-19T14:58:47.034Z"
   },
   {
    "duration": 441007,
    "start_time": "2023-02-19T14:58:52.138Z"
   },
   {
    "duration": 1942,
    "start_time": "2023-02-19T15:29:12.779Z"
   },
   {
    "duration": 735,
    "start_time": "2023-02-19T15:29:47.291Z"
   },
   {
    "duration": 51,
    "start_time": "2023-02-19T15:34:38.349Z"
   },
   {
    "duration": 25,
    "start_time": "2023-02-19T15:34:51.493Z"
   },
   {
    "duration": 1883,
    "start_time": "2023-02-19T15:35:06.204Z"
   },
   {
    "duration": 1323,
    "start_time": "2023-02-19T15:45:20.128Z"
   },
   {
    "duration": 37,
    "start_time": "2023-02-19T15:45:21.452Z"
   },
   {
    "duration": 17,
    "start_time": "2023-02-19T15:45:21.490Z"
   },
   {
    "duration": 12,
    "start_time": "2023-02-19T15:45:21.509Z"
   },
   {
    "duration": 4,
    "start_time": "2023-02-19T15:45:21.524Z"
   },
   {
    "duration": 171,
    "start_time": "2023-02-19T15:45:21.530Z"
   },
   {
    "duration": 9,
    "start_time": "2023-02-19T15:45:21.703Z"
   },
   {
    "duration": 4,
    "start_time": "2023-02-19T15:45:21.713Z"
   },
   {
    "duration": 5,
    "start_time": "2023-02-19T15:45:21.736Z"
   },
   {
    "duration": 176,
    "start_time": "2023-02-19T15:45:21.743Z"
   },
   {
    "duration": 4,
    "start_time": "2023-02-19T15:45:21.921Z"
   },
   {
    "duration": 1559,
    "start_time": "2023-02-19T15:45:21.937Z"
   },
   {
    "duration": 19,
    "start_time": "2023-02-19T15:45:23.497Z"
   },
   {
    "duration": 30,
    "start_time": "2023-02-19T15:45:23.520Z"
   },
   {
    "duration": 10,
    "start_time": "2023-02-19T15:45:23.552Z"
   },
   {
    "duration": 13,
    "start_time": "2023-02-19T15:45:23.564Z"
   },
   {
    "duration": 14,
    "start_time": "2023-02-19T15:45:23.580Z"
   },
   {
    "duration": 26,
    "start_time": "2023-02-19T15:45:23.596Z"
   },
   {
    "duration": 8,
    "start_time": "2023-02-19T15:45:23.624Z"
   },
   {
    "duration": 6,
    "start_time": "2023-02-19T15:45:23.634Z"
   },
   {
    "duration": 11,
    "start_time": "2023-02-19T15:45:23.642Z"
   },
   {
    "duration": 7,
    "start_time": "2023-02-19T15:45:23.654Z"
   },
   {
    "duration": 14,
    "start_time": "2023-02-19T15:45:23.663Z"
   },
   {
    "duration": 1826,
    "start_time": "2023-02-19T15:45:23.678Z"
   },
   {
    "duration": 6,
    "start_time": "2023-02-19T15:45:25.506Z"
   },
   {
    "duration": 11,
    "start_time": "2023-02-19T15:45:25.513Z"
   },
   {
    "duration": 4,
    "start_time": "2023-02-19T15:45:25.537Z"
   },
   {
    "duration": 13,
    "start_time": "2023-02-19T15:45:25.543Z"
   },
   {
    "duration": 22,
    "start_time": "2023-02-19T15:45:25.558Z"
   },
   {
    "duration": 22,
    "start_time": "2023-02-19T15:45:25.582Z"
   },
   {
    "duration": 15,
    "start_time": "2023-02-19T15:45:25.606Z"
   },
   {
    "duration": 14,
    "start_time": "2023-02-19T15:45:25.623Z"
   },
   {
    "duration": 6,
    "start_time": "2023-02-19T15:45:25.639Z"
   },
   {
    "duration": 32,
    "start_time": "2023-02-19T15:45:25.646Z"
   },
   {
    "duration": 125,
    "start_time": "2023-02-19T15:45:25.680Z"
   },
   {
    "duration": 0,
    "start_time": "2023-02-19T15:45:25.806Z"
   },
   {
    "duration": 0,
    "start_time": "2023-02-19T15:45:25.808Z"
   },
   {
    "duration": 1307,
    "start_time": "2023-02-19T15:46:09.239Z"
   },
   {
    "duration": 35,
    "start_time": "2023-02-19T15:46:10.548Z"
   },
   {
    "duration": 18,
    "start_time": "2023-02-19T15:46:10.585Z"
   },
   {
    "duration": 14,
    "start_time": "2023-02-19T15:46:10.605Z"
   },
   {
    "duration": 4,
    "start_time": "2023-02-19T15:46:10.621Z"
   },
   {
    "duration": 187,
    "start_time": "2023-02-19T15:46:10.627Z"
   },
   {
    "duration": 9,
    "start_time": "2023-02-19T15:46:10.815Z"
   },
   {
    "duration": 3,
    "start_time": "2023-02-19T15:46:10.826Z"
   },
   {
    "duration": 8,
    "start_time": "2023-02-19T15:46:10.836Z"
   },
   {
    "duration": 184,
    "start_time": "2023-02-19T15:46:10.846Z"
   },
   {
    "duration": 7,
    "start_time": "2023-02-19T15:46:11.036Z"
   },
   {
    "duration": 1256,
    "start_time": "2023-02-19T15:46:11.044Z"
   },
   {
    "duration": 19,
    "start_time": "2023-02-19T15:46:12.302Z"
   },
   {
    "duration": 26,
    "start_time": "2023-02-19T15:46:12.323Z"
   },
   {
    "duration": 16,
    "start_time": "2023-02-19T15:46:12.352Z"
   },
   {
    "duration": 5,
    "start_time": "2023-02-19T15:46:12.370Z"
   },
   {
    "duration": 24,
    "start_time": "2023-02-19T15:46:12.377Z"
   },
   {
    "duration": 9,
    "start_time": "2023-02-19T15:46:12.404Z"
   },
   {
    "duration": 10,
    "start_time": "2023-02-19T15:46:12.415Z"
   },
   {
    "duration": 14,
    "start_time": "2023-02-19T15:46:12.427Z"
   },
   {
    "duration": 16,
    "start_time": "2023-02-19T15:46:12.444Z"
   },
   {
    "duration": 19,
    "start_time": "2023-02-19T15:46:12.463Z"
   },
   {
    "duration": 25,
    "start_time": "2023-02-19T15:46:12.484Z"
   },
   {
    "duration": 2025,
    "start_time": "2023-02-19T15:46:12.512Z"
   },
   {
    "duration": 5,
    "start_time": "2023-02-19T15:46:14.539Z"
   },
   {
    "duration": 15,
    "start_time": "2023-02-19T15:46:14.546Z"
   },
   {
    "duration": 13,
    "start_time": "2023-02-19T15:46:14.563Z"
   },
   {
    "duration": 6,
    "start_time": "2023-02-19T15:46:14.580Z"
   },
   {
    "duration": 18,
    "start_time": "2023-02-19T15:46:14.588Z"
   },
   {
    "duration": 36,
    "start_time": "2023-02-19T15:46:14.608Z"
   },
   {
    "duration": 10,
    "start_time": "2023-02-19T15:46:14.646Z"
   },
   {
    "duration": 17,
    "start_time": "2023-02-19T15:46:14.658Z"
   },
   {
    "duration": 18,
    "start_time": "2023-02-19T15:46:14.677Z"
   },
   {
    "duration": 42,
    "start_time": "2023-02-19T15:46:14.697Z"
   },
   {
    "duration": 968,
    "start_time": "2023-02-19T15:46:14.740Z"
   },
   {
    "duration": 0,
    "start_time": "2023-02-19T15:46:15.710Z"
   },
   {
    "duration": 0,
    "start_time": "2023-02-19T15:46:15.712Z"
   },
   {
    "duration": 721,
    "start_time": "2023-02-19T15:48:41.042Z"
   },
   {
    "duration": 1762,
    "start_time": "2023-02-19T15:48:47.260Z"
   },
   {
    "duration": 4657,
    "start_time": "2023-02-19T15:50:02.808Z"
   },
   {
    "duration": 1850,
    "start_time": "2023-02-19T15:50:17.221Z"
   },
   {
    "duration": 4769,
    "start_time": "2023-02-19T15:50:25.419Z"
   },
   {
    "duration": 17385,
    "start_time": "2023-02-19T15:50:31.665Z"
   },
   {
    "duration": 5751,
    "start_time": "2023-02-19T15:50:51.839Z"
   },
   {
    "duration": 9351,
    "start_time": "2023-02-19T15:51:36.997Z"
   },
   {
    "duration": 3234,
    "start_time": "2023-02-19T15:52:17.771Z"
   },
   {
    "duration": 6391,
    "start_time": "2023-02-19T15:52:42.881Z"
   },
   {
    "duration": 12322,
    "start_time": "2023-02-19T15:52:59.051Z"
   },
   {
    "duration": 67060,
    "start_time": "2023-02-19T15:53:36.268Z"
   },
   {
    "duration": 4627,
    "start_time": "2023-02-19T15:55:11.014Z"
   },
   {
    "duration": 21209,
    "start_time": "2023-02-19T15:56:08.331Z"
   },
   {
    "duration": 18,
    "start_time": "2023-02-19T16:02:08.708Z"
   },
   {
    "duration": 17,
    "start_time": "2023-02-19T16:02:44.789Z"
   },
   {
    "duration": 19,
    "start_time": "2023-02-19T16:03:03.438Z"
   },
   {
    "duration": 12,
    "start_time": "2023-02-19T16:03:22.231Z"
   },
   {
    "duration": 12,
    "start_time": "2023-02-19T16:04:36.366Z"
   },
   {
    "duration": 1469,
    "start_time": "2023-02-19T16:05:23.638Z"
   },
   {
    "duration": 41,
    "start_time": "2023-02-19T16:05:25.109Z"
   },
   {
    "duration": 25,
    "start_time": "2023-02-19T16:05:25.155Z"
   },
   {
    "duration": 19,
    "start_time": "2023-02-19T16:05:25.182Z"
   },
   {
    "duration": 6,
    "start_time": "2023-02-19T16:05:25.203Z"
   },
   {
    "duration": 206,
    "start_time": "2023-02-19T16:05:25.211Z"
   },
   {
    "duration": 8,
    "start_time": "2023-02-19T16:05:25.419Z"
   },
   {
    "duration": 10,
    "start_time": "2023-02-19T16:05:25.429Z"
   },
   {
    "duration": 5,
    "start_time": "2023-02-19T16:05:25.442Z"
   },
   {
    "duration": 204,
    "start_time": "2023-02-19T16:05:25.449Z"
   },
   {
    "duration": 7,
    "start_time": "2023-02-19T16:05:25.658Z"
   },
   {
    "duration": 1389,
    "start_time": "2023-02-19T16:05:25.667Z"
   },
   {
    "duration": 20,
    "start_time": "2023-02-19T16:05:27.058Z"
   },
   {
    "duration": 12,
    "start_time": "2023-02-19T16:05:27.080Z"
   },
   {
    "duration": 8,
    "start_time": "2023-02-19T16:05:27.093Z"
   },
   {
    "duration": 4,
    "start_time": "2023-02-19T16:05:27.103Z"
   },
   {
    "duration": 2,
    "start_time": "2023-02-19T16:05:27.137Z"
   },
   {
    "duration": 10,
    "start_time": "2023-02-19T16:05:27.141Z"
   },
   {
    "duration": 5,
    "start_time": "2023-02-19T16:05:27.152Z"
   },
   {
    "duration": 7,
    "start_time": "2023-02-19T16:05:27.158Z"
   },
   {
    "duration": 10,
    "start_time": "2023-02-19T16:05:27.166Z"
   },
   {
    "duration": 6,
    "start_time": "2023-02-19T16:05:27.177Z"
   },
   {
    "duration": 14,
    "start_time": "2023-02-19T16:05:27.185Z"
   },
   {
    "duration": 1764,
    "start_time": "2023-02-19T16:05:27.200Z"
   },
   {
    "duration": 5,
    "start_time": "2023-02-19T16:05:28.966Z"
   },
   {
    "duration": 10,
    "start_time": "2023-02-19T16:05:28.973Z"
   },
   {
    "duration": 4,
    "start_time": "2023-02-19T16:05:28.986Z"
   },
   {
    "duration": 8,
    "start_time": "2023-02-19T16:05:28.992Z"
   },
   {
    "duration": 8,
    "start_time": "2023-02-19T16:05:29.002Z"
   },
   {
    "duration": 39,
    "start_time": "2023-02-19T16:05:29.011Z"
   },
   {
    "duration": 11,
    "start_time": "2023-02-19T16:05:29.052Z"
   },
   {
    "duration": 7,
    "start_time": "2023-02-19T16:05:29.064Z"
   },
   {
    "duration": 5,
    "start_time": "2023-02-19T16:05:29.072Z"
   },
   {
    "duration": 39,
    "start_time": "2023-02-19T16:05:29.079Z"
   },
   {
    "duration": 761,
    "start_time": "2023-02-19T16:05:29.120Z"
   },
   {
    "duration": 18364,
    "start_time": "2023-02-19T16:05:29.883Z"
   },
   {
    "duration": 20399,
    "start_time": "2023-02-19T16:05:48.248Z"
   },
   {
    "duration": 190,
    "start_time": "2023-02-19T16:06:08.649Z"
   },
   {
    "duration": 102,
    "start_time": "2023-02-19T16:07:10.296Z"
   },
   {
    "duration": 96,
    "start_time": "2023-02-19T16:12:30.897Z"
   },
   {
    "duration": 5,
    "start_time": "2023-02-19T16:13:48.253Z"
   },
   {
    "duration": 123,
    "start_time": "2023-02-19T16:14:20.647Z"
   },
   {
    "duration": 4,
    "start_time": "2023-02-19T16:14:42.753Z"
   },
   {
    "duration": 97,
    "start_time": "2023-02-19T16:16:07.966Z"
   },
   {
    "duration": 213,
    "start_time": "2023-02-19T16:16:46.872Z"
   },
   {
    "duration": 105,
    "start_time": "2023-02-19T16:18:22.667Z"
   },
   {
    "duration": 5,
    "start_time": "2023-02-19T16:18:38.786Z"
   },
   {
    "duration": 3,
    "start_time": "2023-02-19T16:23:23.662Z"
   },
   {
    "duration": 11,
    "start_time": "2023-02-19T16:23:56.544Z"
   },
   {
    "duration": 13,
    "start_time": "2023-02-19T16:25:36.515Z"
   },
   {
    "duration": 40,
    "start_time": "2023-02-19T16:27:35.499Z"
   },
   {
    "duration": 13,
    "start_time": "2023-02-19T16:27:46.829Z"
   },
   {
    "duration": 14,
    "start_time": "2023-02-19T16:28:55.375Z"
   },
   {
    "duration": 14,
    "start_time": "2023-02-19T16:32:42.018Z"
   },
   {
    "duration": 14,
    "start_time": "2023-02-19T16:32:45.485Z"
   },
   {
    "duration": 6,
    "start_time": "2023-02-19T16:32:47.035Z"
   },
   {
    "duration": 7,
    "start_time": "2023-02-19T16:34:01.673Z"
   },
   {
    "duration": 10,
    "start_time": "2023-02-19T16:38:44.229Z"
   },
   {
    "duration": 11,
    "start_time": "2023-02-19T16:39:22.219Z"
   },
   {
    "duration": 5,
    "start_time": "2023-02-19T16:39:32.468Z"
   },
   {
    "duration": 1269,
    "start_time": "2023-02-19T16:39:37.389Z"
   },
   {
    "duration": 36,
    "start_time": "2023-02-19T16:39:38.660Z"
   },
   {
    "duration": 18,
    "start_time": "2023-02-19T16:39:38.698Z"
   },
   {
    "duration": 21,
    "start_time": "2023-02-19T16:39:38.718Z"
   },
   {
    "duration": 7,
    "start_time": "2023-02-19T16:39:38.741Z"
   },
   {
    "duration": 193,
    "start_time": "2023-02-19T16:39:38.750Z"
   },
   {
    "duration": 11,
    "start_time": "2023-02-19T16:39:38.945Z"
   },
   {
    "duration": 3,
    "start_time": "2023-02-19T16:39:38.957Z"
   },
   {
    "duration": 11,
    "start_time": "2023-02-19T16:39:38.962Z"
   },
   {
    "duration": 179,
    "start_time": "2023-02-19T16:39:38.976Z"
   },
   {
    "duration": 5,
    "start_time": "2023-02-19T16:39:39.156Z"
   },
   {
    "duration": 1190,
    "start_time": "2023-02-19T16:39:39.163Z"
   },
   {
    "duration": 23,
    "start_time": "2023-02-19T16:39:40.355Z"
   },
   {
    "duration": 12,
    "start_time": "2023-02-19T16:39:40.380Z"
   },
   {
    "duration": 8,
    "start_time": "2023-02-19T16:39:40.394Z"
   },
   {
    "duration": 35,
    "start_time": "2023-02-19T16:39:40.404Z"
   },
   {
    "duration": 3,
    "start_time": "2023-02-19T16:39:40.441Z"
   },
   {
    "duration": 8,
    "start_time": "2023-02-19T16:39:40.445Z"
   },
   {
    "duration": 4,
    "start_time": "2023-02-19T16:39:40.455Z"
   },
   {
    "duration": 5,
    "start_time": "2023-02-19T16:39:40.461Z"
   },
   {
    "duration": 6,
    "start_time": "2023-02-19T16:39:40.468Z"
   },
   {
    "duration": 11,
    "start_time": "2023-02-19T16:39:40.475Z"
   },
   {
    "duration": 13,
    "start_time": "2023-02-19T16:39:40.487Z"
   },
   {
    "duration": 1737,
    "start_time": "2023-02-19T16:39:40.501Z"
   },
   {
    "duration": 5,
    "start_time": "2023-02-19T16:39:42.240Z"
   },
   {
    "duration": 7,
    "start_time": "2023-02-19T16:39:42.246Z"
   },
   {
    "duration": 6,
    "start_time": "2023-02-19T16:39:42.254Z"
   },
   {
    "duration": 7,
    "start_time": "2023-02-19T16:39:42.263Z"
   },
   {
    "duration": 6,
    "start_time": "2023-02-19T16:39:42.271Z"
   },
   {
    "duration": 20,
    "start_time": "2023-02-19T16:39:42.279Z"
   },
   {
    "duration": 39,
    "start_time": "2023-02-19T16:39:42.301Z"
   },
   {
    "duration": 6,
    "start_time": "2023-02-19T16:39:42.342Z"
   },
   {
    "duration": 5,
    "start_time": "2023-02-19T16:39:42.349Z"
   },
   {
    "duration": 25,
    "start_time": "2023-02-19T16:39:42.355Z"
   },
   {
    "duration": 765,
    "start_time": "2023-02-19T16:39:42.382Z"
   },
   {
    "duration": 18805,
    "start_time": "2023-02-19T16:39:43.149Z"
   },
   {
    "duration": 10589,
    "start_time": "2023-02-19T16:40:01.956Z"
   },
   {
    "duration": 93,
    "start_time": "2023-02-19T16:40:12.548Z"
   },
   {
    "duration": 216,
    "start_time": "2023-02-19T16:40:12.643Z"
   },
   {
    "duration": 115,
    "start_time": "2023-02-19T16:40:12.861Z"
   },
   {
    "duration": 5,
    "start_time": "2023-02-19T16:40:12.977Z"
   },
   {
    "duration": 15,
    "start_time": "2023-02-19T16:40:12.984Z"
   },
   {
    "duration": 6,
    "start_time": "2023-02-19T16:40:13.001Z"
   },
   {
    "duration": 142,
    "start_time": "2023-02-19T16:40:13.009Z"
   },
   {
    "duration": 0,
    "start_time": "2023-02-19T16:40:13.153Z"
   },
   {
    "duration": 14,
    "start_time": "2023-02-19T16:40:45.791Z"
   },
   {
    "duration": 12,
    "start_time": "2023-02-19T16:40:47.499Z"
   },
   {
    "duration": 4,
    "start_time": "2023-02-19T16:44:05.389Z"
   },
   {
    "duration": 12,
    "start_time": "2023-02-19T16:45:27.333Z"
   },
   {
    "duration": 12,
    "start_time": "2023-02-19T16:46:35.870Z"
   },
   {
    "duration": 12,
    "start_time": "2023-02-19T16:48:07.512Z"
   },
   {
    "duration": 13,
    "start_time": "2023-02-19T16:51:18.614Z"
   },
   {
    "duration": 16,
    "start_time": "2023-02-19T16:51:22.180Z"
   },
   {
    "duration": 13,
    "start_time": "2023-02-19T16:51:42.782Z"
   },
   {
    "duration": 12,
    "start_time": "2023-02-19T16:55:07.197Z"
   },
   {
    "duration": 12,
    "start_time": "2023-02-19T16:55:08.856Z"
   },
   {
    "duration": 4,
    "start_time": "2023-02-19T17:17:00.359Z"
   },
   {
    "duration": 1292,
    "start_time": "2023-02-19T17:17:08.791Z"
   },
   {
    "duration": 38,
    "start_time": "2023-02-19T17:17:10.085Z"
   },
   {
    "duration": 17,
    "start_time": "2023-02-19T17:17:10.125Z"
   },
   {
    "duration": 13,
    "start_time": "2023-02-19T17:17:10.144Z"
   },
   {
    "duration": 4,
    "start_time": "2023-02-19T17:17:10.158Z"
   },
   {
    "duration": 196,
    "start_time": "2023-02-19T17:17:10.164Z"
   },
   {
    "duration": 9,
    "start_time": "2023-02-19T17:17:10.362Z"
   },
   {
    "duration": 4,
    "start_time": "2023-02-19T17:17:10.373Z"
   },
   {
    "duration": 9,
    "start_time": "2023-02-19T17:17:10.379Z"
   },
   {
    "duration": 184,
    "start_time": "2023-02-19T17:17:10.390Z"
   },
   {
    "duration": 5,
    "start_time": "2023-02-19T17:17:10.575Z"
   },
   {
    "duration": 1251,
    "start_time": "2023-02-19T17:17:10.582Z"
   },
   {
    "duration": 15,
    "start_time": "2023-02-19T17:17:11.837Z"
   },
   {
    "duration": 12,
    "start_time": "2023-02-19T17:17:11.854Z"
   },
   {
    "duration": 8,
    "start_time": "2023-02-19T17:17:11.867Z"
   },
   {
    "duration": 4,
    "start_time": "2023-02-19T17:17:11.876Z"
   },
   {
    "duration": 4,
    "start_time": "2023-02-19T17:17:11.882Z"
   },
   {
    "duration": 10,
    "start_time": "2023-02-19T17:17:11.887Z"
   },
   {
    "duration": 9,
    "start_time": "2023-02-19T17:17:11.899Z"
   },
   {
    "duration": 28,
    "start_time": "2023-02-19T17:17:11.910Z"
   },
   {
    "duration": 3,
    "start_time": "2023-02-19T17:17:11.940Z"
   },
   {
    "duration": 8,
    "start_time": "2023-02-19T17:17:11.944Z"
   },
   {
    "duration": 12,
    "start_time": "2023-02-19T17:17:11.954Z"
   },
   {
    "duration": 1945,
    "start_time": "2023-02-19T17:17:11.968Z"
   },
   {
    "duration": 5,
    "start_time": "2023-02-19T17:17:13.915Z"
   },
   {
    "duration": 18,
    "start_time": "2023-02-19T17:17:13.922Z"
   },
   {
    "duration": 5,
    "start_time": "2023-02-19T17:17:13.941Z"
   },
   {
    "duration": 6,
    "start_time": "2023-02-19T17:17:13.949Z"
   },
   {
    "duration": 4,
    "start_time": "2023-02-19T17:17:13.957Z"
   },
   {
    "duration": 18,
    "start_time": "2023-02-19T17:17:13.963Z"
   },
   {
    "duration": 11,
    "start_time": "2023-02-19T17:17:13.983Z"
   },
   {
    "duration": 5,
    "start_time": "2023-02-19T17:17:13.996Z"
   },
   {
    "duration": 5,
    "start_time": "2023-02-19T17:17:14.002Z"
   },
   {
    "duration": 33,
    "start_time": "2023-02-19T17:17:14.038Z"
   },
   {
    "duration": 776,
    "start_time": "2023-02-19T17:17:14.072Z"
   },
   {
    "duration": 18387,
    "start_time": "2023-02-19T17:17:14.850Z"
   },
   {
    "duration": 9902,
    "start_time": "2023-02-19T17:17:33.238Z"
   },
   {
    "duration": 99,
    "start_time": "2023-02-19T17:17:43.142Z"
   },
   {
    "duration": 198,
    "start_time": "2023-02-19T17:17:43.242Z"
   },
   {
    "duration": 96,
    "start_time": "2023-02-19T17:17:43.441Z"
   },
   {
    "duration": 4,
    "start_time": "2023-02-19T17:17:43.538Z"
   },
   {
    "duration": 13,
    "start_time": "2023-02-19T17:17:43.544Z"
   },
   {
    "duration": 5,
    "start_time": "2023-02-19T17:17:43.559Z"
   },
   {
    "duration": 13,
    "start_time": "2023-02-19T17:17:43.565Z"
   },
   {
    "duration": 11,
    "start_time": "2023-02-19T17:17:43.579Z"
   },
   {
    "duration": 11,
    "start_time": "2023-02-19T17:17:43.591Z"
   },
   {
    "duration": 761,
    "start_time": "2023-02-19T17:24:20.846Z"
   },
   {
    "duration": 33,
    "start_time": "2023-02-19T17:26:40.900Z"
   },
   {
    "duration": 30,
    "start_time": "2023-02-19T17:28:49.536Z"
   },
   {
    "duration": 18956,
    "start_time": "2023-02-19T17:29:06.955Z"
   },
   {
    "duration": 30687,
    "start_time": "2023-02-19T17:30:40.415Z"
   },
   {
    "duration": 9793,
    "start_time": "2023-02-19T17:31:23.352Z"
   },
   {
    "duration": 1047,
    "start_time": "2023-02-19T17:31:56.100Z"
   },
   {
    "duration": 1313,
    "start_time": "2023-02-19T17:32:34.744Z"
   },
   {
    "duration": 49,
    "start_time": "2023-02-19T17:58:04.425Z"
   },
   {
    "duration": 41,
    "start_time": "2023-02-19T17:58:10.929Z"
   },
   {
    "duration": 112,
    "start_time": "2023-02-19T17:58:20.383Z"
   },
   {
    "duration": 19,
    "start_time": "2023-02-19T17:58:59.866Z"
   },
   {
    "duration": 1550,
    "start_time": "2023-02-19T17:59:08.438Z"
   },
   {
    "duration": 37,
    "start_time": "2023-02-19T17:59:09.990Z"
   },
   {
    "duration": 19,
    "start_time": "2023-02-19T17:59:10.029Z"
   },
   {
    "duration": 15,
    "start_time": "2023-02-19T17:59:10.051Z"
   },
   {
    "duration": 6,
    "start_time": "2023-02-19T17:59:10.068Z"
   },
   {
    "duration": 188,
    "start_time": "2023-02-19T17:59:10.076Z"
   },
   {
    "duration": 9,
    "start_time": "2023-02-19T17:59:10.266Z"
   },
   {
    "duration": 3,
    "start_time": "2023-02-19T17:59:10.277Z"
   },
   {
    "duration": 8,
    "start_time": "2023-02-19T17:59:10.281Z"
   },
   {
    "duration": 190,
    "start_time": "2023-02-19T17:59:10.291Z"
   },
   {
    "duration": 4,
    "start_time": "2023-02-19T17:59:10.483Z"
   },
   {
    "duration": 1264,
    "start_time": "2023-02-19T17:59:10.489Z"
   },
   {
    "duration": 16,
    "start_time": "2023-02-19T17:59:11.755Z"
   },
   {
    "duration": 11,
    "start_time": "2023-02-19T17:59:11.772Z"
   },
   {
    "duration": 8,
    "start_time": "2023-02-19T17:59:11.785Z"
   },
   {
    "duration": 5,
    "start_time": "2023-02-19T17:59:11.794Z"
   },
   {
    "duration": 4,
    "start_time": "2023-02-19T17:59:11.800Z"
   },
   {
    "duration": 33,
    "start_time": "2023-02-19T17:59:11.806Z"
   },
   {
    "duration": 5,
    "start_time": "2023-02-19T17:59:11.841Z"
   },
   {
    "duration": 6,
    "start_time": "2023-02-19T17:59:11.847Z"
   },
   {
    "duration": 6,
    "start_time": "2023-02-19T17:59:11.854Z"
   },
   {
    "duration": 8,
    "start_time": "2023-02-19T17:59:11.861Z"
   },
   {
    "duration": 13,
    "start_time": "2023-02-19T17:59:11.870Z"
   },
   {
    "duration": 1972,
    "start_time": "2023-02-19T17:59:11.884Z"
   },
   {
    "duration": 5,
    "start_time": "2023-02-19T17:59:13.858Z"
   },
   {
    "duration": 8,
    "start_time": "2023-02-19T17:59:13.865Z"
   },
   {
    "duration": 8,
    "start_time": "2023-02-19T17:59:13.875Z"
   },
   {
    "duration": 32,
    "start_time": "2023-02-19T17:59:13.886Z"
   },
   {
    "duration": 6,
    "start_time": "2023-02-19T17:59:13.920Z"
   },
   {
    "duration": 20,
    "start_time": "2023-02-19T17:59:13.927Z"
   },
   {
    "duration": 11,
    "start_time": "2023-02-19T17:59:13.949Z"
   },
   {
    "duration": 8,
    "start_time": "2023-02-19T17:59:13.961Z"
   },
   {
    "duration": 13,
    "start_time": "2023-02-19T17:59:13.972Z"
   },
   {
    "duration": 30,
    "start_time": "2023-02-19T17:59:13.987Z"
   },
   {
    "duration": 797,
    "start_time": "2023-02-19T17:59:14.019Z"
   },
   {
    "duration": 18395,
    "start_time": "2023-02-19T17:59:14.818Z"
   },
   {
    "duration": 9728,
    "start_time": "2023-02-19T17:59:33.215Z"
   },
   {
    "duration": 94,
    "start_time": "2023-02-19T17:59:42.944Z"
   },
   {
    "duration": 220,
    "start_time": "2023-02-19T17:59:43.040Z"
   },
   {
    "duration": 102,
    "start_time": "2023-02-19T17:59:43.262Z"
   },
   {
    "duration": 5,
    "start_time": "2023-02-19T17:59:43.365Z"
   },
   {
    "duration": 13,
    "start_time": "2023-02-19T17:59:43.371Z"
   },
   {
    "duration": 6,
    "start_time": "2023-02-19T17:59:43.385Z"
   },
   {
    "duration": 11,
    "start_time": "2023-02-19T17:59:43.392Z"
   },
   {
    "duration": 39,
    "start_time": "2023-02-19T17:59:43.405Z"
   },
   {
    "duration": 11,
    "start_time": "2023-02-19T17:59:43.446Z"
   },
   {
    "duration": 1318,
    "start_time": "2023-02-19T17:59:43.459Z"
   },
   {
    "duration": 31294,
    "start_time": "2023-02-19T17:59:44.779Z"
   },
   {
    "duration": 10867,
    "start_time": "2023-02-19T18:00:16.075Z"
   },
   {
    "duration": 193,
    "start_time": "2023-02-19T18:00:26.944Z"
   },
   {
    "duration": 401,
    "start_time": "2023-02-19T18:00:27.139Z"
   },
   {
    "duration": 46,
    "start_time": "2023-02-19T18:08:44.458Z"
   },
   {
    "duration": 114,
    "start_time": "2023-02-19T18:08:50.767Z"
   },
   {
    "duration": 115,
    "start_time": "2023-02-19T18:12:20.569Z"
   },
   {
    "duration": 62,
    "start_time": "2023-02-19T18:15:03.270Z"
   },
   {
    "duration": 53,
    "start_time": "2023-02-19T18:15:09.079Z"
   },
   {
    "duration": 49,
    "start_time": "2023-02-19T18:15:21.613Z"
   },
   {
    "duration": 20,
    "start_time": "2023-02-19T18:15:29.063Z"
   },
   {
    "duration": 169,
    "start_time": "2023-02-19T18:16:21.301Z"
   },
   {
    "duration": 189,
    "start_time": "2023-02-19T18:16:29.864Z"
   },
   {
    "duration": 272,
    "start_time": "2023-02-19T18:16:46.024Z"
   },
   {
    "duration": 400,
    "start_time": "2023-02-19T18:20:10.724Z"
   },
   {
    "duration": 458,
    "start_time": "2023-02-19T18:20:30.964Z"
   },
   {
    "duration": 290,
    "start_time": "2023-02-19T18:20:46.792Z"
   },
   {
    "duration": 196,
    "start_time": "2023-02-19T18:21:45.404Z"
   },
   {
    "duration": 214,
    "start_time": "2023-02-19T18:21:56.695Z"
   },
   {
    "duration": 6,
    "start_time": "2023-02-19T18:24:01.932Z"
   },
   {
    "duration": 7,
    "start_time": "2023-02-19T18:26:51.744Z"
   },
   {
    "duration": 1286,
    "start_time": "2023-02-19T18:32:27.666Z"
   },
   {
    "duration": 36,
    "start_time": "2023-02-19T18:32:28.954Z"
   },
   {
    "duration": 18,
    "start_time": "2023-02-19T18:32:28.992Z"
   },
   {
    "duration": 12,
    "start_time": "2023-02-19T18:32:29.012Z"
   },
   {
    "duration": 6,
    "start_time": "2023-02-19T18:32:29.026Z"
   },
   {
    "duration": 172,
    "start_time": "2023-02-19T18:32:29.034Z"
   },
   {
    "duration": 9,
    "start_time": "2023-02-19T18:32:29.208Z"
   },
   {
    "duration": 3,
    "start_time": "2023-02-19T18:32:29.218Z"
   },
   {
    "duration": 5,
    "start_time": "2023-02-19T18:32:29.237Z"
   },
   {
    "duration": 173,
    "start_time": "2023-02-19T18:32:29.245Z"
   },
   {
    "duration": 5,
    "start_time": "2023-02-19T18:32:29.420Z"
   },
   {
    "duration": 1213,
    "start_time": "2023-02-19T18:32:29.426Z"
   },
   {
    "duration": 17,
    "start_time": "2023-02-19T18:32:30.641Z"
   },
   {
    "duration": 20,
    "start_time": "2023-02-19T18:32:30.659Z"
   },
   {
    "duration": 18,
    "start_time": "2023-02-19T18:32:30.681Z"
   },
   {
    "duration": 30,
    "start_time": "2023-02-19T18:32:30.700Z"
   },
   {
    "duration": 18,
    "start_time": "2023-02-19T18:32:30.732Z"
   },
   {
    "duration": 33,
    "start_time": "2023-02-19T18:32:30.752Z"
   },
   {
    "duration": 13,
    "start_time": "2023-02-19T18:32:30.787Z"
   },
   {
    "duration": 19,
    "start_time": "2023-02-19T18:32:30.801Z"
   },
   {
    "duration": 23,
    "start_time": "2023-02-19T18:32:30.821Z"
   },
   {
    "duration": 7,
    "start_time": "2023-02-19T18:32:30.846Z"
   },
   {
    "duration": 15,
    "start_time": "2023-02-19T18:32:30.855Z"
   },
   {
    "duration": 1761,
    "start_time": "2023-02-19T18:32:30.871Z"
   },
   {
    "duration": 7,
    "start_time": "2023-02-19T18:32:32.635Z"
   },
   {
    "duration": 9,
    "start_time": "2023-02-19T18:32:32.644Z"
   },
   {
    "duration": 6,
    "start_time": "2023-02-19T18:32:32.655Z"
   },
   {
    "duration": 13,
    "start_time": "2023-02-19T18:32:32.666Z"
   },
   {
    "duration": 5,
    "start_time": "2023-02-19T18:32:32.681Z"
   },
   {
    "duration": 19,
    "start_time": "2023-02-19T18:32:32.688Z"
   },
   {
    "duration": 36,
    "start_time": "2023-02-19T18:32:32.708Z"
   },
   {
    "duration": 4,
    "start_time": "2023-02-19T18:32:32.746Z"
   },
   {
    "duration": 5,
    "start_time": "2023-02-19T18:32:32.751Z"
   },
   {
    "duration": 28,
    "start_time": "2023-02-19T18:32:32.757Z"
   },
   {
    "duration": 746,
    "start_time": "2023-02-19T18:32:32.786Z"
   },
   {
    "duration": 17902,
    "start_time": "2023-02-19T18:32:33.536Z"
   },
   {
    "duration": 10400,
    "start_time": "2023-02-19T18:32:51.440Z"
   },
   {
    "duration": 96,
    "start_time": "2023-02-19T18:33:01.842Z"
   },
   {
    "duration": 221,
    "start_time": "2023-02-19T18:33:01.941Z"
   },
   {
    "duration": 142,
    "start_time": "2023-02-19T18:33:02.164Z"
   },
   {
    "duration": 6,
    "start_time": "2023-02-19T18:33:02.307Z"
   },
   {
    "duration": 30,
    "start_time": "2023-02-19T18:33:02.315Z"
   },
   {
    "duration": 7,
    "start_time": "2023-02-19T18:33:02.347Z"
   },
   {
    "duration": 22,
    "start_time": "2023-02-19T18:33:02.356Z"
   },
   {
    "duration": 13,
    "start_time": "2023-02-19T18:33:02.380Z"
   },
   {
    "duration": 64,
    "start_time": "2023-02-19T18:33:02.396Z"
   },
   {
    "duration": 284,
    "start_time": "2023-02-19T18:33:02.462Z"
   },
   {
    "duration": 1422,
    "start_time": "2023-02-19T18:33:02.748Z"
   },
   {
    "duration": 33466,
    "start_time": "2023-02-19T18:33:04.172Z"
   },
   {
    "duration": 10407,
    "start_time": "2023-02-19T18:33:37.639Z"
   },
   {
    "duration": 421,
    "start_time": "2023-02-19T18:33:48.048Z"
   },
   {
    "duration": 5,
    "start_time": "2023-02-19T18:33:48.471Z"
   },
   {
    "duration": 13,
    "start_time": "2023-02-19T18:33:48.478Z"
   },
   {
    "duration": 32221,
    "start_time": "2023-02-19T18:33:48.493Z"
   },
   {
    "duration": 5,
    "start_time": "2023-02-19T18:35:33.057Z"
   },
   {
    "duration": 1331,
    "start_time": "2023-02-19T18:35:38.813Z"
   },
   {
    "duration": 36,
    "start_time": "2023-02-19T18:35:40.146Z"
   },
   {
    "duration": 16,
    "start_time": "2023-02-19T18:35:40.184Z"
   },
   {
    "duration": 11,
    "start_time": "2023-02-19T18:35:40.202Z"
   },
   {
    "duration": 4,
    "start_time": "2023-02-19T18:35:40.216Z"
   },
   {
    "duration": 179,
    "start_time": "2023-02-19T18:35:40.222Z"
   },
   {
    "duration": 10,
    "start_time": "2023-02-19T18:35:40.403Z"
   },
   {
    "duration": 4,
    "start_time": "2023-02-19T18:35:40.414Z"
   },
   {
    "duration": 21,
    "start_time": "2023-02-19T18:35:40.420Z"
   },
   {
    "duration": 171,
    "start_time": "2023-02-19T18:35:40.442Z"
   },
   {
    "duration": 5,
    "start_time": "2023-02-19T18:35:40.615Z"
   },
   {
    "duration": 1213,
    "start_time": "2023-02-19T18:35:40.622Z"
   },
   {
    "duration": 16,
    "start_time": "2023-02-19T18:35:41.836Z"
   },
   {
    "duration": 10,
    "start_time": "2023-02-19T18:35:41.855Z"
   },
   {
    "duration": 7,
    "start_time": "2023-02-19T18:35:41.867Z"
   },
   {
    "duration": 5,
    "start_time": "2023-02-19T18:35:41.875Z"
   },
   {
    "duration": 4,
    "start_time": "2023-02-19T18:35:41.881Z"
   },
   {
    "duration": 8,
    "start_time": "2023-02-19T18:35:41.886Z"
   },
   {
    "duration": 4,
    "start_time": "2023-02-19T18:35:41.896Z"
   },
   {
    "duration": 37,
    "start_time": "2023-02-19T18:35:41.902Z"
   },
   {
    "duration": 4,
    "start_time": "2023-02-19T18:35:41.940Z"
   },
   {
    "duration": 8,
    "start_time": "2023-02-19T18:35:41.946Z"
   },
   {
    "duration": 15,
    "start_time": "2023-02-19T18:35:41.956Z"
   },
   {
    "duration": 1738,
    "start_time": "2023-02-19T18:35:41.972Z"
   },
   {
    "duration": 6,
    "start_time": "2023-02-19T18:35:43.712Z"
   },
   {
    "duration": 20,
    "start_time": "2023-02-19T18:35:43.719Z"
   },
   {
    "duration": 4,
    "start_time": "2023-02-19T18:35:43.741Z"
   },
   {
    "duration": 9,
    "start_time": "2023-02-19T18:35:43.746Z"
   },
   {
    "duration": 4,
    "start_time": "2023-02-19T18:35:43.757Z"
   },
   {
    "duration": 17,
    "start_time": "2023-02-19T18:35:43.763Z"
   },
   {
    "duration": 10,
    "start_time": "2023-02-19T18:35:43.782Z"
   },
   {
    "duration": 7,
    "start_time": "2023-02-19T18:35:43.794Z"
   },
   {
    "duration": 5,
    "start_time": "2023-02-19T18:35:43.803Z"
   },
   {
    "duration": 52,
    "start_time": "2023-02-19T18:35:43.809Z"
   },
   {
    "duration": 718,
    "start_time": "2023-02-19T18:35:43.863Z"
   },
   {
    "duration": 18508,
    "start_time": "2023-02-19T18:35:44.583Z"
   },
   {
    "duration": 9948,
    "start_time": "2023-02-19T18:36:03.093Z"
   },
   {
    "duration": 198,
    "start_time": "2023-02-19T18:36:13.043Z"
   },
   {
    "duration": 141,
    "start_time": "2023-02-19T18:36:13.244Z"
   },
   {
    "duration": 114,
    "start_time": "2023-02-19T18:36:13.387Z"
   },
   {
    "duration": 5,
    "start_time": "2023-02-19T18:36:13.505Z"
   },
   {
    "duration": 33,
    "start_time": "2023-02-19T18:36:13.511Z"
   },
   {
    "duration": 5,
    "start_time": "2023-02-19T18:36:13.546Z"
   },
   {
    "duration": 17,
    "start_time": "2023-02-19T18:36:13.553Z"
   },
   {
    "duration": 13,
    "start_time": "2023-02-19T18:36:13.572Z"
   },
   {
    "duration": 14,
    "start_time": "2023-02-19T18:36:13.587Z"
   },
   {
    "duration": 288,
    "start_time": "2023-02-19T18:36:13.603Z"
   },
   {
    "duration": 6,
    "start_time": "2023-02-19T18:36:13.893Z"
   },
   {
    "duration": 1410,
    "start_time": "2023-02-19T18:36:13.901Z"
   },
   {
    "duration": 32573,
    "start_time": "2023-02-19T18:36:15.313Z"
   },
   {
    "duration": 10361,
    "start_time": "2023-02-19T18:36:47.888Z"
   },
   {
    "duration": 326,
    "start_time": "2023-02-19T18:36:58.337Z"
   },
   {
    "duration": 6,
    "start_time": "2023-02-19T18:36:58.665Z"
   },
   {
    "duration": 15,
    "start_time": "2023-02-19T18:36:58.673Z"
   },
   {
    "duration": 33403,
    "start_time": "2023-02-19T18:36:58.690Z"
   },
   {
    "duration": 13,
    "start_time": "2023-02-19T18:44:40.963Z"
   },
   {
    "duration": 150,
    "start_time": "2023-02-19T18:45:02.419Z"
   },
   {
    "duration": 40152,
    "start_time": "2023-02-19T18:50:31.533Z"
   },
   {
    "duration": 220,
    "start_time": "2023-02-19T18:53:15.417Z"
   },
   {
    "duration": 5,
    "start_time": "2023-02-19T18:53:18.570Z"
   },
   {
    "duration": 23,
    "start_time": "2023-02-19T18:55:58.359Z"
   },
   {
    "duration": 33,
    "start_time": "2023-02-19T18:56:25.332Z"
   },
   {
    "duration": 44,
    "start_time": "2023-02-19T18:57:18.303Z"
   },
   {
    "duration": 20,
    "start_time": "2023-02-19T18:57:24.039Z"
   },
   {
    "duration": 1253,
    "start_time": "2023-02-19T19:03:49.887Z"
   },
   {
    "duration": 36,
    "start_time": "2023-02-19T19:03:51.142Z"
   },
   {
    "duration": 18,
    "start_time": "2023-02-19T19:03:51.179Z"
   },
   {
    "duration": 12,
    "start_time": "2023-02-19T19:03:51.199Z"
   },
   {
    "duration": 5,
    "start_time": "2023-02-19T19:03:51.213Z"
   },
   {
    "duration": 171,
    "start_time": "2023-02-19T19:03:51.219Z"
   },
   {
    "duration": 8,
    "start_time": "2023-02-19T19:03:51.392Z"
   },
   {
    "duration": 3,
    "start_time": "2023-02-19T19:03:51.401Z"
   },
   {
    "duration": 6,
    "start_time": "2023-02-19T19:03:51.406Z"
   },
   {
    "duration": 181,
    "start_time": "2023-02-19T19:03:51.414Z"
   },
   {
    "duration": 4,
    "start_time": "2023-02-19T19:03:51.597Z"
   },
   {
    "duration": 1286,
    "start_time": "2023-02-19T19:03:51.603Z"
   },
   {
    "duration": 16,
    "start_time": "2023-02-19T19:03:52.890Z"
   },
   {
    "duration": 10,
    "start_time": "2023-02-19T19:03:52.908Z"
   },
   {
    "duration": 21,
    "start_time": "2023-02-19T19:03:52.920Z"
   },
   {
    "duration": 6,
    "start_time": "2023-02-19T19:03:52.943Z"
   },
   {
    "duration": 4,
    "start_time": "2023-02-19T19:03:52.951Z"
   },
   {
    "duration": 9,
    "start_time": "2023-02-19T19:03:52.956Z"
   },
   {
    "duration": 5,
    "start_time": "2023-02-19T19:03:52.967Z"
   },
   {
    "duration": 9,
    "start_time": "2023-02-19T19:03:52.973Z"
   },
   {
    "duration": 7,
    "start_time": "2023-02-19T19:03:52.984Z"
   },
   {
    "duration": 5,
    "start_time": "2023-02-19T19:03:52.993Z"
   },
   {
    "duration": 13,
    "start_time": "2023-02-19T19:03:53.000Z"
   },
   {
    "duration": 1740,
    "start_time": "2023-02-19T19:03:53.014Z"
   },
   {
    "duration": 5,
    "start_time": "2023-02-19T19:03:54.755Z"
   },
   {
    "duration": 6,
    "start_time": "2023-02-19T19:03:54.762Z"
   },
   {
    "duration": 4,
    "start_time": "2023-02-19T19:03:54.769Z"
   },
   {
    "duration": 5,
    "start_time": "2023-02-19T19:03:54.776Z"
   },
   {
    "duration": 6,
    "start_time": "2023-02-19T19:03:54.782Z"
   },
   {
    "duration": 20,
    "start_time": "2023-02-19T19:03:54.789Z"
   },
   {
    "duration": 34,
    "start_time": "2023-02-19T19:03:54.811Z"
   },
   {
    "duration": 5,
    "start_time": "2023-02-19T19:03:54.846Z"
   },
   {
    "duration": 5,
    "start_time": "2023-02-19T19:03:54.852Z"
   },
   {
    "duration": 26,
    "start_time": "2023-02-19T19:03:54.858Z"
   },
   {
    "duration": 772,
    "start_time": "2023-02-19T19:03:54.885Z"
   },
   {
    "duration": 18803,
    "start_time": "2023-02-19T19:03:55.659Z"
   },
   {
    "duration": 10880,
    "start_time": "2023-02-19T19:04:14.464Z"
   },
   {
    "duration": 98,
    "start_time": "2023-02-19T19:04:25.348Z"
   },
   {
    "duration": 141,
    "start_time": "2023-02-19T19:04:25.537Z"
   },
   {
    "duration": 112,
    "start_time": "2023-02-19T19:04:25.681Z"
   },
   {
    "duration": 6,
    "start_time": "2023-02-19T19:04:25.795Z"
   },
   {
    "duration": 30,
    "start_time": "2023-02-19T19:04:25.802Z"
   },
   {
    "duration": 10,
    "start_time": "2023-02-19T19:04:25.836Z"
   },
   {
    "duration": 15,
    "start_time": "2023-02-19T19:04:25.847Z"
   },
   {
    "duration": 11,
    "start_time": "2023-02-19T19:04:25.864Z"
   },
   {
    "duration": 12,
    "start_time": "2023-02-19T19:04:25.877Z"
   },
   {
    "duration": 277,
    "start_time": "2023-02-19T19:04:25.890Z"
   },
   {
    "duration": 5,
    "start_time": "2023-02-19T19:04:26.168Z"
   },
   {
    "duration": 1380,
    "start_time": "2023-02-19T19:04:26.175Z"
   },
   {
    "duration": 31585,
    "start_time": "2023-02-19T19:04:27.557Z"
   },
   {
    "duration": 10698,
    "start_time": "2023-02-19T19:04:59.144Z"
   },
   {
    "duration": 434,
    "start_time": "2023-02-19T19:05:09.844Z"
   },
   {
    "duration": 6,
    "start_time": "2023-02-19T19:05:10.279Z"
   },
   {
    "duration": 88,
    "start_time": "2023-02-19T19:05:10.286Z"
   },
   {
    "duration": 5,
    "start_time": "2023-02-19T19:05:10.376Z"
   },
   {
    "duration": 64,
    "start_time": "2023-02-19T19:05:10.383Z"
   },
   {
    "duration": 212,
    "start_time": "2023-02-19T19:05:10.449Z"
   },
   {
    "duration": 32045,
    "start_time": "2023-02-19T19:05:10.663Z"
   },
   {
    "duration": 223,
    "start_time": "2023-02-19T19:05:42.709Z"
   },
   {
    "duration": 25,
    "start_time": "2023-02-19T19:05:42.934Z"
   },
   {
    "duration": 101290,
    "start_time": "2023-02-19T19:06:42.438Z"
   },
   {
    "duration": 1337,
    "start_time": "2023-02-19T19:08:42.816Z"
   },
   {
    "duration": 38,
    "start_time": "2023-02-19T19:08:44.155Z"
   },
   {
    "duration": 18,
    "start_time": "2023-02-19T19:08:44.195Z"
   },
   {
    "duration": 12,
    "start_time": "2023-02-19T19:08:44.215Z"
   },
   {
    "duration": 11,
    "start_time": "2023-02-19T19:08:44.228Z"
   },
   {
    "duration": 174,
    "start_time": "2023-02-19T19:08:44.241Z"
   },
   {
    "duration": 7,
    "start_time": "2023-02-19T19:08:44.417Z"
   },
   {
    "duration": 12,
    "start_time": "2023-02-19T19:08:44.426Z"
   },
   {
    "duration": 6,
    "start_time": "2023-02-19T19:08:44.439Z"
   },
   {
    "duration": 172,
    "start_time": "2023-02-19T19:08:44.447Z"
   },
   {
    "duration": 4,
    "start_time": "2023-02-19T19:08:44.621Z"
   },
   {
    "duration": 1231,
    "start_time": "2023-02-19T19:08:44.627Z"
   },
   {
    "duration": 18,
    "start_time": "2023-02-19T19:08:45.860Z"
   },
   {
    "duration": 11,
    "start_time": "2023-02-19T19:08:45.880Z"
   },
   {
    "duration": 8,
    "start_time": "2023-02-19T19:08:45.892Z"
   },
   {
    "duration": 4,
    "start_time": "2023-02-19T19:08:45.902Z"
   },
   {
    "duration": 30,
    "start_time": "2023-02-19T19:08:45.907Z"
   },
   {
    "duration": 6,
    "start_time": "2023-02-19T19:08:45.939Z"
   },
   {
    "duration": 4,
    "start_time": "2023-02-19T19:08:45.947Z"
   },
   {
    "duration": 10,
    "start_time": "2023-02-19T19:08:45.953Z"
   },
   {
    "duration": 6,
    "start_time": "2023-02-19T19:08:45.964Z"
   },
   {
    "duration": 7,
    "start_time": "2023-02-19T19:08:45.971Z"
   },
   {
    "duration": 18,
    "start_time": "2023-02-19T19:08:45.979Z"
   },
   {
    "duration": 1748,
    "start_time": "2023-02-19T19:08:45.999Z"
   },
   {
    "duration": 6,
    "start_time": "2023-02-19T19:08:47.748Z"
   },
   {
    "duration": 23,
    "start_time": "2023-02-19T19:08:47.755Z"
   },
   {
    "duration": 7,
    "start_time": "2023-02-19T19:08:47.779Z"
   },
   {
    "duration": 8,
    "start_time": "2023-02-19T19:08:47.789Z"
   },
   {
    "duration": 5,
    "start_time": "2023-02-19T19:08:47.798Z"
   },
   {
    "duration": 18,
    "start_time": "2023-02-19T19:08:47.804Z"
   },
   {
    "duration": 21,
    "start_time": "2023-02-19T19:08:47.824Z"
   },
   {
    "duration": 5,
    "start_time": "2023-02-19T19:08:47.846Z"
   },
   {
    "duration": 7,
    "start_time": "2023-02-19T19:08:47.852Z"
   },
   {
    "duration": 27,
    "start_time": "2023-02-19T19:08:47.860Z"
   },
   {
    "duration": 759,
    "start_time": "2023-02-19T19:08:47.888Z"
   },
   {
    "duration": 18284,
    "start_time": "2023-02-19T19:08:48.649Z"
   },
   {
    "duration": 11406,
    "start_time": "2023-02-19T19:09:06.936Z"
   },
   {
    "duration": 97,
    "start_time": "2023-02-19T19:09:18.344Z"
   },
   {
    "duration": 201,
    "start_time": "2023-02-19T19:09:18.442Z"
   },
   {
    "duration": 107,
    "start_time": "2023-02-19T19:09:18.645Z"
   },
   {
    "duration": 5,
    "start_time": "2023-02-19T19:09:18.753Z"
   },
   {
    "duration": 21,
    "start_time": "2023-02-19T19:09:18.759Z"
   },
   {
    "duration": 5,
    "start_time": "2023-02-19T19:09:18.782Z"
   },
   {
    "duration": 15,
    "start_time": "2023-02-19T19:09:18.788Z"
   },
   {
    "duration": 11,
    "start_time": "2023-02-19T19:09:18.805Z"
   },
   {
    "duration": 30,
    "start_time": "2023-02-19T19:09:18.817Z"
   },
   {
    "duration": 237,
    "start_time": "2023-02-19T19:09:18.849Z"
   },
   {
    "duration": 6,
    "start_time": "2023-02-19T19:09:19.087Z"
   },
   {
    "duration": 1358,
    "start_time": "2023-02-19T19:09:19.094Z"
   },
   {
    "duration": 31366,
    "start_time": "2023-02-19T19:09:20.453Z"
   },
   {
    "duration": 10126,
    "start_time": "2023-02-19T19:09:51.821Z"
   },
   {
    "duration": 327,
    "start_time": "2023-02-19T19:10:02.042Z"
   },
   {
    "duration": 6,
    "start_time": "2023-02-19T19:10:02.370Z"
   },
   {
    "duration": 29,
    "start_time": "2023-02-19T19:10:02.377Z"
   },
   {
    "duration": 12,
    "start_time": "2023-02-19T19:10:02.408Z"
   },
   {
    "duration": 35,
    "start_time": "2023-02-19T19:10:02.422Z"
   },
   {
    "duration": 149,
    "start_time": "2023-02-19T19:10:02.460Z"
   },
   {
    "duration": 162497,
    "start_time": "2023-02-19T19:10:02.612Z"
   },
   {
    "duration": 235,
    "start_time": "2023-02-19T19:12:45.111Z"
   },
   {
    "duration": 34,
    "start_time": "2023-02-19T19:12:45.348Z"
   },
   {
    "duration": 14,
    "start_time": "2023-02-19T19:32:56.043Z"
   },
   {
    "duration": 20,
    "start_time": "2023-02-19T19:33:05.213Z"
   },
   {
    "duration": 130,
    "start_time": "2023-02-19T19:33:06.871Z"
   },
   {
    "duration": 103,
    "start_time": "2023-02-19T19:34:36.059Z"
   },
   {
    "duration": 12,
    "start_time": "2023-02-19T19:34:40.996Z"
   },
   {
    "duration": 166,
    "start_time": "2023-02-19T19:34:42.483Z"
   },
   {
    "duration": 1743,
    "start_time": "2023-02-19T19:34:50.561Z"
   },
   {
    "duration": 36,
    "start_time": "2023-02-19T19:34:52.306Z"
   },
   {
    "duration": 18,
    "start_time": "2023-02-19T19:34:52.344Z"
   },
   {
    "duration": 15,
    "start_time": "2023-02-19T19:34:52.364Z"
   },
   {
    "duration": 10,
    "start_time": "2023-02-19T19:34:52.381Z"
   },
   {
    "duration": 219,
    "start_time": "2023-02-19T19:34:52.394Z"
   },
   {
    "duration": 10,
    "start_time": "2023-02-19T19:34:52.615Z"
   },
   {
    "duration": 12,
    "start_time": "2023-02-19T19:34:52.626Z"
   },
   {
    "duration": 15,
    "start_time": "2023-02-19T19:34:52.640Z"
   },
   {
    "duration": 160,
    "start_time": "2023-02-19T19:34:52.656Z"
   },
   {
    "duration": 5,
    "start_time": "2023-02-19T19:34:52.818Z"
   },
   {
    "duration": 1193,
    "start_time": "2023-02-19T19:34:52.824Z"
   },
   {
    "duration": 23,
    "start_time": "2023-02-19T19:34:54.019Z"
   },
   {
    "duration": 14,
    "start_time": "2023-02-19T19:34:54.045Z"
   },
   {
    "duration": 8,
    "start_time": "2023-02-19T19:34:54.061Z"
   },
   {
    "duration": 5,
    "start_time": "2023-02-19T19:34:54.070Z"
   },
   {
    "duration": 4,
    "start_time": "2023-02-19T19:34:54.076Z"
   },
   {
    "duration": 9,
    "start_time": "2023-02-19T19:34:54.082Z"
   },
   {
    "duration": 15,
    "start_time": "2023-02-19T19:34:54.092Z"
   },
   {
    "duration": 8,
    "start_time": "2023-02-19T19:34:54.109Z"
   },
   {
    "duration": 6,
    "start_time": "2023-02-19T19:34:54.137Z"
   },
   {
    "duration": 6,
    "start_time": "2023-02-19T19:34:54.145Z"
   },
   {
    "duration": 18,
    "start_time": "2023-02-19T19:34:54.153Z"
   },
   {
    "duration": 1686,
    "start_time": "2023-02-19T19:34:54.172Z"
   },
   {
    "duration": 7,
    "start_time": "2023-02-19T19:34:55.860Z"
   },
   {
    "duration": 6,
    "start_time": "2023-02-19T19:34:55.869Z"
   },
   {
    "duration": 5,
    "start_time": "2023-02-19T19:34:55.876Z"
   },
   {
    "duration": 10,
    "start_time": "2023-02-19T19:34:55.883Z"
   },
   {
    "duration": 7,
    "start_time": "2023-02-19T19:34:55.894Z"
   },
   {
    "duration": 39,
    "start_time": "2023-02-19T19:34:55.903Z"
   },
   {
    "duration": 11,
    "start_time": "2023-02-19T19:34:55.944Z"
   },
   {
    "duration": 11,
    "start_time": "2023-02-19T19:34:55.956Z"
   },
   {
    "duration": 21,
    "start_time": "2023-02-19T19:34:55.968Z"
   },
   {
    "duration": 30,
    "start_time": "2023-02-19T19:34:55.991Z"
   },
   {
    "duration": 732,
    "start_time": "2023-02-19T19:34:56.022Z"
   },
   {
    "duration": 18383,
    "start_time": "2023-02-19T19:34:56.756Z"
   },
   {
    "duration": 9902,
    "start_time": "2023-02-19T19:35:15.140Z"
   },
   {
    "duration": 101,
    "start_time": "2023-02-19T19:35:25.044Z"
   },
   {
    "duration": 197,
    "start_time": "2023-02-19T19:35:25.151Z"
   },
   {
    "duration": 100,
    "start_time": "2023-02-19T19:35:25.350Z"
   },
   {
    "duration": 4,
    "start_time": "2023-02-19T19:35:25.454Z"
   },
   {
    "duration": 14,
    "start_time": "2023-02-19T19:35:25.460Z"
   },
   {
    "duration": 5,
    "start_time": "2023-02-19T19:35:25.475Z"
   },
   {
    "duration": 15,
    "start_time": "2023-02-19T19:35:25.481Z"
   },
   {
    "duration": 12,
    "start_time": "2023-02-19T19:35:25.497Z"
   },
   {
    "duration": 35,
    "start_time": "2023-02-19T19:35:25.510Z"
   },
   {
    "duration": 252,
    "start_time": "2023-02-19T19:35:25.547Z"
   },
   {
    "duration": 6,
    "start_time": "2023-02-19T19:35:25.800Z"
   },
   {
    "duration": 1291,
    "start_time": "2023-02-19T19:35:25.807Z"
   },
   {
    "duration": 30196,
    "start_time": "2023-02-19T19:35:27.099Z"
   },
   {
    "duration": 10048,
    "start_time": "2023-02-19T19:35:57.296Z"
   },
   {
    "duration": 393,
    "start_time": "2023-02-19T19:36:07.346Z"
   },
   {
    "duration": 6,
    "start_time": "2023-02-19T19:36:07.740Z"
   },
   {
    "duration": 26,
    "start_time": "2023-02-19T19:36:07.747Z"
   },
   {
    "duration": 4,
    "start_time": "2023-02-19T19:36:07.774Z"
   },
   {
    "duration": 13,
    "start_time": "2023-02-19T19:36:07.780Z"
   },
   {
    "duration": 130,
    "start_time": "2023-02-19T19:36:07.794Z"
   },
   {
    "duration": 1276,
    "start_time": "2023-02-19T19:38:24.071Z"
   },
   {
    "duration": 48,
    "start_time": "2023-02-19T19:38:25.349Z"
   },
   {
    "duration": 17,
    "start_time": "2023-02-19T19:38:25.399Z"
   },
   {
    "duration": 12,
    "start_time": "2023-02-19T19:38:25.418Z"
   },
   {
    "duration": 5,
    "start_time": "2023-02-19T19:38:25.431Z"
   },
   {
    "duration": 185,
    "start_time": "2023-02-19T19:38:25.438Z"
   },
   {
    "duration": 13,
    "start_time": "2023-02-19T19:38:25.625Z"
   },
   {
    "duration": 5,
    "start_time": "2023-02-19T19:38:25.639Z"
   },
   {
    "duration": 6,
    "start_time": "2023-02-19T19:38:25.645Z"
   },
   {
    "duration": 178,
    "start_time": "2023-02-19T19:38:25.652Z"
   },
   {
    "duration": 8,
    "start_time": "2023-02-19T19:38:25.831Z"
   },
   {
    "duration": 1192,
    "start_time": "2023-02-19T19:38:25.840Z"
   },
   {
    "duration": 20,
    "start_time": "2023-02-19T19:38:27.033Z"
   },
   {
    "duration": 10,
    "start_time": "2023-02-19T19:38:27.056Z"
   },
   {
    "duration": 7,
    "start_time": "2023-02-19T19:38:27.068Z"
   },
   {
    "duration": 7,
    "start_time": "2023-02-19T19:38:27.076Z"
   },
   {
    "duration": 3,
    "start_time": "2023-02-19T19:38:27.084Z"
   },
   {
    "duration": 6,
    "start_time": "2023-02-19T19:38:27.088Z"
   },
   {
    "duration": 8,
    "start_time": "2023-02-19T19:38:27.095Z"
   },
   {
    "duration": 5,
    "start_time": "2023-02-19T19:38:27.105Z"
   },
   {
    "duration": 4,
    "start_time": "2023-02-19T19:38:27.137Z"
   },
   {
    "duration": 9,
    "start_time": "2023-02-19T19:38:27.142Z"
   },
   {
    "duration": 12,
    "start_time": "2023-02-19T19:38:27.152Z"
   },
   {
    "duration": 1604,
    "start_time": "2023-02-19T19:38:27.166Z"
   },
   {
    "duration": 5,
    "start_time": "2023-02-19T19:38:28.771Z"
   },
   {
    "duration": 7,
    "start_time": "2023-02-19T19:38:28.777Z"
   },
   {
    "duration": 4,
    "start_time": "2023-02-19T19:38:28.786Z"
   },
   {
    "duration": 13,
    "start_time": "2023-02-19T19:38:28.791Z"
   },
   {
    "duration": 5,
    "start_time": "2023-02-19T19:38:28.805Z"
   },
   {
    "duration": 32,
    "start_time": "2023-02-19T19:38:28.811Z"
   },
   {
    "duration": 9,
    "start_time": "2023-02-19T19:38:28.845Z"
   },
   {
    "duration": 7,
    "start_time": "2023-02-19T19:38:28.855Z"
   },
   {
    "duration": 4,
    "start_time": "2023-02-19T19:38:28.864Z"
   },
   {
    "duration": 26,
    "start_time": "2023-02-19T19:38:28.869Z"
   },
   {
    "duration": 713,
    "start_time": "2023-02-19T19:38:28.897Z"
   },
   {
    "duration": 17539,
    "start_time": "2023-02-19T19:38:29.612Z"
   },
   {
    "duration": 10088,
    "start_time": "2023-02-19T19:38:47.152Z"
   },
   {
    "duration": 97,
    "start_time": "2023-02-19T19:38:57.241Z"
   },
   {
    "duration": 206,
    "start_time": "2023-02-19T19:38:57.341Z"
   },
   {
    "duration": 103,
    "start_time": "2023-02-19T19:38:57.549Z"
   },
   {
    "duration": 4,
    "start_time": "2023-02-19T19:38:57.656Z"
   },
   {
    "duration": 14,
    "start_time": "2023-02-19T19:38:57.662Z"
   },
   {
    "duration": 5,
    "start_time": "2023-02-19T19:38:57.677Z"
   },
   {
    "duration": 20,
    "start_time": "2023-02-19T19:38:57.684Z"
   },
   {
    "duration": 36,
    "start_time": "2023-02-19T19:38:57.705Z"
   },
   {
    "duration": 12,
    "start_time": "2023-02-19T19:38:57.742Z"
   },
   {
    "duration": 241,
    "start_time": "2023-02-19T19:38:57.756Z"
   },
   {
    "duration": 6,
    "start_time": "2023-02-19T19:38:57.998Z"
   },
   {
    "duration": 1282,
    "start_time": "2023-02-19T19:38:58.005Z"
   },
   {
    "duration": 30296,
    "start_time": "2023-02-19T19:38:59.288Z"
   },
   {
    "duration": 9858,
    "start_time": "2023-02-19T19:39:29.586Z"
   },
   {
    "duration": 398,
    "start_time": "2023-02-19T19:39:39.446Z"
   },
   {
    "duration": 5,
    "start_time": "2023-02-19T19:39:39.846Z"
   },
   {
    "duration": 25,
    "start_time": "2023-02-19T19:39:39.853Z"
   },
   {
    "duration": 3,
    "start_time": "2023-02-19T19:39:39.880Z"
   },
   {
    "duration": 11,
    "start_time": "2023-02-19T19:39:39.885Z"
   },
   {
    "duration": 132,
    "start_time": "2023-02-19T19:39:39.898Z"
   },
   {
    "duration": 155712,
    "start_time": "2023-02-19T19:39:40.036Z"
   },
   {
    "duration": 220,
    "start_time": "2023-02-19T19:42:15.749Z"
   },
   {
    "duration": 36,
    "start_time": "2023-02-19T19:42:15.971Z"
   },
   {
    "duration": 115,
    "start_time": "2023-02-19T19:53:27.573Z"
   },
   {
    "duration": 12,
    "start_time": "2023-02-19T19:54:14.520Z"
   },
   {
    "duration": 12,
    "start_time": "2023-02-19T19:55:51.361Z"
   },
   {
    "duration": 13,
    "start_time": "2023-02-19T19:56:24.367Z"
   },
   {
    "duration": 36,
    "start_time": "2023-02-19T19:56:28.831Z"
   },
   {
    "duration": 13,
    "start_time": "2023-02-19T19:57:25.427Z"
   },
   {
    "duration": 17,
    "start_time": "2023-02-19T19:57:27.101Z"
   },
   {
    "duration": 22,
    "start_time": "2023-02-19T19:58:53.125Z"
   },
   {
    "duration": 11,
    "start_time": "2023-02-19T19:59:04.159Z"
   },
   {
    "duration": 24,
    "start_time": "2023-02-19T19:59:16.615Z"
   },
   {
    "duration": 233,
    "start_time": "2023-02-19T19:59:31.697Z"
   },
   {
    "duration": 18,
    "start_time": "2023-02-19T19:59:43.544Z"
   },
   {
    "duration": 17,
    "start_time": "2023-02-19T20:01:06.735Z"
   },
   {
    "duration": 256,
    "start_time": "2023-02-19T20:01:08.481Z"
   },
   {
    "duration": 12,
    "start_time": "2023-02-19T20:01:11.237Z"
   },
   {
    "duration": 17,
    "start_time": "2023-02-19T20:01:33.687Z"
   },
   {
    "duration": 230,
    "start_time": "2023-02-19T20:01:37.825Z"
   },
   {
    "duration": 13,
    "start_time": "2023-02-19T20:01:40.437Z"
   },
   {
    "duration": 1337,
    "start_time": "2023-02-19T20:04:20.465Z"
   },
   {
    "duration": 37,
    "start_time": "2023-02-19T20:04:21.804Z"
   },
   {
    "duration": 19,
    "start_time": "2023-02-19T20:04:21.843Z"
   },
   {
    "duration": 14,
    "start_time": "2023-02-19T20:04:21.865Z"
   },
   {
    "duration": 5,
    "start_time": "2023-02-19T20:04:21.881Z"
   },
   {
    "duration": 198,
    "start_time": "2023-02-19T20:04:21.887Z"
   },
   {
    "duration": 9,
    "start_time": "2023-02-19T20:04:22.086Z"
   },
   {
    "duration": 4,
    "start_time": "2023-02-19T20:04:22.097Z"
   },
   {
    "duration": 11,
    "start_time": "2023-02-19T20:04:22.103Z"
   },
   {
    "duration": 194,
    "start_time": "2023-02-19T20:04:22.116Z"
   },
   {
    "duration": 5,
    "start_time": "2023-02-19T20:04:22.312Z"
   },
   {
    "duration": 1470,
    "start_time": "2023-02-19T20:04:22.319Z"
   },
   {
    "duration": 23,
    "start_time": "2023-02-19T20:04:23.791Z"
   },
   {
    "duration": 30,
    "start_time": "2023-02-19T20:04:23.817Z"
   },
   {
    "duration": 12,
    "start_time": "2023-02-19T20:04:23.848Z"
   },
   {
    "duration": 5,
    "start_time": "2023-02-19T20:04:23.862Z"
   },
   {
    "duration": 2,
    "start_time": "2023-02-19T20:04:23.869Z"
   },
   {
    "duration": 5,
    "start_time": "2023-02-19T20:04:23.873Z"
   },
   {
    "duration": 4,
    "start_time": "2023-02-19T20:04:23.880Z"
   },
   {
    "duration": 6,
    "start_time": "2023-02-19T20:04:23.885Z"
   },
   {
    "duration": 5,
    "start_time": "2023-02-19T20:04:23.892Z"
   },
   {
    "duration": 7,
    "start_time": "2023-02-19T20:04:23.898Z"
   },
   {
    "duration": 43,
    "start_time": "2023-02-19T20:04:23.906Z"
   },
   {
    "duration": 1821,
    "start_time": "2023-02-19T20:04:23.951Z"
   },
   {
    "duration": 6,
    "start_time": "2023-02-19T20:04:25.774Z"
   },
   {
    "duration": 7,
    "start_time": "2023-02-19T20:04:25.782Z"
   },
   {
    "duration": 4,
    "start_time": "2023-02-19T20:04:25.791Z"
   },
   {
    "duration": 8,
    "start_time": "2023-02-19T20:04:25.797Z"
   },
   {
    "duration": 6,
    "start_time": "2023-02-19T20:04:25.806Z"
   },
   {
    "duration": 40,
    "start_time": "2023-02-19T20:04:25.813Z"
   },
   {
    "duration": 10,
    "start_time": "2023-02-19T20:04:25.854Z"
   },
   {
    "duration": 4,
    "start_time": "2023-02-19T20:04:25.866Z"
   },
   {
    "duration": 4,
    "start_time": "2023-02-19T20:04:25.872Z"
   },
   {
    "duration": 24,
    "start_time": "2023-02-19T20:04:25.878Z"
   },
   {
    "duration": 776,
    "start_time": "2023-02-19T20:04:25.904Z"
   },
   {
    "duration": 18764,
    "start_time": "2023-02-19T20:04:26.682Z"
   },
   {
    "duration": 8898,
    "start_time": "2023-02-19T20:04:45.447Z"
   },
   {
    "duration": 188,
    "start_time": "2023-02-19T20:04:54.348Z"
   },
   {
    "duration": 125,
    "start_time": "2023-02-19T20:04:54.538Z"
   },
   {
    "duration": 107,
    "start_time": "2023-02-19T20:04:54.665Z"
   },
   {
    "duration": 4,
    "start_time": "2023-02-19T20:04:54.776Z"
   },
   {
    "duration": 15,
    "start_time": "2023-02-19T20:04:54.781Z"
   },
   {
    "duration": 7,
    "start_time": "2023-02-19T20:04:54.797Z"
   },
   {
    "duration": 36,
    "start_time": "2023-02-19T20:04:54.805Z"
   },
   {
    "duration": 13,
    "start_time": "2023-02-19T20:04:54.844Z"
   },
   {
    "duration": 14,
    "start_time": "2023-02-19T20:04:54.858Z"
   },
   {
    "duration": 278,
    "start_time": "2023-02-19T20:04:54.874Z"
   },
   {
    "duration": 6,
    "start_time": "2023-02-19T20:04:55.154Z"
   },
   {
    "duration": 1550,
    "start_time": "2023-02-19T20:04:55.162Z"
   },
   {
    "duration": 32762,
    "start_time": "2023-02-19T20:04:56.714Z"
   },
   {
    "duration": 9370,
    "start_time": "2023-02-19T20:05:29.477Z"
   },
   {
    "duration": 395,
    "start_time": "2023-02-19T20:05:38.849Z"
   },
   {
    "duration": 7,
    "start_time": "2023-02-19T20:05:39.246Z"
   },
   {
    "duration": 33,
    "start_time": "2023-02-19T20:05:39.255Z"
   },
   {
    "duration": 3,
    "start_time": "2023-02-19T20:05:39.290Z"
   },
   {
    "duration": 19,
    "start_time": "2023-02-19T20:05:39.295Z"
   },
   {
    "duration": 116,
    "start_time": "2023-02-19T20:05:39.315Z"
   },
   {
    "duration": 160882,
    "start_time": "2023-02-19T20:05:39.436Z"
   },
   {
    "duration": 232,
    "start_time": "2023-02-19T20:08:20.320Z"
   },
   {
    "duration": 35,
    "start_time": "2023-02-19T20:08:20.554Z"
   },
   {
    "duration": 11,
    "start_time": "2023-02-19T20:08:20.591Z"
   },
   {
    "duration": 239,
    "start_time": "2023-02-19T20:08:20.603Z"
   },
   {
    "duration": 13,
    "start_time": "2023-02-19T20:08:20.844Z"
   },
   {
    "duration": 18,
    "start_time": "2023-02-19T20:08:20.859Z"
   },
   {
    "duration": 239,
    "start_time": "2023-02-19T20:08:20.879Z"
   },
   {
    "duration": 19,
    "start_time": "2023-02-19T20:08:21.120Z"
   },
   {
    "duration": 12,
    "start_time": "2023-02-19T20:08:59.329Z"
   },
   {
    "duration": 161,
    "start_time": "2023-02-19T20:25:40.973Z"
   },
   {
    "duration": 31114,
    "start_time": "2023-02-19T20:26:09.488Z"
   },
   {
    "duration": 1272,
    "start_time": "2023-02-19T20:31:00.263Z"
   },
   {
    "duration": 48,
    "start_time": "2023-02-19T20:31:01.536Z"
   },
   {
    "duration": 17,
    "start_time": "2023-02-19T20:31:01.585Z"
   },
   {
    "duration": 19,
    "start_time": "2023-02-19T20:31:01.604Z"
   },
   {
    "duration": 25,
    "start_time": "2023-02-19T20:31:01.625Z"
   },
   {
    "duration": 176,
    "start_time": "2023-02-19T20:31:01.652Z"
   },
   {
    "duration": 12,
    "start_time": "2023-02-19T20:31:01.829Z"
   },
   {
    "duration": 18,
    "start_time": "2023-02-19T20:31:01.842Z"
   },
   {
    "duration": 8,
    "start_time": "2023-02-19T20:31:01.861Z"
   },
   {
    "duration": 168,
    "start_time": "2023-02-19T20:31:01.872Z"
   },
   {
    "duration": 6,
    "start_time": "2023-02-19T20:31:02.047Z"
   },
   {
    "duration": 1314,
    "start_time": "2023-02-19T20:31:02.055Z"
   },
   {
    "duration": 16,
    "start_time": "2023-02-19T20:31:03.370Z"
   },
   {
    "duration": 11,
    "start_time": "2023-02-19T20:31:03.387Z"
   },
   {
    "duration": 7,
    "start_time": "2023-02-19T20:31:03.399Z"
   },
   {
    "duration": 29,
    "start_time": "2023-02-19T20:31:03.408Z"
   },
   {
    "duration": 3,
    "start_time": "2023-02-19T20:31:03.438Z"
   },
   {
    "duration": 15,
    "start_time": "2023-02-19T20:31:03.442Z"
   },
   {
    "duration": 3,
    "start_time": "2023-02-19T20:31:03.459Z"
   },
   {
    "duration": 6,
    "start_time": "2023-02-19T20:31:03.464Z"
   },
   {
    "duration": 4,
    "start_time": "2023-02-19T20:31:03.472Z"
   },
   {
    "duration": 7,
    "start_time": "2023-02-19T20:31:03.478Z"
   },
   {
    "duration": 14,
    "start_time": "2023-02-19T20:31:03.487Z"
   },
   {
    "duration": 1977,
    "start_time": "2023-02-19T20:31:03.503Z"
   },
   {
    "duration": 5,
    "start_time": "2023-02-19T20:31:05.482Z"
   },
   {
    "duration": 8,
    "start_time": "2023-02-19T20:31:05.488Z"
   },
   {
    "duration": 6,
    "start_time": "2023-02-19T20:31:05.497Z"
   },
   {
    "duration": 30,
    "start_time": "2023-02-19T20:31:05.507Z"
   },
   {
    "duration": 14,
    "start_time": "2023-02-19T20:31:05.542Z"
   },
   {
    "duration": 19,
    "start_time": "2023-02-19T20:31:05.557Z"
   },
   {
    "duration": 10,
    "start_time": "2023-02-19T20:31:05.577Z"
   },
   {
    "duration": 6,
    "start_time": "2023-02-19T20:31:05.588Z"
   },
   {
    "duration": 6,
    "start_time": "2023-02-19T20:31:05.595Z"
   },
   {
    "duration": 40,
    "start_time": "2023-02-19T20:31:05.603Z"
   },
   {
    "duration": 803,
    "start_time": "2023-02-19T20:31:05.645Z"
   },
   {
    "duration": 1992629,
    "start_time": "2023-02-19T20:31:06.449Z"
   },
   {
    "duration": 9162,
    "start_time": "2023-02-19T21:04:19.079Z"
   },
   {
    "duration": 136,
    "start_time": "2023-02-19T21:04:28.243Z"
   },
   {
    "duration": 132,
    "start_time": "2023-02-19T21:04:28.381Z"
   },
   {
    "duration": 172,
    "start_time": "2023-02-19T21:04:28.514Z"
   },
   {
    "duration": 4,
    "start_time": "2023-02-19T21:04:28.688Z"
   },
   {
    "duration": 77,
    "start_time": "2023-02-19T21:04:28.694Z"
   },
   {
    "duration": 5,
    "start_time": "2023-02-19T21:04:28.773Z"
   },
   {
    "duration": 73,
    "start_time": "2023-02-19T21:04:28.780Z"
   },
   {
    "duration": 58,
    "start_time": "2023-02-19T21:04:28.855Z"
   },
   {
    "duration": 77,
    "start_time": "2023-02-19T21:04:28.915Z"
   },
   {
    "duration": 274,
    "start_time": "2023-02-19T21:04:28.994Z"
   },
   {
    "duration": 6,
    "start_time": "2023-02-19T21:04:29.270Z"
   },
   {
    "duration": 1503,
    "start_time": "2023-02-19T21:04:29.277Z"
   },
   {
    "duration": 48050,
    "start_time": "2023-02-19T21:04:30.781Z"
   },
   {
    "duration": 10210,
    "start_time": "2023-02-19T21:05:18.833Z"
   },
   {
    "duration": 367,
    "start_time": "2023-02-19T21:05:29.049Z"
   },
   {
    "duration": 5,
    "start_time": "2023-02-19T21:05:29.418Z"
   },
   {
    "duration": 45,
    "start_time": "2023-02-19T21:05:29.424Z"
   },
   {
    "duration": 4,
    "start_time": "2023-02-19T21:05:29.471Z"
   },
   {
    "duration": 15,
    "start_time": "2023-02-19T21:05:29.476Z"
   },
   {
    "duration": 133,
    "start_time": "2023-02-19T21:05:29.492Z"
   },
   {
    "duration": 1429,
    "start_time": "2023-02-19T21:09:33.064Z"
   },
   {
    "duration": 36,
    "start_time": "2023-02-19T21:09:34.495Z"
   },
   {
    "duration": 24,
    "start_time": "2023-02-19T21:09:34.534Z"
   },
   {
    "duration": 15,
    "start_time": "2023-02-19T21:09:34.560Z"
   },
   {
    "duration": 5,
    "start_time": "2023-02-19T21:09:34.576Z"
   },
   {
    "duration": 210,
    "start_time": "2023-02-19T21:09:34.583Z"
   },
   {
    "duration": 8,
    "start_time": "2023-02-19T21:09:34.795Z"
   },
   {
    "duration": 3,
    "start_time": "2023-02-19T21:09:34.806Z"
   },
   {
    "duration": 5,
    "start_time": "2023-02-19T21:09:34.811Z"
   },
   {
    "duration": 192,
    "start_time": "2023-02-19T21:09:34.818Z"
   },
   {
    "duration": 6,
    "start_time": "2023-02-19T21:09:35.012Z"
   },
   {
    "duration": 1242,
    "start_time": "2023-02-19T21:09:35.019Z"
   },
   {
    "duration": 17,
    "start_time": "2023-02-19T21:09:36.263Z"
   },
   {
    "duration": 10,
    "start_time": "2023-02-19T21:09:36.282Z"
   },
   {
    "duration": 21,
    "start_time": "2023-02-19T21:09:36.293Z"
   },
   {
    "duration": 5,
    "start_time": "2023-02-19T21:09:36.317Z"
   },
   {
    "duration": 19,
    "start_time": "2023-02-19T21:09:36.323Z"
   },
   {
    "duration": 23,
    "start_time": "2023-02-19T21:09:36.344Z"
   },
   {
    "duration": 4,
    "start_time": "2023-02-19T21:09:36.369Z"
   },
   {
    "duration": 5,
    "start_time": "2023-02-19T21:09:36.374Z"
   },
   {
    "duration": 7,
    "start_time": "2023-02-19T21:09:36.381Z"
   },
   {
    "duration": 8,
    "start_time": "2023-02-19T21:09:36.389Z"
   },
   {
    "duration": 21,
    "start_time": "2023-02-19T21:09:36.401Z"
   },
   {
    "duration": 1886,
    "start_time": "2023-02-19T21:09:36.423Z"
   },
   {
    "duration": 6,
    "start_time": "2023-02-19T21:09:38.310Z"
   },
   {
    "duration": 26,
    "start_time": "2023-02-19T21:09:38.317Z"
   },
   {
    "duration": 20,
    "start_time": "2023-02-19T21:09:38.345Z"
   },
   {
    "duration": 10,
    "start_time": "2023-02-19T21:09:38.367Z"
   },
   {
    "duration": 6,
    "start_time": "2023-02-19T21:09:38.379Z"
   },
   {
    "duration": 21,
    "start_time": "2023-02-19T21:09:38.387Z"
   },
   {
    "duration": 11,
    "start_time": "2023-02-19T21:09:38.410Z"
   },
   {
    "duration": 6,
    "start_time": "2023-02-19T21:09:38.423Z"
   },
   {
    "duration": 2,
    "start_time": "2023-02-19T21:09:38.437Z"
   },
   {
    "duration": 35,
    "start_time": "2023-02-19T21:09:38.441Z"
   },
   {
    "duration": 734,
    "start_time": "2023-02-19T21:09:38.478Z"
   },
   {
    "duration": 262,
    "start_time": "2023-02-19T21:09:39.213Z"
   },
   {
    "duration": 10362,
    "start_time": "2023-02-19T21:09:39.477Z"
   },
   {
    "duration": 84,
    "start_time": "2023-02-19T21:09:49.863Z"
   },
   {
    "duration": 152,
    "start_time": "2023-02-19T21:09:49.949Z"
   },
   {
    "duration": 115,
    "start_time": "2023-02-19T21:09:50.102Z"
   },
   {
    "duration": 19,
    "start_time": "2023-02-19T21:09:50.218Z"
   },
   {
    "duration": 21,
    "start_time": "2023-02-19T21:09:50.240Z"
   },
   {
    "duration": 5,
    "start_time": "2023-02-19T21:09:50.263Z"
   },
   {
    "duration": 13,
    "start_time": "2023-02-19T21:09:50.269Z"
   },
   {
    "duration": 12,
    "start_time": "2023-02-19T21:09:50.283Z"
   },
   {
    "duration": 45,
    "start_time": "2023-02-19T21:09:50.297Z"
   },
   {
    "duration": 243,
    "start_time": "2023-02-19T21:09:50.346Z"
   },
   {
    "duration": 6,
    "start_time": "2023-02-19T21:09:50.591Z"
   },
   {
    "duration": 1462,
    "start_time": "2023-02-19T21:09:50.598Z"
   },
   {
    "duration": 1425,
    "start_time": "2023-02-19T21:11:29.082Z"
   },
   {
    "duration": 37,
    "start_time": "2023-02-19T21:11:30.509Z"
   },
   {
    "duration": 22,
    "start_time": "2023-02-19T21:11:30.550Z"
   },
   {
    "duration": 21,
    "start_time": "2023-02-19T21:11:30.573Z"
   },
   {
    "duration": 7,
    "start_time": "2023-02-19T21:11:30.596Z"
   },
   {
    "duration": 209,
    "start_time": "2023-02-19T21:11:30.605Z"
   },
   {
    "duration": 8,
    "start_time": "2023-02-19T21:11:30.816Z"
   },
   {
    "duration": 22,
    "start_time": "2023-02-19T21:11:30.826Z"
   },
   {
    "duration": 24,
    "start_time": "2023-02-19T21:11:30.851Z"
   },
   {
    "duration": 172,
    "start_time": "2023-02-19T21:11:30.877Z"
   },
   {
    "duration": 5,
    "start_time": "2023-02-19T21:11:31.052Z"
   },
   {
    "duration": 1305,
    "start_time": "2023-02-19T21:11:31.059Z"
   },
   {
    "duration": 20,
    "start_time": "2023-02-19T21:11:32.366Z"
   },
   {
    "duration": 15,
    "start_time": "2023-02-19T21:11:32.387Z"
   },
   {
    "duration": 10,
    "start_time": "2023-02-19T21:11:32.403Z"
   },
   {
    "duration": 62,
    "start_time": "2023-02-19T21:11:32.415Z"
   },
   {
    "duration": 9,
    "start_time": "2023-02-19T21:11:32.481Z"
   },
   {
    "duration": 12,
    "start_time": "2023-02-19T21:11:32.494Z"
   },
   {
    "duration": 9,
    "start_time": "2023-02-19T21:11:32.508Z"
   },
   {
    "duration": 9,
    "start_time": "2023-02-19T21:11:32.521Z"
   },
   {
    "duration": 19,
    "start_time": "2023-02-19T21:11:32.532Z"
   },
   {
    "duration": 18,
    "start_time": "2023-02-19T21:11:32.556Z"
   },
   {
    "duration": 26,
    "start_time": "2023-02-19T21:11:32.576Z"
   },
   {
    "duration": 1869,
    "start_time": "2023-02-19T21:11:32.604Z"
   },
   {
    "duration": 5,
    "start_time": "2023-02-19T21:11:34.475Z"
   },
   {
    "duration": 7,
    "start_time": "2023-02-19T21:11:34.482Z"
   },
   {
    "duration": 5,
    "start_time": "2023-02-19T21:11:34.493Z"
   },
   {
    "duration": 23,
    "start_time": "2023-02-19T21:11:34.499Z"
   },
   {
    "duration": 5,
    "start_time": "2023-02-19T21:11:34.524Z"
   },
   {
    "duration": 35,
    "start_time": "2023-02-19T21:11:34.530Z"
   },
   {
    "duration": 11,
    "start_time": "2023-02-19T21:11:34.567Z"
   },
   {
    "duration": 9,
    "start_time": "2023-02-19T21:11:34.579Z"
   },
   {
    "duration": 6,
    "start_time": "2023-02-19T21:11:34.589Z"
   },
   {
    "duration": 31,
    "start_time": "2023-02-19T21:11:34.596Z"
   },
   {
    "duration": 798,
    "start_time": "2023-02-19T21:11:34.628Z"
   },
   {
    "duration": 3247,
    "start_time": "2023-02-19T21:11:35.428Z"
   },
   {
    "duration": 9068,
    "start_time": "2023-02-19T21:11:38.677Z"
   },
   {
    "duration": 191,
    "start_time": "2023-02-19T21:11:47.746Z"
   },
   {
    "duration": 132,
    "start_time": "2023-02-19T21:11:47.948Z"
   },
   {
    "duration": 115,
    "start_time": "2023-02-19T21:11:48.082Z"
   },
   {
    "duration": 5,
    "start_time": "2023-02-19T21:11:48.198Z"
   },
   {
    "duration": 47,
    "start_time": "2023-02-19T21:11:48.205Z"
   },
   {
    "duration": 10,
    "start_time": "2023-02-19T21:11:48.254Z"
   },
   {
    "duration": 20,
    "start_time": "2023-02-19T21:11:48.266Z"
   },
   {
    "duration": 17,
    "start_time": "2023-02-19T21:11:48.288Z"
   },
   {
    "duration": 57,
    "start_time": "2023-02-19T21:11:48.306Z"
   },
   {
    "duration": 255,
    "start_time": "2023-02-19T21:11:48.365Z"
   },
   {
    "duration": 5,
    "start_time": "2023-02-19T21:11:48.622Z"
   },
   {
    "duration": 1405,
    "start_time": "2023-02-19T21:11:48.636Z"
   },
   {
    "duration": 135903,
    "start_time": "2023-02-19T21:11:50.043Z"
   },
   {
    "duration": 1474,
    "start_time": "2023-02-19T21:15:55.431Z"
   },
   {
    "duration": 40,
    "start_time": "2023-02-19T21:15:56.907Z"
   },
   {
    "duration": 25,
    "start_time": "2023-02-19T21:15:56.950Z"
   },
   {
    "duration": 15,
    "start_time": "2023-02-19T21:15:56.976Z"
   },
   {
    "duration": 6,
    "start_time": "2023-02-19T21:15:56.992Z"
   },
   {
    "duration": 219,
    "start_time": "2023-02-19T21:15:56.999Z"
   },
   {
    "duration": 19,
    "start_time": "2023-02-19T21:15:57.219Z"
   },
   {
    "duration": 5,
    "start_time": "2023-02-19T21:15:57.240Z"
   },
   {
    "duration": 16,
    "start_time": "2023-02-19T21:15:57.247Z"
   },
   {
    "duration": 207,
    "start_time": "2023-02-19T21:15:57.264Z"
   },
   {
    "duration": 5,
    "start_time": "2023-02-19T21:15:57.473Z"
   },
   {
    "duration": 1302,
    "start_time": "2023-02-19T21:15:57.480Z"
   },
   {
    "duration": 17,
    "start_time": "2023-02-19T21:15:58.784Z"
   },
   {
    "duration": 12,
    "start_time": "2023-02-19T21:15:58.802Z"
   },
   {
    "duration": 26,
    "start_time": "2023-02-19T21:15:58.816Z"
   },
   {
    "duration": 8,
    "start_time": "2023-02-19T21:15:58.843Z"
   },
   {
    "duration": 3,
    "start_time": "2023-02-19T21:15:58.853Z"
   },
   {
    "duration": 7,
    "start_time": "2023-02-19T21:15:58.857Z"
   },
   {
    "duration": 5,
    "start_time": "2023-02-19T21:15:58.865Z"
   },
   {
    "duration": 7,
    "start_time": "2023-02-19T21:15:58.871Z"
   },
   {
    "duration": 6,
    "start_time": "2023-02-19T21:15:58.879Z"
   },
   {
    "duration": 6,
    "start_time": "2023-02-19T21:15:58.887Z"
   },
   {
    "duration": 12,
    "start_time": "2023-02-19T21:15:58.895Z"
   },
   {
    "duration": 1870,
    "start_time": "2023-02-19T21:15:58.909Z"
   },
   {
    "duration": 6,
    "start_time": "2023-02-19T21:16:00.781Z"
   },
   {
    "duration": 12,
    "start_time": "2023-02-19T21:16:00.789Z"
   },
   {
    "duration": 14,
    "start_time": "2023-02-19T21:16:00.805Z"
   },
   {
    "duration": 26,
    "start_time": "2023-02-19T21:16:00.820Z"
   },
   {
    "duration": 46,
    "start_time": "2023-02-19T21:16:00.848Z"
   },
   {
    "duration": 29,
    "start_time": "2023-02-19T21:16:00.895Z"
   },
   {
    "duration": 11,
    "start_time": "2023-02-19T21:16:00.926Z"
   },
   {
    "duration": 45,
    "start_time": "2023-02-19T21:16:00.939Z"
   },
   {
    "duration": 17,
    "start_time": "2023-02-19T21:16:00.986Z"
   },
   {
    "duration": 49,
    "start_time": "2023-02-19T21:16:01.004Z"
   },
   {
    "duration": 735,
    "start_time": "2023-02-19T21:16:01.055Z"
   },
   {
    "duration": 3590,
    "start_time": "2023-02-19T21:16:01.791Z"
   },
   {
    "duration": 10068,
    "start_time": "2023-02-19T21:16:05.382Z"
   },
   {
    "duration": 103,
    "start_time": "2023-02-19T21:16:15.456Z"
   },
   {
    "duration": 206,
    "start_time": "2023-02-19T21:16:15.562Z"
   },
   {
    "duration": 107,
    "start_time": "2023-02-19T21:16:15.769Z"
   },
   {
    "duration": 5,
    "start_time": "2023-02-19T21:16:15.877Z"
   },
   {
    "duration": 20,
    "start_time": "2023-02-19T21:16:15.883Z"
   },
   {
    "duration": 5,
    "start_time": "2023-02-19T21:16:15.905Z"
   },
   {
    "duration": 41,
    "start_time": "2023-02-19T21:16:15.912Z"
   },
   {
    "duration": 21,
    "start_time": "2023-02-19T21:16:15.955Z"
   },
   {
    "duration": 18,
    "start_time": "2023-02-19T21:16:15.977Z"
   },
   {
    "duration": 248,
    "start_time": "2023-02-19T21:16:15.997Z"
   },
   {
    "duration": 5,
    "start_time": "2023-02-19T21:16:16.247Z"
   },
   {
    "duration": 1332,
    "start_time": "2023-02-19T21:16:16.254Z"
   },
   {
    "duration": 1268,
    "start_time": "2023-02-19T21:26:48.489Z"
   },
   {
    "duration": 36,
    "start_time": "2023-02-19T21:26:49.758Z"
   },
   {
    "duration": 18,
    "start_time": "2023-02-19T21:26:49.796Z"
   },
   {
    "duration": 12,
    "start_time": "2023-02-19T21:26:49.817Z"
   },
   {
    "duration": 8,
    "start_time": "2023-02-19T21:26:49.830Z"
   },
   {
    "duration": 183,
    "start_time": "2023-02-19T21:26:49.840Z"
   },
   {
    "duration": 15,
    "start_time": "2023-02-19T21:26:50.025Z"
   },
   {
    "duration": 3,
    "start_time": "2023-02-19T21:26:50.041Z"
   },
   {
    "duration": 10,
    "start_time": "2023-02-19T21:26:50.045Z"
   },
   {
    "duration": 171,
    "start_time": "2023-02-19T21:26:50.057Z"
   },
   {
    "duration": 5,
    "start_time": "2023-02-19T21:26:50.236Z"
   },
   {
    "duration": 2259,
    "start_time": "2023-02-19T21:26:50.243Z"
   },
   {
    "duration": 54,
    "start_time": "2023-02-19T21:26:52.504Z"
   },
   {
    "duration": 20,
    "start_time": "2023-02-19T21:26:52.560Z"
   },
   {
    "duration": 16,
    "start_time": "2023-02-19T21:26:52.582Z"
   },
   {
    "duration": 27,
    "start_time": "2023-02-19T21:26:52.600Z"
   },
   {
    "duration": 31,
    "start_time": "2023-02-19T21:26:52.629Z"
   },
   {
    "duration": 11,
    "start_time": "2023-02-19T21:26:52.662Z"
   },
   {
    "duration": 4,
    "start_time": "2023-02-19T21:26:52.674Z"
   },
   {
    "duration": 6,
    "start_time": "2023-02-19T21:26:52.679Z"
   },
   {
    "duration": 5,
    "start_time": "2023-02-19T21:26:52.686Z"
   },
   {
    "duration": 8,
    "start_time": "2023-02-19T21:26:52.692Z"
   },
   {
    "duration": 14,
    "start_time": "2023-02-19T21:26:52.701Z"
   },
   {
    "duration": 2002,
    "start_time": "2023-02-19T21:26:52.716Z"
   },
   {
    "duration": 7,
    "start_time": "2023-02-19T21:26:54.719Z"
   },
   {
    "duration": 6,
    "start_time": "2023-02-19T21:26:54.739Z"
   },
   {
    "duration": 14,
    "start_time": "2023-02-19T21:26:54.747Z"
   },
   {
    "duration": 6,
    "start_time": "2023-02-19T21:26:54.766Z"
   },
   {
    "duration": 7,
    "start_time": "2023-02-19T21:26:54.774Z"
   },
   {
    "duration": 20,
    "start_time": "2023-02-19T21:26:54.783Z"
   },
   {
    "duration": 33,
    "start_time": "2023-02-19T21:26:54.804Z"
   },
   {
    "duration": 10,
    "start_time": "2023-02-19T21:26:54.840Z"
   },
   {
    "duration": 7,
    "start_time": "2023-02-19T21:26:54.853Z"
   },
   {
    "duration": 31,
    "start_time": "2023-02-19T21:26:54.861Z"
   },
   {
    "duration": 473,
    "start_time": "2023-02-19T21:26:54.893Z"
   },
   {
    "duration": 2465,
    "start_time": "2023-02-19T21:26:55.368Z"
   },
   {
    "duration": 8010,
    "start_time": "2023-02-19T21:26:57.834Z"
   },
   {
    "duration": 113,
    "start_time": "2023-02-19T21:27:05.848Z"
   },
   {
    "duration": 151,
    "start_time": "2023-02-19T21:27:05.963Z"
   },
   {
    "duration": 123,
    "start_time": "2023-02-19T21:27:06.115Z"
   },
   {
    "duration": 5,
    "start_time": "2023-02-19T21:27:06.240Z"
   },
   {
    "duration": 32,
    "start_time": "2023-02-19T21:27:06.247Z"
   },
   {
    "duration": 6,
    "start_time": "2023-02-19T21:27:06.281Z"
   },
   {
    "duration": 17,
    "start_time": "2023-02-19T21:27:06.289Z"
   },
   {
    "duration": 34,
    "start_time": "2023-02-19T21:27:06.307Z"
   },
   {
    "duration": 20,
    "start_time": "2023-02-19T21:27:06.342Z"
   },
   {
    "duration": 251,
    "start_time": "2023-02-19T21:27:06.364Z"
   },
   {
    "duration": 6,
    "start_time": "2023-02-19T21:27:06.617Z"
   },
   {
    "duration": 124,
    "start_time": "2023-02-19T21:27:06.624Z"
   },
   {
    "duration": 0,
    "start_time": "2023-02-19T21:27:06.750Z"
   },
   {
    "duration": 0,
    "start_time": "2023-02-19T21:27:06.751Z"
   },
   {
    "duration": 0,
    "start_time": "2023-02-19T21:27:06.752Z"
   },
   {
    "duration": 0,
    "start_time": "2023-02-19T21:27:06.753Z"
   },
   {
    "duration": 0,
    "start_time": "2023-02-19T21:27:06.754Z"
   },
   {
    "duration": 0,
    "start_time": "2023-02-19T21:27:06.755Z"
   },
   {
    "duration": 0,
    "start_time": "2023-02-19T21:27:06.756Z"
   },
   {
    "duration": 0,
    "start_time": "2023-02-19T21:27:06.757Z"
   },
   {
    "duration": 0,
    "start_time": "2023-02-19T21:27:06.758Z"
   },
   {
    "duration": 0,
    "start_time": "2023-02-19T21:27:06.759Z"
   },
   {
    "duration": 0,
    "start_time": "2023-02-19T21:27:06.760Z"
   },
   {
    "duration": 0,
    "start_time": "2023-02-19T21:27:06.761Z"
   },
   {
    "duration": 0,
    "start_time": "2023-02-19T21:27:06.762Z"
   },
   {
    "duration": 0,
    "start_time": "2023-02-19T21:27:06.763Z"
   },
   {
    "duration": 0,
    "start_time": "2023-02-19T21:27:06.764Z"
   },
   {
    "duration": 0,
    "start_time": "2023-02-19T21:27:06.765Z"
   },
   {
    "duration": 0,
    "start_time": "2023-02-19T21:27:06.766Z"
   },
   {
    "duration": 20,
    "start_time": "2023-02-19T21:30:01.956Z"
   },
   {
    "duration": 292,
    "start_time": "2023-02-19T21:30:26.353Z"
   },
   {
    "duration": 6111,
    "start_time": "2023-02-19T21:30:37.420Z"
   },
   {
    "duration": 10891,
    "start_time": "2023-02-19T21:30:50.360Z"
   },
   {
    "duration": 244,
    "start_time": "2023-02-19T21:31:07.029Z"
   },
   {
    "duration": 6,
    "start_time": "2023-02-19T21:31:10.250Z"
   },
   {
    "duration": 45,
    "start_time": "2023-02-19T21:31:11.867Z"
   },
   {
    "duration": 4,
    "start_time": "2023-02-19T21:31:14.631Z"
   },
   {
    "duration": 11,
    "start_time": "2023-02-19T21:31:16.272Z"
   },
   {
    "duration": 130,
    "start_time": "2023-02-19T21:31:17.323Z"
   },
   {
    "duration": 8255,
    "start_time": "2023-02-19T21:31:24.476Z"
   },
   {
    "duration": 268,
    "start_time": "2023-02-19T21:31:42.706Z"
   },
   {
    "duration": 48,
    "start_time": "2023-02-19T21:31:45.153Z"
   },
   {
    "duration": 19,
    "start_time": "2023-02-19T21:32:01.464Z"
   },
   {
    "duration": 231,
    "start_time": "2023-02-19T21:32:03.052Z"
   },
   {
    "duration": 11,
    "start_time": "2023-02-19T21:32:05.150Z"
   },
   {
    "duration": 21,
    "start_time": "2023-02-19T21:32:09.349Z"
   },
   {
    "duration": 219,
    "start_time": "2023-02-19T21:32:10.553Z"
   },
   {
    "duration": 16,
    "start_time": "2023-02-19T21:32:12.555Z"
   },
   {
    "duration": 1299,
    "start_time": "2023-02-19T21:34:02.437Z"
   },
   {
    "duration": 36,
    "start_time": "2023-02-19T21:34:03.742Z"
   },
   {
    "duration": 17,
    "start_time": "2023-02-19T21:34:03.780Z"
   },
   {
    "duration": 12,
    "start_time": "2023-02-19T21:34:03.800Z"
   },
   {
    "duration": 6,
    "start_time": "2023-02-19T21:34:03.813Z"
   },
   {
    "duration": 166,
    "start_time": "2023-02-19T21:34:03.820Z"
   },
   {
    "duration": 9,
    "start_time": "2023-02-19T21:34:03.988Z"
   },
   {
    "duration": 6,
    "start_time": "2023-02-19T21:34:03.998Z"
   },
   {
    "duration": 5,
    "start_time": "2023-02-19T21:34:04.006Z"
   },
   {
    "duration": 178,
    "start_time": "2023-02-19T21:34:04.014Z"
   },
   {
    "duration": 4,
    "start_time": "2023-02-19T21:34:04.194Z"
   },
   {
    "duration": 1245,
    "start_time": "2023-02-19T21:34:04.200Z"
   },
   {
    "duration": 18,
    "start_time": "2023-02-19T21:34:05.447Z"
   },
   {
    "duration": 11,
    "start_time": "2023-02-19T21:34:05.466Z"
   },
   {
    "duration": 7,
    "start_time": "2023-02-19T21:34:05.479Z"
   },
   {
    "duration": 5,
    "start_time": "2023-02-19T21:34:05.488Z"
   },
   {
    "duration": 9,
    "start_time": "2023-02-19T21:34:05.494Z"
   },
   {
    "duration": 34,
    "start_time": "2023-02-19T21:34:05.505Z"
   },
   {
    "duration": 3,
    "start_time": "2023-02-19T21:34:05.541Z"
   },
   {
    "duration": 17,
    "start_time": "2023-02-19T21:34:05.546Z"
   },
   {
    "duration": 6,
    "start_time": "2023-02-19T21:34:05.565Z"
   },
   {
    "duration": 7,
    "start_time": "2023-02-19T21:34:05.572Z"
   },
   {
    "duration": 12,
    "start_time": "2023-02-19T21:34:05.581Z"
   },
   {
    "duration": 1712,
    "start_time": "2023-02-19T21:34:05.595Z"
   },
   {
    "duration": 6,
    "start_time": "2023-02-19T21:34:07.308Z"
   },
   {
    "duration": 16,
    "start_time": "2023-02-19T21:34:07.315Z"
   },
   {
    "duration": 10,
    "start_time": "2023-02-19T21:34:07.332Z"
   },
   {
    "duration": 18,
    "start_time": "2023-02-19T21:34:07.346Z"
   },
   {
    "duration": 8,
    "start_time": "2023-02-19T21:34:07.365Z"
   },
   {
    "duration": 35,
    "start_time": "2023-02-19T21:34:07.375Z"
   },
   {
    "duration": 10,
    "start_time": "2023-02-19T21:34:07.412Z"
   },
   {
    "duration": 7,
    "start_time": "2023-02-19T21:34:07.423Z"
   },
   {
    "duration": 5,
    "start_time": "2023-02-19T21:34:07.432Z"
   },
   {
    "duration": 38,
    "start_time": "2023-02-19T21:34:07.440Z"
   },
   {
    "duration": 411,
    "start_time": "2023-02-19T21:34:07.480Z"
   },
   {
    "duration": 2153,
    "start_time": "2023-02-19T21:34:07.893Z"
   },
   {
    "duration": 8593,
    "start_time": "2023-02-19T21:34:10.049Z"
   },
   {
    "duration": 110,
    "start_time": "2023-02-19T21:34:18.644Z"
   },
   {
    "duration": 193,
    "start_time": "2023-02-19T21:34:18.756Z"
   },
   {
    "duration": 105,
    "start_time": "2023-02-19T21:34:18.951Z"
   },
   {
    "duration": 5,
    "start_time": "2023-02-19T21:34:19.057Z"
   },
   {
    "duration": 21,
    "start_time": "2023-02-19T21:34:19.063Z"
   },
   {
    "duration": 5,
    "start_time": "2023-02-19T21:34:19.086Z"
   },
   {
    "duration": 20,
    "start_time": "2023-02-19T21:34:19.092Z"
   },
   {
    "duration": 40,
    "start_time": "2023-02-19T21:34:19.114Z"
   },
   {
    "duration": 18,
    "start_time": "2023-02-19T21:34:19.155Z"
   },
   {
    "duration": 244,
    "start_time": "2023-02-19T21:34:19.175Z"
   },
   {
    "duration": 6,
    "start_time": "2023-02-19T21:34:19.420Z"
   },
   {
    "duration": 296,
    "start_time": "2023-02-19T21:34:19.427Z"
   },
   {
    "duration": 5980,
    "start_time": "2023-02-19T21:34:19.724Z"
   },
   {
    "duration": 9834,
    "start_time": "2023-02-19T21:34:25.706Z"
   },
   {
    "duration": 596,
    "start_time": "2023-02-19T21:34:35.543Z"
   },
   {
    "duration": 5,
    "start_time": "2023-02-19T21:34:36.141Z"
   },
   {
    "duration": 94,
    "start_time": "2023-02-19T21:34:36.148Z"
   },
   {
    "duration": 5,
    "start_time": "2023-02-19T21:34:36.244Z"
   },
   {
    "duration": 14,
    "start_time": "2023-02-19T21:34:36.251Z"
   },
   {
    "duration": 127,
    "start_time": "2023-02-19T21:34:36.266Z"
   },
   {
    "duration": 7491,
    "start_time": "2023-02-19T21:34:36.395Z"
   },
   {
    "duration": 231,
    "start_time": "2023-02-19T21:34:43.888Z"
   },
   {
    "duration": 46,
    "start_time": "2023-02-19T21:34:44.120Z"
   },
   {
    "duration": 19,
    "start_time": "2023-02-19T21:34:44.168Z"
   },
   {
    "duration": 243,
    "start_time": "2023-02-19T21:34:44.188Z"
   },
   {
    "duration": 17,
    "start_time": "2023-02-19T21:34:44.432Z"
   },
   {
    "duration": 23,
    "start_time": "2023-02-19T21:34:44.451Z"
   },
   {
    "duration": 233,
    "start_time": "2023-02-19T21:34:44.475Z"
   },
   {
    "duration": 12,
    "start_time": "2023-02-19T21:34:44.710Z"
   },
   {
    "duration": 1330,
    "start_time": "2023-02-19T21:35:41.711Z"
   },
   {
    "duration": 36,
    "start_time": "2023-02-19T21:35:43.043Z"
   },
   {
    "duration": 18,
    "start_time": "2023-02-19T21:35:43.080Z"
   },
   {
    "duration": 13,
    "start_time": "2023-02-19T21:35:43.101Z"
   },
   {
    "duration": 6,
    "start_time": "2023-02-19T21:35:43.116Z"
   },
   {
    "duration": 174,
    "start_time": "2023-02-19T21:35:43.124Z"
   },
   {
    "duration": 10,
    "start_time": "2023-02-19T21:35:43.300Z"
   },
   {
    "duration": 4,
    "start_time": "2023-02-19T21:35:43.312Z"
   },
   {
    "duration": 21,
    "start_time": "2023-02-19T21:35:43.318Z"
   },
   {
    "duration": 160,
    "start_time": "2023-02-19T21:35:43.342Z"
   },
   {
    "duration": 5,
    "start_time": "2023-02-19T21:35:43.504Z"
   },
   {
    "duration": 1189,
    "start_time": "2023-02-19T21:35:43.511Z"
   },
   {
    "duration": 16,
    "start_time": "2023-02-19T21:35:44.702Z"
   },
   {
    "duration": 20,
    "start_time": "2023-02-19T21:35:44.719Z"
   },
   {
    "duration": 7,
    "start_time": "2023-02-19T21:35:44.741Z"
   },
   {
    "duration": 7,
    "start_time": "2023-02-19T21:35:44.749Z"
   },
   {
    "duration": 3,
    "start_time": "2023-02-19T21:35:44.757Z"
   },
   {
    "duration": 5,
    "start_time": "2023-02-19T21:35:44.762Z"
   },
   {
    "duration": 4,
    "start_time": "2023-02-19T21:35:44.769Z"
   },
   {
    "duration": 6,
    "start_time": "2023-02-19T21:35:44.774Z"
   },
   {
    "duration": 6,
    "start_time": "2023-02-19T21:35:44.781Z"
   },
   {
    "duration": 6,
    "start_time": "2023-02-19T21:35:44.788Z"
   },
   {
    "duration": 13,
    "start_time": "2023-02-19T21:35:44.796Z"
   },
   {
    "duration": 1689,
    "start_time": "2023-02-19T21:35:44.810Z"
   },
   {
    "duration": 6,
    "start_time": "2023-02-19T21:35:46.500Z"
   },
   {
    "duration": 11,
    "start_time": "2023-02-19T21:35:46.507Z"
   },
   {
    "duration": 5,
    "start_time": "2023-02-19T21:35:46.520Z"
   },
   {
    "duration": 7,
    "start_time": "2023-02-19T21:35:46.536Z"
   },
   {
    "duration": 5,
    "start_time": "2023-02-19T21:35:46.544Z"
   },
   {
    "duration": 20,
    "start_time": "2023-02-19T21:35:46.550Z"
   },
   {
    "duration": 10,
    "start_time": "2023-02-19T21:35:46.572Z"
   },
   {
    "duration": 6,
    "start_time": "2023-02-19T21:35:46.584Z"
   },
   {
    "duration": 4,
    "start_time": "2023-02-19T21:35:46.592Z"
   },
   {
    "duration": 57,
    "start_time": "2023-02-19T21:35:46.597Z"
   },
   {
    "duration": 404,
    "start_time": "2023-02-19T21:35:46.656Z"
   },
   {
    "duration": 2537,
    "start_time": "2023-02-19T21:35:47.061Z"
   },
   {
    "duration": 9940,
    "start_time": "2023-02-19T21:35:49.600Z"
   },
   {
    "duration": 193,
    "start_time": "2023-02-19T21:35:59.545Z"
   },
   {
    "duration": 119,
    "start_time": "2023-02-19T21:35:59.739Z"
   },
   {
    "duration": 111,
    "start_time": "2023-02-19T21:35:59.860Z"
   },
   {
    "duration": 5,
    "start_time": "2023-02-19T21:35:59.973Z"
   },
   {
    "duration": 23,
    "start_time": "2023-02-19T21:35:59.979Z"
   },
   {
    "duration": 5,
    "start_time": "2023-02-19T21:36:00.004Z"
   },
   {
    "duration": 39,
    "start_time": "2023-02-19T21:36:00.011Z"
   },
   {
    "duration": 17,
    "start_time": "2023-02-19T21:36:00.052Z"
   },
   {
    "duration": 20,
    "start_time": "2023-02-19T21:36:00.071Z"
   },
   {
    "duration": 245,
    "start_time": "2023-02-19T21:36:00.092Z"
   },
   {
    "duration": 6,
    "start_time": "2023-02-19T21:36:00.338Z"
   },
   {
    "duration": 283,
    "start_time": "2023-02-19T21:36:00.346Z"
   },
   {
    "duration": 6632,
    "start_time": "2023-02-19T21:36:00.630Z"
   },
   {
    "duration": 10482,
    "start_time": "2023-02-19T21:36:07.264Z"
   },
   {
    "duration": 394,
    "start_time": "2023-02-19T21:36:17.747Z"
   },
   {
    "duration": 6,
    "start_time": "2023-02-19T21:36:18.142Z"
   },
   {
    "duration": 49,
    "start_time": "2023-02-19T21:36:18.149Z"
   },
   {
    "duration": 4,
    "start_time": "2023-02-19T21:36:18.200Z"
   },
   {
    "duration": 13,
    "start_time": "2023-02-19T21:36:18.205Z"
   },
   {
    "duration": 127,
    "start_time": "2023-02-19T21:36:18.237Z"
   },
   {
    "duration": 8901,
    "start_time": "2023-02-19T21:36:18.366Z"
   },
   {
    "duration": 228,
    "start_time": "2023-02-19T21:36:27.269Z"
   },
   {
    "duration": 53,
    "start_time": "2023-02-19T21:36:27.499Z"
   },
   {
    "duration": 21,
    "start_time": "2023-02-19T21:36:27.554Z"
   },
   {
    "duration": 241,
    "start_time": "2023-02-19T21:36:27.576Z"
   },
   {
    "duration": 22,
    "start_time": "2023-02-19T21:36:27.819Z"
   },
   {
    "duration": 25,
    "start_time": "2023-02-19T21:36:27.843Z"
   },
   {
    "duration": 235,
    "start_time": "2023-02-19T21:36:27.870Z"
   },
   {
    "duration": 11,
    "start_time": "2023-02-19T21:36:28.107Z"
   },
   {
    "duration": 1299,
    "start_time": "2023-02-19T21:54:04.764Z"
   },
   {
    "duration": 36,
    "start_time": "2023-02-19T21:54:06.064Z"
   },
   {
    "duration": 16,
    "start_time": "2023-02-19T21:54:06.102Z"
   },
   {
    "duration": 11,
    "start_time": "2023-02-19T21:54:06.120Z"
   },
   {
    "duration": 5,
    "start_time": "2023-02-19T21:54:06.133Z"
   },
   {
    "duration": 164,
    "start_time": "2023-02-19T21:54:06.140Z"
   },
   {
    "duration": 8,
    "start_time": "2023-02-19T21:54:06.306Z"
   },
   {
    "duration": 3,
    "start_time": "2023-02-19T21:54:06.316Z"
   },
   {
    "duration": 19,
    "start_time": "2023-02-19T21:54:06.321Z"
   },
   {
    "duration": 164,
    "start_time": "2023-02-19T21:54:06.343Z"
   },
   {
    "duration": 4,
    "start_time": "2023-02-19T21:54:06.509Z"
   },
   {
    "duration": 1189,
    "start_time": "2023-02-19T21:54:06.515Z"
   },
   {
    "duration": 17,
    "start_time": "2023-02-19T21:54:07.705Z"
   },
   {
    "duration": 15,
    "start_time": "2023-02-19T21:54:07.736Z"
   },
   {
    "duration": 10,
    "start_time": "2023-02-19T21:54:07.752Z"
   },
   {
    "duration": 5,
    "start_time": "2023-02-19T21:54:07.763Z"
   },
   {
    "duration": 16,
    "start_time": "2023-02-19T21:54:07.770Z"
   },
   {
    "duration": 15,
    "start_time": "2023-02-19T21:54:07.788Z"
   },
   {
    "duration": 6,
    "start_time": "2023-02-19T21:54:07.805Z"
   },
   {
    "duration": 22,
    "start_time": "2023-02-19T21:54:07.812Z"
   },
   {
    "duration": 29,
    "start_time": "2023-02-19T21:54:07.836Z"
   },
   {
    "duration": 11,
    "start_time": "2023-02-19T21:54:07.867Z"
   },
   {
    "duration": 12,
    "start_time": "2023-02-19T21:54:07.880Z"
   },
   {
    "duration": 1628,
    "start_time": "2023-02-19T21:54:07.893Z"
   },
   {
    "duration": 5,
    "start_time": "2023-02-19T21:54:09.523Z"
   },
   {
    "duration": 5,
    "start_time": "2023-02-19T21:54:09.537Z"
   },
   {
    "duration": 4,
    "start_time": "2023-02-19T21:54:09.543Z"
   },
   {
    "duration": 9,
    "start_time": "2023-02-19T21:54:09.551Z"
   },
   {
    "duration": 4,
    "start_time": "2023-02-19T21:54:09.562Z"
   },
   {
    "duration": 21,
    "start_time": "2023-02-19T21:54:09.568Z"
   },
   {
    "duration": 9,
    "start_time": "2023-02-19T21:54:09.590Z"
   },
   {
    "duration": 5,
    "start_time": "2023-02-19T21:54:09.600Z"
   },
   {
    "duration": 5,
    "start_time": "2023-02-19T21:54:09.606Z"
   },
   {
    "duration": 47,
    "start_time": "2023-02-19T21:54:09.612Z"
   },
   {
    "duration": 401,
    "start_time": "2023-02-19T21:54:09.661Z"
   },
   {
    "duration": 2563,
    "start_time": "2023-02-19T21:54:10.063Z"
   },
   {
    "duration": 10117,
    "start_time": "2023-02-19T21:54:12.627Z"
   },
   {
    "duration": 193,
    "start_time": "2023-02-19T21:54:22.747Z"
   },
   {
    "duration": 140,
    "start_time": "2023-02-19T21:54:22.942Z"
   },
   {
    "duration": 129,
    "start_time": "2023-02-19T21:54:23.083Z"
   },
   {
    "duration": 4,
    "start_time": "2023-02-19T21:54:23.214Z"
   },
   {
    "duration": 37,
    "start_time": "2023-02-19T21:54:23.220Z"
   },
   {
    "duration": 5,
    "start_time": "2023-02-19T21:54:23.258Z"
   },
   {
    "duration": 34,
    "start_time": "2023-02-19T21:54:23.265Z"
   },
   {
    "duration": 20,
    "start_time": "2023-02-19T21:54:23.301Z"
   },
   {
    "duration": 30,
    "start_time": "2023-02-19T21:54:23.323Z"
   },
   {
    "duration": 249,
    "start_time": "2023-02-19T21:54:23.354Z"
   },
   {
    "duration": 6,
    "start_time": "2023-02-19T21:54:23.604Z"
   },
   {
    "duration": 309,
    "start_time": "2023-02-19T21:54:23.612Z"
   },
   {
    "duration": 6590,
    "start_time": "2023-02-19T21:54:23.923Z"
   },
   {
    "duration": 9829,
    "start_time": "2023-02-19T21:54:30.515Z"
   },
   {
    "duration": 316,
    "start_time": "2023-02-19T21:54:40.437Z"
   },
   {
    "duration": 5,
    "start_time": "2023-02-19T21:54:40.754Z"
   },
   {
    "duration": 47,
    "start_time": "2023-02-19T21:54:40.760Z"
   },
   {
    "duration": 3,
    "start_time": "2023-02-19T21:54:40.809Z"
   },
   {
    "duration": 25,
    "start_time": "2023-02-19T21:54:40.813Z"
   },
   {
    "duration": 113,
    "start_time": "2023-02-19T21:54:40.839Z"
   },
   {
    "duration": 9638,
    "start_time": "2023-02-19T21:54:40.954Z"
   },
   {
    "duration": 218,
    "start_time": "2023-02-19T21:54:50.594Z"
   },
   {
    "duration": 52,
    "start_time": "2023-02-19T21:54:50.814Z"
   },
   {
    "duration": 20,
    "start_time": "2023-02-19T21:54:50.868Z"
   },
   {
    "duration": 225,
    "start_time": "2023-02-19T21:54:50.890Z"
   },
   {
    "duration": 20,
    "start_time": "2023-02-19T21:54:51.117Z"
   },
   {
    "duration": 21,
    "start_time": "2023-02-19T21:54:51.139Z"
   },
   {
    "duration": 219,
    "start_time": "2023-02-19T21:54:51.162Z"
   },
   {
    "duration": 11,
    "start_time": "2023-02-19T21:54:51.383Z"
   }
  ],
  "kernelspec": {
   "display_name": "Python 3 (ipykernel)",
   "language": "python",
   "name": "python3"
  },
  "language_info": {
   "codemirror_mode": {
    "name": "ipython",
    "version": 3
   },
   "file_extension": ".py",
   "mimetype": "text/x-python",
   "name": "python",
   "nbconvert_exporter": "python",
   "pygments_lexer": "ipython3",
   "version": "3.9.12"
  },
  "toc": {
   "base_numbering": 1,
   "nav_menu": {},
   "number_sections": true,
   "sideBar": true,
   "skip_h1_title": true,
   "title_cell": "Содержание",
   "title_sidebar": "Contents",
   "toc_cell": true,
   "toc_position": {
    "height": "calc(100% - 180px)",
    "left": "10px",
    "top": "150px",
    "width": "324px"
   },
   "toc_section_display": true,
   "toc_window_display": false
  }
 },
 "nbformat": 4,
 "nbformat_minor": 2
}
