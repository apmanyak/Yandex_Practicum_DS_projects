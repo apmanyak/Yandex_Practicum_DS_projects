{
 "cells": [
  {
   "cell_type": "markdown",
   "metadata": {},
   "source": [
    "# Исследование объявлений о продаже квартир\n",
    "\n",
    "В распоряжении данные сервиса Яндекс.Недвижимость — архив объявлений о продаже квартир в Санкт-Петербурге и соседних населённых пунктов за несколько лет. Нужно научиться определять рыночную стоимость объектов недвижимости. Задача проекта — установить параметры. Это позволит построить автоматизированную систему: она отследит аномалии и мошенническую деятельность. \n",
    "\n",
    "По каждой квартире на продажу доступны два вида данных. Первые вписаны пользователем, вторые — получены автоматически на основе картографических данных. Например, расстояние до центра, аэропорта, ближайшего парка и водоёма. "
   ]
  },
  {
   "cell_type": "markdown",
   "metadata": {},
   "source": [
    "### Откроем файл с данными и изучите общую информацию. "
   ]
  },
  {
   "cell_type": "markdown",
   "metadata": {},
   "source": [
    "**Импортируем библиотеку pandas. Считаем данные из csv-файла в датафрейм и сохраним в переменную data. Путь к файлу:**\n",
    "`/datasets/real_estate_data.csv`"
   ]
  },
  {
   "cell_type": "code",
   "execution_count": 1,
   "metadata": {},
   "outputs": [],
   "source": [
    "import pandas as pd\n",
    "import warnings\n",
    "warnings.simplefilter(\"ignore\")"
   ]
  },
  {
   "cell_type": "code",
   "execution_count": 2,
   "metadata": {},
   "outputs": [],
   "source": [
    "data = pd.read_csv('/datasets/real_estate_data.csv')"
   ]
  },
  {
   "cell_type": "markdown",
   "metadata": {},
   "source": [
    "**Выводим первые 5 строчек датафрейма data на экран**"
   ]
  },
  {
   "cell_type": "code",
   "execution_count": 3,
   "metadata": {},
   "outputs": [
    {
     "data": {
      "text/html": [
       "<div>\n",
       "<style scoped>\n",
       "    .dataframe tbody tr th:only-of-type {\n",
       "        vertical-align: middle;\n",
       "    }\n",
       "\n",
       "    .dataframe tbody tr th {\n",
       "        vertical-align: top;\n",
       "    }\n",
       "\n",
       "    .dataframe thead th {\n",
       "        text-align: right;\n",
       "    }\n",
       "</style>\n",
       "<table border=\"1\" class=\"dataframe\">\n",
       "  <thead>\n",
       "    <tr style=\"text-align: right;\">\n",
       "      <th></th>\n",
       "      <th>total_images\\tlast_price\\ttotal_area\\tfirst_day_exposition\\trooms\\tceiling_height\\tfloors_total\\tliving_area\\tfloor\\tis_apartment\\tstudio\\topen_plan\\tkitchen_area\\tbalcony\\tlocality_name\\tairports_nearest\\tcityCenters_nearest\\tparks_around3000\\tparks_nearest\\tponds_around3000\\tponds_nearest\\tdays_exposition</th>\n",
       "    </tr>\n",
       "  </thead>\n",
       "  <tbody>\n",
       "    <tr>\n",
       "      <th>0</th>\n",
       "      <td>20\\t13000000.0\\t108.0\\t2019-03-07T00:00:00\\t3\\...</td>\n",
       "    </tr>\n",
       "    <tr>\n",
       "      <th>1</th>\n",
       "      <td>7\\t3350000.0\\t40.4\\t2018-12-04T00:00:00\\t1\\t\\t...</td>\n",
       "    </tr>\n",
       "    <tr>\n",
       "      <th>2</th>\n",
       "      <td>10\\t5196000.0\\t56.0\\t2015-08-20T00:00:00\\t2\\t\\...</td>\n",
       "    </tr>\n",
       "    <tr>\n",
       "      <th>3</th>\n",
       "      <td>0\\t64900000.0\\t159.0\\t2015-07-24T00:00:00\\t3\\t...</td>\n",
       "    </tr>\n",
       "    <tr>\n",
       "      <th>4</th>\n",
       "      <td>2\\t10000000.0\\t100.0\\t2018-06-19T00:00:00\\t2\\t...</td>\n",
       "    </tr>\n",
       "  </tbody>\n",
       "</table>\n",
       "</div>"
      ],
      "text/plain": [
       "  total_images\\tlast_price\\ttotal_area\\tfirst_day_exposition\\trooms\\tceiling_height\\tfloors_total\\tliving_area\\tfloor\\tis_apartment\\tstudio\\topen_plan\\tkitchen_area\\tbalcony\\tlocality_name\\tairports_nearest\\tcityCenters_nearest\\tparks_around3000\\tparks_nearest\\tponds_around3000\\tponds_nearest\\tdays_exposition\n",
       "0  20\\t13000000.0\\t108.0\\t2019-03-07T00:00:00\\t3\\...                                                                                                                                                                                                                                                                  \n",
       "1  7\\t3350000.0\\t40.4\\t2018-12-04T00:00:00\\t1\\t\\t...                                                                                                                                                                                                                                                                  \n",
       "2  10\\t5196000.0\\t56.0\\t2015-08-20T00:00:00\\t2\\t\\...                                                                                                                                                                                                                                                                  \n",
       "3  0\\t64900000.0\\t159.0\\t2015-07-24T00:00:00\\t3\\t...                                                                                                                                                                                                                                                                  \n",
       "4  2\\t10000000.0\\t100.0\\t2018-06-19T00:00:00\\t2\\t...                                                                                                                                                                                                                                                                  "
      ]
     },
     "execution_count": 3,
     "metadata": {},
     "output_type": "execute_result"
    }
   ],
   "source": [
    "data.head()"
   ]
  },
  {
   "cell_type": "markdown",
   "metadata": {},
   "source": [
    "Данные склеились в одну строку. Выполним разбивку по колонкам. Разделителем является символ: `\\t`"
   ]
  },
  {
   "cell_type": "code",
   "execution_count": 4,
   "metadata": {},
   "outputs": [],
   "source": [
    "data = pd.read_csv('/datasets/real_estate_data.csv',sep='\\t')"
   ]
  },
  {
   "cell_type": "markdown",
   "metadata": {},
   "source": [
    "**Выводим первые 15 строчек датафрейма data на экран**"
   ]
  },
  {
   "cell_type": "code",
   "execution_count": 5,
   "metadata": {},
   "outputs": [
    {
     "data": {
      "text/html": [
       "<div>\n",
       "<style scoped>\n",
       "    .dataframe tbody tr th:only-of-type {\n",
       "        vertical-align: middle;\n",
       "    }\n",
       "\n",
       "    .dataframe tbody tr th {\n",
       "        vertical-align: top;\n",
       "    }\n",
       "\n",
       "    .dataframe thead th {\n",
       "        text-align: right;\n",
       "    }\n",
       "</style>\n",
       "<table border=\"1\" class=\"dataframe\">\n",
       "  <thead>\n",
       "    <tr style=\"text-align: right;\">\n",
       "      <th></th>\n",
       "      <th>total_images</th>\n",
       "      <th>last_price</th>\n",
       "      <th>total_area</th>\n",
       "      <th>first_day_exposition</th>\n",
       "      <th>rooms</th>\n",
       "      <th>ceiling_height</th>\n",
       "      <th>floors_total</th>\n",
       "      <th>living_area</th>\n",
       "      <th>floor</th>\n",
       "      <th>is_apartment</th>\n",
       "      <th>studio</th>\n",
       "      <th>open_plan</th>\n",
       "      <th>kitchen_area</th>\n",
       "      <th>balcony</th>\n",
       "      <th>locality_name</th>\n",
       "      <th>airports_nearest</th>\n",
       "      <th>cityCenters_nearest</th>\n",
       "      <th>parks_around3000</th>\n",
       "      <th>parks_nearest</th>\n",
       "      <th>ponds_around3000</th>\n",
       "      <th>ponds_nearest</th>\n",
       "      <th>days_exposition</th>\n",
       "    </tr>\n",
       "  </thead>\n",
       "  <tbody>\n",
       "    <tr>\n",
       "      <th>0</th>\n",
       "      <td>20</td>\n",
       "      <td>13000000.0</td>\n",
       "      <td>108.00</td>\n",
       "      <td>2019-03-07T00:00:00</td>\n",
       "      <td>3</td>\n",
       "      <td>2.70</td>\n",
       "      <td>16.0</td>\n",
       "      <td>51.00</td>\n",
       "      <td>8</td>\n",
       "      <td>NaN</td>\n",
       "      <td>False</td>\n",
       "      <td>False</td>\n",
       "      <td>25.00</td>\n",
       "      <td>NaN</td>\n",
       "      <td>Санкт-Петербург</td>\n",
       "      <td>18863.0</td>\n",
       "      <td>16028.0</td>\n",
       "      <td>1.0</td>\n",
       "      <td>482.0</td>\n",
       "      <td>2.0</td>\n",
       "      <td>755.0</td>\n",
       "      <td>NaN</td>\n",
       "    </tr>\n",
       "    <tr>\n",
       "      <th>1</th>\n",
       "      <td>7</td>\n",
       "      <td>3350000.0</td>\n",
       "      <td>40.40</td>\n",
       "      <td>2018-12-04T00:00:00</td>\n",
       "      <td>1</td>\n",
       "      <td>NaN</td>\n",
       "      <td>11.0</td>\n",
       "      <td>18.60</td>\n",
       "      <td>1</td>\n",
       "      <td>NaN</td>\n",
       "      <td>False</td>\n",
       "      <td>False</td>\n",
       "      <td>11.00</td>\n",
       "      <td>2.0</td>\n",
       "      <td>посёлок Шушары</td>\n",
       "      <td>12817.0</td>\n",
       "      <td>18603.0</td>\n",
       "      <td>0.0</td>\n",
       "      <td>NaN</td>\n",
       "      <td>0.0</td>\n",
       "      <td>NaN</td>\n",
       "      <td>81.0</td>\n",
       "    </tr>\n",
       "    <tr>\n",
       "      <th>2</th>\n",
       "      <td>10</td>\n",
       "      <td>5196000.0</td>\n",
       "      <td>56.00</td>\n",
       "      <td>2015-08-20T00:00:00</td>\n",
       "      <td>2</td>\n",
       "      <td>NaN</td>\n",
       "      <td>5.0</td>\n",
       "      <td>34.30</td>\n",
       "      <td>4</td>\n",
       "      <td>NaN</td>\n",
       "      <td>False</td>\n",
       "      <td>False</td>\n",
       "      <td>8.30</td>\n",
       "      <td>0.0</td>\n",
       "      <td>Санкт-Петербург</td>\n",
       "      <td>21741.0</td>\n",
       "      <td>13933.0</td>\n",
       "      <td>1.0</td>\n",
       "      <td>90.0</td>\n",
       "      <td>2.0</td>\n",
       "      <td>574.0</td>\n",
       "      <td>558.0</td>\n",
       "    </tr>\n",
       "    <tr>\n",
       "      <th>3</th>\n",
       "      <td>0</td>\n",
       "      <td>64900000.0</td>\n",
       "      <td>159.00</td>\n",
       "      <td>2015-07-24T00:00:00</td>\n",
       "      <td>3</td>\n",
       "      <td>NaN</td>\n",
       "      <td>14.0</td>\n",
       "      <td>NaN</td>\n",
       "      <td>9</td>\n",
       "      <td>NaN</td>\n",
       "      <td>False</td>\n",
       "      <td>False</td>\n",
       "      <td>NaN</td>\n",
       "      <td>0.0</td>\n",
       "      <td>Санкт-Петербург</td>\n",
       "      <td>28098.0</td>\n",
       "      <td>6800.0</td>\n",
       "      <td>2.0</td>\n",
       "      <td>84.0</td>\n",
       "      <td>3.0</td>\n",
       "      <td>234.0</td>\n",
       "      <td>424.0</td>\n",
       "    </tr>\n",
       "    <tr>\n",
       "      <th>4</th>\n",
       "      <td>2</td>\n",
       "      <td>10000000.0</td>\n",
       "      <td>100.00</td>\n",
       "      <td>2018-06-19T00:00:00</td>\n",
       "      <td>2</td>\n",
       "      <td>3.03</td>\n",
       "      <td>14.0</td>\n",
       "      <td>32.00</td>\n",
       "      <td>13</td>\n",
       "      <td>NaN</td>\n",
       "      <td>False</td>\n",
       "      <td>False</td>\n",
       "      <td>41.00</td>\n",
       "      <td>NaN</td>\n",
       "      <td>Санкт-Петербург</td>\n",
       "      <td>31856.0</td>\n",
       "      <td>8098.0</td>\n",
       "      <td>2.0</td>\n",
       "      <td>112.0</td>\n",
       "      <td>1.0</td>\n",
       "      <td>48.0</td>\n",
       "      <td>121.0</td>\n",
       "    </tr>\n",
       "    <tr>\n",
       "      <th>5</th>\n",
       "      <td>10</td>\n",
       "      <td>2890000.0</td>\n",
       "      <td>30.40</td>\n",
       "      <td>2018-09-10T00:00:00</td>\n",
       "      <td>1</td>\n",
       "      <td>NaN</td>\n",
       "      <td>12.0</td>\n",
       "      <td>14.40</td>\n",
       "      <td>5</td>\n",
       "      <td>NaN</td>\n",
       "      <td>False</td>\n",
       "      <td>False</td>\n",
       "      <td>9.10</td>\n",
       "      <td>NaN</td>\n",
       "      <td>городской посёлок Янино-1</td>\n",
       "      <td>NaN</td>\n",
       "      <td>NaN</td>\n",
       "      <td>NaN</td>\n",
       "      <td>NaN</td>\n",
       "      <td>NaN</td>\n",
       "      <td>NaN</td>\n",
       "      <td>55.0</td>\n",
       "    </tr>\n",
       "    <tr>\n",
       "      <th>6</th>\n",
       "      <td>6</td>\n",
       "      <td>3700000.0</td>\n",
       "      <td>37.30</td>\n",
       "      <td>2017-11-02T00:00:00</td>\n",
       "      <td>1</td>\n",
       "      <td>NaN</td>\n",
       "      <td>26.0</td>\n",
       "      <td>10.60</td>\n",
       "      <td>6</td>\n",
       "      <td>NaN</td>\n",
       "      <td>False</td>\n",
       "      <td>False</td>\n",
       "      <td>14.40</td>\n",
       "      <td>1.0</td>\n",
       "      <td>посёлок Парголово</td>\n",
       "      <td>52996.0</td>\n",
       "      <td>19143.0</td>\n",
       "      <td>0.0</td>\n",
       "      <td>NaN</td>\n",
       "      <td>0.0</td>\n",
       "      <td>NaN</td>\n",
       "      <td>155.0</td>\n",
       "    </tr>\n",
       "    <tr>\n",
       "      <th>7</th>\n",
       "      <td>5</td>\n",
       "      <td>7915000.0</td>\n",
       "      <td>71.60</td>\n",
       "      <td>2019-04-18T00:00:00</td>\n",
       "      <td>2</td>\n",
       "      <td>NaN</td>\n",
       "      <td>24.0</td>\n",
       "      <td>NaN</td>\n",
       "      <td>22</td>\n",
       "      <td>NaN</td>\n",
       "      <td>False</td>\n",
       "      <td>False</td>\n",
       "      <td>18.90</td>\n",
       "      <td>2.0</td>\n",
       "      <td>Санкт-Петербург</td>\n",
       "      <td>23982.0</td>\n",
       "      <td>11634.0</td>\n",
       "      <td>0.0</td>\n",
       "      <td>NaN</td>\n",
       "      <td>0.0</td>\n",
       "      <td>NaN</td>\n",
       "      <td>NaN</td>\n",
       "    </tr>\n",
       "    <tr>\n",
       "      <th>8</th>\n",
       "      <td>20</td>\n",
       "      <td>2900000.0</td>\n",
       "      <td>33.16</td>\n",
       "      <td>2018-05-23T00:00:00</td>\n",
       "      <td>1</td>\n",
       "      <td>NaN</td>\n",
       "      <td>27.0</td>\n",
       "      <td>15.43</td>\n",
       "      <td>26</td>\n",
       "      <td>NaN</td>\n",
       "      <td>False</td>\n",
       "      <td>False</td>\n",
       "      <td>8.81</td>\n",
       "      <td>NaN</td>\n",
       "      <td>посёлок Мурино</td>\n",
       "      <td>NaN</td>\n",
       "      <td>NaN</td>\n",
       "      <td>NaN</td>\n",
       "      <td>NaN</td>\n",
       "      <td>NaN</td>\n",
       "      <td>NaN</td>\n",
       "      <td>189.0</td>\n",
       "    </tr>\n",
       "    <tr>\n",
       "      <th>9</th>\n",
       "      <td>18</td>\n",
       "      <td>5400000.0</td>\n",
       "      <td>61.00</td>\n",
       "      <td>2017-02-26T00:00:00</td>\n",
       "      <td>3</td>\n",
       "      <td>2.50</td>\n",
       "      <td>9.0</td>\n",
       "      <td>43.60</td>\n",
       "      <td>7</td>\n",
       "      <td>NaN</td>\n",
       "      <td>False</td>\n",
       "      <td>False</td>\n",
       "      <td>6.50</td>\n",
       "      <td>2.0</td>\n",
       "      <td>Санкт-Петербург</td>\n",
       "      <td>50898.0</td>\n",
       "      <td>15008.0</td>\n",
       "      <td>0.0</td>\n",
       "      <td>NaN</td>\n",
       "      <td>0.0</td>\n",
       "      <td>NaN</td>\n",
       "      <td>289.0</td>\n",
       "    </tr>\n",
       "    <tr>\n",
       "      <th>10</th>\n",
       "      <td>5</td>\n",
       "      <td>5050000.0</td>\n",
       "      <td>39.60</td>\n",
       "      <td>2017-11-16T00:00:00</td>\n",
       "      <td>1</td>\n",
       "      <td>2.67</td>\n",
       "      <td>12.0</td>\n",
       "      <td>20.30</td>\n",
       "      <td>3</td>\n",
       "      <td>NaN</td>\n",
       "      <td>False</td>\n",
       "      <td>False</td>\n",
       "      <td>8.50</td>\n",
       "      <td>NaN</td>\n",
       "      <td>Санкт-Петербург</td>\n",
       "      <td>38357.0</td>\n",
       "      <td>13878.0</td>\n",
       "      <td>1.0</td>\n",
       "      <td>310.0</td>\n",
       "      <td>2.0</td>\n",
       "      <td>553.0</td>\n",
       "      <td>137.0</td>\n",
       "    </tr>\n",
       "    <tr>\n",
       "      <th>11</th>\n",
       "      <td>9</td>\n",
       "      <td>3300000.0</td>\n",
       "      <td>44.00</td>\n",
       "      <td>2018-08-27T00:00:00</td>\n",
       "      <td>2</td>\n",
       "      <td>NaN</td>\n",
       "      <td>5.0</td>\n",
       "      <td>31.00</td>\n",
       "      <td>4</td>\n",
       "      <td>False</td>\n",
       "      <td>False</td>\n",
       "      <td>False</td>\n",
       "      <td>6.00</td>\n",
       "      <td>1.0</td>\n",
       "      <td>Ломоносов</td>\n",
       "      <td>48252.0</td>\n",
       "      <td>51677.0</td>\n",
       "      <td>0.0</td>\n",
       "      <td>NaN</td>\n",
       "      <td>0.0</td>\n",
       "      <td>NaN</td>\n",
       "      <td>7.0</td>\n",
       "    </tr>\n",
       "    <tr>\n",
       "      <th>12</th>\n",
       "      <td>10</td>\n",
       "      <td>3890000.0</td>\n",
       "      <td>54.00</td>\n",
       "      <td>2016-06-30T00:00:00</td>\n",
       "      <td>2</td>\n",
       "      <td>NaN</td>\n",
       "      <td>5.0</td>\n",
       "      <td>30.00</td>\n",
       "      <td>5</td>\n",
       "      <td>NaN</td>\n",
       "      <td>False</td>\n",
       "      <td>False</td>\n",
       "      <td>9.00</td>\n",
       "      <td>0.0</td>\n",
       "      <td>Сертолово</td>\n",
       "      <td>NaN</td>\n",
       "      <td>NaN</td>\n",
       "      <td>NaN</td>\n",
       "      <td>NaN</td>\n",
       "      <td>NaN</td>\n",
       "      <td>NaN</td>\n",
       "      <td>90.0</td>\n",
       "    </tr>\n",
       "    <tr>\n",
       "      <th>13</th>\n",
       "      <td>20</td>\n",
       "      <td>3550000.0</td>\n",
       "      <td>42.80</td>\n",
       "      <td>2017-07-01T00:00:00</td>\n",
       "      <td>2</td>\n",
       "      <td>2.56</td>\n",
       "      <td>5.0</td>\n",
       "      <td>27.00</td>\n",
       "      <td>5</td>\n",
       "      <td>NaN</td>\n",
       "      <td>False</td>\n",
       "      <td>False</td>\n",
       "      <td>5.20</td>\n",
       "      <td>1.0</td>\n",
       "      <td>Петергоф</td>\n",
       "      <td>37868.0</td>\n",
       "      <td>33058.0</td>\n",
       "      <td>1.0</td>\n",
       "      <td>294.0</td>\n",
       "      <td>3.0</td>\n",
       "      <td>298.0</td>\n",
       "      <td>366.0</td>\n",
       "    </tr>\n",
       "    <tr>\n",
       "      <th>14</th>\n",
       "      <td>1</td>\n",
       "      <td>4400000.0</td>\n",
       "      <td>36.00</td>\n",
       "      <td>2016-06-23T00:00:00</td>\n",
       "      <td>1</td>\n",
       "      <td>NaN</td>\n",
       "      <td>6.0</td>\n",
       "      <td>17.00</td>\n",
       "      <td>1</td>\n",
       "      <td>NaN</td>\n",
       "      <td>False</td>\n",
       "      <td>False</td>\n",
       "      <td>8.00</td>\n",
       "      <td>0.0</td>\n",
       "      <td>Пушкин</td>\n",
       "      <td>20782.0</td>\n",
       "      <td>30759.0</td>\n",
       "      <td>0.0</td>\n",
       "      <td>NaN</td>\n",
       "      <td>1.0</td>\n",
       "      <td>96.0</td>\n",
       "      <td>203.0</td>\n",
       "    </tr>\n",
       "  </tbody>\n",
       "</table>\n",
       "</div>"
      ],
      "text/plain": [
       "    total_images  last_price  total_area first_day_exposition  rooms  \\\n",
       "0             20  13000000.0      108.00  2019-03-07T00:00:00      3   \n",
       "1              7   3350000.0       40.40  2018-12-04T00:00:00      1   \n",
       "2             10   5196000.0       56.00  2015-08-20T00:00:00      2   \n",
       "3              0  64900000.0      159.00  2015-07-24T00:00:00      3   \n",
       "4              2  10000000.0      100.00  2018-06-19T00:00:00      2   \n",
       "5             10   2890000.0       30.40  2018-09-10T00:00:00      1   \n",
       "6              6   3700000.0       37.30  2017-11-02T00:00:00      1   \n",
       "7              5   7915000.0       71.60  2019-04-18T00:00:00      2   \n",
       "8             20   2900000.0       33.16  2018-05-23T00:00:00      1   \n",
       "9             18   5400000.0       61.00  2017-02-26T00:00:00      3   \n",
       "10             5   5050000.0       39.60  2017-11-16T00:00:00      1   \n",
       "11             9   3300000.0       44.00  2018-08-27T00:00:00      2   \n",
       "12            10   3890000.0       54.00  2016-06-30T00:00:00      2   \n",
       "13            20   3550000.0       42.80  2017-07-01T00:00:00      2   \n",
       "14             1   4400000.0       36.00  2016-06-23T00:00:00      1   \n",
       "\n",
       "    ceiling_height  floors_total  living_area  floor is_apartment  studio  \\\n",
       "0             2.70          16.0        51.00      8          NaN   False   \n",
       "1              NaN          11.0        18.60      1          NaN   False   \n",
       "2              NaN           5.0        34.30      4          NaN   False   \n",
       "3              NaN          14.0          NaN      9          NaN   False   \n",
       "4             3.03          14.0        32.00     13          NaN   False   \n",
       "5              NaN          12.0        14.40      5          NaN   False   \n",
       "6              NaN          26.0        10.60      6          NaN   False   \n",
       "7              NaN          24.0          NaN     22          NaN   False   \n",
       "8              NaN          27.0        15.43     26          NaN   False   \n",
       "9             2.50           9.0        43.60      7          NaN   False   \n",
       "10            2.67          12.0        20.30      3          NaN   False   \n",
       "11             NaN           5.0        31.00      4        False   False   \n",
       "12             NaN           5.0        30.00      5          NaN   False   \n",
       "13            2.56           5.0        27.00      5          NaN   False   \n",
       "14             NaN           6.0        17.00      1          NaN   False   \n",
       "\n",
       "    open_plan  kitchen_area  balcony              locality_name  \\\n",
       "0       False         25.00      NaN            Санкт-Петербург   \n",
       "1       False         11.00      2.0             посёлок Шушары   \n",
       "2       False          8.30      0.0            Санкт-Петербург   \n",
       "3       False           NaN      0.0            Санкт-Петербург   \n",
       "4       False         41.00      NaN            Санкт-Петербург   \n",
       "5       False          9.10      NaN  городской посёлок Янино-1   \n",
       "6       False         14.40      1.0          посёлок Парголово   \n",
       "7       False         18.90      2.0            Санкт-Петербург   \n",
       "8       False          8.81      NaN             посёлок Мурино   \n",
       "9       False          6.50      2.0            Санкт-Петербург   \n",
       "10      False          8.50      NaN            Санкт-Петербург   \n",
       "11      False          6.00      1.0                  Ломоносов   \n",
       "12      False          9.00      0.0                  Сертолово   \n",
       "13      False          5.20      1.0                   Петергоф   \n",
       "14      False          8.00      0.0                     Пушкин   \n",
       "\n",
       "    airports_nearest  cityCenters_nearest  parks_around3000  parks_nearest  \\\n",
       "0            18863.0              16028.0               1.0          482.0   \n",
       "1            12817.0              18603.0               0.0            NaN   \n",
       "2            21741.0              13933.0               1.0           90.0   \n",
       "3            28098.0               6800.0               2.0           84.0   \n",
       "4            31856.0               8098.0               2.0          112.0   \n",
       "5                NaN                  NaN               NaN            NaN   \n",
       "6            52996.0              19143.0               0.0            NaN   \n",
       "7            23982.0              11634.0               0.0            NaN   \n",
       "8                NaN                  NaN               NaN            NaN   \n",
       "9            50898.0              15008.0               0.0            NaN   \n",
       "10           38357.0              13878.0               1.0          310.0   \n",
       "11           48252.0              51677.0               0.0            NaN   \n",
       "12               NaN                  NaN               NaN            NaN   \n",
       "13           37868.0              33058.0               1.0          294.0   \n",
       "14           20782.0              30759.0               0.0            NaN   \n",
       "\n",
       "    ponds_around3000  ponds_nearest  days_exposition  \n",
       "0                2.0          755.0              NaN  \n",
       "1                0.0            NaN             81.0  \n",
       "2                2.0          574.0            558.0  \n",
       "3                3.0          234.0            424.0  \n",
       "4                1.0           48.0            121.0  \n",
       "5                NaN            NaN             55.0  \n",
       "6                0.0            NaN            155.0  \n",
       "7                0.0            NaN              NaN  \n",
       "8                NaN            NaN            189.0  \n",
       "9                0.0            NaN            289.0  \n",
       "10               2.0          553.0            137.0  \n",
       "11               0.0            NaN              7.0  \n",
       "12               NaN            NaN             90.0  \n",
       "13               3.0          298.0            366.0  \n",
       "14               1.0           96.0            203.0  "
      ]
     },
     "execution_count": 5,
     "metadata": {},
     "output_type": "execute_result"
    }
   ],
   "source": [
    "pd.set_option('display.max_columns', None)\n",
    "data.head(15)"
   ]
  },
  {
   "cell_type": "markdown",
   "metadata": {},
   "source": [
    "**Выведим основную информацию о датафрейме с помощью метода info().**"
   ]
  },
  {
   "cell_type": "code",
   "execution_count": 6,
   "metadata": {},
   "outputs": [
    {
     "name": "stdout",
     "output_type": "stream",
     "text": [
      "<class 'pandas.core.frame.DataFrame'>\n",
      "RangeIndex: 23699 entries, 0 to 23698\n",
      "Data columns (total 22 columns):\n",
      " #   Column                Non-Null Count  Dtype  \n",
      "---  ------                --------------  -----  \n",
      " 0   total_images          23699 non-null  int64  \n",
      " 1   last_price            23699 non-null  float64\n",
      " 2   total_area            23699 non-null  float64\n",
      " 3   first_day_exposition  23699 non-null  object \n",
      " 4   rooms                 23699 non-null  int64  \n",
      " 5   ceiling_height        14504 non-null  float64\n",
      " 6   floors_total          23613 non-null  float64\n",
      " 7   living_area           21796 non-null  float64\n",
      " 8   floor                 23699 non-null  int64  \n",
      " 9   is_apartment          2775 non-null   object \n",
      " 10  studio                23699 non-null  bool   \n",
      " 11  open_plan             23699 non-null  bool   \n",
      " 12  kitchen_area          21421 non-null  float64\n",
      " 13  balcony               12180 non-null  float64\n",
      " 14  locality_name         23650 non-null  object \n",
      " 15  airports_nearest      18157 non-null  float64\n",
      " 16  cityCenters_nearest   18180 non-null  float64\n",
      " 17  parks_around3000      18181 non-null  float64\n",
      " 18  parks_nearest         8079 non-null   float64\n",
      " 19  ponds_around3000      18181 non-null  float64\n",
      " 20  ponds_nearest         9110 non-null   float64\n",
      " 21  days_exposition       20518 non-null  float64\n",
      "dtypes: bool(2), float64(14), int64(3), object(3)\n",
      "memory usage: 3.7+ MB\n"
     ]
    }
   ],
   "source": [
    "data.info()"
   ]
  },
  {
   "cell_type": "markdown",
   "metadata": {},
   "source": [
    "В таблице 22 столбца. \n",
    "\n",
    "Описание столбцов:\n",
    "- **airports_nearest** — расстояние до ближайшего аэропорта в метрах (м)\n",
    "- **balcony** — число балконов\n",
    "- **ceiling_height** — высота потолков (м)\n",
    "- **cityCenters_nearest** — расстояние до центра города (м)\n",
    "- **days_exposition** — сколько дней было размещено объявление (от публикации до снятия)\n",
    "- **first_day_exposition** — дата публикации\n",
    "- **floor** — этаж\n",
    "- **floors_total** — всего этажей в доме\n",
    "- **is_apartment** — апартаменты (булев тип)\n",
    "- **kitchen_area** — площадь кухни в квадратных метрах (м²)\n",
    "- **last_price** — цена на момент снятия с публикации\n",
    "- **living_area** — жилая площадь в квадратных метрах (м²)\n",
    "- **locality_name** — название населённого пункта\n",
    "- **open_plan** — свободная планировка (булев тип)\n",
    "- **parks_around3000** — число парков в радиусе 3 км\n",
    "- **parks_nearest** — расстояние до ближайшего парка (м)\n",
    "- **ponds_around3000** — число водоёмов в радиусе 3 км\n",
    "- **ponds_nearest** — расстояние до ближайшего водоёма (м)\n",
    "- **rooms** — число комнат\n",
    "- **studio** — квартира-студия (булев тип)\n",
    "- **total_area** — общая площадь квартиры в квадратных метрах (м²)\n",
    "- **total_images** — число фотографий квартиры в объявлении\n",
    "\n",
    "Количество значений в столбцах различается. Значит, в данных есть пропущенные значения."
   ]
  },
  {
   "cell_type": "markdown",
   "metadata": {},
   "source": [
    "Также некоторые столбцы не соответсвуют своему заявленному типу данных.\n",
    "\n",
    "Так столбец **is_apartment** должен хранить данные в `bool` по исходному условию. \n",
    "\n",
    "Следующие столбцы в дальнейшем необходимо будет перевесети в тип данных `int64`: \n",
    "- **balcony** \n",
    "- **floors_total** \n",
    "- **parks_around3000**\n",
    "- **ponds_around3000** \n",
    "- **days_exposition** \n",
    "\n",
    "Так как кол-во балконов, всего этаж, кол-во парков, кол-во водоемов, и кол-во дней не может быть дробным значением.\n",
    "\n",
    "А **first_day_exposition** перевести в `datetime64`"
   ]
  },
  {
   "cell_type": "markdown",
   "metadata": {},
   "source": [
    "Также некоторые столбцы записаны не в хорошем стиле. Выведим все столбцы."
   ]
  },
  {
   "cell_type": "code",
   "execution_count": 7,
   "metadata": {},
   "outputs": [
    {
     "data": {
      "text/plain": [
       "Index(['total_images', 'last_price', 'total_area', 'first_day_exposition',\n",
       "       'rooms', 'ceiling_height', 'floors_total', 'living_area', 'floor',\n",
       "       'is_apartment', 'studio', 'open_plan', 'kitchen_area', 'balcony',\n",
       "       'locality_name', 'airports_nearest', 'cityCenters_nearest',\n",
       "       'parks_around3000', 'parks_nearest', 'ponds_around3000',\n",
       "       'ponds_nearest', 'days_exposition'],\n",
       "      dtype='object')"
      ]
     },
     "execution_count": 7,
     "metadata": {},
     "output_type": "execute_result"
    }
   ],
   "source": [
    "data.columns"
   ]
  },
  {
   "cell_type": "markdown",
   "metadata": {},
   "source": [
    "Необходимо скорректировать наименования у столбцов: **cityCenters_nearest**, **parks_around3000**, **ponds_around3000**"
   ]
  },
  {
   "cell_type": "code",
   "execution_count": 8,
   "metadata": {},
   "outputs": [],
   "source": [
    "# переименование столбцов\n",
    "data = data.rename(\n",
    "    columns={\n",
    "    'cityCenters_nearest': 'city_centers_nearest',\n",
    "       'parks_around3000': 'parks_around_3000',\n",
    "       'ponds_around3000': 'ponds_around_3000'\n",
    "    }\n",
    ")"
   ]
  },
  {
   "cell_type": "code",
   "execution_count": 9,
   "metadata": {},
   "outputs": [
    {
     "data": {
      "text/plain": [
       "Index(['total_images', 'last_price', 'total_area', 'first_day_exposition',\n",
       "       'rooms', 'ceiling_height', 'floors_total', 'living_area', 'floor',\n",
       "       'is_apartment', 'studio', 'open_plan', 'kitchen_area', 'balcony',\n",
       "       'locality_name', 'airports_nearest', 'city_centers_nearest',\n",
       "       'parks_around_3000', 'parks_nearest', 'ponds_around_3000',\n",
       "       'ponds_nearest', 'days_exposition'],\n",
       "      dtype='object')"
      ]
     },
     "execution_count": 9,
     "metadata": {},
     "output_type": "execute_result"
    }
   ],
   "source": [
    "# проверка результатов - перечень названий столбцов\n",
    "data.columns"
   ]
  },
  {
   "cell_type": "markdown",
   "metadata": {},
   "source": [
    "**Построение общей гистограммы для всех числовых столбцов таблицы**"
   ]
  },
  {
   "cell_type": "code",
   "execution_count": 10,
   "metadata": {},
   "outputs": [
    {
     "data": {
      "image/png": "[encoded data removed]",
      "text/plain": [
       "<Figure size 1080x1440 with 20 Axes>"
      ]
     },
     "metadata": {
      "needs_background": "light"
     },
     "output_type": "display_data"
    }
   ],
   "source": [
    "data.hist(figsize=(15, 20));"
   ]
  },
  {
   "cell_type": "markdown",
   "metadata": {},
   "source": [
    "По представленным гистограмма наблюдаются возможные аномалии по значениям в столбцах: \n",
    "- ceiling_height - наблюдаеется один большой пик, но при этом шкала по оси х доходит до знаечния 100\n",
    "- last_price - наблюдаеется один большой пик, но при этом шкала по оси х доходит до знаечния 8\n",
    "- total_area - наблюдаются возможные случайные размеры помещений более 200, что для наших исследований может не представлять значение.\n",
    "- kitchen_area  - наблюдаются возможные случайные размеры помещений более 75, что для наших исследований может не представлять значение.\n",
    "- living_area - наблюдаются возможные случайные размеры помещений более 200, что для наших исследований может не представлять значение.\n"
   ]
  },
  {
   "cell_type": "markdown",
   "metadata": {},
   "source": [
    "Вывод: \n",
    "Данным требуется предобработка. Необходимо некоторые столбцы перевести в нужный тип данных. Наблюдается несостыковка с количеством строк в некоторых столбцах, следовательно данные в них отсутсвуют. Необходимо данные также будет проверить на дубликаты. И провести анализ данных в столбцах с целью того, чтобы убедиться, что отсутсвуют в них аномалии. Также названия некоторых столбцов не написаны в хорошем стиле."
   ]
  },
  {
   "cell_type": "markdown",
   "metadata": {},
   "source": [
    "### Предобработка данных"
   ]
  },
  {
   "cell_type": "markdown",
   "metadata": {},
   "source": [
    "1.\tНайдите и изучите пропущенные значения в столбцах:\n",
    "- Определите, в каких столбцах есть пропуски.\n",
    "- Заполните пропущенные значения там, где это возможно. Например, если продавец не указал число балконов, то, скорее всего, в его квартире их нет. Такие пропуски правильно заменить на 0. Если логичную замену предложить невозможно, то оставьте эти значения пустыми. Пропуски — тоже важный сигнал, который нужно учитывать.\n",
    "- В ячейке с типом markdown укажите причины, которые могли привести к пропускам в данных.\n",
    "2.\tРассмотрите типы данных в каждом столбце:\n",
    "- Найдите столбцы, в которых нужно изменить тип данных.\n",
    "- Преобразуйте тип данных в выбранных столбцах.\n",
    "- В ячейке с типом markdown поясните, почему нужно изменить тип данных.\n",
    "3.\tИзучите уникальные значения в столбце с названиями и устраните неявные дубликаты. Например, «поселок Рябово» и «поселок городского типа Рябово», «поселок Тельмана» и «посёлок Тельмана» — это обозначения одних и тех же населённых пунктов. Вы можете заменить названия в существующем столбце или создать новый с названиями без дубликатов.\n",
    "4.\tНайдите и устраните редкие и выбивающиеся значения. Например, в столбце ceiling_height может быть указана высота потолков 25 м и 32 м. Логично предположить, что на самом деле это вещественные значения: 2.5 м и 3.2 м. Попробуйте обработать аномалии в этом и других столбцах.\n",
    "- Если природа аномалии понятна и данные действительно искажены, то восстановите корректное значение.\n",
    "- В противном случае удалите редкие и выбивающиеся значения.\n",
    "- В ячейке с типом markdown опишите, какие особенности в данных вы обнаружили.\n"
   ]
  },
  {
   "cell_type": "markdown",
   "metadata": {},
   "source": [
    "### Устранение пропусков"
   ]
  },
  {
   "cell_type": "markdown",
   "metadata": {},
   "source": [
    "Выведим количество пропущенных значений для каждого столбца. "
   ]
  },
  {
   "cell_type": "code",
   "execution_count": 11,
   "metadata": {},
   "outputs": [
    {
     "data": {
      "text/plain": [
       "is_apartment            20924\n",
       "parks_nearest           15620\n",
       "ponds_nearest           14589\n",
       "balcony                 11519\n",
       "ceiling_height           9195\n",
       "airports_nearest         5542\n",
       "city_centers_nearest     5519\n",
       "ponds_around_3000        5518\n",
       "parks_around_3000        5518\n",
       "days_exposition          3181\n",
       "kitchen_area             2278\n",
       "living_area              1903\n",
       "floors_total               86\n",
       "locality_name              49\n",
       "total_images                0\n",
       "last_price                  0\n",
       "studio                      0\n",
       "floor                       0\n",
       "rooms                       0\n",
       "first_day_exposition        0\n",
       "total_area                  0\n",
       "open_plan                   0\n",
       "dtype: int64"
      ]
     },
     "execution_count": 11,
     "metadata": {},
     "output_type": "execute_result"
    }
   ],
   "source": [
    "data.isna().sum().sort_values(ascending=False)"
   ]
  },
  {
   "cell_type": "markdown",
   "metadata": {},
   "source": [
    "Рассчитаем в процентном соотношение какую часть эти пропуски составляют от всех строк."
   ]
  },
  {
   "cell_type": "code",
   "execution_count": 12,
   "metadata": {},
   "outputs": [],
   "source": [
    "data_nan_count =  (\n",
    "    pd.DataFrame(\n",
    "        data.isna().sum()\n",
    "        .sort_values(ascending=False) \n",
    "        .reset_index())\n",
    ")"
   ]
  },
  {
   "cell_type": "code",
   "execution_count": 13,
   "metadata": {},
   "outputs": [],
   "source": [
    "#Переименование столбцов\n",
    "data_nan_count.columns = ['name_column','nan_count']"
   ]
  },
  {
   "cell_type": "markdown",
   "metadata": {},
   "source": [
    "Проведем расчет в каком процентном соотношение пропуски составляют от всех строк"
   ]
  },
  {
   "cell_type": "code",
   "execution_count": 14,
   "metadata": {},
   "outputs": [],
   "source": [
    "#Создадим новый столбец 'nan_%' \n",
    "data_nan_count['nan_%'] = (data_nan_count['nan_count']/len(data))*100"
   ]
  },
  {
   "cell_type": "code",
   "execution_count": 15,
   "metadata": {},
   "outputs": [
    {
     "data": {
      "text/html": [
       "<div>\n",
       "<style scoped>\n",
       "    .dataframe tbody tr th:only-of-type {\n",
       "        vertical-align: middle;\n",
       "    }\n",
       "\n",
       "    .dataframe tbody tr th {\n",
       "        vertical-align: top;\n",
       "    }\n",
       "\n",
       "    .dataframe thead th {\n",
       "        text-align: right;\n",
       "    }\n",
       "</style>\n",
       "<table border=\"1\" class=\"dataframe\">\n",
       "  <thead>\n",
       "    <tr style=\"text-align: right;\">\n",
       "      <th></th>\n",
       "      <th>name_column</th>\n",
       "      <th>nan_count</th>\n",
       "      <th>nan_%</th>\n",
       "    </tr>\n",
       "  </thead>\n",
       "  <tbody>\n",
       "    <tr>\n",
       "      <th>0</th>\n",
       "      <td>is_apartment</td>\n",
       "      <td>20924</td>\n",
       "      <td>88.290645</td>\n",
       "    </tr>\n",
       "    <tr>\n",
       "      <th>1</th>\n",
       "      <td>parks_nearest</td>\n",
       "      <td>15620</td>\n",
       "      <td>65.909954</td>\n",
       "    </tr>\n",
       "    <tr>\n",
       "      <th>2</th>\n",
       "      <td>ponds_nearest</td>\n",
       "      <td>14589</td>\n",
       "      <td>61.559559</td>\n",
       "    </tr>\n",
       "    <tr>\n",
       "      <th>3</th>\n",
       "      <td>balcony</td>\n",
       "      <td>11519</td>\n",
       "      <td>48.605426</td>\n",
       "    </tr>\n",
       "    <tr>\n",
       "      <th>4</th>\n",
       "      <td>ceiling_height</td>\n",
       "      <td>9195</td>\n",
       "      <td>38.799105</td>\n",
       "    </tr>\n",
       "    <tr>\n",
       "      <th>5</th>\n",
       "      <td>airports_nearest</td>\n",
       "      <td>5542</td>\n",
       "      <td>23.384953</td>\n",
       "    </tr>\n",
       "    <tr>\n",
       "      <th>6</th>\n",
       "      <td>city_centers_nearest</td>\n",
       "      <td>5519</td>\n",
       "      <td>23.287902</td>\n",
       "    </tr>\n",
       "    <tr>\n",
       "      <th>7</th>\n",
       "      <td>ponds_around_3000</td>\n",
       "      <td>5518</td>\n",
       "      <td>23.283683</td>\n",
       "    </tr>\n",
       "    <tr>\n",
       "      <th>8</th>\n",
       "      <td>parks_around_3000</td>\n",
       "      <td>5518</td>\n",
       "      <td>23.283683</td>\n",
       "    </tr>\n",
       "    <tr>\n",
       "      <th>9</th>\n",
       "      <td>days_exposition</td>\n",
       "      <td>3181</td>\n",
       "      <td>13.422507</td>\n",
       "    </tr>\n",
       "    <tr>\n",
       "      <th>10</th>\n",
       "      <td>kitchen_area</td>\n",
       "      <td>2278</td>\n",
       "      <td>9.612220</td>\n",
       "    </tr>\n",
       "    <tr>\n",
       "      <th>11</th>\n",
       "      <td>living_area</td>\n",
       "      <td>1903</td>\n",
       "      <td>8.029875</td>\n",
       "    </tr>\n",
       "    <tr>\n",
       "      <th>12</th>\n",
       "      <td>floors_total</td>\n",
       "      <td>86</td>\n",
       "      <td>0.362885</td>\n",
       "    </tr>\n",
       "    <tr>\n",
       "      <th>13</th>\n",
       "      <td>locality_name</td>\n",
       "      <td>49</td>\n",
       "      <td>0.206760</td>\n",
       "    </tr>\n",
       "  </tbody>\n",
       "</table>\n",
       "</div>"
      ],
      "text/plain": [
       "             name_column  nan_count      nan_%\n",
       "0           is_apartment      20924  88.290645\n",
       "1          parks_nearest      15620  65.909954\n",
       "2          ponds_nearest      14589  61.559559\n",
       "3                balcony      11519  48.605426\n",
       "4         ceiling_height       9195  38.799105\n",
       "5       airports_nearest       5542  23.384953\n",
       "6   city_centers_nearest       5519  23.287902\n",
       "7      ponds_around_3000       5518  23.283683\n",
       "8      parks_around_3000       5518  23.283683\n",
       "9        days_exposition       3181  13.422507\n",
       "10          kitchen_area       2278   9.612220\n",
       "11           living_area       1903   8.029875\n",
       "12          floors_total         86   0.362885\n",
       "13         locality_name         49   0.206760"
      ]
     },
     "execution_count": 15,
     "metadata": {},
     "output_type": "execute_result"
    }
   ],
   "source": [
    "#Вывод столбцов в которых присутствуют пропуски\n",
    "data_nan_count[data_nan_count['nan_count'] > 0]"
   ]
  },
  {
   "cell_type": "markdown",
   "metadata": {},
   "source": [
    "Наибольшее кол-во пропусков в столбце **is_apartment**. Более 88%. Однако данные из этого столбца нам не нужны для исследования в данном проекте, поэтому пустые строки можно заполнить любым значением. \n",
    "Природа же данных пропуков возможна в том, что все представленные квартиры не являются \"апартаментами\" и при внесении данных не стали это указывать."
   ]
  },
  {
   "cell_type": "markdown",
   "metadata": {},
   "source": [
    "Вычислим сколько строк с информацией, что квартиры являются апартаментами."
   ]
  },
  {
   "cell_type": "code",
   "execution_count": 16,
   "metadata": {},
   "outputs": [
    {
     "data": {
      "text/plain": [
       "50"
      ]
     },
     "execution_count": 16,
     "metadata": {},
     "output_type": "execute_result"
    }
   ],
   "source": [
    "len(data[data['is_apartment'] == True])"
   ]
  },
  {
   "cell_type": "markdown",
   "metadata": {},
   "source": [
    "Вычислим сколько строк с информацией, что квартиры не являются апартаментами."
   ]
  },
  {
   "cell_type": "code",
   "execution_count": 17,
   "metadata": {},
   "outputs": [
    {
     "data": {
      "text/plain": [
       "2725"
      ]
     },
     "execution_count": 17,
     "metadata": {},
     "output_type": "execute_result"
    }
   ],
   "source": [
    "len(data[data['is_apartment'] == False])"
   ]
  },
  {
   "cell_type": "markdown",
   "metadata": {},
   "source": [
    "Как можно наблюдать по большей части указывали, что квартиры не являются апартаментами. Но поспешные выводы делать не будем. Зафиксируем, что значения пропущены и в итоговом отчете укажем на данный столбец, чтобы перепроверили информацию."
   ]
  },
  {
   "cell_type": "markdown",
   "metadata": {},
   "source": [
    "Заполним пока что в столбце **is_apartment** пустые строки значение \"False\", чтобы столбец соответствовал заданному типу данных по условию, но создадим столбец **is_apartment_missing** в котором указжем было ли нам известно значение. Там где была пустая строка напишем \"Unknown\", а где были значения укажем \"Known\". "
   ]
  },
  {
   "cell_type": "markdown",
   "metadata": {},
   "source": [
    "Так как такие столбцы с фиксациией какие значения были пропущены возможно будем создавать и для других столбцов, то создадим функцию."
   ]
  },
  {
   "cell_type": "code",
   "execution_count": 18,
   "metadata": {},
   "outputs": [],
   "source": [
    "def missing(column_in,column_out):\n",
    "# сохраним в переменную индексы в которых отсутсвуют пропуски\n",
    "    index_0 = (\n",
    "    data.loc[data[column_in].isna() == False].index\n",
    ")\n",
    "    # Создадим  столбец \"is_apartment_missing\" и заполним его\n",
    "    data.loc[index_0,column_out] = 'Known'\n",
    "    data[column_out] = data[column_out].fillna('Unknown')\n",
    "    \n",
    "    return data[column_out]\n",
    "        "
   ]
  },
  {
   "cell_type": "code",
   "execution_count": 19,
   "metadata": {},
   "outputs": [],
   "source": [
    "missing('is_apartment','is_apartment_missing');"
   ]
  },
  {
   "cell_type": "code",
   "execution_count": 20,
   "metadata": {},
   "outputs": [],
   "source": [
    "# Заполним пропуски\n",
    "data['is_apartment'] = data['is_apartment'].fillna(False)"
   ]
  },
  {
   "cell_type": "code",
   "execution_count": 21,
   "metadata": {},
   "outputs": [
    {
     "data": {
      "text/html": [
       "<div>\n",
       "<style scoped>\n",
       "    .dataframe tbody tr th:only-of-type {\n",
       "        vertical-align: middle;\n",
       "    }\n",
       "\n",
       "    .dataframe tbody tr th {\n",
       "        vertical-align: top;\n",
       "    }\n",
       "\n",
       "    .dataframe thead th {\n",
       "        text-align: right;\n",
       "    }\n",
       "</style>\n",
       "<table border=\"1\" class=\"dataframe\">\n",
       "  <thead>\n",
       "    <tr style=\"text-align: right;\">\n",
       "      <th></th>\n",
       "      <th>is_apartment</th>\n",
       "      <th>is_apartment_missing</th>\n",
       "    </tr>\n",
       "  </thead>\n",
       "  <tbody>\n",
       "    <tr>\n",
       "      <th>0</th>\n",
       "      <td>False</td>\n",
       "      <td>Unknown</td>\n",
       "    </tr>\n",
       "    <tr>\n",
       "      <th>1</th>\n",
       "      <td>False</td>\n",
       "      <td>Unknown</td>\n",
       "    </tr>\n",
       "    <tr>\n",
       "      <th>2</th>\n",
       "      <td>False</td>\n",
       "      <td>Unknown</td>\n",
       "    </tr>\n",
       "    <tr>\n",
       "      <th>3</th>\n",
       "      <td>False</td>\n",
       "      <td>Unknown</td>\n",
       "    </tr>\n",
       "    <tr>\n",
       "      <th>4</th>\n",
       "      <td>False</td>\n",
       "      <td>Unknown</td>\n",
       "    </tr>\n",
       "    <tr>\n",
       "      <th>5</th>\n",
       "      <td>False</td>\n",
       "      <td>Unknown</td>\n",
       "    </tr>\n",
       "    <tr>\n",
       "      <th>6</th>\n",
       "      <td>False</td>\n",
       "      <td>Unknown</td>\n",
       "    </tr>\n",
       "    <tr>\n",
       "      <th>7</th>\n",
       "      <td>False</td>\n",
       "      <td>Unknown</td>\n",
       "    </tr>\n",
       "    <tr>\n",
       "      <th>8</th>\n",
       "      <td>False</td>\n",
       "      <td>Unknown</td>\n",
       "    </tr>\n",
       "    <tr>\n",
       "      <th>9</th>\n",
       "      <td>False</td>\n",
       "      <td>Unknown</td>\n",
       "    </tr>\n",
       "    <tr>\n",
       "      <th>10</th>\n",
       "      <td>False</td>\n",
       "      <td>Unknown</td>\n",
       "    </tr>\n",
       "    <tr>\n",
       "      <th>11</th>\n",
       "      <td>False</td>\n",
       "      <td>Known</td>\n",
       "    </tr>\n",
       "    <tr>\n",
       "      <th>12</th>\n",
       "      <td>False</td>\n",
       "      <td>Unknown</td>\n",
       "    </tr>\n",
       "    <tr>\n",
       "      <th>13</th>\n",
       "      <td>False</td>\n",
       "      <td>Unknown</td>\n",
       "    </tr>\n",
       "    <tr>\n",
       "      <th>14</th>\n",
       "      <td>False</td>\n",
       "      <td>Unknown</td>\n",
       "    </tr>\n",
       "  </tbody>\n",
       "</table>\n",
       "</div>"
      ],
      "text/plain": [
       "    is_apartment is_apartment_missing\n",
       "0          False              Unknown\n",
       "1          False              Unknown\n",
       "2          False              Unknown\n",
       "3          False              Unknown\n",
       "4          False              Unknown\n",
       "5          False              Unknown\n",
       "6          False              Unknown\n",
       "7          False              Unknown\n",
       "8          False              Unknown\n",
       "9          False              Unknown\n",
       "10         False              Unknown\n",
       "11         False                Known\n",
       "12         False              Unknown\n",
       "13         False              Unknown\n",
       "14         False              Unknown"
      ]
     },
     "execution_count": 21,
     "metadata": {},
     "output_type": "execute_result"
    }
   ],
   "source": [
    "#Выведим первые 15 строк таблицы\n",
    "data.loc[:,['is_apartment','is_apartment_missing']].head(15)"
   ]
  },
  {
   "cell_type": "code",
   "execution_count": 22,
   "metadata": {},
   "outputs": [
    {
     "data": {
      "text/plain": [
       "parks_nearest           15620\n",
       "ponds_nearest           14589\n",
       "balcony                 11519\n",
       "ceiling_height           9195\n",
       "airports_nearest         5542\n",
       "city_centers_nearest     5519\n",
       "ponds_around_3000        5518\n",
       "parks_around_3000        5518\n",
       "days_exposition          3181\n",
       "kitchen_area             2278\n",
       "living_area              1903\n",
       "floors_total               86\n",
       "locality_name              49\n",
       "total_images                0\n",
       "open_plan                   0\n",
       "last_price                  0\n",
       "studio                      0\n",
       "is_apartment                0\n",
       "floor                       0\n",
       "rooms                       0\n",
       "first_day_exposition        0\n",
       "total_area                  0\n",
       "is_apartment_missing        0\n",
       "dtype: int64"
      ]
     },
     "execution_count": 22,
     "metadata": {},
     "output_type": "execute_result"
    }
   ],
   "source": [
    "# подсчёт пропусков и сортировка по убыванию пропусков\n",
    "\n",
    "data.isna().sum().sort_values(ascending=False)"
   ]
  },
  {
   "cell_type": "markdown",
   "metadata": {},
   "source": [
    "Также нам не требуются для дальнейшего анализа значения в столбцах **ponds_nearest** (66% пропусков) и **balcony** (49% пропусков). Пропуски в **ponds_nearest**  вероятней всего означают, что водоемов поблизости нет и при составлении объявления данный пункт не заполнялся. С балконами есть предположение, что они тоже отсутсвуют в квартире и при составление их просто также не указывали.\n",
    "\n",
    "В итоге:\n",
    "Можем заполнить пустые строки в столбце **ponds_nearest**  значением -1 или 'outside' или 'unknown'.\n",
    "А в **balcony** значением 0 или 'unknown'. \n",
    "\n",
    "Но прежде чем заполнять строки в столбце **ponds_nearest** проверим какое значение в столбце **ponds_around_3000**. Ведь если водоемов поблизости нет, то значение в них равно 0. Поэтому прежде проверим данный момент.\n",
    "\n",
    "И так как значений пропущенных достаточно много (50-60%) и мы делаем предположение, то создадим столбцы **ponds_nearest_missing** и **balcony_missing** в которых будем указывать какие значения знали, а какие нет, чтобы те кто выгружал данные потом перепроверили информацию."
   ]
  },
  {
   "cell_type": "code",
   "execution_count": 23,
   "metadata": {},
   "outputs": [],
   "source": [
    "missing('balcony','balcony_missing');\n",
    "missing('ponds_nearest','ponds_nearest_missing');"
   ]
  },
  {
   "cell_type": "code",
   "execution_count": 24,
   "metadata": {},
   "outputs": [],
   "source": [
    "# Заполним пустые строки 0 в столбце 'balcony'\n",
    "data['balcony'] = data['balcony'].fillna(0)"
   ]
  },
  {
   "cell_type": "code",
   "execution_count": 25,
   "metadata": {},
   "outputs": [
    {
     "data": {
      "text/html": [
       "<div>\n",
       "<style scoped>\n",
       "    .dataframe tbody tr th:only-of-type {\n",
       "        vertical-align: middle;\n",
       "    }\n",
       "\n",
       "    .dataframe tbody tr th {\n",
       "        vertical-align: top;\n",
       "    }\n",
       "\n",
       "    .dataframe thead th {\n",
       "        text-align: right;\n",
       "    }\n",
       "</style>\n",
       "<table border=\"1\" class=\"dataframe\">\n",
       "  <thead>\n",
       "    <tr style=\"text-align: right;\">\n",
       "      <th></th>\n",
       "      <th>balcony</th>\n",
       "      <th>balcony_missing</th>\n",
       "    </tr>\n",
       "  </thead>\n",
       "  <tbody>\n",
       "    <tr>\n",
       "      <th>0</th>\n",
       "      <td>0.0</td>\n",
       "      <td>Unknown</td>\n",
       "    </tr>\n",
       "    <tr>\n",
       "      <th>1</th>\n",
       "      <td>2.0</td>\n",
       "      <td>Known</td>\n",
       "    </tr>\n",
       "    <tr>\n",
       "      <th>2</th>\n",
       "      <td>0.0</td>\n",
       "      <td>Known</td>\n",
       "    </tr>\n",
       "    <tr>\n",
       "      <th>3</th>\n",
       "      <td>0.0</td>\n",
       "      <td>Known</td>\n",
       "    </tr>\n",
       "    <tr>\n",
       "      <th>4</th>\n",
       "      <td>0.0</td>\n",
       "      <td>Unknown</td>\n",
       "    </tr>\n",
       "  </tbody>\n",
       "</table>\n",
       "</div>"
      ],
      "text/plain": [
       "   balcony balcony_missing\n",
       "0      0.0         Unknown\n",
       "1      2.0           Known\n",
       "2      0.0           Known\n",
       "3      0.0           Known\n",
       "4      0.0         Unknown"
      ]
     },
     "execution_count": 25,
     "metadata": {},
     "output_type": "execute_result"
    }
   ],
   "source": [
    "#Выведим первые 5 строк таблицы \n",
    "data.loc[:,['balcony','balcony_missing']].head(5)"
   ]
  },
  {
   "cell_type": "code",
   "execution_count": 26,
   "metadata": {},
   "outputs": [],
   "source": [
    "#заполним пустые строки в столбце 'ponds_nearest' \n",
    "#с учетом значений в 'ponds_around_3000'\n",
    "\n",
    "data.loc[data['ponds_around_3000'] == 0, 'ponds_nearest'] = -1\n",
    "\n",
    "#data.head(5)"
   ]
  },
  {
   "cell_type": "code",
   "execution_count": 27,
   "metadata": {},
   "outputs": [
    {
     "data": {
      "text/plain": [
       "parks_nearest            15620\n",
       "ceiling_height            9195\n",
       "airports_nearest          5542\n",
       "city_centers_nearest      5519\n",
       "ponds_nearest             5518\n",
       "ponds_around_3000         5518\n",
       "parks_around_3000         5518\n",
       "days_exposition           3181\n",
       "kitchen_area              2278\n",
       "living_area               1903\n",
       "floors_total                86\n",
       "locality_name               49\n",
       "balcony_missing              0\n",
       "is_apartment_missing         0\n",
       "total_images                 0\n",
       "balcony                      0\n",
       "last_price                   0\n",
       "open_plan                    0\n",
       "studio                       0\n",
       "is_apartment                 0\n",
       "floor                        0\n",
       "rooms                        0\n",
       "first_day_exposition         0\n",
       "total_area                   0\n",
       "ponds_nearest_missing        0\n",
       "dtype: int64"
      ]
     },
     "execution_count": 27,
     "metadata": {},
     "output_type": "execute_result"
    }
   ],
   "source": [
    "# подсчёт пропусков и сортировка по убыванию пропусков\n",
    "\n",
    "data.isna().sum().sort_values(ascending=False)"
   ]
  },
  {
   "cell_type": "markdown",
   "metadata": {},
   "source": [
    "Оставшиеся столбцы с пропусками нам понадобятся в дальнейших иследованиях. Попробуем выяснить причину эту пропусков и по возможности их устранить."
   ]
  },
  {
   "cell_type": "markdown",
   "metadata": {},
   "source": [
    "В **parks_nearest** около 66% пропущенных строк. Достаточно большое кол-во. Вероятно причина такая-же, как и с водоемами. Вероятно рядом с квартирами парков нет. "
   ]
  },
  {
   "cell_type": "markdown",
   "metadata": {},
   "source": [
    "Попробуем часть пропусков в **parks_nearest** восстановить с учетом значений в столбце **parks_around_3000**. Так если парков поблизости в радусе 3км нет, то значение будет 0 и следовательно можно сразу указать знаечние -1 или 'outside', а если есть то укажем медианное расстоние в зависимости от населенная пункта. "
   ]
  },
  {
   "cell_type": "code",
   "execution_count": 28,
   "metadata": {},
   "outputs": [],
   "source": [
    "#сохраним информацию об пропущенных строках\n",
    "missing('parks_nearest','parks_nearest_missing');"
   ]
  },
  {
   "cell_type": "code",
   "execution_count": 29,
   "metadata": {},
   "outputs": [],
   "source": [
    "#заполним пустые строки\n",
    "data.loc[data['parks_around_3000'] == 0, 'parks_nearest'] = -1\n",
    "#data.head(5)"
   ]
  },
  {
   "cell_type": "code",
   "execution_count": 30,
   "metadata": {},
   "outputs": [
    {
     "data": {
      "text/plain": [
       "ceiling_height           9195\n",
       "airports_nearest         5542\n",
       "city_centers_nearest     5519\n",
       "ponds_nearest            5518\n",
       "ponds_around_3000        5518\n",
       "parks_nearest            5518\n",
       "parks_around_3000        5518\n",
       "days_exposition          3181\n",
       "kitchen_area             2278\n",
       "living_area              1903\n",
       "floors_total               86\n",
       "locality_name              49\n",
       "total_images                0\n",
       "ponds_nearest_missing       0\n",
       "balcony_missing             0\n",
       "is_apartment_missing        0\n",
       "balcony                     0\n",
       "last_price                  0\n",
       "open_plan                   0\n",
       "studio                      0\n",
       "is_apartment                0\n",
       "floor                       0\n",
       "rooms                       0\n",
       "first_day_exposition        0\n",
       "total_area                  0\n",
       "parks_nearest_missing       0\n",
       "dtype: int64"
      ]
     },
     "execution_count": 30,
     "metadata": {},
     "output_type": "execute_result"
    }
   ],
   "source": [
    "# подсчёт пропусков и сортировка по убыванию пропусков\n",
    "\n",
    "data.isna().sum().sort_values(ascending=False)"
   ]
  },
  {
   "cell_type": "markdown",
   "metadata": {},
   "source": [
    "Можно заметить , что кол-во пропусков в столбцах **parks_around_3000**, **ponds_around_3000**, **city_centers_nearest**, **airports_nearest**, **parks_nearest** и **ponds_nearest** практически одинаковое. Точно наблюдается одинаковое кол-во пропусков **parks_around_3000**, **parks_around_3000**, **parks_nearest** и **ponds_nearest** в кол-ве 5518. Проверим есть ли пропуски в тех же строках, но в других расссматриваемых столбцах одновременно"
   ]
  },
  {
   "cell_type": "code",
   "execution_count": 31,
   "metadata": {},
   "outputs": [
    {
     "name": "stdout",
     "output_type": "stream",
     "text": [
      "5518\n"
     ]
    }
   ],
   "source": [
    "i=0\n",
    "index = []\n",
    "k = data.isna()\n",
    "for p in range(0,len(data)):\n",
    "    if k.loc[p,'parks_around_3000'] \\\n",
    "     & k.loc[p,'ponds_around_3000'] \\\n",
    "     & k.loc[p,'city_centers_nearest']\\\n",
    "     & k.loc[p,'airports_nearest']\\\n",
    "     & k.loc[p,'parks_nearest'] \\\n",
    "     & k.loc[p,'ponds_nearest']:\n",
    "        i += 1\n",
    "        index.append(p)\n",
    "print(i)"
   ]
  },
  {
   "cell_type": "markdown",
   "metadata": {},
   "source": [
    "Итого вышло 5518 строк с одинаковым пропуском в в столбцах **parks_around_3000**, **ponds_around_3000**, **city_centers_nearest**, **airports_nearest**, **parks_nearest** и **ponds_nearest**. Значит можно предположить, что квартиры в населенных пунктах располагаются дальше рассматриваемых параметров и вероятно значения в этих строках не стали заполнять."
   ]
  },
  {
   "cell_type": "markdown",
   "metadata": {},
   "source": [
    "Заполним пропущенные строки следующими значениями:\n",
    "- **parks_around_3000** - 0\n",
    "- **ponds_around_3000** - 0\n",
    "- **parks_nearest** - -1\n",
    "- **ponds_nearest** - -1\n",
    "- **city_centers_nearest** - -1\n",
    "- **airports_nearest** - -1\n",
    "\n"
   ]
  },
  {
   "cell_type": "markdown",
   "metadata": {},
   "source": [
    "Так как мы значения целенаправленно в столбцах зануляем, то сохранием в столбцы  **parks_around_3000_missing**, **ponds_around_3000_missing**, **city_centers_nearest_missing**, **airports_nearest_missing**  информацию о том какие знаечения были изначально пропущены, а какие нет."
   ]
  },
  {
   "cell_type": "code",
   "execution_count": 32,
   "metadata": {},
   "outputs": [],
   "source": [
    "missing('parks_around_3000','parks_around_3000_missing')\n",
    "missing('ponds_around_3000','ponds_around_3000_missing')\n",
    "missing('city_centers_nearest','city_centers_nearest_missing')\n",
    "missing('airports_nearest','airports_nearest_missing');"
   ]
  },
  {
   "cell_type": "code",
   "execution_count": 33,
   "metadata": {},
   "outputs": [],
   "source": [
    "# Заполним пустые строки \n",
    "data['parks_around_3000'] = data['parks_around_3000'].fillna(0)"
   ]
  },
  {
   "cell_type": "code",
   "execution_count": 34,
   "metadata": {},
   "outputs": [],
   "source": [
    "# Заполним пустые строки \n",
    "data['ponds_around_3000'] = data['ponds_around_3000'].fillna(0)"
   ]
  },
  {
   "cell_type": "code",
   "execution_count": 35,
   "metadata": {},
   "outputs": [],
   "source": [
    "# Заполним пустые строки \n",
    "data['parks_nearest'] = data['parks_nearest'].fillna(-1)"
   ]
  },
  {
   "cell_type": "code",
   "execution_count": 36,
   "metadata": {},
   "outputs": [],
   "source": [
    "# Заполним пустые строки \n",
    "data['ponds_nearest'] = data['ponds_nearest'].fillna(-1)"
   ]
  },
  {
   "cell_type": "code",
   "execution_count": 37,
   "metadata": {},
   "outputs": [],
   "source": [
    "# Заполним пустые строки \n",
    "data.loc[index,'city_centers_nearest'] = -1\n"
   ]
  },
  {
   "cell_type": "code",
   "execution_count": 38,
   "metadata": {},
   "outputs": [],
   "source": [
    "# Заполним пустые строки \n",
    "data.loc[index,'airports_nearest'] = -1\n"
   ]
  },
  {
   "cell_type": "code",
   "execution_count": 39,
   "metadata": {
    "scrolled": true
   },
   "outputs": [
    {
     "data": {
      "text/html": [
       "<div>\n",
       "<style scoped>\n",
       "    .dataframe tbody tr th:only-of-type {\n",
       "        vertical-align: middle;\n",
       "    }\n",
       "\n",
       "    .dataframe tbody tr th {\n",
       "        vertical-align: top;\n",
       "    }\n",
       "\n",
       "    .dataframe thead th {\n",
       "        text-align: right;\n",
       "    }\n",
       "</style>\n",
       "<table border=\"1\" class=\"dataframe\">\n",
       "  <thead>\n",
       "    <tr style=\"text-align: right;\">\n",
       "      <th></th>\n",
       "      <th>parks_around_3000</th>\n",
       "      <th>parks_around_3000_missing</th>\n",
       "      <th>ponds_around_3000</th>\n",
       "      <th>ponds_around_3000_missing</th>\n",
       "      <th>city_centers_nearest</th>\n",
       "      <th>city_centers_nearest_missing</th>\n",
       "      <th>airports_nearest</th>\n",
       "      <th>airports_nearest_missing</th>\n",
       "    </tr>\n",
       "  </thead>\n",
       "  <tbody>\n",
       "    <tr>\n",
       "      <th>0</th>\n",
       "      <td>1.0</td>\n",
       "      <td>Known</td>\n",
       "      <td>2.0</td>\n",
       "      <td>Known</td>\n",
       "      <td>16028.0</td>\n",
       "      <td>Known</td>\n",
       "      <td>18863.0</td>\n",
       "      <td>Known</td>\n",
       "    </tr>\n",
       "    <tr>\n",
       "      <th>1</th>\n",
       "      <td>0.0</td>\n",
       "      <td>Known</td>\n",
       "      <td>0.0</td>\n",
       "      <td>Known</td>\n",
       "      <td>18603.0</td>\n",
       "      <td>Known</td>\n",
       "      <td>12817.0</td>\n",
       "      <td>Known</td>\n",
       "    </tr>\n",
       "    <tr>\n",
       "      <th>2</th>\n",
       "      <td>1.0</td>\n",
       "      <td>Known</td>\n",
       "      <td>2.0</td>\n",
       "      <td>Known</td>\n",
       "      <td>13933.0</td>\n",
       "      <td>Known</td>\n",
       "      <td>21741.0</td>\n",
       "      <td>Known</td>\n",
       "    </tr>\n",
       "    <tr>\n",
       "      <th>3</th>\n",
       "      <td>2.0</td>\n",
       "      <td>Known</td>\n",
       "      <td>3.0</td>\n",
       "      <td>Known</td>\n",
       "      <td>6800.0</td>\n",
       "      <td>Known</td>\n",
       "      <td>28098.0</td>\n",
       "      <td>Known</td>\n",
       "    </tr>\n",
       "    <tr>\n",
       "      <th>4</th>\n",
       "      <td>2.0</td>\n",
       "      <td>Known</td>\n",
       "      <td>1.0</td>\n",
       "      <td>Known</td>\n",
       "      <td>8098.0</td>\n",
       "      <td>Known</td>\n",
       "      <td>31856.0</td>\n",
       "      <td>Known</td>\n",
       "    </tr>\n",
       "    <tr>\n",
       "      <th>5</th>\n",
       "      <td>0.0</td>\n",
       "      <td>Unknown</td>\n",
       "      <td>0.0</td>\n",
       "      <td>Unknown</td>\n",
       "      <td>-1.0</td>\n",
       "      <td>Unknown</td>\n",
       "      <td>-1.0</td>\n",
       "      <td>Unknown</td>\n",
       "    </tr>\n",
       "    <tr>\n",
       "      <th>6</th>\n",
       "      <td>0.0</td>\n",
       "      <td>Known</td>\n",
       "      <td>0.0</td>\n",
       "      <td>Known</td>\n",
       "      <td>19143.0</td>\n",
       "      <td>Known</td>\n",
       "      <td>52996.0</td>\n",
       "      <td>Known</td>\n",
       "    </tr>\n",
       "    <tr>\n",
       "      <th>7</th>\n",
       "      <td>0.0</td>\n",
       "      <td>Known</td>\n",
       "      <td>0.0</td>\n",
       "      <td>Known</td>\n",
       "      <td>11634.0</td>\n",
       "      <td>Known</td>\n",
       "      <td>23982.0</td>\n",
       "      <td>Known</td>\n",
       "    </tr>\n",
       "    <tr>\n",
       "      <th>8</th>\n",
       "      <td>0.0</td>\n",
       "      <td>Unknown</td>\n",
       "      <td>0.0</td>\n",
       "      <td>Unknown</td>\n",
       "      <td>-1.0</td>\n",
       "      <td>Unknown</td>\n",
       "      <td>-1.0</td>\n",
       "      <td>Unknown</td>\n",
       "    </tr>\n",
       "    <tr>\n",
       "      <th>9</th>\n",
       "      <td>0.0</td>\n",
       "      <td>Known</td>\n",
       "      <td>0.0</td>\n",
       "      <td>Known</td>\n",
       "      <td>15008.0</td>\n",
       "      <td>Known</td>\n",
       "      <td>50898.0</td>\n",
       "      <td>Known</td>\n",
       "    </tr>\n",
       "  </tbody>\n",
       "</table>\n",
       "</div>"
      ],
      "text/plain": [
       "   parks_around_3000 parks_around_3000_missing  ponds_around_3000  \\\n",
       "0                1.0                     Known                2.0   \n",
       "1                0.0                     Known                0.0   \n",
       "2                1.0                     Known                2.0   \n",
       "3                2.0                     Known                3.0   \n",
       "4                2.0                     Known                1.0   \n",
       "5                0.0                   Unknown                0.0   \n",
       "6                0.0                     Known                0.0   \n",
       "7                0.0                     Known                0.0   \n",
       "8                0.0                   Unknown                0.0   \n",
       "9                0.0                     Known                0.0   \n",
       "\n",
       "  ponds_around_3000_missing  city_centers_nearest  \\\n",
       "0                     Known               16028.0   \n",
       "1                     Known               18603.0   \n",
       "2                     Known               13933.0   \n",
       "3                     Known                6800.0   \n",
       "4                     Known                8098.0   \n",
       "5                   Unknown                  -1.0   \n",
       "6                     Known               19143.0   \n",
       "7                     Known               11634.0   \n",
       "8                   Unknown                  -1.0   \n",
       "9                     Known               15008.0   \n",
       "\n",
       "  city_centers_nearest_missing  airports_nearest airports_nearest_missing  \n",
       "0                        Known           18863.0                    Known  \n",
       "1                        Known           12817.0                    Known  \n",
       "2                        Known           21741.0                    Known  \n",
       "3                        Known           28098.0                    Known  \n",
       "4                        Known           31856.0                    Known  \n",
       "5                      Unknown              -1.0                  Unknown  \n",
       "6                        Known           52996.0                    Known  \n",
       "7                        Known           23982.0                    Known  \n",
       "8                      Unknown              -1.0                  Unknown  \n",
       "9                        Known           50898.0                    Known  "
      ]
     },
     "execution_count": 39,
     "metadata": {},
     "output_type": "execute_result"
    }
   ],
   "source": [
    "#Выведим первые 10 строк таблицы\n",
    "(\n",
    "    data.loc[:,['parks_around_3000',\n",
    "                 'parks_around_3000_missing',\n",
    "                 'ponds_around_3000',\n",
    "                 'ponds_around_3000_missing',\n",
    "                 'city_centers_nearest',\n",
    "                 'city_centers_nearest_missing',\n",
    "                 'airports_nearest',\n",
    "                 'airports_nearest_missing']].head(10)\n",
    ")"
   ]
  },
  {
   "cell_type": "code",
   "execution_count": 40,
   "metadata": {},
   "outputs": [
    {
     "data": {
      "text/plain": [
       "ceiling_height                  9195\n",
       "days_exposition                 3181\n",
       "kitchen_area                    2278\n",
       "living_area                     1903\n",
       "floors_total                      86\n",
       "locality_name                     49\n",
       "airports_nearest                  24\n",
       "city_centers_nearest               1\n",
       "is_apartment_missing               0\n",
       "ponds_nearest                      0\n",
       "ponds_nearest_missing              0\n",
       "balcony_missing                    0\n",
       "parks_nearest                      0\n",
       "parks_nearest_missing              0\n",
       "parks_around_3000_missing          0\n",
       "ponds_around_3000_missing          0\n",
       "city_centers_nearest_missing       0\n",
       "ponds_around_3000                  0\n",
       "total_images                       0\n",
       "parks_around_3000                  0\n",
       "last_price                         0\n",
       "balcony                            0\n",
       "open_plan                          0\n",
       "studio                             0\n",
       "is_apartment                       0\n",
       "floor                              0\n",
       "rooms                              0\n",
       "first_day_exposition               0\n",
       "total_area                         0\n",
       "airports_nearest_missing           0\n",
       "dtype: int64"
      ]
     },
     "execution_count": 40,
     "metadata": {},
     "output_type": "execute_result"
    }
   ],
   "source": [
    "# подсчёт пропусков и сортировка по убыванию пропусков\n",
    "\n",
    "data.isna().sum().sort_values(ascending=False)"
   ]
  },
  {
   "cell_type": "markdown",
   "metadata": {},
   "source": [
    " В суммме количество пропусков в **locality_name** и **floors_total**составляет менее 0,6% от общего числа строк. Следовательно, если мы их удалим, то данное действие не особо повлияет на дальнейший анализ. Плюс восстановить данные, к примеру,  в **locality_name** не представляет возможности, так как здесь отображается название населенного пункта. Если необходимо тогда было оставить значения, то заполняли бы пропуски \"Unknown\". В значение **floors_total** можно было бы заполнить либо случайным значением из заданного дипазаона или вычислить медианной значение отталкиваясь к примеру от рассматриваемого населенного пункта по всем домам. Последнее решение касается и столбцов **city_centers_nearest** и **airports_nearest**. Но так как пустых строк в них еще меньше, то их тоже просто удалим."
   ]
  },
  {
   "cell_type": "code",
   "execution_count": 41,
   "metadata": {},
   "outputs": [],
   "source": [
    "# удалим строки с пропусками в столбцах \n",
    "\n",
    "data = (\n",
    "    data.dropna(subset=['locality_name',\n",
    "                        'floors_total',\n",
    "                        'city_centers_nearest',\n",
    "                        'airports_nearest'])\n",
    ")"
   ]
  },
  {
   "cell_type": "code",
   "execution_count": 42,
   "metadata": {},
   "outputs": [],
   "source": [
    "#создание новые индексы и удаленим старые\n",
    "data = data.reset_index() "
   ]
  },
  {
   "cell_type": "code",
   "execution_count": 43,
   "metadata": {},
   "outputs": [
    {
     "data": {
      "text/plain": [
       "ceiling_height                  9081\n",
       "days_exposition                 3168\n",
       "kitchen_area                    2220\n",
       "living_area                     1863\n",
       "balcony_missing                    0\n",
       "parks_nearest                      0\n",
       "ponds_around_3000                  0\n",
       "ponds_nearest                      0\n",
       "is_apartment_missing               0\n",
       "index                              0\n",
       "city_centers_nearest               0\n",
       "ponds_nearest_missing              0\n",
       "parks_nearest_missing              0\n",
       "parks_around_3000_missing          0\n",
       "ponds_around_3000_missing          0\n",
       "city_centers_nearest_missing       0\n",
       "parks_around_3000                  0\n",
       "locality_name                      0\n",
       "airports_nearest                   0\n",
       "total_images                       0\n",
       "balcony                            0\n",
       "open_plan                          0\n",
       "studio                             0\n",
       "is_apartment                       0\n",
       "floor                              0\n",
       "floors_total                       0\n",
       "rooms                              0\n",
       "first_day_exposition               0\n",
       "total_area                         0\n",
       "last_price                         0\n",
       "airports_nearest_missing           0\n",
       "dtype: int64"
      ]
     },
     "execution_count": 43,
     "metadata": {},
     "output_type": "execute_result"
    }
   ],
   "source": [
    "# подсчёт пропусков и сортировка по убыванию пропусков\n",
    "\n",
    "data.isna().sum().sort_values(ascending=False)"
   ]
  },
  {
   "cell_type": "markdown",
   "metadata": {},
   "source": [
    "На возникновенния пустых строк в оставшихся столбах мог повлиять человеческий фактор, к примеру, если человек ошибся при вводе или не знал какие указывать данные или забыл их указать.\n",
    "Причину пропуска с столбцом **days_exposition** можно было предположить, что значений нет, так как данные квартиры просто еще не были проданы на момент выгрузки датасета, но тогда были бы и пусты строки в столбцах c последней ценой на момент продажи (**last_price**), что свидетельствовало о продаже квартиры. Но в данном столбце пустых строк не было изначально, поэтому скорее всего данные просто не внесли или потеряны. Также возможно квартира была продана в тот же день и не стали указывать длительность продажи, хотя формально должны били указать, что продажа длилась 1 день, если продали в этот же день.\n"
   ]
  },
  {
   "cell_type": "code",
   "execution_count": 44,
   "metadata": {},
   "outputs": [
    {
     "data": {
      "text/plain": [
       "count    20372.000000\n",
       "mean       180.705674\n",
       "std        219.632473\n",
       "min          1.000000\n",
       "25%         45.000000\n",
       "50%         95.000000\n",
       "75%        231.000000\n",
       "max       1580.000000\n",
       "Name: days_exposition, dtype: float64"
      ]
     },
     "execution_count": 44,
     "metadata": {},
     "output_type": "execute_result"
    }
   ],
   "source": [
    "#диаграмма размах значений столбца days_exposition\n",
    "data['days_exposition'].describe()"
   ]
  },
  {
   "cell_type": "markdown",
   "metadata": {},
   "source": [
    "Как можем наблюдать разброс очень большой.Аномалии пока не наблюдаются, действительно было возможно, что интересующие нас квартиры в исследовании могли продаваться до 5 лет. Это необыяно, но все могло завистеть от их месторасположения\n",
    "Посчитаем, кол-во квартир проданных за 1 день."
   ]
  },
  {
   "cell_type": "code",
   "execution_count": 45,
   "metadata": {},
   "outputs": [
    {
     "data": {
      "text/plain": [
       "1"
      ]
     },
     "execution_count": 45,
     "metadata": {},
     "output_type": "execute_result"
    }
   ],
   "source": [
    "len(data[data['days_exposition'] == 1])"
   ]
  },
  {
   "cell_type": "markdown",
   "metadata": {},
   "source": [
    "Пустые строки в столбцах **ceiling_height**, **kitchen_area**, **living_area**  будем устранять заполнением медианным значением на случай если окажутся в них аномальные значения, которые будем изучать и устранять позже.\n",
    "\n",
    "Интересно проанализировать как кол-во пропусков менялось у разных столбцов от кол-ва всех заявлений с годами и оценить наскока пропуски были случайны. Этот момент сделаем позже когда введем столбец с годами формирования объявления."
   ]
  },
  {
   "cell_type": "code",
   "execution_count": 46,
   "metadata": {},
   "outputs": [],
   "source": [
    "#сохраним информацию об пропущенных строках\n",
    "missing('ceiling_height','ceiling_height_missing');\n",
    "missing('days_exposition','days_exposition_missing');\n",
    "missing('kitchen_area','kitchen_area_missing');\n",
    "missing('living_area','living_area_missing');"
   ]
  },
  {
   "cell_type": "markdown",
   "metadata": {},
   "source": [
    "Заполним пустые строки медианным значением среди всех квартир, так как высота потолков в оснвоном во всех квартирах у всех более менее одинаковы."
   ]
  },
  {
   "cell_type": "code",
   "execution_count": 47,
   "metadata": {},
   "outputs": [],
   "source": [
    "#Заполним пустые строки медианным значением \n",
    "data['ceiling_height'] = data['ceiling_height'].fillna(data['ceiling_height'].median())"
   ]
  },
  {
   "cell_type": "markdown",
   "metadata": {},
   "source": [
    "Заполним пустые строки медианным значением среди квартир в зависимости от кол-ва комнат в ней. Так как обычно чем больше площадь, тем больше жилая плоадь и кухня."
   ]
  },
  {
   "cell_type": "code",
   "execution_count": 48,
   "metadata": {},
   "outputs": [],
   "source": [
    "#Заполним пустые строки медианным значением в kitchen_area\n",
    "for i in data['rooms'].sort_values().unique():\n",
    "    data['kitchen_area'] = (\n",
    "        data['kitchen_area'].fillna(\n",
    "            data.loc[data['rooms'] == i, 'kitchen_area'].median()\n",
    "        )\n",
    "    )"
   ]
  },
  {
   "cell_type": "code",
   "execution_count": 49,
   "metadata": {},
   "outputs": [],
   "source": [
    "#Заполним пустые строки медианным значением в living_area\n",
    "for i in data['rooms'].sort_values().unique():\n",
    "    data['living_area'] = (\n",
    "        data['living_area'].fillna(\n",
    "            data.loc[data['rooms'] == i, 'living_area'].median()\n",
    "        )\n",
    "    )"
   ]
  },
  {
   "cell_type": "markdown",
   "metadata": {},
   "source": [
    "Длительность объявления (**days_exposition**) сложнее заполнить, так как вероятней всего сразу несколько факторов влияло на скорость продажи квартиры и необходимо проводить анализ. поэтому заполним пустые строки значением -1"
   ]
  },
  {
   "cell_type": "code",
   "execution_count": 50,
   "metadata": {},
   "outputs": [],
   "source": [
    "data['days_exposition'] = data['days_exposition'].fillna(-1)"
   ]
  },
  {
   "cell_type": "code",
   "execution_count": 51,
   "metadata": {},
   "outputs": [],
   "source": [
    "# подсчёт пропусков и сортировка по убыванию пропусков\n",
    "\n",
    "#data.isna().sum().sort_values(ascending=False)"
   ]
  },
  {
   "cell_type": "markdown",
   "metadata": {},
   "source": [
    "**Изменение типов данных в столбцах**"
   ]
  },
  {
   "cell_type": "markdown",
   "metadata": {},
   "source": [
    "Cтолбцы в дальнейшем необходимо будет перевесети в тип данных `int64`: \n",
    "- **balcony** \n",
    "- **floors_total** \n",
    "- **parks_around_3000**\n",
    "- **ponds_around_3000** \n",
    "- **days_exposition** "
   ]
  },
  {
   "cell_type": "code",
   "execution_count": 52,
   "metadata": {},
   "outputs": [],
   "source": [
    "data = data.astype({ \"balcony\": \"int64\", \"floors_total\": \"int64\"})"
   ]
  },
  {
   "cell_type": "code",
   "execution_count": 53,
   "metadata": {},
   "outputs": [],
   "source": [
    "w = ['parks_around_3000','ponds_around_3000','days_exposition']\n",
    "for i in w:\n",
    "    data[i] = data[i].astype('int64')"
   ]
  },
  {
   "cell_type": "markdown",
   "metadata": {},
   "source": [
    "Переведем значения в столбце **first_day_exposition** в `datetime64`. Данное действие необходимо, чтобы потом можно было работать с датой."
   ]
  },
  {
   "cell_type": "code",
   "execution_count": 54,
   "metadata": {},
   "outputs": [],
   "source": [
    "data['first_day_exposition'] = (pd.\n",
    "                                to_datetime(\n",
    "                                    data['first_day_exposition'],\n",
    "                                    format='%Y-%m-%dT%H:%M:%S')\n",
    "                               )"
   ]
  },
  {
   "cell_type": "code",
   "execution_count": 55,
   "metadata": {},
   "outputs": [
    {
     "name": "stdout",
     "output_type": "stream",
     "text": [
      "<class 'pandas.core.frame.DataFrame'>\n",
      "RangeIndex: 23540 entries, 0 to 23539\n",
      "Data columns (total 35 columns):\n",
      " #   Column                        Non-Null Count  Dtype         \n",
      "---  ------                        --------------  -----         \n",
      " 0   index                         23540 non-null  int64         \n",
      " 1   total_images                  23540 non-null  int64         \n",
      " 2   last_price                    23540 non-null  float64       \n",
      " 3   total_area                    23540 non-null  float64       \n",
      " 4   first_day_exposition          23540 non-null  datetime64[ns]\n",
      " 5   rooms                         23540 non-null  int64         \n",
      " 6   ceiling_height                23540 non-null  float64       \n",
      " 7   floors_total                  23540 non-null  int64         \n",
      " 8   living_area                   23540 non-null  float64       \n",
      " 9   floor                         23540 non-null  int64         \n",
      " 10  is_apartment                  23540 non-null  bool          \n",
      " 11  studio                        23540 non-null  bool          \n",
      " 12  open_plan                     23540 non-null  bool          \n",
      " 13  kitchen_area                  23540 non-null  float64       \n",
      " 14  balcony                       23540 non-null  int64         \n",
      " 15  locality_name                 23540 non-null  object        \n",
      " 16  airports_nearest              23540 non-null  float64       \n",
      " 17  city_centers_nearest          23540 non-null  float64       \n",
      " 18  parks_around_3000             23540 non-null  int64         \n",
      " 19  parks_nearest                 23540 non-null  float64       \n",
      " 20  ponds_around_3000             23540 non-null  int64         \n",
      " 21  ponds_nearest                 23540 non-null  float64       \n",
      " 22  days_exposition               23540 non-null  int64         \n",
      " 23  is_apartment_missing          23540 non-null  object        \n",
      " 24  balcony_missing               23540 non-null  object        \n",
      " 25  ponds_nearest_missing         23540 non-null  object        \n",
      " 26  parks_nearest_missing         23540 non-null  object        \n",
      " 27  parks_around_3000_missing     23540 non-null  object        \n",
      " 28  ponds_around_3000_missing     23540 non-null  object        \n",
      " 29  city_centers_nearest_missing  23540 non-null  object        \n",
      " 30  airports_nearest_missing      23540 non-null  object        \n",
      " 31  ceiling_height_missing        23540 non-null  object        \n",
      " 32  days_exposition_missing       23540 non-null  object        \n",
      " 33  kitchen_area_missing          23540 non-null  object        \n",
      " 34  living_area_missing           23540 non-null  object        \n",
      "dtypes: bool(3), datetime64[ns](1), float64(9), int64(9), object(13)\n",
      "memory usage: 5.8+ MB\n"
     ]
    }
   ],
   "source": [
    "#выведим информацию по таблице\n",
    "data.info()"
   ]
  },
  {
   "cell_type": "code",
   "execution_count": 56,
   "metadata": {},
   "outputs": [
    {
     "data": {
      "text/html": [
       "<div>\n",
       "<style scoped>\n",
       "    .dataframe tbody tr th:only-of-type {\n",
       "        vertical-align: middle;\n",
       "    }\n",
       "\n",
       "    .dataframe tbody tr th {\n",
       "        vertical-align: top;\n",
       "    }\n",
       "\n",
       "    .dataframe thead th {\n",
       "        text-align: right;\n",
       "    }\n",
       "</style>\n",
       "<table border=\"1\" class=\"dataframe\">\n",
       "  <thead>\n",
       "    <tr style=\"text-align: right;\">\n",
       "      <th></th>\n",
       "      <th>index</th>\n",
       "      <th>total_images</th>\n",
       "      <th>last_price</th>\n",
       "      <th>total_area</th>\n",
       "      <th>first_day_exposition</th>\n",
       "      <th>rooms</th>\n",
       "      <th>ceiling_height</th>\n",
       "      <th>floors_total</th>\n",
       "      <th>living_area</th>\n",
       "      <th>floor</th>\n",
       "      <th>is_apartment</th>\n",
       "      <th>studio</th>\n",
       "      <th>open_plan</th>\n",
       "      <th>kitchen_area</th>\n",
       "      <th>balcony</th>\n",
       "      <th>locality_name</th>\n",
       "      <th>airports_nearest</th>\n",
       "      <th>city_centers_nearest</th>\n",
       "      <th>parks_around_3000</th>\n",
       "      <th>parks_nearest</th>\n",
       "      <th>ponds_around_3000</th>\n",
       "      <th>ponds_nearest</th>\n",
       "      <th>days_exposition</th>\n",
       "      <th>is_apartment_missing</th>\n",
       "      <th>balcony_missing</th>\n",
       "      <th>ponds_nearest_missing</th>\n",
       "      <th>parks_nearest_missing</th>\n",
       "      <th>parks_around_3000_missing</th>\n",
       "      <th>ponds_around_3000_missing</th>\n",
       "      <th>city_centers_nearest_missing</th>\n",
       "      <th>airports_nearest_missing</th>\n",
       "      <th>ceiling_height_missing</th>\n",
       "      <th>days_exposition_missing</th>\n",
       "      <th>kitchen_area_missing</th>\n",
       "      <th>living_area_missing</th>\n",
       "    </tr>\n",
       "  </thead>\n",
       "  <tbody>\n",
       "    <tr>\n",
       "      <th>0</th>\n",
       "      <td>0</td>\n",
       "      <td>20</td>\n",
       "      <td>13000000.0</td>\n",
       "      <td>108.0</td>\n",
       "      <td>2019-03-07</td>\n",
       "      <td>3</td>\n",
       "      <td>2.70</td>\n",
       "      <td>16</td>\n",
       "      <td>51.0</td>\n",
       "      <td>8</td>\n",
       "      <td>False</td>\n",
       "      <td>False</td>\n",
       "      <td>False</td>\n",
       "      <td>25.0</td>\n",
       "      <td>0</td>\n",
       "      <td>Санкт-Петербург</td>\n",
       "      <td>18863.0</td>\n",
       "      <td>16028.0</td>\n",
       "      <td>1</td>\n",
       "      <td>482.0</td>\n",
       "      <td>2</td>\n",
       "      <td>755.0</td>\n",
       "      <td>-1</td>\n",
       "      <td>Unknown</td>\n",
       "      <td>Unknown</td>\n",
       "      <td>Known</td>\n",
       "      <td>Known</td>\n",
       "      <td>Known</td>\n",
       "      <td>Known</td>\n",
       "      <td>Known</td>\n",
       "      <td>Known</td>\n",
       "      <td>Known</td>\n",
       "      <td>Unknown</td>\n",
       "      <td>Known</td>\n",
       "      <td>Known</td>\n",
       "    </tr>\n",
       "    <tr>\n",
       "      <th>1</th>\n",
       "      <td>1</td>\n",
       "      <td>7</td>\n",
       "      <td>3350000.0</td>\n",
       "      <td>40.4</td>\n",
       "      <td>2018-12-04</td>\n",
       "      <td>1</td>\n",
       "      <td>2.65</td>\n",
       "      <td>11</td>\n",
       "      <td>18.6</td>\n",
       "      <td>1</td>\n",
       "      <td>False</td>\n",
       "      <td>False</td>\n",
       "      <td>False</td>\n",
       "      <td>11.0</td>\n",
       "      <td>2</td>\n",
       "      <td>посёлок Шушары</td>\n",
       "      <td>12817.0</td>\n",
       "      <td>18603.0</td>\n",
       "      <td>0</td>\n",
       "      <td>-1.0</td>\n",
       "      <td>0</td>\n",
       "      <td>-1.0</td>\n",
       "      <td>81</td>\n",
       "      <td>Unknown</td>\n",
       "      <td>Known</td>\n",
       "      <td>Unknown</td>\n",
       "      <td>Unknown</td>\n",
       "      <td>Known</td>\n",
       "      <td>Known</td>\n",
       "      <td>Known</td>\n",
       "      <td>Known</td>\n",
       "      <td>Unknown</td>\n",
       "      <td>Known</td>\n",
       "      <td>Known</td>\n",
       "      <td>Known</td>\n",
       "    </tr>\n",
       "    <tr>\n",
       "      <th>2</th>\n",
       "      <td>2</td>\n",
       "      <td>10</td>\n",
       "      <td>5196000.0</td>\n",
       "      <td>56.0</td>\n",
       "      <td>2015-08-20</td>\n",
       "      <td>2</td>\n",
       "      <td>2.65</td>\n",
       "      <td>5</td>\n",
       "      <td>34.3</td>\n",
       "      <td>4</td>\n",
       "      <td>False</td>\n",
       "      <td>False</td>\n",
       "      <td>False</td>\n",
       "      <td>8.3</td>\n",
       "      <td>0</td>\n",
       "      <td>Санкт-Петербург</td>\n",
       "      <td>21741.0</td>\n",
       "      <td>13933.0</td>\n",
       "      <td>1</td>\n",
       "      <td>90.0</td>\n",
       "      <td>2</td>\n",
       "      <td>574.0</td>\n",
       "      <td>558</td>\n",
       "      <td>Unknown</td>\n",
       "      <td>Known</td>\n",
       "      <td>Known</td>\n",
       "      <td>Known</td>\n",
       "      <td>Known</td>\n",
       "      <td>Known</td>\n",
       "      <td>Known</td>\n",
       "      <td>Known</td>\n",
       "      <td>Unknown</td>\n",
       "      <td>Known</td>\n",
       "      <td>Known</td>\n",
       "      <td>Known</td>\n",
       "    </tr>\n",
       "    <tr>\n",
       "      <th>3</th>\n",
       "      <td>3</td>\n",
       "      <td>0</td>\n",
       "      <td>64900000.0</td>\n",
       "      <td>159.0</td>\n",
       "      <td>2015-07-24</td>\n",
       "      <td>3</td>\n",
       "      <td>2.65</td>\n",
       "      <td>14</td>\n",
       "      <td>18.0</td>\n",
       "      <td>9</td>\n",
       "      <td>False</td>\n",
       "      <td>False</td>\n",
       "      <td>False</td>\n",
       "      <td>9.0</td>\n",
       "      <td>0</td>\n",
       "      <td>Санкт-Петербург</td>\n",
       "      <td>28098.0</td>\n",
       "      <td>6800.0</td>\n",
       "      <td>2</td>\n",
       "      <td>84.0</td>\n",
       "      <td>3</td>\n",
       "      <td>234.0</td>\n",
       "      <td>424</td>\n",
       "      <td>Unknown</td>\n",
       "      <td>Known</td>\n",
       "      <td>Known</td>\n",
       "      <td>Known</td>\n",
       "      <td>Known</td>\n",
       "      <td>Known</td>\n",
       "      <td>Known</td>\n",
       "      <td>Known</td>\n",
       "      <td>Unknown</td>\n",
       "      <td>Known</td>\n",
       "      <td>Unknown</td>\n",
       "      <td>Unknown</td>\n",
       "    </tr>\n",
       "    <tr>\n",
       "      <th>4</th>\n",
       "      <td>4</td>\n",
       "      <td>2</td>\n",
       "      <td>10000000.0</td>\n",
       "      <td>100.0</td>\n",
       "      <td>2018-06-19</td>\n",
       "      <td>2</td>\n",
       "      <td>3.03</td>\n",
       "      <td>14</td>\n",
       "      <td>32.0</td>\n",
       "      <td>13</td>\n",
       "      <td>False</td>\n",
       "      <td>False</td>\n",
       "      <td>False</td>\n",
       "      <td>41.0</td>\n",
       "      <td>0</td>\n",
       "      <td>Санкт-Петербург</td>\n",
       "      <td>31856.0</td>\n",
       "      <td>8098.0</td>\n",
       "      <td>2</td>\n",
       "      <td>112.0</td>\n",
       "      <td>1</td>\n",
       "      <td>48.0</td>\n",
       "      <td>121</td>\n",
       "      <td>Unknown</td>\n",
       "      <td>Unknown</td>\n",
       "      <td>Known</td>\n",
       "      <td>Known</td>\n",
       "      <td>Known</td>\n",
       "      <td>Known</td>\n",
       "      <td>Known</td>\n",
       "      <td>Known</td>\n",
       "      <td>Known</td>\n",
       "      <td>Known</td>\n",
       "      <td>Known</td>\n",
       "      <td>Known</td>\n",
       "    </tr>\n",
       "  </tbody>\n",
       "</table>\n",
       "</div>"
      ],
      "text/plain": [
       "   index  total_images  last_price  total_area first_day_exposition  rooms  \\\n",
       "0      0            20  13000000.0       108.0           2019-03-07      3   \n",
       "1      1             7   3350000.0        40.4           2018-12-04      1   \n",
       "2      2            10   5196000.0        56.0           2015-08-20      2   \n",
       "3      3             0  64900000.0       159.0           2015-07-24      3   \n",
       "4      4             2  10000000.0       100.0           2018-06-19      2   \n",
       "\n",
       "   ceiling_height  floors_total  living_area  floor  is_apartment  studio  \\\n",
       "0            2.70            16         51.0      8         False   False   \n",
       "1            2.65            11         18.6      1         False   False   \n",
       "2            2.65             5         34.3      4         False   False   \n",
       "3            2.65            14         18.0      9         False   False   \n",
       "4            3.03            14         32.0     13         False   False   \n",
       "\n",
       "   open_plan  kitchen_area  balcony    locality_name  airports_nearest  \\\n",
       "0      False          25.0        0  Санкт-Петербург           18863.0   \n",
       "1      False          11.0        2   посёлок Шушары           12817.0   \n",
       "2      False           8.3        0  Санкт-Петербург           21741.0   \n",
       "3      False           9.0        0  Санкт-Петербург           28098.0   \n",
       "4      False          41.0        0  Санкт-Петербург           31856.0   \n",
       "\n",
       "   city_centers_nearest  parks_around_3000  parks_nearest  ponds_around_3000  \\\n",
       "0               16028.0                  1          482.0                  2   \n",
       "1               18603.0                  0           -1.0                  0   \n",
       "2               13933.0                  1           90.0                  2   \n",
       "3                6800.0                  2           84.0                  3   \n",
       "4                8098.0                  2          112.0                  1   \n",
       "\n",
       "   ponds_nearest  days_exposition is_apartment_missing balcony_missing  \\\n",
       "0          755.0               -1              Unknown         Unknown   \n",
       "1           -1.0               81              Unknown           Known   \n",
       "2          574.0              558              Unknown           Known   \n",
       "3          234.0              424              Unknown           Known   \n",
       "4           48.0              121              Unknown         Unknown   \n",
       "\n",
       "  ponds_nearest_missing parks_nearest_missing parks_around_3000_missing  \\\n",
       "0                 Known                 Known                     Known   \n",
       "1               Unknown               Unknown                     Known   \n",
       "2                 Known                 Known                     Known   \n",
       "3                 Known                 Known                     Known   \n",
       "4                 Known                 Known                     Known   \n",
       "\n",
       "  ponds_around_3000_missing city_centers_nearest_missing  \\\n",
       "0                     Known                        Known   \n",
       "1                     Known                        Known   \n",
       "2                     Known                        Known   \n",
       "3                     Known                        Known   \n",
       "4                     Known                        Known   \n",
       "\n",
       "  airports_nearest_missing ceiling_height_missing days_exposition_missing  \\\n",
       "0                    Known                  Known                 Unknown   \n",
       "1                    Known                Unknown                   Known   \n",
       "2                    Known                Unknown                   Known   \n",
       "3                    Known                Unknown                   Known   \n",
       "4                    Known                  Known                   Known   \n",
       "\n",
       "  kitchen_area_missing living_area_missing  \n",
       "0                Known               Known  \n",
       "1                Known               Known  \n",
       "2                Known               Known  \n",
       "3              Unknown             Unknown  \n",
       "4                Known               Known  "
      ]
     },
     "execution_count": 56,
     "metadata": {},
     "output_type": "execute_result"
    }
   ],
   "source": [
    "data.head()"
   ]
  },
  {
   "cell_type": "markdown",
   "metadata": {},
   "source": [
    "**Нахождение уникальных значений в столбцах с названиями и устранение неявных дубликатов.**"
   ]
  },
  {
   "cell_type": "markdown",
   "metadata": {},
   "source": [
    "Проверим есть ли в данных уникальные дубликаты."
   ]
  },
  {
   "cell_type": "code",
   "execution_count": 57,
   "metadata": {},
   "outputs": [
    {
     "data": {
      "text/plain": [
       "0"
      ]
     },
     "execution_count": 57,
     "metadata": {},
     "output_type": "execute_result"
    }
   ],
   "source": [
    "data.duplicated().sum()"
   ]
  },
  {
   "cell_type": "markdown",
   "metadata": {},
   "source": [
    "Явные дубликатов нет"
   ]
  },
  {
   "cell_type": "markdown",
   "metadata": {},
   "source": [
    "Выведим уникальные значения столбца **locality_name**"
   ]
  },
  {
   "cell_type": "code",
   "execution_count": 58,
   "metadata": {},
   "outputs": [
    {
     "data": {
      "text/plain": [
       "array(['Бокситогорск', 'Волосово', 'Волхов', 'Всеволожск', 'Выборг',\n",
       "       'Высоцк', 'Гатчина', 'Зеленогорск', 'Ивангород', 'Каменногорск',\n",
       "       'Кингисепп', 'Кириши', 'Кировск', 'Колпино', 'Коммунар',\n",
       "       'Красное Село', 'Кронштадт', 'Кудрово', 'Лодейное Поле',\n",
       "       'Ломоносов', 'Луга', 'Любань', 'Мурино', 'Никольское',\n",
       "       'Новая Ладога', 'Отрадное', 'Павловск', 'Петергоф', 'Пикалёво',\n",
       "       'Подпорожье', 'Приморск', 'Приозерск', 'Пушкин', 'Санкт-Петербург',\n",
       "       'Светогорск', 'Сертолово', 'Сестрорецк', 'Сланцы', 'Сосновый Бор',\n",
       "       'Сясьстрой', 'Тихвин', 'Тосно', 'Шлиссельбург',\n",
       "       'городской поселок Большая Ижора', 'городской поселок Янино-1',\n",
       "       'городской посёлок Будогощь', 'городской посёлок Виллози',\n",
       "       'городской посёлок Лесогорский', 'городской посёлок Мга',\n",
       "       'городской посёлок Назия', 'городской посёлок Новоселье',\n",
       "       'городской посёлок Павлово', 'городской посёлок Рощино',\n",
       "       'городской посёлок Свирьстрой', 'городской посёлок Советский',\n",
       "       'городской посёлок Фёдоровское', 'городской посёлок Янино-1',\n",
       "       'деревня Агалатово', 'деревня Аро', 'деревня Батово',\n",
       "       'деревня Бегуницы', 'деревня Белогорка', 'деревня Большая Вруда',\n",
       "       'деревня Большая Пустомержа', 'деревня Большие Колпаны',\n",
       "       'деревня Большое Рейзино', 'деревня Большой Сабск', 'деревня Бор',\n",
       "       'деревня Борисова Грива', 'деревня Ваганово', 'деревня Вартемяги',\n",
       "       'деревня Вахнова Кара', 'деревня Выскатка', 'деревня Гарболово',\n",
       "       'деревня Глинка', 'деревня Горбунки', 'деревня Гостилицы',\n",
       "       'деревня Заклинье', 'деревня Заневка', 'деревня Зимитицы',\n",
       "       'деревня Извара', 'деревня Иссад', 'деревня Калитино',\n",
       "       'деревня Кальтино', 'деревня Камышовка', 'деревня Каськово',\n",
       "       'деревня Келози', 'деревня Кипень', 'деревня Кисельня',\n",
       "       'деревня Колтуши', 'деревня Коркино', 'деревня Котлы',\n",
       "       'деревня Кривко', 'деревня Кудрово', 'деревня Кузьмолово',\n",
       "       'деревня Курковицы', 'деревня Куровицы', 'деревня Куттузи',\n",
       "       'деревня Лаврики', 'деревня Лаголово', 'деревня Лампово',\n",
       "       'деревня Лесколово', 'деревня Лопухинка', 'деревня Лупполово',\n",
       "       'деревня Малая Романовка', 'деревня Малое Верево',\n",
       "       'деревня Малое Карлино', 'деревня Малые Колпаны',\n",
       "       'деревня Мануйлово', 'деревня Меньково', 'деревня Мины',\n",
       "       'деревня Мистолово', 'деревня Ненимяки', 'деревня Нижние Осельки',\n",
       "       'деревня Нижняя', 'деревня Низино', 'деревня Новое Девяткино',\n",
       "       'деревня Новолисино', 'деревня Нурма', 'деревня Оржицы',\n",
       "       'деревня Парицы', 'деревня Пельгора', 'деревня Пеники',\n",
       "       'деревня Пижма', 'деревня Пикколово', 'деревня Пудомяги',\n",
       "       'деревня Пустынка', 'деревня Пчева', 'деревня Рабитицы',\n",
       "       'деревня Разбегаево', 'деревня Раздолье', 'деревня Разметелево',\n",
       "       'деревня Рапполово', 'деревня Реброво', 'деревня Русско',\n",
       "       'деревня Сижно', 'деревня Снегирёвка', 'деревня Старая',\n",
       "       'деревня Старая Пустошь', 'деревня Старое Хинколово',\n",
       "       'деревня Старополье', 'деревня Старосиверская',\n",
       "       'деревня Старые Бегуницы', 'деревня Суоранда',\n",
       "       'деревня Сяськелево', 'деревня Тарасово', 'деревня Терпилицы',\n",
       "       'деревня Тихковицы', 'деревня Тойворово', 'деревня Торосово',\n",
       "       'деревня Торошковичи', 'деревня Трубников Бор',\n",
       "       'деревня Фалилеево', 'деревня Фёдоровское', 'деревня Хапо-Ое',\n",
       "       'деревня Хязельки', 'деревня Чудской Бор', 'деревня Шпаньково',\n",
       "       'деревня Щеглово', 'деревня Юкки', 'деревня Ялгино',\n",
       "       'деревня Яльгелево', 'деревня Ям-Тесово',\n",
       "       'коттеджный поселок Кивеннапа Север', 'коттеджный поселок Счастье',\n",
       "       'коттеджный посёлок Лесное', 'поселок Аннино', 'поселок Барышево',\n",
       "       'поселок Бугры', 'поселок Возрождение', 'поселок Войсковицы',\n",
       "       'поселок Володарское', 'поселок Гаврилово', 'поселок Гарболово',\n",
       "       'поселок Гладкое', 'поселок Глажево', 'поселок Глебычево',\n",
       "       'поселок Гончарово', 'поселок Громово', 'поселок Дружноселье',\n",
       "       'поселок Елизаветино', 'поселок Жилгородок', 'поселок Жилпосёлок',\n",
       "       'поселок Житково', 'поселок Заводской', 'поселок Запорожское',\n",
       "       'поселок Зимитицы', 'поселок Ильичёво', 'поселок Калитино',\n",
       "       'поселок Каложицы', 'поселок Кингисеппский', 'поселок Кирпичное',\n",
       "       'поселок Кобралово', 'поселок Кобринское', 'поселок Коммунары',\n",
       "       'поселок Коробицыно', 'поселок Котельский',\n",
       "       'поселок Красная Долина', 'поселок Красносельское',\n",
       "       'поселок Лесное', 'поселок Лисий Нос', 'поселок Лукаши',\n",
       "       'поселок Любань', 'поселок Мельниково', 'поселок Мичуринское',\n",
       "       'поселок Молодцово', 'поселок Мурино', 'поселок Новый Свет',\n",
       "       'поселок Новый Учхоз', 'поселок Оредеж',\n",
       "       'поселок Пансионат Зелёный Бор', 'поселок Первомайское',\n",
       "       'поселок Перово', 'поселок Петровское', 'поселок Победа',\n",
       "       'поселок Поляны', 'поселок Почап', 'поселок Починок',\n",
       "       'поселок Пушное', 'поселок Пчевжа', 'поселок Рабитицы',\n",
       "       'поселок Романовка', 'поселок Ромашки', 'поселок Рябово',\n",
       "       'поселок Севастьяново', 'поселок Селезнёво', 'поселок Сельцо',\n",
       "       'поселок Семиозерье', 'поселок Семрино', 'поселок Серебрянский',\n",
       "       'поселок Совхозный', 'поселок Старая Малукса',\n",
       "       'поселок Стеклянный', 'поселок Сумино', 'поселок Суходолье',\n",
       "       'поселок Тельмана', 'поселок Терволово', 'поселок Торковичи',\n",
       "       'поселок Тёсово-4', 'поселок Углово', 'поселок Усть-Луга',\n",
       "       'поселок Ушаки', 'поселок Цвелодубово', 'поселок Цвылёво',\n",
       "       'поселок городского типа Большая Ижора',\n",
       "       'поселок городского типа Вырица',\n",
       "       'поселок городского типа Дружная Горка',\n",
       "       'поселок городского типа Дубровка',\n",
       "       'поселок городского типа Ефимовский',\n",
       "       'поселок городского типа Кондратьево',\n",
       "       'поселок городского типа Красный Бор',\n",
       "       'поселок городского типа Кузьмоловский',\n",
       "       'поселок городского типа Лебяжье',\n",
       "       'поселок городского типа Лесогорский',\n",
       "       'поселок городского типа Назия',\n",
       "       'поселок городского типа Никольский',\n",
       "       'поселок городского типа Приладожский',\n",
       "       'поселок городского типа Рахья', 'поселок городского типа Рощино',\n",
       "       'поселок городского типа Рябово',\n",
       "       'поселок городского типа Синявино',\n",
       "       'поселок городского типа Советский',\n",
       "       'поселок городского типа Токсово',\n",
       "       'поселок городского типа Форносово',\n",
       "       'поселок городского типа имени Свердлова',\n",
       "       'поселок станции Вещево', 'поселок станции Корнево',\n",
       "       'поселок станции Лужайка', 'поселок станции Приветнинское',\n",
       "       'посёлок Александровская', 'посёлок Алексеевка', 'посёлок Аннино',\n",
       "       'посёлок Белоостров', 'посёлок Бугры', 'посёлок Возрождение',\n",
       "       'посёлок Войскорово', 'посёлок Высокоключевой',\n",
       "       'посёлок Гаврилово', 'посёлок Дзержинского', 'посёлок Жилгородок',\n",
       "       'посёлок Ильичёво', 'посёлок Кикерино', 'посёлок Кобралово',\n",
       "       'посёлок Коробицыно', 'посёлок Левашово', 'посёлок Ленинское',\n",
       "       'посёлок Лисий Нос', 'посёлок Мельниково', 'посёлок Металлострой',\n",
       "       'посёлок Мичуринское', 'посёлок Молодёжное', 'посёлок Мурино',\n",
       "       'посёлок Мыза-Ивановка', 'посёлок Новогорелово',\n",
       "       'посёлок Новый Свет', 'посёлок Пансионат Зелёный Бор',\n",
       "       'посёлок Парголово', 'посёлок Перово', 'посёлок Песочный',\n",
       "       'посёлок Петро-Славянка', 'посёлок Петровское',\n",
       "       'посёлок Платформа 69-й километр', 'посёлок Плодовое',\n",
       "       'посёлок Плоское', 'посёлок Победа', 'посёлок Поляны',\n",
       "       'посёлок Понтонный', 'посёлок Пригородный', 'посёлок Пудость',\n",
       "       'посёлок Репино', 'посёлок Ропша', 'посёлок Сапёрное',\n",
       "       'посёлок Сапёрный', 'посёлок Сосново', 'посёлок Старая Малукса',\n",
       "       'посёлок Стеклянный', 'посёлок Стрельна', 'посёлок Суйда',\n",
       "       'посёлок Сумино', 'посёлок Тельмана', 'посёлок Терволово',\n",
       "       'посёлок Торфяное', 'посёлок Усть-Ижора', 'посёлок Усть-Луга',\n",
       "       'посёлок Форт Красная Горка', 'посёлок Шугозеро', 'посёлок Шушары',\n",
       "       'посёлок Щеглово', 'посёлок городского типа Важины',\n",
       "       'посёлок городского типа Вознесенье',\n",
       "       'посёлок городского типа Вырица',\n",
       "       'посёлок городского типа Красный Бор',\n",
       "       'посёлок городского типа Кузнечное',\n",
       "       'посёлок городского типа Кузьмоловский',\n",
       "       'посёлок городского типа Лебяжье', 'посёлок городского типа Мга',\n",
       "       'посёлок городского типа Павлово',\n",
       "       'посёлок городского типа Рощино', 'посёлок городского типа Рябово',\n",
       "       'посёлок городского типа Сиверский',\n",
       "       'посёлок городского типа Тайцы', 'посёлок городского типа Токсово',\n",
       "       'посёлок городского типа Ульяновка',\n",
       "       'посёлок городского типа Форносово',\n",
       "       'посёлок городского типа имени Морозова',\n",
       "       'посёлок городского типа имени Свердлова',\n",
       "       'посёлок при железнодорожной станции Вещево',\n",
       "       'посёлок при железнодорожной станции Приветнинское',\n",
       "       'посёлок станции Громово', 'посёлок станции Свирь',\n",
       "       'садоводческое некоммерческое товарищество Лесная Поляна',\n",
       "       'садовое товарищество Новая Ропша',\n",
       "       'садовое товарищество Приладожский', 'садовое товарищество Рахья',\n",
       "       'садовое товарищество Садко', 'село Копорье', 'село Никольское',\n",
       "       'село Павлово', 'село Паша', 'село Путилово', 'село Рождествено',\n",
       "       'село Русско-Высоцкое', 'село Старая Ладога', 'село Шум'],\n",
       "      dtype=object)"
      ]
     },
     "execution_count": 58,
     "metadata": {},
     "output_type": "execute_result"
    }
   ],
   "source": [
    "data['locality_name'].sort_values().unique()"
   ]
  },
  {
   "cell_type": "code",
   "execution_count": 59,
   "metadata": {},
   "outputs": [],
   "source": [
    "row = ['городской поселок',\n",
    "       'городской посёлок',\n",
    "       'поселок',\n",
    "       'коттеджный поселок',\n",
    "       'поселок городского типа',\n",
    "       'посёлок городского типа',\n",
    "      'посёлок при железнодорожной станции',\n",
    "       'поселок при железнодорожной',\n",
    "      'поселок станции']\n",
    "\n",
    "# Устранение неявных дубликатов\n",
    "for i in row:\n",
    "    data['locality_name'] = data['locality_name'].str.replace(i, 'посёлок')"
   ]
  },
  {
   "cell_type": "code",
   "execution_count": 60,
   "metadata": {},
   "outputs": [
    {
     "data": {
      "text/plain": [
       "array(['Бокситогорск', 'Волосово', 'Волхов', 'Всеволожск', 'Выборг',\n",
       "       'Высоцк', 'Гатчина', 'Зеленогорск', 'Ивангород', 'Каменногорск',\n",
       "       'Кингисепп', 'Кириши', 'Кировск', 'Колпино', 'Коммунар',\n",
       "       'Красное Село', 'Кронштадт', 'Кудрово', 'Лодейное Поле',\n",
       "       'Ломоносов', 'Луга', 'Любань', 'Мурино', 'Никольское',\n",
       "       'Новая Ладога', 'Отрадное', 'Павловск', 'Петергоф', 'Пикалёво',\n",
       "       'Подпорожье', 'Приморск', 'Приозерск', 'Пушкин', 'Санкт-Петербург',\n",
       "       'Светогорск', 'Сертолово', 'Сестрорецк', 'Сланцы', 'Сосновый Бор',\n",
       "       'Сясьстрой', 'Тихвин', 'Тосно', 'Шлиссельбург',\n",
       "       'деревня Агалатово', 'деревня Аро', 'деревня Батово',\n",
       "       'деревня Бегуницы', 'деревня Белогорка', 'деревня Большая Вруда',\n",
       "       'деревня Большая Пустомержа', 'деревня Большие Колпаны',\n",
       "       'деревня Большое Рейзино', 'деревня Большой Сабск', 'деревня Бор',\n",
       "       'деревня Борисова Грива', 'деревня Ваганово', 'деревня Вартемяги',\n",
       "       'деревня Вахнова Кара', 'деревня Выскатка', 'деревня Гарболово',\n",
       "       'деревня Глинка', 'деревня Горбунки', 'деревня Гостилицы',\n",
       "       'деревня Заклинье', 'деревня Заневка', 'деревня Зимитицы',\n",
       "       'деревня Извара', 'деревня Иссад', 'деревня Калитино',\n",
       "       'деревня Кальтино', 'деревня Камышовка', 'деревня Каськово',\n",
       "       'деревня Келози', 'деревня Кипень', 'деревня Кисельня',\n",
       "       'деревня Колтуши', 'деревня Коркино', 'деревня Котлы',\n",
       "       'деревня Кривко', 'деревня Кудрово', 'деревня Кузьмолово',\n",
       "       'деревня Курковицы', 'деревня Куровицы', 'деревня Куттузи',\n",
       "       'деревня Лаврики', 'деревня Лаголово', 'деревня Лампово',\n",
       "       'деревня Лесколово', 'деревня Лопухинка', 'деревня Лупполово',\n",
       "       'деревня Малая Романовка', 'деревня Малое Верево',\n",
       "       'деревня Малое Карлино', 'деревня Малые Колпаны',\n",
       "       'деревня Мануйлово', 'деревня Меньково', 'деревня Мины',\n",
       "       'деревня Мистолово', 'деревня Ненимяки', 'деревня Нижние Осельки',\n",
       "       'деревня Нижняя', 'деревня Низино', 'деревня Новое Девяткино',\n",
       "       'деревня Новолисино', 'деревня Нурма', 'деревня Оржицы',\n",
       "       'деревня Парицы', 'деревня Пельгора', 'деревня Пеники',\n",
       "       'деревня Пижма', 'деревня Пикколово', 'деревня Пудомяги',\n",
       "       'деревня Пустынка', 'деревня Пчева', 'деревня Рабитицы',\n",
       "       'деревня Разбегаево', 'деревня Раздолье', 'деревня Разметелево',\n",
       "       'деревня Рапполово', 'деревня Реброво', 'деревня Русско',\n",
       "       'деревня Сижно', 'деревня Снегирёвка', 'деревня Старая',\n",
       "       'деревня Старая Пустошь', 'деревня Старое Хинколово',\n",
       "       'деревня Старополье', 'деревня Старосиверская',\n",
       "       'деревня Старые Бегуницы', 'деревня Суоранда',\n",
       "       'деревня Сяськелево', 'деревня Тарасово', 'деревня Терпилицы',\n",
       "       'деревня Тихковицы', 'деревня Тойворово', 'деревня Торосово',\n",
       "       'деревня Торошковичи', 'деревня Трубников Бор',\n",
       "       'деревня Фалилеево', 'деревня Фёдоровское', 'деревня Хапо-Ое',\n",
       "       'деревня Хязельки', 'деревня Чудской Бор', 'деревня Шпаньково',\n",
       "       'деревня Щеглово', 'деревня Юкки', 'деревня Ялгино',\n",
       "       'деревня Яльгелево', 'деревня Ям-Тесово',\n",
       "       'коттеджный посёлок Кивеннапа Север', 'коттеджный посёлок Лесное',\n",
       "       'коттеджный посёлок Счастье', 'посёлок Александровская',\n",
       "       'посёлок Алексеевка', 'посёлок Аннино', 'посёлок Барышево',\n",
       "       'посёлок Белоостров', 'посёлок Большая Ижора', 'посёлок Бугры',\n",
       "       'посёлок Будогощь', 'посёлок Важины', 'посёлок Вещево',\n",
       "       'посёлок Виллози', 'посёлок Вознесенье', 'посёлок Возрождение',\n",
       "       'посёлок Войсковицы', 'посёлок Войскорово', 'посёлок Володарское',\n",
       "       'посёлок Вырица', 'посёлок Высокоключевой', 'посёлок Гаврилово',\n",
       "       'посёлок Гарболово', 'посёлок Гладкое', 'посёлок Глажево',\n",
       "       'посёлок Глебычево', 'посёлок Гончарово', 'посёлок Громово',\n",
       "       'посёлок Дзержинского', 'посёлок Дружная Горка',\n",
       "       'посёлок Дружноселье', 'посёлок Дубровка', 'посёлок Елизаветино',\n",
       "       'посёлок Ефимовский', 'посёлок Жилгородок', 'посёлок Жилпосёлок',\n",
       "       'посёлок Житково', 'посёлок Заводской', 'посёлок Запорожское',\n",
       "       'посёлок Зимитицы', 'посёлок Ильичёво', 'посёлок Калитино',\n",
       "       'посёлок Каложицы', 'посёлок Кикерино', 'посёлок Кингисеппский',\n",
       "       'посёлок Кирпичное', 'посёлок Кобралово', 'посёлок Кобринское',\n",
       "       'посёлок Коммунары', 'посёлок Кондратьево', 'посёлок Коробицыно',\n",
       "       'посёлок Котельский', 'посёлок Красная Долина',\n",
       "       'посёлок Красносельское', 'посёлок Красный Бор',\n",
       "       'посёлок Кузнечное', 'посёлок Кузьмоловский', 'посёлок Лебяжье',\n",
       "       'посёлок Левашово', 'посёлок Ленинское', 'посёлок Лесное',\n",
       "       'посёлок Лесогорский', 'посёлок Лисий Нос', 'посёлок Лукаши',\n",
       "       'посёлок Любань', 'посёлок Мга', 'посёлок Мельниково',\n",
       "       'посёлок Металлострой', 'посёлок Мичуринское', 'посёлок Молодцово',\n",
       "       'посёлок Молодёжное', 'посёлок Мурино', 'посёлок Мыза-Ивановка',\n",
       "       'посёлок Назия', 'посёлок Никольский', 'посёлок Новогорелово',\n",
       "       'посёлок Новоселье', 'посёлок Новый Свет', 'посёлок Новый Учхоз',\n",
       "       'посёлок Оредеж', 'посёлок Павлово',\n",
       "       'посёлок Пансионат Зелёный Бор', 'посёлок Парголово',\n",
       "       'посёлок Первомайское', 'посёлок Перово', 'посёлок Песочный',\n",
       "       'посёлок Петро-Славянка', 'посёлок Петровское',\n",
       "       'посёлок Платформа 69-й километр', 'посёлок Плодовое',\n",
       "       'посёлок Плоское', 'посёлок Победа', 'посёлок Поляны',\n",
       "       'посёлок Понтонный', 'посёлок Почап', 'посёлок Починок',\n",
       "       'посёлок Приветнинское', 'посёлок Пригородный',\n",
       "       'посёлок Приладожский', 'посёлок Пудость', 'посёлок Пушное',\n",
       "       'посёлок Пчевжа', 'посёлок Рабитицы', 'посёлок Рахья',\n",
       "       'посёлок Репино', 'посёлок Романовка', 'посёлок Ромашки',\n",
       "       'посёлок Ропша', 'посёлок Рощино', 'посёлок Рябово',\n",
       "       'посёлок Сапёрное', 'посёлок Сапёрный', 'посёлок Свирьстрой',\n",
       "       'посёлок Севастьяново', 'посёлок Селезнёво', 'посёлок Сельцо',\n",
       "       'посёлок Семиозерье', 'посёлок Семрино', 'посёлок Серебрянский',\n",
       "       'посёлок Сиверский', 'посёлок Синявино', 'посёлок Советский',\n",
       "       'посёлок Совхозный', 'посёлок Сосново', 'посёлок Старая Малукса',\n",
       "       'посёлок Стеклянный', 'посёлок Стрельна', 'посёлок Суйда',\n",
       "       'посёлок Сумино', 'посёлок Суходолье', 'посёлок Тайцы',\n",
       "       'посёлок Тельмана', 'посёлок Терволово', 'посёлок Токсово',\n",
       "       'посёлок Торковичи', 'посёлок Торфяное', 'посёлок Тёсово-4',\n",
       "       'посёлок Углово', 'посёлок Ульяновка', 'посёлок Усть-Ижора',\n",
       "       'посёлок Усть-Луга', 'посёлок Ушаки', 'посёлок Форносово',\n",
       "       'посёлок Форт Красная Горка', 'посёлок Фёдоровское',\n",
       "       'посёлок Цвелодубово', 'посёлок Цвылёво', 'посёлок Шугозеро',\n",
       "       'посёлок Шушары', 'посёлок Щеглово', 'посёлок Янино-1',\n",
       "       'посёлок имени Морозова', 'посёлок имени Свердлова',\n",
       "       'посёлок станции Вещево', 'посёлок станции Громово',\n",
       "       'посёлок станции Корнево', 'посёлок станции Лужайка',\n",
       "       'посёлок станции Приветнинское', 'посёлок станции Свирь',\n",
       "       'садоводческое некоммерческое товарищество Лесная Поляна',\n",
       "       'садовое товарищество Новая Ропша',\n",
       "       'садовое товарищество Приладожский', 'садовое товарищество Рахья',\n",
       "       'садовое товарищество Садко', 'село Копорье', 'село Никольское',\n",
       "       'село Павлово', 'село Паша', 'село Путилово', 'село Рождествено',\n",
       "       'село Русско-Высоцкое', 'село Старая Ладога', 'село Шум'],\n",
       "      dtype=object)"
      ]
     },
     "execution_count": 60,
     "metadata": {},
     "output_type": "execute_result"
    }
   ],
   "source": [
    "data['locality_name'].sort_values().unique()"
   ]
  },
  {
   "cell_type": "code",
   "execution_count": 61,
   "metadata": {},
   "outputs": [],
   "source": [
    "data['locality_name'] = (\n",
    "    data['locality_name'].str.\n",
    "    replace('садоводческое некоммерческое товарищество',\n",
    "            'садовое товарищество')\n",
    ")"
   ]
  },
  {
   "cell_type": "code",
   "execution_count": 62,
   "metadata": {},
   "outputs": [
    {
     "data": {
      "text/plain": [
       "array(['Бокситогорск', 'Волосово', 'Волхов', 'Всеволожск', 'Выборг',\n",
       "       'Высоцк', 'Гатчина', 'Зеленогорск', 'Ивангород', 'Каменногорск',\n",
       "       'Кингисепп', 'Кириши', 'Кировск', 'Колпино', 'Коммунар',\n",
       "       'Красное Село', 'Кронштадт', 'Кудрово', 'Лодейное Поле',\n",
       "       'Ломоносов', 'Луга', 'Любань', 'Мурино', 'Никольское',\n",
       "       'Новая Ладога', 'Отрадное', 'Павловск', 'Петергоф', 'Пикалёво',\n",
       "       'Подпорожье', 'Приморск', 'Приозерск', 'Пушкин', 'Санкт-Петербург',\n",
       "       'Светогорск', 'Сертолово', 'Сестрорецк', 'Сланцы', 'Сосновый Бор',\n",
       "       'Сясьстрой', 'Тихвин', 'Тосно', 'Шлиссельбург',\n",
       "       'деревня Агалатово', 'деревня Аро', 'деревня Батово',\n",
       "       'деревня Бегуницы', 'деревня Белогорка', 'деревня Большая Вруда',\n",
       "       'деревня Большая Пустомержа', 'деревня Большие Колпаны',\n",
       "       'деревня Большое Рейзино', 'деревня Большой Сабск', 'деревня Бор',\n",
       "       'деревня Борисова Грива', 'деревня Ваганово', 'деревня Вартемяги',\n",
       "       'деревня Вахнова Кара', 'деревня Выскатка', 'деревня Гарболово',\n",
       "       'деревня Глинка', 'деревня Горбунки', 'деревня Гостилицы',\n",
       "       'деревня Заклинье', 'деревня Заневка', 'деревня Зимитицы',\n",
       "       'деревня Извара', 'деревня Иссад', 'деревня Калитино',\n",
       "       'деревня Кальтино', 'деревня Камышовка', 'деревня Каськово',\n",
       "       'деревня Келози', 'деревня Кипень', 'деревня Кисельня',\n",
       "       'деревня Колтуши', 'деревня Коркино', 'деревня Котлы',\n",
       "       'деревня Кривко', 'деревня Кудрово', 'деревня Кузьмолово',\n",
       "       'деревня Курковицы', 'деревня Куровицы', 'деревня Куттузи',\n",
       "       'деревня Лаврики', 'деревня Лаголово', 'деревня Лампово',\n",
       "       'деревня Лесколово', 'деревня Лопухинка', 'деревня Лупполово',\n",
       "       'деревня Малая Романовка', 'деревня Малое Верево',\n",
       "       'деревня Малое Карлино', 'деревня Малые Колпаны',\n",
       "       'деревня Мануйлово', 'деревня Меньково', 'деревня Мины',\n",
       "       'деревня Мистолово', 'деревня Ненимяки', 'деревня Нижние Осельки',\n",
       "       'деревня Нижняя', 'деревня Низино', 'деревня Новое Девяткино',\n",
       "       'деревня Новолисино', 'деревня Нурма', 'деревня Оржицы',\n",
       "       'деревня Парицы', 'деревня Пельгора', 'деревня Пеники',\n",
       "       'деревня Пижма', 'деревня Пикколово', 'деревня Пудомяги',\n",
       "       'деревня Пустынка', 'деревня Пчева', 'деревня Рабитицы',\n",
       "       'деревня Разбегаево', 'деревня Раздолье', 'деревня Разметелево',\n",
       "       'деревня Рапполово', 'деревня Реброво', 'деревня Русско',\n",
       "       'деревня Сижно', 'деревня Снегирёвка', 'деревня Старая',\n",
       "       'деревня Старая Пустошь', 'деревня Старое Хинколово',\n",
       "       'деревня Старополье', 'деревня Старосиверская',\n",
       "       'деревня Старые Бегуницы', 'деревня Суоранда',\n",
       "       'деревня Сяськелево', 'деревня Тарасово', 'деревня Терпилицы',\n",
       "       'деревня Тихковицы', 'деревня Тойворово', 'деревня Торосово',\n",
       "       'деревня Торошковичи', 'деревня Трубников Бор',\n",
       "       'деревня Фалилеево', 'деревня Фёдоровское', 'деревня Хапо-Ое',\n",
       "       'деревня Хязельки', 'деревня Чудской Бор', 'деревня Шпаньково',\n",
       "       'деревня Щеглово', 'деревня Юкки', 'деревня Ялгино',\n",
       "       'деревня Яльгелево', 'деревня Ям-Тесово',\n",
       "       'коттеджный посёлок Кивеннапа Север', 'коттеджный посёлок Лесное',\n",
       "       'коттеджный посёлок Счастье', 'посёлок Александровская',\n",
       "       'посёлок Алексеевка', 'посёлок Аннино', 'посёлок Барышево',\n",
       "       'посёлок Белоостров', 'посёлок Большая Ижора', 'посёлок Бугры',\n",
       "       'посёлок Будогощь', 'посёлок Важины', 'посёлок Вещево',\n",
       "       'посёлок Виллози', 'посёлок Вознесенье', 'посёлок Возрождение',\n",
       "       'посёлок Войсковицы', 'посёлок Войскорово', 'посёлок Володарское',\n",
       "       'посёлок Вырица', 'посёлок Высокоключевой', 'посёлок Гаврилово',\n",
       "       'посёлок Гарболово', 'посёлок Гладкое', 'посёлок Глажево',\n",
       "       'посёлок Глебычево', 'посёлок Гончарово', 'посёлок Громово',\n",
       "       'посёлок Дзержинского', 'посёлок Дружная Горка',\n",
       "       'посёлок Дружноселье', 'посёлок Дубровка', 'посёлок Елизаветино',\n",
       "       'посёлок Ефимовский', 'посёлок Жилгородок', 'посёлок Жилпосёлок',\n",
       "       'посёлок Житково', 'посёлок Заводской', 'посёлок Запорожское',\n",
       "       'посёлок Зимитицы', 'посёлок Ильичёво', 'посёлок Калитино',\n",
       "       'посёлок Каложицы', 'посёлок Кикерино', 'посёлок Кингисеппский',\n",
       "       'посёлок Кирпичное', 'посёлок Кобралово', 'посёлок Кобринское',\n",
       "       'посёлок Коммунары', 'посёлок Кондратьево', 'посёлок Коробицыно',\n",
       "       'посёлок Котельский', 'посёлок Красная Долина',\n",
       "       'посёлок Красносельское', 'посёлок Красный Бор',\n",
       "       'посёлок Кузнечное', 'посёлок Кузьмоловский', 'посёлок Лебяжье',\n",
       "       'посёлок Левашово', 'посёлок Ленинское', 'посёлок Лесное',\n",
       "       'посёлок Лесогорский', 'посёлок Лисий Нос', 'посёлок Лукаши',\n",
       "       'посёлок Любань', 'посёлок Мга', 'посёлок Мельниково',\n",
       "       'посёлок Металлострой', 'посёлок Мичуринское', 'посёлок Молодцово',\n",
       "       'посёлок Молодёжное', 'посёлок Мурино', 'посёлок Мыза-Ивановка',\n",
       "       'посёлок Назия', 'посёлок Никольский', 'посёлок Новогорелово',\n",
       "       'посёлок Новоселье', 'посёлок Новый Свет', 'посёлок Новый Учхоз',\n",
       "       'посёлок Оредеж', 'посёлок Павлово',\n",
       "       'посёлок Пансионат Зелёный Бор', 'посёлок Парголово',\n",
       "       'посёлок Первомайское', 'посёлок Перово', 'посёлок Песочный',\n",
       "       'посёлок Петро-Славянка', 'посёлок Петровское',\n",
       "       'посёлок Платформа 69-й километр', 'посёлок Плодовое',\n",
       "       'посёлок Плоское', 'посёлок Победа', 'посёлок Поляны',\n",
       "       'посёлок Понтонный', 'посёлок Почап', 'посёлок Починок',\n",
       "       'посёлок Приветнинское', 'посёлок Пригородный',\n",
       "       'посёлок Приладожский', 'посёлок Пудость', 'посёлок Пушное',\n",
       "       'посёлок Пчевжа', 'посёлок Рабитицы', 'посёлок Рахья',\n",
       "       'посёлок Репино', 'посёлок Романовка', 'посёлок Ромашки',\n",
       "       'посёлок Ропша', 'посёлок Рощино', 'посёлок Рябово',\n",
       "       'посёлок Сапёрное', 'посёлок Сапёрный', 'посёлок Свирьстрой',\n",
       "       'посёлок Севастьяново', 'посёлок Селезнёво', 'посёлок Сельцо',\n",
       "       'посёлок Семиозерье', 'посёлок Семрино', 'посёлок Серебрянский',\n",
       "       'посёлок Сиверский', 'посёлок Синявино', 'посёлок Советский',\n",
       "       'посёлок Совхозный', 'посёлок Сосново', 'посёлок Старая Малукса',\n",
       "       'посёлок Стеклянный', 'посёлок Стрельна', 'посёлок Суйда',\n",
       "       'посёлок Сумино', 'посёлок Суходолье', 'посёлок Тайцы',\n",
       "       'посёлок Тельмана', 'посёлок Терволово', 'посёлок Токсово',\n",
       "       'посёлок Торковичи', 'посёлок Торфяное', 'посёлок Тёсово-4',\n",
       "       'посёлок Углово', 'посёлок Ульяновка', 'посёлок Усть-Ижора',\n",
       "       'посёлок Усть-Луга', 'посёлок Ушаки', 'посёлок Форносово',\n",
       "       'посёлок Форт Красная Горка', 'посёлок Фёдоровское',\n",
       "       'посёлок Цвелодубово', 'посёлок Цвылёво', 'посёлок Шугозеро',\n",
       "       'посёлок Шушары', 'посёлок Щеглово', 'посёлок Янино-1',\n",
       "       'посёлок имени Морозова', 'посёлок имени Свердлова',\n",
       "       'посёлок станции Вещево', 'посёлок станции Громово',\n",
       "       'посёлок станции Корнево', 'посёлок станции Лужайка',\n",
       "       'посёлок станции Приветнинское', 'посёлок станции Свирь',\n",
       "       'садовое товарищество Лесная Поляна',\n",
       "       'садовое товарищество Новая Ропша',\n",
       "       'садовое товарищество Приладожский', 'садовое товарищество Рахья',\n",
       "       'садовое товарищество Садко', 'село Копорье', 'село Никольское',\n",
       "       'село Павлово', 'село Паша', 'село Путилово', 'село Рождествено',\n",
       "       'село Русско-Высоцкое', 'село Старая Ладога', 'село Шум'],\n",
       "      dtype=object)"
      ]
     },
     "execution_count": 62,
     "metadata": {},
     "output_type": "execute_result"
    }
   ],
   "source": [
    "data['locality_name'].sort_values().unique()"
   ]
  },
  {
   "cell_type": "markdown",
   "metadata": {},
   "source": [
    "Создам функцию, которая на основании данных из столбца `locality_name` сформирует новый столбец `locality_category`, в который войдут следующие категории:**\n",
    "\n",
    "- `'посёлок'`,\n",
    "- `'село'`,\n",
    "- `'деревня'`,\n",
    "- `'садовое товарищество'`\n",
    "- `'город'`.\n",
    "\n",
    "**Например, если в столбце `locality_name` находится подстрока `'Санкт-Петербург'`, то в столбце `locality_category` должна появиться строка `'город'`.**\n"
   ]
  },
  {
   "cell_type": "code",
   "execution_count": 63,
   "metadata": {},
   "outputs": [],
   "source": [
    "def categorize_locality(row):\n",
    "    if 'село' in row:\n",
    "        return 'село'\n",
    "    elif 'посёлок' in row:\n",
    "        return 'посёлок'\n",
    "    elif 'садовое' in row:\n",
    "        return 'садовое товарищество'\n",
    "    elif 'деревня' in row:\n",
    "        return 'деревня'\n",
    "    else:\n",
    "        return 'город'"
   ]
  },
  {
   "cell_type": "code",
   "execution_count": 64,
   "metadata": {},
   "outputs": [],
   "source": [
    "data['locality_category'] = data['locality_name'].apply(categorize_locality)"
   ]
  },
  {
   "cell_type": "code",
   "execution_count": 65,
   "metadata": {},
   "outputs": [
    {
     "data": {
      "text/html": [
       "<div>\n",
       "<style scoped>\n",
       "    .dataframe tbody tr th:only-of-type {\n",
       "        vertical-align: middle;\n",
       "    }\n",
       "\n",
       "    .dataframe tbody tr th {\n",
       "        vertical-align: top;\n",
       "    }\n",
       "\n",
       "    .dataframe thead th {\n",
       "        text-align: right;\n",
       "    }\n",
       "</style>\n",
       "<table border=\"1\" class=\"dataframe\">\n",
       "  <thead>\n",
       "    <tr style=\"text-align: right;\">\n",
       "      <th></th>\n",
       "      <th>locality_name</th>\n",
       "      <th>locality_category</th>\n",
       "    </tr>\n",
       "  </thead>\n",
       "  <tbody>\n",
       "    <tr>\n",
       "      <th>0</th>\n",
       "      <td>Санкт-Петербург</td>\n",
       "      <td>город</td>\n",
       "    </tr>\n",
       "    <tr>\n",
       "      <th>1</th>\n",
       "      <td>посёлок Шушары</td>\n",
       "      <td>посёлок</td>\n",
       "    </tr>\n",
       "    <tr>\n",
       "      <th>2</th>\n",
       "      <td>Санкт-Петербург</td>\n",
       "      <td>город</td>\n",
       "    </tr>\n",
       "    <tr>\n",
       "      <th>3</th>\n",
       "      <td>Санкт-Петербург</td>\n",
       "      <td>город</td>\n",
       "    </tr>\n",
       "    <tr>\n",
       "      <th>4</th>\n",
       "      <td>Санкт-Петербург</td>\n",
       "      <td>город</td>\n",
       "    </tr>\n",
       "  </tbody>\n",
       "</table>\n",
       "</div>"
      ],
      "text/plain": [
       "     locality_name locality_category\n",
       "0  Санкт-Петербург             город\n",
       "1   посёлок Шушары           посёлок\n",
       "2  Санкт-Петербург             город\n",
       "3  Санкт-Петербург             город\n",
       "4  Санкт-Петербург             город"
      ]
     },
     "execution_count": 65,
     "metadata": {},
     "output_type": "execute_result"
    }
   ],
   "source": [
    "#выведим первые 5 строк\n",
    "data.loc[:,['locality_name','locality_category']].head()"
   ]
  },
  {
   "cell_type": "markdown",
   "metadata": {},
   "source": [
    "Устранив неявные дубликаты проверим не появились ли уникальные"
   ]
  },
  {
   "cell_type": "code",
   "execution_count": 66,
   "metadata": {},
   "outputs": [
    {
     "data": {
      "text/plain": [
       "0"
      ]
     },
     "execution_count": 66,
     "metadata": {},
     "output_type": "execute_result"
    }
   ],
   "source": [
    "data.duplicated().sum()"
   ]
  },
  {
   "cell_type": "markdown",
   "metadata": {},
   "source": [
    "дубликатов не появилось"
   ]
  },
  {
   "cell_type": "markdown",
   "metadata": {},
   "source": [
    "**Найдем и устраним редкие и выбивающиеся значения в каждых столбцах**"
   ]
  },
  {
   "cell_type": "markdown",
   "metadata": {},
   "source": [
    "Проанализируем значения в столбцах и посмотрим присутствуют ли аномалии в них прежде чем будем их заполнять."
   ]
  },
  {
   "cell_type": "markdown",
   "metadata": {},
   "source": [
    "**Начнем с столбца ceiling_height**"
   ]
  },
  {
   "cell_type": "code",
   "execution_count": 67,
   "metadata": {},
   "outputs": [],
   "source": [
    "#импортируем библиотеку\n",
    "import matplotlib.pyplot as plt"
   ]
  },
  {
   "cell_type": "code",
   "execution_count": 68,
   "metadata": {},
   "outputs": [
    {
     "data": {
      "image/png": "[encoded data removed]",
      "text/plain": [
       "<Figure size 432x288 with 1 Axes>"
      ]
     },
     "metadata": {
      "needs_background": "light"
     },
     "output_type": "display_data"
    }
   ],
   "source": [
    "#Построим диаграмму размаха\n",
    "pd.DataFrame(data['ceiling_height']).boxplot();"
   ]
  },
  {
   "cell_type": "code",
   "execution_count": 69,
   "metadata": {},
   "outputs": [
    {
     "data": {
      "image/png": "[encoded data removed]",
      "text/plain": [
       "<Figure size 432x288 with 1 Axes>"
      ]
     },
     "metadata": {
      "needs_background": "light"
     },
     "output_type": "display_data"
    }
   ],
   "source": [
    "pd.DataFrame(data['ceiling_height']).boxplot()\n",
    "plt.ylim(2,2.9);"
   ]
  },
  {
   "cell_type": "code",
   "execution_count": 70,
   "metadata": {},
   "outputs": [
    {
     "data": {
      "text/plain": [
       "count    23540.000000\n",
       "mean         2.724263\n",
       "std          0.991328\n",
       "min          1.000000\n",
       "25%          2.600000\n",
       "50%          2.650000\n",
       "75%          2.700000\n",
       "max        100.000000\n",
       "Name: ceiling_height, dtype: float64"
      ]
     },
     "execution_count": 70,
     "metadata": {},
     "output_type": "execute_result"
    }
   ],
   "source": [
    "data['ceiling_height'].describe()"
   ]
  },
  {
   "cell_type": "markdown",
   "metadata": {},
   "source": [
    "Как можем наблюдать по диагармме размаха, что в объявлении в основном встречаются квартиры с высотой потолков в 2.7м, но наблюдаются аномальные значения, к примеру, в размере 1м и 100м. Веротно всего ошибки возникли при заполнении данных. Минимальная высота потолков в у нас в стране 2.4м в жилых помещениях. Попробуем устранить часть искажений."
   ]
  },
  {
   "cell_type": "code",
   "execution_count": 71,
   "metadata": {},
   "outputs": [
    {
     "data": {
      "text/plain": [
       "array([  1.  ,   1.2 ,   1.75,   2.  ,   2.2 ,   2.25,   2.3 ,   2.34,\n",
       "         2.4 ,   2.45,   2.46,   2.47,   2.48,   2.49,   2.5 ,   2.51,\n",
       "         2.52,   2.53,   2.54,   2.55,   2.56,   2.57,   2.58,   2.59,\n",
       "         2.6 ,   2.61,   2.62,   2.63,   2.64,   2.65,   2.66,   2.67,\n",
       "         2.68,   2.69,   2.7 ,   2.71,   2.72,   2.73,   2.74,   2.75,\n",
       "         2.76,   2.77,   2.78,   2.79,   2.8 ,   2.81,   2.82,   2.83,\n",
       "         2.84,   2.85,   2.86,   2.87,   2.88,   2.89,   2.9 ,   2.91,\n",
       "         2.92,   2.93,   2.94,   2.95,   2.96,   2.97,   2.98,   2.99,\n",
       "         3.  ,   3.01,   3.02,   3.03,   3.04,   3.05,   3.06,   3.07,\n",
       "         3.08,   3.09,   3.1 ,   3.11,   3.12,   3.13,   3.14,   3.15,\n",
       "         3.16,   3.17,   3.18,   3.2 ,   3.21,   3.22,   3.23,   3.24,\n",
       "         3.25,   3.26,   3.27,   3.28,   3.29,   3.3 ,   3.31,   3.32,\n",
       "         3.33,   3.34,   3.35,   3.36,   3.37,   3.38,   3.39,   3.4 ,\n",
       "         3.42,   3.43,   3.44,   3.45,   3.46,   3.47,   3.48,   3.49,\n",
       "         3.5 ,   3.51,   3.52,   3.53,   3.54,   3.55,   3.56,   3.57,\n",
       "         3.58,   3.59,   3.6 ,   3.62,   3.63,   3.65,   3.66,   3.67,\n",
       "         3.68,   3.69,   3.7 ,   3.75,   3.76,   3.78,   3.8 ,   3.82,\n",
       "         3.83,   3.84,   3.85,   3.86,   3.87,   3.88,   3.9 ,   3.93,\n",
       "         3.95,   3.98,   4.  ,   4.06,   4.1 ,   4.14,   4.15,   4.19,\n",
       "         4.2 ,   4.25,   4.3 ,   4.37,   4.4 ,   4.5 ,   4.7 ,   4.8 ,\n",
       "         4.9 ,   5.  ,   5.2 ,   5.3 ,   5.5 ,   5.6 ,   5.8 ,   6.  ,\n",
       "         8.  ,   8.3 ,  10.3 ,  14.  ,  20.  ,  22.6 ,  24.  ,  25.  ,\n",
       "        26.  ,  27.  ,  27.5 ,  32.  , 100.  ])"
      ]
     },
     "execution_count": 71,
     "metadata": {},
     "output_type": "execute_result"
    }
   ],
   "source": [
    "#Выведим уникальные значения данного столбца\n",
    "data['ceiling_height'].sort_values().unique()"
   ]
  },
  {
   "cell_type": "markdown",
   "metadata": {},
   "source": [
    "Из столбца с уникальными значениями можно предположить, что все значения написанные потолков с 22.6 м и выше написаны с ошибкой и вероятно пользователь поставли запятую не в том месте. Для корректировки поделим значения на 10."
   ]
  },
  {
   "cell_type": "code",
   "execution_count": 72,
   "metadata": {},
   "outputs": [],
   "source": [
    "data.loc[data['ceiling_height'] >= 22.6,'ceiling_height'] = (\n",
    "    data.loc[data['ceiling_height'] >= 22.6,'ceiling_height'] /10\n",
    ")"
   ]
  },
  {
   "cell_type": "code",
   "execution_count": 73,
   "metadata": {},
   "outputs": [],
   "source": [
    "#data['ceiling_height'].sort_values().unique()"
   ]
  },
  {
   "cell_type": "markdown",
   "metadata": {},
   "source": [
    "Для дальнейшего анализа исключим аномальные квартиры с высотой потолка ниже 2.4 м и  предположим выше 5м. Посчитаем сколько таких строк в данных."
   ]
  },
  {
   "cell_type": "code",
   "execution_count": 74,
   "metadata": {},
   "outputs": [
    {
     "data": {
      "text/plain": [
       "37"
      ]
     },
     "execution_count": 74,
     "metadata": {},
     "output_type": "execute_result"
    }
   ],
   "source": [
    "(\n",
    "    data.\n",
    "    loc[(data['ceiling_height'] > 5) | (data['ceiling_height'] < 2.4),\n",
    "        'ceiling_height'].count()\n",
    ")"
   ]
  },
  {
   "cell_type": "markdown",
   "metadata": {},
   "source": [
    "Всего строк 37. Для дальнейшего анализа данный строки можно удлаить, так как их не значительное кол-во."
   ]
  },
  {
   "cell_type": "code",
   "execution_count": 75,
   "metadata": {},
   "outputs": [],
   "source": [
    "data = data.loc[(data['ceiling_height'] <= 5) |\\\n",
    "                (data['ceiling_height'] >= 2.4),\n",
    "                'total_images':'locality_category']"
   ]
  },
  {
   "cell_type": "code",
   "execution_count": 76,
   "metadata": {},
   "outputs": [
    {
     "data": {
      "text/plain": [
       "count    23540.000000\n",
       "mean         2.699217\n",
       "std          0.276826\n",
       "min          1.000000\n",
       "25%          2.600000\n",
       "50%          2.650000\n",
       "75%          2.700000\n",
       "max         20.000000\n",
       "Name: ceiling_height, dtype: float64"
      ]
     },
     "execution_count": 76,
     "metadata": {},
     "output_type": "execute_result"
    }
   ],
   "source": [
    "data['ceiling_height'].describe()"
   ]
  },
  {
   "cell_type": "markdown",
   "metadata": {},
   "source": [
    "Среднее отклоненение уменьшилось до 0,27."
   ]
  },
  {
   "cell_type": "markdown",
   "metadata": {},
   "source": [
    "**Изучим аномалии в kitchen_area и living_area и total_area**"
   ]
  },
  {
   "cell_type": "code",
   "execution_count": 77,
   "metadata": {},
   "outputs": [
    {
     "data": {
      "text/html": [
       "<div>\n",
       "<style scoped>\n",
       "    .dataframe tbody tr th:only-of-type {\n",
       "        vertical-align: middle;\n",
       "    }\n",
       "\n",
       "    .dataframe tbody tr th {\n",
       "        vertical-align: top;\n",
       "    }\n",
       "\n",
       "    .dataframe thead th {\n",
       "        text-align: right;\n",
       "    }\n",
       "</style>\n",
       "<table border=\"1\" class=\"dataframe\">\n",
       "  <thead>\n",
       "    <tr style=\"text-align: right;\">\n",
       "      <th></th>\n",
       "      <th>kitchen_area</th>\n",
       "      <th>living_area</th>\n",
       "      <th>total_area</th>\n",
       "    </tr>\n",
       "  </thead>\n",
       "  <tbody>\n",
       "    <tr>\n",
       "      <th>count</th>\n",
       "      <td>23540.000000</td>\n",
       "      <td>23540.000000</td>\n",
       "      <td>23540.000000</td>\n",
       "    </tr>\n",
       "    <tr>\n",
       "      <th>mean</th>\n",
       "      <td>10.409758</td>\n",
       "      <td>33.118489</td>\n",
       "      <td>60.265686</td>\n",
       "    </tr>\n",
       "    <tr>\n",
       "      <th>std</th>\n",
       "      <td>5.629247</td>\n",
       "      <td>21.434313</td>\n",
       "      <td>35.409982</td>\n",
       "    </tr>\n",
       "    <tr>\n",
       "      <th>min</th>\n",
       "      <td>1.300000</td>\n",
       "      <td>2.000000</td>\n",
       "      <td>12.000000</td>\n",
       "    </tr>\n",
       "    <tr>\n",
       "      <th>25%</th>\n",
       "      <td>7.300000</td>\n",
       "      <td>18.000000</td>\n",
       "      <td>40.000000</td>\n",
       "    </tr>\n",
       "    <tr>\n",
       "      <th>50%</th>\n",
       "      <td>9.000000</td>\n",
       "      <td>29.000000</td>\n",
       "      <td>52.000000</td>\n",
       "    </tr>\n",
       "    <tr>\n",
       "      <th>75%</th>\n",
       "      <td>11.400000</td>\n",
       "      <td>41.100000</td>\n",
       "      <td>69.632500</td>\n",
       "    </tr>\n",
       "    <tr>\n",
       "      <th>max</th>\n",
       "      <td>112.000000</td>\n",
       "      <td>409.700000</td>\n",
       "      <td>900.000000</td>\n",
       "    </tr>\n",
       "  </tbody>\n",
       "</table>\n",
       "</div>"
      ],
      "text/plain": [
       "       kitchen_area   living_area    total_area\n",
       "count  23540.000000  23540.000000  23540.000000\n",
       "mean      10.409758     33.118489     60.265686\n",
       "std        5.629247     21.434313     35.409982\n",
       "min        1.300000      2.000000     12.000000\n",
       "25%        7.300000     18.000000     40.000000\n",
       "50%        9.000000     29.000000     52.000000\n",
       "75%       11.400000     41.100000     69.632500\n",
       "max      112.000000    409.700000    900.000000"
      ]
     },
     "execution_count": 77,
     "metadata": {},
     "output_type": "execute_result"
    }
   ],
   "source": [
    "data.loc[:,['kitchen_area','living_area','total_area']].describe()"
   ]
  },
  {
   "cell_type": "code",
   "execution_count": 78,
   "metadata": {},
   "outputs": [
    {
     "data": {
      "image/png": "[encoded data removed]",
      "text/plain": [
       "<Figure size 432x288 with 1 Axes>"
      ]
     },
     "metadata": {
      "needs_background": "light"
     },
     "output_type": "display_data"
    }
   ],
   "source": [
    "#Построим диаграмму размаха\n",
    "pd.DataFrame(data.loc[:,['kitchen_area','living_area','total_area']]).boxplot();"
   ]
  },
  {
   "cell_type": "code",
   "execution_count": 79,
   "metadata": {},
   "outputs": [
    {
     "data": {
      "image/png": "[encoded data removed]",
      "text/plain": [
       "<Figure size 432x288 with 1 Axes>"
      ]
     },
     "metadata": {
      "needs_background": "light"
     },
     "output_type": "display_data"
    }
   ],
   "source": [
    "pd.DataFrame(data.loc[:,['kitchen_area','living_area','total_area']]).boxplot();\n",
    "plt.ylim(1,200);"
   ]
  },
  {
   "cell_type": "markdown",
   "metadata": {},
   "source": [
    "Сформируем сводную таблицу по кол-ву заявок и среднему и медианному значению площадей в списке в зависимости сколько комнат в квартире"
   ]
  },
  {
   "cell_type": "code",
   "execution_count": 80,
   "metadata": {},
   "outputs": [],
   "source": [
    "\n",
    "data_pivot = data.pivot_table(\n",
    "    index = 'rooms', \n",
    "    values = ['kitchen_area','living_area','total_area'],\n",
    "    aggfunc = ['mean','median','count'])"
   ]
  },
  {
   "cell_type": "code",
   "execution_count": 81,
   "metadata": {},
   "outputs": [
    {
     "data": {
      "text/html": [
       "<div>\n",
       "<style scoped>\n",
       "    .dataframe tbody tr th:only-of-type {\n",
       "        vertical-align: middle;\n",
       "    }\n",
       "\n",
       "    .dataframe tbody tr th {\n",
       "        vertical-align: top;\n",
       "    }\n",
       "\n",
       "    .dataframe thead tr th {\n",
       "        text-align: left;\n",
       "    }\n",
       "</style>\n",
       "<table border=\"1\" class=\"dataframe\">\n",
       "  <thead>\n",
       "    <tr>\n",
       "      <th></th>\n",
       "      <th>rooms</th>\n",
       "      <th colspan=\"3\" halign=\"left\">mean</th>\n",
       "      <th colspan=\"3\" halign=\"left\">median</th>\n",
       "      <th colspan=\"3\" halign=\"left\">count</th>\n",
       "    </tr>\n",
       "    <tr>\n",
       "      <th></th>\n",
       "      <th></th>\n",
       "      <th>kitchen_area</th>\n",
       "      <th>living_area</th>\n",
       "      <th>total_area</th>\n",
       "      <th>kitchen_area</th>\n",
       "      <th>living_area</th>\n",
       "      <th>total_area</th>\n",
       "      <th>kitchen_area</th>\n",
       "      <th>living_area</th>\n",
       "      <th>total_area</th>\n",
       "    </tr>\n",
       "  </thead>\n",
       "  <tbody>\n",
       "    <tr>\n",
       "      <th>0</th>\n",
       "      <td>0</td>\n",
       "      <td>9.000000</td>\n",
       "      <td>18.816186</td>\n",
       "      <td>29.321701</td>\n",
       "      <td>9.00</td>\n",
       "      <td>18.000</td>\n",
       "      <td>26.075</td>\n",
       "      <td>194</td>\n",
       "      <td>194</td>\n",
       "      <td>194</td>\n",
       "    </tr>\n",
       "    <tr>\n",
       "      <th>1</th>\n",
       "      <td>1</td>\n",
       "      <td>9.488140</td>\n",
       "      <td>17.906560</td>\n",
       "      <td>37.630104</td>\n",
       "      <td>9.00</td>\n",
       "      <td>18.000</td>\n",
       "      <td>36.560</td>\n",
       "      <td>7999</td>\n",
       "      <td>7999</td>\n",
       "      <td>7999</td>\n",
       "    </tr>\n",
       "    <tr>\n",
       "      <th>2</th>\n",
       "      <td>2</td>\n",
       "      <td>9.888149</td>\n",
       "      <td>30.620845</td>\n",
       "      <td>55.799417</td>\n",
       "      <td>9.00</td>\n",
       "      <td>30.000</td>\n",
       "      <td>53.000</td>\n",
       "      <td>7887</td>\n",
       "      <td>7887</td>\n",
       "      <td>7887</td>\n",
       "    </tr>\n",
       "    <tr>\n",
       "      <th>3</th>\n",
       "      <td>3</td>\n",
       "      <td>11.121961</td>\n",
       "      <td>45.110577</td>\n",
       "      <td>77.669227</td>\n",
       "      <td>9.00</td>\n",
       "      <td>44.000</td>\n",
       "      <td>72.800</td>\n",
       "      <td>5773</td>\n",
       "      <td>5773</td>\n",
       "      <td>5773</td>\n",
       "    </tr>\n",
       "    <tr>\n",
       "      <th>4</th>\n",
       "      <td>4</td>\n",
       "      <td>13.296026</td>\n",
       "      <td>63.293487</td>\n",
       "      <td>107.536197</td>\n",
       "      <td>10.50</td>\n",
       "      <td>61.750</td>\n",
       "      <td>99.300</td>\n",
       "      <td>1170</td>\n",
       "      <td>1170</td>\n",
       "      <td>1170</td>\n",
       "    </tr>\n",
       "    <tr>\n",
       "      <th>5</th>\n",
       "      <td>5</td>\n",
       "      <td>17.127407</td>\n",
       "      <td>91.034568</td>\n",
       "      <td>160.450895</td>\n",
       "      <td>14.40</td>\n",
       "      <td>89.350</td>\n",
       "      <td>145.700</td>\n",
       "      <td>324</td>\n",
       "      <td>324</td>\n",
       "      <td>324</td>\n",
       "    </tr>\n",
       "    <tr>\n",
       "      <th>6</th>\n",
       "      <td>6</td>\n",
       "      <td>20.167596</td>\n",
       "      <td>125.234423</td>\n",
       "      <td>202.571635</td>\n",
       "      <td>18.85</td>\n",
       "      <td>122.635</td>\n",
       "      <td>186.150</td>\n",
       "      <td>104</td>\n",
       "      <td>104</td>\n",
       "      <td>104</td>\n",
       "    </tr>\n",
       "    <tr>\n",
       "      <th>7</th>\n",
       "      <td>7</td>\n",
       "      <td>20.377586</td>\n",
       "      <td>145.334483</td>\n",
       "      <td>261.365517</td>\n",
       "      <td>17.90</td>\n",
       "      <td>139.050</td>\n",
       "      <td>213.500</td>\n",
       "      <td>58</td>\n",
       "      <td>58</td>\n",
       "      <td>58</td>\n",
       "    </tr>\n",
       "    <tr>\n",
       "      <th>8</th>\n",
       "      <td>8</td>\n",
       "      <td>20.900000</td>\n",
       "      <td>168.683333</td>\n",
       "      <td>259.233333</td>\n",
       "      <td>23.10</td>\n",
       "      <td>161.000</td>\n",
       "      <td>235.700</td>\n",
       "      <td>12</td>\n",
       "      <td>12</td>\n",
       "      <td>12</td>\n",
       "    </tr>\n",
       "    <tr>\n",
       "      <th>9</th>\n",
       "      <td>9</td>\n",
       "      <td>23.062500</td>\n",
       "      <td>168.725000</td>\n",
       "      <td>305.975000</td>\n",
       "      <td>13.75</td>\n",
       "      <td>169.900</td>\n",
       "      <td>300.950</td>\n",
       "      <td>8</td>\n",
       "      <td>8</td>\n",
       "      <td>8</td>\n",
       "    </tr>\n",
       "    <tr>\n",
       "      <th>10</th>\n",
       "      <td>10</td>\n",
       "      <td>22.866667</td>\n",
       "      <td>165.566667</td>\n",
       "      <td>259.566667</td>\n",
       "      <td>19.80</td>\n",
       "      <td>161.400</td>\n",
       "      <td>272.600</td>\n",
       "      <td>3</td>\n",
       "      <td>3</td>\n",
       "      <td>3</td>\n",
       "    </tr>\n",
       "    <tr>\n",
       "      <th>11</th>\n",
       "      <td>11</td>\n",
       "      <td>12.600000</td>\n",
       "      <td>133.900000</td>\n",
       "      <td>188.900000</td>\n",
       "      <td>12.60</td>\n",
       "      <td>133.900</td>\n",
       "      <td>188.900</td>\n",
       "      <td>2</td>\n",
       "      <td>2</td>\n",
       "      <td>2</td>\n",
       "    </tr>\n",
       "    <tr>\n",
       "      <th>12</th>\n",
       "      <td>12</td>\n",
       "      <td>112.000000</td>\n",
       "      <td>409.700000</td>\n",
       "      <td>900.000000</td>\n",
       "      <td>112.00</td>\n",
       "      <td>409.700</td>\n",
       "      <td>900.000</td>\n",
       "      <td>1</td>\n",
       "      <td>1</td>\n",
       "      <td>1</td>\n",
       "    </tr>\n",
       "    <tr>\n",
       "      <th>13</th>\n",
       "      <td>14</td>\n",
       "      <td>21.250000</td>\n",
       "      <td>195.150000</td>\n",
       "      <td>304.200000</td>\n",
       "      <td>21.25</td>\n",
       "      <td>195.150</td>\n",
       "      <td>304.200</td>\n",
       "      <td>2</td>\n",
       "      <td>2</td>\n",
       "      <td>2</td>\n",
       "    </tr>\n",
       "    <tr>\n",
       "      <th>14</th>\n",
       "      <td>15</td>\n",
       "      <td>100.000000</td>\n",
       "      <td>409.000000</td>\n",
       "      <td>590.000000</td>\n",
       "      <td>100.00</td>\n",
       "      <td>409.000</td>\n",
       "      <td>590.000</td>\n",
       "      <td>1</td>\n",
       "      <td>1</td>\n",
       "      <td>1</td>\n",
       "    </tr>\n",
       "    <tr>\n",
       "      <th>15</th>\n",
       "      <td>16</td>\n",
       "      <td>13.000000</td>\n",
       "      <td>180.000000</td>\n",
       "      <td>270.000000</td>\n",
       "      <td>13.00</td>\n",
       "      <td>180.000</td>\n",
       "      <td>270.000</td>\n",
       "      <td>1</td>\n",
       "      <td>1</td>\n",
       "      <td>1</td>\n",
       "    </tr>\n",
       "    <tr>\n",
       "      <th>16</th>\n",
       "      <td>19</td>\n",
       "      <td>27.600000</td>\n",
       "      <td>264.500000</td>\n",
       "      <td>374.600000</td>\n",
       "      <td>27.60</td>\n",
       "      <td>264.500</td>\n",
       "      <td>374.600</td>\n",
       "      <td>1</td>\n",
       "      <td>1</td>\n",
       "      <td>1</td>\n",
       "    </tr>\n",
       "  </tbody>\n",
       "</table>\n",
       "</div>"
      ],
      "text/plain": [
       "   rooms         mean                               median              \\\n",
       "         kitchen_area living_area  total_area kitchen_area living_area   \n",
       "0      0     9.000000   18.816186   29.321701         9.00      18.000   \n",
       "1      1     9.488140   17.906560   37.630104         9.00      18.000   \n",
       "2      2     9.888149   30.620845   55.799417         9.00      30.000   \n",
       "3      3    11.121961   45.110577   77.669227         9.00      44.000   \n",
       "4      4    13.296026   63.293487  107.536197        10.50      61.750   \n",
       "5      5    17.127407   91.034568  160.450895        14.40      89.350   \n",
       "6      6    20.167596  125.234423  202.571635        18.85     122.635   \n",
       "7      7    20.377586  145.334483  261.365517        17.90     139.050   \n",
       "8      8    20.900000  168.683333  259.233333        23.10     161.000   \n",
       "9      9    23.062500  168.725000  305.975000        13.75     169.900   \n",
       "10    10    22.866667  165.566667  259.566667        19.80     161.400   \n",
       "11    11    12.600000  133.900000  188.900000        12.60     133.900   \n",
       "12    12   112.000000  409.700000  900.000000       112.00     409.700   \n",
       "13    14    21.250000  195.150000  304.200000        21.25     195.150   \n",
       "14    15   100.000000  409.000000  590.000000       100.00     409.000   \n",
       "15    16    13.000000  180.000000  270.000000        13.00     180.000   \n",
       "16    19    27.600000  264.500000  374.600000        27.60     264.500   \n",
       "\n",
       "                     count                         \n",
       "   total_area kitchen_area living_area total_area  \n",
       "0      26.075          194         194        194  \n",
       "1      36.560         7999        7999       7999  \n",
       "2      53.000         7887        7887       7887  \n",
       "3      72.800         5773        5773       5773  \n",
       "4      99.300         1170        1170       1170  \n",
       "5     145.700          324         324        324  \n",
       "6     186.150          104         104        104  \n",
       "7     213.500           58          58         58  \n",
       "8     235.700           12          12         12  \n",
       "9     300.950            8           8          8  \n",
       "10    272.600            3           3          3  \n",
       "11    188.900            2           2          2  \n",
       "12    900.000            1           1          1  \n",
       "13    304.200            2           2          2  \n",
       "14    590.000            1           1          1  \n",
       "15    270.000            1           1          1  \n",
       "16    374.600            1           1          1  "
      ]
     },
     "execution_count": 81,
     "metadata": {},
     "output_type": "execute_result"
    }
   ],
   "source": [
    "data_pivot = data_pivot.reset_index()\n",
    "data_pivot"
   ]
  },
  {
   "cell_type": "markdown",
   "metadata": {},
   "source": [
    "Визаулизируем данные в виде тепловых графиков"
   ]
  },
  {
   "cell_type": "code",
   "execution_count": 82,
   "metadata": {},
   "outputs": [
    {
     "data": {
      "image/png": "[encoded data removed]",
      "text/plain": [
       "<Figure size 432x288 with 2 Axes>"
      ]
     },
     "metadata": {
      "needs_background": "light"
     },
     "output_type": "display_data"
    }
   ],
   "source": [
    "import seaborn as sns\n",
    "import numpy as np\n",
    "\n",
    "sns.heatmap(data_pivot['mean'].T);"
   ]
  },
  {
   "cell_type": "code",
   "execution_count": 83,
   "metadata": {},
   "outputs": [
    {
     "data": {
      "image/png": "[encoded data removed]",
      "text/plain": [
       "<Figure size 432x288 with 2 Axes>"
      ]
     },
     "metadata": {
      "needs_background": "light"
     },
     "output_type": "display_data"
    }
   ],
   "source": [
    "sns.heatmap(data_pivot['median'].T);"
   ]
  },
  {
   "cell_type": "code",
   "execution_count": 84,
   "metadata": {},
   "outputs": [
    {
     "data": {
      "image/png": "[encoded data removed]",
      "text/plain": [
       "<Figure size 432x288 with 2 Axes>"
      ]
     },
     "metadata": {
      "needs_background": "light"
     },
     "output_type": "display_data"
    }
   ],
   "source": [
    "sns.heatmap(data_pivot['count'].T);"
   ]
  },
  {
   "cell_type": "markdown",
   "metadata": {},
   "source": [
    "По графикам и диаграмме размаха можно сделать выводы, что активно встречаются аномалии по площади в квартирах в которых больше 5 комнат, что веротно логично, но такие квартиры в своей массе не представляют интерес и являются единичными случаями и их удаление не приведет к большим искажеиям в данных. ТАкже основная Масса заявок приходится на 1,2,3 и 4 комнатыне квартиры"
   ]
  },
  {
   "cell_type": "code",
   "execution_count": 85,
   "metadata": {},
   "outputs": [],
   "source": [
    "#удалим не нужные строки \n",
    "data = data.loc[(data['rooms'] <= 5)].reset_index()"
   ]
  },
  {
   "cell_type": "code",
   "execution_count": 86,
   "metadata": {},
   "outputs": [],
   "source": [
    "#data.head()"
   ]
  },
  {
   "cell_type": "markdown",
   "metadata": {},
   "source": [
    "Вычислим сколько отсалось строк в данных"
   ]
  },
  {
   "cell_type": "code",
   "execution_count": 87,
   "metadata": {},
   "outputs": [
    {
     "data": {
      "text/plain": [
       "23347"
      ]
     },
     "execution_count": 87,
     "metadata": {},
     "output_type": "execute_result"
    }
   ],
   "source": [
    "len(data)"
   ]
  },
  {
   "cell_type": "markdown",
   "metadata": {},
   "source": [
    "Всего было \n",
    "Значит у нас осталось (23347/23699) * 100% = 98,5% данных от изначальных. Следовательно было потеряно менее 2%, что приемлимо для наших исследовоаний"
   ]
  },
  {
   "cell_type": "markdown",
   "metadata": {},
   "source": [
    "### Посчитаем и добавим в таблицу новые столбцы"
   ]
  },
  {
   "cell_type": "markdown",
   "metadata": {},
   "source": [
    "Добавим в таблицу новые столбцы со следующими параметрами:\n",
    "- цена одного квадратного метра;"
   ]
  },
  {
   "cell_type": "code",
   "execution_count": 88,
   "metadata": {},
   "outputs": [],
   "source": [
    "#Переведем цену в млн\n",
    "data['last_price'] = data['last_price']/1000000"
   ]
  },
  {
   "cell_type": "code",
   "execution_count": 89,
   "metadata": {},
   "outputs": [],
   "source": [
    "data['price_m2'] = data['last_price']/data['total_area']  \n",
    "#data.head()"
   ]
  },
  {
   "cell_type": "markdown",
   "metadata": {},
   "source": [
    "- день недели публикации объявления (0 — понедельник, 1 — вторник и так далее);"
   ]
  },
  {
   "cell_type": "code",
   "execution_count": 90,
   "metadata": {},
   "outputs": [],
   "source": [
    "data['weekday'] = data['first_day_exposition'].dt.weekday\n",
    "#data.head()"
   ]
  },
  {
   "cell_type": "markdown",
   "metadata": {},
   "source": [
    "- месяц публикации объявления;\n",
    "- год публикации объявления;"
   ]
  },
  {
   "cell_type": "code",
   "execution_count": 91,
   "metadata": {},
   "outputs": [],
   "source": [
    "data['month'] = pd.DatetimeIndex(data['first_day_exposition']).month\n",
    "#data.head()"
   ]
  },
  {
   "cell_type": "code",
   "execution_count": 92,
   "metadata": {},
   "outputs": [],
   "source": [
    "data['year'] = pd.DatetimeIndex(data['first_day_exposition']).year\n",
    "#data.head()"
   ]
  },
  {
   "cell_type": "markdown",
   "metadata": {},
   "source": [
    "- тип этажа квартиры (значения — «‎первый», «последний», «другой»)"
   ]
  },
  {
   "cell_type": "code",
   "execution_count": 93,
   "metadata": {},
   "outputs": [],
   "source": [
    "p =[]\n",
    "for i in range(len(data)):\n",
    "    if data.loc[i,'floor'] == 1:\n",
    "        p.append('первый')\n",
    "    elif data.loc[i,'floor'] == data.loc[i,'floors_total']:\n",
    "        p.append('последний') \n",
    "    else:\n",
    "        p.append('другой')\n",
    "\n",
    "data['floor_category'] = p\n",
    "#data.head()"
   ]
  },
  {
   "cell_type": "markdown",
   "metadata": {},
   "source": [
    "- расстояние до центра города в километрах (переведите из м в км и округлите до целых значений)."
   ]
  },
  {
   "cell_type": "code",
   "execution_count": 94,
   "metadata": {},
   "outputs": [],
   "source": [
    "data['city_centers_nearest'] = data['city_centers_nearest']/1000\n",
    "data['city_centers_nearest'] = data['city_centers_nearest'].astype('int64')\n",
    "#data.head()"
   ]
  },
  {
   "cell_type": "markdown",
   "metadata": {},
   "source": [
    "**Получив столбец с годами можно закончить анализ как изменялись с годами кол-во заявлений с пропущенными значениями.**"
   ]
  },
  {
   "cell_type": "markdown",
   "metadata": {},
   "source": [
    "**Построим график изменения кол-во заявок в разных годах с с пропущенным и не пропущенным значением в столбцах: ceiling_height,living_area и kitchen_area**"
   ]
  },
  {
   "cell_type": "code",
   "execution_count": 95,
   "metadata": {},
   "outputs": [
    {
     "data": {
      "image/png": "[encoded data removed]",
      "text/plain": [
       "<Figure size 432x288 with 1 Axes>"
      ]
     },
     "metadata": {
      "needs_background": "light"
     },
     "output_type": "display_data"
    }
   ],
   "source": [
    "ceiling_height_pivot = data.pivot_table(\n",
    "    index = 'year', \n",
    "    columns = 'ceiling_height_missing',\n",
    "    values = 'ceiling_height',\n",
    "    aggfunc = 'count')\n",
    "#ceiling_height_pivot\n",
    "ceiling_height_pivot.plot();"
   ]
  },
  {
   "cell_type": "code",
   "execution_count": 96,
   "metadata": {},
   "outputs": [
    {
     "data": {
      "image/png": "[encoded data removed]",
      "text/plain": [
       "<Figure size 432x288 with 1 Axes>"
      ]
     },
     "metadata": {
      "needs_background": "light"
     },
     "output_type": "display_data"
    }
   ],
   "source": [
    "living_area_pivot = data.pivot_table(\n",
    "    index = 'year', \n",
    "    columns = 'living_area_missing',\n",
    "    values = 'living_area',\n",
    "    aggfunc = 'count')\n",
    "#ceiling_height_pivot\n",
    "living_area_pivot.plot();"
   ]
  },
  {
   "cell_type": "code",
   "execution_count": 97,
   "metadata": {},
   "outputs": [
    {
     "data": {
      "image/png": "[encoded data removed]",
      "text/plain": [
       "<Figure size 432x288 with 1 Axes>"
      ]
     },
     "metadata": {
      "needs_background": "light"
     },
     "output_type": "display_data"
    }
   ],
   "source": [
    "kitchen_area_pivot = data.pivot_table(\n",
    "    index = 'year', \n",
    "    columns = 'kitchen_area_missing',\n",
    "    values = 'kitchen_area',\n",
    "    aggfunc = 'count')\n",
    "#ceiling_height_pivot\n",
    "kitchen_area_pivot.plot();"
   ]
  },
  {
   "cell_type": "markdown",
   "metadata": {},
   "source": [
    "В рассмотренных графиках никаких аномалий не наблюдается по пропускам. Все закономерно и объяснено ранее."
   ]
  },
  {
   "cell_type": "markdown",
   "metadata": {},
   "source": [
    "**Построим график изменения кол-во заявок в разных годах с с пропущенным и не пропущенным значением в столбце days_exposition**"
   ]
  },
  {
   "cell_type": "code",
   "execution_count": 98,
   "metadata": {},
   "outputs": [
    {
     "data": {
      "text/html": [
       "<div>\n",
       "<style scoped>\n",
       "    .dataframe tbody tr th:only-of-type {\n",
       "        vertical-align: middle;\n",
       "    }\n",
       "\n",
       "    .dataframe tbody tr th {\n",
       "        vertical-align: top;\n",
       "    }\n",
       "\n",
       "    .dataframe thead tr th {\n",
       "        text-align: left;\n",
       "    }\n",
       "\n",
       "    .dataframe thead tr:last-of-type th {\n",
       "        text-align: right;\n",
       "    }\n",
       "</style>\n",
       "<table border=\"1\" class=\"dataframe\">\n",
       "  <thead>\n",
       "    <tr>\n",
       "      <th></th>\n",
       "      <th colspan=\"2\" halign=\"left\">count</th>\n",
       "    </tr>\n",
       "    <tr>\n",
       "      <th>days_exposition_missing</th>\n",
       "      <th>Known</th>\n",
       "      <th>Unknown</th>\n",
       "    </tr>\n",
       "    <tr>\n",
       "      <th>year</th>\n",
       "      <th></th>\n",
       "      <th></th>\n",
       "    </tr>\n",
       "  </thead>\n",
       "  <tbody>\n",
       "    <tr>\n",
       "      <th>2014</th>\n",
       "      <td>117</td>\n",
       "      <td>18</td>\n",
       "    </tr>\n",
       "    <tr>\n",
       "      <th>2015</th>\n",
       "      <td>1083</td>\n",
       "      <td>69</td>\n",
       "    </tr>\n",
       "    <tr>\n",
       "      <th>2016</th>\n",
       "      <td>2659</td>\n",
       "      <td>66</td>\n",
       "    </tr>\n",
       "    <tr>\n",
       "      <th>2017</th>\n",
       "      <td>7815</td>\n",
       "      <td>260</td>\n",
       "    </tr>\n",
       "    <tr>\n",
       "      <th>2018</th>\n",
       "      <td>7486</td>\n",
       "      <td>933</td>\n",
       "    </tr>\n",
       "    <tr>\n",
       "      <th>2019</th>\n",
       "      <td>1076</td>\n",
       "      <td>1765</td>\n",
       "    </tr>\n",
       "  </tbody>\n",
       "</table>\n",
       "</div>"
      ],
      "text/plain": [
       "                        count        \n",
       "days_exposition_missing Known Unknown\n",
       "year                                 \n",
       "2014                      117      18\n",
       "2015                     1083      69\n",
       "2016                     2659      66\n",
       "2017                     7815     260\n",
       "2018                     7486     933\n",
       "2019                     1076    1765"
      ]
     },
     "execution_count": 98,
     "metadata": {},
     "output_type": "execute_result"
    }
   ],
   "source": [
    "days_exposition_table = (\n",
    "    data.pivot_table(\n",
    "    index = 'year', \n",
    "    columns = 'days_exposition_missing',\n",
    "    values = 'days_exposition',\n",
    "    aggfunc = ['count'])\n",
    ")\n",
    "days_exposition_table"
   ]
  },
  {
   "cell_type": "code",
   "execution_count": 99,
   "metadata": {},
   "outputs": [
    {
     "data": {
      "image/png": "[encoded data removed]",
      "text/plain": [
       "<Figure size 432x288 with 1 Axes>"
      ]
     },
     "metadata": {
      "needs_background": "light"
     },
     "output_type": "display_data"
    }
   ],
   "source": [
    "days_exposition_table.plot();"
   ]
  },
  {
   "cell_type": "markdown",
   "metadata": {},
   "source": [
    "По графику можно наблюдать, что пропуски фиксированно растут не смотря на то,что кол-во заявок уменьшается. Достаточно важная аномалия. Основной рост пропусков начался с 2017 года, но в 2019 кол-во пропусков стало преобладать. А так как кол-во пропущенных значений до этого  было незначительное, то предположение, что возникла техническая ошибка влияющая на потерю данных."
   ]
  },
  {
   "cell_type": "markdown",
   "metadata": {},
   "source": [
    "Посомтрим последнюю дату публикации"
   ]
  },
  {
   "cell_type": "code",
   "execution_count": 100,
   "metadata": {},
   "outputs": [
    {
     "data": {
      "text/plain": [
       "array(['2019-05-03T00:00:00.000000000', '2019-05-02T00:00:00.000000000',\n",
       "       '2019-05-01T00:00:00.000000000', ...,\n",
       "       '2014-12-04T00:00:00.000000000', '2014-11-29T00:00:00.000000000',\n",
       "       '2014-11-27T00:00:00.000000000'], dtype='datetime64[ns]')"
      ]
     },
     "execution_count": 100,
     "metadata": {},
     "output_type": "execute_result"
    }
   ],
   "source": [
    "data['first_day_exposition'].sort_values(ascending=False).unique()"
   ]
  },
  {
   "cell_type": "markdown",
   "metadata": {},
   "source": [
    "Построим сводную таблицы по кол-во заявок с известными данными по 2019 году в зависисти от ко-ва комнат в квартире и отдельно в зависимости от типа населения"
   ]
  },
  {
   "cell_type": "code",
   "execution_count": 101,
   "metadata": {
    "scrolled": true
   },
   "outputs": [
    {
     "data": {
      "text/html": [
       "<div>\n",
       "<style scoped>\n",
       "    .dataframe tbody tr th:only-of-type {\n",
       "        vertical-align: middle;\n",
       "    }\n",
       "\n",
       "    .dataframe tbody tr th {\n",
       "        vertical-align: top;\n",
       "    }\n",
       "\n",
       "    .dataframe thead th {\n",
       "        text-align: right;\n",
       "    }\n",
       "</style>\n",
       "<table border=\"1\" class=\"dataframe\">\n",
       "  <thead>\n",
       "    <tr style=\"text-align: right;\">\n",
       "      <th></th>\n",
       "      <th>days_exposition_missing</th>\n",
       "      <th>Known</th>\n",
       "      <th>Unknown</th>\n",
       "    </tr>\n",
       "    <tr>\n",
       "      <th>year</th>\n",
       "      <th>rooms</th>\n",
       "      <th></th>\n",
       "      <th></th>\n",
       "    </tr>\n",
       "  </thead>\n",
       "  <tbody>\n",
       "    <tr>\n",
       "      <th rowspan=\"6\" valign=\"top\">2019</th>\n",
       "      <th>0</th>\n",
       "      <td>8</td>\n",
       "      <td>9</td>\n",
       "    </tr>\n",
       "    <tr>\n",
       "      <th>1</th>\n",
       "      <td>416</td>\n",
       "      <td>514</td>\n",
       "    </tr>\n",
       "    <tr>\n",
       "      <th>2</th>\n",
       "      <td>400</td>\n",
       "      <td>603</td>\n",
       "    </tr>\n",
       "    <tr>\n",
       "      <th>3</th>\n",
       "      <td>217</td>\n",
       "      <td>520</td>\n",
       "    </tr>\n",
       "    <tr>\n",
       "      <th>4</th>\n",
       "      <td>26</td>\n",
       "      <td>95</td>\n",
       "    </tr>\n",
       "    <tr>\n",
       "      <th>5</th>\n",
       "      <td>9</td>\n",
       "      <td>24</td>\n",
       "    </tr>\n",
       "  </tbody>\n",
       "</table>\n",
       "</div>"
      ],
      "text/plain": [
       "days_exposition_missing  Known  Unknown\n",
       "year rooms                             \n",
       "2019 0                       8        9\n",
       "     1                     416      514\n",
       "     2                     400      603\n",
       "     3                     217      520\n",
       "     4                      26       95\n",
       "     5                       9       24"
      ]
     },
     "execution_count": 101,
     "metadata": {},
     "output_type": "execute_result"
    }
   ],
   "source": [
    "(\n",
    "    data[data['year'] == 2019]\n",
    "    .pivot_table(\n",
    "        index =  ['year','rooms'],\n",
    "        columns = 'days_exposition_missing',\n",
    "        values = 'days_exposition',\n",
    "        aggfunc = 'count')\n",
    ")"
   ]
  },
  {
   "cell_type": "markdown",
   "metadata": {},
   "source": [
    "Таблица ничего не дала. Посмотрим как потери зависили от типа локации"
   ]
  },
  {
   "cell_type": "code",
   "execution_count": 102,
   "metadata": {},
   "outputs": [
    {
     "data": {
      "text/html": [
       "<div>\n",
       "<style scoped>\n",
       "    .dataframe tbody tr th:only-of-type {\n",
       "        vertical-align: middle;\n",
       "    }\n",
       "\n",
       "    .dataframe tbody tr th {\n",
       "        vertical-align: top;\n",
       "    }\n",
       "\n",
       "    .dataframe thead th {\n",
       "        text-align: right;\n",
       "    }\n",
       "</style>\n",
       "<table border=\"1\" class=\"dataframe\">\n",
       "  <thead>\n",
       "    <tr style=\"text-align: right;\">\n",
       "      <th></th>\n",
       "      <th>days_exposition_missing</th>\n",
       "      <th>Known</th>\n",
       "      <th>Unknown</th>\n",
       "    </tr>\n",
       "    <tr>\n",
       "      <th>year</th>\n",
       "      <th>locality_category</th>\n",
       "      <th></th>\n",
       "      <th></th>\n",
       "    </tr>\n",
       "  </thead>\n",
       "  <tbody>\n",
       "    <tr>\n",
       "      <th rowspan=\"5\" valign=\"top\">2019</th>\n",
       "      <th>город</th>\n",
       "      <td>964</td>\n",
       "      <td>1545</td>\n",
       "    </tr>\n",
       "    <tr>\n",
       "      <th>деревня</th>\n",
       "      <td>23</td>\n",
       "      <td>49</td>\n",
       "    </tr>\n",
       "    <tr>\n",
       "      <th>посёлок</th>\n",
       "      <td>87</td>\n",
       "      <td>169</td>\n",
       "    </tr>\n",
       "    <tr>\n",
       "      <th>садовое товарищество</th>\n",
       "      <td>1</td>\n",
       "      <td>1</td>\n",
       "    </tr>\n",
       "    <tr>\n",
       "      <th>село</th>\n",
       "      <td>1</td>\n",
       "      <td>1</td>\n",
       "    </tr>\n",
       "  </tbody>\n",
       "</table>\n",
       "</div>"
      ],
      "text/plain": [
       "days_exposition_missing    Known  Unknown\n",
       "year locality_category                   \n",
       "2019 город                   964     1545\n",
       "     деревня                  23       49\n",
       "     посёлок                  87      169\n",
       "     садовое товарищество      1        1\n",
       "     село                      1        1"
      ]
     },
     "execution_count": 102,
     "metadata": {},
     "output_type": "execute_result"
    }
   ],
   "source": [
    "(\n",
    "    data[data['year'] == 2019]\n",
    "    .pivot_table(\n",
    "                    index = ['year', 'locality_category'],\n",
    "                    columns = 'days_exposition_missing',\n",
    "                    values = 'days_exposition',\n",
    "                    aggfunc = 'count'\n",
    "    )\n",
    ")"
   ]
  },
  {
   "cell_type": "markdown",
   "metadata": {},
   "source": [
    "Тут уже интересно. Пустые строки в оснвоном наблюдаются в городах. \n",
    "Таким образом, для исследования лучше отбросить объявления за 2019 год, так как объявлений в них мало по сравнению с другими годами и кол-во пропусков преобладает. При попытке внести медианное значение они могут исказть данные за этот год.  "
   ]
  },
  {
   "cell_type": "markdown",
   "metadata": {},
   "source": [
    "А оставшиеся значения с -1 заполним медианным по каждому году в зависимости от типа местности.\n",
    "Посмотрим  сводную таблицу, чтобы оценить как медианное значение зависит от года и метсности"
   ]
  },
  {
   "cell_type": "code",
   "execution_count": 103,
   "metadata": {},
   "outputs": [
    {
     "data": {
      "text/html": [
       "<div>\n",
       "<style scoped>\n",
       "    .dataframe tbody tr th:only-of-type {\n",
       "        vertical-align: middle;\n",
       "    }\n",
       "\n",
       "    .dataframe tbody tr th {\n",
       "        vertical-align: top;\n",
       "    }\n",
       "\n",
       "    .dataframe thead th {\n",
       "        text-align: right;\n",
       "    }\n",
       "</style>\n",
       "<table border=\"1\" class=\"dataframe\">\n",
       "  <thead>\n",
       "    <tr style=\"text-align: right;\">\n",
       "      <th></th>\n",
       "      <th>days_exposition_missing</th>\n",
       "      <th>Known</th>\n",
       "    </tr>\n",
       "    <tr>\n",
       "      <th>year</th>\n",
       "      <th>locality_category</th>\n",
       "      <th></th>\n",
       "    </tr>\n",
       "  </thead>\n",
       "  <tbody>\n",
       "    <tr>\n",
       "      <th rowspan=\"3\" valign=\"top\">2014</th>\n",
       "      <th>город</th>\n",
       "      <td>869.5</td>\n",
       "    </tr>\n",
       "    <tr>\n",
       "      <th>деревня</th>\n",
       "      <td>1078.0</td>\n",
       "    </tr>\n",
       "    <tr>\n",
       "      <th>посёлок</th>\n",
       "      <td>1063.5</td>\n",
       "    </tr>\n",
       "    <tr>\n",
       "      <th rowspan=\"3\" valign=\"top\">2015</th>\n",
       "      <th>город</th>\n",
       "      <td>581.5</td>\n",
       "    </tr>\n",
       "    <tr>\n",
       "      <th>деревня</th>\n",
       "      <td>605.0</td>\n",
       "    </tr>\n",
       "    <tr>\n",
       "      <th>посёлок</th>\n",
       "      <td>524.0</td>\n",
       "    </tr>\n",
       "    <tr>\n",
       "      <th rowspan=\"5\" valign=\"top\">2016</th>\n",
       "      <th>город</th>\n",
       "      <td>233.0</td>\n",
       "    </tr>\n",
       "    <tr>\n",
       "      <th>деревня</th>\n",
       "      <td>297.0</td>\n",
       "    </tr>\n",
       "    <tr>\n",
       "      <th>посёлок</th>\n",
       "      <td>211.0</td>\n",
       "    </tr>\n",
       "    <tr>\n",
       "      <th>садовое товарищество</th>\n",
       "      <td>26.0</td>\n",
       "    </tr>\n",
       "    <tr>\n",
       "      <th>село</th>\n",
       "      <td>421.0</td>\n",
       "    </tr>\n",
       "    <tr>\n",
       "      <th rowspan=\"5\" valign=\"top\">2017</th>\n",
       "      <th>город</th>\n",
       "      <td>102.0</td>\n",
       "    </tr>\n",
       "    <tr>\n",
       "      <th>деревня</th>\n",
       "      <td>102.0</td>\n",
       "    </tr>\n",
       "    <tr>\n",
       "      <th>посёлок</th>\n",
       "      <td>107.0</td>\n",
       "    </tr>\n",
       "    <tr>\n",
       "      <th>садовое товарищество</th>\n",
       "      <td>307.0</td>\n",
       "    </tr>\n",
       "    <tr>\n",
       "      <th>село</th>\n",
       "      <td>75.0</td>\n",
       "    </tr>\n",
       "    <tr>\n",
       "      <th rowspan=\"4\" valign=\"top\">2018</th>\n",
       "      <th>город</th>\n",
       "      <td>64.0</td>\n",
       "    </tr>\n",
       "    <tr>\n",
       "      <th>деревня</th>\n",
       "      <td>60.0</td>\n",
       "    </tr>\n",
       "    <tr>\n",
       "      <th>посёлок</th>\n",
       "      <td>62.0</td>\n",
       "    </tr>\n",
       "    <tr>\n",
       "      <th>село</th>\n",
       "      <td>72.5</td>\n",
       "    </tr>\n",
       "  </tbody>\n",
       "</table>\n",
       "</div>"
      ],
      "text/plain": [
       "days_exposition_missing     Known\n",
       "year locality_category           \n",
       "2014 город                  869.5\n",
       "     деревня               1078.0\n",
       "     посёлок               1063.5\n",
       "2015 город                  581.5\n",
       "     деревня                605.0\n",
       "     посёлок                524.0\n",
       "2016 город                  233.0\n",
       "     деревня                297.0\n",
       "     посёлок                211.0\n",
       "     садовое товарищество    26.0\n",
       "     село                   421.0\n",
       "2017 город                  102.0\n",
       "     деревня                102.0\n",
       "     посёлок                107.0\n",
       "     садовое товарищество   307.0\n",
       "     село                    75.0\n",
       "2018 город                   64.0\n",
       "     деревня                 60.0\n",
       "     посёлок                 62.0\n",
       "     село                    72.5"
      ]
     },
     "execution_count": 103,
     "metadata": {},
     "output_type": "execute_result"
    }
   ],
   "source": [
    "(\n",
    "    data[(data['year'] != 2019) & (data['days_exposition'] != -1)]\n",
    "    .pivot_table(\n",
    "        index =  ['year','locality_category'],\n",
    "        columns = 'days_exposition_missing',\n",
    "        values = 'days_exposition',\n",
    "        aggfunc = 'median')\n",
    ")"
   ]
  },
  {
   "cell_type": "markdown",
   "metadata": {},
   "source": [
    "В основном знаечение в течение года имеют одинаковое медианное значение, но попадаются и ключения."
   ]
  },
  {
   "cell_type": "markdown",
   "metadata": {},
   "source": [
    "Избавимся от строк с 2019 годом, так было принято не включать в данной исслдеование этот год, чтобы не исказил общие данные"
   ]
  },
  {
   "cell_type": "code",
   "execution_count": 104,
   "metadata": {},
   "outputs": [
    {
     "data": {
      "text/html": [
       "<div>\n",
       "<style scoped>\n",
       "    .dataframe tbody tr th:only-of-type {\n",
       "        vertical-align: middle;\n",
       "    }\n",
       "\n",
       "    .dataframe tbody tr th {\n",
       "        vertical-align: top;\n",
       "    }\n",
       "\n",
       "    .dataframe thead th {\n",
       "        text-align: right;\n",
       "    }\n",
       "</style>\n",
       "<table border=\"1\" class=\"dataframe\">\n",
       "  <thead>\n",
       "    <tr style=\"text-align: right;\">\n",
       "      <th></th>\n",
       "      <th>level_0</th>\n",
       "      <th>index</th>\n",
       "      <th>total_images</th>\n",
       "      <th>last_price</th>\n",
       "      <th>total_area</th>\n",
       "      <th>first_day_exposition</th>\n",
       "      <th>rooms</th>\n",
       "      <th>ceiling_height</th>\n",
       "      <th>floors_total</th>\n",
       "      <th>living_area</th>\n",
       "      <th>floor</th>\n",
       "      <th>is_apartment</th>\n",
       "      <th>studio</th>\n",
       "      <th>open_plan</th>\n",
       "      <th>kitchen_area</th>\n",
       "      <th>balcony</th>\n",
       "      <th>locality_name</th>\n",
       "      <th>airports_nearest</th>\n",
       "      <th>city_centers_nearest</th>\n",
       "      <th>parks_around_3000</th>\n",
       "      <th>parks_nearest</th>\n",
       "      <th>ponds_around_3000</th>\n",
       "      <th>ponds_nearest</th>\n",
       "      <th>days_exposition</th>\n",
       "      <th>is_apartment_missing</th>\n",
       "      <th>balcony_missing</th>\n",
       "      <th>ponds_nearest_missing</th>\n",
       "      <th>parks_nearest_missing</th>\n",
       "      <th>parks_around_3000_missing</th>\n",
       "      <th>ponds_around_3000_missing</th>\n",
       "      <th>city_centers_nearest_missing</th>\n",
       "      <th>airports_nearest_missing</th>\n",
       "      <th>ceiling_height_missing</th>\n",
       "      <th>days_exposition_missing</th>\n",
       "      <th>kitchen_area_missing</th>\n",
       "      <th>living_area_missing</th>\n",
       "      <th>locality_category</th>\n",
       "      <th>price_m2</th>\n",
       "      <th>weekday</th>\n",
       "      <th>month</th>\n",
       "      <th>year</th>\n",
       "      <th>floor_category</th>\n",
       "    </tr>\n",
       "  </thead>\n",
       "  <tbody>\n",
       "    <tr>\n",
       "      <th>0</th>\n",
       "      <td>1</td>\n",
       "      <td>1</td>\n",
       "      <td>7</td>\n",
       "      <td>3.350</td>\n",
       "      <td>40.4</td>\n",
       "      <td>2018-12-04</td>\n",
       "      <td>1</td>\n",
       "      <td>2.65</td>\n",
       "      <td>11</td>\n",
       "      <td>18.6</td>\n",
       "      <td>1</td>\n",
       "      <td>False</td>\n",
       "      <td>False</td>\n",
       "      <td>False</td>\n",
       "      <td>11.0</td>\n",
       "      <td>2</td>\n",
       "      <td>посёлок Шушары</td>\n",
       "      <td>12817.0</td>\n",
       "      <td>18</td>\n",
       "      <td>0</td>\n",
       "      <td>-1.0</td>\n",
       "      <td>0</td>\n",
       "      <td>-1.0</td>\n",
       "      <td>81</td>\n",
       "      <td>Unknown</td>\n",
       "      <td>Known</td>\n",
       "      <td>Unknown</td>\n",
       "      <td>Unknown</td>\n",
       "      <td>Known</td>\n",
       "      <td>Known</td>\n",
       "      <td>Known</td>\n",
       "      <td>Known</td>\n",
       "      <td>Unknown</td>\n",
       "      <td>Known</td>\n",
       "      <td>Known</td>\n",
       "      <td>Known</td>\n",
       "      <td>посёлок</td>\n",
       "      <td>0.082921</td>\n",
       "      <td>1</td>\n",
       "      <td>12</td>\n",
       "      <td>2018</td>\n",
       "      <td>первый</td>\n",
       "    </tr>\n",
       "    <tr>\n",
       "      <th>1</th>\n",
       "      <td>2</td>\n",
       "      <td>2</td>\n",
       "      <td>10</td>\n",
       "      <td>5.196</td>\n",
       "      <td>56.0</td>\n",
       "      <td>2015-08-20</td>\n",
       "      <td>2</td>\n",
       "      <td>2.65</td>\n",
       "      <td>5</td>\n",
       "      <td>34.3</td>\n",
       "      <td>4</td>\n",
       "      <td>False</td>\n",
       "      <td>False</td>\n",
       "      <td>False</td>\n",
       "      <td>8.3</td>\n",
       "      <td>0</td>\n",
       "      <td>Санкт-Петербург</td>\n",
       "      <td>21741.0</td>\n",
       "      <td>13</td>\n",
       "      <td>1</td>\n",
       "      <td>90.0</td>\n",
       "      <td>2</td>\n",
       "      <td>574.0</td>\n",
       "      <td>558</td>\n",
       "      <td>Unknown</td>\n",
       "      <td>Known</td>\n",
       "      <td>Known</td>\n",
       "      <td>Known</td>\n",
       "      <td>Known</td>\n",
       "      <td>Known</td>\n",
       "      <td>Known</td>\n",
       "      <td>Known</td>\n",
       "      <td>Unknown</td>\n",
       "      <td>Known</td>\n",
       "      <td>Known</td>\n",
       "      <td>Known</td>\n",
       "      <td>город</td>\n",
       "      <td>0.092786</td>\n",
       "      <td>3</td>\n",
       "      <td>8</td>\n",
       "      <td>2015</td>\n",
       "      <td>другой</td>\n",
       "    </tr>\n",
       "    <tr>\n",
       "      <th>2</th>\n",
       "      <td>3</td>\n",
       "      <td>3</td>\n",
       "      <td>0</td>\n",
       "      <td>64.900</td>\n",
       "      <td>159.0</td>\n",
       "      <td>2015-07-24</td>\n",
       "      <td>3</td>\n",
       "      <td>2.65</td>\n",
       "      <td>14</td>\n",
       "      <td>18.0</td>\n",
       "      <td>9</td>\n",
       "      <td>False</td>\n",
       "      <td>False</td>\n",
       "      <td>False</td>\n",
       "      <td>9.0</td>\n",
       "      <td>0</td>\n",
       "      <td>Санкт-Петербург</td>\n",
       "      <td>28098.0</td>\n",
       "      <td>6</td>\n",
       "      <td>2</td>\n",
       "      <td>84.0</td>\n",
       "      <td>3</td>\n",
       "      <td>234.0</td>\n",
       "      <td>424</td>\n",
       "      <td>Unknown</td>\n",
       "      <td>Known</td>\n",
       "      <td>Known</td>\n",
       "      <td>Known</td>\n",
       "      <td>Known</td>\n",
       "      <td>Known</td>\n",
       "      <td>Known</td>\n",
       "      <td>Known</td>\n",
       "      <td>Unknown</td>\n",
       "      <td>Known</td>\n",
       "      <td>Unknown</td>\n",
       "      <td>Unknown</td>\n",
       "      <td>город</td>\n",
       "      <td>0.408176</td>\n",
       "      <td>4</td>\n",
       "      <td>7</td>\n",
       "      <td>2015</td>\n",
       "      <td>другой</td>\n",
       "    </tr>\n",
       "    <tr>\n",
       "      <th>3</th>\n",
       "      <td>4</td>\n",
       "      <td>4</td>\n",
       "      <td>2</td>\n",
       "      <td>10.000</td>\n",
       "      <td>100.0</td>\n",
       "      <td>2018-06-19</td>\n",
       "      <td>2</td>\n",
       "      <td>3.03</td>\n",
       "      <td>14</td>\n",
       "      <td>32.0</td>\n",
       "      <td>13</td>\n",
       "      <td>False</td>\n",
       "      <td>False</td>\n",
       "      <td>False</td>\n",
       "      <td>41.0</td>\n",
       "      <td>0</td>\n",
       "      <td>Санкт-Петербург</td>\n",
       "      <td>31856.0</td>\n",
       "      <td>8</td>\n",
       "      <td>2</td>\n",
       "      <td>112.0</td>\n",
       "      <td>1</td>\n",
       "      <td>48.0</td>\n",
       "      <td>121</td>\n",
       "      <td>Unknown</td>\n",
       "      <td>Unknown</td>\n",
       "      <td>Known</td>\n",
       "      <td>Known</td>\n",
       "      <td>Known</td>\n",
       "      <td>Known</td>\n",
       "      <td>Known</td>\n",
       "      <td>Known</td>\n",
       "      <td>Known</td>\n",
       "      <td>Known</td>\n",
       "      <td>Known</td>\n",
       "      <td>Known</td>\n",
       "      <td>город</td>\n",
       "      <td>0.100000</td>\n",
       "      <td>1</td>\n",
       "      <td>6</td>\n",
       "      <td>2018</td>\n",
       "      <td>другой</td>\n",
       "    </tr>\n",
       "    <tr>\n",
       "      <th>4</th>\n",
       "      <td>5</td>\n",
       "      <td>5</td>\n",
       "      <td>10</td>\n",
       "      <td>2.890</td>\n",
       "      <td>30.4</td>\n",
       "      <td>2018-09-10</td>\n",
       "      <td>1</td>\n",
       "      <td>2.65</td>\n",
       "      <td>12</td>\n",
       "      <td>14.4</td>\n",
       "      <td>5</td>\n",
       "      <td>False</td>\n",
       "      <td>False</td>\n",
       "      <td>False</td>\n",
       "      <td>9.1</td>\n",
       "      <td>0</td>\n",
       "      <td>посёлок Янино-1</td>\n",
       "      <td>-1.0</td>\n",
       "      <td>0</td>\n",
       "      <td>0</td>\n",
       "      <td>-1.0</td>\n",
       "      <td>0</td>\n",
       "      <td>-1.0</td>\n",
       "      <td>55</td>\n",
       "      <td>Unknown</td>\n",
       "      <td>Unknown</td>\n",
       "      <td>Unknown</td>\n",
       "      <td>Unknown</td>\n",
       "      <td>Unknown</td>\n",
       "      <td>Unknown</td>\n",
       "      <td>Unknown</td>\n",
       "      <td>Unknown</td>\n",
       "      <td>Unknown</td>\n",
       "      <td>Known</td>\n",
       "      <td>Known</td>\n",
       "      <td>Known</td>\n",
       "      <td>посёлок</td>\n",
       "      <td>0.095066</td>\n",
       "      <td>0</td>\n",
       "      <td>9</td>\n",
       "      <td>2018</td>\n",
       "      <td>другой</td>\n",
       "    </tr>\n",
       "  </tbody>\n",
       "</table>\n",
       "</div>"
      ],
      "text/plain": [
       "   level_0  index  total_images  last_price  total_area first_day_exposition  \\\n",
       "0        1      1             7       3.350        40.4           2018-12-04   \n",
       "1        2      2            10       5.196        56.0           2015-08-20   \n",
       "2        3      3             0      64.900       159.0           2015-07-24   \n",
       "3        4      4             2      10.000       100.0           2018-06-19   \n",
       "4        5      5            10       2.890        30.4           2018-09-10   \n",
       "\n",
       "   rooms  ceiling_height  floors_total  living_area  floor  is_apartment  \\\n",
       "0      1            2.65            11         18.6      1         False   \n",
       "1      2            2.65             5         34.3      4         False   \n",
       "2      3            2.65            14         18.0      9         False   \n",
       "3      2            3.03            14         32.0     13         False   \n",
       "4      1            2.65            12         14.4      5         False   \n",
       "\n",
       "   studio  open_plan  kitchen_area  balcony    locality_name  \\\n",
       "0   False      False          11.0        2   посёлок Шушары   \n",
       "1   False      False           8.3        0  Санкт-Петербург   \n",
       "2   False      False           9.0        0  Санкт-Петербург   \n",
       "3   False      False          41.0        0  Санкт-Петербург   \n",
       "4   False      False           9.1        0  посёлок Янино-1   \n",
       "\n",
       "   airports_nearest  city_centers_nearest  parks_around_3000  parks_nearest  \\\n",
       "0           12817.0                    18                  0           -1.0   \n",
       "1           21741.0                    13                  1           90.0   \n",
       "2           28098.0                     6                  2           84.0   \n",
       "3           31856.0                     8                  2          112.0   \n",
       "4              -1.0                     0                  0           -1.0   \n",
       "\n",
       "   ponds_around_3000  ponds_nearest  days_exposition is_apartment_missing  \\\n",
       "0                  0           -1.0               81              Unknown   \n",
       "1                  2          574.0              558              Unknown   \n",
       "2                  3          234.0              424              Unknown   \n",
       "3                  1           48.0              121              Unknown   \n",
       "4                  0           -1.0               55              Unknown   \n",
       "\n",
       "  balcony_missing ponds_nearest_missing parks_nearest_missing  \\\n",
       "0           Known               Unknown               Unknown   \n",
       "1           Known                 Known                 Known   \n",
       "2           Known                 Known                 Known   \n",
       "3         Unknown                 Known                 Known   \n",
       "4         Unknown               Unknown               Unknown   \n",
       "\n",
       "  parks_around_3000_missing ponds_around_3000_missing  \\\n",
       "0                     Known                     Known   \n",
       "1                     Known                     Known   \n",
       "2                     Known                     Known   \n",
       "3                     Known                     Known   \n",
       "4                   Unknown                   Unknown   \n",
       "\n",
       "  city_centers_nearest_missing airports_nearest_missing  \\\n",
       "0                        Known                    Known   \n",
       "1                        Known                    Known   \n",
       "2                        Known                    Known   \n",
       "3                        Known                    Known   \n",
       "4                      Unknown                  Unknown   \n",
       "\n",
       "  ceiling_height_missing days_exposition_missing kitchen_area_missing  \\\n",
       "0                Unknown                   Known                Known   \n",
       "1                Unknown                   Known                Known   \n",
       "2                Unknown                   Known              Unknown   \n",
       "3                  Known                   Known                Known   \n",
       "4                Unknown                   Known                Known   \n",
       "\n",
       "  living_area_missing locality_category  price_m2  weekday  month  year  \\\n",
       "0               Known           посёлок  0.082921        1     12  2018   \n",
       "1               Known             город  0.092786        3      8  2015   \n",
       "2             Unknown             город  0.408176        4      7  2015   \n",
       "3               Known             город  0.100000        1      6  2018   \n",
       "4               Known           посёлок  0.095066        0      9  2018   \n",
       "\n",
       "  floor_category  \n",
       "0         первый  \n",
       "1         другой  \n",
       "2         другой  \n",
       "3         другой  \n",
       "4         другой  "
      ]
     },
     "execution_count": 104,
     "metadata": {},
     "output_type": "execute_result"
    }
   ],
   "source": [
    "data = data.loc[data['year'] != 2019].reset_index()\n",
    "data.head()"
   ]
  },
  {
   "cell_type": "markdown",
   "metadata": {},
   "source": [
    "Выпоним заполнение через чикл медианных значений в строках где до этого было записано значение -1"
   ]
  },
  {
   "cell_type": "code",
   "execution_count": 105,
   "metadata": {},
   "outputs": [],
   "source": [
    "for i in data['year'].sort_values().unique():\n",
    "    for j in data.loc[data['year'] == i,'locality_category'].sort_values().unique():\n",
    "        data.loc[(data['year'] == i) & \\\n",
    "                 (data['days_exposition'] == -1) & \\\n",
    "                 (data['locality_category'] == j), \\\n",
    "                 'days_exposition']  = (data\n",
    "                                        .loc[(data['year'] == i) & \\\n",
    "                                             (data['days_exposition'] != -1) &\\\n",
    "                                             (data['locality_category'] == j), \\\n",
    "                                             'days_exposition']\n",
    "                                        .median()\n",
    "\n",
    "        )"
   ]
  },
  {
   "cell_type": "code",
   "execution_count": 106,
   "metadata": {},
   "outputs": [],
   "source": [
    "#Посчет кол-ва строк с значение -1 в days_exposition\n",
    "#len(data[data['days_exposition'] == -1])"
   ]
  },
  {
   "cell_type": "code",
   "execution_count": 107,
   "metadata": {},
   "outputs": [
    {
     "data": {
      "text/plain": [
       "20506"
      ]
     },
     "execution_count": 107,
     "metadata": {},
     "output_type": "execute_result"
    }
   ],
   "source": [
    "#всего строк оставшихся в датасете\n",
    "len(data)"
   ]
  },
  {
   "cell_type": "markdown",
   "metadata": {},
   "source": [
    "**Вывод:**\n",
    "Всего было 23699 строк.\n",
    "\n",
    "Значит у нас осталось (20506/23699) * 100% = 86.5 % данных от изначальных. Следовательно было потеряно менее ориентировочно 13,5%. \n",
    "\n",
    "Если учитывать, что в основном 10% были пропуски в строках по столбцу **days_exposition** за 2019 и мы приняли решение его исключить из исследования, так как восстановить сложно и восстановление приведет к достаточно сильным искажениям, то с оставшимися значениями можно выполнять исследования.\n",
    "\n",
    "Также кол-во объявлений в 2019 намного меньше чем в было в вдругие годы и  данные за этот год не полные, так последняя публикация была в 2019-05-03.\n",
    "\n",
    "В основном причиной всех пропусков является человечечский фактор. К примеру, если человек ошибся при вводе или не знал какие указывать данные или забыл их указать или посчитал, что нет смысла их укзаывать, так как уже указал в соседниз пунктах ответ. Все данные пустоты можно было восстановить.\n",
    "\n",
    "Выбивались пустые строки в столбце days_exposition, который восстановить полностью не представляет возможности. Было сделано частичное восстановление с учетом удаления строк с 2019 годом публикации.\n"
   ]
  },
  {
   "cell_type": "markdown",
   "metadata": {},
   "source": [
    "### Проведем исследовательский анализ данных"
   ]
  },
  {
   "cell_type": "markdown",
   "metadata": {},
   "source": [
    "**1.\tИзучим следующие параметры объектов:**\n",
    "- общая площадь;\n",
    "- жилая площадь;\n",
    "- площадь кухни;\n",
    "- цена объекта;\n",
    "- количество комнат;\n",
    "- высота потолков;\n",
    "- этаж квартиры;\n",
    "- тип этажа квартиры («первый», «последний», «другой»);\n",
    "- общее количество этажей в доме;\n",
    "- расстояние до центра города в метрах;\n",
    "- расстояние до ближайшего аэропорта;\n",
    "- расстояние до ближайшего парка;\n",
    "- день и месяц публикации объявления.\n",
    "\n",
    "**Построим отдельные гистограммы для каждого из этих параметров.**"
   ]
  },
  {
   "cell_type": "markdown",
   "metadata": {},
   "source": [
    "Построение гистрограмм для \"общая площадь\", \"жилая площадь\", \"площадь кухни\""
   ]
  },
  {
   "cell_type": "code",
   "execution_count": 108,
   "metadata": {},
   "outputs": [
    {
     "data": {
      "image/png": "[encoded data removed]",
      "text/plain": [
       "<Figure size 1080x720 with 4 Axes>"
      ]
     },
     "metadata": {
      "needs_background": "light"
     },
     "output_type": "display_data"
    }
   ],
   "source": [
    "pd.DataFrame(data.loc[:,['total_area',\n",
    "                         'living_area',\n",
    "                         'kitchen_area',\n",
    "                        ]]).hist(bins = 100,\n",
    "                                 range=(0,300),\n",
    "                                 figsize=(15, 10));"
   ]
  },
  {
   "cell_type": "markdown",
   "metadata": {},
   "source": [
    "Построение гистрограмм для \"цена объекта\"."
   ]
  },
  {
   "cell_type": "code",
   "execution_count": 109,
   "metadata": {},
   "outputs": [
    {
     "data": {
      "image/png": "[encoded data removed]",
      "text/plain": [
       "<Figure size 720x360 with 1 Axes>"
      ]
     },
     "metadata": {
      "needs_background": "light"
     },
     "output_type": "display_data"
    }
   ],
   "source": [
    "(\n",
    "    pd.DataFrame(data.loc[:,['last_price']]\n",
    "                 .hist(bins = 100,\n",
    "                       range=(0,200),\n",
    "                       figsize=(10, 5)))\n",
    ");"
   ]
  },
  {
   "cell_type": "markdown",
   "metadata": {},
   "source": [
    "Построение гистрограмм для \"высота потолков\"."
   ]
  },
  {
   "cell_type": "code",
   "execution_count": 110,
   "metadata": {},
   "outputs": [
    {
     "data": {
      "image/png": "[encoded data removed]",
      "text/plain": [
       "<Figure size 720x360 with 1 Axes>"
      ]
     },
     "metadata": {
      "needs_background": "light"
     },
     "output_type": "display_data"
    }
   ],
   "source": [
    "(\n",
    "    pd.DataFrame(data.loc[:,['ceiling_height']])\n",
    "    .hist(bins = 40, \n",
    "          range = (2,4),\n",
    "          figsize=(10, 5))\n",
    ");"
   ]
  },
  {
   "cell_type": "markdown",
   "metadata": {},
   "source": [
    "Построение гистрограмм для \"количество комнат\"."
   ]
  },
  {
   "cell_type": "code",
   "execution_count": 111,
   "metadata": {},
   "outputs": [
    {
     "data": {
      "image/png": "[encoded data removed]",
      "text/plain": [
       "<Figure size 720x360 with 1 Axes>"
      ]
     },
     "metadata": {
      "needs_background": "light"
     },
     "output_type": "display_data"
    }
   ],
   "source": [
    "(\n",
    "    pd.DataFrame(data.loc[:,['rooms']])\n",
    "    .hist(bins = 40, \n",
    "          figsize=(10, 5)\n",
    "         )\n",
    ");"
   ]
  },
  {
   "cell_type": "markdown",
   "metadata": {},
   "source": [
    "Построение гистрограмм для \"этаж квартиры\" и \"общее количество этажей в доме\"."
   ]
  },
  {
   "cell_type": "code",
   "execution_count": 112,
   "metadata": {},
   "outputs": [
    {
     "data": {
      "image/png": "[encoded data removed]",
      "text/plain": [
       "<Figure size 1080x360 with 2 Axes>"
      ]
     },
     "metadata": {
      "needs_background": "light"
     },
     "output_type": "display_data"
    }
   ],
   "source": [
    "(\n",
    "    pd.DataFrame(data.loc[:,['floor','floors_total']])\n",
    "    .hist(bins = 40, \n",
    "          range = (0,30),\n",
    "          figsize=(15, 5)\n",
    "         )\n",
    ");"
   ]
  },
  {
   "cell_type": "markdown",
   "metadata": {},
   "source": [
    "Построение гистрограмм для \"тип этажа квартиры\"."
   ]
  },
  {
   "cell_type": "code",
   "execution_count": 113,
   "metadata": {},
   "outputs": [
    {
     "data": {
      "image/png": "[encoded data removed]",
      "text/plain": [
       "<Figure size 720x360 with 1 Axes>"
      ]
     },
     "metadata": {
      "needs_background": "light"
     },
     "output_type": "display_data"
    }
   ],
   "source": [
    "(\n",
    "    data.groupby('floor_category')['floor_category']\n",
    "    .count()\n",
    "    .plot(kind='bar',\n",
    "          figsize=(10,5))\n",
    ");"
   ]
  },
  {
   "cell_type": "markdown",
   "metadata": {},
   "source": [
    "Построение гистограммы расстояние до центра города в км"
   ]
  },
  {
   "cell_type": "code",
   "execution_count": 114,
   "metadata": {},
   "outputs": [
    {
     "data": {
      "image/png": "[encoded data removed]",
      "text/plain": [
       "<Figure size 720x360 with 1 Axes>"
      ]
     },
     "metadata": {
      "needs_background": "light"
     },
     "output_type": "display_data"
    }
   ],
   "source": [
    "(\n",
    "    pd.DataFrame(data.loc[:,['city_centers_nearest']])\n",
    "    .hist(bins = 100, \n",
    "          range = (-1,20),\n",
    "          figsize=(10, 5)\n",
    "         )\n",
    ");"
   ]
  },
  {
   "cell_type": "markdown",
   "metadata": {},
   "source": [
    "Построение гистограммы расстояния до аэропортов в метрах"
   ]
  },
  {
   "cell_type": "code",
   "execution_count": 115,
   "metadata": {},
   "outputs": [
    {
     "data": {
      "image/png": "[encoded data removed]",
      "text/plain": [
       "<Figure size 720x360 with 1 Axes>"
      ]
     },
     "metadata": {
      "needs_background": "light"
     },
     "output_type": "display_data"
    }
   ],
   "source": [
    "(\n",
    "    pd.DataFrame(data.loc[:,['airports_nearest']])\n",
    "    .hist(bins = 100, \n",
    "          range = (6000,60000),\n",
    "          figsize=(10, 5)\n",
    "         )\n",
    ");"
   ]
  },
  {
   "cell_type": "markdown",
   "metadata": {},
   "source": [
    "Построение гистограммы расстояния до парков в метрах"
   ]
  },
  {
   "cell_type": "code",
   "execution_count": 116,
   "metadata": {},
   "outputs": [
    {
     "data": {
      "image/png": "[encoded data removed]",
      "text/plain": [
       "<Figure size 720x360 with 1 Axes>"
      ]
     },
     "metadata": {
      "needs_background": "light"
     },
     "output_type": "display_data"
    }
   ],
   "source": [
    "(\n",
    "    pd.DataFrame(data.loc[:,['parks_nearest']])\n",
    "    .hist(bins = 100, \n",
    "          range = (0,1000),\n",
    "          figsize=(10, 5)\n",
    "         )\n",
    ");"
   ]
  },
  {
   "cell_type": "markdown",
   "metadata": {},
   "source": [
    "Построение гистрограмм  \"день и месяц публикации\"."
   ]
  },
  {
   "cell_type": "code",
   "execution_count": 117,
   "metadata": {},
   "outputs": [
    {
     "data": {
      "image/png": "[encoded data removed]",
      "text/plain": [
       "<Figure size 1080x360 with 2 Axes>"
      ]
     },
     "metadata": {
      "needs_background": "light"
     },
     "output_type": "display_data"
    }
   ],
   "source": [
    "(\n",
    "    pd.DataFrame(data.loc[:,['weekday','month']])\n",
    "    .hist(bins = 12, \n",
    "          #range = (0,12),\n",
    "          figsize=(15, 5)\n",
    "         )\n",
    ");"
   ]
  },
  {
   "cell_type": "markdown",
   "metadata": {},
   "source": [
    "**Вывод:**\n",
    "- общая площадь: продаются квартиры в с площадью от 20 до 200 м2\n",
    "- жилая площадь:  продаются квартиры в с площадью от 10 до 100 м2\n",
    "- площадь кухни: продаются квартиры в с площадью от 5 до 20 м2\n",
    "- цена объекта : лежит в основном в пределах от 0,1*10^7 до 2*10^7. Наибольшее кол-во квартир продается в диапазоне от 0,25*10^7 до 0,75*10^7. Максимальная кол-во с стоимостью ориентировчно  0,37*10^7.\n",
    "- количество комнат: большего всего объявлений однокомнатных квартир и двухкомнатных.  \n",
    "- высота потолков; в оновном 2,7 м\n",
    "- этаж квартиры: в основном покупают квартиры на 2-5 этажах\n",
    "- тип этажа квартиры («первый», «последний», «другой»): преобладают квартиры в каетгории \"другой\"\n",
    "- общее количество этажей в доме в оснвоном продаются кварри в домах с 5 и 10 этажами\n",
    "- расстояние до центра города в км: основная масса квартир находится рядом с центров на расстоянии до 20км, но наблюдается большой всплеск квартир которые находятся далеко от центра без указания конкретного значения. Такое кол-во составляет практически 4800\n",
    "- расстояние до ближайшего аэропорта: основная масса квартир находится рядом с аэропортами на расстоянии от 6км до 60км\n",
    "- расстояние до ближайшего парка: основная масса квартир находится рядом с парками на расстоянии до 1км\n",
    "- день и месяц публикации объявления: по будням выклыдвают и чаще все по вторник и четвергам. А по месяца февраль, октябрь и ноябрь."
   ]
  },
  {
   "cell_type": "markdown",
   "metadata": {},
   "source": [
    "**2.\tИзучим, как быстро продавались квартиры (столбец days_exposition). Этот параметр показывает, сколько дней было размещено каждое объявление.**\n",
    "- Построим гистограмму."
   ]
  },
  {
   "cell_type": "code",
   "execution_count": 118,
   "metadata": {},
   "outputs": [
    {
     "data": {
      "image/png": "[encoded data removed]",
      "text/plain": [
       "<Figure size 1080x360 with 1 Axes>"
      ]
     },
     "metadata": {
      "needs_background": "light"
     },
     "output_type": "display_data"
    }
   ],
   "source": [
    "pd.DataFrame(data.loc[:,'days_exposition']).hist(bins = 100, figsize=(15, 5));"
   ]
  },
  {
   "cell_type": "markdown",
   "metadata": {},
   "source": [
    "- Посчитаем среднее и медиану."
   ]
  },
  {
   "cell_type": "code",
   "execution_count": 119,
   "metadata": {},
   "outputs": [
    {
     "data": {
      "text/plain": [
       "mean      183.744051\n",
       "median     99.000000\n",
       "Name: days_exposition, dtype: float64"
      ]
     },
     "execution_count": 119,
     "metadata": {},
     "output_type": "execute_result"
    }
   ],
   "source": [
    "data['days_exposition'].apply(['mean','median']) "
   ]
  },
  {
   "cell_type": "markdown",
   "metadata": {},
   "source": [
    "Построим сводную таблицу для наблюдения как менялось среднее и медианнное значение с годами у разных категорий местности"
   ]
  },
  {
   "cell_type": "code",
   "execution_count": 120,
   "metadata": {},
   "outputs": [
    {
     "data": {
      "text/html": [
       "<div>\n",
       "<style scoped>\n",
       "    .dataframe tbody tr th:only-of-type {\n",
       "        vertical-align: middle;\n",
       "    }\n",
       "\n",
       "    .dataframe tbody tr th {\n",
       "        vertical-align: top;\n",
       "    }\n",
       "\n",
       "    .dataframe thead th {\n",
       "        text-align: right;\n",
       "    }\n",
       "</style>\n",
       "<table border=\"1\" class=\"dataframe\">\n",
       "  <thead>\n",
       "    <tr style=\"text-align: right;\">\n",
       "      <th></th>\n",
       "      <th>year</th>\n",
       "      <th>2014</th>\n",
       "      <th>2015</th>\n",
       "      <th>2016</th>\n",
       "      <th>2017</th>\n",
       "      <th>2018</th>\n",
       "    </tr>\n",
       "    <tr>\n",
       "      <th></th>\n",
       "      <th>locality_category</th>\n",
       "      <th></th>\n",
       "      <th></th>\n",
       "      <th></th>\n",
       "      <th></th>\n",
       "      <th></th>\n",
       "    </tr>\n",
       "  </thead>\n",
       "  <tbody>\n",
       "    <tr>\n",
       "      <th rowspan=\"5\" valign=\"top\">mean</th>\n",
       "      <th>город</th>\n",
       "      <td>897.385246</td>\n",
       "      <td>647.927308</td>\n",
       "      <td>319.342894</td>\n",
       "      <td>155.713716</td>\n",
       "      <td>90.681929</td>\n",
       "    </tr>\n",
       "    <tr>\n",
       "      <th>деревня</th>\n",
       "      <td>1040.666667</td>\n",
       "      <td>651.340909</td>\n",
       "      <td>373.550000</td>\n",
       "      <td>151.744063</td>\n",
       "      <td>91.301242</td>\n",
       "    </tr>\n",
       "    <tr>\n",
       "      <th>посёлок</th>\n",
       "      <td>1015.214286</td>\n",
       "      <td>603.688889</td>\n",
       "      <td>312.488636</td>\n",
       "      <td>164.132385</td>\n",
       "      <td>90.588551</td>\n",
       "    </tr>\n",
       "    <tr>\n",
       "      <th>садовое товарищество</th>\n",
       "      <td>NaN</td>\n",
       "      <td>NaN</td>\n",
       "      <td>26.000000</td>\n",
       "      <td>307.000000</td>\n",
       "      <td>NaN</td>\n",
       "    </tr>\n",
       "    <tr>\n",
       "      <th>село</th>\n",
       "      <td>NaN</td>\n",
       "      <td>NaN</td>\n",
       "      <td>431.000000</td>\n",
       "      <td>179.600000</td>\n",
       "      <td>103.666667</td>\n",
       "    </tr>\n",
       "    <tr>\n",
       "      <th rowspan=\"5\" valign=\"top\">median</th>\n",
       "      <th>город</th>\n",
       "      <td>869.500000</td>\n",
       "      <td>581.500000</td>\n",
       "      <td>233.000000</td>\n",
       "      <td>102.000000</td>\n",
       "      <td>64.000000</td>\n",
       "    </tr>\n",
       "    <tr>\n",
       "      <th>деревня</th>\n",
       "      <td>1078.000000</td>\n",
       "      <td>605.000000</td>\n",
       "      <td>297.000000</td>\n",
       "      <td>102.000000</td>\n",
       "      <td>60.000000</td>\n",
       "    </tr>\n",
       "    <tr>\n",
       "      <th>посёлок</th>\n",
       "      <td>1063.500000</td>\n",
       "      <td>524.000000</td>\n",
       "      <td>211.000000</td>\n",
       "      <td>107.000000</td>\n",
       "      <td>62.000000</td>\n",
       "    </tr>\n",
       "    <tr>\n",
       "      <th>садовое товарищество</th>\n",
       "      <td>NaN</td>\n",
       "      <td>NaN</td>\n",
       "      <td>26.000000</td>\n",
       "      <td>307.000000</td>\n",
       "      <td>NaN</td>\n",
       "    </tr>\n",
       "    <tr>\n",
       "      <th>село</th>\n",
       "      <td>NaN</td>\n",
       "      <td>NaN</td>\n",
       "      <td>421.000000</td>\n",
       "      <td>75.000000</td>\n",
       "      <td>72.500000</td>\n",
       "    </tr>\n",
       "  </tbody>\n",
       "</table>\n",
       "</div>"
      ],
      "text/plain": [
       "year                                2014        2015        2016        2017  \\\n",
       "       locality_category                                                       \n",
       "mean   город                  897.385246  647.927308  319.342894  155.713716   \n",
       "       деревня               1040.666667  651.340909  373.550000  151.744063   \n",
       "       посёлок               1015.214286  603.688889  312.488636  164.132385   \n",
       "       садовое товарищество          NaN         NaN   26.000000  307.000000   \n",
       "       село                          NaN         NaN  431.000000  179.600000   \n",
       "median город                  869.500000  581.500000  233.000000  102.000000   \n",
       "       деревня               1078.000000  605.000000  297.000000  102.000000   \n",
       "       посёлок               1063.500000  524.000000  211.000000  107.000000   \n",
       "       садовое товарищество          NaN         NaN   26.000000  307.000000   \n",
       "       село                          NaN         NaN  421.000000   75.000000   \n",
       "\n",
       "year                               2018  \n",
       "       locality_category                 \n",
       "mean   город                  90.681929  \n",
       "       деревня                91.301242  \n",
       "       посёлок                90.588551  \n",
       "       садовое товарищество         NaN  \n",
       "       село                  103.666667  \n",
       "median город                  64.000000  \n",
       "       деревня                60.000000  \n",
       "       посёлок                62.000000  \n",
       "       садовое товарищество         NaN  \n",
       "       село                   72.500000  "
      ]
     },
     "execution_count": 120,
     "metadata": {},
     "output_type": "execute_result"
    }
   ],
   "source": [
    "data.pivot_table(\n",
    "    index = 'year',\n",
    "    columns ='locality_category',\n",
    "    values = 'days_exposition',\n",
    "    aggfunc = ['mean','median']).T"
   ]
  },
  {
   "cell_type": "markdown",
   "metadata": {},
   "source": [
    "Построим сводную таблицу для наблюдения как менялось кол-во объявлений с годами у разных категорий местности"
   ]
  },
  {
   "cell_type": "code",
   "execution_count": 121,
   "metadata": {},
   "outputs": [
    {
     "data": {
      "text/html": [
       "<div>\n",
       "<style scoped>\n",
       "    .dataframe tbody tr th:only-of-type {\n",
       "        vertical-align: middle;\n",
       "    }\n",
       "\n",
       "    .dataframe tbody tr th {\n",
       "        vertical-align: top;\n",
       "    }\n",
       "\n",
       "    .dataframe thead th {\n",
       "        text-align: right;\n",
       "    }\n",
       "</style>\n",
       "<table border=\"1\" class=\"dataframe\">\n",
       "  <thead>\n",
       "    <tr style=\"text-align: right;\">\n",
       "      <th></th>\n",
       "      <th>year</th>\n",
       "      <th>2014</th>\n",
       "      <th>2015</th>\n",
       "      <th>2016</th>\n",
       "      <th>2017</th>\n",
       "      <th>2018</th>\n",
       "    </tr>\n",
       "    <tr>\n",
       "      <th></th>\n",
       "      <th>locality_category</th>\n",
       "      <th></th>\n",
       "      <th></th>\n",
       "      <th></th>\n",
       "      <th></th>\n",
       "      <th></th>\n",
       "    </tr>\n",
       "  </thead>\n",
       "  <tbody>\n",
       "    <tr>\n",
       "      <th rowspan=\"5\" valign=\"top\">count</th>\n",
       "      <th>город</th>\n",
       "      <td>122.0</td>\n",
       "      <td>1018.0</td>\n",
       "      <td>2336.0</td>\n",
       "      <td>6766.0</td>\n",
       "      <td>6967.0</td>\n",
       "    </tr>\n",
       "    <tr>\n",
       "      <th>деревня</th>\n",
       "      <td>6.0</td>\n",
       "      <td>44.0</td>\n",
       "      <td>120.0</td>\n",
       "      <td>379.0</td>\n",
       "      <td>322.0</td>\n",
       "    </tr>\n",
       "    <tr>\n",
       "      <th>посёлок</th>\n",
       "      <td>7.0</td>\n",
       "      <td>90.0</td>\n",
       "      <td>264.0</td>\n",
       "      <td>914.0</td>\n",
       "      <td>1118.0</td>\n",
       "    </tr>\n",
       "    <tr>\n",
       "      <th>садовое товарищество</th>\n",
       "      <td>NaN</td>\n",
       "      <td>NaN</td>\n",
       "      <td>2.0</td>\n",
       "      <td>1.0</td>\n",
       "      <td>NaN</td>\n",
       "    </tr>\n",
       "    <tr>\n",
       "      <th>село</th>\n",
       "      <td>NaN</td>\n",
       "      <td>NaN</td>\n",
       "      <td>3.0</td>\n",
       "      <td>15.0</td>\n",
       "      <td>12.0</td>\n",
       "    </tr>\n",
       "  </tbody>\n",
       "</table>\n",
       "</div>"
      ],
      "text/plain": [
       "year                         2014    2015    2016    2017    2018\n",
       "      locality_category                                          \n",
       "count город                 122.0  1018.0  2336.0  6766.0  6967.0\n",
       "      деревня                 6.0    44.0   120.0   379.0   322.0\n",
       "      посёлок                 7.0    90.0   264.0   914.0  1118.0\n",
       "      садовое товарищество    NaN     NaN     2.0     1.0     NaN\n",
       "      село                    NaN     NaN     3.0    15.0    12.0"
      ]
     },
     "execution_count": 121,
     "metadata": {},
     "output_type": "execute_result"
    }
   ],
   "source": [
    "data.pivot_table(\n",
    "    index = 'year',\n",
    "    columns ='locality_category',\n",
    "    values = 'days_exposition',\n",
    "    aggfunc = ['count']).T"
   ]
  },
  {
   "cell_type": "markdown",
   "metadata": {},
   "source": [
    "**Вывод:**\n",
    "Основаня масса квартир в 2014-2018 год продавались за 99 дней\n",
    "Однако время от момента формирования объявления о продаже и самой продажей квартиры уменьшилось в 2019 году основном. Но в тоже самое время до 2018 шел рост объявлений. Следовательно с 2014 по 2018 активно шел спрос на покупку квартир."
   ]
  },
  {
   "cell_type": "markdown",
   "metadata": {},
   "source": [
    "**3.\tКакие факторы больше всего влияют на общую (полную) стоимость объекта?\n",
    "Изучим, зависит ли цена от:**\n",
    "- общей площади;\n",
    "- жилой площади;\n",
    "- площади кухни;\n",
    "- количества комнат;\n",
    "- этажа, на котором расположена квартира (первый, последний, другой);\n",
    "- даты размещения (день недели, месяц, год).\n",
    "\n",
    "**Построим графики, которые покажут зависимость цены от указанных выше параметров**"
   ]
  },
  {
   "cell_type": "code",
   "execution_count": 122,
   "metadata": {},
   "outputs": [
    {
     "name": "stdout",
     "output_type": "stream",
     "text": [
      "Корреляция last_price c total_area:  0.6903372400080209\n",
      "Корреляция last_price c living_area:  0.5381523604537\n",
      "Корреляция last_price c kitchen_area:  0.47660475686257053\n"
     ]
    },
    {
     "data": {
      "image/png": "[encoded data removed]",
      "text/plain": [
       "<Figure size 432x360 with 1 Axes>"
      ]
     },
     "metadata": {
      "needs_background": "light"
     },
     "output_type": "display_data"
    },
    {
     "data": {
      "image/png": "[encoded data removed]",
      "text/plain": [
       "<Figure size 432x360 with 1 Axes>"
      ]
     },
     "metadata": {
      "needs_background": "light"
     },
     "output_type": "display_data"
    },
    {
     "data": {
      "image/png": "[encoded data removed]",
      "text/plain": [
       "<Figure size 432x360 with 1 Axes>"
      ]
     },
     "metadata": {
      "needs_background": "light"
     },
     "output_type": "display_data"
    }
   ],
   "source": [
    "x = ['total_area','living_area','kitchen_area']\n",
    "for i in x:\n",
    "    data.plot(x=i,\n",
    "          y= 'last_price',\n",
    "          kind='scatter',\n",
    "          figsize=(6, 5),\n",
    "          grid=True,\n",
    "          alpha=0.3);\n",
    "    print(f'Корреляция last_price c {i}: ',data['last_price'].corr(data[i]))"
   ]
  },
  {
   "cell_type": "markdown",
   "metadata": {},
   "source": [
    "Оценка стоимости квартир от 'floor_category', 'rooms','weekday','month','year' будем производить с помощью оценки средней цены за объект."
   ]
  },
  {
   "cell_type": "code",
   "execution_count": 123,
   "metadata": {},
   "outputs": [
    {
     "data": {
      "image/png": "[encoded data removed]",
      "text/plain": [
       "<Figure size 432x288 with 1 Axes>"
      ]
     },
     "metadata": {
      "needs_background": "light"
     },
     "output_type": "display_data"
    },
    {
     "data": {
      "image/png": "[encoded data removed]",
      "text/plain": [
       "<Figure size 432x288 with 1 Axes>"
      ]
     },
     "metadata": {
      "needs_background": "light"
     },
     "output_type": "display_data"
    },
    {
     "data": {
      "image/png": "[encoded data removed]",
      "text/plain": [
       "<Figure size 432x288 with 1 Axes>"
      ]
     },
     "metadata": {
      "needs_background": "light"
     },
     "output_type": "display_data"
    },
    {
     "data": {
      "image/png": "[encoded data removed]",
      "text/plain": [
       "<Figure size 432x288 with 1 Axes>"
      ]
     },
     "metadata": {
      "needs_background": "light"
     },
     "output_type": "display_data"
    },
    {
     "data": {
      "image/png": "[encoded data removed]",
      "text/plain": [
       "<Figure size 432x288 with 1 Axes>"
      ]
     },
     "metadata": {
      "needs_background": "light"
     },
     "output_type": "display_data"
    }
   ],
   "source": [
    "for i in ['floor_category', 'rooms','weekday','month','year']:\n",
    "    p = data.pivot_table(index=i, values='last_price', aggfunc=['mean'])\n",
    "    p.plot()\n",
    "    plt.title(f'Средняя цена по {i}') \n",
    "    plt.show()"
   ]
  },
  {
   "cell_type": "code",
   "execution_count": 124,
   "metadata": {},
   "outputs": [],
   "source": [
    "#data.plot(x='floor_category',\n",
    "#          y='last_price',\n",
    "#          kind='scatter',\n",
    "#          figsize=(6, 5),\n",
    "#          grid=True,\n",
    "#          alpha=0.3);"
   ]
  },
  {
   "cell_type": "markdown",
   "metadata": {},
   "source": [
    " **Вывод:**\n",
    "Графикам можно сделать вывод , что с ростом общей площади, жилой площади, площади кухни, количества комнат увеличивается стоимость квартиры.\n",
    "    \n",
    "Цены у квартир расположенных на пером этаже  в среднем 4,6 млн, на всех остальных приблизительно одинаковая ценае.\n",
    "Влияние даты размещения (\n",
    "- день недели - по четвергам в среднем больше цена. \n",
    "- месяц - Наиболее выгодные по продажам январь февраль июль. Не выгодны март и октябрь.\n",
    "- год . С годами цена на квартиры падает. Наиболее выгодный был 2014 год\n"
   ]
  },
  {
   "cell_type": "markdown",
   "metadata": {},
   "source": [
    "**4.\tПосчитаем среднюю цену одного квадратного метра в 10 населённых пунктах с наибольшим числом объявлений. Выделим населённые пункты с самой высокой и низкой стоимостью квадратного метра. Эти данные можно найти по имени в столбце locality_name.**"
   ]
  },
  {
   "cell_type": "markdown",
   "metadata": {},
   "source": [
    "Сгруппируем данные"
   ]
  },
  {
   "cell_type": "code",
   "execution_count": 125,
   "metadata": {},
   "outputs": [],
   "source": [
    "locality_top = (\n",
    "    data.pivot_table(index = 'locality_name', \n",
    "                     values = 'price_m2', \n",
    "                     aggfunc = ['count','mean'])\n",
    ")\n"
   ]
  },
  {
   "cell_type": "code",
   "execution_count": 126,
   "metadata": {},
   "outputs": [],
   "source": [
    "#locality_top "
   ]
  },
  {
   "cell_type": "code",
   "execution_count": 127,
   "metadata": {},
   "outputs": [],
   "source": [
    "#Переименуем названия столбцов\n",
    "locality_top.columns = ['count','mean']\n",
    "#locality_top"
   ]
  },
  {
   "cell_type": "code",
   "execution_count": 128,
   "metadata": {},
   "outputs": [
    {
     "data": {
      "text/html": [
       "<div>\n",
       "<style scoped>\n",
       "    .dataframe tbody tr th:only-of-type {\n",
       "        vertical-align: middle;\n",
       "    }\n",
       "\n",
       "    .dataframe tbody tr th {\n",
       "        vertical-align: top;\n",
       "    }\n",
       "\n",
       "    .dataframe thead th {\n",
       "        text-align: right;\n",
       "    }\n",
       "</style>\n",
       "<table border=\"1\" class=\"dataframe\">\n",
       "  <thead>\n",
       "    <tr style=\"text-align: right;\">\n",
       "      <th></th>\n",
       "      <th>locality_name</th>\n",
       "      <th>count</th>\n",
       "      <th>mean</th>\n",
       "    </tr>\n",
       "  </thead>\n",
       "  <tbody>\n",
       "    <tr>\n",
       "      <th>0</th>\n",
       "      <td>Санкт-Петербург</td>\n",
       "      <td>13479</td>\n",
       "      <td>0.113093</td>\n",
       "    </tr>\n",
       "    <tr>\n",
       "      <th>1</th>\n",
       "      <td>посёлок Мурино</td>\n",
       "      <td>527</td>\n",
       "      <td>0.085558</td>\n",
       "    </tr>\n",
       "    <tr>\n",
       "      <th>2</th>\n",
       "      <td>посёлок Шушары</td>\n",
       "      <td>406</td>\n",
       "      <td>0.077827</td>\n",
       "    </tr>\n",
       "    <tr>\n",
       "      <th>3</th>\n",
       "      <td>Всеволожск</td>\n",
       "      <td>362</td>\n",
       "      <td>0.068384</td>\n",
       "    </tr>\n",
       "    <tr>\n",
       "      <th>4</th>\n",
       "      <td>Пушкин</td>\n",
       "      <td>329</td>\n",
       "      <td>0.102994</td>\n",
       "    </tr>\n",
       "    <tr>\n",
       "      <th>5</th>\n",
       "      <td>Колпино</td>\n",
       "      <td>303</td>\n",
       "      <td>0.074698</td>\n",
       "    </tr>\n",
       "    <tr>\n",
       "      <th>6</th>\n",
       "      <td>посёлок Парголово</td>\n",
       "      <td>300</td>\n",
       "      <td>0.089624</td>\n",
       "    </tr>\n",
       "    <tr>\n",
       "      <th>7</th>\n",
       "      <td>деревня Кудрово</td>\n",
       "      <td>299</td>\n",
       "      <td>0.092474</td>\n",
       "    </tr>\n",
       "    <tr>\n",
       "      <th>8</th>\n",
       "      <td>Гатчина</td>\n",
       "      <td>270</td>\n",
       "      <td>0.068270</td>\n",
       "    </tr>\n",
       "    <tr>\n",
       "      <th>9</th>\n",
       "      <td>Выборг</td>\n",
       "      <td>206</td>\n",
       "      <td>0.056910</td>\n",
       "    </tr>\n",
       "  </tbody>\n",
       "</table>\n",
       "</div>"
      ],
      "text/plain": [
       "       locality_name  count      mean\n",
       "0    Санкт-Петербург  13479  0.113093\n",
       "1     посёлок Мурино    527  0.085558\n",
       "2     посёлок Шушары    406  0.077827\n",
       "3         Всеволожск    362  0.068384\n",
       "4             Пушкин    329  0.102994\n",
       "5            Колпино    303  0.074698\n",
       "6  посёлок Парголово    300  0.089624\n",
       "7    деревня Кудрово    299  0.092474\n",
       "8            Гатчина    270  0.068270\n",
       "9             Выборг    206  0.056910"
      ]
     },
     "execution_count": 128,
     "metadata": {},
     "output_type": "execute_result"
    }
   ],
   "source": [
    "#Остортируем по убыванию кол-ва объявлений и выведим первые 10 строк\n",
    "locality_top = locality_top.sort_values(by = 'count', \n",
    "                                        ascending=False).reset_index().head(10)\n",
    "locality_top"
   ]
  },
  {
   "cell_type": "code",
   "execution_count": 129,
   "metadata": {},
   "outputs": [
    {
     "data": {
      "image/png": "[encoded data removed]",
      "text/plain": [
       "<Figure size 1080x360 with 1 Axes>"
      ]
     },
     "metadata": {
      "needs_background": "light"
     },
     "output_type": "display_data"
    }
   ],
   "source": [
    "#Построение гистограммы для визуализации данных\n",
    "locality_top.plot(kind = 'bar', \n",
    "                  x = 'locality_name', \n",
    "                  y='mean',\n",
    "                  grid=True, \n",
    "                  figsize=(15,5));"
   ]
  },
  {
   "cell_type": "markdown",
   "metadata": {},
   "source": [
    "**Вывод:**\n",
    "Наибольшая средняя цена за м2 в Санкт-Петербурге.\n",
    "Наименьшая цена в Выборге."
   ]
  },
  {
   "cell_type": "markdown",
   "metadata": {},
   "source": [
    "**5.\tРанее посчитано расстояние до центра в километрах. Теперь выделим квартиры в Санкт-Петербурге с помощью столбца locality_name и вычислим среднюю цену каждого километра. Опишем, как стоимость объектов зависит от расстояния до центра города.**"
   ]
  },
  {
   "cell_type": "code",
   "execution_count": 130,
   "metadata": {},
   "outputs": [],
   "source": [
    "data['price_km'] = data['last_price']/data['city_centers_nearest']\n",
    "#data.head(10)"
   ]
  },
  {
   "cell_type": "code",
   "execution_count": 131,
   "metadata": {},
   "outputs": [],
   "source": [
    "km_city = (\n",
    "    data.\n",
    "    loc[(data['locality_name'] == 'Санкт-Петербург'),\n",
    "        ['city_centers_nearest','price_km']]\n",
    "    .sort_values('city_centers_nearest')\n",
    ")\n",
    "#km_city"
   ]
  },
  {
   "cell_type": "code",
   "execution_count": 132,
   "metadata": {},
   "outputs": [
    {
     "data": {
      "image/png": "[encoded data removed]",
      "text/plain": [
       "<Figure size 1080x360 with 1 Axes>"
      ]
     },
     "metadata": {
      "needs_background": "light"
     },
     "output_type": "display_data"
    }
   ],
   "source": [
    "km_city.plot(x = 'city_centers_nearest', y = 'price_km', grid=True, figsize=(15,5));"
   ]
  },
  {
   "cell_type": "markdown",
   "metadata": {},
   "source": [
    "**Вывод:**\n",
    "С отдалением от центра цена за 1 км юудет падать. Наиболее дорого обходятся квартиры за первые 2 км."
   ]
  },
  {
   "cell_type": "markdown",
   "metadata": {},
   "source": [
    "### Общий вывод"
   ]
  },
  {
   "cell_type": "markdown",
   "metadata": {},
   "source": [
    "**Была проведена предобработка данных в датасете.**\n",
    "\n",
    "Пропуски обнаружились в столбцах:\n",
    "\n",
    "\n",
    "| Наименование столбца  | Кол-во пустых строк | Процент пустых строк |\n",
    "| :---                  | :----               | :---    |\n",
    "| is_apartment          | 20924               | 88.290645 |\n",
    "| parks_nearest         | 15620               | 65.909954 |\n",
    "| ponds_nearest         | 14589               | 61.559559 |\n",
    "| balcony               | 11519               | 48.605426 |\n",
    "| ceiling_height        | 9195                | 23.384953 |\n",
    "| airports_nearest      | 5542                | 23.384953 |\n",
    "| city_centers_nearest  | 5519                | 23.287902 |\n",
    "| ponds_around_3000     | 5518                | 23.283683 |\n",
    "| parks_around_3000     | 5518                | 23.283683 |\n",
    "| days_exposition       | 3181                | 13.422507 |\n",
    "| kitchen_area          | 2278                | 9.612220 |\n",
    "| living_area           | 1903                | 8.029875 |\n",
    "| floors_total          | 86                  | 0.362885 |\n",
    "| locality_name         | 49                  | 0.206760 |\n",
    "\n",
    "\n",
    "\n",
    "- 23699 - всего строк в датасете\n",
    "\n",
    "- 20506 - после предобработки осталось\n",
    "\n",
    "86.5 % данных оставили от изначальных. Следовательно было потеряно менее ориентировочно 13,5%. \n",
    "\n",
    "В основном причиной всех пропусков является человечечский фактор. К примеру, если человек ошибся при вводе или не знал какие указывать данные или забыл их указать или посчитал, что нет смысла их укзаывать, так как уже указал в соседниз пунктах ответ. Все данные пустоты можно было восстановить.\n",
    "\n",
    "Из данных столбцов выделяется **days_exposition**. Замечено, что кол-во пропусков с годами растет и в 2019г начинает преобладать над заполненными. Принято решение ислючить 2019г объявления из исследования, так как восстановить сложно и восстановление приведет к достаточно сильным искажениям. Природа данных пропусков не ясна. Возможно техническая ошибка.\n",
    "\n",
    "\n",
    "\n",
    "**Была проведено исследование данных в датасете за 2014-2018г**\n",
    "\n",
    "1. Изучены и описаны следующие параметры:\n",
    "\n",
    "- общая площадь: продаются квартиры в с площадью от 20 до 200 м2\n",
    "- жилая площадь:  продаются квартиры в с площадью от 10 до 100 м2\n",
    "- площадь кухни: продаются квартиры в с площадью от 5 до 20 м2\n",
    "- цена объекта : лежит в основном в пределах от 10 млн до 20 млн. Наибольшее кол-во квартир продается в диапазоне от 2,5 до 7,5млн. Максимальная кол-во с стоимостью ориентировчно  3,7 млн.\n",
    "- количество комнат: большего всего объявлений однокомнатных квартир и двухкомнатных.  \n",
    "- высота потолков; в оновном 2,7 м\n",
    "- этаж квартиры: в основном покупают квартиры на 2-5 этажах\n",
    "- тип этажа квартиры («первый», «последний», «другой»): преобладают квартиры в каетгории \"другой\"\n",
    "- общее количество этажей в доме в оснвоном продаются кварри в домах с 5 и 10 этажами\n",
    "- расстояние до центра города в км: основная масса квартир находится рядом с центров на расстоянии до 20км, но наблюдается большой всплеск квартиры который находится далеко от центра квартиры без указания конкретного значения. Такое кол-во составляет практически 4800\n",
    "- расстояние до ближайшего аэропорта: основная масса квартир находится рядом с аэропортами на расстоянии от 6км до 60км\n",
    "- расстояние до ближайшего парка: основная масса квартир находится рядом с парками на расстоянии до 1км\n",
    "- день и месяц публикации объявления: по будням выклыдвают и чаще все по вторник и четвергам. А по месяца февраль, октябрь и ноябрь.\n",
    "\n",
    "\n",
    "\n",
    "2. Какие факторы больше всего влияют на общую (полную) стоимость объекта?\n",
    "\n",
    "С ростом общей площади, жилой площади, площади кухни,количества комнат увеличивается стоимость квартиры.\n",
    "    \n",
    "Цены у квартир расположенных на пером этаже  в среднем 4,6 млн, на всех остальных приблизительно одинаковая ценае.\n",
    "Влияние даты размещения (\n",
    "- день недели - по четвергам в среднем больше цена. \n",
    "- месяц - Наиболее выгодные по продажам январь февраль июль. Не выгодны март и октябрь.\n",
    "- год . С годами цена на квартиры падает. Наиболее выгодный был 2014 год\n",
    "\n",
    "\n",
    "3. Как быстро продавались квартиры.\n",
    "\n",
    "Квартиры продавались в основном за 99 дней\n",
    "\n",
    "\n",
    "4. Рассчитать среднюю цену одного квадратного метра в 10 населённых пунктах с наибольшим числом объявлений. Выделите населённые пункты с самой высокой и низкой стоимостью квадратного метра.\n",
    "\n",
    "\n",
    "| Наименование       | Кол-во объявлений | Цена 1 м2 |\n",
    "| :---               | :----             | :---    |\n",
    "| Санкт-Петербург    | 13479             | 113093.238972 |\n",
    "| посёлок Мурино     | 527               | 85557.665036 |\n",
    "| посёлок Шушары     | 406               | 77826.896087 |\n",
    "| Всеволожск         | 362               | 68384.088711 |\n",
    "| Пушкин             | 329               | 102994.144158 |\n",
    "| Колпино            | 303               | 74697.799096 |\n",
    "| посёлок Парголово  | 300               | 89623.605137 |\n",
    "| деревня Кудрово    | 299               | 92473.547576 |\n",
    "| Гатчина            | 270               | 68269.891489 |\n",
    "| Выборг             | 206               | 13.56909.579201 |\n",
    "\n",
    "\n",
    "\n",
    "Наибольшая средняя цена за м2 в Санкт-Петербурге. Наименьшая цена в Выборге.\n",
    "\n",
    "\n",
    "\n",
    "5. Зависимость стоимости объектов от расстояния до центра города\n",
    "\n",
    "С отдалением от центра цена за 1 км юудет падать. Наиболее дорого обходятся квартиры за первые 2 км. Стоят они от 200-300 млн\n"
   ]
  }
 ],
 "metadata": {
  "ExecuteTimeLog": [
   {
    "duration": 501,
    "start_time": "2022-12-05T21:22:00.226Z"
   },
   {
    "duration": 13,
    "start_time": "2022-12-05T21:22:00.729Z"
   },
   {
    "duration": 89,
    "start_time": "2022-12-05T21:22:00.744Z"
   },
   {
    "duration": 37,
    "start_time": "2022-12-05T21:22:00.835Z"
   },
   {
    "duration": 29,
    "start_time": "2022-12-05T21:22:00.874Z"
   },
   {
    "duration": 27,
    "start_time": "2022-12-05T21:22:00.906Z"
   },
   {
    "duration": 18,
    "start_time": "2022-12-05T21:22:00.935Z"
   },
   {
    "duration": 52,
    "start_time": "2022-12-05T21:22:00.955Z"
   },
   {
    "duration": 2213,
    "start_time": "2022-12-05T21:22:01.009Z"
   },
   {
    "duration": 9,
    "start_time": "2022-12-05T21:22:03.226Z"
   },
   {
    "duration": 7,
    "start_time": "2022-12-05T21:22:03.237Z"
   },
   {
    "duration": 3,
    "start_time": "2022-12-05T21:22:03.246Z"
   },
   {
    "duration": 8,
    "start_time": "2022-12-05T21:22:03.250Z"
   },
   {
    "duration": 37,
    "start_time": "2022-12-05T21:22:03.260Z"
   },
   {
    "duration": 9,
    "start_time": "2022-12-05T21:22:03.299Z"
   },
   {
    "duration": 10,
    "start_time": "2022-12-05T21:22:03.309Z"
   },
   {
    "duration": 7,
    "start_time": "2022-12-05T21:22:03.321Z"
   },
   {
    "duration": 12,
    "start_time": "2022-12-05T21:22:03.329Z"
   },
   {
    "duration": 4,
    "start_time": "2022-12-05T21:22:03.343Z"
   },
   {
    "duration": 17,
    "start_time": "2022-12-05T21:22:03.349Z"
   },
   {
    "duration": 9,
    "start_time": "2022-12-05T21:22:03.367Z"
   },
   {
    "duration": 35,
    "start_time": "2022-12-05T21:22:03.377Z"
   },
   {
    "duration": 3,
    "start_time": "2022-12-05T21:22:03.414Z"
   },
   {
    "duration": 12,
    "start_time": "2022-12-05T21:22:03.419Z"
   },
   {
    "duration": 5,
    "start_time": "2022-12-05T21:22:03.433Z"
   },
   {
    "duration": 12,
    "start_time": "2022-12-05T21:22:03.439Z"
   },
   {
    "duration": 47,
    "start_time": "2022-12-05T21:22:03.453Z"
   },
   {
    "duration": 4,
    "start_time": "2022-12-05T21:22:03.506Z"
   },
   {
    "duration": 27,
    "start_time": "2022-12-05T21:22:03.511Z"
   },
   {
    "duration": 987,
    "start_time": "2022-12-05T21:22:03.540Z"
   },
   {
    "duration": 40,
    "start_time": "2022-12-05T21:22:04.528Z"
   },
   {
    "duration": 3,
    "start_time": "2022-12-05T21:22:04.570Z"
   },
   {
    "duration": 27,
    "start_time": "2022-12-05T21:22:04.575Z"
   },
   {
    "duration": 9,
    "start_time": "2022-12-05T21:22:04.604Z"
   },
   {
    "duration": 5,
    "start_time": "2022-12-05T21:22:04.615Z"
   },
   {
    "duration": 7,
    "start_time": "2022-12-05T21:22:04.622Z"
   },
   {
    "duration": 8,
    "start_time": "2022-12-05T21:22:04.630Z"
   },
   {
    "duration": 21,
    "start_time": "2022-12-05T21:22:04.639Z"
   },
   {
    "duration": 14,
    "start_time": "2022-12-05T21:22:04.662Z"
   },
   {
    "duration": 28,
    "start_time": "2022-12-05T21:22:04.678Z"
   },
   {
    "duration": 5,
    "start_time": "2022-12-05T21:22:04.707Z"
   },
   {
    "duration": 22,
    "start_time": "2022-12-05T21:22:04.714Z"
   },
   {
    "duration": 9,
    "start_time": "2022-12-05T21:22:04.737Z"
   },
   {
    "duration": 5,
    "start_time": "2022-12-05T21:22:04.747Z"
   },
   {
    "duration": 71,
    "start_time": "2022-12-05T21:22:04.753Z"
   },
   {
    "duration": 4,
    "start_time": "2022-12-05T21:22:04.825Z"
   },
   {
    "duration": 24,
    "start_time": "2022-12-05T21:22:04.831Z"
   },
   {
    "duration": 21,
    "start_time": "2022-12-05T21:22:04.857Z"
   },
   {
    "duration": 3,
    "start_time": "2022-12-05T21:22:04.896Z"
   },
   {
    "duration": 6,
    "start_time": "2022-12-05T21:22:04.901Z"
   },
   {
    "duration": 7,
    "start_time": "2022-12-05T21:22:04.909Z"
   },
   {
    "duration": 5,
    "start_time": "2022-12-05T21:22:04.918Z"
   },
   {
    "duration": 5,
    "start_time": "2022-12-05T21:22:04.924Z"
   },
   {
    "duration": 5,
    "start_time": "2022-12-05T21:22:04.931Z"
   },
   {
    "duration": 10,
    "start_time": "2022-12-05T21:22:04.938Z"
   },
   {
    "duration": 16,
    "start_time": "2022-12-05T21:22:04.949Z"
   },
   {
    "duration": 38,
    "start_time": "2022-12-05T21:22:04.967Z"
   },
   {
    "duration": 22,
    "start_time": "2022-12-05T21:22:05.007Z"
   },
   {
    "duration": 37,
    "start_time": "2022-12-05T21:22:05.031Z"
   },
   {
    "duration": 40,
    "start_time": "2022-12-05T21:22:05.070Z"
   },
   {
    "duration": 123,
    "start_time": "2022-12-05T21:22:05.113Z"
   },
   {
    "duration": 16,
    "start_time": "2022-12-05T21:22:05.238Z"
   },
   {
    "duration": 13,
    "start_time": "2022-12-05T21:22:05.256Z"
   },
   {
    "duration": 27,
    "start_time": "2022-12-05T21:22:05.271Z"
   },
   {
    "duration": 3,
    "start_time": "2022-12-05T21:22:05.300Z"
   },
   {
    "duration": 11,
    "start_time": "2022-12-05T21:22:05.305Z"
   },
   {
    "duration": 14,
    "start_time": "2022-12-05T21:22:05.319Z"
   },
   {
    "duration": 67,
    "start_time": "2022-12-05T21:22:05.336Z"
   },
   {
    "duration": 2,
    "start_time": "2022-12-05T21:22:05.405Z"
   },
   {
    "duration": 123,
    "start_time": "2022-12-05T21:22:05.409Z"
   },
   {
    "duration": 125,
    "start_time": "2022-12-05T21:22:05.533Z"
   },
   {
    "duration": 9,
    "start_time": "2022-12-05T21:22:05.659Z"
   },
   {
    "duration": 10,
    "start_time": "2022-12-05T21:22:05.669Z"
   },
   {
    "duration": 17,
    "start_time": "2022-12-05T21:22:05.680Z"
   },
   {
    "duration": 11,
    "start_time": "2022-12-05T21:22:05.699Z"
   },
   {
    "duration": 9,
    "start_time": "2022-12-05T21:22:05.711Z"
   },
   {
    "duration": 16,
    "start_time": "2022-12-05T21:22:05.721Z"
   },
   {
    "duration": 8,
    "start_time": "2022-12-05T21:22:05.738Z"
   },
   {
    "duration": 32,
    "start_time": "2022-12-05T21:22:05.747Z"
   },
   {
    "duration": 180,
    "start_time": "2022-12-05T21:22:05.781Z"
   },
   {
    "duration": 218,
    "start_time": "2022-12-05T21:22:05.963Z"
   },
   {
    "duration": 24,
    "start_time": "2022-12-05T21:22:06.187Z"
   },
   {
    "duration": 25,
    "start_time": "2022-12-05T21:22:06.213Z"
   },
   {
    "duration": 885,
    "start_time": "2022-12-05T21:22:06.240Z"
   },
   {
    "duration": 310,
    "start_time": "2022-12-05T21:22:07.127Z"
   },
   {
    "duration": 324,
    "start_time": "2022-12-05T21:22:07.439Z"
   },
   {
    "duration": 15,
    "start_time": "2022-12-05T21:22:07.765Z"
   },
   {
    "duration": 2,
    "start_time": "2022-12-05T21:22:07.782Z"
   },
   {
    "duration": 4,
    "start_time": "2022-12-05T21:22:07.796Z"
   },
   {
    "duration": 4,
    "start_time": "2022-12-05T21:22:07.802Z"
   },
   {
    "duration": 8,
    "start_time": "2022-12-05T21:22:07.808Z"
   },
   {
    "duration": 7,
    "start_time": "2022-12-05T21:22:07.818Z"
   },
   {
    "duration": 7,
    "start_time": "2022-12-05T21:22:07.827Z"
   },
   {
    "duration": 419,
    "start_time": "2022-12-05T21:22:07.835Z"
   },
   {
    "duration": 6,
    "start_time": "2022-12-05T21:22:08.256Z"
   },
   {
    "duration": 182,
    "start_time": "2022-12-05T21:22:08.264Z"
   },
   {
    "duration": 177,
    "start_time": "2022-12-05T21:22:08.448Z"
   },
   {
    "duration": 238,
    "start_time": "2022-12-05T21:22:08.627Z"
   },
   {
    "duration": 16,
    "start_time": "2022-12-05T21:22:08.867Z"
   },
   {
    "duration": 161,
    "start_time": "2022-12-05T21:22:08.897Z"
   },
   {
    "duration": 9,
    "start_time": "2022-12-05T21:22:09.059Z"
   },
   {
    "duration": 36,
    "start_time": "2022-12-05T21:22:09.069Z"
   },
   {
    "duration": 18,
    "start_time": "2022-12-05T21:22:09.107Z"
   },
   {
    "duration": 25,
    "start_time": "2022-12-05T21:22:09.128Z"
   },
   {
    "duration": 55,
    "start_time": "2022-12-05T21:22:09.155Z"
   },
   {
    "duration": 105,
    "start_time": "2022-12-05T21:22:09.212Z"
   },
   {
    "duration": 2,
    "start_time": "2022-12-05T21:22:09.319Z"
   },
   {
    "duration": 9,
    "start_time": "2022-12-05T21:22:09.322Z"
   },
   {
    "duration": 743,
    "start_time": "2022-12-05T21:22:09.332Z"
   },
   {
    "duration": 289,
    "start_time": "2022-12-05T21:22:10.076Z"
   },
   {
    "duration": 192,
    "start_time": "2022-12-05T21:22:10.366Z"
   },
   {
    "duration": 268,
    "start_time": "2022-12-05T21:22:10.560Z"
   },
   {
    "duration": 320,
    "start_time": "2022-12-05T21:22:10.830Z"
   },
   {
    "duration": 119,
    "start_time": "2022-12-05T21:22:11.151Z"
   },
   {
    "duration": 238,
    "start_time": "2022-12-05T21:22:11.271Z"
   },
   {
    "duration": 257,
    "start_time": "2022-12-05T21:22:11.511Z"
   },
   {
    "duration": 263,
    "start_time": "2022-12-05T21:22:11.770Z"
   },
   {
    "duration": 261,
    "start_time": "2022-12-05T21:22:12.034Z"
   },
   {
    "duration": 354,
    "start_time": "2022-12-05T21:22:12.297Z"
   },
   {
    "duration": 7,
    "start_time": "2022-12-05T21:22:12.652Z"
   },
   {
    "duration": 46,
    "start_time": "2022-12-05T21:22:12.661Z"
   },
   {
    "duration": 21,
    "start_time": "2022-12-05T21:22:12.708Z"
   },
   {
    "duration": 1483,
    "start_time": "2022-12-05T21:22:12.730Z"
   },
   {
    "duration": 198,
    "start_time": "2022-12-05T21:22:14.215Z"
   },
   {
    "duration": 16,
    "start_time": "2022-12-05T21:22:14.414Z"
   },
   {
    "duration": 2,
    "start_time": "2022-12-05T21:22:14.432Z"
   },
   {
    "duration": 13,
    "start_time": "2022-12-05T21:22:14.436Z"
   },
   {
    "duration": 20,
    "start_time": "2022-12-05T21:22:14.450Z"
   },
   {
    "duration": 203,
    "start_time": "2022-12-05T21:22:14.472Z"
   },
   {
    "duration": 4,
    "start_time": "2022-12-05T21:22:14.677Z"
   },
   {
    "duration": 29,
    "start_time": "2022-12-05T21:22:14.683Z"
   },
   {
    "duration": 174,
    "start_time": "2022-12-05T21:22:14.713Z"
   },
   {
    "duration": 707,
    "start_time": "2022-12-06T04:57:46.848Z"
   },
   {
    "duration": 12,
    "start_time": "2022-12-06T04:57:47.556Z"
   },
   {
    "duration": 66,
    "start_time": "2022-12-06T04:57:47.569Z"
   },
   {
    "duration": 31,
    "start_time": "2022-12-06T04:57:47.636Z"
   },
   {
    "duration": 29,
    "start_time": "2022-12-06T04:57:47.668Z"
   },
   {
    "duration": 18,
    "start_time": "2022-12-06T04:57:47.698Z"
   },
   {
    "duration": 10,
    "start_time": "2022-12-06T04:57:47.717Z"
   },
   {
    "duration": 9,
    "start_time": "2022-12-06T04:57:47.728Z"
   },
   {
    "duration": 2121,
    "start_time": "2022-12-06T04:57:47.739Z"
   },
   {
    "duration": 11,
    "start_time": "2022-12-06T04:57:49.863Z"
   },
   {
    "duration": 11,
    "start_time": "2022-12-06T04:57:49.875Z"
   },
   {
    "duration": 3,
    "start_time": "2022-12-06T04:57:49.887Z"
   },
   {
    "duration": 8,
    "start_time": "2022-12-06T04:57:49.891Z"
   },
   {
    "duration": 10,
    "start_time": "2022-12-06T04:57:49.901Z"
   },
   {
    "duration": 8,
    "start_time": "2022-12-06T04:57:49.912Z"
   },
   {
    "duration": 8,
    "start_time": "2022-12-06T04:57:49.921Z"
   },
   {
    "duration": 29,
    "start_time": "2022-12-06T04:57:49.930Z"
   },
   {
    "duration": 23,
    "start_time": "2022-12-06T04:57:49.960Z"
   },
   {
    "duration": 10,
    "start_time": "2022-12-06T04:57:49.984Z"
   },
   {
    "duration": 11,
    "start_time": "2022-12-06T04:57:49.995Z"
   },
   {
    "duration": 10,
    "start_time": "2022-12-06T04:57:50.007Z"
   },
   {
    "duration": 29,
    "start_time": "2022-12-06T04:57:50.018Z"
   },
   {
    "duration": 3,
    "start_time": "2022-12-06T04:57:50.048Z"
   },
   {
    "duration": 29,
    "start_time": "2022-12-06T04:57:50.053Z"
   },
   {
    "duration": 4,
    "start_time": "2022-12-06T04:57:50.084Z"
   },
   {
    "duration": 16,
    "start_time": "2022-12-06T04:57:50.090Z"
   },
   {
    "duration": 18,
    "start_time": "2022-12-06T04:57:50.107Z"
   },
   {
    "duration": 4,
    "start_time": "2022-12-06T04:57:50.128Z"
   },
   {
    "duration": 47,
    "start_time": "2022-12-06T04:57:50.133Z"
   },
   {
    "duration": 750,
    "start_time": "2022-12-06T04:57:50.182Z"
   },
   {
    "duration": 37,
    "start_time": "2022-12-06T04:57:50.934Z"
   },
   {
    "duration": 3,
    "start_time": "2022-12-06T04:57:50.973Z"
   },
   {
    "duration": 9,
    "start_time": "2022-12-06T04:57:50.977Z"
   },
   {
    "duration": 10,
    "start_time": "2022-12-06T04:57:50.987Z"
   },
   {
    "duration": 9,
    "start_time": "2022-12-06T04:57:50.998Z"
   },
   {
    "duration": 13,
    "start_time": "2022-12-06T04:57:51.008Z"
   },
   {
    "duration": 9,
    "start_time": "2022-12-06T04:57:51.023Z"
   },
   {
    "duration": 27,
    "start_time": "2022-12-06T04:57:51.034Z"
   },
   {
    "duration": 14,
    "start_time": "2022-12-06T04:57:51.062Z"
   },
   {
    "duration": 11,
    "start_time": "2022-12-06T04:57:51.077Z"
   },
   {
    "duration": 47,
    "start_time": "2022-12-06T04:57:51.089Z"
   },
   {
    "duration": 16,
    "start_time": "2022-12-06T04:57:51.137Z"
   },
   {
    "duration": 8,
    "start_time": "2022-12-06T04:57:51.155Z"
   },
   {
    "duration": 9,
    "start_time": "2022-12-06T04:57:51.165Z"
   },
   {
    "duration": 40,
    "start_time": "2022-12-06T04:57:51.176Z"
   },
   {
    "duration": 8,
    "start_time": "2022-12-06T04:57:51.217Z"
   },
   {
    "duration": 25,
    "start_time": "2022-12-06T04:57:51.226Z"
   },
   {
    "duration": 24,
    "start_time": "2022-12-06T04:57:51.252Z"
   },
   {
    "duration": 8,
    "start_time": "2022-12-06T04:57:51.278Z"
   },
   {
    "duration": 9,
    "start_time": "2022-12-06T04:57:51.288Z"
   },
   {
    "duration": 10,
    "start_time": "2022-12-06T04:57:51.298Z"
   },
   {
    "duration": 8,
    "start_time": "2022-12-06T04:57:51.309Z"
   },
   {
    "duration": 9,
    "start_time": "2022-12-06T04:57:51.319Z"
   },
   {
    "duration": 8,
    "start_time": "2022-12-06T04:57:51.330Z"
   },
   {
    "duration": 13,
    "start_time": "2022-12-06T04:57:51.339Z"
   },
   {
    "duration": 21,
    "start_time": "2022-12-06T04:57:51.354Z"
   },
   {
    "duration": 35,
    "start_time": "2022-12-06T04:57:51.377Z"
   },
   {
    "duration": 20,
    "start_time": "2022-12-06T04:57:51.414Z"
   },
   {
    "duration": 33,
    "start_time": "2022-12-06T04:57:51.435Z"
   },
   {
    "duration": 18,
    "start_time": "2022-12-06T04:57:51.469Z"
   },
   {
    "duration": 119,
    "start_time": "2022-12-06T04:57:51.488Z"
   },
   {
    "duration": 22,
    "start_time": "2022-12-06T04:57:51.609Z"
   },
   {
    "duration": 27,
    "start_time": "2022-12-06T04:57:51.632Z"
   },
   {
    "duration": 19,
    "start_time": "2022-12-06T04:57:51.660Z"
   },
   {
    "duration": 7,
    "start_time": "2022-12-06T04:57:51.681Z"
   },
   {
    "duration": 53,
    "start_time": "2022-12-06T04:57:51.690Z"
   },
   {
    "duration": 18,
    "start_time": "2022-12-06T04:57:51.745Z"
   },
   {
    "duration": 42,
    "start_time": "2022-12-06T04:57:51.764Z"
   },
   {
    "duration": 2,
    "start_time": "2022-12-06T04:57:51.808Z"
   },
   {
    "duration": 142,
    "start_time": "2022-12-06T04:57:51.812Z"
   },
   {
    "duration": 112,
    "start_time": "2022-12-06T04:57:51.956Z"
   },
   {
    "duration": 8,
    "start_time": "2022-12-06T04:57:52.070Z"
   },
   {
    "duration": 16,
    "start_time": "2022-12-06T04:57:52.080Z"
   },
   {
    "duration": 14,
    "start_time": "2022-12-06T04:57:52.098Z"
   },
   {
    "duration": 24,
    "start_time": "2022-12-06T04:57:52.113Z"
   },
   {
    "duration": 32,
    "start_time": "2022-12-06T04:57:52.138Z"
   },
   {
    "duration": 28,
    "start_time": "2022-12-06T04:57:52.171Z"
   },
   {
    "duration": 27,
    "start_time": "2022-12-06T04:57:52.201Z"
   },
   {
    "duration": 44,
    "start_time": "2022-12-06T04:57:52.229Z"
   },
   {
    "duration": 146,
    "start_time": "2022-12-06T04:57:52.274Z"
   },
   {
    "duration": 163,
    "start_time": "2022-12-06T04:57:52.421Z"
   },
   {
    "duration": 20,
    "start_time": "2022-12-06T04:57:52.590Z"
   },
   {
    "duration": 35,
    "start_time": "2022-12-06T04:57:52.611Z"
   },
   {
    "duration": 829,
    "start_time": "2022-12-06T04:57:52.648Z"
   },
   {
    "duration": 315,
    "start_time": "2022-12-06T04:57:53.478Z"
   },
   {
    "duration": 317,
    "start_time": "2022-12-06T04:57:53.794Z"
   },
   {
    "duration": 20,
    "start_time": "2022-12-06T04:57:54.113Z"
   },
   {
    "duration": 3,
    "start_time": "2022-12-06T04:57:54.134Z"
   },
   {
    "duration": 8,
    "start_time": "2022-12-06T04:57:54.138Z"
   },
   {
    "duration": 6,
    "start_time": "2022-12-06T04:57:54.148Z"
   },
   {
    "duration": 9,
    "start_time": "2022-12-06T04:57:54.155Z"
   },
   {
    "duration": 8,
    "start_time": "2022-12-06T04:57:54.165Z"
   },
   {
    "duration": 21,
    "start_time": "2022-12-06T04:57:54.174Z"
   },
   {
    "duration": 410,
    "start_time": "2022-12-06T04:57:54.197Z"
   },
   {
    "duration": 12,
    "start_time": "2022-12-06T04:57:54.609Z"
   },
   {
    "duration": 151,
    "start_time": "2022-12-06T04:57:54.622Z"
   },
   {
    "duration": 148,
    "start_time": "2022-12-06T04:57:54.775Z"
   },
   {
    "duration": 145,
    "start_time": "2022-12-06T04:57:54.924Z"
   },
   {
    "duration": 16,
    "start_time": "2022-12-06T04:57:55.070Z"
   },
   {
    "duration": 184,
    "start_time": "2022-12-06T04:57:55.088Z"
   },
   {
    "duration": 6,
    "start_time": "2022-12-06T04:57:55.274Z"
   },
   {
    "duration": 17,
    "start_time": "2022-12-06T04:57:55.282Z"
   },
   {
    "duration": 30,
    "start_time": "2022-12-06T04:57:55.301Z"
   },
   {
    "duration": 23,
    "start_time": "2022-12-06T04:57:55.332Z"
   },
   {
    "duration": 24,
    "start_time": "2022-12-06T04:57:55.357Z"
   },
   {
    "duration": 107,
    "start_time": "2022-12-06T04:57:55.382Z"
   },
   {
    "duration": 2,
    "start_time": "2022-12-06T04:57:55.490Z"
   },
   {
    "duration": 6,
    "start_time": "2022-12-06T04:57:55.494Z"
   },
   {
    "duration": 679,
    "start_time": "2022-12-06T04:57:55.501Z"
   },
   {
    "duration": 259,
    "start_time": "2022-12-06T04:57:56.182Z"
   },
   {
    "duration": 280,
    "start_time": "2022-12-06T04:57:56.443Z"
   },
   {
    "duration": 208,
    "start_time": "2022-12-06T04:57:56.725Z"
   },
   {
    "duration": 322,
    "start_time": "2022-12-06T04:57:56.934Z"
   },
   {
    "duration": 130,
    "start_time": "2022-12-06T04:57:57.258Z"
   },
   {
    "duration": 220,
    "start_time": "2022-12-06T04:57:57.389Z"
   },
   {
    "duration": 232,
    "start_time": "2022-12-06T04:57:57.611Z"
   },
   {
    "duration": 259,
    "start_time": "2022-12-06T04:57:57.844Z"
   },
   {
    "duration": 335,
    "start_time": "2022-12-06T04:57:58.105Z"
   },
   {
    "duration": 258,
    "start_time": "2022-12-06T04:57:58.442Z"
   },
   {
    "duration": 8,
    "start_time": "2022-12-06T04:57:58.702Z"
   },
   {
    "duration": 32,
    "start_time": "2022-12-06T04:57:58.721Z"
   },
   {
    "duration": 21,
    "start_time": "2022-12-06T04:57:58.755Z"
   },
   {
    "duration": 1434,
    "start_time": "2022-12-06T04:57:58.778Z"
   },
   {
    "duration": 187,
    "start_time": "2022-12-06T04:58:00.214Z"
   },
   {
    "duration": 22,
    "start_time": "2022-12-06T04:58:00.403Z"
   },
   {
    "duration": 4,
    "start_time": "2022-12-06T04:58:00.427Z"
   },
   {
    "duration": 27,
    "start_time": "2022-12-06T04:58:00.433Z"
   },
   {
    "duration": 60,
    "start_time": "2022-12-06T04:58:00.462Z"
   },
   {
    "duration": 220,
    "start_time": "2022-12-06T04:58:00.524Z"
   },
   {
    "duration": 4,
    "start_time": "2022-12-06T04:58:00.746Z"
   },
   {
    "duration": 43,
    "start_time": "2022-12-06T04:58:00.751Z"
   },
   {
    "duration": 157,
    "start_time": "2022-12-06T04:58:00.796Z"
   },
   {
    "duration": 32,
    "start_time": "2022-12-06T05:04:04.314Z"
   },
   {
    "duration": 166,
    "start_time": "2022-12-06T05:04:07.794Z"
   },
   {
    "duration": 496,
    "start_time": "2022-12-06T05:04:14.833Z"
   },
   {
    "duration": 19,
    "start_time": "2022-12-06T05:04:15.332Z"
   },
   {
    "duration": 96,
    "start_time": "2022-12-06T05:04:15.353Z"
   },
   {
    "duration": 32,
    "start_time": "2022-12-06T05:04:15.451Z"
   },
   {
    "duration": 13,
    "start_time": "2022-12-06T05:04:15.485Z"
   },
   {
    "duration": 24,
    "start_time": "2022-12-06T05:04:15.500Z"
   },
   {
    "duration": 10,
    "start_time": "2022-12-06T05:04:15.531Z"
   },
   {
    "duration": 17,
    "start_time": "2022-12-06T05:04:15.542Z"
   },
   {
    "duration": 2034,
    "start_time": "2022-12-06T05:04:15.560Z"
   },
   {
    "duration": 9,
    "start_time": "2022-12-06T05:04:17.597Z"
   },
   {
    "duration": 14,
    "start_time": "2022-12-06T05:04:17.608Z"
   },
   {
    "duration": 10,
    "start_time": "2022-12-06T05:04:17.624Z"
   },
   {
    "duration": 7,
    "start_time": "2022-12-06T05:04:17.636Z"
   },
   {
    "duration": 12,
    "start_time": "2022-12-06T05:04:17.644Z"
   },
   {
    "duration": 7,
    "start_time": "2022-12-06T05:04:17.657Z"
   },
   {
    "duration": 10,
    "start_time": "2022-12-06T05:04:17.666Z"
   },
   {
    "duration": 7,
    "start_time": "2022-12-06T05:04:17.677Z"
   },
   {
    "duration": 13,
    "start_time": "2022-12-06T05:04:17.686Z"
   },
   {
    "duration": 12,
    "start_time": "2022-12-06T05:04:17.700Z"
   },
   {
    "duration": 35,
    "start_time": "2022-12-06T05:04:17.713Z"
   },
   {
    "duration": 8,
    "start_time": "2022-12-06T05:04:17.750Z"
   },
   {
    "duration": 19,
    "start_time": "2022-12-06T05:04:17.760Z"
   },
   {
    "duration": 3,
    "start_time": "2022-12-06T05:04:17.780Z"
   },
   {
    "duration": 15,
    "start_time": "2022-12-06T05:04:17.784Z"
   },
   {
    "duration": 4,
    "start_time": "2022-12-06T05:04:17.800Z"
   },
   {
    "duration": 13,
    "start_time": "2022-12-06T05:04:17.805Z"
   },
   {
    "duration": 16,
    "start_time": "2022-12-06T05:04:17.819Z"
   },
   {
    "duration": 7,
    "start_time": "2022-12-06T05:04:17.840Z"
   },
   {
    "duration": 17,
    "start_time": "2022-12-06T05:04:17.849Z"
   },
   {
    "duration": 818,
    "start_time": "2022-12-06T05:04:17.867Z"
   },
   {
    "duration": 50,
    "start_time": "2022-12-06T05:04:18.686Z"
   },
   {
    "duration": 3,
    "start_time": "2022-12-06T05:04:18.738Z"
   },
   {
    "duration": 7,
    "start_time": "2022-12-06T05:04:18.742Z"
   },
   {
    "duration": 13,
    "start_time": "2022-12-06T05:04:18.750Z"
   },
   {
    "duration": 9,
    "start_time": "2022-12-06T05:04:18.764Z"
   },
   {
    "duration": 10,
    "start_time": "2022-12-06T05:04:18.774Z"
   },
   {
    "duration": 7,
    "start_time": "2022-12-06T05:04:18.785Z"
   },
   {
    "duration": 21,
    "start_time": "2022-12-06T05:04:18.793Z"
   },
   {
    "duration": 30,
    "start_time": "2022-12-06T05:04:18.815Z"
   },
   {
    "duration": 10,
    "start_time": "2022-12-06T05:04:18.846Z"
   },
   {
    "duration": 5,
    "start_time": "2022-12-06T05:04:18.857Z"
   },
   {
    "duration": 16,
    "start_time": "2022-12-06T05:04:18.863Z"
   },
   {
    "duration": 10,
    "start_time": "2022-12-06T05:04:18.881Z"
   },
   {
    "duration": 5,
    "start_time": "2022-12-06T05:04:18.892Z"
   },
   {
    "duration": 58,
    "start_time": "2022-12-06T05:04:18.899Z"
   },
   {
    "duration": 4,
    "start_time": "2022-12-06T05:04:18.959Z"
   },
   {
    "duration": 23,
    "start_time": "2022-12-06T05:04:18.964Z"
   },
   {
    "duration": 50,
    "start_time": "2022-12-06T05:04:18.988Z"
   },
   {
    "duration": 4,
    "start_time": "2022-12-06T05:04:19.040Z"
   },
   {
    "duration": 7,
    "start_time": "2022-12-06T05:04:19.045Z"
   },
   {
    "duration": 11,
    "start_time": "2022-12-06T05:04:19.054Z"
   },
   {
    "duration": 7,
    "start_time": "2022-12-06T05:04:19.067Z"
   },
   {
    "duration": 7,
    "start_time": "2022-12-06T05:04:19.076Z"
   },
   {
    "duration": 7,
    "start_time": "2022-12-06T05:04:19.084Z"
   },
   {
    "duration": 6,
    "start_time": "2022-12-06T05:04:19.092Z"
   },
   {
    "duration": 19,
    "start_time": "2022-12-06T05:04:19.099Z"
   },
   {
    "duration": 38,
    "start_time": "2022-12-06T05:04:19.130Z"
   },
   {
    "duration": 20,
    "start_time": "2022-12-06T05:04:19.170Z"
   },
   {
    "duration": 44,
    "start_time": "2022-12-06T05:04:19.192Z"
   },
   {
    "duration": 17,
    "start_time": "2022-12-06T05:04:19.238Z"
   },
   {
    "duration": 105,
    "start_time": "2022-12-06T05:04:19.257Z"
   },
   {
    "duration": 17,
    "start_time": "2022-12-06T05:04:19.364Z"
   },
   {
    "duration": 14,
    "start_time": "2022-12-06T05:04:19.382Z"
   },
   {
    "duration": 35,
    "start_time": "2022-12-06T05:04:19.397Z"
   },
   {
    "duration": 5,
    "start_time": "2022-12-06T05:04:19.433Z"
   },
   {
    "duration": 12,
    "start_time": "2022-12-06T05:04:19.440Z"
   },
   {
    "duration": 13,
    "start_time": "2022-12-06T05:04:19.454Z"
   },
   {
    "duration": 55,
    "start_time": "2022-12-06T05:04:19.468Z"
   },
   {
    "duration": 4,
    "start_time": "2022-12-06T05:04:19.524Z"
   },
   {
    "duration": 111,
    "start_time": "2022-12-06T05:04:19.531Z"
   },
   {
    "duration": 127,
    "start_time": "2022-12-06T05:04:19.643Z"
   },
   {
    "duration": 8,
    "start_time": "2022-12-06T05:04:19.772Z"
   },
   {
    "duration": 8,
    "start_time": "2022-12-06T05:04:19.781Z"
   },
   {
    "duration": 6,
    "start_time": "2022-12-06T05:04:19.791Z"
   },
   {
    "duration": 38,
    "start_time": "2022-12-06T05:04:19.798Z"
   },
   {
    "duration": 11,
    "start_time": "2022-12-06T05:04:19.838Z"
   },
   {
    "duration": 16,
    "start_time": "2022-12-06T05:04:19.850Z"
   },
   {
    "duration": 8,
    "start_time": "2022-12-06T05:04:19.868Z"
   },
   {
    "duration": 20,
    "start_time": "2022-12-06T05:04:19.877Z"
   },
   {
    "duration": 151,
    "start_time": "2022-12-06T05:04:19.899Z"
   },
   {
    "duration": 163,
    "start_time": "2022-12-06T05:04:20.052Z"
   },
   {
    "duration": 27,
    "start_time": "2022-12-06T05:04:20.226Z"
   },
   {
    "duration": 16,
    "start_time": "2022-12-06T05:04:20.255Z"
   },
   {
    "duration": 870,
    "start_time": "2022-12-06T05:04:20.273Z"
   },
   {
    "duration": 304,
    "start_time": "2022-12-06T05:04:21.145Z"
   },
   {
    "duration": 300,
    "start_time": "2022-12-06T05:04:21.450Z"
   },
   {
    "duration": 14,
    "start_time": "2022-12-06T05:04:21.752Z"
   },
   {
    "duration": 2,
    "start_time": "2022-12-06T05:04:21.768Z"
   },
   {
    "duration": 8,
    "start_time": "2022-12-06T05:04:21.771Z"
   },
   {
    "duration": 80,
    "start_time": "2022-12-06T05:04:21.780Z"
   },
   {
    "duration": 3,
    "start_time": "2022-12-06T05:04:21.862Z"
   },
   {
    "duration": 10,
    "start_time": "2022-12-06T05:04:21.866Z"
   },
   {
    "duration": 9,
    "start_time": "2022-12-06T05:04:21.877Z"
   },
   {
    "duration": 12,
    "start_time": "2022-12-06T05:04:21.887Z"
   },
   {
    "duration": 384,
    "start_time": "2022-12-06T05:04:21.900Z"
   },
   {
    "duration": 5,
    "start_time": "2022-12-06T05:04:22.285Z"
   },
   {
    "duration": 172,
    "start_time": "2022-12-06T05:04:22.291Z"
   },
   {
    "duration": 173,
    "start_time": "2022-12-06T05:04:22.464Z"
   },
   {
    "duration": 235,
    "start_time": "2022-12-06T05:04:22.638Z"
   },
   {
    "duration": 17,
    "start_time": "2022-12-06T05:04:22.874Z"
   },
   {
    "duration": 159,
    "start_time": "2022-12-06T05:04:22.893Z"
   },
   {
    "duration": 7,
    "start_time": "2022-12-06T05:04:23.054Z"
   },
   {
    "duration": 52,
    "start_time": "2022-12-06T05:04:23.062Z"
   },
   {
    "duration": 20,
    "start_time": "2022-12-06T05:04:23.116Z"
   },
   {
    "duration": 28,
    "start_time": "2022-12-06T05:04:23.137Z"
   },
   {
    "duration": 26,
    "start_time": "2022-12-06T05:04:23.167Z"
   },
   {
    "duration": 110,
    "start_time": "2022-12-06T05:04:23.194Z"
   },
   {
    "duration": 2,
    "start_time": "2022-12-06T05:04:23.306Z"
   },
   {
    "duration": 23,
    "start_time": "2022-12-06T05:04:23.309Z"
   },
   {
    "duration": 703,
    "start_time": "2022-12-06T05:04:23.334Z"
   },
   {
    "duration": 241,
    "start_time": "2022-12-06T05:04:24.038Z"
   },
   {
    "duration": 179,
    "start_time": "2022-12-06T05:04:24.281Z"
   },
   {
    "duration": 274,
    "start_time": "2022-12-06T05:04:24.461Z"
   },
   {
    "duration": 301,
    "start_time": "2022-12-06T05:04:24.737Z"
   },
   {
    "duration": 125,
    "start_time": "2022-12-06T05:04:25.039Z"
   },
   {
    "duration": 285,
    "start_time": "2022-12-06T05:04:25.167Z"
   },
   {
    "duration": 281,
    "start_time": "2022-12-06T05:04:25.454Z"
   },
   {
    "duration": 240,
    "start_time": "2022-12-06T05:04:25.737Z"
   },
   {
    "duration": 237,
    "start_time": "2022-12-06T05:04:25.978Z"
   },
   {
    "duration": 356,
    "start_time": "2022-12-06T05:04:26.217Z"
   },
   {
    "duration": 6,
    "start_time": "2022-12-06T05:04:26.575Z"
   },
   {
    "duration": 50,
    "start_time": "2022-12-06T05:04:26.583Z"
   },
   {
    "duration": 21,
    "start_time": "2022-12-06T05:04:26.635Z"
   },
   {
    "duration": 1408,
    "start_time": "2022-12-06T05:04:26.657Z"
   },
   {
    "duration": 190,
    "start_time": "2022-12-06T05:04:28.067Z"
   },
   {
    "duration": 15,
    "start_time": "2022-12-06T05:04:28.258Z"
   },
   {
    "duration": 10,
    "start_time": "2022-12-06T05:04:28.275Z"
   },
   {
    "duration": 14,
    "start_time": "2022-12-06T05:04:28.287Z"
   },
   {
    "duration": 13,
    "start_time": "2022-12-06T05:04:28.303Z"
   },
   {
    "duration": 199,
    "start_time": "2022-12-06T05:04:28.317Z"
   },
   {
    "duration": 8,
    "start_time": "2022-12-06T05:04:28.518Z"
   },
   {
    "duration": 16,
    "start_time": "2022-12-06T05:04:28.533Z"
   },
   {
    "duration": 166,
    "start_time": "2022-12-06T05:04:28.551Z"
   },
   {
    "duration": 7,
    "start_time": "2022-12-06T05:05:53.510Z"
   },
   {
    "duration": 5,
    "start_time": "2022-12-06T05:05:59.769Z"
   },
   {
    "duration": 48,
    "start_time": "2022-12-06T10:02:53.502Z"
   },
   {
    "duration": 441,
    "start_time": "2022-12-06T10:03:13.528Z"
   },
   {
    "duration": 136,
    "start_time": "2022-12-06T10:03:13.971Z"
   },
   {
    "duration": 13,
    "start_time": "2022-12-06T10:03:14.108Z"
   },
   {
    "duration": 73,
    "start_time": "2022-12-06T10:03:14.124Z"
   },
   {
    "duration": 34,
    "start_time": "2022-12-06T10:03:14.199Z"
   },
   {
    "duration": 36,
    "start_time": "2022-12-06T10:03:14.235Z"
   },
   {
    "duration": 4,
    "start_time": "2022-12-06T10:03:14.273Z"
   },
   {
    "duration": 24,
    "start_time": "2022-12-06T10:03:14.279Z"
   },
   {
    "duration": 13,
    "start_time": "2022-12-06T10:03:14.305Z"
   },
   {
    "duration": 2432,
    "start_time": "2022-12-06T10:03:14.321Z"
   },
   {
    "duration": 10,
    "start_time": "2022-12-06T10:03:16.755Z"
   },
   {
    "duration": 7,
    "start_time": "2022-12-06T10:03:16.767Z"
   },
   {
    "duration": 4,
    "start_time": "2022-12-06T10:03:16.776Z"
   },
   {
    "duration": 7,
    "start_time": "2022-12-06T10:03:16.781Z"
   },
   {
    "duration": 11,
    "start_time": "2022-12-06T10:03:16.790Z"
   },
   {
    "duration": 8,
    "start_time": "2022-12-06T10:03:16.802Z"
   },
   {
    "duration": 10,
    "start_time": "2022-12-06T10:03:16.811Z"
   },
   {
    "duration": 6,
    "start_time": "2022-12-06T10:03:16.823Z"
   },
   {
    "duration": 14,
    "start_time": "2022-12-06T10:03:16.830Z"
   },
   {
    "duration": 5,
    "start_time": "2022-12-06T10:03:16.846Z"
   },
   {
    "duration": 13,
    "start_time": "2022-12-06T10:03:16.852Z"
   },
   {
    "duration": 9,
    "start_time": "2022-12-06T10:03:16.866Z"
   },
   {
    "duration": 40,
    "start_time": "2022-12-06T10:03:16.877Z"
   },
   {
    "duration": 4,
    "start_time": "2022-12-06T10:03:16.919Z"
   },
   {
    "duration": 23,
    "start_time": "2022-12-06T10:03:16.924Z"
   },
   {
    "duration": 5,
    "start_time": "2022-12-06T10:03:16.949Z"
   },
   {
    "duration": 14,
    "start_time": "2022-12-06T10:03:16.956Z"
   },
   {
    "duration": 10,
    "start_time": "2022-12-06T10:03:16.976Z"
   },
   {
    "duration": 27,
    "start_time": "2022-12-06T10:03:16.988Z"
   },
   {
    "duration": 17,
    "start_time": "2022-12-06T10:03:17.017Z"
   },
   {
    "duration": 796,
    "start_time": "2022-12-06T10:03:17.036Z"
   },
   {
    "duration": 43,
    "start_time": "2022-12-06T10:03:17.834Z"
   },
   {
    "duration": 3,
    "start_time": "2022-12-06T10:03:17.879Z"
   },
   {
    "duration": 9,
    "start_time": "2022-12-06T10:03:17.883Z"
   },
   {
    "duration": 19,
    "start_time": "2022-12-06T10:03:17.894Z"
   },
   {
    "duration": 5,
    "start_time": "2022-12-06T10:03:17.915Z"
   },
   {
    "duration": 7,
    "start_time": "2022-12-06T10:03:17.921Z"
   },
   {
    "duration": 9,
    "start_time": "2022-12-06T10:03:17.930Z"
   },
   {
    "duration": 22,
    "start_time": "2022-12-06T10:03:17.940Z"
   },
   {
    "duration": 14,
    "start_time": "2022-12-06T10:03:17.964Z"
   },
   {
    "duration": 34,
    "start_time": "2022-12-06T10:03:17.979Z"
   },
   {
    "duration": 6,
    "start_time": "2022-12-06T10:03:18.015Z"
   },
   {
    "duration": 18,
    "start_time": "2022-12-06T10:03:18.022Z"
   },
   {
    "duration": 10,
    "start_time": "2022-12-06T10:03:18.041Z"
   },
   {
    "duration": 5,
    "start_time": "2022-12-06T10:03:18.053Z"
   },
   {
    "duration": 78,
    "start_time": "2022-12-06T10:03:18.059Z"
   },
   {
    "duration": 5,
    "start_time": "2022-12-06T10:03:18.139Z"
   },
   {
    "duration": 32,
    "start_time": "2022-12-06T10:03:18.145Z"
   },
   {
    "duration": 21,
    "start_time": "2022-12-06T10:03:18.179Z"
   },
   {
    "duration": 12,
    "start_time": "2022-12-06T10:03:18.202Z"
   },
   {
    "duration": 10,
    "start_time": "2022-12-06T10:03:18.215Z"
   },
   {
    "duration": 12,
    "start_time": "2022-12-06T10:03:18.227Z"
   },
   {
    "duration": 10,
    "start_time": "2022-12-06T10:03:18.241Z"
   },
   {
    "duration": 15,
    "start_time": "2022-12-06T10:03:18.253Z"
   },
   {
    "duration": 11,
    "start_time": "2022-12-06T10:03:18.269Z"
   },
   {
    "duration": 13,
    "start_time": "2022-12-06T10:03:18.282Z"
   },
   {
    "duration": 17,
    "start_time": "2022-12-06T10:03:18.297Z"
   },
   {
    "duration": 28,
    "start_time": "2022-12-06T10:03:18.316Z"
   },
   {
    "duration": 23,
    "start_time": "2022-12-06T10:03:18.345Z"
   },
   {
    "duration": 48,
    "start_time": "2022-12-06T10:03:18.369Z"
   },
   {
    "duration": 17,
    "start_time": "2022-12-06T10:03:18.419Z"
   },
   {
    "duration": 111,
    "start_time": "2022-12-06T10:03:18.438Z"
   },
   {
    "duration": 17,
    "start_time": "2022-12-06T10:03:18.550Z"
   },
   {
    "duration": 15,
    "start_time": "2022-12-06T10:03:18.568Z"
   },
   {
    "duration": 36,
    "start_time": "2022-12-06T10:03:18.585Z"
   },
   {
    "duration": 4,
    "start_time": "2022-12-06T10:03:18.622Z"
   },
   {
    "duration": 11,
    "start_time": "2022-12-06T10:03:18.628Z"
   },
   {
    "duration": 15,
    "start_time": "2022-12-06T10:03:18.641Z"
   },
   {
    "duration": 62,
    "start_time": "2022-12-06T10:03:18.658Z"
   },
   {
    "duration": 2,
    "start_time": "2022-12-06T10:03:18.722Z"
   },
   {
    "duration": 119,
    "start_time": "2022-12-06T10:03:18.726Z"
   },
   {
    "duration": 144,
    "start_time": "2022-12-06T10:03:18.846Z"
   },
   {
    "duration": 22,
    "start_time": "2022-12-06T10:03:18.992Z"
   },
   {
    "duration": 8,
    "start_time": "2022-12-06T10:03:19.016Z"
   },
   {
    "duration": 5,
    "start_time": "2022-12-06T10:03:19.026Z"
   },
   {
    "duration": 7,
    "start_time": "2022-12-06T10:03:19.033Z"
   },
   {
    "duration": 11,
    "start_time": "2022-12-06T10:03:19.042Z"
   },
   {
    "duration": 21,
    "start_time": "2022-12-06T10:03:19.055Z"
   },
   {
    "duration": 10,
    "start_time": "2022-12-06T10:03:19.077Z"
   },
   {
    "duration": 46,
    "start_time": "2022-12-06T10:03:19.089Z"
   },
   {
    "duration": 169,
    "start_time": "2022-12-06T10:03:19.137Z"
   },
   {
    "duration": 176,
    "start_time": "2022-12-06T10:03:19.317Z"
   },
   {
    "duration": 31,
    "start_time": "2022-12-06T10:03:19.495Z"
   },
   {
    "duration": 19,
    "start_time": "2022-12-06T10:03:19.529Z"
   },
   {
    "duration": 960,
    "start_time": "2022-12-06T10:03:19.550Z"
   },
   {
    "duration": 325,
    "start_time": "2022-12-06T10:03:20.513Z"
   },
   {
    "duration": 308,
    "start_time": "2022-12-06T10:03:20.840Z"
   },
   {
    "duration": 15,
    "start_time": "2022-12-06T10:03:21.150Z"
   },
   {
    "duration": 3,
    "start_time": "2022-12-06T10:03:21.167Z"
   },
   {
    "duration": 6,
    "start_time": "2022-12-06T10:03:21.172Z"
   },
   {
    "duration": 8,
    "start_time": "2022-12-06T10:03:21.180Z"
   },
   {
    "duration": 8,
    "start_time": "2022-12-06T10:03:21.212Z"
   },
   {
    "duration": 6,
    "start_time": "2022-12-06T10:03:21.222Z"
   },
   {
    "duration": 7,
    "start_time": "2022-12-06T10:03:21.229Z"
   },
   {
    "duration": 457,
    "start_time": "2022-12-06T10:03:21.238Z"
   },
   {
    "duration": 5,
    "start_time": "2022-12-06T10:03:21.697Z"
   },
   {
    "duration": 173,
    "start_time": "2022-12-06T10:03:21.704Z"
   },
   {
    "duration": 167,
    "start_time": "2022-12-06T10:03:21.880Z"
   },
   {
    "duration": 171,
    "start_time": "2022-12-06T10:03:22.049Z"
   },
   {
    "duration": 20,
    "start_time": "2022-12-06T10:03:22.222Z"
   },
   {
    "duration": 181,
    "start_time": "2022-12-06T10:03:22.244Z"
   },
   {
    "duration": 8,
    "start_time": "2022-12-06T10:03:22.428Z"
   },
   {
    "duration": 19,
    "start_time": "2022-12-06T10:03:22.438Z"
   },
   {
    "duration": 18,
    "start_time": "2022-12-06T10:03:22.459Z"
   },
   {
    "duration": 59,
    "start_time": "2022-12-06T10:03:22.479Z"
   },
   {
    "duration": 29,
    "start_time": "2022-12-06T10:03:22.540Z"
   },
   {
    "duration": 111,
    "start_time": "2022-12-06T10:03:22.571Z"
   },
   {
    "duration": 3,
    "start_time": "2022-12-06T10:03:22.683Z"
   },
   {
    "duration": 7,
    "start_time": "2022-12-06T10:03:22.687Z"
   },
   {
    "duration": 801,
    "start_time": "2022-12-06T10:03:22.696Z"
   },
   {
    "duration": 287,
    "start_time": "2022-12-06T10:03:23.498Z"
   },
   {
    "duration": 288,
    "start_time": "2022-12-06T10:03:23.787Z"
   },
   {
    "duration": 200,
    "start_time": "2022-12-06T10:03:24.078Z"
   },
   {
    "duration": 343,
    "start_time": "2022-12-06T10:03:24.280Z"
   },
   {
    "duration": 141,
    "start_time": "2022-12-06T10:03:24.625Z"
   },
   {
    "duration": 248,
    "start_time": "2022-12-06T10:03:24.767Z"
   },
   {
    "duration": 256,
    "start_time": "2022-12-06T10:03:25.016Z"
   },
   {
    "duration": 262,
    "start_time": "2022-12-06T10:03:25.273Z"
   },
   {
    "duration": 362,
    "start_time": "2022-12-06T10:03:25.537Z"
   },
   {
    "duration": 286,
    "start_time": "2022-12-06T10:03:25.901Z"
   },
   {
    "duration": 6,
    "start_time": "2022-12-06T10:03:26.189Z"
   },
   {
    "duration": 47,
    "start_time": "2022-12-06T10:03:26.197Z"
   },
   {
    "duration": 20,
    "start_time": "2022-12-06T10:03:26.245Z"
   },
   {
    "duration": 1453,
    "start_time": "2022-12-06T10:03:26.267Z"
   },
   {
    "duration": 193,
    "start_time": "2022-12-06T10:03:27.722Z"
   },
   {
    "duration": 18,
    "start_time": "2022-12-06T10:03:27.917Z"
   },
   {
    "duration": 2,
    "start_time": "2022-12-06T10:03:27.937Z"
   },
   {
    "duration": 14,
    "start_time": "2022-12-06T10:03:27.941Z"
   },
   {
    "duration": 26,
    "start_time": "2022-12-06T10:03:27.957Z"
   },
   {
    "duration": 204,
    "start_time": "2022-12-06T10:03:27.985Z"
   },
   {
    "duration": 5,
    "start_time": "2022-12-06T10:03:28.192Z"
   },
   {
    "duration": 23,
    "start_time": "2022-12-06T10:03:28.199Z"
   },
   {
    "duration": 175,
    "start_time": "2022-12-06T10:03:28.224Z"
   },
   {
    "duration": 4,
    "start_time": "2022-12-06T10:03:41.492Z"
   },
   {
    "duration": 3,
    "start_time": "2022-12-06T10:03:44.381Z"
   },
   {
    "duration": 3,
    "start_time": "2022-12-06T10:03:56.013Z"
   },
   {
    "duration": 39,
    "start_time": "2022-12-06T10:04:10.739Z"
   },
   {
    "duration": 3,
    "start_time": "2022-12-06T10:43:17.176Z"
   },
   {
    "duration": 5,
    "start_time": "2022-12-06T10:43:17.182Z"
   },
   {
    "duration": 8,
    "start_time": "2022-12-06T10:43:17.189Z"
   },
   {
    "duration": 10,
    "start_time": "2022-12-06T10:43:17.198Z"
   },
   {
    "duration": 108,
    "start_time": "2022-12-06T10:43:17.209Z"
   },
   {
    "duration": 26,
    "start_time": "2022-12-06T10:43:17.318Z"
   },
   {
    "duration": 30,
    "start_time": "2022-12-06T10:43:17.346Z"
   },
   {
    "duration": 61,
    "start_time": "2022-12-06T10:43:17.378Z"
   },
   {
    "duration": 14,
    "start_time": "2022-12-06T10:43:17.441Z"
   },
   {
    "duration": 109,
    "start_time": "2022-12-06T10:43:17.458Z"
   },
   {
    "duration": 14,
    "start_time": "2022-12-06T10:43:17.569Z"
   },
   {
    "duration": 30,
    "start_time": "2022-12-06T10:43:17.585Z"
   },
   {
    "duration": 15,
    "start_time": "2022-12-06T10:43:17.617Z"
   },
   {
    "duration": 8,
    "start_time": "2022-12-06T10:43:17.634Z"
   },
   {
    "duration": 11,
    "start_time": "2022-12-06T10:43:17.644Z"
   },
   {
    "duration": 12,
    "start_time": "2022-12-06T10:43:17.657Z"
   },
   {
    "duration": 55,
    "start_time": "2022-12-06T10:43:17.671Z"
   },
   {
    "duration": 3,
    "start_time": "2022-12-06T10:43:17.728Z"
   },
   {
    "duration": 122,
    "start_time": "2022-12-06T10:43:17.732Z"
   },
   {
    "duration": 123,
    "start_time": "2022-12-06T10:43:17.856Z"
   },
   {
    "duration": 9,
    "start_time": "2022-12-06T10:43:17.980Z"
   },
   {
    "duration": 18,
    "start_time": "2022-12-06T10:43:17.992Z"
   },
   {
    "duration": 18,
    "start_time": "2022-12-06T10:43:18.012Z"
   },
   {
    "duration": 19,
    "start_time": "2022-12-06T10:43:18.035Z"
   },
   {
    "duration": 14,
    "start_time": "2022-12-06T10:43:18.056Z"
   },
   {
    "duration": 31,
    "start_time": "2022-12-06T10:43:18.072Z"
   },
   {
    "duration": 12,
    "start_time": "2022-12-06T10:43:18.104Z"
   },
   {
    "duration": 34,
    "start_time": "2022-12-06T10:43:18.117Z"
   },
   {
    "duration": 141,
    "start_time": "2022-12-06T10:43:18.153Z"
   },
   {
    "duration": 149,
    "start_time": "2022-12-06T10:43:18.295Z"
   },
   {
    "duration": 19,
    "start_time": "2022-12-06T10:43:18.445Z"
   },
   {
    "duration": 15,
    "start_time": "2022-12-06T10:43:18.465Z"
   },
   {
    "duration": 295,
    "start_time": "2022-12-06T10:43:18.481Z"
   },
   {
    "duration": 297,
    "start_time": "2022-12-06T10:43:18.778Z"
   },
   {
    "duration": 292,
    "start_time": "2022-12-06T10:43:19.077Z"
   },
   {
    "duration": 13,
    "start_time": "2022-12-06T10:43:19.371Z"
   },
   {
    "duration": 2,
    "start_time": "2022-12-06T10:43:19.386Z"
   },
   {
    "duration": 23,
    "start_time": "2022-12-06T10:43:19.390Z"
   },
   {
    "duration": 4,
    "start_time": "2022-12-06T10:43:19.415Z"
   },
   {
    "duration": 9,
    "start_time": "2022-12-06T10:43:19.420Z"
   },
   {
    "duration": 7,
    "start_time": "2022-12-06T10:43:19.431Z"
   },
   {
    "duration": 5,
    "start_time": "2022-12-06T10:43:19.439Z"
   },
   {
    "duration": 2,
    "start_time": "2022-12-06T10:43:26.333Z"
   },
   {
    "duration": 76,
    "start_time": "2022-12-06T10:43:26.337Z"
   },
   {
    "duration": 6,
    "start_time": "2022-12-06T10:43:26.414Z"
   },
   {
    "duration": 68,
    "start_time": "2022-12-06T10:43:26.421Z"
   },
   {
    "duration": 32,
    "start_time": "2022-12-06T10:43:26.491Z"
   },
   {
    "duration": 17,
    "start_time": "2022-12-06T10:43:26.524Z"
   },
   {
    "duration": 4,
    "start_time": "2022-12-06T10:43:26.543Z"
   },
   {
    "duration": 6,
    "start_time": "2022-12-06T10:43:26.549Z"
   },
   {
    "duration": 6,
    "start_time": "2022-12-06T10:43:26.557Z"
   },
   {
    "duration": 1937,
    "start_time": "2022-12-06T10:43:26.564Z"
   },
   {
    "duration": 16,
    "start_time": "2022-12-06T10:43:28.503Z"
   },
   {
    "duration": 9,
    "start_time": "2022-12-06T10:43:28.521Z"
   },
   {
    "duration": 2,
    "start_time": "2022-12-06T10:43:28.532Z"
   },
   {
    "duration": 8,
    "start_time": "2022-12-06T10:43:28.536Z"
   },
   {
    "duration": 11,
    "start_time": "2022-12-06T10:43:28.546Z"
   },
   {
    "duration": 7,
    "start_time": "2022-12-06T10:43:28.559Z"
   },
   {
    "duration": 15,
    "start_time": "2022-12-06T10:43:28.568Z"
   },
   {
    "duration": 5,
    "start_time": "2022-12-06T10:43:28.584Z"
   },
   {
    "duration": 31,
    "start_time": "2022-12-06T10:43:28.591Z"
   },
   {
    "duration": 5,
    "start_time": "2022-12-06T10:43:28.624Z"
   },
   {
    "duration": 11,
    "start_time": "2022-12-06T10:43:28.631Z"
   },
   {
    "duration": 8,
    "start_time": "2022-12-06T10:43:28.644Z"
   },
   {
    "duration": 16,
    "start_time": "2022-12-06T10:43:28.654Z"
   },
   {
    "duration": 3,
    "start_time": "2022-12-06T10:43:28.672Z"
   },
   {
    "duration": 39,
    "start_time": "2022-12-06T10:43:28.676Z"
   },
   {
    "duration": 4,
    "start_time": "2022-12-06T10:43:28.717Z"
   },
   {
    "duration": 12,
    "start_time": "2022-12-06T10:43:28.722Z"
   },
   {
    "duration": 10,
    "start_time": "2022-12-06T10:43:28.735Z"
   },
   {
    "duration": 3,
    "start_time": "2022-12-06T10:43:28.747Z"
   },
   {
    "duration": 13,
    "start_time": "2022-12-06T10:43:28.752Z"
   },
   {
    "duration": 824,
    "start_time": "2022-12-06T10:43:28.766Z"
   },
   {
    "duration": 43,
    "start_time": "2022-12-06T10:43:29.592Z"
   },
   {
    "duration": 3,
    "start_time": "2022-12-06T10:43:29.637Z"
   },
   {
    "duration": 4,
    "start_time": "2022-12-06T10:43:29.642Z"
   },
   {
    "duration": 8,
    "start_time": "2022-12-06T10:43:29.648Z"
   },
   {
    "duration": 7,
    "start_time": "2022-12-06T10:43:29.657Z"
   },
   {
    "duration": 5,
    "start_time": "2022-12-06T10:43:29.666Z"
   },
   {
    "duration": 7,
    "start_time": "2022-12-06T10:43:29.673Z"
   },
   {
    "duration": 33,
    "start_time": "2022-12-06T10:43:29.681Z"
   },
   {
    "duration": 13,
    "start_time": "2022-12-06T10:43:29.716Z"
   },
   {
    "duration": 10,
    "start_time": "2022-12-06T10:43:29.730Z"
   },
   {
    "duration": 5,
    "start_time": "2022-12-06T10:43:29.742Z"
   },
   {
    "duration": 14,
    "start_time": "2022-12-06T10:43:29.748Z"
   },
   {
    "duration": 8,
    "start_time": "2022-12-06T10:43:29.764Z"
   },
   {
    "duration": 5,
    "start_time": "2022-12-06T10:43:29.774Z"
   },
   {
    "duration": 43,
    "start_time": "2022-12-06T10:43:29.813Z"
   },
   {
    "duration": 5,
    "start_time": "2022-12-06T10:43:29.858Z"
   },
   {
    "duration": 24,
    "start_time": "2022-12-06T10:43:29.864Z"
   },
   {
    "duration": 44,
    "start_time": "2022-12-06T10:43:29.889Z"
   },
   {
    "duration": 4,
    "start_time": "2022-12-06T10:43:29.934Z"
   },
   {
    "duration": 5,
    "start_time": "2022-12-06T10:43:29.940Z"
   },
   {
    "duration": 6,
    "start_time": "2022-12-06T10:43:29.946Z"
   },
   {
    "duration": 68,
    "start_time": "2022-12-06T10:43:29.953Z"
   },
   {
    "duration": 3,
    "start_time": "2022-12-06T10:43:30.022Z"
   },
   {
    "duration": 12,
    "start_time": "2022-12-06T10:43:30.026Z"
   },
   {
    "duration": 7,
    "start_time": "2022-12-06T10:43:30.040Z"
   },
   {
    "duration": 4,
    "start_time": "2022-12-06T10:43:30.049Z"
   },
   {
    "duration": 12,
    "start_time": "2022-12-06T10:43:30.055Z"
   },
   {
    "duration": 23,
    "start_time": "2022-12-06T10:43:30.069Z"
   },
   {
    "duration": 30,
    "start_time": "2022-12-06T10:43:30.114Z"
   },
   {
    "duration": 47,
    "start_time": "2022-12-06T10:43:30.145Z"
   },
   {
    "duration": 31,
    "start_time": "2022-12-06T10:43:30.194Z"
   },
   {
    "duration": 102,
    "start_time": "2022-12-06T10:43:30.227Z"
   },
   {
    "duration": 15,
    "start_time": "2022-12-06T10:43:30.331Z"
   },
   {
    "duration": 13,
    "start_time": "2022-12-06T10:43:30.348Z"
   },
   {
    "duration": 17,
    "start_time": "2022-12-06T10:43:30.363Z"
   },
   {
    "duration": 24,
    "start_time": "2022-12-06T10:43:30.382Z"
   },
   {
    "duration": 18,
    "start_time": "2022-12-06T10:43:30.408Z"
   },
   {
    "duration": 16,
    "start_time": "2022-12-06T10:43:30.428Z"
   },
   {
    "duration": 47,
    "start_time": "2022-12-06T10:43:30.446Z"
   },
   {
    "duration": 3,
    "start_time": "2022-12-06T10:43:30.495Z"
   },
   {
    "duration": 150,
    "start_time": "2022-12-06T10:43:30.500Z"
   },
   {
    "duration": 140,
    "start_time": "2022-12-06T10:43:30.652Z"
   },
   {
    "duration": 8,
    "start_time": "2022-12-06T10:43:30.794Z"
   },
   {
    "duration": 8,
    "start_time": "2022-12-06T10:43:30.813Z"
   },
   {
    "duration": 35,
    "start_time": "2022-12-06T10:43:30.822Z"
   },
   {
    "duration": 29,
    "start_time": "2022-12-06T10:43:30.859Z"
   },
   {
    "duration": 20,
    "start_time": "2022-12-06T10:43:30.890Z"
   },
   {
    "duration": 28,
    "start_time": "2022-12-06T10:43:30.912Z"
   },
   {
    "duration": 12,
    "start_time": "2022-12-06T10:43:30.943Z"
   },
   {
    "duration": 43,
    "start_time": "2022-12-06T10:43:30.957Z"
   },
   {
    "duration": 149,
    "start_time": "2022-12-06T10:43:31.001Z"
   },
   {
    "duration": 269,
    "start_time": "2022-12-06T10:43:31.152Z"
   },
   {
    "duration": 22,
    "start_time": "2022-12-06T10:43:31.423Z"
   },
   {
    "duration": 20,
    "start_time": "2022-12-06T10:43:31.446Z"
   },
   {
    "duration": 375,
    "start_time": "2022-12-06T10:43:31.468Z"
   },
   {
    "duration": 319,
    "start_time": "2022-12-06T10:43:31.845Z"
   },
   {
    "duration": 336,
    "start_time": "2022-12-06T10:43:32.166Z"
   },
   {
    "duration": 15,
    "start_time": "2022-12-06T10:43:32.504Z"
   },
   {
    "duration": 2,
    "start_time": "2022-12-06T10:43:32.521Z"
   },
   {
    "duration": 8,
    "start_time": "2022-12-06T10:43:32.525Z"
   },
   {
    "duration": 7,
    "start_time": "2022-12-06T10:43:32.534Z"
   },
   {
    "duration": 7,
    "start_time": "2022-12-06T10:43:32.543Z"
   },
   {
    "duration": 7,
    "start_time": "2022-12-06T10:43:32.552Z"
   },
   {
    "duration": 7,
    "start_time": "2022-12-06T10:43:32.560Z"
   },
   {
    "duration": 450,
    "start_time": "2022-12-06T10:43:32.569Z"
   },
   {
    "duration": 5,
    "start_time": "2022-12-06T10:43:33.021Z"
   },
   {
    "duration": 164,
    "start_time": "2022-12-06T10:43:33.028Z"
   },
   {
    "duration": 157,
    "start_time": "2022-12-06T10:43:33.193Z"
   },
   {
    "duration": 166,
    "start_time": "2022-12-06T10:43:33.352Z"
   },
   {
    "duration": 19,
    "start_time": "2022-12-06T10:43:33.520Z"
   },
   {
    "duration": 173,
    "start_time": "2022-12-06T10:43:33.540Z"
   },
   {
    "duration": 7,
    "start_time": "2022-12-06T10:43:33.714Z"
   },
   {
    "duration": 18,
    "start_time": "2022-12-06T10:43:33.723Z"
   },
   {
    "duration": 18,
    "start_time": "2022-12-06T10:43:33.743Z"
   },
   {
    "duration": 25,
    "start_time": "2022-12-06T10:43:33.762Z"
   },
   {
    "duration": 38,
    "start_time": "2022-12-06T10:43:33.813Z"
   },
   {
    "duration": 112,
    "start_time": "2022-12-06T10:43:33.853Z"
   },
   {
    "duration": 2,
    "start_time": "2022-12-06T10:43:33.967Z"
   },
   {
    "duration": 7,
    "start_time": "2022-12-06T10:43:33.971Z"
   },
   {
    "duration": 852,
    "start_time": "2022-12-06T10:43:33.988Z"
   },
   {
    "duration": 265,
    "start_time": "2022-12-06T10:43:34.842Z"
   },
   {
    "duration": 169,
    "start_time": "2022-12-06T10:43:35.112Z"
   },
   {
    "duration": 190,
    "start_time": "2022-12-06T10:43:35.282Z"
   },
   {
    "duration": 307,
    "start_time": "2022-12-06T10:43:35.474Z"
   },
   {
    "duration": 123,
    "start_time": "2022-12-06T10:43:35.782Z"
   },
   {
    "duration": 240,
    "start_time": "2022-12-06T10:43:35.907Z"
   },
   {
    "duration": 380,
    "start_time": "2022-12-06T10:43:36.148Z"
   },
   {
    "duration": 254,
    "start_time": "2022-12-06T10:43:36.530Z"
   },
   {
    "duration": 270,
    "start_time": "2022-12-06T10:43:36.785Z"
   },
   {
    "duration": 270,
    "start_time": "2022-12-06T10:43:37.057Z"
   },
   {
    "duration": 7,
    "start_time": "2022-12-06T10:43:37.328Z"
   },
   {
    "duration": 31,
    "start_time": "2022-12-06T10:43:37.337Z"
   },
   {
    "duration": 52,
    "start_time": "2022-12-06T10:43:37.370Z"
   },
   {
    "duration": 1470,
    "start_time": "2022-12-06T10:43:37.424Z"
   },
   {
    "duration": 196,
    "start_time": "2022-12-06T10:43:38.896Z"
   },
   {
    "duration": 21,
    "start_time": "2022-12-06T10:43:39.093Z"
   },
   {
    "duration": 2,
    "start_time": "2022-12-06T10:43:39.115Z"
   },
   {
    "duration": 6,
    "start_time": "2022-12-06T10:43:39.119Z"
   },
   {
    "duration": 14,
    "start_time": "2022-12-06T10:43:39.126Z"
   },
   {
    "duration": 193,
    "start_time": "2022-12-06T10:43:39.142Z"
   },
   {
    "duration": 4,
    "start_time": "2022-12-06T10:43:39.336Z"
   },
   {
    "duration": 14,
    "start_time": "2022-12-06T10:43:39.342Z"
   },
   {
    "duration": 176,
    "start_time": "2022-12-06T10:43:39.358Z"
   },
   {
    "duration": 17,
    "start_time": "2022-12-06T10:44:13.228Z"
   },
   {
    "duration": 25,
    "start_time": "2022-12-06T10:44:16.964Z"
   },
   {
    "duration": 5,
    "start_time": "2022-12-06T10:46:56.724Z"
   },
   {
    "duration": 21,
    "start_time": "2022-12-06T10:46:59.473Z"
   },
   {
    "duration": 4,
    "start_time": "2022-12-06T10:49:11.195Z"
   },
   {
    "duration": 281,
    "start_time": "2022-12-06T10:49:12.770Z"
   },
   {
    "duration": 271,
    "start_time": "2022-12-06T10:49:23.291Z"
   },
   {
    "duration": 276,
    "start_time": "2022-12-06T10:49:31.915Z"
   },
   {
    "duration": 5,
    "start_time": "2022-12-06T10:50:13.755Z"
   },
   {
    "duration": 10,
    "start_time": "2022-12-06T10:50:15.274Z"
   },
   {
    "duration": 160,
    "start_time": "2022-12-06T10:50:17.171Z"
   },
   {
    "duration": 4,
    "start_time": "2022-12-06T10:51:06.791Z"
   },
   {
    "duration": 81,
    "start_time": "2022-12-06T10:51:06.797Z"
   },
   {
    "duration": 7,
    "start_time": "2022-12-06T10:51:06.880Z"
   },
   {
    "duration": 90,
    "start_time": "2022-12-06T10:51:06.889Z"
   },
   {
    "duration": 55,
    "start_time": "2022-12-06T10:51:06.982Z"
   },
   {
    "duration": 18,
    "start_time": "2022-12-06T10:51:07.039Z"
   },
   {
    "duration": 4,
    "start_time": "2022-12-06T10:51:07.060Z"
   },
   {
    "duration": 8,
    "start_time": "2022-12-06T10:51:07.066Z"
   },
   {
    "duration": 43,
    "start_time": "2022-12-06T10:51:07.075Z"
   },
   {
    "duration": 1989,
    "start_time": "2022-12-06T10:51:07.120Z"
   },
   {
    "duration": 8,
    "start_time": "2022-12-06T10:51:09.112Z"
   },
   {
    "duration": 8,
    "start_time": "2022-12-06T10:51:09.122Z"
   },
   {
    "duration": 3,
    "start_time": "2022-12-06T10:51:09.131Z"
   },
   {
    "duration": 8,
    "start_time": "2022-12-06T10:51:09.135Z"
   },
   {
    "duration": 11,
    "start_time": "2022-12-06T10:51:09.144Z"
   },
   {
    "duration": 6,
    "start_time": "2022-12-06T10:51:09.157Z"
   },
   {
    "duration": 7,
    "start_time": "2022-12-06T10:51:09.164Z"
   },
   {
    "duration": 6,
    "start_time": "2022-12-06T10:51:09.172Z"
   },
   {
    "duration": 43,
    "start_time": "2022-12-06T10:51:09.180Z"
   },
   {
    "duration": 6,
    "start_time": "2022-12-06T10:51:09.225Z"
   },
   {
    "duration": 13,
    "start_time": "2022-12-06T10:51:09.233Z"
   },
   {
    "duration": 9,
    "start_time": "2022-12-06T10:51:09.248Z"
   },
   {
    "duration": 18,
    "start_time": "2022-12-06T10:51:09.258Z"
   },
   {
    "duration": 4,
    "start_time": "2022-12-06T10:51:09.277Z"
   },
   {
    "duration": 38,
    "start_time": "2022-12-06T10:51:09.283Z"
   },
   {
    "duration": 4,
    "start_time": "2022-12-06T10:51:09.323Z"
   },
   {
    "duration": 13,
    "start_time": "2022-12-06T10:51:09.329Z"
   },
   {
    "duration": 9,
    "start_time": "2022-12-06T10:51:09.344Z"
   },
   {
    "duration": 3,
    "start_time": "2022-12-06T10:51:09.357Z"
   },
   {
    "duration": 12,
    "start_time": "2022-12-06T10:51:09.362Z"
   },
   {
    "duration": 814,
    "start_time": "2022-12-06T10:51:09.376Z"
   },
   {
    "duration": 47,
    "start_time": "2022-12-06T10:51:10.193Z"
   },
   {
    "duration": 4,
    "start_time": "2022-12-06T10:51:10.242Z"
   },
   {
    "duration": 30,
    "start_time": "2022-12-06T10:51:10.248Z"
   },
   {
    "duration": 10,
    "start_time": "2022-12-06T10:51:10.279Z"
   },
   {
    "duration": 17,
    "start_time": "2022-12-06T10:51:10.290Z"
   },
   {
    "duration": 7,
    "start_time": "2022-12-06T10:51:10.309Z"
   },
   {
    "duration": 8,
    "start_time": "2022-12-06T10:51:10.318Z"
   },
   {
    "duration": 34,
    "start_time": "2022-12-06T10:51:10.327Z"
   },
   {
    "duration": 17,
    "start_time": "2022-12-06T10:51:10.363Z"
   },
   {
    "duration": 12,
    "start_time": "2022-12-06T10:51:10.382Z"
   },
   {
    "duration": 22,
    "start_time": "2022-12-06T10:51:10.397Z"
   },
   {
    "duration": 23,
    "start_time": "2022-12-06T10:51:10.422Z"
   },
   {
    "duration": 11,
    "start_time": "2022-12-06T10:51:10.447Z"
   },
   {
    "duration": 11,
    "start_time": "2022-12-06T10:51:10.460Z"
   },
   {
    "duration": 73,
    "start_time": "2022-12-06T10:51:10.473Z"
   },
   {
    "duration": 4,
    "start_time": "2022-12-06T10:51:10.547Z"
   },
   {
    "duration": 29,
    "start_time": "2022-12-06T10:51:10.553Z"
   },
   {
    "duration": 30,
    "start_time": "2022-12-06T10:51:10.584Z"
   },
   {
    "duration": 3,
    "start_time": "2022-12-06T10:51:10.616Z"
   },
   {
    "duration": 7,
    "start_time": "2022-12-06T10:51:10.620Z"
   },
   {
    "duration": 16,
    "start_time": "2022-12-06T10:51:10.628Z"
   },
   {
    "duration": 7,
    "start_time": "2022-12-06T10:51:10.645Z"
   },
   {
    "duration": 11,
    "start_time": "2022-12-06T10:51:10.653Z"
   },
   {
    "duration": 23,
    "start_time": "2022-12-06T10:51:10.666Z"
   },
   {
    "duration": 46,
    "start_time": "2022-12-06T10:51:10.691Z"
   },
   {
    "duration": 35,
    "start_time": "2022-12-06T10:51:10.739Z"
   },
   {
    "duration": 17,
    "start_time": "2022-12-06T10:51:10.775Z"
   },
   {
    "duration": 109,
    "start_time": "2022-12-06T10:51:10.812Z"
   },
   {
    "duration": 17,
    "start_time": "2022-12-06T10:51:10.923Z"
   },
   {
    "duration": 15,
    "start_time": "2022-12-06T10:51:10.942Z"
   },
   {
    "duration": 23,
    "start_time": "2022-12-06T10:51:10.958Z"
   },
   {
    "duration": 3,
    "start_time": "2022-12-06T10:51:10.983Z"
   },
   {
    "duration": 30,
    "start_time": "2022-12-06T10:51:10.988Z"
   },
   {
    "duration": 14,
    "start_time": "2022-12-06T10:51:11.019Z"
   },
   {
    "duration": 34,
    "start_time": "2022-12-06T10:51:11.035Z"
   },
   {
    "duration": 2,
    "start_time": "2022-12-06T10:51:11.070Z"
   },
   {
    "duration": 123,
    "start_time": "2022-12-06T10:51:11.073Z"
   },
   {
    "duration": 221,
    "start_time": "2022-12-06T10:51:11.198Z"
   },
   {
    "duration": 9,
    "start_time": "2022-12-06T10:51:11.420Z"
   },
   {
    "duration": 7,
    "start_time": "2022-12-06T10:51:11.430Z"
   },
   {
    "duration": 22,
    "start_time": "2022-12-06T10:51:11.439Z"
   },
   {
    "duration": 14,
    "start_time": "2022-12-06T10:51:11.462Z"
   },
   {
    "duration": 12,
    "start_time": "2022-12-06T10:51:11.477Z"
   },
   {
    "duration": 14,
    "start_time": "2022-12-06T10:51:11.490Z"
   },
   {
    "duration": 9,
    "start_time": "2022-12-06T10:51:11.505Z"
   },
   {
    "duration": 27,
    "start_time": "2022-12-06T10:51:11.516Z"
   },
   {
    "duration": 150,
    "start_time": "2022-12-06T10:51:11.545Z"
   },
   {
    "duration": 161,
    "start_time": "2022-12-06T10:51:11.697Z"
   },
   {
    "duration": 21,
    "start_time": "2022-12-06T10:51:11.860Z"
   },
   {
    "duration": 34,
    "start_time": "2022-12-06T10:51:11.882Z"
   },
   {
    "duration": 330,
    "start_time": "2022-12-06T10:51:11.918Z"
   },
   {
    "duration": 325,
    "start_time": "2022-12-06T10:51:12.254Z"
   },
   {
    "duration": 339,
    "start_time": "2022-12-06T10:51:12.581Z"
   },
   {
    "duration": 13,
    "start_time": "2022-12-06T10:51:12.922Z"
   },
   {
    "duration": 3,
    "start_time": "2022-12-06T10:51:12.937Z"
   },
   {
    "duration": 9,
    "start_time": "2022-12-06T10:51:12.942Z"
   },
   {
    "duration": 6,
    "start_time": "2022-12-06T10:51:12.954Z"
   },
   {
    "duration": 8,
    "start_time": "2022-12-06T10:51:12.961Z"
   },
   {
    "duration": 9,
    "start_time": "2022-12-06T10:51:12.970Z"
   },
   {
    "duration": 32,
    "start_time": "2022-12-06T10:51:12.981Z"
   },
   {
    "duration": 369,
    "start_time": "2022-12-06T10:51:13.014Z"
   },
   {
    "duration": 5,
    "start_time": "2022-12-06T10:51:13.385Z"
   },
   {
    "duration": 167,
    "start_time": "2022-12-06T10:51:13.391Z"
   },
   {
    "duration": 164,
    "start_time": "2022-12-06T10:51:13.560Z"
   },
   {
    "duration": 157,
    "start_time": "2022-12-06T10:51:13.725Z"
   },
   {
    "duration": 18,
    "start_time": "2022-12-06T10:51:13.884Z"
   },
   {
    "duration": 164,
    "start_time": "2022-12-06T10:51:13.913Z"
   },
   {
    "duration": 8,
    "start_time": "2022-12-06T10:51:14.078Z"
   },
   {
    "duration": 33,
    "start_time": "2022-12-06T10:51:14.087Z"
   },
   {
    "duration": 19,
    "start_time": "2022-12-06T10:51:14.121Z"
   },
   {
    "duration": 27,
    "start_time": "2022-12-06T10:51:14.142Z"
   },
   {
    "duration": 59,
    "start_time": "2022-12-06T10:51:14.171Z"
   },
   {
    "duration": 100,
    "start_time": "2022-12-06T10:51:14.232Z"
   },
   {
    "duration": 3,
    "start_time": "2022-12-06T10:51:14.333Z"
   },
   {
    "duration": 8,
    "start_time": "2022-12-06T10:51:14.337Z"
   },
   {
    "duration": 902,
    "start_time": "2022-12-06T10:51:14.346Z"
   },
   {
    "duration": 3,
    "start_time": "2022-12-06T10:51:15.250Z"
   },
   {
    "duration": 279,
    "start_time": "2022-12-06T10:51:15.254Z"
   },
   {
    "duration": 70,
    "start_time": "2022-12-06T10:51:15.535Z"
   },
   {
    "duration": 0,
    "start_time": "2022-12-06T10:51:15.606Z"
   },
   {
    "duration": 0,
    "start_time": "2022-12-06T10:51:15.607Z"
   },
   {
    "duration": 0,
    "start_time": "2022-12-06T10:51:15.608Z"
   },
   {
    "duration": 0,
    "start_time": "2022-12-06T10:51:15.609Z"
   },
   {
    "duration": 0,
    "start_time": "2022-12-06T10:51:15.610Z"
   },
   {
    "duration": 0,
    "start_time": "2022-12-06T10:51:15.612Z"
   },
   {
    "duration": 0,
    "start_time": "2022-12-06T10:51:15.613Z"
   },
   {
    "duration": 0,
    "start_time": "2022-12-06T10:51:15.614Z"
   },
   {
    "duration": 1,
    "start_time": "2022-12-06T10:51:15.615Z"
   },
   {
    "duration": 0,
    "start_time": "2022-12-06T10:51:15.617Z"
   },
   {
    "duration": 0,
    "start_time": "2022-12-06T10:51:15.618Z"
   },
   {
    "duration": 0,
    "start_time": "2022-12-06T10:51:15.619Z"
   },
   {
    "duration": 0,
    "start_time": "2022-12-06T10:51:15.620Z"
   },
   {
    "duration": 0,
    "start_time": "2022-12-06T10:51:15.621Z"
   },
   {
    "duration": 0,
    "start_time": "2022-12-06T10:51:15.622Z"
   },
   {
    "duration": 0,
    "start_time": "2022-12-06T10:51:15.623Z"
   },
   {
    "duration": 0,
    "start_time": "2022-12-06T10:51:15.624Z"
   },
   {
    "duration": 0,
    "start_time": "2022-12-06T10:51:15.625Z"
   },
   {
    "duration": 0,
    "start_time": "2022-12-06T10:51:15.626Z"
   },
   {
    "duration": 0,
    "start_time": "2022-12-06T10:51:15.627Z"
   },
   {
    "duration": 1,
    "start_time": "2022-12-06T10:51:15.627Z"
   },
   {
    "duration": 0,
    "start_time": "2022-12-06T10:51:15.628Z"
   },
   {
    "duration": 84,
    "start_time": "2022-12-06T10:51:30.022Z"
   },
   {
    "duration": 209,
    "start_time": "2022-12-06T10:51:39.219Z"
   },
   {
    "duration": 198,
    "start_time": "2022-12-06T10:51:39.431Z"
   },
   {
    "duration": 342,
    "start_time": "2022-12-06T10:51:39.631Z"
   },
   {
    "duration": 125,
    "start_time": "2022-12-06T10:51:39.974Z"
   },
   {
    "duration": 425,
    "start_time": "2022-12-06T10:51:40.102Z"
   },
   {
    "duration": 264,
    "start_time": "2022-12-06T10:51:40.529Z"
   },
   {
    "duration": 292,
    "start_time": "2022-12-06T10:51:40.795Z"
   },
   {
    "duration": 256,
    "start_time": "2022-12-06T10:51:41.089Z"
   },
   {
    "duration": 274,
    "start_time": "2022-12-06T10:51:41.347Z"
   },
   {
    "duration": 7,
    "start_time": "2022-12-06T10:51:41.622Z"
   },
   {
    "duration": 34,
    "start_time": "2022-12-06T10:51:41.630Z"
   },
   {
    "duration": 23,
    "start_time": "2022-12-06T10:51:41.666Z"
   },
   {
    "duration": 1576,
    "start_time": "2022-12-06T10:51:41.691Z"
   },
   {
    "duration": 193,
    "start_time": "2022-12-06T10:51:43.282Z"
   },
   {
    "duration": 18,
    "start_time": "2022-12-06T10:51:43.477Z"
   },
   {
    "duration": 3,
    "start_time": "2022-12-06T10:51:43.497Z"
   },
   {
    "duration": 4,
    "start_time": "2022-12-06T10:51:43.513Z"
   },
   {
    "duration": 21,
    "start_time": "2022-12-06T10:51:43.518Z"
   },
   {
    "duration": 208,
    "start_time": "2022-12-06T10:51:43.541Z"
   },
   {
    "duration": 4,
    "start_time": "2022-12-06T10:51:43.751Z"
   },
   {
    "duration": 14,
    "start_time": "2022-12-06T10:51:43.757Z"
   },
   {
    "duration": 184,
    "start_time": "2022-12-06T10:51:43.772Z"
   },
   {
    "duration": 604,
    "start_time": "2022-12-06T10:58:13.772Z"
   },
   {
    "duration": 93,
    "start_time": "2022-12-06T11:03:07.557Z"
   },
   {
    "duration": 64,
    "start_time": "2022-12-06T11:03:12.282Z"
   },
   {
    "duration": 42,
    "start_time": "2022-12-06T11:03:20.557Z"
   },
   {
    "duration": 55,
    "start_time": "2022-12-06T11:04:01.637Z"
   },
   {
    "duration": 57,
    "start_time": "2022-12-06T11:04:05.741Z"
   },
   {
    "duration": 57,
    "start_time": "2022-12-06T11:04:19.699Z"
   },
   {
    "duration": 56,
    "start_time": "2022-12-06T11:04:23.713Z"
   },
   {
    "duration": 804,
    "start_time": "2022-12-06T11:04:39.660Z"
   },
   {
    "duration": 826,
    "start_time": "2022-12-06T11:04:57.179Z"
   },
   {
    "duration": 762,
    "start_time": "2022-12-06T11:08:04.831Z"
   },
   {
    "duration": 802,
    "start_time": "2022-12-06T11:08:24.203Z"
   },
   {
    "duration": 731,
    "start_time": "2022-12-06T11:09:36.747Z"
   },
   {
    "duration": 723,
    "start_time": "2022-12-06T11:10:07.562Z"
   },
   {
    "duration": 3,
    "start_time": "2022-12-06T11:12:07.420Z"
   },
   {
    "duration": 18,
    "start_time": "2022-12-06T11:25:59.686Z"
   },
   {
    "duration": 400,
    "start_time": "2022-12-07T05:58:18.651Z"
   },
   {
    "duration": 93,
    "start_time": "2022-12-07T05:58:19.054Z"
   },
   {
    "duration": 16,
    "start_time": "2022-12-07T05:58:19.151Z"
   },
   {
    "duration": 115,
    "start_time": "2022-12-07T05:58:19.170Z"
   },
   {
    "duration": 36,
    "start_time": "2022-12-07T05:58:19.286Z"
   },
   {
    "duration": 31,
    "start_time": "2022-12-07T05:58:19.324Z"
   },
   {
    "duration": 4,
    "start_time": "2022-12-07T05:58:19.357Z"
   },
   {
    "duration": 8,
    "start_time": "2022-12-07T05:58:19.362Z"
   },
   {
    "duration": 7,
    "start_time": "2022-12-07T05:58:19.371Z"
   },
   {
    "duration": 2065,
    "start_time": "2022-12-07T05:58:19.380Z"
   },
   {
    "duration": 9,
    "start_time": "2022-12-07T05:58:21.447Z"
   },
   {
    "duration": 9,
    "start_time": "2022-12-07T05:58:21.457Z"
   },
   {
    "duration": 3,
    "start_time": "2022-12-07T05:58:21.467Z"
   },
   {
    "duration": 11,
    "start_time": "2022-12-07T05:58:21.471Z"
   },
   {
    "duration": 22,
    "start_time": "2022-12-07T05:58:21.484Z"
   },
   {
    "duration": 5,
    "start_time": "2022-12-07T05:58:21.521Z"
   },
   {
    "duration": 13,
    "start_time": "2022-12-07T05:58:21.528Z"
   },
   {
    "duration": 4,
    "start_time": "2022-12-07T05:58:21.543Z"
   },
   {
    "duration": 14,
    "start_time": "2022-12-07T05:58:21.551Z"
   },
   {
    "duration": 10,
    "start_time": "2022-12-07T05:58:21.566Z"
   },
   {
    "duration": 14,
    "start_time": "2022-12-07T05:58:21.577Z"
   },
   {
    "duration": 10,
    "start_time": "2022-12-07T05:58:21.592Z"
   },
   {
    "duration": 21,
    "start_time": "2022-12-07T05:58:21.620Z"
   },
   {
    "duration": 2,
    "start_time": "2022-12-07T05:58:21.643Z"
   },
   {
    "duration": 12,
    "start_time": "2022-12-07T05:58:21.647Z"
   },
   {
    "duration": 3,
    "start_time": "2022-12-07T05:58:21.661Z"
   },
   {
    "duration": 11,
    "start_time": "2022-12-07T05:58:21.666Z"
   },
   {
    "duration": 9,
    "start_time": "2022-12-07T05:58:21.681Z"
   },
   {
    "duration": 32,
    "start_time": "2022-12-07T05:58:21.691Z"
   },
   {
    "duration": 13,
    "start_time": "2022-12-07T05:58:21.725Z"
   },
   {
    "duration": 769,
    "start_time": "2022-12-07T05:58:21.740Z"
   },
   {
    "duration": 41,
    "start_time": "2022-12-07T05:58:22.510Z"
   },
   {
    "duration": 3,
    "start_time": "2022-12-07T05:58:22.553Z"
   },
   {
    "duration": 8,
    "start_time": "2022-12-07T05:58:22.558Z"
   },
   {
    "duration": 15,
    "start_time": "2022-12-07T05:58:22.568Z"
   },
   {
    "duration": 5,
    "start_time": "2022-12-07T05:58:22.584Z"
   },
   {
    "duration": 5,
    "start_time": "2022-12-07T05:58:22.591Z"
   },
   {
    "duration": 7,
    "start_time": "2022-12-07T05:58:22.598Z"
   },
   {
    "duration": 30,
    "start_time": "2022-12-07T05:58:22.606Z"
   },
   {
    "duration": 15,
    "start_time": "2022-12-07T05:58:22.637Z"
   },
   {
    "duration": 9,
    "start_time": "2022-12-07T05:58:22.654Z"
   },
   {
    "duration": 4,
    "start_time": "2022-12-07T05:58:22.664Z"
   },
   {
    "duration": 18,
    "start_time": "2022-12-07T05:58:22.669Z"
   },
   {
    "duration": 33,
    "start_time": "2022-12-07T05:58:22.688Z"
   },
   {
    "duration": 5,
    "start_time": "2022-12-07T05:58:22.722Z"
   },
   {
    "duration": 82,
    "start_time": "2022-12-07T05:58:22.728Z"
   },
   {
    "duration": 5,
    "start_time": "2022-12-07T05:58:22.811Z"
   },
   {
    "duration": 26,
    "start_time": "2022-12-07T05:58:22.817Z"
   },
   {
    "duration": 20,
    "start_time": "2022-12-07T05:58:22.845Z"
   },
   {
    "duration": 26,
    "start_time": "2022-12-07T05:58:22.867Z"
   },
   {
    "duration": 9,
    "start_time": "2022-12-07T05:58:22.895Z"
   },
   {
    "duration": 20,
    "start_time": "2022-12-07T05:58:22.905Z"
   },
   {
    "duration": 6,
    "start_time": "2022-12-07T05:58:22.926Z"
   },
   {
    "duration": 7,
    "start_time": "2022-12-07T05:58:22.933Z"
   },
   {
    "duration": 31,
    "start_time": "2022-12-07T05:58:22.942Z"
   },
   {
    "duration": 24,
    "start_time": "2022-12-07T05:58:22.974Z"
   },
   {
    "duration": 51,
    "start_time": "2022-12-07T05:58:22.999Z"
   },
   {
    "duration": 16,
    "start_time": "2022-12-07T05:58:23.052Z"
   },
   {
    "duration": 110,
    "start_time": "2022-12-07T05:58:23.069Z"
   },
   {
    "duration": 16,
    "start_time": "2022-12-07T05:58:23.180Z"
   },
   {
    "duration": 25,
    "start_time": "2022-12-07T05:58:23.197Z"
   },
   {
    "duration": 18,
    "start_time": "2022-12-07T05:58:23.223Z"
   },
   {
    "duration": 3,
    "start_time": "2022-12-07T05:58:23.243Z"
   },
   {
    "duration": 14,
    "start_time": "2022-12-07T05:58:23.247Z"
   },
   {
    "duration": 10,
    "start_time": "2022-12-07T05:58:23.263Z"
   },
   {
    "duration": 53,
    "start_time": "2022-12-07T05:58:23.274Z"
   },
   {
    "duration": 2,
    "start_time": "2022-12-07T05:58:23.328Z"
   },
   {
    "duration": 112,
    "start_time": "2022-12-07T05:58:23.332Z"
   },
   {
    "duration": 121,
    "start_time": "2022-12-07T05:58:23.446Z"
   },
   {
    "duration": 8,
    "start_time": "2022-12-07T05:58:23.569Z"
   },
   {
    "duration": 10,
    "start_time": "2022-12-07T05:58:23.578Z"
   },
   {
    "duration": 5,
    "start_time": "2022-12-07T05:58:23.589Z"
   },
   {
    "duration": 7,
    "start_time": "2022-12-07T05:58:23.595Z"
   },
   {
    "duration": 21,
    "start_time": "2022-12-07T05:58:23.603Z"
   },
   {
    "duration": 14,
    "start_time": "2022-12-07T05:58:23.626Z"
   },
   {
    "duration": 8,
    "start_time": "2022-12-07T05:58:23.641Z"
   },
   {
    "duration": 18,
    "start_time": "2022-12-07T05:58:23.650Z"
   },
   {
    "duration": 169,
    "start_time": "2022-12-07T05:58:23.670Z"
   },
   {
    "duration": 164,
    "start_time": "2022-12-07T05:58:23.840Z"
   },
   {
    "duration": 21,
    "start_time": "2022-12-07T05:58:24.005Z"
   },
   {
    "duration": 17,
    "start_time": "2022-12-07T05:58:24.027Z"
   },
   {
    "duration": 793,
    "start_time": "2022-12-07T05:58:24.049Z"
   },
   {
    "duration": 292,
    "start_time": "2022-12-07T05:58:24.844Z"
   },
   {
    "duration": 339,
    "start_time": "2022-12-07T05:58:25.137Z"
   },
   {
    "duration": 15,
    "start_time": "2022-12-07T05:58:25.477Z"
   },
   {
    "duration": 3,
    "start_time": "2022-12-07T05:58:25.493Z"
   },
   {
    "duration": 8,
    "start_time": "2022-12-07T05:58:25.497Z"
   },
   {
    "duration": 18,
    "start_time": "2022-12-07T05:58:25.506Z"
   },
   {
    "duration": 7,
    "start_time": "2022-12-07T05:58:25.525Z"
   },
   {
    "duration": 8,
    "start_time": "2022-12-07T05:58:25.533Z"
   },
   {
    "duration": 5,
    "start_time": "2022-12-07T05:58:25.543Z"
   },
   {
    "duration": 7,
    "start_time": "2022-12-07T05:58:25.549Z"
   },
   {
    "duration": 385,
    "start_time": "2022-12-07T05:58:25.557Z"
   },
   {
    "duration": 4,
    "start_time": "2022-12-07T05:58:25.944Z"
   },
   {
    "duration": 163,
    "start_time": "2022-12-07T05:58:25.950Z"
   },
   {
    "duration": 149,
    "start_time": "2022-12-07T05:58:26.115Z"
   },
   {
    "duration": 226,
    "start_time": "2022-12-07T05:58:26.266Z"
   },
   {
    "duration": 29,
    "start_time": "2022-12-07T05:58:26.494Z"
   },
   {
    "duration": 159,
    "start_time": "2022-12-07T05:58:26.525Z"
   },
   {
    "duration": 8,
    "start_time": "2022-12-07T05:58:26.686Z"
   },
   {
    "duration": 36,
    "start_time": "2022-12-07T05:58:26.695Z"
   },
   {
    "duration": 17,
    "start_time": "2022-12-07T05:58:26.732Z"
   },
   {
    "duration": 25,
    "start_time": "2022-12-07T05:58:26.751Z"
   },
   {
    "duration": 54,
    "start_time": "2022-12-07T05:58:26.777Z"
   },
   {
    "duration": 102,
    "start_time": "2022-12-07T05:58:26.833Z"
   },
   {
    "duration": 2,
    "start_time": "2022-12-07T05:58:26.936Z"
   },
   {
    "duration": 10,
    "start_time": "2022-12-07T05:58:26.939Z"
   },
   {
    "duration": 715,
    "start_time": "2022-12-07T05:58:26.950Z"
   },
   {
    "duration": 259,
    "start_time": "2022-12-07T05:58:27.666Z"
   },
   {
    "duration": 170,
    "start_time": "2022-12-07T05:58:27.926Z"
   },
   {
    "duration": 263,
    "start_time": "2022-12-07T05:58:28.098Z"
   },
   {
    "duration": 320,
    "start_time": "2022-12-07T05:58:28.362Z"
   },
   {
    "duration": 121,
    "start_time": "2022-12-07T05:58:28.684Z"
   },
   {
    "duration": 230,
    "start_time": "2022-12-07T05:58:28.806Z"
   },
   {
    "duration": 239,
    "start_time": "2022-12-07T05:58:29.037Z"
   },
   {
    "duration": 252,
    "start_time": "2022-12-07T05:58:29.277Z"
   },
   {
    "duration": 241,
    "start_time": "2022-12-07T05:58:29.530Z"
   },
   {
    "duration": 350,
    "start_time": "2022-12-07T05:58:29.773Z"
   },
   {
    "duration": 6,
    "start_time": "2022-12-07T05:58:30.125Z"
   },
   {
    "duration": 66,
    "start_time": "2022-12-07T05:58:30.133Z"
   },
   {
    "duration": 18,
    "start_time": "2022-12-07T05:58:30.201Z"
   },
   {
    "duration": 595,
    "start_time": "2022-12-07T05:58:30.220Z"
   },
   {
    "duration": 685,
    "start_time": "2022-12-07T05:58:30.817Z"
   },
   {
    "duration": 2,
    "start_time": "2022-12-07T05:58:31.504Z"
   },
   {
    "duration": 32,
    "start_time": "2022-12-07T05:58:31.520Z"
   },
   {
    "duration": 9,
    "start_time": "2022-12-07T05:58:31.554Z"
   },
   {
    "duration": 30,
    "start_time": "2022-12-07T05:58:31.565Z"
   },
   {
    "duration": 21,
    "start_time": "2022-12-07T05:58:31.596Z"
   },
   {
    "duration": 186,
    "start_time": "2022-12-07T05:58:31.619Z"
   },
   {
    "duration": 4,
    "start_time": "2022-12-07T05:58:31.807Z"
   },
   {
    "duration": 38,
    "start_time": "2022-12-07T05:58:31.813Z"
   },
   {
    "duration": 151,
    "start_time": "2022-12-07T05:58:31.852Z"
   }
  ],
  "kernelspec": {
   "display_name": "Python 3 (ipykernel)",
   "language": "python",
   "name": "python3"
  },
  "language_info": {
   "codemirror_mode": {
    "name": "ipython",
    "version": 3
   },
   "file_extension": ".py",
   "mimetype": "text/x-python",
   "name": "python",
   "nbconvert_exporter": "python",
   "pygments_lexer": "ipython3",
   "version": "3.9.12"
  },
  "toc": {
   "base_numbering": 1,
   "nav_menu": {},
   "number_sections": true,
   "sideBar": true,
   "skip_h1_title": true,
   "title_cell": "Table of Contents",
   "title_sidebar": "Contents",
   "toc_cell": false,
   "toc_position": {},
   "toc_section_display": true,
   "toc_window_display": false
  }
 },
 "nbformat": 4,
 "nbformat_minor": 4
}
