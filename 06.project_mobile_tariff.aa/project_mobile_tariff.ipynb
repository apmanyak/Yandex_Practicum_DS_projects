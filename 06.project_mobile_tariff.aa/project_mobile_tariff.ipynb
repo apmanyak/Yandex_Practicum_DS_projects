{
 "cells": [
  {
   "cell_type": "markdown",
   "metadata": {},
   "source": [
    "# Рекомендация тарифов <a id='intro'></a>"
   ]
  },
  {
   "cell_type": "markdown",
   "metadata": {},
   "source": [
    "В распоряжении данные о поведении клиентов, которые уже перешли на эти тарифы (из проекта «Определение выгодного тарифа для телеком компании»). Нужно построить модель для задачи классификации, которая выберет подходящий тариф. Предобработка данных не понадобится.\n",
    "\n",
    "Необходимо построить модель с максимально большим значением *accuracy*. Нужно довести долю правильных ответов по крайней мере до 0.75."
   ]
  },
  {
   "cell_type": "markdown",
   "metadata": {},
   "source": [
    "## Оглавление\n",
    "\n",
    "### [1.Откроем и изучим файл](#glava1)\n",
    "### [2.Разобъем данные на выборки](#glava2)\n",
    "### [3.Исследуем модели](#glava3)\n",
    "#### [3.1 Решающее дерево](#model1)\n",
    "#### [3.2 Случайный лес](#model1)\n",
    "#### [3.3 Логистическая регрессия](#model3)\n",
    "### [4.Проверим модель на тестовой выборке](#glava4)\n",
    "### [Итоговый вывод](#glava6)"
   ]
  },
  {
   "cell_type": "markdown",
   "metadata": {},
   "source": [
    "## Откроем и изучим файл <a id='glava1'></a>"
   ]
  },
  {
   "cell_type": "markdown",
   "metadata": {},
   "source": [
    "**Импортируем библиотеки**"
   ]
  },
  {
   "cell_type": "code",
   "execution_count": 1,
   "metadata": {},
   "outputs": [],
   "source": [
    "import pandas as pd\n",
    "\n",
    "from sklearn.tree import DecisionTreeClassifier\n",
    "from sklearn.ensemble import RandomForestClassifier\n",
    "from sklearn.linear_model import LogisticRegression \n",
    "\n",
    "from sklearn.model_selection import train_test_split \n",
    "from sklearn.metrics import accuracy_score\n",
    "\n",
    "#import warnings\n",
    "#warnings.simplefilter(\"ignore\")\n",
    "\n",
    "from tqdm.notebook import trange, tqdm\n",
    "from time import sleep"
   ]
  },
  {
   "cell_type": "markdown",
   "metadata": {},
   "source": [
    "**Считаем данные из csv-файла в датафрейм и сохраним в переменную df. Путь к файлу:**\n",
    "`/datasets/users_behavior.csv`"
   ]
  },
  {
   "cell_type": "code",
   "execution_count": 2,
   "metadata": {},
   "outputs": [],
   "source": [
    "df = pd.read_csv('/datasets/users_behavior.csv')"
   ]
  },
  {
   "cell_type": "markdown",
   "metadata": {},
   "source": [
    "Выводим первые 10 строчек датафрейма df на экран"
   ]
  },
  {
   "cell_type": "code",
   "execution_count": 3,
   "metadata": {},
   "outputs": [
    {
     "data": {
      "text/html": [
       "<div>\n",
       "<style scoped>\n",
       "    .dataframe tbody tr th:only-of-type {\n",
       "        vertical-align: middle;\n",
       "    }\n",
       "\n",
       "    .dataframe tbody tr th {\n",
       "        vertical-align: top;\n",
       "    }\n",
       "\n",
       "    .dataframe thead th {\n",
       "        text-align: right;\n",
       "    }\n",
       "</style>\n",
       "<table border=\"1\" class=\"dataframe\">\n",
       "  <thead>\n",
       "    <tr style=\"text-align: right;\">\n",
       "      <th></th>\n",
       "      <th>calls</th>\n",
       "      <th>minutes</th>\n",
       "      <th>messages</th>\n",
       "      <th>mb_used</th>\n",
       "      <th>is_ultra</th>\n",
       "    </tr>\n",
       "  </thead>\n",
       "  <tbody>\n",
       "    <tr>\n",
       "      <th>0</th>\n",
       "      <td>40.0</td>\n",
       "      <td>311.90</td>\n",
       "      <td>83.0</td>\n",
       "      <td>19915.42</td>\n",
       "      <td>0</td>\n",
       "    </tr>\n",
       "    <tr>\n",
       "      <th>1</th>\n",
       "      <td>85.0</td>\n",
       "      <td>516.75</td>\n",
       "      <td>56.0</td>\n",
       "      <td>22696.96</td>\n",
       "      <td>0</td>\n",
       "    </tr>\n",
       "    <tr>\n",
       "      <th>2</th>\n",
       "      <td>77.0</td>\n",
       "      <td>467.66</td>\n",
       "      <td>86.0</td>\n",
       "      <td>21060.45</td>\n",
       "      <td>0</td>\n",
       "    </tr>\n",
       "    <tr>\n",
       "      <th>3</th>\n",
       "      <td>106.0</td>\n",
       "      <td>745.53</td>\n",
       "      <td>81.0</td>\n",
       "      <td>8437.39</td>\n",
       "      <td>1</td>\n",
       "    </tr>\n",
       "    <tr>\n",
       "      <th>4</th>\n",
       "      <td>66.0</td>\n",
       "      <td>418.74</td>\n",
       "      <td>1.0</td>\n",
       "      <td>14502.75</td>\n",
       "      <td>0</td>\n",
       "    </tr>\n",
       "    <tr>\n",
       "      <th>5</th>\n",
       "      <td>58.0</td>\n",
       "      <td>344.56</td>\n",
       "      <td>21.0</td>\n",
       "      <td>15823.37</td>\n",
       "      <td>0</td>\n",
       "    </tr>\n",
       "    <tr>\n",
       "      <th>6</th>\n",
       "      <td>57.0</td>\n",
       "      <td>431.64</td>\n",
       "      <td>20.0</td>\n",
       "      <td>3738.90</td>\n",
       "      <td>1</td>\n",
       "    </tr>\n",
       "    <tr>\n",
       "      <th>7</th>\n",
       "      <td>15.0</td>\n",
       "      <td>132.40</td>\n",
       "      <td>6.0</td>\n",
       "      <td>21911.60</td>\n",
       "      <td>0</td>\n",
       "    </tr>\n",
       "    <tr>\n",
       "      <th>8</th>\n",
       "      <td>7.0</td>\n",
       "      <td>43.39</td>\n",
       "      <td>3.0</td>\n",
       "      <td>2538.67</td>\n",
       "      <td>1</td>\n",
       "    </tr>\n",
       "    <tr>\n",
       "      <th>9</th>\n",
       "      <td>90.0</td>\n",
       "      <td>665.41</td>\n",
       "      <td>38.0</td>\n",
       "      <td>17358.61</td>\n",
       "      <td>0</td>\n",
       "    </tr>\n",
       "  </tbody>\n",
       "</table>\n",
       "</div>"
      ],
      "text/plain": [
       "   calls  minutes  messages   mb_used  is_ultra\n",
       "0   40.0   311.90      83.0  19915.42         0\n",
       "1   85.0   516.75      56.0  22696.96         0\n",
       "2   77.0   467.66      86.0  21060.45         0\n",
       "3  106.0   745.53      81.0   8437.39         1\n",
       "4   66.0   418.74       1.0  14502.75         0\n",
       "5   58.0   344.56      21.0  15823.37         0\n",
       "6   57.0   431.64      20.0   3738.90         1\n",
       "7   15.0   132.40       6.0  21911.60         0\n",
       "8    7.0    43.39       3.0   2538.67         1\n",
       "9   90.0   665.41      38.0  17358.61         0"
      ]
     },
     "execution_count": 3,
     "metadata": {},
     "output_type": "execute_result"
    }
   ],
   "source": [
    "df.head(10)"
   ]
  },
  {
   "cell_type": "markdown",
   "metadata": {},
   "source": [
    "**Описание данных**\n",
    "\n",
    "Каждый объект в наборе данных — это информация о поведении одного пользователя за месяц. \n",
    "\n",
    "Известно:\n",
    "- **сalls** — количество звонков,\n",
    "- **minutes** — суммарная длительность звонков в минутах,\n",
    "- **messages** — количество sms-сообщений,\n",
    "- **mb_used** — израсходованный интернет-трафик в Мб,\n",
    "- **is_ultra** — каким тарифом пользовался в течение месяца («Ультра» —1, «Смарт» — 0)."
   ]
  },
  {
   "cell_type": "markdown",
   "metadata": {},
   "source": [
    "**Выведим основную информацию о датафрейме.**"
   ]
  },
  {
   "cell_type": "code",
   "execution_count": 4,
   "metadata": {},
   "outputs": [
    {
     "name": "stdout",
     "output_type": "stream",
     "text": [
      "<class 'pandas.core.frame.DataFrame'>\n",
      "RangeIndex: 3214 entries, 0 to 3213\n",
      "Data columns (total 5 columns):\n",
      " #   Column    Non-Null Count  Dtype  \n",
      "---  ------    --------------  -----  \n",
      " 0   calls     3214 non-null   float64\n",
      " 1   minutes   3214 non-null   float64\n",
      " 2   messages  3214 non-null   float64\n",
      " 3   mb_used   3214 non-null   float64\n",
      " 4   is_ultra  3214 non-null   int64  \n",
      "dtypes: float64(4), int64(1)\n",
      "memory usage: 125.7 KB\n"
     ]
    }
   ],
   "source": [
    "df.info()"
   ]
  },
  {
   "cell_type": "markdown",
   "metadata": {},
   "source": [
    "Кол-во значений одинаково. Следовательно пропущенные значения нет. Также значения в столбцах **сalls** и **messages** не соовтесвуют своим типам данных. Предлагается перевести в целочисленный тип `int64`."
   ]
  },
  {
   "cell_type": "markdown",
   "metadata": {},
   "source": [
    "**Перевод в тип данных `int64`**"
   ]
  },
  {
   "cell_type": "code",
   "execution_count": 5,
   "metadata": {},
   "outputs": [],
   "source": [
    "df['calls'] = df['calls'].astype('int64')"
   ]
  },
  {
   "cell_type": "code",
   "execution_count": 6,
   "metadata": {},
   "outputs": [],
   "source": [
    "df['messages'] = df['messages'].astype('int64')"
   ]
  },
  {
   "cell_type": "code",
   "execution_count": 7,
   "metadata": {},
   "outputs": [
    {
     "name": "stdout",
     "output_type": "stream",
     "text": [
      "<class 'pandas.core.frame.DataFrame'>\n",
      "RangeIndex: 3214 entries, 0 to 3213\n",
      "Data columns (total 5 columns):\n",
      " #   Column    Non-Null Count  Dtype  \n",
      "---  ------    --------------  -----  \n",
      " 0   calls     3214 non-null   int64  \n",
      " 1   minutes   3214 non-null   float64\n",
      " 2   messages  3214 non-null   int64  \n",
      " 3   mb_used   3214 non-null   float64\n",
      " 4   is_ultra  3214 non-null   int64  \n",
      "dtypes: float64(2), int64(3)\n",
      "memory usage: 125.7 KB\n"
     ]
    }
   ],
   "source": [
    "df.info()"
   ]
  },
  {
   "cell_type": "code",
   "execution_count": 8,
   "metadata": {},
   "outputs": [
    {
     "data": {
      "text/html": [
       "<div>\n",
       "<style scoped>\n",
       "    .dataframe tbody tr th:only-of-type {\n",
       "        vertical-align: middle;\n",
       "    }\n",
       "\n",
       "    .dataframe tbody tr th {\n",
       "        vertical-align: top;\n",
       "    }\n",
       "\n",
       "    .dataframe thead th {\n",
       "        text-align: right;\n",
       "    }\n",
       "</style>\n",
       "<table border=\"1\" class=\"dataframe\">\n",
       "  <thead>\n",
       "    <tr style=\"text-align: right;\">\n",
       "      <th></th>\n",
       "      <th>calls</th>\n",
       "      <th>minutes</th>\n",
       "      <th>messages</th>\n",
       "      <th>mb_used</th>\n",
       "      <th>is_ultra</th>\n",
       "    </tr>\n",
       "  </thead>\n",
       "  <tbody>\n",
       "    <tr>\n",
       "      <th>0</th>\n",
       "      <td>40</td>\n",
       "      <td>311.90</td>\n",
       "      <td>83</td>\n",
       "      <td>19915.42</td>\n",
       "      <td>0</td>\n",
       "    </tr>\n",
       "    <tr>\n",
       "      <th>1</th>\n",
       "      <td>85</td>\n",
       "      <td>516.75</td>\n",
       "      <td>56</td>\n",
       "      <td>22696.96</td>\n",
       "      <td>0</td>\n",
       "    </tr>\n",
       "    <tr>\n",
       "      <th>2</th>\n",
       "      <td>77</td>\n",
       "      <td>467.66</td>\n",
       "      <td>86</td>\n",
       "      <td>21060.45</td>\n",
       "      <td>0</td>\n",
       "    </tr>\n",
       "    <tr>\n",
       "      <th>3</th>\n",
       "      <td>106</td>\n",
       "      <td>745.53</td>\n",
       "      <td>81</td>\n",
       "      <td>8437.39</td>\n",
       "      <td>1</td>\n",
       "    </tr>\n",
       "    <tr>\n",
       "      <th>4</th>\n",
       "      <td>66</td>\n",
       "      <td>418.74</td>\n",
       "      <td>1</td>\n",
       "      <td>14502.75</td>\n",
       "      <td>0</td>\n",
       "    </tr>\n",
       "    <tr>\n",
       "      <th>5</th>\n",
       "      <td>58</td>\n",
       "      <td>344.56</td>\n",
       "      <td>21</td>\n",
       "      <td>15823.37</td>\n",
       "      <td>0</td>\n",
       "    </tr>\n",
       "    <tr>\n",
       "      <th>6</th>\n",
       "      <td>57</td>\n",
       "      <td>431.64</td>\n",
       "      <td>20</td>\n",
       "      <td>3738.90</td>\n",
       "      <td>1</td>\n",
       "    </tr>\n",
       "    <tr>\n",
       "      <th>7</th>\n",
       "      <td>15</td>\n",
       "      <td>132.40</td>\n",
       "      <td>6</td>\n",
       "      <td>21911.60</td>\n",
       "      <td>0</td>\n",
       "    </tr>\n",
       "    <tr>\n",
       "      <th>8</th>\n",
       "      <td>7</td>\n",
       "      <td>43.39</td>\n",
       "      <td>3</td>\n",
       "      <td>2538.67</td>\n",
       "      <td>1</td>\n",
       "    </tr>\n",
       "    <tr>\n",
       "      <th>9</th>\n",
       "      <td>90</td>\n",
       "      <td>665.41</td>\n",
       "      <td>38</td>\n",
       "      <td>17358.61</td>\n",
       "      <td>0</td>\n",
       "    </tr>\n",
       "  </tbody>\n",
       "</table>\n",
       "</div>"
      ],
      "text/plain": [
       "   calls  minutes  messages   mb_used  is_ultra\n",
       "0     40   311.90        83  19915.42         0\n",
       "1     85   516.75        56  22696.96         0\n",
       "2     77   467.66        86  21060.45         0\n",
       "3    106   745.53        81   8437.39         1\n",
       "4     66   418.74         1  14502.75         0\n",
       "5     58   344.56        21  15823.37         0\n",
       "6     57   431.64        20   3738.90         1\n",
       "7     15   132.40         6  21911.60         0\n",
       "8      7    43.39         3   2538.67         1\n",
       "9     90   665.41        38  17358.61         0"
      ]
     },
     "execution_count": 8,
     "metadata": {},
     "output_type": "execute_result"
    }
   ],
   "source": [
    "df.head(10)"
   ]
  },
  {
   "cell_type": "markdown",
   "metadata": {},
   "source": [
    "**Вывод по главе.**\n",
    "Был загружен файл и изучен. Аномалий в нем не замечено и ошибок тоже. Была сделана корреткировка данных по столбцам сalls и messages. Данные этих столбцов были переведены в целочисленный тип int64"
   ]
  },
  {
   "cell_type": "markdown",
   "metadata": {},
   "source": [
    "[Начало тетрадки](#intro)."
   ]
  },
  {
   "cell_type": "markdown",
   "metadata": {},
   "source": [
    "## Разобъем данные на выборки <a id='glava2'></a>"
   ]
  },
  {
   "cell_type": "markdown",
   "metadata": {},
   "source": [
    "Задание: Разделение исходных данных на обучающую, валидационную и тестовую выборки."
   ]
  },
  {
   "cell_type": "markdown",
   "metadata": {},
   "source": [
    "Размеры тестового и валидационного наборов обычно равны. Исходные данные разбивают в соотношении 3:1:1.\n",
    "\n",
    "Значит под обучающие данные мы выделим 60%.\n",
    "Под валидационную часть 20% и под тестовую часть тоже 20%"
   ]
  },
  {
   "cell_type": "markdown",
   "metadata": {},
   "source": [
    "Выделим для начала обучающую часть и \"остальную\" часть в соотношении 60% и 40%"
   ]
  },
  {
   "cell_type": "code",
   "execution_count": 9,
   "metadata": {},
   "outputs": [],
   "source": [
    "# df_train - обучающаяся выборка\n",
    "# df_other - оставшаяся часть, которую разобьем на тестовую и валидационную\n",
    "\n",
    "df_train, df_other = train_test_split(df, test_size=0.4, random_state=12345)"
   ]
  },
  {
   "cell_type": "markdown",
   "metadata": {},
   "source": [
    "Разобьем оставшуюся часть на валидационную и тестовую в соотношении 50% на 50%"
   ]
  },
  {
   "cell_type": "code",
   "execution_count": 10,
   "metadata": {},
   "outputs": [],
   "source": [
    "# df_valid - валидационная выборка\n",
    "# df_test - тестовая выборка\n",
    "\n",
    "df_valid, df_test = train_test_split(df_other, test_size=0.5, random_state=12345)"
   ]
  },
  {
   "cell_type": "markdown",
   "metadata": {},
   "source": [
    "Выделим признаки и целевые признаки у обучающей части"
   ]
  },
  {
   "cell_type": "code",
   "execution_count": 11,
   "metadata": {},
   "outputs": [],
   "source": [
    "features = df_train.drop(['is_ultra'], axis=1) \n",
    "target = df_train['is_ultra']"
   ]
  },
  {
   "cell_type": "markdown",
   "metadata": {},
   "source": [
    "Выделим признаки и целевые признаки у валидационной части"
   ]
  },
  {
   "cell_type": "code",
   "execution_count": 12,
   "metadata": {},
   "outputs": [],
   "source": [
    "valid_features = df_valid.drop(['is_ultra'], axis=1) \n",
    "valid_target = df_valid['is_ultra']"
   ]
  },
  {
   "cell_type": "markdown",
   "metadata": {},
   "source": [
    "Выделим признаки и целевые признаки у тестовой части"
   ]
  },
  {
   "cell_type": "code",
   "execution_count": 13,
   "metadata": {},
   "outputs": [],
   "source": [
    "test_features = df_test.drop(['is_ultra'], axis=1) \n",
    "test_target = df_test['is_ultra']"
   ]
  },
  {
   "cell_type": "markdown",
   "metadata": {},
   "source": [
    "**Вывод по главе.**\n",
    "Было проведено разделение исходных данных на обучающую(тренировочную), валидационную и тестовую выборки в пропорции 60%:20%:20%"
   ]
  },
  {
   "cell_type": "markdown",
   "metadata": {},
   "source": [
    "[Начало тетрадки](#intro)."
   ]
  },
  {
   "cell_type": "markdown",
   "metadata": {},
   "source": [
    "## Исследуем модели <a id='glava3'></a>"
   ]
  },
  {
   "cell_type": "markdown",
   "metadata": {},
   "source": [
    "В данной работе рассмотрим 3 модели:\n",
    "\n",
    "* Решающее дерево\n",
    "* Случайный лес\n",
    "* Логистическая регрессия\n",
    "\n",
    "Меняя гиперпараметры каждой модели выберим наилучшую. "
   ]
  },
  {
   "cell_type": "markdown",
   "metadata": {},
   "source": [
    "**Решающее дерево** <a id='model1'></a>"
   ]
  },
  {
   "cell_type": "markdown",
   "metadata": {},
   "source": [
    "Все гиперпараметры DecisionTreeClassifier: \n",
    "* criterion='gini' \n",
    "* splitter='best'\n",
    "* max_depth=None\n",
    "* min_samples_split=2\n",
    "* min_samples_leaf=1\n",
    "* min_weight_fraction_leaf=0.0\n",
    "* max_features=None\n",
    "* random_state=None\n",
    "* max_leaf_nodes=None\n",
    "* min_impurity_decrease=0.0 \n",
    "* class_weight=None\n",
    "* ccp_alpha=0.0\n",
    "\n",
    "Выделим 3 гиперпараметра и попробуем улучшить модель.\n",
    "Для исследования выберем \n",
    "- max_depth в диапазоне от 1 до 10\n",
    "- criterion с значениями “gini”, “entropy”, “log_loss”\n",
    "- min_samples_split (от англ. «минимальное количество примеров для разделения»). Этот гиперпараметр запрещает создавать узлы, в которые попадает слишком мало объектов обучающей выборки. Должно быть не менее 2.\n",
    "Остальные гиперпараметры оставим по умолчанию."
   ]
  },
  {
   "cell_type": "code",
   "execution_count": 14,
   "metadata": {},
   "outputs": [
    {
     "name": "stdout",
     "output_type": "stream",
     "text": [
      "1.1.1\n"
     ]
    }
   ],
   "source": [
    "import sklearn\n",
    "print(sklearn.__version__)    "
   ]
  },
  {
   "cell_type": "code",
   "execution_count": 15,
   "metadata": {},
   "outputs": [
    {
     "data": {
      "application/vnd.jupyter.widget-view+json": {
       "model_id": "afa6191dabe34eca8ec819ca573153b5",
       "version_major": 2,
       "version_minor": 0
      },
      "text/plain": [
       "  0%|          | 0/2 [00:00<?, ?it/s]"
      ]
     },
     "metadata": {},
     "output_type": "display_data"
    },
    {
     "name": "stdout",
     "output_type": "stream",
     "text": [
      "Процесс завершен\n",
      "\n",
      "Accuracy лучшей модели: 0.7900466562986003\n",
      "Лучшая max_depth: 9\n",
      "Лучшая criterion: entropy\n",
      "Лучшая min_samples_split: 21\n"
     ]
    }
   ],
   "source": [
    "##%%time\n",
    "best_model1 = None \n",
    "best_result = 0\n",
    "best_depth1 = 0\n",
    "best_criterion = 0\n",
    "best_samples = 0\n",
    "\n",
    "for i in tqdm([\"gini\", \"entropy\"]):\n",
    "    for depth in range(1, 10):\n",
    "        for samples in range(2, 40):\n",
    "            model1 = DecisionTreeClassifier(criterion=i, \n",
    "                                            max_depth=depth, \n",
    "                                            random_state=12345, \n",
    "                                            min_samples_split=samples) \n",
    "            # обучение модели\n",
    "            model1.fit(features, target) \n",
    "            \n",
    "            # получение предсказания модели \n",
    "            predictions = model1.predict(valid_features) \n",
    "            \n",
    "            # подсчет качества модели\n",
    "            result = accuracy_score(valid_target, predictions)\n",
    "             \n",
    "            if result > best_result:\n",
    "                best_model1 = model1 \n",
    "                best_result = result\n",
    "                best_depth1 = depth\n",
    "                best_criterion = i\n",
    "                best_samples = samples\n",
    "            sleep(0.01)\n",
    "                \n",
    "print('Процесс завершен')  \n",
    "print('')\n",
    "print(\"Accuracy лучшей модели:\", best_result)\n",
    "print(\"Лучшая max_depth:\", best_depth1)\n",
    "print(\"Лучшая criterion:\", best_criterion)\n",
    "print(\"Лучшая min_samples_split:\", best_samples)"
   ]
  },
  {
   "cell_type": "markdown",
   "metadata": {},
   "source": [
    "При данном max_depth нет смысла увеличивать min_samples_split относительно лучшей, так как значение Accuracy не меняется. Уменьшать тоже не смысла так как сразу ухудшится Accuracy и изменится глубина дерева в меньшую сторону и criterion изменится на gini"
   ]
  },
  {
   "cell_type": "markdown",
   "metadata": {},
   "source": [
    "**Случайный лес** <a id='model2'></a>"
   ]
  },
  {
   "cell_type": "markdown",
   "metadata": {},
   "source": [
    "Все гиперпараметры RandomForestClassifier: \n",
    "\n",
    "* n_estimators=100\n",
    "* criterion='gini'\n",
    "* max_depth=None\n",
    "* min_samples_split=2\n",
    "* min_samples_leaf=1\n",
    "* min_weight_fraction_leaf=0.0\n",
    "* max_features='sqrt'\n",
    "* max_leaf_nodes=None\n",
    "* min_impurity_decrease=0.0\n",
    "* bootstrap=True\n",
    "* oob_score=False\n",
    "* n_jobs=None\n",
    "* random_state=None\n",
    "* verbose=0\n",
    "* warm_start=False\n",
    "* class_weight=None\n",
    "* ccp_alpha=0.0\n",
    "* max_samples=None)\n",
    "\n",
    "Выделим 2 гиперпараметра и попробуем улучшить модель.\n",
    "Для исследования выберем \n",
    "- n_estimators в диапазоне от 1 до 100 (по умолчанию 100)\n",
    "- max_depth \n",
    "Остальные гиперпараметры оставим по умолчанию.\n"
   ]
  },
  {
   "cell_type": "code",
   "execution_count": 16,
   "metadata": {},
   "outputs": [
    {
     "data": {
      "application/vnd.jupyter.widget-view+json": {
       "model_id": "1fe4ba6cf0e84889b10ad3ddb8610c7d",
       "version_major": 2,
       "version_minor": 0
      },
      "text/plain": [
       "  0%|          | 0/99 [00:00<?, ?it/s]"
      ]
     },
     "metadata": {},
     "output_type": "display_data"
    },
    {
     "name": "stdout",
     "output_type": "stream",
     "text": [
      "Процесс завершен\n",
      "\n",
      "Accuracy лучшей модели: 0.8087091757387247\n",
      "Лучшая max_depth: 8\n",
      "Лучшая n_estimators: 40\n",
      "CPU times: user 1min 11s, sys: 665 ms, total: 1min 12s\n",
      "Wall time: 1min 21s\n"
     ]
    }
   ],
   "source": [
    "%%time\n",
    "best_model2 = None \n",
    "best_result = 0\n",
    "best_depth2 = 0\n",
    "best_est = 0\n",
    "\n",
    "for est in tqdm(range(1, 100)):\n",
    "    for depth in range(1, 9):\n",
    "        model2 = RandomForestClassifier(random_state=12345, \n",
    "                                        criterion='gini', \n",
    "                                        n_estimators=est, \n",
    "                                        max_depth = depth) \n",
    "        # обучение модели\n",
    "        model2.fit(features, target) \n",
    "        # получение предсказания модели \n",
    "        predictions = model2.predict(valid_features) \n",
    "        # подсчет качества модели\n",
    "        result = accuracy_score(valid_target, predictions)\n",
    "\n",
    "        if result > best_result:\n",
    "            best_model2 = model2 \n",
    "            best_result = result\n",
    "            best_depth2 = depth\n",
    "            best_est = est\n",
    "        sleep(0.01)    \n",
    "print('Процесс завершен')  \n",
    "print('')\n",
    "print(\"Accuracy лучшей модели:\", best_result)\n",
    "print(\"Лучшая max_depth:\", best_depth2)\n",
    "print(\"Лучшая n_estimators:\", best_est)"
   ]
  },
  {
   "cell_type": "markdown",
   "metadata": {},
   "source": [
    "При рассчитанных параметрах при увеличении n_estimators и max_depth Accuracy не меняется, так как найдено максимальное знаечние для лучшей модели. А увеличение также приводит к увеличениб времени расчетов."
   ]
  },
  {
   "cell_type": "markdown",
   "metadata": {},
   "source": [
    "**Логистическая регрессия** <a id='model3'></a>"
   ]
  },
  {
   "cell_type": "markdown",
   "metadata": {},
   "source": [
    "Все гиперпараметры LogisticRegression:\n",
    "* penalty='l2' \n",
    "* dual=False\n",
    "* tol=0.0001\n",
    "* C=1.0\n",
    "* fit_intercept=True\n",
    "* intercept_scaling=1\n",
    "* class_weight=None\n",
    "* random_state=None\n",
    "* solver='lbfgs'\n",
    "* max_iter=100\n",
    "* multi_class='auto'\n",
    "* verbose=0\n",
    "* warm_start=False\n",
    "* n_jobs=None\n",
    "* l1_ratio=None)\n",
    "\n",
    "Выделим 1 гиперпараметр и попробуем улучшить модель.\n",
    "Для исследования выберем \n",
    "- max_iter в диапазоне от 1 до 500 (задаётся максимальное количество итераций обучения)\n",
    "\n",
    "Остальные гиперпараметры оставим по умолчанию.\n"
   ]
  },
  {
   "cell_type": "code",
   "execution_count": 17,
   "metadata": {
    "scrolled": true
   },
   "outputs": [
    {
     "name": "stderr",
     "output_type": "stream",
     "text": [
      "/Users/manyak_pro/opt/anaconda3/lib/python3.9/site-packages/sklearn/linear_model/_logistic.py:444: ConvergenceWarning: lbfgs failed to converge (status=1):\n",
      "STOP: TOTAL NO. of ITERATIONS REACHED LIMIT.\n",
      "\n",
      "Increase the number of iterations (max_iter) or scale the data as shown in:\n",
      "    https://scikit-learn.org/stable/modules/preprocessing.html\n",
      "Please also refer to the documentation for alternative solver options:\n",
      "    https://scikit-learn.org/stable/modules/linear_model.html#logistic-regression\n",
      "  n_iter_i = _check_optimize_result(\n",
      "/Users/manyak_pro/opt/anaconda3/lib/python3.9/site-packages/sklearn/linear_model/_logistic.py:444: ConvergenceWarning: lbfgs failed to converge (status=1):\n",
      "STOP: TOTAL NO. of ITERATIONS REACHED LIMIT.\n",
      "\n",
      "Increase the number of iterations (max_iter) or scale the data as shown in:\n",
      "    https://scikit-learn.org/stable/modules/preprocessing.html\n",
      "Please also refer to the documentation for alternative solver options:\n",
      "    https://scikit-learn.org/stable/modules/linear_model.html#logistic-regression\n",
      "  n_iter_i = _check_optimize_result(\n",
      "/Users/manyak_pro/opt/anaconda3/lib/python3.9/site-packages/sklearn/linear_model/_logistic.py:444: ConvergenceWarning: lbfgs failed to converge (status=1):\n",
      "STOP: TOTAL NO. of ITERATIONS REACHED LIMIT.\n",
      "\n",
      "Increase the number of iterations (max_iter) or scale the data as shown in:\n",
      "    https://scikit-learn.org/stable/modules/preprocessing.html\n",
      "Please also refer to the documentation for alternative solver options:\n",
      "    https://scikit-learn.org/stable/modules/linear_model.html#logistic-regression\n",
      "  n_iter_i = _check_optimize_result(\n",
      "/Users/manyak_pro/opt/anaconda3/lib/python3.9/site-packages/sklearn/linear_model/_logistic.py:444: ConvergenceWarning: lbfgs failed to converge (status=1):\n",
      "STOP: TOTAL NO. of ITERATIONS REACHED LIMIT.\n",
      "\n",
      "Increase the number of iterations (max_iter) or scale the data as shown in:\n",
      "    https://scikit-learn.org/stable/modules/preprocessing.html\n",
      "Please also refer to the documentation for alternative solver options:\n",
      "    https://scikit-learn.org/stable/modules/linear_model.html#logistic-regression\n",
      "  n_iter_i = _check_optimize_result(\n",
      "/Users/manyak_pro/opt/anaconda3/lib/python3.9/site-packages/sklearn/linear_model/_logistic.py:444: ConvergenceWarning: lbfgs failed to converge (status=1):\n",
      "STOP: TOTAL NO. of ITERATIONS REACHED LIMIT.\n",
      "\n",
      "Increase the number of iterations (max_iter) or scale the data as shown in:\n",
      "    https://scikit-learn.org/stable/modules/preprocessing.html\n",
      "Please also refer to the documentation for alternative solver options:\n",
      "    https://scikit-learn.org/stable/modules/linear_model.html#logistic-regression\n",
      "  n_iter_i = _check_optimize_result(\n",
      "/Users/manyak_pro/opt/anaconda3/lib/python3.9/site-packages/sklearn/linear_model/_logistic.py:444: ConvergenceWarning: lbfgs failed to converge (status=1):\n",
      "STOP: TOTAL NO. of ITERATIONS REACHED LIMIT.\n",
      "\n",
      "Increase the number of iterations (max_iter) or scale the data as shown in:\n",
      "    https://scikit-learn.org/stable/modules/preprocessing.html\n",
      "Please also refer to the documentation for alternative solver options:\n",
      "    https://scikit-learn.org/stable/modules/linear_model.html#logistic-regression\n",
      "  n_iter_i = _check_optimize_result(\n",
      "/Users/manyak_pro/opt/anaconda3/lib/python3.9/site-packages/sklearn/linear_model/_logistic.py:444: ConvergenceWarning: lbfgs failed to converge (status=1):\n",
      "STOP: TOTAL NO. of ITERATIONS REACHED LIMIT.\n",
      "\n",
      "Increase the number of iterations (max_iter) or scale the data as shown in:\n",
      "    https://scikit-learn.org/stable/modules/preprocessing.html\n",
      "Please also refer to the documentation for alternative solver options:\n",
      "    https://scikit-learn.org/stable/modules/linear_model.html#logistic-regression\n",
      "  n_iter_i = _check_optimize_result(\n",
      "/Users/manyak_pro/opt/anaconda3/lib/python3.9/site-packages/sklearn/linear_model/_logistic.py:444: ConvergenceWarning: lbfgs failed to converge (status=1):\n",
      "STOP: TOTAL NO. of ITERATIONS REACHED LIMIT.\n",
      "\n",
      "Increase the number of iterations (max_iter) or scale the data as shown in:\n",
      "    https://scikit-learn.org/stable/modules/preprocessing.html\n",
      "Please also refer to the documentation for alternative solver options:\n",
      "    https://scikit-learn.org/stable/modules/linear_model.html#logistic-regression\n",
      "  n_iter_i = _check_optimize_result(\n",
      "/Users/manyak_pro/opt/anaconda3/lib/python3.9/site-packages/sklearn/linear_model/_logistic.py:444: ConvergenceWarning: lbfgs failed to converge (status=1):\n",
      "STOP: TOTAL NO. of ITERATIONS REACHED LIMIT.\n",
      "\n",
      "Increase the number of iterations (max_iter) or scale the data as shown in:\n",
      "    https://scikit-learn.org/stable/modules/preprocessing.html\n",
      "Please also refer to the documentation for alternative solver options:\n",
      "    https://scikit-learn.org/stable/modules/linear_model.html#logistic-regression\n",
      "  n_iter_i = _check_optimize_result(\n",
      "/Users/manyak_pro/opt/anaconda3/lib/python3.9/site-packages/sklearn/linear_model/_logistic.py:444: ConvergenceWarning: lbfgs failed to converge (status=1):\n",
      "STOP: TOTAL NO. of ITERATIONS REACHED LIMIT.\n",
      "\n",
      "Increase the number of iterations (max_iter) or scale the data as shown in:\n",
      "    https://scikit-learn.org/stable/modules/preprocessing.html\n",
      "Please also refer to the documentation for alternative solver options:\n",
      "    https://scikit-learn.org/stable/modules/linear_model.html#logistic-regression\n",
      "  n_iter_i = _check_optimize_result(\n",
      "/Users/manyak_pro/opt/anaconda3/lib/python3.9/site-packages/sklearn/linear_model/_logistic.py:444: ConvergenceWarning: lbfgs failed to converge (status=1):\n",
      "STOP: TOTAL NO. of ITERATIONS REACHED LIMIT.\n",
      "\n",
      "Increase the number of iterations (max_iter) or scale the data as shown in:\n",
      "    https://scikit-learn.org/stable/modules/preprocessing.html\n",
      "Please also refer to the documentation for alternative solver options:\n",
      "    https://scikit-learn.org/stable/modules/linear_model.html#logistic-regression\n",
      "  n_iter_i = _check_optimize_result(\n",
      "/Users/manyak_pro/opt/anaconda3/lib/python3.9/site-packages/sklearn/linear_model/_logistic.py:444: ConvergenceWarning: lbfgs failed to converge (status=1):\n",
      "STOP: TOTAL NO. of ITERATIONS REACHED LIMIT.\n",
      "\n",
      "Increase the number of iterations (max_iter) or scale the data as shown in:\n",
      "    https://scikit-learn.org/stable/modules/preprocessing.html\n",
      "Please also refer to the documentation for alternative solver options:\n",
      "    https://scikit-learn.org/stable/modules/linear_model.html#logistic-regression\n",
      "  n_iter_i = _check_optimize_result(\n",
      "/Users/manyak_pro/opt/anaconda3/lib/python3.9/site-packages/sklearn/linear_model/_logistic.py:444: ConvergenceWarning: lbfgs failed to converge (status=1):\n",
      "STOP: TOTAL NO. of ITERATIONS REACHED LIMIT.\n",
      "\n",
      "Increase the number of iterations (max_iter) or scale the data as shown in:\n",
      "    https://scikit-learn.org/stable/modules/preprocessing.html\n",
      "Please also refer to the documentation for alternative solver options:\n",
      "    https://scikit-learn.org/stable/modules/linear_model.html#logistic-regression\n",
      "  n_iter_i = _check_optimize_result(\n",
      "/Users/manyak_pro/opt/anaconda3/lib/python3.9/site-packages/sklearn/linear_model/_logistic.py:444: ConvergenceWarning: lbfgs failed to converge (status=1):\n",
      "STOP: TOTAL NO. of ITERATIONS REACHED LIMIT.\n",
      "\n",
      "Increase the number of iterations (max_iter) or scale the data as shown in:\n",
      "    https://scikit-learn.org/stable/modules/preprocessing.html\n",
      "Please also refer to the documentation for alternative solver options:\n",
      "    https://scikit-learn.org/stable/modules/linear_model.html#logistic-regression\n",
      "  n_iter_i = _check_optimize_result(\n",
      "/Users/manyak_pro/opt/anaconda3/lib/python3.9/site-packages/sklearn/linear_model/_logistic.py:444: ConvergenceWarning: lbfgs failed to converge (status=1):\n",
      "STOP: TOTAL NO. of ITERATIONS REACHED LIMIT.\n",
      "\n",
      "Increase the number of iterations (max_iter) or scale the data as shown in:\n",
      "    https://scikit-learn.org/stable/modules/preprocessing.html\n",
      "Please also refer to the documentation for alternative solver options:\n",
      "    https://scikit-learn.org/stable/modules/linear_model.html#logistic-regression\n",
      "  n_iter_i = _check_optimize_result(\n",
      "/Users/manyak_pro/opt/anaconda3/lib/python3.9/site-packages/sklearn/linear_model/_logistic.py:444: ConvergenceWarning: lbfgs failed to converge (status=1):\n",
      "STOP: TOTAL NO. of ITERATIONS REACHED LIMIT.\n",
      "\n",
      "Increase the number of iterations (max_iter) or scale the data as shown in:\n",
      "    https://scikit-learn.org/stable/modules/preprocessing.html\n",
      "Please also refer to the documentation for alternative solver options:\n",
      "    https://scikit-learn.org/stable/modules/linear_model.html#logistic-regression\n",
      "  n_iter_i = _check_optimize_result(\n",
      "/Users/manyak_pro/opt/anaconda3/lib/python3.9/site-packages/sklearn/linear_model/_logistic.py:444: ConvergenceWarning: lbfgs failed to converge (status=1):\n",
      "STOP: TOTAL NO. of ITERATIONS REACHED LIMIT.\n",
      "\n",
      "Increase the number of iterations (max_iter) or scale the data as shown in:\n",
      "    https://scikit-learn.org/stable/modules/preprocessing.html\n",
      "Please also refer to the documentation for alternative solver options:\n",
      "    https://scikit-learn.org/stable/modules/linear_model.html#logistic-regression\n",
      "  n_iter_i = _check_optimize_result(\n",
      "/Users/manyak_pro/opt/anaconda3/lib/python3.9/site-packages/sklearn/linear_model/_logistic.py:444: ConvergenceWarning: lbfgs failed to converge (status=1):\n",
      "STOP: TOTAL NO. of ITERATIONS REACHED LIMIT.\n",
      "\n",
      "Increase the number of iterations (max_iter) or scale the data as shown in:\n",
      "    https://scikit-learn.org/stable/modules/preprocessing.html\n",
      "Please also refer to the documentation for alternative solver options:\n",
      "    https://scikit-learn.org/stable/modules/linear_model.html#logistic-regression\n",
      "  n_iter_i = _check_optimize_result(\n",
      "/Users/manyak_pro/opt/anaconda3/lib/python3.9/site-packages/sklearn/linear_model/_logistic.py:444: ConvergenceWarning: lbfgs failed to converge (status=1):\n",
      "STOP: TOTAL NO. of ITERATIONS REACHED LIMIT.\n",
      "\n",
      "Increase the number of iterations (max_iter) or scale the data as shown in:\n",
      "    https://scikit-learn.org/stable/modules/preprocessing.html\n",
      "Please also refer to the documentation for alternative solver options:\n",
      "    https://scikit-learn.org/stable/modules/linear_model.html#logistic-regression\n",
      "  n_iter_i = _check_optimize_result(\n",
      "/Users/manyak_pro/opt/anaconda3/lib/python3.9/site-packages/sklearn/linear_model/_logistic.py:444: ConvergenceWarning: lbfgs failed to converge (status=1):\n",
      "STOP: TOTAL NO. of ITERATIONS REACHED LIMIT.\n",
      "\n",
      "Increase the number of iterations (max_iter) or scale the data as shown in:\n",
      "    https://scikit-learn.org/stable/modules/preprocessing.html\n",
      "Please also refer to the documentation for alternative solver options:\n",
      "    https://scikit-learn.org/stable/modules/linear_model.html#logistic-regression\n",
      "  n_iter_i = _check_optimize_result(\n",
      "/Users/manyak_pro/opt/anaconda3/lib/python3.9/site-packages/sklearn/linear_model/_logistic.py:444: ConvergenceWarning: lbfgs failed to converge (status=1):\n",
      "STOP: TOTAL NO. of ITERATIONS REACHED LIMIT.\n",
      "\n",
      "Increase the number of iterations (max_iter) or scale the data as shown in:\n",
      "    https://scikit-learn.org/stable/modules/preprocessing.html\n",
      "Please also refer to the documentation for alternative solver options:\n",
      "    https://scikit-learn.org/stable/modules/linear_model.html#logistic-regression\n",
      "  n_iter_i = _check_optimize_result(\n",
      "/Users/manyak_pro/opt/anaconda3/lib/python3.9/site-packages/sklearn/linear_model/_logistic.py:444: ConvergenceWarning: lbfgs failed to converge (status=1):\n",
      "STOP: TOTAL NO. of ITERATIONS REACHED LIMIT.\n",
      "\n",
      "Increase the number of iterations (max_iter) or scale the data as shown in:\n",
      "    https://scikit-learn.org/stable/modules/preprocessing.html\n",
      "Please also refer to the documentation for alternative solver options:\n",
      "    https://scikit-learn.org/stable/modules/linear_model.html#logistic-regression\n",
      "  n_iter_i = _check_optimize_result(\n",
      "/Users/manyak_pro/opt/anaconda3/lib/python3.9/site-packages/sklearn/linear_model/_logistic.py:444: ConvergenceWarning: lbfgs failed to converge (status=1):\n",
      "STOP: TOTAL NO. of ITERATIONS REACHED LIMIT.\n",
      "\n",
      "Increase the number of iterations (max_iter) or scale the data as shown in:\n",
      "    https://scikit-learn.org/stable/modules/preprocessing.html\n",
      "Please also refer to the documentation for alternative solver options:\n",
      "    https://scikit-learn.org/stable/modules/linear_model.html#logistic-regression\n",
      "  n_iter_i = _check_optimize_result(\n",
      "/Users/manyak_pro/opt/anaconda3/lib/python3.9/site-packages/sklearn/linear_model/_logistic.py:444: ConvergenceWarning: lbfgs failed to converge (status=1):\n",
      "STOP: TOTAL NO. of ITERATIONS REACHED LIMIT.\n",
      "\n",
      "Increase the number of iterations (max_iter) or scale the data as shown in:\n",
      "    https://scikit-learn.org/stable/modules/preprocessing.html\n",
      "Please also refer to the documentation for alternative solver options:\n",
      "    https://scikit-learn.org/stable/modules/linear_model.html#logistic-regression\n",
      "  n_iter_i = _check_optimize_result(\n",
      "/Users/manyak_pro/opt/anaconda3/lib/python3.9/site-packages/sklearn/linear_model/_logistic.py:444: ConvergenceWarning: lbfgs failed to converge (status=1):\n",
      "STOP: TOTAL NO. of ITERATIONS REACHED LIMIT.\n",
      "\n",
      "Increase the number of iterations (max_iter) or scale the data as shown in:\n",
      "    https://scikit-learn.org/stable/modules/preprocessing.html\n",
      "Please also refer to the documentation for alternative solver options:\n",
      "    https://scikit-learn.org/stable/modules/linear_model.html#logistic-regression\n",
      "  n_iter_i = _check_optimize_result(\n",
      "/Users/manyak_pro/opt/anaconda3/lib/python3.9/site-packages/sklearn/linear_model/_logistic.py:444: ConvergenceWarning: lbfgs failed to converge (status=1):\n",
      "STOP: TOTAL NO. of ITERATIONS REACHED LIMIT.\n",
      "\n",
      "Increase the number of iterations (max_iter) or scale the data as shown in:\n",
      "    https://scikit-learn.org/stable/modules/preprocessing.html\n",
      "Please also refer to the documentation for alternative solver options:\n",
      "    https://scikit-learn.org/stable/modules/linear_model.html#logistic-regression\n",
      "  n_iter_i = _check_optimize_result(\n",
      "/Users/manyak_pro/opt/anaconda3/lib/python3.9/site-packages/sklearn/linear_model/_logistic.py:444: ConvergenceWarning: lbfgs failed to converge (status=1):\n",
      "STOP: TOTAL NO. of ITERATIONS REACHED LIMIT.\n",
      "\n",
      "Increase the number of iterations (max_iter) or scale the data as shown in:\n",
      "    https://scikit-learn.org/stable/modules/preprocessing.html\n",
      "Please also refer to the documentation for alternative solver options:\n",
      "    https://scikit-learn.org/stable/modules/linear_model.html#logistic-regression\n",
      "  n_iter_i = _check_optimize_result(\n",
      "/Users/manyak_pro/opt/anaconda3/lib/python3.9/site-packages/sklearn/linear_model/_logistic.py:444: ConvergenceWarning: lbfgs failed to converge (status=1):\n",
      "STOP: TOTAL NO. of ITERATIONS REACHED LIMIT.\n",
      "\n",
      "Increase the number of iterations (max_iter) or scale the data as shown in:\n",
      "    https://scikit-learn.org/stable/modules/preprocessing.html\n",
      "Please also refer to the documentation for alternative solver options:\n",
      "    https://scikit-learn.org/stable/modules/linear_model.html#logistic-regression\n",
      "  n_iter_i = _check_optimize_result(\n",
      "/Users/manyak_pro/opt/anaconda3/lib/python3.9/site-packages/sklearn/linear_model/_logistic.py:444: ConvergenceWarning: lbfgs failed to converge (status=1):\n",
      "STOP: TOTAL NO. of ITERATIONS REACHED LIMIT.\n",
      "\n",
      "Increase the number of iterations (max_iter) or scale the data as shown in:\n",
      "    https://scikit-learn.org/stable/modules/preprocessing.html\n",
      "Please also refer to the documentation for alternative solver options:\n",
      "    https://scikit-learn.org/stable/modules/linear_model.html#logistic-regression\n",
      "  n_iter_i = _check_optimize_result(\n",
      "/Users/manyak_pro/opt/anaconda3/lib/python3.9/site-packages/sklearn/linear_model/_logistic.py:444: ConvergenceWarning: lbfgs failed to converge (status=1):\n",
      "STOP: TOTAL NO. of ITERATIONS REACHED LIMIT.\n",
      "\n",
      "Increase the number of iterations (max_iter) or scale the data as shown in:\n",
      "    https://scikit-learn.org/stable/modules/preprocessing.html\n",
      "Please also refer to the documentation for alternative solver options:\n",
      "    https://scikit-learn.org/stable/modules/linear_model.html#logistic-regression\n",
      "  n_iter_i = _check_optimize_result(\n",
      "/Users/manyak_pro/opt/anaconda3/lib/python3.9/site-packages/sklearn/linear_model/_logistic.py:444: ConvergenceWarning: lbfgs failed to converge (status=1):\n",
      "STOP: TOTAL NO. of ITERATIONS REACHED LIMIT.\n",
      "\n",
      "Increase the number of iterations (max_iter) or scale the data as shown in:\n",
      "    https://scikit-learn.org/stable/modules/preprocessing.html\n",
      "Please also refer to the documentation for alternative solver options:\n",
      "    https://scikit-learn.org/stable/modules/linear_model.html#logistic-regression\n",
      "  n_iter_i = _check_optimize_result(\n",
      "/Users/manyak_pro/opt/anaconda3/lib/python3.9/site-packages/sklearn/linear_model/_logistic.py:444: ConvergenceWarning: lbfgs failed to converge (status=1):\n",
      "STOP: TOTAL NO. of ITERATIONS REACHED LIMIT.\n",
      "\n",
      "Increase the number of iterations (max_iter) or scale the data as shown in:\n",
      "    https://scikit-learn.org/stable/modules/preprocessing.html\n",
      "Please also refer to the documentation for alternative solver options:\n",
      "    https://scikit-learn.org/stable/modules/linear_model.html#logistic-regression\n",
      "  n_iter_i = _check_optimize_result(\n"
     ]
    },
    {
     "name": "stderr",
     "output_type": "stream",
     "text": [
      "/Users/manyak_pro/opt/anaconda3/lib/python3.9/site-packages/sklearn/linear_model/_logistic.py:444: ConvergenceWarning: lbfgs failed to converge (status=1):\n",
      "STOP: TOTAL NO. of ITERATIONS REACHED LIMIT.\n",
      "\n",
      "Increase the number of iterations (max_iter) or scale the data as shown in:\n",
      "    https://scikit-learn.org/stable/modules/preprocessing.html\n",
      "Please also refer to the documentation for alternative solver options:\n",
      "    https://scikit-learn.org/stable/modules/linear_model.html#logistic-regression\n",
      "  n_iter_i = _check_optimize_result(\n",
      "/Users/manyak_pro/opt/anaconda3/lib/python3.9/site-packages/sklearn/linear_model/_logistic.py:444: ConvergenceWarning: lbfgs failed to converge (status=1):\n",
      "STOP: TOTAL NO. of ITERATIONS REACHED LIMIT.\n",
      "\n",
      "Increase the number of iterations (max_iter) or scale the data as shown in:\n",
      "    https://scikit-learn.org/stable/modules/preprocessing.html\n",
      "Please also refer to the documentation for alternative solver options:\n",
      "    https://scikit-learn.org/stable/modules/linear_model.html#logistic-regression\n",
      "  n_iter_i = _check_optimize_result(\n",
      "/Users/manyak_pro/opt/anaconda3/lib/python3.9/site-packages/sklearn/linear_model/_logistic.py:444: ConvergenceWarning: lbfgs failed to converge (status=1):\n",
      "STOP: TOTAL NO. of ITERATIONS REACHED LIMIT.\n",
      "\n",
      "Increase the number of iterations (max_iter) or scale the data as shown in:\n",
      "    https://scikit-learn.org/stable/modules/preprocessing.html\n",
      "Please also refer to the documentation for alternative solver options:\n",
      "    https://scikit-learn.org/stable/modules/linear_model.html#logistic-regression\n",
      "  n_iter_i = _check_optimize_result(\n",
      "/Users/manyak_pro/opt/anaconda3/lib/python3.9/site-packages/sklearn/linear_model/_logistic.py:444: ConvergenceWarning: lbfgs failed to converge (status=1):\n",
      "STOP: TOTAL NO. of ITERATIONS REACHED LIMIT.\n",
      "\n",
      "Increase the number of iterations (max_iter) or scale the data as shown in:\n",
      "    https://scikit-learn.org/stable/modules/preprocessing.html\n",
      "Please also refer to the documentation for alternative solver options:\n",
      "    https://scikit-learn.org/stable/modules/linear_model.html#logistic-regression\n",
      "  n_iter_i = _check_optimize_result(\n",
      "/Users/manyak_pro/opt/anaconda3/lib/python3.9/site-packages/sklearn/linear_model/_logistic.py:444: ConvergenceWarning: lbfgs failed to converge (status=1):\n",
      "STOP: TOTAL NO. of ITERATIONS REACHED LIMIT.\n",
      "\n",
      "Increase the number of iterations (max_iter) or scale the data as shown in:\n",
      "    https://scikit-learn.org/stable/modules/preprocessing.html\n",
      "Please also refer to the documentation for alternative solver options:\n",
      "    https://scikit-learn.org/stable/modules/linear_model.html#logistic-regression\n",
      "  n_iter_i = _check_optimize_result(\n",
      "/Users/manyak_pro/opt/anaconda3/lib/python3.9/site-packages/sklearn/linear_model/_logistic.py:444: ConvergenceWarning: lbfgs failed to converge (status=1):\n",
      "STOP: TOTAL NO. of ITERATIONS REACHED LIMIT.\n",
      "\n",
      "Increase the number of iterations (max_iter) or scale the data as shown in:\n",
      "    https://scikit-learn.org/stable/modules/preprocessing.html\n",
      "Please also refer to the documentation for alternative solver options:\n",
      "    https://scikit-learn.org/stable/modules/linear_model.html#logistic-regression\n",
      "  n_iter_i = _check_optimize_result(\n",
      "/Users/manyak_pro/opt/anaconda3/lib/python3.9/site-packages/sklearn/linear_model/_logistic.py:444: ConvergenceWarning: lbfgs failed to converge (status=1):\n",
      "STOP: TOTAL NO. of ITERATIONS REACHED LIMIT.\n",
      "\n",
      "Increase the number of iterations (max_iter) or scale the data as shown in:\n",
      "    https://scikit-learn.org/stable/modules/preprocessing.html\n",
      "Please also refer to the documentation for alternative solver options:\n",
      "    https://scikit-learn.org/stable/modules/linear_model.html#logistic-regression\n",
      "  n_iter_i = _check_optimize_result(\n",
      "/Users/manyak_pro/opt/anaconda3/lib/python3.9/site-packages/sklearn/linear_model/_logistic.py:444: ConvergenceWarning: lbfgs failed to converge (status=1):\n",
      "STOP: TOTAL NO. of ITERATIONS REACHED LIMIT.\n",
      "\n",
      "Increase the number of iterations (max_iter) or scale the data as shown in:\n",
      "    https://scikit-learn.org/stable/modules/preprocessing.html\n",
      "Please also refer to the documentation for alternative solver options:\n",
      "    https://scikit-learn.org/stable/modules/linear_model.html#logistic-regression\n",
      "  n_iter_i = _check_optimize_result(\n",
      "/Users/manyak_pro/opt/anaconda3/lib/python3.9/site-packages/sklearn/linear_model/_logistic.py:444: ConvergenceWarning: lbfgs failed to converge (status=1):\n",
      "STOP: TOTAL NO. of ITERATIONS REACHED LIMIT.\n",
      "\n",
      "Increase the number of iterations (max_iter) or scale the data as shown in:\n",
      "    https://scikit-learn.org/stable/modules/preprocessing.html\n",
      "Please also refer to the documentation for alternative solver options:\n",
      "    https://scikit-learn.org/stable/modules/linear_model.html#logistic-regression\n",
      "  n_iter_i = _check_optimize_result(\n",
      "/Users/manyak_pro/opt/anaconda3/lib/python3.9/site-packages/sklearn/linear_model/_logistic.py:444: ConvergenceWarning: lbfgs failed to converge (status=1):\n",
      "STOP: TOTAL NO. of ITERATIONS REACHED LIMIT.\n",
      "\n",
      "Increase the number of iterations (max_iter) or scale the data as shown in:\n",
      "    https://scikit-learn.org/stable/modules/preprocessing.html\n",
      "Please also refer to the documentation for alternative solver options:\n",
      "    https://scikit-learn.org/stable/modules/linear_model.html#logistic-regression\n",
      "  n_iter_i = _check_optimize_result(\n",
      "/Users/manyak_pro/opt/anaconda3/lib/python3.9/site-packages/sklearn/linear_model/_logistic.py:444: ConvergenceWarning: lbfgs failed to converge (status=1):\n",
      "STOP: TOTAL NO. of ITERATIONS REACHED LIMIT.\n",
      "\n",
      "Increase the number of iterations (max_iter) or scale the data as shown in:\n",
      "    https://scikit-learn.org/stable/modules/preprocessing.html\n",
      "Please also refer to the documentation for alternative solver options:\n",
      "    https://scikit-learn.org/stable/modules/linear_model.html#logistic-regression\n",
      "  n_iter_i = _check_optimize_result(\n",
      "/Users/manyak_pro/opt/anaconda3/lib/python3.9/site-packages/sklearn/linear_model/_logistic.py:444: ConvergenceWarning: lbfgs failed to converge (status=1):\n",
      "STOP: TOTAL NO. of ITERATIONS REACHED LIMIT.\n",
      "\n",
      "Increase the number of iterations (max_iter) or scale the data as shown in:\n",
      "    https://scikit-learn.org/stable/modules/preprocessing.html\n",
      "Please also refer to the documentation for alternative solver options:\n",
      "    https://scikit-learn.org/stable/modules/linear_model.html#logistic-regression\n",
      "  n_iter_i = _check_optimize_result(\n",
      "/Users/manyak_pro/opt/anaconda3/lib/python3.9/site-packages/sklearn/linear_model/_logistic.py:444: ConvergenceWarning: lbfgs failed to converge (status=1):\n",
      "STOP: TOTAL NO. of ITERATIONS REACHED LIMIT.\n",
      "\n",
      "Increase the number of iterations (max_iter) or scale the data as shown in:\n",
      "    https://scikit-learn.org/stable/modules/preprocessing.html\n",
      "Please also refer to the documentation for alternative solver options:\n",
      "    https://scikit-learn.org/stable/modules/linear_model.html#logistic-regression\n",
      "  n_iter_i = _check_optimize_result(\n",
      "/Users/manyak_pro/opt/anaconda3/lib/python3.9/site-packages/sklearn/linear_model/_logistic.py:444: ConvergenceWarning: lbfgs failed to converge (status=1):\n",
      "STOP: TOTAL NO. of ITERATIONS REACHED LIMIT.\n",
      "\n",
      "Increase the number of iterations (max_iter) or scale the data as shown in:\n",
      "    https://scikit-learn.org/stable/modules/preprocessing.html\n",
      "Please also refer to the documentation for alternative solver options:\n",
      "    https://scikit-learn.org/stable/modules/linear_model.html#logistic-regression\n",
      "  n_iter_i = _check_optimize_result(\n",
      "/Users/manyak_pro/opt/anaconda3/lib/python3.9/site-packages/sklearn/linear_model/_logistic.py:444: ConvergenceWarning: lbfgs failed to converge (status=1):\n",
      "STOP: TOTAL NO. of ITERATIONS REACHED LIMIT.\n",
      "\n",
      "Increase the number of iterations (max_iter) or scale the data as shown in:\n",
      "    https://scikit-learn.org/stable/modules/preprocessing.html\n",
      "Please also refer to the documentation for alternative solver options:\n",
      "    https://scikit-learn.org/stable/modules/linear_model.html#logistic-regression\n",
      "  n_iter_i = _check_optimize_result(\n",
      "/Users/manyak_pro/opt/anaconda3/lib/python3.9/site-packages/sklearn/linear_model/_logistic.py:444: ConvergenceWarning: lbfgs failed to converge (status=1):\n",
      "STOP: TOTAL NO. of ITERATIONS REACHED LIMIT.\n",
      "\n",
      "Increase the number of iterations (max_iter) or scale the data as shown in:\n",
      "    https://scikit-learn.org/stable/modules/preprocessing.html\n",
      "Please also refer to the documentation for alternative solver options:\n",
      "    https://scikit-learn.org/stable/modules/linear_model.html#logistic-regression\n",
      "  n_iter_i = _check_optimize_result(\n",
      "/Users/manyak_pro/opt/anaconda3/lib/python3.9/site-packages/sklearn/linear_model/_logistic.py:444: ConvergenceWarning: lbfgs failed to converge (status=1):\n",
      "STOP: TOTAL NO. of ITERATIONS REACHED LIMIT.\n",
      "\n",
      "Increase the number of iterations (max_iter) or scale the data as shown in:\n",
      "    https://scikit-learn.org/stable/modules/preprocessing.html\n",
      "Please also refer to the documentation for alternative solver options:\n",
      "    https://scikit-learn.org/stable/modules/linear_model.html#logistic-regression\n",
      "  n_iter_i = _check_optimize_result(\n"
     ]
    },
    {
     "name": "stdout",
     "output_type": "stream",
     "text": [
      "Accuracy лучшей модели: 0.7107309486780715\n",
      "Лучшая max_iter: 39\n",
      "CPU times: user 42.3 s, sys: 602 ms, total: 42.9 s\n",
      "Wall time: 5.38 s\n"
     ]
    }
   ],
   "source": [
    "%%time\n",
    "best_model3 = None \n",
    "best_result = 0\n",
    "best_iter = 0\n",
    "\n",
    "\n",
    "for iteration in range(1, 500):\n",
    "    model3 = LogisticRegression(random_state=12345, \n",
    "                                solver='lbfgs', \n",
    "                                max_iter=iteration)\n",
    "    \n",
    "    # обучение модели\n",
    "    model3.fit(features, target) \n",
    "    \n",
    "    # получение предсказания модели \n",
    "    predictions = model3.predict(valid_features) \n",
    "    \n",
    "    # подсчет качества модели\n",
    "    result = accuracy_score(valid_target, predictions)\n",
    "    \n",
    "    if result > best_result:\n",
    "        best_model3 = model3 \n",
    "        best_result = result\n",
    "        best_iter = iteration\n",
    "                 \n",
    "print(\"Accuracy лучшей модели:\", best_result)\n",
    "print(\"Лучшая max_iter:\", best_iter)"
   ]
  },
  {
   "cell_type": "markdown",
   "metadata": {},
   "source": [
    "Наилучшее значение получено при max_iter=39. Результат нам не подходит так как меньше 0.75."
   ]
  },
  {
   "cell_type": "markdown",
   "metadata": {},
   "source": [
    "**Вывод по главе.**\n",
    "Было проведено исследование как гиперпараметры влияют на результат в обучаемой модели. Для каждой модели рассмотрели разные гиперпараметры и в разном кол-ве. При нашем исследовании лучшей моделью оказалась RandomForestClassifier. Однако модель полученная с помощью DecisionTreeClassifier тоже подходит, так больше 0.75 и близка к значению полученного у модели случайный лес."
   ]
  },
  {
   "cell_type": "markdown",
   "metadata": {},
   "source": [
    "[Начало тетрадки](#intro)."
   ]
  },
  {
   "cell_type": "markdown",
   "metadata": {},
   "source": [
    "## Проверим модель на тестовой выборке <a id='glava4'></a>"
   ]
  },
  {
   "cell_type": "markdown",
   "metadata": {},
   "source": [
    "В предыдущей главе была выбрана лучшая модель. Ею оказалась Случайный лес. Проверим модель на тестовой выборке с лучшими гиперпараметрами."
   ]
  },
  {
   "cell_type": "code",
   "execution_count": 18,
   "metadata": {},
   "outputs": [
    {
     "name": "stdout",
     "output_type": "stream",
     "text": [
      "Accuracy наилучшей модели на тестовой выборке: 0.7962674961119751\n",
      "CPU times: user 758 ms, sys: 15.4 ms, total: 774 ms\n",
      "Wall time: 96.9 ms\n"
     ]
    }
   ],
   "source": [
    "%%time\n",
    "model = RandomForestClassifier(random_state=12345, \n",
    "                                        criterion='gini', \n",
    "                                        n_estimators=best_est, \n",
    "                                        max_depth = best_depth2) \n",
    "# обучение модели\n",
    "model.fit(features,target) \n",
    "# получение предсказания модели \n",
    "predictions1 = model.predict(test_features) \n",
    "# подсчет качества модели\n",
    "result1 = accuracy_score(test_target, predictions1)\n",
    "print(\"Accuracy наилучшей модели на тестовой выборке:\", result1)"
   ]
  },
  {
   "cell_type": "code",
   "execution_count": 19,
   "metadata": {},
   "outputs": [],
   "source": [
    "# второй способ\n",
    "#best_model2.fit(test_features,test_target) # обученная модель на тренировочной выборке \n",
    "#predictions_valid = best_model2.predict(valid_features) # получение предсказания модели на валидационной выборке\n",
    "#result = accuracy_score(valid_target, predictions_valid) # посчет качества модели\n",
    "#print(\"Accuracy наилучшей модели на тестовой выборке:\", result)"
   ]
  },
  {
   "cell_type": "markdown",
   "metadata": {},
   "source": [
    "**Вывод по главе.** Значение Accuracy на тестовой выборке больше 0.75. Следовательно была выбрана удачная модель и подобраны необходимые гиперпараметры у нее. \n",
    "Значения на Accuracy на тестовой выборке 0.7962674961119751, а на валидационной выборке 0.8087091757387247. Отклонения незначительные (в пределах 0,012) . Возможно модель слегка переучена."
   ]
  },
  {
   "cell_type": "markdown",
   "metadata": {},
   "source": [
    "[Начало тетрадки](#intro)."
   ]
  },
  {
   "cell_type": "markdown",
   "metadata": {},
   "source": [
    "## Итоговый вывод <a id='glava6'></a>"
   ]
  },
  {
   "cell_type": "markdown",
   "metadata": {},
   "source": [
    "**Общий вывод**\n",
    "В вашем распоряжении были представлены данные о поведении клиентов, которые уже перешли на тарифы «Ультра» и «Смарт» (из проекта курса «Статистический анализ данных»). \n",
    "\n",
    "Нужно построить модель для задачи классификации, которая выберет подходящий тариф. Предобработка данных не проводилась, так как она была сделана ранее в проекте. Необходимо построить модель с максимально большим значением accuracy. Нужно довести долю правильных ответов по крайней мере до 0.75. А также проверить accuracy на тестовой выборке.\n",
    "\n",
    "\n",
    "* **Шаг 1**\n",
    "\n",
    "Загрузка данных. Импортирование библиотек. Аномалий в данных не замечено и ошибок тоже. Была сделана корреткировка данных по столбцам сalls и messages. Данные этих столбцов были переведены в целочисленный тип int64\n",
    "\n",
    "* **Шаг 2**\n",
    "Разделение исходных данных происходило на обучающую, валидационную и тестовую выборки.\n",
    "Исходные данные разбили в соотношении 3:1:1. Т.е.под обучающую выборку было выделено 60%, под валидационную и тестовую по 20%\n",
    "\n",
    "* **Шаг 3**\n",
    "\n",
    "В данной работе были рассмотренны 3 модели:\n",
    "\n",
    "* Решающее дерево (рассмотрено 3 гиперпараметра)\n",
    "\n",
    "  - Accuracy лучшей модели: 0.7900466562986003 \n",
    "  - Лучшая max_depth: 9 \n",
    "  - Лучшая criterion: entropy\n",
    "  - Лучшая min_samples_split: 21\n",
    "\n",
    "* Случайный лес (рассмотрено 2 гиперпараметра)\n",
    "\n",
    "  - Accuracy лучшей модели: 0.8087091757387247\n",
    "  - Лучшая max_depth: 8\n",
    "  - Лучшая n_estimators: 40\n",
    "\n",
    "* Логистическая регрессия (рассмотрен 1 гиперпараметр)\n",
    "  - Accuracy лучшей модели: 0.7107309486780715\n",
    "  - Лучшая max_iter: 39\n",
    "\n",
    "Было проведено исследование как гиперпараметры влияют на результат в обучаемой модели. Для каждой модели рассмотрели разные гиперпараметры и в разном кол-ве. При нашем исследовании лучшей моделью оказалась RandomForestClassifier. Однако модель полученная с помощью DecisionTreeClassifier тоже подходит, так больше 0.75 и близка к значению полученного у модели случайный лес.\n",
    "\n",
    "* **Шаг 4**\n",
    "\n",
    "Значение Accuracy на тестовой выборке больше 0.75. Следовательно была выбрана удачная модель и подобраны необходимые гиперпараметры у нее. \n",
    "Значения на Accuracy на тестовой выборке 0.7962674961119751, а на валидационной выборке 0.8087091757387247. Отклонения незначительные (в пределах 0,012) . Возможно модель слегка переучена."
   ]
  },
  {
   "cell_type": "markdown",
   "metadata": {},
   "source": [
    "[Начало тетрадки](#intro)."
   ]
  }
 ],
 "metadata": {
  "ExecuteTimeLog": [
   {
    "duration": 1925,
    "start_time": "2023-02-07T03:23:29.721Z"
   },
   {
    "duration": 26,
    "start_time": "2023-02-07T03:23:31.648Z"
   },
   {
    "duration": 25,
    "start_time": "2023-02-07T03:23:31.676Z"
   },
   {
    "duration": 18,
    "start_time": "2023-02-07T03:23:31.703Z"
   },
   {
    "duration": 10,
    "start_time": "2023-02-07T03:23:31.724Z"
   },
   {
    "duration": 9,
    "start_time": "2023-02-07T03:23:31.735Z"
   },
   {
    "duration": 13,
    "start_time": "2023-02-07T03:23:31.746Z"
   },
   {
    "duration": 22,
    "start_time": "2023-02-07T03:23:31.760Z"
   },
   {
    "duration": 8,
    "start_time": "2023-02-07T03:23:31.783Z"
   },
   {
    "duration": 16,
    "start_time": "2023-02-07T03:23:31.792Z"
   },
   {
    "duration": 9,
    "start_time": "2023-02-07T03:23:31.810Z"
   },
   {
    "duration": 10,
    "start_time": "2023-02-07T03:23:31.821Z"
   },
   {
    "duration": 7,
    "start_time": "2023-02-07T03:23:31.833Z"
   },
   {
    "duration": 5560,
    "start_time": "2023-02-07T03:23:31.843Z"
   },
   {
    "duration": 0,
    "start_time": "2023-02-07T03:23:37.405Z"
   },
   {
    "duration": 0,
    "start_time": "2023-02-07T03:23:37.406Z"
   },
   {
    "duration": 1,
    "start_time": "2023-02-07T03:23:37.409Z"
   },
   {
    "duration": 0,
    "start_time": "2023-02-07T03:23:37.410Z"
   },
   {
    "duration": 1052,
    "start_time": "2023-02-07T06:24:08.698Z"
   },
   {
    "duration": 59,
    "start_time": "2023-02-07T06:24:09.752Z"
   },
   {
    "duration": 18,
    "start_time": "2023-02-07T06:24:09.813Z"
   },
   {
    "duration": 10,
    "start_time": "2023-02-07T06:24:09.833Z"
   },
   {
    "duration": 14,
    "start_time": "2023-02-07T06:24:09.844Z"
   },
   {
    "duration": 13,
    "start_time": "2023-02-07T06:24:09.860Z"
   },
   {
    "duration": 10,
    "start_time": "2023-02-07T06:24:09.874Z"
   },
   {
    "duration": 8,
    "start_time": "2023-02-07T06:24:09.886Z"
   },
   {
    "duration": 5,
    "start_time": "2023-02-07T06:24:09.910Z"
   },
   {
    "duration": 5,
    "start_time": "2023-02-07T06:24:09.917Z"
   },
   {
    "duration": 10,
    "start_time": "2023-02-07T06:24:09.923Z"
   },
   {
    "duration": 9,
    "start_time": "2023-02-07T06:24:09.934Z"
   },
   {
    "duration": 7,
    "start_time": "2023-02-07T06:24:09.944Z"
   },
   {
    "duration": 4616,
    "start_time": "2023-02-07T06:24:09.953Z"
   },
   {
    "duration": 0,
    "start_time": "2023-02-07T06:24:14.570Z"
   },
   {
    "duration": 0,
    "start_time": "2023-02-07T06:24:14.571Z"
   },
   {
    "duration": 0,
    "start_time": "2023-02-07T06:24:14.572Z"
   },
   {
    "duration": 0,
    "start_time": "2023-02-07T06:24:14.573Z"
   },
   {
    "duration": 1045,
    "start_time": "2023-02-07T06:51:37.892Z"
   },
   {
    "duration": 26,
    "start_time": "2023-02-07T06:51:38.940Z"
   },
   {
    "duration": 17,
    "start_time": "2023-02-07T06:51:38.968Z"
   },
   {
    "duration": 11,
    "start_time": "2023-02-07T06:51:38.986Z"
   },
   {
    "duration": 4,
    "start_time": "2023-02-07T06:51:38.998Z"
   },
   {
    "duration": 7,
    "start_time": "2023-02-07T06:51:39.003Z"
   },
   {
    "duration": 10,
    "start_time": "2023-02-07T06:51:39.011Z"
   },
   {
    "duration": 9,
    "start_time": "2023-02-07T06:51:39.022Z"
   },
   {
    "duration": 6,
    "start_time": "2023-02-07T06:51:39.032Z"
   },
   {
    "duration": 5,
    "start_time": "2023-02-07T06:51:39.041Z"
   },
   {
    "duration": 5,
    "start_time": "2023-02-07T06:51:39.048Z"
   },
   {
    "duration": 4,
    "start_time": "2023-02-07T06:51:39.055Z"
   },
   {
    "duration": 4,
    "start_time": "2023-02-07T06:51:39.061Z"
   },
   {
    "duration": 4571,
    "start_time": "2023-02-07T06:51:39.066Z"
   },
   {
    "duration": 0,
    "start_time": "2023-02-07T06:51:43.639Z"
   },
   {
    "duration": 0,
    "start_time": "2023-02-07T06:51:43.640Z"
   },
   {
    "duration": 0,
    "start_time": "2023-02-07T06:51:43.642Z"
   },
   {
    "duration": 0,
    "start_time": "2023-02-07T06:51:43.643Z"
   },
   {
    "duration": 4467,
    "start_time": "2023-02-07T06:51:56.486Z"
   },
   {
    "duration": 4500,
    "start_time": "2023-02-07T06:52:52.330Z"
   },
   {
    "duration": 4446,
    "start_time": "2023-02-07T06:53:21.758Z"
   },
   {
    "duration": 4426,
    "start_time": "2023-02-07T06:56:41.111Z"
   },
   {
    "duration": 14,
    "start_time": "2023-02-07T06:59:14.201Z"
   },
   {
    "duration": 13,
    "start_time": "2023-02-07T06:59:28.162Z"
   },
   {
    "duration": 13,
    "start_time": "2023-02-07T06:59:44.150Z"
   },
   {
    "duration": 3,
    "start_time": "2023-02-07T07:12:01.475Z"
   },
   {
    "duration": 4394,
    "start_time": "2023-02-07T07:18:07.213Z"
   },
   {
    "duration": 1048,
    "start_time": "2023-02-07T07:20:11.292Z"
   },
   {
    "duration": 24,
    "start_time": "2023-02-07T07:20:12.342Z"
   },
   {
    "duration": 19,
    "start_time": "2023-02-07T07:20:12.367Z"
   },
   {
    "duration": 11,
    "start_time": "2023-02-07T07:20:12.387Z"
   },
   {
    "duration": 3,
    "start_time": "2023-02-07T07:20:12.401Z"
   },
   {
    "duration": 3,
    "start_time": "2023-02-07T07:20:12.410Z"
   },
   {
    "duration": 14,
    "start_time": "2023-02-07T07:20:12.415Z"
   },
   {
    "duration": 8,
    "start_time": "2023-02-07T07:20:12.430Z"
   },
   {
    "duration": 6,
    "start_time": "2023-02-07T07:20:12.439Z"
   },
   {
    "duration": 6,
    "start_time": "2023-02-07T07:20:12.447Z"
   },
   {
    "duration": 4,
    "start_time": "2023-02-07T07:20:12.455Z"
   },
   {
    "duration": 9,
    "start_time": "2023-02-07T07:20:12.460Z"
   },
   {
    "duration": 6,
    "start_time": "2023-02-07T07:20:12.471Z"
   },
   {
    "duration": 5,
    "start_time": "2023-02-07T07:20:12.479Z"
   },
   {
    "duration": 4500,
    "start_time": "2023-02-07T07:20:12.485Z"
   },
   {
    "duration": 89857,
    "start_time": "2023-02-07T07:20:16.987Z"
   },
   {
    "duration": 7160,
    "start_time": "2023-02-07T07:21:46.846Z"
   },
   {
    "duration": 76,
    "start_time": "2023-02-07T07:21:54.010Z"
   },
   {
    "duration": 2,
    "start_time": "2023-02-07T07:21:54.088Z"
   },
   {
    "duration": 7052,
    "start_time": "2023-02-07T07:22:19.293Z"
   },
   {
    "duration": 1051,
    "start_time": "2023-02-07T07:23:02.794Z"
   },
   {
    "duration": 26,
    "start_time": "2023-02-07T07:23:03.846Z"
   },
   {
    "duration": 17,
    "start_time": "2023-02-07T07:23:03.873Z"
   },
   {
    "duration": 10,
    "start_time": "2023-02-07T07:23:03.892Z"
   },
   {
    "duration": 5,
    "start_time": "2023-02-07T07:23:03.904Z"
   },
   {
    "duration": 8,
    "start_time": "2023-02-07T07:23:03.911Z"
   },
   {
    "duration": 12,
    "start_time": "2023-02-07T07:23:03.921Z"
   },
   {
    "duration": 9,
    "start_time": "2023-02-07T07:23:03.934Z"
   },
   {
    "duration": 9,
    "start_time": "2023-02-07T07:23:03.945Z"
   },
   {
    "duration": 9,
    "start_time": "2023-02-07T07:23:03.956Z"
   },
   {
    "duration": 7,
    "start_time": "2023-02-07T07:23:03.966Z"
   },
   {
    "duration": 7,
    "start_time": "2023-02-07T07:23:03.974Z"
   },
   {
    "duration": 22,
    "start_time": "2023-02-07T07:23:03.983Z"
   },
   {
    "duration": 21,
    "start_time": "2023-02-07T07:23:04.007Z"
   },
   {
    "duration": 4490,
    "start_time": "2023-02-07T07:23:04.029Z"
   },
   {
    "duration": 90005,
    "start_time": "2023-02-07T07:23:08.520Z"
   },
   {
    "duration": 7133,
    "start_time": "2023-02-07T07:24:38.526Z"
   },
   {
    "duration": 81,
    "start_time": "2023-02-07T07:24:45.660Z"
   },
   {
    "duration": 2,
    "start_time": "2023-02-07T07:24:45.743Z"
   },
   {
    "duration": 2221,
    "start_time": "2023-02-07T14:56:37.230Z"
   },
   {
    "duration": 174,
    "start_time": "2023-02-07T14:56:39.454Z"
   },
   {
    "duration": 29,
    "start_time": "2023-02-07T14:56:39.629Z"
   },
   {
    "duration": 48,
    "start_time": "2023-02-07T14:56:39.659Z"
   },
   {
    "duration": 10,
    "start_time": "2023-02-07T14:56:39.709Z"
   },
   {
    "duration": 23,
    "start_time": "2023-02-07T14:56:39.721Z"
   },
   {
    "duration": 53,
    "start_time": "2023-02-07T14:56:39.746Z"
   },
   {
    "duration": 13,
    "start_time": "2023-02-07T14:56:39.801Z"
   },
   {
    "duration": 13,
    "start_time": "2023-02-07T14:56:39.816Z"
   },
   {
    "duration": 49,
    "start_time": "2023-02-07T14:56:39.831Z"
   },
   {
    "duration": 11,
    "start_time": "2023-02-07T14:56:39.882Z"
   },
   {
    "duration": 23,
    "start_time": "2023-02-07T14:56:39.894Z"
   },
   {
    "duration": 22,
    "start_time": "2023-02-07T14:56:39.919Z"
   },
   {
    "duration": 46,
    "start_time": "2023-02-07T14:56:39.945Z"
   },
   {
    "duration": 5212,
    "start_time": "2023-02-07T14:56:39.994Z"
   },
   {
    "duration": 1198,
    "start_time": "2023-02-07T16:01:07.261Z"
   },
   {
    "duration": 126,
    "start_time": "2023-02-07T16:01:08.461Z"
   },
   {
    "duration": 24,
    "start_time": "2023-02-07T16:01:08.588Z"
   },
   {
    "duration": 15,
    "start_time": "2023-02-07T16:01:08.615Z"
   },
   {
    "duration": 4,
    "start_time": "2023-02-07T16:01:08.632Z"
   },
   {
    "duration": 5,
    "start_time": "2023-02-07T16:01:08.637Z"
   },
   {
    "duration": 13,
    "start_time": "2023-02-07T16:01:08.644Z"
   },
   {
    "duration": 40,
    "start_time": "2023-02-07T16:01:08.658Z"
   },
   {
    "duration": 11,
    "start_time": "2023-02-07T16:01:08.701Z"
   },
   {
    "duration": 7,
    "start_time": "2023-02-07T16:01:08.715Z"
   },
   {
    "duration": 6,
    "start_time": "2023-02-07T16:01:08.724Z"
   },
   {
    "duration": 6,
    "start_time": "2023-02-07T16:01:08.732Z"
   },
   {
    "duration": 6,
    "start_time": "2023-02-07T16:01:08.739Z"
   },
   {
    "duration": 6,
    "start_time": "2023-02-07T16:01:08.746Z"
   },
   {
    "duration": 4507,
    "start_time": "2023-02-07T16:01:08.753Z"
   },
   {
    "duration": 95030,
    "start_time": "2023-02-07T16:01:13.262Z"
   },
   {
    "duration": 10305,
    "start_time": "2023-02-07T16:02:48.293Z"
   },
   {
    "duration": 147,
    "start_time": "2023-02-07T16:02:58.600Z"
   },
   {
    "duration": 3,
    "start_time": "2023-02-07T16:02:58.748Z"
   },
   {
    "duration": 1435,
    "start_time": "2023-02-07T16:12:26.118Z"
   },
   {
    "duration": 33,
    "start_time": "2023-02-07T16:12:27.556Z"
   },
   {
    "duration": 35,
    "start_time": "2023-02-07T16:12:27.592Z"
   },
   {
    "duration": 24,
    "start_time": "2023-02-07T16:12:27.630Z"
   },
   {
    "duration": 13,
    "start_time": "2023-02-07T16:12:27.656Z"
   },
   {
    "duration": 13,
    "start_time": "2023-02-07T16:12:27.671Z"
   },
   {
    "duration": 31,
    "start_time": "2023-02-07T16:12:27.685Z"
   },
   {
    "duration": 17,
    "start_time": "2023-02-07T16:12:27.718Z"
   },
   {
    "duration": 29,
    "start_time": "2023-02-07T16:12:27.737Z"
   },
   {
    "duration": 33,
    "start_time": "2023-02-07T16:12:27.770Z"
   },
   {
    "duration": 31,
    "start_time": "2023-02-07T16:12:27.805Z"
   },
   {
    "duration": 29,
    "start_time": "2023-02-07T16:12:27.838Z"
   },
   {
    "duration": 9,
    "start_time": "2023-02-07T16:12:27.870Z"
   },
   {
    "duration": 12,
    "start_time": "2023-02-07T16:12:27.881Z"
   },
   {
    "duration": 5049,
    "start_time": "2023-02-07T16:12:27.895Z"
   },
   {
    "duration": 99423,
    "start_time": "2023-02-07T16:12:32.947Z"
   },
   {
    "duration": 10263,
    "start_time": "2023-02-07T16:14:12.372Z"
   },
   {
    "duration": 139,
    "start_time": "2023-02-07T16:14:22.637Z"
   },
   {
    "duration": 2,
    "start_time": "2023-02-07T16:14:22.778Z"
   }
  ],
  "kernelspec": {
   "display_name": "Python 3 (ipykernel)",
   "language": "python",
   "name": "python3"
  },
  "language_info": {
   "codemirror_mode": {
    "name": "ipython",
    "version": 3
   },
   "file_extension": ".py",
   "mimetype": "text/x-python",
   "name": "python",
   "nbconvert_exporter": "python",
   "pygments_lexer": "ipython3",
   "version": "3.9.12"
  },
  "toc": {
   "base_numbering": 1,
   "nav_menu": {
    "height": "382px",
    "width": "388px"
   },
   "number_sections": true,
   "sideBar": true,
   "skip_h1_title": true,
   "title_cell": "Table of Contents",
   "title_sidebar": "Contents",
   "toc_cell": false,
   "toc_position": {},
   "toc_section_display": true,
   "toc_window_display": true
  }
 },
 "nbformat": 4,
 "nbformat_minor": 2
}
