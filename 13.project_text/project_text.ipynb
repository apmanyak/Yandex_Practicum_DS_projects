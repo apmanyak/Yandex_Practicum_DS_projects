{
 "cells": [
  {
   "cell_type": "markdown",
   "metadata": {
    "toc": true
   },
   "source": [
    "<h1>Содержание<span class=\"tocSkip\"></span></h1>\n",
    "<div class=\"toc\"></ul></li><li><span><a href=\"#Подготовка\" data-toc-modified-id=\"Подготовка-1\"><span class=\"toc-item-num\">1&nbsp;&nbsp;</span>Подготовка</a></span><ul class=\"toc-item\"><li><span><a href=\"#Загружаем-и-получаем-информацию-о-датасете\" data-toc-modified-id=\"Загружаем-и-получаем-информацию-о-датасете-1.1\"><span class=\"toc-item-num\">1.1&nbsp;&nbsp;</span>Загружаем и получаем информацию о датасете</a></span></li><li><span><a href=\"#Лемматизация-и-очистка-от-лишних-символов\" data-toc-modified-id=\"Лемматизация-и-очистка-от-лишних-символов-1.2\"><span class=\"toc-item-num\">1.2&nbsp;&nbsp;</span>Лемматизация и очистка от лишних символов</a></span></li><li><span><a href=\"#Выделение-целевого-признака-и-признаков\" data-toc-modified-id=\"Выделение-целевого-признака-и-признаков-1.3\"><span class=\"toc-item-num\">1.3&nbsp;&nbsp;</span>Выделение целевого признака и признаков</a></span></li><li><span><a href=\"#Вывод-по-пункту\" data-toc-modified-id=\"Вывод-по-пункту-1.4\"><span class=\"toc-item-num\">1.4&nbsp;&nbsp;</span>Вывод по пункту</a></span></li></ul></li><li><span><a href=\"#Обучение\" data-toc-modified-id=\"Обучение-2\"><span class=\"toc-item-num\">2&nbsp;&nbsp;</span>Обучение</a></span><ul class=\"toc-item\"><li><span><a href=\"#Балансирование-класса-с-помощью-class_weight='balance'\" data-toc-modified-id=\"Балансирование-класса-с-помощью-class_weight='balance'-2.1\"><span class=\"toc-item-num\">2.1&nbsp;&nbsp;</span>Балансирование класса с помощью class_weight='balance'</a></span><ul class=\"toc-item\"><li><span><a href=\"#Логистическая-регрессия---LogisticRegression\" data-toc-modified-id=\"Логистическая-регрессия---LogisticRegression-2.1.1\"><span class=\"toc-item-num\">2.1.1&nbsp;&nbsp;</span>Логистическая регрессия - LogisticRegression</a></span></li><li><span><a href=\"#Решающее-дерево---DecisionTreeClassifier\" data-toc-modified-id=\"Решающее-дерево---DecisionTreeClassifier-2.1.2\"><span class=\"toc-item-num\">2.1.2&nbsp;&nbsp;</span>Решающее дерево - DecisionTreeClassifier</a></span></li><li><span><a href=\"#Случайный-лес---RandomForestClassifier\" data-toc-modified-id=\"Случайный-лес---RandomForestClassifier-2.1.3\"><span class=\"toc-item-num\">2.1.3&nbsp;&nbsp;</span>Случайный лес - RandomForestClassifier</a></span></li></ul></li><li><span><a href=\"#Лучшая-модель\" data-toc-modified-id=\"Лучшая-модель-2.2\"><span class=\"toc-item-num\">2.2&nbsp;&nbsp;</span>Лучшая модель</a></span></li><li><span><a href=\"#Тестирование-на-лучшей-модели\" data-toc-modified-id=\"Тестирование-на-лучшей-модели-2.3\"><span class=\"toc-item-num\">2.3&nbsp;&nbsp;</span>Тестирование на лучшей модели</a></span></li></ul></li><li><span><a href=\"#Выводы\" data-toc-modified-id=\"Выводы-3\"><span class=\"toc-item-num\">3&nbsp;&nbsp;</span>Выводы</a></span></li></ul></div>"
   ]
  },
  {
   "cell_type": "markdown",
   "metadata": {},
   "source": [
    "# Обучение модели классификации комментариев"
   ]
  },
  {
   "cell_type": "markdown",
   "metadata": {},
   "source": [
    "Интернет-магазин запускает новый сервис. Теперь пользователи могут редактировать и дополнять описания товаров, как в вики-сообществах. То есть клиенты предлагают свои правки и комментируют изменения других. Магазину нужен инструмент, который будет искать токсичные комментарии и отправлять их на модерацию. \n",
    "\n",
    "Требуется обучить модель классифицировать комментарии на позитивные и негативные. В распоряжении набор данных с разметкой о токсичности правок.\n",
    "\n",
    "Необходимо построить модель со значением метрики качества *F1* не меньше 0.75. \n",
    "\n",
    "**Инструкция по выполнению проекта**\n",
    "\n",
    "1. Загрузить и подготовить данные.\n",
    "2. Обучить разные модели. \n",
    "3. Сделать выводы.\n",
    "\n",
    "\n",
    "**Описание данных**\n",
    "\n",
    "Данные находятся в файле `toxic_comments.csv`. Столбец *text* в нём содержит текст комментария, а *toxic* — целевой признак."
   ]
  },
  {
   "cell_type": "markdown",
   "metadata": {},
   "source": [
    "## Подготовка"
   ]
  },
  {
   "cell_type": "code",
   "execution_count": 1,
   "metadata": {},
   "outputs": [
    {
     "name": "stdout",
     "output_type": "stream",
     "text": [
      "Requirement already satisfied: scikit-learn==1.1.3 in /Users/manyak_pro/opt/anaconda3/lib/python3.9/site-packages (1.1.3)\n",
      "Requirement already satisfied: threadpoolctl>=2.0.0 in /Users/manyak_pro/opt/anaconda3/lib/python3.9/site-packages (from scikit-learn==1.1.3) (2.2.0)\n",
      "Requirement already satisfied: joblib>=1.0.0 in /Users/manyak_pro/opt/anaconda3/lib/python3.9/site-packages (from scikit-learn==1.1.3) (1.2.0)\n",
      "Requirement already satisfied: scipy>=1.3.2 in /Users/manyak_pro/opt/anaconda3/lib/python3.9/site-packages (from scikit-learn==1.1.3) (1.8.0)\n",
      "Requirement already satisfied: numpy>=1.17.3 in /Users/manyak_pro/opt/anaconda3/lib/python3.9/site-packages (from scikit-learn==1.1.3) (1.21.5)\n"
     ]
    }
   ],
   "source": [
    "# установим последнюю версию scikit-learn#\n",
    "!pip install scikit-learn==1.1.3"
   ]
  },
  {
   "cell_type": "code",
   "execution_count": 2,
   "metadata": {},
   "outputs": [
    {
     "name": "stdout",
     "output_type": "stream",
     "text": [
      "Requirement already satisfied: pymystem3 in /Users/manyak_pro/opt/anaconda3/lib/python3.9/site-packages (0.2.0)\n",
      "Requirement already satisfied: requests in /Users/manyak_pro/opt/anaconda3/lib/python3.9/site-packages (from pymystem3) (2.27.1)\n",
      "Requirement already satisfied: urllib3<1.27,>=1.21.1 in /Users/manyak_pro/opt/anaconda3/lib/python3.9/site-packages (from requests->pymystem3) (1.26.9)\n",
      "Requirement already satisfied: charset-normalizer~=2.0.0 in /Users/manyak_pro/opt/anaconda3/lib/python3.9/site-packages (from requests->pymystem3) (2.0.4)\n",
      "Requirement already satisfied: certifi>=2017.4.17 in /Users/manyak_pro/opt/anaconda3/lib/python3.9/site-packages (from requests->pymystem3) (2022.12.7)\n",
      "Requirement already satisfied: idna<4,>=2.5 in /Users/manyak_pro/opt/anaconda3/lib/python3.9/site-packages (from requests->pymystem3) (3.3)\n"
     ]
    }
   ],
   "source": [
    "!pip install pymystem3"
   ]
  },
  {
   "cell_type": "code",
   "execution_count": 3,
   "metadata": {},
   "outputs": [
    {
     "name": "stdout",
     "output_type": "stream",
     "text": [
      "Requirement already satisfied: lightgbm in /Users/manyak_pro/opt/anaconda3/lib/python3.9/site-packages (3.3.5)\n",
      "Requirement already satisfied: numpy in /Users/manyak_pro/opt/anaconda3/lib/python3.9/site-packages (from lightgbm) (1.21.5)\n",
      "Requirement already satisfied: wheel in /Users/manyak_pro/opt/anaconda3/lib/python3.9/site-packages (from lightgbm) (0.37.1)\n",
      "Requirement already satisfied: scipy in /Users/manyak_pro/opt/anaconda3/lib/python3.9/site-packages (from lightgbm) (1.8.0)\n",
      "Requirement already satisfied: scikit-learn!=0.22.0 in /Users/manyak_pro/opt/anaconda3/lib/python3.9/site-packages (from lightgbm) (1.1.3)\n",
      "Requirement already satisfied: threadpoolctl>=2.0.0 in /Users/manyak_pro/opt/anaconda3/lib/python3.9/site-packages (from scikit-learn!=0.22.0->lightgbm) (2.2.0)\n",
      "Requirement already satisfied: joblib>=1.0.0 in /Users/manyak_pro/opt/anaconda3/lib/python3.9/site-packages (from scikit-learn!=0.22.0->lightgbm) (1.2.0)\n"
     ]
    }
   ],
   "source": [
    "!pip install lightgbm"
   ]
  },
  {
   "cell_type": "code",
   "execution_count": 4,
   "metadata": {},
   "outputs": [
    {
     "name": "stdout",
     "output_type": "stream",
     "text": [
      "Requirement already satisfied: imbalanced-learn in /Users/manyak_pro/opt/anaconda3/lib/python3.9/site-packages (0.10.1)\r\n",
      "Requirement already satisfied: scipy>=1.3.2 in /Users/manyak_pro/opt/anaconda3/lib/python3.9/site-packages (from imbalanced-learn) (1.8.0)\r\n",
      "Requirement already satisfied: threadpoolctl>=2.0.0 in /Users/manyak_pro/opt/anaconda3/lib/python3.9/site-packages (from imbalanced-learn) (2.2.0)\r\n",
      "Requirement already satisfied: joblib>=1.1.1 in /Users/manyak_pro/opt/anaconda3/lib/python3.9/site-packages (from imbalanced-learn) (1.2.0)\r\n",
      "Requirement already satisfied: scikit-learn>=1.0.2 in /Users/manyak_pro/opt/anaconda3/lib/python3.9/site-packages (from imbalanced-learn) (1.1.3)\r\n",
      "Requirement already satisfied: numpy>=1.17.3 in /Users/manyak_pro/opt/anaconda3/lib/python3.9/site-packages (from imbalanced-learn) (1.21.5)\r\n"
     ]
    }
   ],
   "source": [
    "!pip install imbalanced-learn"
   ]
  },
  {
   "cell_type": "code",
   "execution_count": 5,
   "metadata": {},
   "outputs": [],
   "source": [
    "import pandas as pd\n",
    "import numpy as np\n",
    "import matplotlib.pyplot as plt\n",
    "from pymystem3 import Mystem\n",
    "\n",
    "import re \n",
    "import time\n",
    "from tqdm import notebook\n",
    "\n",
    "from imblearn.under_sampling import RandomUnderSampler\n",
    "\n",
    "import nltk\n",
    "from nltk.stem.wordnet import WordNetLemmatizer\n",
    "from nltk.corpus import stopwords as nltk_stopwords\n",
    "from nltk.corpus import wordnet\n",
    "\n",
    "from sklearn.feature_extraction.text import CountVectorizer\n",
    "from sklearn.feature_extraction.text import TfidfVectorizer\n",
    "from sklearn.pipeline import Pipeline, make_pipeline\n",
    "\n",
    "pd.set_option('display.max_columns', None)\n",
    "pd.set_option('display.max_rows', None)\n",
    "\n",
    "from sklearn.model_selection import (\n",
    "    GridSearchCV,\n",
    "    train_test_split,\n",
    "    cross_val_score,\n",
    "    cross_validate\n",
    ")\n",
    "\n",
    "from sklearn.linear_model import LogisticRegression\n",
    "from sklearn.tree import DecisionTreeClassifier\n",
    "from sklearn.ensemble import RandomForestClassifier\n",
    "\n",
    "from sklearn.metrics import (\n",
    "    recall_score,\n",
    "    precision_score,\n",
    "    f1_score,\n",
    "    precision_recall_curve,\n",
    "    roc_auc_score,\n",
    "    roc_curve\n",
    ")"
   ]
  },
  {
   "cell_type": "code",
   "execution_count": 6,
   "metadata": {},
   "outputs": [
    {
     "name": "stderr",
     "output_type": "stream",
     "text": [
      "[nltk_data] Downloading package stopwords to\n",
      "[nltk_data]     /Users/manyak_pro/nltk_data...\n",
      "[nltk_data]   Package stopwords is already up-to-date!\n",
      "[nltk_data] Downloading package wordnet to\n",
      "[nltk_data]     /Users/manyak_pro/nltk_data...\n",
      "[nltk_data]   Package wordnet is already up-to-date!\n",
      "[nltk_data] Downloading package averaged_perceptron_tagger to\n",
      "[nltk_data]     /Users/manyak_pro/nltk_data...\n",
      "[nltk_data]   Package averaged_perceptron_tagger is already up-to-\n",
      "[nltk_data]       date!\n"
     ]
    },
    {
     "data": {
      "text/plain": [
       "True"
      ]
     },
     "execution_count": 6,
     "metadata": {},
     "output_type": "execute_result"
    }
   ],
   "source": [
    "nltk.download('stopwords')  \n",
    "nltk.download('wordnet')\n",
    "nltk.download('averaged_perceptron_tagger')"
   ]
  },
  {
   "cell_type": "code",
   "execution_count": 7,
   "metadata": {},
   "outputs": [],
   "source": [
    "# игнорирование предупреждений\n",
    "import warnings\n",
    "warnings.simplefilter(\"ignore\")\n",
    "warnings.filterwarnings(\"ignore\")"
   ]
  },
  {
   "cell_type": "code",
   "execution_count": 8,
   "metadata": {},
   "outputs": [],
   "source": [
    "# константа\n",
    "RANDOM_STATE = 12345"
   ]
  },
  {
   "cell_type": "markdown",
   "metadata": {},
   "source": [
    "### Загружаем и получаем информацию о датасете"
   ]
  },
  {
   "cell_type": "markdown",
   "metadata": {},
   "source": [
    "**Считаем данные из csv-файлов в датафрейм и сохраним в переменные data.**\n",
    "\n",
    "Данные находятся в файле:\n",
    "\n",
    "- toxic_comments.csv \n",
    "\n",
    "Путь к файлу:\n",
    "\n",
    "- /datasets/toxic_comments.csv"
   ]
  },
  {
   "cell_type": "code",
   "execution_count": 9,
   "metadata": {},
   "outputs": [],
   "source": [
    "data = pd.read_csv('/datasets/toxic_comments.csv',index_col=[0])"
   ]
  },
  {
   "cell_type": "markdown",
   "metadata": {},
   "source": [
    "**Функция по выводу основной информации по датафреймам**"
   ]
  },
  {
   "cell_type": "markdown",
   "metadata": {},
   "source": [
    "**Вывод первых 5 строк датафрейма**"
   ]
  },
  {
   "cell_type": "code",
   "execution_count": 10,
   "metadata": {},
   "outputs": [
    {
     "data": {
      "text/html": [
       "<div>\n",
       "<style scoped>\n",
       "    .dataframe tbody tr th:only-of-type {\n",
       "        vertical-align: middle;\n",
       "    }\n",
       "\n",
       "    .dataframe tbody tr th {\n",
       "        vertical-align: top;\n",
       "    }\n",
       "\n",
       "    .dataframe thead th {\n",
       "        text-align: right;\n",
       "    }\n",
       "</style>\n",
       "<table border=\"1\" class=\"dataframe\">\n",
       "  <thead>\n",
       "    <tr style=\"text-align: right;\">\n",
       "      <th></th>\n",
       "      <th>text</th>\n",
       "      <th>toxic</th>\n",
       "    </tr>\n",
       "  </thead>\n",
       "  <tbody>\n",
       "    <tr>\n",
       "      <th>0</th>\n",
       "      <td>Explanation\\nWhy the edits made under my usern...</td>\n",
       "      <td>0</td>\n",
       "    </tr>\n",
       "    <tr>\n",
       "      <th>1</th>\n",
       "      <td>D'aww! He matches this background colour I'm s...</td>\n",
       "      <td>0</td>\n",
       "    </tr>\n",
       "    <tr>\n",
       "      <th>2</th>\n",
       "      <td>Hey man, I'm really not trying to edit war. It...</td>\n",
       "      <td>0</td>\n",
       "    </tr>\n",
       "    <tr>\n",
       "      <th>3</th>\n",
       "      <td>\"\\nMore\\nI can't make any real suggestions on ...</td>\n",
       "      <td>0</td>\n",
       "    </tr>\n",
       "    <tr>\n",
       "      <th>4</th>\n",
       "      <td>You, sir, are my hero. Any chance you remember...</td>\n",
       "      <td>0</td>\n",
       "    </tr>\n",
       "  </tbody>\n",
       "</table>\n",
       "</div>"
      ],
      "text/plain": [
       "                                                text  toxic\n",
       "0  Explanation\\nWhy the edits made under my usern...      0\n",
       "1  D'aww! He matches this background colour I'm s...      0\n",
       "2  Hey man, I'm really not trying to edit war. It...      0\n",
       "3  \"\\nMore\\nI can't make any real suggestions on ...      0\n",
       "4  You, sir, are my hero. Any chance you remember...      0"
      ]
     },
     "execution_count": 10,
     "metadata": {},
     "output_type": "execute_result"
    }
   ],
   "source": [
    "data.head()"
   ]
  },
  {
   "cell_type": "markdown",
   "metadata": {},
   "source": [
    "Можно заметить, что комментарии на английском языке представлены."
   ]
  },
  {
   "cell_type": "markdown",
   "metadata": {},
   "source": [
    "**Выведим основную информацию о датафрейме.**"
   ]
  },
  {
   "cell_type": "code",
   "execution_count": 11,
   "metadata": {},
   "outputs": [
    {
     "name": "stdout",
     "output_type": "stream",
     "text": [
      "<class 'pandas.core.frame.DataFrame'>\n",
      "Int64Index: 159292 entries, 0 to 159450\n",
      "Data columns (total 2 columns):\n",
      " #   Column  Non-Null Count   Dtype \n",
      "---  ------  --------------   ----- \n",
      " 0   text    159292 non-null  object\n",
      " 1   toxic   159292 non-null  int64 \n",
      "dtypes: int64(1), object(1)\n",
      "memory usage: 3.6+ MB\n"
     ]
    }
   ],
   "source": [
    "data.info()"
   ]
  },
  {
   "cell_type": "markdown",
   "metadata": {},
   "source": [
    "**Кол-во уникальных дупликатов**"
   ]
  },
  {
   "cell_type": "code",
   "execution_count": 12,
   "metadata": {},
   "outputs": [
    {
     "data": {
      "text/plain": [
       "0"
      ]
     },
     "execution_count": 12,
     "metadata": {},
     "output_type": "execute_result"
    }
   ],
   "source": [
    "data.duplicated().sum()"
   ]
  },
  {
   "cell_type": "markdown",
   "metadata": {},
   "source": [
    "Баланс классов"
   ]
  },
  {
   "cell_type": "markdown",
   "metadata": {},
   "source": [
    "Нам необходимо будет решать задачу классификации. Посмотрим как в целевом признаке рапределены ответы."
   ]
  },
  {
   "cell_type": "code",
   "execution_count": 13,
   "metadata": {},
   "outputs": [
    {
     "name": "stdout",
     "output_type": "stream",
     "text": [
      "0    0.898388\n",
      "1    0.101612\n",
      "Name: toxic, dtype: float64\n"
     ]
    },
    {
     "data": {
      "image/png": "[encoded data removed]",
      "text/plain": [
       "<Figure size 432x288 with 1 Axes>"
      ]
     },
     "metadata": {
      "needs_background": "light"
     },
     "output_type": "display_data"
    }
   ],
   "source": [
    "class_frequency = data['toxic'].value_counts(normalize=True) \n",
    "print(class_frequency)\n",
    "class_frequency.plot(kind='bar',\n",
    "                    grid=True)\n",
    "plt.title(\"Баланс классов\")\n",
    "plt.xlabel(\"класс\")\n",
    "plt.ylabel(\"Нормировання частота\")\n",
    "plt.show()"
   ]
  },
  {
   "cell_type": "markdown",
   "metadata": {},
   "source": [
    "По гистограмме наблюдается несбаласированность классов. Проверять на константной модели нет необходимости.\n",
    "\n",
    "\n",
    "Для балансировки классов можно выполнить: \n",
    "- уменьшение выборки с ответом 0 . \n",
    "- увеличение выборки с 1 до кол-ва ответов с 0.\n",
    "- Взвешивание классов\n",
    "\n",
    "Второй способ предлагается сразу отбросить, так как увеличивать придется много значений с ответом 1, что приведет к неточности в обучении. Третий способ тоже отбросим так как придется избавится от большого кол-ва строк.\n",
    "\n",
    "В данном проекте будем выполнять взвешивание классов.\n",
    "\n",
    "Но для начала необходимо подготовить признаки в столбце 'text'."
   ]
  },
  {
   "cell_type": "markdown",
   "metadata": {},
   "source": [
    "### Лемматизация и очистка от лишних символов"
   ]
  },
  {
   "cell_type": "markdown",
   "metadata": {},
   "source": [
    "**Создадим функцию лемматизации и очистки от лишних слов**"
   ]
  },
  {
   "cell_type": "code",
   "execution_count": 14,
   "metadata": {},
   "outputs": [],
   "source": [
    "#очистка от лишних слов и приведенеие к нижнему регистру\n",
    "def text_clear(data):\n",
    "    text = data\n",
    "    text_clear = re.sub(r'[^a-zA-Z]', ' ', text).lower() \n",
    "    b = text_clear.split()\n",
    "    corpus = \" \".join(b) \n",
    "    return corpus"
   ]
  },
  {
   "cell_type": "code",
   "execution_count": 15,
   "metadata": {},
   "outputs": [
    {
     "name": "stdout",
     "output_type": "stream",
     "text": [
      "CPU times: user 3.48 s, sys: 25.3 ms, total: 3.51 s\n",
      "Wall time: 3.5 s\n"
     ]
    }
   ],
   "source": [
    "%%time\n",
    "data['cl_text'] = data['text'].apply(text_clear)"
   ]
  },
  {
   "cell_type": "code",
   "execution_count": 16,
   "metadata": {},
   "outputs": [
    {
     "data": {
      "text/html": [
       "<div>\n",
       "<style scoped>\n",
       "    .dataframe tbody tr th:only-of-type {\n",
       "        vertical-align: middle;\n",
       "    }\n",
       "\n",
       "    .dataframe tbody tr th {\n",
       "        vertical-align: top;\n",
       "    }\n",
       "\n",
       "    .dataframe thead th {\n",
       "        text-align: right;\n",
       "    }\n",
       "</style>\n",
       "<table border=\"1\" class=\"dataframe\">\n",
       "  <thead>\n",
       "    <tr style=\"text-align: right;\">\n",
       "      <th></th>\n",
       "      <th>text</th>\n",
       "      <th>toxic</th>\n",
       "      <th>cl_text</th>\n",
       "    </tr>\n",
       "  </thead>\n",
       "  <tbody>\n",
       "    <tr>\n",
       "      <th>0</th>\n",
       "      <td>Explanation\\nWhy the edits made under my usern...</td>\n",
       "      <td>0</td>\n",
       "      <td>explanation why the edits made under my userna...</td>\n",
       "    </tr>\n",
       "    <tr>\n",
       "      <th>1</th>\n",
       "      <td>D'aww! He matches this background colour I'm s...</td>\n",
       "      <td>0</td>\n",
       "      <td>d aww he matches this background colour i m se...</td>\n",
       "    </tr>\n",
       "    <tr>\n",
       "      <th>2</th>\n",
       "      <td>Hey man, I'm really not trying to edit war. It...</td>\n",
       "      <td>0</td>\n",
       "      <td>hey man i m really not trying to edit war it s...</td>\n",
       "    </tr>\n",
       "    <tr>\n",
       "      <th>3</th>\n",
       "      <td>\"\\nMore\\nI can't make any real suggestions on ...</td>\n",
       "      <td>0</td>\n",
       "      <td>more i can t make any real suggestions on impr...</td>\n",
       "    </tr>\n",
       "    <tr>\n",
       "      <th>4</th>\n",
       "      <td>You, sir, are my hero. Any chance you remember...</td>\n",
       "      <td>0</td>\n",
       "      <td>you sir are my hero any chance you remember wh...</td>\n",
       "    </tr>\n",
       "  </tbody>\n",
       "</table>\n",
       "</div>"
      ],
      "text/plain": [
       "                                                text  toxic  \\\n",
       "0  Explanation\\nWhy the edits made under my usern...      0   \n",
       "1  D'aww! He matches this background colour I'm s...      0   \n",
       "2  Hey man, I'm really not trying to edit war. It...      0   \n",
       "3  \"\\nMore\\nI can't make any real suggestions on ...      0   \n",
       "4  You, sir, are my hero. Any chance you remember...      0   \n",
       "\n",
       "                                             cl_text  \n",
       "0  explanation why the edits made under my userna...  \n",
       "1  d aww he matches this background colour i m se...  \n",
       "2  hey man i m really not trying to edit war it s...  \n",
       "3  more i can t make any real suggestions on impr...  \n",
       "4  you sir are my hero any chance you remember wh...  "
      ]
     },
     "execution_count": 16,
     "metadata": {},
     "output_type": "execute_result"
    }
   ],
   "source": [
    "data.head()"
   ]
  },
  {
   "cell_type": "code",
   "execution_count": 17,
   "metadata": {},
   "outputs": [],
   "source": [
    "def get_wordnet_pos(word):\n",
    "    \"\"\"Map POS tag to first character lemmatize() accepts\"\"\"\n",
    "    tag = nltk.pos_tag([word])[0][1][0].upper()\n",
    "    tag_dict = {\"J\": wordnet.ADJ,\n",
    "                \"N\": wordnet.NOUN,\n",
    "                \"V\": wordnet.VERB,\n",
    "                \"R\": wordnet.ADV}\n",
    "    return tag_dict.get(tag, wordnet.NOUN)"
   ]
  },
  {
   "cell_type": "code",
   "execution_count": 18,
   "metadata": {},
   "outputs": [],
   "source": [
    "lemmatizer = WordNetLemmatizer()"
   ]
  },
  {
   "cell_type": "code",
   "execution_count": 19,
   "metadata": {},
   "outputs": [
    {
     "data": {
      "application/vnd.jupyter.widget-view+json": {
       "model_id": "3b99875c7a56413aa7a7ea7e284ea0b5",
       "version_major": 2,
       "version_minor": 0
      },
      "text/plain": [
       "  0%|          | 0/159292 [00:00<?, ?it/s]"
      ]
     },
     "metadata": {},
     "output_type": "display_data"
    }
   ],
   "source": [
    "all_index = data.index\n",
    "data['lemmatize_text'] = 0\n",
    "for i in notebook.tqdm(all_index):\n",
    "    word = data.loc[i,'cl_text']\n",
    "    data.loc[i,'lemmatize_text'] = lemmatizer.lemmatize(word, get_wordnet_pos(word))"
   ]
  },
  {
   "cell_type": "code",
   "execution_count": 20,
   "metadata": {
    "scrolled": false
   },
   "outputs": [
    {
     "data": {
      "text/html": [
       "<div>\n",
       "<style scoped>\n",
       "    .dataframe tbody tr th:only-of-type {\n",
       "        vertical-align: middle;\n",
       "    }\n",
       "\n",
       "    .dataframe tbody tr th {\n",
       "        vertical-align: top;\n",
       "    }\n",
       "\n",
       "    .dataframe thead th {\n",
       "        text-align: right;\n",
       "    }\n",
       "</style>\n",
       "<table border=\"1\" class=\"dataframe\">\n",
       "  <thead>\n",
       "    <tr style=\"text-align: right;\">\n",
       "      <th></th>\n",
       "      <th>text</th>\n",
       "      <th>toxic</th>\n",
       "      <th>cl_text</th>\n",
       "      <th>lemmatize_text</th>\n",
       "    </tr>\n",
       "  </thead>\n",
       "  <tbody>\n",
       "    <tr>\n",
       "      <th>0</th>\n",
       "      <td>Explanation\\nWhy the edits made under my usern...</td>\n",
       "      <td>0</td>\n",
       "      <td>explanation why the edits made under my userna...</td>\n",
       "      <td>explanation why the edits made under my userna...</td>\n",
       "    </tr>\n",
       "    <tr>\n",
       "      <th>1</th>\n",
       "      <td>D'aww! He matches this background colour I'm s...</td>\n",
       "      <td>0</td>\n",
       "      <td>d aww he matches this background colour i m se...</td>\n",
       "      <td>d aww he matches this background colour i m se...</td>\n",
       "    </tr>\n",
       "    <tr>\n",
       "      <th>2</th>\n",
       "      <td>Hey man, I'm really not trying to edit war. It...</td>\n",
       "      <td>0</td>\n",
       "      <td>hey man i m really not trying to edit war it s...</td>\n",
       "      <td>hey man i m really not trying to edit war it s...</td>\n",
       "    </tr>\n",
       "    <tr>\n",
       "      <th>3</th>\n",
       "      <td>\"\\nMore\\nI can't make any real suggestions on ...</td>\n",
       "      <td>0</td>\n",
       "      <td>more i can t make any real suggestions on impr...</td>\n",
       "      <td>more i can t make any real suggestions on impr...</td>\n",
       "    </tr>\n",
       "    <tr>\n",
       "      <th>4</th>\n",
       "      <td>You, sir, are my hero. Any chance you remember...</td>\n",
       "      <td>0</td>\n",
       "      <td>you sir are my hero any chance you remember wh...</td>\n",
       "      <td>you sir are my hero any chance you remember wh...</td>\n",
       "    </tr>\n",
       "  </tbody>\n",
       "</table>\n",
       "</div>"
      ],
      "text/plain": [
       "                                                text  toxic  \\\n",
       "0  Explanation\\nWhy the edits made under my usern...      0   \n",
       "1  D'aww! He matches this background colour I'm s...      0   \n",
       "2  Hey man, I'm really not trying to edit war. It...      0   \n",
       "3  \"\\nMore\\nI can't make any real suggestions on ...      0   \n",
       "4  You, sir, are my hero. Any chance you remember...      0   \n",
       "\n",
       "                                             cl_text  \\\n",
       "0  explanation why the edits made under my userna...   \n",
       "1  d aww he matches this background colour i m se...   \n",
       "2  hey man i m really not trying to edit war it s...   \n",
       "3  more i can t make any real suggestions on impr...   \n",
       "4  you sir are my hero any chance you remember wh...   \n",
       "\n",
       "                                      lemmatize_text  \n",
       "0  explanation why the edits made under my userna...  \n",
       "1  d aww he matches this background colour i m se...  \n",
       "2  hey man i m really not trying to edit war it s...  \n",
       "3  more i can t make any real suggestions on impr...  \n",
       "4  you sir are my hero any chance you remember wh...  "
      ]
     },
     "execution_count": 20,
     "metadata": {},
     "output_type": "execute_result"
    }
   ],
   "source": [
    "data.head()"
   ]
  },
  {
   "cell_type": "code",
   "execution_count": 21,
   "metadata": {},
   "outputs": [],
   "source": [
    "#data.to_csv('data_lemmatize.csv')"
   ]
  },
  {
   "cell_type": "code",
   "execution_count": 22,
   "metadata": {},
   "outputs": [],
   "source": [
    "data_lem = data.copy().drop(['text','cl_text'], axis=1)"
   ]
  },
  {
   "cell_type": "code",
   "execution_count": 23,
   "metadata": {},
   "outputs": [
    {
     "data": {
      "text/html": [
       "<div>\n",
       "<style scoped>\n",
       "    .dataframe tbody tr th:only-of-type {\n",
       "        vertical-align: middle;\n",
       "    }\n",
       "\n",
       "    .dataframe tbody tr th {\n",
       "        vertical-align: top;\n",
       "    }\n",
       "\n",
       "    .dataframe thead th {\n",
       "        text-align: right;\n",
       "    }\n",
       "</style>\n",
       "<table border=\"1\" class=\"dataframe\">\n",
       "  <thead>\n",
       "    <tr style=\"text-align: right;\">\n",
       "      <th></th>\n",
       "      <th>toxic</th>\n",
       "      <th>lemmatize_text</th>\n",
       "    </tr>\n",
       "  </thead>\n",
       "  <tbody>\n",
       "    <tr>\n",
       "      <th>0</th>\n",
       "      <td>0</td>\n",
       "      <td>explanation why the edits made under my userna...</td>\n",
       "    </tr>\n",
       "    <tr>\n",
       "      <th>1</th>\n",
       "      <td>0</td>\n",
       "      <td>d aww he matches this background colour i m se...</td>\n",
       "    </tr>\n",
       "    <tr>\n",
       "      <th>2</th>\n",
       "      <td>0</td>\n",
       "      <td>hey man i m really not trying to edit war it s...</td>\n",
       "    </tr>\n",
       "    <tr>\n",
       "      <th>3</th>\n",
       "      <td>0</td>\n",
       "      <td>more i can t make any real suggestions on impr...</td>\n",
       "    </tr>\n",
       "    <tr>\n",
       "      <th>4</th>\n",
       "      <td>0</td>\n",
       "      <td>you sir are my hero any chance you remember wh...</td>\n",
       "    </tr>\n",
       "  </tbody>\n",
       "</table>\n",
       "</div>"
      ],
      "text/plain": [
       "   toxic                                     lemmatize_text\n",
       "0      0  explanation why the edits made under my userna...\n",
       "1      0  d aww he matches this background colour i m se...\n",
       "2      0  hey man i m really not trying to edit war it s...\n",
       "3      0  more i can t make any real suggestions on impr...\n",
       "4      0  you sir are my hero any chance you remember wh..."
      ]
     },
     "execution_count": 23,
     "metadata": {},
     "output_type": "execute_result"
    }
   ],
   "source": [
    "data_lem.head()"
   ]
  },
  {
   "cell_type": "markdown",
   "metadata": {},
   "source": [
    "### Выделение целевого признака и признаков"
   ]
  },
  {
   "cell_type": "markdown",
   "metadata": {},
   "source": [
    "**Выделим целевой признак и признаки**"
   ]
  },
  {
   "cell_type": "code",
   "execution_count": 24,
   "metadata": {},
   "outputs": [],
   "source": [
    "target = data_lem['toxic']\n",
    "features = data_lem.drop('toxic', axis=1)"
   ]
  },
  {
   "cell_type": "markdown",
   "metadata": {},
   "source": [
    "**Разбиение выборок на обучающие и тестовые**"
   ]
  },
  {
   "cell_type": "markdown",
   "metadata": {},
   "source": [
    "Разобьем датафрейм на обусающую и тестовую выборки в соотношении 80:20"
   ]
  },
  {
   "cell_type": "code",
   "execution_count": 25,
   "metadata": {},
   "outputs": [],
   "source": [
    "X_train, X_test, y_train, y_test =\\\n",
    "train_test_split(features, \n",
    "                 target, \n",
    "                 test_size=0.2, \n",
    "                 random_state=RANDOM_STATE,\n",
    "                 stratify=target)"
   ]
  },
  {
   "cell_type": "markdown",
   "metadata": {},
   "source": [
    "**Классификация тональности текста**"
   ]
  },
  {
   "cell_type": "code",
   "execution_count": 26,
   "metadata": {},
   "outputs": [],
   "source": [
    "stop_words = list(set(nltk_stopwords.words('english')) )"
   ]
  },
  {
   "cell_type": "markdown",
   "metadata": {},
   "source": [
    "### Вывод по пункту"
   ]
  },
  {
   "cell_type": "markdown",
   "metadata": {},
   "source": [
    "В данном пункте:\n",
    "- изучили датасет. Строк: 159292. Столбцов: 2. столбцы соответсвуют своему типу данных. тексту требуется дополнительная обработка.\n",
    "- явные дупликаты отсуствуют\n",
    "- наблюдается дисбаланс классов. Ответов с 0 составляет около 90%\n",
    "- была выполнена лемматизация и очистка от лишних символов\n",
    "\n",
    "Для борьбы с дисбалансом принято решение рассмотреть способ class_weight.\n",
    "Для данных способов была выполнена разбивка выборок на тренироввочную и тестовую. Разбивки в обоих случаях были в соотношении 80:20"
   ]
  },
  {
   "cell_type": "markdown",
   "metadata": {},
   "source": [
    "## Обучение"
   ]
  },
  {
   "cell_type": "markdown",
   "metadata": {},
   "source": [
    "Рассмотрим 3 модели:\n",
    "\n",
    "- Решающее дерево\n",
    "- Случайный лес\n",
    "- Логистическая регрессия\n",
    "\n",
    "Меняя гиперпараметры каждой модели выберим наилучшую. Определять лучшую модель будем по F1 метрике"
   ]
  },
  {
   "cell_type": "markdown",
   "metadata": {},
   "source": [
    "### Балансирование класса с помощью class_weight='balance'"
   ]
  },
  {
   "cell_type": "code",
   "execution_count": 27,
   "metadata": {},
   "outputs": [],
   "source": [
    "all_parametrs_cw = []\n",
    "all_f1_cw = []"
   ]
  },
  {
   "cell_type": "markdown",
   "metadata": {},
   "source": [
    "#### Логистическая регрессия - LogisticRegression"
   ]
  },
  {
   "cell_type": "code",
   "execution_count": 28,
   "metadata": {},
   "outputs": [
    {
     "name": "stdout",
     "output_type": "stream",
     "text": [
      "CPU times: user 59 µs, sys: 15 µs, total: 74 µs\n",
      "Wall time: 78 µs\n"
     ]
    }
   ],
   "source": [
    "%%time\n",
    "pipe_lr = Pipeline(steps=[\n",
    "    ('tfidf', TfidfVectorizer(stop_words=stop_words) ),\n",
    "    ('model_lr', LogisticRegression(random_state = RANDOM_STATE))]\n",
    ")"
   ]
  },
  {
   "cell_type": "code",
   "execution_count": 29,
   "metadata": {},
   "outputs": [
    {
     "name": "stdout",
     "output_type": "stream",
     "text": [
      "CPU times: user 25.7 s, sys: 427 ms, total: 26.1 s\n",
      "Wall time: 7.82 s\n"
     ]
    },
    {
     "data": {
      "text/html": [
       "<style>#sk-container-id-1 {color: black;background-color: white;}#sk-container-id-1 pre{padding: 0;}#sk-container-id-1 div.sk-toggleable {background-color: white;}#sk-container-id-1 label.sk-toggleable__label {cursor: pointer;display: block;width: 100%;margin-bottom: 0;padding: 0.3em;box-sizing: border-box;text-align: center;}#sk-container-id-1 label.sk-toggleable__label-arrow:before {content: \"▸\";float: left;margin-right: 0.25em;color: #696969;}#sk-container-id-1 label.sk-toggleable__label-arrow:hover:before {color: black;}#sk-container-id-1 div.sk-estimator:hover label.sk-toggleable__label-arrow:before {color: black;}#sk-container-id-1 div.sk-toggleable__content {max-height: 0;max-width: 0;overflow: hidden;text-align: left;background-color: #f0f8ff;}#sk-container-id-1 div.sk-toggleable__content pre {margin: 0.2em;color: black;border-radius: 0.25em;background-color: #f0f8ff;}#sk-container-id-1 input.sk-toggleable__control:checked~div.sk-toggleable__content {max-height: 200px;max-width: 100%;overflow: auto;}#sk-container-id-1 input.sk-toggleable__control:checked~label.sk-toggleable__label-arrow:before {content: \"▾\";}#sk-container-id-1 div.sk-estimator input.sk-toggleable__control:checked~label.sk-toggleable__label {background-color: #d4ebff;}#sk-container-id-1 div.sk-label input.sk-toggleable__control:checked~label.sk-toggleable__label {background-color: #d4ebff;}#sk-container-id-1 input.sk-hidden--visually {border: 0;clip: rect(1px 1px 1px 1px);clip: rect(1px, 1px, 1px, 1px);height: 1px;margin: -1px;overflow: hidden;padding: 0;position: absolute;width: 1px;}#sk-container-id-1 div.sk-estimator {font-family: monospace;background-color: #f0f8ff;border: 1px dotted black;border-radius: 0.25em;box-sizing: border-box;margin-bottom: 0.5em;}#sk-container-id-1 div.sk-estimator:hover {background-color: #d4ebff;}#sk-container-id-1 div.sk-parallel-item::after {content: \"\";width: 100%;border-bottom: 1px solid gray;flex-grow: 1;}#sk-container-id-1 div.sk-label:hover label.sk-toggleable__label {background-color: #d4ebff;}#sk-container-id-1 div.sk-serial::before {content: \"\";position: absolute;border-left: 1px solid gray;box-sizing: border-box;top: 0;bottom: 0;left: 50%;z-index: 0;}#sk-container-id-1 div.sk-serial {display: flex;flex-direction: column;align-items: center;background-color: white;padding-right: 0.2em;padding-left: 0.2em;position: relative;}#sk-container-id-1 div.sk-item {position: relative;z-index: 1;}#sk-container-id-1 div.sk-parallel {display: flex;align-items: stretch;justify-content: center;background-color: white;position: relative;}#sk-container-id-1 div.sk-item::before, #sk-container-id-1 div.sk-parallel-item::before {content: \"\";position: absolute;border-left: 1px solid gray;box-sizing: border-box;top: 0;bottom: 0;left: 50%;z-index: -1;}#sk-container-id-1 div.sk-parallel-item {display: flex;flex-direction: column;z-index: 1;position: relative;background-color: white;}#sk-container-id-1 div.sk-parallel-item:first-child::after {align-self: flex-end;width: 50%;}#sk-container-id-1 div.sk-parallel-item:last-child::after {align-self: flex-start;width: 50%;}#sk-container-id-1 div.sk-parallel-item:only-child::after {width: 0;}#sk-container-id-1 div.sk-dashed-wrapped {border: 1px dashed gray;margin: 0 0.4em 0.5em 0.4em;box-sizing: border-box;padding-bottom: 0.4em;background-color: white;}#sk-container-id-1 div.sk-label label {font-family: monospace;font-weight: bold;display: inline-block;line-height: 1.2em;}#sk-container-id-1 div.sk-label-container {text-align: center;}#sk-container-id-1 div.sk-container {/* jupyter's `normalize.less` sets `[hidden] { display: none; }` but bootstrap.min.css set `[hidden] { display: none !important; }` so we also need the `!important` here to be able to override the default hidden behavior on the sphinx rendered scikit-learn.org. See: https://github.com/scikit-learn/scikit-learn/issues/21755 */display: inline-block !important;position: relative;}#sk-container-id-1 div.sk-text-repr-fallback {display: none;}</style><div id=\"sk-container-id-1\" class=\"sk-top-container\"><div class=\"sk-text-repr-fallback\"><pre>Pipeline(steps=[(&#x27;tfidf&#x27;,\n",
       "                 TfidfVectorizer(stop_words=[&#x27;hers&#x27;, &#x27;doing&#x27;, &#x27;s&#x27;, &#x27;until&#x27;,\n",
       "                                             &#x27;ourselves&#x27;, &#x27;between&#x27;, &#x27;few&#x27;,\n",
       "                                             &#x27;does&#x27;, &#x27;yours&#x27;, &#x27;they&#x27;, &quot;doesn&#x27;t&quot;,\n",
       "                                             &#x27;the&#x27;, &#x27;its&#x27;, &quot;you&#x27;re&quot;, &#x27;over&#x27;,\n",
       "                                             &#x27;now&#x27;, &#x27;where&#x27;, &#x27;of&#x27;, &#x27;she&#x27;,\n",
       "                                             &#x27;theirs&#x27;, &#x27;mustn&#x27;, &#x27;what&#x27;,\n",
       "                                             &#x27;yourself&#x27;, &quot;you&#x27;ve&quot;, &#x27;your&#x27;,\n",
       "                                             &#x27;all&#x27;, &#x27;each&#x27;, &#x27;such&#x27;, &quot;wouldn&#x27;t&quot;,\n",
       "                                             &#x27;only&#x27;, ...])),\n",
       "                (&#x27;model_lr&#x27;, LogisticRegression(random_state=12345))])</pre><b>In a Jupyter environment, please rerun this cell to show the HTML representation or trust the notebook. <br />On GitHub, the HTML representation is unable to render, please try loading this page with nbviewer.org.</b></div><div class=\"sk-container\" hidden><div class=\"sk-item sk-dashed-wrapped\"><div class=\"sk-label-container\"><div class=\"sk-label sk-toggleable\"><input class=\"sk-toggleable__control sk-hidden--visually\" id=\"sk-estimator-id-1\" type=\"checkbox\" ><label for=\"sk-estimator-id-1\" class=\"sk-toggleable__label sk-toggleable__label-arrow\">Pipeline</label><div class=\"sk-toggleable__content\"><pre>Pipeline(steps=[(&#x27;tfidf&#x27;,\n",
       "                 TfidfVectorizer(stop_words=[&#x27;hers&#x27;, &#x27;doing&#x27;, &#x27;s&#x27;, &#x27;until&#x27;,\n",
       "                                             &#x27;ourselves&#x27;, &#x27;between&#x27;, &#x27;few&#x27;,\n",
       "                                             &#x27;does&#x27;, &#x27;yours&#x27;, &#x27;they&#x27;, &quot;doesn&#x27;t&quot;,\n",
       "                                             &#x27;the&#x27;, &#x27;its&#x27;, &quot;you&#x27;re&quot;, &#x27;over&#x27;,\n",
       "                                             &#x27;now&#x27;, &#x27;where&#x27;, &#x27;of&#x27;, &#x27;she&#x27;,\n",
       "                                             &#x27;theirs&#x27;, &#x27;mustn&#x27;, &#x27;what&#x27;,\n",
       "                                             &#x27;yourself&#x27;, &quot;you&#x27;ve&quot;, &#x27;your&#x27;,\n",
       "                                             &#x27;all&#x27;, &#x27;each&#x27;, &#x27;such&#x27;, &quot;wouldn&#x27;t&quot;,\n",
       "                                             &#x27;only&#x27;, ...])),\n",
       "                (&#x27;model_lr&#x27;, LogisticRegression(random_state=12345))])</pre></div></div></div><div class=\"sk-serial\"><div class=\"sk-item\"><div class=\"sk-estimator sk-toggleable\"><input class=\"sk-toggleable__control sk-hidden--visually\" id=\"sk-estimator-id-2\" type=\"checkbox\" ><label for=\"sk-estimator-id-2\" class=\"sk-toggleable__label sk-toggleable__label-arrow\">TfidfVectorizer</label><div class=\"sk-toggleable__content\"><pre>TfidfVectorizer(stop_words=[&#x27;hers&#x27;, &#x27;doing&#x27;, &#x27;s&#x27;, &#x27;until&#x27;, &#x27;ourselves&#x27;,\n",
       "                            &#x27;between&#x27;, &#x27;few&#x27;, &#x27;does&#x27;, &#x27;yours&#x27;, &#x27;they&#x27;,\n",
       "                            &quot;doesn&#x27;t&quot;, &#x27;the&#x27;, &#x27;its&#x27;, &quot;you&#x27;re&quot;, &#x27;over&#x27;, &#x27;now&#x27;,\n",
       "                            &#x27;where&#x27;, &#x27;of&#x27;, &#x27;she&#x27;, &#x27;theirs&#x27;, &#x27;mustn&#x27;, &#x27;what&#x27;,\n",
       "                            &#x27;yourself&#x27;, &quot;you&#x27;ve&quot;, &#x27;your&#x27;, &#x27;all&#x27;, &#x27;each&#x27;, &#x27;such&#x27;,\n",
       "                            &quot;wouldn&#x27;t&quot;, &#x27;only&#x27;, ...])</pre></div></div></div><div class=\"sk-item\"><div class=\"sk-estimator sk-toggleable\"><input class=\"sk-toggleable__control sk-hidden--visually\" id=\"sk-estimator-id-3\" type=\"checkbox\" ><label for=\"sk-estimator-id-3\" class=\"sk-toggleable__label sk-toggleable__label-arrow\">LogisticRegression</label><div class=\"sk-toggleable__content\"><pre>LogisticRegression(random_state=12345)</pre></div></div></div></div></div></div></div>"
      ],
      "text/plain": [
       "Pipeline(steps=[('tfidf',\n",
       "                 TfidfVectorizer(stop_words=['hers', 'doing', 's', 'until',\n",
       "                                             'ourselves', 'between', 'few',\n",
       "                                             'does', 'yours', 'they', \"doesn't\",\n",
       "                                             'the', 'its', \"you're\", 'over',\n",
       "                                             'now', 'where', 'of', 'she',\n",
       "                                             'theirs', 'mustn', 'what',\n",
       "                                             'yourself', \"you've\", 'your',\n",
       "                                             'all', 'each', 'such', \"wouldn't\",\n",
       "                                             'only', ...])),\n",
       "                ('model_lr', LogisticRegression(random_state=12345))])"
      ]
     },
     "execution_count": 29,
     "metadata": {},
     "output_type": "execute_result"
    }
   ],
   "source": [
    "%%time\n",
    "\n",
    "pipe_lr.fit(X_train['lemmatize_text'], y_train)"
   ]
  },
  {
   "cell_type": "code",
   "execution_count": 30,
   "metadata": {},
   "outputs": [
    {
     "name": "stdout",
     "output_type": "stream",
     "text": [
      "CPU times: user 66 µs, sys: 1 µs, total: 67 µs\n",
      "Wall time: 7.87 µs\n"
     ]
    }
   ],
   "source": [
    "%%time\n",
    "# словарь с гиперпараметрами и значениями, которые хотим перебрать\n",
    "param_grid_linear = {\n",
    "    'model_lr__class_weight':['balanced'],\n",
    "    'model_lr__solver': ['liblinear',\n",
    "                             'newton-cg',\n",
    "                             'newton-cholesky'\n",
    "                            ],\n",
    "    'model_lr__C': ([x for x in range(1, 15,1)]),\n",
    "    'model_lr__penalty': ('l1','l2',None),\n",
    "    'model_lr__max_iter':([100])\n",
    "}"
   ]
  },
  {
   "cell_type": "code",
   "execution_count": 31,
   "metadata": {},
   "outputs": [
    {
     "name": "stdout",
     "output_type": "stream",
     "text": [
      "CPU times: user 159 µs, sys: 7 µs, total: 166 µs\n",
      "Wall time: 22.2 µs\n"
     ]
    }
   ],
   "source": [
    "%%time\n",
    "gs_linear = GridSearchCV(\n",
    "    pipe_lr, \n",
    "    cv=3,\n",
    "    param_grid=param_grid_linear,\n",
    "    scoring='f1', \n",
    "    n_jobs=-1\n",
    ")"
   ]
  },
  {
   "cell_type": "code",
   "execution_count": 32,
   "metadata": {
    "scrolled": false
   },
   "outputs": [
    {
     "name": "stdout",
     "output_type": "stream",
     "text": [
      "CPU times: user 1min 9s, sys: 24.6 s, total: 1min 34s\n",
      "Wall time: 5min 24s\n"
     ]
    },
    {
     "data": {
      "text/html": [
       "<style>#sk-container-id-2 {color: black;background-color: white;}#sk-container-id-2 pre{padding: 0;}#sk-container-id-2 div.sk-toggleable {background-color: white;}#sk-container-id-2 label.sk-toggleable__label {cursor: pointer;display: block;width: 100%;margin-bottom: 0;padding: 0.3em;box-sizing: border-box;text-align: center;}#sk-container-id-2 label.sk-toggleable__label-arrow:before {content: \"▸\";float: left;margin-right: 0.25em;color: #696969;}#sk-container-id-2 label.sk-toggleable__label-arrow:hover:before {color: black;}#sk-container-id-2 div.sk-estimator:hover label.sk-toggleable__label-arrow:before {color: black;}#sk-container-id-2 div.sk-toggleable__content {max-height: 0;max-width: 0;overflow: hidden;text-align: left;background-color: #f0f8ff;}#sk-container-id-2 div.sk-toggleable__content pre {margin: 0.2em;color: black;border-radius: 0.25em;background-color: #f0f8ff;}#sk-container-id-2 input.sk-toggleable__control:checked~div.sk-toggleable__content {max-height: 200px;max-width: 100%;overflow: auto;}#sk-container-id-2 input.sk-toggleable__control:checked~label.sk-toggleable__label-arrow:before {content: \"▾\";}#sk-container-id-2 div.sk-estimator input.sk-toggleable__control:checked~label.sk-toggleable__label {background-color: #d4ebff;}#sk-container-id-2 div.sk-label input.sk-toggleable__control:checked~label.sk-toggleable__label {background-color: #d4ebff;}#sk-container-id-2 input.sk-hidden--visually {border: 0;clip: rect(1px 1px 1px 1px);clip: rect(1px, 1px, 1px, 1px);height: 1px;margin: -1px;overflow: hidden;padding: 0;position: absolute;width: 1px;}#sk-container-id-2 div.sk-estimator {font-family: monospace;background-color: #f0f8ff;border: 1px dotted black;border-radius: 0.25em;box-sizing: border-box;margin-bottom: 0.5em;}#sk-container-id-2 div.sk-estimator:hover {background-color: #d4ebff;}#sk-container-id-2 div.sk-parallel-item::after {content: \"\";width: 100%;border-bottom: 1px solid gray;flex-grow: 1;}#sk-container-id-2 div.sk-label:hover label.sk-toggleable__label {background-color: #d4ebff;}#sk-container-id-2 div.sk-serial::before {content: \"\";position: absolute;border-left: 1px solid gray;box-sizing: border-box;top: 0;bottom: 0;left: 50%;z-index: 0;}#sk-container-id-2 div.sk-serial {display: flex;flex-direction: column;align-items: center;background-color: white;padding-right: 0.2em;padding-left: 0.2em;position: relative;}#sk-container-id-2 div.sk-item {position: relative;z-index: 1;}#sk-container-id-2 div.sk-parallel {display: flex;align-items: stretch;justify-content: center;background-color: white;position: relative;}#sk-container-id-2 div.sk-item::before, #sk-container-id-2 div.sk-parallel-item::before {content: \"\";position: absolute;border-left: 1px solid gray;box-sizing: border-box;top: 0;bottom: 0;left: 50%;z-index: -1;}#sk-container-id-2 div.sk-parallel-item {display: flex;flex-direction: column;z-index: 1;position: relative;background-color: white;}#sk-container-id-2 div.sk-parallel-item:first-child::after {align-self: flex-end;width: 50%;}#sk-container-id-2 div.sk-parallel-item:last-child::after {align-self: flex-start;width: 50%;}#sk-container-id-2 div.sk-parallel-item:only-child::after {width: 0;}#sk-container-id-2 div.sk-dashed-wrapped {border: 1px dashed gray;margin: 0 0.4em 0.5em 0.4em;box-sizing: border-box;padding-bottom: 0.4em;background-color: white;}#sk-container-id-2 div.sk-label label {font-family: monospace;font-weight: bold;display: inline-block;line-height: 1.2em;}#sk-container-id-2 div.sk-label-container {text-align: center;}#sk-container-id-2 div.sk-container {/* jupyter's `normalize.less` sets `[hidden] { display: none; }` but bootstrap.min.css set `[hidden] { display: none !important; }` so we also need the `!important` here to be able to override the default hidden behavior on the sphinx rendered scikit-learn.org. See: https://github.com/scikit-learn/scikit-learn/issues/21755 */display: inline-block !important;position: relative;}#sk-container-id-2 div.sk-text-repr-fallback {display: none;}</style><div id=\"sk-container-id-2\" class=\"sk-top-container\"><div class=\"sk-text-repr-fallback\"><pre>GridSearchCV(cv=3,\n",
       "             estimator=Pipeline(steps=[(&#x27;tfidf&#x27;,\n",
       "                                        TfidfVectorizer(stop_words=[&#x27;hers&#x27;,\n",
       "                                                                    &#x27;doing&#x27;,\n",
       "                                                                    &#x27;s&#x27;,\n",
       "                                                                    &#x27;until&#x27;,\n",
       "                                                                    &#x27;ourselves&#x27;,\n",
       "                                                                    &#x27;between&#x27;,\n",
       "                                                                    &#x27;few&#x27;,\n",
       "                                                                    &#x27;does&#x27;,\n",
       "                                                                    &#x27;yours&#x27;,\n",
       "                                                                    &#x27;they&#x27;,\n",
       "                                                                    &quot;doesn&#x27;t&quot;,\n",
       "                                                                    &#x27;the&#x27;,\n",
       "                                                                    &#x27;its&#x27;,\n",
       "                                                                    &quot;you&#x27;re&quot;,\n",
       "                                                                    &#x27;over&#x27;,\n",
       "                                                                    &#x27;now&#x27;,\n",
       "                                                                    &#x27;where&#x27;,\n",
       "                                                                    &#x27;of&#x27;, &#x27;she&#x27;,\n",
       "                                                                    &#x27;theirs&#x27;,\n",
       "                                                                    &#x27;mustn&#x27;,\n",
       "                                                                    &#x27;what&#x27;,\n",
       "                                                                    &#x27;yourself&#x27;,\n",
       "                                                                    &quot;you&#x27;ve&quot;,\n",
       "                                                                    &#x27;your&#x27;,\n",
       "                                                                    &#x27;all&#x27;,\n",
       "                                                                    &#x27;each&#x27;,\n",
       "                                                                    &#x27;such&#x27;,\n",
       "                                                                    &quot;wouldn&#x27;t&quot;,\n",
       "                                                                    &#x27;only&#x27;, ...])),\n",
       "                                       (&#x27;model_lr&#x27;,\n",
       "                                        LogisticRegression(random_state=12345))]),\n",
       "             n_jobs=-1,\n",
       "             param_grid={&#x27;model_lr__C&#x27;: [1, 2, 3, 4, 5, 6, 7, 8, 9, 10, 11, 12,\n",
       "                                         13, 14],\n",
       "                         &#x27;model_lr__class_weight&#x27;: [&#x27;balanced&#x27;],\n",
       "                         &#x27;model_lr__max_iter&#x27;: [100],\n",
       "                         &#x27;model_lr__penalty&#x27;: (&#x27;l1&#x27;, &#x27;l2&#x27;, None),\n",
       "                         &#x27;model_lr__solver&#x27;: [&#x27;liblinear&#x27;, &#x27;newton-cg&#x27;,\n",
       "                                              &#x27;newton-cholesky&#x27;]},\n",
       "             scoring=&#x27;f1&#x27;)</pre><b>In a Jupyter environment, please rerun this cell to show the HTML representation or trust the notebook. <br />On GitHub, the HTML representation is unable to render, please try loading this page with nbviewer.org.</b></div><div class=\"sk-container\" hidden><div class=\"sk-item sk-dashed-wrapped\"><div class=\"sk-label-container\"><div class=\"sk-label sk-toggleable\"><input class=\"sk-toggleable__control sk-hidden--visually\" id=\"sk-estimator-id-4\" type=\"checkbox\" ><label for=\"sk-estimator-id-4\" class=\"sk-toggleable__label sk-toggleable__label-arrow\">GridSearchCV</label><div class=\"sk-toggleable__content\"><pre>GridSearchCV(cv=3,\n",
       "             estimator=Pipeline(steps=[(&#x27;tfidf&#x27;,\n",
       "                                        TfidfVectorizer(stop_words=[&#x27;hers&#x27;,\n",
       "                                                                    &#x27;doing&#x27;,\n",
       "                                                                    &#x27;s&#x27;,\n",
       "                                                                    &#x27;until&#x27;,\n",
       "                                                                    &#x27;ourselves&#x27;,\n",
       "                                                                    &#x27;between&#x27;,\n",
       "                                                                    &#x27;few&#x27;,\n",
       "                                                                    &#x27;does&#x27;,\n",
       "                                                                    &#x27;yours&#x27;,\n",
       "                                                                    &#x27;they&#x27;,\n",
       "                                                                    &quot;doesn&#x27;t&quot;,\n",
       "                                                                    &#x27;the&#x27;,\n",
       "                                                                    &#x27;its&#x27;,\n",
       "                                                                    &quot;you&#x27;re&quot;,\n",
       "                                                                    &#x27;over&#x27;,\n",
       "                                                                    &#x27;now&#x27;,\n",
       "                                                                    &#x27;where&#x27;,\n",
       "                                                                    &#x27;of&#x27;, &#x27;she&#x27;,\n",
       "                                                                    &#x27;theirs&#x27;,\n",
       "                                                                    &#x27;mustn&#x27;,\n",
       "                                                                    &#x27;what&#x27;,\n",
       "                                                                    &#x27;yourself&#x27;,\n",
       "                                                                    &quot;you&#x27;ve&quot;,\n",
       "                                                                    &#x27;your&#x27;,\n",
       "                                                                    &#x27;all&#x27;,\n",
       "                                                                    &#x27;each&#x27;,\n",
       "                                                                    &#x27;such&#x27;,\n",
       "                                                                    &quot;wouldn&#x27;t&quot;,\n",
       "                                                                    &#x27;only&#x27;, ...])),\n",
       "                                       (&#x27;model_lr&#x27;,\n",
       "                                        LogisticRegression(random_state=12345))]),\n",
       "             n_jobs=-1,\n",
       "             param_grid={&#x27;model_lr__C&#x27;: [1, 2, 3, 4, 5, 6, 7, 8, 9, 10, 11, 12,\n",
       "                                         13, 14],\n",
       "                         &#x27;model_lr__class_weight&#x27;: [&#x27;balanced&#x27;],\n",
       "                         &#x27;model_lr__max_iter&#x27;: [100],\n",
       "                         &#x27;model_lr__penalty&#x27;: (&#x27;l1&#x27;, &#x27;l2&#x27;, None),\n",
       "                         &#x27;model_lr__solver&#x27;: [&#x27;liblinear&#x27;, &#x27;newton-cg&#x27;,\n",
       "                                              &#x27;newton-cholesky&#x27;]},\n",
       "             scoring=&#x27;f1&#x27;)</pre></div></div></div><div class=\"sk-parallel\"><div class=\"sk-parallel-item\"><div class=\"sk-item\"><div class=\"sk-label-container\"><div class=\"sk-label sk-toggleable\"><input class=\"sk-toggleable__control sk-hidden--visually\" id=\"sk-estimator-id-5\" type=\"checkbox\" ><label for=\"sk-estimator-id-5\" class=\"sk-toggleable__label sk-toggleable__label-arrow\">estimator: Pipeline</label><div class=\"sk-toggleable__content\"><pre>Pipeline(steps=[(&#x27;tfidf&#x27;,\n",
       "                 TfidfVectorizer(stop_words=[&#x27;hers&#x27;, &#x27;doing&#x27;, &#x27;s&#x27;, &#x27;until&#x27;,\n",
       "                                             &#x27;ourselves&#x27;, &#x27;between&#x27;, &#x27;few&#x27;,\n",
       "                                             &#x27;does&#x27;, &#x27;yours&#x27;, &#x27;they&#x27;, &quot;doesn&#x27;t&quot;,\n",
       "                                             &#x27;the&#x27;, &#x27;its&#x27;, &quot;you&#x27;re&quot;, &#x27;over&#x27;,\n",
       "                                             &#x27;now&#x27;, &#x27;where&#x27;, &#x27;of&#x27;, &#x27;she&#x27;,\n",
       "                                             &#x27;theirs&#x27;, &#x27;mustn&#x27;, &#x27;what&#x27;,\n",
       "                                             &#x27;yourself&#x27;, &quot;you&#x27;ve&quot;, &#x27;your&#x27;,\n",
       "                                             &#x27;all&#x27;, &#x27;each&#x27;, &#x27;such&#x27;, &quot;wouldn&#x27;t&quot;,\n",
       "                                             &#x27;only&#x27;, ...])),\n",
       "                (&#x27;model_lr&#x27;, LogisticRegression(random_state=12345))])</pre></div></div></div><div class=\"sk-serial\"><div class=\"sk-item\"><div class=\"sk-serial\"><div class=\"sk-item\"><div class=\"sk-estimator sk-toggleable\"><input class=\"sk-toggleable__control sk-hidden--visually\" id=\"sk-estimator-id-6\" type=\"checkbox\" ><label for=\"sk-estimator-id-6\" class=\"sk-toggleable__label sk-toggleable__label-arrow\">TfidfVectorizer</label><div class=\"sk-toggleable__content\"><pre>TfidfVectorizer(stop_words=[&#x27;hers&#x27;, &#x27;doing&#x27;, &#x27;s&#x27;, &#x27;until&#x27;, &#x27;ourselves&#x27;,\n",
       "                            &#x27;between&#x27;, &#x27;few&#x27;, &#x27;does&#x27;, &#x27;yours&#x27;, &#x27;they&#x27;,\n",
       "                            &quot;doesn&#x27;t&quot;, &#x27;the&#x27;, &#x27;its&#x27;, &quot;you&#x27;re&quot;, &#x27;over&#x27;, &#x27;now&#x27;,\n",
       "                            &#x27;where&#x27;, &#x27;of&#x27;, &#x27;she&#x27;, &#x27;theirs&#x27;, &#x27;mustn&#x27;, &#x27;what&#x27;,\n",
       "                            &#x27;yourself&#x27;, &quot;you&#x27;ve&quot;, &#x27;your&#x27;, &#x27;all&#x27;, &#x27;each&#x27;, &#x27;such&#x27;,\n",
       "                            &quot;wouldn&#x27;t&quot;, &#x27;only&#x27;, ...])</pre></div></div></div><div class=\"sk-item\"><div class=\"sk-estimator sk-toggleable\"><input class=\"sk-toggleable__control sk-hidden--visually\" id=\"sk-estimator-id-7\" type=\"checkbox\" ><label for=\"sk-estimator-id-7\" class=\"sk-toggleable__label sk-toggleable__label-arrow\">LogisticRegression</label><div class=\"sk-toggleable__content\"><pre>LogisticRegression(random_state=12345)</pre></div></div></div></div></div></div></div></div></div></div></div></div>"
      ],
      "text/plain": [
       "GridSearchCV(cv=3,\n",
       "             estimator=Pipeline(steps=[('tfidf',\n",
       "                                        TfidfVectorizer(stop_words=['hers',\n",
       "                                                                    'doing',\n",
       "                                                                    's',\n",
       "                                                                    'until',\n",
       "                                                                    'ourselves',\n",
       "                                                                    'between',\n",
       "                                                                    'few',\n",
       "                                                                    'does',\n",
       "                                                                    'yours',\n",
       "                                                                    'they',\n",
       "                                                                    \"doesn't\",\n",
       "                                                                    'the',\n",
       "                                                                    'its',\n",
       "                                                                    \"you're\",\n",
       "                                                                    'over',\n",
       "                                                                    'now',\n",
       "                                                                    'where',\n",
       "                                                                    'of', 'she',\n",
       "                                                                    'theirs',\n",
       "                                                                    'mustn',\n",
       "                                                                    'what',\n",
       "                                                                    'yourself',\n",
       "                                                                    \"you've\",\n",
       "                                                                    'your',\n",
       "                                                                    'all',\n",
       "                                                                    'each',\n",
       "                                                                    'such',\n",
       "                                                                    \"wouldn't\",\n",
       "                                                                    'only', ...])),\n",
       "                                       ('model_lr',\n",
       "                                        LogisticRegression(random_state=12345))]),\n",
       "             n_jobs=-1,\n",
       "             param_grid={'model_lr__C': [1, 2, 3, 4, 5, 6, 7, 8, 9, 10, 11, 12,\n",
       "                                         13, 14],\n",
       "                         'model_lr__class_weight': ['balanced'],\n",
       "                         'model_lr__max_iter': [100],\n",
       "                         'model_lr__penalty': ('l1', 'l2', None),\n",
       "                         'model_lr__solver': ['liblinear', 'newton-cg',\n",
       "                                              'newton-cholesky']},\n",
       "             scoring='f1')"
      ]
     },
     "execution_count": 32,
     "metadata": {},
     "output_type": "execute_result"
    }
   ],
   "source": [
    "%%time\n",
    "gs_linear.fit(X_train['lemmatize_text'], y_train)"
   ]
  },
  {
   "cell_type": "code",
   "execution_count": 33,
   "metadata": {},
   "outputs": [
    {
     "name": "stdout",
     "output_type": "stream",
     "text": [
      "best_score: 0.7666695651222751\n",
      "best_params: {'model_lr__C': 8, 'model_lr__class_weight': 'balanced', 'model_lr__max_iter': 100, 'model_lr__penalty': 'l2', 'model_lr__solver': 'liblinear'}\n"
     ]
    }
   ],
   "source": [
    "# лучшее значение F1\n",
    "print(f'best_score: {gs_linear.best_score_}')\n",
    "\n",
    "# лучшие гиперпараметры\n",
    "print(f'best_params: {gs_linear.best_params_}')"
   ]
  },
  {
   "cell_type": "code",
   "execution_count": 34,
   "metadata": {},
   "outputs": [],
   "source": [
    "all_parametrs_cw.append(gs_linear.best_params_)\n",
    "all_f1_cw.append(gs_linear.best_score_)"
   ]
  },
  {
   "cell_type": "markdown",
   "metadata": {},
   "source": [
    "#### Решающее дерево - DecisionTreeClassifier"
   ]
  },
  {
   "cell_type": "code",
   "execution_count": 35,
   "metadata": {},
   "outputs": [],
   "source": [
    "pipe_tree = Pipeline(steps=[\n",
    "    ('tfidf', TfidfVectorizer(stop_words=stop_words) ),\n",
    "    ('model_tr', DecisionTreeClassifier(random_state=RANDOM_STATE))]\n",
    ")"
   ]
  },
  {
   "cell_type": "code",
   "execution_count": 36,
   "metadata": {},
   "outputs": [
    {
     "name": "stdout",
     "output_type": "stream",
     "text": [
      "CPU times: user 5min 9s, sys: 691 ms, total: 5min 10s\n",
      "Wall time: 5min 10s\n"
     ]
    },
    {
     "data": {
      "text/html": [
       "<style>#sk-container-id-3 {color: black;background-color: white;}#sk-container-id-3 pre{padding: 0;}#sk-container-id-3 div.sk-toggleable {background-color: white;}#sk-container-id-3 label.sk-toggleable__label {cursor: pointer;display: block;width: 100%;margin-bottom: 0;padding: 0.3em;box-sizing: border-box;text-align: center;}#sk-container-id-3 label.sk-toggleable__label-arrow:before {content: \"▸\";float: left;margin-right: 0.25em;color: #696969;}#sk-container-id-3 label.sk-toggleable__label-arrow:hover:before {color: black;}#sk-container-id-3 div.sk-estimator:hover label.sk-toggleable__label-arrow:before {color: black;}#sk-container-id-3 div.sk-toggleable__content {max-height: 0;max-width: 0;overflow: hidden;text-align: left;background-color: #f0f8ff;}#sk-container-id-3 div.sk-toggleable__content pre {margin: 0.2em;color: black;border-radius: 0.25em;background-color: #f0f8ff;}#sk-container-id-3 input.sk-toggleable__control:checked~div.sk-toggleable__content {max-height: 200px;max-width: 100%;overflow: auto;}#sk-container-id-3 input.sk-toggleable__control:checked~label.sk-toggleable__label-arrow:before {content: \"▾\";}#sk-container-id-3 div.sk-estimator input.sk-toggleable__control:checked~label.sk-toggleable__label {background-color: #d4ebff;}#sk-container-id-3 div.sk-label input.sk-toggleable__control:checked~label.sk-toggleable__label {background-color: #d4ebff;}#sk-container-id-3 input.sk-hidden--visually {border: 0;clip: rect(1px 1px 1px 1px);clip: rect(1px, 1px, 1px, 1px);height: 1px;margin: -1px;overflow: hidden;padding: 0;position: absolute;width: 1px;}#sk-container-id-3 div.sk-estimator {font-family: monospace;background-color: #f0f8ff;border: 1px dotted black;border-radius: 0.25em;box-sizing: border-box;margin-bottom: 0.5em;}#sk-container-id-3 div.sk-estimator:hover {background-color: #d4ebff;}#sk-container-id-3 div.sk-parallel-item::after {content: \"\";width: 100%;border-bottom: 1px solid gray;flex-grow: 1;}#sk-container-id-3 div.sk-label:hover label.sk-toggleable__label {background-color: #d4ebff;}#sk-container-id-3 div.sk-serial::before {content: \"\";position: absolute;border-left: 1px solid gray;box-sizing: border-box;top: 0;bottom: 0;left: 50%;z-index: 0;}#sk-container-id-3 div.sk-serial {display: flex;flex-direction: column;align-items: center;background-color: white;padding-right: 0.2em;padding-left: 0.2em;position: relative;}#sk-container-id-3 div.sk-item {position: relative;z-index: 1;}#sk-container-id-3 div.sk-parallel {display: flex;align-items: stretch;justify-content: center;background-color: white;position: relative;}#sk-container-id-3 div.sk-item::before, #sk-container-id-3 div.sk-parallel-item::before {content: \"\";position: absolute;border-left: 1px solid gray;box-sizing: border-box;top: 0;bottom: 0;left: 50%;z-index: -1;}#sk-container-id-3 div.sk-parallel-item {display: flex;flex-direction: column;z-index: 1;position: relative;background-color: white;}#sk-container-id-3 div.sk-parallel-item:first-child::after {align-self: flex-end;width: 50%;}#sk-container-id-3 div.sk-parallel-item:last-child::after {align-self: flex-start;width: 50%;}#sk-container-id-3 div.sk-parallel-item:only-child::after {width: 0;}#sk-container-id-3 div.sk-dashed-wrapped {border: 1px dashed gray;margin: 0 0.4em 0.5em 0.4em;box-sizing: border-box;padding-bottom: 0.4em;background-color: white;}#sk-container-id-3 div.sk-label label {font-family: monospace;font-weight: bold;display: inline-block;line-height: 1.2em;}#sk-container-id-3 div.sk-label-container {text-align: center;}#sk-container-id-3 div.sk-container {/* jupyter's `normalize.less` sets `[hidden] { display: none; }` but bootstrap.min.css set `[hidden] { display: none !important; }` so we also need the `!important` here to be able to override the default hidden behavior on the sphinx rendered scikit-learn.org. See: https://github.com/scikit-learn/scikit-learn/issues/21755 */display: inline-block !important;position: relative;}#sk-container-id-3 div.sk-text-repr-fallback {display: none;}</style><div id=\"sk-container-id-3\" class=\"sk-top-container\"><div class=\"sk-text-repr-fallback\"><pre>Pipeline(steps=[(&#x27;tfidf&#x27;,\n",
       "                 TfidfVectorizer(stop_words=[&#x27;hers&#x27;, &#x27;doing&#x27;, &#x27;s&#x27;, &#x27;until&#x27;,\n",
       "                                             &#x27;ourselves&#x27;, &#x27;between&#x27;, &#x27;few&#x27;,\n",
       "                                             &#x27;does&#x27;, &#x27;yours&#x27;, &#x27;they&#x27;, &quot;doesn&#x27;t&quot;,\n",
       "                                             &#x27;the&#x27;, &#x27;its&#x27;, &quot;you&#x27;re&quot;, &#x27;over&#x27;,\n",
       "                                             &#x27;now&#x27;, &#x27;where&#x27;, &#x27;of&#x27;, &#x27;she&#x27;,\n",
       "                                             &#x27;theirs&#x27;, &#x27;mustn&#x27;, &#x27;what&#x27;,\n",
       "                                             &#x27;yourself&#x27;, &quot;you&#x27;ve&quot;, &#x27;your&#x27;,\n",
       "                                             &#x27;all&#x27;, &#x27;each&#x27;, &#x27;such&#x27;, &quot;wouldn&#x27;t&quot;,\n",
       "                                             &#x27;only&#x27;, ...])),\n",
       "                (&#x27;model_tr&#x27;, DecisionTreeClassifier(random_state=12345))])</pre><b>In a Jupyter environment, please rerun this cell to show the HTML representation or trust the notebook. <br />On GitHub, the HTML representation is unable to render, please try loading this page with nbviewer.org.</b></div><div class=\"sk-container\" hidden><div class=\"sk-item sk-dashed-wrapped\"><div class=\"sk-label-container\"><div class=\"sk-label sk-toggleable\"><input class=\"sk-toggleable__control sk-hidden--visually\" id=\"sk-estimator-id-8\" type=\"checkbox\" ><label for=\"sk-estimator-id-8\" class=\"sk-toggleable__label sk-toggleable__label-arrow\">Pipeline</label><div class=\"sk-toggleable__content\"><pre>Pipeline(steps=[(&#x27;tfidf&#x27;,\n",
       "                 TfidfVectorizer(stop_words=[&#x27;hers&#x27;, &#x27;doing&#x27;, &#x27;s&#x27;, &#x27;until&#x27;,\n",
       "                                             &#x27;ourselves&#x27;, &#x27;between&#x27;, &#x27;few&#x27;,\n",
       "                                             &#x27;does&#x27;, &#x27;yours&#x27;, &#x27;they&#x27;, &quot;doesn&#x27;t&quot;,\n",
       "                                             &#x27;the&#x27;, &#x27;its&#x27;, &quot;you&#x27;re&quot;, &#x27;over&#x27;,\n",
       "                                             &#x27;now&#x27;, &#x27;where&#x27;, &#x27;of&#x27;, &#x27;she&#x27;,\n",
       "                                             &#x27;theirs&#x27;, &#x27;mustn&#x27;, &#x27;what&#x27;,\n",
       "                                             &#x27;yourself&#x27;, &quot;you&#x27;ve&quot;, &#x27;your&#x27;,\n",
       "                                             &#x27;all&#x27;, &#x27;each&#x27;, &#x27;such&#x27;, &quot;wouldn&#x27;t&quot;,\n",
       "                                             &#x27;only&#x27;, ...])),\n",
       "                (&#x27;model_tr&#x27;, DecisionTreeClassifier(random_state=12345))])</pre></div></div></div><div class=\"sk-serial\"><div class=\"sk-item\"><div class=\"sk-estimator sk-toggleable\"><input class=\"sk-toggleable__control sk-hidden--visually\" id=\"sk-estimator-id-9\" type=\"checkbox\" ><label for=\"sk-estimator-id-9\" class=\"sk-toggleable__label sk-toggleable__label-arrow\">TfidfVectorizer</label><div class=\"sk-toggleable__content\"><pre>TfidfVectorizer(stop_words=[&#x27;hers&#x27;, &#x27;doing&#x27;, &#x27;s&#x27;, &#x27;until&#x27;, &#x27;ourselves&#x27;,\n",
       "                            &#x27;between&#x27;, &#x27;few&#x27;, &#x27;does&#x27;, &#x27;yours&#x27;, &#x27;they&#x27;,\n",
       "                            &quot;doesn&#x27;t&quot;, &#x27;the&#x27;, &#x27;its&#x27;, &quot;you&#x27;re&quot;, &#x27;over&#x27;, &#x27;now&#x27;,\n",
       "                            &#x27;where&#x27;, &#x27;of&#x27;, &#x27;she&#x27;, &#x27;theirs&#x27;, &#x27;mustn&#x27;, &#x27;what&#x27;,\n",
       "                            &#x27;yourself&#x27;, &quot;you&#x27;ve&quot;, &#x27;your&#x27;, &#x27;all&#x27;, &#x27;each&#x27;, &#x27;such&#x27;,\n",
       "                            &quot;wouldn&#x27;t&quot;, &#x27;only&#x27;, ...])</pre></div></div></div><div class=\"sk-item\"><div class=\"sk-estimator sk-toggleable\"><input class=\"sk-toggleable__control sk-hidden--visually\" id=\"sk-estimator-id-10\" type=\"checkbox\" ><label for=\"sk-estimator-id-10\" class=\"sk-toggleable__label sk-toggleable__label-arrow\">DecisionTreeClassifier</label><div class=\"sk-toggleable__content\"><pre>DecisionTreeClassifier(random_state=12345)</pre></div></div></div></div></div></div></div>"
      ],
      "text/plain": [
       "Pipeline(steps=[('tfidf',\n",
       "                 TfidfVectorizer(stop_words=['hers', 'doing', 's', 'until',\n",
       "                                             'ourselves', 'between', 'few',\n",
       "                                             'does', 'yours', 'they', \"doesn't\",\n",
       "                                             'the', 'its', \"you're\", 'over',\n",
       "                                             'now', 'where', 'of', 'she',\n",
       "                                             'theirs', 'mustn', 'what',\n",
       "                                             'yourself', \"you've\", 'your',\n",
       "                                             'all', 'each', 'such', \"wouldn't\",\n",
       "                                             'only', ...])),\n",
       "                ('model_tr', DecisionTreeClassifier(random_state=12345))])"
      ]
     },
     "execution_count": 36,
     "metadata": {},
     "output_type": "execute_result"
    }
   ],
   "source": [
    "%%time\n",
    "pipe_tree.fit(X_train['lemmatize_text'], y_train)"
   ]
  },
  {
   "cell_type": "code",
   "execution_count": 37,
   "metadata": {},
   "outputs": [
    {
     "name": "stdout",
     "output_type": "stream",
     "text": [
      "CPU times: user 4 µs, sys: 1 µs, total: 5 µs\n",
      "Wall time: 7.87 µs\n"
     ]
    }
   ],
   "source": [
    "%%time\n",
    "# словарь с гиперпараметрами и значениями, которые хотим перебрать\n",
    "param_grid_tree = {\n",
    "    'model_tr__criterion':['gini','entropy','log_loss'],\n",
    "    'model_tr__class_weight':['balanced'],\n",
    "    'model_tr__max_depth': [25,30]\n",
    "}"
   ]
  },
  {
   "cell_type": "code",
   "execution_count": 38,
   "metadata": {},
   "outputs": [
    {
     "name": "stdout",
     "output_type": "stream",
     "text": [
      "CPU times: user 12 µs, sys: 8 µs, total: 20 µs\n",
      "Wall time: 23.8 µs\n"
     ]
    }
   ],
   "source": [
    "%%time\n",
    "gs_tree = GridSearchCV(\n",
    "    pipe_tree, \n",
    "    cv=3,\n",
    "    param_grid=param_grid_tree,\n",
    "    scoring='f1', \n",
    "    n_jobs=-1\n",
    ")"
   ]
  },
  {
   "cell_type": "code",
   "execution_count": 39,
   "metadata": {},
   "outputs": [
    {
     "name": "stdout",
     "output_type": "stream",
     "text": [
      "CPU times: user 23.1 s, sys: 1.59 s, total: 24.7 s\n",
      "Wall time: 1min 29s\n"
     ]
    },
    {
     "data": {
      "text/html": [
       "<style>#sk-container-id-4 {color: black;background-color: white;}#sk-container-id-4 pre{padding: 0;}#sk-container-id-4 div.sk-toggleable {background-color: white;}#sk-container-id-4 label.sk-toggleable__label {cursor: pointer;display: block;width: 100%;margin-bottom: 0;padding: 0.3em;box-sizing: border-box;text-align: center;}#sk-container-id-4 label.sk-toggleable__label-arrow:before {content: \"▸\";float: left;margin-right: 0.25em;color: #696969;}#sk-container-id-4 label.sk-toggleable__label-arrow:hover:before {color: black;}#sk-container-id-4 div.sk-estimator:hover label.sk-toggleable__label-arrow:before {color: black;}#sk-container-id-4 div.sk-toggleable__content {max-height: 0;max-width: 0;overflow: hidden;text-align: left;background-color: #f0f8ff;}#sk-container-id-4 div.sk-toggleable__content pre {margin: 0.2em;color: black;border-radius: 0.25em;background-color: #f0f8ff;}#sk-container-id-4 input.sk-toggleable__control:checked~div.sk-toggleable__content {max-height: 200px;max-width: 100%;overflow: auto;}#sk-container-id-4 input.sk-toggleable__control:checked~label.sk-toggleable__label-arrow:before {content: \"▾\";}#sk-container-id-4 div.sk-estimator input.sk-toggleable__control:checked~label.sk-toggleable__label {background-color: #d4ebff;}#sk-container-id-4 div.sk-label input.sk-toggleable__control:checked~label.sk-toggleable__label {background-color: #d4ebff;}#sk-container-id-4 input.sk-hidden--visually {border: 0;clip: rect(1px 1px 1px 1px);clip: rect(1px, 1px, 1px, 1px);height: 1px;margin: -1px;overflow: hidden;padding: 0;position: absolute;width: 1px;}#sk-container-id-4 div.sk-estimator {font-family: monospace;background-color: #f0f8ff;border: 1px dotted black;border-radius: 0.25em;box-sizing: border-box;margin-bottom: 0.5em;}#sk-container-id-4 div.sk-estimator:hover {background-color: #d4ebff;}#sk-container-id-4 div.sk-parallel-item::after {content: \"\";width: 100%;border-bottom: 1px solid gray;flex-grow: 1;}#sk-container-id-4 div.sk-label:hover label.sk-toggleable__label {background-color: #d4ebff;}#sk-container-id-4 div.sk-serial::before {content: \"\";position: absolute;border-left: 1px solid gray;box-sizing: border-box;top: 0;bottom: 0;left: 50%;z-index: 0;}#sk-container-id-4 div.sk-serial {display: flex;flex-direction: column;align-items: center;background-color: white;padding-right: 0.2em;padding-left: 0.2em;position: relative;}#sk-container-id-4 div.sk-item {position: relative;z-index: 1;}#sk-container-id-4 div.sk-parallel {display: flex;align-items: stretch;justify-content: center;background-color: white;position: relative;}#sk-container-id-4 div.sk-item::before, #sk-container-id-4 div.sk-parallel-item::before {content: \"\";position: absolute;border-left: 1px solid gray;box-sizing: border-box;top: 0;bottom: 0;left: 50%;z-index: -1;}#sk-container-id-4 div.sk-parallel-item {display: flex;flex-direction: column;z-index: 1;position: relative;background-color: white;}#sk-container-id-4 div.sk-parallel-item:first-child::after {align-self: flex-end;width: 50%;}#sk-container-id-4 div.sk-parallel-item:last-child::after {align-self: flex-start;width: 50%;}#sk-container-id-4 div.sk-parallel-item:only-child::after {width: 0;}#sk-container-id-4 div.sk-dashed-wrapped {border: 1px dashed gray;margin: 0 0.4em 0.5em 0.4em;box-sizing: border-box;padding-bottom: 0.4em;background-color: white;}#sk-container-id-4 div.sk-label label {font-family: monospace;font-weight: bold;display: inline-block;line-height: 1.2em;}#sk-container-id-4 div.sk-label-container {text-align: center;}#sk-container-id-4 div.sk-container {/* jupyter's `normalize.less` sets `[hidden] { display: none; }` but bootstrap.min.css set `[hidden] { display: none !important; }` so we also need the `!important` here to be able to override the default hidden behavior on the sphinx rendered scikit-learn.org. See: https://github.com/scikit-learn/scikit-learn/issues/21755 */display: inline-block !important;position: relative;}#sk-container-id-4 div.sk-text-repr-fallback {display: none;}</style><div id=\"sk-container-id-4\" class=\"sk-top-container\"><div class=\"sk-text-repr-fallback\"><pre>GridSearchCV(cv=3,\n",
       "             estimator=Pipeline(steps=[(&#x27;tfidf&#x27;,\n",
       "                                        TfidfVectorizer(stop_words=[&#x27;hers&#x27;,\n",
       "                                                                    &#x27;doing&#x27;,\n",
       "                                                                    &#x27;s&#x27;,\n",
       "                                                                    &#x27;until&#x27;,\n",
       "                                                                    &#x27;ourselves&#x27;,\n",
       "                                                                    &#x27;between&#x27;,\n",
       "                                                                    &#x27;few&#x27;,\n",
       "                                                                    &#x27;does&#x27;,\n",
       "                                                                    &#x27;yours&#x27;,\n",
       "                                                                    &#x27;they&#x27;,\n",
       "                                                                    &quot;doesn&#x27;t&quot;,\n",
       "                                                                    &#x27;the&#x27;,\n",
       "                                                                    &#x27;its&#x27;,\n",
       "                                                                    &quot;you&#x27;re&quot;,\n",
       "                                                                    &#x27;over&#x27;,\n",
       "                                                                    &#x27;now&#x27;,\n",
       "                                                                    &#x27;where&#x27;,\n",
       "                                                                    &#x27;of&#x27;, &#x27;she&#x27;,\n",
       "                                                                    &#x27;theirs&#x27;,\n",
       "                                                                    &#x27;mustn&#x27;,\n",
       "                                                                    &#x27;what&#x27;,\n",
       "                                                                    &#x27;yourself&#x27;,\n",
       "                                                                    &quot;you&#x27;ve&quot;,\n",
       "                                                                    &#x27;your&#x27;,\n",
       "                                                                    &#x27;all&#x27;,\n",
       "                                                                    &#x27;each&#x27;,\n",
       "                                                                    &#x27;such&#x27;,\n",
       "                                                                    &quot;wouldn&#x27;t&quot;,\n",
       "                                                                    &#x27;only&#x27;, ...])),\n",
       "                                       (&#x27;model_tr&#x27;,\n",
       "                                        DecisionTreeClassifier(random_state=12345))]),\n",
       "             n_jobs=-1,\n",
       "             param_grid={&#x27;model_tr__class_weight&#x27;: [&#x27;balanced&#x27;],\n",
       "                         &#x27;model_tr__criterion&#x27;: [&#x27;gini&#x27;, &#x27;entropy&#x27;, &#x27;log_loss&#x27;],\n",
       "                         &#x27;model_tr__max_depth&#x27;: [25, 30]},\n",
       "             scoring=&#x27;f1&#x27;)</pre><b>In a Jupyter environment, please rerun this cell to show the HTML representation or trust the notebook. <br />On GitHub, the HTML representation is unable to render, please try loading this page with nbviewer.org.</b></div><div class=\"sk-container\" hidden><div class=\"sk-item sk-dashed-wrapped\"><div class=\"sk-label-container\"><div class=\"sk-label sk-toggleable\"><input class=\"sk-toggleable__control sk-hidden--visually\" id=\"sk-estimator-id-11\" type=\"checkbox\" ><label for=\"sk-estimator-id-11\" class=\"sk-toggleable__label sk-toggleable__label-arrow\">GridSearchCV</label><div class=\"sk-toggleable__content\"><pre>GridSearchCV(cv=3,\n",
       "             estimator=Pipeline(steps=[(&#x27;tfidf&#x27;,\n",
       "                                        TfidfVectorizer(stop_words=[&#x27;hers&#x27;,\n",
       "                                                                    &#x27;doing&#x27;,\n",
       "                                                                    &#x27;s&#x27;,\n",
       "                                                                    &#x27;until&#x27;,\n",
       "                                                                    &#x27;ourselves&#x27;,\n",
       "                                                                    &#x27;between&#x27;,\n",
       "                                                                    &#x27;few&#x27;,\n",
       "                                                                    &#x27;does&#x27;,\n",
       "                                                                    &#x27;yours&#x27;,\n",
       "                                                                    &#x27;they&#x27;,\n",
       "                                                                    &quot;doesn&#x27;t&quot;,\n",
       "                                                                    &#x27;the&#x27;,\n",
       "                                                                    &#x27;its&#x27;,\n",
       "                                                                    &quot;you&#x27;re&quot;,\n",
       "                                                                    &#x27;over&#x27;,\n",
       "                                                                    &#x27;now&#x27;,\n",
       "                                                                    &#x27;where&#x27;,\n",
       "                                                                    &#x27;of&#x27;, &#x27;she&#x27;,\n",
       "                                                                    &#x27;theirs&#x27;,\n",
       "                                                                    &#x27;mustn&#x27;,\n",
       "                                                                    &#x27;what&#x27;,\n",
       "                                                                    &#x27;yourself&#x27;,\n",
       "                                                                    &quot;you&#x27;ve&quot;,\n",
       "                                                                    &#x27;your&#x27;,\n",
       "                                                                    &#x27;all&#x27;,\n",
       "                                                                    &#x27;each&#x27;,\n",
       "                                                                    &#x27;such&#x27;,\n",
       "                                                                    &quot;wouldn&#x27;t&quot;,\n",
       "                                                                    &#x27;only&#x27;, ...])),\n",
       "                                       (&#x27;model_tr&#x27;,\n",
       "                                        DecisionTreeClassifier(random_state=12345))]),\n",
       "             n_jobs=-1,\n",
       "             param_grid={&#x27;model_tr__class_weight&#x27;: [&#x27;balanced&#x27;],\n",
       "                         &#x27;model_tr__criterion&#x27;: [&#x27;gini&#x27;, &#x27;entropy&#x27;, &#x27;log_loss&#x27;],\n",
       "                         &#x27;model_tr__max_depth&#x27;: [25, 30]},\n",
       "             scoring=&#x27;f1&#x27;)</pre></div></div></div><div class=\"sk-parallel\"><div class=\"sk-parallel-item\"><div class=\"sk-item\"><div class=\"sk-label-container\"><div class=\"sk-label sk-toggleable\"><input class=\"sk-toggleable__control sk-hidden--visually\" id=\"sk-estimator-id-12\" type=\"checkbox\" ><label for=\"sk-estimator-id-12\" class=\"sk-toggleable__label sk-toggleable__label-arrow\">estimator: Pipeline</label><div class=\"sk-toggleable__content\"><pre>Pipeline(steps=[(&#x27;tfidf&#x27;,\n",
       "                 TfidfVectorizer(stop_words=[&#x27;hers&#x27;, &#x27;doing&#x27;, &#x27;s&#x27;, &#x27;until&#x27;,\n",
       "                                             &#x27;ourselves&#x27;, &#x27;between&#x27;, &#x27;few&#x27;,\n",
       "                                             &#x27;does&#x27;, &#x27;yours&#x27;, &#x27;they&#x27;, &quot;doesn&#x27;t&quot;,\n",
       "                                             &#x27;the&#x27;, &#x27;its&#x27;, &quot;you&#x27;re&quot;, &#x27;over&#x27;,\n",
       "                                             &#x27;now&#x27;, &#x27;where&#x27;, &#x27;of&#x27;, &#x27;she&#x27;,\n",
       "                                             &#x27;theirs&#x27;, &#x27;mustn&#x27;, &#x27;what&#x27;,\n",
       "                                             &#x27;yourself&#x27;, &quot;you&#x27;ve&quot;, &#x27;your&#x27;,\n",
       "                                             &#x27;all&#x27;, &#x27;each&#x27;, &#x27;such&#x27;, &quot;wouldn&#x27;t&quot;,\n",
       "                                             &#x27;only&#x27;, ...])),\n",
       "                (&#x27;model_tr&#x27;, DecisionTreeClassifier(random_state=12345))])</pre></div></div></div><div class=\"sk-serial\"><div class=\"sk-item\"><div class=\"sk-serial\"><div class=\"sk-item\"><div class=\"sk-estimator sk-toggleable\"><input class=\"sk-toggleable__control sk-hidden--visually\" id=\"sk-estimator-id-13\" type=\"checkbox\" ><label for=\"sk-estimator-id-13\" class=\"sk-toggleable__label sk-toggleable__label-arrow\">TfidfVectorizer</label><div class=\"sk-toggleable__content\"><pre>TfidfVectorizer(stop_words=[&#x27;hers&#x27;, &#x27;doing&#x27;, &#x27;s&#x27;, &#x27;until&#x27;, &#x27;ourselves&#x27;,\n",
       "                            &#x27;between&#x27;, &#x27;few&#x27;, &#x27;does&#x27;, &#x27;yours&#x27;, &#x27;they&#x27;,\n",
       "                            &quot;doesn&#x27;t&quot;, &#x27;the&#x27;, &#x27;its&#x27;, &quot;you&#x27;re&quot;, &#x27;over&#x27;, &#x27;now&#x27;,\n",
       "                            &#x27;where&#x27;, &#x27;of&#x27;, &#x27;she&#x27;, &#x27;theirs&#x27;, &#x27;mustn&#x27;, &#x27;what&#x27;,\n",
       "                            &#x27;yourself&#x27;, &quot;you&#x27;ve&quot;, &#x27;your&#x27;, &#x27;all&#x27;, &#x27;each&#x27;, &#x27;such&#x27;,\n",
       "                            &quot;wouldn&#x27;t&quot;, &#x27;only&#x27;, ...])</pre></div></div></div><div class=\"sk-item\"><div class=\"sk-estimator sk-toggleable\"><input class=\"sk-toggleable__control sk-hidden--visually\" id=\"sk-estimator-id-14\" type=\"checkbox\" ><label for=\"sk-estimator-id-14\" class=\"sk-toggleable__label sk-toggleable__label-arrow\">DecisionTreeClassifier</label><div class=\"sk-toggleable__content\"><pre>DecisionTreeClassifier(random_state=12345)</pre></div></div></div></div></div></div></div></div></div></div></div></div>"
      ],
      "text/plain": [
       "GridSearchCV(cv=3,\n",
       "             estimator=Pipeline(steps=[('tfidf',\n",
       "                                        TfidfVectorizer(stop_words=['hers',\n",
       "                                                                    'doing',\n",
       "                                                                    's',\n",
       "                                                                    'until',\n",
       "                                                                    'ourselves',\n",
       "                                                                    'between',\n",
       "                                                                    'few',\n",
       "                                                                    'does',\n",
       "                                                                    'yours',\n",
       "                                                                    'they',\n",
       "                                                                    \"doesn't\",\n",
       "                                                                    'the',\n",
       "                                                                    'its',\n",
       "                                                                    \"you're\",\n",
       "                                                                    'over',\n",
       "                                                                    'now',\n",
       "                                                                    'where',\n",
       "                                                                    'of', 'she',\n",
       "                                                                    'theirs',\n",
       "                                                                    'mustn',\n",
       "                                                                    'what',\n",
       "                                                                    'yourself',\n",
       "                                                                    \"you've\",\n",
       "                                                                    'your',\n",
       "                                                                    'all',\n",
       "                                                                    'each',\n",
       "                                                                    'such',\n",
       "                                                                    \"wouldn't\",\n",
       "                                                                    'only', ...])),\n",
       "                                       ('model_tr',\n",
       "                                        DecisionTreeClassifier(random_state=12345))]),\n",
       "             n_jobs=-1,\n",
       "             param_grid={'model_tr__class_weight': ['balanced'],\n",
       "                         'model_tr__criterion': ['gini', 'entropy', 'log_loss'],\n",
       "                         'model_tr__max_depth': [25, 30]},\n",
       "             scoring='f1')"
      ]
     },
     "execution_count": 39,
     "metadata": {},
     "output_type": "execute_result"
    }
   ],
   "source": [
    "%%time\n",
    "gs_tree.fit(X_train['lemmatize_text'], y_train)"
   ]
  },
  {
   "cell_type": "code",
   "execution_count": 40,
   "metadata": {},
   "outputs": [
    {
     "name": "stdout",
     "output_type": "stream",
     "text": [
      "best_score: 0.6256914886722718\n",
      "best_params: {'model_tr__class_weight': 'balanced', 'model_tr__criterion': 'entropy', 'model_tr__max_depth': 25}\n"
     ]
    }
   ],
   "source": [
    "# лучшее значение F1\n",
    "print(f'best_score: {gs_tree.best_score_}')\n",
    "\n",
    "# лучшие гиперпараметры\n",
    "print(f'best_params: {gs_tree.best_params_}')"
   ]
  },
  {
   "cell_type": "code",
   "execution_count": 41,
   "metadata": {},
   "outputs": [],
   "source": [
    "all_parametrs_cw.append(gs_tree.best_params_)\n",
    "all_f1_cw.append(gs_tree.best_score_)"
   ]
  },
  {
   "cell_type": "markdown",
   "metadata": {},
   "source": [
    "#### Случайный лес - RandomForestClassifier"
   ]
  },
  {
   "cell_type": "code",
   "execution_count": 42,
   "metadata": {},
   "outputs": [],
   "source": [
    "pipe_forest = Pipeline(steps=[\n",
    "    ('tfidf', TfidfVectorizer(stop_words=stop_words) ),\n",
    "    ('model_fr', RandomForestClassifier(random_state=RANDOM_STATE))]\n",
    ")"
   ]
  },
  {
   "cell_type": "code",
   "execution_count": 43,
   "metadata": {},
   "outputs": [
    {
     "name": "stdout",
     "output_type": "stream",
     "text": [
      "CPU times: user 5min 29s, sys: 549 ms, total: 5min 30s\n",
      "Wall time: 5min 30s\n"
     ]
    },
    {
     "data": {
      "text/html": [
       "<style>#sk-container-id-5 {color: black;background-color: white;}#sk-container-id-5 pre{padding: 0;}#sk-container-id-5 div.sk-toggleable {background-color: white;}#sk-container-id-5 label.sk-toggleable__label {cursor: pointer;display: block;width: 100%;margin-bottom: 0;padding: 0.3em;box-sizing: border-box;text-align: center;}#sk-container-id-5 label.sk-toggleable__label-arrow:before {content: \"▸\";float: left;margin-right: 0.25em;color: #696969;}#sk-container-id-5 label.sk-toggleable__label-arrow:hover:before {color: black;}#sk-container-id-5 div.sk-estimator:hover label.sk-toggleable__label-arrow:before {color: black;}#sk-container-id-5 div.sk-toggleable__content {max-height: 0;max-width: 0;overflow: hidden;text-align: left;background-color: #f0f8ff;}#sk-container-id-5 div.sk-toggleable__content pre {margin: 0.2em;color: black;border-radius: 0.25em;background-color: #f0f8ff;}#sk-container-id-5 input.sk-toggleable__control:checked~div.sk-toggleable__content {max-height: 200px;max-width: 100%;overflow: auto;}#sk-container-id-5 input.sk-toggleable__control:checked~label.sk-toggleable__label-arrow:before {content: \"▾\";}#sk-container-id-5 div.sk-estimator input.sk-toggleable__control:checked~label.sk-toggleable__label {background-color: #d4ebff;}#sk-container-id-5 div.sk-label input.sk-toggleable__control:checked~label.sk-toggleable__label {background-color: #d4ebff;}#sk-container-id-5 input.sk-hidden--visually {border: 0;clip: rect(1px 1px 1px 1px);clip: rect(1px, 1px, 1px, 1px);height: 1px;margin: -1px;overflow: hidden;padding: 0;position: absolute;width: 1px;}#sk-container-id-5 div.sk-estimator {font-family: monospace;background-color: #f0f8ff;border: 1px dotted black;border-radius: 0.25em;box-sizing: border-box;margin-bottom: 0.5em;}#sk-container-id-5 div.sk-estimator:hover {background-color: #d4ebff;}#sk-container-id-5 div.sk-parallel-item::after {content: \"\";width: 100%;border-bottom: 1px solid gray;flex-grow: 1;}#sk-container-id-5 div.sk-label:hover label.sk-toggleable__label {background-color: #d4ebff;}#sk-container-id-5 div.sk-serial::before {content: \"\";position: absolute;border-left: 1px solid gray;box-sizing: border-box;top: 0;bottom: 0;left: 50%;z-index: 0;}#sk-container-id-5 div.sk-serial {display: flex;flex-direction: column;align-items: center;background-color: white;padding-right: 0.2em;padding-left: 0.2em;position: relative;}#sk-container-id-5 div.sk-item {position: relative;z-index: 1;}#sk-container-id-5 div.sk-parallel {display: flex;align-items: stretch;justify-content: center;background-color: white;position: relative;}#sk-container-id-5 div.sk-item::before, #sk-container-id-5 div.sk-parallel-item::before {content: \"\";position: absolute;border-left: 1px solid gray;box-sizing: border-box;top: 0;bottom: 0;left: 50%;z-index: -1;}#sk-container-id-5 div.sk-parallel-item {display: flex;flex-direction: column;z-index: 1;position: relative;background-color: white;}#sk-container-id-5 div.sk-parallel-item:first-child::after {align-self: flex-end;width: 50%;}#sk-container-id-5 div.sk-parallel-item:last-child::after {align-self: flex-start;width: 50%;}#sk-container-id-5 div.sk-parallel-item:only-child::after {width: 0;}#sk-container-id-5 div.sk-dashed-wrapped {border: 1px dashed gray;margin: 0 0.4em 0.5em 0.4em;box-sizing: border-box;padding-bottom: 0.4em;background-color: white;}#sk-container-id-5 div.sk-label label {font-family: monospace;font-weight: bold;display: inline-block;line-height: 1.2em;}#sk-container-id-5 div.sk-label-container {text-align: center;}#sk-container-id-5 div.sk-container {/* jupyter's `normalize.less` sets `[hidden] { display: none; }` but bootstrap.min.css set `[hidden] { display: none !important; }` so we also need the `!important` here to be able to override the default hidden behavior on the sphinx rendered scikit-learn.org. See: https://github.com/scikit-learn/scikit-learn/issues/21755 */display: inline-block !important;position: relative;}#sk-container-id-5 div.sk-text-repr-fallback {display: none;}</style><div id=\"sk-container-id-5\" class=\"sk-top-container\"><div class=\"sk-text-repr-fallback\"><pre>Pipeline(steps=[(&#x27;tfidf&#x27;,\n",
       "                 TfidfVectorizer(stop_words=[&#x27;hers&#x27;, &#x27;doing&#x27;, &#x27;s&#x27;, &#x27;until&#x27;,\n",
       "                                             &#x27;ourselves&#x27;, &#x27;between&#x27;, &#x27;few&#x27;,\n",
       "                                             &#x27;does&#x27;, &#x27;yours&#x27;, &#x27;they&#x27;, &quot;doesn&#x27;t&quot;,\n",
       "                                             &#x27;the&#x27;, &#x27;its&#x27;, &quot;you&#x27;re&quot;, &#x27;over&#x27;,\n",
       "                                             &#x27;now&#x27;, &#x27;where&#x27;, &#x27;of&#x27;, &#x27;she&#x27;,\n",
       "                                             &#x27;theirs&#x27;, &#x27;mustn&#x27;, &#x27;what&#x27;,\n",
       "                                             &#x27;yourself&#x27;, &quot;you&#x27;ve&quot;, &#x27;your&#x27;,\n",
       "                                             &#x27;all&#x27;, &#x27;each&#x27;, &#x27;such&#x27;, &quot;wouldn&#x27;t&quot;,\n",
       "                                             &#x27;only&#x27;, ...])),\n",
       "                (&#x27;model_fr&#x27;, RandomForestClassifier(random_state=12345))])</pre><b>In a Jupyter environment, please rerun this cell to show the HTML representation or trust the notebook. <br />On GitHub, the HTML representation is unable to render, please try loading this page with nbviewer.org.</b></div><div class=\"sk-container\" hidden><div class=\"sk-item sk-dashed-wrapped\"><div class=\"sk-label-container\"><div class=\"sk-label sk-toggleable\"><input class=\"sk-toggleable__control sk-hidden--visually\" id=\"sk-estimator-id-15\" type=\"checkbox\" ><label for=\"sk-estimator-id-15\" class=\"sk-toggleable__label sk-toggleable__label-arrow\">Pipeline</label><div class=\"sk-toggleable__content\"><pre>Pipeline(steps=[(&#x27;tfidf&#x27;,\n",
       "                 TfidfVectorizer(stop_words=[&#x27;hers&#x27;, &#x27;doing&#x27;, &#x27;s&#x27;, &#x27;until&#x27;,\n",
       "                                             &#x27;ourselves&#x27;, &#x27;between&#x27;, &#x27;few&#x27;,\n",
       "                                             &#x27;does&#x27;, &#x27;yours&#x27;, &#x27;they&#x27;, &quot;doesn&#x27;t&quot;,\n",
       "                                             &#x27;the&#x27;, &#x27;its&#x27;, &quot;you&#x27;re&quot;, &#x27;over&#x27;,\n",
       "                                             &#x27;now&#x27;, &#x27;where&#x27;, &#x27;of&#x27;, &#x27;she&#x27;,\n",
       "                                             &#x27;theirs&#x27;, &#x27;mustn&#x27;, &#x27;what&#x27;,\n",
       "                                             &#x27;yourself&#x27;, &quot;you&#x27;ve&quot;, &#x27;your&#x27;,\n",
       "                                             &#x27;all&#x27;, &#x27;each&#x27;, &#x27;such&#x27;, &quot;wouldn&#x27;t&quot;,\n",
       "                                             &#x27;only&#x27;, ...])),\n",
       "                (&#x27;model_fr&#x27;, RandomForestClassifier(random_state=12345))])</pre></div></div></div><div class=\"sk-serial\"><div class=\"sk-item\"><div class=\"sk-estimator sk-toggleable\"><input class=\"sk-toggleable__control sk-hidden--visually\" id=\"sk-estimator-id-16\" type=\"checkbox\" ><label for=\"sk-estimator-id-16\" class=\"sk-toggleable__label sk-toggleable__label-arrow\">TfidfVectorizer</label><div class=\"sk-toggleable__content\"><pre>TfidfVectorizer(stop_words=[&#x27;hers&#x27;, &#x27;doing&#x27;, &#x27;s&#x27;, &#x27;until&#x27;, &#x27;ourselves&#x27;,\n",
       "                            &#x27;between&#x27;, &#x27;few&#x27;, &#x27;does&#x27;, &#x27;yours&#x27;, &#x27;they&#x27;,\n",
       "                            &quot;doesn&#x27;t&quot;, &#x27;the&#x27;, &#x27;its&#x27;, &quot;you&#x27;re&quot;, &#x27;over&#x27;, &#x27;now&#x27;,\n",
       "                            &#x27;where&#x27;, &#x27;of&#x27;, &#x27;she&#x27;, &#x27;theirs&#x27;, &#x27;mustn&#x27;, &#x27;what&#x27;,\n",
       "                            &#x27;yourself&#x27;, &quot;you&#x27;ve&quot;, &#x27;your&#x27;, &#x27;all&#x27;, &#x27;each&#x27;, &#x27;such&#x27;,\n",
       "                            &quot;wouldn&#x27;t&quot;, &#x27;only&#x27;, ...])</pre></div></div></div><div class=\"sk-item\"><div class=\"sk-estimator sk-toggleable\"><input class=\"sk-toggleable__control sk-hidden--visually\" id=\"sk-estimator-id-17\" type=\"checkbox\" ><label for=\"sk-estimator-id-17\" class=\"sk-toggleable__label sk-toggleable__label-arrow\">RandomForestClassifier</label><div class=\"sk-toggleable__content\"><pre>RandomForestClassifier(random_state=12345)</pre></div></div></div></div></div></div></div>"
      ],
      "text/plain": [
       "Pipeline(steps=[('tfidf',\n",
       "                 TfidfVectorizer(stop_words=['hers', 'doing', 's', 'until',\n",
       "                                             'ourselves', 'between', 'few',\n",
       "                                             'does', 'yours', 'they', \"doesn't\",\n",
       "                                             'the', 'its', \"you're\", 'over',\n",
       "                                             'now', 'where', 'of', 'she',\n",
       "                                             'theirs', 'mustn', 'what',\n",
       "                                             'yourself', \"you've\", 'your',\n",
       "                                             'all', 'each', 'such', \"wouldn't\",\n",
       "                                             'only', ...])),\n",
       "                ('model_fr', RandomForestClassifier(random_state=12345))])"
      ]
     },
     "execution_count": 43,
     "metadata": {},
     "output_type": "execute_result"
    }
   ],
   "source": [
    "%%time\n",
    "pipe_forest.fit(X_train['lemmatize_text'], y_train)"
   ]
  },
  {
   "cell_type": "code",
   "execution_count": 44,
   "metadata": {},
   "outputs": [
    {
     "name": "stdout",
     "output_type": "stream",
     "text": [
      "CPU times: user 4 µs, sys: 1e+03 ns, total: 5 µs\n",
      "Wall time: 8.34 µs\n"
     ]
    }
   ],
   "source": [
    "%%time\n",
    "# словарь с гиперпараметрами и значениями, которые хотим перебрать\n",
    "param_grid_forest = {\n",
    "    'model_fr__criterion':['gini','entropy','log_loss'],\n",
    "    'model_fr__class_weight':['balanced'],\n",
    "    'model_fr__n_estimators': [20,30,50],\n",
    "    'model_fr__max_depth': [10,20,30]\n",
    "}"
   ]
  },
  {
   "cell_type": "code",
   "execution_count": 45,
   "metadata": {},
   "outputs": [
    {
     "name": "stdout",
     "output_type": "stream",
     "text": [
      "CPU times: user 13 µs, sys: 5 µs, total: 18 µs\n",
      "Wall time: 20 µs\n"
     ]
    }
   ],
   "source": [
    "%%time\n",
    "gs_forest = GridSearchCV(\n",
    "    pipe_forest, \n",
    "    cv=3,\n",
    "    param_grid=param_grid_forest,\n",
    "    scoring='f1', \n",
    "    n_jobs=-1\n",
    ")"
   ]
  },
  {
   "cell_type": "code",
   "execution_count": 46,
   "metadata": {},
   "outputs": [
    {
     "name": "stdout",
     "output_type": "stream",
     "text": [
      "CPU times: user 19.2 s, sys: 4.54 s, total: 23.8 s\n",
      "Wall time: 1min 47s\n"
     ]
    },
    {
     "data": {
      "text/html": [
       "<style>#sk-container-id-6 {color: black;background-color: white;}#sk-container-id-6 pre{padding: 0;}#sk-container-id-6 div.sk-toggleable {background-color: white;}#sk-container-id-6 label.sk-toggleable__label {cursor: pointer;display: block;width: 100%;margin-bottom: 0;padding: 0.3em;box-sizing: border-box;text-align: center;}#sk-container-id-6 label.sk-toggleable__label-arrow:before {content: \"▸\";float: left;margin-right: 0.25em;color: #696969;}#sk-container-id-6 label.sk-toggleable__label-arrow:hover:before {color: black;}#sk-container-id-6 div.sk-estimator:hover label.sk-toggleable__label-arrow:before {color: black;}#sk-container-id-6 div.sk-toggleable__content {max-height: 0;max-width: 0;overflow: hidden;text-align: left;background-color: #f0f8ff;}#sk-container-id-6 div.sk-toggleable__content pre {margin: 0.2em;color: black;border-radius: 0.25em;background-color: #f0f8ff;}#sk-container-id-6 input.sk-toggleable__control:checked~div.sk-toggleable__content {max-height: 200px;max-width: 100%;overflow: auto;}#sk-container-id-6 input.sk-toggleable__control:checked~label.sk-toggleable__label-arrow:before {content: \"▾\";}#sk-container-id-6 div.sk-estimator input.sk-toggleable__control:checked~label.sk-toggleable__label {background-color: #d4ebff;}#sk-container-id-6 div.sk-label input.sk-toggleable__control:checked~label.sk-toggleable__label {background-color: #d4ebff;}#sk-container-id-6 input.sk-hidden--visually {border: 0;clip: rect(1px 1px 1px 1px);clip: rect(1px, 1px, 1px, 1px);height: 1px;margin: -1px;overflow: hidden;padding: 0;position: absolute;width: 1px;}#sk-container-id-6 div.sk-estimator {font-family: monospace;background-color: #f0f8ff;border: 1px dotted black;border-radius: 0.25em;box-sizing: border-box;margin-bottom: 0.5em;}#sk-container-id-6 div.sk-estimator:hover {background-color: #d4ebff;}#sk-container-id-6 div.sk-parallel-item::after {content: \"\";width: 100%;border-bottom: 1px solid gray;flex-grow: 1;}#sk-container-id-6 div.sk-label:hover label.sk-toggleable__label {background-color: #d4ebff;}#sk-container-id-6 div.sk-serial::before {content: \"\";position: absolute;border-left: 1px solid gray;box-sizing: border-box;top: 0;bottom: 0;left: 50%;z-index: 0;}#sk-container-id-6 div.sk-serial {display: flex;flex-direction: column;align-items: center;background-color: white;padding-right: 0.2em;padding-left: 0.2em;position: relative;}#sk-container-id-6 div.sk-item {position: relative;z-index: 1;}#sk-container-id-6 div.sk-parallel {display: flex;align-items: stretch;justify-content: center;background-color: white;position: relative;}#sk-container-id-6 div.sk-item::before, #sk-container-id-6 div.sk-parallel-item::before {content: \"\";position: absolute;border-left: 1px solid gray;box-sizing: border-box;top: 0;bottom: 0;left: 50%;z-index: -1;}#sk-container-id-6 div.sk-parallel-item {display: flex;flex-direction: column;z-index: 1;position: relative;background-color: white;}#sk-container-id-6 div.sk-parallel-item:first-child::after {align-self: flex-end;width: 50%;}#sk-container-id-6 div.sk-parallel-item:last-child::after {align-self: flex-start;width: 50%;}#sk-container-id-6 div.sk-parallel-item:only-child::after {width: 0;}#sk-container-id-6 div.sk-dashed-wrapped {border: 1px dashed gray;margin: 0 0.4em 0.5em 0.4em;box-sizing: border-box;padding-bottom: 0.4em;background-color: white;}#sk-container-id-6 div.sk-label label {font-family: monospace;font-weight: bold;display: inline-block;line-height: 1.2em;}#sk-container-id-6 div.sk-label-container {text-align: center;}#sk-container-id-6 div.sk-container {/* jupyter's `normalize.less` sets `[hidden] { display: none; }` but bootstrap.min.css set `[hidden] { display: none !important; }` so we also need the `!important` here to be able to override the default hidden behavior on the sphinx rendered scikit-learn.org. See: https://github.com/scikit-learn/scikit-learn/issues/21755 */display: inline-block !important;position: relative;}#sk-container-id-6 div.sk-text-repr-fallback {display: none;}</style><div id=\"sk-container-id-6\" class=\"sk-top-container\"><div class=\"sk-text-repr-fallback\"><pre>GridSearchCV(cv=3,\n",
       "             estimator=Pipeline(steps=[(&#x27;tfidf&#x27;,\n",
       "                                        TfidfVectorizer(stop_words=[&#x27;hers&#x27;,\n",
       "                                                                    &#x27;doing&#x27;,\n",
       "                                                                    &#x27;s&#x27;,\n",
       "                                                                    &#x27;until&#x27;,\n",
       "                                                                    &#x27;ourselves&#x27;,\n",
       "                                                                    &#x27;between&#x27;,\n",
       "                                                                    &#x27;few&#x27;,\n",
       "                                                                    &#x27;does&#x27;,\n",
       "                                                                    &#x27;yours&#x27;,\n",
       "                                                                    &#x27;they&#x27;,\n",
       "                                                                    &quot;doesn&#x27;t&quot;,\n",
       "                                                                    &#x27;the&#x27;,\n",
       "                                                                    &#x27;its&#x27;,\n",
       "                                                                    &quot;you&#x27;re&quot;,\n",
       "                                                                    &#x27;over&#x27;,\n",
       "                                                                    &#x27;now&#x27;,\n",
       "                                                                    &#x27;where&#x27;,\n",
       "                                                                    &#x27;of&#x27;, &#x27;she&#x27;,\n",
       "                                                                    &#x27;theirs&#x27;,\n",
       "                                                                    &#x27;mustn&#x27;,\n",
       "                                                                    &#x27;what&#x27;,\n",
       "                                                                    &#x27;yourself&#x27;,\n",
       "                                                                    &quot;you&#x27;ve&quot;,\n",
       "                                                                    &#x27;your&#x27;,\n",
       "                                                                    &#x27;all&#x27;,\n",
       "                                                                    &#x27;each&#x27;,\n",
       "                                                                    &#x27;such&#x27;,\n",
       "                                                                    &quot;wouldn&#x27;t&quot;,\n",
       "                                                                    &#x27;only&#x27;, ...])),\n",
       "                                       (&#x27;model_fr&#x27;,\n",
       "                                        RandomForestClassifier(random_state=12345))]),\n",
       "             n_jobs=-1,\n",
       "             param_grid={&#x27;model_fr__class_weight&#x27;: [&#x27;balanced&#x27;],\n",
       "                         &#x27;model_fr__criterion&#x27;: [&#x27;gini&#x27;, &#x27;entropy&#x27;, &#x27;log_loss&#x27;],\n",
       "                         &#x27;model_fr__max_depth&#x27;: [10, 20, 30],\n",
       "                         &#x27;model_fr__n_estimators&#x27;: [20, 30, 50]},\n",
       "             scoring=&#x27;f1&#x27;)</pre><b>In a Jupyter environment, please rerun this cell to show the HTML representation or trust the notebook. <br />On GitHub, the HTML representation is unable to render, please try loading this page with nbviewer.org.</b></div><div class=\"sk-container\" hidden><div class=\"sk-item sk-dashed-wrapped\"><div class=\"sk-label-container\"><div class=\"sk-label sk-toggleable\"><input class=\"sk-toggleable__control sk-hidden--visually\" id=\"sk-estimator-id-18\" type=\"checkbox\" ><label for=\"sk-estimator-id-18\" class=\"sk-toggleable__label sk-toggleable__label-arrow\">GridSearchCV</label><div class=\"sk-toggleable__content\"><pre>GridSearchCV(cv=3,\n",
       "             estimator=Pipeline(steps=[(&#x27;tfidf&#x27;,\n",
       "                                        TfidfVectorizer(stop_words=[&#x27;hers&#x27;,\n",
       "                                                                    &#x27;doing&#x27;,\n",
       "                                                                    &#x27;s&#x27;,\n",
       "                                                                    &#x27;until&#x27;,\n",
       "                                                                    &#x27;ourselves&#x27;,\n",
       "                                                                    &#x27;between&#x27;,\n",
       "                                                                    &#x27;few&#x27;,\n",
       "                                                                    &#x27;does&#x27;,\n",
       "                                                                    &#x27;yours&#x27;,\n",
       "                                                                    &#x27;they&#x27;,\n",
       "                                                                    &quot;doesn&#x27;t&quot;,\n",
       "                                                                    &#x27;the&#x27;,\n",
       "                                                                    &#x27;its&#x27;,\n",
       "                                                                    &quot;you&#x27;re&quot;,\n",
       "                                                                    &#x27;over&#x27;,\n",
       "                                                                    &#x27;now&#x27;,\n",
       "                                                                    &#x27;where&#x27;,\n",
       "                                                                    &#x27;of&#x27;, &#x27;she&#x27;,\n",
       "                                                                    &#x27;theirs&#x27;,\n",
       "                                                                    &#x27;mustn&#x27;,\n",
       "                                                                    &#x27;what&#x27;,\n",
       "                                                                    &#x27;yourself&#x27;,\n",
       "                                                                    &quot;you&#x27;ve&quot;,\n",
       "                                                                    &#x27;your&#x27;,\n",
       "                                                                    &#x27;all&#x27;,\n",
       "                                                                    &#x27;each&#x27;,\n",
       "                                                                    &#x27;such&#x27;,\n",
       "                                                                    &quot;wouldn&#x27;t&quot;,\n",
       "                                                                    &#x27;only&#x27;, ...])),\n",
       "                                       (&#x27;model_fr&#x27;,\n",
       "                                        RandomForestClassifier(random_state=12345))]),\n",
       "             n_jobs=-1,\n",
       "             param_grid={&#x27;model_fr__class_weight&#x27;: [&#x27;balanced&#x27;],\n",
       "                         &#x27;model_fr__criterion&#x27;: [&#x27;gini&#x27;, &#x27;entropy&#x27;, &#x27;log_loss&#x27;],\n",
       "                         &#x27;model_fr__max_depth&#x27;: [10, 20, 30],\n",
       "                         &#x27;model_fr__n_estimators&#x27;: [20, 30, 50]},\n",
       "             scoring=&#x27;f1&#x27;)</pre></div></div></div><div class=\"sk-parallel\"><div class=\"sk-parallel-item\"><div class=\"sk-item\"><div class=\"sk-label-container\"><div class=\"sk-label sk-toggleable\"><input class=\"sk-toggleable__control sk-hidden--visually\" id=\"sk-estimator-id-19\" type=\"checkbox\" ><label for=\"sk-estimator-id-19\" class=\"sk-toggleable__label sk-toggleable__label-arrow\">estimator: Pipeline</label><div class=\"sk-toggleable__content\"><pre>Pipeline(steps=[(&#x27;tfidf&#x27;,\n",
       "                 TfidfVectorizer(stop_words=[&#x27;hers&#x27;, &#x27;doing&#x27;, &#x27;s&#x27;, &#x27;until&#x27;,\n",
       "                                             &#x27;ourselves&#x27;, &#x27;between&#x27;, &#x27;few&#x27;,\n",
       "                                             &#x27;does&#x27;, &#x27;yours&#x27;, &#x27;they&#x27;, &quot;doesn&#x27;t&quot;,\n",
       "                                             &#x27;the&#x27;, &#x27;its&#x27;, &quot;you&#x27;re&quot;, &#x27;over&#x27;,\n",
       "                                             &#x27;now&#x27;, &#x27;where&#x27;, &#x27;of&#x27;, &#x27;she&#x27;,\n",
       "                                             &#x27;theirs&#x27;, &#x27;mustn&#x27;, &#x27;what&#x27;,\n",
       "                                             &#x27;yourself&#x27;, &quot;you&#x27;ve&quot;, &#x27;your&#x27;,\n",
       "                                             &#x27;all&#x27;, &#x27;each&#x27;, &#x27;such&#x27;, &quot;wouldn&#x27;t&quot;,\n",
       "                                             &#x27;only&#x27;, ...])),\n",
       "                (&#x27;model_fr&#x27;, RandomForestClassifier(random_state=12345))])</pre></div></div></div><div class=\"sk-serial\"><div class=\"sk-item\"><div class=\"sk-serial\"><div class=\"sk-item\"><div class=\"sk-estimator sk-toggleable\"><input class=\"sk-toggleable__control sk-hidden--visually\" id=\"sk-estimator-id-20\" type=\"checkbox\" ><label for=\"sk-estimator-id-20\" class=\"sk-toggleable__label sk-toggleable__label-arrow\">TfidfVectorizer</label><div class=\"sk-toggleable__content\"><pre>TfidfVectorizer(stop_words=[&#x27;hers&#x27;, &#x27;doing&#x27;, &#x27;s&#x27;, &#x27;until&#x27;, &#x27;ourselves&#x27;,\n",
       "                            &#x27;between&#x27;, &#x27;few&#x27;, &#x27;does&#x27;, &#x27;yours&#x27;, &#x27;they&#x27;,\n",
       "                            &quot;doesn&#x27;t&quot;, &#x27;the&#x27;, &#x27;its&#x27;, &quot;you&#x27;re&quot;, &#x27;over&#x27;, &#x27;now&#x27;,\n",
       "                            &#x27;where&#x27;, &#x27;of&#x27;, &#x27;she&#x27;, &#x27;theirs&#x27;, &#x27;mustn&#x27;, &#x27;what&#x27;,\n",
       "                            &#x27;yourself&#x27;, &quot;you&#x27;ve&quot;, &#x27;your&#x27;, &#x27;all&#x27;, &#x27;each&#x27;, &#x27;such&#x27;,\n",
       "                            &quot;wouldn&#x27;t&quot;, &#x27;only&#x27;, ...])</pre></div></div></div><div class=\"sk-item\"><div class=\"sk-estimator sk-toggleable\"><input class=\"sk-toggleable__control sk-hidden--visually\" id=\"sk-estimator-id-21\" type=\"checkbox\" ><label for=\"sk-estimator-id-21\" class=\"sk-toggleable__label sk-toggleable__label-arrow\">RandomForestClassifier</label><div class=\"sk-toggleable__content\"><pre>RandomForestClassifier(random_state=12345)</pre></div></div></div></div></div></div></div></div></div></div></div></div>"
      ],
      "text/plain": [
       "GridSearchCV(cv=3,\n",
       "             estimator=Pipeline(steps=[('tfidf',\n",
       "                                        TfidfVectorizer(stop_words=['hers',\n",
       "                                                                    'doing',\n",
       "                                                                    's',\n",
       "                                                                    'until',\n",
       "                                                                    'ourselves',\n",
       "                                                                    'between',\n",
       "                                                                    'few',\n",
       "                                                                    'does',\n",
       "                                                                    'yours',\n",
       "                                                                    'they',\n",
       "                                                                    \"doesn't\",\n",
       "                                                                    'the',\n",
       "                                                                    'its',\n",
       "                                                                    \"you're\",\n",
       "                                                                    'over',\n",
       "                                                                    'now',\n",
       "                                                                    'where',\n",
       "                                                                    'of', 'she',\n",
       "                                                                    'theirs',\n",
       "                                                                    'mustn',\n",
       "                                                                    'what',\n",
       "                                                                    'yourself',\n",
       "                                                                    \"you've\",\n",
       "                                                                    'your',\n",
       "                                                                    'all',\n",
       "                                                                    'each',\n",
       "                                                                    'such',\n",
       "                                                                    \"wouldn't\",\n",
       "                                                                    'only', ...])),\n",
       "                                       ('model_fr',\n",
       "                                        RandomForestClassifier(random_state=12345))]),\n",
       "             n_jobs=-1,\n",
       "             param_grid={'model_fr__class_weight': ['balanced'],\n",
       "                         'model_fr__criterion': ['gini', 'entropy', 'log_loss'],\n",
       "                         'model_fr__max_depth': [10, 20, 30],\n",
       "                         'model_fr__n_estimators': [20, 30, 50]},\n",
       "             scoring='f1')"
      ]
     },
     "execution_count": 46,
     "metadata": {},
     "output_type": "execute_result"
    }
   ],
   "source": [
    "%%time\n",
    "gs_forest.fit(X_train['lemmatize_text'], y_train)"
   ]
  },
  {
   "cell_type": "code",
   "execution_count": 47,
   "metadata": {},
   "outputs": [
    {
     "name": "stdout",
     "output_type": "stream",
     "text": [
      "best_score: 0.4351608471967743\n",
      "best_params: {'model_fr__class_weight': 'balanced', 'model_fr__criterion': 'gini', 'model_fr__max_depth': 30, 'model_fr__n_estimators': 50}\n"
     ]
    }
   ],
   "source": [
    "# лучшее значение F1\n",
    "print(f'best_score: {gs_forest.best_score_}')\n",
    "\n",
    "# лучшие гиперпараметры\n",
    "print(f'best_params: {gs_forest.best_params_}')"
   ]
  },
  {
   "cell_type": "code",
   "execution_count": 48,
   "metadata": {},
   "outputs": [],
   "source": [
    "all_parametrs_cw.append(gs_forest.best_params_)\n",
    "all_f1_cw.append(gs_forest.best_score_)"
   ]
  },
  {
   "cell_type": "markdown",
   "metadata": {},
   "source": [
    "### Лучшая модель"
   ]
  },
  {
   "cell_type": "code",
   "execution_count": 49,
   "metadata": {},
   "outputs": [],
   "source": [
    "all_model =['LinearRegression','DecisionTreeClassifier','RandomForestClassifier']"
   ]
  },
  {
   "cell_type": "code",
   "execution_count": 50,
   "metadata": {},
   "outputs": [],
   "source": [
    "result_1 = pd.DataFrame([all_model,\n",
    "                        all_parametrs_cw,\n",
    "                        all_f1_cw], \n",
    "                        index=['model',\n",
    "                               'best_parametrs_class_weight',\n",
    "                               'f1_class_weight'\n",
    "                              ]\n",
    "                       )"
   ]
  },
  {
   "cell_type": "code",
   "execution_count": 51,
   "metadata": {},
   "outputs": [
    {
     "data": {
      "text/html": [
       "<div>\n",
       "<style scoped>\n",
       "    .dataframe tbody tr th:only-of-type {\n",
       "        vertical-align: middle;\n",
       "    }\n",
       "\n",
       "    .dataframe tbody tr th {\n",
       "        vertical-align: top;\n",
       "    }\n",
       "\n",
       "    .dataframe thead th {\n",
       "        text-align: right;\n",
       "    }\n",
       "</style>\n",
       "<table border=\"1\" class=\"dataframe\">\n",
       "  <thead>\n",
       "    <tr style=\"text-align: right;\">\n",
       "      <th></th>\n",
       "      <th>model</th>\n",
       "      <th>best_parametrs_class_weight</th>\n",
       "      <th>f1_class_weight</th>\n",
       "    </tr>\n",
       "  </thead>\n",
       "  <tbody>\n",
       "    <tr>\n",
       "      <th>0</th>\n",
       "      <td>LinearRegression</td>\n",
       "      <td>{'model_lr__C': 8, 'model_lr__class_weight': 'balanced', 'model_lr__max_iter': 100, 'model_lr__penalty': 'l2', 'model_lr__solver': 'liblinear'}</td>\n",
       "      <td>0.76667</td>\n",
       "    </tr>\n",
       "    <tr>\n",
       "      <th>1</th>\n",
       "      <td>DecisionTreeClassifier</td>\n",
       "      <td>{'model_tr__class_weight': 'balanced', 'model_tr__criterion': 'entropy', 'model_tr__max_depth': 25}</td>\n",
       "      <td>0.625691</td>\n",
       "    </tr>\n",
       "    <tr>\n",
       "      <th>2</th>\n",
       "      <td>RandomForestClassifier</td>\n",
       "      <td>{'model_fr__class_weight': 'balanced', 'model_fr__criterion': 'gini', 'model_fr__max_depth': 30, 'model_fr__n_estimators': 50}</td>\n",
       "      <td>0.435161</td>\n",
       "    </tr>\n",
       "  </tbody>\n",
       "</table>\n",
       "</div>"
      ],
      "text/plain": [
       "                    model  \\\n",
       "0  LinearRegression         \n",
       "1  DecisionTreeClassifier   \n",
       "2  RandomForestClassifier   \n",
       "\n",
       "                                                                                                                       best_parametrs_class_weight  \\\n",
       "0  {'model_lr__C': 8, 'model_lr__class_weight': 'balanced', 'model_lr__max_iter': 100, 'model_lr__penalty': 'l2', 'model_lr__solver': 'liblinear'}   \n",
       "1  {'model_tr__class_weight': 'balanced', 'model_tr__criterion': 'entropy', 'model_tr__max_depth': 25}                                               \n",
       "2  {'model_fr__class_weight': 'balanced', 'model_fr__criterion': 'gini', 'model_fr__max_depth': 30, 'model_fr__n_estimators': 50}                    \n",
       "\n",
       "  f1_class_weight  \n",
       "0  0.76667         \n",
       "1  0.625691        \n",
       "2  0.435161        "
      ]
     },
     "execution_count": 51,
     "metadata": {},
     "output_type": "execute_result"
    }
   ],
   "source": [
    "pd.options.display.max_colwidth = 0\n",
    "result_1.T"
   ]
  },
  {
   "cell_type": "markdown",
   "metadata": {},
   "source": [
    "Лучше всего себя показала модель Логистическая регрессия - LogisticRegression с уменьшенным кол-вом выборки. На ней и будем выполнять теститорование модели."
   ]
  },
  {
   "cell_type": "markdown",
   "metadata": {},
   "source": [
    "### Тестирование на лучшей модели"
   ]
  },
  {
   "cell_type": "code",
   "execution_count": 52,
   "metadata": {},
   "outputs": [
    {
     "name": "stdout",
     "output_type": "stream",
     "text": [
      "F1_Score is: 0.774025974025974\n"
     ]
    }
   ],
   "source": [
    "pipe_linear_1 = Pipeline(steps=[\n",
    "    ('tfidf', TfidfVectorizer(stop_words=stop_words) ),\n",
    "    ('model_lr_res', LogisticRegression(\n",
    "        solver= 'liblinear',\n",
    "        class_weight ='balanced',\n",
    "        C = 8,\n",
    "        max_iter=100,\n",
    "        penalty = 'l2',\n",
    "        random_state=RANDOM_STATE)\n",
    "    )]\n",
    ")\n",
    "\n",
    "pipe_linear_1.fit(X_train['lemmatize_text'], y_train)\n",
    "prediction_1 = pipe_linear_1.predict(X_test['lemmatize_text'])\n",
    "f11 = f1_score(y_test, prediction_1)\n",
    "print('F1_Score is:', f11)"
   ]
  },
  {
   "cell_type": "markdown",
   "metadata": {},
   "source": [
    "**ROC-кривая и PR-кривая**"
   ]
  },
  {
   "cell_type": "code",
   "execution_count": 53,
   "metadata": {},
   "outputs": [
    {
     "data": {
      "image/png": "[encoded data removed]",
      "text/plain": [
       "<Figure size 1080x288 with 2 Axes>"
      ]
     },
     "metadata": {
      "needs_background": "light"
     },
     "output_type": "display_data"
    }
   ],
   "source": [
    "probabilities_test = pipe_linear_1.predict_proba(X_test['lemmatize_text']) \n",
    "probabilities_one_test = probabilities_test[:, 1]\n",
    "\n",
    "fig, axes = plt.subplots(nrows=1, ncols=2, figsize = (15,4))\n",
    "plt.subplots_adjust(wspace=0.5, hspace=0.5)\n",
    "    \n",
    "fpr, tpr, thresholds = roc_curve(y_test, probabilities_one_test) \n",
    "\n",
    "axes[0].plot(fpr, tpr)\n",
    "axes[0].plot([0, 1], [0, 1], linestyle='--')\n",
    "plt.ylim([0.0, 1.0]) \n",
    "plt.xlim([0.0, 1.0])\n",
    "axes[0].set_xlabel('False Positive Rate')\n",
    "axes[0].set_ylabel('True Positive Rate')\n",
    "axes[0].set_title('ROC-кривая') \n",
    "\n",
    "precision, recall, thresholds = precision_recall_curve(y_test,\n",
    "                                                       probabilities_one_test)\n",
    "\n",
    "\n",
    "plt.step(recall, precision, where='post') \n",
    "plt.ylim([0.0, 1.0]) \n",
    "plt.xlim([0.0, 1.0])\n",
    "axes[1].set_xlabel('Recall')\n",
    "axes[1].set_ylabel('Precision')\n",
    "axes[1].set_title('Кривая Precision-Recall') \n",
    "\n",
    "plt.show()"
   ]
  },
  {
   "cell_type": "code",
   "execution_count": 54,
   "metadata": {},
   "outputs": [
    {
     "name": "stdout",
     "output_type": "stream",
     "text": [
      "F1 мера наилучшей модели на тестовой выборке: 0.774025974025974\n",
      "Полнота наилучшей модели на тестовой выборке: 0.8285449490268767\n",
      "Точность наилучшей модели на тестовой выборке: 0.7262388302193339\n",
      "AUC-ROC наилучшей модели на тестовой выборке: 0.8966112349075408\n"
     ]
    }
   ],
   "source": [
    "print('F1 мера наилучшей модели на тестовой выборке:', f1_score(y_test,prediction_1))\n",
    "print('Полнота наилучшей модели на тестовой выборке:', recall_score(y_test,prediction_1))\n",
    "print('Точность наилучшей модели на тестовой выборке:', precision_score(y_test, prediction_1))\n",
    "print('AUC-ROC наилучшей модели на тестовой выборке:',roc_auc_score(y_test, prediction_1))"
   ]
  },
  {
   "cell_type": "markdown",
   "metadata": {},
   "source": [
    "F1 не меньше 0.75. Модель хорошо прогнозирует на укороченной выборке.\n",
    "Полнота и точность стремятся к 1. Значения адекватно предсказываются."
   ]
  },
  {
   "cell_type": "markdown",
   "metadata": {},
   "source": [
    "## Выводы"
   ]
  },
  {
   "cell_type": "markdown",
   "metadata": {},
   "source": [
    "Интернет-магазину для нового сервиса небходима обученная машинная модель, которая будет искать токсичные комментарии и отправлять их на модерацию.  \n",
    "\n",
    "Обученная модель должна классифицировать комментарии на позитивные и негативные. Интернет-магазин предоставил набор данных с разметкой о токсичности правок.\n",
    "Данные находятся в файле `toxic_comments.csv`. Столбец *text* в нём содержит текст комментария, а *toxic* — целевой признак.\n",
    "\n",
    "Необходимо было построить модель со значением метрики качества *F1* не меньше 0.75. \n",
    "\n",
    "Для достижения поставленных целей были выполнены следующие Шаги:\n",
    "\n",
    "- ШАГ 1. \n",
    "\n",
    "В данном пункте:\n",
    "- изучили датасет. Строк: 159292. Столбцов: 2. столбцы соответсвуют своему типу данных. тексту требуется дополнительная обработка.\n",
    "- явные дупликаты отсуствуют\n",
    "- наблюдается дисбаланс классов. Ответов с 0 составляет около 90%\n",
    "- была выполнена лемматизация и очистка от лишних символов\n",
    "\n",
    "Для борьбы с дисбалансом принято решение рассмотреть способ class_weight.\n",
    "Для данных способов была выполнена разбивка выборок на тренироввочную и тестовую. Разбивки в обоих случаях были в соотношении 80:20\n",
    "\n",
    "\n",
    "- ШАГ 2.\n",
    "\n",
    "Рассмотрим 3 модели:\n",
    "\n",
    "- Решающее дерево\n",
    "- Случайный лес\n",
    "- Логистическая регрессия\n",
    "\n",
    "И обучили их при рахных параметрах и выборках."
   ]
  },
  {
   "cell_type": "code",
   "execution_count": 55,
   "metadata": {},
   "outputs": [
    {
     "data": {
      "text/html": [
       "<div>\n",
       "<style scoped>\n",
       "    .dataframe tbody tr th:only-of-type {\n",
       "        vertical-align: middle;\n",
       "    }\n",
       "\n",
       "    .dataframe tbody tr th {\n",
       "        vertical-align: top;\n",
       "    }\n",
       "\n",
       "    .dataframe thead th {\n",
       "        text-align: right;\n",
       "    }\n",
       "</style>\n",
       "<table border=\"1\" class=\"dataframe\">\n",
       "  <thead>\n",
       "    <tr style=\"text-align: right;\">\n",
       "      <th></th>\n",
       "      <th>model</th>\n",
       "      <th>best_parametrs_class_weight</th>\n",
       "      <th>f1_class_weight</th>\n",
       "    </tr>\n",
       "  </thead>\n",
       "  <tbody>\n",
       "    <tr>\n",
       "      <th>0</th>\n",
       "      <td>LinearRegression</td>\n",
       "      <td>{'model_lr__C': 8, 'model_lr__class_weight': 'balanced', 'model_lr__max_iter': 100, 'model_lr__penalty': 'l2', 'model_lr__solver': 'liblinear'}</td>\n",
       "      <td>0.76667</td>\n",
       "    </tr>\n",
       "    <tr>\n",
       "      <th>1</th>\n",
       "      <td>DecisionTreeClassifier</td>\n",
       "      <td>{'model_tr__class_weight': 'balanced', 'model_tr__criterion': 'entropy', 'model_tr__max_depth': 25}</td>\n",
       "      <td>0.625691</td>\n",
       "    </tr>\n",
       "    <tr>\n",
       "      <th>2</th>\n",
       "      <td>RandomForestClassifier</td>\n",
       "      <td>{'model_fr__class_weight': 'balanced', 'model_fr__criterion': 'gini', 'model_fr__max_depth': 30, 'model_fr__n_estimators': 50}</td>\n",
       "      <td>0.435161</td>\n",
       "    </tr>\n",
       "  </tbody>\n",
       "</table>\n",
       "</div>"
      ],
      "text/plain": [
       "                    model  \\\n",
       "0  LinearRegression         \n",
       "1  DecisionTreeClassifier   \n",
       "2  RandomForestClassifier   \n",
       "\n",
       "                                                                                                                       best_parametrs_class_weight  \\\n",
       "0  {'model_lr__C': 8, 'model_lr__class_weight': 'balanced', 'model_lr__max_iter': 100, 'model_lr__penalty': 'l2', 'model_lr__solver': 'liblinear'}   \n",
       "1  {'model_tr__class_weight': 'balanced', 'model_tr__criterion': 'entropy', 'model_tr__max_depth': 25}                                               \n",
       "2  {'model_fr__class_weight': 'balanced', 'model_fr__criterion': 'gini', 'model_fr__max_depth': 30, 'model_fr__n_estimators': 50}                    \n",
       "\n",
       "  f1_class_weight  \n",
       "0  0.76667         \n",
       "1  0.625691        \n",
       "2  0.435161        "
      ]
     },
     "execution_count": 55,
     "metadata": {},
     "output_type": "execute_result"
    }
   ],
   "source": [
    "pd.options.display.max_colwidth = 0\n",
    "result_1.T"
   ]
  },
  {
   "cell_type": "markdown",
   "metadata": {},
   "source": [
    "Лучше всего себя показала модель Логистическая регрессия - LogisticRegression с уменьшенным кол-вом выборки. На ней и будем выполнять теститорование модели.\n",
    "\n",
    "Гиперпараметры такой модели: {'model_lr__C': 8, 'model_lr__class_weight': 'balanced', 'model_lr__max_iter': 100, 'model_lr__penalty': 'l2', 'model_lr__solver': 'liblinear'}\n",
    "\n",
    "Выполнив проверку модели на тестовой выборке получили:\n",
    "\n",
    "- F1 мера наилучшей модели на тестовой выборке: 0.774025974025974\n",
    "- Полнота наилучшей модели на тестовой выборке: 0.8285449490268767\n",
    "- Точность наилучшей модели на тестовой выборке: 0.7262388302193339\n",
    "- AUC-ROC наилучшей модели на тестовой выборке: 0.8966112349075408\n",
    "\n",
    "Так как F1 не меньше 0.75, то модель нам подходит. "
   ]
  }
 ],
 "metadata": {
  "ExecuteTimeLog": [
   {
    "duration": 7790,
    "start_time": "2023-04-18T20:22:23.055Z"
   },
   {
    "duration": 1534,
    "start_time": "2023-04-18T20:22:30.848Z"
   },
   {
    "duration": 3,
    "start_time": "2023-04-18T20:22:32.384Z"
   },
   {
    "duration": 5,
    "start_time": "2023-04-18T20:22:32.388Z"
   },
   {
    "duration": 176,
    "start_time": "2023-04-18T20:22:32.395Z"
   },
   {
    "duration": 11,
    "start_time": "2023-04-18T20:22:32.573Z"
   },
   {
    "duration": 392,
    "start_time": "2023-04-18T20:22:32.585Z"
   },
   {
    "duration": 1805,
    "start_time": "2023-04-18T20:23:07.109Z"
   },
   {
    "duration": 1184,
    "start_time": "2023-04-18T20:23:08.916Z"
   },
   {
    "duration": 4,
    "start_time": "2023-04-18T20:23:10.101Z"
   },
   {
    "duration": 8,
    "start_time": "2023-04-18T20:23:10.107Z"
   },
   {
    "duration": 3552,
    "start_time": "2023-04-18T20:23:10.117Z"
   },
   {
    "duration": 8,
    "start_time": "2023-04-18T20:23:13.671Z"
   },
   {
    "duration": 924,
    "start_time": "2023-04-18T20:23:13.680Z"
   },
   {
    "duration": 7,
    "start_time": "2023-04-18T20:24:05.852Z"
   },
   {
    "duration": 30,
    "start_time": "2023-04-18T20:24:22.508Z"
   },
   {
    "duration": 174,
    "start_time": "2023-04-18T20:24:58.586Z"
   },
   {
    "duration": 6,
    "start_time": "2023-04-18T20:25:28.450Z"
   },
   {
    "duration": 252,
    "start_time": "2023-04-18T20:26:20.400Z"
   },
   {
    "duration": 295,
    "start_time": "2023-04-18T20:26:24.480Z"
   },
   {
    "duration": 286,
    "start_time": "2023-04-18T20:28:36.777Z"
   },
   {
    "duration": 273,
    "start_time": "2023-04-18T20:28:40.811Z"
   },
   {
    "duration": 100,
    "start_time": "2023-04-18T20:41:52.126Z"
   },
   {
    "duration": 133,
    "start_time": "2023-04-18T20:48:31.763Z"
   },
   {
    "duration": 156,
    "start_time": "2023-04-18T20:48:36.424Z"
   },
   {
    "duration": 140,
    "start_time": "2023-04-18T20:48:48.507Z"
   },
   {
    "duration": 126,
    "start_time": "2023-04-18T21:02:26.952Z"
   },
   {
    "duration": 7030,
    "start_time": "2023-04-19T17:50:16.866Z"
   },
   {
    "duration": 1652,
    "start_time": "2023-04-19T17:50:23.898Z"
   },
   {
    "duration": 169,
    "start_time": "2023-04-19T17:50:25.551Z"
   },
   {
    "duration": 4,
    "start_time": "2023-04-19T17:50:25.722Z"
   },
   {
    "duration": 20,
    "start_time": "2023-04-19T17:50:25.728Z"
   },
   {
    "duration": 10,
    "start_time": "2023-04-19T17:50:25.749Z"
   },
   {
    "duration": 2552,
    "start_time": "2023-04-19T17:50:25.760Z"
   },
   {
    "duration": 69,
    "start_time": "2023-04-19T17:50:28.314Z"
   },
   {
    "duration": 28,
    "start_time": "2023-04-19T17:50:28.385Z"
   },
   {
    "duration": 243,
    "start_time": "2023-04-19T17:50:28.415Z"
   },
   {
    "duration": 193,
    "start_time": "2023-04-19T17:50:28.660Z"
   },
   {
    "duration": 4,
    "start_time": "2023-04-19T18:37:43.950Z"
   },
   {
    "duration": 27,
    "start_time": "2023-04-19T18:37:53.579Z"
   },
   {
    "duration": 3,
    "start_time": "2023-04-19T18:39:03.499Z"
   },
   {
    "duration": 1796,
    "start_time": "2023-04-19T18:39:03.897Z"
   },
   {
    "duration": 165,
    "start_time": "2023-04-19T18:39:10.865Z"
   },
   {
    "duration": 4,
    "start_time": "2023-04-19T18:39:14.509Z"
   },
   {
    "duration": 12,
    "start_time": "2023-04-19T18:39:38.834Z"
   },
   {
    "duration": 7,
    "start_time": "2023-04-19T18:39:44.890Z"
   },
   {
    "duration": 28,
    "start_time": "2023-04-19T18:39:49.856Z"
   },
   {
    "duration": 4,
    "start_time": "2023-04-19T18:39:52.418Z"
   },
   {
    "duration": 3972,
    "start_time": "2023-04-19T18:40:07.192Z"
   },
   {
    "duration": 1849,
    "start_time": "2023-04-19T18:40:11.167Z"
   },
   {
    "duration": 222,
    "start_time": "2023-04-19T18:40:13.018Z"
   },
   {
    "duration": 4,
    "start_time": "2023-04-19T18:40:13.242Z"
   },
   {
    "duration": 41,
    "start_time": "2023-04-19T18:40:13.249Z"
   },
   {
    "duration": 12,
    "start_time": "2023-04-19T18:40:13.292Z"
   },
   {
    "duration": 2725,
    "start_time": "2023-04-19T18:40:13.306Z"
   },
   {
    "duration": 10,
    "start_time": "2023-04-19T18:40:16.033Z"
   },
   {
    "duration": 42,
    "start_time": "2023-04-19T18:40:16.045Z"
   },
   {
    "duration": 243,
    "start_time": "2023-04-19T18:40:16.089Z"
   },
   {
    "duration": 177,
    "start_time": "2023-04-19T18:40:16.333Z"
   },
   {
    "duration": 3,
    "start_time": "2023-04-19T18:40:16.512Z"
   },
   {
    "duration": 1792,
    "start_time": "2023-04-19T18:40:16.517Z"
   },
   {
    "duration": 4,
    "start_time": "2023-04-19T18:40:18.313Z"
   },
   {
    "duration": 199,
    "start_time": "2023-04-19T18:40:18.319Z"
   },
   {
    "duration": 0,
    "start_time": "2023-04-19T18:40:18.520Z"
   },
   {
    "duration": 0,
    "start_time": "2023-04-19T18:40:18.521Z"
   },
   {
    "duration": 0,
    "start_time": "2023-04-19T18:40:18.523Z"
   },
   {
    "duration": 0,
    "start_time": "2023-04-19T18:40:18.524Z"
   },
   {
    "duration": 17,
    "start_time": "2023-04-19T18:41:06.790Z"
   },
   {
    "duration": 3,
    "start_time": "2023-04-19T18:41:13.200Z"
   },
   {
    "duration": 2257,
    "start_time": "2023-04-19T18:41:20.887Z"
   },
   {
    "duration": 2025,
    "start_time": "2023-04-19T18:41:23.146Z"
   },
   {
    "duration": 187,
    "start_time": "2023-04-19T18:41:25.173Z"
   },
   {
    "duration": 5,
    "start_time": "2023-04-19T18:41:25.363Z"
   },
   {
    "duration": 6,
    "start_time": "2023-04-19T18:41:25.371Z"
   },
   {
    "duration": 11,
    "start_time": "2023-04-19T18:41:25.379Z"
   },
   {
    "duration": 2593,
    "start_time": "2023-04-19T18:41:25.391Z"
   },
   {
    "duration": 9,
    "start_time": "2023-04-19T18:41:27.985Z"
   },
   {
    "duration": 52,
    "start_time": "2023-04-19T18:41:27.995Z"
   },
   {
    "duration": 262,
    "start_time": "2023-04-19T18:41:28.049Z"
   },
   {
    "duration": 153,
    "start_time": "2023-04-19T18:41:28.313Z"
   },
   {
    "duration": 6,
    "start_time": "2023-04-19T18:41:28.470Z"
   },
   {
    "duration": 1836,
    "start_time": "2023-04-19T18:41:28.478Z"
   },
   {
    "duration": 202,
    "start_time": "2023-04-19T18:41:30.317Z"
   },
   {
    "duration": 0,
    "start_time": "2023-04-19T18:41:30.520Z"
   },
   {
    "duration": 0,
    "start_time": "2023-04-19T18:41:30.521Z"
   },
   {
    "duration": 0,
    "start_time": "2023-04-19T18:41:30.522Z"
   },
   {
    "duration": 0,
    "start_time": "2023-04-19T18:41:30.522Z"
   },
   {
    "duration": 3,
    "start_time": "2023-04-19T18:43:19.287Z"
   },
   {
    "duration": 2184,
    "start_time": "2023-04-19T18:43:52.944Z"
   },
   {
    "duration": 1748,
    "start_time": "2023-04-19T18:43:55.130Z"
   },
   {
    "duration": 162,
    "start_time": "2023-04-19T18:43:56.879Z"
   },
   {
    "duration": 4,
    "start_time": "2023-04-19T18:43:57.042Z"
   },
   {
    "duration": 32,
    "start_time": "2023-04-19T18:43:57.049Z"
   },
   {
    "duration": 7,
    "start_time": "2023-04-19T18:43:57.085Z"
   },
   {
    "duration": 2427,
    "start_time": "2023-04-19T18:43:57.094Z"
   },
   {
    "duration": 10,
    "start_time": "2023-04-19T18:43:59.522Z"
   },
   {
    "duration": 33,
    "start_time": "2023-04-19T18:43:59.534Z"
   },
   {
    "duration": 271,
    "start_time": "2023-04-19T18:43:59.569Z"
   },
   {
    "duration": 152,
    "start_time": "2023-04-19T18:43:59.842Z"
   },
   {
    "duration": 3,
    "start_time": "2023-04-19T18:43:59.996Z"
   },
   {
    "duration": 1770,
    "start_time": "2023-04-19T18:44:00.001Z"
   },
   {
    "duration": 32,
    "start_time": "2023-04-19T18:44:01.773Z"
   },
   {
    "duration": 180,
    "start_time": "2023-04-19T18:44:01.807Z"
   },
   {
    "duration": 0,
    "start_time": "2023-04-19T18:44:01.989Z"
   },
   {
    "duration": 1,
    "start_time": "2023-04-19T18:44:01.989Z"
   },
   {
    "duration": 0,
    "start_time": "2023-04-19T18:44:01.991Z"
   },
   {
    "duration": 0,
    "start_time": "2023-04-19T18:44:01.992Z"
   },
   {
    "duration": 5,
    "start_time": "2023-04-19T18:44:38.212Z"
   },
   {
    "duration": 71,
    "start_time": "2023-04-19T18:44:43.087Z"
   },
   {
    "duration": 4,
    "start_time": "2023-04-19T18:44:48.591Z"
   },
   {
    "duration": 15,
    "start_time": "2023-04-19T18:44:57.497Z"
   },
   {
    "duration": 2069,
    "start_time": "2023-04-19T18:45:09.646Z"
   },
   {
    "duration": 1410,
    "start_time": "2023-04-19T18:45:11.717Z"
   },
   {
    "duration": 135,
    "start_time": "2023-04-19T18:45:13.128Z"
   },
   {
    "duration": 4,
    "start_time": "2023-04-19T18:45:13.265Z"
   },
   {
    "duration": 16,
    "start_time": "2023-04-19T18:45:13.270Z"
   },
   {
    "duration": 13,
    "start_time": "2023-04-19T18:45:13.288Z"
   },
   {
    "duration": 1063,
    "start_time": "2023-04-19T18:45:13.302Z"
   },
   {
    "duration": 11,
    "start_time": "2023-04-19T18:45:14.366Z"
   },
   {
    "duration": 45,
    "start_time": "2023-04-19T18:45:14.382Z"
   },
   {
    "duration": 252,
    "start_time": "2023-04-19T18:45:14.430Z"
   },
   {
    "duration": 201,
    "start_time": "2023-04-19T18:45:14.684Z"
   },
   {
    "duration": 4,
    "start_time": "2023-04-19T18:45:14.887Z"
   },
   {
    "duration": 1829,
    "start_time": "2023-04-19T18:45:14.892Z"
   },
   {
    "duration": 12,
    "start_time": "2023-04-19T18:45:16.723Z"
   },
   {
    "duration": 8,
    "start_time": "2023-04-19T18:45:16.737Z"
   },
   {
    "duration": 5,
    "start_time": "2023-04-19T18:45:16.749Z"
   },
   {
    "duration": 25,
    "start_time": "2023-04-19T18:45:16.756Z"
   },
   {
    "duration": 174,
    "start_time": "2023-04-19T18:45:16.783Z"
   },
   {
    "duration": 0,
    "start_time": "2023-04-19T18:45:16.959Z"
   },
   {
    "duration": 0,
    "start_time": "2023-04-19T18:45:16.961Z"
   },
   {
    "duration": 2161,
    "start_time": "2023-04-19T18:46:13.257Z"
   },
   {
    "duration": 1406,
    "start_time": "2023-04-19T18:46:15.421Z"
   },
   {
    "duration": 137,
    "start_time": "2023-04-19T18:46:16.829Z"
   },
   {
    "duration": 4,
    "start_time": "2023-04-19T18:46:16.968Z"
   },
   {
    "duration": 17,
    "start_time": "2023-04-19T18:46:16.974Z"
   },
   {
    "duration": 12,
    "start_time": "2023-04-19T18:46:16.992Z"
   },
   {
    "duration": 995,
    "start_time": "2023-04-19T18:46:17.006Z"
   },
   {
    "duration": 9,
    "start_time": "2023-04-19T18:46:18.003Z"
   },
   {
    "duration": 39,
    "start_time": "2023-04-19T18:46:18.014Z"
   },
   {
    "duration": 249,
    "start_time": "2023-04-19T18:46:18.054Z"
   },
   {
    "duration": 156,
    "start_time": "2023-04-19T18:46:18.305Z"
   },
   {
    "duration": 3,
    "start_time": "2023-04-19T18:46:18.462Z"
   },
   {
    "duration": 1751,
    "start_time": "2023-04-19T18:46:18.467Z"
   },
   {
    "duration": 9,
    "start_time": "2023-04-19T18:46:20.221Z"
   },
   {
    "duration": 7,
    "start_time": "2023-04-19T18:46:20.231Z"
   },
   {
    "duration": 11,
    "start_time": "2023-04-19T18:46:20.239Z"
   },
   {
    "duration": 3,
    "start_time": "2023-04-19T18:46:20.251Z"
   },
   {
    "duration": 145,
    "start_time": "2023-04-19T18:46:20.255Z"
   },
   {
    "duration": 1,
    "start_time": "2023-04-19T18:46:20.401Z"
   },
   {
    "duration": 0,
    "start_time": "2023-04-19T18:46:20.403Z"
   },
   {
    "duration": 3,
    "start_time": "2023-04-19T18:46:44.617Z"
   },
   {
    "duration": 4,
    "start_time": "2023-04-19T18:46:48.958Z"
   },
   {
    "duration": 10,
    "start_time": "2023-04-19T18:46:52.229Z"
   },
   {
    "duration": 2049,
    "start_time": "2023-04-19T18:48:06.089Z"
   },
   {
    "duration": 1396,
    "start_time": "2023-04-19T18:48:08.140Z"
   },
   {
    "duration": 205,
    "start_time": "2023-04-19T18:48:09.537Z"
   },
   {
    "duration": 5,
    "start_time": "2023-04-19T18:48:09.744Z"
   },
   {
    "duration": 9,
    "start_time": "2023-04-19T18:48:09.750Z"
   },
   {
    "duration": 7,
    "start_time": "2023-04-19T18:48:09.761Z"
   },
   {
    "duration": 1007,
    "start_time": "2023-04-19T18:48:09.769Z"
   },
   {
    "duration": 8,
    "start_time": "2023-04-19T18:48:10.778Z"
   },
   {
    "duration": 28,
    "start_time": "2023-04-19T18:48:10.788Z"
   },
   {
    "duration": 255,
    "start_time": "2023-04-19T18:48:10.817Z"
   },
   {
    "duration": 167,
    "start_time": "2023-04-19T18:48:11.074Z"
   },
   {
    "duration": 3,
    "start_time": "2023-04-19T18:48:11.249Z"
   },
   {
    "duration": 1738,
    "start_time": "2023-04-19T18:48:11.253Z"
   },
   {
    "duration": 8,
    "start_time": "2023-04-19T18:48:12.994Z"
   },
   {
    "duration": 14,
    "start_time": "2023-04-19T18:48:13.004Z"
   },
   {
    "duration": 11,
    "start_time": "2023-04-19T18:48:13.020Z"
   },
   {
    "duration": 6,
    "start_time": "2023-04-19T18:48:13.033Z"
   },
   {
    "duration": 7,
    "start_time": "2023-04-19T18:48:13.041Z"
   },
   {
    "duration": 230,
    "start_time": "2023-04-19T18:48:13.049Z"
   },
   {
    "duration": 0,
    "start_time": "2023-04-19T18:48:13.281Z"
   },
   {
    "duration": 0,
    "start_time": "2023-04-19T18:48:13.283Z"
   },
   {
    "duration": 2074,
    "start_time": "2023-04-19T18:53:00.918Z"
   },
   {
    "duration": 1382,
    "start_time": "2023-04-19T18:53:02.994Z"
   },
   {
    "duration": 159,
    "start_time": "2023-04-19T18:53:04.378Z"
   },
   {
    "duration": 4,
    "start_time": "2023-04-19T18:53:04.540Z"
   },
   {
    "duration": 8,
    "start_time": "2023-04-19T18:53:04.545Z"
   },
   {
    "duration": 15,
    "start_time": "2023-04-19T18:53:04.554Z"
   },
   {
    "duration": 1016,
    "start_time": "2023-04-19T18:53:04.570Z"
   },
   {
    "duration": 8,
    "start_time": "2023-04-19T18:53:05.588Z"
   },
   {
    "duration": 33,
    "start_time": "2023-04-19T18:53:05.597Z"
   },
   {
    "duration": 239,
    "start_time": "2023-04-19T18:53:05.633Z"
   },
   {
    "duration": 151,
    "start_time": "2023-04-19T18:53:05.874Z"
   },
   {
    "duration": 3,
    "start_time": "2023-04-19T18:53:06.027Z"
   },
   {
    "duration": 1688,
    "start_time": "2023-04-19T18:53:06.031Z"
   },
   {
    "duration": 4,
    "start_time": "2023-04-19T18:53:07.720Z"
   },
   {
    "duration": 6,
    "start_time": "2023-04-19T18:53:07.726Z"
   },
   {
    "duration": 15,
    "start_time": "2023-04-19T18:53:07.734Z"
   },
   {
    "duration": 778,
    "start_time": "2023-04-19T18:53:07.751Z"
   },
   {
    "duration": 3,
    "start_time": "2023-04-19T18:53:08.531Z"
   },
   {
    "duration": 168,
    "start_time": "2023-04-19T18:53:08.535Z"
   },
   {
    "duration": 0,
    "start_time": "2023-04-19T18:53:08.704Z"
   },
   {
    "duration": 0,
    "start_time": "2023-04-19T18:53:08.705Z"
   },
   {
    "duration": 4,
    "start_time": "2023-04-19T18:53:18.813Z"
   },
   {
    "duration": 2091,
    "start_time": "2023-04-19T19:25:29.848Z"
   },
   {
    "duration": 1340,
    "start_time": "2023-04-19T19:25:31.941Z"
   },
   {
    "duration": 203,
    "start_time": "2023-04-19T19:25:33.282Z"
   },
   {
    "duration": 4,
    "start_time": "2023-04-19T19:25:33.487Z"
   },
   {
    "duration": 13,
    "start_time": "2023-04-19T19:25:33.493Z"
   },
   {
    "duration": 4,
    "start_time": "2023-04-19T19:25:33.508Z"
   },
   {
    "duration": 965,
    "start_time": "2023-04-19T19:25:33.513Z"
   },
   {
    "duration": 8,
    "start_time": "2023-04-19T19:25:34.480Z"
   },
   {
    "duration": 29,
    "start_time": "2023-04-19T19:25:34.489Z"
   },
   {
    "duration": 246,
    "start_time": "2023-04-19T19:25:34.519Z"
   },
   {
    "duration": 153,
    "start_time": "2023-04-19T19:25:34.767Z"
   },
   {
    "duration": 3,
    "start_time": "2023-04-19T19:25:34.921Z"
   },
   {
    "duration": 1734,
    "start_time": "2023-04-19T19:25:34.926Z"
   },
   {
    "duration": 3,
    "start_time": "2023-04-19T19:25:36.662Z"
   },
   {
    "duration": 5,
    "start_time": "2023-04-19T19:25:36.666Z"
   },
   {
    "duration": 6,
    "start_time": "2023-04-19T19:25:36.673Z"
   },
   {
    "duration": 768,
    "start_time": "2023-04-19T19:25:36.681Z"
   },
   {
    "duration": 5,
    "start_time": "2023-04-19T19:25:37.450Z"
   },
   {
    "duration": 152,
    "start_time": "2023-04-19T19:25:37.456Z"
   },
   {
    "duration": 0,
    "start_time": "2023-04-19T19:25:37.609Z"
   },
   {
    "duration": 0,
    "start_time": "2023-04-19T19:25:37.611Z"
   },
   {
    "duration": 0,
    "start_time": "2023-04-19T19:25:37.612Z"
   },
   {
    "duration": 0,
    "start_time": "2023-04-19T19:25:37.613Z"
   },
   {
    "duration": 9,
    "start_time": "2023-04-19T19:26:18.973Z"
   },
   {
    "duration": 1590555,
    "start_time": "2023-04-19T19:26:29.887Z"
   },
   {
    "duration": 122,
    "start_time": "2023-04-19T20:19:24.917Z"
   },
   {
    "duration": 103,
    "start_time": "2023-04-19T20:19:48.196Z"
   },
   {
    "duration": 2105,
    "start_time": "2023-04-19T20:26:43.908Z"
   },
   {
    "duration": 1608,
    "start_time": "2023-04-19T20:26:46.016Z"
   },
   {
    "duration": 204,
    "start_time": "2023-04-19T20:26:47.626Z"
   },
   {
    "duration": 3,
    "start_time": "2023-04-19T20:26:47.832Z"
   },
   {
    "duration": 8,
    "start_time": "2023-04-19T20:26:47.838Z"
   },
   {
    "duration": 993,
    "start_time": "2023-04-19T20:26:47.848Z"
   },
   {
    "duration": 10,
    "start_time": "2023-04-19T20:26:48.843Z"
   },
   {
    "duration": 30,
    "start_time": "2023-04-19T20:26:48.854Z"
   },
   {
    "duration": 264,
    "start_time": "2023-04-19T20:26:48.886Z"
   },
   {
    "duration": 120,
    "start_time": "2023-04-19T20:26:49.152Z"
   },
   {
    "duration": 3,
    "start_time": "2023-04-19T20:26:49.274Z"
   },
   {
    "duration": 2718,
    "start_time": "2023-04-19T20:26:49.280Z"
   },
   {
    "duration": 7,
    "start_time": "2023-04-19T20:27:05.184Z"
   },
   {
    "duration": 2059,
    "start_time": "2023-04-19T20:30:04.382Z"
   },
   {
    "duration": 1442,
    "start_time": "2023-04-19T20:30:06.443Z"
   },
   {
    "duration": 143,
    "start_time": "2023-04-19T20:30:07.886Z"
   },
   {
    "duration": 3,
    "start_time": "2023-04-19T20:30:08.031Z"
   },
   {
    "duration": 6,
    "start_time": "2023-04-19T20:30:08.037Z"
   },
   {
    "duration": 971,
    "start_time": "2023-04-19T20:30:08.044Z"
   },
   {
    "duration": 11,
    "start_time": "2023-04-19T20:30:09.017Z"
   },
   {
    "duration": 41,
    "start_time": "2023-04-19T20:30:09.030Z"
   },
   {
    "duration": 245,
    "start_time": "2023-04-19T20:30:09.073Z"
   },
   {
    "duration": 129,
    "start_time": "2023-04-19T20:30:09.320Z"
   },
   {
    "duration": 4,
    "start_time": "2023-04-19T20:30:09.451Z"
   },
   {
    "duration": 506,
    "start_time": "2023-04-19T20:30:09.457Z"
   },
   {
    "duration": 12,
    "start_time": "2023-04-19T20:30:09.964Z"
   },
   {
    "duration": 0,
    "start_time": "2023-04-19T20:30:09.979Z"
   },
   {
    "duration": 0,
    "start_time": "2023-04-19T20:30:09.980Z"
   },
   {
    "duration": 0,
    "start_time": "2023-04-19T20:30:09.981Z"
   },
   {
    "duration": 0,
    "start_time": "2023-04-19T20:30:09.983Z"
   },
   {
    "duration": 0,
    "start_time": "2023-04-19T20:30:09.984Z"
   },
   {
    "duration": 0,
    "start_time": "2023-04-19T20:30:09.985Z"
   },
   {
    "duration": 0,
    "start_time": "2023-04-19T20:30:09.987Z"
   },
   {
    "duration": 0,
    "start_time": "2023-04-19T20:30:10.077Z"
   },
   {
    "duration": 0,
    "start_time": "2023-04-19T20:30:10.078Z"
   },
   {
    "duration": 0,
    "start_time": "2023-04-19T20:30:10.080Z"
   },
   {
    "duration": 0,
    "start_time": "2023-04-19T20:30:10.081Z"
   },
   {
    "duration": 3,
    "start_time": "2023-04-19T20:32:15.591Z"
   },
   {
    "duration": 378,
    "start_time": "2023-04-19T20:32:16.393Z"
   },
   {
    "duration": 3,
    "start_time": "2023-04-19T20:33:42.805Z"
   },
   {
    "duration": 18068677,
    "start_time": "2023-04-19T20:33:43.718Z"
   },
   {
    "duration": 10,
    "start_time": "2023-04-20T01:34:52.397Z"
   },
   {
    "duration": 2075,
    "start_time": "2023-04-20T01:34:59.623Z"
   },
   {
    "duration": 1947,
    "start_time": "2023-04-20T01:35:01.700Z"
   },
   {
    "duration": 206,
    "start_time": "2023-04-20T01:35:03.648Z"
   },
   {
    "duration": 2,
    "start_time": "2023-04-20T01:35:03.856Z"
   },
   {
    "duration": 11,
    "start_time": "2023-04-20T01:35:03.860Z"
   },
   {
    "duration": 1002,
    "start_time": "2023-04-20T01:35:03.872Z"
   },
   {
    "duration": 9,
    "start_time": "2023-04-20T01:35:04.876Z"
   },
   {
    "duration": 47,
    "start_time": "2023-04-20T01:35:04.886Z"
   },
   {
    "duration": 255,
    "start_time": "2023-04-20T01:35:04.934Z"
   },
   {
    "duration": 121,
    "start_time": "2023-04-20T01:35:05.190Z"
   },
   {
    "duration": 3,
    "start_time": "2023-04-20T01:35:05.313Z"
   },
   {
    "duration": 9427,
    "start_time": "2023-04-22T18:09:18.805Z"
   },
   {
    "duration": 2110,
    "start_time": "2023-04-22T18:09:28.234Z"
   },
   {
    "duration": 1989,
    "start_time": "2023-04-22T18:09:30.346Z"
   },
   {
    "duration": 3137,
    "start_time": "2023-04-22T18:09:32.337Z"
   },
   {
    "duration": 1555,
    "start_time": "2023-04-22T18:09:35.477Z"
   },
   {
    "duration": 228,
    "start_time": "2023-04-22T18:09:37.034Z"
   },
   {
    "duration": 3,
    "start_time": "2023-04-22T18:09:37.263Z"
   },
   {
    "duration": 10,
    "start_time": "2023-04-22T18:09:37.268Z"
   },
   {
    "duration": 2281,
    "start_time": "2023-04-22T18:09:37.279Z"
   },
   {
    "duration": 9,
    "start_time": "2023-04-22T18:09:39.561Z"
   },
   {
    "duration": 34,
    "start_time": "2023-04-22T18:09:39.572Z"
   },
   {
    "duration": 234,
    "start_time": "2023-04-22T18:09:39.607Z"
   },
   {
    "duration": 219,
    "start_time": "2023-04-22T18:09:39.843Z"
   },
   {
    "duration": 3,
    "start_time": "2023-04-22T18:09:40.065Z"
   },
   {
    "duration": 9,
    "start_time": "2023-04-22T18:09:40.070Z"
   },
   {
    "duration": 3840,
    "start_time": "2023-04-22T18:09:40.081Z"
   },
   {
    "duration": 12,
    "start_time": "2023-04-22T18:09:43.923Z"
   },
   {
    "duration": 14,
    "start_time": "2023-04-22T18:09:43.937Z"
   },
   {
    "duration": 174,
    "start_time": "2023-04-22T18:09:43.953Z"
   },
   {
    "duration": 0,
    "start_time": "2023-04-22T18:09:44.131Z"
   },
   {
    "duration": 0,
    "start_time": "2023-04-22T18:09:44.132Z"
   },
   {
    "duration": 12,
    "start_time": "2023-04-22T18:12:08.097Z"
   },
   {
    "duration": 6,
    "start_time": "2023-04-22T18:12:50.470Z"
   },
   {
    "duration": 3,
    "start_time": "2023-04-22T18:12:56.703Z"
   },
   {
    "duration": 131,
    "start_time": "2023-04-22T18:12:59.581Z"
   },
   {
    "duration": 8,
    "start_time": "2023-04-22T18:14:26.577Z"
   },
   {
    "duration": 4,
    "start_time": "2023-04-22T18:14:41.566Z"
   },
   {
    "duration": 9,
    "start_time": "2023-04-22T18:14:50.676Z"
   },
   {
    "duration": 17,
    "start_time": "2023-04-22T18:14:56.534Z"
   },
   {
    "duration": 3,
    "start_time": "2023-04-22T18:15:45.648Z"
   },
   {
    "duration": 15,
    "start_time": "2023-04-22T18:15:47.719Z"
   },
   {
    "duration": 455,
    "start_time": "2023-04-22T18:16:16.650Z"
   },
   {
    "duration": 1243,
    "start_time": "2023-04-22T18:16:25.623Z"
   },
   {
    "duration": 14,
    "start_time": "2023-04-22T18:18:32.170Z"
   },
   {
    "duration": 3,
    "start_time": "2023-04-22T18:18:41.748Z"
   },
   {
    "duration": 8,
    "start_time": "2023-04-22T18:18:51.550Z"
   },
   {
    "duration": 2006,
    "start_time": "2023-04-22T18:20:21.405Z"
   },
   {
    "duration": 2025,
    "start_time": "2023-04-22T18:20:23.413Z"
   },
   {
    "duration": 2147,
    "start_time": "2023-04-22T18:20:25.440Z"
   },
   {
    "duration": 1994,
    "start_time": "2023-04-22T18:20:27.589Z"
   },
   {
    "duration": 1288,
    "start_time": "2023-04-22T18:20:29.585Z"
   },
   {
    "duration": 197,
    "start_time": "2023-04-22T18:20:30.875Z"
   },
   {
    "duration": 3,
    "start_time": "2023-04-22T18:20:31.073Z"
   },
   {
    "duration": 21,
    "start_time": "2023-04-22T18:20:31.077Z"
   },
   {
    "duration": 811,
    "start_time": "2023-04-22T18:20:31.099Z"
   },
   {
    "duration": 8,
    "start_time": "2023-04-22T18:20:31.911Z"
   },
   {
    "duration": 39,
    "start_time": "2023-04-22T18:20:31.920Z"
   },
   {
    "duration": 219,
    "start_time": "2023-04-22T18:20:31.961Z"
   },
   {
    "duration": 191,
    "start_time": "2023-04-22T18:20:32.182Z"
   },
   {
    "duration": 3,
    "start_time": "2023-04-22T18:20:32.376Z"
   },
   {
    "duration": 12,
    "start_time": "2023-04-22T18:20:32.381Z"
   },
   {
    "duration": 3682,
    "start_time": "2023-04-22T18:20:32.395Z"
   },
   {
    "duration": 7,
    "start_time": "2023-04-22T18:20:36.079Z"
   },
   {
    "duration": 6,
    "start_time": "2023-04-22T18:20:36.087Z"
   },
   {
    "duration": 5,
    "start_time": "2023-04-22T18:20:36.094Z"
   },
   {
    "duration": 689604,
    "start_time": "2023-04-22T18:20:36.100Z"
   },
   {
    "duration": 7,
    "start_time": "2023-04-22T18:32:05.706Z"
   },
   {
    "duration": 25,
    "start_time": "2023-04-22T18:32:05.715Z"
   },
   {
    "duration": 73,
    "start_time": "2023-04-22T18:32:05.741Z"
   },
   {
    "duration": 53,
    "start_time": "2023-04-22T18:35:43.529Z"
   },
   {
    "duration": 7,
    "start_time": "2023-04-22T18:35:45.405Z"
   },
   {
    "duration": 11,
    "start_time": "2023-04-22T18:35:49.376Z"
   },
   {
    "duration": 23,
    "start_time": "2023-04-22T18:35:51.502Z"
   },
   {
    "duration": 4,
    "start_time": "2023-04-22T18:35:52.591Z"
   },
   {
    "duration": 2,
    "start_time": "2023-04-22T18:35:53.933Z"
   },
   {
    "duration": 3748,
    "start_time": "2023-04-22T18:35:54.745Z"
   },
   {
    "duration": 2309,
    "start_time": "2023-04-22T18:35:58.495Z"
   },
   {
    "duration": 4,
    "start_time": "2023-04-22T18:36:00.805Z"
   },
   {
    "duration": 2,
    "start_time": "2023-04-22T18:36:10.301Z"
   },
   {
    "duration": 28,
    "start_time": "2023-04-22T18:36:11.269Z"
   },
   {
    "duration": 6,
    "start_time": "2023-04-22T18:36:12.200Z"
   },
   {
    "duration": 95,
    "start_time": "2023-04-22T18:36:19.529Z"
   },
   {
    "duration": 3,
    "start_time": "2023-04-22T18:36:21.373Z"
   },
   {
    "duration": 720,
    "start_time": "2023-04-22T18:36:36.979Z"
   },
   {
    "duration": 138,
    "start_time": "2023-04-22T18:36:56.626Z"
   },
   {
    "duration": 14,
    "start_time": "2023-04-22T18:37:14.150Z"
   },
   {
    "duration": 11,
    "start_time": "2023-04-22T18:37:27.088Z"
   },
   {
    "duration": 3,
    "start_time": "2023-04-22T18:37:43.672Z"
   },
   {
    "duration": 180,
    "start_time": "2023-04-22T18:38:32.173Z"
   },
   {
    "duration": 3,
    "start_time": "2023-04-22T18:38:41.331Z"
   },
   {
    "duration": 84,
    "start_time": "2023-04-23T08:35:13.040Z"
   },
   {
    "duration": 13018,
    "start_time": "2023-04-23T08:43:52.371Z"
   },
   {
    "duration": 2919,
    "start_time": "2023-04-23T08:44:05.392Z"
   },
   {
    "duration": 2608,
    "start_time": "2023-04-23T08:44:08.314Z"
   },
   {
    "duration": 5029,
    "start_time": "2023-04-23T08:44:10.925Z"
   },
   {
    "duration": 2232,
    "start_time": "2023-04-23T08:44:15.958Z"
   },
   {
    "duration": 1101,
    "start_time": "2023-04-23T08:44:18.193Z"
   },
   {
    "duration": 4,
    "start_time": "2023-04-23T08:44:19.295Z"
   },
   {
    "duration": 10,
    "start_time": "2023-04-23T08:44:19.301Z"
   },
   {
    "duration": 3665,
    "start_time": "2023-04-23T08:44:19.313Z"
   },
   {
    "duration": 14,
    "start_time": "2023-04-23T08:44:22.984Z"
   },
   {
    "duration": 44,
    "start_time": "2023-04-23T08:44:23.000Z"
   },
   {
    "duration": 328,
    "start_time": "2023-04-23T08:44:23.046Z"
   },
   {
    "duration": 285,
    "start_time": "2023-04-23T08:44:23.376Z"
   },
   {
    "duration": 5,
    "start_time": "2023-04-23T08:44:23.666Z"
   },
   {
    "duration": 51,
    "start_time": "2023-04-23T08:44:23.673Z"
   },
   {
    "duration": 5707,
    "start_time": "2023-04-23T08:44:23.727Z"
   },
   {
    "duration": 14,
    "start_time": "2023-04-23T08:44:29.437Z"
   },
   {
    "duration": 41,
    "start_time": "2023-04-23T08:44:29.454Z"
   },
   {
    "duration": 15,
    "start_time": "2023-04-23T08:44:29.498Z"
   },
   {
    "duration": 1964799,
    "start_time": "2023-04-23T08:44:29.515Z"
   },
   {
    "duration": 27,
    "start_time": "2023-04-23T09:17:14.317Z"
   },
   {
    "duration": 25,
    "start_time": "2023-04-23T09:17:14.347Z"
   },
   {
    "duration": 132,
    "start_time": "2023-04-23T09:17:14.375Z"
   },
   {
    "duration": 9,
    "start_time": "2023-04-23T09:17:14.510Z"
   },
   {
    "duration": 30,
    "start_time": "2023-04-23T09:17:14.522Z"
   },
   {
    "duration": 43,
    "start_time": "2023-04-23T09:17:14.554Z"
   },
   {
    "duration": 5,
    "start_time": "2023-04-23T09:17:14.599Z"
   },
   {
    "duration": 14,
    "start_time": "2023-04-23T09:17:14.606Z"
   },
   {
    "duration": 6026,
    "start_time": "2023-04-23T09:17:14.622Z"
   },
   {
    "duration": 4415,
    "start_time": "2023-04-23T09:17:20.656Z"
   },
   {
    "duration": 6,
    "start_time": "2023-04-23T09:17:25.074Z"
   },
   {
    "duration": 20,
    "start_time": "2023-04-23T09:17:25.083Z"
   },
   {
    "duration": 70,
    "start_time": "2023-04-23T09:17:25.106Z"
   },
   {
    "duration": 11,
    "start_time": "2023-04-23T09:17:25.179Z"
   },
   {
    "duration": 264,
    "start_time": "2023-04-23T09:17:25.193Z"
   },
   {
    "duration": 6,
    "start_time": "2023-04-23T09:17:25.460Z"
   },
   {
    "duration": 1128,
    "start_time": "2023-04-23T09:17:25.469Z"
   },
   {
    "duration": 6,
    "start_time": "2023-04-23T09:17:26.600Z"
   },
   {
    "duration": 3,
    "start_time": "2023-04-23T09:18:30.420Z"
   },
   {
    "duration": 177,
    "start_time": "2023-04-23T09:18:39.615Z"
   },
   {
    "duration": 3,
    "start_time": "2023-04-23T09:19:03.714Z"
   },
   {
    "duration": 173,
    "start_time": "2023-04-23T09:19:06.445Z"
   },
   {
    "duration": 109,
    "start_time": "2023-04-23T09:19:17.545Z"
   },
   {
    "duration": 3,
    "start_time": "2023-04-23T09:21:38.186Z"
   },
   {
    "duration": 10,
    "start_time": "2023-04-23T09:21:39.339Z"
   },
   {
    "duration": 116,
    "start_time": "2023-04-23T09:21:43.322Z"
   },
   {
    "duration": 2377,
    "start_time": "2023-04-23T09:23:19.591Z"
   },
   {
    "duration": 54487,
    "start_time": "2023-04-23T09:24:14.778Z"
   },
   {
    "duration": 5,
    "start_time": "2023-04-23T09:25:54.402Z"
   },
   {
    "duration": 5,
    "start_time": "2023-04-23T09:25:55.906Z"
   },
   {
    "duration": 202,
    "start_time": "2023-04-23T09:26:22.009Z"
   },
   {
    "duration": 171,
    "start_time": "2023-04-23T09:26:31.202Z"
   },
   {
    "duration": 4,
    "start_time": "2023-04-23T09:27:36.202Z"
   },
   {
    "duration": 133,
    "start_time": "2023-04-23T09:27:37.384Z"
   },
   {
    "duration": 4,
    "start_time": "2023-04-23T09:31:24.930Z"
   }
  ],
  "kernelspec": {
   "display_name": "Python 3 (ipykernel)",
   "language": "python",
   "name": "python3"
  },
  "language_info": {
   "codemirror_mode": {
    "name": "ipython",
    "version": 3
   },
   "file_extension": ".py",
   "mimetype": "text/x-python",
   "name": "python",
   "nbconvert_exporter": "python",
   "pygments_lexer": "ipython3",
   "version": "3.9.12"
  },
  "toc": {
   "base_numbering": 1,
   "nav_menu": {},
   "number_sections": true,
   "sideBar": true,
   "skip_h1_title": true,
   "title_cell": "Содержание",
   "title_sidebar": "Contents",
   "toc_cell": true,
   "toc_position": {
    "height": "calc(100% - 180px)",
    "left": "10px",
    "top": "150px",
    "width": "302.391px"
   },
   "toc_section_display": true,
   "toc_window_display": false
  }
 },
 "nbformat": 4,
 "nbformat_minor": 2
}
